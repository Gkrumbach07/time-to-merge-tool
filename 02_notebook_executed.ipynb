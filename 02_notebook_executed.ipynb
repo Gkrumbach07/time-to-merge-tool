{
 "cells": [
  {
   "cell_type": "markdown",
   "id": "6a8d0182",
   "metadata": {
    "tags": []
   },
   "source": [
    "# Feature engineering on extracted Pull Requests data\n",
    "\n",
    "\n",
    "## What we did previously\n",
    "\n",
    "In the previous [notebook](./01_data_collection.ipynb) we collected data from a Github repository of choice and store them on S3 storage\n",
    "\n",
    "## In this step\n",
    "\n",
    "In this notebook we will walk through how to start analyzing the PR data collected from a Github repository.\n",
    "\n",
    "We explore the various fields in the PR dataset and the features that we can derive from them in order to frame an a Machine Learning where we predict the time taken to merge a PR."
   ]
  },
  {
   "cell_type": "code",
   "execution_count": 1,
   "id": "dfe11a56",
   "metadata": {
    "execution": {
     "iopub.execute_input": "2022-10-13T22:55:04.477592Z",
     "iopub.status.busy": "2022-10-13T22:55:04.477131Z",
     "iopub.status.idle": "2022-10-13T22:55:06.121015Z",
     "shell.execute_reply": "2022-10-13T22:55:06.120227Z"
    }
   },
   "outputs": [],
   "source": [
    "import os\n",
    "import re\n",
    "import gzip\n",
    "import json\n",
    "import boto3\n",
    "import trino\n",
    "import pathlib\n",
    "import datetime\n",
    "from tqdm import tqdm\n",
    "from io import BytesIO\n",
    "from pathlib import Path\n",
    "from functools import partial\n",
    "from collections import Counter\n",
    "\n",
    "import numpy as np\n",
    "import pandas as pd\n",
    "\n",
    "import matplotlib.pyplot as plt\n",
    "import seaborn as sns\n",
    "from wordcloud import STOPWORDS\n",
    "\n",
    "from sklearn.feature_selection import SelectKBest\n",
    "from sklearn.feature_selection import chi2\n",
    "from sklearn.feature_selection import mutual_info_classif, f_classif\n",
    "\n",
    "from dotenv import load_dotenv, find_dotenv"
   ]
  },
  {
   "cell_type": "code",
   "execution_count": 2,
   "id": "077bc87f-fd57-40ac-ab45-8ebddaadc46b",
   "metadata": {
    "execution": {
     "iopub.execute_input": "2022-10-13T22:55:06.124968Z",
     "iopub.status.busy": "2022-10-13T22:55:06.124568Z",
     "iopub.status.idle": "2022-10-13T22:55:06.133624Z",
     "shell.execute_reply": "2022-10-13T22:55:06.133015Z"
    }
   },
   "outputs": [],
   "source": [
    "class CephCommunication:\n",
    "    \"\"\"\n",
    "    Class to establish communication with a ceph s3 bucket.\n",
    "    It connects with the bucket and provides methods to read and write data in the parquet format.\n",
    "    \"\"\"\n",
    "\n",
    "    def __init__(\n",
    "        self, s3_endpoint_url, aws_access_key_id, aws_secret_access_key, s3_bucket\n",
    "    ):\n",
    "        self.s3_endpoint_url = s3_endpoint_url\n",
    "        self.aws_access_key_id = aws_access_key_id\n",
    "        self.aws_secret_access_key = aws_secret_access_key\n",
    "        self.s3_resource = boto3.resource(\n",
    "            \"s3\",\n",
    "            endpoint_url=self.s3_endpoint_url,\n",
    "            aws_access_key_id=self.aws_access_key_id,\n",
    "            aws_secret_access_key=self.aws_secret_access_key,\n",
    "        )\n",
    "        self.bucket = s3_bucket\n",
    "        ## Todo: Add try catch\n",
    "\n",
    "    def upload_to_ceph(self, dataframe, s3_path, filename):\n",
    "        \"\"\"\n",
    "        This helper function takes as input the data frame to be uploaded, and the output filename.\n",
    "        It then saves the data frame in the defined ceph bucket.\n",
    "        \"\"\"\n",
    "        parquet_buffer = BytesIO()\n",
    "        dataframe.to_parquet(parquet_buffer)\n",
    "        s3_obj = self.s3_resource.Object(self.bucket, f\"{s3_path}/{filename}\")\n",
    "        status = s3_obj.put(Body=parquet_buffer.getvalue())\n",
    "        return status\n",
    "\n",
    "    def read_from_ceph(self, s3_path, filename):\n",
    "        \"\"\"\n",
    "        Helper function to read from ceph and see if the saved data is correct.\n",
    "        \"\"\"\n",
    "        buffer = BytesIO()\n",
    "        s3_object = self.s3_resource.Object(self.bucket, f\"{s3_path}/{filename}\")\n",
    "        s3_object.download_fileobj(buffer)\n",
    "        df_temp = pd.read_parquet(buffer)\n",
    "        return df_temp\n",
    "\n",
    "\n",
    "def save_to_disk(dataframe, path, filename):\n",
    "    \"\"\"\n",
    "    Helper function to save the dataframe\n",
    "    as a parquet file to disk.\n",
    "    \"\"\"\n",
    "    dataset_base_path = Path(path)\n",
    "    dataset_base_path.mkdir(parents=True, exist_ok=True)\n",
    "    dataframe.to_parquet(f\"{path}/{filename}\")\n",
    "    return True"
   ]
  },
  {
   "cell_type": "code",
   "execution_count": 3,
   "id": "9476e951",
   "metadata": {
    "execution": {
     "iopub.execute_input": "2022-10-13T22:55:06.136524Z",
     "iopub.status.busy": "2022-10-13T22:55:06.136297Z",
     "iopub.status.idle": "2022-10-13T22:55:06.145671Z",
     "shell.execute_reply": "2022-10-13T22:55:06.145029Z"
    }
   },
   "outputs": [
    {
     "data": {
      "text/plain": [
       "True"
      ]
     },
     "execution_count": 3,
     "metadata": {},
     "output_type": "execute_result"
    }
   ],
   "source": [
    "sns.set(rc={\"figure.figsize\": (20, 10)})\n",
    "load_dotenv(find_dotenv(), override=True)"
   ]
  },
  {
   "cell_type": "code",
   "execution_count": 4,
   "id": "9bc3a2c6",
   "metadata": {
    "execution": {
     "iopub.execute_input": "2022-10-13T22:55:06.150415Z",
     "iopub.status.busy": "2022-10-13T22:55:06.150193Z",
     "iopub.status.idle": "2022-10-13T22:55:06.156745Z",
     "shell.execute_reply": "2022-10-13T22:55:06.155515Z"
    }
   },
   "outputs": [],
   "source": [
    "## CEPH Bucket variables\n",
    "## Create a .env file on your local with the correct configs,\n",
    "\n",
    "ORG = os.getenv(\"GITHUB_ORG\")\n",
    "REPO = os.getenv(\"GITHUB_REPO\")\n",
    "\n",
    "## S3 bucket credentials\n",
    "s3_endpoint_url = os.getenv(\"S3_ENDPOINT_URL\")\n",
    "s3_access_key = os.getenv(\"S3_ACCESS_KEY\")\n",
    "s3_secret_key = os.getenv(\"S3_SECRET_KEY\")\n",
    "s3_bucket = os.getenv(\"S3_BUCKET\")\n",
    "\n",
    "REMOTE = os.getenv(\"REMOTE\")\n",
    "\n",
    "s3_input_data_path = os.getenv(\"CEPH_BUCKET_PREFIX\")\n",
    "local_input_data_path = \"../../../data/raw/GitHub/PullRequest.json.gz\"\n",
    "local_output_data_path = \"../../../data/processed/github\"\n",
    "RAW_DATA_PATH = os.path.join(\n",
    "    s3_input_data_path, \"srcopsmetrics/bot_knowledge\", ORG, REPO, \"PullRequest.json\"\n",
    ")\n",
    "\n",
    "## Trino\n",
    "SQL_TABLE_FILENAME = os.path.join(ORG + REPO + \"prs.parquet\")\n",
    "SQL_TABLE_KEY = os.path.join(s3_input_data_path, ORG, REPO, \"sql\")"
   ]
  },
  {
   "cell_type": "code",
   "execution_count": 5,
   "id": "4d1b0d9f",
   "metadata": {
    "execution": {
     "iopub.execute_input": "2022-10-13T22:55:06.159466Z",
     "iopub.status.busy": "2022-10-13T22:55:06.159248Z",
     "iopub.status.idle": "2022-10-13T22:55:06.821994Z",
     "shell.execute_reply": "2022-10-13T22:55:06.821250Z"
    }
   },
   "outputs": [
    {
     "name": "stdout",
     "output_type": "stream",
     "text": [
      "getting dataset from ceph\n"
     ]
    }
   ],
   "source": [
    "output = []\n",
    "if REMOTE:\n",
    "    print(\"getting dataset from ceph\")\n",
    "    s3 = boto3.resource(\n",
    "        \"s3\",\n",
    "        endpoint_url=s3_endpoint_url,\n",
    "        aws_access_key_id=s3_access_key,\n",
    "        aws_secret_access_key=s3_secret_key,\n",
    "    )\n",
    "    content = s3.Object(s3_bucket, RAW_DATA_PATH)\n",
    "    file = content.get()[\"Body\"].read().decode(\"utf-8\")\n",
    "\n",
    "    prs = json.loads(file)\n",
    "\n",
    "    for pr in prs.splitlines():\n",
    "        output.append(json.loads(pr))\n",
    "\n",
    "else:\n",
    "    print(\"getting dataset from local\")\n",
    "    with gzip.open(local_input_data_path, \"r\") as f:\n",
    "        prs = json.loads(f.read().decode(\"utf-8\"))\n",
    "\n",
    "pr_df = pd.DataFrame(output)"
   ]
  },
  {
   "cell_type": "code",
   "execution_count": 6,
   "id": "70c24185-4fbf-4287-98fd-c8d721ef71fa",
   "metadata": {
    "execution": {
     "iopub.execute_input": "2022-10-13T22:55:06.826044Z",
     "iopub.status.busy": "2022-10-13T22:55:06.825437Z",
     "iopub.status.idle": "2022-10-13T22:55:06.862187Z",
     "shell.execute_reply": "2022-10-13T22:55:06.861420Z"
    }
   },
   "outputs": [
    {
     "data": {
      "text/html": [
       "<div>\n",
       "<style scoped>\n",
       "    .dataframe tbody tr th:only-of-type {\n",
       "        vertical-align: middle;\n",
       "    }\n",
       "\n",
       "    .dataframe tbody tr th {\n",
       "        vertical-align: top;\n",
       "    }\n",
       "\n",
       "    .dataframe thead th {\n",
       "        text-align: right;\n",
       "    }\n",
       "</style>\n",
       "<table border=\"1\" class=\"dataframe\">\n",
       "  <thead>\n",
       "    <tr style=\"text-align: right;\">\n",
       "      <th></th>\n",
       "      <th>title</th>\n",
       "      <th>body</th>\n",
       "      <th>size</th>\n",
       "      <th>created_by</th>\n",
       "      <th>created_at</th>\n",
       "      <th>closed_at</th>\n",
       "      <th>closed_by</th>\n",
       "      <th>merged_at</th>\n",
       "      <th>merged_by</th>\n",
       "      <th>commits_number</th>\n",
       "      <th>changed_files_number</th>\n",
       "      <th>interactions</th>\n",
       "      <th>reviews</th>\n",
       "      <th>labels</th>\n",
       "      <th>commits</th>\n",
       "      <th>changed_files</th>\n",
       "      <th>first_review_at</th>\n",
       "      <th>first_approve_at</th>\n",
       "      <th>id</th>\n",
       "    </tr>\n",
       "  </thead>\n",
       "  <tbody>\n",
       "    <tr>\n",
       "      <th>0</th>\n",
       "      <td>add knikolla and cleanup</td>\n",
       "      <td>None</td>\n",
       "      <td>S</td>\n",
       "      <td>schwesig</td>\n",
       "      <td>1665410557</td>\n",
       "      <td>1.665411e+09</td>\n",
       "      <td>sesheta</td>\n",
       "      <td>1.665411e+09</td>\n",
       "      <td>sesheta</td>\n",
       "      <td>2</td>\n",
       "      <td>1</td>\n",
       "      <td>{'schwesig': 175, 'quaid': 1, 'sesheta': 65}</td>\n",
       "      <td>{}</td>\n",
       "      <td>[lgtm, triage/accepted, approved, priority/cri...</td>\n",
       "      <td>[20fcc08d8ebd4e7453469c7fd5492995f156181c, 764...</td>\n",
       "      <td>[OWNERS]</td>\n",
       "      <td>NaN</td>\n",
       "      <td>NaN</td>\n",
       "      <td>229</td>\n",
       "    </tr>\n",
       "    <tr>\n",
       "      <th>1</th>\n",
       "      <td>pre-commit to clean up existing errors (traili...</td>\n",
       "      <td>None</td>\n",
       "      <td>XS</td>\n",
       "      <td>schwesig</td>\n",
       "      <td>1665402036</td>\n",
       "      <td>1.665409e+09</td>\n",
       "      <td>sesheta</td>\n",
       "      <td>1.665409e+09</td>\n",
       "      <td>sesheta</td>\n",
       "      <td>1</td>\n",
       "      <td>1</td>\n",
       "      <td>{'schwesig': 9, 'codificat': 16, 'quaid': 3, '...</td>\n",
       "      <td>{}</td>\n",
       "      <td>[lgtm, triage/accepted, approved, priority/cri...</td>\n",
       "      <td>[210de76a23b3cf7f1d0c66b8c82457c597400797]</td>\n",
       "      <td>[sig-community/meeting-notes/20221006-meeting-...</td>\n",
       "      <td>NaN</td>\n",
       "      <td>NaN</td>\n",
       "      <td>228</td>\n",
       "    </tr>\n",
       "    <tr>\n",
       "      <th>2</th>\n",
       "      <td>Add knikolla</td>\n",
       "      <td>None</td>\n",
       "      <td>XS</td>\n",
       "      <td>schwesig</td>\n",
       "      <td>1665079206</td>\n",
       "      <td>1.665409e+09</td>\n",
       "      <td>schwesig</td>\n",
       "      <td>NaN</td>\n",
       "      <td>None</td>\n",
       "      <td>0</td>\n",
       "      <td>0</td>\n",
       "      <td>{'quaid': 2, 'schwesig': 7, 'sesheta': 287, 'c...</td>\n",
       "      <td>{'1134003785': {'author': 'schwesig', 'words_c...</td>\n",
       "      <td>[size/XS, area/user, kind/governance, sig/comm...</td>\n",
       "      <td>[]</td>\n",
       "      <td>[]</td>\n",
       "      <td>1.665127e+09</td>\n",
       "      <td>NaN</td>\n",
       "      <td>225</td>\n",
       "    </tr>\n",
       "    <tr>\n",
       "      <th>3</th>\n",
       "      <td>Create 20221006-meeting-notes.md</td>\n",
       "      <td>None</td>\n",
       "      <td>M</td>\n",
       "      <td>schwesig</td>\n",
       "      <td>1665078958</td>\n",
       "      <td>1.665148e+09</td>\n",
       "      <td>schwesig</td>\n",
       "      <td>1.665148e+09</td>\n",
       "      <td>schwesig</td>\n",
       "      <td>1</td>\n",
       "      <td>1</td>\n",
       "      <td>{'sesheta': 172, 'quaid': 2}</td>\n",
       "      <td>{'1133430644': {'author': 'quaid', 'words_coun...</td>\n",
       "      <td>[kind/documentation, lgtm, approved, size/M, s...</td>\n",
       "      <td>[54c273e75aa9a4a7326c7f9aad1b013bc0c29791]</td>\n",
       "      <td>[sig-community/meeting-notes/20221006-meeting-...</td>\n",
       "      <td>1.665079e+09</td>\n",
       "      <td>1.665079e+09</td>\n",
       "      <td>224</td>\n",
       "    </tr>\n",
       "    <tr>\n",
       "      <th>4</th>\n",
       "      <td>Update wording to be more open and inclusive.</td>\n",
       "      <td>Updates as worked out with Karsten\\r\\n</td>\n",
       "      <td>XS</td>\n",
       "      <td>billburnseh</td>\n",
       "      <td>1663618828</td>\n",
       "      <td>1.663619e+09</td>\n",
       "      <td>billburnseh</td>\n",
       "      <td>1.663619e+09</td>\n",
       "      <td>billburnseh</td>\n",
       "      <td>2</td>\n",
       "      <td>1</td>\n",
       "      <td>{'sesheta': 86}</td>\n",
       "      <td>{}</td>\n",
       "      <td>[size/XS]</td>\n",
       "      <td>[c86790d3a173abae0682dcbef583e6b151d6e61c, 272...</td>\n",
       "      <td>[four-principles.md]</td>\n",
       "      <td>NaN</td>\n",
       "      <td>NaN</td>\n",
       "      <td>223</td>\n",
       "    </tr>\n",
       "    <tr>\n",
       "      <th>...</th>\n",
       "      <td>...</td>\n",
       "      <td>...</td>\n",
       "      <td>...</td>\n",
       "      <td>...</td>\n",
       "      <td>...</td>\n",
       "      <td>...</td>\n",
       "      <td>...</td>\n",
       "      <td>...</td>\n",
       "      <td>...</td>\n",
       "      <td>...</td>\n",
       "      <td>...</td>\n",
       "      <td>...</td>\n",
       "      <td>...</td>\n",
       "      <td>...</td>\n",
       "      <td>...</td>\n",
       "      <td>...</td>\n",
       "      <td>...</td>\n",
       "      <td>...</td>\n",
       "      <td>...</td>\n",
       "    </tr>\n",
       "    <tr>\n",
       "      <th>89</th>\n",
       "      <td>Created a new document for glossary</td>\n",
       "      <td>This pr adds a glossary document to the repo. ...</td>\n",
       "      <td>L</td>\n",
       "      <td>margarethaley</td>\n",
       "      <td>1625255261</td>\n",
       "      <td>1.625615e+09</td>\n",
       "      <td>sesheta</td>\n",
       "      <td>1.625615e+09</td>\n",
       "      <td>sesheta</td>\n",
       "      <td>2</td>\n",
       "      <td>2</td>\n",
       "      <td>{'quaid': 4, 'sesheta': 65}</td>\n",
       "      <td>{'699550191': {'author': 'quaid', 'words_count...</td>\n",
       "      <td>[size/L, lgtm, approved]</td>\n",
       "      <td>[28612661c6aa3a338539176e3bef111537e8b79e, f4c...</td>\n",
       "      <td>[glossary.md, new_front_page_mockup.md]</td>\n",
       "      <td>1.625550e+09</td>\n",
       "      <td>NaN</td>\n",
       "      <td>45</td>\n",
       "    </tr>\n",
       "    <tr>\n",
       "      <th>90</th>\n",
       "      <td>update the resource limit for the prowjobs</td>\n",
       "      <td>update the resource limit for the prowjobs\\r\\n...</td>\n",
       "      <td>XS</td>\n",
       "      <td>harshad16</td>\n",
       "      <td>1625177628</td>\n",
       "      <td>1.625230e+09</td>\n",
       "      <td>sesheta</td>\n",
       "      <td>1.625230e+09</td>\n",
       "      <td>sesheta</td>\n",
       "      <td>1</td>\n",
       "      <td>1</td>\n",
       "      <td>{'harshad16': 3, 'sesheta': 70}</td>\n",
       "      <td>{'698155981': {'author': 'oindrillac', 'words_...</td>\n",
       "      <td>[lgtm, approved, size/XS]</td>\n",
       "      <td>[d89f48d4fd7c01b61847762dfda0b2253cb0e7ed]</td>\n",
       "      <td>[.prow.yaml]</td>\n",
       "      <td>1.625230e+09</td>\n",
       "      <td>1.625230e+09</td>\n",
       "      <td>44</td>\n",
       "    </tr>\n",
       "    <tr>\n",
       "      <th>91</th>\n",
       "      <td>Front page content draft</td>\n",
       "      <td>This pr adds a file containing draft content f...</td>\n",
       "      <td>M</td>\n",
       "      <td>margarethaley</td>\n",
       "      <td>1625167660</td>\n",
       "      <td>1.625254e+09</td>\n",
       "      <td>sesheta</td>\n",
       "      <td>1.625254e+09</td>\n",
       "      <td>sesheta</td>\n",
       "      <td>1</td>\n",
       "      <td>1</td>\n",
       "      <td>{'margarethaley': 24, 'oindrillac': 104, 'hars...</td>\n",
       "      <td>{'697796698': {'author': 'quaid', 'words_count...</td>\n",
       "      <td>[lgtm, approved, size/M]</td>\n",
       "      <td>[28612661c6aa3a338539176e3bef111537e8b79e]</td>\n",
       "      <td>[new_front_page_mockup.md]</td>\n",
       "      <td>1.625197e+09</td>\n",
       "      <td>NaN</td>\n",
       "      <td>43</td>\n",
       "    </tr>\n",
       "    <tr>\n",
       "      <th>92</th>\n",
       "      <td>Created from existing messages for hacking-on</td>\n",
       "      <td>This is created using the messages on operate-...</td>\n",
       "      <td>M</td>\n",
       "      <td>quaid</td>\n",
       "      <td>1621226623</td>\n",
       "      <td>1.625255e+09</td>\n",
       "      <td>sesheta</td>\n",
       "      <td>1.625255e+09</td>\n",
       "      <td>sesheta</td>\n",
       "      <td>1</td>\n",
       "      <td>1</td>\n",
       "      <td>{'HumairAK': 60, 'quaid': 96, 'sesheta': 131, ...</td>\n",
       "      <td>{'661390364': {'author': 'HumairAK', 'words_co...</td>\n",
       "      <td>[lgtm, approved]</td>\n",
       "      <td>[03b73f88526078fdce85a6862248f2c8641e60d2]</td>\n",
       "      <td>[core_project_message.md]</td>\n",
       "      <td>1.621283e+09</td>\n",
       "      <td>NaN</td>\n",
       "      <td>5</td>\n",
       "    </tr>\n",
       "    <tr>\n",
       "      <th>93</th>\n",
       "      <td>chore: Add quaid to OWNERS</td>\n",
       "      <td>SSIA\\r\\n\\r\\n/cc @quaid</td>\n",
       "      <td>XS</td>\n",
       "      <td>tumido</td>\n",
       "      <td>1620809958</td>\n",
       "      <td>1.620827e+09</td>\n",
       "      <td>HumairAK</td>\n",
       "      <td>1.620827e+09</td>\n",
       "      <td>HumairAK</td>\n",
       "      <td>1</td>\n",
       "      <td>1</td>\n",
       "      <td>{'tumido': 1, 'sesheta': 68}</td>\n",
       "      <td>{'657780656': {'author': 'HumairAK', 'words_co...</td>\n",
       "      <td>[]</td>\n",
       "      <td>[b4cec5fb1a0d4d789e878e089560ca9752476cc7]</td>\n",
       "      <td>[OWNERS]</td>\n",
       "      <td>1.620820e+09</td>\n",
       "      <td>1.620820e+09</td>\n",
       "      <td>1</td>\n",
       "    </tr>\n",
       "  </tbody>\n",
       "</table>\n",
       "<p>94 rows × 19 columns</p>\n",
       "</div>"
      ],
      "text/plain": [
       "                                                title  \\\n",
       "0                            add knikolla and cleanup   \n",
       "1   pre-commit to clean up existing errors (traili...   \n",
       "2                                        Add knikolla   \n",
       "3                    Create 20221006-meeting-notes.md   \n",
       "4       Update wording to be more open and inclusive.   \n",
       "..                                                ...   \n",
       "89                Created a new document for glossary   \n",
       "90         update the resource limit for the prowjobs   \n",
       "91                           Front page content draft   \n",
       "92      Created from existing messages for hacking-on   \n",
       "93                         chore: Add quaid to OWNERS   \n",
       "\n",
       "                                                 body size     created_by  \\\n",
       "0                                                None    S       schwesig   \n",
       "1                                                None   XS       schwesig   \n",
       "2                                                None   XS       schwesig   \n",
       "3                                                None    M       schwesig   \n",
       "4              Updates as worked out with Karsten\\r\\n   XS    billburnseh   \n",
       "..                                                ...  ...            ...   \n",
       "89  This pr adds a glossary document to the repo. ...    L  margarethaley   \n",
       "90  update the resource limit for the prowjobs\\r\\n...   XS      harshad16   \n",
       "91  This pr adds a file containing draft content f...    M  margarethaley   \n",
       "92  This is created using the messages on operate-...    M          quaid   \n",
       "93                             SSIA\\r\\n\\r\\n/cc @quaid   XS         tumido   \n",
       "\n",
       "    created_at     closed_at    closed_by     merged_at    merged_by  \\\n",
       "0   1665410557  1.665411e+09      sesheta  1.665411e+09      sesheta   \n",
       "1   1665402036  1.665409e+09      sesheta  1.665409e+09      sesheta   \n",
       "2   1665079206  1.665409e+09     schwesig           NaN         None   \n",
       "3   1665078958  1.665148e+09     schwesig  1.665148e+09     schwesig   \n",
       "4   1663618828  1.663619e+09  billburnseh  1.663619e+09  billburnseh   \n",
       "..         ...           ...          ...           ...          ...   \n",
       "89  1625255261  1.625615e+09      sesheta  1.625615e+09      sesheta   \n",
       "90  1625177628  1.625230e+09      sesheta  1.625230e+09      sesheta   \n",
       "91  1625167660  1.625254e+09      sesheta  1.625254e+09      sesheta   \n",
       "92  1621226623  1.625255e+09      sesheta  1.625255e+09      sesheta   \n",
       "93  1620809958  1.620827e+09     HumairAK  1.620827e+09     HumairAK   \n",
       "\n",
       "    commits_number  changed_files_number  \\\n",
       "0                2                     1   \n",
       "1                1                     1   \n",
       "2                0                     0   \n",
       "3                1                     1   \n",
       "4                2                     1   \n",
       "..             ...                   ...   \n",
       "89               2                     2   \n",
       "90               1                     1   \n",
       "91               1                     1   \n",
       "92               1                     1   \n",
       "93               1                     1   \n",
       "\n",
       "                                         interactions  \\\n",
       "0        {'schwesig': 175, 'quaid': 1, 'sesheta': 65}   \n",
       "1   {'schwesig': 9, 'codificat': 16, 'quaid': 3, '...   \n",
       "2   {'quaid': 2, 'schwesig': 7, 'sesheta': 287, 'c...   \n",
       "3                        {'sesheta': 172, 'quaid': 2}   \n",
       "4                                     {'sesheta': 86}   \n",
       "..                                                ...   \n",
       "89                        {'quaid': 4, 'sesheta': 65}   \n",
       "90                    {'harshad16': 3, 'sesheta': 70}   \n",
       "91  {'margarethaley': 24, 'oindrillac': 104, 'hars...   \n",
       "92  {'HumairAK': 60, 'quaid': 96, 'sesheta': 131, ...   \n",
       "93                       {'tumido': 1, 'sesheta': 68}   \n",
       "\n",
       "                                              reviews  \\\n",
       "0                                                  {}   \n",
       "1                                                  {}   \n",
       "2   {'1134003785': {'author': 'schwesig', 'words_c...   \n",
       "3   {'1133430644': {'author': 'quaid', 'words_coun...   \n",
       "4                                                  {}   \n",
       "..                                                ...   \n",
       "89  {'699550191': {'author': 'quaid', 'words_count...   \n",
       "90  {'698155981': {'author': 'oindrillac', 'words_...   \n",
       "91  {'697796698': {'author': 'quaid', 'words_count...   \n",
       "92  {'661390364': {'author': 'HumairAK', 'words_co...   \n",
       "93  {'657780656': {'author': 'HumairAK', 'words_co...   \n",
       "\n",
       "                                               labels  \\\n",
       "0   [lgtm, triage/accepted, approved, priority/cri...   \n",
       "1   [lgtm, triage/accepted, approved, priority/cri...   \n",
       "2   [size/XS, area/user, kind/governance, sig/comm...   \n",
       "3   [kind/documentation, lgtm, approved, size/M, s...   \n",
       "4                                           [size/XS]   \n",
       "..                                                ...   \n",
       "89                           [size/L, lgtm, approved]   \n",
       "90                          [lgtm, approved, size/XS]   \n",
       "91                           [lgtm, approved, size/M]   \n",
       "92                                   [lgtm, approved]   \n",
       "93                                                 []   \n",
       "\n",
       "                                              commits  \\\n",
       "0   [20fcc08d8ebd4e7453469c7fd5492995f156181c, 764...   \n",
       "1          [210de76a23b3cf7f1d0c66b8c82457c597400797]   \n",
       "2                                                  []   \n",
       "3          [54c273e75aa9a4a7326c7f9aad1b013bc0c29791]   \n",
       "4   [c86790d3a173abae0682dcbef583e6b151d6e61c, 272...   \n",
       "..                                                ...   \n",
       "89  [28612661c6aa3a338539176e3bef111537e8b79e, f4c...   \n",
       "90         [d89f48d4fd7c01b61847762dfda0b2253cb0e7ed]   \n",
       "91         [28612661c6aa3a338539176e3bef111537e8b79e]   \n",
       "92         [03b73f88526078fdce85a6862248f2c8641e60d2]   \n",
       "93         [b4cec5fb1a0d4d789e878e089560ca9752476cc7]   \n",
       "\n",
       "                                        changed_files  first_review_at  \\\n",
       "0                                            [OWNERS]              NaN   \n",
       "1   [sig-community/meeting-notes/20221006-meeting-...              NaN   \n",
       "2                                                  []     1.665127e+09   \n",
       "3   [sig-community/meeting-notes/20221006-meeting-...     1.665079e+09   \n",
       "4                                [four-principles.md]              NaN   \n",
       "..                                                ...              ...   \n",
       "89            [glossary.md, new_front_page_mockup.md]     1.625550e+09   \n",
       "90                                       [.prow.yaml]     1.625230e+09   \n",
       "91                         [new_front_page_mockup.md]     1.625197e+09   \n",
       "92                          [core_project_message.md]     1.621283e+09   \n",
       "93                                           [OWNERS]     1.620820e+09   \n",
       "\n",
       "    first_approve_at   id  \n",
       "0                NaN  229  \n",
       "1                NaN  228  \n",
       "2                NaN  225  \n",
       "3       1.665079e+09  224  \n",
       "4                NaN  223  \n",
       "..               ...  ...  \n",
       "89               NaN   45  \n",
       "90      1.625230e+09   44  \n",
       "91               NaN   43  \n",
       "92               NaN    5  \n",
       "93      1.620820e+09    1  \n",
       "\n",
       "[94 rows x 19 columns]"
      ]
     },
     "execution_count": 6,
     "metadata": {},
     "output_type": "execute_result"
    }
   ],
   "source": [
    "pr_df"
   ]
  },
  {
   "cell_type": "code",
   "execution_count": 7,
   "id": "13dc895b",
   "metadata": {
    "execution": {
     "iopub.execute_input": "2022-10-13T22:55:06.865611Z",
     "iopub.status.busy": "2022-10-13T22:55:06.865199Z",
     "iopub.status.idle": "2022-10-13T22:55:06.871592Z",
     "shell.execute_reply": "2022-10-13T22:55:06.870966Z"
    }
   },
   "outputs": [
    {
     "data": {
      "text/plain": [
       "(94, 19)"
      ]
     },
     "execution_count": 7,
     "metadata": {},
     "output_type": "execute_result"
    }
   ],
   "source": [
    "pr_df.shape"
   ]
  },
  {
   "cell_type": "code",
   "execution_count": 8,
   "id": "f82201c5",
   "metadata": {
    "execution": {
     "iopub.execute_input": "2022-10-13T22:55:06.874762Z",
     "iopub.status.busy": "2022-10-13T22:55:06.874395Z",
     "iopub.status.idle": "2022-10-13T22:55:06.892459Z",
     "shell.execute_reply": "2022-10-13T22:55:06.891864Z"
    }
   },
   "outputs": [
    {
     "data": {
      "text/html": [
       "<div>\n",
       "<style scoped>\n",
       "    .dataframe tbody tr th:only-of-type {\n",
       "        vertical-align: middle;\n",
       "    }\n",
       "\n",
       "    .dataframe tbody tr th {\n",
       "        vertical-align: top;\n",
       "    }\n",
       "\n",
       "    .dataframe thead th {\n",
       "        text-align: right;\n",
       "    }\n",
       "</style>\n",
       "<table border=\"1\" class=\"dataframe\">\n",
       "  <thead>\n",
       "    <tr style=\"text-align: right;\">\n",
       "      <th></th>\n",
       "      <th>title</th>\n",
       "      <th>body</th>\n",
       "      <th>size</th>\n",
       "      <th>created_by</th>\n",
       "      <th>created_at</th>\n",
       "      <th>closed_at</th>\n",
       "      <th>closed_by</th>\n",
       "      <th>merged_at</th>\n",
       "      <th>merged_by</th>\n",
       "      <th>commits_number</th>\n",
       "      <th>changed_files_number</th>\n",
       "      <th>interactions</th>\n",
       "      <th>reviews</th>\n",
       "      <th>labels</th>\n",
       "      <th>commits</th>\n",
       "      <th>changed_files</th>\n",
       "      <th>first_review_at</th>\n",
       "      <th>first_approve_at</th>\n",
       "      <th>id</th>\n",
       "    </tr>\n",
       "  </thead>\n",
       "  <tbody>\n",
       "    <tr>\n",
       "      <th>0</th>\n",
       "      <td>add knikolla and cleanup</td>\n",
       "      <td>None</td>\n",
       "      <td>S</td>\n",
       "      <td>schwesig</td>\n",
       "      <td>1665410557</td>\n",
       "      <td>1.665411e+09</td>\n",
       "      <td>sesheta</td>\n",
       "      <td>1.665411e+09</td>\n",
       "      <td>sesheta</td>\n",
       "      <td>2</td>\n",
       "      <td>1</td>\n",
       "      <td>{'schwesig': 175, 'quaid': 1, 'sesheta': 65}</td>\n",
       "      <td>{}</td>\n",
       "      <td>[lgtm, triage/accepted, approved, priority/cri...</td>\n",
       "      <td>[20fcc08d8ebd4e7453469c7fd5492995f156181c, 764...</td>\n",
       "      <td>[OWNERS]</td>\n",
       "      <td>NaN</td>\n",
       "      <td>NaN</td>\n",
       "      <td>229</td>\n",
       "    </tr>\n",
       "    <tr>\n",
       "      <th>1</th>\n",
       "      <td>pre-commit to clean up existing errors (traili...</td>\n",
       "      <td>None</td>\n",
       "      <td>XS</td>\n",
       "      <td>schwesig</td>\n",
       "      <td>1665402036</td>\n",
       "      <td>1.665409e+09</td>\n",
       "      <td>sesheta</td>\n",
       "      <td>1.665409e+09</td>\n",
       "      <td>sesheta</td>\n",
       "      <td>1</td>\n",
       "      <td>1</td>\n",
       "      <td>{'schwesig': 9, 'codificat': 16, 'quaid': 3, '...</td>\n",
       "      <td>{}</td>\n",
       "      <td>[lgtm, triage/accepted, approved, priority/cri...</td>\n",
       "      <td>[210de76a23b3cf7f1d0c66b8c82457c597400797]</td>\n",
       "      <td>[sig-community/meeting-notes/20221006-meeting-...</td>\n",
       "      <td>NaN</td>\n",
       "      <td>NaN</td>\n",
       "      <td>228</td>\n",
       "    </tr>\n",
       "  </tbody>\n",
       "</table>\n",
       "</div>"
      ],
      "text/plain": [
       "                                               title  body size created_by  \\\n",
       "0                           add knikolla and cleanup  None    S   schwesig   \n",
       "1  pre-commit to clean up existing errors (traili...  None   XS   schwesig   \n",
       "\n",
       "   created_at     closed_at closed_by     merged_at merged_by  commits_number  \\\n",
       "0  1665410557  1.665411e+09   sesheta  1.665411e+09   sesheta               2   \n",
       "1  1665402036  1.665409e+09   sesheta  1.665409e+09   sesheta               1   \n",
       "\n",
       "   changed_files_number                                       interactions  \\\n",
       "0                     1       {'schwesig': 175, 'quaid': 1, 'sesheta': 65}   \n",
       "1                     1  {'schwesig': 9, 'codificat': 16, 'quaid': 3, '...   \n",
       "\n",
       "  reviews                                             labels  \\\n",
       "0      {}  [lgtm, triage/accepted, approved, priority/cri...   \n",
       "1      {}  [lgtm, triage/accepted, approved, priority/cri...   \n",
       "\n",
       "                                             commits  \\\n",
       "0  [20fcc08d8ebd4e7453469c7fd5492995f156181c, 764...   \n",
       "1         [210de76a23b3cf7f1d0c66b8c82457c597400797]   \n",
       "\n",
       "                                       changed_files  first_review_at  \\\n",
       "0                                           [OWNERS]              NaN   \n",
       "1  [sig-community/meeting-notes/20221006-meeting-...              NaN   \n",
       "\n",
       "   first_approve_at   id  \n",
       "0               NaN  229  \n",
       "1               NaN  228  "
      ]
     },
     "execution_count": 8,
     "metadata": {},
     "output_type": "execute_result"
    }
   ],
   "source": [
    "pr_df.head(2)"
   ]
  },
  {
   "cell_type": "markdown",
   "id": "83e4b94c",
   "metadata": {},
   "source": [
    "## Inspect the dataset\n",
    "\n",
    "Let's unroll a single row and see what kind of information we have access to. "
   ]
  },
  {
   "cell_type": "code",
   "execution_count": 9,
   "id": "693f985e",
   "metadata": {
    "execution": {
     "iopub.execute_input": "2022-10-13T22:55:06.895987Z",
     "iopub.status.busy": "2022-10-13T22:55:06.895468Z",
     "iopub.status.idle": "2022-10-13T22:55:06.903444Z",
     "shell.execute_reply": "2022-10-13T22:55:06.902873Z"
    }
   },
   "outputs": [
    {
     "data": {
      "text/plain": [
       "title                                    Create 20220825-meeting-notes.md\n",
       "body                         add bulk meeting notes 202204021 to 20220811\n",
       "size                                                                    M\n",
       "created_by                                                       schwesig\n",
       "created_at                                                     1661456922\n",
       "closed_at                                                    1661512255.0\n",
       "closed_by                                                        schwesig\n",
       "merged_at                                                    1661512255.0\n",
       "merged_by                                                        schwesig\n",
       "commits_number                                                          3\n",
       "changed_files_number                                                    5\n",
       "interactions            {'schwesig': 11, 'sesheta': 143, 'MichaelCliff...\n",
       "reviews                                                                {}\n",
       "labels                  [kind/documentation, triage/accepted, approved...\n",
       "commits                 [29866eb242bb734427f76c458dccfb9fbd3eceeb, bc8...\n",
       "changed_files           [sig-community/meeting-notes/20220825-meeting-...\n",
       "first_review_at                                                       NaN\n",
       "first_approve_at                                                      NaN\n",
       "id                                                                    217\n",
       "Name: 10, dtype: object"
      ]
     },
     "execution_count": 9,
     "metadata": {},
     "output_type": "execute_result"
    }
   ],
   "source": [
    "pr = pr_df.iloc[10]\n",
    "pr"
   ]
  },
  {
   "cell_type": "markdown",
   "id": "8b755f35",
   "metadata": {},
   "source": [
    "</br>\n",
    "\n",
    "#### **Available Fields**\n",
    "\n",
    "* **title**: text providing a short description of the of the PR.\n",
    "\n",
    "* **body**: text providing additional details regarding the changes. \n",
    "\n",
    "* **size**: categorical label generated by GitHub summerizing the size of the changes made to the code base. \n",
    "\n",
    "* **created/closed/merged_at**: timestamps for when the PR was opened, merged and finally closed. \n",
    "\n",
    "* **created/closed_by**: usernames for contributors who created the PR and closed it. \n",
    "\n",
    "* **commits_number**: integer indicating the number of commits in the PR.\n",
    "\n",
    "* **changed_files_number**: integer indicating the number of files changed.\n",
    "\n",
    "The remaining fields appear to be collections of items, let's unroll each one and see what additional information they provide.\n"
   ]
  },
  {
   "cell_type": "code",
   "execution_count": 10,
   "id": "27336ef1",
   "metadata": {
    "execution": {
     "iopub.execute_input": "2022-10-13T22:55:06.906321Z",
     "iopub.status.busy": "2022-10-13T22:55:06.905967Z",
     "iopub.status.idle": "2022-10-13T22:55:06.910814Z",
     "shell.execute_reply": "2022-10-13T22:55:06.910192Z"
    }
   },
   "outputs": [
    {
     "data": {
      "text/plain": [
       "{'schwesig': 11, 'sesheta': 143, 'MichaelClifford': 1, 'quaid': 1}"
      ]
     },
     "execution_count": 10,
     "metadata": {},
     "output_type": "execute_result"
    }
   ],
   "source": [
    "pr[\"interactions\"]"
   ]
  },
  {
   "cell_type": "markdown",
   "id": "35f1cc24",
   "metadata": {},
   "source": [
    "**interactions**: a dictionary with usernames for keys and the number of times they interacted with the PR as the value."
   ]
  },
  {
   "cell_type": "code",
   "execution_count": 11,
   "id": "d477fcad",
   "metadata": {
    "execution": {
     "iopub.execute_input": "2022-10-13T22:55:06.913648Z",
     "iopub.status.busy": "2022-10-13T22:55:06.913313Z",
     "iopub.status.idle": "2022-10-13T22:55:06.919373Z",
     "shell.execute_reply": "2022-10-13T22:55:06.918802Z"
    }
   },
   "outputs": [
    {
     "data": {
      "text/plain": [
       "{}"
      ]
     },
     "execution_count": 11,
     "metadata": {},
     "output_type": "execute_result"
    }
   ],
   "source": [
    "pr[\"reviews\"]"
   ]
  },
  {
   "cell_type": "markdown",
   "id": "6aac31f8",
   "metadata": {},
   "source": [
    "**reviews**: a dictionary of reviews that includes an id number key along with fields for author, word_count, submitted timestamp and state of review."
   ]
  },
  {
   "cell_type": "code",
   "execution_count": 12,
   "id": "91bf2815",
   "metadata": {
    "execution": {
     "iopub.execute_input": "2022-10-13T22:55:06.922392Z",
     "iopub.status.busy": "2022-10-13T22:55:06.922173Z",
     "iopub.status.idle": "2022-10-13T22:55:06.926263Z",
     "shell.execute_reply": "2022-10-13T22:55:06.925639Z"
    }
   },
   "outputs": [
    {
     "data": {
      "text/plain": [
       "['kind/documentation',\n",
       " 'triage/accepted',\n",
       " 'approved',\n",
       " 'size/M',\n",
       " 'sig/community']"
      ]
     },
     "execution_count": 12,
     "metadata": {},
     "output_type": "execute_result"
    }
   ],
   "source": [
    "pr[\"labels\"]"
   ]
  },
  {
   "cell_type": "markdown",
   "id": "e9086e72",
   "metadata": {},
   "source": [
    "**labels**: a list of labels tagged to the PR describing some of its attributes"
   ]
  },
  {
   "cell_type": "code",
   "execution_count": 13,
   "id": "56b6bd13",
   "metadata": {
    "execution": {
     "iopub.execute_input": "2022-10-13T22:55:06.929691Z",
     "iopub.status.busy": "2022-10-13T22:55:06.929465Z",
     "iopub.status.idle": "2022-10-13T22:55:06.933546Z",
     "shell.execute_reply": "2022-10-13T22:55:06.932893Z"
    }
   },
   "outputs": [
    {
     "data": {
      "text/plain": [
       "['29866eb242bb734427f76c458dccfb9fbd3eceeb',\n",
       " 'bc800df1e724e56c30a42036b5a7cf7e0c4270d7',\n",
       " '1fd3812b86ee57b4ec649f133ad3245daf35854b']"
      ]
     },
     "execution_count": 13,
     "metadata": {},
     "output_type": "execute_result"
    }
   ],
   "source": [
    "pr[\"commits\"]"
   ]
  },
  {
   "cell_type": "markdown",
   "id": "5c395e82",
   "metadata": {},
   "source": [
    "**commits**: a list of commit hashes that point to specific changes made to the repo's history"
   ]
  },
  {
   "cell_type": "code",
   "execution_count": 14,
   "id": "e6badeec",
   "metadata": {
    "execution": {
     "iopub.execute_input": "2022-10-13T22:55:06.936983Z",
     "iopub.status.busy": "2022-10-13T22:55:06.936736Z",
     "iopub.status.idle": "2022-10-13T22:55:06.941665Z",
     "shell.execute_reply": "2022-10-13T22:55:06.941001Z"
    }
   },
   "outputs": [
    {
     "name": "stdout",
     "output_type": "stream",
     "text": [
      "5\n"
     ]
    },
    {
     "data": {
      "text/plain": [
       "['sig-community/meeting-notes/20220825-meeting-notes.md',\n",
       " 'sig-community/wg-contrib_x-docs/meeting-notes/20220618-meeting-notes.md',\n",
       " 'sig-community/wg-contrib_x-docs/meeting-notes/20220725-meeting-notes.md',\n",
       " 'sig-community/wg-contrib_x-docs/meeting-notes/20220822-meeting-notes.md',\n",
       " 'sig-community/wg-website-updates/meeting-notes/20220719-meeting-notes.md']"
      ]
     },
     "execution_count": 14,
     "metadata": {},
     "output_type": "execute_result"
    }
   ],
   "source": [
    "print(len(pr[\"changed_files\"]))\n",
    "pr[\"changed_files\"][0:10]"
   ]
  },
  {
   "cell_type": "markdown",
   "id": "9666f00a",
   "metadata": {},
   "source": [
    "**changed_files**: a list of the paths and filenames for every file changed by this PR."
   ]
  },
  {
   "cell_type": "markdown",
   "id": "a936bce2",
   "metadata": {},
   "source": [
    "We now know what we have access to in this dataset. It is a collection of numerical, categorical and textual features used to describe a PR. This gives us a lot of potential avenues to explore from an EDA and Data Science perspective. But is also creates an additional challenge insofar as we'll need to do a bit of feature engineering to get this data into format that is ready to be ingested by any ML models. "
   ]
  },
  {
   "cell_type": "markdown",
   "id": "c472ffbd",
   "metadata": {},
   "source": [
    "## Feature engineering\n",
    "\n",
    "In the next section we will do some basic feature engineering and correlation analyis on our dataset to see if anything interesting jumps out at us. "
   ]
  },
  {
   "cell_type": "markdown",
   "id": "4ed68d9a",
   "metadata": {},
   "source": [
    "**Time to Merge**\n",
    "\n",
    "We will derive a new feature called `time_to_merge` which will be the difference between the `created_at` and `merged_at` fields. "
   ]
  },
  {
   "cell_type": "code",
   "execution_count": 15,
   "id": "d67035e7",
   "metadata": {
    "execution": {
     "iopub.execute_input": "2022-10-13T22:55:06.946198Z",
     "iopub.status.busy": "2022-10-13T22:55:06.945973Z",
     "iopub.status.idle": "2022-10-13T22:55:06.950598Z",
     "shell.execute_reply": "2022-10-13T22:55:06.949908Z"
    }
   },
   "outputs": [],
   "source": [
    "# derive time_to_merege\n",
    "pr_df[\"time_to_merge\"] = pr_df[\"merged_at\"] - pr_df[\"created_at\"]\n",
    "pr_df[\"time_to_merge\"] = pr_df[\"time_to_merge\"].astype(\"float\")\n",
    "# NOTE: we cant fill NA with 0 because that would imply the PR got merged instantaneously"
   ]
  },
  {
   "cell_type": "code",
   "execution_count": 16,
   "id": "fddf9750-49f5-4997-8280-e94e1e778ad9",
   "metadata": {
    "execution": {
     "iopub.execute_input": "2022-10-13T22:55:06.953448Z",
     "iopub.status.busy": "2022-10-13T22:55:06.953227Z",
     "iopub.status.idle": "2022-10-13T22:55:06.958940Z",
     "shell.execute_reply": "2022-10-13T22:55:06.958278Z"
    }
   },
   "outputs": [
    {
     "data": {
      "text/plain": [
       "0         476.0\n",
       "1        7081.0\n",
       "2           NaN\n",
       "3       68588.0\n",
       "4          11.0\n",
       "        ...    \n",
       "89     359974.0\n",
       "90      52870.0\n",
       "91      86385.0\n",
       "92    4028019.0\n",
       "93      16676.0\n",
       "Name: time_to_merge, Length: 94, dtype: float64"
      ]
     },
     "execution_count": 16,
     "metadata": {},
     "output_type": "execute_result"
    }
   ],
   "source": [
    "pr_df[\"time_to_merge\"]"
   ]
  },
  {
   "cell_type": "markdown",
   "id": "939d196e",
   "metadata": {},
   "source": [
    "Let's look at the distribution of the time to merge column. This can help us determine what the setup for ML problems such as [#236](https://github.com/aicoe-aiops/ocp-ci-analysis/issues/236) could be like. That is, should the time to merge problem be framed as a regression or classification problem.\n",
    "\n",
    "First, lets try to determine what the granularity of the output values should be, in case of a regression setup. That is, should the model predict time to merge in number of seconds, number of hours, number of days, or some other chunk of time."
   ]
  },
  {
   "cell_type": "code",
   "execution_count": 17,
   "id": "b8cc628b",
   "metadata": {
    "execution": {
     "iopub.execute_input": "2022-10-13T22:55:06.962405Z",
     "iopub.status.busy": "2022-10-13T22:55:06.962184Z",
     "iopub.status.idle": "2022-10-13T22:55:06.969876Z",
     "shell.execute_reply": "2022-10-13T22:55:06.969231Z"
    },
    "tags": []
   },
   "outputs": [
    {
     "data": {
      "text/plain": [
       "1.0     0.6000\n",
       "4.0     0.0500\n",
       "12.0    0.0250\n",
       "5.0     0.0250\n",
       "24.0    0.0250\n",
       "7.0     0.0250\n",
       "14.0    0.0250\n",
       "28.0    0.0250\n",
       "10.0    0.0125\n",
       "6.0     0.0125\n",
       "35.0    0.0125\n",
       "27.0    0.0125\n",
       "21.0    0.0125\n",
       "9.0     0.0125\n",
       "8.0     0.0125\n",
       "15.0    0.0125\n",
       "2.0     0.0125\n",
       "42.0    0.0125\n",
       "26.0    0.0125\n",
       "18.0    0.0125\n",
       "13.0    0.0125\n",
       "44.0    0.0125\n",
       "3.0     0.0125\n",
       "47.0    0.0125\n",
       "Name: time_to_merge, dtype: float64"
      ]
     },
     "execution_count": 17,
     "metadata": {},
     "output_type": "execute_result"
    }
   ],
   "source": [
    "# what does the distribution of values look like if we choose days as the granularity\n",
    "ttm_days = np.ceil(pr_df.time_to_merge / (60 * 60 * 24))\n",
    "\n",
    "# value counts - to how many PRs have value 1, 2, 3, etc. for days to merge\n",
    "vc = ttm_days.value_counts()\n",
    "\n",
    "# normalized value counts (i.e. percent of PRs instead of raw number)\n",
    "nvc = vc / vc.sum()\n",
    "nvc"
   ]
  },
  {
   "cell_type": "code",
   "execution_count": 18,
   "id": "a81de128",
   "metadata": {
    "execution": {
     "iopub.execute_input": "2022-10-13T22:55:06.973693Z",
     "iopub.status.busy": "2022-10-13T22:55:06.973169Z",
     "iopub.status.idle": "2022-10-13T22:55:07.290304Z",
     "shell.execute_reply": "2022-10-13T22:55:07.289598Z"
    }
   },
   "outputs": [
    {
     "data": {
      "image/png": "[encoded data removed]",
      "text/plain": [
       "<Figure size 432x288 with 1 Axes>"
      ]
     },
     "metadata": {
      "needs_background": "light"
     },
     "output_type": "display_data"
    }
   ],
   "source": [
    "# only plot top 100 values so that graph is legible\n",
    "vc.sort_index().iloc[:100].plot(kind=\"bar\")\n",
    "plt.xlabel(\"Days\")\n",
    "plt.ylabel(\"Number of PRs\")\n",
    "plt.title(\"Distribution of time to merge of PRs in days\")\n",
    "plt.show()"
   ]
  },
  {
   "cell_type": "code",
   "execution_count": 19,
   "id": "192aeb22",
   "metadata": {
    "execution": {
     "iopub.execute_input": "2022-10-13T22:55:07.293203Z",
     "iopub.status.busy": "2022-10-13T22:55:07.292955Z",
     "iopub.status.idle": "2022-10-13T22:55:07.302698Z",
     "shell.execute_reply": "2022-10-13T22:55:07.302047Z"
    },
    "tags": []
   },
   "outputs": [
    {
     "data": {
      "text/plain": [
       "1.0      0.3375\n",
       "6.0      0.0625\n",
       "7.0      0.0500\n",
       "8.0      0.0375\n",
       "2.0      0.0375\n",
       "5.0      0.0375\n",
       "96.0     0.0250\n",
       "25.0     0.0250\n",
       "4.0      0.0250\n",
       "217.0    0.0250\n",
       "3.0      0.0125\n",
       "74.0     0.0125\n",
       "65.0     0.0125\n",
       "164.0    0.0125\n",
       "212.0    0.0125\n",
       "118.0    0.0125\n",
       "30.0     0.0125\n",
       "280.0    0.0125\n",
       "46.0     0.0125\n",
       "37.0     0.0125\n",
       "34.0     0.0125\n",
       "55.0     0.0125\n",
       "205.0    0.0125\n",
       "112.0    0.0125\n",
       "9.0      0.0125\n",
       "58.0     0.0125\n",
       "144.0    0.0125\n",
       "106.0    0.0125\n",
       "102.0    0.0125\n",
       "32.0     0.0125\n",
       "50.0     0.0125\n",
       "189.0    0.0125\n",
       "185.0    0.0125\n",
       "346.0    0.0125\n",
       "22.0     0.0125\n",
       "335.0    0.0125\n",
       "373.0    0.0125\n",
       "Name: time_to_merge, dtype: float64"
      ]
     },
     "execution_count": 19,
     "metadata": {},
     "output_type": "execute_result"
    }
   ],
   "source": [
    "# what if we chose some intermediate value e.g. 3 hours as the granularity?\n",
    "ttm_3hours = np.ceil(pr_df.time_to_merge / (60 * 60 * 3))\n",
    "\n",
    "# value counts - to how many PRs have value 1, 2, 3, etc. for num. 3-hours to merge\n",
    "vc = ttm_3hours.value_counts()\n",
    "\n",
    "# normalized value counts (i.e. percent of PRs instead of raw number)\n",
    "nvc = vc / vc.sum()\n",
    "nvc"
   ]
  },
  {
   "cell_type": "code",
   "execution_count": 20,
   "id": "6b2f5e83",
   "metadata": {
    "execution": {
     "iopub.execute_input": "2022-10-13T22:55:07.305486Z",
     "iopub.status.busy": "2022-10-13T22:55:07.305264Z",
     "iopub.status.idle": "2022-10-13T22:55:07.593527Z",
     "shell.execute_reply": "2022-10-13T22:55:07.592696Z"
    }
   },
   "outputs": [
    {
     "data": {
      "image/png": "[encoded data removed]",
      "text/plain": [
       "<Figure size 432x288 with 1 Axes>"
      ]
     },
     "metadata": {
      "needs_background": "light"
     },
     "output_type": "display_data"
    }
   ],
   "source": [
    "# only plot top 100 values so that graph is legible\n",
    "vc.sort_index().iloc[:100].plot(kind=\"bar\")\n",
    "plt.xlabel(\"3 Hour Intervals\")\n",
    "plt.ylabel(\"Number of PRs\")\n",
    "plt.title(\"Distribution of time to merge of PRs in 3 hr intervals\")\n",
    "plt.show()"
   ]
  },
  {
   "cell_type": "code",
   "execution_count": 21,
   "id": "44e09f11",
   "metadata": {
    "execution": {
     "iopub.execute_input": "2022-10-13T22:55:07.597443Z",
     "iopub.status.busy": "2022-10-13T22:55:07.596906Z",
     "iopub.status.idle": "2022-10-13T22:55:07.608026Z",
     "shell.execute_reply": "2022-10-13T22:55:07.607424Z"
    },
    "tags": []
   },
   "outputs": [
    {
     "data": {
      "text/plain": [
       "1.0       0.3000\n",
       "16.0      0.0375\n",
       "5.0       0.0250\n",
       "17.0      0.0250\n",
       "2.0       0.0250\n",
       "73.0      0.0250\n",
       "15.0      0.0250\n",
       "20.0      0.0250\n",
       "21.0      0.0125\n",
       "19.0      0.0125\n",
       "24.0      0.0125\n",
       "165.0     0.0125\n",
       "100.0     0.0125\n",
       "220.0     0.0125\n",
       "193.0     0.0125\n",
       "490.0     0.0125\n",
       "8.0       0.0125\n",
       "651.0     0.0125\n",
       "635.0     0.0125\n",
       "88.0      0.0125\n",
       "12.0      0.0125\n",
       "335.0     0.0125\n",
       "649.0     0.0125\n",
       "838.0     0.0125\n",
       "137.0     0.0125\n",
       "111.0     0.0125\n",
       "354.0     0.0125\n",
       "173.0     0.0125\n",
       "26.0      0.0125\n",
       "148.0     0.0125\n",
       "23.0      0.0125\n",
       "1003.0    0.0125\n",
       "288.0     0.0125\n",
       "66.0      0.0125\n",
       "1038.0    0.0125\n",
       "555.0     0.0125\n",
       "4.0       0.0125\n",
       "565.0     0.0125\n",
       "96.0      0.0125\n",
       "3.0       0.0125\n",
       "304.0     0.0125\n",
       "287.0     0.0125\n",
       "317.0     0.0125\n",
       "432.0     0.0125\n",
       "11.0      0.0125\n",
       "615.0     0.0125\n",
       "13.0      0.0125\n",
       "22.0      0.0125\n",
       "1119.0    0.0125\n",
       "Name: time_to_merge, dtype: float64"
      ]
     },
     "execution_count": 21,
     "metadata": {},
     "output_type": "execute_result"
    }
   ],
   "source": [
    "# what if we chose hours as the granularity?\n",
    "ttm_hours = np.ceil(pr_df.time_to_merge / (60 * 60))\n",
    "\n",
    "# value counts - to how many PRs have value 1, 2, 3, etc. for hours to merge\n",
    "vc = ttm_hours.value_counts()\n",
    "\n",
    "# normalized value counts (i.e. percent of PRs instead of raw number)\n",
    "nvc = vc / vc.sum()\n",
    "nvc"
   ]
  },
  {
   "cell_type": "code",
   "execution_count": 22,
   "id": "c7c7dde5",
   "metadata": {
    "execution": {
     "iopub.execute_input": "2022-10-13T22:55:07.611056Z",
     "iopub.status.busy": "2022-10-13T22:55:07.610813Z",
     "iopub.status.idle": "2022-10-13T22:55:08.183920Z",
     "shell.execute_reply": "2022-10-13T22:55:08.183132Z"
    }
   },
   "outputs": [
    {
     "data": {
      "image/png": "[encoded data removed]",
      "text/plain": [
       "<Figure size 432x288 with 1 Axes>"
      ]
     },
     "metadata": {
      "needs_background": "light"
     },
     "output_type": "display_data"
    }
   ],
   "source": [
    "# only plot top 100 values so that graph is legible\n",
    "vc.sort_index().iloc[:100].plot(kind=\"bar\")\n",
    "plt.xlabel(\"Hours\")\n",
    "plt.ylabel(\"Number of PRs\")\n",
    "plt.title(\"Number of PRs per Hour\")\n",
    "plt.show()"
   ]
  },
  {
   "cell_type": "markdown",
   "id": "fb8e316b",
   "metadata": {},
   "source": [
    "Now, lets try to determine, if we were to set this up as a classification problem, what the output classes should be. In the following cell, we'll try to split the time-to-merge values into 10 equally populated buckets."
   ]
  },
  {
   "cell_type": "code",
   "execution_count": 23,
   "id": "0ca35bc5",
   "metadata": {
    "execution": {
     "iopub.execute_input": "2022-10-13T22:55:08.188752Z",
     "iopub.status.busy": "2022-10-13T22:55:08.187367Z",
     "iopub.status.idle": "2022-10-13T22:55:08.197687Z",
     "shell.execute_reply": "2022-10-13T22:55:08.196935Z"
    }
   },
   "outputs": [
    {
     "data": {
      "text/plain": [
       "0.0      0.003056\n",
       "0.1      0.013361\n",
       "0.2      0.090833\n",
       "0.3      1.234028\n",
       "0.4     11.030444\n",
       "0.5     16.645833\n",
       "0.6     24.554278\n",
       "0.7    118.527222\n",
       "0.8    290.272000\n",
       "0.9    569.101083\n",
       "Name: time_to_merge, dtype: float64"
      ]
     },
     "execution_count": 23,
     "metadata": {},
     "output_type": "execute_result"
    }
   ],
   "source": [
    "# lets look at what the 10th, 20th, 30th etc percentiles are, to see what the bin boundaries (in terms of hours)\n",
    "# would be if we were to split the data in 10 equally populated bins\n",
    "n_buckets = 10\n",
    "\n",
    "quantiles = pr_df.time_to_merge.quantile(q=np.arange(0, 1 + 1e-100, 1 / n_buckets))\n",
    "quantiles / 3600"
   ]
  },
  {
   "cell_type": "code",
   "execution_count": 24,
   "id": "7b36d5d4-ec27-4a59-b63f-515830da1ae9",
   "metadata": {
    "execution": {
     "iopub.execute_input": "2022-10-13T22:55:08.202363Z",
     "iopub.status.busy": "2022-10-13T22:55:08.200535Z",
     "iopub.status.idle": "2022-10-13T22:55:08.205543Z",
     "shell.execute_reply": "2022-10-13T22:55:08.204969Z"
    }
   },
   "outputs": [],
   "source": [
    "intervals = quantiles"
   ]
  },
  {
   "cell_type": "code",
   "execution_count": 25,
   "id": "acc2bfd4",
   "metadata": {
    "execution": {
     "iopub.execute_input": "2022-10-13T22:55:08.209547Z",
     "iopub.status.busy": "2022-10-13T22:55:08.208371Z",
     "iopub.status.idle": "2022-10-13T22:55:08.216072Z",
     "shell.execute_reply": "2022-10-13T22:55:08.215529Z"
    }
   },
   "outputs": [
    {
     "data": {
      "text/plain": [
       "0.0           NaN\n",
       "0.1      0.010306\n",
       "0.2      0.077472\n",
       "0.3      1.143194\n",
       "0.4      9.796417\n",
       "0.5      5.615389\n",
       "0.6      7.908444\n",
       "0.7     93.972944\n",
       "0.8    171.744778\n",
       "0.9    278.829083\n",
       "Name: time_to_merge, dtype: float64"
      ]
     },
     "execution_count": 25,
     "metadata": {},
     "output_type": "execute_result"
    }
   ],
   "source": [
    "# gaps between the buckets (i.e. size of each bucket) in hours\n",
    "(quantiles - quantiles.shift()) / 3600"
   ]
  },
  {
   "cell_type": "markdown",
   "id": "7111b3d8",
   "metadata": {},
   "source": [
    "If we want to frame our ML problem as a classification problem, we can use the above buckets to define the classes."
   ]
  },
  {
   "cell_type": "markdown",
   "id": "21dc2dcf",
   "metadata": {},
   "source": [
    "**Body**\n",
    "\n",
    "Here, we will derive a feature called `body_size` which will simply be the number of words in the body of the PR. We can use this numerical value to describe the body of the PR."
   ]
  },
  {
   "cell_type": "code",
   "execution_count": 26,
   "id": "212f8a44",
   "metadata": {
    "execution": {
     "iopub.execute_input": "2022-10-13T22:55:08.219568Z",
     "iopub.status.busy": "2022-10-13T22:55:08.219045Z",
     "iopub.status.idle": "2022-10-13T22:55:08.224591Z",
     "shell.execute_reply": "2022-10-13T22:55:08.224023Z"
    }
   },
   "outputs": [],
   "source": [
    "# derive body_size\n",
    "pr_df[\"body_size\"] = pr_df[\"body\"].fillna(\"\").apply(lambda x: len(x.split()))"
   ]
  },
  {
   "cell_type": "code",
   "execution_count": 27,
   "id": "c62d9484",
   "metadata": {
    "execution": {
     "iopub.execute_input": "2022-10-13T22:55:08.228564Z",
     "iopub.status.busy": "2022-10-13T22:55:08.227346Z",
     "iopub.status.idle": "2022-10-13T22:55:08.234690Z",
     "shell.execute_reply": "2022-10-13T22:55:08.234126Z"
    }
   },
   "outputs": [
    {
     "data": {
      "text/plain": [
       "0      0\n",
       "1      0\n",
       "2      0\n",
       "3      0\n",
       "4      6\n",
       "      ..\n",
       "89    48\n",
       "90    16\n",
       "91    38\n",
       "92    34\n",
       "93     3\n",
       "Name: body_size, Length: 94, dtype: int64"
      ]
     },
     "execution_count": 27,
     "metadata": {},
     "output_type": "execute_result"
    }
   ],
   "source": [
    "pr_df[\"body_size\"]"
   ]
  },
  {
   "cell_type": "markdown",
   "id": "9916fd09",
   "metadata": {},
   "source": [
    "**Size**\n",
    "\n",
    "We can attempt to convert the categorical size label generated by GitHub, which summarizes the size of the changes made to the code base, to a numerical value. "
   ]
  },
  {
   "cell_type": "code",
   "execution_count": 28,
   "id": "cbc553ee-3e0b-45ed-83f6-02ae860bef85",
   "metadata": {
    "execution": {
     "iopub.execute_input": "2022-10-13T22:55:08.238045Z",
     "iopub.status.busy": "2022-10-13T22:55:08.237495Z",
     "iopub.status.idle": "2022-10-13T22:55:08.243945Z",
     "shell.execute_reply": "2022-10-13T22:55:08.243322Z"
    }
   },
   "outputs": [
    {
     "data": {
      "text/plain": [
       "{'L', 'M', 'S', 'XL', 'XS', 'XXL'}"
      ]
     },
     "execution_count": 28,
     "metadata": {},
     "output_type": "execute_result"
    }
   ],
   "source": [
    "set(pr_df['size'])"
   ]
  },
  {
   "cell_type": "code",
   "execution_count": 29,
   "id": "709b4cf9",
   "metadata": {
    "execution": {
     "iopub.execute_input": "2022-10-13T22:55:08.247215Z",
     "iopub.status.busy": "2022-10-13T22:55:08.246862Z",
     "iopub.status.idle": "2022-10-13T22:55:08.253475Z",
     "shell.execute_reply": "2022-10-13T22:55:08.252902Z"
    }
   },
   "outputs": [],
   "source": [
    "convert_size = {\"size\": {\"NaN\": 0, \"XS\": 0, \"S\": 1, \"M\": 2, \"L\": 3, \"XL\": 4, \"XXL\": 5}}\n",
    "pr_df = pr_df.replace(convert_size)"
   ]
  },
  {
   "cell_type": "markdown",
   "id": "0b803d48",
   "metadata": {},
   "source": [
    "**Title**\n",
    "\n",
    "Lets try to see if the PR title text can be used to extract any useful information regarding the PR."
   ]
  },
  {
   "cell_type": "code",
   "execution_count": 30,
   "id": "020f050a",
   "metadata": {
    "execution": {
     "iopub.execute_input": "2022-10-13T22:55:08.256845Z",
     "iopub.status.busy": "2022-10-13T22:55:08.256492Z",
     "iopub.status.idle": "2022-10-13T22:55:08.266072Z",
     "shell.execute_reply": "2022-10-13T22:55:08.265500Z"
    }
   },
   "outputs": [
    {
     "data": {
      "text/plain": [
       "0                              add knikolla and cleanup\n",
       "1     pre commit to clean up existing errors  traili...\n",
       "2                                          add knikolla\n",
       "3                      create 20221006 meeting notes md\n",
       "4         update wording to be more open and inclusive \n",
       "                            ...                        \n",
       "89                  created a new document for glossary\n",
       "90           update the resource limit for the prowjobs\n",
       "91                             front page content draft\n",
       "92        created from existing messages for hacking on\n",
       "93                           chore  add quaid to owners\n",
       "Name: title, Length: 94, dtype: object"
      ]
     },
     "execution_count": 30,
     "metadata": {},
     "output_type": "execute_result"
    }
   ],
   "source": [
    "# first lets preprocess the text available in the titles\n",
    "\n",
    "# convert to lowercase\n",
    "preproc_titles = pr_df[\"title\"].str.lower()\n",
    "\n",
    "# remove punctuations and symbols like : ; , # ( ) [ ] etc\n",
    "preproc_titles = preproc_titles.str.replace(r'[`#-.?!,:;\\/()\\[\\]\"\\']', \" \", regex=True)\n",
    "\n",
    "# remove hash-like strings i.e. 25+ char long strings containing 0-9 or a-f\n",
    "preproc_titles = preproc_titles.str.replace(r\"[0-9a-f]{25,}\", \" \", regex=True)\n",
    "\n",
    "preproc_titles"
   ]
  },
  {
   "cell_type": "code",
   "execution_count": 31,
   "id": "2ecc397e",
   "metadata": {
    "execution": {
     "iopub.execute_input": "2022-10-13T22:55:08.269478Z",
     "iopub.status.busy": "2022-10-13T22:55:08.269140Z",
     "iopub.status.idle": "2022-10-13T22:55:08.483033Z",
     "shell.execute_reply": "2022-10-13T22:55:08.482280Z"
    }
   },
   "outputs": [
    {
     "data": {
      "image/png": "[encoded data removed]",
      "text/plain": [
       "<Figure size 432x288 with 1 Axes>"
      ]
     },
     "metadata": {
      "needs_background": "light"
     },
     "output_type": "display_data"
    }
   ],
   "source": [
    "# what are the most commonly appearing words in the titles\n",
    "\n",
    "# combin all titles and split into words\n",
    "words = preproc_titles.str.cat(sep=\" \").split()\n",
    "\n",
    "# remove stopwords and numbers (e.g. bugzilla ids)\n",
    "words = [w for w in words if w not in set(STOPWORDS) and not w.isnumeric()]\n",
    "\n",
    "# word frequencies\n",
    "unique_words, counts = np.unique(words, return_counts=True)\n",
    "vc = pd.Series(counts, index=unique_words).sort_values(ascending=False)\n",
    "\n",
    "# plot the 20 most common words\n",
    "sns.barplot(\n",
    "    x=vc.index[:20],\n",
    "    y=vc.values[:20],\n",
    ")\n",
    "plt.xticks(rotation=90)\n",
    "plt.title(\"Top word frequencies in the PR Titles\")\n",
    "plt.xlabel(\"words\")\n",
    "plt.ylabel(\"count\")\n",
    "plt.show()"
   ]
  },
  {
   "cell_type": "markdown",
   "id": "c52f211c",
   "metadata": {},
   "source": [
    "From the above graph, we can see that titles often contain some keywords that can hint towards the type of changes being made in the PR. We will create a feature which is a vector indicating how many times each word appeared in the title. This way, even if a less prominent word is more correlated with time_to_merge, we will be able to capture that relationship."
   ]
  },
  {
   "cell_type": "code",
   "execution_count": 32,
   "id": "65279268",
   "metadata": {
    "execution": {
     "iopub.execute_input": "2022-10-13T22:55:08.486620Z",
     "iopub.status.busy": "2022-10-13T22:55:08.485968Z",
     "iopub.status.idle": "2022-10-13T22:55:09.607491Z",
     "shell.execute_reply": "2022-10-13T22:55:09.606812Z"
    }
   },
   "outputs": [
    {
     "name": "stderr",
     "output_type": "stream",
     "text": [
      "  0%|          | 0/226 [00:00<?, ?it/s]/tmp/ipykernel_383/4191214648.py:3: PerformanceWarning: DataFrame is highly fragmented.  This is usually the result of calling `frame.insert` many times, which has poor performance.  Consider joining all columns at once using pd.concat(axis=1) instead. To get a de-fragmented frame, use `newframe = frame.copy()`\n",
      "  pr_df[f\"title_wordcount_{word}\"] = preproc_titles.apply(\n",
      " 43%|████▎     | 97/226 [00:00<00:00, 451.04it/s]/tmp/ipykernel_383/4191214648.py:3: PerformanceWarning: DataFrame is highly fragmented.  This is usually the result of calling `frame.insert` many times, which has poor performance.  Consider joining all columns at once using pd.concat(axis=1) instead. To get a de-fragmented frame, use `newframe = frame.copy()`\n",
      "  pr_df[f\"title_wordcount_{word}\"] = preproc_titles.apply(\n",
      "/tmp/ipykernel_383/4191214648.py:3: PerformanceWarning: DataFrame is highly fragmented.  This is usually the result of calling `frame.insert` many times, which has poor performance.  Consider joining all columns at once using pd.concat(axis=1) instead. To get a de-fragmented frame, use `newframe = frame.copy()`\n",
      "  pr_df[f\"title_wordcount_{word}\"] = preproc_titles.apply(\n",
      "/tmp/ipykernel_383/4191214648.py:3: PerformanceWarning: DataFrame is highly fragmented.  This is usually the result of calling `frame.insert` many times, which has poor performance.  Consider joining all columns at once using pd.concat(axis=1) instead. To get a de-fragmented frame, use `newframe = frame.copy()`\n",
      "  pr_df[f\"title_wordcount_{word}\"] = preproc_titles.apply(\n",
      "/tmp/ipykernel_383/4191214648.py:3: PerformanceWarning: DataFrame is highly fragmented.  This is usually the result of calling `frame.insert` many times, which has poor performance.  Consider joining all columns at once using pd.concat(axis=1) instead. To get a de-fragmented frame, use `newframe = frame.copy()`\n",
      "  pr_df[f\"title_wordcount_{word}\"] = preproc_titles.apply(\n",
      "/tmp/ipykernel_383/4191214648.py:3: PerformanceWarning: DataFrame is highly fragmented.  This is usually the result of calling `frame.insert` many times, which has poor performance.  Consider joining all columns at once using pd.concat(axis=1) instead. To get a de-fragmented frame, use `newframe = frame.copy()`\n",
      "  pr_df[f\"title_wordcount_{word}\"] = preproc_titles.apply(\n",
      "/tmp/ipykernel_383/4191214648.py:3: PerformanceWarning: DataFrame is highly fragmented.  This is usually the result of calling `frame.insert` many times, which has poor performance.  Consider joining all columns at once using pd.concat(axis=1) instead. To get a de-fragmented frame, use `newframe = frame.copy()`\n",
      "  pr_df[f\"title_wordcount_{word}\"] = preproc_titles.apply(\n",
      "/tmp/ipykernel_383/4191214648.py:3: PerformanceWarning: DataFrame is highly fragmented.  This is usually the result of calling `frame.insert` many times, which has poor performance.  Consider joining all columns at once using pd.concat(axis=1) instead. To get a de-fragmented frame, use `newframe = frame.copy()`\n",
      "  pr_df[f\"title_wordcount_{word}\"] = preproc_titles.apply(\n",
      "/tmp/ipykernel_383/4191214648.py:3: PerformanceWarning: DataFrame is highly fragmented.  This is usually the result of calling `frame.insert` many times, which has poor performance.  Consider joining all columns at once using pd.concat(axis=1) instead. To get a de-fragmented frame, use `newframe = frame.copy()`\n",
      "  pr_df[f\"title_wordcount_{word}\"] = preproc_titles.apply(\n",
      "/tmp/ipykernel_383/4191214648.py:3: PerformanceWarning: DataFrame is highly fragmented.  This is usually the result of calling `frame.insert` many times, which has poor performance.  Consider joining all columns at once using pd.concat(axis=1) instead. To get a de-fragmented frame, use `newframe = frame.copy()`\n",
      "  pr_df[f\"title_wordcount_{word}\"] = preproc_titles.apply(\n",
      "/tmp/ipykernel_383/4191214648.py:3: PerformanceWarning: DataFrame is highly fragmented.  This is usually the result of calling `frame.insert` many times, which has poor performance.  Consider joining all columns at once using pd.concat(axis=1) instead. To get a de-fragmented frame, use `newframe = frame.copy()`\n",
      "  pr_df[f\"title_wordcount_{word}\"] = preproc_titles.apply(\n",
      "/tmp/ipykernel_383/4191214648.py:3: PerformanceWarning: DataFrame is highly fragmented.  This is usually the result of calling `frame.insert` many times, which has poor performance.  Consider joining all columns at once using pd.concat(axis=1) instead. To get a de-fragmented frame, use `newframe = frame.copy()`\n",
      "  pr_df[f\"title_wordcount_{word}\"] = preproc_titles.apply(\n",
      "/tmp/ipykernel_383/4191214648.py:3: PerformanceWarning: DataFrame is highly fragmented.  This is usually the result of calling `frame.insert` many times, which has poor performance.  Consider joining all columns at once using pd.concat(axis=1) instead. To get a de-fragmented frame, use `newframe = frame.copy()`\n",
      "  pr_df[f\"title_wordcount_{word}\"] = preproc_titles.apply(\n",
      "/tmp/ipykernel_383/4191214648.py:3: PerformanceWarning: DataFrame is highly fragmented.  This is usually the result of calling `frame.insert` many times, which has poor performance.  Consider joining all columns at once using pd.concat(axis=1) instead. To get a de-fragmented frame, use `newframe = frame.copy()`\n",
      "  pr_df[f\"title_wordcount_{word}\"] = preproc_titles.apply(\n",
      "/tmp/ipykernel_383/4191214648.py:3: PerformanceWarning: DataFrame is highly fragmented.  This is usually the result of calling `frame.insert` many times, which has poor performance.  Consider joining all columns at once using pd.concat(axis=1) instead. To get a de-fragmented frame, use `newframe = frame.copy()`\n",
      "  pr_df[f\"title_wordcount_{word}\"] = preproc_titles.apply(\n",
      "/tmp/ipykernel_383/4191214648.py:3: PerformanceWarning: DataFrame is highly fragmented.  This is usually the result of calling `frame.insert` many times, which has poor performance.  Consider joining all columns at once using pd.concat(axis=1) instead. To get a de-fragmented frame, use `newframe = frame.copy()`\n",
      "  pr_df[f\"title_wordcount_{word}\"] = preproc_titles.apply(\n",
      "/tmp/ipykernel_383/4191214648.py:3: PerformanceWarning: DataFrame is highly fragmented.  This is usually the result of calling `frame.insert` many times, which has poor performance.  Consider joining all columns at once using pd.concat(axis=1) instead. To get a de-fragmented frame, use `newframe = frame.copy()`\n",
      "  pr_df[f\"title_wordcount_{word}\"] = preproc_titles.apply(\n",
      "/tmp/ipykernel_383/4191214648.py:3: PerformanceWarning: DataFrame is highly fragmented.  This is usually the result of calling `frame.insert` many times, which has poor performance.  Consider joining all columns at once using pd.concat(axis=1) instead. To get a de-fragmented frame, use `newframe = frame.copy()`\n",
      "  pr_df[f\"title_wordcount_{word}\"] = preproc_titles.apply(\n",
      "/tmp/ipykernel_383/4191214648.py:3: PerformanceWarning: DataFrame is highly fragmented.  This is usually the result of calling `frame.insert` many times, which has poor performance.  Consider joining all columns at once using pd.concat(axis=1) instead. To get a de-fragmented frame, use `newframe = frame.copy()`\n",
      "  pr_df[f\"title_wordcount_{word}\"] = preproc_titles.apply(\n",
      "/tmp/ipykernel_383/4191214648.py:3: PerformanceWarning: DataFrame is highly fragmented.  This is usually the result of calling `frame.insert` many times, which has poor performance.  Consider joining all columns at once using pd.concat(axis=1) instead. To get a de-fragmented frame, use `newframe = frame.copy()`\n",
      "  pr_df[f\"title_wordcount_{word}\"] = preproc_titles.apply(\n",
      "/tmp/ipykernel_383/4191214648.py:3: PerformanceWarning: DataFrame is highly fragmented.  This is usually the result of calling `frame.insert` many times, which has poor performance.  Consider joining all columns at once using pd.concat(axis=1) instead. To get a de-fragmented frame, use `newframe = frame.copy()`\n",
      "  pr_df[f\"title_wordcount_{word}\"] = preproc_titles.apply(\n",
      "/tmp/ipykernel_383/4191214648.py:3: PerformanceWarning: DataFrame is highly fragmented.  This is usually the result of calling `frame.insert` many times, which has poor performance.  Consider joining all columns at once using pd.concat(axis=1) instead. To get a de-fragmented frame, use `newframe = frame.copy()`\n",
      "  pr_df[f\"title_wordcount_{word}\"] = preproc_titles.apply(\n",
      "/tmp/ipykernel_383/4191214648.py:3: PerformanceWarning: DataFrame is highly fragmented.  This is usually the result of calling `frame.insert` many times, which has poor performance.  Consider joining all columns at once using pd.concat(axis=1) instead. To get a de-fragmented frame, use `newframe = frame.copy()`\n",
      "  pr_df[f\"title_wordcount_{word}\"] = preproc_titles.apply(\n",
      "/tmp/ipykernel_383/4191214648.py:3: PerformanceWarning: DataFrame is highly fragmented.  This is usually the result of calling `frame.insert` many times, which has poor performance.  Consider joining all columns at once using pd.concat(axis=1) instead. To get a de-fragmented frame, use `newframe = frame.copy()`\n",
      "  pr_df[f\"title_wordcount_{word}\"] = preproc_titles.apply(\n",
      "/tmp/ipykernel_383/4191214648.py:3: PerformanceWarning: DataFrame is highly fragmented.  This is usually the result of calling `frame.insert` many times, which has poor performance.  Consider joining all columns at once using pd.concat(axis=1) instead. To get a de-fragmented frame, use `newframe = frame.copy()`\n",
      "  pr_df[f\"title_wordcount_{word}\"] = preproc_titles.apply(\n",
      "/tmp/ipykernel_383/4191214648.py:3: PerformanceWarning: DataFrame is highly fragmented.  This is usually the result of calling `frame.insert` many times, which has poor performance.  Consider joining all columns at once using pd.concat(axis=1) instead. To get a de-fragmented frame, use `newframe = frame.copy()`\n",
      "  pr_df[f\"title_wordcount_{word}\"] = preproc_titles.apply(\n",
      "/tmp/ipykernel_383/4191214648.py:3: PerformanceWarning: DataFrame is highly fragmented.  This is usually the result of calling `frame.insert` many times, which has poor performance.  Consider joining all columns at once using pd.concat(axis=1) instead. To get a de-fragmented frame, use `newframe = frame.copy()`\n",
      "  pr_df[f\"title_wordcount_{word}\"] = preproc_titles.apply(\n",
      "/tmp/ipykernel_383/4191214648.py:3: PerformanceWarning: DataFrame is highly fragmented.  This is usually the result of calling `frame.insert` many times, which has poor performance.  Consider joining all columns at once using pd.concat(axis=1) instead. To get a de-fragmented frame, use `newframe = frame.copy()`\n",
      "  pr_df[f\"title_wordcount_{word}\"] = preproc_titles.apply(\n",
      "/tmp/ipykernel_383/4191214648.py:3: PerformanceWarning: DataFrame is highly fragmented.  This is usually the result of calling `frame.insert` many times, which has poor performance.  Consider joining all columns at once using pd.concat(axis=1) instead. To get a de-fragmented frame, use `newframe = frame.copy()`\n",
      "  pr_df[f\"title_wordcount_{word}\"] = preproc_titles.apply(\n",
      "/tmp/ipykernel_383/4191214648.py:3: PerformanceWarning: DataFrame is highly fragmented.  This is usually the result of calling `frame.insert` many times, which has poor performance.  Consider joining all columns at once using pd.concat(axis=1) instead. To get a de-fragmented frame, use `newframe = frame.copy()`\n",
      "  pr_df[f\"title_wordcount_{word}\"] = preproc_titles.apply(\n",
      "/tmp/ipykernel_383/4191214648.py:3: PerformanceWarning: DataFrame is highly fragmented.  This is usually the result of calling `frame.insert` many times, which has poor performance.  Consider joining all columns at once using pd.concat(axis=1) instead. To get a de-fragmented frame, use `newframe = frame.copy()`\n",
      "  pr_df[f\"title_wordcount_{word}\"] = preproc_titles.apply(\n",
      "/tmp/ipykernel_383/4191214648.py:3: PerformanceWarning: DataFrame is highly fragmented.  This is usually the result of calling `frame.insert` many times, which has poor performance.  Consider joining all columns at once using pd.concat(axis=1) instead. To get a de-fragmented frame, use `newframe = frame.copy()`\n",
      "  pr_df[f\"title_wordcount_{word}\"] = preproc_titles.apply(\n",
      "/tmp/ipykernel_383/4191214648.py:3: PerformanceWarning: DataFrame is highly fragmented.  This is usually the result of calling `frame.insert` many times, which has poor performance.  Consider joining all columns at once using pd.concat(axis=1) instead. To get a de-fragmented frame, use `newframe = frame.copy()`\n",
      "  pr_df[f\"title_wordcount_{word}\"] = preproc_titles.apply(\n",
      "/tmp/ipykernel_383/4191214648.py:3: PerformanceWarning: DataFrame is highly fragmented.  This is usually the result of calling `frame.insert` many times, which has poor performance.  Consider joining all columns at once using pd.concat(axis=1) instead. To get a de-fragmented frame, use `newframe = frame.copy()`\n",
      "  pr_df[f\"title_wordcount_{word}\"] = preproc_titles.apply(\n",
      "/tmp/ipykernel_383/4191214648.py:3: PerformanceWarning: DataFrame is highly fragmented.  This is usually the result of calling `frame.insert` many times, which has poor performance.  Consider joining all columns at once using pd.concat(axis=1) instead. To get a de-fragmented frame, use `newframe = frame.copy()`\n",
      "  pr_df[f\"title_wordcount_{word}\"] = preproc_titles.apply(\n",
      "/tmp/ipykernel_383/4191214648.py:3: PerformanceWarning: DataFrame is highly fragmented.  This is usually the result of calling `frame.insert` many times, which has poor performance.  Consider joining all columns at once using pd.concat(axis=1) instead. To get a de-fragmented frame, use `newframe = frame.copy()`\n",
      "  pr_df[f\"title_wordcount_{word}\"] = preproc_titles.apply(\n",
      "/tmp/ipykernel_383/4191214648.py:3: PerformanceWarning: DataFrame is highly fragmented.  This is usually the result of calling `frame.insert` many times, which has poor performance.  Consider joining all columns at once using pd.concat(axis=1) instead. To get a de-fragmented frame, use `newframe = frame.copy()`\n",
      "  pr_df[f\"title_wordcount_{word}\"] = preproc_titles.apply(\n",
      "/tmp/ipykernel_383/4191214648.py:3: PerformanceWarning: DataFrame is highly fragmented.  This is usually the result of calling `frame.insert` many times, which has poor performance.  Consider joining all columns at once using pd.concat(axis=1) instead. To get a de-fragmented frame, use `newframe = frame.copy()`\n",
      "  pr_df[f\"title_wordcount_{word}\"] = preproc_titles.apply(\n",
      "/tmp/ipykernel_383/4191214648.py:3: PerformanceWarning: DataFrame is highly fragmented.  This is usually the result of calling `frame.insert` many times, which has poor performance.  Consider joining all columns at once using pd.concat(axis=1) instead. To get a de-fragmented frame, use `newframe = frame.copy()`\n",
      "  pr_df[f\"title_wordcount_{word}\"] = preproc_titles.apply(\n",
      "/tmp/ipykernel_383/4191214648.py:3: PerformanceWarning: DataFrame is highly fragmented.  This is usually the result of calling `frame.insert` many times, which has poor performance.  Consider joining all columns at once using pd.concat(axis=1) instead. To get a de-fragmented frame, use `newframe = frame.copy()`\n",
      "  pr_df[f\"title_wordcount_{word}\"] = preproc_titles.apply(\n",
      "/tmp/ipykernel_383/4191214648.py:3: PerformanceWarning: DataFrame is highly fragmented.  This is usually the result of calling `frame.insert` many times, which has poor performance.  Consider joining all columns at once using pd.concat(axis=1) instead. To get a de-fragmented frame, use `newframe = frame.copy()`\n",
      "  pr_df[f\"title_wordcount_{word}\"] = preproc_titles.apply(\n",
      "/tmp/ipykernel_383/4191214648.py:3: PerformanceWarning: DataFrame is highly fragmented.  This is usually the result of calling `frame.insert` many times, which has poor performance.  Consider joining all columns at once using pd.concat(axis=1) instead. To get a de-fragmented frame, use `newframe = frame.copy()`\n",
      "  pr_df[f\"title_wordcount_{word}\"] = preproc_titles.apply(\n",
      "/tmp/ipykernel_383/4191214648.py:3: PerformanceWarning: DataFrame is highly fragmented.  This is usually the result of calling `frame.insert` many times, which has poor performance.  Consider joining all columns at once using pd.concat(axis=1) instead. To get a de-fragmented frame, use `newframe = frame.copy()`\n",
      "  pr_df[f\"title_wordcount_{word}\"] = preproc_titles.apply(\n",
      "/tmp/ipykernel_383/4191214648.py:3: PerformanceWarning: DataFrame is highly fragmented.  This is usually the result of calling `frame.insert` many times, which has poor performance.  Consider joining all columns at once using pd.concat(axis=1) instead. To get a de-fragmented frame, use `newframe = frame.copy()`\n",
      "  pr_df[f\"title_wordcount_{word}\"] = preproc_titles.apply(\n",
      "/tmp/ipykernel_383/4191214648.py:3: PerformanceWarning: DataFrame is highly fragmented.  This is usually the result of calling `frame.insert` many times, which has poor performance.  Consider joining all columns at once using pd.concat(axis=1) instead. To get a de-fragmented frame, use `newframe = frame.copy()`\n",
      "  pr_df[f\"title_wordcount_{word}\"] = preproc_titles.apply(\n",
      "/tmp/ipykernel_383/4191214648.py:3: PerformanceWarning: DataFrame is highly fragmented.  This is usually the result of calling `frame.insert` many times, which has poor performance.  Consider joining all columns at once using pd.concat(axis=1) instead. To get a de-fragmented frame, use `newframe = frame.copy()`\n",
      "  pr_df[f\"title_wordcount_{word}\"] = preproc_titles.apply(\n",
      "/tmp/ipykernel_383/4191214648.py:3: PerformanceWarning: DataFrame is highly fragmented.  This is usually the result of calling `frame.insert` many times, which has poor performance.  Consider joining all columns at once using pd.concat(axis=1) instead. To get a de-fragmented frame, use `newframe = frame.copy()`\n",
      "  pr_df[f\"title_wordcount_{word}\"] = preproc_titles.apply(\n",
      " 63%|██████▎   | 143/226 [00:00<00:00, 240.42it/s]/tmp/ipykernel_383/4191214648.py:3: PerformanceWarning: DataFrame is highly fragmented.  This is usually the result of calling `frame.insert` many times, which has poor performance.  Consider joining all columns at once using pd.concat(axis=1) instead. To get a de-fragmented frame, use `newframe = frame.copy()`\n",
      "  pr_df[f\"title_wordcount_{word}\"] = preproc_titles.apply(\n",
      "/tmp/ipykernel_383/4191214648.py:3: PerformanceWarning: DataFrame is highly fragmented.  This is usually the result of calling `frame.insert` many times, which has poor performance.  Consider joining all columns at once using pd.concat(axis=1) instead. To get a de-fragmented frame, use `newframe = frame.copy()`\n",
      "  pr_df[f\"title_wordcount_{word}\"] = preproc_titles.apply(\n",
      "/tmp/ipykernel_383/4191214648.py:3: PerformanceWarning: DataFrame is highly fragmented.  This is usually the result of calling `frame.insert` many times, which has poor performance.  Consider joining all columns at once using pd.concat(axis=1) instead. To get a de-fragmented frame, use `newframe = frame.copy()`\n",
      "  pr_df[f\"title_wordcount_{word}\"] = preproc_titles.apply(\n",
      "/tmp/ipykernel_383/4191214648.py:3: PerformanceWarning: DataFrame is highly fragmented.  This is usually the result of calling `frame.insert` many times, which has poor performance.  Consider joining all columns at once using pd.concat(axis=1) instead. To get a de-fragmented frame, use `newframe = frame.copy()`\n",
      "  pr_df[f\"title_wordcount_{word}\"] = preproc_titles.apply(\n",
      "/tmp/ipykernel_383/4191214648.py:3: PerformanceWarning: DataFrame is highly fragmented.  This is usually the result of calling `frame.insert` many times, which has poor performance.  Consider joining all columns at once using pd.concat(axis=1) instead. To get a de-fragmented frame, use `newframe = frame.copy()`\n",
      "  pr_df[f\"title_wordcount_{word}\"] = preproc_titles.apply(\n",
      "/tmp/ipykernel_383/4191214648.py:3: PerformanceWarning: DataFrame is highly fragmented.  This is usually the result of calling `frame.insert` many times, which has poor performance.  Consider joining all columns at once using pd.concat(axis=1) instead. To get a de-fragmented frame, use `newframe = frame.copy()`\n",
      "  pr_df[f\"title_wordcount_{word}\"] = preproc_titles.apply(\n",
      "/tmp/ipykernel_383/4191214648.py:3: PerformanceWarning: DataFrame is highly fragmented.  This is usually the result of calling `frame.insert` many times, which has poor performance.  Consider joining all columns at once using pd.concat(axis=1) instead. To get a de-fragmented frame, use `newframe = frame.copy()`\n",
      "  pr_df[f\"title_wordcount_{word}\"] = preproc_titles.apply(\n",
      "/tmp/ipykernel_383/4191214648.py:3: PerformanceWarning: DataFrame is highly fragmented.  This is usually the result of calling `frame.insert` many times, which has poor performance.  Consider joining all columns at once using pd.concat(axis=1) instead. To get a de-fragmented frame, use `newframe = frame.copy()`\n",
      "  pr_df[f\"title_wordcount_{word}\"] = preproc_titles.apply(\n",
      "/tmp/ipykernel_383/4191214648.py:3: PerformanceWarning: DataFrame is highly fragmented.  This is usually the result of calling `frame.insert` many times, which has poor performance.  Consider joining all columns at once using pd.concat(axis=1) instead. To get a de-fragmented frame, use `newframe = frame.copy()`\n",
      "  pr_df[f\"title_wordcount_{word}\"] = preproc_titles.apply(\n",
      "/tmp/ipykernel_383/4191214648.py:3: PerformanceWarning: DataFrame is highly fragmented.  This is usually the result of calling `frame.insert` many times, which has poor performance.  Consider joining all columns at once using pd.concat(axis=1) instead. To get a de-fragmented frame, use `newframe = frame.copy()`\n",
      "  pr_df[f\"title_wordcount_{word}\"] = preproc_titles.apply(\n",
      "/tmp/ipykernel_383/4191214648.py:3: PerformanceWarning: DataFrame is highly fragmented.  This is usually the result of calling `frame.insert` many times, which has poor performance.  Consider joining all columns at once using pd.concat(axis=1) instead. To get a de-fragmented frame, use `newframe = frame.copy()`\n",
      "  pr_df[f\"title_wordcount_{word}\"] = preproc_titles.apply(\n",
      "/tmp/ipykernel_383/4191214648.py:3: PerformanceWarning: DataFrame is highly fragmented.  This is usually the result of calling `frame.insert` many times, which has poor performance.  Consider joining all columns at once using pd.concat(axis=1) instead. To get a de-fragmented frame, use `newframe = frame.copy()`\n",
      "  pr_df[f\"title_wordcount_{word}\"] = preproc_titles.apply(\n",
      "/tmp/ipykernel_383/4191214648.py:3: PerformanceWarning: DataFrame is highly fragmented.  This is usually the result of calling `frame.insert` many times, which has poor performance.  Consider joining all columns at once using pd.concat(axis=1) instead. To get a de-fragmented frame, use `newframe = frame.copy()`\n",
      "  pr_df[f\"title_wordcount_{word}\"] = preproc_titles.apply(\n",
      "/tmp/ipykernel_383/4191214648.py:3: PerformanceWarning: DataFrame is highly fragmented.  This is usually the result of calling `frame.insert` many times, which has poor performance.  Consider joining all columns at once using pd.concat(axis=1) instead. To get a de-fragmented frame, use `newframe = frame.copy()`\n",
      "  pr_df[f\"title_wordcount_{word}\"] = preproc_titles.apply(\n",
      "/tmp/ipykernel_383/4191214648.py:3: PerformanceWarning: DataFrame is highly fragmented.  This is usually the result of calling `frame.insert` many times, which has poor performance.  Consider joining all columns at once using pd.concat(axis=1) instead. To get a de-fragmented frame, use `newframe = frame.copy()`\n",
      "  pr_df[f\"title_wordcount_{word}\"] = preproc_titles.apply(\n",
      "/tmp/ipykernel_383/4191214648.py:3: PerformanceWarning: DataFrame is highly fragmented.  This is usually the result of calling `frame.insert` many times, which has poor performance.  Consider joining all columns at once using pd.concat(axis=1) instead. To get a de-fragmented frame, use `newframe = frame.copy()`\n",
      "  pr_df[f\"title_wordcount_{word}\"] = preproc_titles.apply(\n",
      "/tmp/ipykernel_383/4191214648.py:3: PerformanceWarning: DataFrame is highly fragmented.  This is usually the result of calling `frame.insert` many times, which has poor performance.  Consider joining all columns at once using pd.concat(axis=1) instead. To get a de-fragmented frame, use `newframe = frame.copy()`\n",
      "  pr_df[f\"title_wordcount_{word}\"] = preproc_titles.apply(\n",
      "/tmp/ipykernel_383/4191214648.py:3: PerformanceWarning: DataFrame is highly fragmented.  This is usually the result of calling `frame.insert` many times, which has poor performance.  Consider joining all columns at once using pd.concat(axis=1) instead. To get a de-fragmented frame, use `newframe = frame.copy()`\n",
      "  pr_df[f\"title_wordcount_{word}\"] = preproc_titles.apply(\n",
      "/tmp/ipykernel_383/4191214648.py:3: PerformanceWarning: DataFrame is highly fragmented.  This is usually the result of calling `frame.insert` many times, which has poor performance.  Consider joining all columns at once using pd.concat(axis=1) instead. To get a de-fragmented frame, use `newframe = frame.copy()`\n",
      "  pr_df[f\"title_wordcount_{word}\"] = preproc_titles.apply(\n",
      "/tmp/ipykernel_383/4191214648.py:3: PerformanceWarning: DataFrame is highly fragmented.  This is usually the result of calling `frame.insert` many times, which has poor performance.  Consider joining all columns at once using pd.concat(axis=1) instead. To get a de-fragmented frame, use `newframe = frame.copy()`\n",
      "  pr_df[f\"title_wordcount_{word}\"] = preproc_titles.apply(\n",
      "/tmp/ipykernel_383/4191214648.py:3: PerformanceWarning: DataFrame is highly fragmented.  This is usually the result of calling `frame.insert` many times, which has poor performance.  Consider joining all columns at once using pd.concat(axis=1) instead. To get a de-fragmented frame, use `newframe = frame.copy()`\n",
      "  pr_df[f\"title_wordcount_{word}\"] = preproc_titles.apply(\n",
      "/tmp/ipykernel_383/4191214648.py:3: PerformanceWarning: DataFrame is highly fragmented.  This is usually the result of calling `frame.insert` many times, which has poor performance.  Consider joining all columns at once using pd.concat(axis=1) instead. To get a de-fragmented frame, use `newframe = frame.copy()`\n",
      "  pr_df[f\"title_wordcount_{word}\"] = preproc_titles.apply(\n",
      "/tmp/ipykernel_383/4191214648.py:3: PerformanceWarning: DataFrame is highly fragmented.  This is usually the result of calling `frame.insert` many times, which has poor performance.  Consider joining all columns at once using pd.concat(axis=1) instead. To get a de-fragmented frame, use `newframe = frame.copy()`\n",
      "  pr_df[f\"title_wordcount_{word}\"] = preproc_titles.apply(\n",
      "/tmp/ipykernel_383/4191214648.py:3: PerformanceWarning: DataFrame is highly fragmented.  This is usually the result of calling `frame.insert` many times, which has poor performance.  Consider joining all columns at once using pd.concat(axis=1) instead. To get a de-fragmented frame, use `newframe = frame.copy()`\n",
      "  pr_df[f\"title_wordcount_{word}\"] = preproc_titles.apply(\n",
      "/tmp/ipykernel_383/4191214648.py:3: PerformanceWarning: DataFrame is highly fragmented.  This is usually the result of calling `frame.insert` many times, which has poor performance.  Consider joining all columns at once using pd.concat(axis=1) instead. To get a de-fragmented frame, use `newframe = frame.copy()`\n",
      "  pr_df[f\"title_wordcount_{word}\"] = preproc_titles.apply(\n",
      "/tmp/ipykernel_383/4191214648.py:3: PerformanceWarning: DataFrame is highly fragmented.  This is usually the result of calling `frame.insert` many times, which has poor performance.  Consider joining all columns at once using pd.concat(axis=1) instead. To get a de-fragmented frame, use `newframe = frame.copy()`\n",
      "  pr_df[f\"title_wordcount_{word}\"] = preproc_titles.apply(\n",
      "/tmp/ipykernel_383/4191214648.py:3: PerformanceWarning: DataFrame is highly fragmented.  This is usually the result of calling `frame.insert` many times, which has poor performance.  Consider joining all columns at once using pd.concat(axis=1) instead. To get a de-fragmented frame, use `newframe = frame.copy()`\n",
      "  pr_df[f\"title_wordcount_{word}\"] = preproc_titles.apply(\n",
      " 75%|███████▌  | 170/226 [00:00<00:00, 206.43it/s]/tmp/ipykernel_383/4191214648.py:3: PerformanceWarning: DataFrame is highly fragmented.  This is usually the result of calling `frame.insert` many times, which has poor performance.  Consider joining all columns at once using pd.concat(axis=1) instead. To get a de-fragmented frame, use `newframe = frame.copy()`\n",
      "  pr_df[f\"title_wordcount_{word}\"] = preproc_titles.apply(\n",
      "/tmp/ipykernel_383/4191214648.py:3: PerformanceWarning: DataFrame is highly fragmented.  This is usually the result of calling `frame.insert` many times, which has poor performance.  Consider joining all columns at once using pd.concat(axis=1) instead. To get a de-fragmented frame, use `newframe = frame.copy()`\n",
      "  pr_df[f\"title_wordcount_{word}\"] = preproc_titles.apply(\n",
      "/tmp/ipykernel_383/4191214648.py:3: PerformanceWarning: DataFrame is highly fragmented.  This is usually the result of calling `frame.insert` many times, which has poor performance.  Consider joining all columns at once using pd.concat(axis=1) instead. To get a de-fragmented frame, use `newframe = frame.copy()`\n",
      "  pr_df[f\"title_wordcount_{word}\"] = preproc_titles.apply(\n",
      "/tmp/ipykernel_383/4191214648.py:3: PerformanceWarning: DataFrame is highly fragmented.  This is usually the result of calling `frame.insert` many times, which has poor performance.  Consider joining all columns at once using pd.concat(axis=1) instead. To get a de-fragmented frame, use `newframe = frame.copy()`\n",
      "  pr_df[f\"title_wordcount_{word}\"] = preproc_titles.apply(\n",
      "/tmp/ipykernel_383/4191214648.py:3: PerformanceWarning: DataFrame is highly fragmented.  This is usually the result of calling `frame.insert` many times, which has poor performance.  Consider joining all columns at once using pd.concat(axis=1) instead. To get a de-fragmented frame, use `newframe = frame.copy()`\n",
      "  pr_df[f\"title_wordcount_{word}\"] = preproc_titles.apply(\n",
      "/tmp/ipykernel_383/4191214648.py:3: PerformanceWarning: DataFrame is highly fragmented.  This is usually the result of calling `frame.insert` many times, which has poor performance.  Consider joining all columns at once using pd.concat(axis=1) instead. To get a de-fragmented frame, use `newframe = frame.copy()`\n",
      "  pr_df[f\"title_wordcount_{word}\"] = preproc_titles.apply(\n",
      "/tmp/ipykernel_383/4191214648.py:3: PerformanceWarning: DataFrame is highly fragmented.  This is usually the result of calling `frame.insert` many times, which has poor performance.  Consider joining all columns at once using pd.concat(axis=1) instead. To get a de-fragmented frame, use `newframe = frame.copy()`\n",
      "  pr_df[f\"title_wordcount_{word}\"] = preproc_titles.apply(\n",
      "/tmp/ipykernel_383/4191214648.py:3: PerformanceWarning: DataFrame is highly fragmented.  This is usually the result of calling `frame.insert` many times, which has poor performance.  Consider joining all columns at once using pd.concat(axis=1) instead. To get a de-fragmented frame, use `newframe = frame.copy()`\n",
      "  pr_df[f\"title_wordcount_{word}\"] = preproc_titles.apply(\n",
      "/tmp/ipykernel_383/4191214648.py:3: PerformanceWarning: DataFrame is highly fragmented.  This is usually the result of calling `frame.insert` many times, which has poor performance.  Consider joining all columns at once using pd.concat(axis=1) instead. To get a de-fragmented frame, use `newframe = frame.copy()`\n",
      "  pr_df[f\"title_wordcount_{word}\"] = preproc_titles.apply(\n",
      "/tmp/ipykernel_383/4191214648.py:3: PerformanceWarning: DataFrame is highly fragmented.  This is usually the result of calling `frame.insert` many times, which has poor performance.  Consider joining all columns at once using pd.concat(axis=1) instead. To get a de-fragmented frame, use `newframe = frame.copy()`\n",
      "  pr_df[f\"title_wordcount_{word}\"] = preproc_titles.apply(\n",
      "/tmp/ipykernel_383/4191214648.py:3: PerformanceWarning: DataFrame is highly fragmented.  This is usually the result of calling `frame.insert` many times, which has poor performance.  Consider joining all columns at once using pd.concat(axis=1) instead. To get a de-fragmented frame, use `newframe = frame.copy()`\n",
      "  pr_df[f\"title_wordcount_{word}\"] = preproc_titles.apply(\n",
      "/tmp/ipykernel_383/4191214648.py:3: PerformanceWarning: DataFrame is highly fragmented.  This is usually the result of calling `frame.insert` many times, which has poor performance.  Consider joining all columns at once using pd.concat(axis=1) instead. To get a de-fragmented frame, use `newframe = frame.copy()`\n",
      "  pr_df[f\"title_wordcount_{word}\"] = preproc_titles.apply(\n",
      "/tmp/ipykernel_383/4191214648.py:3: PerformanceWarning: DataFrame is highly fragmented.  This is usually the result of calling `frame.insert` many times, which has poor performance.  Consider joining all columns at once using pd.concat(axis=1) instead. To get a de-fragmented frame, use `newframe = frame.copy()`\n",
      "  pr_df[f\"title_wordcount_{word}\"] = preproc_titles.apply(\n",
      "/tmp/ipykernel_383/4191214648.py:3: PerformanceWarning: DataFrame is highly fragmented.  This is usually the result of calling `frame.insert` many times, which has poor performance.  Consider joining all columns at once using pd.concat(axis=1) instead. To get a de-fragmented frame, use `newframe = frame.copy()`\n",
      "  pr_df[f\"title_wordcount_{word}\"] = preproc_titles.apply(\n",
      "/tmp/ipykernel_383/4191214648.py:3: PerformanceWarning: DataFrame is highly fragmented.  This is usually the result of calling `frame.insert` many times, which has poor performance.  Consider joining all columns at once using pd.concat(axis=1) instead. To get a de-fragmented frame, use `newframe = frame.copy()`\n",
      "  pr_df[f\"title_wordcount_{word}\"] = preproc_titles.apply(\n",
      "/tmp/ipykernel_383/4191214648.py:3: PerformanceWarning: DataFrame is highly fragmented.  This is usually the result of calling `frame.insert` many times, which has poor performance.  Consider joining all columns at once using pd.concat(axis=1) instead. To get a de-fragmented frame, use `newframe = frame.copy()`\n",
      "  pr_df[f\"title_wordcount_{word}\"] = preproc_titles.apply(\n",
      "/tmp/ipykernel_383/4191214648.py:3: PerformanceWarning: DataFrame is highly fragmented.  This is usually the result of calling `frame.insert` many times, which has poor performance.  Consider joining all columns at once using pd.concat(axis=1) instead. To get a de-fragmented frame, use `newframe = frame.copy()`\n",
      "  pr_df[f\"title_wordcount_{word}\"] = preproc_titles.apply(\n",
      "/tmp/ipykernel_383/4191214648.py:3: PerformanceWarning: DataFrame is highly fragmented.  This is usually the result of calling `frame.insert` many times, which has poor performance.  Consider joining all columns at once using pd.concat(axis=1) instead. To get a de-fragmented frame, use `newframe = frame.copy()`\n",
      "  pr_df[f\"title_wordcount_{word}\"] = preproc_titles.apply(\n",
      "/tmp/ipykernel_383/4191214648.py:3: PerformanceWarning: DataFrame is highly fragmented.  This is usually the result of calling `frame.insert` many times, which has poor performance.  Consider joining all columns at once using pd.concat(axis=1) instead. To get a de-fragmented frame, use `newframe = frame.copy()`\n",
      "  pr_df[f\"title_wordcount_{word}\"] = preproc_titles.apply(\n",
      "/tmp/ipykernel_383/4191214648.py:3: PerformanceWarning: DataFrame is highly fragmented.  This is usually the result of calling `frame.insert` many times, which has poor performance.  Consider joining all columns at once using pd.concat(axis=1) instead. To get a de-fragmented frame, use `newframe = frame.copy()`\n",
      "  pr_df[f\"title_wordcount_{word}\"] = preproc_titles.apply(\n",
      "/tmp/ipykernel_383/4191214648.py:3: PerformanceWarning: DataFrame is highly fragmented.  This is usually the result of calling `frame.insert` many times, which has poor performance.  Consider joining all columns at once using pd.concat(axis=1) instead. To get a de-fragmented frame, use `newframe = frame.copy()`\n",
      "  pr_df[f\"title_wordcount_{word}\"] = preproc_titles.apply(\n",
      "/tmp/ipykernel_383/4191214648.py:3: PerformanceWarning: DataFrame is highly fragmented.  This is usually the result of calling `frame.insert` many times, which has poor performance.  Consider joining all columns at once using pd.concat(axis=1) instead. To get a de-fragmented frame, use `newframe = frame.copy()`\n",
      "  pr_df[f\"title_wordcount_{word}\"] = preproc_titles.apply(\n",
      " 85%|████████▍ | 192/226 [00:00<00:00, 187.55it/s]/tmp/ipykernel_383/4191214648.py:3: PerformanceWarning: DataFrame is highly fragmented.  This is usually the result of calling `frame.insert` many times, which has poor performance.  Consider joining all columns at once using pd.concat(axis=1) instead. To get a de-fragmented frame, use `newframe = frame.copy()`\n",
      "  pr_df[f\"title_wordcount_{word}\"] = preproc_titles.apply(\n",
      "/tmp/ipykernel_383/4191214648.py:3: PerformanceWarning: DataFrame is highly fragmented.  This is usually the result of calling `frame.insert` many times, which has poor performance.  Consider joining all columns at once using pd.concat(axis=1) instead. To get a de-fragmented frame, use `newframe = frame.copy()`\n",
      "  pr_df[f\"title_wordcount_{word}\"] = preproc_titles.apply(\n",
      "/tmp/ipykernel_383/4191214648.py:3: PerformanceWarning: DataFrame is highly fragmented.  This is usually the result of calling `frame.insert` many times, which has poor performance.  Consider joining all columns at once using pd.concat(axis=1) instead. To get a de-fragmented frame, use `newframe = frame.copy()`\n",
      "  pr_df[f\"title_wordcount_{word}\"] = preproc_titles.apply(\n",
      "/tmp/ipykernel_383/4191214648.py:3: PerformanceWarning: DataFrame is highly fragmented.  This is usually the result of calling `frame.insert` many times, which has poor performance.  Consider joining all columns at once using pd.concat(axis=1) instead. To get a de-fragmented frame, use `newframe = frame.copy()`\n",
      "  pr_df[f\"title_wordcount_{word}\"] = preproc_titles.apply(\n",
      "/tmp/ipykernel_383/4191214648.py:3: PerformanceWarning: DataFrame is highly fragmented.  This is usually the result of calling `frame.insert` many times, which has poor performance.  Consider joining all columns at once using pd.concat(axis=1) instead. To get a de-fragmented frame, use `newframe = frame.copy()`\n",
      "  pr_df[f\"title_wordcount_{word}\"] = preproc_titles.apply(\n",
      "/tmp/ipykernel_383/4191214648.py:3: PerformanceWarning: DataFrame is highly fragmented.  This is usually the result of calling `frame.insert` many times, which has poor performance.  Consider joining all columns at once using pd.concat(axis=1) instead. To get a de-fragmented frame, use `newframe = frame.copy()`\n",
      "  pr_df[f\"title_wordcount_{word}\"] = preproc_titles.apply(\n",
      "/tmp/ipykernel_383/4191214648.py:3: PerformanceWarning: DataFrame is highly fragmented.  This is usually the result of calling `frame.insert` many times, which has poor performance.  Consider joining all columns at once using pd.concat(axis=1) instead. To get a de-fragmented frame, use `newframe = frame.copy()`\n",
      "  pr_df[f\"title_wordcount_{word}\"] = preproc_titles.apply(\n",
      "/tmp/ipykernel_383/4191214648.py:3: PerformanceWarning: DataFrame is highly fragmented.  This is usually the result of calling `frame.insert` many times, which has poor performance.  Consider joining all columns at once using pd.concat(axis=1) instead. To get a de-fragmented frame, use `newframe = frame.copy()`\n",
      "  pr_df[f\"title_wordcount_{word}\"] = preproc_titles.apply(\n",
      "/tmp/ipykernel_383/4191214648.py:3: PerformanceWarning: DataFrame is highly fragmented.  This is usually the result of calling `frame.insert` many times, which has poor performance.  Consider joining all columns at once using pd.concat(axis=1) instead. To get a de-fragmented frame, use `newframe = frame.copy()`\n",
      "  pr_df[f\"title_wordcount_{word}\"] = preproc_titles.apply(\n",
      "/tmp/ipykernel_383/4191214648.py:3: PerformanceWarning: DataFrame is highly fragmented.  This is usually the result of calling `frame.insert` many times, which has poor performance.  Consider joining all columns at once using pd.concat(axis=1) instead. To get a de-fragmented frame, use `newframe = frame.copy()`\n",
      "  pr_df[f\"title_wordcount_{word}\"] = preproc_titles.apply(\n",
      "/tmp/ipykernel_383/4191214648.py:3: PerformanceWarning: DataFrame is highly fragmented.  This is usually the result of calling `frame.insert` many times, which has poor performance.  Consider joining all columns at once using pd.concat(axis=1) instead. To get a de-fragmented frame, use `newframe = frame.copy()`\n",
      "  pr_df[f\"title_wordcount_{word}\"] = preproc_titles.apply(\n",
      "/tmp/ipykernel_383/4191214648.py:3: PerformanceWarning: DataFrame is highly fragmented.  This is usually the result of calling `frame.insert` many times, which has poor performance.  Consider joining all columns at once using pd.concat(axis=1) instead. To get a de-fragmented frame, use `newframe = frame.copy()`\n",
      "  pr_df[f\"title_wordcount_{word}\"] = preproc_titles.apply(\n",
      "/tmp/ipykernel_383/4191214648.py:3: PerformanceWarning: DataFrame is highly fragmented.  This is usually the result of calling `frame.insert` many times, which has poor performance.  Consider joining all columns at once using pd.concat(axis=1) instead. To get a de-fragmented frame, use `newframe = frame.copy()`\n",
      "  pr_df[f\"title_wordcount_{word}\"] = preproc_titles.apply(\n",
      "/tmp/ipykernel_383/4191214648.py:3: PerformanceWarning: DataFrame is highly fragmented.  This is usually the result of calling `frame.insert` many times, which has poor performance.  Consider joining all columns at once using pd.concat(axis=1) instead. To get a de-fragmented frame, use `newframe = frame.copy()`\n",
      "  pr_df[f\"title_wordcount_{word}\"] = preproc_titles.apply(\n",
      "/tmp/ipykernel_383/4191214648.py:3: PerformanceWarning: DataFrame is highly fragmented.  This is usually the result of calling `frame.insert` many times, which has poor performance.  Consider joining all columns at once using pd.concat(axis=1) instead. To get a de-fragmented frame, use `newframe = frame.copy()`\n",
      "  pr_df[f\"title_wordcount_{word}\"] = preproc_titles.apply(\n",
      "/tmp/ipykernel_383/4191214648.py:3: PerformanceWarning: DataFrame is highly fragmented.  This is usually the result of calling `frame.insert` many times, which has poor performance.  Consider joining all columns at once using pd.concat(axis=1) instead. To get a de-fragmented frame, use `newframe = frame.copy()`\n",
      "  pr_df[f\"title_wordcount_{word}\"] = preproc_titles.apply(\n",
      "/tmp/ipykernel_383/4191214648.py:3: PerformanceWarning: DataFrame is highly fragmented.  This is usually the result of calling `frame.insert` many times, which has poor performance.  Consider joining all columns at once using pd.concat(axis=1) instead. To get a de-fragmented frame, use `newframe = frame.copy()`\n",
      "  pr_df[f\"title_wordcount_{word}\"] = preproc_titles.apply(\n",
      "/tmp/ipykernel_383/4191214648.py:3: PerformanceWarning: DataFrame is highly fragmented.  This is usually the result of calling `frame.insert` many times, which has poor performance.  Consider joining all columns at once using pd.concat(axis=1) instead. To get a de-fragmented frame, use `newframe = frame.copy()`\n",
      "  pr_df[f\"title_wordcount_{word}\"] = preproc_titles.apply(\n",
      "/tmp/ipykernel_383/4191214648.py:3: PerformanceWarning: DataFrame is highly fragmented.  This is usually the result of calling `frame.insert` many times, which has poor performance.  Consider joining all columns at once using pd.concat(axis=1) instead. To get a de-fragmented frame, use `newframe = frame.copy()`\n",
      "  pr_df[f\"title_wordcount_{word}\"] = preproc_titles.apply(\n",
      " 93%|█████████▎| 211/226 [00:01<00:00, 176.59it/s]/tmp/ipykernel_383/4191214648.py:3: PerformanceWarning: DataFrame is highly fragmented.  This is usually the result of calling `frame.insert` many times, which has poor performance.  Consider joining all columns at once using pd.concat(axis=1) instead. To get a de-fragmented frame, use `newframe = frame.copy()`\n",
      "  pr_df[f\"title_wordcount_{word}\"] = preproc_titles.apply(\n",
      "/tmp/ipykernel_383/4191214648.py:3: PerformanceWarning: DataFrame is highly fragmented.  This is usually the result of calling `frame.insert` many times, which has poor performance.  Consider joining all columns at once using pd.concat(axis=1) instead. To get a de-fragmented frame, use `newframe = frame.copy()`\n",
      "  pr_df[f\"title_wordcount_{word}\"] = preproc_titles.apply(\n",
      "/tmp/ipykernel_383/4191214648.py:3: PerformanceWarning: DataFrame is highly fragmented.  This is usually the result of calling `frame.insert` many times, which has poor performance.  Consider joining all columns at once using pd.concat(axis=1) instead. To get a de-fragmented frame, use `newframe = frame.copy()`\n",
      "  pr_df[f\"title_wordcount_{word}\"] = preproc_titles.apply(\n",
      "/tmp/ipykernel_383/4191214648.py:3: PerformanceWarning: DataFrame is highly fragmented.  This is usually the result of calling `frame.insert` many times, which has poor performance.  Consider joining all columns at once using pd.concat(axis=1) instead. To get a de-fragmented frame, use `newframe = frame.copy()`\n",
      "  pr_df[f\"title_wordcount_{word}\"] = preproc_titles.apply(\n",
      "/tmp/ipykernel_383/4191214648.py:3: PerformanceWarning: DataFrame is highly fragmented.  This is usually the result of calling `frame.insert` many times, which has poor performance.  Consider joining all columns at once using pd.concat(axis=1) instead. To get a de-fragmented frame, use `newframe = frame.copy()`\n",
      "  pr_df[f\"title_wordcount_{word}\"] = preproc_titles.apply(\n",
      "/tmp/ipykernel_383/4191214648.py:3: PerformanceWarning: DataFrame is highly fragmented.  This is usually the result of calling `frame.insert` many times, which has poor performance.  Consider joining all columns at once using pd.concat(axis=1) instead. To get a de-fragmented frame, use `newframe = frame.copy()`\n",
      "  pr_df[f\"title_wordcount_{word}\"] = preproc_titles.apply(\n",
      "/tmp/ipykernel_383/4191214648.py:3: PerformanceWarning: DataFrame is highly fragmented.  This is usually the result of calling `frame.insert` many times, which has poor performance.  Consider joining all columns at once using pd.concat(axis=1) instead. To get a de-fragmented frame, use `newframe = frame.copy()`\n",
      "  pr_df[f\"title_wordcount_{word}\"] = preproc_titles.apply(\n",
      "/tmp/ipykernel_383/4191214648.py:3: PerformanceWarning: DataFrame is highly fragmented.  This is usually the result of calling `frame.insert` many times, which has poor performance.  Consider joining all columns at once using pd.concat(axis=1) instead. To get a de-fragmented frame, use `newframe = frame.copy()`\n",
      "  pr_df[f\"title_wordcount_{word}\"] = preproc_titles.apply(\n",
      "/tmp/ipykernel_383/4191214648.py:3: PerformanceWarning: DataFrame is highly fragmented.  This is usually the result of calling `frame.insert` many times, which has poor performance.  Consider joining all columns at once using pd.concat(axis=1) instead. To get a de-fragmented frame, use `newframe = frame.copy()`\n",
      "  pr_df[f\"title_wordcount_{word}\"] = preproc_titles.apply(\n",
      "/tmp/ipykernel_383/4191214648.py:3: PerformanceWarning: DataFrame is highly fragmented.  This is usually the result of calling `frame.insert` many times, which has poor performance.  Consider joining all columns at once using pd.concat(axis=1) instead. To get a de-fragmented frame, use `newframe = frame.copy()`\n",
      "  pr_df[f\"title_wordcount_{word}\"] = preproc_titles.apply(\n",
      "/tmp/ipykernel_383/4191214648.py:3: PerformanceWarning: DataFrame is highly fragmented.  This is usually the result of calling `frame.insert` many times, which has poor performance.  Consider joining all columns at once using pd.concat(axis=1) instead. To get a de-fragmented frame, use `newframe = frame.copy()`\n",
      "  pr_df[f\"title_wordcount_{word}\"] = preproc_titles.apply(\n",
      "/tmp/ipykernel_383/4191214648.py:3: PerformanceWarning: DataFrame is highly fragmented.  This is usually the result of calling `frame.insert` many times, which has poor performance.  Consider joining all columns at once using pd.concat(axis=1) instead. To get a de-fragmented frame, use `newframe = frame.copy()`\n",
      "  pr_df[f\"title_wordcount_{word}\"] = preproc_titles.apply(\n",
      "/tmp/ipykernel_383/4191214648.py:3: PerformanceWarning: DataFrame is highly fragmented.  This is usually the result of calling `frame.insert` many times, which has poor performance.  Consider joining all columns at once using pd.concat(axis=1) instead. To get a de-fragmented frame, use `newframe = frame.copy()`\n",
      "  pr_df[f\"title_wordcount_{word}\"] = preproc_titles.apply(\n",
      "/tmp/ipykernel_383/4191214648.py:3: PerformanceWarning: DataFrame is highly fragmented.  This is usually the result of calling `frame.insert` many times, which has poor performance.  Consider joining all columns at once using pd.concat(axis=1) instead. To get a de-fragmented frame, use `newframe = frame.copy()`\n",
      "  pr_df[f\"title_wordcount_{word}\"] = preproc_titles.apply(\n",
      "/tmp/ipykernel_383/4191214648.py:3: PerformanceWarning: DataFrame is highly fragmented.  This is usually the result of calling `frame.insert` many times, which has poor performance.  Consider joining all columns at once using pd.concat(axis=1) instead. To get a de-fragmented frame, use `newframe = frame.copy()`\n",
      "  pr_df[f\"title_wordcount_{word}\"] = preproc_titles.apply(\n",
      "100%|██████████| 226/226 [00:01<00:00, 203.12it/s]\n"
     ]
    }
   ],
   "source": [
    "# add word count columns\n",
    "for word in tqdm(unique_words):\n",
    "    pr_df[f\"title_wordcount_{word}\"] = preproc_titles.apply(\n",
    "        lambda x: x.split().count(word)\n",
    "    )"
   ]
  },
  {
   "cell_type": "code",
   "execution_count": 33,
   "id": "41cf9f16",
   "metadata": {
    "execution": {
     "iopub.execute_input": "2022-10-13T22:55:09.610503Z",
     "iopub.status.busy": "2022-10-13T22:55:09.610270Z",
     "iopub.status.idle": "2022-10-13T22:55:09.619542Z",
     "shell.execute_reply": "2022-10-13T22:55:09.618965Z"
    }
   },
   "outputs": [],
   "source": [
    "# collapse the high dim vector into one column\n",
    "wordcount_columns = [c for c in pr_df.columns if \"wordcount\" in c]\n",
    "pr_df[\"title_word_counts_vec\"] = pr_df[wordcount_columns].apply(\n",
    "    lambda x: x.tolist(), axis=1\n",
    ")\n",
    "\n",
    "# drop the individual wordcount columns\n",
    "pr_df = pr_df.drop(columns=wordcount_columns)"
   ]
  },
  {
   "cell_type": "markdown",
   "id": "06f46edc",
   "metadata": {},
   "source": [
    "**Created At**\n",
    "\n",
    "This column can give us information on when the PR was created. Using the `created_at` field, we can derive other features like `time_of_day`, `day_of_week`, `day_of_month`, `month_in_year` each of which can be categorical features that can be useful to our analysis."
   ]
  },
  {
   "cell_type": "code",
   "execution_count": 34,
   "id": "b6db783b",
   "metadata": {
    "execution": {
     "iopub.execute_input": "2022-10-13T22:55:09.622616Z",
     "iopub.status.busy": "2022-10-13T22:55:09.622392Z",
     "iopub.status.idle": "2022-10-13T22:55:09.630609Z",
     "shell.execute_reply": "2022-10-13T22:55:09.629947Z"
    }
   },
   "outputs": [],
   "source": [
    "# convert to datetime object\n",
    "pr_df[\"created_at_datetime\"] = (\n",
    "    pr_df[\"created_at\"].fillna(\"\").apply(lambda x: datetime.datetime.fromtimestamp(x))\n",
    ")\n",
    "# get day as categorical variable\n",
    "pr_df[\"created_at_day\"] = pr_df[\"created_at_datetime\"].apply(lambda x: x.day)\n",
    "\n",
    "# get month as categorical variable\n",
    "pr_df[\"created_at_month\"] = pr_df[\"created_at_datetime\"].apply(lambda x: x.month)\n",
    "\n",
    "# get weekday as categorical variable\n",
    "pr_df[\"created_at_weekday\"] = pr_df[\"created_at_datetime\"].apply(lambda x: x.weekday())\n",
    "\n",
    "# get hour of day as categorical variable\n",
    "pr_df[\"created_at_hour\"] = pr_df[\"created_at_datetime\"].apply(lambda x: x.hour)"
   ]
  },
  {
   "cell_type": "code",
   "execution_count": 35,
   "id": "f6cb1704",
   "metadata": {
    "execution": {
     "iopub.execute_input": "2022-10-13T22:55:09.633413Z",
     "iopub.status.busy": "2022-10-13T22:55:09.633191Z",
     "iopub.status.idle": "2022-10-13T22:55:09.649695Z",
     "shell.execute_reply": "2022-10-13T22:55:09.649044Z"
    }
   },
   "outputs": [
    {
     "data": {
      "text/html": [
       "<div>\n",
       "<style scoped>\n",
       "    .dataframe tbody tr th:only-of-type {\n",
       "        vertical-align: middle;\n",
       "    }\n",
       "\n",
       "    .dataframe tbody tr th {\n",
       "        vertical-align: top;\n",
       "    }\n",
       "\n",
       "    .dataframe thead th {\n",
       "        text-align: right;\n",
       "    }\n",
       "</style>\n",
       "<table border=\"1\" class=\"dataframe\">\n",
       "  <thead>\n",
       "    <tr style=\"text-align: right;\">\n",
       "      <th></th>\n",
       "      <th>title</th>\n",
       "      <th>body</th>\n",
       "      <th>size</th>\n",
       "      <th>created_by</th>\n",
       "      <th>created_at</th>\n",
       "      <th>closed_at</th>\n",
       "      <th>closed_by</th>\n",
       "      <th>merged_at</th>\n",
       "      <th>merged_by</th>\n",
       "      <th>commits_number</th>\n",
       "      <th>...</th>\n",
       "      <th>first_approve_at</th>\n",
       "      <th>id</th>\n",
       "      <th>time_to_merge</th>\n",
       "      <th>body_size</th>\n",
       "      <th>title_word_counts_vec</th>\n",
       "      <th>created_at_datetime</th>\n",
       "      <th>created_at_day</th>\n",
       "      <th>created_at_month</th>\n",
       "      <th>created_at_weekday</th>\n",
       "      <th>created_at_hour</th>\n",
       "    </tr>\n",
       "  </thead>\n",
       "  <tbody>\n",
       "    <tr>\n",
       "      <th>0</th>\n",
       "      <td>add knikolla and cleanup</td>\n",
       "      <td>None</td>\n",
       "      <td>1</td>\n",
       "      <td>schwesig</td>\n",
       "      <td>1665410557</td>\n",
       "      <td>1.665411e+09</td>\n",
       "      <td>sesheta</td>\n",
       "      <td>1.665411e+09</td>\n",
       "      <td>sesheta</td>\n",
       "      <td>2</td>\n",
       "      <td>...</td>\n",
       "      <td>NaN</td>\n",
       "      <td>229</td>\n",
       "      <td>476.0</td>\n",
       "      <td>0</td>\n",
       "      <td>[0, 0, 0, 0, 0, 1, 0, 0, 0, 0, 0, 0, 0, 0, 0, ...</td>\n",
       "      <td>2022-10-10 14:02:37</td>\n",
       "      <td>10</td>\n",
       "      <td>10</td>\n",
       "      <td>0</td>\n",
       "      <td>14</td>\n",
       "    </tr>\n",
       "    <tr>\n",
       "      <th>1</th>\n",
       "      <td>pre-commit to clean up existing errors (traili...</td>\n",
       "      <td>None</td>\n",
       "      <td>0</td>\n",
       "      <td>schwesig</td>\n",
       "      <td>1665402036</td>\n",
       "      <td>1.665409e+09</td>\n",
       "      <td>sesheta</td>\n",
       "      <td>1.665409e+09</td>\n",
       "      <td>sesheta</td>\n",
       "      <td>1</td>\n",
       "      <td>...</td>\n",
       "      <td>NaN</td>\n",
       "      <td>228</td>\n",
       "      <td>7081.0</td>\n",
       "      <td>0</td>\n",
       "      <td>[0, 0, 0, 0, 0, 0, 0, 0, 0, 0, 0, 0, 0, 0, 0, ...</td>\n",
       "      <td>2022-10-10 11:40:36</td>\n",
       "      <td>10</td>\n",
       "      <td>10</td>\n",
       "      <td>0</td>\n",
       "      <td>11</td>\n",
       "    </tr>\n",
       "  </tbody>\n",
       "</table>\n",
       "<p>2 rows × 27 columns</p>\n",
       "</div>"
      ],
      "text/plain": [
       "                                               title  body  size created_by  \\\n",
       "0                           add knikolla and cleanup  None     1   schwesig   \n",
       "1  pre-commit to clean up existing errors (traili...  None     0   schwesig   \n",
       "\n",
       "   created_at     closed_at closed_by     merged_at merged_by  commits_number  \\\n",
       "0  1665410557  1.665411e+09   sesheta  1.665411e+09   sesheta               2   \n",
       "1  1665402036  1.665409e+09   sesheta  1.665409e+09   sesheta               1   \n",
       "\n",
       "   ...  first_approve_at   id time_to_merge body_size  \\\n",
       "0  ...               NaN  229         476.0         0   \n",
       "1  ...               NaN  228        7081.0         0   \n",
       "\n",
       "                               title_word_counts_vec created_at_datetime  \\\n",
       "0  [0, 0, 0, 0, 0, 1, 0, 0, 0, 0, 0, 0, 0, 0, 0, ... 2022-10-10 14:02:37   \n",
       "1  [0, 0, 0, 0, 0, 0, 0, 0, 0, 0, 0, 0, 0, 0, 0, ... 2022-10-10 11:40:36   \n",
       "\n",
       "   created_at_day  created_at_month created_at_weekday  created_at_hour  \n",
       "0              10                10                  0               14  \n",
       "1              10                10                  0               11  \n",
       "\n",
       "[2 rows x 27 columns]"
      ]
     },
     "execution_count": 35,
     "metadata": {},
     "output_type": "execute_result"
    }
   ],
   "source": [
    "pr_df.head(2)"
   ]
  },
  {
   "cell_type": "markdown",
   "id": "77474e4f",
   "metadata": {},
   "source": [
    "**Commits Number**  \n",
    "Commits Number gives the number of commits created within the PR. This could be a numerical feature for our model."
   ]
  },
  {
   "cell_type": "code",
   "execution_count": 36,
   "id": "e2e1f086",
   "metadata": {
    "execution": {
     "iopub.execute_input": "2022-10-13T22:55:09.652913Z",
     "iopub.status.busy": "2022-10-13T22:55:09.652545Z",
     "iopub.status.idle": "2022-10-13T22:55:09.661252Z",
     "shell.execute_reply": "2022-10-13T22:55:09.657014Z"
    }
   },
   "outputs": [
    {
     "data": {
      "text/plain": [
       "1     63\n",
       "2     17\n",
       "3      5\n",
       "0      3\n",
       "8      1\n",
       "7      1\n",
       "14     1\n",
       "20     1\n",
       "5      1\n",
       "4      1\n",
       "Name: commits_number, dtype: int64"
      ]
     },
     "execution_count": 36,
     "metadata": {},
     "output_type": "execute_result"
    }
   ],
   "source": [
    "pr_df.commits_number.value_counts()"
   ]
  },
  {
   "cell_type": "code",
   "execution_count": 37,
   "id": "70e7324d",
   "metadata": {
    "execution": {
     "iopub.execute_input": "2022-10-13T22:55:09.664463Z",
     "iopub.status.busy": "2022-10-13T22:55:09.663905Z",
     "iopub.status.idle": "2022-10-13T22:55:09.800438Z",
     "shell.execute_reply": "2022-10-13T22:55:09.799389Z"
    }
   },
   "outputs": [
    {
     "data": {
      "image/png": "[encoded data removed]",
      "text/plain": [
       "<Figure size 432x288 with 1 Axes>"
      ]
     },
     "metadata": {
      "needs_background": "light"
     },
     "output_type": "display_data"
    }
   ],
   "source": [
    "pr_df.commits_number.value_counts().sort_index(ascending=True).plot(kind=\"bar\")\n",
    "plt.title(\"Commit frequency across PRs\")\n",
    "plt.xlabel(\"No. of commits\")\n",
    "plt.ylabel(\"No. of PRs\")\n",
    "plt.show()"
   ]
  },
  {
   "cell_type": "code",
   "execution_count": 38,
   "id": "e4d9d7fd",
   "metadata": {
    "execution": {
     "iopub.execute_input": "2022-10-13T22:55:09.804057Z",
     "iopub.status.busy": "2022-10-13T22:55:09.803534Z",
     "iopub.status.idle": "2022-10-13T22:55:09.822508Z",
     "shell.execute_reply": "2022-10-13T22:55:09.821879Z"
    }
   },
   "outputs": [
    {
     "data": {
      "text/html": [
       "<div>\n",
       "<style scoped>\n",
       "    .dataframe tbody tr th:only-of-type {\n",
       "        vertical-align: middle;\n",
       "    }\n",
       "\n",
       "    .dataframe tbody tr th {\n",
       "        vertical-align: top;\n",
       "    }\n",
       "\n",
       "    .dataframe thead th {\n",
       "        text-align: right;\n",
       "    }\n",
       "</style>\n",
       "<table border=\"1\" class=\"dataframe\">\n",
       "  <thead>\n",
       "    <tr style=\"text-align: right;\">\n",
       "      <th></th>\n",
       "      <th>title</th>\n",
       "      <th>body</th>\n",
       "      <th>size</th>\n",
       "      <th>created_by</th>\n",
       "      <th>created_at</th>\n",
       "      <th>closed_at</th>\n",
       "      <th>closed_by</th>\n",
       "      <th>merged_at</th>\n",
       "      <th>merged_by</th>\n",
       "      <th>commits_number</th>\n",
       "      <th>...</th>\n",
       "      <th>first_approve_at</th>\n",
       "      <th>id</th>\n",
       "      <th>time_to_merge</th>\n",
       "      <th>body_size</th>\n",
       "      <th>title_word_counts_vec</th>\n",
       "      <th>created_at_datetime</th>\n",
       "      <th>created_at_day</th>\n",
       "      <th>created_at_month</th>\n",
       "      <th>created_at_weekday</th>\n",
       "      <th>created_at_hour</th>\n",
       "    </tr>\n",
       "  </thead>\n",
       "  <tbody>\n",
       "    <tr>\n",
       "      <th>0</th>\n",
       "      <td>add knikolla and cleanup</td>\n",
       "      <td>None</td>\n",
       "      <td>1</td>\n",
       "      <td>schwesig</td>\n",
       "      <td>1665410557</td>\n",
       "      <td>1.665411e+09</td>\n",
       "      <td>sesheta</td>\n",
       "      <td>1.665411e+09</td>\n",
       "      <td>sesheta</td>\n",
       "      <td>2</td>\n",
       "      <td>...</td>\n",
       "      <td>NaN</td>\n",
       "      <td>229</td>\n",
       "      <td>476.0</td>\n",
       "      <td>0</td>\n",
       "      <td>[0, 0, 0, 0, 0, 1, 0, 0, 0, 0, 0, 0, 0, 0, 0, ...</td>\n",
       "      <td>2022-10-10 14:02:37</td>\n",
       "      <td>10</td>\n",
       "      <td>10</td>\n",
       "      <td>0</td>\n",
       "      <td>14</td>\n",
       "    </tr>\n",
       "    <tr>\n",
       "      <th>1</th>\n",
       "      <td>pre-commit to clean up existing errors (traili...</td>\n",
       "      <td>None</td>\n",
       "      <td>0</td>\n",
       "      <td>schwesig</td>\n",
       "      <td>1665402036</td>\n",
       "      <td>1.665409e+09</td>\n",
       "      <td>sesheta</td>\n",
       "      <td>1.665409e+09</td>\n",
       "      <td>sesheta</td>\n",
       "      <td>1</td>\n",
       "      <td>...</td>\n",
       "      <td>NaN</td>\n",
       "      <td>228</td>\n",
       "      <td>7081.0</td>\n",
       "      <td>0</td>\n",
       "      <td>[0, 0, 0, 0, 0, 0, 0, 0, 0, 0, 0, 0, 0, 0, 0, ...</td>\n",
       "      <td>2022-10-10 11:40:36</td>\n",
       "      <td>10</td>\n",
       "      <td>10</td>\n",
       "      <td>0</td>\n",
       "      <td>11</td>\n",
       "    </tr>\n",
       "  </tbody>\n",
       "</table>\n",
       "<p>2 rows × 27 columns</p>\n",
       "</div>"
      ],
      "text/plain": [
       "                                               title  body  size created_by  \\\n",
       "0                           add knikolla and cleanup  None     1   schwesig   \n",
       "1  pre-commit to clean up existing errors (traili...  None     0   schwesig   \n",
       "\n",
       "   created_at     closed_at closed_by     merged_at merged_by  commits_number  \\\n",
       "0  1665410557  1.665411e+09   sesheta  1.665411e+09   sesheta               2   \n",
       "1  1665402036  1.665409e+09   sesheta  1.665409e+09   sesheta               1   \n",
       "\n",
       "   ...  first_approve_at   id time_to_merge body_size  \\\n",
       "0  ...               NaN  229         476.0         0   \n",
       "1  ...               NaN  228        7081.0         0   \n",
       "\n",
       "                               title_word_counts_vec created_at_datetime  \\\n",
       "0  [0, 0, 0, 0, 0, 1, 0, 0, 0, 0, 0, 0, 0, 0, 0, ... 2022-10-10 14:02:37   \n",
       "1  [0, 0, 0, 0, 0, 0, 0, 0, 0, 0, 0, 0, 0, 0, 0, ... 2022-10-10 11:40:36   \n",
       "\n",
       "   created_at_day  created_at_month created_at_weekday  created_at_hour  \n",
       "0              10                10                  0               14  \n",
       "1              10                10                  0               11  \n",
       "\n",
       "[2 rows x 27 columns]"
      ]
     },
     "execution_count": 38,
     "metadata": {},
     "output_type": "execute_result"
    }
   ],
   "source": [
    "pr_df.head(2)"
   ]
  },
  {
   "cell_type": "markdown",
   "id": "772ea2a9",
   "metadata": {},
   "source": [
    "**Changed Files Number**  \n",
    "Changed files is a numberical variable which captures the numer of files that were modified in the PR."
   ]
  },
  {
   "cell_type": "code",
   "execution_count": 39,
   "id": "b5687644",
   "metadata": {
    "execution": {
     "iopub.execute_input": "2022-10-13T22:55:09.825924Z",
     "iopub.status.busy": "2022-10-13T22:55:09.825484Z",
     "iopub.status.idle": "2022-10-13T22:55:09.833168Z",
     "shell.execute_reply": "2022-10-13T22:55:09.832581Z"
    }
   },
   "outputs": [
    {
     "data": {
      "text/plain": [
       "1     55\n",
       "2     17\n",
       "3      5\n",
       "0      4\n",
       "5      3\n",
       "6      3\n",
       "8      2\n",
       "7      2\n",
       "4      1\n",
       "12     1\n",
       "17     1\n",
       "Name: changed_files_number, dtype: int64"
      ]
     },
     "execution_count": 39,
     "metadata": {},
     "output_type": "execute_result"
    }
   ],
   "source": [
    "# convert changed_files_number to int\n",
    "pr_df[\"changed_files_number\"] = pr_df[\"changed_files_number\"].astype(\"int\")\n",
    "\n",
    "pr_df.changed_files_number.value_counts()"
   ]
  },
  {
   "cell_type": "code",
   "execution_count": 40,
   "id": "944b5ef3",
   "metadata": {
    "execution": {
     "iopub.execute_input": "2022-10-13T22:55:09.836154Z",
     "iopub.status.busy": "2022-10-13T22:55:09.835565Z",
     "iopub.status.idle": "2022-10-13T22:55:09.965410Z",
     "shell.execute_reply": "2022-10-13T22:55:09.964770Z"
    }
   },
   "outputs": [
    {
     "data": {
      "image/png": "[encoded data removed]",
      "text/plain": [
       "<Figure size 432x288 with 1 Axes>"
      ]
     },
     "metadata": {
      "needs_background": "light"
     },
     "output_type": "display_data"
    }
   ],
   "source": [
    "pr_df.changed_files_number.value_counts().iloc[:10].sort_index(ascending=True).plot(\n",
    "    kind=\"bar\"\n",
    ")\n",
    "plt.title(\"Frequency of changed files across PRs\")\n",
    "plt.xlabel(\"No. of changed files\")\n",
    "plt.ylabel(\"No. of PRs\")\n",
    "plt.show()"
   ]
  },
  {
   "cell_type": "markdown",
   "id": "2ec4a803",
   "metadata": {},
   "source": [
    "`changed_files_number` has more variability than the `commits_number`. We can incorporate this as a numerical feature."
   ]
  },
  {
   "cell_type": "markdown",
   "id": "360ea47c",
   "metadata": {},
   "source": [
    "**Changed_files**\n",
    "\n",
    "`changed_files` is a list of the paths and filenames for every file changed by this PR. From `changed_files`, we know, for each PR, which file types were changed which can be encoded as a frequency vector. Also we know which directory the change is made in, so that can be encoded as a categorical variable."
   ]
  },
  {
   "cell_type": "code",
   "execution_count": 41,
   "id": "ea080575",
   "metadata": {
    "execution": {
     "iopub.execute_input": "2022-10-13T22:55:09.969190Z",
     "iopub.status.busy": "2022-10-13T22:55:09.968826Z",
     "iopub.status.idle": "2022-10-13T22:55:09.977545Z",
     "shell.execute_reply": "2022-10-13T22:55:09.976979Z"
    }
   },
   "outputs": [
    {
     "data": {
      "text/plain": [
       "0                                              [OWNERS]\n",
       "1     [sig-community/meeting-notes/20221006-meeting-...\n",
       "2                                                    []\n",
       "3     [sig-community/meeting-notes/20221006-meeting-...\n",
       "4                                  [four-principles.md]\n",
       "                            ...                        \n",
       "89              [glossary.md, new_front_page_mockup.md]\n",
       "90                                         [.prow.yaml]\n",
       "91                           [new_front_page_mockup.md]\n",
       "92                            [core_project_message.md]\n",
       "93                                             [OWNERS]\n",
       "Name: changed_files, Length: 94, dtype: object"
      ]
     },
     "execution_count": 41,
     "metadata": {},
     "output_type": "execute_result"
    }
   ],
   "source": [
    "pr_df.changed_files"
   ]
  },
  {
   "cell_type": "code",
   "execution_count": 42,
   "id": "ba70b93f",
   "metadata": {
    "execution": {
     "iopub.execute_input": "2022-10-13T22:55:09.980748Z",
     "iopub.status.busy": "2022-10-13T22:55:09.980401Z",
     "iopub.status.idle": "2022-10-13T22:55:09.986226Z",
     "shell.execute_reply": "2022-10-13T22:55:09.985671Z"
    }
   },
   "outputs": [],
   "source": [
    "def filetype(filepath):\n",
    "\n",
    "    # if standard file extension, return file extension\n",
    "    if pathlib.Path(filepath).suffix:\n",
    "        return pathlib.Path(filepath).suffix\n",
    "\n",
    "    else:\n",
    "        # if single file at the root of repo\n",
    "        if \"/\" not in filepath:\n",
    "            # if a file like README/Dockerfile etc\n",
    "            if \".\" not in filepath:\n",
    "                return filepath\n",
    "        # if file not at root\n",
    "        else:\n",
    "            # get file name\n",
    "            file = filepath.rsplit(\"/\", 1)[1]\n",
    "            if \".\" not in file:\n",
    "                return file\n",
    "            elif \".\" in file:\n",
    "                return \".\" + file.rsplit(\".\", 1)[1]"
   ]
  },
  {
   "cell_type": "code",
   "execution_count": 43,
   "id": "2e00c415",
   "metadata": {
    "execution": {
     "iopub.execute_input": "2022-10-13T22:55:09.989289Z",
     "iopub.status.busy": "2022-10-13T22:55:09.988960Z",
     "iopub.status.idle": "2022-10-13T22:55:09.993277Z",
     "shell.execute_reply": "2022-10-13T22:55:09.992703Z"
    }
   },
   "outputs": [],
   "source": [
    "# get list of all file types that were modified across all openshift origin PRs\n",
    "changed_files = list(pr_df[\"changed_files\"])"
   ]
  },
  {
   "cell_type": "code",
   "execution_count": 44,
   "id": "36a1dcda",
   "metadata": {
    "execution": {
     "iopub.execute_input": "2022-10-13T22:55:09.997196Z",
     "iopub.status.busy": "2022-10-13T22:55:09.995955Z",
     "iopub.status.idle": "2022-10-13T22:55:10.002083Z",
     "shell.execute_reply": "2022-10-13T22:55:10.001526Z"
    }
   },
   "outputs": [],
   "source": [
    "all_changed_files = [filetype(filepath) for pr in changed_files for filepath in pr]"
   ]
  },
  {
   "cell_type": "code",
   "execution_count": 45,
   "id": "d7de1e91",
   "metadata": {
    "execution": {
     "iopub.execute_input": "2022-10-13T22:55:10.005092Z",
     "iopub.status.busy": "2022-10-13T22:55:10.004751Z",
     "iopub.status.idle": "2022-10-13T22:55:10.008649Z",
     "shell.execute_reply": "2022-10-13T22:55:10.008099Z"
    }
   },
   "outputs": [],
   "source": [
    "count = Counter(all_changed_files)"
   ]
  },
  {
   "cell_type": "code",
   "execution_count": 46,
   "id": "17e5fd80",
   "metadata": {
    "execution": {
     "iopub.execute_input": "2022-10-13T22:55:10.011621Z",
     "iopub.status.busy": "2022-10-13T22:55:10.011287Z",
     "iopub.status.idle": "2022-10-13T22:55:10.015689Z",
     "shell.execute_reply": "2022-10-13T22:55:10.015133Z"
    }
   },
   "outputs": [],
   "source": [
    "# save 100 most commonly occuring file extensions across PRs\n",
    "top_fileextensions_freq = count.most_common(100)\n",
    "top_fileextensions = [ext[0] for ext in top_fileextensions_freq]"
   ]
  },
  {
   "cell_type": "code",
   "execution_count": 47,
   "id": "25a14da8",
   "metadata": {
    "execution": {
     "iopub.execute_input": "2022-10-13T22:55:10.018622Z",
     "iopub.status.busy": "2022-10-13T22:55:10.018197Z",
     "iopub.status.idle": "2022-10-13T22:55:10.024260Z",
     "shell.execute_reply": "2022-10-13T22:55:10.023716Z"
    }
   },
   "outputs": [
    {
     "data": {
      "text/plain": [
       "['.md',\n",
       " '.yaml',\n",
       " '.tmpl',\n",
       " 'OWNERS',\n",
       " 'OWNERS_ALIASES',\n",
       " '.yml',\n",
       " '.ipynb',\n",
       " '.png',\n",
       " '.txt',\n",
       " '.json']"
      ]
     },
     "execution_count": 47,
     "metadata": {},
     "output_type": "execute_result"
    }
   ],
   "source": [
    "top_fileextensions"
   ]
  },
  {
   "cell_type": "code",
   "execution_count": 48,
   "id": "ecd11700",
   "metadata": {
    "execution": {
     "iopub.execute_input": "2022-10-13T22:55:10.027268Z",
     "iopub.status.busy": "2022-10-13T22:55:10.026777Z",
     "iopub.status.idle": "2022-10-13T22:55:10.031597Z",
     "shell.execute_reply": "2022-10-13T22:55:10.030968Z"
    }
   },
   "outputs": [],
   "source": [
    "def file_type_freq(list_of_filepaths):\n",
    "    \"\"\"\n",
    "    For a given PR's list of changed files,\n",
    "    return a changed files frequency vector\n",
    "    ( a vector which holds the frequency of\n",
    "    changed files of the type  for every\n",
    "    file type in top_fileextensions )\n",
    "    \"\"\"\n",
    "\n",
    "    file_extensions = [filetype(f) for f in list_of_filepaths]\n",
    "    ext_dict = {key: 0 for key in top_fileextensions}\n",
    "    for f in file_extensions:\n",
    "        if f in ext_dict:\n",
    "            ext_dict[f] += 1\n",
    "\n",
    "    return list(ext_dict.values())"
   ]
  },
  {
   "cell_type": "code",
   "execution_count": 49,
   "id": "cc0b7906",
   "metadata": {
    "execution": {
     "iopub.execute_input": "2022-10-13T22:55:10.034208Z",
     "iopub.status.busy": "2022-10-13T22:55:10.034004Z",
     "iopub.status.idle": "2022-10-13T22:55:10.040611Z",
     "shell.execute_reply": "2022-10-13T22:55:10.040049Z"
    }
   },
   "outputs": [],
   "source": [
    "pr_df[\"changed_file_type_vec\"] = pr_df[\"changed_files\"].apply(\n",
    "    lambda x: file_type_freq(x)\n",
    ")"
   ]
  },
  {
   "cell_type": "code",
   "execution_count": 50,
   "id": "4fe7bb1d",
   "metadata": {
    "execution": {
     "iopub.execute_input": "2022-10-13T22:55:10.043241Z",
     "iopub.status.busy": "2022-10-13T22:55:10.043029Z",
     "iopub.status.idle": "2022-10-13T22:55:10.061845Z",
     "shell.execute_reply": "2022-10-13T22:55:10.061079Z"
    }
   },
   "outputs": [
    {
     "data": {
      "text/html": [
       "<div>\n",
       "<style scoped>\n",
       "    .dataframe tbody tr th:only-of-type {\n",
       "        vertical-align: middle;\n",
       "    }\n",
       "\n",
       "    .dataframe tbody tr th {\n",
       "        vertical-align: top;\n",
       "    }\n",
       "\n",
       "    .dataframe thead th {\n",
       "        text-align: right;\n",
       "    }\n",
       "</style>\n",
       "<table border=\"1\" class=\"dataframe\">\n",
       "  <thead>\n",
       "    <tr style=\"text-align: right;\">\n",
       "      <th></th>\n",
       "      <th>title</th>\n",
       "      <th>body</th>\n",
       "      <th>size</th>\n",
       "      <th>created_by</th>\n",
       "      <th>created_at</th>\n",
       "      <th>closed_at</th>\n",
       "      <th>closed_by</th>\n",
       "      <th>merged_at</th>\n",
       "      <th>merged_by</th>\n",
       "      <th>commits_number</th>\n",
       "      <th>...</th>\n",
       "      <th>id</th>\n",
       "      <th>time_to_merge</th>\n",
       "      <th>body_size</th>\n",
       "      <th>title_word_counts_vec</th>\n",
       "      <th>created_at_datetime</th>\n",
       "      <th>created_at_day</th>\n",
       "      <th>created_at_month</th>\n",
       "      <th>created_at_weekday</th>\n",
       "      <th>created_at_hour</th>\n",
       "      <th>changed_file_type_vec</th>\n",
       "    </tr>\n",
       "  </thead>\n",
       "  <tbody>\n",
       "    <tr>\n",
       "      <th>0</th>\n",
       "      <td>add knikolla and cleanup</td>\n",
       "      <td>None</td>\n",
       "      <td>1</td>\n",
       "      <td>schwesig</td>\n",
       "      <td>1665410557</td>\n",
       "      <td>1.665411e+09</td>\n",
       "      <td>sesheta</td>\n",
       "      <td>1.665411e+09</td>\n",
       "      <td>sesheta</td>\n",
       "      <td>2</td>\n",
       "      <td>...</td>\n",
       "      <td>229</td>\n",
       "      <td>476.0</td>\n",
       "      <td>0</td>\n",
       "      <td>[0, 0, 0, 0, 0, 1, 0, 0, 0, 0, 0, 0, 0, 0, 0, ...</td>\n",
       "      <td>2022-10-10 14:02:37</td>\n",
       "      <td>10</td>\n",
       "      <td>10</td>\n",
       "      <td>0</td>\n",
       "      <td>14</td>\n",
       "      <td>[0, 0, 0, 1, 0, 0, 0, 0, 0, 0]</td>\n",
       "    </tr>\n",
       "    <tr>\n",
       "      <th>1</th>\n",
       "      <td>pre-commit to clean up existing errors (traili...</td>\n",
       "      <td>None</td>\n",
       "      <td>0</td>\n",
       "      <td>schwesig</td>\n",
       "      <td>1665402036</td>\n",
       "      <td>1.665409e+09</td>\n",
       "      <td>sesheta</td>\n",
       "      <td>1.665409e+09</td>\n",
       "      <td>sesheta</td>\n",
       "      <td>1</td>\n",
       "      <td>...</td>\n",
       "      <td>228</td>\n",
       "      <td>7081.0</td>\n",
       "      <td>0</td>\n",
       "      <td>[0, 0, 0, 0, 0, 0, 0, 0, 0, 0, 0, 0, 0, 0, 0, ...</td>\n",
       "      <td>2022-10-10 11:40:36</td>\n",
       "      <td>10</td>\n",
       "      <td>10</td>\n",
       "      <td>0</td>\n",
       "      <td>11</td>\n",
       "      <td>[1, 0, 0, 0, 0, 0, 0, 0, 0, 0]</td>\n",
       "    </tr>\n",
       "  </tbody>\n",
       "</table>\n",
       "<p>2 rows × 28 columns</p>\n",
       "</div>"
      ],
      "text/plain": [
       "                                               title  body  size created_by  \\\n",
       "0                           add knikolla and cleanup  None     1   schwesig   \n",
       "1  pre-commit to clean up existing errors (traili...  None     0   schwesig   \n",
       "\n",
       "   created_at     closed_at closed_by     merged_at merged_by  commits_number  \\\n",
       "0  1665410557  1.665411e+09   sesheta  1.665411e+09   sesheta               2   \n",
       "1  1665402036  1.665409e+09   sesheta  1.665409e+09   sesheta               1   \n",
       "\n",
       "   ...   id time_to_merge body_size  \\\n",
       "0  ...  229         476.0         0   \n",
       "1  ...  228        7081.0         0   \n",
       "\n",
       "                               title_word_counts_vec created_at_datetime  \\\n",
       "0  [0, 0, 0, 0, 0, 1, 0, 0, 0, 0, 0, 0, 0, 0, 0, ... 2022-10-10 14:02:37   \n",
       "1  [0, 0, 0, 0, 0, 0, 0, 0, 0, 0, 0, 0, 0, 0, 0, ... 2022-10-10 11:40:36   \n",
       "\n",
       "  created_at_day  created_at_month  created_at_weekday created_at_hour  \\\n",
       "0             10                10                   0              14   \n",
       "1             10                10                   0              11   \n",
       "\n",
       "            changed_file_type_vec  \n",
       "0  [0, 0, 0, 1, 0, 0, 0, 0, 0, 0]  \n",
       "1  [1, 0, 0, 0, 0, 0, 0, 0, 0, 0]  \n",
       "\n",
       "[2 rows x 28 columns]"
      ]
     },
     "execution_count": 50,
     "metadata": {},
     "output_type": "execute_result"
    }
   ],
   "source": [
    "pr_df.head(2)"
   ]
  },
  {
   "cell_type": "markdown",
   "id": "8102f95e-6175-4b46-99c1-66175f20325c",
   "metadata": {},
   "source": [
    "## Create PR trends dashboard"
   ]
  },
  {
   "cell_type": "markdown",
   "id": "20034da4-1f92-4170-b089-ce8396076285",
   "metadata": {},
   "source": [
    "### SQL-ify columns for creating SQL Tables from the dataframe"
   ]
  },
  {
   "cell_type": "code",
   "execution_count": 51,
   "id": "f9d5d0e1-8d50-4cd9-85fe-f3365f05e082",
   "metadata": {
    "execution": {
     "iopub.execute_input": "2022-10-13T22:55:10.065329Z",
     "iopub.status.busy": "2022-10-13T22:55:10.064860Z",
     "iopub.status.idle": "2022-10-13T22:55:10.077663Z",
     "shell.execute_reply": "2022-10-13T22:55:10.076896Z"
    }
   },
   "outputs": [
    {
     "name": "stdout",
     "output_type": "stream",
     "text": [
      "<class 'pandas.core.frame.DataFrame'>\n",
      "RangeIndex: 94 entries, 0 to 93\n",
      "Data columns (total 28 columns):\n",
      " #   Column                 Non-Null Count  Dtype         \n",
      "---  ------                 --------------  -----         \n",
      " 0   title                  94 non-null     object        \n",
      " 1   body                   82 non-null     object        \n",
      " 2   size                   94 non-null     int64         \n",
      " 3   created_by             94 non-null     object        \n",
      " 4   created_at             94 non-null     int64         \n",
      " 5   closed_at              88 non-null     float64       \n",
      " 6   closed_by              88 non-null     object        \n",
      " 7   merged_at              80 non-null     float64       \n",
      " 8   merged_by              80 non-null     object        \n",
      " 9   commits_number         94 non-null     int64         \n",
      " 10  changed_files_number   94 non-null     int64         \n",
      " 11  interactions           94 non-null     object        \n",
      " 12  reviews                94 non-null     object        \n",
      " 13  labels                 94 non-null     object        \n",
      " 14  commits                94 non-null     object        \n",
      " 15  changed_files          94 non-null     object        \n",
      " 16  first_review_at        56 non-null     float64       \n",
      " 17  first_approve_at       39 non-null     float64       \n",
      " 18  id                     94 non-null     object        \n",
      " 19  time_to_merge          80 non-null     float64       \n",
      " 20  body_size              94 non-null     int64         \n",
      " 21  title_word_counts_vec  94 non-null     object        \n",
      " 22  created_at_datetime    94 non-null     datetime64[ns]\n",
      " 23  created_at_day         94 non-null     int64         \n",
      " 24  created_at_month       94 non-null     int64         \n",
      " 25  created_at_weekday     94 non-null     int64         \n",
      " 26  created_at_hour        94 non-null     int64         \n",
      " 27  changed_file_type_vec  94 non-null     object        \n",
      "dtypes: datetime64[ns](1), float64(5), int64(9), object(13)\n",
      "memory usage: 20.7+ KB\n"
     ]
    }
   ],
   "source": [
    "pr_df.info()"
   ]
  },
  {
   "cell_type": "code",
   "execution_count": 52,
   "id": "97382545-e28a-4744-9a58-0a6403264e9f",
   "metadata": {
    "execution": {
     "iopub.execute_input": "2022-10-13T22:55:10.080762Z",
     "iopub.status.busy": "2022-10-13T22:55:10.080439Z",
     "iopub.status.idle": "2022-10-13T22:55:10.102113Z",
     "shell.execute_reply": "2022-10-13T22:55:10.101449Z"
    }
   },
   "outputs": [
    {
     "data": {
      "text/html": [
       "<div>\n",
       "<style scoped>\n",
       "    .dataframe tbody tr th:only-of-type {\n",
       "        vertical-align: middle;\n",
       "    }\n",
       "\n",
       "    .dataframe tbody tr th {\n",
       "        vertical-align: top;\n",
       "    }\n",
       "\n",
       "    .dataframe thead th {\n",
       "        text-align: right;\n",
       "    }\n",
       "</style>\n",
       "<table border=\"1\" class=\"dataframe\">\n",
       "  <thead>\n",
       "    <tr style=\"text-align: right;\">\n",
       "      <th></th>\n",
       "      <th>title</th>\n",
       "      <th>body</th>\n",
       "      <th>size</th>\n",
       "      <th>created_by</th>\n",
       "      <th>created_at</th>\n",
       "      <th>closed_at</th>\n",
       "      <th>closed_by</th>\n",
       "      <th>merged_at</th>\n",
       "      <th>merged_by</th>\n",
       "      <th>commits_number</th>\n",
       "      <th>...</th>\n",
       "      <th>first_review_at</th>\n",
       "      <th>first_approve_at</th>\n",
       "      <th>id</th>\n",
       "      <th>time_to_merge</th>\n",
       "      <th>body_size</th>\n",
       "      <th>created_at_datetime</th>\n",
       "      <th>created_at_day</th>\n",
       "      <th>created_at_month</th>\n",
       "      <th>created_at_weekday</th>\n",
       "      <th>created_at_hour</th>\n",
       "    </tr>\n",
       "  </thead>\n",
       "  <tbody>\n",
       "    <tr>\n",
       "      <th>0</th>\n",
       "      <td>add knikolla and cleanup</td>\n",
       "      <td>None</td>\n",
       "      <td>1</td>\n",
       "      <td>schwesig</td>\n",
       "      <td>1665410557</td>\n",
       "      <td>1.665411e+09</td>\n",
       "      <td>sesheta</td>\n",
       "      <td>1.665411e+09</td>\n",
       "      <td>sesheta</td>\n",
       "      <td>2</td>\n",
       "      <td>...</td>\n",
       "      <td>NaN</td>\n",
       "      <td>NaN</td>\n",
       "      <td>229</td>\n",
       "      <td>476.0</td>\n",
       "      <td>0</td>\n",
       "      <td>2022-10-10 14:02:37</td>\n",
       "      <td>10</td>\n",
       "      <td>10</td>\n",
       "      <td>0</td>\n",
       "      <td>14</td>\n",
       "    </tr>\n",
       "    <tr>\n",
       "      <th>1</th>\n",
       "      <td>pre-commit to clean up existing errors (traili...</td>\n",
       "      <td>None</td>\n",
       "      <td>0</td>\n",
       "      <td>schwesig</td>\n",
       "      <td>1665402036</td>\n",
       "      <td>1.665409e+09</td>\n",
       "      <td>sesheta</td>\n",
       "      <td>1.665409e+09</td>\n",
       "      <td>sesheta</td>\n",
       "      <td>1</td>\n",
       "      <td>...</td>\n",
       "      <td>NaN</td>\n",
       "      <td>NaN</td>\n",
       "      <td>228</td>\n",
       "      <td>7081.0</td>\n",
       "      <td>0</td>\n",
       "      <td>2022-10-10 11:40:36</td>\n",
       "      <td>10</td>\n",
       "      <td>10</td>\n",
       "      <td>0</td>\n",
       "      <td>11</td>\n",
       "    </tr>\n",
       "    <tr>\n",
       "      <th>2</th>\n",
       "      <td>Add knikolla</td>\n",
       "      <td>None</td>\n",
       "      <td>0</td>\n",
       "      <td>schwesig</td>\n",
       "      <td>1665079206</td>\n",
       "      <td>1.665409e+09</td>\n",
       "      <td>schwesig</td>\n",
       "      <td>NaN</td>\n",
       "      <td>None</td>\n",
       "      <td>0</td>\n",
       "      <td>...</td>\n",
       "      <td>1.665127e+09</td>\n",
       "      <td>NaN</td>\n",
       "      <td>225</td>\n",
       "      <td>NaN</td>\n",
       "      <td>0</td>\n",
       "      <td>2022-10-06 18:00:06</td>\n",
       "      <td>6</td>\n",
       "      <td>10</td>\n",
       "      <td>3</td>\n",
       "      <td>18</td>\n",
       "    </tr>\n",
       "    <tr>\n",
       "      <th>3</th>\n",
       "      <td>Create 20221006-meeting-notes.md</td>\n",
       "      <td>None</td>\n",
       "      <td>2</td>\n",
       "      <td>schwesig</td>\n",
       "      <td>1665078958</td>\n",
       "      <td>1.665148e+09</td>\n",
       "      <td>schwesig</td>\n",
       "      <td>1.665148e+09</td>\n",
       "      <td>schwesig</td>\n",
       "      <td>1</td>\n",
       "      <td>...</td>\n",
       "      <td>1.665079e+09</td>\n",
       "      <td>1.665079e+09</td>\n",
       "      <td>224</td>\n",
       "      <td>68588.0</td>\n",
       "      <td>0</td>\n",
       "      <td>2022-10-06 17:55:58</td>\n",
       "      <td>6</td>\n",
       "      <td>10</td>\n",
       "      <td>3</td>\n",
       "      <td>17</td>\n",
       "    </tr>\n",
       "    <tr>\n",
       "      <th>4</th>\n",
       "      <td>Update wording to be more open and inclusive.</td>\n",
       "      <td>Updates as worked out with Karsten\\r\\n</td>\n",
       "      <td>0</td>\n",
       "      <td>billburnseh</td>\n",
       "      <td>1663618828</td>\n",
       "      <td>1.663619e+09</td>\n",
       "      <td>billburnseh</td>\n",
       "      <td>1.663619e+09</td>\n",
       "      <td>billburnseh</td>\n",
       "      <td>2</td>\n",
       "      <td>...</td>\n",
       "      <td>NaN</td>\n",
       "      <td>NaN</td>\n",
       "      <td>223</td>\n",
       "      <td>11.0</td>\n",
       "      <td>6</td>\n",
       "      <td>2022-09-19 20:20:28</td>\n",
       "      <td>19</td>\n",
       "      <td>9</td>\n",
       "      <td>0</td>\n",
       "      <td>20</td>\n",
       "    </tr>\n",
       "  </tbody>\n",
       "</table>\n",
       "<p>5 rows × 21 columns</p>\n",
       "</div>"
      ],
      "text/plain": [
       "                                               title  \\\n",
       "0                           add knikolla and cleanup   \n",
       "1  pre-commit to clean up existing errors (traili...   \n",
       "2                                       Add knikolla   \n",
       "3                   Create 20221006-meeting-notes.md   \n",
       "4      Update wording to be more open and inclusive.   \n",
       "\n",
       "                                     body  size   created_by  created_at  \\\n",
       "0                                    None     1     schwesig  1665410557   \n",
       "1                                    None     0     schwesig  1665402036   \n",
       "2                                    None     0     schwesig  1665079206   \n",
       "3                                    None     2     schwesig  1665078958   \n",
       "4  Updates as worked out with Karsten\\r\\n     0  billburnseh  1663618828   \n",
       "\n",
       "      closed_at    closed_by     merged_at    merged_by  commits_number  ...  \\\n",
       "0  1.665411e+09      sesheta  1.665411e+09      sesheta               2  ...   \n",
       "1  1.665409e+09      sesheta  1.665409e+09      sesheta               1  ...   \n",
       "2  1.665409e+09     schwesig           NaN         None               0  ...   \n",
       "3  1.665148e+09     schwesig  1.665148e+09     schwesig               1  ...   \n",
       "4  1.663619e+09  billburnseh  1.663619e+09  billburnseh               2  ...   \n",
       "\n",
       "   first_review_at  first_approve_at   id time_to_merge  body_size  \\\n",
       "0              NaN               NaN  229         476.0          0   \n",
       "1              NaN               NaN  228        7081.0          0   \n",
       "2     1.665127e+09               NaN  225           NaN          0   \n",
       "3     1.665079e+09      1.665079e+09  224       68588.0          0   \n",
       "4              NaN               NaN  223          11.0          6   \n",
       "\n",
       "   created_at_datetime created_at_day  created_at_month  created_at_weekday  \\\n",
       "0  2022-10-10 14:02:37             10                10                   0   \n",
       "1  2022-10-10 11:40:36             10                10                   0   \n",
       "2  2022-10-06 18:00:06              6                10                   3   \n",
       "3  2022-10-06 17:55:58              6                10                   3   \n",
       "4  2022-09-19 20:20:28             19                 9                   0   \n",
       "\n",
       "   created_at_hour  \n",
       "0               14  \n",
       "1               11  \n",
       "2               18  \n",
       "3               17  \n",
       "4               20  \n",
       "\n",
       "[5 rows x 21 columns]"
      ]
     },
     "execution_count": 52,
     "metadata": {},
     "output_type": "execute_result"
    }
   ],
   "source": [
    "cols_to_drop = [\n",
    "    \"interactions\",\n",
    "    \"reviews\",\n",
    "    \"labels\",\n",
    "    \"commits\",\n",
    "    \"changed_files\",\n",
    "    \"title_word_counts_vec\",\n",
    "    \"changed_file_type_vec\",\n",
    "]\n",
    "sql_df = pr_df.drop(columns=cols_to_drop)\n",
    "sql_df.head()"
   ]
  },
  {
   "cell_type": "code",
   "execution_count": 53,
   "id": "44594314-3e2e-4547-bf41-1503a073fbe6",
   "metadata": {
    "execution": {
     "iopub.execute_input": "2022-10-13T22:55:10.105482Z",
     "iopub.status.busy": "2022-10-13T22:55:10.105081Z",
     "iopub.status.idle": "2022-10-13T22:55:10.109558Z",
     "shell.execute_reply": "2022-10-13T22:55:10.108986Z"
    }
   },
   "outputs": [],
   "source": [
    "sql_df = sql_df.infer_objects()"
   ]
  },
  {
   "cell_type": "code",
   "execution_count": 54,
   "id": "c652865e-6b30-461d-b26e-65954b5476a6",
   "metadata": {
    "execution": {
     "iopub.execute_input": "2022-10-13T22:55:10.112746Z",
     "iopub.status.busy": "2022-10-13T22:55:10.112409Z",
     "iopub.status.idle": "2022-10-13T22:55:10.119542Z",
     "shell.execute_reply": "2022-10-13T22:55:10.118973Z"
    }
   },
   "outputs": [],
   "source": [
    "# convert to timestamps\n",
    "ts_cols = [\"created_at\", \"closed_at\", \"merged_at\"]\n",
    "\n",
    "for c in ts_cols:\n",
    "    sql_df[c] = pd.to_datetime(sql_df[c], unit=\"s\")"
   ]
  },
  {
   "cell_type": "code",
   "execution_count": 55,
   "id": "13e0dd10-01a4-43a7-9b9e-cd94bc5c6ee7",
   "metadata": {
    "execution": {
     "iopub.execute_input": "2022-10-13T22:55:10.122678Z",
     "iopub.status.busy": "2022-10-13T22:55:10.122136Z",
     "iopub.status.idle": "2022-10-13T22:55:10.129386Z",
     "shell.execute_reply": "2022-10-13T22:55:10.128799Z"
    }
   },
   "outputs": [
    {
     "data": {
      "text/plain": [
       "title                           object\n",
       "body                            object\n",
       "size                             int64\n",
       "created_by                      object\n",
       "created_at              datetime64[ns]\n",
       "closed_at               datetime64[ns]\n",
       "closed_by                       object\n",
       "merged_at               datetime64[ns]\n",
       "merged_by                       object\n",
       "commits_number                   int64\n",
       "changed_files_number             int64\n",
       "first_review_at                float64\n",
       "first_approve_at               float64\n",
       "id                              object\n",
       "time_to_merge                  float64\n",
       "body_size                        int64\n",
       "created_at_datetime     datetime64[ns]\n",
       "created_at_day                   int64\n",
       "created_at_month                 int64\n",
       "created_at_weekday               int64\n",
       "created_at_hour                  int64\n",
       "dtype: object"
      ]
     },
     "execution_count": 55,
     "metadata": {},
     "output_type": "execute_result"
    }
   ],
   "source": [
    "sql_df.dtypes"
   ]
  },
  {
   "cell_type": "markdown",
   "id": "5e502b7f-49c4-4024-aebc-3c9720a94209",
   "metadata": {},
   "source": [
    "## Infer dataframe columns as Features"
   ]
  },
  {
   "cell_type": "markdown",
   "id": "70443afd",
   "metadata": {},
   "source": [
    "We can see above that some PRs have 0 for all directory fields since the directory structure of the repo has changed over time and we are interested in only the latest directory structure."
   ]
  },
  {
   "cell_type": "code",
   "execution_count": 56,
   "id": "64e7a822",
   "metadata": {
    "execution": {
     "iopub.execute_input": "2022-10-13T22:55:10.132961Z",
     "iopub.status.busy": "2022-10-13T22:55:10.132390Z",
     "iopub.status.idle": "2022-10-13T22:55:10.138048Z",
     "shell.execute_reply": "2022-10-13T22:55:10.137468Z"
    }
   },
   "outputs": [],
   "source": [
    "# subset DataFrame to use as features\n",
    "feature_df = pr_df[\n",
    "    [\n",
    "        \"time_to_merge\",\n",
    "        \"changed_files_number\",\n",
    "        \"body_size\",\n",
    "        \"size\",\n",
    "        \"title_word_counts_vec\",\n",
    "        \"created_at_day\",\n",
    "        \"created_at_month\",\n",
    "        \"created_at_weekday\",\n",
    "        \"created_at_hour\",\n",
    "        \"commits_number\",\n",
    "        \"changed_file_type_vec\",\n",
    "    ]\n",
    "]"
   ]
  },
  {
   "cell_type": "markdown",
   "id": "0b08a241",
   "metadata": {},
   "source": [
    "### Add PR TTM Class Column \n",
    "\n",
    "Lets split up the time to merge values into 10 discrete bins (as discussed above) to use as our prediction classes."
   ]
  },
  {
   "cell_type": "code",
   "execution_count": 57,
   "id": "b1a5adc0-e8e2-4159-af36-a6fdc938de17",
   "metadata": {
    "execution": {
     "iopub.execute_input": "2022-10-13T22:55:10.141561Z",
     "iopub.status.busy": "2022-10-13T22:55:10.141004Z",
     "iopub.status.idle": "2022-10-13T22:55:10.148347Z",
     "shell.execute_reply": "2022-10-13T22:55:10.147790Z"
    }
   },
   "outputs": [
    {
     "data": {
      "text/plain": [
       "0.0         11.0\n",
       "0.1         48.1\n",
       "0.2        327.0\n",
       "0.3       4442.5\n",
       "0.4      39709.6\n",
       "0.5      59925.0\n",
       "0.6      88395.4\n",
       "0.7     426698.0\n",
       "0.8    1044979.2\n",
       "0.9    2048763.9\n",
       "Name: time_to_merge, dtype: float64"
      ]
     },
     "execution_count": 57,
     "metadata": {},
     "output_type": "execute_result"
    }
   ],
   "source": [
    "intervals"
   ]
  },
  {
   "cell_type": "code",
   "execution_count": 58,
   "id": "ec16152d-0fb3-4775-913a-9e476382d713",
   "metadata": {
    "execution": {
     "iopub.execute_input": "2022-10-13T22:55:10.151551Z",
     "iopub.status.busy": "2022-10-13T22:55:10.151112Z",
     "iopub.status.idle": "2022-10-13T22:55:10.181801Z",
     "shell.execute_reply": "2022-10-13T22:55:10.181196Z"
    }
   },
   "outputs": [
    {
     "name": "stderr",
     "output_type": "stream",
     "text": [
      "/tmp/ipykernel_383/2436122750.py:9: SettingWithCopyWarning: \n",
      "A value is trying to be set on a copy of a slice from a DataFrame.\n",
      "Try using .loc[row_indexer,col_indexer] = value instead\n",
      "\n",
      "See the caveats in the documentation: https://pandas.pydata.org/pandas-docs/stable/user_guide/indexing.html#returning-a-view-versus-a-copy\n",
      "  feature_df[\"ttm_class\"] = (feature_df[\"time_to_merge\"]).apply(get_ttm_class)\n"
     ]
    },
    {
     "data": {
      "text/html": [
       "<div>\n",
       "<style scoped>\n",
       "    .dataframe tbody tr th:only-of-type {\n",
       "        vertical-align: middle;\n",
       "    }\n",
       "\n",
       "    .dataframe tbody tr th {\n",
       "        vertical-align: top;\n",
       "    }\n",
       "\n",
       "    .dataframe thead th {\n",
       "        text-align: right;\n",
       "    }\n",
       "</style>\n",
       "<table border=\"1\" class=\"dataframe\">\n",
       "  <thead>\n",
       "    <tr style=\"text-align: right;\">\n",
       "      <th></th>\n",
       "      <th>time_to_merge</th>\n",
       "      <th>changed_files_number</th>\n",
       "      <th>body_size</th>\n",
       "      <th>size</th>\n",
       "      <th>title_word_counts_vec</th>\n",
       "      <th>created_at_day</th>\n",
       "      <th>created_at_month</th>\n",
       "      <th>created_at_weekday</th>\n",
       "      <th>created_at_hour</th>\n",
       "      <th>commits_number</th>\n",
       "      <th>changed_file_type_vec</th>\n",
       "      <th>ttm_class</th>\n",
       "    </tr>\n",
       "  </thead>\n",
       "  <tbody>\n",
       "    <tr>\n",
       "      <th>0</th>\n",
       "      <td>476.0</td>\n",
       "      <td>1</td>\n",
       "      <td>0</td>\n",
       "      <td>1</td>\n",
       "      <td>[0, 0, 0, 0, 0, 1, 0, 0, 0, 0, 0, 0, 0, 0, 0, ...</td>\n",
       "      <td>10</td>\n",
       "      <td>10</td>\n",
       "      <td>0</td>\n",
       "      <td>14</td>\n",
       "      <td>2</td>\n",
       "      <td>[0, 0, 0, 1, 0, 0, 0, 0, 0, 0]</td>\n",
       "      <td>2</td>\n",
       "    </tr>\n",
       "    <tr>\n",
       "      <th>1</th>\n",
       "      <td>7081.0</td>\n",
       "      <td>1</td>\n",
       "      <td>0</td>\n",
       "      <td>0</td>\n",
       "      <td>[0, 0, 0, 0, 0, 0, 0, 0, 0, 0, 0, 0, 0, 0, 0, ...</td>\n",
       "      <td>10</td>\n",
       "      <td>10</td>\n",
       "      <td>0</td>\n",
       "      <td>11</td>\n",
       "      <td>1</td>\n",
       "      <td>[1, 0, 0, 0, 0, 0, 0, 0, 0, 0]</td>\n",
       "      <td>3</td>\n",
       "    </tr>\n",
       "    <tr>\n",
       "      <th>2</th>\n",
       "      <td>NaN</td>\n",
       "      <td>0</td>\n",
       "      <td>0</td>\n",
       "      <td>0</td>\n",
       "      <td>[0, 0, 0, 0, 0, 1, 0, 0, 0, 0, 0, 0, 0, 0, 0, ...</td>\n",
       "      <td>6</td>\n",
       "      <td>10</td>\n",
       "      <td>3</td>\n",
       "      <td>18</td>\n",
       "      <td>0</td>\n",
       "      <td>[0, 0, 0, 0, 0, 0, 0, 0, 0, 0]</td>\n",
       "      <td>9</td>\n",
       "    </tr>\n",
       "    <tr>\n",
       "      <th>3</th>\n",
       "      <td>68588.0</td>\n",
       "      <td>1</td>\n",
       "      <td>0</td>\n",
       "      <td>2</td>\n",
       "      <td>[0, 0, 0, 0, 0, 0, 0, 0, 0, 0, 0, 0, 0, 0, 0, ...</td>\n",
       "      <td>6</td>\n",
       "      <td>10</td>\n",
       "      <td>3</td>\n",
       "      <td>17</td>\n",
       "      <td>1</td>\n",
       "      <td>[1, 0, 0, 0, 0, 0, 0, 0, 0, 0]</td>\n",
       "      <td>5</td>\n",
       "    </tr>\n",
       "    <tr>\n",
       "      <th>4</th>\n",
       "      <td>11.0</td>\n",
       "      <td>1</td>\n",
       "      <td>6</td>\n",
       "      <td>0</td>\n",
       "      <td>[0, 0, 0, 0, 0, 0, 0, 0, 0, 0, 0, 0, 0, 0, 0, ...</td>\n",
       "      <td>19</td>\n",
       "      <td>9</td>\n",
       "      <td>0</td>\n",
       "      <td>20</td>\n",
       "      <td>2</td>\n",
       "      <td>[1, 0, 0, 0, 0, 0, 0, 0, 0, 0]</td>\n",
       "      <td>0</td>\n",
       "    </tr>\n",
       "  </tbody>\n",
       "</table>\n",
       "</div>"
      ],
      "text/plain": [
       "   time_to_merge  changed_files_number  body_size  size  \\\n",
       "0          476.0                     1          0     1   \n",
       "1         7081.0                     1          0     0   \n",
       "2            NaN                     0          0     0   \n",
       "3        68588.0                     1          0     2   \n",
       "4           11.0                     1          6     0   \n",
       "\n",
       "                               title_word_counts_vec  created_at_day  \\\n",
       "0  [0, 0, 0, 0, 0, 1, 0, 0, 0, 0, 0, 0, 0, 0, 0, ...              10   \n",
       "1  [0, 0, 0, 0, 0, 0, 0, 0, 0, 0, 0, 0, 0, 0, 0, ...              10   \n",
       "2  [0, 0, 0, 0, 0, 1, 0, 0, 0, 0, 0, 0, 0, 0, 0, ...               6   \n",
       "3  [0, 0, 0, 0, 0, 0, 0, 0, 0, 0, 0, 0, 0, 0, 0, ...               6   \n",
       "4  [0, 0, 0, 0, 0, 0, 0, 0, 0, 0, 0, 0, 0, 0, 0, ...              19   \n",
       "\n",
       "   created_at_month  created_at_weekday  created_at_hour  commits_number  \\\n",
       "0                10                   0               14               2   \n",
       "1                10                   0               11               1   \n",
       "2                10                   3               18               0   \n",
       "3                10                   3               17               1   \n",
       "4                 9                   0               20               2   \n",
       "\n",
       "            changed_file_type_vec  ttm_class  \n",
       "0  [0, 0, 0, 1, 0, 0, 0, 0, 0, 0]          2  \n",
       "1  [1, 0, 0, 0, 0, 0, 0, 0, 0, 0]          3  \n",
       "2  [0, 0, 0, 0, 0, 0, 0, 0, 0, 0]          9  \n",
       "3  [1, 0, 0, 0, 0, 0, 0, 0, 0, 0]          5  \n",
       "4  [1, 0, 0, 0, 0, 0, 0, 0, 0, 0]          0  "
      ]
     },
     "execution_count": 58,
     "metadata": {},
     "output_type": "execute_result"
    }
   ],
   "source": [
    "def get_ttm_class(ttm):\n",
    "\n",
    "    for rownum, (indx, val) in enumerate(intervals.iteritems()):\n",
    "        if ttm < val:\n",
    "            return rownum - 1\n",
    "    return 9\n",
    "\n",
    "\n",
    "feature_df[\"ttm_class\"] = (feature_df[\"time_to_merge\"]).apply(get_ttm_class)\n",
    "feature_df.head()"
   ]
  },
  {
   "cell_type": "code",
   "execution_count": 59,
   "id": "a4ac70a2",
   "metadata": {
    "execution": {
     "iopub.execute_input": "2022-10-13T22:55:10.185169Z",
     "iopub.status.busy": "2022-10-13T22:55:10.184554Z",
     "iopub.status.idle": "2022-10-13T22:55:10.317261Z",
     "shell.execute_reply": "2022-10-13T22:55:10.316598Z"
    }
   },
   "outputs": [
    {
     "data": {
      "image/png": "[encoded data removed]",
      "text/plain": [
       "<Figure size 432x288 with 1 Axes>"
      ]
     },
     "metadata": {
      "needs_background": "light"
     },
     "output_type": "display_data"
    }
   ],
   "source": [
    "# visualize data points distribution across classes\n",
    "feature_df[\"ttm_class\"].hist()\n",
    "plt.title(\"Distribution of PRs across TTM Labels\")\n",
    "plt.xlabel(\"Time to Merge Class\")\n",
    "plt.ylabel(\"Number of PRs\")\n",
    "plt.show()"
   ]
  },
  {
   "cell_type": "markdown",
   "id": "05ed3109",
   "metadata": {},
   "source": [
    "From the above graph, we can see that data is fairly uniformly distributed across all classes. At the same time, the class definitions are also easily interpretable by human experts. So this seems like a good setup for our classification task."
   ]
  },
  {
   "cell_type": "markdown",
   "id": "07b03ef5",
   "metadata": {},
   "source": [
    "Let's look at some pair-wise scatter plots of our data to see if there are any obvious correlations between our features. "
   ]
  },
  {
   "cell_type": "code",
   "execution_count": 60,
   "id": "a1da3f1f",
   "metadata": {
    "execution": {
     "iopub.execute_input": "2022-10-13T22:55:10.321090Z",
     "iopub.status.busy": "2022-10-13T22:55:10.320703Z",
     "iopub.status.idle": "2022-10-13T22:55:10.970514Z",
     "shell.execute_reply": "2022-10-13T22:55:10.969411Z"
    }
   },
   "outputs": [
    {
     "data": {
      "image/png": "[encoded data removed]",
      "text/plain": [
       "<Figure size 432x288 with 6 Axes>"
      ]
     },
     "metadata": {
      "needs_background": "light"
     },
     "output_type": "display_data"
    }
   ],
   "source": [
    "fig, ((ax1, ax2, ax3), (ax4, ax5, ax6)) = plt.subplots(2, 3)\n",
    "ax1.scatter(pr_df[\"time_to_merge\"], pr_df[\"body_size\"])\n",
    "ax1.set(xlabel=\"time to merge (seconds)\", ylabel=\"body_size\")\n",
    "ax2.scatter(pr_df[\"time_to_merge\"], pr_df[\"changed_files_number\"])\n",
    "ax2.set(xlabel=\"time to merge (seconds)\", ylabel=\"changed_file_number\")\n",
    "ax3.scatter(pr_df[\"body_size\"], pr_df[\"changed_files_number\"])\n",
    "ax3.set(xlabel=\"body size\", ylabel=\"changed_file_number\")\n",
    "\n",
    "ax4.scatter(pr_df[\"size\"], pr_df[\"changed_files_number\"])\n",
    "ax4.set(xlabel=\"size\", ylabel=\"changed_file_number\")\n",
    "ax5.scatter(pr_df[\"size\"], pr_df[\"time_to_merge\"])\n",
    "ax5.set(xlabel=\"size\", ylabel=\"time_to_merge (seconds)\")\n",
    "ax6.scatter(pr_df[\"size\"], pr_df[\"body_size\"])\n",
    "ax6.set(xlabel=\"size\", ylabel=\"body_size\")\n",
    "\n",
    "fig.suptitle(\"Pair-Wise Scatter Plots\")\n",
    "plt.show()"
   ]
  },
  {
   "cell_type": "markdown",
   "id": "04749f45",
   "metadata": {},
   "source": [
    "## Evaluating Feature Importances\n",
    "\n",
    "### Categorical Features\n",
    "\n",
    "First, lets try to determine what categorical featuers are powerful influencers for time to merge of a PR"
   ]
  },
  {
   "cell_type": "code",
   "execution_count": 61,
   "id": "e353c92b",
   "metadata": {
    "execution": {
     "iopub.execute_input": "2022-10-13T22:55:10.974008Z",
     "iopub.status.busy": "2022-10-13T22:55:10.973739Z",
     "iopub.status.idle": "2022-10-13T22:55:10.977716Z",
     "shell.execute_reply": "2022-10-13T22:55:10.977057Z"
    }
   },
   "outputs": [],
   "source": [
    "# feature selection helper function\n",
    "def select_features(x, y, func):\n",
    "    fs = SelectKBest(score_func=func, k=\"all\")\n",
    "    fs.fit(x, y)\n",
    "    x_fs = fs.transform(x)\n",
    "    return x_fs, fs\n",
    "\n",
    "\n",
    "selected_features = []"
   ]
  },
  {
   "cell_type": "code",
   "execution_count": 62,
   "id": "986b3424-0401-4c7a-8f28-a860b87e14ef",
   "metadata": {
    "execution": {
     "iopub.execute_input": "2022-10-13T22:55:10.980697Z",
     "iopub.status.busy": "2022-10-13T22:55:10.980351Z",
     "iopub.status.idle": "2022-10-13T22:55:10.983831Z",
     "shell.execute_reply": "2022-10-13T22:55:10.983199Z"
    }
   },
   "outputs": [],
   "source": [
    "cat_features = [\n",
    "    \"size\",\n",
    "    \"created_at_day\",\n",
    "    \"created_at_month\",\n",
    "    \"created_at_weekday\",\n",
    "    \"created_at_hour\",\n",
    "    \"ttm_class\",\n",
    "]"
   ]
  },
  {
   "cell_type": "code",
   "execution_count": 63,
   "id": "3e1d24a4",
   "metadata": {
    "execution": {
     "iopub.execute_input": "2022-10-13T22:55:10.986683Z",
     "iopub.status.busy": "2022-10-13T22:55:10.986183Z",
     "iopub.status.idle": "2022-10-13T22:55:10.994208Z",
     "shell.execute_reply": "2022-10-13T22:55:10.993584Z"
    }
   },
   "outputs": [
    {
     "data": {
      "text/html": [
       "<div>\n",
       "<style scoped>\n",
       "    .dataframe tbody tr th:only-of-type {\n",
       "        vertical-align: middle;\n",
       "    }\n",
       "\n",
       "    .dataframe tbody tr th {\n",
       "        vertical-align: top;\n",
       "    }\n",
       "\n",
       "    .dataframe thead th {\n",
       "        text-align: right;\n",
       "    }\n",
       "</style>\n",
       "<table border=\"1\" class=\"dataframe\">\n",
       "  <thead>\n",
       "    <tr style=\"text-align: right;\">\n",
       "      <th></th>\n",
       "      <th>size</th>\n",
       "      <th>created_at_day</th>\n",
       "      <th>created_at_month</th>\n",
       "      <th>created_at_weekday</th>\n",
       "      <th>created_at_hour</th>\n",
       "      <th>ttm_class</th>\n",
       "    </tr>\n",
       "  </thead>\n",
       "  <tbody>\n",
       "    <tr>\n",
       "      <th>0</th>\n",
       "      <td>1</td>\n",
       "      <td>10</td>\n",
       "      <td>10</td>\n",
       "      <td>0</td>\n",
       "      <td>14</td>\n",
       "      <td>2</td>\n",
       "    </tr>\n",
       "    <tr>\n",
       "      <th>1</th>\n",
       "      <td>0</td>\n",
       "      <td>10</td>\n",
       "      <td>10</td>\n",
       "      <td>0</td>\n",
       "      <td>11</td>\n",
       "      <td>3</td>\n",
       "    </tr>\n",
       "    <tr>\n",
       "      <th>2</th>\n",
       "      <td>0</td>\n",
       "      <td>6</td>\n",
       "      <td>10</td>\n",
       "      <td>3</td>\n",
       "      <td>18</td>\n",
       "      <td>9</td>\n",
       "    </tr>\n",
       "    <tr>\n",
       "      <th>3</th>\n",
       "      <td>2</td>\n",
       "      <td>6</td>\n",
       "      <td>10</td>\n",
       "      <td>3</td>\n",
       "      <td>17</td>\n",
       "      <td>5</td>\n",
       "    </tr>\n",
       "    <tr>\n",
       "      <th>4</th>\n",
       "      <td>0</td>\n",
       "      <td>19</td>\n",
       "      <td>9</td>\n",
       "      <td>0</td>\n",
       "      <td>20</td>\n",
       "      <td>0</td>\n",
       "    </tr>\n",
       "  </tbody>\n",
       "</table>\n",
       "</div>"
      ],
      "text/plain": [
       "   size  created_at_day  created_at_month  created_at_weekday  \\\n",
       "0     1              10                10                   0   \n",
       "1     0              10                10                   0   \n",
       "2     0               6                10                   3   \n",
       "3     2               6                10                   3   \n",
       "4     0              19                 9                   0   \n",
       "\n",
       "   created_at_hour  ttm_class  \n",
       "0               14          2  \n",
       "1               11          3  \n",
       "2               18          9  \n",
       "3               17          5  \n",
       "4               20          0  "
      ]
     },
     "execution_count": 63,
     "metadata": {},
     "output_type": "execute_result"
    }
   ],
   "source": [
    "cat_df = feature_df[cat_features]\n",
    "\n",
    "cat_df.head()"
   ]
  },
  {
   "cell_type": "code",
   "execution_count": 64,
   "id": "278e3073",
   "metadata": {
    "execution": {
     "iopub.execute_input": "2022-10-13T22:55:10.997528Z",
     "iopub.status.busy": "2022-10-13T22:55:10.997189Z",
     "iopub.status.idle": "2022-10-13T22:55:11.001138Z",
     "shell.execute_reply": "2022-10-13T22:55:11.000473Z"
    }
   },
   "outputs": [],
   "source": [
    "# split into input (x) and output (y) variables\n",
    "X_inp = cat_df.drop(columns=[\"ttm_class\"])\n",
    "y = cat_df[\"ttm_class\"]"
   ]
  },
  {
   "cell_type": "code",
   "execution_count": 65,
   "id": "2df4fb8d",
   "metadata": {
    "execution": {
     "iopub.execute_input": "2022-10-13T22:55:11.004165Z",
     "iopub.status.busy": "2022-10-13T22:55:11.003588Z",
     "iopub.status.idle": "2022-10-13T22:55:11.038964Z",
     "shell.execute_reply": "2022-10-13T22:55:11.038382Z"
    }
   },
   "outputs": [],
   "source": [
    "# rank using mutual_info_classif\n",
    "X_fs, fs = select_features(X_inp, y, mutual_info_classif)"
   ]
  },
  {
   "cell_type": "code",
   "execution_count": 66,
   "id": "418becb1",
   "metadata": {
    "execution": {
     "iopub.execute_input": "2022-10-13T22:55:11.041945Z",
     "iopub.status.busy": "2022-10-13T22:55:11.041500Z",
     "iopub.status.idle": "2022-10-13T22:55:11.045446Z",
     "shell.execute_reply": "2022-10-13T22:55:11.044750Z"
    }
   },
   "outputs": [
    {
     "name": "stdout",
     "output_type": "stream",
     "text": [
      "Feature size: 0.148722\n",
      "Feature created_at_day: 0.380279\n",
      "Feature created_at_month: 0.015339\n",
      "Feature created_at_weekday: 0.069987\n",
      "Feature created_at_hour: 0.100786\n"
     ]
    }
   ],
   "source": [
    "for i in range(len(fs.scores_)):\n",
    "    print(\"Feature %s: %f\" % (X_inp.columns[i], fs.scores_[i]))"
   ]
  },
  {
   "cell_type": "code",
   "execution_count": 67,
   "id": "b08ea157",
   "metadata": {
    "execution": {
     "iopub.execute_input": "2022-10-13T22:55:11.049069Z",
     "iopub.status.busy": "2022-10-13T22:55:11.048711Z",
     "iopub.status.idle": "2022-10-13T22:55:11.169008Z",
     "shell.execute_reply": "2022-10-13T22:55:11.168400Z"
    }
   },
   "outputs": [
    {
     "data": {
      "image/png": "[encoded data removed]",
      "text/plain": [
       "<Figure size 432x288 with 1 Axes>"
      ]
     },
     "metadata": {
      "needs_background": "light"
     },
     "output_type": "display_data"
    }
   ],
   "source": [
    "# visualize scores of all features\n",
    "sns.barplot(x=X_inp.columns, y=fs.scores_)\n",
    "plt.title(\"Feature importance scores for Mutual Information Statistic\")\n",
    "plt.xticks(rotation=60)\n",
    "plt.xlabel(\"Features\")\n",
    "plt.ylabel(\"Scores\")\n",
    "plt.show()"
   ]
  },
  {
   "cell_type": "code",
   "execution_count": 68,
   "id": "176c1d98",
   "metadata": {
    "execution": {
     "iopub.execute_input": "2022-10-13T22:55:11.172021Z",
     "iopub.status.busy": "2022-10-13T22:55:11.171556Z",
     "iopub.status.idle": "2022-10-13T22:55:11.174917Z",
     "shell.execute_reply": "2022-10-13T22:55:11.174413Z"
    }
   },
   "outputs": [],
   "source": [
    "# Lets get a list of the top 10 feature indices based on Mutual Info Stat feature scores\n",
    "top_mis = fs.scores_.argsort()[-10:][::-1]"
   ]
  },
  {
   "cell_type": "code",
   "execution_count": 69,
   "id": "c33dc4f2",
   "metadata": {
    "execution": {
     "iopub.execute_input": "2022-10-13T22:55:11.177638Z",
     "iopub.status.busy": "2022-10-13T22:55:11.177209Z",
     "iopub.status.idle": "2022-10-13T22:55:11.184056Z",
     "shell.execute_reply": "2022-10-13T22:55:11.183389Z"
    }
   },
   "outputs": [],
   "source": [
    "# rank using chi_sq\n",
    "X_fs, fs = select_features(X_inp, y, chi2)"
   ]
  },
  {
   "cell_type": "code",
   "execution_count": 70,
   "id": "313c6906",
   "metadata": {
    "execution": {
     "iopub.execute_input": "2022-10-13T22:55:11.186931Z",
     "iopub.status.busy": "2022-10-13T22:55:11.186490Z",
     "iopub.status.idle": "2022-10-13T22:55:11.192036Z",
     "shell.execute_reply": "2022-10-13T22:55:11.191465Z"
    }
   },
   "outputs": [
    {
     "name": "stdout",
     "output_type": "stream",
     "text": [
      "Feature size: 7.614388\n",
      "Feature created_at_day: 98.734956\n",
      "Feature created_at_month: 22.444406\n",
      "Feature created_at_weekday: 10.556818\n",
      "Feature created_at_hour: 20.267714\n"
     ]
    }
   ],
   "source": [
    "for i in range(len(fs.scores_)):\n",
    "    print(\"Feature %s: %f\" % (X_inp.columns[i], fs.scores_[i]))"
   ]
  },
  {
   "cell_type": "code",
   "execution_count": 71,
   "id": "460daed6",
   "metadata": {
    "execution": {
     "iopub.execute_input": "2022-10-13T22:55:11.195091Z",
     "iopub.status.busy": "2022-10-13T22:55:11.194749Z",
     "iopub.status.idle": "2022-10-13T22:55:11.311935Z",
     "shell.execute_reply": "2022-10-13T22:55:11.311355Z"
    }
   },
   "outputs": [
    {
     "data": {
      "image/png": "[encoded data removed]",
      "text/plain": [
       "<Figure size 432x288 with 1 Axes>"
      ]
     },
     "metadata": {
      "needs_background": "light"
     },
     "output_type": "display_data"
    }
   ],
   "source": [
    "# visualize scores of all features\n",
    "sns.barplot(x=X_inp.columns, y=fs.scores_)\n",
    "plt.title(\"Feature importance scores for Chi Squared\")\n",
    "plt.xticks(rotation=60)\n",
    "plt.xlabel(\"Features\")\n",
    "plt.ylabel(\"Scores\")\n",
    "plt.show()"
   ]
  },
  {
   "cell_type": "code",
   "execution_count": 72,
   "id": "9874b4b4",
   "metadata": {
    "execution": {
     "iopub.execute_input": "2022-10-13T22:55:11.316382Z",
     "iopub.status.busy": "2022-10-13T22:55:11.315127Z",
     "iopub.status.idle": "2022-10-13T22:55:11.319731Z",
     "shell.execute_reply": "2022-10-13T22:55:11.319226Z"
    }
   },
   "outputs": [],
   "source": [
    "# Lets get a list of the top 10 feature indices based on Chi Sq feature scores\n",
    "top_chi2 = fs.scores_.argsort()[-10:][::-1]"
   ]
  },
  {
   "cell_type": "markdown",
   "id": "5861b291",
   "metadata": {},
   "source": [
    "Let's get a Union of the top 10 features derived from features based on both scores of both Mutual Info Statistic and Chi Squared"
   ]
  },
  {
   "cell_type": "code",
   "execution_count": 73,
   "id": "fae59295",
   "metadata": {
    "execution": {
     "iopub.execute_input": "2022-10-13T22:55:11.323879Z",
     "iopub.status.busy": "2022-10-13T22:55:11.322667Z",
     "iopub.status.idle": "2022-10-13T22:55:11.330628Z",
     "shell.execute_reply": "2022-10-13T22:55:11.330064Z"
    }
   },
   "outputs": [
    {
     "name": "stdout",
     "output_type": "stream",
     "text": [
      "5\n"
     ]
    },
    {
     "data": {
      "text/plain": [
       "{0, 1, 2, 3, 4}"
      ]
     },
     "execution_count": 73,
     "metadata": {},
     "output_type": "execute_result"
    }
   ],
   "source": [
    "union = set(top_mis).union(set(top_chi2))\n",
    "print(len(union))\n",
    "union"
   ]
  },
  {
   "cell_type": "code",
   "execution_count": 74,
   "id": "4778b695-9ec8-4d9f-a1dd-26d749b43a95",
   "metadata": {
    "execution": {
     "iopub.execute_input": "2022-10-13T22:55:11.333619Z",
     "iopub.status.busy": "2022-10-13T22:55:11.333024Z",
     "iopub.status.idle": "2022-10-13T22:55:11.337607Z",
     "shell.execute_reply": "2022-10-13T22:55:11.336972Z"
    }
   },
   "outputs": [
    {
     "data": {
      "text/plain": [
       "['size',\n",
       " 'created_at_day',\n",
       " 'created_at_month',\n",
       " 'created_at_weekday',\n",
       " 'created_at_hour']"
      ]
     },
     "execution_count": 74,
     "metadata": {},
     "output_type": "execute_result"
    }
   ],
   "source": [
    "selected_cat_features = [cat_features[i] for i in union]\n",
    "selected_cat_features"
   ]
  },
  {
   "cell_type": "code",
   "execution_count": 75,
   "id": "5b0ce173",
   "metadata": {
    "execution": {
     "iopub.execute_input": "2022-10-13T22:55:11.340440Z",
     "iopub.status.busy": "2022-10-13T22:55:11.340016Z",
     "iopub.status.idle": "2022-10-13T22:55:11.343041Z",
     "shell.execute_reply": "2022-10-13T22:55:11.342384Z"
    }
   },
   "outputs": [],
   "source": [
    "# update list of features to keep for training\n",
    "selected_features += selected_cat_features"
   ]
  },
  {
   "cell_type": "markdown",
   "id": "33f4387d",
   "metadata": {},
   "source": [
    "### Numerical Features\n",
    "\n",
    "Now, lets try to determine what numerical featuers are powerful influencers for time to merge of a PR"
   ]
  },
  {
   "cell_type": "code",
   "execution_count": 76,
   "id": "29683916-4ef7-474a-80ac-11a5d210b6fa",
   "metadata": {
    "execution": {
     "iopub.execute_input": "2022-10-13T22:55:11.346069Z",
     "iopub.status.busy": "2022-10-13T22:55:11.345478Z",
     "iopub.status.idle": "2022-10-13T22:55:11.348738Z",
     "shell.execute_reply": "2022-10-13T22:55:11.348098Z"
    }
   },
   "outputs": [],
   "source": [
    "numerical_features = [\n",
    "    \"changed_files_number\",\n",
    "    \"body_size\",\n",
    "    \"commits_number\",\n",
    "    \"ttm_class\",\n",
    "]"
   ]
  },
  {
   "cell_type": "code",
   "execution_count": 77,
   "id": "b0d608dd",
   "metadata": {
    "execution": {
     "iopub.execute_input": "2022-10-13T22:55:11.351366Z",
     "iopub.status.busy": "2022-10-13T22:55:11.351027Z",
     "iopub.status.idle": "2022-10-13T22:55:11.358271Z",
     "shell.execute_reply": "2022-10-13T22:55:11.357646Z"
    }
   },
   "outputs": [
    {
     "data": {
      "text/html": [
       "<div>\n",
       "<style scoped>\n",
       "    .dataframe tbody tr th:only-of-type {\n",
       "        vertical-align: middle;\n",
       "    }\n",
       "\n",
       "    .dataframe tbody tr th {\n",
       "        vertical-align: top;\n",
       "    }\n",
       "\n",
       "    .dataframe thead th {\n",
       "        text-align: right;\n",
       "    }\n",
       "</style>\n",
       "<table border=\"1\" class=\"dataframe\">\n",
       "  <thead>\n",
       "    <tr style=\"text-align: right;\">\n",
       "      <th></th>\n",
       "      <th>changed_files_number</th>\n",
       "      <th>body_size</th>\n",
       "      <th>commits_number</th>\n",
       "      <th>ttm_class</th>\n",
       "    </tr>\n",
       "  </thead>\n",
       "  <tbody>\n",
       "    <tr>\n",
       "      <th>0</th>\n",
       "      <td>1</td>\n",
       "      <td>0</td>\n",
       "      <td>2</td>\n",
       "      <td>2</td>\n",
       "    </tr>\n",
       "    <tr>\n",
       "      <th>1</th>\n",
       "      <td>1</td>\n",
       "      <td>0</td>\n",
       "      <td>1</td>\n",
       "      <td>3</td>\n",
       "    </tr>\n",
       "    <tr>\n",
       "      <th>2</th>\n",
       "      <td>0</td>\n",
       "      <td>0</td>\n",
       "      <td>0</td>\n",
       "      <td>9</td>\n",
       "    </tr>\n",
       "    <tr>\n",
       "      <th>3</th>\n",
       "      <td>1</td>\n",
       "      <td>0</td>\n",
       "      <td>1</td>\n",
       "      <td>5</td>\n",
       "    </tr>\n",
       "    <tr>\n",
       "      <th>4</th>\n",
       "      <td>1</td>\n",
       "      <td>6</td>\n",
       "      <td>2</td>\n",
       "      <td>0</td>\n",
       "    </tr>\n",
       "  </tbody>\n",
       "</table>\n",
       "</div>"
      ],
      "text/plain": [
       "   changed_files_number  body_size  commits_number  ttm_class\n",
       "0                     1          0               2          2\n",
       "1                     1          0               1          3\n",
       "2                     0          0               0          9\n",
       "3                     1          0               1          5\n",
       "4                     1          6               2          0"
      ]
     },
     "execution_count": 77,
     "metadata": {},
     "output_type": "execute_result"
    }
   ],
   "source": [
    "numerical_df = feature_df[numerical_features]\n",
    "numerical_df.head()"
   ]
  },
  {
   "cell_type": "code",
   "execution_count": 78,
   "id": "9ff2919e",
   "metadata": {
    "execution": {
     "iopub.execute_input": "2022-10-13T22:55:11.360979Z",
     "iopub.status.busy": "2022-10-13T22:55:11.360748Z",
     "iopub.status.idle": "2022-10-13T22:55:11.364466Z",
     "shell.execute_reply": "2022-10-13T22:55:11.363809Z"
    }
   },
   "outputs": [],
   "source": [
    "# split into input features and target\n",
    "X_inp = numerical_df.drop(columns=[\"ttm_class\"])\n",
    "y = numerical_df[\"ttm_class\"]"
   ]
  },
  {
   "cell_type": "code",
   "execution_count": 79,
   "id": "cc733746",
   "metadata": {
    "execution": {
     "iopub.execute_input": "2022-10-13T22:55:11.367159Z",
     "iopub.status.busy": "2022-10-13T22:55:11.366946Z",
     "iopub.status.idle": "2022-10-13T22:55:11.497878Z",
     "shell.execute_reply": "2022-10-13T22:55:11.497249Z"
    },
    "tags": []
   },
   "outputs": [
    {
     "data": {
      "image/png": "[encoded data removed]",
      "text/plain": [
       "<Figure size 432x288 with 1 Axes>"
      ]
     },
     "metadata": {
      "needs_background": "light"
     },
     "output_type": "display_data"
    }
   ],
   "source": [
    "# create k best feature selector object based on mutual information\n",
    "numerical_feats_mi, k_best_selector_mi = select_features(\n",
    "    X_inp,\n",
    "    y,\n",
    "    partial(\n",
    "        mutual_info_classif,\n",
    "        discrete_features=False,\n",
    "        random_state=42,\n",
    "        n_neighbors=3,\n",
    "    ),\n",
    ")\n",
    "\n",
    "# visualize the MI scores of all features\n",
    "sns.barplot(x=X_inp.columns, y=k_best_selector_mi.scores_)\n",
    "plt.title(\"Feature importance based on Mutual Information\")\n",
    "plt.xticks(rotation=60)\n",
    "plt.xlabel(\"Features\")\n",
    "plt.ylabel(\"Scores\")\n",
    "plt.show()"
   ]
  },
  {
   "cell_type": "code",
   "execution_count": 80,
   "id": "7bdf2192",
   "metadata": {
    "execution": {
     "iopub.execute_input": "2022-10-13T22:55:11.501024Z",
     "iopub.status.busy": "2022-10-13T22:55:11.500573Z",
     "iopub.status.idle": "2022-10-13T22:55:11.646243Z",
     "shell.execute_reply": "2022-10-13T22:55:11.645586Z"
    }
   },
   "outputs": [
    {
     "data": {
      "image/png": "[encoded data removed]",
      "text/plain": [
       "<Figure size 432x288 with 2 Axes>"
      ]
     },
     "metadata": {
      "needs_background": "light"
     },
     "output_type": "display_data"
    }
   ],
   "source": [
    "# create k best feature selector object based on anova f statistic\n",
    "numerical_feats_f, k_best_selector_f = select_features(\n",
    "    X_inp,\n",
    "    y,\n",
    "    f_classif,\n",
    ")\n",
    "\n",
    "# visualize the f stat scores and pvalues of all features\n",
    "fig, axes = plt.subplots(2, 1, sharex=True)\n",
    "fig.suptitle(\"Feature importance based on ANOVA F stat\")\n",
    "sns.barplot(x=X_inp.columns, y=k_best_selector_f.scores_, ax=axes[0])\n",
    "sns.barplot(x=X_inp.columns, y=k_best_selector_f.pvalues_, ax=axes[1])\n",
    "plt.xticks(rotation=60)\n",
    "plt.xlabel(\"Features\")\n",
    "axes[0].set_ylabel(\"Scores\")\n",
    "axes[1].set_ylabel(\"p-values\")\n",
    "plt.show()"
   ]
  },
  {
   "cell_type": "code",
   "execution_count": 81,
   "id": "6134ddb1-994f-42ee-8a68-7111540b6481",
   "metadata": {
    "execution": {
     "iopub.execute_input": "2022-10-13T22:55:11.649274Z",
     "iopub.status.busy": "2022-10-13T22:55:11.649037Z",
     "iopub.status.idle": "2022-10-13T22:55:11.653920Z",
     "shell.execute_reply": "2022-10-13T22:55:11.653402Z"
    }
   },
   "outputs": [
    {
     "data": {
      "text/plain": [
       "{0, 1, 2}"
      ]
     },
     "execution_count": 81,
     "metadata": {},
     "output_type": "execute_result"
    }
   ],
   "source": [
    "top_mi = k_best_selector_mi.scores_.argsort()[-3:][::-1]\n",
    "top_anova = k_best_selector_f.scores_.argsort()[-3:][::-1]\n",
    "union = set(top_mi).union(set(top_anova))\n",
    "union"
   ]
  },
  {
   "cell_type": "code",
   "execution_count": 82,
   "id": "2d5a9368-bfaf-4348-b140-13e6d725f59c",
   "metadata": {
    "execution": {
     "iopub.execute_input": "2022-10-13T22:55:11.656580Z",
     "iopub.status.busy": "2022-10-13T22:55:11.656362Z",
     "iopub.status.idle": "2022-10-13T22:55:11.660349Z",
     "shell.execute_reply": "2022-10-13T22:55:11.659859Z"
    }
   },
   "outputs": [
    {
     "data": {
      "text/plain": [
       "['changed_files_number', 'body_size', 'commits_number']"
      ]
     },
     "execution_count": 82,
     "metadata": {},
     "output_type": "execute_result"
    }
   ],
   "source": [
    "selected_num_features = [numerical_features[i] for i in union]\n",
    "selected_num_features"
   ]
  },
  {
   "cell_type": "code",
   "execution_count": 83,
   "id": "cc984a01",
   "metadata": {
    "execution": {
     "iopub.execute_input": "2022-10-13T22:55:11.662943Z",
     "iopub.status.busy": "2022-10-13T22:55:11.662731Z",
     "iopub.status.idle": "2022-10-13T22:55:11.665430Z",
     "shell.execute_reply": "2022-10-13T22:55:11.664829Z"
    }
   },
   "outputs": [],
   "source": [
    "# update list of features to keep for training\n",
    "selected_features += selected_num_features"
   ]
  },
  {
   "cell_type": "markdown",
   "id": "11a86b36",
   "metadata": {},
   "source": [
    "### Count Vector Type Features\n",
    "\n",
    "Finally, lets determine the most important features from the count vector type columns."
   ]
  },
  {
   "cell_type": "code",
   "execution_count": 84,
   "id": "f07d0334",
   "metadata": {
    "execution": {
     "iopub.execute_input": "2022-10-13T22:55:11.668075Z",
     "iopub.status.busy": "2022-10-13T22:55:11.667863Z",
     "iopub.status.idle": "2022-10-13T22:55:11.672199Z",
     "shell.execute_reply": "2022-10-13T22:55:11.671561Z"
    },
    "scrolled": true
   },
   "outputs": [],
   "source": [
    "# explode the list column so that there is 1 column representing frequency of each file type\n",
    "filetype_df = pd.DataFrame(feature_df.changed_file_type_vec.to_list())\n",
    "filetype_df.index = feature_df.index\n",
    "filetype_df.columns = [f\"filetype_{f}\" for f in top_fileextensions]"
   ]
  },
  {
   "cell_type": "code",
   "execution_count": 85,
   "id": "35f93d4e",
   "metadata": {
    "execution": {
     "iopub.execute_input": "2022-10-13T22:55:11.674844Z",
     "iopub.status.busy": "2022-10-13T22:55:11.674633Z",
     "iopub.status.idle": "2022-10-13T22:55:11.683128Z",
     "shell.execute_reply": "2022-10-13T22:55:11.682338Z"
    }
   },
   "outputs": [
    {
     "data": {
      "text/plain": [
       "filetype_OWNERS            0.092157\n",
       "filetype_.yaml             0.091330\n",
       "filetype_.tmpl             0.057397\n",
       "filetype_.json             0.027788\n",
       "filetype_OWNERS_ALIASES   -0.017887\n",
       "filetype_.txt             -0.039188\n",
       "filetype_.ipynb           -0.058957\n",
       "filetype_.md              -0.059288\n",
       "filetype_.png             -0.067846\n",
       "filetype_.yml             -0.113061\n",
       "dtype: float64"
      ]
     },
     "execution_count": 85,
     "metadata": {},
     "output_type": "execute_result"
    }
   ],
   "source": [
    "# compute correlation with ttm\n",
    "corr = filetype_df.corrwith(feature_df[\"ttm_class\"])\n",
    "corr.sort_values(ascending=False)"
   ]
  },
  {
   "cell_type": "code",
   "execution_count": 86,
   "id": "d5ae2981",
   "metadata": {
    "execution": {
     "iopub.execute_input": "2022-10-13T22:55:11.686399Z",
     "iopub.status.busy": "2022-10-13T22:55:11.686188Z",
     "iopub.status.idle": "2022-10-13T22:55:11.691188Z",
     "shell.execute_reply": "2022-10-13T22:55:11.690550Z"
    }
   },
   "outputs": [
    {
     "data": {
      "text/plain": [
       "filetype_.md              -0.059288\n",
       "filetype_.yaml             0.091330\n",
       "filetype_.tmpl             0.057397\n",
       "filetype_OWNERS            0.092157\n",
       "filetype_OWNERS_ALIASES   -0.017887\n",
       "filetype_.yml             -0.113061\n",
       "filetype_.ipynb           -0.058957\n",
       "filetype_.png             -0.067846\n",
       "filetype_.txt             -0.039188\n",
       "filetype_.json             0.027788\n",
       "dtype: float64"
      ]
     },
     "execution_count": 86,
     "metadata": {},
     "output_type": "execute_result"
    }
   ],
   "source": [
    "corr[corr.abs() > 0.01]"
   ]
  },
  {
   "cell_type": "code",
   "execution_count": 87,
   "id": "9d5e19bd",
   "metadata": {
    "execution": {
     "iopub.execute_input": "2022-10-13T22:55:11.694273Z",
     "iopub.status.busy": "2022-10-13T22:55:11.694064Z",
     "iopub.status.idle": "2022-10-13T22:55:11.699311Z",
     "shell.execute_reply": "2022-10-13T22:55:11.698587Z"
    }
   },
   "outputs": [],
   "source": [
    "# update list of features to keep for training\n",
    "# take everything that has more than 0.01 correlation magnitude\n",
    "filetype_keep_cols = corr[corr.abs() > 0.01].index.tolist()\n",
    "selected_features += filetype_keep_cols\n",
    "\n",
    "# only keep the relevant columns now\n",
    "filetype_df = filetype_df[filetype_keep_cols]"
   ]
  },
  {
   "cell_type": "code",
   "execution_count": 88,
   "id": "2eab2fb8-ee9e-4a4e-9d2e-7629f9c56cb9",
   "metadata": {
    "execution": {
     "iopub.execute_input": "2022-10-13T22:55:11.702253Z",
     "iopub.status.busy": "2022-10-13T22:55:11.701931Z",
     "iopub.status.idle": "2022-10-13T22:55:11.707787Z",
     "shell.execute_reply": "2022-10-13T22:55:11.707241Z"
    }
   },
   "outputs": [
    {
     "data": {
      "text/plain": [
       "['.md',\n",
       " '.yaml',\n",
       " '.tmpl',\n",
       " 'OWNERS',\n",
       " 'OWNERS_ALIASES',\n",
       " '.yml',\n",
       " '.ipynb',\n",
       " '.png',\n",
       " '.txt',\n",
       " '.json']"
      ]
     },
     "execution_count": 88,
     "metadata": {},
     "output_type": "execute_result"
    }
   ],
   "source": [
    "filetype_keep_cols = [i[9:] for i in filetype_keep_cols]\n",
    "filetype_keep_cols"
   ]
  },
  {
   "cell_type": "code",
   "execution_count": 89,
   "id": "2b2da9ab-de61-44f5-91f1-a897e8f7a962",
   "metadata": {
    "execution": {
     "iopub.execute_input": "2022-10-13T22:55:11.710707Z",
     "iopub.status.busy": "2022-10-13T22:55:11.710388Z",
     "iopub.status.idle": "2022-10-13T22:55:11.714692Z",
     "shell.execute_reply": "2022-10-13T22:55:11.714146Z"
    }
   },
   "outputs": [],
   "source": [
    "filetype_keep_cols_df = pd.DataFrame(filetype_keep_cols, columns=[\"filetype\"])"
   ]
  },
  {
   "cell_type": "code",
   "execution_count": 90,
   "id": "773682ad-cda8-42ec-9275-dc611004d913",
   "metadata": {
    "execution": {
     "iopub.execute_input": "2022-10-13T22:55:11.717559Z",
     "iopub.status.busy": "2022-10-13T22:55:11.717243Z",
     "iopub.status.idle": "2022-10-13T22:55:11.724380Z",
     "shell.execute_reply": "2022-10-13T22:55:11.723836Z"
    }
   },
   "outputs": [
    {
     "data": {
      "text/html": [
       "<div>\n",
       "<style scoped>\n",
       "    .dataframe tbody tr th:only-of-type {\n",
       "        vertical-align: middle;\n",
       "    }\n",
       "\n",
       "    .dataframe tbody tr th {\n",
       "        vertical-align: top;\n",
       "    }\n",
       "\n",
       "    .dataframe thead th {\n",
       "        text-align: right;\n",
       "    }\n",
       "</style>\n",
       "<table border=\"1\" class=\"dataframe\">\n",
       "  <thead>\n",
       "    <tr style=\"text-align: right;\">\n",
       "      <th></th>\n",
       "      <th>filetype</th>\n",
       "    </tr>\n",
       "  </thead>\n",
       "  <tbody>\n",
       "    <tr>\n",
       "      <th>0</th>\n",
       "      <td>.md</td>\n",
       "    </tr>\n",
       "    <tr>\n",
       "      <th>1</th>\n",
       "      <td>.yaml</td>\n",
       "    </tr>\n",
       "    <tr>\n",
       "      <th>2</th>\n",
       "      <td>.tmpl</td>\n",
       "    </tr>\n",
       "    <tr>\n",
       "      <th>3</th>\n",
       "      <td>OWNERS</td>\n",
       "    </tr>\n",
       "    <tr>\n",
       "      <th>4</th>\n",
       "      <td>OWNERS_ALIASES</td>\n",
       "    </tr>\n",
       "    <tr>\n",
       "      <th>5</th>\n",
       "      <td>.yml</td>\n",
       "    </tr>\n",
       "    <tr>\n",
       "      <th>6</th>\n",
       "      <td>.ipynb</td>\n",
       "    </tr>\n",
       "    <tr>\n",
       "      <th>7</th>\n",
       "      <td>.png</td>\n",
       "    </tr>\n",
       "    <tr>\n",
       "      <th>8</th>\n",
       "      <td>.txt</td>\n",
       "    </tr>\n",
       "    <tr>\n",
       "      <th>9</th>\n",
       "      <td>.json</td>\n",
       "    </tr>\n",
       "  </tbody>\n",
       "</table>\n",
       "</div>"
      ],
      "text/plain": [
       "         filetype\n",
       "0             .md\n",
       "1           .yaml\n",
       "2           .tmpl\n",
       "3          OWNERS\n",
       "4  OWNERS_ALIASES\n",
       "5            .yml\n",
       "6          .ipynb\n",
       "7            .png\n",
       "8            .txt\n",
       "9           .json"
      ]
     },
     "execution_count": 90,
     "metadata": {},
     "output_type": "execute_result"
    }
   ],
   "source": [
    "filetype_keep_cols_df"
   ]
  },
  {
   "cell_type": "code",
   "execution_count": 91,
   "id": "7333e449-4e2a-42aa-b728-3f36d205ed1f",
   "metadata": {
    "execution": {
     "iopub.execute_input": "2022-10-13T22:55:11.727307Z",
     "iopub.status.busy": "2022-10-13T22:55:11.726988Z",
     "iopub.status.idle": "2022-10-13T22:55:12.256708Z",
     "shell.execute_reply": "2022-10-13T22:55:12.256052Z"
    }
   },
   "outputs": [
    {
     "data": {
      "text/plain": [
       "{'ResponseMetadata': {'RequestId': 'l97nsiiw-4az3jb-k74',\n",
       "  'HostId': 'l97nsiiw-4az3jb-k74',\n",
       "  'HTTPStatusCode': 200,\n",
       "  'HTTPHeaders': {'x-amz-request-id': 'l97nsiiw-4az3jb-k74',\n",
       "   'x-amz-id-2': 'l97nsiiw-4az3jb-k74',\n",
       "   'access-control-allow-origin': '*',\n",
       "   'access-control-allow-credentials': 'true',\n",
       "   'access-control-allow-methods': 'GET,POST,PUT,DELETE,OPTIONS',\n",
       "   'access-control-allow-headers': 'Content-Type,Content-MD5,Authorization,X-Amz-User-Agent,X-Amz-Date,ETag,X-Amz-Content-Sha256',\n",
       "   'access-control-expose-headers': 'ETag,X-Amz-Version-Id',\n",
       "   'etag': '\"c5b845bf334c5aaa563a07b4b6a82bc5\"',\n",
       "   'date': 'Thu, 13 Oct 2022 22:55:12 GMT',\n",
       "   'keep-alive': 'timeout=5',\n",
       "   'content-length': '0',\n",
       "   'set-cookie': '1a4aa612fe797ac8466d7ee00e5520d5=a26d7dd2bae782e2ad6181b7887b5ff1; path=/; HttpOnly; Secure; SameSite=None'},\n",
       "  'RetryAttempts': 0},\n",
       " 'ETag': '\"c5b845bf334c5aaa563a07b4b6a82bc5\"'}"
      ]
     },
     "execution_count": 91,
     "metadata": {},
     "output_type": "execute_result"
    }
   ],
   "source": [
    "FILETYPE_FEATURES_FILENAME = os.path.join(ORG + REPO + \"FILETYPE.parquet\")\n",
    "FILETYPE_FEATURES_KEY = os.path.join(s3_input_data_path, ORG, REPO, \"features\")\n",
    "cc = CephCommunication(s3_endpoint_url, s3_access_key, s3_secret_key, s3_bucket)\n",
    "cc.upload_to_ceph(\n",
    "    filetype_keep_cols_df, FILETYPE_FEATURES_KEY, FILETYPE_FEATURES_FILENAME\n",
    ")"
   ]
  },
  {
   "cell_type": "code",
   "execution_count": 92,
   "id": "618842b5",
   "metadata": {
    "execution": {
     "iopub.execute_input": "2022-10-13T22:55:12.259816Z",
     "iopub.status.busy": "2022-10-13T22:55:12.259578Z",
     "iopub.status.idle": "2022-10-13T22:55:12.272332Z",
     "shell.execute_reply": "2022-10-13T22:55:12.271767Z"
    }
   },
   "outputs": [],
   "source": [
    "# explode the list column so that there is 1 column representing frequency of each word\n",
    "title_wordcount_df = pd.DataFrame(feature_df.title_word_counts_vec.to_list())\n",
    "\n",
    "title_wordcount_df.index = feature_df.index\n",
    "title_wordcount_df.columns = [f\"title_wordcount_{w}\" for w in unique_words]"
   ]
  },
  {
   "cell_type": "code",
   "execution_count": 93,
   "id": "457f28ed",
   "metadata": {
    "execution": {
     "iopub.execute_input": "2022-10-13T22:55:12.275441Z",
     "iopub.status.busy": "2022-10-13T22:55:12.275082Z",
     "iopub.status.idle": "2022-10-13T22:55:12.328140Z",
     "shell.execute_reply": "2022-10-13T22:55:12.327541Z"
    },
    "scrolled": true
   },
   "outputs": [
    {
     "data": {
      "text/plain": [
       "title_wordcount_charter      0.231919\n",
       "title_wordcount_details      0.224569\n",
       "title_wordcount_minor        0.224569\n",
       "title_wordcount_docs         0.219966\n",
       "title_wordcount_services     0.205023\n",
       "                               ...   \n",
       "title_wordcount_create      -0.226076\n",
       "title_wordcount_path        -0.246187\n",
       "title_wordcount_gitaction   -0.246187\n",
       "title_wordcount_hours       -0.246187\n",
       "title_wordcount_office      -0.246187\n",
       "Length: 226, dtype: float64"
      ]
     },
     "execution_count": 93,
     "metadata": {},
     "output_type": "execute_result"
    }
   ],
   "source": [
    "# compute correlation with ttm\n",
    "corr = title_wordcount_df.corrwith(feature_df[\"ttm_class\"])\n",
    "corr = corr.dropna()\n",
    "corr.sort_values(ascending=False)"
   ]
  },
  {
   "cell_type": "code",
   "execution_count": 94,
   "id": "0f1495a6",
   "metadata": {
    "execution": {
     "iopub.execute_input": "2022-10-13T22:55:12.331825Z",
     "iopub.status.busy": "2022-10-13T22:55:12.331300Z",
     "iopub.status.idle": "2022-10-13T22:55:12.339260Z",
     "shell.execute_reply": "2022-10-13T22:55:12.338685Z"
    }
   },
   "outputs": [
    {
     "data": {
      "text/plain": [
       "title_wordcount_19_meeting   -0.139653\n",
       "title_wordcount_26_meeting   -0.139653\n",
       "title_wordcount_action       -0.103338\n",
       "title_wordcount_actions      -0.139653\n",
       "title_wordcount_add           0.093879\n",
       "                                ...   \n",
       "title_wordcount_weekly       -0.106165\n",
       "title_wordcount_whitespace   -0.072677\n",
       "title_wordcount_word          0.094765\n",
       "title_wordcount_wording      -0.173142\n",
       "title_wordcount_workload      0.061277\n",
       "Length: 168, dtype: float64"
      ]
     },
     "execution_count": 94,
     "metadata": {},
     "output_type": "execute_result"
    }
   ],
   "source": [
    "corr[corr.abs() > 0.04]"
   ]
  },
  {
   "cell_type": "code",
   "execution_count": 95,
   "id": "624b3504",
   "metadata": {
    "execution": {
     "iopub.execute_input": "2022-10-13T22:55:12.342193Z",
     "iopub.status.busy": "2022-10-13T22:55:12.341966Z",
     "iopub.status.idle": "2022-10-13T22:55:12.347429Z",
     "shell.execute_reply": "2022-10-13T22:55:12.346852Z"
    }
   },
   "outputs": [],
   "source": [
    "# update list of features to keep for training\n",
    "# take everything that has more than 0.01 correlation magnitude\n",
    "title_word_keep_cols = corr[corr.abs() > 0.04].index.tolist()\n",
    "selected_features += title_word_keep_cols\n",
    "\n",
    "title_wordcount_df = title_wordcount_df[title_word_keep_cols]"
   ]
  },
  {
   "cell_type": "code",
   "execution_count": 96,
   "id": "45cd6a78-361c-444f-8065-4127f2e29313",
   "metadata": {
    "execution": {
     "iopub.execute_input": "2022-10-13T22:55:12.350183Z",
     "iopub.status.busy": "2022-10-13T22:55:12.349971Z",
     "iopub.status.idle": "2022-10-13T22:55:12.357465Z",
     "shell.execute_reply": "2022-10-13T22:55:12.356919Z"
    }
   },
   "outputs": [
    {
     "data": {
      "text/plain": [
       "['19_meeting',\n",
       " '26_meeting',\n",
       " 'action',\n",
       " 'actions',\n",
       " 'add',\n",
       " 'added',\n",
       " 'adding',\n",
       " 'addition',\n",
       " 'airgapped',\n",
       " 'analysis',\n",
       " 'approach',\n",
       " 'around',\n",
       " 'bad',\n",
       " 'bi',\n",
       " 'build',\n",
       " 'calendar',\n",
       " 'carlosgimeno',\n",
       " 'catalog',\n",
       " 'change',\n",
       " 'changes',\n",
       " 'charter',\n",
       " 'checklist',\n",
       " 'chore',\n",
       " 'clarity',\n",
       " 'cleanup',\n",
       " 'cluster',\n",
       " 'commit',\n",
       " 'complete',\n",
       " 'completion',\n",
       " 'context',\n",
       " 'contrib_x',\n",
       " 'contributors',\n",
       " 'corrections',\n",
       " 'create',\n",
       " 'created',\n",
       " 'creation',\n",
       " 'curator',\n",
       " 'definition',\n",
       " 'dependencies',\n",
       " 'details',\n",
       " 'dir',\n",
       " 'directory',\n",
       " 'discussion',\n",
       " 'docs',\n",
       " 'document',\n",
       " 'ds',\n",
       " 'dynamics',\n",
       " 'errors',\n",
       " 'evolving',\n",
       " 'faq',\n",
       " 'feat',\n",
       " 'file',\n",
       " 'files',\n",
       " 'first',\n",
       " 'fix',\n",
       " 'fixed',\n",
       " 'fixes',\n",
       " 'fixing',\n",
       " 'follow',\n",
       " 'forgotten',\n",
       " 'forming',\n",
       " 'fybrik',\n",
       " 'gap',\n",
       " 'generator',\n",
       " 'git',\n",
       " 'gitaction',\n",
       " 'give',\n",
       " 'governance',\n",
       " 'group',\n",
       " 'groups',\n",
       " 'guide',\n",
       " 'hacking',\n",
       " 'highlighting',\n",
       " 'hours',\n",
       " 'inclusive',\n",
       " 'interactions',\n",
       " 'internal_contributors',\n",
       " 'jbook',\n",
       " 'july',\n",
       " 'kickoff',\n",
       " 'language',\n",
       " 'legal',\n",
       " 'link',\n",
       " 'linking',\n",
       " 'longer',\n",
       " 'md',\n",
       " 'media',\n",
       " 'meeting',\n",
       " 'meetup',\n",
       " 'merge',\n",
       " 'messages',\n",
       " 'metrics',\n",
       " 'minor',\n",
       " 'must',\n",
       " 'naming',\n",
       " 'nb',\n",
       " 'new',\n",
       " 'nodes',\n",
       " 'notes',\n",
       " 'odh',\n",
       " 'office',\n",
       " 'officially',\n",
       " 'open',\n",
       " 'opened',\n",
       " 'opening',\n",
       " 'opensourcing',\n",
       " 'operate',\n",
       " 'operations',\n",
       " 'opf',\n",
       " 'ops',\n",
       " 'osc',\n",
       " 'osg',\n",
       " 'overview',\n",
       " 'path',\n",
       " 'pebbles',\n",
       " 'persona',\n",
       " 'personas',\n",
       " 'perspective',\n",
       " 'planning',\n",
       " 'pr',\n",
       " 'pre',\n",
       " 'previous',\n",
       " 'project',\n",
       " 'proposal',\n",
       " 'pub',\n",
       " 'quaid',\n",
       " 'readme',\n",
       " 'reason',\n",
       " 'reflecting',\n",
       " 'rename',\n",
       " 'repost',\n",
       " 'requirements',\n",
       " 'revert',\n",
       " 'running',\n",
       " 'science',\n",
       " 'service',\n",
       " 'services',\n",
       " 'sig',\n",
       " 'slack',\n",
       " 'social',\n",
       " 'source',\n",
       " 'stage',\n",
       " 'status',\n",
       " 'strawpond',\n",
       " 'structure',\n",
       " 'sub',\n",
       " 'subprojects',\n",
       " 'template',\n",
       " 'test',\n",
       " 'tests',\n",
       " 'throwing',\n",
       " 'trailing',\n",
       " 'transfer',\n",
       " 'typo',\n",
       " 'typos',\n",
       " 'update',\n",
       " 'updated',\n",
       " 'updates',\n",
       " 'use',\n",
       " 'var',\n",
       " 'via',\n",
       " 'website',\n",
       " 'week',\n",
       " 'weekly',\n",
       " 'whitespace',\n",
       " 'word',\n",
       " 'wording',\n",
       " 'workload']"
      ]
     },
     "execution_count": 96,
     "metadata": {},
     "output_type": "execute_result"
    }
   ],
   "source": [
    "title_word_keep_cols = [i[16:] for i in title_word_keep_cols]\n",
    "title_word_keep_cols"
   ]
  },
  {
   "cell_type": "code",
   "execution_count": 97,
   "id": "8b937135-f983-4d6c-961e-f9c7158d108c",
   "metadata": {
    "execution": {
     "iopub.execute_input": "2022-10-13T22:55:12.360162Z",
     "iopub.status.busy": "2022-10-13T22:55:12.359820Z",
     "iopub.status.idle": "2022-10-13T22:55:12.364232Z",
     "shell.execute_reply": "2022-10-13T22:55:12.363690Z"
    }
   },
   "outputs": [],
   "source": [
    "title_word_keep_cols_df = pd.DataFrame(title_word_keep_cols, columns=[\"title\"])"
   ]
  },
  {
   "cell_type": "code",
   "execution_count": 98,
   "id": "63f382a4-5826-4d65-aa9f-5f3b56f1aad9",
   "metadata": {
    "execution": {
     "iopub.execute_input": "2022-10-13T22:55:12.367381Z",
     "iopub.status.busy": "2022-10-13T22:55:12.366876Z",
     "iopub.status.idle": "2022-10-13T22:55:12.375570Z",
     "shell.execute_reply": "2022-10-13T22:55:12.375017Z"
    }
   },
   "outputs": [
    {
     "data": {
      "text/html": [
       "<div>\n",
       "<style scoped>\n",
       "    .dataframe tbody tr th:only-of-type {\n",
       "        vertical-align: middle;\n",
       "    }\n",
       "\n",
       "    .dataframe tbody tr th {\n",
       "        vertical-align: top;\n",
       "    }\n",
       "\n",
       "    .dataframe thead th {\n",
       "        text-align: right;\n",
       "    }\n",
       "</style>\n",
       "<table border=\"1\" class=\"dataframe\">\n",
       "  <thead>\n",
       "    <tr style=\"text-align: right;\">\n",
       "      <th></th>\n",
       "      <th>title</th>\n",
       "    </tr>\n",
       "  </thead>\n",
       "  <tbody>\n",
       "    <tr>\n",
       "      <th>0</th>\n",
       "      <td>19_meeting</td>\n",
       "    </tr>\n",
       "    <tr>\n",
       "      <th>1</th>\n",
       "      <td>26_meeting</td>\n",
       "    </tr>\n",
       "    <tr>\n",
       "      <th>2</th>\n",
       "      <td>action</td>\n",
       "    </tr>\n",
       "    <tr>\n",
       "      <th>3</th>\n",
       "      <td>actions</td>\n",
       "    </tr>\n",
       "    <tr>\n",
       "      <th>4</th>\n",
       "      <td>add</td>\n",
       "    </tr>\n",
       "    <tr>\n",
       "      <th>...</th>\n",
       "      <td>...</td>\n",
       "    </tr>\n",
       "    <tr>\n",
       "      <th>163</th>\n",
       "      <td>weekly</td>\n",
       "    </tr>\n",
       "    <tr>\n",
       "      <th>164</th>\n",
       "      <td>whitespace</td>\n",
       "    </tr>\n",
       "    <tr>\n",
       "      <th>165</th>\n",
       "      <td>word</td>\n",
       "    </tr>\n",
       "    <tr>\n",
       "      <th>166</th>\n",
       "      <td>wording</td>\n",
       "    </tr>\n",
       "    <tr>\n",
       "      <th>167</th>\n",
       "      <td>workload</td>\n",
       "    </tr>\n",
       "  </tbody>\n",
       "</table>\n",
       "<p>168 rows × 1 columns</p>\n",
       "</div>"
      ],
      "text/plain": [
       "          title\n",
       "0    19_meeting\n",
       "1    26_meeting\n",
       "2        action\n",
       "3       actions\n",
       "4           add\n",
       "..          ...\n",
       "163      weekly\n",
       "164  whitespace\n",
       "165        word\n",
       "166     wording\n",
       "167    workload\n",
       "\n",
       "[168 rows x 1 columns]"
      ]
     },
     "execution_count": 98,
     "metadata": {},
     "output_type": "execute_result"
    }
   ],
   "source": [
    "title_word_keep_cols_df"
   ]
  },
  {
   "cell_type": "code",
   "execution_count": 99,
   "id": "2c67ed79-0555-4f0d-9557-3e6d335baeac",
   "metadata": {
    "execution": {
     "iopub.execute_input": "2022-10-13T22:55:12.378291Z",
     "iopub.status.busy": "2022-10-13T22:55:12.378074Z",
     "iopub.status.idle": "2022-10-13T22:55:12.710391Z",
     "shell.execute_reply": "2022-10-13T22:55:12.709618Z"
    }
   },
   "outputs": [
    {
     "data": {
      "text/plain": [
       "{'ResponseMetadata': {'RequestId': 'l97nsj0t-eyy931-19fi',\n",
       "  'HostId': 'l97nsj0t-eyy931-19fi',\n",
       "  'HTTPStatusCode': 200,\n",
       "  'HTTPHeaders': {'x-amz-request-id': 'l97nsj0t-eyy931-19fi',\n",
       "   'x-amz-id-2': 'l97nsj0t-eyy931-19fi',\n",
       "   'access-control-allow-origin': '*',\n",
       "   'access-control-allow-credentials': 'true',\n",
       "   'access-control-allow-methods': 'GET,POST,PUT,DELETE,OPTIONS',\n",
       "   'access-control-allow-headers': 'Content-Type,Content-MD5,Authorization,X-Amz-User-Agent,X-Amz-Date,ETag,X-Amz-Content-Sha256',\n",
       "   'access-control-expose-headers': 'ETag,X-Amz-Version-Id',\n",
       "   'etag': '\"6853b2ffb50e5023988a1b2f0a2ab844\"',\n",
       "   'date': 'Thu, 13 Oct 2022 22:55:12 GMT',\n",
       "   'keep-alive': 'timeout=5',\n",
       "   'content-length': '0',\n",
       "   'set-cookie': '1a4aa612fe797ac8466d7ee00e5520d5=a26d7dd2bae782e2ad6181b7887b5ff1; path=/; HttpOnly; Secure; SameSite=None'},\n",
       "  'RetryAttempts': 0},\n",
       " 'ETag': '\"6853b2ffb50e5023988a1b2f0a2ab844\"'}"
      ]
     },
     "execution_count": 99,
     "metadata": {},
     "output_type": "execute_result"
    }
   ],
   "source": [
    "TITLE_FEATURES_FILENAME = os.path.join(ORG + REPO + \"titlewords.parquet\")\n",
    "TITLE_FEATURES_KEY = os.path.join(s3_input_data_path, ORG, REPO, \"features\")\n",
    "cc = CephCommunication(s3_endpoint_url, s3_access_key, s3_secret_key, s3_bucket)\n",
    "cc.upload_to_ceph(title_word_keep_cols_df, TITLE_FEATURES_KEY, TITLE_FEATURES_FILENAME)"
   ]
  },
  {
   "cell_type": "markdown",
   "id": "105e4b18",
   "metadata": {},
   "source": [
    "Using various feature importance scores such as chi-squared, mutual information statistic, correlation values, we have selected the most relevant features amongst all of our features. "
   ]
  },
  {
   "cell_type": "code",
   "execution_count": 100,
   "id": "4cdafdae",
   "metadata": {
    "execution": {
     "iopub.execute_input": "2022-10-13T22:55:12.714070Z",
     "iopub.status.busy": "2022-10-13T22:55:12.713660Z",
     "iopub.status.idle": "2022-10-13T22:55:12.721689Z",
     "shell.execute_reply": "2022-10-13T22:55:12.721014Z"
    },
    "tags": []
   },
   "outputs": [
    {
     "data": {
      "text/plain": [
       "['size',\n",
       " 'created_at_day',\n",
       " 'created_at_month',\n",
       " 'created_at_weekday',\n",
       " 'created_at_hour',\n",
       " 'changed_files_number',\n",
       " 'body_size',\n",
       " 'commits_number',\n",
       " 'filetype_.md',\n",
       " 'filetype_.yaml',\n",
       " 'filetype_.tmpl',\n",
       " 'filetype_OWNERS',\n",
       " 'filetype_OWNERS_ALIASES',\n",
       " 'filetype_.yml',\n",
       " 'filetype_.ipynb',\n",
       " 'filetype_.png',\n",
       " 'filetype_.txt',\n",
       " 'filetype_.json',\n",
       " 'title_wordcount_19_meeting',\n",
       " 'title_wordcount_26_meeting',\n",
       " 'title_wordcount_action',\n",
       " 'title_wordcount_actions',\n",
       " 'title_wordcount_add',\n",
       " 'title_wordcount_added',\n",
       " 'title_wordcount_adding',\n",
       " 'title_wordcount_addition',\n",
       " 'title_wordcount_airgapped',\n",
       " 'title_wordcount_analysis',\n",
       " 'title_wordcount_approach',\n",
       " 'title_wordcount_around',\n",
       " 'title_wordcount_bad',\n",
       " 'title_wordcount_bi',\n",
       " 'title_wordcount_build',\n",
       " 'title_wordcount_calendar',\n",
       " 'title_wordcount_carlosgimeno',\n",
       " 'title_wordcount_catalog',\n",
       " 'title_wordcount_change',\n",
       " 'title_wordcount_changes',\n",
       " 'title_wordcount_charter',\n",
       " 'title_wordcount_checklist',\n",
       " 'title_wordcount_chore',\n",
       " 'title_wordcount_clarity',\n",
       " 'title_wordcount_cleanup',\n",
       " 'title_wordcount_cluster',\n",
       " 'title_wordcount_commit',\n",
       " 'title_wordcount_complete',\n",
       " 'title_wordcount_completion',\n",
       " 'title_wordcount_context',\n",
       " 'title_wordcount_contrib_x',\n",
       " 'title_wordcount_contributors',\n",
       " 'title_wordcount_corrections',\n",
       " 'title_wordcount_create',\n",
       " 'title_wordcount_created',\n",
       " 'title_wordcount_creation',\n",
       " 'title_wordcount_curator',\n",
       " 'title_wordcount_definition',\n",
       " 'title_wordcount_dependencies',\n",
       " 'title_wordcount_details',\n",
       " 'title_wordcount_dir',\n",
       " 'title_wordcount_directory',\n",
       " 'title_wordcount_discussion',\n",
       " 'title_wordcount_docs',\n",
       " 'title_wordcount_document',\n",
       " 'title_wordcount_ds',\n",
       " 'title_wordcount_dynamics',\n",
       " 'title_wordcount_errors',\n",
       " 'title_wordcount_evolving',\n",
       " 'title_wordcount_faq',\n",
       " 'title_wordcount_feat',\n",
       " 'title_wordcount_file',\n",
       " 'title_wordcount_files',\n",
       " 'title_wordcount_first',\n",
       " 'title_wordcount_fix',\n",
       " 'title_wordcount_fixed',\n",
       " 'title_wordcount_fixes',\n",
       " 'title_wordcount_fixing',\n",
       " 'title_wordcount_follow',\n",
       " 'title_wordcount_forgotten',\n",
       " 'title_wordcount_forming',\n",
       " 'title_wordcount_fybrik',\n",
       " 'title_wordcount_gap',\n",
       " 'title_wordcount_generator',\n",
       " 'title_wordcount_git',\n",
       " 'title_wordcount_gitaction',\n",
       " 'title_wordcount_give',\n",
       " 'title_wordcount_governance',\n",
       " 'title_wordcount_group',\n",
       " 'title_wordcount_groups',\n",
       " 'title_wordcount_guide',\n",
       " 'title_wordcount_hacking',\n",
       " 'title_wordcount_highlighting',\n",
       " 'title_wordcount_hours',\n",
       " 'title_wordcount_inclusive',\n",
       " 'title_wordcount_interactions',\n",
       " 'title_wordcount_internal_contributors',\n",
       " 'title_wordcount_jbook',\n",
       " 'title_wordcount_july',\n",
       " 'title_wordcount_kickoff',\n",
       " 'title_wordcount_language',\n",
       " 'title_wordcount_legal',\n",
       " 'title_wordcount_link',\n",
       " 'title_wordcount_linking',\n",
       " 'title_wordcount_longer',\n",
       " 'title_wordcount_md',\n",
       " 'title_wordcount_media',\n",
       " 'title_wordcount_meeting',\n",
       " 'title_wordcount_meetup',\n",
       " 'title_wordcount_merge',\n",
       " 'title_wordcount_messages',\n",
       " 'title_wordcount_metrics',\n",
       " 'title_wordcount_minor',\n",
       " 'title_wordcount_must',\n",
       " 'title_wordcount_naming',\n",
       " 'title_wordcount_nb',\n",
       " 'title_wordcount_new',\n",
       " 'title_wordcount_nodes',\n",
       " 'title_wordcount_notes',\n",
       " 'title_wordcount_odh',\n",
       " 'title_wordcount_office',\n",
       " 'title_wordcount_officially',\n",
       " 'title_wordcount_open',\n",
       " 'title_wordcount_opened',\n",
       " 'title_wordcount_opening',\n",
       " 'title_wordcount_opensourcing',\n",
       " 'title_wordcount_operate',\n",
       " 'title_wordcount_operations',\n",
       " 'title_wordcount_opf',\n",
       " 'title_wordcount_ops',\n",
       " 'title_wordcount_osc',\n",
       " 'title_wordcount_osg',\n",
       " 'title_wordcount_overview',\n",
       " 'title_wordcount_path',\n",
       " 'title_wordcount_pebbles',\n",
       " 'title_wordcount_persona',\n",
       " 'title_wordcount_personas',\n",
       " 'title_wordcount_perspective',\n",
       " 'title_wordcount_planning',\n",
       " 'title_wordcount_pr',\n",
       " 'title_wordcount_pre',\n",
       " 'title_wordcount_previous',\n",
       " 'title_wordcount_project',\n",
       " 'title_wordcount_proposal',\n",
       " 'title_wordcount_pub',\n",
       " 'title_wordcount_quaid',\n",
       " 'title_wordcount_readme',\n",
       " 'title_wordcount_reason',\n",
       " 'title_wordcount_reflecting',\n",
       " 'title_wordcount_rename',\n",
       " 'title_wordcount_repost',\n",
       " 'title_wordcount_requirements',\n",
       " 'title_wordcount_revert',\n",
       " 'title_wordcount_running',\n",
       " 'title_wordcount_science',\n",
       " 'title_wordcount_service',\n",
       " 'title_wordcount_services',\n",
       " 'title_wordcount_sig',\n",
       " 'title_wordcount_slack',\n",
       " 'title_wordcount_social',\n",
       " 'title_wordcount_source',\n",
       " 'title_wordcount_stage',\n",
       " 'title_wordcount_status',\n",
       " 'title_wordcount_strawpond',\n",
       " 'title_wordcount_structure',\n",
       " 'title_wordcount_sub',\n",
       " 'title_wordcount_subprojects',\n",
       " 'title_wordcount_template',\n",
       " 'title_wordcount_test',\n",
       " 'title_wordcount_tests',\n",
       " 'title_wordcount_throwing',\n",
       " 'title_wordcount_trailing',\n",
       " 'title_wordcount_transfer',\n",
       " 'title_wordcount_typo',\n",
       " 'title_wordcount_typos',\n",
       " 'title_wordcount_update',\n",
       " 'title_wordcount_updated',\n",
       " 'title_wordcount_updates',\n",
       " 'title_wordcount_use',\n",
       " 'title_wordcount_var',\n",
       " 'title_wordcount_via',\n",
       " 'title_wordcount_website',\n",
       " 'title_wordcount_week',\n",
       " 'title_wordcount_weekly',\n",
       " 'title_wordcount_whitespace',\n",
       " 'title_wordcount_word',\n",
       " 'title_wordcount_wording',\n",
       " 'title_wordcount_workload']"
      ]
     },
     "execution_count": 100,
     "metadata": {},
     "output_type": "execute_result"
    }
   ],
   "source": [
    "selected_features"
   ]
  },
  {
   "cell_type": "markdown",
   "id": "ddda4924",
   "metadata": {},
   "source": [
    "## Save Feature Engineered Dataset"
   ]
  },
  {
   "cell_type": "code",
   "execution_count": 101,
   "id": "894941f7-9815-44af-867a-9e206502cd7a",
   "metadata": {
    "execution": {
     "iopub.execute_input": "2022-10-13T22:55:12.725098Z",
     "iopub.status.busy": "2022-10-13T22:55:12.724476Z",
     "iopub.status.idle": "2022-10-13T22:55:12.739285Z",
     "shell.execute_reply": "2022-10-13T22:55:12.738588Z"
    }
   },
   "outputs": [
    {
     "data": {
      "text/html": [
       "<div>\n",
       "<style scoped>\n",
       "    .dataframe tbody tr th:only-of-type {\n",
       "        vertical-align: middle;\n",
       "    }\n",
       "\n",
       "    .dataframe tbody tr th {\n",
       "        vertical-align: top;\n",
       "    }\n",
       "\n",
       "    .dataframe thead th {\n",
       "        text-align: right;\n",
       "    }\n",
       "</style>\n",
       "<table border=\"1\" class=\"dataframe\">\n",
       "  <thead>\n",
       "    <tr style=\"text-align: right;\">\n",
       "      <th></th>\n",
       "      <th>size</th>\n",
       "      <th>created_at_day</th>\n",
       "      <th>created_at_month</th>\n",
       "      <th>created_at_weekday</th>\n",
       "      <th>created_at_hour</th>\n",
       "      <th>changed_files_number</th>\n",
       "      <th>body_size</th>\n",
       "      <th>commits_number</th>\n",
       "      <th>filetype_.md</th>\n",
       "      <th>filetype_.yaml</th>\n",
       "      <th>...</th>\n",
       "      <th>title_wordcount_via</th>\n",
       "      <th>title_wordcount_website</th>\n",
       "      <th>title_wordcount_week</th>\n",
       "      <th>title_wordcount_weekly</th>\n",
       "      <th>title_wordcount_whitespace</th>\n",
       "      <th>title_wordcount_word</th>\n",
       "      <th>title_wordcount_wording</th>\n",
       "      <th>title_wordcount_workload</th>\n",
       "      <th>ttm_class</th>\n",
       "      <th>time_to_merge</th>\n",
       "    </tr>\n",
       "  </thead>\n",
       "  <tbody>\n",
       "    <tr>\n",
       "      <th>0</th>\n",
       "      <td>1</td>\n",
       "      <td>10</td>\n",
       "      <td>10</td>\n",
       "      <td>0</td>\n",
       "      <td>14</td>\n",
       "      <td>1</td>\n",
       "      <td>0</td>\n",
       "      <td>2</td>\n",
       "      <td>0</td>\n",
       "      <td>0</td>\n",
       "      <td>...</td>\n",
       "      <td>0</td>\n",
       "      <td>0</td>\n",
       "      <td>0</td>\n",
       "      <td>0</td>\n",
       "      <td>0</td>\n",
       "      <td>0</td>\n",
       "      <td>0</td>\n",
       "      <td>0</td>\n",
       "      <td>2</td>\n",
       "      <td>476.0</td>\n",
       "    </tr>\n",
       "    <tr>\n",
       "      <th>1</th>\n",
       "      <td>0</td>\n",
       "      <td>10</td>\n",
       "      <td>10</td>\n",
       "      <td>0</td>\n",
       "      <td>11</td>\n",
       "      <td>1</td>\n",
       "      <td>0</td>\n",
       "      <td>1</td>\n",
       "      <td>1</td>\n",
       "      <td>0</td>\n",
       "      <td>...</td>\n",
       "      <td>0</td>\n",
       "      <td>0</td>\n",
       "      <td>0</td>\n",
       "      <td>0</td>\n",
       "      <td>1</td>\n",
       "      <td>0</td>\n",
       "      <td>0</td>\n",
       "      <td>0</td>\n",
       "      <td>3</td>\n",
       "      <td>7081.0</td>\n",
       "    </tr>\n",
       "    <tr>\n",
       "      <th>2</th>\n",
       "      <td>0</td>\n",
       "      <td>6</td>\n",
       "      <td>10</td>\n",
       "      <td>3</td>\n",
       "      <td>18</td>\n",
       "      <td>0</td>\n",
       "      <td>0</td>\n",
       "      <td>0</td>\n",
       "      <td>0</td>\n",
       "      <td>0</td>\n",
       "      <td>...</td>\n",
       "      <td>0</td>\n",
       "      <td>0</td>\n",
       "      <td>0</td>\n",
       "      <td>0</td>\n",
       "      <td>0</td>\n",
       "      <td>0</td>\n",
       "      <td>0</td>\n",
       "      <td>0</td>\n",
       "      <td>9</td>\n",
       "      <td>NaN</td>\n",
       "    </tr>\n",
       "    <tr>\n",
       "      <th>3</th>\n",
       "      <td>2</td>\n",
       "      <td>6</td>\n",
       "      <td>10</td>\n",
       "      <td>3</td>\n",
       "      <td>17</td>\n",
       "      <td>1</td>\n",
       "      <td>0</td>\n",
       "      <td>1</td>\n",
       "      <td>1</td>\n",
       "      <td>0</td>\n",
       "      <td>...</td>\n",
       "      <td>0</td>\n",
       "      <td>0</td>\n",
       "      <td>0</td>\n",
       "      <td>0</td>\n",
       "      <td>0</td>\n",
       "      <td>0</td>\n",
       "      <td>0</td>\n",
       "      <td>0</td>\n",
       "      <td>5</td>\n",
       "      <td>68588.0</td>\n",
       "    </tr>\n",
       "    <tr>\n",
       "      <th>4</th>\n",
       "      <td>0</td>\n",
       "      <td>19</td>\n",
       "      <td>9</td>\n",
       "      <td>0</td>\n",
       "      <td>20</td>\n",
       "      <td>1</td>\n",
       "      <td>6</td>\n",
       "      <td>2</td>\n",
       "      <td>1</td>\n",
       "      <td>0</td>\n",
       "      <td>...</td>\n",
       "      <td>0</td>\n",
       "      <td>0</td>\n",
       "      <td>0</td>\n",
       "      <td>0</td>\n",
       "      <td>0</td>\n",
       "      <td>0</td>\n",
       "      <td>1</td>\n",
       "      <td>0</td>\n",
       "      <td>0</td>\n",
       "      <td>11.0</td>\n",
       "    </tr>\n",
       "  </tbody>\n",
       "</table>\n",
       "<p>5 rows × 188 columns</p>\n",
       "</div>"
      ],
      "text/plain": [
       "   size  created_at_day  created_at_month  created_at_weekday  \\\n",
       "0     1              10                10                   0   \n",
       "1     0              10                10                   0   \n",
       "2     0               6                10                   3   \n",
       "3     2               6                10                   3   \n",
       "4     0              19                 9                   0   \n",
       "\n",
       "   created_at_hour  changed_files_number  body_size  commits_number  \\\n",
       "0               14                     1          0               2   \n",
       "1               11                     1          0               1   \n",
       "2               18                     0          0               0   \n",
       "3               17                     1          0               1   \n",
       "4               20                     1          6               2   \n",
       "\n",
       "   filetype_.md  filetype_.yaml  ...  title_wordcount_via  \\\n",
       "0             0               0  ...                    0   \n",
       "1             1               0  ...                    0   \n",
       "2             0               0  ...                    0   \n",
       "3             1               0  ...                    0   \n",
       "4             1               0  ...                    0   \n",
       "\n",
       "   title_wordcount_website  title_wordcount_week  title_wordcount_weekly  \\\n",
       "0                        0                     0                       0   \n",
       "1                        0                     0                       0   \n",
       "2                        0                     0                       0   \n",
       "3                        0                     0                       0   \n",
       "4                        0                     0                       0   \n",
       "\n",
       "   title_wordcount_whitespace  title_wordcount_word  title_wordcount_wording  \\\n",
       "0                           0                     0                        0   \n",
       "1                           1                     0                        0   \n",
       "2                           0                     0                        0   \n",
       "3                           0                     0                        0   \n",
       "4                           0                     0                        1   \n",
       "\n",
       "   title_wordcount_workload  ttm_class  time_to_merge  \n",
       "0                         0          2          476.0  \n",
       "1                         0          3         7081.0  \n",
       "2                         0          9            NaN  \n",
       "3                         0          5        68588.0  \n",
       "4                         0          0           11.0  \n",
       "\n",
       "[5 rows x 188 columns]"
      ]
     },
     "execution_count": 101,
     "metadata": {},
     "output_type": "execute_result"
    }
   ],
   "source": [
    "# join all types of features\n",
    "ttm_dataset = pd.concat(\n",
    "    [feature_df, filetype_df, title_wordcount_df], axis=1, ignore_index=False\n",
    ")\n",
    "\n",
    "# keep only the selected features and the prediction label\n",
    "ttm_dataset = ttm_dataset[selected_features + [\"ttm_class\", \"time_to_merge\"]]\n",
    "\n",
    "ttm_dataset.head()"
   ]
  },
  {
   "cell_type": "code",
   "execution_count": 102,
   "id": "4fd9e422-eaf1-4c80-9375-5d71ac985171",
   "metadata": {
    "execution": {
     "iopub.execute_input": "2022-10-13T22:55:12.742429Z",
     "iopub.status.busy": "2022-10-13T22:55:12.742061Z",
     "iopub.status.idle": "2022-10-13T22:55:12.754619Z",
     "shell.execute_reply": "2022-10-13T22:55:12.753894Z"
    }
   },
   "outputs": [
    {
     "name": "stdout",
     "output_type": "stream",
     "text": [
      "<class 'pandas.core.frame.DataFrame'>\n",
      "RangeIndex: 94 entries, 0 to 93\n",
      "Columns: 188 entries, size to time_to_merge\n",
      "dtypes: float64(1), int64(187)\n",
      "memory usage: 138.2 KB\n"
     ]
    }
   ],
   "source": [
    "ttm_dataset.info()"
   ]
  },
  {
   "cell_type": "markdown",
   "id": "4a949795",
   "metadata": {},
   "source": [
    "## Save results to Ceph or locally\n",
    "\n",
    "Using the helper function to save the data frame in a parquet format on the Ceph bucket if we are running in automation, and locally if not."
   ]
  },
  {
   "cell_type": "code",
   "execution_count": 103,
   "id": "ecd03940-1b27-4472-ae97-469a4ad8a25a",
   "metadata": {
    "execution": {
     "iopub.execute_input": "2022-10-13T22:55:12.758926Z",
     "iopub.status.busy": "2022-10-13T22:55:12.758349Z",
     "iopub.status.idle": "2022-10-13T22:55:12.761818Z",
     "shell.execute_reply": "2022-10-13T22:55:12.761135Z"
    }
   },
   "outputs": [],
   "source": [
    "TTM_DATASET_PATH = os.path.join(s3_input_data_path, ORG, REPO)"
   ]
  },
  {
   "cell_type": "code",
   "execution_count": 104,
   "id": "adfdfb1b",
   "metadata": {
    "execution": {
     "iopub.execute_input": "2022-10-13T22:55:12.765012Z",
     "iopub.status.busy": "2022-10-13T22:55:12.764467Z",
     "iopub.status.idle": "2022-10-13T22:55:13.204198Z",
     "shell.execute_reply": "2022-10-13T22:55:13.203461Z"
    }
   },
   "outputs": [],
   "source": [
    "## Sanity check to see if the dataset is the same\n",
    "\n",
    "if REMOTE:\n",
    "    cc = CephCommunication(s3_endpoint_url, s3_access_key, s3_secret_key, s3_bucket)\n",
    "    try:\n",
    "        cc.upload_to_ceph(\n",
    "            ttm_dataset,\n",
    "            TTM_DATASET_PATH,\n",
    "            \"ttm_feature_engineered_dataset.parquet\",\n",
    "        )\n",
    "    except ValueError as ve:\n",
    "        print(ve)\n",
    "        print(\"Files already uploaded to S3\")\n",
    "\n",
    "else:\n",
    "    save_to_disk(\n",
    "        ttm_dataset,\n",
    "        local_output_data_path,\n",
    "        \"ttm_dataset.parquet\",\n",
    "    )"
   ]
  },
  {
   "cell_type": "markdown",
   "id": "2cbcdde4-d2f2-418c-9143-c32e48faf29d",
   "metadata": {},
   "source": [
    "### Check contents of the S3 bucket so far"
   ]
  },
  {
   "cell_type": "code",
   "execution_count": 105,
   "id": "c6006c47-ea07-45a3-95e7-48e13910d4af",
   "metadata": {
    "execution": {
     "iopub.execute_input": "2022-10-13T22:55:13.208339Z",
     "iopub.status.busy": "2022-10-13T22:55:13.207666Z",
     "iopub.status.idle": "2022-10-13T22:55:37.431308Z",
     "shell.execute_reply": "2022-10-13T22:55:37.430546Z"
    }
   },
   "outputs": [
    {
     "data": {
      "text/plain": [
       "[s3.ObjectSummary(bucket_name='opf-datacatalog', key='oct12/operate-first/community/features/operate-firstcommunityFILETYPE.parquet'),\n",
       " s3.ObjectSummary(bucket_name='opf-datacatalog', key='oct12/operate-first/community/features/operate-firstcommunitytitlewords.parquet'),\n",
       " s3.ObjectSummary(bucket_name='opf-datacatalog', key='oct12/operate-first/community/test-data/X_test.parquet'),\n",
       " s3.ObjectSummary(bucket_name='opf-datacatalog', key='oct12/operate-first/community/test-data/y_test.parquet'),\n",
       " s3.ObjectSummary(bucket_name='opf-datacatalog', key='oct12/operate-first/community/ttm-model/model.joblib'),\n",
       " s3.ObjectSummary(bucket_name='opf-datacatalog', key='oct12/operate-first/community/ttm_feature_engineered_dataset.parquet'),\n",
       " s3.ObjectSummary(bucket_name='opf-datacatalog', key='oct12/srcopsmetrics/bot_knowledge/operate-first/community/PullRequest.json')]"
      ]
     },
     "execution_count": 105,
     "metadata": {},
     "output_type": "execute_result"
    }
   ],
   "source": [
    "# check all raw data files in s3\n",
    "bucket = cc.s3_resource.Bucket(s3_bucket)\n",
    "objects = [i for i in bucket.objects.all() if s3_input_data_path + \"/\" in i.key]\n",
    "sorted(objects, key=lambda x: x.key)"
   ]
  },
  {
   "cell_type": "markdown",
   "id": "165910c8",
   "metadata": {},
   "source": [
    "# Conclusion\n",
    "\n",
    "This notebook walked through how to access saved raw Pull Requests data from the previous data collection notebook and we engineered some possible features which can be used to predict time to merge of a PR. \n",
    "\n",
    "The features we engineered are as following:\n",
    "\n",
    "- time_to_merge: time taken to merge a PR in seconds, this is feature we will try to predict\n",
    "- changed_files_number: integer indicating the number of files changed, this is an available column\n",
    "- body_size: integer indicating the number of words in the body of the PR, derived from body\n",
    "- size: integer corresponding to a categorical label generated by GitHub which summarizes the size of the changes made to the code base \n",
    "- title_word_counts_vec: vector or list indicating how many times each word appeared in the title\n",
    "- created_at_day: categorical variable indicating the day of month the PR has been created, derived from created_at\n",
    "- created_at_month: categorical variable indicating the month of the year that the PR has been created, derived from created_at\n",
    "- created_at_weekday: categorical variable indicating the day of the week the PR has been created, derived from created_at\n",
    "- created_at_hour: categorical variable indicating the hour of the day the PR has been created, derived from created_at\n",
    "- commits_number: integer indicating the number of commits in the PR\n",
    "- changed_file_type_vec:  vector or list consisting of number of files changed for the top 100 most frequently occurring data types, derived from changed_files\n",
    "\n",
    "\n",
    "# Next Step\n",
    "\n",
    "In the next [notebook](./03_model_training.ipynb), we will train a classifier to predict time to merge of a PR using the features."
   ]
  }
 ],
 "metadata": {
  "kernelspec": {
   "display_name": "Python 3",
   "language": "python",
   "name": "python3"
  },
  "language_info": {
   "codemirror_mode": {
    "name": "ipython",
    "version": 3
   },
   "file_extension": ".py",
   "mimetype": "text/x-python",
   "name": "python",
   "nbconvert_exporter": "python",
   "pygments_lexer": "ipython3",
   "version": "3.8.8"
  }
 },
 "nbformat": 4,
 "nbformat_minor": 5
}
