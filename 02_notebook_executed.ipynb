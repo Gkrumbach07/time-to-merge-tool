{
 "cells": [
  {
   "cell_type": "markdown",
   "id": "6a8d0182",
   "metadata": {
    "tags": []
   },
   "source": [
    "# Feature engineering on extracted Pull Requests data\n",
    "\n",
    "\n",
    "## What we did previously\n",
    "\n",
    "In the previous [notebook](./01_data_collection.ipynb) we collected data from a Github repository of choice and store them on S3 storage\n",
    "\n",
    "## In this step\n",
    "\n",
    "In this notebook we will walk through how to start analyzing the PR data collected from a Github repository.\n",
    "\n",
    "We explore the various fields in the PR dataset and the features that we can derive from them in order to frame an a Machine Learning where we predict the time taken to merge a PR."
   ]
  },
  {
   "cell_type": "code",
   "execution_count": 1,
   "id": "dfe11a56",
   "metadata": {
    "execution": {
     "iopub.execute_input": "2022-11-03T16:14:37.190074Z",
     "iopub.status.busy": "2022-11-03T16:14:37.189541Z",
     "iopub.status.idle": "2022-11-03T16:14:39.204227Z",
     "shell.execute_reply": "2022-11-03T16:14:39.203154Z"
    }
   },
   "outputs": [],
   "source": [
    "import os\n",
    "import re\n",
    "import gzip\n",
    "import json\n",
    "import boto3\n",
    "import pathlib\n",
    "import datetime\n",
    "from tqdm import tqdm\n",
    "from io import BytesIO\n",
    "from pathlib import Path\n",
    "from functools import partial\n",
    "from collections import Counter\n",
    "\n",
    "import numpy as np\n",
    "import pandas as pd\n",
    "\n",
    "import matplotlib.pyplot as plt\n",
    "import seaborn as sns\n",
    "from wordcloud import STOPWORDS\n",
    "\n",
    "from sklearn.feature_selection import SelectKBest\n",
    "from sklearn.feature_selection import chi2\n",
    "from sklearn.feature_selection import mutual_info_classif, f_classif\n",
    "\n",
    "from dotenv import load_dotenv, find_dotenv"
   ]
  },
  {
   "cell_type": "code",
   "execution_count": 2,
   "id": "077bc87f-fd57-40ac-ab45-8ebddaadc46b",
   "metadata": {
    "execution": {
     "iopub.execute_input": "2022-11-03T16:14:39.209169Z",
     "iopub.status.busy": "2022-11-03T16:14:39.208715Z",
     "iopub.status.idle": "2022-11-03T16:14:39.220187Z",
     "shell.execute_reply": "2022-11-03T16:14:39.219236Z"
    }
   },
   "outputs": [],
   "source": [
    "class CephCommunication:\n",
    "    \"\"\"\n",
    "    Class to establish communication with a ceph s3 bucket.\n",
    "    It connects with the bucket and provides methods to read and write data in the parquet format.\n",
    "    \"\"\"\n",
    "\n",
    "    def __init__(\n",
    "        self, s3_endpoint_url, aws_access_key_id, aws_secret_access_key, s3_bucket\n",
    "    ):\n",
    "        self.s3_endpoint_url = s3_endpoint_url\n",
    "        self.aws_access_key_id = aws_access_key_id\n",
    "        self.aws_secret_access_key = aws_secret_access_key\n",
    "        self.s3_resource = boto3.resource(\n",
    "            \"s3\",\n",
    "            endpoint_url=self.s3_endpoint_url,\n",
    "            aws_access_key_id=self.aws_access_key_id,\n",
    "            aws_secret_access_key=self.aws_secret_access_key,\n",
    "        )\n",
    "        self.bucket = s3_bucket\n",
    "        ## Todo: Add try catch\n",
    "\n",
    "    def upload_to_ceph(self, dataframe, s3_path, filename):\n",
    "        \"\"\"\n",
    "        This helper function takes as input the data frame to be uploaded, and the output filename.\n",
    "        It then saves the data frame in the defined ceph bucket.\n",
    "        \"\"\"\n",
    "        parquet_buffer = BytesIO()\n",
    "        dataframe.to_parquet(parquet_buffer)\n",
    "        s3_obj = self.s3_resource.Object(self.bucket, f\"{s3_path}/{filename}\")\n",
    "        status = s3_obj.put(Body=parquet_buffer.getvalue())\n",
    "        return status\n",
    "\n",
    "    def read_from_ceph(self, s3_path, filename):\n",
    "        \"\"\"\n",
    "        Helper function to read from ceph and see if the saved data is correct.\n",
    "        \"\"\"\n",
    "        buffer = BytesIO()\n",
    "        s3_object = self.s3_resource.Object(self.bucket, f\"{s3_path}/{filename}\")\n",
    "        s3_object.download_fileobj(buffer)\n",
    "        df_temp = pd.read_parquet(buffer)\n",
    "        return df_temp\n",
    "\n",
    "\n",
    "def save_to_disk(dataframe, path, filename):\n",
    "    \"\"\"\n",
    "    Helper function to save the dataframe\n",
    "    as a parquet file to disk.\n",
    "    \"\"\"\n",
    "    dataset_base_path = Path(path)\n",
    "    dataset_base_path.mkdir(parents=True, exist_ok=True)\n",
    "    dataframe.to_parquet(f\"{path}/{filename}\")\n",
    "    return True"
   ]
  },
  {
   "cell_type": "code",
   "execution_count": 3,
   "id": "9476e951",
   "metadata": {
    "execution": {
     "iopub.execute_input": "2022-11-03T16:14:39.223800Z",
     "iopub.status.busy": "2022-11-03T16:14:39.223487Z",
     "iopub.status.idle": "2022-11-03T16:14:39.236541Z",
     "shell.execute_reply": "2022-11-03T16:14:39.235528Z"
    }
   },
   "outputs": [
    {
     "data": {
      "text/plain": [
       "True"
      ]
     },
     "execution_count": 3,
     "metadata": {},
     "output_type": "execute_result"
    }
   ],
   "source": [
    "sns.set(rc={\"figure.figsize\": (20, 10)})\n",
    "load_dotenv(find_dotenv(), override=True)"
   ]
  },
  {
   "cell_type": "code",
   "execution_count": 4,
   "id": "9bc3a2c6",
   "metadata": {
    "execution": {
     "iopub.execute_input": "2022-11-03T16:14:39.242322Z",
     "iopub.status.busy": "2022-11-03T16:14:39.242013Z",
     "iopub.status.idle": "2022-11-03T16:14:39.248988Z",
     "shell.execute_reply": "2022-11-03T16:14:39.247821Z"
    }
   },
   "outputs": [],
   "source": [
    "## CEPH Bucket variables\n",
    "## Create a .env file on your local with the correct configs,\n",
    "\n",
    "ORG = os.getenv(\"GITHUB_ORG\")\n",
    "REPO = os.getenv(\"GITHUB_REPO\")\n",
    "\n",
    "## S3 bucket credentials\n",
    "s3_endpoint_url = os.getenv(\"S3_ENDPOINT_URL\")\n",
    "s3_access_key = os.getenv(\"S3_ACCESS_KEY\")\n",
    "s3_secret_key = os.getenv(\"S3_SECRET_KEY\")\n",
    "s3_bucket = os.getenv(\"S3_BUCKET\")\n",
    "\n",
    "REMOTE = os.getenv(\"REMOTE\")\n",
    "\n",
    "s3_input_data_path = os.getenv(\"CEPH_BUCKET_PREFIX\")\n",
    "local_input_data_path = \"../../../data/raw/GitHub/PullRequest.json.gz\"\n",
    "local_output_data_path = \"../../../data/processed/github\"\n",
    "RAW_DATA_PATH = os.path.join(\n",
    "    s3_input_data_path, \"srcopsmetrics/bot_knowledge\", ORG, REPO, \"PullRequest.json\"\n",
    ")"
   ]
  },
  {
   "cell_type": "code",
   "execution_count": 5,
   "id": "4d1b0d9f",
   "metadata": {
    "execution": {
     "iopub.execute_input": "2022-11-03T16:14:39.252849Z",
     "iopub.status.busy": "2022-11-03T16:14:39.252101Z",
     "iopub.status.idle": "2022-11-03T16:14:39.987484Z",
     "shell.execute_reply": "2022-11-03T16:14:39.986438Z"
    }
   },
   "outputs": [
    {
     "name": "stdout",
     "output_type": "stream",
     "text": [
      "getting dataset from ceph\n"
     ]
    }
   ],
   "source": [
    "output = []\n",
    "if REMOTE:\n",
    "    print(\"getting dataset from ceph\")\n",
    "    s3 = boto3.resource(\n",
    "        \"s3\",\n",
    "        endpoint_url=s3_endpoint_url,\n",
    "        aws_access_key_id=s3_access_key,\n",
    "        aws_secret_access_key=s3_secret_key,\n",
    "    )\n",
    "    content = s3.Object(s3_bucket, RAW_DATA_PATH)\n",
    "    file = content.get()[\"Body\"].read().decode(\"utf-8\")\n",
    "\n",
    "    prs = json.loads(file)\n",
    "\n",
    "    for pr in prs.splitlines():\n",
    "        output.append(json.loads(pr))\n",
    "\n",
    "else:\n",
    "    print(\"getting dataset from local\")\n",
    "    with gzip.open(local_input_data_path, \"r\") as f:\n",
    "        prs = json.loads(f.read().decode(\"utf-8\"))\n",
    "\n",
    "pr_df = pd.DataFrame(output)"
   ]
  },
  {
   "cell_type": "code",
   "execution_count": 6,
   "id": "70c24185-4fbf-4287-98fd-c8d721ef71fa",
   "metadata": {
    "execution": {
     "iopub.execute_input": "2022-11-03T16:14:39.991969Z",
     "iopub.status.busy": "2022-11-03T16:14:39.991650Z",
     "iopub.status.idle": "2022-11-03T16:14:40.040414Z",
     "shell.execute_reply": "2022-11-03T16:14:40.039422Z"
    }
   },
   "outputs": [
    {
     "data": {
      "text/html": [
       "<div>\n",
       "<style scoped>\n",
       "    .dataframe tbody tr th:only-of-type {\n",
       "        vertical-align: middle;\n",
       "    }\n",
       "\n",
       "    .dataframe tbody tr th {\n",
       "        vertical-align: top;\n",
       "    }\n",
       "\n",
       "    .dataframe thead th {\n",
       "        text-align: right;\n",
       "    }\n",
       "</style>\n",
       "<table border=\"1\" class=\"dataframe\">\n",
       "  <thead>\n",
       "    <tr style=\"text-align: right;\">\n",
       "      <th></th>\n",
       "      <th>title</th>\n",
       "      <th>body</th>\n",
       "      <th>size</th>\n",
       "      <th>created_by</th>\n",
       "      <th>created_at</th>\n",
       "      <th>closed_at</th>\n",
       "      <th>closed_by</th>\n",
       "      <th>merged_at</th>\n",
       "      <th>merged_by</th>\n",
       "      <th>commits_number</th>\n",
       "      <th>changed_files_number</th>\n",
       "      <th>interactions</th>\n",
       "      <th>reviews</th>\n",
       "      <th>labels</th>\n",
       "      <th>commits</th>\n",
       "      <th>changed_files</th>\n",
       "      <th>first_review_at</th>\n",
       "      <th>first_approve_at</th>\n",
       "      <th>id</th>\n",
       "    </tr>\n",
       "  </thead>\n",
       "  <tbody>\n",
       "    <tr>\n",
       "      <th>0</th>\n",
       "      <td>update logo and favico</td>\n",
       "      <td>closes #209</td>\n",
       "      <td>XS</td>\n",
       "      <td>zafar-hussain</td>\n",
       "      <td>1666376304</td>\n",
       "      <td>NaN</td>\n",
       "      <td>zafar-hussain</td>\n",
       "      <td>NaN</td>\n",
       "      <td>None</td>\n",
       "      <td>1</td>\n",
       "      <td>2</td>\n",
       "      <td>{'sesheta': 203, 'zafar-hussain': 19}</td>\n",
       "      <td>{'1151380921': {'author': 'zafar-hussain', 'wo...</td>\n",
       "      <td>[needs-ok-to-test, size/XS]</td>\n",
       "      <td>[a427b9eb7d1a40fa4c6a2419580eee908fe34180]</td>\n",
       "      <td>[img/favicon.png, img/icon.png]</td>\n",
       "      <td>1.666376e+09</td>\n",
       "      <td>NaN</td>\n",
       "      <td>230</td>\n",
       "    </tr>\n",
       "    <tr>\n",
       "      <th>1</th>\n",
       "      <td>add knikolla and cleanup</td>\n",
       "      <td>None</td>\n",
       "      <td>S</td>\n",
       "      <td>schwesig</td>\n",
       "      <td>1665410557</td>\n",
       "      <td>1.665411e+09</td>\n",
       "      <td>sesheta</td>\n",
       "      <td>1.665411e+09</td>\n",
       "      <td>sesheta</td>\n",
       "      <td>2</td>\n",
       "      <td>1</td>\n",
       "      <td>{'schwesig': 175, 'quaid': 1, 'sesheta': 65}</td>\n",
       "      <td>{}</td>\n",
       "      <td>[lgtm, triage/accepted, approved, priority/cri...</td>\n",
       "      <td>[20fcc08d8ebd4e7453469c7fd5492995f156181c, 764...</td>\n",
       "      <td>[OWNERS]</td>\n",
       "      <td>NaN</td>\n",
       "      <td>NaN</td>\n",
       "      <td>229</td>\n",
       "    </tr>\n",
       "    <tr>\n",
       "      <th>2</th>\n",
       "      <td>pre-commit to clean up existing errors (traili...</td>\n",
       "      <td>None</td>\n",
       "      <td>XS</td>\n",
       "      <td>schwesig</td>\n",
       "      <td>1665402036</td>\n",
       "      <td>1.665409e+09</td>\n",
       "      <td>sesheta</td>\n",
       "      <td>1.665409e+09</td>\n",
       "      <td>sesheta</td>\n",
       "      <td>1</td>\n",
       "      <td>1</td>\n",
       "      <td>{'schwesig': 9, 'codificat': 16, 'quaid': 3, '...</td>\n",
       "      <td>{}</td>\n",
       "      <td>[lgtm, triage/accepted, approved, priority/cri...</td>\n",
       "      <td>[210de76a23b3cf7f1d0c66b8c82457c597400797]</td>\n",
       "      <td>[sig-community/meeting-notes/20221006-meeting-...</td>\n",
       "      <td>NaN</td>\n",
       "      <td>NaN</td>\n",
       "      <td>228</td>\n",
       "    </tr>\n",
       "    <tr>\n",
       "      <th>3</th>\n",
       "      <td>Add knikolla</td>\n",
       "      <td>None</td>\n",
       "      <td>XS</td>\n",
       "      <td>schwesig</td>\n",
       "      <td>1665079206</td>\n",
       "      <td>1.665409e+09</td>\n",
       "      <td>schwesig</td>\n",
       "      <td>NaN</td>\n",
       "      <td>None</td>\n",
       "      <td>0</td>\n",
       "      <td>0</td>\n",
       "      <td>{'quaid': 2, 'schwesig': 7, 'sesheta': 287, 'c...</td>\n",
       "      <td>{'1134003785': {'author': 'schwesig', 'words_c...</td>\n",
       "      <td>[hacktoberfest, hacktoberfest-accepted, size/X...</td>\n",
       "      <td>[]</td>\n",
       "      <td>[]</td>\n",
       "      <td>1.665127e+09</td>\n",
       "      <td>NaN</td>\n",
       "      <td>225</td>\n",
       "    </tr>\n",
       "    <tr>\n",
       "      <th>4</th>\n",
       "      <td>Create 20221006-meeting-notes.md</td>\n",
       "      <td>None</td>\n",
       "      <td>M</td>\n",
       "      <td>schwesig</td>\n",
       "      <td>1665078958</td>\n",
       "      <td>1.665148e+09</td>\n",
       "      <td>schwesig</td>\n",
       "      <td>1.665148e+09</td>\n",
       "      <td>schwesig</td>\n",
       "      <td>1</td>\n",
       "      <td>1</td>\n",
       "      <td>{'sesheta': 172, 'quaid': 2}</td>\n",
       "      <td>{'1133430644': {'author': 'quaid', 'words_coun...</td>\n",
       "      <td>[kind/documentation, lgtm, approved, size/M, s...</td>\n",
       "      <td>[54c273e75aa9a4a7326c7f9aad1b013bc0c29791]</td>\n",
       "      <td>[sig-community/meeting-notes/20221006-meeting-...</td>\n",
       "      <td>1.665079e+09</td>\n",
       "      <td>1.665079e+09</td>\n",
       "      <td>224</td>\n",
       "    </tr>\n",
       "    <tr>\n",
       "      <th>...</th>\n",
       "      <td>...</td>\n",
       "      <td>...</td>\n",
       "      <td>...</td>\n",
       "      <td>...</td>\n",
       "      <td>...</td>\n",
       "      <td>...</td>\n",
       "      <td>...</td>\n",
       "      <td>...</td>\n",
       "      <td>...</td>\n",
       "      <td>...</td>\n",
       "      <td>...</td>\n",
       "      <td>...</td>\n",
       "      <td>...</td>\n",
       "      <td>...</td>\n",
       "      <td>...</td>\n",
       "      <td>...</td>\n",
       "      <td>...</td>\n",
       "      <td>...</td>\n",
       "      <td>...</td>\n",
       "    </tr>\n",
       "    <tr>\n",
       "      <th>90</th>\n",
       "      <td>Created a new document for glossary</td>\n",
       "      <td>This pr adds a glossary document to the repo. ...</td>\n",
       "      <td>L</td>\n",
       "      <td>margarethaley</td>\n",
       "      <td>1625255261</td>\n",
       "      <td>1.625615e+09</td>\n",
       "      <td>sesheta</td>\n",
       "      <td>1.625615e+09</td>\n",
       "      <td>sesheta</td>\n",
       "      <td>2</td>\n",
       "      <td>2</td>\n",
       "      <td>{'quaid': 4, 'sesheta': 65}</td>\n",
       "      <td>{'699550191': {'author': 'quaid', 'words_count...</td>\n",
       "      <td>[size/L, lgtm, approved]</td>\n",
       "      <td>[28612661c6aa3a338539176e3bef111537e8b79e, f4c...</td>\n",
       "      <td>[glossary.md, new_front_page_mockup.md]</td>\n",
       "      <td>1.625550e+09</td>\n",
       "      <td>NaN</td>\n",
       "      <td>45</td>\n",
       "    </tr>\n",
       "    <tr>\n",
       "      <th>91</th>\n",
       "      <td>update the resource limit for the prowjobs</td>\n",
       "      <td>update the resource limit for the prowjobs\\r\\n...</td>\n",
       "      <td>XS</td>\n",
       "      <td>harshad16</td>\n",
       "      <td>1625177628</td>\n",
       "      <td>1.625230e+09</td>\n",
       "      <td>sesheta</td>\n",
       "      <td>1.625230e+09</td>\n",
       "      <td>sesheta</td>\n",
       "      <td>1</td>\n",
       "      <td>1</td>\n",
       "      <td>{'harshad16': 3, 'sesheta': 70}</td>\n",
       "      <td>{'698155981': {'author': 'oindrillac', 'words_...</td>\n",
       "      <td>[lgtm, approved, size/XS]</td>\n",
       "      <td>[d89f48d4fd7c01b61847762dfda0b2253cb0e7ed]</td>\n",
       "      <td>[.prow.yaml]</td>\n",
       "      <td>1.625230e+09</td>\n",
       "      <td>1.625230e+09</td>\n",
       "      <td>44</td>\n",
       "    </tr>\n",
       "    <tr>\n",
       "      <th>92</th>\n",
       "      <td>Front page content draft</td>\n",
       "      <td>This pr adds a file containing draft content f...</td>\n",
       "      <td>M</td>\n",
       "      <td>margarethaley</td>\n",
       "      <td>1625167660</td>\n",
       "      <td>1.625254e+09</td>\n",
       "      <td>sesheta</td>\n",
       "      <td>1.625254e+09</td>\n",
       "      <td>sesheta</td>\n",
       "      <td>1</td>\n",
       "      <td>1</td>\n",
       "      <td>{'margarethaley': 24, 'oindrillac': 104, 'hars...</td>\n",
       "      <td>{'697796698': {'author': 'quaid', 'words_count...</td>\n",
       "      <td>[lgtm, approved, size/M]</td>\n",
       "      <td>[28612661c6aa3a338539176e3bef111537e8b79e]</td>\n",
       "      <td>[new_front_page_mockup.md]</td>\n",
       "      <td>1.625197e+09</td>\n",
       "      <td>NaN</td>\n",
       "      <td>43</td>\n",
       "    </tr>\n",
       "    <tr>\n",
       "      <th>93</th>\n",
       "      <td>Created from existing messages for hacking-on</td>\n",
       "      <td>This is created using the messages on operate-...</td>\n",
       "      <td>M</td>\n",
       "      <td>quaid</td>\n",
       "      <td>1621226623</td>\n",
       "      <td>1.625255e+09</td>\n",
       "      <td>sesheta</td>\n",
       "      <td>1.625255e+09</td>\n",
       "      <td>sesheta</td>\n",
       "      <td>1</td>\n",
       "      <td>1</td>\n",
       "      <td>{'HumairAK': 60, 'quaid': 96, 'sesheta': 131, ...</td>\n",
       "      <td>{'661390364': {'author': 'HumairAK', 'words_co...</td>\n",
       "      <td>[lgtm, approved]</td>\n",
       "      <td>[03b73f88526078fdce85a6862248f2c8641e60d2]</td>\n",
       "      <td>[core_project_message.md]</td>\n",
       "      <td>1.621283e+09</td>\n",
       "      <td>NaN</td>\n",
       "      <td>5</td>\n",
       "    </tr>\n",
       "    <tr>\n",
       "      <th>94</th>\n",
       "      <td>chore: Add quaid to OWNERS</td>\n",
       "      <td>SSIA\\r\\n\\r\\n/cc @quaid</td>\n",
       "      <td>XS</td>\n",
       "      <td>tumido</td>\n",
       "      <td>1620809958</td>\n",
       "      <td>1.620827e+09</td>\n",
       "      <td>HumairAK</td>\n",
       "      <td>1.620827e+09</td>\n",
       "      <td>HumairAK</td>\n",
       "      <td>1</td>\n",
       "      <td>1</td>\n",
       "      <td>{'tumido': 1, 'sesheta': 68}</td>\n",
       "      <td>{'657780656': {'author': 'HumairAK', 'words_co...</td>\n",
       "      <td>[]</td>\n",
       "      <td>[b4cec5fb1a0d4d789e878e089560ca9752476cc7]</td>\n",
       "      <td>[OWNERS]</td>\n",
       "      <td>1.620820e+09</td>\n",
       "      <td>1.620820e+09</td>\n",
       "      <td>1</td>\n",
       "    </tr>\n",
       "  </tbody>\n",
       "</table>\n",
       "<p>95 rows × 19 columns</p>\n",
       "</div>"
      ],
      "text/plain": [
       "                                                title  \\\n",
       "0                              update logo and favico   \n",
       "1                            add knikolla and cleanup   \n",
       "2   pre-commit to clean up existing errors (traili...   \n",
       "3                                        Add knikolla   \n",
       "4                    Create 20221006-meeting-notes.md   \n",
       "..                                                ...   \n",
       "90                Created a new document for glossary   \n",
       "91         update the resource limit for the prowjobs   \n",
       "92                           Front page content draft   \n",
       "93      Created from existing messages for hacking-on   \n",
       "94                         chore: Add quaid to OWNERS   \n",
       "\n",
       "                                                 body size     created_by  \\\n",
       "0                                         closes #209   XS  zafar-hussain   \n",
       "1                                                None    S       schwesig   \n",
       "2                                                None   XS       schwesig   \n",
       "3                                                None   XS       schwesig   \n",
       "4                                                None    M       schwesig   \n",
       "..                                                ...  ...            ...   \n",
       "90  This pr adds a glossary document to the repo. ...    L  margarethaley   \n",
       "91  update the resource limit for the prowjobs\\r\\n...   XS      harshad16   \n",
       "92  This pr adds a file containing draft content f...    M  margarethaley   \n",
       "93  This is created using the messages on operate-...    M          quaid   \n",
       "94                             SSIA\\r\\n\\r\\n/cc @quaid   XS         tumido   \n",
       "\n",
       "    created_at     closed_at      closed_by     merged_at merged_by  \\\n",
       "0   1666376304           NaN  zafar-hussain           NaN      None   \n",
       "1   1665410557  1.665411e+09        sesheta  1.665411e+09   sesheta   \n",
       "2   1665402036  1.665409e+09        sesheta  1.665409e+09   sesheta   \n",
       "3   1665079206  1.665409e+09       schwesig           NaN      None   \n",
       "4   1665078958  1.665148e+09       schwesig  1.665148e+09  schwesig   \n",
       "..         ...           ...            ...           ...       ...   \n",
       "90  1625255261  1.625615e+09        sesheta  1.625615e+09   sesheta   \n",
       "91  1625177628  1.625230e+09        sesheta  1.625230e+09   sesheta   \n",
       "92  1625167660  1.625254e+09        sesheta  1.625254e+09   sesheta   \n",
       "93  1621226623  1.625255e+09        sesheta  1.625255e+09   sesheta   \n",
       "94  1620809958  1.620827e+09       HumairAK  1.620827e+09  HumairAK   \n",
       "\n",
       "    commits_number  changed_files_number  \\\n",
       "0                1                     2   \n",
       "1                2                     1   \n",
       "2                1                     1   \n",
       "3                0                     0   \n",
       "4                1                     1   \n",
       "..             ...                   ...   \n",
       "90               2                     2   \n",
       "91               1                     1   \n",
       "92               1                     1   \n",
       "93               1                     1   \n",
       "94               1                     1   \n",
       "\n",
       "                                         interactions  \\\n",
       "0               {'sesheta': 203, 'zafar-hussain': 19}   \n",
       "1        {'schwesig': 175, 'quaid': 1, 'sesheta': 65}   \n",
       "2   {'schwesig': 9, 'codificat': 16, 'quaid': 3, '...   \n",
       "3   {'quaid': 2, 'schwesig': 7, 'sesheta': 287, 'c...   \n",
       "4                        {'sesheta': 172, 'quaid': 2}   \n",
       "..                                                ...   \n",
       "90                        {'quaid': 4, 'sesheta': 65}   \n",
       "91                    {'harshad16': 3, 'sesheta': 70}   \n",
       "92  {'margarethaley': 24, 'oindrillac': 104, 'hars...   \n",
       "93  {'HumairAK': 60, 'quaid': 96, 'sesheta': 131, ...   \n",
       "94                       {'tumido': 1, 'sesheta': 68}   \n",
       "\n",
       "                                              reviews  \\\n",
       "0   {'1151380921': {'author': 'zafar-hussain', 'wo...   \n",
       "1                                                  {}   \n",
       "2                                                  {}   \n",
       "3   {'1134003785': {'author': 'schwesig', 'words_c...   \n",
       "4   {'1133430644': {'author': 'quaid', 'words_coun...   \n",
       "..                                                ...   \n",
       "90  {'699550191': {'author': 'quaid', 'words_count...   \n",
       "91  {'698155981': {'author': 'oindrillac', 'words_...   \n",
       "92  {'697796698': {'author': 'quaid', 'words_count...   \n",
       "93  {'661390364': {'author': 'HumairAK', 'words_co...   \n",
       "94  {'657780656': {'author': 'HumairAK', 'words_co...   \n",
       "\n",
       "                                               labels  \\\n",
       "0                         [needs-ok-to-test, size/XS]   \n",
       "1   [lgtm, triage/accepted, approved, priority/cri...   \n",
       "2   [lgtm, triage/accepted, approved, priority/cri...   \n",
       "3   [hacktoberfest, hacktoberfest-accepted, size/X...   \n",
       "4   [kind/documentation, lgtm, approved, size/M, s...   \n",
       "..                                                ...   \n",
       "90                           [size/L, lgtm, approved]   \n",
       "91                          [lgtm, approved, size/XS]   \n",
       "92                           [lgtm, approved, size/M]   \n",
       "93                                   [lgtm, approved]   \n",
       "94                                                 []   \n",
       "\n",
       "                                              commits  \\\n",
       "0          [a427b9eb7d1a40fa4c6a2419580eee908fe34180]   \n",
       "1   [20fcc08d8ebd4e7453469c7fd5492995f156181c, 764...   \n",
       "2          [210de76a23b3cf7f1d0c66b8c82457c597400797]   \n",
       "3                                                  []   \n",
       "4          [54c273e75aa9a4a7326c7f9aad1b013bc0c29791]   \n",
       "..                                                ...   \n",
       "90  [28612661c6aa3a338539176e3bef111537e8b79e, f4c...   \n",
       "91         [d89f48d4fd7c01b61847762dfda0b2253cb0e7ed]   \n",
       "92         [28612661c6aa3a338539176e3bef111537e8b79e]   \n",
       "93         [03b73f88526078fdce85a6862248f2c8641e60d2]   \n",
       "94         [b4cec5fb1a0d4d789e878e089560ca9752476cc7]   \n",
       "\n",
       "                                        changed_files  first_review_at  \\\n",
       "0                     [img/favicon.png, img/icon.png]     1.666376e+09   \n",
       "1                                            [OWNERS]              NaN   \n",
       "2   [sig-community/meeting-notes/20221006-meeting-...              NaN   \n",
       "3                                                  []     1.665127e+09   \n",
       "4   [sig-community/meeting-notes/20221006-meeting-...     1.665079e+09   \n",
       "..                                                ...              ...   \n",
       "90            [glossary.md, new_front_page_mockup.md]     1.625550e+09   \n",
       "91                                       [.prow.yaml]     1.625230e+09   \n",
       "92                         [new_front_page_mockup.md]     1.625197e+09   \n",
       "93                          [core_project_message.md]     1.621283e+09   \n",
       "94                                           [OWNERS]     1.620820e+09   \n",
       "\n",
       "    first_approve_at   id  \n",
       "0                NaN  230  \n",
       "1                NaN  229  \n",
       "2                NaN  228  \n",
       "3                NaN  225  \n",
       "4       1.665079e+09  224  \n",
       "..               ...  ...  \n",
       "90               NaN   45  \n",
       "91      1.625230e+09   44  \n",
       "92               NaN   43  \n",
       "93               NaN    5  \n",
       "94      1.620820e+09    1  \n",
       "\n",
       "[95 rows x 19 columns]"
      ]
     },
     "execution_count": 6,
     "metadata": {},
     "output_type": "execute_result"
    }
   ],
   "source": [
    "pr_df"
   ]
  },
  {
   "cell_type": "code",
   "execution_count": 7,
   "id": "13dc895b",
   "metadata": {
    "execution": {
     "iopub.execute_input": "2022-11-03T16:14:40.044798Z",
     "iopub.status.busy": "2022-11-03T16:14:40.044467Z",
     "iopub.status.idle": "2022-11-03T16:14:40.052518Z",
     "shell.execute_reply": "2022-11-03T16:14:40.051611Z"
    }
   },
   "outputs": [
    {
     "data": {
      "text/plain": [
       "(95, 19)"
      ]
     },
     "execution_count": 7,
     "metadata": {},
     "output_type": "execute_result"
    }
   ],
   "source": [
    "pr_df.shape"
   ]
  },
  {
   "cell_type": "code",
   "execution_count": 8,
   "id": "f82201c5",
   "metadata": {
    "execution": {
     "iopub.execute_input": "2022-11-03T16:14:40.057261Z",
     "iopub.status.busy": "2022-11-03T16:14:40.056712Z",
     "iopub.status.idle": "2022-11-03T16:14:40.080475Z",
     "shell.execute_reply": "2022-11-03T16:14:40.079573Z"
    }
   },
   "outputs": [
    {
     "data": {
      "text/html": [
       "<div>\n",
       "<style scoped>\n",
       "    .dataframe tbody tr th:only-of-type {\n",
       "        vertical-align: middle;\n",
       "    }\n",
       "\n",
       "    .dataframe tbody tr th {\n",
       "        vertical-align: top;\n",
       "    }\n",
       "\n",
       "    .dataframe thead th {\n",
       "        text-align: right;\n",
       "    }\n",
       "</style>\n",
       "<table border=\"1\" class=\"dataframe\">\n",
       "  <thead>\n",
       "    <tr style=\"text-align: right;\">\n",
       "      <th></th>\n",
       "      <th>title</th>\n",
       "      <th>body</th>\n",
       "      <th>size</th>\n",
       "      <th>created_by</th>\n",
       "      <th>created_at</th>\n",
       "      <th>closed_at</th>\n",
       "      <th>closed_by</th>\n",
       "      <th>merged_at</th>\n",
       "      <th>merged_by</th>\n",
       "      <th>commits_number</th>\n",
       "      <th>changed_files_number</th>\n",
       "      <th>interactions</th>\n",
       "      <th>reviews</th>\n",
       "      <th>labels</th>\n",
       "      <th>commits</th>\n",
       "      <th>changed_files</th>\n",
       "      <th>first_review_at</th>\n",
       "      <th>first_approve_at</th>\n",
       "      <th>id</th>\n",
       "    </tr>\n",
       "  </thead>\n",
       "  <tbody>\n",
       "    <tr>\n",
       "      <th>0</th>\n",
       "      <td>update logo and favico</td>\n",
       "      <td>closes #209</td>\n",
       "      <td>XS</td>\n",
       "      <td>zafar-hussain</td>\n",
       "      <td>1666376304</td>\n",
       "      <td>NaN</td>\n",
       "      <td>zafar-hussain</td>\n",
       "      <td>NaN</td>\n",
       "      <td>None</td>\n",
       "      <td>1</td>\n",
       "      <td>2</td>\n",
       "      <td>{'sesheta': 203, 'zafar-hussain': 19}</td>\n",
       "      <td>{'1151380921': {'author': 'zafar-hussain', 'wo...</td>\n",
       "      <td>[needs-ok-to-test, size/XS]</td>\n",
       "      <td>[a427b9eb7d1a40fa4c6a2419580eee908fe34180]</td>\n",
       "      <td>[img/favicon.png, img/icon.png]</td>\n",
       "      <td>1.666376e+09</td>\n",
       "      <td>NaN</td>\n",
       "      <td>230</td>\n",
       "    </tr>\n",
       "    <tr>\n",
       "      <th>1</th>\n",
       "      <td>add knikolla and cleanup</td>\n",
       "      <td>None</td>\n",
       "      <td>S</td>\n",
       "      <td>schwesig</td>\n",
       "      <td>1665410557</td>\n",
       "      <td>1.665411e+09</td>\n",
       "      <td>sesheta</td>\n",
       "      <td>1.665411e+09</td>\n",
       "      <td>sesheta</td>\n",
       "      <td>2</td>\n",
       "      <td>1</td>\n",
       "      <td>{'schwesig': 175, 'quaid': 1, 'sesheta': 65}</td>\n",
       "      <td>{}</td>\n",
       "      <td>[lgtm, triage/accepted, approved, priority/cri...</td>\n",
       "      <td>[20fcc08d8ebd4e7453469c7fd5492995f156181c, 764...</td>\n",
       "      <td>[OWNERS]</td>\n",
       "      <td>NaN</td>\n",
       "      <td>NaN</td>\n",
       "      <td>229</td>\n",
       "    </tr>\n",
       "  </tbody>\n",
       "</table>\n",
       "</div>"
      ],
      "text/plain": [
       "                      title         body size     created_by  created_at  \\\n",
       "0    update logo and favico  closes #209   XS  zafar-hussain  1666376304   \n",
       "1  add knikolla and cleanup         None    S       schwesig  1665410557   \n",
       "\n",
       "      closed_at      closed_by     merged_at merged_by  commits_number  \\\n",
       "0           NaN  zafar-hussain           NaN      None               1   \n",
       "1  1.665411e+09        sesheta  1.665411e+09   sesheta               2   \n",
       "\n",
       "   changed_files_number                                  interactions  \\\n",
       "0                     2         {'sesheta': 203, 'zafar-hussain': 19}   \n",
       "1                     1  {'schwesig': 175, 'quaid': 1, 'sesheta': 65}   \n",
       "\n",
       "                                             reviews  \\\n",
       "0  {'1151380921': {'author': 'zafar-hussain', 'wo...   \n",
       "1                                                 {}   \n",
       "\n",
       "                                              labels  \\\n",
       "0                        [needs-ok-to-test, size/XS]   \n",
       "1  [lgtm, triage/accepted, approved, priority/cri...   \n",
       "\n",
       "                                             commits  \\\n",
       "0         [a427b9eb7d1a40fa4c6a2419580eee908fe34180]   \n",
       "1  [20fcc08d8ebd4e7453469c7fd5492995f156181c, 764...   \n",
       "\n",
       "                     changed_files  first_review_at  first_approve_at   id  \n",
       "0  [img/favicon.png, img/icon.png]     1.666376e+09               NaN  230  \n",
       "1                         [OWNERS]              NaN               NaN  229  "
      ]
     },
     "execution_count": 8,
     "metadata": {},
     "output_type": "execute_result"
    }
   ],
   "source": [
    "pr_df.head(2)"
   ]
  },
  {
   "cell_type": "markdown",
   "id": "c472ffbd",
   "metadata": {},
   "source": [
    "## Feature engineering\n",
    "\n",
    "In the next section we will do some basic feature engineering and correlation analyis on our dataset to see if anything interesting jumps out at us. "
   ]
  },
  {
   "cell_type": "markdown",
   "id": "4ed68d9a",
   "metadata": {},
   "source": [
    "**Time to Merge**\n",
    "\n",
    "We will derive a new feature called `time_to_merge` which will be the difference between the `created_at` and `merged_at` fields. "
   ]
  },
  {
   "cell_type": "code",
   "execution_count": 9,
   "id": "d67035e7",
   "metadata": {
    "execution": {
     "iopub.execute_input": "2022-11-03T16:14:40.084598Z",
     "iopub.status.busy": "2022-11-03T16:14:40.084292Z",
     "iopub.status.idle": "2022-11-03T16:14:40.089908Z",
     "shell.execute_reply": "2022-11-03T16:14:40.089037Z"
    }
   },
   "outputs": [],
   "source": [
    "# derive time_to_merege\n",
    "pr_df[\"time_to_merge\"] = pr_df[\"merged_at\"] - pr_df[\"created_at\"]\n",
    "pr_df[\"time_to_merge\"] = pr_df[\"time_to_merge\"].astype(\"float\")\n",
    "# NOTE: we cant fill NA with 0 because that would imply the PR got merged instantaneously"
   ]
  },
  {
   "cell_type": "code",
   "execution_count": 10,
   "id": "fddf9750-49f5-4997-8280-e94e1e778ad9",
   "metadata": {
    "execution": {
     "iopub.execute_input": "2022-11-03T16:14:40.094212Z",
     "iopub.status.busy": "2022-11-03T16:14:40.093582Z",
     "iopub.status.idle": "2022-11-03T16:14:40.102119Z",
     "shell.execute_reply": "2022-11-03T16:14:40.101233Z"
    }
   },
   "outputs": [
    {
     "data": {
      "text/plain": [
       "0           NaN\n",
       "1         476.0\n",
       "2        7081.0\n",
       "3           NaN\n",
       "4       68588.0\n",
       "        ...    \n",
       "90     359974.0\n",
       "91      52870.0\n",
       "92      86385.0\n",
       "93    4028019.0\n",
       "94      16676.0\n",
       "Name: time_to_merge, Length: 95, dtype: float64"
      ]
     },
     "execution_count": 10,
     "metadata": {},
     "output_type": "execute_result"
    }
   ],
   "source": [
    "pr_df[\"time_to_merge\"]"
   ]
  },
  {
   "cell_type": "markdown",
   "id": "939d196e",
   "metadata": {},
   "source": [
    "Let's look at the distribution of the time to merge column. This can help us determine what the setup for ML problems such as [#236](https://github.com/aicoe-aiops/ocp-ci-analysis/issues/236) could be like. That is, should the time to merge problem be framed as a regression or classification problem.\n",
    "\n",
    "First, lets try to determine what the granularity of the output values should be, in case of a regression setup. That is, should the model predict time to merge in number of seconds, number of hours, number of days, or some other chunk of time."
   ]
  },
  {
   "cell_type": "code",
   "execution_count": 11,
   "id": "b8cc628b",
   "metadata": {
    "execution": {
     "iopub.execute_input": "2022-11-03T16:14:40.106845Z",
     "iopub.status.busy": "2022-11-03T16:14:40.106355Z",
     "iopub.status.idle": "2022-11-03T16:14:40.116703Z",
     "shell.execute_reply": "2022-11-03T16:14:40.115782Z"
    },
    "tags": []
   },
   "outputs": [
    {
     "data": {
      "text/plain": [
       "1.0     0.6000\n",
       "4.0     0.0500\n",
       "12.0    0.0250\n",
       "5.0     0.0250\n",
       "24.0    0.0250\n",
       "7.0     0.0250\n",
       "14.0    0.0250\n",
       "28.0    0.0250\n",
       "10.0    0.0125\n",
       "6.0     0.0125\n",
       "35.0    0.0125\n",
       "27.0    0.0125\n",
       "21.0    0.0125\n",
       "9.0     0.0125\n",
       "8.0     0.0125\n",
       "15.0    0.0125\n",
       "2.0     0.0125\n",
       "42.0    0.0125\n",
       "26.0    0.0125\n",
       "18.0    0.0125\n",
       "13.0    0.0125\n",
       "44.0    0.0125\n",
       "3.0     0.0125\n",
       "47.0    0.0125\n",
       "Name: time_to_merge, dtype: float64"
      ]
     },
     "execution_count": 11,
     "metadata": {},
     "output_type": "execute_result"
    }
   ],
   "source": [
    "# what does the distribution of values look like if we choose days as the granularity\n",
    "ttm_days = np.ceil(pr_df.time_to_merge / (60 * 60 * 24))\n",
    "\n",
    "# value counts - to how many PRs have value 1, 2, 3, etc. for days to merge\n",
    "vc = ttm_days.value_counts()\n",
    "\n",
    "# normalized value counts (i.e. percent of PRs instead of raw number)\n",
    "nvc = vc / vc.sum()\n",
    "nvc"
   ]
  },
  {
   "cell_type": "code",
   "execution_count": 12,
   "id": "192aeb22",
   "metadata": {
    "execution": {
     "iopub.execute_input": "2022-11-03T16:14:40.120571Z",
     "iopub.status.busy": "2022-11-03T16:14:40.119842Z",
     "iopub.status.idle": "2022-11-03T16:14:40.130270Z",
     "shell.execute_reply": "2022-11-03T16:14:40.129321Z"
    },
    "tags": []
   },
   "outputs": [
    {
     "data": {
      "text/plain": [
       "1.0      0.3375\n",
       "6.0      0.0625\n",
       "7.0      0.0500\n",
       "8.0      0.0375\n",
       "2.0      0.0375\n",
       "5.0      0.0375\n",
       "96.0     0.0250\n",
       "25.0     0.0250\n",
       "4.0      0.0250\n",
       "217.0    0.0250\n",
       "3.0      0.0125\n",
       "74.0     0.0125\n",
       "65.0     0.0125\n",
       "164.0    0.0125\n",
       "212.0    0.0125\n",
       "118.0    0.0125\n",
       "30.0     0.0125\n",
       "280.0    0.0125\n",
       "46.0     0.0125\n",
       "37.0     0.0125\n",
       "34.0     0.0125\n",
       "55.0     0.0125\n",
       "205.0    0.0125\n",
       "112.0    0.0125\n",
       "9.0      0.0125\n",
       "58.0     0.0125\n",
       "144.0    0.0125\n",
       "106.0    0.0125\n",
       "102.0    0.0125\n",
       "32.0     0.0125\n",
       "50.0     0.0125\n",
       "189.0    0.0125\n",
       "185.0    0.0125\n",
       "346.0    0.0125\n",
       "22.0     0.0125\n",
       "335.0    0.0125\n",
       "373.0    0.0125\n",
       "Name: time_to_merge, dtype: float64"
      ]
     },
     "execution_count": 12,
     "metadata": {},
     "output_type": "execute_result"
    }
   ],
   "source": [
    "# what if we chose some intermediate value e.g. 3 hours as the granularity?\n",
    "ttm_3hours = np.ceil(pr_df.time_to_merge / (60 * 60 * 3))\n",
    "\n",
    "# value counts - to how many PRs have value 1, 2, 3, etc. for num. 3-hours to merge\n",
    "vc = ttm_3hours.value_counts()\n",
    "\n",
    "# normalized value counts (i.e. percent of PRs instead of raw number)\n",
    "nvc = vc / vc.sum()\n",
    "nvc"
   ]
  },
  {
   "cell_type": "code",
   "execution_count": 13,
   "id": "44e09f11",
   "metadata": {
    "execution": {
     "iopub.execute_input": "2022-11-03T16:14:40.136039Z",
     "iopub.status.busy": "2022-11-03T16:14:40.135743Z",
     "iopub.status.idle": "2022-11-03T16:14:40.146684Z",
     "shell.execute_reply": "2022-11-03T16:14:40.145758Z"
    },
    "tags": []
   },
   "outputs": [
    {
     "data": {
      "text/plain": [
       "1.0       0.3000\n",
       "16.0      0.0375\n",
       "5.0       0.0250\n",
       "17.0      0.0250\n",
       "2.0       0.0250\n",
       "73.0      0.0250\n",
       "15.0      0.0250\n",
       "20.0      0.0250\n",
       "21.0      0.0125\n",
       "19.0      0.0125\n",
       "24.0      0.0125\n",
       "165.0     0.0125\n",
       "100.0     0.0125\n",
       "220.0     0.0125\n",
       "193.0     0.0125\n",
       "490.0     0.0125\n",
       "8.0       0.0125\n",
       "651.0     0.0125\n",
       "635.0     0.0125\n",
       "88.0      0.0125\n",
       "12.0      0.0125\n",
       "335.0     0.0125\n",
       "649.0     0.0125\n",
       "838.0     0.0125\n",
       "137.0     0.0125\n",
       "111.0     0.0125\n",
       "354.0     0.0125\n",
       "173.0     0.0125\n",
       "26.0      0.0125\n",
       "148.0     0.0125\n",
       "23.0      0.0125\n",
       "1003.0    0.0125\n",
       "288.0     0.0125\n",
       "66.0      0.0125\n",
       "1038.0    0.0125\n",
       "555.0     0.0125\n",
       "4.0       0.0125\n",
       "565.0     0.0125\n",
       "96.0      0.0125\n",
       "3.0       0.0125\n",
       "304.0     0.0125\n",
       "287.0     0.0125\n",
       "317.0     0.0125\n",
       "432.0     0.0125\n",
       "11.0      0.0125\n",
       "615.0     0.0125\n",
       "13.0      0.0125\n",
       "22.0      0.0125\n",
       "1119.0    0.0125\n",
       "Name: time_to_merge, dtype: float64"
      ]
     },
     "execution_count": 13,
     "metadata": {},
     "output_type": "execute_result"
    }
   ],
   "source": [
    "# what if we chose hours as the granularity?\n",
    "ttm_hours = np.ceil(pr_df.time_to_merge / (60 * 60))\n",
    "\n",
    "# value counts - to how many PRs have value 1, 2, 3, etc. for hours to merge\n",
    "vc = ttm_hours.value_counts()\n",
    "\n",
    "# normalized value counts (i.e. percent of PRs instead of raw number)\n",
    "nvc = vc / vc.sum()\n",
    "nvc"
   ]
  },
  {
   "cell_type": "markdown",
   "id": "fb8e316b",
   "metadata": {},
   "source": [
    "Now, lets try to determine, if we were to set this up as a classification problem, what the output classes should be. In the following cell, we'll try to split the time-to-merge values into 10 equally populated buckets."
   ]
  },
  {
   "cell_type": "code",
   "execution_count": 14,
   "id": "0ca35bc5",
   "metadata": {
    "execution": {
     "iopub.execute_input": "2022-11-03T16:14:40.151493Z",
     "iopub.status.busy": "2022-11-03T16:14:40.151200Z",
     "iopub.status.idle": "2022-11-03T16:14:40.160352Z",
     "shell.execute_reply": "2022-11-03T16:14:40.159441Z"
    }
   },
   "outputs": [
    {
     "data": {
      "text/plain": [
       "0.0      0.003056\n",
       "0.1      0.013361\n",
       "0.2      0.090833\n",
       "0.3      1.234028\n",
       "0.4     11.030444\n",
       "0.5     16.645833\n",
       "0.6     24.554278\n",
       "0.7    118.527222\n",
       "0.8    290.272000\n",
       "0.9    569.101083\n",
       "Name: time_to_merge, dtype: float64"
      ]
     },
     "execution_count": 14,
     "metadata": {},
     "output_type": "execute_result"
    }
   ],
   "source": [
    "# lets look at what the 10th, 20th, 30th etc percentiles are, to see what the bin boundaries (in terms of hours)\n",
    "# would be if we were to split the data in 10 equally populated bins\n",
    "n_buckets = 10\n",
    "\n",
    "quantiles = pr_df.time_to_merge.quantile(q=np.arange(0, 1 + 1e-100, 1 / n_buckets))\n",
    "quantiles / 3600"
   ]
  },
  {
   "cell_type": "code",
   "execution_count": 15,
   "id": "7b36d5d4-ec27-4a59-b63f-515830da1ae9",
   "metadata": {
    "execution": {
     "iopub.execute_input": "2022-11-03T16:14:40.165074Z",
     "iopub.status.busy": "2022-11-03T16:14:40.164781Z",
     "iopub.status.idle": "2022-11-03T16:14:40.168589Z",
     "shell.execute_reply": "2022-11-03T16:14:40.167699Z"
    }
   },
   "outputs": [],
   "source": [
    "intervals = quantiles"
   ]
  },
  {
   "cell_type": "code",
   "execution_count": 16,
   "id": "acc2bfd4",
   "metadata": {
    "execution": {
     "iopub.execute_input": "2022-11-03T16:14:40.172352Z",
     "iopub.status.busy": "2022-11-03T16:14:40.171978Z",
     "iopub.status.idle": "2022-11-03T16:14:40.179639Z",
     "shell.execute_reply": "2022-11-03T16:14:40.178312Z"
    }
   },
   "outputs": [
    {
     "data": {
      "text/plain": [
       "0.0           NaN\n",
       "0.1      0.010306\n",
       "0.2      0.077472\n",
       "0.3      1.143194\n",
       "0.4      9.796417\n",
       "0.5      5.615389\n",
       "0.6      7.908444\n",
       "0.7     93.972944\n",
       "0.8    171.744778\n",
       "0.9    278.829083\n",
       "Name: time_to_merge, dtype: float64"
      ]
     },
     "execution_count": 16,
     "metadata": {},
     "output_type": "execute_result"
    }
   ],
   "source": [
    "# gaps between the buckets (i.e. size of each bucket) in hours\n",
    "(quantiles - quantiles.shift()) / 3600"
   ]
  },
  {
   "cell_type": "markdown",
   "id": "7111b3d8",
   "metadata": {},
   "source": [
    "If we want to frame our ML problem as a classification problem, we can use the above buckets to define the classes."
   ]
  },
  {
   "cell_type": "markdown",
   "id": "21dc2dcf",
   "metadata": {},
   "source": [
    "**Body**\n",
    "\n",
    "Here, we will derive a feature called `body_size` which will simply be the number of words in the body of the PR. We can use this numerical value to describe the body of the PR."
   ]
  },
  {
   "cell_type": "code",
   "execution_count": 17,
   "id": "212f8a44",
   "metadata": {
    "execution": {
     "iopub.execute_input": "2022-11-03T16:14:40.184820Z",
     "iopub.status.busy": "2022-11-03T16:14:40.184349Z",
     "iopub.status.idle": "2022-11-03T16:14:40.190352Z",
     "shell.execute_reply": "2022-11-03T16:14:40.189414Z"
    }
   },
   "outputs": [],
   "source": [
    "# derive body_size\n",
    "pr_df[\"body_size\"] = pr_df[\"body\"].fillna(\"\").apply(lambda x: len(x.split()))"
   ]
  },
  {
   "cell_type": "code",
   "execution_count": 18,
   "id": "c62d9484",
   "metadata": {
    "execution": {
     "iopub.execute_input": "2022-11-03T16:14:40.194051Z",
     "iopub.status.busy": "2022-11-03T16:14:40.193620Z",
     "iopub.status.idle": "2022-11-03T16:14:40.200884Z",
     "shell.execute_reply": "2022-11-03T16:14:40.199978Z"
    }
   },
   "outputs": [
    {
     "data": {
      "text/plain": [
       "0      2\n",
       "1      0\n",
       "2      0\n",
       "3      0\n",
       "4      0\n",
       "      ..\n",
       "90    48\n",
       "91    16\n",
       "92    38\n",
       "93    34\n",
       "94     3\n",
       "Name: body_size, Length: 95, dtype: int64"
      ]
     },
     "execution_count": 18,
     "metadata": {},
     "output_type": "execute_result"
    }
   ],
   "source": [
    "pr_df[\"body_size\"]"
   ]
  },
  {
   "cell_type": "markdown",
   "id": "9916fd09",
   "metadata": {},
   "source": [
    "**Size**\n",
    "\n",
    "We can attempt to convert the categorical size label generated by GitHub, which summarizes the size of the changes made to the code base, to a numerical value. "
   ]
  },
  {
   "cell_type": "code",
   "execution_count": 19,
   "id": "cbc553ee-3e0b-45ed-83f6-02ae860bef85",
   "metadata": {
    "execution": {
     "iopub.execute_input": "2022-11-03T16:14:40.205763Z",
     "iopub.status.busy": "2022-11-03T16:14:40.205276Z",
     "iopub.status.idle": "2022-11-03T16:14:40.211071Z",
     "shell.execute_reply": "2022-11-03T16:14:40.210189Z"
    }
   },
   "outputs": [
    {
     "data": {
      "text/plain": [
       "{'L', 'M', 'S', 'XL', 'XS', 'XXL'}"
      ]
     },
     "execution_count": 19,
     "metadata": {},
     "output_type": "execute_result"
    }
   ],
   "source": [
    "set(pr_df['size'])"
   ]
  },
  {
   "cell_type": "code",
   "execution_count": 20,
   "id": "709b4cf9",
   "metadata": {
    "execution": {
     "iopub.execute_input": "2022-11-03T16:14:40.214786Z",
     "iopub.status.busy": "2022-11-03T16:14:40.214259Z",
     "iopub.status.idle": "2022-11-03T16:14:40.222839Z",
     "shell.execute_reply": "2022-11-03T16:14:40.221963Z"
    }
   },
   "outputs": [],
   "source": [
    "convert_size = {\"size\": {\"NaN\": 0, \"XS\": 0, \"S\": 1, \"M\": 2, \"L\": 3, \"XL\": 4, \"XXL\": 5}}\n",
    "pr_df = pr_df.replace(convert_size)"
   ]
  },
  {
   "cell_type": "markdown",
   "id": "0b803d48",
   "metadata": {},
   "source": [
    "**Title**\n",
    "\n",
    "Lets try to see if the PR title text can be used to extract any useful information regarding the PR."
   ]
  },
  {
   "cell_type": "code",
   "execution_count": 21,
   "id": "020f050a",
   "metadata": {
    "execution": {
     "iopub.execute_input": "2022-11-03T16:14:40.226760Z",
     "iopub.status.busy": "2022-11-03T16:14:40.226469Z",
     "iopub.status.idle": "2022-11-03T16:14:40.236491Z",
     "shell.execute_reply": "2022-11-03T16:14:40.235554Z"
    }
   },
   "outputs": [
    {
     "data": {
      "text/plain": [
       "0                                update logo and favico\n",
       "1                              add knikolla and cleanup\n",
       "2     pre commit to clean up existing errors  traili...\n",
       "3                                          add knikolla\n",
       "4                      create 20221006 meeting notes md\n",
       "                            ...                        \n",
       "90                  created a new document for glossary\n",
       "91           update the resource limit for the prowjobs\n",
       "92                             front page content draft\n",
       "93        created from existing messages for hacking on\n",
       "94                           chore  add quaid to owners\n",
       "Name: title, Length: 95, dtype: object"
      ]
     },
     "execution_count": 21,
     "metadata": {},
     "output_type": "execute_result"
    }
   ],
   "source": [
    "# first lets preprocess the text available in the titles\n",
    "\n",
    "# convert to lowercase\n",
    "preproc_titles = pr_df[\"title\"].str.lower()\n",
    "\n",
    "# remove punctuations and symbols like : ; , # ( ) [ ] etc\n",
    "preproc_titles = preproc_titles.str.replace(r'[`#-.?!,:;\\/()\\[\\]\"\\']', \" \", regex=True)\n",
    "\n",
    "# remove hash-like strings i.e. 25+ char long strings containing 0-9 or a-f\n",
    "preproc_titles = preproc_titles.str.replace(r\"[0-9a-f]{25,}\", \" \", regex=True)\n",
    "\n",
    "preproc_titles"
   ]
  },
  {
   "cell_type": "code",
   "execution_count": 22,
   "id": "2ecc397e",
   "metadata": {
    "execution": {
     "iopub.execute_input": "2022-11-03T16:14:40.241368Z",
     "iopub.status.busy": "2022-11-03T16:14:40.240840Z",
     "iopub.status.idle": "2022-11-03T16:14:40.249206Z",
     "shell.execute_reply": "2022-11-03T16:14:40.248308Z"
    }
   },
   "outputs": [],
   "source": [
    "# what are the most commonly appearing words in the titles\n",
    "\n",
    "# combin all titles and split into words\n",
    "words = preproc_titles.str.cat(sep=\" \").split()\n",
    "\n",
    "# remove stopwords and numbers (e.g. bugzilla ids)\n",
    "words = [w for w in words if w not in set(STOPWORDS) and not w.isnumeric()]\n",
    "\n",
    "# word frequencies\n",
    "unique_words, counts = np.unique(words, return_counts=True)\n",
    "vc = pd.Series(counts, index=unique_words).sort_values(ascending=False)"
   ]
  },
  {
   "cell_type": "markdown",
   "id": "c52f211c",
   "metadata": {},
   "source": [
    "From the above graph, we can see that titles often contain some keywords that can hint towards the type of changes being made in the PR. We will create a feature which is a vector indicating how many times each word appeared in the title. This way, even if a less prominent word is more correlated with time_to_merge, we will be able to capture that relationship."
   ]
  },
  {
   "cell_type": "code",
   "execution_count": 23,
   "id": "65279268",
   "metadata": {
    "execution": {
     "iopub.execute_input": "2022-11-03T16:14:40.253138Z",
     "iopub.status.busy": "2022-11-03T16:14:40.252837Z",
     "iopub.status.idle": "2022-11-03T16:14:41.800523Z",
     "shell.execute_reply": "2022-11-03T16:14:41.799453Z"
    }
   },
   "outputs": [
    {
     "name": "stderr",
     "output_type": "stream",
     "text": [
      "  0%|          | 0/228 [00:00<?, ?it/s]/tmp/ipykernel_236/4191214648.py:3: PerformanceWarning: DataFrame is highly fragmented.  This is usually the result of calling `frame.insert` many times, which has poor performance.  Consider joining all columns at once using pd.concat(axis=1) instead. To get a de-fragmented frame, use `newframe = frame.copy()`\n",
      "  pr_df[f\"title_wordcount_{word}\"] = preproc_titles.apply(\n",
      " 43%|████▎     | 97/228 [00:00<00:00, 348.12it/s]/tmp/ipykernel_236/4191214648.py:3: PerformanceWarning: DataFrame is highly fragmented.  This is usually the result of calling `frame.insert` many times, which has poor performance.  Consider joining all columns at once using pd.concat(axis=1) instead. To get a de-fragmented frame, use `newframe = frame.copy()`\n",
      "  pr_df[f\"title_wordcount_{word}\"] = preproc_titles.apply(\n",
      "/tmp/ipykernel_236/4191214648.py:3: PerformanceWarning: DataFrame is highly fragmented.  This is usually the result of calling `frame.insert` many times, which has poor performance.  Consider joining all columns at once using pd.concat(axis=1) instead. To get a de-fragmented frame, use `newframe = frame.copy()`\n",
      "  pr_df[f\"title_wordcount_{word}\"] = preproc_titles.apply(\n",
      "/tmp/ipykernel_236/4191214648.py:3: PerformanceWarning: DataFrame is highly fragmented.  This is usually the result of calling `frame.insert` many times, which has poor performance.  Consider joining all columns at once using pd.concat(axis=1) instead. To get a de-fragmented frame, use `newframe = frame.copy()`\n",
      "  pr_df[f\"title_wordcount_{word}\"] = preproc_titles.apply(\n",
      "/tmp/ipykernel_236/4191214648.py:3: PerformanceWarning: DataFrame is highly fragmented.  This is usually the result of calling `frame.insert` many times, which has poor performance.  Consider joining all columns at once using pd.concat(axis=1) instead. To get a de-fragmented frame, use `newframe = frame.copy()`\n",
      "  pr_df[f\"title_wordcount_{word}\"] = preproc_titles.apply(\n",
      "/tmp/ipykernel_236/4191214648.py:3: PerformanceWarning: DataFrame is highly fragmented.  This is usually the result of calling `frame.insert` many times, which has poor performance.  Consider joining all columns at once using pd.concat(axis=1) instead. To get a de-fragmented frame, use `newframe = frame.copy()`\n",
      "  pr_df[f\"title_wordcount_{word}\"] = preproc_titles.apply(\n",
      "/tmp/ipykernel_236/4191214648.py:3: PerformanceWarning: DataFrame is highly fragmented.  This is usually the result of calling `frame.insert` many times, which has poor performance.  Consider joining all columns at once using pd.concat(axis=1) instead. To get a de-fragmented frame, use `newframe = frame.copy()`\n",
      "  pr_df[f\"title_wordcount_{word}\"] = preproc_titles.apply(\n",
      "/tmp/ipykernel_236/4191214648.py:3: PerformanceWarning: DataFrame is highly fragmented.  This is usually the result of calling `frame.insert` many times, which has poor performance.  Consider joining all columns at once using pd.concat(axis=1) instead. To get a de-fragmented frame, use `newframe = frame.copy()`\n",
      "  pr_df[f\"title_wordcount_{word}\"] = preproc_titles.apply(\n",
      "/tmp/ipykernel_236/4191214648.py:3: PerformanceWarning: DataFrame is highly fragmented.  This is usually the result of calling `frame.insert` many times, which has poor performance.  Consider joining all columns at once using pd.concat(axis=1) instead. To get a de-fragmented frame, use `newframe = frame.copy()`\n",
      "  pr_df[f\"title_wordcount_{word}\"] = preproc_titles.apply(\n",
      "/tmp/ipykernel_236/4191214648.py:3: PerformanceWarning: DataFrame is highly fragmented.  This is usually the result of calling `frame.insert` many times, which has poor performance.  Consider joining all columns at once using pd.concat(axis=1) instead. To get a de-fragmented frame, use `newframe = frame.copy()`\n",
      "  pr_df[f\"title_wordcount_{word}\"] = preproc_titles.apply(\n",
      "/tmp/ipykernel_236/4191214648.py:3: PerformanceWarning: DataFrame is highly fragmented.  This is usually the result of calling `frame.insert` many times, which has poor performance.  Consider joining all columns at once using pd.concat(axis=1) instead. To get a de-fragmented frame, use `newframe = frame.copy()`\n",
      "  pr_df[f\"title_wordcount_{word}\"] = preproc_titles.apply(\n",
      "/tmp/ipykernel_236/4191214648.py:3: PerformanceWarning: DataFrame is highly fragmented.  This is usually the result of calling `frame.insert` many times, which has poor performance.  Consider joining all columns at once using pd.concat(axis=1) instead. To get a de-fragmented frame, use `newframe = frame.copy()`\n",
      "  pr_df[f\"title_wordcount_{word}\"] = preproc_titles.apply(\n",
      "/tmp/ipykernel_236/4191214648.py:3: PerformanceWarning: DataFrame is highly fragmented.  This is usually the result of calling `frame.insert` many times, which has poor performance.  Consider joining all columns at once using pd.concat(axis=1) instead. To get a de-fragmented frame, use `newframe = frame.copy()`\n",
      "  pr_df[f\"title_wordcount_{word}\"] = preproc_titles.apply(\n",
      "/tmp/ipykernel_236/4191214648.py:3: PerformanceWarning: DataFrame is highly fragmented.  This is usually the result of calling `frame.insert` many times, which has poor performance.  Consider joining all columns at once using pd.concat(axis=1) instead. To get a de-fragmented frame, use `newframe = frame.copy()`\n",
      "  pr_df[f\"title_wordcount_{word}\"] = preproc_titles.apply(\n",
      "/tmp/ipykernel_236/4191214648.py:3: PerformanceWarning: DataFrame is highly fragmented.  This is usually the result of calling `frame.insert` many times, which has poor performance.  Consider joining all columns at once using pd.concat(axis=1) instead. To get a de-fragmented frame, use `newframe = frame.copy()`\n",
      "  pr_df[f\"title_wordcount_{word}\"] = preproc_titles.apply(\n",
      "/tmp/ipykernel_236/4191214648.py:3: PerformanceWarning: DataFrame is highly fragmented.  This is usually the result of calling `frame.insert` many times, which has poor performance.  Consider joining all columns at once using pd.concat(axis=1) instead. To get a de-fragmented frame, use `newframe = frame.copy()`\n",
      "  pr_df[f\"title_wordcount_{word}\"] = preproc_titles.apply(\n",
      "/tmp/ipykernel_236/4191214648.py:3: PerformanceWarning: DataFrame is highly fragmented.  This is usually the result of calling `frame.insert` many times, which has poor performance.  Consider joining all columns at once using pd.concat(axis=1) instead. To get a de-fragmented frame, use `newframe = frame.copy()`\n",
      "  pr_df[f\"title_wordcount_{word}\"] = preproc_titles.apply(\n",
      "/tmp/ipykernel_236/4191214648.py:3: PerformanceWarning: DataFrame is highly fragmented.  This is usually the result of calling `frame.insert` many times, which has poor performance.  Consider joining all columns at once using pd.concat(axis=1) instead. To get a de-fragmented frame, use `newframe = frame.copy()`\n",
      "  pr_df[f\"title_wordcount_{word}\"] = preproc_titles.apply(\n",
      "/tmp/ipykernel_236/4191214648.py:3: PerformanceWarning: DataFrame is highly fragmented.  This is usually the result of calling `frame.insert` many times, which has poor performance.  Consider joining all columns at once using pd.concat(axis=1) instead. To get a de-fragmented frame, use `newframe = frame.copy()`\n",
      "  pr_df[f\"title_wordcount_{word}\"] = preproc_titles.apply(\n",
      "/tmp/ipykernel_236/4191214648.py:3: PerformanceWarning: DataFrame is highly fragmented.  This is usually the result of calling `frame.insert` many times, which has poor performance.  Consider joining all columns at once using pd.concat(axis=1) instead. To get a de-fragmented frame, use `newframe = frame.copy()`\n",
      "  pr_df[f\"title_wordcount_{word}\"] = preproc_titles.apply(\n",
      "/tmp/ipykernel_236/4191214648.py:3: PerformanceWarning: DataFrame is highly fragmented.  This is usually the result of calling `frame.insert` many times, which has poor performance.  Consider joining all columns at once using pd.concat(axis=1) instead. To get a de-fragmented frame, use `newframe = frame.copy()`\n",
      "  pr_df[f\"title_wordcount_{word}\"] = preproc_titles.apply(\n",
      "/tmp/ipykernel_236/4191214648.py:3: PerformanceWarning: DataFrame is highly fragmented.  This is usually the result of calling `frame.insert` many times, which has poor performance.  Consider joining all columns at once using pd.concat(axis=1) instead. To get a de-fragmented frame, use `newframe = frame.copy()`\n",
      "  pr_df[f\"title_wordcount_{word}\"] = preproc_titles.apply(\n",
      "/tmp/ipykernel_236/4191214648.py:3: PerformanceWarning: DataFrame is highly fragmented.  This is usually the result of calling `frame.insert` many times, which has poor performance.  Consider joining all columns at once using pd.concat(axis=1) instead. To get a de-fragmented frame, use `newframe = frame.copy()`\n",
      "  pr_df[f\"title_wordcount_{word}\"] = preproc_titles.apply(\n",
      "/tmp/ipykernel_236/4191214648.py:3: PerformanceWarning: DataFrame is highly fragmented.  This is usually the result of calling `frame.insert` many times, which has poor performance.  Consider joining all columns at once using pd.concat(axis=1) instead. To get a de-fragmented frame, use `newframe = frame.copy()`\n",
      "  pr_df[f\"title_wordcount_{word}\"] = preproc_titles.apply(\n",
      "/tmp/ipykernel_236/4191214648.py:3: PerformanceWarning: DataFrame is highly fragmented.  This is usually the result of calling `frame.insert` many times, which has poor performance.  Consider joining all columns at once using pd.concat(axis=1) instead. To get a de-fragmented frame, use `newframe = frame.copy()`\n",
      "  pr_df[f\"title_wordcount_{word}\"] = preproc_titles.apply(\n",
      "/tmp/ipykernel_236/4191214648.py:3: PerformanceWarning: DataFrame is highly fragmented.  This is usually the result of calling `frame.insert` many times, which has poor performance.  Consider joining all columns at once using pd.concat(axis=1) instead. To get a de-fragmented frame, use `newframe = frame.copy()`\n",
      "  pr_df[f\"title_wordcount_{word}\"] = preproc_titles.apply(\n",
      "/tmp/ipykernel_236/4191214648.py:3: PerformanceWarning: DataFrame is highly fragmented.  This is usually the result of calling `frame.insert` many times, which has poor performance.  Consider joining all columns at once using pd.concat(axis=1) instead. To get a de-fragmented frame, use `newframe = frame.copy()`\n",
      "  pr_df[f\"title_wordcount_{word}\"] = preproc_titles.apply(\n",
      "/tmp/ipykernel_236/4191214648.py:3: PerformanceWarning: DataFrame is highly fragmented.  This is usually the result of calling `frame.insert` many times, which has poor performance.  Consider joining all columns at once using pd.concat(axis=1) instead. To get a de-fragmented frame, use `newframe = frame.copy()`\n",
      "  pr_df[f\"title_wordcount_{word}\"] = preproc_titles.apply(\n",
      "/tmp/ipykernel_236/4191214648.py:3: PerformanceWarning: DataFrame is highly fragmented.  This is usually the result of calling `frame.insert` many times, which has poor performance.  Consider joining all columns at once using pd.concat(axis=1) instead. To get a de-fragmented frame, use `newframe = frame.copy()`\n",
      "  pr_df[f\"title_wordcount_{word}\"] = preproc_titles.apply(\n",
      "/tmp/ipykernel_236/4191214648.py:3: PerformanceWarning: DataFrame is highly fragmented.  This is usually the result of calling `frame.insert` many times, which has poor performance.  Consider joining all columns at once using pd.concat(axis=1) instead. To get a de-fragmented frame, use `newframe = frame.copy()`\n",
      "  pr_df[f\"title_wordcount_{word}\"] = preproc_titles.apply(\n",
      "/tmp/ipykernel_236/4191214648.py:3: PerformanceWarning: DataFrame is highly fragmented.  This is usually the result of calling `frame.insert` many times, which has poor performance.  Consider joining all columns at once using pd.concat(axis=1) instead. To get a de-fragmented frame, use `newframe = frame.copy()`\n",
      "  pr_df[f\"title_wordcount_{word}\"] = preproc_titles.apply(\n",
      "/tmp/ipykernel_236/4191214648.py:3: PerformanceWarning: DataFrame is highly fragmented.  This is usually the result of calling `frame.insert` many times, which has poor performance.  Consider joining all columns at once using pd.concat(axis=1) instead. To get a de-fragmented frame, use `newframe = frame.copy()`\n",
      "  pr_df[f\"title_wordcount_{word}\"] = preproc_titles.apply(\n",
      "/tmp/ipykernel_236/4191214648.py:3: PerformanceWarning: DataFrame is highly fragmented.  This is usually the result of calling `frame.insert` many times, which has poor performance.  Consider joining all columns at once using pd.concat(axis=1) instead. To get a de-fragmented frame, use `newframe = frame.copy()`\n",
      "  pr_df[f\"title_wordcount_{word}\"] = preproc_titles.apply(\n",
      "/tmp/ipykernel_236/4191214648.py:3: PerformanceWarning: DataFrame is highly fragmented.  This is usually the result of calling `frame.insert` many times, which has poor performance.  Consider joining all columns at once using pd.concat(axis=1) instead. To get a de-fragmented frame, use `newframe = frame.copy()`\n",
      "  pr_df[f\"title_wordcount_{word}\"] = preproc_titles.apply(\n",
      "/tmp/ipykernel_236/4191214648.py:3: PerformanceWarning: DataFrame is highly fragmented.  This is usually the result of calling `frame.insert` many times, which has poor performance.  Consider joining all columns at once using pd.concat(axis=1) instead. To get a de-fragmented frame, use `newframe = frame.copy()`\n",
      "  pr_df[f\"title_wordcount_{word}\"] = preproc_titles.apply(\n",
      "/tmp/ipykernel_236/4191214648.py:3: PerformanceWarning: DataFrame is highly fragmented.  This is usually the result of calling `frame.insert` many times, which has poor performance.  Consider joining all columns at once using pd.concat(axis=1) instead. To get a de-fragmented frame, use `newframe = frame.copy()`\n",
      "  pr_df[f\"title_wordcount_{word}\"] = preproc_titles.apply(\n",
      " 58%|█████▊    | 132/228 [00:00<00:00, 200.60it/s]/tmp/ipykernel_236/4191214648.py:3: PerformanceWarning: DataFrame is highly fragmented.  This is usually the result of calling `frame.insert` many times, which has poor performance.  Consider joining all columns at once using pd.concat(axis=1) instead. To get a de-fragmented frame, use `newframe = frame.copy()`\n",
      "  pr_df[f\"title_wordcount_{word}\"] = preproc_titles.apply(\n",
      "/tmp/ipykernel_236/4191214648.py:3: PerformanceWarning: DataFrame is highly fragmented.  This is usually the result of calling `frame.insert` many times, which has poor performance.  Consider joining all columns at once using pd.concat(axis=1) instead. To get a de-fragmented frame, use `newframe = frame.copy()`\n",
      "  pr_df[f\"title_wordcount_{word}\"] = preproc_titles.apply(\n",
      "/tmp/ipykernel_236/4191214648.py:3: PerformanceWarning: DataFrame is highly fragmented.  This is usually the result of calling `frame.insert` many times, which has poor performance.  Consider joining all columns at once using pd.concat(axis=1) instead. To get a de-fragmented frame, use `newframe = frame.copy()`\n",
      "  pr_df[f\"title_wordcount_{word}\"] = preproc_titles.apply(\n",
      "/tmp/ipykernel_236/4191214648.py:3: PerformanceWarning: DataFrame is highly fragmented.  This is usually the result of calling `frame.insert` many times, which has poor performance.  Consider joining all columns at once using pd.concat(axis=1) instead. To get a de-fragmented frame, use `newframe = frame.copy()`\n",
      "  pr_df[f\"title_wordcount_{word}\"] = preproc_titles.apply(\n",
      "/tmp/ipykernel_236/4191214648.py:3: PerformanceWarning: DataFrame is highly fragmented.  This is usually the result of calling `frame.insert` many times, which has poor performance.  Consider joining all columns at once using pd.concat(axis=1) instead. To get a de-fragmented frame, use `newframe = frame.copy()`\n",
      "  pr_df[f\"title_wordcount_{word}\"] = preproc_titles.apply(\n",
      "/tmp/ipykernel_236/4191214648.py:3: PerformanceWarning: DataFrame is highly fragmented.  This is usually the result of calling `frame.insert` many times, which has poor performance.  Consider joining all columns at once using pd.concat(axis=1) instead. To get a de-fragmented frame, use `newframe = frame.copy()`\n",
      "  pr_df[f\"title_wordcount_{word}\"] = preproc_titles.apply(\n",
      "/tmp/ipykernel_236/4191214648.py:3: PerformanceWarning: DataFrame is highly fragmented.  This is usually the result of calling `frame.insert` many times, which has poor performance.  Consider joining all columns at once using pd.concat(axis=1) instead. To get a de-fragmented frame, use `newframe = frame.copy()`\n",
      "  pr_df[f\"title_wordcount_{word}\"] = preproc_titles.apply(\n",
      "/tmp/ipykernel_236/4191214648.py:3: PerformanceWarning: DataFrame is highly fragmented.  This is usually the result of calling `frame.insert` many times, which has poor performance.  Consider joining all columns at once using pd.concat(axis=1) instead. To get a de-fragmented frame, use `newframe = frame.copy()`\n",
      "  pr_df[f\"title_wordcount_{word}\"] = preproc_titles.apply(\n",
      "/tmp/ipykernel_236/4191214648.py:3: PerformanceWarning: DataFrame is highly fragmented.  This is usually the result of calling `frame.insert` many times, which has poor performance.  Consider joining all columns at once using pd.concat(axis=1) instead. To get a de-fragmented frame, use `newframe = frame.copy()`\n",
      "  pr_df[f\"title_wordcount_{word}\"] = preproc_titles.apply(\n",
      "/tmp/ipykernel_236/4191214648.py:3: PerformanceWarning: DataFrame is highly fragmented.  This is usually the result of calling `frame.insert` many times, which has poor performance.  Consider joining all columns at once using pd.concat(axis=1) instead. To get a de-fragmented frame, use `newframe = frame.copy()`\n",
      "  pr_df[f\"title_wordcount_{word}\"] = preproc_titles.apply(\n",
      "/tmp/ipykernel_236/4191214648.py:3: PerformanceWarning: DataFrame is highly fragmented.  This is usually the result of calling `frame.insert` many times, which has poor performance.  Consider joining all columns at once using pd.concat(axis=1) instead. To get a de-fragmented frame, use `newframe = frame.copy()`\n",
      "  pr_df[f\"title_wordcount_{word}\"] = preproc_titles.apply(\n",
      "/tmp/ipykernel_236/4191214648.py:3: PerformanceWarning: DataFrame is highly fragmented.  This is usually the result of calling `frame.insert` many times, which has poor performance.  Consider joining all columns at once using pd.concat(axis=1) instead. To get a de-fragmented frame, use `newframe = frame.copy()`\n",
      "  pr_df[f\"title_wordcount_{word}\"] = preproc_titles.apply(\n",
      "/tmp/ipykernel_236/4191214648.py:3: PerformanceWarning: DataFrame is highly fragmented.  This is usually the result of calling `frame.insert` many times, which has poor performance.  Consider joining all columns at once using pd.concat(axis=1) instead. To get a de-fragmented frame, use `newframe = frame.copy()`\n",
      "  pr_df[f\"title_wordcount_{word}\"] = preproc_titles.apply(\n",
      "/tmp/ipykernel_236/4191214648.py:3: PerformanceWarning: DataFrame is highly fragmented.  This is usually the result of calling `frame.insert` many times, which has poor performance.  Consider joining all columns at once using pd.concat(axis=1) instead. To get a de-fragmented frame, use `newframe = frame.copy()`\n",
      "  pr_df[f\"title_wordcount_{word}\"] = preproc_titles.apply(\n",
      "/tmp/ipykernel_236/4191214648.py:3: PerformanceWarning: DataFrame is highly fragmented.  This is usually the result of calling `frame.insert` many times, which has poor performance.  Consider joining all columns at once using pd.concat(axis=1) instead. To get a de-fragmented frame, use `newframe = frame.copy()`\n",
      "  pr_df[f\"title_wordcount_{word}\"] = preproc_titles.apply(\n",
      "/tmp/ipykernel_236/4191214648.py:3: PerformanceWarning: DataFrame is highly fragmented.  This is usually the result of calling `frame.insert` many times, which has poor performance.  Consider joining all columns at once using pd.concat(axis=1) instead. To get a de-fragmented frame, use `newframe = frame.copy()`\n",
      "  pr_df[f\"title_wordcount_{word}\"] = preproc_titles.apply(\n",
      "/tmp/ipykernel_236/4191214648.py:3: PerformanceWarning: DataFrame is highly fragmented.  This is usually the result of calling `frame.insert` many times, which has poor performance.  Consider joining all columns at once using pd.concat(axis=1) instead. To get a de-fragmented frame, use `newframe = frame.copy()`\n",
      "  pr_df[f\"title_wordcount_{word}\"] = preproc_titles.apply(\n",
      "/tmp/ipykernel_236/4191214648.py:3: PerformanceWarning: DataFrame is highly fragmented.  This is usually the result of calling `frame.insert` many times, which has poor performance.  Consider joining all columns at once using pd.concat(axis=1) instead. To get a de-fragmented frame, use `newframe = frame.copy()`\n",
      "  pr_df[f\"title_wordcount_{word}\"] = preproc_titles.apply(\n",
      "/tmp/ipykernel_236/4191214648.py:3: PerformanceWarning: DataFrame is highly fragmented.  This is usually the result of calling `frame.insert` many times, which has poor performance.  Consider joining all columns at once using pd.concat(axis=1) instead. To get a de-fragmented frame, use `newframe = frame.copy()`\n",
      "  pr_df[f\"title_wordcount_{word}\"] = preproc_titles.apply(\n",
      "/tmp/ipykernel_236/4191214648.py:3: PerformanceWarning: DataFrame is highly fragmented.  This is usually the result of calling `frame.insert` many times, which has poor performance.  Consider joining all columns at once using pd.concat(axis=1) instead. To get a de-fragmented frame, use `newframe = frame.copy()`\n",
      "  pr_df[f\"title_wordcount_{word}\"] = preproc_titles.apply(\n",
      "/tmp/ipykernel_236/4191214648.py:3: PerformanceWarning: DataFrame is highly fragmented.  This is usually the result of calling `frame.insert` many times, which has poor performance.  Consider joining all columns at once using pd.concat(axis=1) instead. To get a de-fragmented frame, use `newframe = frame.copy()`\n",
      "  pr_df[f\"title_wordcount_{word}\"] = preproc_titles.apply(\n",
      " 67%|██████▋   | 153/228 [00:00<00:00, 170.41it/s]/tmp/ipykernel_236/4191214648.py:3: PerformanceWarning: DataFrame is highly fragmented.  This is usually the result of calling `frame.insert` many times, which has poor performance.  Consider joining all columns at once using pd.concat(axis=1) instead. To get a de-fragmented frame, use `newframe = frame.copy()`\n",
      "  pr_df[f\"title_wordcount_{word}\"] = preproc_titles.apply(\n",
      "/tmp/ipykernel_236/4191214648.py:3: PerformanceWarning: DataFrame is highly fragmented.  This is usually the result of calling `frame.insert` many times, which has poor performance.  Consider joining all columns at once using pd.concat(axis=1) instead. To get a de-fragmented frame, use `newframe = frame.copy()`\n",
      "  pr_df[f\"title_wordcount_{word}\"] = preproc_titles.apply(\n",
      "/tmp/ipykernel_236/4191214648.py:3: PerformanceWarning: DataFrame is highly fragmented.  This is usually the result of calling `frame.insert` many times, which has poor performance.  Consider joining all columns at once using pd.concat(axis=1) instead. To get a de-fragmented frame, use `newframe = frame.copy()`\n",
      "  pr_df[f\"title_wordcount_{word}\"] = preproc_titles.apply(\n",
      "/tmp/ipykernel_236/4191214648.py:3: PerformanceWarning: DataFrame is highly fragmented.  This is usually the result of calling `frame.insert` many times, which has poor performance.  Consider joining all columns at once using pd.concat(axis=1) instead. To get a de-fragmented frame, use `newframe = frame.copy()`\n",
      "  pr_df[f\"title_wordcount_{word}\"] = preproc_titles.apply(\n",
      "/tmp/ipykernel_236/4191214648.py:3: PerformanceWarning: DataFrame is highly fragmented.  This is usually the result of calling `frame.insert` many times, which has poor performance.  Consider joining all columns at once using pd.concat(axis=1) instead. To get a de-fragmented frame, use `newframe = frame.copy()`\n",
      "  pr_df[f\"title_wordcount_{word}\"] = preproc_titles.apply(\n",
      "/tmp/ipykernel_236/4191214648.py:3: PerformanceWarning: DataFrame is highly fragmented.  This is usually the result of calling `frame.insert` many times, which has poor performance.  Consider joining all columns at once using pd.concat(axis=1) instead. To get a de-fragmented frame, use `newframe = frame.copy()`\n",
      "  pr_df[f\"title_wordcount_{word}\"] = preproc_titles.apply(\n",
      "/tmp/ipykernel_236/4191214648.py:3: PerformanceWarning: DataFrame is highly fragmented.  This is usually the result of calling `frame.insert` many times, which has poor performance.  Consider joining all columns at once using pd.concat(axis=1) instead. To get a de-fragmented frame, use `newframe = frame.copy()`\n",
      "  pr_df[f\"title_wordcount_{word}\"] = preproc_titles.apply(\n",
      "/tmp/ipykernel_236/4191214648.py:3: PerformanceWarning: DataFrame is highly fragmented.  This is usually the result of calling `frame.insert` many times, which has poor performance.  Consider joining all columns at once using pd.concat(axis=1) instead. To get a de-fragmented frame, use `newframe = frame.copy()`\n",
      "  pr_df[f\"title_wordcount_{word}\"] = preproc_titles.apply(\n",
      "/tmp/ipykernel_236/4191214648.py:3: PerformanceWarning: DataFrame is highly fragmented.  This is usually the result of calling `frame.insert` many times, which has poor performance.  Consider joining all columns at once using pd.concat(axis=1) instead. To get a de-fragmented frame, use `newframe = frame.copy()`\n",
      "  pr_df[f\"title_wordcount_{word}\"] = preproc_titles.apply(\n",
      "/tmp/ipykernel_236/4191214648.py:3: PerformanceWarning: DataFrame is highly fragmented.  This is usually the result of calling `frame.insert` many times, which has poor performance.  Consider joining all columns at once using pd.concat(axis=1) instead. To get a de-fragmented frame, use `newframe = frame.copy()`\n",
      "  pr_df[f\"title_wordcount_{word}\"] = preproc_titles.apply(\n",
      "/tmp/ipykernel_236/4191214648.py:3: PerformanceWarning: DataFrame is highly fragmented.  This is usually the result of calling `frame.insert` many times, which has poor performance.  Consider joining all columns at once using pd.concat(axis=1) instead. To get a de-fragmented frame, use `newframe = frame.copy()`\n",
      "  pr_df[f\"title_wordcount_{word}\"] = preproc_titles.apply(\n",
      "/tmp/ipykernel_236/4191214648.py:3: PerformanceWarning: DataFrame is highly fragmented.  This is usually the result of calling `frame.insert` many times, which has poor performance.  Consider joining all columns at once using pd.concat(axis=1) instead. To get a de-fragmented frame, use `newframe = frame.copy()`\n",
      "  pr_df[f\"title_wordcount_{word}\"] = preproc_titles.apply(\n",
      "/tmp/ipykernel_236/4191214648.py:3: PerformanceWarning: DataFrame is highly fragmented.  This is usually the result of calling `frame.insert` many times, which has poor performance.  Consider joining all columns at once using pd.concat(axis=1) instead. To get a de-fragmented frame, use `newframe = frame.copy()`\n",
      "  pr_df[f\"title_wordcount_{word}\"] = preproc_titles.apply(\n",
      "/tmp/ipykernel_236/4191214648.py:3: PerformanceWarning: DataFrame is highly fragmented.  This is usually the result of calling `frame.insert` many times, which has poor performance.  Consider joining all columns at once using pd.concat(axis=1) instead. To get a de-fragmented frame, use `newframe = frame.copy()`\n",
      "  pr_df[f\"title_wordcount_{word}\"] = preproc_titles.apply(\n",
      "/tmp/ipykernel_236/4191214648.py:3: PerformanceWarning: DataFrame is highly fragmented.  This is usually the result of calling `frame.insert` many times, which has poor performance.  Consider joining all columns at once using pd.concat(axis=1) instead. To get a de-fragmented frame, use `newframe = frame.copy()`\n",
      "  pr_df[f\"title_wordcount_{word}\"] = preproc_titles.apply(\n",
      "/tmp/ipykernel_236/4191214648.py:3: PerformanceWarning: DataFrame is highly fragmented.  This is usually the result of calling `frame.insert` many times, which has poor performance.  Consider joining all columns at once using pd.concat(axis=1) instead. To get a de-fragmented frame, use `newframe = frame.copy()`\n",
      "  pr_df[f\"title_wordcount_{word}\"] = preproc_titles.apply(\n",
      "/tmp/ipykernel_236/4191214648.py:3: PerformanceWarning: DataFrame is highly fragmented.  This is usually the result of calling `frame.insert` many times, which has poor performance.  Consider joining all columns at once using pd.concat(axis=1) instead. To get a de-fragmented frame, use `newframe = frame.copy()`\n",
      "  pr_df[f\"title_wordcount_{word}\"] = preproc_titles.apply(\n",
      " 75%|███████▍  | 170/228 [00:00<00:00, 153.01it/s]/tmp/ipykernel_236/4191214648.py:3: PerformanceWarning: DataFrame is highly fragmented.  This is usually the result of calling `frame.insert` many times, which has poor performance.  Consider joining all columns at once using pd.concat(axis=1) instead. To get a de-fragmented frame, use `newframe = frame.copy()`\n",
      "  pr_df[f\"title_wordcount_{word}\"] = preproc_titles.apply(\n",
      "/tmp/ipykernel_236/4191214648.py:3: PerformanceWarning: DataFrame is highly fragmented.  This is usually the result of calling `frame.insert` many times, which has poor performance.  Consider joining all columns at once using pd.concat(axis=1) instead. To get a de-fragmented frame, use `newframe = frame.copy()`\n",
      "  pr_df[f\"title_wordcount_{word}\"] = preproc_titles.apply(\n",
      "/tmp/ipykernel_236/4191214648.py:3: PerformanceWarning: DataFrame is highly fragmented.  This is usually the result of calling `frame.insert` many times, which has poor performance.  Consider joining all columns at once using pd.concat(axis=1) instead. To get a de-fragmented frame, use `newframe = frame.copy()`\n",
      "  pr_df[f\"title_wordcount_{word}\"] = preproc_titles.apply(\n",
      "/tmp/ipykernel_236/4191214648.py:3: PerformanceWarning: DataFrame is highly fragmented.  This is usually the result of calling `frame.insert` many times, which has poor performance.  Consider joining all columns at once using pd.concat(axis=1) instead. To get a de-fragmented frame, use `newframe = frame.copy()`\n",
      "  pr_df[f\"title_wordcount_{word}\"] = preproc_titles.apply(\n",
      "/tmp/ipykernel_236/4191214648.py:3: PerformanceWarning: DataFrame is highly fragmented.  This is usually the result of calling `frame.insert` many times, which has poor performance.  Consider joining all columns at once using pd.concat(axis=1) instead. To get a de-fragmented frame, use `newframe = frame.copy()`\n",
      "  pr_df[f\"title_wordcount_{word}\"] = preproc_titles.apply(\n",
      "/tmp/ipykernel_236/4191214648.py:3: PerformanceWarning: DataFrame is highly fragmented.  This is usually the result of calling `frame.insert` many times, which has poor performance.  Consider joining all columns at once using pd.concat(axis=1) instead. To get a de-fragmented frame, use `newframe = frame.copy()`\n",
      "  pr_df[f\"title_wordcount_{word}\"] = preproc_titles.apply(\n",
      "/tmp/ipykernel_236/4191214648.py:3: PerformanceWarning: DataFrame is highly fragmented.  This is usually the result of calling `frame.insert` many times, which has poor performance.  Consider joining all columns at once using pd.concat(axis=1) instead. To get a de-fragmented frame, use `newframe = frame.copy()`\n",
      "  pr_df[f\"title_wordcount_{word}\"] = preproc_titles.apply(\n",
      "/tmp/ipykernel_236/4191214648.py:3: PerformanceWarning: DataFrame is highly fragmented.  This is usually the result of calling `frame.insert` many times, which has poor performance.  Consider joining all columns at once using pd.concat(axis=1) instead. To get a de-fragmented frame, use `newframe = frame.copy()`\n",
      "  pr_df[f\"title_wordcount_{word}\"] = preproc_titles.apply(\n",
      "/tmp/ipykernel_236/4191214648.py:3: PerformanceWarning: DataFrame is highly fragmented.  This is usually the result of calling `frame.insert` many times, which has poor performance.  Consider joining all columns at once using pd.concat(axis=1) instead. To get a de-fragmented frame, use `newframe = frame.copy()`\n",
      "  pr_df[f\"title_wordcount_{word}\"] = preproc_titles.apply(\n",
      "/tmp/ipykernel_236/4191214648.py:3: PerformanceWarning: DataFrame is highly fragmented.  This is usually the result of calling `frame.insert` many times, which has poor performance.  Consider joining all columns at once using pd.concat(axis=1) instead. To get a de-fragmented frame, use `newframe = frame.copy()`\n",
      "  pr_df[f\"title_wordcount_{word}\"] = preproc_titles.apply(\n",
      "/tmp/ipykernel_236/4191214648.py:3: PerformanceWarning: DataFrame is highly fragmented.  This is usually the result of calling `frame.insert` many times, which has poor performance.  Consider joining all columns at once using pd.concat(axis=1) instead. To get a de-fragmented frame, use `newframe = frame.copy()`\n",
      "  pr_df[f\"title_wordcount_{word}\"] = preproc_titles.apply(\n",
      "/tmp/ipykernel_236/4191214648.py:3: PerformanceWarning: DataFrame is highly fragmented.  This is usually the result of calling `frame.insert` many times, which has poor performance.  Consider joining all columns at once using pd.concat(axis=1) instead. To get a de-fragmented frame, use `newframe = frame.copy()`\n",
      "  pr_df[f\"title_wordcount_{word}\"] = preproc_titles.apply(\n",
      "/tmp/ipykernel_236/4191214648.py:3: PerformanceWarning: DataFrame is highly fragmented.  This is usually the result of calling `frame.insert` many times, which has poor performance.  Consider joining all columns at once using pd.concat(axis=1) instead. To get a de-fragmented frame, use `newframe = frame.copy()`\n",
      "  pr_df[f\"title_wordcount_{word}\"] = preproc_titles.apply(\n",
      "/tmp/ipykernel_236/4191214648.py:3: PerformanceWarning: DataFrame is highly fragmented.  This is usually the result of calling `frame.insert` many times, which has poor performance.  Consider joining all columns at once using pd.concat(axis=1) instead. To get a de-fragmented frame, use `newframe = frame.copy()`\n",
      "  pr_df[f\"title_wordcount_{word}\"] = preproc_titles.apply(\n",
      "/tmp/ipykernel_236/4191214648.py:3: PerformanceWarning: DataFrame is highly fragmented.  This is usually the result of calling `frame.insert` many times, which has poor performance.  Consider joining all columns at once using pd.concat(axis=1) instead. To get a de-fragmented frame, use `newframe = frame.copy()`\n",
      "  pr_df[f\"title_wordcount_{word}\"] = preproc_titles.apply(\n",
      " 81%|████████  | 185/228 [00:01<00:00, 142.88it/s]/tmp/ipykernel_236/4191214648.py:3: PerformanceWarning: DataFrame is highly fragmented.  This is usually the result of calling `frame.insert` many times, which has poor performance.  Consider joining all columns at once using pd.concat(axis=1) instead. To get a de-fragmented frame, use `newframe = frame.copy()`\n",
      "  pr_df[f\"title_wordcount_{word}\"] = preproc_titles.apply(\n",
      "/tmp/ipykernel_236/4191214648.py:3: PerformanceWarning: DataFrame is highly fragmented.  This is usually the result of calling `frame.insert` many times, which has poor performance.  Consider joining all columns at once using pd.concat(axis=1) instead. To get a de-fragmented frame, use `newframe = frame.copy()`\n",
      "  pr_df[f\"title_wordcount_{word}\"] = preproc_titles.apply(\n",
      "/tmp/ipykernel_236/4191214648.py:3: PerformanceWarning: DataFrame is highly fragmented.  This is usually the result of calling `frame.insert` many times, which has poor performance.  Consider joining all columns at once using pd.concat(axis=1) instead. To get a de-fragmented frame, use `newframe = frame.copy()`\n",
      "  pr_df[f\"title_wordcount_{word}\"] = preproc_titles.apply(\n",
      "/tmp/ipykernel_236/4191214648.py:3: PerformanceWarning: DataFrame is highly fragmented.  This is usually the result of calling `frame.insert` many times, which has poor performance.  Consider joining all columns at once using pd.concat(axis=1) instead. To get a de-fragmented frame, use `newframe = frame.copy()`\n",
      "  pr_df[f\"title_wordcount_{word}\"] = preproc_titles.apply(\n",
      "/tmp/ipykernel_236/4191214648.py:3: PerformanceWarning: DataFrame is highly fragmented.  This is usually the result of calling `frame.insert` many times, which has poor performance.  Consider joining all columns at once using pd.concat(axis=1) instead. To get a de-fragmented frame, use `newframe = frame.copy()`\n",
      "  pr_df[f\"title_wordcount_{word}\"] = preproc_titles.apply(\n",
      "/tmp/ipykernel_236/4191214648.py:3: PerformanceWarning: DataFrame is highly fragmented.  This is usually the result of calling `frame.insert` many times, which has poor performance.  Consider joining all columns at once using pd.concat(axis=1) instead. To get a de-fragmented frame, use `newframe = frame.copy()`\n",
      "  pr_df[f\"title_wordcount_{word}\"] = preproc_titles.apply(\n",
      "/tmp/ipykernel_236/4191214648.py:3: PerformanceWarning: DataFrame is highly fragmented.  This is usually the result of calling `frame.insert` many times, which has poor performance.  Consider joining all columns at once using pd.concat(axis=1) instead. To get a de-fragmented frame, use `newframe = frame.copy()`\n",
      "  pr_df[f\"title_wordcount_{word}\"] = preproc_titles.apply(\n",
      "/tmp/ipykernel_236/4191214648.py:3: PerformanceWarning: DataFrame is highly fragmented.  This is usually the result of calling `frame.insert` many times, which has poor performance.  Consider joining all columns at once using pd.concat(axis=1) instead. To get a de-fragmented frame, use `newframe = frame.copy()`\n",
      "  pr_df[f\"title_wordcount_{word}\"] = preproc_titles.apply(\n",
      "/tmp/ipykernel_236/4191214648.py:3: PerformanceWarning: DataFrame is highly fragmented.  This is usually the result of calling `frame.insert` many times, which has poor performance.  Consider joining all columns at once using pd.concat(axis=1) instead. To get a de-fragmented frame, use `newframe = frame.copy()`\n",
      "  pr_df[f\"title_wordcount_{word}\"] = preproc_titles.apply(\n",
      "/tmp/ipykernel_236/4191214648.py:3: PerformanceWarning: DataFrame is highly fragmented.  This is usually the result of calling `frame.insert` many times, which has poor performance.  Consider joining all columns at once using pd.concat(axis=1) instead. To get a de-fragmented frame, use `newframe = frame.copy()`\n",
      "  pr_df[f\"title_wordcount_{word}\"] = preproc_titles.apply(\n",
      "/tmp/ipykernel_236/4191214648.py:3: PerformanceWarning: DataFrame is highly fragmented.  This is usually the result of calling `frame.insert` many times, which has poor performance.  Consider joining all columns at once using pd.concat(axis=1) instead. To get a de-fragmented frame, use `newframe = frame.copy()`\n",
      "  pr_df[f\"title_wordcount_{word}\"] = preproc_titles.apply(\n",
      "/tmp/ipykernel_236/4191214648.py:3: PerformanceWarning: DataFrame is highly fragmented.  This is usually the result of calling `frame.insert` many times, which has poor performance.  Consider joining all columns at once using pd.concat(axis=1) instead. To get a de-fragmented frame, use `newframe = frame.copy()`\n",
      "  pr_df[f\"title_wordcount_{word}\"] = preproc_titles.apply(\n",
      "/tmp/ipykernel_236/4191214648.py:3: PerformanceWarning: DataFrame is highly fragmented.  This is usually the result of calling `frame.insert` many times, which has poor performance.  Consider joining all columns at once using pd.concat(axis=1) instead. To get a de-fragmented frame, use `newframe = frame.copy()`\n",
      "  pr_df[f\"title_wordcount_{word}\"] = preproc_titles.apply(\n",
      "/tmp/ipykernel_236/4191214648.py:3: PerformanceWarning: DataFrame is highly fragmented.  This is usually the result of calling `frame.insert` many times, which has poor performance.  Consider joining all columns at once using pd.concat(axis=1) instead. To get a de-fragmented frame, use `newframe = frame.copy()`\n",
      "  pr_df[f\"title_wordcount_{word}\"] = preproc_titles.apply(\n",
      " 87%|████████▋ | 199/228 [00:01<00:00, 113.35it/s]/tmp/ipykernel_236/4191214648.py:3: PerformanceWarning: DataFrame is highly fragmented.  This is usually the result of calling `frame.insert` many times, which has poor performance.  Consider joining all columns at once using pd.concat(axis=1) instead. To get a de-fragmented frame, use `newframe = frame.copy()`\n",
      "  pr_df[f\"title_wordcount_{word}\"] = preproc_titles.apply(\n",
      "/tmp/ipykernel_236/4191214648.py:3: PerformanceWarning: DataFrame is highly fragmented.  This is usually the result of calling `frame.insert` many times, which has poor performance.  Consider joining all columns at once using pd.concat(axis=1) instead. To get a de-fragmented frame, use `newframe = frame.copy()`\n",
      "  pr_df[f\"title_wordcount_{word}\"] = preproc_titles.apply(\n",
      "/tmp/ipykernel_236/4191214648.py:3: PerformanceWarning: DataFrame is highly fragmented.  This is usually the result of calling `frame.insert` many times, which has poor performance.  Consider joining all columns at once using pd.concat(axis=1) instead. To get a de-fragmented frame, use `newframe = frame.copy()`\n",
      "  pr_df[f\"title_wordcount_{word}\"] = preproc_titles.apply(\n",
      "/tmp/ipykernel_236/4191214648.py:3: PerformanceWarning: DataFrame is highly fragmented.  This is usually the result of calling `frame.insert` many times, which has poor performance.  Consider joining all columns at once using pd.concat(axis=1) instead. To get a de-fragmented frame, use `newframe = frame.copy()`\n",
      "  pr_df[f\"title_wordcount_{word}\"] = preproc_titles.apply(\n",
      "/tmp/ipykernel_236/4191214648.py:3: PerformanceWarning: DataFrame is highly fragmented.  This is usually the result of calling `frame.insert` many times, which has poor performance.  Consider joining all columns at once using pd.concat(axis=1) instead. To get a de-fragmented frame, use `newframe = frame.copy()`\n",
      "  pr_df[f\"title_wordcount_{word}\"] = preproc_titles.apply(\n",
      "/tmp/ipykernel_236/4191214648.py:3: PerformanceWarning: DataFrame is highly fragmented.  This is usually the result of calling `frame.insert` many times, which has poor performance.  Consider joining all columns at once using pd.concat(axis=1) instead. To get a de-fragmented frame, use `newframe = frame.copy()`\n",
      "  pr_df[f\"title_wordcount_{word}\"] = preproc_titles.apply(\n",
      "/tmp/ipykernel_236/4191214648.py:3: PerformanceWarning: DataFrame is highly fragmented.  This is usually the result of calling `frame.insert` many times, which has poor performance.  Consider joining all columns at once using pd.concat(axis=1) instead. To get a de-fragmented frame, use `newframe = frame.copy()`\n",
      "  pr_df[f\"title_wordcount_{word}\"] = preproc_titles.apply(\n",
      "/tmp/ipykernel_236/4191214648.py:3: PerformanceWarning: DataFrame is highly fragmented.  This is usually the result of calling `frame.insert` many times, which has poor performance.  Consider joining all columns at once using pd.concat(axis=1) instead. To get a de-fragmented frame, use `newframe = frame.copy()`\n",
      "  pr_df[f\"title_wordcount_{word}\"] = preproc_titles.apply(\n",
      "/tmp/ipykernel_236/4191214648.py:3: PerformanceWarning: DataFrame is highly fragmented.  This is usually the result of calling `frame.insert` many times, which has poor performance.  Consider joining all columns at once using pd.concat(axis=1) instead. To get a de-fragmented frame, use `newframe = frame.copy()`\n",
      "  pr_df[f\"title_wordcount_{word}\"] = preproc_titles.apply(\n",
      "/tmp/ipykernel_236/4191214648.py:3: PerformanceWarning: DataFrame is highly fragmented.  This is usually the result of calling `frame.insert` many times, which has poor performance.  Consider joining all columns at once using pd.concat(axis=1) instead. To get a de-fragmented frame, use `newframe = frame.copy()`\n",
      "  pr_df[f\"title_wordcount_{word}\"] = preproc_titles.apply(\n",
      "/tmp/ipykernel_236/4191214648.py:3: PerformanceWarning: DataFrame is highly fragmented.  This is usually the result of calling `frame.insert` many times, which has poor performance.  Consider joining all columns at once using pd.concat(axis=1) instead. To get a de-fragmented frame, use `newframe = frame.copy()`\n",
      "  pr_df[f\"title_wordcount_{word}\"] = preproc_titles.apply(\n",
      "/tmp/ipykernel_236/4191214648.py:3: PerformanceWarning: DataFrame is highly fragmented.  This is usually the result of calling `frame.insert` many times, which has poor performance.  Consider joining all columns at once using pd.concat(axis=1) instead. To get a de-fragmented frame, use `newframe = frame.copy()`\n",
      "  pr_df[f\"title_wordcount_{word}\"] = preproc_titles.apply(\n",
      " 93%|█████████▎| 211/228 [00:01<00:00, 113.90it/s]/tmp/ipykernel_236/4191214648.py:3: PerformanceWarning: DataFrame is highly fragmented.  This is usually the result of calling `frame.insert` many times, which has poor performance.  Consider joining all columns at once using pd.concat(axis=1) instead. To get a de-fragmented frame, use `newframe = frame.copy()`\n",
      "  pr_df[f\"title_wordcount_{word}\"] = preproc_titles.apply(\n",
      "/tmp/ipykernel_236/4191214648.py:3: PerformanceWarning: DataFrame is highly fragmented.  This is usually the result of calling `frame.insert` many times, which has poor performance.  Consider joining all columns at once using pd.concat(axis=1) instead. To get a de-fragmented frame, use `newframe = frame.copy()`\n",
      "  pr_df[f\"title_wordcount_{word}\"] = preproc_titles.apply(\n",
      "/tmp/ipykernel_236/4191214648.py:3: PerformanceWarning: DataFrame is highly fragmented.  This is usually the result of calling `frame.insert` many times, which has poor performance.  Consider joining all columns at once using pd.concat(axis=1) instead. To get a de-fragmented frame, use `newframe = frame.copy()`\n",
      "  pr_df[f\"title_wordcount_{word}\"] = preproc_titles.apply(\n",
      "/tmp/ipykernel_236/4191214648.py:3: PerformanceWarning: DataFrame is highly fragmented.  This is usually the result of calling `frame.insert` many times, which has poor performance.  Consider joining all columns at once using pd.concat(axis=1) instead. To get a de-fragmented frame, use `newframe = frame.copy()`\n",
      "  pr_df[f\"title_wordcount_{word}\"] = preproc_titles.apply(\n",
      "/tmp/ipykernel_236/4191214648.py:3: PerformanceWarning: DataFrame is highly fragmented.  This is usually the result of calling `frame.insert` many times, which has poor performance.  Consider joining all columns at once using pd.concat(axis=1) instead. To get a de-fragmented frame, use `newframe = frame.copy()`\n",
      "  pr_df[f\"title_wordcount_{word}\"] = preproc_titles.apply(\n",
      "/tmp/ipykernel_236/4191214648.py:3: PerformanceWarning: DataFrame is highly fragmented.  This is usually the result of calling `frame.insert` many times, which has poor performance.  Consider joining all columns at once using pd.concat(axis=1) instead. To get a de-fragmented frame, use `newframe = frame.copy()`\n",
      "  pr_df[f\"title_wordcount_{word}\"] = preproc_titles.apply(\n",
      "/tmp/ipykernel_236/4191214648.py:3: PerformanceWarning: DataFrame is highly fragmented.  This is usually the result of calling `frame.insert` many times, which has poor performance.  Consider joining all columns at once using pd.concat(axis=1) instead. To get a de-fragmented frame, use `newframe = frame.copy()`\n",
      "  pr_df[f\"title_wordcount_{word}\"] = preproc_titles.apply(\n",
      "/tmp/ipykernel_236/4191214648.py:3: PerformanceWarning: DataFrame is highly fragmented.  This is usually the result of calling `frame.insert` many times, which has poor performance.  Consider joining all columns at once using pd.concat(axis=1) instead. To get a de-fragmented frame, use `newframe = frame.copy()`\n",
      "  pr_df[f\"title_wordcount_{word}\"] = preproc_titles.apply(\n",
      "/tmp/ipykernel_236/4191214648.py:3: PerformanceWarning: DataFrame is highly fragmented.  This is usually the result of calling `frame.insert` many times, which has poor performance.  Consider joining all columns at once using pd.concat(axis=1) instead. To get a de-fragmented frame, use `newframe = frame.copy()`\n",
      "  pr_df[f\"title_wordcount_{word}\"] = preproc_titles.apply(\n",
      "/tmp/ipykernel_236/4191214648.py:3: PerformanceWarning: DataFrame is highly fragmented.  This is usually the result of calling `frame.insert` many times, which has poor performance.  Consider joining all columns at once using pd.concat(axis=1) instead. To get a de-fragmented frame, use `newframe = frame.copy()`\n",
      "  pr_df[f\"title_wordcount_{word}\"] = preproc_titles.apply(\n",
      "/tmp/ipykernel_236/4191214648.py:3: PerformanceWarning: DataFrame is highly fragmented.  This is usually the result of calling `frame.insert` many times, which has poor performance.  Consider joining all columns at once using pd.concat(axis=1) instead. To get a de-fragmented frame, use `newframe = frame.copy()`\n",
      "  pr_df[f\"title_wordcount_{word}\"] = preproc_titles.apply(\n",
      "/tmp/ipykernel_236/4191214648.py:3: PerformanceWarning: DataFrame is highly fragmented.  This is usually the result of calling `frame.insert` many times, which has poor performance.  Consider joining all columns at once using pd.concat(axis=1) instead. To get a de-fragmented frame, use `newframe = frame.copy()`\n",
      "  pr_df[f\"title_wordcount_{word}\"] = preproc_titles.apply(\n",
      " 98%|█████████▊| 223/228 [00:01<00:00, 113.76it/s]/tmp/ipykernel_236/4191214648.py:3: PerformanceWarning: DataFrame is highly fragmented.  This is usually the result of calling `frame.insert` many times, which has poor performance.  Consider joining all columns at once using pd.concat(axis=1) instead. To get a de-fragmented frame, use `newframe = frame.copy()`\n",
      "  pr_df[f\"title_wordcount_{word}\"] = preproc_titles.apply(\n",
      "/tmp/ipykernel_236/4191214648.py:3: PerformanceWarning: DataFrame is highly fragmented.  This is usually the result of calling `frame.insert` many times, which has poor performance.  Consider joining all columns at once using pd.concat(axis=1) instead. To get a de-fragmented frame, use `newframe = frame.copy()`\n",
      "  pr_df[f\"title_wordcount_{word}\"] = preproc_titles.apply(\n",
      "/tmp/ipykernel_236/4191214648.py:3: PerformanceWarning: DataFrame is highly fragmented.  This is usually the result of calling `frame.insert` many times, which has poor performance.  Consider joining all columns at once using pd.concat(axis=1) instead. To get a de-fragmented frame, use `newframe = frame.copy()`\n",
      "  pr_df[f\"title_wordcount_{word}\"] = preproc_titles.apply(\n",
      "/tmp/ipykernel_236/4191214648.py:3: PerformanceWarning: DataFrame is highly fragmented.  This is usually the result of calling `frame.insert` many times, which has poor performance.  Consider joining all columns at once using pd.concat(axis=1) instead. To get a de-fragmented frame, use `newframe = frame.copy()`\n",
      "  pr_df[f\"title_wordcount_{word}\"] = preproc_titles.apply(\n",
      "/tmp/ipykernel_236/4191214648.py:3: PerformanceWarning: DataFrame is highly fragmented.  This is usually the result of calling `frame.insert` many times, which has poor performance.  Consider joining all columns at once using pd.concat(axis=1) instead. To get a de-fragmented frame, use `newframe = frame.copy()`\n",
      "  pr_df[f\"title_wordcount_{word}\"] = preproc_titles.apply(\n",
      "100%|██████████| 228/228 [00:01<00:00, 148.11it/s]\n"
     ]
    }
   ],
   "source": [
    "# add word count columns\n",
    "for word in tqdm(unique_words):\n",
    "    pr_df[f\"title_wordcount_{word}\"] = preproc_titles.apply(\n",
    "        lambda x: x.split().count(word)\n",
    "    )"
   ]
  },
  {
   "cell_type": "code",
   "execution_count": 24,
   "id": "41cf9f16",
   "metadata": {
    "execution": {
     "iopub.execute_input": "2022-11-03T16:14:41.804933Z",
     "iopub.status.busy": "2022-11-03T16:14:41.804445Z",
     "iopub.status.idle": "2022-11-03T16:14:41.818863Z",
     "shell.execute_reply": "2022-11-03T16:14:41.817836Z"
    }
   },
   "outputs": [],
   "source": [
    "# collapse the high dim vector into one column\n",
    "wordcount_columns = [c for c in pr_df.columns if \"wordcount\" in c]\n",
    "pr_df[\"title_word_counts_vec\"] = pr_df[wordcount_columns].apply(\n",
    "    lambda x: x.tolist(), axis=1\n",
    ")\n",
    "\n",
    "# drop the individual wordcount columns\n",
    "pr_df = pr_df.drop(columns=wordcount_columns)"
   ]
  },
  {
   "cell_type": "markdown",
   "id": "06f46edc",
   "metadata": {},
   "source": [
    "**Created At**\n",
    "\n",
    "This column can give us information on when the PR was created. Using the `created_at` field, we can derive other features like `time_of_day`, `day_of_week`, `day_of_month`, `month_in_year` each of which can be categorical features that can be useful to our analysis."
   ]
  },
  {
   "cell_type": "code",
   "execution_count": 25,
   "id": "b6db783b",
   "metadata": {
    "execution": {
     "iopub.execute_input": "2022-11-03T16:14:41.823472Z",
     "iopub.status.busy": "2022-11-03T16:14:41.822932Z",
     "iopub.status.idle": "2022-11-03T16:14:41.836150Z",
     "shell.execute_reply": "2022-11-03T16:14:41.834967Z"
    }
   },
   "outputs": [],
   "source": [
    "# convert to datetime object\n",
    "pr_df[\"created_at_datetime\"] = (\n",
    "    pr_df[\"created_at\"].fillna(\"\").apply(lambda x: datetime.datetime.fromtimestamp(x))\n",
    ")\n",
    "# get day as categorical variable\n",
    "pr_df[\"created_at_day\"] = pr_df[\"created_at_datetime\"].apply(lambda x: x.day)\n",
    "\n",
    "# get month as categorical variable\n",
    "pr_df[\"created_at_month\"] = pr_df[\"created_at_datetime\"].apply(lambda x: x.month)\n",
    "\n",
    "# get weekday as categorical variable\n",
    "pr_df[\"created_at_weekday\"] = pr_df[\"created_at_datetime\"].apply(lambda x: x.weekday())\n",
    "\n",
    "# get hour of day as categorical variable\n",
    "pr_df[\"created_at_hour\"] = pr_df[\"created_at_datetime\"].apply(lambda x: x.hour)"
   ]
  },
  {
   "cell_type": "code",
   "execution_count": 26,
   "id": "f6cb1704",
   "metadata": {
    "execution": {
     "iopub.execute_input": "2022-11-03T16:14:41.840203Z",
     "iopub.status.busy": "2022-11-03T16:14:41.839917Z",
     "iopub.status.idle": "2022-11-03T16:14:41.867300Z",
     "shell.execute_reply": "2022-11-03T16:14:41.866341Z"
    }
   },
   "outputs": [
    {
     "data": {
      "text/html": [
       "<div>\n",
       "<style scoped>\n",
       "    .dataframe tbody tr th:only-of-type {\n",
       "        vertical-align: middle;\n",
       "    }\n",
       "\n",
       "    .dataframe tbody tr th {\n",
       "        vertical-align: top;\n",
       "    }\n",
       "\n",
       "    .dataframe thead th {\n",
       "        text-align: right;\n",
       "    }\n",
       "</style>\n",
       "<table border=\"1\" class=\"dataframe\">\n",
       "  <thead>\n",
       "    <tr style=\"text-align: right;\">\n",
       "      <th></th>\n",
       "      <th>title</th>\n",
       "      <th>body</th>\n",
       "      <th>size</th>\n",
       "      <th>created_by</th>\n",
       "      <th>created_at</th>\n",
       "      <th>closed_at</th>\n",
       "      <th>closed_by</th>\n",
       "      <th>merged_at</th>\n",
       "      <th>merged_by</th>\n",
       "      <th>commits_number</th>\n",
       "      <th>...</th>\n",
       "      <th>first_approve_at</th>\n",
       "      <th>id</th>\n",
       "      <th>time_to_merge</th>\n",
       "      <th>body_size</th>\n",
       "      <th>title_word_counts_vec</th>\n",
       "      <th>created_at_datetime</th>\n",
       "      <th>created_at_day</th>\n",
       "      <th>created_at_month</th>\n",
       "      <th>created_at_weekday</th>\n",
       "      <th>created_at_hour</th>\n",
       "    </tr>\n",
       "  </thead>\n",
       "  <tbody>\n",
       "    <tr>\n",
       "      <th>0</th>\n",
       "      <td>update logo and favico</td>\n",
       "      <td>closes #209</td>\n",
       "      <td>0</td>\n",
       "      <td>zafar-hussain</td>\n",
       "      <td>1666376304</td>\n",
       "      <td>NaN</td>\n",
       "      <td>zafar-hussain</td>\n",
       "      <td>NaN</td>\n",
       "      <td>None</td>\n",
       "      <td>1</td>\n",
       "      <td>...</td>\n",
       "      <td>NaN</td>\n",
       "      <td>230</td>\n",
       "      <td>NaN</td>\n",
       "      <td>2</td>\n",
       "      <td>[0, 0, 0, 0, 0, 0, 0, 0, 0, 0, 0, 0, 0, 0, 0, ...</td>\n",
       "      <td>2022-10-21 18:18:24</td>\n",
       "      <td>21</td>\n",
       "      <td>10</td>\n",
       "      <td>4</td>\n",
       "      <td>18</td>\n",
       "    </tr>\n",
       "    <tr>\n",
       "      <th>1</th>\n",
       "      <td>add knikolla and cleanup</td>\n",
       "      <td>None</td>\n",
       "      <td>1</td>\n",
       "      <td>schwesig</td>\n",
       "      <td>1665410557</td>\n",
       "      <td>1.665411e+09</td>\n",
       "      <td>sesheta</td>\n",
       "      <td>1.665411e+09</td>\n",
       "      <td>sesheta</td>\n",
       "      <td>2</td>\n",
       "      <td>...</td>\n",
       "      <td>NaN</td>\n",
       "      <td>229</td>\n",
       "      <td>476.0</td>\n",
       "      <td>0</td>\n",
       "      <td>[0, 0, 0, 0, 0, 1, 0, 0, 0, 0, 0, 0, 0, 0, 0, ...</td>\n",
       "      <td>2022-10-10 14:02:37</td>\n",
       "      <td>10</td>\n",
       "      <td>10</td>\n",
       "      <td>0</td>\n",
       "      <td>14</td>\n",
       "    </tr>\n",
       "  </tbody>\n",
       "</table>\n",
       "<p>2 rows × 27 columns</p>\n",
       "</div>"
      ],
      "text/plain": [
       "                      title         body  size     created_by  created_at  \\\n",
       "0    update logo and favico  closes #209     0  zafar-hussain  1666376304   \n",
       "1  add knikolla and cleanup         None     1       schwesig  1665410557   \n",
       "\n",
       "      closed_at      closed_by     merged_at merged_by  commits_number  ...  \\\n",
       "0           NaN  zafar-hussain           NaN      None               1  ...   \n",
       "1  1.665411e+09        sesheta  1.665411e+09   sesheta               2  ...   \n",
       "\n",
       "   first_approve_at   id time_to_merge body_size  \\\n",
       "0               NaN  230           NaN         2   \n",
       "1               NaN  229         476.0         0   \n",
       "\n",
       "                               title_word_counts_vec created_at_datetime  \\\n",
       "0  [0, 0, 0, 0, 0, 0, 0, 0, 0, 0, 0, 0, 0, 0, 0, ... 2022-10-21 18:18:24   \n",
       "1  [0, 0, 0, 0, 0, 1, 0, 0, 0, 0, 0, 0, 0, 0, 0, ... 2022-10-10 14:02:37   \n",
       "\n",
       "   created_at_day  created_at_month created_at_weekday  created_at_hour  \n",
       "0              21                10                  4               18  \n",
       "1              10                10                  0               14  \n",
       "\n",
       "[2 rows x 27 columns]"
      ]
     },
     "execution_count": 26,
     "metadata": {},
     "output_type": "execute_result"
    }
   ],
   "source": [
    "pr_df.head(2)"
   ]
  },
  {
   "cell_type": "markdown",
   "id": "772ea2a9",
   "metadata": {},
   "source": [
    "**Changed Files Number**  \n",
    "Changed files is a numberical variable which captures the numer of files that were modified in the PR."
   ]
  },
  {
   "cell_type": "code",
   "execution_count": 27,
   "id": "b5687644",
   "metadata": {
    "execution": {
     "iopub.execute_input": "2022-11-03T16:14:41.871066Z",
     "iopub.status.busy": "2022-11-03T16:14:41.870779Z",
     "iopub.status.idle": "2022-11-03T16:14:41.878407Z",
     "shell.execute_reply": "2022-11-03T16:14:41.877495Z"
    }
   },
   "outputs": [
    {
     "data": {
      "text/plain": [
       "1     55\n",
       "2     18\n",
       "3      5\n",
       "0      4\n",
       "5      3\n",
       "6      3\n",
       "8      2\n",
       "7      2\n",
       "4      1\n",
       "12     1\n",
       "17     1\n",
       "Name: changed_files_number, dtype: int64"
      ]
     },
     "execution_count": 27,
     "metadata": {},
     "output_type": "execute_result"
    }
   ],
   "source": [
    "# convert changed_files_number to int\n",
    "pr_df[\"changed_files_number\"] = pr_df[\"changed_files_number\"].astype(\"int\")\n",
    "\n",
    "pr_df.changed_files_number.value_counts()"
   ]
  },
  {
   "cell_type": "markdown",
   "id": "2ec4a803",
   "metadata": {},
   "source": [
    "`changed_files_number` has more variability than the `commits_number`. We can incorporate this as a numerical feature."
   ]
  },
  {
   "cell_type": "markdown",
   "id": "360ea47c",
   "metadata": {},
   "source": [
    "**Changed_files**\n",
    "\n",
    "`changed_files` is a list of the paths and filenames for every file changed by this PR. From `changed_files`, we know, for each PR, which file types were changed which can be encoded as a frequency vector. Also we know which directory the change is made in, so that can be encoded as a categorical variable."
   ]
  },
  {
   "cell_type": "code",
   "execution_count": 28,
   "id": "ea080575",
   "metadata": {
    "execution": {
     "iopub.execute_input": "2022-11-03T16:14:41.882157Z",
     "iopub.status.busy": "2022-11-03T16:14:41.881871Z",
     "iopub.status.idle": "2022-11-03T16:14:41.889873Z",
     "shell.execute_reply": "2022-11-03T16:14:41.888974Z"
    }
   },
   "outputs": [
    {
     "data": {
      "text/plain": [
       "0                       [img/favicon.png, img/icon.png]\n",
       "1                                              [OWNERS]\n",
       "2     [sig-community/meeting-notes/20221006-meeting-...\n",
       "3                                                    []\n",
       "4     [sig-community/meeting-notes/20221006-meeting-...\n",
       "                            ...                        \n",
       "90              [glossary.md, new_front_page_mockup.md]\n",
       "91                                         [.prow.yaml]\n",
       "92                           [new_front_page_mockup.md]\n",
       "93                            [core_project_message.md]\n",
       "94                                             [OWNERS]\n",
       "Name: changed_files, Length: 95, dtype: object"
      ]
     },
     "execution_count": 28,
     "metadata": {},
     "output_type": "execute_result"
    }
   ],
   "source": [
    "pr_df.changed_files"
   ]
  },
  {
   "cell_type": "code",
   "execution_count": 29,
   "id": "ba70b93f",
   "metadata": {
    "execution": {
     "iopub.execute_input": "2022-11-03T16:14:41.893729Z",
     "iopub.status.busy": "2022-11-03T16:14:41.893202Z",
     "iopub.status.idle": "2022-11-03T16:14:41.899446Z",
     "shell.execute_reply": "2022-11-03T16:14:41.898366Z"
    }
   },
   "outputs": [],
   "source": [
    "def filetype(filepath):\n",
    "\n",
    "    # if standard file extension, return file extension\n",
    "    if pathlib.Path(filepath).suffix:\n",
    "        return pathlib.Path(filepath).suffix\n",
    "\n",
    "    else:\n",
    "        # if single file at the root of repo\n",
    "        if \"/\" not in filepath:\n",
    "            # if a file like README/Dockerfile etc\n",
    "            if \".\" not in filepath:\n",
    "                return filepath\n",
    "        # if file not at root\n",
    "        else:\n",
    "            # get file name\n",
    "            file = filepath.rsplit(\"/\", 1)[1]\n",
    "            if \".\" not in file:\n",
    "                return file\n",
    "            elif \".\" in file:\n",
    "                return \".\" + file.rsplit(\".\", 1)[1]"
   ]
  },
  {
   "cell_type": "code",
   "execution_count": 30,
   "id": "2e00c415",
   "metadata": {
    "execution": {
     "iopub.execute_input": "2022-11-03T16:14:41.903804Z",
     "iopub.status.busy": "2022-11-03T16:14:41.903065Z",
     "iopub.status.idle": "2022-11-03T16:14:41.908395Z",
     "shell.execute_reply": "2022-11-03T16:14:41.907525Z"
    }
   },
   "outputs": [],
   "source": [
    "# get list of all file types that were modified across all openshift origin PRs\n",
    "changed_files = list(pr_df[\"changed_files\"])"
   ]
  },
  {
   "cell_type": "code",
   "execution_count": 31,
   "id": "36a1dcda",
   "metadata": {
    "execution": {
     "iopub.execute_input": "2022-11-03T16:14:41.912122Z",
     "iopub.status.busy": "2022-11-03T16:14:41.911824Z",
     "iopub.status.idle": "2022-11-03T16:14:41.918018Z",
     "shell.execute_reply": "2022-11-03T16:14:41.917106Z"
    }
   },
   "outputs": [],
   "source": [
    "all_changed_files = [filetype(filepath) for pr in changed_files for filepath in pr]"
   ]
  },
  {
   "cell_type": "code",
   "execution_count": 32,
   "id": "d7de1e91",
   "metadata": {
    "execution": {
     "iopub.execute_input": "2022-11-03T16:14:41.921568Z",
     "iopub.status.busy": "2022-11-03T16:14:41.921218Z",
     "iopub.status.idle": "2022-11-03T16:14:41.925285Z",
     "shell.execute_reply": "2022-11-03T16:14:41.924365Z"
    }
   },
   "outputs": [],
   "source": [
    "count = Counter(all_changed_files)"
   ]
  },
  {
   "cell_type": "code",
   "execution_count": 33,
   "id": "17e5fd80",
   "metadata": {
    "execution": {
     "iopub.execute_input": "2022-11-03T16:14:41.928963Z",
     "iopub.status.busy": "2022-11-03T16:14:41.928682Z",
     "iopub.status.idle": "2022-11-03T16:14:41.933603Z",
     "shell.execute_reply": "2022-11-03T16:14:41.932665Z"
    }
   },
   "outputs": [],
   "source": [
    "# save 100 most commonly occuring file extensions across PRs\n",
    "top_fileextensions_freq = count.most_common(100)\n",
    "top_fileextensions = [ext[0] for ext in top_fileextensions_freq]"
   ]
  },
  {
   "cell_type": "code",
   "execution_count": 34,
   "id": "25a14da8",
   "metadata": {
    "execution": {
     "iopub.execute_input": "2022-11-03T16:14:41.937559Z",
     "iopub.status.busy": "2022-11-03T16:14:41.937265Z",
     "iopub.status.idle": "2022-11-03T16:14:41.942725Z",
     "shell.execute_reply": "2022-11-03T16:14:41.941780Z"
    }
   },
   "outputs": [
    {
     "data": {
      "text/plain": [
       "['.md',\n",
       " '.yaml',\n",
       " '.tmpl',\n",
       " 'OWNERS',\n",
       " 'OWNERS_ALIASES',\n",
       " '.yml',\n",
       " '.png',\n",
       " '.ipynb',\n",
       " '.txt',\n",
       " '.json']"
      ]
     },
     "execution_count": 34,
     "metadata": {},
     "output_type": "execute_result"
    }
   ],
   "source": [
    "top_fileextensions"
   ]
  },
  {
   "cell_type": "code",
   "execution_count": 35,
   "id": "ecd11700",
   "metadata": {
    "execution": {
     "iopub.execute_input": "2022-11-03T16:14:41.947964Z",
     "iopub.status.busy": "2022-11-03T16:14:41.947683Z",
     "iopub.status.idle": "2022-11-03T16:14:41.952695Z",
     "shell.execute_reply": "2022-11-03T16:14:41.951787Z"
    }
   },
   "outputs": [],
   "source": [
    "def file_type_freq(list_of_filepaths):\n",
    "    \"\"\"\n",
    "    For a given PR's list of changed files,\n",
    "    return a changed files frequency vector\n",
    "    ( a vector which holds the frequency of\n",
    "    changed files of the type  for every\n",
    "    file type in top_fileextensions )\n",
    "    \"\"\"\n",
    "\n",
    "    file_extensions = [filetype(f) for f in list_of_filepaths]\n",
    "    ext_dict = {key: 0 for key in top_fileextensions}\n",
    "    for f in file_extensions:\n",
    "        if f in ext_dict:\n",
    "            ext_dict[f] += 1\n",
    "\n",
    "    return list(ext_dict.values())"
   ]
  },
  {
   "cell_type": "code",
   "execution_count": 36,
   "id": "cc0b7906",
   "metadata": {
    "execution": {
     "iopub.execute_input": "2022-11-03T16:14:41.956528Z",
     "iopub.status.busy": "2022-11-03T16:14:41.956250Z",
     "iopub.status.idle": "2022-11-03T16:14:41.963530Z",
     "shell.execute_reply": "2022-11-03T16:14:41.962607Z"
    }
   },
   "outputs": [],
   "source": [
    "pr_df[\"changed_file_type_vec\"] = pr_df[\"changed_files\"].apply(\n",
    "    lambda x: file_type_freq(x)\n",
    ")"
   ]
  },
  {
   "cell_type": "code",
   "execution_count": 37,
   "id": "4fe7bb1d",
   "metadata": {
    "execution": {
     "iopub.execute_input": "2022-11-03T16:14:41.967438Z",
     "iopub.status.busy": "2022-11-03T16:14:41.967157Z",
     "iopub.status.idle": "2022-11-03T16:14:41.990750Z",
     "shell.execute_reply": "2022-11-03T16:14:41.989789Z"
    }
   },
   "outputs": [
    {
     "data": {
      "text/html": [
       "<div>\n",
       "<style scoped>\n",
       "    .dataframe tbody tr th:only-of-type {\n",
       "        vertical-align: middle;\n",
       "    }\n",
       "\n",
       "    .dataframe tbody tr th {\n",
       "        vertical-align: top;\n",
       "    }\n",
       "\n",
       "    .dataframe thead th {\n",
       "        text-align: right;\n",
       "    }\n",
       "</style>\n",
       "<table border=\"1\" class=\"dataframe\">\n",
       "  <thead>\n",
       "    <tr style=\"text-align: right;\">\n",
       "      <th></th>\n",
       "      <th>title</th>\n",
       "      <th>body</th>\n",
       "      <th>size</th>\n",
       "      <th>created_by</th>\n",
       "      <th>created_at</th>\n",
       "      <th>closed_at</th>\n",
       "      <th>closed_by</th>\n",
       "      <th>merged_at</th>\n",
       "      <th>merged_by</th>\n",
       "      <th>commits_number</th>\n",
       "      <th>...</th>\n",
       "      <th>id</th>\n",
       "      <th>time_to_merge</th>\n",
       "      <th>body_size</th>\n",
       "      <th>title_word_counts_vec</th>\n",
       "      <th>created_at_datetime</th>\n",
       "      <th>created_at_day</th>\n",
       "      <th>created_at_month</th>\n",
       "      <th>created_at_weekday</th>\n",
       "      <th>created_at_hour</th>\n",
       "      <th>changed_file_type_vec</th>\n",
       "    </tr>\n",
       "  </thead>\n",
       "  <tbody>\n",
       "    <tr>\n",
       "      <th>0</th>\n",
       "      <td>update logo and favico</td>\n",
       "      <td>closes #209</td>\n",
       "      <td>0</td>\n",
       "      <td>zafar-hussain</td>\n",
       "      <td>1666376304</td>\n",
       "      <td>NaN</td>\n",
       "      <td>zafar-hussain</td>\n",
       "      <td>NaN</td>\n",
       "      <td>None</td>\n",
       "      <td>1</td>\n",
       "      <td>...</td>\n",
       "      <td>230</td>\n",
       "      <td>NaN</td>\n",
       "      <td>2</td>\n",
       "      <td>[0, 0, 0, 0, 0, 0, 0, 0, 0, 0, 0, 0, 0, 0, 0, ...</td>\n",
       "      <td>2022-10-21 18:18:24</td>\n",
       "      <td>21</td>\n",
       "      <td>10</td>\n",
       "      <td>4</td>\n",
       "      <td>18</td>\n",
       "      <td>[0, 0, 0, 0, 0, 0, 2, 0, 0, 0]</td>\n",
       "    </tr>\n",
       "    <tr>\n",
       "      <th>1</th>\n",
       "      <td>add knikolla and cleanup</td>\n",
       "      <td>None</td>\n",
       "      <td>1</td>\n",
       "      <td>schwesig</td>\n",
       "      <td>1665410557</td>\n",
       "      <td>1.665411e+09</td>\n",
       "      <td>sesheta</td>\n",
       "      <td>1.665411e+09</td>\n",
       "      <td>sesheta</td>\n",
       "      <td>2</td>\n",
       "      <td>...</td>\n",
       "      <td>229</td>\n",
       "      <td>476.0</td>\n",
       "      <td>0</td>\n",
       "      <td>[0, 0, 0, 0, 0, 1, 0, 0, 0, 0, 0, 0, 0, 0, 0, ...</td>\n",
       "      <td>2022-10-10 14:02:37</td>\n",
       "      <td>10</td>\n",
       "      <td>10</td>\n",
       "      <td>0</td>\n",
       "      <td>14</td>\n",
       "      <td>[0, 0, 0, 1, 0, 0, 0, 0, 0, 0]</td>\n",
       "    </tr>\n",
       "  </tbody>\n",
       "</table>\n",
       "<p>2 rows × 28 columns</p>\n",
       "</div>"
      ],
      "text/plain": [
       "                      title         body  size     created_by  created_at  \\\n",
       "0    update logo and favico  closes #209     0  zafar-hussain  1666376304   \n",
       "1  add knikolla and cleanup         None     1       schwesig  1665410557   \n",
       "\n",
       "      closed_at      closed_by     merged_at merged_by  commits_number  ...  \\\n",
       "0           NaN  zafar-hussain           NaN      None               1  ...   \n",
       "1  1.665411e+09        sesheta  1.665411e+09   sesheta               2  ...   \n",
       "\n",
       "    id time_to_merge body_size  \\\n",
       "0  230           NaN         2   \n",
       "1  229         476.0         0   \n",
       "\n",
       "                               title_word_counts_vec created_at_datetime  \\\n",
       "0  [0, 0, 0, 0, 0, 0, 0, 0, 0, 0, 0, 0, 0, 0, 0, ... 2022-10-21 18:18:24   \n",
       "1  [0, 0, 0, 0, 0, 1, 0, 0, 0, 0, 0, 0, 0, 0, 0, ... 2022-10-10 14:02:37   \n",
       "\n",
       "  created_at_day  created_at_month  created_at_weekday created_at_hour  \\\n",
       "0             21                10                   4              18   \n",
       "1             10                10                   0              14   \n",
       "\n",
       "            changed_file_type_vec  \n",
       "0  [0, 0, 0, 0, 0, 0, 2, 0, 0, 0]  \n",
       "1  [0, 0, 0, 1, 0, 0, 0, 0, 0, 0]  \n",
       "\n",
       "[2 rows x 28 columns]"
      ]
     },
     "execution_count": 37,
     "metadata": {},
     "output_type": "execute_result"
    }
   ],
   "source": [
    "pr_df.head(2)"
   ]
  },
  {
   "cell_type": "markdown",
   "id": "8102f95e-6175-4b46-99c1-66175f20325c",
   "metadata": {},
   "source": [
    "## Create PR trends dashboard"
   ]
  },
  {
   "cell_type": "markdown",
   "id": "5e502b7f-49c4-4024-aebc-3c9720a94209",
   "metadata": {},
   "source": [
    "## Infer dataframe columns as Features"
   ]
  },
  {
   "cell_type": "markdown",
   "id": "70443afd",
   "metadata": {},
   "source": [
    "We can see above that some PRs have 0 for all directory fields since the directory structure of the repo has changed over time and we are interested in only the latest directory structure."
   ]
  },
  {
   "cell_type": "code",
   "execution_count": 38,
   "id": "64e7a822",
   "metadata": {
    "execution": {
     "iopub.execute_input": "2022-11-03T16:14:41.995946Z",
     "iopub.status.busy": "2022-11-03T16:14:41.995684Z",
     "iopub.status.idle": "2022-11-03T16:14:42.001481Z",
     "shell.execute_reply": "2022-11-03T16:14:42.000597Z"
    }
   },
   "outputs": [],
   "source": [
    "# subset DataFrame to use as features\n",
    "feature_df = pr_df[\n",
    "    [\n",
    "        \"time_to_merge\",\n",
    "        \"changed_files_number\",\n",
    "        \"body_size\",\n",
    "        \"size\",\n",
    "        \"title_word_counts_vec\",\n",
    "        \"created_at_day\",\n",
    "        \"created_at_month\",\n",
    "        \"created_at_weekday\",\n",
    "        \"created_at_hour\",\n",
    "        \"commits_number\",\n",
    "        \"changed_file_type_vec\",\n",
    "    ]\n",
    "]"
   ]
  },
  {
   "cell_type": "markdown",
   "id": "0b08a241",
   "metadata": {},
   "source": [
    "### Add PR TTM Class Column \n",
    "\n",
    "Lets split up the time to merge values into 10 discrete bins (as discussed above) to use as our prediction classes."
   ]
  },
  {
   "cell_type": "code",
   "execution_count": 39,
   "id": "b1a5adc0-e8e2-4159-af36-a6fdc938de17",
   "metadata": {
    "execution": {
     "iopub.execute_input": "2022-11-03T16:14:42.005257Z",
     "iopub.status.busy": "2022-11-03T16:14:42.004951Z",
     "iopub.status.idle": "2022-11-03T16:14:42.011506Z",
     "shell.execute_reply": "2022-11-03T16:14:42.010660Z"
    }
   },
   "outputs": [
    {
     "data": {
      "text/plain": [
       "0.0         11.0\n",
       "0.1         48.1\n",
       "0.2        327.0\n",
       "0.3       4442.5\n",
       "0.4      39709.6\n",
       "0.5      59925.0\n",
       "0.6      88395.4\n",
       "0.7     426698.0\n",
       "0.8    1044979.2\n",
       "0.9    2048763.9\n",
       "Name: time_to_merge, dtype: float64"
      ]
     },
     "execution_count": 39,
     "metadata": {},
     "output_type": "execute_result"
    }
   ],
   "source": [
    "intervals"
   ]
  },
  {
   "cell_type": "code",
   "execution_count": 40,
   "id": "ec16152d-0fb3-4775-913a-9e476382d713",
   "metadata": {
    "execution": {
     "iopub.execute_input": "2022-11-03T16:14:42.016422Z",
     "iopub.status.busy": "2022-11-03T16:14:42.016127Z",
     "iopub.status.idle": "2022-11-03T16:14:42.051968Z",
     "shell.execute_reply": "2022-11-03T16:14:42.051045Z"
    }
   },
   "outputs": [
    {
     "name": "stderr",
     "output_type": "stream",
     "text": [
      "/tmp/ipykernel_236/2436122750.py:9: SettingWithCopyWarning: \n",
      "A value is trying to be set on a copy of a slice from a DataFrame.\n",
      "Try using .loc[row_indexer,col_indexer] = value instead\n",
      "\n",
      "See the caveats in the documentation: https://pandas.pydata.org/pandas-docs/stable/user_guide/indexing.html#returning-a-view-versus-a-copy\n",
      "  feature_df[\"ttm_class\"] = (feature_df[\"time_to_merge\"]).apply(get_ttm_class)\n"
     ]
    },
    {
     "data": {
      "text/html": [
       "<div>\n",
       "<style scoped>\n",
       "    .dataframe tbody tr th:only-of-type {\n",
       "        vertical-align: middle;\n",
       "    }\n",
       "\n",
       "    .dataframe tbody tr th {\n",
       "        vertical-align: top;\n",
       "    }\n",
       "\n",
       "    .dataframe thead th {\n",
       "        text-align: right;\n",
       "    }\n",
       "</style>\n",
       "<table border=\"1\" class=\"dataframe\">\n",
       "  <thead>\n",
       "    <tr style=\"text-align: right;\">\n",
       "      <th></th>\n",
       "      <th>time_to_merge</th>\n",
       "      <th>changed_files_number</th>\n",
       "      <th>body_size</th>\n",
       "      <th>size</th>\n",
       "      <th>title_word_counts_vec</th>\n",
       "      <th>created_at_day</th>\n",
       "      <th>created_at_month</th>\n",
       "      <th>created_at_weekday</th>\n",
       "      <th>created_at_hour</th>\n",
       "      <th>commits_number</th>\n",
       "      <th>changed_file_type_vec</th>\n",
       "      <th>ttm_class</th>\n",
       "    </tr>\n",
       "  </thead>\n",
       "  <tbody>\n",
       "    <tr>\n",
       "      <th>0</th>\n",
       "      <td>NaN</td>\n",
       "      <td>2</td>\n",
       "      <td>2</td>\n",
       "      <td>0</td>\n",
       "      <td>[0, 0, 0, 0, 0, 0, 0, 0, 0, 0, 0, 0, 0, 0, 0, ...</td>\n",
       "      <td>21</td>\n",
       "      <td>10</td>\n",
       "      <td>4</td>\n",
       "      <td>18</td>\n",
       "      <td>1</td>\n",
       "      <td>[0, 0, 0, 0, 0, 0, 2, 0, 0, 0]</td>\n",
       "      <td>9</td>\n",
       "    </tr>\n",
       "    <tr>\n",
       "      <th>1</th>\n",
       "      <td>476.0</td>\n",
       "      <td>1</td>\n",
       "      <td>0</td>\n",
       "      <td>1</td>\n",
       "      <td>[0, 0, 0, 0, 0, 1, 0, 0, 0, 0, 0, 0, 0, 0, 0, ...</td>\n",
       "      <td>10</td>\n",
       "      <td>10</td>\n",
       "      <td>0</td>\n",
       "      <td>14</td>\n",
       "      <td>2</td>\n",
       "      <td>[0, 0, 0, 1, 0, 0, 0, 0, 0, 0]</td>\n",
       "      <td>2</td>\n",
       "    </tr>\n",
       "    <tr>\n",
       "      <th>2</th>\n",
       "      <td>7081.0</td>\n",
       "      <td>1</td>\n",
       "      <td>0</td>\n",
       "      <td>0</td>\n",
       "      <td>[0, 0, 0, 0, 0, 0, 0, 0, 0, 0, 0, 0, 0, 0, 0, ...</td>\n",
       "      <td>10</td>\n",
       "      <td>10</td>\n",
       "      <td>0</td>\n",
       "      <td>11</td>\n",
       "      <td>1</td>\n",
       "      <td>[1, 0, 0, 0, 0, 0, 0, 0, 0, 0]</td>\n",
       "      <td>3</td>\n",
       "    </tr>\n",
       "    <tr>\n",
       "      <th>3</th>\n",
       "      <td>NaN</td>\n",
       "      <td>0</td>\n",
       "      <td>0</td>\n",
       "      <td>0</td>\n",
       "      <td>[0, 0, 0, 0, 0, 1, 0, 0, 0, 0, 0, 0, 0, 0, 0, ...</td>\n",
       "      <td>6</td>\n",
       "      <td>10</td>\n",
       "      <td>3</td>\n",
       "      <td>18</td>\n",
       "      <td>0</td>\n",
       "      <td>[0, 0, 0, 0, 0, 0, 0, 0, 0, 0]</td>\n",
       "      <td>9</td>\n",
       "    </tr>\n",
       "    <tr>\n",
       "      <th>4</th>\n",
       "      <td>68588.0</td>\n",
       "      <td>1</td>\n",
       "      <td>0</td>\n",
       "      <td>2</td>\n",
       "      <td>[0, 0, 0, 0, 0, 0, 0, 0, 0, 0, 0, 0, 0, 0, 0, ...</td>\n",
       "      <td>6</td>\n",
       "      <td>10</td>\n",
       "      <td>3</td>\n",
       "      <td>17</td>\n",
       "      <td>1</td>\n",
       "      <td>[1, 0, 0, 0, 0, 0, 0, 0, 0, 0]</td>\n",
       "      <td>5</td>\n",
       "    </tr>\n",
       "  </tbody>\n",
       "</table>\n",
       "</div>"
      ],
      "text/plain": [
       "   time_to_merge  changed_files_number  body_size  size  \\\n",
       "0            NaN                     2          2     0   \n",
       "1          476.0                     1          0     1   \n",
       "2         7081.0                     1          0     0   \n",
       "3            NaN                     0          0     0   \n",
       "4        68588.0                     1          0     2   \n",
       "\n",
       "                               title_word_counts_vec  created_at_day  \\\n",
       "0  [0, 0, 0, 0, 0, 0, 0, 0, 0, 0, 0, 0, 0, 0, 0, ...              21   \n",
       "1  [0, 0, 0, 0, 0, 1, 0, 0, 0, 0, 0, 0, 0, 0, 0, ...              10   \n",
       "2  [0, 0, 0, 0, 0, 0, 0, 0, 0, 0, 0, 0, 0, 0, 0, ...              10   \n",
       "3  [0, 0, 0, 0, 0, 1, 0, 0, 0, 0, 0, 0, 0, 0, 0, ...               6   \n",
       "4  [0, 0, 0, 0, 0, 0, 0, 0, 0, 0, 0, 0, 0, 0, 0, ...               6   \n",
       "\n",
       "   created_at_month  created_at_weekday  created_at_hour  commits_number  \\\n",
       "0                10                   4               18               1   \n",
       "1                10                   0               14               2   \n",
       "2                10                   0               11               1   \n",
       "3                10                   3               18               0   \n",
       "4                10                   3               17               1   \n",
       "\n",
       "            changed_file_type_vec  ttm_class  \n",
       "0  [0, 0, 0, 0, 0, 0, 2, 0, 0, 0]          9  \n",
       "1  [0, 0, 0, 1, 0, 0, 0, 0, 0, 0]          2  \n",
       "2  [1, 0, 0, 0, 0, 0, 0, 0, 0, 0]          3  \n",
       "3  [0, 0, 0, 0, 0, 0, 0, 0, 0, 0]          9  \n",
       "4  [1, 0, 0, 0, 0, 0, 0, 0, 0, 0]          5  "
      ]
     },
     "execution_count": 40,
     "metadata": {},
     "output_type": "execute_result"
    }
   ],
   "source": [
    "def get_ttm_class(ttm):\n",
    "\n",
    "    for rownum, (indx, val) in enumerate(intervals.iteritems()):\n",
    "        if ttm < val:\n",
    "            return rownum - 1\n",
    "    return 9\n",
    "\n",
    "\n",
    "feature_df[\"ttm_class\"] = (feature_df[\"time_to_merge\"]).apply(get_ttm_class)\n",
    "feature_df.head()"
   ]
  },
  {
   "cell_type": "markdown",
   "id": "04749f45",
   "metadata": {},
   "source": [
    "## Evaluating Feature Importances\n",
    "\n",
    "### Categorical Features\n",
    "\n",
    "First, lets try to determine what categorical featuers are powerful influencers for time to merge of a PR"
   ]
  },
  {
   "cell_type": "code",
   "execution_count": 41,
   "id": "e353c92b",
   "metadata": {
    "execution": {
     "iopub.execute_input": "2022-11-03T16:14:42.056222Z",
     "iopub.status.busy": "2022-11-03T16:14:42.055653Z",
     "iopub.status.idle": "2022-11-03T16:14:42.061030Z",
     "shell.execute_reply": "2022-11-03T16:14:42.060003Z"
    }
   },
   "outputs": [],
   "source": [
    "# feature selection helper function\n",
    "def select_features(x, y, func):\n",
    "    fs = SelectKBest(score_func=func, k=\"all\")\n",
    "    fs.fit(x, y)\n",
    "    x_fs = fs.transform(x)\n",
    "    return x_fs, fs\n",
    "\n",
    "\n",
    "selected_features = []"
   ]
  },
  {
   "cell_type": "code",
   "execution_count": 42,
   "id": "986b3424-0401-4c7a-8f28-a860b87e14ef",
   "metadata": {
    "execution": {
     "iopub.execute_input": "2022-11-03T16:14:42.065811Z",
     "iopub.status.busy": "2022-11-03T16:14:42.065292Z",
     "iopub.status.idle": "2022-11-03T16:14:42.069487Z",
     "shell.execute_reply": "2022-11-03T16:14:42.068515Z"
    }
   },
   "outputs": [],
   "source": [
    "cat_features = [\n",
    "    \"size\",\n",
    "    \"created_at_day\",\n",
    "    \"created_at_month\",\n",
    "    \"created_at_weekday\",\n",
    "    \"created_at_hour\",\n",
    "    \"ttm_class\",\n",
    "]"
   ]
  },
  {
   "cell_type": "code",
   "execution_count": 43,
   "id": "3e1d24a4",
   "metadata": {
    "execution": {
     "iopub.execute_input": "2022-11-03T16:14:42.073637Z",
     "iopub.status.busy": "2022-11-03T16:14:42.073216Z",
     "iopub.status.idle": "2022-11-03T16:14:42.084265Z",
     "shell.execute_reply": "2022-11-03T16:14:42.083316Z"
    }
   },
   "outputs": [
    {
     "data": {
      "text/html": [
       "<div>\n",
       "<style scoped>\n",
       "    .dataframe tbody tr th:only-of-type {\n",
       "        vertical-align: middle;\n",
       "    }\n",
       "\n",
       "    .dataframe tbody tr th {\n",
       "        vertical-align: top;\n",
       "    }\n",
       "\n",
       "    .dataframe thead th {\n",
       "        text-align: right;\n",
       "    }\n",
       "</style>\n",
       "<table border=\"1\" class=\"dataframe\">\n",
       "  <thead>\n",
       "    <tr style=\"text-align: right;\">\n",
       "      <th></th>\n",
       "      <th>size</th>\n",
       "      <th>created_at_day</th>\n",
       "      <th>created_at_month</th>\n",
       "      <th>created_at_weekday</th>\n",
       "      <th>created_at_hour</th>\n",
       "      <th>ttm_class</th>\n",
       "    </tr>\n",
       "  </thead>\n",
       "  <tbody>\n",
       "    <tr>\n",
       "      <th>0</th>\n",
       "      <td>0</td>\n",
       "      <td>21</td>\n",
       "      <td>10</td>\n",
       "      <td>4</td>\n",
       "      <td>18</td>\n",
       "      <td>9</td>\n",
       "    </tr>\n",
       "    <tr>\n",
       "      <th>1</th>\n",
       "      <td>1</td>\n",
       "      <td>10</td>\n",
       "      <td>10</td>\n",
       "      <td>0</td>\n",
       "      <td>14</td>\n",
       "      <td>2</td>\n",
       "    </tr>\n",
       "    <tr>\n",
       "      <th>2</th>\n",
       "      <td>0</td>\n",
       "      <td>10</td>\n",
       "      <td>10</td>\n",
       "      <td>0</td>\n",
       "      <td>11</td>\n",
       "      <td>3</td>\n",
       "    </tr>\n",
       "    <tr>\n",
       "      <th>3</th>\n",
       "      <td>0</td>\n",
       "      <td>6</td>\n",
       "      <td>10</td>\n",
       "      <td>3</td>\n",
       "      <td>18</td>\n",
       "      <td>9</td>\n",
       "    </tr>\n",
       "    <tr>\n",
       "      <th>4</th>\n",
       "      <td>2</td>\n",
       "      <td>6</td>\n",
       "      <td>10</td>\n",
       "      <td>3</td>\n",
       "      <td>17</td>\n",
       "      <td>5</td>\n",
       "    </tr>\n",
       "  </tbody>\n",
       "</table>\n",
       "</div>"
      ],
      "text/plain": [
       "   size  created_at_day  created_at_month  created_at_weekday  \\\n",
       "0     0              21                10                   4   \n",
       "1     1              10                10                   0   \n",
       "2     0              10                10                   0   \n",
       "3     0               6                10                   3   \n",
       "4     2               6                10                   3   \n",
       "\n",
       "   created_at_hour  ttm_class  \n",
       "0               18          9  \n",
       "1               14          2  \n",
       "2               11          3  \n",
       "3               18          9  \n",
       "4               17          5  "
      ]
     },
     "execution_count": 43,
     "metadata": {},
     "output_type": "execute_result"
    }
   ],
   "source": [
    "cat_df = feature_df[cat_features]\n",
    "\n",
    "cat_df.head()"
   ]
  },
  {
   "cell_type": "code",
   "execution_count": 44,
   "id": "278e3073",
   "metadata": {
    "execution": {
     "iopub.execute_input": "2022-11-03T16:14:42.089120Z",
     "iopub.status.busy": "2022-11-03T16:14:42.088677Z",
     "iopub.status.idle": "2022-11-03T16:14:42.094006Z",
     "shell.execute_reply": "2022-11-03T16:14:42.093133Z"
    }
   },
   "outputs": [],
   "source": [
    "# split into input (x) and output (y) variables\n",
    "X_inp = cat_df.drop(columns=[\"ttm_class\"])\n",
    "y = cat_df[\"ttm_class\"]"
   ]
  },
  {
   "cell_type": "code",
   "execution_count": 45,
   "id": "2df4fb8d",
   "metadata": {
    "execution": {
     "iopub.execute_input": "2022-11-03T16:14:42.097534Z",
     "iopub.status.busy": "2022-11-03T16:14:42.097231Z",
     "iopub.status.idle": "2022-11-03T16:14:42.148722Z",
     "shell.execute_reply": "2022-11-03T16:14:42.147607Z"
    }
   },
   "outputs": [],
   "source": [
    "# rank using mutual_info_classif\n",
    "X_fs, fs = select_features(X_inp, y, mutual_info_classif)"
   ]
  },
  {
   "cell_type": "code",
   "execution_count": 46,
   "id": "418becb1",
   "metadata": {
    "execution": {
     "iopub.execute_input": "2022-11-03T16:14:42.152535Z",
     "iopub.status.busy": "2022-11-03T16:14:42.152244Z",
     "iopub.status.idle": "2022-11-03T16:14:42.156966Z",
     "shell.execute_reply": "2022-11-03T16:14:42.156236Z"
    }
   },
   "outputs": [
    {
     "name": "stdout",
     "output_type": "stream",
     "text": [
      "Feature size: 0.115507\n",
      "Feature created_at_day: 0.354328\n",
      "Feature created_at_month: 0.040582\n",
      "Feature created_at_weekday: 0.097960\n",
      "Feature created_at_hour: 0.124732\n"
     ]
    }
   ],
   "source": [
    "for i in range(len(fs.scores_)):\n",
    "    print(\"Feature %s: %f\" % (X_inp.columns[i], fs.scores_[i]))"
   ]
  },
  {
   "cell_type": "code",
   "execution_count": 47,
   "id": "b08ea157",
   "metadata": {
    "execution": {
     "iopub.execute_input": "2022-11-03T16:14:42.160245Z",
     "iopub.status.busy": "2022-11-03T16:14:42.159971Z",
     "iopub.status.idle": "2022-11-03T16:14:42.346957Z",
     "shell.execute_reply": "2022-11-03T16:14:42.345933Z"
    }
   },
   "outputs": [
    {
     "data": {
      "image/png": "[encoded data removed]",
      "text/plain": [
       "<Figure size 432x288 with 1 Axes>"
      ]
     },
     "metadata": {
      "needs_background": "light"
     },
     "output_type": "display_data"
    }
   ],
   "source": [
    "# visualize scores of all features\n",
    "sns.barplot(x=X_inp.columns, y=fs.scores_)\n",
    "plt.title(\"Feature importance scores for Mutual Information Statistic\")\n",
    "plt.xticks(rotation=60)\n",
    "plt.xlabel(\"Features\")\n",
    "plt.ylabel(\"Scores\")\n",
    "plt.show()"
   ]
  },
  {
   "cell_type": "code",
   "execution_count": 48,
   "id": "176c1d98",
   "metadata": {
    "execution": {
     "iopub.execute_input": "2022-11-03T16:14:42.350961Z",
     "iopub.status.busy": "2022-11-03T16:14:42.350680Z",
     "iopub.status.idle": "2022-11-03T16:14:42.355016Z",
     "shell.execute_reply": "2022-11-03T16:14:42.353977Z"
    }
   },
   "outputs": [],
   "source": [
    "# Lets get a list of the top 10 feature indices based on Mutual Info Stat feature scores\n",
    "top_mis = fs.scores_.argsort()[-10:][::-1]"
   ]
  },
  {
   "cell_type": "code",
   "execution_count": 49,
   "id": "c33dc4f2",
   "metadata": {
    "execution": {
     "iopub.execute_input": "2022-11-03T16:14:42.358931Z",
     "iopub.status.busy": "2022-11-03T16:14:42.358329Z",
     "iopub.status.idle": "2022-11-03T16:14:42.367174Z",
     "shell.execute_reply": "2022-11-03T16:14:42.366230Z"
    }
   },
   "outputs": [],
   "source": [
    "# rank using chi_sq\n",
    "X_fs, fs = select_features(X_inp, y, chi2)"
   ]
  },
  {
   "cell_type": "code",
   "execution_count": 50,
   "id": "313c6906",
   "metadata": {
    "execution": {
     "iopub.execute_input": "2022-11-03T16:14:42.370710Z",
     "iopub.status.busy": "2022-11-03T16:14:42.370420Z",
     "iopub.status.idle": "2022-11-03T16:14:42.375217Z",
     "shell.execute_reply": "2022-11-03T16:14:42.374327Z"
    }
   },
   "outputs": [
    {
     "name": "stdout",
     "output_type": "stream",
     "text": [
      "Feature size: 8.088888\n",
      "Feature created_at_day: 99.353417\n",
      "Feature created_at_month: 23.376169\n",
      "Feature created_at_weekday: 10.480045\n",
      "Feature created_at_hour: 20.373082\n"
     ]
    }
   ],
   "source": [
    "for i in range(len(fs.scores_)):\n",
    "    print(\"Feature %s: %f\" % (X_inp.columns[i], fs.scores_[i]))"
   ]
  },
  {
   "cell_type": "code",
   "execution_count": 51,
   "id": "460daed6",
   "metadata": {
    "execution": {
     "iopub.execute_input": "2022-11-03T16:14:42.378787Z",
     "iopub.status.busy": "2022-11-03T16:14:42.378130Z",
     "iopub.status.idle": "2022-11-03T16:14:42.535889Z",
     "shell.execute_reply": "2022-11-03T16:14:42.534764Z"
    }
   },
   "outputs": [
    {
     "data": {
      "image/png": "[encoded data removed]",
      "text/plain": [
       "<Figure size 432x288 with 1 Axes>"
      ]
     },
     "metadata": {
      "needs_background": "light"
     },
     "output_type": "display_data"
    }
   ],
   "source": [
    "# visualize scores of all features\n",
    "sns.barplot(x=X_inp.columns, y=fs.scores_)\n",
    "plt.title(\"Feature importance scores for Chi Squared\")\n",
    "plt.xticks(rotation=60)\n",
    "plt.xlabel(\"Features\")\n",
    "plt.ylabel(\"Scores\")\n",
    "plt.show()"
   ]
  },
  {
   "cell_type": "code",
   "execution_count": 52,
   "id": "9874b4b4",
   "metadata": {
    "execution": {
     "iopub.execute_input": "2022-11-03T16:14:42.540432Z",
     "iopub.status.busy": "2022-11-03T16:14:42.540013Z",
     "iopub.status.idle": "2022-11-03T16:14:42.544336Z",
     "shell.execute_reply": "2022-11-03T16:14:42.543420Z"
    }
   },
   "outputs": [],
   "source": [
    "# Lets get a list of the top 10 feature indices based on Chi Sq feature scores\n",
    "top_chi2 = fs.scores_.argsort()[-10:][::-1]"
   ]
  },
  {
   "cell_type": "markdown",
   "id": "5861b291",
   "metadata": {},
   "source": [
    "Let's get a Union of the top 10 features derived from features based on both scores of both Mutual Info Statistic and Chi Squared"
   ]
  },
  {
   "cell_type": "code",
   "execution_count": 53,
   "id": "fae59295",
   "metadata": {
    "execution": {
     "iopub.execute_input": "2022-11-03T16:14:42.548133Z",
     "iopub.status.busy": "2022-11-03T16:14:42.547834Z",
     "iopub.status.idle": "2022-11-03T16:14:42.556680Z",
     "shell.execute_reply": "2022-11-03T16:14:42.555606Z"
    }
   },
   "outputs": [
    {
     "name": "stdout",
     "output_type": "stream",
     "text": [
      "5\n"
     ]
    },
    {
     "data": {
      "text/plain": [
       "{0, 1, 2, 3, 4}"
      ]
     },
     "execution_count": 53,
     "metadata": {},
     "output_type": "execute_result"
    }
   ],
   "source": [
    "union = set(top_mis).union(set(top_chi2))\n",
    "print(len(union))\n",
    "union"
   ]
  },
  {
   "cell_type": "code",
   "execution_count": 54,
   "id": "4778b695-9ec8-4d9f-a1dd-26d749b43a95",
   "metadata": {
    "execution": {
     "iopub.execute_input": "2022-11-03T16:14:42.560757Z",
     "iopub.status.busy": "2022-11-03T16:14:42.560282Z",
     "iopub.status.idle": "2022-11-03T16:14:42.568443Z",
     "shell.execute_reply": "2022-11-03T16:14:42.567416Z"
    }
   },
   "outputs": [
    {
     "data": {
      "text/plain": [
       "['size',\n",
       " 'created_at_day',\n",
       " 'created_at_month',\n",
       " 'created_at_weekday',\n",
       " 'created_at_hour']"
      ]
     },
     "execution_count": 54,
     "metadata": {},
     "output_type": "execute_result"
    }
   ],
   "source": [
    "selected_cat_features = [cat_features[i] for i in union]\n",
    "selected_cat_features"
   ]
  },
  {
   "cell_type": "code",
   "execution_count": 55,
   "id": "5b0ce173",
   "metadata": {
    "execution": {
     "iopub.execute_input": "2022-11-03T16:14:42.572482Z",
     "iopub.status.busy": "2022-11-03T16:14:42.572004Z",
     "iopub.status.idle": "2022-11-03T16:14:42.576200Z",
     "shell.execute_reply": "2022-11-03T16:14:42.575258Z"
    }
   },
   "outputs": [],
   "source": [
    "# update list of features to keep for training\n",
    "selected_features += selected_cat_features"
   ]
  },
  {
   "cell_type": "markdown",
   "id": "33f4387d",
   "metadata": {},
   "source": [
    "### Numerical Features\n",
    "\n",
    "Now, lets try to determine what numerical featuers are powerful influencers for time to merge of a PR"
   ]
  },
  {
   "cell_type": "code",
   "execution_count": 56,
   "id": "29683916-4ef7-474a-80ac-11a5d210b6fa",
   "metadata": {
    "execution": {
     "iopub.execute_input": "2022-11-03T16:14:42.579986Z",
     "iopub.status.busy": "2022-11-03T16:14:42.579700Z",
     "iopub.status.idle": "2022-11-03T16:14:42.583608Z",
     "shell.execute_reply": "2022-11-03T16:14:42.582761Z"
    }
   },
   "outputs": [],
   "source": [
    "numerical_features = [\n",
    "    \"changed_files_number\",\n",
    "    \"body_size\",\n",
    "    \"commits_number\",\n",
    "    \"ttm_class\",\n",
    "]"
   ]
  },
  {
   "cell_type": "code",
   "execution_count": 57,
   "id": "b0d608dd",
   "metadata": {
    "execution": {
     "iopub.execute_input": "2022-11-03T16:14:42.587124Z",
     "iopub.status.busy": "2022-11-03T16:14:42.586842Z",
     "iopub.status.idle": "2022-11-03T16:14:42.597956Z",
     "shell.execute_reply": "2022-11-03T16:14:42.597044Z"
    }
   },
   "outputs": [
    {
     "data": {
      "text/html": [
       "<div>\n",
       "<style scoped>\n",
       "    .dataframe tbody tr th:only-of-type {\n",
       "        vertical-align: middle;\n",
       "    }\n",
       "\n",
       "    .dataframe tbody tr th {\n",
       "        vertical-align: top;\n",
       "    }\n",
       "\n",
       "    .dataframe thead th {\n",
       "        text-align: right;\n",
       "    }\n",
       "</style>\n",
       "<table border=\"1\" class=\"dataframe\">\n",
       "  <thead>\n",
       "    <tr style=\"text-align: right;\">\n",
       "      <th></th>\n",
       "      <th>changed_files_number</th>\n",
       "      <th>body_size</th>\n",
       "      <th>commits_number</th>\n",
       "      <th>ttm_class</th>\n",
       "    </tr>\n",
       "  </thead>\n",
       "  <tbody>\n",
       "    <tr>\n",
       "      <th>0</th>\n",
       "      <td>2</td>\n",
       "      <td>2</td>\n",
       "      <td>1</td>\n",
       "      <td>9</td>\n",
       "    </tr>\n",
       "    <tr>\n",
       "      <th>1</th>\n",
       "      <td>1</td>\n",
       "      <td>0</td>\n",
       "      <td>2</td>\n",
       "      <td>2</td>\n",
       "    </tr>\n",
       "    <tr>\n",
       "      <th>2</th>\n",
       "      <td>1</td>\n",
       "      <td>0</td>\n",
       "      <td>1</td>\n",
       "      <td>3</td>\n",
       "    </tr>\n",
       "    <tr>\n",
       "      <th>3</th>\n",
       "      <td>0</td>\n",
       "      <td>0</td>\n",
       "      <td>0</td>\n",
       "      <td>9</td>\n",
       "    </tr>\n",
       "    <tr>\n",
       "      <th>4</th>\n",
       "      <td>1</td>\n",
       "      <td>0</td>\n",
       "      <td>1</td>\n",
       "      <td>5</td>\n",
       "    </tr>\n",
       "  </tbody>\n",
       "</table>\n",
       "</div>"
      ],
      "text/plain": [
       "   changed_files_number  body_size  commits_number  ttm_class\n",
       "0                     2          2               1          9\n",
       "1                     1          0               2          2\n",
       "2                     1          0               1          3\n",
       "3                     0          0               0          9\n",
       "4                     1          0               1          5"
      ]
     },
     "execution_count": 57,
     "metadata": {},
     "output_type": "execute_result"
    }
   ],
   "source": [
    "numerical_df = feature_df[numerical_features]\n",
    "numerical_df.head()"
   ]
  },
  {
   "cell_type": "code",
   "execution_count": 58,
   "id": "9ff2919e",
   "metadata": {
    "execution": {
     "iopub.execute_input": "2022-11-03T16:14:42.601372Z",
     "iopub.status.busy": "2022-11-03T16:14:42.601086Z",
     "iopub.status.idle": "2022-11-03T16:14:42.606120Z",
     "shell.execute_reply": "2022-11-03T16:14:42.605154Z"
    }
   },
   "outputs": [],
   "source": [
    "# split into input features and target\n",
    "X_inp = numerical_df.drop(columns=[\"ttm_class\"])\n",
    "y = numerical_df[\"ttm_class\"]"
   ]
  },
  {
   "cell_type": "code",
   "execution_count": 59,
   "id": "cc733746",
   "metadata": {
    "execution": {
     "iopub.execute_input": "2022-11-03T16:14:42.609902Z",
     "iopub.status.busy": "2022-11-03T16:14:42.609449Z",
     "iopub.status.idle": "2022-11-03T16:14:42.771885Z",
     "shell.execute_reply": "2022-11-03T16:14:42.771033Z"
    },
    "tags": []
   },
   "outputs": [
    {
     "data": {
      "image/png": "[encoded data removed]",
      "text/plain": [
       "<Figure size 432x288 with 1 Axes>"
      ]
     },
     "metadata": {
      "needs_background": "light"
     },
     "output_type": "display_data"
    }
   ],
   "source": [
    "# create k best feature selector object based on mutual information\n",
    "numerical_feats_mi, k_best_selector_mi = select_features(\n",
    "    X_inp,\n",
    "    y,\n",
    "    partial(\n",
    "        mutual_info_classif,\n",
    "        discrete_features=False,\n",
    "        random_state=42,\n",
    "        n_neighbors=3,\n",
    "    ),\n",
    ")\n",
    "\n",
    "# visualize the MI scores of all features\n",
    "sns.barplot(x=X_inp.columns, y=k_best_selector_mi.scores_)\n",
    "plt.title(\"Feature importance based on Mutual Information\")\n",
    "plt.xticks(rotation=60)\n",
    "plt.xlabel(\"Features\")\n",
    "plt.ylabel(\"Scores\")\n",
    "plt.show()"
   ]
  },
  {
   "cell_type": "code",
   "execution_count": 60,
   "id": "7bdf2192",
   "metadata": {
    "execution": {
     "iopub.execute_input": "2022-11-03T16:14:42.777107Z",
     "iopub.status.busy": "2022-11-03T16:14:42.775823Z",
     "iopub.status.idle": "2022-11-03T16:14:42.985679Z",
     "shell.execute_reply": "2022-11-03T16:14:42.984626Z"
    }
   },
   "outputs": [
    {
     "data": {
      "image/png": "[encoded data removed]",
      "text/plain": [
       "<Figure size 432x288 with 2 Axes>"
      ]
     },
     "metadata": {
      "needs_background": "light"
     },
     "output_type": "display_data"
    }
   ],
   "source": [
    "# create k best feature selector object based on anova f statistic\n",
    "numerical_feats_f, k_best_selector_f = select_features(\n",
    "    X_inp,\n",
    "    y,\n",
    "    f_classif,\n",
    ")\n",
    "\n",
    "# visualize the f stat scores and pvalues of all features\n",
    "fig, axes = plt.subplots(2, 1, sharex=True)\n",
    "fig.suptitle(\"Feature importance based on ANOVA F stat\")\n",
    "sns.barplot(x=X_inp.columns, y=k_best_selector_f.scores_, ax=axes[0])\n",
    "sns.barplot(x=X_inp.columns, y=k_best_selector_f.pvalues_, ax=axes[1])\n",
    "plt.xticks(rotation=60)\n",
    "plt.xlabel(\"Features\")\n",
    "axes[0].set_ylabel(\"Scores\")\n",
    "axes[1].set_ylabel(\"p-values\")\n",
    "plt.show()"
   ]
  },
  {
   "cell_type": "code",
   "execution_count": 61,
   "id": "6134ddb1-994f-42ee-8a68-7111540b6481",
   "metadata": {
    "execution": {
     "iopub.execute_input": "2022-11-03T16:14:42.989689Z",
     "iopub.status.busy": "2022-11-03T16:14:42.989357Z",
     "iopub.status.idle": "2022-11-03T16:14:42.998112Z",
     "shell.execute_reply": "2022-11-03T16:14:42.997169Z"
    }
   },
   "outputs": [
    {
     "data": {
      "text/plain": [
       "{0, 1, 2}"
      ]
     },
     "execution_count": 61,
     "metadata": {},
     "output_type": "execute_result"
    }
   ],
   "source": [
    "top_mi = k_best_selector_mi.scores_.argsort()[-3:][::-1]\n",
    "top_anova = k_best_selector_f.scores_.argsort()[-3:][::-1]\n",
    "union = set(top_mi).union(set(top_anova))\n",
    "union"
   ]
  },
  {
   "cell_type": "code",
   "execution_count": 62,
   "id": "2d5a9368-bfaf-4348-b140-13e6d725f59c",
   "metadata": {
    "execution": {
     "iopub.execute_input": "2022-11-03T16:14:43.001915Z",
     "iopub.status.busy": "2022-11-03T16:14:43.001618Z",
     "iopub.status.idle": "2022-11-03T16:14:43.009667Z",
     "shell.execute_reply": "2022-11-03T16:14:43.008682Z"
    }
   },
   "outputs": [
    {
     "data": {
      "text/plain": [
       "['changed_files_number', 'body_size', 'commits_number']"
      ]
     },
     "execution_count": 62,
     "metadata": {},
     "output_type": "execute_result"
    }
   ],
   "source": [
    "selected_num_features = [numerical_features[i] for i in union]\n",
    "selected_num_features"
   ]
  },
  {
   "cell_type": "code",
   "execution_count": 63,
   "id": "cc984a01",
   "metadata": {
    "execution": {
     "iopub.execute_input": "2022-11-03T16:14:43.013410Z",
     "iopub.status.busy": "2022-11-03T16:14:43.013079Z",
     "iopub.status.idle": "2022-11-03T16:14:43.018934Z",
     "shell.execute_reply": "2022-11-03T16:14:43.018114Z"
    }
   },
   "outputs": [],
   "source": [
    "# update list of features to keep for training\n",
    "selected_features += selected_num_features"
   ]
  },
  {
   "cell_type": "markdown",
   "id": "11a86b36",
   "metadata": {},
   "source": [
    "### Count Vector Type Features\n",
    "\n",
    "Finally, lets determine the most important features from the count vector type columns."
   ]
  },
  {
   "cell_type": "code",
   "execution_count": 64,
   "id": "f07d0334",
   "metadata": {
    "execution": {
     "iopub.execute_input": "2022-11-03T16:14:43.022727Z",
     "iopub.status.busy": "2022-11-03T16:14:43.022451Z",
     "iopub.status.idle": "2022-11-03T16:14:43.029618Z",
     "shell.execute_reply": "2022-11-03T16:14:43.028652Z"
    },
    "scrolled": true
   },
   "outputs": [],
   "source": [
    "# explode the list column so that there is 1 column representing frequency of each file type\n",
    "filetype_df = pd.DataFrame(feature_df.changed_file_type_vec.to_list())\n",
    "filetype_df.index = feature_df.index\n",
    "filetype_df.columns = [f\"filetype_{f}\" for f in top_fileextensions]"
   ]
  },
  {
   "cell_type": "code",
   "execution_count": 65,
   "id": "35f93d4e",
   "metadata": {
    "execution": {
     "iopub.execute_input": "2022-11-03T16:14:43.033559Z",
     "iopub.status.busy": "2022-11-03T16:14:43.033286Z",
     "iopub.status.idle": "2022-11-03T16:14:43.047905Z",
     "shell.execute_reply": "2022-11-03T16:14:43.047064Z"
    }
   },
   "outputs": [
    {
     "data": {
      "text/plain": [
       "filetype_OWNERS            0.086928\n",
       "filetype_.yaml             0.083330\n",
       "filetype_.tmpl             0.055068\n",
       "filetype_.png              0.032950\n",
       "filetype_.json             0.026226\n",
       "filetype_OWNERS_ALIASES   -0.021935\n",
       "filetype_.txt             -0.040214\n",
       "filetype_.ipynb           -0.061531\n",
       "filetype_.md              -0.071170\n",
       "filetype_.yml             -0.115608\n",
       "dtype: float64"
      ]
     },
     "execution_count": 65,
     "metadata": {},
     "output_type": "execute_result"
    }
   ],
   "source": [
    "# compute correlation with ttm\n",
    "corr = filetype_df.corrwith(feature_df[\"ttm_class\"])\n",
    "corr.sort_values(ascending=False)"
   ]
  },
  {
   "cell_type": "code",
   "execution_count": 66,
   "id": "d5ae2981",
   "metadata": {
    "execution": {
     "iopub.execute_input": "2022-11-03T16:14:43.052888Z",
     "iopub.status.busy": "2022-11-03T16:14:43.051357Z",
     "iopub.status.idle": "2022-11-03T16:14:43.061100Z",
     "shell.execute_reply": "2022-11-03T16:14:43.060183Z"
    }
   },
   "outputs": [
    {
     "data": {
      "text/plain": [
       "filetype_.md              -0.071170\n",
       "filetype_.yaml             0.083330\n",
       "filetype_.tmpl             0.055068\n",
       "filetype_OWNERS            0.086928\n",
       "filetype_OWNERS_ALIASES   -0.021935\n",
       "filetype_.yml             -0.115608\n",
       "filetype_.png              0.032950\n",
       "filetype_.ipynb           -0.061531\n",
       "filetype_.txt             -0.040214\n",
       "filetype_.json             0.026226\n",
       "dtype: float64"
      ]
     },
     "execution_count": 66,
     "metadata": {},
     "output_type": "execute_result"
    }
   ],
   "source": [
    "corr[corr.abs() > 0.01]"
   ]
  },
  {
   "cell_type": "code",
   "execution_count": 67,
   "id": "9d5e19bd",
   "metadata": {
    "execution": {
     "iopub.execute_input": "2022-11-03T16:14:43.065095Z",
     "iopub.status.busy": "2022-11-03T16:14:43.064809Z",
     "iopub.status.idle": "2022-11-03T16:14:43.072217Z",
     "shell.execute_reply": "2022-11-03T16:14:43.071322Z"
    }
   },
   "outputs": [],
   "source": [
    "# update list of features to keep for training\n",
    "# take everything that has more than 0.01 correlation magnitude\n",
    "filetype_keep_cols = corr[corr.abs() > 0.01].index.tolist()\n",
    "selected_features += filetype_keep_cols\n",
    "\n",
    "# only keep the relevant columns now\n",
    "filetype_df = filetype_df[filetype_keep_cols]"
   ]
  },
  {
   "cell_type": "code",
   "execution_count": 68,
   "id": "2eab2fb8-ee9e-4a4e-9d2e-7629f9c56cb9",
   "metadata": {
    "execution": {
     "iopub.execute_input": "2022-11-03T16:14:43.076726Z",
     "iopub.status.busy": "2022-11-03T16:14:43.076317Z",
     "iopub.status.idle": "2022-11-03T16:14:43.084943Z",
     "shell.execute_reply": "2022-11-03T16:14:43.084029Z"
    }
   },
   "outputs": [
    {
     "data": {
      "text/plain": [
       "['.md',\n",
       " '.yaml',\n",
       " '.tmpl',\n",
       " 'OWNERS',\n",
       " 'OWNERS_ALIASES',\n",
       " '.yml',\n",
       " '.png',\n",
       " '.ipynb',\n",
       " '.txt',\n",
       " '.json']"
      ]
     },
     "execution_count": 68,
     "metadata": {},
     "output_type": "execute_result"
    }
   ],
   "source": [
    "filetype_keep_cols = [i[9:] for i in filetype_keep_cols]\n",
    "filetype_keep_cols"
   ]
  },
  {
   "cell_type": "code",
   "execution_count": 69,
   "id": "2b2da9ab-de61-44f5-91f1-a897e8f7a962",
   "metadata": {
    "execution": {
     "iopub.execute_input": "2022-11-03T16:14:43.088720Z",
     "iopub.status.busy": "2022-11-03T16:14:43.088066Z",
     "iopub.status.idle": "2022-11-03T16:14:43.094271Z",
     "shell.execute_reply": "2022-11-03T16:14:43.093069Z"
    }
   },
   "outputs": [],
   "source": [
    "filetype_keep_cols_df = pd.DataFrame(filetype_keep_cols, columns=[\"filetype\"])"
   ]
  },
  {
   "cell_type": "code",
   "execution_count": 70,
   "id": "773682ad-cda8-42ec-9275-dc611004d913",
   "metadata": {
    "execution": {
     "iopub.execute_input": "2022-11-03T16:14:43.098111Z",
     "iopub.status.busy": "2022-11-03T16:14:43.097813Z",
     "iopub.status.idle": "2022-11-03T16:14:43.105399Z",
     "shell.execute_reply": "2022-11-03T16:14:43.104482Z"
    }
   },
   "outputs": [
    {
     "data": {
      "text/html": [
       "<div>\n",
       "<style scoped>\n",
       "    .dataframe tbody tr th:only-of-type {\n",
       "        vertical-align: middle;\n",
       "    }\n",
       "\n",
       "    .dataframe tbody tr th {\n",
       "        vertical-align: top;\n",
       "    }\n",
       "\n",
       "    .dataframe thead th {\n",
       "        text-align: right;\n",
       "    }\n",
       "</style>\n",
       "<table border=\"1\" class=\"dataframe\">\n",
       "  <thead>\n",
       "    <tr style=\"text-align: right;\">\n",
       "      <th></th>\n",
       "      <th>filetype</th>\n",
       "    </tr>\n",
       "  </thead>\n",
       "  <tbody>\n",
       "    <tr>\n",
       "      <th>0</th>\n",
       "      <td>.md</td>\n",
       "    </tr>\n",
       "    <tr>\n",
       "      <th>1</th>\n",
       "      <td>.yaml</td>\n",
       "    </tr>\n",
       "    <tr>\n",
       "      <th>2</th>\n",
       "      <td>.tmpl</td>\n",
       "    </tr>\n",
       "    <tr>\n",
       "      <th>3</th>\n",
       "      <td>OWNERS</td>\n",
       "    </tr>\n",
       "    <tr>\n",
       "      <th>4</th>\n",
       "      <td>OWNERS_ALIASES</td>\n",
       "    </tr>\n",
       "    <tr>\n",
       "      <th>5</th>\n",
       "      <td>.yml</td>\n",
       "    </tr>\n",
       "    <tr>\n",
       "      <th>6</th>\n",
       "      <td>.png</td>\n",
       "    </tr>\n",
       "    <tr>\n",
       "      <th>7</th>\n",
       "      <td>.ipynb</td>\n",
       "    </tr>\n",
       "    <tr>\n",
       "      <th>8</th>\n",
       "      <td>.txt</td>\n",
       "    </tr>\n",
       "    <tr>\n",
       "      <th>9</th>\n",
       "      <td>.json</td>\n",
       "    </tr>\n",
       "  </tbody>\n",
       "</table>\n",
       "</div>"
      ],
      "text/plain": [
       "         filetype\n",
       "0             .md\n",
       "1           .yaml\n",
       "2           .tmpl\n",
       "3          OWNERS\n",
       "4  OWNERS_ALIASES\n",
       "5            .yml\n",
       "6            .png\n",
       "7          .ipynb\n",
       "8            .txt\n",
       "9           .json"
      ]
     },
     "execution_count": 70,
     "metadata": {},
     "output_type": "execute_result"
    }
   ],
   "source": [
    "filetype_keep_cols_df"
   ]
  },
  {
   "cell_type": "code",
   "execution_count": 71,
   "id": "7333e449-4e2a-42aa-b728-3f36d205ed1f",
   "metadata": {
    "execution": {
     "iopub.execute_input": "2022-11-03T16:14:43.109043Z",
     "iopub.status.busy": "2022-11-03T16:14:43.108757Z",
     "iopub.status.idle": "2022-11-03T16:14:43.576351Z",
     "shell.execute_reply": "2022-11-03T16:14:43.575443Z"
    }
   },
   "outputs": [
    {
     "data": {
      "text/plain": [
       "{'ResponseMetadata': {'RequestId': 'la19qe1q-d99v5i-1bq2',\n",
       "  'HostId': 'la19qe1q-d99v5i-1bq2',\n",
       "  'HTTPStatusCode': 200,\n",
       "  'HTTPHeaders': {'x-amz-request-id': 'la19qe1q-d99v5i-1bq2',\n",
       "   'x-amz-id-2': 'la19qe1q-d99v5i-1bq2',\n",
       "   'access-control-allow-origin': '*',\n",
       "   'access-control-allow-credentials': 'true',\n",
       "   'access-control-allow-methods': 'GET,POST,PUT,DELETE,OPTIONS',\n",
       "   'access-control-allow-headers': 'Content-Type,Content-MD5,Authorization,X-Amz-User-Agent,X-Amz-Date,ETag,X-Amz-Content-Sha256',\n",
       "   'access-control-expose-headers': 'ETag,X-Amz-Version-Id',\n",
       "   'etag': '\"d9f842798cdbf415f36d3341c52a46ff\"',\n",
       "   'date': 'Thu, 03 Nov 2022 16:14:43 GMT',\n",
       "   'keep-alive': 'timeout=5',\n",
       "   'content-length': '0',\n",
       "   'set-cookie': '1a4aa612fe797ac8466d7ee00e5520d5=a26d7dd2bae782e2ad6181b7887b5ff1; path=/; HttpOnly; Secure; SameSite=None'},\n",
       "  'RetryAttempts': 0},\n",
       " 'ETag': '\"d9f842798cdbf415f36d3341c52a46ff\"'}"
      ]
     },
     "execution_count": 71,
     "metadata": {},
     "output_type": "execute_result"
    }
   ],
   "source": [
    "FILETYPE_FEATURES_FILENAME = os.path.join(ORG + REPO + \"FILETYPE.parquet\")\n",
    "FILETYPE_FEATURES_KEY = os.path.join(s3_input_data_path, ORG, REPO, \"features\")\n",
    "cc = CephCommunication(s3_endpoint_url, s3_access_key, s3_secret_key, s3_bucket)\n",
    "cc.upload_to_ceph(\n",
    "    filetype_keep_cols_df, FILETYPE_FEATURES_KEY, FILETYPE_FEATURES_FILENAME\n",
    ")"
   ]
  },
  {
   "cell_type": "code",
   "execution_count": 72,
   "id": "618842b5",
   "metadata": {
    "execution": {
     "iopub.execute_input": "2022-11-03T16:14:43.580306Z",
     "iopub.status.busy": "2022-11-03T16:14:43.580021Z",
     "iopub.status.idle": "2022-11-03T16:14:43.597482Z",
     "shell.execute_reply": "2022-11-03T16:14:43.596539Z"
    }
   },
   "outputs": [],
   "source": [
    "# explode the list column so that there is 1 column representing frequency of each word\n",
    "title_wordcount_df = pd.DataFrame(feature_df.title_word_counts_vec.to_list())\n",
    "\n",
    "title_wordcount_df.index = feature_df.index\n",
    "title_wordcount_df.columns = [f\"title_wordcount_{w}\" for w in unique_words]"
   ]
  },
  {
   "cell_type": "code",
   "execution_count": 73,
   "id": "457f28ed",
   "metadata": {
    "execution": {
     "iopub.execute_input": "2022-11-03T16:14:43.602010Z",
     "iopub.status.busy": "2022-11-03T16:14:43.601705Z",
     "iopub.status.idle": "2022-11-03T16:14:43.686905Z",
     "shell.execute_reply": "2022-11-03T16:14:43.685702Z"
    },
    "scrolled": true
   },
   "outputs": [
    {
     "data": {
      "text/plain": [
       "title_wordcount_charter      0.226946\n",
       "title_wordcount_minor        0.220399\n",
       "title_wordcount_details      0.220399\n",
       "title_wordcount_docs         0.214462\n",
       "title_wordcount_services     0.201012\n",
       "                               ...   \n",
       "title_wordcount_create      -0.228105\n",
       "title_wordcount_office      -0.246104\n",
       "title_wordcount_hours       -0.246104\n",
       "title_wordcount_gitaction   -0.246104\n",
       "title_wordcount_path        -0.246104\n",
       "Length: 228, dtype: float64"
      ]
     },
     "execution_count": 73,
     "metadata": {},
     "output_type": "execute_result"
    }
   ],
   "source": [
    "# compute correlation with ttm\n",
    "corr = title_wordcount_df.corrwith(feature_df[\"ttm_class\"])\n",
    "corr = corr.dropna()\n",
    "corr.sort_values(ascending=False)"
   ]
  },
  {
   "cell_type": "code",
   "execution_count": 74,
   "id": "0f1495a6",
   "metadata": {
    "execution": {
     "iopub.execute_input": "2022-11-03T16:14:43.691185Z",
     "iopub.status.busy": "2022-11-03T16:14:43.690872Z",
     "iopub.status.idle": "2022-11-03T16:14:43.698492Z",
     "shell.execute_reply": "2022-11-03T16:14:43.697571Z"
    }
   },
   "outputs": [
    {
     "data": {
      "text/plain": [
       "title_wordcount_19_meeting       -0.139874\n",
       "title_wordcount_26_meeting       -0.139874\n",
       "title_wordcount_@margarethaley   -0.040214\n",
       "title_wordcount_action           -0.104408\n",
       "title_wordcount_actions          -0.139874\n",
       "                                    ...   \n",
       "title_wordcount_weekly           -0.106654\n",
       "title_wordcount_whitespace       -0.073434\n",
       "title_wordcount_word              0.092666\n",
       "title_wordcount_wording          -0.173094\n",
       "title_wordcount_workload          0.059446\n",
       "Length: 180, dtype: float64"
      ]
     },
     "execution_count": 74,
     "metadata": {},
     "output_type": "execute_result"
    }
   ],
   "source": [
    "corr[corr.abs() > 0.04]"
   ]
  },
  {
   "cell_type": "code",
   "execution_count": 75,
   "id": "624b3504",
   "metadata": {
    "execution": {
     "iopub.execute_input": "2022-11-03T16:14:43.702756Z",
     "iopub.status.busy": "2022-11-03T16:14:43.702462Z",
     "iopub.status.idle": "2022-11-03T16:14:43.709896Z",
     "shell.execute_reply": "2022-11-03T16:14:43.708946Z"
    }
   },
   "outputs": [],
   "source": [
    "# update list of features to keep for training\n",
    "# take everything that has more than 0.01 correlation magnitude\n",
    "title_word_keep_cols = corr[corr.abs() > 0.04].index.tolist()\n",
    "selected_features += title_word_keep_cols\n",
    "\n",
    "title_wordcount_df = title_wordcount_df[title_word_keep_cols]"
   ]
  },
  {
   "cell_type": "code",
   "execution_count": 76,
   "id": "45cd6a78-361c-444f-8065-4127f2e29313",
   "metadata": {
    "execution": {
     "iopub.execute_input": "2022-11-03T16:14:43.713494Z",
     "iopub.status.busy": "2022-11-03T16:14:43.713149Z",
     "iopub.status.idle": "2022-11-03T16:14:43.723734Z",
     "shell.execute_reply": "2022-11-03T16:14:43.722815Z"
    }
   },
   "outputs": [
    {
     "data": {
      "text/plain": [
       "['19_meeting',\n",
       " '26_meeting',\n",
       " '@margarethaley',\n",
       " 'action',\n",
       " 'actions',\n",
       " 'add',\n",
       " 'added',\n",
       " 'adding',\n",
       " 'addition',\n",
       " 'airgapped',\n",
       " 'analysis',\n",
       " 'approach',\n",
       " 'around',\n",
       " 'bad',\n",
       " 'bi',\n",
       " 'build',\n",
       " 'calendar',\n",
       " 'carlosgimeno',\n",
       " 'catalog',\n",
       " 'change',\n",
       " 'changes',\n",
       " 'charter',\n",
       " 'checklist',\n",
       " 'chore',\n",
       " 'clarity',\n",
       " 'cleanup',\n",
       " 'cluster',\n",
       " 'commit',\n",
       " 'complete',\n",
       " 'completion',\n",
       " 'context',\n",
       " 'contrib_x',\n",
       " 'contributors',\n",
       " 'corrections',\n",
       " 'create',\n",
       " 'created',\n",
       " 'creation',\n",
       " 'curator',\n",
       " 'definition',\n",
       " 'dependencies',\n",
       " 'details',\n",
       " 'dir',\n",
       " 'directory',\n",
       " 'discussion',\n",
       " 'docs',\n",
       " 'document',\n",
       " 'ds',\n",
       " 'dynamics',\n",
       " 'errors',\n",
       " 'evolving',\n",
       " 'faq',\n",
       " 'favico',\n",
       " 'feat',\n",
       " 'file',\n",
       " 'files',\n",
       " 'first',\n",
       " 'fix',\n",
       " 'fixed',\n",
       " 'fixes',\n",
       " 'fixing',\n",
       " 'follow',\n",
       " 'forgotten',\n",
       " 'forming',\n",
       " 'fybrik',\n",
       " 'gap',\n",
       " 'generator',\n",
       " 'git',\n",
       " 'gitaction',\n",
       " 'github',\n",
       " 'give',\n",
       " 'governance',\n",
       " 'group',\n",
       " 'groups',\n",
       " 'guide',\n",
       " 'hacking',\n",
       " 'highlighting',\n",
       " 'hours',\n",
       " 'inclusive',\n",
       " 'interactions',\n",
       " 'internal_contributors',\n",
       " 'jbook',\n",
       " 'july',\n",
       " 'jupyterbook',\n",
       " 'kickoff',\n",
       " 'language',\n",
       " 'legal',\n",
       " 'limit',\n",
       " 'link',\n",
       " 'linking',\n",
       " 'logo',\n",
       " 'longer',\n",
       " 'md',\n",
       " 'media',\n",
       " 'meeting',\n",
       " 'meetup',\n",
       " 'merge',\n",
       " 'messages',\n",
       " 'metrics',\n",
       " 'minor',\n",
       " 'must',\n",
       " 'naming',\n",
       " 'nb',\n",
       " 'needed',\n",
       " 'new',\n",
       " 'nodes',\n",
       " 'notes',\n",
       " 'odh',\n",
       " 'office',\n",
       " 'officially',\n",
       " 'open',\n",
       " 'opened',\n",
       " 'opening',\n",
       " 'opensourcing',\n",
       " 'operate',\n",
       " 'operations',\n",
       " 'opf',\n",
       " 'ops',\n",
       " 'osc',\n",
       " 'osg',\n",
       " 'overview',\n",
       " 'path',\n",
       " 'pebbles',\n",
       " 'persona',\n",
       " 'personas',\n",
       " 'perspective',\n",
       " 'planning',\n",
       " 'pr',\n",
       " 'pre',\n",
       " 'previous',\n",
       " 'project',\n",
       " 'proposal',\n",
       " 'prowjobs',\n",
       " 'pub',\n",
       " 'quaid',\n",
       " 'readme',\n",
       " 'reason',\n",
       " 'reflecting',\n",
       " 'rename',\n",
       " 'repost',\n",
       " 'requirements',\n",
       " 'resource',\n",
       " 'revert',\n",
       " 'reviewer',\n",
       " 'running',\n",
       " 'science',\n",
       " 'service',\n",
       " 'services',\n",
       " 'sig',\n",
       " 'slack',\n",
       " 'social',\n",
       " 'source',\n",
       " 'stage',\n",
       " 'starter',\n",
       " 'status',\n",
       " 'strawpond',\n",
       " 'structure',\n",
       " 'sub',\n",
       " 'subprojects',\n",
       " 'template',\n",
       " 'test',\n",
       " 'tests',\n",
       " 'throwing',\n",
       " 'trailing',\n",
       " 'transfer',\n",
       " 'typo',\n",
       " 'typos',\n",
       " 'update',\n",
       " 'updated',\n",
       " 'updates',\n",
       " 'use',\n",
       " 'var',\n",
       " 'via',\n",
       " 'watercooler',\n",
       " 'website',\n",
       " 'week',\n",
       " 'weekly',\n",
       " 'whitespace',\n",
       " 'word',\n",
       " 'wording',\n",
       " 'workload']"
      ]
     },
     "execution_count": 76,
     "metadata": {},
     "output_type": "execute_result"
    }
   ],
   "source": [
    "title_word_keep_cols = [i[16:] for i in title_word_keep_cols]\n",
    "title_word_keep_cols"
   ]
  },
  {
   "cell_type": "code",
   "execution_count": 77,
   "id": "8b937135-f983-4d6c-961e-f9c7158d108c",
   "metadata": {
    "execution": {
     "iopub.execute_input": "2022-11-03T16:14:43.727688Z",
     "iopub.status.busy": "2022-11-03T16:14:43.727366Z",
     "iopub.status.idle": "2022-11-03T16:14:43.733392Z",
     "shell.execute_reply": "2022-11-03T16:14:43.732491Z"
    }
   },
   "outputs": [],
   "source": [
    "title_word_keep_cols_df = pd.DataFrame(title_word_keep_cols, columns=[\"title\"])"
   ]
  },
  {
   "cell_type": "code",
   "execution_count": 78,
   "id": "63f382a4-5826-4d65-aa9f-5f3b56f1aad9",
   "metadata": {
    "execution": {
     "iopub.execute_input": "2022-11-03T16:14:43.737017Z",
     "iopub.status.busy": "2022-11-03T16:14:43.736709Z",
     "iopub.status.idle": "2022-11-03T16:14:43.748281Z",
     "shell.execute_reply": "2022-11-03T16:14:43.747360Z"
    }
   },
   "outputs": [
    {
     "data": {
      "text/html": [
       "<div>\n",
       "<style scoped>\n",
       "    .dataframe tbody tr th:only-of-type {\n",
       "        vertical-align: middle;\n",
       "    }\n",
       "\n",
       "    .dataframe tbody tr th {\n",
       "        vertical-align: top;\n",
       "    }\n",
       "\n",
       "    .dataframe thead th {\n",
       "        text-align: right;\n",
       "    }\n",
       "</style>\n",
       "<table border=\"1\" class=\"dataframe\">\n",
       "  <thead>\n",
       "    <tr style=\"text-align: right;\">\n",
       "      <th></th>\n",
       "      <th>title</th>\n",
       "    </tr>\n",
       "  </thead>\n",
       "  <tbody>\n",
       "    <tr>\n",
       "      <th>0</th>\n",
       "      <td>19_meeting</td>\n",
       "    </tr>\n",
       "    <tr>\n",
       "      <th>1</th>\n",
       "      <td>26_meeting</td>\n",
       "    </tr>\n",
       "    <tr>\n",
       "      <th>2</th>\n",
       "      <td>@margarethaley</td>\n",
       "    </tr>\n",
       "    <tr>\n",
       "      <th>3</th>\n",
       "      <td>action</td>\n",
       "    </tr>\n",
       "    <tr>\n",
       "      <th>4</th>\n",
       "      <td>actions</td>\n",
       "    </tr>\n",
       "    <tr>\n",
       "      <th>...</th>\n",
       "      <td>...</td>\n",
       "    </tr>\n",
       "    <tr>\n",
       "      <th>175</th>\n",
       "      <td>weekly</td>\n",
       "    </tr>\n",
       "    <tr>\n",
       "      <th>176</th>\n",
       "      <td>whitespace</td>\n",
       "    </tr>\n",
       "    <tr>\n",
       "      <th>177</th>\n",
       "      <td>word</td>\n",
       "    </tr>\n",
       "    <tr>\n",
       "      <th>178</th>\n",
       "      <td>wording</td>\n",
       "    </tr>\n",
       "    <tr>\n",
       "      <th>179</th>\n",
       "      <td>workload</td>\n",
       "    </tr>\n",
       "  </tbody>\n",
       "</table>\n",
       "<p>180 rows × 1 columns</p>\n",
       "</div>"
      ],
      "text/plain": [
       "              title\n",
       "0        19_meeting\n",
       "1        26_meeting\n",
       "2    @margarethaley\n",
       "3            action\n",
       "4           actions\n",
       "..              ...\n",
       "175          weekly\n",
       "176      whitespace\n",
       "177            word\n",
       "178         wording\n",
       "179        workload\n",
       "\n",
       "[180 rows x 1 columns]"
      ]
     },
     "execution_count": 78,
     "metadata": {},
     "output_type": "execute_result"
    }
   ],
   "source": [
    "title_word_keep_cols_df"
   ]
  },
  {
   "cell_type": "code",
   "execution_count": 79,
   "id": "2c67ed79-0555-4f0d-9557-3e6d335baeac",
   "metadata": {
    "execution": {
     "iopub.execute_input": "2022-11-03T16:14:43.752270Z",
     "iopub.status.busy": "2022-11-03T16:14:43.751734Z",
     "iopub.status.idle": "2022-11-03T16:14:44.222233Z",
     "shell.execute_reply": "2022-11-03T16:14:44.221197Z"
    }
   },
   "outputs": [
    {
     "data": {
      "text/plain": [
       "{'ResponseMetadata': {'RequestId': 'la19qeja-76h8zj-16r4',\n",
       "  'HostId': 'la19qeja-76h8zj-16r4',\n",
       "  'HTTPStatusCode': 200,\n",
       "  'HTTPHeaders': {'x-amz-request-id': 'la19qeja-76h8zj-16r4',\n",
       "   'x-amz-id-2': 'la19qeja-76h8zj-16r4',\n",
       "   'access-control-allow-origin': '*',\n",
       "   'access-control-allow-credentials': 'true',\n",
       "   'access-control-allow-methods': 'GET,POST,PUT,DELETE,OPTIONS',\n",
       "   'access-control-allow-headers': 'Content-Type,Content-MD5,Authorization,X-Amz-User-Agent,X-Amz-Date,ETag,X-Amz-Content-Sha256',\n",
       "   'access-control-expose-headers': 'ETag,X-Amz-Version-Id',\n",
       "   'etag': '\"d91a1be29bd123bfe44bb328b9092daf\"',\n",
       "   'date': 'Thu, 03 Nov 2022 16:14:44 GMT',\n",
       "   'keep-alive': 'timeout=5',\n",
       "   'content-length': '0',\n",
       "   'set-cookie': '1a4aa612fe797ac8466d7ee00e5520d5=a26d7dd2bae782e2ad6181b7887b5ff1; path=/; HttpOnly; Secure; SameSite=None'},\n",
       "  'RetryAttempts': 0},\n",
       " 'ETag': '\"d91a1be29bd123bfe44bb328b9092daf\"'}"
      ]
     },
     "execution_count": 79,
     "metadata": {},
     "output_type": "execute_result"
    }
   ],
   "source": [
    "TITLE_FEATURES_FILENAME = os.path.join(ORG + REPO + \"titlewords.parquet\")\n",
    "TITLE_FEATURES_KEY = os.path.join(s3_input_data_path, ORG, REPO, \"features\")\n",
    "cc = CephCommunication(s3_endpoint_url, s3_access_key, s3_secret_key, s3_bucket)\n",
    "cc.upload_to_ceph(title_word_keep_cols_df, TITLE_FEATURES_KEY, TITLE_FEATURES_FILENAME)"
   ]
  },
  {
   "cell_type": "markdown",
   "id": "105e4b18",
   "metadata": {},
   "source": [
    "Using various feature importance scores such as chi-squared, mutual information statistic, correlation values, we have selected the most relevant features amongst all of our features. "
   ]
  },
  {
   "cell_type": "code",
   "execution_count": 80,
   "id": "4cdafdae",
   "metadata": {
    "execution": {
     "iopub.execute_input": "2022-11-03T16:14:44.226552Z",
     "iopub.status.busy": "2022-11-03T16:14:44.225975Z",
     "iopub.status.idle": "2022-11-03T16:14:44.233994Z",
     "shell.execute_reply": "2022-11-03T16:14:44.233121Z"
    },
    "tags": []
   },
   "outputs": [
    {
     "data": {
      "text/plain": [
       "['size',\n",
       " 'created_at_day',\n",
       " 'created_at_month',\n",
       " 'created_at_weekday',\n",
       " 'created_at_hour',\n",
       " 'changed_files_number',\n",
       " 'body_size',\n",
       " 'commits_number',\n",
       " 'filetype_.md',\n",
       " 'filetype_.yaml',\n",
       " 'filetype_.tmpl',\n",
       " 'filetype_OWNERS',\n",
       " 'filetype_OWNERS_ALIASES',\n",
       " 'filetype_.yml',\n",
       " 'filetype_.png',\n",
       " 'filetype_.ipynb',\n",
       " 'filetype_.txt',\n",
       " 'filetype_.json',\n",
       " 'title_wordcount_19_meeting',\n",
       " 'title_wordcount_26_meeting',\n",
       " 'title_wordcount_@margarethaley',\n",
       " 'title_wordcount_action',\n",
       " 'title_wordcount_actions',\n",
       " 'title_wordcount_add',\n",
       " 'title_wordcount_added',\n",
       " 'title_wordcount_adding',\n",
       " 'title_wordcount_addition',\n",
       " 'title_wordcount_airgapped',\n",
       " 'title_wordcount_analysis',\n",
       " 'title_wordcount_approach',\n",
       " 'title_wordcount_around',\n",
       " 'title_wordcount_bad',\n",
       " 'title_wordcount_bi',\n",
       " 'title_wordcount_build',\n",
       " 'title_wordcount_calendar',\n",
       " 'title_wordcount_carlosgimeno',\n",
       " 'title_wordcount_catalog',\n",
       " 'title_wordcount_change',\n",
       " 'title_wordcount_changes',\n",
       " 'title_wordcount_charter',\n",
       " 'title_wordcount_checklist',\n",
       " 'title_wordcount_chore',\n",
       " 'title_wordcount_clarity',\n",
       " 'title_wordcount_cleanup',\n",
       " 'title_wordcount_cluster',\n",
       " 'title_wordcount_commit',\n",
       " 'title_wordcount_complete',\n",
       " 'title_wordcount_completion',\n",
       " 'title_wordcount_context',\n",
       " 'title_wordcount_contrib_x',\n",
       " 'title_wordcount_contributors',\n",
       " 'title_wordcount_corrections',\n",
       " 'title_wordcount_create',\n",
       " 'title_wordcount_created',\n",
       " 'title_wordcount_creation',\n",
       " 'title_wordcount_curator',\n",
       " 'title_wordcount_definition',\n",
       " 'title_wordcount_dependencies',\n",
       " 'title_wordcount_details',\n",
       " 'title_wordcount_dir',\n",
       " 'title_wordcount_directory',\n",
       " 'title_wordcount_discussion',\n",
       " 'title_wordcount_docs',\n",
       " 'title_wordcount_document',\n",
       " 'title_wordcount_ds',\n",
       " 'title_wordcount_dynamics',\n",
       " 'title_wordcount_errors',\n",
       " 'title_wordcount_evolving',\n",
       " 'title_wordcount_faq',\n",
       " 'title_wordcount_favico',\n",
       " 'title_wordcount_feat',\n",
       " 'title_wordcount_file',\n",
       " 'title_wordcount_files',\n",
       " 'title_wordcount_first',\n",
       " 'title_wordcount_fix',\n",
       " 'title_wordcount_fixed',\n",
       " 'title_wordcount_fixes',\n",
       " 'title_wordcount_fixing',\n",
       " 'title_wordcount_follow',\n",
       " 'title_wordcount_forgotten',\n",
       " 'title_wordcount_forming',\n",
       " 'title_wordcount_fybrik',\n",
       " 'title_wordcount_gap',\n",
       " 'title_wordcount_generator',\n",
       " 'title_wordcount_git',\n",
       " 'title_wordcount_gitaction',\n",
       " 'title_wordcount_github',\n",
       " 'title_wordcount_give',\n",
       " 'title_wordcount_governance',\n",
       " 'title_wordcount_group',\n",
       " 'title_wordcount_groups',\n",
       " 'title_wordcount_guide',\n",
       " 'title_wordcount_hacking',\n",
       " 'title_wordcount_highlighting',\n",
       " 'title_wordcount_hours',\n",
       " 'title_wordcount_inclusive',\n",
       " 'title_wordcount_interactions',\n",
       " 'title_wordcount_internal_contributors',\n",
       " 'title_wordcount_jbook',\n",
       " 'title_wordcount_july',\n",
       " 'title_wordcount_jupyterbook',\n",
       " 'title_wordcount_kickoff',\n",
       " 'title_wordcount_language',\n",
       " 'title_wordcount_legal',\n",
       " 'title_wordcount_limit',\n",
       " 'title_wordcount_link',\n",
       " 'title_wordcount_linking',\n",
       " 'title_wordcount_logo',\n",
       " 'title_wordcount_longer',\n",
       " 'title_wordcount_md',\n",
       " 'title_wordcount_media',\n",
       " 'title_wordcount_meeting',\n",
       " 'title_wordcount_meetup',\n",
       " 'title_wordcount_merge',\n",
       " 'title_wordcount_messages',\n",
       " 'title_wordcount_metrics',\n",
       " 'title_wordcount_minor',\n",
       " 'title_wordcount_must',\n",
       " 'title_wordcount_naming',\n",
       " 'title_wordcount_nb',\n",
       " 'title_wordcount_needed',\n",
       " 'title_wordcount_new',\n",
       " 'title_wordcount_nodes',\n",
       " 'title_wordcount_notes',\n",
       " 'title_wordcount_odh',\n",
       " 'title_wordcount_office',\n",
       " 'title_wordcount_officially',\n",
       " 'title_wordcount_open',\n",
       " 'title_wordcount_opened',\n",
       " 'title_wordcount_opening',\n",
       " 'title_wordcount_opensourcing',\n",
       " 'title_wordcount_operate',\n",
       " 'title_wordcount_operations',\n",
       " 'title_wordcount_opf',\n",
       " 'title_wordcount_ops',\n",
       " 'title_wordcount_osc',\n",
       " 'title_wordcount_osg',\n",
       " 'title_wordcount_overview',\n",
       " 'title_wordcount_path',\n",
       " 'title_wordcount_pebbles',\n",
       " 'title_wordcount_persona',\n",
       " 'title_wordcount_personas',\n",
       " 'title_wordcount_perspective',\n",
       " 'title_wordcount_planning',\n",
       " 'title_wordcount_pr',\n",
       " 'title_wordcount_pre',\n",
       " 'title_wordcount_previous',\n",
       " 'title_wordcount_project',\n",
       " 'title_wordcount_proposal',\n",
       " 'title_wordcount_prowjobs',\n",
       " 'title_wordcount_pub',\n",
       " 'title_wordcount_quaid',\n",
       " 'title_wordcount_readme',\n",
       " 'title_wordcount_reason',\n",
       " 'title_wordcount_reflecting',\n",
       " 'title_wordcount_rename',\n",
       " 'title_wordcount_repost',\n",
       " 'title_wordcount_requirements',\n",
       " 'title_wordcount_resource',\n",
       " 'title_wordcount_revert',\n",
       " 'title_wordcount_reviewer',\n",
       " 'title_wordcount_running',\n",
       " 'title_wordcount_science',\n",
       " 'title_wordcount_service',\n",
       " 'title_wordcount_services',\n",
       " 'title_wordcount_sig',\n",
       " 'title_wordcount_slack',\n",
       " 'title_wordcount_social',\n",
       " 'title_wordcount_source',\n",
       " 'title_wordcount_stage',\n",
       " 'title_wordcount_starter',\n",
       " 'title_wordcount_status',\n",
       " 'title_wordcount_strawpond',\n",
       " 'title_wordcount_structure',\n",
       " 'title_wordcount_sub',\n",
       " 'title_wordcount_subprojects',\n",
       " 'title_wordcount_template',\n",
       " 'title_wordcount_test',\n",
       " 'title_wordcount_tests',\n",
       " 'title_wordcount_throwing',\n",
       " 'title_wordcount_trailing',\n",
       " 'title_wordcount_transfer',\n",
       " 'title_wordcount_typo',\n",
       " 'title_wordcount_typos',\n",
       " 'title_wordcount_update',\n",
       " 'title_wordcount_updated',\n",
       " 'title_wordcount_updates',\n",
       " 'title_wordcount_use',\n",
       " 'title_wordcount_var',\n",
       " 'title_wordcount_via',\n",
       " 'title_wordcount_watercooler',\n",
       " 'title_wordcount_website',\n",
       " 'title_wordcount_week',\n",
       " 'title_wordcount_weekly',\n",
       " 'title_wordcount_whitespace',\n",
       " 'title_wordcount_word',\n",
       " 'title_wordcount_wording',\n",
       " 'title_wordcount_workload']"
      ]
     },
     "execution_count": 80,
     "metadata": {},
     "output_type": "execute_result"
    }
   ],
   "source": [
    "selected_features"
   ]
  },
  {
   "cell_type": "markdown",
   "id": "ddda4924",
   "metadata": {},
   "source": [
    "## Save Feature Engineered Dataset"
   ]
  },
  {
   "cell_type": "code",
   "execution_count": 81,
   "id": "894941f7-9815-44af-867a-9e206502cd7a",
   "metadata": {
    "execution": {
     "iopub.execute_input": "2022-11-03T16:14:44.237708Z",
     "iopub.status.busy": "2022-11-03T16:14:44.237405Z",
     "iopub.status.idle": "2022-11-03T16:14:44.259071Z",
     "shell.execute_reply": "2022-11-03T16:14:44.258066Z"
    }
   },
   "outputs": [
    {
     "data": {
      "text/html": [
       "<div>\n",
       "<style scoped>\n",
       "    .dataframe tbody tr th:only-of-type {\n",
       "        vertical-align: middle;\n",
       "    }\n",
       "\n",
       "    .dataframe tbody tr th {\n",
       "        vertical-align: top;\n",
       "    }\n",
       "\n",
       "    .dataframe thead th {\n",
       "        text-align: right;\n",
       "    }\n",
       "</style>\n",
       "<table border=\"1\" class=\"dataframe\">\n",
       "  <thead>\n",
       "    <tr style=\"text-align: right;\">\n",
       "      <th></th>\n",
       "      <th>size</th>\n",
       "      <th>created_at_day</th>\n",
       "      <th>created_at_month</th>\n",
       "      <th>created_at_weekday</th>\n",
       "      <th>created_at_hour</th>\n",
       "      <th>changed_files_number</th>\n",
       "      <th>body_size</th>\n",
       "      <th>commits_number</th>\n",
       "      <th>filetype_.md</th>\n",
       "      <th>filetype_.yaml</th>\n",
       "      <th>...</th>\n",
       "      <th>title_wordcount_watercooler</th>\n",
       "      <th>title_wordcount_website</th>\n",
       "      <th>title_wordcount_week</th>\n",
       "      <th>title_wordcount_weekly</th>\n",
       "      <th>title_wordcount_whitespace</th>\n",
       "      <th>title_wordcount_word</th>\n",
       "      <th>title_wordcount_wording</th>\n",
       "      <th>title_wordcount_workload</th>\n",
       "      <th>ttm_class</th>\n",
       "      <th>time_to_merge</th>\n",
       "    </tr>\n",
       "  </thead>\n",
       "  <tbody>\n",
       "    <tr>\n",
       "      <th>0</th>\n",
       "      <td>0</td>\n",
       "      <td>21</td>\n",
       "      <td>10</td>\n",
       "      <td>4</td>\n",
       "      <td>18</td>\n",
       "      <td>2</td>\n",
       "      <td>2</td>\n",
       "      <td>1</td>\n",
       "      <td>0</td>\n",
       "      <td>0</td>\n",
       "      <td>...</td>\n",
       "      <td>0</td>\n",
       "      <td>0</td>\n",
       "      <td>0</td>\n",
       "      <td>0</td>\n",
       "      <td>0</td>\n",
       "      <td>0</td>\n",
       "      <td>0</td>\n",
       "      <td>0</td>\n",
       "      <td>9</td>\n",
       "      <td>NaN</td>\n",
       "    </tr>\n",
       "    <tr>\n",
       "      <th>1</th>\n",
       "      <td>1</td>\n",
       "      <td>10</td>\n",
       "      <td>10</td>\n",
       "      <td>0</td>\n",
       "      <td>14</td>\n",
       "      <td>1</td>\n",
       "      <td>0</td>\n",
       "      <td>2</td>\n",
       "      <td>0</td>\n",
       "      <td>0</td>\n",
       "      <td>...</td>\n",
       "      <td>0</td>\n",
       "      <td>0</td>\n",
       "      <td>0</td>\n",
       "      <td>0</td>\n",
       "      <td>0</td>\n",
       "      <td>0</td>\n",
       "      <td>0</td>\n",
       "      <td>0</td>\n",
       "      <td>2</td>\n",
       "      <td>476.0</td>\n",
       "    </tr>\n",
       "    <tr>\n",
       "      <th>2</th>\n",
       "      <td>0</td>\n",
       "      <td>10</td>\n",
       "      <td>10</td>\n",
       "      <td>0</td>\n",
       "      <td>11</td>\n",
       "      <td>1</td>\n",
       "      <td>0</td>\n",
       "      <td>1</td>\n",
       "      <td>1</td>\n",
       "      <td>0</td>\n",
       "      <td>...</td>\n",
       "      <td>0</td>\n",
       "      <td>0</td>\n",
       "      <td>0</td>\n",
       "      <td>0</td>\n",
       "      <td>1</td>\n",
       "      <td>0</td>\n",
       "      <td>0</td>\n",
       "      <td>0</td>\n",
       "      <td>3</td>\n",
       "      <td>7081.0</td>\n",
       "    </tr>\n",
       "    <tr>\n",
       "      <th>3</th>\n",
       "      <td>0</td>\n",
       "      <td>6</td>\n",
       "      <td>10</td>\n",
       "      <td>3</td>\n",
       "      <td>18</td>\n",
       "      <td>0</td>\n",
       "      <td>0</td>\n",
       "      <td>0</td>\n",
       "      <td>0</td>\n",
       "      <td>0</td>\n",
       "      <td>...</td>\n",
       "      <td>0</td>\n",
       "      <td>0</td>\n",
       "      <td>0</td>\n",
       "      <td>0</td>\n",
       "      <td>0</td>\n",
       "      <td>0</td>\n",
       "      <td>0</td>\n",
       "      <td>0</td>\n",
       "      <td>9</td>\n",
       "      <td>NaN</td>\n",
       "    </tr>\n",
       "    <tr>\n",
       "      <th>4</th>\n",
       "      <td>2</td>\n",
       "      <td>6</td>\n",
       "      <td>10</td>\n",
       "      <td>3</td>\n",
       "      <td>17</td>\n",
       "      <td>1</td>\n",
       "      <td>0</td>\n",
       "      <td>1</td>\n",
       "      <td>1</td>\n",
       "      <td>0</td>\n",
       "      <td>...</td>\n",
       "      <td>0</td>\n",
       "      <td>0</td>\n",
       "      <td>0</td>\n",
       "      <td>0</td>\n",
       "      <td>0</td>\n",
       "      <td>0</td>\n",
       "      <td>0</td>\n",
       "      <td>0</td>\n",
       "      <td>5</td>\n",
       "      <td>68588.0</td>\n",
       "    </tr>\n",
       "  </tbody>\n",
       "</table>\n",
       "<p>5 rows × 200 columns</p>\n",
       "</div>"
      ],
      "text/plain": [
       "   size  created_at_day  created_at_month  created_at_weekday  \\\n",
       "0     0              21                10                   4   \n",
       "1     1              10                10                   0   \n",
       "2     0              10                10                   0   \n",
       "3     0               6                10                   3   \n",
       "4     2               6                10                   3   \n",
       "\n",
       "   created_at_hour  changed_files_number  body_size  commits_number  \\\n",
       "0               18                     2          2               1   \n",
       "1               14                     1          0               2   \n",
       "2               11                     1          0               1   \n",
       "3               18                     0          0               0   \n",
       "4               17                     1          0               1   \n",
       "\n",
       "   filetype_.md  filetype_.yaml  ...  title_wordcount_watercooler  \\\n",
       "0             0               0  ...                            0   \n",
       "1             0               0  ...                            0   \n",
       "2             1               0  ...                            0   \n",
       "3             0               0  ...                            0   \n",
       "4             1               0  ...                            0   \n",
       "\n",
       "   title_wordcount_website  title_wordcount_week  title_wordcount_weekly  \\\n",
       "0                        0                     0                       0   \n",
       "1                        0                     0                       0   \n",
       "2                        0                     0                       0   \n",
       "3                        0                     0                       0   \n",
       "4                        0                     0                       0   \n",
       "\n",
       "   title_wordcount_whitespace  title_wordcount_word  title_wordcount_wording  \\\n",
       "0                           0                     0                        0   \n",
       "1                           0                     0                        0   \n",
       "2                           1                     0                        0   \n",
       "3                           0                     0                        0   \n",
       "4                           0                     0                        0   \n",
       "\n",
       "   title_wordcount_workload  ttm_class  time_to_merge  \n",
       "0                         0          9            NaN  \n",
       "1                         0          2          476.0  \n",
       "2                         0          3         7081.0  \n",
       "3                         0          9            NaN  \n",
       "4                         0          5        68588.0  \n",
       "\n",
       "[5 rows x 200 columns]"
      ]
     },
     "execution_count": 81,
     "metadata": {},
     "output_type": "execute_result"
    }
   ],
   "source": [
    "# join all types of features\n",
    "ttm_dataset = pd.concat(\n",
    "    [feature_df, filetype_df, title_wordcount_df], axis=1, ignore_index=False\n",
    ")\n",
    "\n",
    "# keep only the selected features and the prediction label\n",
    "ttm_dataset = ttm_dataset[selected_features + [\"ttm_class\", \"time_to_merge\"]]\n",
    "\n",
    "ttm_dataset.head()"
   ]
  },
  {
   "cell_type": "code",
   "execution_count": 82,
   "id": "4fd9e422-eaf1-4c80-9375-5d71ac985171",
   "metadata": {
    "execution": {
     "iopub.execute_input": "2022-11-03T16:14:44.263270Z",
     "iopub.status.busy": "2022-11-03T16:14:44.262908Z",
     "iopub.status.idle": "2022-11-03T16:14:44.280661Z",
     "shell.execute_reply": "2022-11-03T16:14:44.279747Z"
    }
   },
   "outputs": [
    {
     "name": "stdout",
     "output_type": "stream",
     "text": [
      "<class 'pandas.core.frame.DataFrame'>\n",
      "RangeIndex: 95 entries, 0 to 94\n",
      "Columns: 200 entries, size to time_to_merge\n",
      "dtypes: float64(1), int64(199)\n",
      "memory usage: 148.6 KB\n"
     ]
    }
   ],
   "source": [
    "ttm_dataset.info()"
   ]
  },
  {
   "cell_type": "markdown",
   "id": "4a949795",
   "metadata": {},
   "source": [
    "## Save results to Ceph or locally\n",
    "\n",
    "Using the helper function to save the data frame in a parquet format on the Ceph bucket if we are running in automation, and locally if not."
   ]
  },
  {
   "cell_type": "code",
   "execution_count": 83,
   "id": "ecd03940-1b27-4472-ae97-469a4ad8a25a",
   "metadata": {
    "execution": {
     "iopub.execute_input": "2022-11-03T16:14:44.286228Z",
     "iopub.status.busy": "2022-11-03T16:14:44.285746Z",
     "iopub.status.idle": "2022-11-03T16:14:44.290056Z",
     "shell.execute_reply": "2022-11-03T16:14:44.289160Z"
    }
   },
   "outputs": [],
   "source": [
    "TTM_DATASET_PATH = os.path.join(s3_input_data_path, ORG, REPO)"
   ]
  },
  {
   "cell_type": "code",
   "execution_count": 84,
   "id": "adfdfb1b",
   "metadata": {
    "execution": {
     "iopub.execute_input": "2022-11-03T16:14:44.294251Z",
     "iopub.status.busy": "2022-11-03T16:14:44.293763Z",
     "iopub.status.idle": "2022-11-03T16:14:45.036509Z",
     "shell.execute_reply": "2022-11-03T16:14:45.035472Z"
    }
   },
   "outputs": [],
   "source": [
    "## Sanity check to see if the dataset is the same\n",
    "\n",
    "if REMOTE:\n",
    "    cc = CephCommunication(s3_endpoint_url, s3_access_key, s3_secret_key, s3_bucket)\n",
    "    try:\n",
    "        cc.upload_to_ceph(\n",
    "            ttm_dataset,\n",
    "            TTM_DATASET_PATH,\n",
    "            \"ttm_feature_engineered_dataset.parquet\",\n",
    "        )\n",
    "    except ValueError as ve:\n",
    "        print(ve)\n",
    "        print(\"Files already uploaded to S3\")\n",
    "\n",
    "else:\n",
    "    save_to_disk(\n",
    "        ttm_dataset,\n",
    "        local_output_data_path,\n",
    "        \"ttm_dataset.parquet\",\n",
    "    )"
   ]
  },
  {
   "cell_type": "markdown",
   "id": "2cbcdde4-d2f2-418c-9143-c32e48faf29d",
   "metadata": {},
   "source": [
    "### Check contents of the S3 bucket so far"
   ]
  },
  {
   "cell_type": "code",
   "execution_count": 85,
   "id": "c6006c47-ea07-45a3-95e7-48e13910d4af",
   "metadata": {
    "execution": {
     "iopub.execute_input": "2022-11-03T16:14:45.040791Z",
     "iopub.status.busy": "2022-11-03T16:14:45.040486Z",
     "iopub.status.idle": "2022-11-03T16:15:02.031028Z",
     "shell.execute_reply": "2022-11-03T16:15:02.029851Z"
    }
   },
   "outputs": [
    {
     "data": {
      "text/plain": [
       "[s3.ObjectSummary(bucket_name='opf-datacatalog', key='nov3/operate-first/community/features/operate-firstcommunityFILETYPE.parquet'),\n",
       " s3.ObjectSummary(bucket_name='opf-datacatalog', key='nov3/operate-first/community/features/operate-firstcommunitytitlewords.parquet'),\n",
       " s3.ObjectSummary(bucket_name='opf-datacatalog', key='nov3/operate-first/community/ttm_feature_engineered_dataset.parquet'),\n",
       " s3.ObjectSummary(bucket_name='opf-datacatalog', key='nov3/srcopsmetrics/bot_knowledge/operate-first/community/PullRequest.json')]"
      ]
     },
     "execution_count": 85,
     "metadata": {},
     "output_type": "execute_result"
    }
   ],
   "source": [
    "# check all raw data files in s3\n",
    "bucket = cc.s3_resource.Bucket(s3_bucket)\n",
    "objects = [i for i in bucket.objects.all() if s3_input_data_path + \"/\" in i.key]\n",
    "sorted(objects, key=lambda x: x.key)"
   ]
  },
  {
   "cell_type": "markdown",
   "id": "165910c8",
   "metadata": {},
   "source": [
    "# Conclusion\n",
    "\n",
    "This notebook walked through how to access saved raw Pull Requests data from the previous data collection notebook and we engineered some possible features which can be used to predict time to merge of a PR. \n",
    "\n",
    "The features we engineered are as following:\n",
    "\n",
    "- time_to_merge: time taken to merge a PR in seconds, this is feature we will try to predict\n",
    "- changed_files_number: integer indicating the number of files changed, this is an available column\n",
    "- body_size: integer indicating the number of words in the body of the PR, derived from body\n",
    "- size: integer corresponding to a categorical label generated by GitHub which summarizes the size of the changes made to the code base \n",
    "- title_word_counts_vec: vector or list indicating how many times each word appeared in the title\n",
    "- created_at_day: categorical variable indicating the day of month the PR has been created, derived from created_at\n",
    "- created_at_month: categorical variable indicating the month of the year that the PR has been created, derived from created_at\n",
    "- created_at_weekday: categorical variable indicating the day of the week the PR has been created, derived from created_at\n",
    "- created_at_hour: categorical variable indicating the hour of the day the PR has been created, derived from created_at\n",
    "- commits_number: integer indicating the number of commits in the PR\n",
    "- changed_file_type_vec:  vector or list consisting of number of files changed for the top 100 most frequently occurring data types, derived from changed_files\n",
    "\n",
    "\n",
    "# Next Step\n",
    "\n",
    "In the next [notebook](./03_model_training.ipynb), we will train a classifier to predict time to merge of a PR using the features."
   ]
  }
 ],
 "metadata": {
  "kernelspec": {
   "display_name": "Python 3",
   "language": "python",
   "name": "python3"
  },
  "language_info": {
   "codemirror_mode": {
    "name": "ipython",
    "version": 3
   },
   "file_extension": ".py",
   "mimetype": "text/x-python",
   "name": "python",
   "nbconvert_exporter": "python",
   "pygments_lexer": "ipython3",
   "version": "3.8.8"
  }
 },
 "nbformat": 4,
 "nbformat_minor": 5
}
