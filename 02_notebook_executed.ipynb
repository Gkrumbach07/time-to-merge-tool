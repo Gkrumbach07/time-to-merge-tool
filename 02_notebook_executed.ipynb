{
 "cells": [
  {
   "cell_type": "markdown",
   "id": "6a8d0182",
   "metadata": {
    "tags": []
   },
   "source": [
    "# Feature engineering on extracted Pull Requests data\n",
    "\n",
    "\n",
    "## What we did previously\n",
    "\n",
    "In the previous [notebook](./01_data_collection.ipynb) we collected data from a Github repository of choice and store them on S3 storage\n",
    "\n",
    "## In this step\n",
    "\n",
    "In this notebook we will walk through how to start analyzing the PR data collected from a Github repository.\n",
    "\n",
    "We explore the various fields in the PR dataset and the features that we can derive from them in order to frame an a Machine Learning where we predict the time taken to merge a PR."
   ]
  },
  {
   "cell_type": "code",
   "execution_count": 1,
   "id": "dfe11a56",
   "metadata": {
    "execution": {
     "iopub.execute_input": "2022-11-04T09:52:06.203488Z",
     "iopub.status.busy": "2022-11-04T09:52:06.203143Z",
     "iopub.status.idle": "2022-11-04T09:52:08.064387Z",
     "shell.execute_reply": "2022-11-04T09:52:08.063418Z"
    }
   },
   "outputs": [],
   "source": [
    "import os\n",
    "import re\n",
    "import gzip\n",
    "import json\n",
    "import boto3\n",
    "import pathlib\n",
    "import datetime\n",
    "from tqdm import tqdm\n",
    "from io import BytesIO\n",
    "from pathlib import Path\n",
    "from functools import partial\n",
    "from collections import Counter\n",
    "\n",
    "import numpy as np\n",
    "import pandas as pd\n",
    "\n",
    "import matplotlib.pyplot as plt\n",
    "import seaborn as sns\n",
    "from wordcloud import STOPWORDS\n",
    "\n",
    "from sklearn.feature_selection import SelectKBest\n",
    "from sklearn.feature_selection import chi2\n",
    "from sklearn.feature_selection import mutual_info_classif, f_classif\n",
    "\n",
    "from dotenv import load_dotenv, find_dotenv"
   ]
  },
  {
   "cell_type": "code",
   "execution_count": 2,
   "id": "077bc87f-fd57-40ac-ab45-8ebddaadc46b",
   "metadata": {
    "execution": {
     "iopub.execute_input": "2022-11-04T09:52:08.068549Z",
     "iopub.status.busy": "2022-11-04T09:52:08.068155Z",
     "iopub.status.idle": "2022-11-04T09:52:08.078327Z",
     "shell.execute_reply": "2022-11-04T09:52:08.077320Z"
    }
   },
   "outputs": [],
   "source": [
    "class CephCommunication:\n",
    "    \"\"\"\n",
    "    Class to establish communication with a ceph s3 bucket.\n",
    "    It connects with the bucket and provides methods to read and write data in the parquet format.\n",
    "    \"\"\"\n",
    "\n",
    "    def __init__(\n",
    "        self, s3_endpoint_url, aws_access_key_id, aws_secret_access_key, s3_bucket\n",
    "    ):\n",
    "        self.s3_endpoint_url = s3_endpoint_url\n",
    "        self.aws_access_key_id = aws_access_key_id\n",
    "        self.aws_secret_access_key = aws_secret_access_key\n",
    "        self.s3_resource = boto3.resource(\n",
    "            \"s3\",\n",
    "            endpoint_url=self.s3_endpoint_url,\n",
    "            aws_access_key_id=self.aws_access_key_id,\n",
    "            aws_secret_access_key=self.aws_secret_access_key,\n",
    "        )\n",
    "        self.bucket = s3_bucket\n",
    "        ## Todo: Add try catch\n",
    "\n",
    "    def upload_to_ceph(self, dataframe, s3_path, filename):\n",
    "        \"\"\"\n",
    "        This helper function takes as input the data frame to be uploaded, and the output filename.\n",
    "        It then saves the data frame in the defined ceph bucket.\n",
    "        \"\"\"\n",
    "        parquet_buffer = BytesIO()\n",
    "        dataframe.to_parquet(parquet_buffer)\n",
    "        s3_obj = self.s3_resource.Object(self.bucket, f\"{s3_path}/{filename}\")\n",
    "        status = s3_obj.put(Body=parquet_buffer.getvalue())\n",
    "        return status\n",
    "\n",
    "    def read_from_ceph(self, s3_path, filename):\n",
    "        \"\"\"\n",
    "        Helper function to read from ceph and see if the saved data is correct.\n",
    "        \"\"\"\n",
    "        buffer = BytesIO()\n",
    "        s3_object = self.s3_resource.Object(self.bucket, f\"{s3_path}/{filename}\")\n",
    "        s3_object.download_fileobj(buffer)\n",
    "        df_temp = pd.read_parquet(buffer)\n",
    "        return df_temp\n",
    "\n",
    "\n",
    "def save_to_disk(dataframe, path, filename):\n",
    "    \"\"\"\n",
    "    Helper function to save the dataframe\n",
    "    as a parquet file to disk.\n",
    "    \"\"\"\n",
    "    dataset_base_path = Path(path)\n",
    "    dataset_base_path.mkdir(parents=True, exist_ok=True)\n",
    "    dataframe.to_parquet(f\"{path}/{filename}\")\n",
    "    return True"
   ]
  },
  {
   "cell_type": "code",
   "execution_count": 3,
   "id": "9476e951",
   "metadata": {
    "execution": {
     "iopub.execute_input": "2022-11-04T09:52:08.081583Z",
     "iopub.status.busy": "2022-11-04T09:52:08.081175Z",
     "iopub.status.idle": "2022-11-04T09:52:08.095779Z",
     "shell.execute_reply": "2022-11-04T09:52:08.094957Z"
    }
   },
   "outputs": [
    {
     "data": {
      "text/plain": [
       "True"
      ]
     },
     "execution_count": 3,
     "metadata": {},
     "output_type": "execute_result"
    }
   ],
   "source": [
    "sns.set(rc={\"figure.figsize\": (20, 10)})\n",
    "load_dotenv(find_dotenv(), override=True)"
   ]
  },
  {
   "cell_type": "code",
   "execution_count": 4,
   "id": "9bc3a2c6",
   "metadata": {
    "execution": {
     "iopub.execute_input": "2022-11-04T09:52:08.099356Z",
     "iopub.status.busy": "2022-11-04T09:52:08.098684Z",
     "iopub.status.idle": "2022-11-04T09:52:08.104246Z",
     "shell.execute_reply": "2022-11-04T09:52:08.103358Z"
    }
   },
   "outputs": [],
   "source": [
    "## CEPH Bucket variables\n",
    "## Create a .env file on your local with the correct configs,\n",
    "\n",
    "ORG = os.getenv(\"GITHUB_ORG\")\n",
    "REPO = os.getenv(\"GITHUB_REPO\")\n",
    "\n",
    "## S3 bucket credentials\n",
    "s3_endpoint_url = os.getenv(\"S3_ENDPOINT_URL\")\n",
    "s3_access_key = os.getenv(\"S3_ACCESS_KEY\")\n",
    "s3_secret_key = os.getenv(\"S3_SECRET_KEY\")\n",
    "s3_bucket = os.getenv(\"S3_BUCKET\")\n",
    "\n",
    "REMOTE = os.getenv(\"REMOTE\")\n",
    "\n",
    "s3_input_data_path = os.getenv(\"CEPH_BUCKET_PREFIX\")\n",
    "local_input_data_path = \"../../../data/raw/GitHub/PullRequest.json.gz\"\n",
    "local_output_data_path = \"../../../data/processed/github\"\n",
    "RAW_DATA_PATH = os.path.join(\n",
    "    s3_input_data_path, \"srcopsmetrics/bot_knowledge\", ORG, REPO, \"PullRequest.json\"\n",
    ")"
   ]
  },
  {
   "cell_type": "code",
   "execution_count": 5,
   "id": "4d1b0d9f",
   "metadata": {
    "execution": {
     "iopub.execute_input": "2022-11-04T09:52:08.107788Z",
     "iopub.status.busy": "2022-11-04T09:52:08.107523Z",
     "iopub.status.idle": "2022-11-04T09:52:08.614562Z",
     "shell.execute_reply": "2022-11-04T09:52:08.613522Z"
    }
   },
   "outputs": [
    {
     "name": "stdout",
     "output_type": "stream",
     "text": [
      "getting dataset from ceph\n"
     ]
    }
   ],
   "source": [
    "output = []\n",
    "if REMOTE:\n",
    "    print(\"getting dataset from ceph\")\n",
    "    s3 = boto3.resource(\n",
    "        \"s3\",\n",
    "        endpoint_url=s3_endpoint_url,\n",
    "        aws_access_key_id=s3_access_key,\n",
    "        aws_secret_access_key=s3_secret_key,\n",
    "    )\n",
    "    content = s3.Object(s3_bucket, RAW_DATA_PATH)\n",
    "    file = content.get()[\"Body\"].read().decode(\"utf-8\")\n",
    "\n",
    "    prs = json.loads(file)\n",
    "\n",
    "    for pr in prs.splitlines():\n",
    "        output.append(json.loads(pr))\n",
    "\n",
    "else:\n",
    "    print(\"getting dataset from local\")\n",
    "    with gzip.open(local_input_data_path, \"r\") as f:\n",
    "        prs = json.loads(f.read().decode(\"utf-8\"))\n",
    "\n",
    "pr_df = pd.DataFrame(output)"
   ]
  },
  {
   "cell_type": "code",
   "execution_count": 6,
   "id": "70c24185-4fbf-4287-98fd-c8d721ef71fa",
   "metadata": {
    "execution": {
     "iopub.execute_input": "2022-11-04T09:52:08.619564Z",
     "iopub.status.busy": "2022-11-04T09:52:08.619243Z",
     "iopub.status.idle": "2022-11-04T09:52:08.675275Z",
     "shell.execute_reply": "2022-11-04T09:52:08.674265Z"
    }
   },
   "outputs": [
    {
     "data": {
      "text/html": [
       "<div>\n",
       "<style scoped>\n",
       "    .dataframe tbody tr th:only-of-type {\n",
       "        vertical-align: middle;\n",
       "    }\n",
       "\n",
       "    .dataframe tbody tr th {\n",
       "        vertical-align: top;\n",
       "    }\n",
       "\n",
       "    .dataframe thead th {\n",
       "        text-align: right;\n",
       "    }\n",
       "</style>\n",
       "<table border=\"1\" class=\"dataframe\">\n",
       "  <thead>\n",
       "    <tr style=\"text-align: right;\">\n",
       "      <th></th>\n",
       "      <th>title</th>\n",
       "      <th>body</th>\n",
       "      <th>size</th>\n",
       "      <th>created_by</th>\n",
       "      <th>created_at</th>\n",
       "      <th>closed_at</th>\n",
       "      <th>closed_by</th>\n",
       "      <th>merged_at</th>\n",
       "      <th>merged_by</th>\n",
       "      <th>commits_number</th>\n",
       "      <th>changed_files_number</th>\n",
       "      <th>interactions</th>\n",
       "      <th>reviews</th>\n",
       "      <th>labels</th>\n",
       "      <th>commits</th>\n",
       "      <th>changed_files</th>\n",
       "      <th>first_review_at</th>\n",
       "      <th>first_approve_at</th>\n",
       "      <th>id</th>\n",
       "    </tr>\n",
       "  </thead>\n",
       "  <tbody>\n",
       "    <tr>\n",
       "      <th>0</th>\n",
       "      <td>Release of version 2.12.0</td>\n",
       "      <td>Hey, @xtuchyna!\\n\\nOpening this PR to create a...</td>\n",
       "      <td>M</td>\n",
       "      <td>khebhut[bot]</td>\n",
       "      <td>1665600542</td>\n",
       "      <td>1.665601e+09</td>\n",
       "      <td>sesheta</td>\n",
       "      <td>1.665601e+09</td>\n",
       "      <td>sesheta</td>\n",
       "      <td>1</td>\n",
       "      <td>2</td>\n",
       "      <td>{'sesheta': 327}</td>\n",
       "      <td>{'1139569371': {'author': 'sefkhet-abwy[bot]',...</td>\n",
       "      <td>[approved, bot, size/M, ok-to-test]</td>\n",
       "      <td>[2eadea6d1417c3baede8d3b32ea1cd01c37bb319]</td>\n",
       "      <td>[CHANGELOG.md, srcopsmetrics/__init__.py]</td>\n",
       "      <td>1.665601e+09</td>\n",
       "      <td>1.665601e+09</td>\n",
       "      <td>612</td>\n",
       "    </tr>\n",
       "    <tr>\n",
       "      <th>1</th>\n",
       "      <td>Automatic update of dependencies by Kebechet f...</td>\n",
       "      <td>Kebechet has updated the dependencies to the l...</td>\n",
       "      <td>XL</td>\n",
       "      <td>khebhut[bot]</td>\n",
       "      <td>1665600524</td>\n",
       "      <td>NaN</td>\n",
       "      <td>None</td>\n",
       "      <td>NaN</td>\n",
       "      <td>None</td>\n",
       "      <td>1</td>\n",
       "      <td>1</td>\n",
       "      <td>{'sesheta': 187, 'khebhut[bot]': 6}</td>\n",
       "      <td>{'1139569050': {'author': 'sefkhet-abwy[bot]',...</td>\n",
       "      <td>[approved, bot, size/XL, ok-to-test]</td>\n",
       "      <td>[fcd36e9e238c243c73ca0a214ed373b2cf5c1c35]</td>\n",
       "      <td>[Pipfile.lock]</td>\n",
       "      <td>1.665601e+09</td>\n",
       "      <td>1.665601e+09</td>\n",
       "      <td>611</td>\n",
       "    </tr>\n",
       "    <tr>\n",
       "      <th>2</th>\n",
       "      <td>Mi fixes</td>\n",
       "      <td>## Related Issues and Dependencies\\r\\nrelated ...</td>\n",
       "      <td>L</td>\n",
       "      <td>Gkrumbach07</td>\n",
       "      <td>1663711269</td>\n",
       "      <td>1.665600e+09</td>\n",
       "      <td>sesheta</td>\n",
       "      <td>1.665600e+09</td>\n",
       "      <td>sesheta</td>\n",
       "      <td>8</td>\n",
       "      <td>6</td>\n",
       "      <td>{'xtuchyna': 13, 'Gkrumbach07': 24, 'sesheta':...</td>\n",
       "      <td>{'1118375791': {'author': 'xtuchyna', 'words_c...</td>\n",
       "      <td>[approved, size/L]</td>\n",
       "      <td>[29f4ffd578ee20ff379765d7835dc5a306832a3c, 98e...</td>\n",
       "      <td>[srcopsmetrics/cli.py, srcopsmetrics/entities/...</td>\n",
       "      <td>1.663938e+09</td>\n",
       "      <td>1.665600e+09</td>\n",
       "      <td>609</td>\n",
       "    </tr>\n",
       "    <tr>\n",
       "      <th>3</th>\n",
       "      <td>Automatic update of base-image in CI</td>\n",
       "      <td>Automatic update of base-image in CI.</td>\n",
       "      <td>XS</td>\n",
       "      <td>sesheta</td>\n",
       "      <td>1663342324</td>\n",
       "      <td>1.663345e+09</td>\n",
       "      <td>sesheta</td>\n",
       "      <td>1.663345e+09</td>\n",
       "      <td>sesheta</td>\n",
       "      <td>1</td>\n",
       "      <td>1</td>\n",
       "      <td>{'sesheta': 140}</td>\n",
       "      <td>{'1110874496': {'author': 'sefkhet-abwy[bot]',...</td>\n",
       "      <td>[approved, size/XS, ok-to-test]</td>\n",
       "      <td>[d5d590ff2a244cb4d2baee2682ee9b982b4b5c19]</td>\n",
       "      <td>[.aicoe-ci.yaml]</td>\n",
       "      <td>1.663342e+09</td>\n",
       "      <td>1.663342e+09</td>\n",
       "      <td>608</td>\n",
       "    </tr>\n",
       "    <tr>\n",
       "      <th>4</th>\n",
       "      <td>Automatic update of dependencies by Kebechet f...</td>\n",
       "      <td>Kebechet has updated the dependencies to the l...</td>\n",
       "      <td>L</td>\n",
       "      <td>khebhut[bot]</td>\n",
       "      <td>1663342276</td>\n",
       "      <td>1.663344e+09</td>\n",
       "      <td>sesheta</td>\n",
       "      <td>1.663344e+09</td>\n",
       "      <td>sesheta</td>\n",
       "      <td>1</td>\n",
       "      <td>1</td>\n",
       "      <td>{'sesheta': 397}</td>\n",
       "      <td>{'1110873483': {'author': 'sefkhet-abwy[bot]',...</td>\n",
       "      <td>[approved, size/L, bot, ok-to-test]</td>\n",
       "      <td>[a676faae110a141fb409c6d7cd959d364a8cfe50]</td>\n",
       "      <td>[Pipfile.lock]</td>\n",
       "      <td>1.663342e+09</td>\n",
       "      <td>1.663342e+09</td>\n",
       "      <td>607</td>\n",
       "    </tr>\n",
       "    <tr>\n",
       "      <th>...</th>\n",
       "      <td>...</td>\n",
       "      <td>...</td>\n",
       "      <td>...</td>\n",
       "      <td>...</td>\n",
       "      <td>...</td>\n",
       "      <td>...</td>\n",
       "      <td>...</td>\n",
       "      <td>...</td>\n",
       "      <td>...</td>\n",
       "      <td>...</td>\n",
       "      <td>...</td>\n",
       "      <td>...</td>\n",
       "      <td>...</td>\n",
       "      <td>...</td>\n",
       "      <td>...</td>\n",
       "      <td>...</td>\n",
       "      <td>...</td>\n",
       "      <td>...</td>\n",
       "      <td>...</td>\n",
       "    </tr>\n",
       "    <tr>\n",
       "      <th>411</th>\n",
       "      <td>Feature/expand data collection from prs</td>\n",
       "      <td>## Related Issues and Dependencies\\r\\n\\r\\n…\\r\\...</td>\n",
       "      <td>L</td>\n",
       "      <td>xtuchyna</td>\n",
       "      <td>1576000129</td>\n",
       "      <td>1.577178e+09</td>\n",
       "      <td>None</td>\n",
       "      <td>1.577178e+09</td>\n",
       "      <td>None</td>\n",
       "      <td>6</td>\n",
       "      <td>1</td>\n",
       "      <td>{'pacospace': 1, 'ghost': 50}</td>\n",
       "      <td>{'330365548': {'author': 'pacospace', 'words_c...</td>\n",
       "      <td>[approved, size/L]</td>\n",
       "      <td>[350b1c92016696cd92bccc96bc1dc067494cbd38, cf6...</td>\n",
       "      <td>[create_bot_knowledge.py]</td>\n",
       "      <td>1.576054e+09</td>\n",
       "      <td>1.577178e+09</td>\n",
       "      <td>5</td>\n",
       "    </tr>\n",
       "    <tr>\n",
       "      <th>412</th>\n",
       "      <td>Correct typo in CODEOWNERS</td>\n",
       "      <td>Signed-off-by: Francesco Murdaca &lt;fmurdaca@red...</td>\n",
       "      <td>XS</td>\n",
       "      <td>pacospace</td>\n",
       "      <td>1574979066</td>\n",
       "      <td>1.575467e+09</td>\n",
       "      <td>goern</td>\n",
       "      <td>1.575467e+09</td>\n",
       "      <td>goern</td>\n",
       "      <td>1</td>\n",
       "      <td>1</td>\n",
       "      <td>{'ghost': 15}</td>\n",
       "      <td>{'324527213': {'author': 'goern', 'words_count...</td>\n",
       "      <td>[approved, size/XS]</td>\n",
       "      <td>[bae7c611679f19b043d29edbc06dfb88b883154a]</td>\n",
       "      <td>[.github/CODEOWNERS]</td>\n",
       "      <td>1.575005e+09</td>\n",
       "      <td>1.575005e+09</td>\n",
       "      <td>4</td>\n",
       "    </tr>\n",
       "    <tr>\n",
       "      <th>413</th>\n",
       "      <td>refactor code and correct the update knowledge...</td>\n",
       "      <td>## Related Issues and Dependencies\\r\\n\\r\\n…\\r\\...</td>\n",
       "      <td>XXL</td>\n",
       "      <td>xtuchyna</td>\n",
       "      <td>1574441228</td>\n",
       "      <td>1.576601e+09</td>\n",
       "      <td>None</td>\n",
       "      <td>1.576601e+09</td>\n",
       "      <td>None</td>\n",
       "      <td>17</td>\n",
       "      <td>5</td>\n",
       "      <td>{'ghost': 147, 'goern': 16, 'xtuchyna': 26, 'p...</td>\n",
       "      <td>{'324441775': {'author': 'pacospace', 'words_c...</td>\n",
       "      <td>[size/XXL, approved]</td>\n",
       "      <td>[ea1098bcaa5d614ca63f637f6599d3c1f1a40d89, 719...</td>\n",
       "      <td>[.zuul.yaml, create_bot_knowledge.py, pr_revie...</td>\n",
       "      <td>1.574971e+09</td>\n",
       "      <td>1.576055e+09</td>\n",
       "      <td>3</td>\n",
       "    </tr>\n",
       "    <tr>\n",
       "      <th>414</th>\n",
       "      <td>Correct update logic</td>\n",
       "      <td>Signed-off-by: Francesco Murdaca &lt;fmurdaca@red...</td>\n",
       "      <td>XS</td>\n",
       "      <td>pacospace</td>\n",
       "      <td>1574357322</td>\n",
       "      <td>1.574437e+09</td>\n",
       "      <td>pacospace</td>\n",
       "      <td>NaN</td>\n",
       "      <td>None</td>\n",
       "      <td>1</td>\n",
       "      <td>1</td>\n",
       "      <td>{'ghost': 15, 'pacospace': 59}</td>\n",
       "      <td>{'321156268': {'author': 'goern', 'words_count...</td>\n",
       "      <td>[approved, size/XS]</td>\n",
       "      <td>[ddc04fe9f8dccf877afc4d4a5b68c33cedab707b]</td>\n",
       "      <td>[create_bot_knowledge.py]</td>\n",
       "      <td>1.574367e+09</td>\n",
       "      <td>1.574367e+09</td>\n",
       "      <td>2</td>\n",
       "    </tr>\n",
       "    <tr>\n",
       "      <th>415</th>\n",
       "      <td>Collect and analyze stastistics on Project rep...</td>\n",
       "      <td>## This Pull Request implements:\\r\\n\\r\\n- Func...</td>\n",
       "      <td>XXL</td>\n",
       "      <td>pacospace</td>\n",
       "      <td>1571997667</td>\n",
       "      <td>1.571998e+09</td>\n",
       "      <td>pacospace</td>\n",
       "      <td>1.571998e+09</td>\n",
       "      <td>pacospace</td>\n",
       "      <td>1</td>\n",
       "      <td>5</td>\n",
       "      <td>{}</td>\n",
       "      <td>{'307104100': {'author': 'goern', 'words_count...</td>\n",
       "      <td>[size/XXL, approved]</td>\n",
       "      <td>[207aa5aca51a13d237561952d8139a1299ebcb03]</td>\n",
       "      <td>[Pipfile, Pipfile.lock, README.md, create_bot_...</td>\n",
       "      <td>1.571998e+09</td>\n",
       "      <td>1.571998e+09</td>\n",
       "      <td>1</td>\n",
       "    </tr>\n",
       "  </tbody>\n",
       "</table>\n",
       "<p>416 rows × 19 columns</p>\n",
       "</div>"
      ],
      "text/plain": [
       "                                                 title  \\\n",
       "0                            Release of version 2.12.0   \n",
       "1    Automatic update of dependencies by Kebechet f...   \n",
       "2                                             Mi fixes   \n",
       "3                 Automatic update of base-image in CI   \n",
       "4    Automatic update of dependencies by Kebechet f...   \n",
       "..                                                 ...   \n",
       "411            Feature/expand data collection from prs   \n",
       "412                         Correct typo in CODEOWNERS   \n",
       "413  refactor code and correct the update knowledge...   \n",
       "414                               Correct update logic   \n",
       "415  Collect and analyze stastistics on Project rep...   \n",
       "\n",
       "                                                  body size    created_by  \\\n",
       "0    Hey, @xtuchyna!\\n\\nOpening this PR to create a...    M  khebhut[bot]   \n",
       "1    Kebechet has updated the dependencies to the l...   XL  khebhut[bot]   \n",
       "2    ## Related Issues and Dependencies\\r\\nrelated ...    L   Gkrumbach07   \n",
       "3                Automatic update of base-image in CI.   XS       sesheta   \n",
       "4    Kebechet has updated the dependencies to the l...    L  khebhut[bot]   \n",
       "..                                                 ...  ...           ...   \n",
       "411  ## Related Issues and Dependencies\\r\\n\\r\\n…\\r\\...    L      xtuchyna   \n",
       "412  Signed-off-by: Francesco Murdaca <fmurdaca@red...   XS     pacospace   \n",
       "413  ## Related Issues and Dependencies\\r\\n\\r\\n…\\r\\...  XXL      xtuchyna   \n",
       "414  Signed-off-by: Francesco Murdaca <fmurdaca@red...   XS     pacospace   \n",
       "415  ## This Pull Request implements:\\r\\n\\r\\n- Func...  XXL     pacospace   \n",
       "\n",
       "     created_at     closed_at  closed_by     merged_at  merged_by  \\\n",
       "0    1665600542  1.665601e+09    sesheta  1.665601e+09    sesheta   \n",
       "1    1665600524           NaN       None           NaN       None   \n",
       "2    1663711269  1.665600e+09    sesheta  1.665600e+09    sesheta   \n",
       "3    1663342324  1.663345e+09    sesheta  1.663345e+09    sesheta   \n",
       "4    1663342276  1.663344e+09    sesheta  1.663344e+09    sesheta   \n",
       "..          ...           ...        ...           ...        ...   \n",
       "411  1576000129  1.577178e+09       None  1.577178e+09       None   \n",
       "412  1574979066  1.575467e+09      goern  1.575467e+09      goern   \n",
       "413  1574441228  1.576601e+09       None  1.576601e+09       None   \n",
       "414  1574357322  1.574437e+09  pacospace           NaN       None   \n",
       "415  1571997667  1.571998e+09  pacospace  1.571998e+09  pacospace   \n",
       "\n",
       "     commits_number  changed_files_number  \\\n",
       "0                 1                     2   \n",
       "1                 1                     1   \n",
       "2                 8                     6   \n",
       "3                 1                     1   \n",
       "4                 1                     1   \n",
       "..              ...                   ...   \n",
       "411               6                     1   \n",
       "412               1                     1   \n",
       "413              17                     5   \n",
       "414               1                     1   \n",
       "415               1                     5   \n",
       "\n",
       "                                          interactions  \\\n",
       "0                                     {'sesheta': 327}   \n",
       "1                  {'sesheta': 187, 'khebhut[bot]': 6}   \n",
       "2    {'xtuchyna': 13, 'Gkrumbach07': 24, 'sesheta':...   \n",
       "3                                     {'sesheta': 140}   \n",
       "4                                     {'sesheta': 397}   \n",
       "..                                                 ...   \n",
       "411                      {'pacospace': 1, 'ghost': 50}   \n",
       "412                                      {'ghost': 15}   \n",
       "413  {'ghost': 147, 'goern': 16, 'xtuchyna': 26, 'p...   \n",
       "414                     {'ghost': 15, 'pacospace': 59}   \n",
       "415                                                 {}   \n",
       "\n",
       "                                               reviews  \\\n",
       "0    {'1139569371': {'author': 'sefkhet-abwy[bot]',...   \n",
       "1    {'1139569050': {'author': 'sefkhet-abwy[bot]',...   \n",
       "2    {'1118375791': {'author': 'xtuchyna', 'words_c...   \n",
       "3    {'1110874496': {'author': 'sefkhet-abwy[bot]',...   \n",
       "4    {'1110873483': {'author': 'sefkhet-abwy[bot]',...   \n",
       "..                                                 ...   \n",
       "411  {'330365548': {'author': 'pacospace', 'words_c...   \n",
       "412  {'324527213': {'author': 'goern', 'words_count...   \n",
       "413  {'324441775': {'author': 'pacospace', 'words_c...   \n",
       "414  {'321156268': {'author': 'goern', 'words_count...   \n",
       "415  {'307104100': {'author': 'goern', 'words_count...   \n",
       "\n",
       "                                   labels  \\\n",
       "0     [approved, bot, size/M, ok-to-test]   \n",
       "1    [approved, bot, size/XL, ok-to-test]   \n",
       "2                      [approved, size/L]   \n",
       "3         [approved, size/XS, ok-to-test]   \n",
       "4     [approved, size/L, bot, ok-to-test]   \n",
       "..                                    ...   \n",
       "411                    [approved, size/L]   \n",
       "412                   [approved, size/XS]   \n",
       "413                  [size/XXL, approved]   \n",
       "414                   [approved, size/XS]   \n",
       "415                  [size/XXL, approved]   \n",
       "\n",
       "                                               commits  \\\n",
       "0           [2eadea6d1417c3baede8d3b32ea1cd01c37bb319]   \n",
       "1           [fcd36e9e238c243c73ca0a214ed373b2cf5c1c35]   \n",
       "2    [29f4ffd578ee20ff379765d7835dc5a306832a3c, 98e...   \n",
       "3           [d5d590ff2a244cb4d2baee2682ee9b982b4b5c19]   \n",
       "4           [a676faae110a141fb409c6d7cd959d364a8cfe50]   \n",
       "..                                                 ...   \n",
       "411  [350b1c92016696cd92bccc96bc1dc067494cbd38, cf6...   \n",
       "412         [bae7c611679f19b043d29edbc06dfb88b883154a]   \n",
       "413  [ea1098bcaa5d614ca63f637f6599d3c1f1a40d89, 719...   \n",
       "414         [ddc04fe9f8dccf877afc4d4a5b68c33cedab707b]   \n",
       "415         [207aa5aca51a13d237561952d8139a1299ebcb03]   \n",
       "\n",
       "                                         changed_files  first_review_at  \\\n",
       "0            [CHANGELOG.md, srcopsmetrics/__init__.py]     1.665601e+09   \n",
       "1                                       [Pipfile.lock]     1.665601e+09   \n",
       "2    [srcopsmetrics/cli.py, srcopsmetrics/entities/...     1.663938e+09   \n",
       "3                                     [.aicoe-ci.yaml]     1.663342e+09   \n",
       "4                                       [Pipfile.lock]     1.663342e+09   \n",
       "..                                                 ...              ...   \n",
       "411                          [create_bot_knowledge.py]     1.576054e+09   \n",
       "412                               [.github/CODEOWNERS]     1.575005e+09   \n",
       "413  [.zuul.yaml, create_bot_knowledge.py, pr_revie...     1.574971e+09   \n",
       "414                          [create_bot_knowledge.py]     1.574367e+09   \n",
       "415  [Pipfile, Pipfile.lock, README.md, create_bot_...     1.571998e+09   \n",
       "\n",
       "     first_approve_at   id  \n",
       "0        1.665601e+09  612  \n",
       "1        1.665601e+09  611  \n",
       "2        1.665600e+09  609  \n",
       "3        1.663342e+09  608  \n",
       "4        1.663342e+09  607  \n",
       "..                ...  ...  \n",
       "411      1.577178e+09    5  \n",
       "412      1.575005e+09    4  \n",
       "413      1.576055e+09    3  \n",
       "414      1.574367e+09    2  \n",
       "415      1.571998e+09    1  \n",
       "\n",
       "[416 rows x 19 columns]"
      ]
     },
     "execution_count": 6,
     "metadata": {},
     "output_type": "execute_result"
    }
   ],
   "source": [
    "pr_df"
   ]
  },
  {
   "cell_type": "code",
   "execution_count": 7,
   "id": "13dc895b",
   "metadata": {
    "execution": {
     "iopub.execute_input": "2022-11-04T09:52:08.679582Z",
     "iopub.status.busy": "2022-11-04T09:52:08.679231Z",
     "iopub.status.idle": "2022-11-04T09:52:08.686291Z",
     "shell.execute_reply": "2022-11-04T09:52:08.685522Z"
    }
   },
   "outputs": [
    {
     "data": {
      "text/plain": [
       "(416, 19)"
      ]
     },
     "execution_count": 7,
     "metadata": {},
     "output_type": "execute_result"
    }
   ],
   "source": [
    "pr_df.shape"
   ]
  },
  {
   "cell_type": "code",
   "execution_count": 8,
   "id": "f82201c5",
   "metadata": {
    "execution": {
     "iopub.execute_input": "2022-11-04T09:52:08.690647Z",
     "iopub.status.busy": "2022-11-04T09:52:08.690098Z",
     "iopub.status.idle": "2022-11-04T09:52:08.712690Z",
     "shell.execute_reply": "2022-11-04T09:52:08.711715Z"
    }
   },
   "outputs": [
    {
     "data": {
      "text/html": [
       "<div>\n",
       "<style scoped>\n",
       "    .dataframe tbody tr th:only-of-type {\n",
       "        vertical-align: middle;\n",
       "    }\n",
       "\n",
       "    .dataframe tbody tr th {\n",
       "        vertical-align: top;\n",
       "    }\n",
       "\n",
       "    .dataframe thead th {\n",
       "        text-align: right;\n",
       "    }\n",
       "</style>\n",
       "<table border=\"1\" class=\"dataframe\">\n",
       "  <thead>\n",
       "    <tr style=\"text-align: right;\">\n",
       "      <th></th>\n",
       "      <th>title</th>\n",
       "      <th>body</th>\n",
       "      <th>size</th>\n",
       "      <th>created_by</th>\n",
       "      <th>created_at</th>\n",
       "      <th>closed_at</th>\n",
       "      <th>closed_by</th>\n",
       "      <th>merged_at</th>\n",
       "      <th>merged_by</th>\n",
       "      <th>commits_number</th>\n",
       "      <th>changed_files_number</th>\n",
       "      <th>interactions</th>\n",
       "      <th>reviews</th>\n",
       "      <th>labels</th>\n",
       "      <th>commits</th>\n",
       "      <th>changed_files</th>\n",
       "      <th>first_review_at</th>\n",
       "      <th>first_approve_at</th>\n",
       "      <th>id</th>\n",
       "    </tr>\n",
       "  </thead>\n",
       "  <tbody>\n",
       "    <tr>\n",
       "      <th>0</th>\n",
       "      <td>Release of version 2.12.0</td>\n",
       "      <td>Hey, @xtuchyna!\\n\\nOpening this PR to create a...</td>\n",
       "      <td>M</td>\n",
       "      <td>khebhut[bot]</td>\n",
       "      <td>1665600542</td>\n",
       "      <td>1.665601e+09</td>\n",
       "      <td>sesheta</td>\n",
       "      <td>1.665601e+09</td>\n",
       "      <td>sesheta</td>\n",
       "      <td>1</td>\n",
       "      <td>2</td>\n",
       "      <td>{'sesheta': 327}</td>\n",
       "      <td>{'1139569371': {'author': 'sefkhet-abwy[bot]',...</td>\n",
       "      <td>[approved, bot, size/M, ok-to-test]</td>\n",
       "      <td>[2eadea6d1417c3baede8d3b32ea1cd01c37bb319]</td>\n",
       "      <td>[CHANGELOG.md, srcopsmetrics/__init__.py]</td>\n",
       "      <td>1.665601e+09</td>\n",
       "      <td>1.665601e+09</td>\n",
       "      <td>612</td>\n",
       "    </tr>\n",
       "    <tr>\n",
       "      <th>1</th>\n",
       "      <td>Automatic update of dependencies by Kebechet f...</td>\n",
       "      <td>Kebechet has updated the dependencies to the l...</td>\n",
       "      <td>XL</td>\n",
       "      <td>khebhut[bot]</td>\n",
       "      <td>1665600524</td>\n",
       "      <td>NaN</td>\n",
       "      <td>None</td>\n",
       "      <td>NaN</td>\n",
       "      <td>None</td>\n",
       "      <td>1</td>\n",
       "      <td>1</td>\n",
       "      <td>{'sesheta': 187, 'khebhut[bot]': 6}</td>\n",
       "      <td>{'1139569050': {'author': 'sefkhet-abwy[bot]',...</td>\n",
       "      <td>[approved, bot, size/XL, ok-to-test]</td>\n",
       "      <td>[fcd36e9e238c243c73ca0a214ed373b2cf5c1c35]</td>\n",
       "      <td>[Pipfile.lock]</td>\n",
       "      <td>1.665601e+09</td>\n",
       "      <td>1.665601e+09</td>\n",
       "      <td>611</td>\n",
       "    </tr>\n",
       "  </tbody>\n",
       "</table>\n",
       "</div>"
      ],
      "text/plain": [
       "                                               title  \\\n",
       "0                          Release of version 2.12.0   \n",
       "1  Automatic update of dependencies by Kebechet f...   \n",
       "\n",
       "                                                body size    created_by  \\\n",
       "0  Hey, @xtuchyna!\\n\\nOpening this PR to create a...    M  khebhut[bot]   \n",
       "1  Kebechet has updated the dependencies to the l...   XL  khebhut[bot]   \n",
       "\n",
       "   created_at     closed_at closed_by     merged_at merged_by  commits_number  \\\n",
       "0  1665600542  1.665601e+09   sesheta  1.665601e+09   sesheta               1   \n",
       "1  1665600524           NaN      None           NaN      None               1   \n",
       "\n",
       "   changed_files_number                         interactions  \\\n",
       "0                     2                     {'sesheta': 327}   \n",
       "1                     1  {'sesheta': 187, 'khebhut[bot]': 6}   \n",
       "\n",
       "                                             reviews  \\\n",
       "0  {'1139569371': {'author': 'sefkhet-abwy[bot]',...   \n",
       "1  {'1139569050': {'author': 'sefkhet-abwy[bot]',...   \n",
       "\n",
       "                                 labels  \\\n",
       "0   [approved, bot, size/M, ok-to-test]   \n",
       "1  [approved, bot, size/XL, ok-to-test]   \n",
       "\n",
       "                                      commits  \\\n",
       "0  [2eadea6d1417c3baede8d3b32ea1cd01c37bb319]   \n",
       "1  [fcd36e9e238c243c73ca0a214ed373b2cf5c1c35]   \n",
       "\n",
       "                               changed_files  first_review_at  \\\n",
       "0  [CHANGELOG.md, srcopsmetrics/__init__.py]     1.665601e+09   \n",
       "1                             [Pipfile.lock]     1.665601e+09   \n",
       "\n",
       "   first_approve_at   id  \n",
       "0      1.665601e+09  612  \n",
       "1      1.665601e+09  611  "
      ]
     },
     "execution_count": 8,
     "metadata": {},
     "output_type": "execute_result"
    }
   ],
   "source": [
    "pr_df.head(2)"
   ]
  },
  {
   "cell_type": "markdown",
   "id": "c472ffbd",
   "metadata": {},
   "source": [
    "## Feature engineering\n",
    "\n",
    "In the next section we will do some basic feature engineering and correlation analyis on our dataset to see if anything interesting jumps out at us. "
   ]
  },
  {
   "cell_type": "markdown",
   "id": "4ed68d9a",
   "metadata": {},
   "source": [
    "**Time to Merge**\n",
    "\n",
    "We will derive a new feature called `time_to_merge` which will be the difference between the `created_at` and `merged_at` fields. "
   ]
  },
  {
   "cell_type": "code",
   "execution_count": 9,
   "id": "d67035e7",
   "metadata": {
    "execution": {
     "iopub.execute_input": "2022-11-04T09:52:08.717323Z",
     "iopub.status.busy": "2022-11-04T09:52:08.717034Z",
     "iopub.status.idle": "2022-11-04T09:52:08.723258Z",
     "shell.execute_reply": "2022-11-04T09:52:08.722337Z"
    }
   },
   "outputs": [],
   "source": [
    "# derive time_to_merege\n",
    "pr_df[\"time_to_merge\"] = pr_df[\"merged_at\"] - pr_df[\"created_at\"]\n",
    "pr_df[\"time_to_merge\"] = pr_df[\"time_to_merge\"].astype(\"float\")\n",
    "# NOTE: we cant fill NA with 0 because that would imply the PR got merged instantaneously"
   ]
  },
  {
   "cell_type": "code",
   "execution_count": 10,
   "id": "fddf9750-49f5-4997-8280-e94e1e778ad9",
   "metadata": {
    "execution": {
     "iopub.execute_input": "2022-11-04T09:52:08.726817Z",
     "iopub.status.busy": "2022-11-04T09:52:08.726545Z",
     "iopub.status.idle": "2022-11-04T09:52:08.736601Z",
     "shell.execute_reply": "2022-11-04T09:52:08.735678Z"
    }
   },
   "outputs": [
    {
     "data": {
      "text/plain": [
       "0          756.0\n",
       "1            NaN\n",
       "2      1888847.0\n",
       "3         2731.0\n",
       "4         1340.0\n",
       "         ...    \n",
       "411    1177800.0\n",
       "412     488406.0\n",
       "413    2159397.0\n",
       "414          NaN\n",
       "415        382.0\n",
       "Name: time_to_merge, Length: 416, dtype: float64"
      ]
     },
     "execution_count": 10,
     "metadata": {},
     "output_type": "execute_result"
    }
   ],
   "source": [
    "pr_df[\"time_to_merge\"]"
   ]
  },
  {
   "cell_type": "markdown",
   "id": "939d196e",
   "metadata": {},
   "source": [
    "Let's look at the distribution of the time to merge column. This can help us determine what the setup for ML problems such as [#236](https://github.com/aicoe-aiops/ocp-ci-analysis/issues/236) could be like. That is, should the time to merge problem be framed as a regression or classification problem.\n",
    "\n",
    "First, lets try to determine what the granularity of the output values should be, in case of a regression setup. That is, should the model predict time to merge in number of seconds, number of hours, number of days, or some other chunk of time."
   ]
  },
  {
   "cell_type": "code",
   "execution_count": 11,
   "id": "b8cc628b",
   "metadata": {
    "execution": {
     "iopub.execute_input": "2022-11-04T09:52:08.740416Z",
     "iopub.status.busy": "2022-11-04T09:52:08.740140Z",
     "iopub.status.idle": "2022-11-04T09:52:08.753262Z",
     "shell.execute_reply": "2022-11-04T09:52:08.752333Z"
    },
    "tags": []
   },
   "outputs": [
    {
     "data": {
      "text/plain": [
       "1.0     0.822917\n",
       "2.0     0.036458\n",
       "5.0     0.018229\n",
       "6.0     0.015625\n",
       "3.0     0.010417\n",
       "14.0    0.010417\n",
       "4.0     0.007812\n",
       "21.0    0.007812\n",
       "15.0    0.007812\n",
       "22.0    0.005208\n",
       "10.0    0.005208\n",
       "13.0    0.005208\n",
       "17.0    0.005208\n",
       "9.0     0.005208\n",
       "12.0    0.005208\n",
       "20.0    0.005208\n",
       "23.0    0.002604\n",
       "11.0    0.002604\n",
       "19.0    0.002604\n",
       "55.0    0.002604\n",
       "7.0     0.002604\n",
       "51.0    0.002604\n",
       "18.0    0.002604\n",
       "63.0    0.002604\n",
       "28.0    0.002604\n",
       "25.0    0.002604\n",
       "Name: time_to_merge, dtype: float64"
      ]
     },
     "execution_count": 11,
     "metadata": {},
     "output_type": "execute_result"
    }
   ],
   "source": [
    "# what does the distribution of values look like if we choose days as the granularity\n",
    "ttm_days = np.ceil(pr_df.time_to_merge / (60 * 60 * 24))\n",
    "\n",
    "# value counts - to how many PRs have value 1, 2, 3, etc. for days to merge\n",
    "vc = ttm_days.value_counts()\n",
    "\n",
    "# normalized value counts (i.e. percent of PRs instead of raw number)\n",
    "nvc = vc / vc.sum()\n",
    "nvc"
   ]
  },
  {
   "cell_type": "code",
   "execution_count": 12,
   "id": "192aeb22",
   "metadata": {
    "execution": {
     "iopub.execute_input": "2022-11-04T09:52:08.756598Z",
     "iopub.status.busy": "2022-11-04T09:52:08.756324Z",
     "iopub.status.idle": "2022-11-04T09:52:08.767217Z",
     "shell.execute_reply": "2022-11-04T09:52:08.766383Z"
    },
    "tags": []
   },
   "outputs": [
    {
     "data": {
      "text/plain": [
       "1.0      0.731771\n",
       "2.0      0.028646\n",
       "8.0      0.018229\n",
       "5.0      0.013021\n",
       "7.0      0.013021\n",
       "6.0      0.010417\n",
       "9.0      0.010417\n",
       "40.0     0.010417\n",
       "41.0     0.007812\n",
       "16.0     0.007812\n",
       "11.0     0.005208\n",
       "31.0     0.005208\n",
       "96.0     0.005208\n",
       "20.0     0.005208\n",
       "3.0      0.005208\n",
       "153.0    0.005208\n",
       "71.0     0.005208\n",
       "15.0     0.005208\n",
       "46.0     0.005208\n",
       "14.0     0.002604\n",
       "137.0    0.002604\n",
       "29.0     0.002604\n",
       "12.0     0.002604\n",
       "105.0    0.002604\n",
       "407.0    0.002604\n",
       "136.0    0.002604\n",
       "80.0     0.002604\n",
       "21.0     0.002604\n",
       "74.0     0.002604\n",
       "104.0    0.002604\n",
       "45.0     0.002604\n",
       "19.0     0.002604\n",
       "222.0    0.002604\n",
       "33.0     0.002604\n",
       "176.0    0.002604\n",
       "110.0    0.002604\n",
       "109.0    0.002604\n",
       "439.0    0.002604\n",
       "4.0      0.002604\n",
       "118.0    0.002604\n",
       "167.0    0.002604\n",
       "149.0    0.002604\n",
       "161.0    0.002604\n",
       "113.0    0.002604\n",
       "120.0    0.002604\n",
       "34.0     0.002604\n",
       "106.0    0.002604\n",
       "10.0     0.002604\n",
       "130.0    0.002604\n",
       "166.0    0.002604\n",
       "39.0     0.002604\n",
       "184.0    0.002604\n",
       "175.0    0.002604\n",
       "504.0    0.002604\n",
       "87.0     0.002604\n",
       "56.0     0.002604\n",
       "100.0    0.002604\n",
       "200.0    0.002604\n",
       "Name: time_to_merge, dtype: float64"
      ]
     },
     "execution_count": 12,
     "metadata": {},
     "output_type": "execute_result"
    }
   ],
   "source": [
    "# what if we chose some intermediate value e.g. 3 hours as the granularity?\n",
    "ttm_3hours = np.ceil(pr_df.time_to_merge / (60 * 60 * 3))\n",
    "\n",
    "# value counts - to how many PRs have value 1, 2, 3, etc. for num. 3-hours to merge\n",
    "vc = ttm_3hours.value_counts()\n",
    "\n",
    "# normalized value counts (i.e. percent of PRs instead of raw number)\n",
    "nvc = vc / vc.sum()\n",
    "nvc"
   ]
  },
  {
   "cell_type": "code",
   "execution_count": 13,
   "id": "44e09f11",
   "metadata": {
    "execution": {
     "iopub.execute_input": "2022-11-04T09:52:08.771245Z",
     "iopub.status.busy": "2022-11-04T09:52:08.770794Z",
     "iopub.status.idle": "2022-11-04T09:52:08.782148Z",
     "shell.execute_reply": "2022-11-04T09:52:08.781307Z"
    },
    "tags": []
   },
   "outputs": [
    {
     "data": {
      "text/plain": [
       "1.0      0.687500\n",
       "2.0      0.041667\n",
       "4.0      0.018229\n",
       "22.0     0.013021\n",
       "13.0     0.007812\n",
       "           ...   \n",
       "44.0     0.002604\n",
       "137.0    0.002604\n",
       "116.0    0.002604\n",
       "497.0    0.002604\n",
       "600.0    0.002604\n",
       "Name: time_to_merge, Length: 82, dtype: float64"
      ]
     },
     "execution_count": 13,
     "metadata": {},
     "output_type": "execute_result"
    }
   ],
   "source": [
    "# what if we chose hours as the granularity?\n",
    "ttm_hours = np.ceil(pr_df.time_to_merge / (60 * 60))\n",
    "\n",
    "# value counts - to how many PRs have value 1, 2, 3, etc. for hours to merge\n",
    "vc = ttm_hours.value_counts()\n",
    "\n",
    "# normalized value counts (i.e. percent of PRs instead of raw number)\n",
    "nvc = vc / vc.sum()\n",
    "nvc"
   ]
  },
  {
   "cell_type": "markdown",
   "id": "fb8e316b",
   "metadata": {},
   "source": [
    "Now, lets try to determine, if we were to set this up as a classification problem, what the output classes should be. In the following cell, we'll try to split the time-to-merge values into 10 equally populated buckets."
   ]
  },
  {
   "cell_type": "code",
   "execution_count": 14,
   "id": "0ca35bc5",
   "metadata": {
    "execution": {
     "iopub.execute_input": "2022-11-04T09:52:08.786383Z",
     "iopub.status.busy": "2022-11-04T09:52:08.785960Z",
     "iopub.status.idle": "2022-11-04T09:52:08.798665Z",
     "shell.execute_reply": "2022-11-04T09:52:08.797823Z"
    }
   },
   "outputs": [
    {
     "data": {
      "text/plain": [
       "0.0      0.001944\n",
       "0.1      0.010361\n",
       "0.2      0.032944\n",
       "0.3      0.037778\n",
       "0.4      0.072278\n",
       "0.5      0.168750\n",
       "0.6      0.341278\n",
       "0.7      1.391222\n",
       "0.8     19.724167\n",
       "0.9    120.568972\n",
       "Name: time_to_merge, dtype: float64"
      ]
     },
     "execution_count": 14,
     "metadata": {},
     "output_type": "execute_result"
    }
   ],
   "source": [
    "# lets look at what the 10th, 20th, 30th etc percentiles are, to see what the bin boundaries (in terms of hours)\n",
    "# would be if we were to split the data in 10 equally populated bins\n",
    "n_buckets = 10\n",
    "\n",
    "quantiles = pr_df.time_to_merge.quantile(q=np.arange(0, 1 + 1e-100, 1 / n_buckets))\n",
    "quantiles / 3600"
   ]
  },
  {
   "cell_type": "code",
   "execution_count": 15,
   "id": "7b36d5d4-ec27-4a59-b63f-515830da1ae9",
   "metadata": {
    "execution": {
     "iopub.execute_input": "2022-11-04T09:52:08.803205Z",
     "iopub.status.busy": "2022-11-04T09:52:08.802767Z",
     "iopub.status.idle": "2022-11-04T09:52:08.808311Z",
     "shell.execute_reply": "2022-11-04T09:52:08.807394Z"
    }
   },
   "outputs": [],
   "source": [
    "intervals = quantiles"
   ]
  },
  {
   "cell_type": "code",
   "execution_count": 16,
   "id": "acc2bfd4",
   "metadata": {
    "execution": {
     "iopub.execute_input": "2022-11-04T09:52:08.811868Z",
     "iopub.status.busy": "2022-11-04T09:52:08.811542Z",
     "iopub.status.idle": "2022-11-04T09:52:08.821057Z",
     "shell.execute_reply": "2022-11-04T09:52:08.820146Z"
    }
   },
   "outputs": [
    {
     "data": {
      "text/plain": [
       "0.0           NaN\n",
       "0.1      0.008417\n",
       "0.2      0.022583\n",
       "0.3      0.004833\n",
       "0.4      0.034500\n",
       "0.5      0.096472\n",
       "0.6      0.172528\n",
       "0.7      1.049944\n",
       "0.8     18.332944\n",
       "0.9    100.844806\n",
       "Name: time_to_merge, dtype: float64"
      ]
     },
     "execution_count": 16,
     "metadata": {},
     "output_type": "execute_result"
    }
   ],
   "source": [
    "# gaps between the buckets (i.e. size of each bucket) in hours\n",
    "(quantiles - quantiles.shift()) / 3600"
   ]
  },
  {
   "cell_type": "markdown",
   "id": "7111b3d8",
   "metadata": {},
   "source": [
    "If we want to frame our ML problem as a classification problem, we can use the above buckets to define the classes."
   ]
  },
  {
   "cell_type": "markdown",
   "id": "21dc2dcf",
   "metadata": {},
   "source": [
    "**Body**\n",
    "\n",
    "Here, we will derive a feature called `body_size` which will simply be the number of words in the body of the PR. We can use this numerical value to describe the body of the PR."
   ]
  },
  {
   "cell_type": "code",
   "execution_count": 17,
   "id": "212f8a44",
   "metadata": {
    "execution": {
     "iopub.execute_input": "2022-11-04T09:52:08.825541Z",
     "iopub.status.busy": "2022-11-04T09:52:08.825267Z",
     "iopub.status.idle": "2022-11-04T09:52:08.833373Z",
     "shell.execute_reply": "2022-11-04T09:52:08.832569Z"
    }
   },
   "outputs": [],
   "source": [
    "# derive body_size\n",
    "pr_df[\"body_size\"] = pr_df[\"body\"].fillna(\"\").apply(lambda x: len(x.split()))"
   ]
  },
  {
   "cell_type": "code",
   "execution_count": 18,
   "id": "c62d9484",
   "metadata": {
    "execution": {
     "iopub.execute_input": "2022-11-04T09:52:08.837300Z",
     "iopub.status.busy": "2022-11-04T09:52:08.836871Z",
     "iopub.status.idle": "2022-11-04T09:52:08.845966Z",
     "shell.execute_reply": "2022-11-04T09:52:08.845171Z"
    }
   },
   "outputs": [
    {
     "data": {
      "text/plain": [
       "0      468\n",
       "1       74\n",
       "2      124\n",
       "3        6\n",
       "4       73\n",
       "      ... \n",
       "411     83\n",
       "412     17\n",
       "413     77\n",
       "414     61\n",
       "415     40\n",
       "Name: body_size, Length: 416, dtype: int64"
      ]
     },
     "execution_count": 18,
     "metadata": {},
     "output_type": "execute_result"
    }
   ],
   "source": [
    "pr_df[\"body_size\"]"
   ]
  },
  {
   "cell_type": "markdown",
   "id": "9916fd09",
   "metadata": {},
   "source": [
    "**Size**\n",
    "\n",
    "We can attempt to convert the categorical size label generated by GitHub, which summarizes the size of the changes made to the code base, to a numerical value. "
   ]
  },
  {
   "cell_type": "code",
   "execution_count": 19,
   "id": "cbc553ee-3e0b-45ed-83f6-02ae860bef85",
   "metadata": {
    "execution": {
     "iopub.execute_input": "2022-11-04T09:52:08.849565Z",
     "iopub.status.busy": "2022-11-04T09:52:08.849288Z",
     "iopub.status.idle": "2022-11-04T09:52:08.858232Z",
     "shell.execute_reply": "2022-11-04T09:52:08.857381Z"
    }
   },
   "outputs": [
    {
     "data": {
      "text/plain": [
       "{'L', 'M', 'S', 'XL', 'XS', 'XXL'}"
      ]
     },
     "execution_count": 19,
     "metadata": {},
     "output_type": "execute_result"
    }
   ],
   "source": [
    "set(pr_df['size'])"
   ]
  },
  {
   "cell_type": "code",
   "execution_count": 20,
   "id": "709b4cf9",
   "metadata": {
    "execution": {
     "iopub.execute_input": "2022-11-04T09:52:08.862174Z",
     "iopub.status.busy": "2022-11-04T09:52:08.861880Z",
     "iopub.status.idle": "2022-11-04T09:52:08.868446Z",
     "shell.execute_reply": "2022-11-04T09:52:08.867635Z"
    }
   },
   "outputs": [],
   "source": [
    "convert_size = {\"size\": {\"NaN\": 0, \"XS\": 0, \"S\": 1, \"M\": 2, \"L\": 3, \"XL\": 4, \"XXL\": 5}}\n",
    "pr_df = pr_df.replace(convert_size)"
   ]
  },
  {
   "cell_type": "markdown",
   "id": "0b803d48",
   "metadata": {},
   "source": [
    "**Title**\n",
    "\n",
    "Lets try to see if the PR title text can be used to extract any useful information regarding the PR."
   ]
  },
  {
   "cell_type": "code",
   "execution_count": 21,
   "id": "020f050a",
   "metadata": {
    "execution": {
     "iopub.execute_input": "2022-11-04T09:52:08.872435Z",
     "iopub.status.busy": "2022-11-04T09:52:08.872145Z",
     "iopub.status.idle": "2022-11-04T09:52:08.882680Z",
     "shell.execute_reply": "2022-11-04T09:52:08.881749Z"
    }
   },
   "outputs": [
    {
     "data": {
      "text/plain": [
       "0                              release of version 2 12 0\n",
       "1      automatic update of dependencies by kebechet f...\n",
       "2                                               mi fixes\n",
       "3                   automatic update of base image in ci\n",
       "4      automatic update of dependencies by kebechet f...\n",
       "                             ...                        \n",
       "411              feature expand data collection from prs\n",
       "412                           correct typo in codeowners\n",
       "413    refactor code and correct the update knowledge...\n",
       "414                                 correct update logic\n",
       "415    collect and analyze stastistics on project rep...\n",
       "Name: title, Length: 416, dtype: object"
      ]
     },
     "execution_count": 21,
     "metadata": {},
     "output_type": "execute_result"
    }
   ],
   "source": [
    "# first lets preprocess the text available in the titles\n",
    "\n",
    "# convert to lowercase\n",
    "preproc_titles = pr_df[\"title\"].str.lower()\n",
    "\n",
    "# remove punctuations and symbols like : ; , # ( ) [ ] etc\n",
    "preproc_titles = preproc_titles.str.replace(r'[`#-.?!,:;\\/()\\[\\]\"\\']', \" \", regex=True)\n",
    "\n",
    "# remove hash-like strings i.e. 25+ char long strings containing 0-9 or a-f\n",
    "preproc_titles = preproc_titles.str.replace(r\"[0-9a-f]{25,}\", \" \", regex=True)\n",
    "\n",
    "preproc_titles"
   ]
  },
  {
   "cell_type": "code",
   "execution_count": 22,
   "id": "2ecc397e",
   "metadata": {
    "execution": {
     "iopub.execute_input": "2022-11-04T09:52:08.886501Z",
     "iopub.status.busy": "2022-11-04T09:52:08.885980Z",
     "iopub.status.idle": "2022-11-04T09:52:08.902584Z",
     "shell.execute_reply": "2022-11-04T09:52:08.901353Z"
    }
   },
   "outputs": [],
   "source": [
    "# what are the most commonly appearing words in the titles\n",
    "\n",
    "# combin all titles and split into words\n",
    "words = preproc_titles.str.cat(sep=\" \").split()\n",
    "\n",
    "# remove stopwords and numbers (e.g. bugzilla ids)\n",
    "words = [w for w in words if w not in set(STOPWORDS) and not w.isnumeric()]\n",
    "\n",
    "# word frequencies\n",
    "unique_words, counts = np.unique(words, return_counts=True)\n",
    "vc = pd.Series(counts, index=unique_words).sort_values(ascending=False)"
   ]
  },
  {
   "cell_type": "markdown",
   "id": "c52f211c",
   "metadata": {},
   "source": [
    "From the above graph, we can see that titles often contain some keywords that can hint towards the type of changes being made in the PR. We will create a feature which is a vector indicating how many times each word appeared in the title. This way, even if a less prominent word is more correlated with time_to_merge, we will be able to capture that relationship."
   ]
  },
  {
   "cell_type": "code",
   "execution_count": 23,
   "id": "65279268",
   "metadata": {
    "execution": {
     "iopub.execute_input": "2022-11-04T09:52:08.906122Z",
     "iopub.status.busy": "2022-11-04T09:52:08.905838Z",
     "iopub.status.idle": "2022-11-04T09:52:11.283975Z",
     "shell.execute_reply": "2022-11-04T09:52:11.282741Z"
    }
   },
   "outputs": [
    {
     "name": "stderr",
     "output_type": "stream",
     "text": [
      "  0%|          | 0/328 [00:00<?, ?it/s]/tmp/ipykernel_146/4191214648.py:3: PerformanceWarning: DataFrame is highly fragmented.  This is usually the result of calling `frame.insert` many times, which has poor performance.  Consider joining all columns at once using pd.concat(axis=1) instead. To get a de-fragmented frame, use `newframe = frame.copy()`\n",
      "  pr_df[f\"title_wordcount_{word}\"] = preproc_titles.apply(\n",
      " 30%|██▉       | 97/328 [00:00<00:00, 317.52it/s]/tmp/ipykernel_146/4191214648.py:3: PerformanceWarning: DataFrame is highly fragmented.  This is usually the result of calling `frame.insert` many times, which has poor performance.  Consider joining all columns at once using pd.concat(axis=1) instead. To get a de-fragmented frame, use `newframe = frame.copy()`\n",
      "  pr_df[f\"title_wordcount_{word}\"] = preproc_titles.apply(\n",
      "/tmp/ipykernel_146/4191214648.py:3: PerformanceWarning: DataFrame is highly fragmented.  This is usually the result of calling `frame.insert` many times, which has poor performance.  Consider joining all columns at once using pd.concat(axis=1) instead. To get a de-fragmented frame, use `newframe = frame.copy()`\n",
      "  pr_df[f\"title_wordcount_{word}\"] = preproc_titles.apply(\n",
      "/tmp/ipykernel_146/4191214648.py:3: PerformanceWarning: DataFrame is highly fragmented.  This is usually the result of calling `frame.insert` many times, which has poor performance.  Consider joining all columns at once using pd.concat(axis=1) instead. To get a de-fragmented frame, use `newframe = frame.copy()`\n",
      "  pr_df[f\"title_wordcount_{word}\"] = preproc_titles.apply(\n",
      "/tmp/ipykernel_146/4191214648.py:3: PerformanceWarning: DataFrame is highly fragmented.  This is usually the result of calling `frame.insert` many times, which has poor performance.  Consider joining all columns at once using pd.concat(axis=1) instead. To get a de-fragmented frame, use `newframe = frame.copy()`\n",
      "  pr_df[f\"title_wordcount_{word}\"] = preproc_titles.apply(\n",
      "/tmp/ipykernel_146/4191214648.py:3: PerformanceWarning: DataFrame is highly fragmented.  This is usually the result of calling `frame.insert` many times, which has poor performance.  Consider joining all columns at once using pd.concat(axis=1) instead. To get a de-fragmented frame, use `newframe = frame.copy()`\n",
      "  pr_df[f\"title_wordcount_{word}\"] = preproc_titles.apply(\n",
      "/tmp/ipykernel_146/4191214648.py:3: PerformanceWarning: DataFrame is highly fragmented.  This is usually the result of calling `frame.insert` many times, which has poor performance.  Consider joining all columns at once using pd.concat(axis=1) instead. To get a de-fragmented frame, use `newframe = frame.copy()`\n",
      "  pr_df[f\"title_wordcount_{word}\"] = preproc_titles.apply(\n",
      "/tmp/ipykernel_146/4191214648.py:3: PerformanceWarning: DataFrame is highly fragmented.  This is usually the result of calling `frame.insert` many times, which has poor performance.  Consider joining all columns at once using pd.concat(axis=1) instead. To get a de-fragmented frame, use `newframe = frame.copy()`\n",
      "  pr_df[f\"title_wordcount_{word}\"] = preproc_titles.apply(\n",
      "/tmp/ipykernel_146/4191214648.py:3: PerformanceWarning: DataFrame is highly fragmented.  This is usually the result of calling `frame.insert` many times, which has poor performance.  Consider joining all columns at once using pd.concat(axis=1) instead. To get a de-fragmented frame, use `newframe = frame.copy()`\n",
      "  pr_df[f\"title_wordcount_{word}\"] = preproc_titles.apply(\n",
      "/tmp/ipykernel_146/4191214648.py:3: PerformanceWarning: DataFrame is highly fragmented.  This is usually the result of calling `frame.insert` many times, which has poor performance.  Consider joining all columns at once using pd.concat(axis=1) instead. To get a de-fragmented frame, use `newframe = frame.copy()`\n",
      "  pr_df[f\"title_wordcount_{word}\"] = preproc_titles.apply(\n",
      "/tmp/ipykernel_146/4191214648.py:3: PerformanceWarning: DataFrame is highly fragmented.  This is usually the result of calling `frame.insert` many times, which has poor performance.  Consider joining all columns at once using pd.concat(axis=1) instead. To get a de-fragmented frame, use `newframe = frame.copy()`\n",
      "  pr_df[f\"title_wordcount_{word}\"] = preproc_titles.apply(\n",
      "/tmp/ipykernel_146/4191214648.py:3: PerformanceWarning: DataFrame is highly fragmented.  This is usually the result of calling `frame.insert` many times, which has poor performance.  Consider joining all columns at once using pd.concat(axis=1) instead. To get a de-fragmented frame, use `newframe = frame.copy()`\n",
      "  pr_df[f\"title_wordcount_{word}\"] = preproc_titles.apply(\n",
      "/tmp/ipykernel_146/4191214648.py:3: PerformanceWarning: DataFrame is highly fragmented.  This is usually the result of calling `frame.insert` many times, which has poor performance.  Consider joining all columns at once using pd.concat(axis=1) instead. To get a de-fragmented frame, use `newframe = frame.copy()`\n",
      "  pr_df[f\"title_wordcount_{word}\"] = preproc_titles.apply(\n",
      "/tmp/ipykernel_146/4191214648.py:3: PerformanceWarning: DataFrame is highly fragmented.  This is usually the result of calling `frame.insert` many times, which has poor performance.  Consider joining all columns at once using pd.concat(axis=1) instead. To get a de-fragmented frame, use `newframe = frame.copy()`\n",
      "  pr_df[f\"title_wordcount_{word}\"] = preproc_titles.apply(\n",
      "/tmp/ipykernel_146/4191214648.py:3: PerformanceWarning: DataFrame is highly fragmented.  This is usually the result of calling `frame.insert` many times, which has poor performance.  Consider joining all columns at once using pd.concat(axis=1) instead. To get a de-fragmented frame, use `newframe = frame.copy()`\n",
      "  pr_df[f\"title_wordcount_{word}\"] = preproc_titles.apply(\n",
      "/tmp/ipykernel_146/4191214648.py:3: PerformanceWarning: DataFrame is highly fragmented.  This is usually the result of calling `frame.insert` many times, which has poor performance.  Consider joining all columns at once using pd.concat(axis=1) instead. To get a de-fragmented frame, use `newframe = frame.copy()`\n",
      "  pr_df[f\"title_wordcount_{word}\"] = preproc_titles.apply(\n",
      "/tmp/ipykernel_146/4191214648.py:3: PerformanceWarning: DataFrame is highly fragmented.  This is usually the result of calling `frame.insert` many times, which has poor performance.  Consider joining all columns at once using pd.concat(axis=1) instead. To get a de-fragmented frame, use `newframe = frame.copy()`\n",
      "  pr_df[f\"title_wordcount_{word}\"] = preproc_titles.apply(\n",
      "/tmp/ipykernel_146/4191214648.py:3: PerformanceWarning: DataFrame is highly fragmented.  This is usually the result of calling `frame.insert` many times, which has poor performance.  Consider joining all columns at once using pd.concat(axis=1) instead. To get a de-fragmented frame, use `newframe = frame.copy()`\n",
      "  pr_df[f\"title_wordcount_{word}\"] = preproc_titles.apply(\n",
      "/tmp/ipykernel_146/4191214648.py:3: PerformanceWarning: DataFrame is highly fragmented.  This is usually the result of calling `frame.insert` many times, which has poor performance.  Consider joining all columns at once using pd.concat(axis=1) instead. To get a de-fragmented frame, use `newframe = frame.copy()`\n",
      "  pr_df[f\"title_wordcount_{word}\"] = preproc_titles.apply(\n",
      "/tmp/ipykernel_146/4191214648.py:3: PerformanceWarning: DataFrame is highly fragmented.  This is usually the result of calling `frame.insert` many times, which has poor performance.  Consider joining all columns at once using pd.concat(axis=1) instead. To get a de-fragmented frame, use `newframe = frame.copy()`\n",
      "  pr_df[f\"title_wordcount_{word}\"] = preproc_titles.apply(\n",
      "/tmp/ipykernel_146/4191214648.py:3: PerformanceWarning: DataFrame is highly fragmented.  This is usually the result of calling `frame.insert` many times, which has poor performance.  Consider joining all columns at once using pd.concat(axis=1) instead. To get a de-fragmented frame, use `newframe = frame.copy()`\n",
      "  pr_df[f\"title_wordcount_{word}\"] = preproc_titles.apply(\n",
      "/tmp/ipykernel_146/4191214648.py:3: PerformanceWarning: DataFrame is highly fragmented.  This is usually the result of calling `frame.insert` many times, which has poor performance.  Consider joining all columns at once using pd.concat(axis=1) instead. To get a de-fragmented frame, use `newframe = frame.copy()`\n",
      "  pr_df[f\"title_wordcount_{word}\"] = preproc_titles.apply(\n",
      "/tmp/ipykernel_146/4191214648.py:3: PerformanceWarning: DataFrame is highly fragmented.  This is usually the result of calling `frame.insert` many times, which has poor performance.  Consider joining all columns at once using pd.concat(axis=1) instead. To get a de-fragmented frame, use `newframe = frame.copy()`\n",
      "  pr_df[f\"title_wordcount_{word}\"] = preproc_titles.apply(\n",
      "/tmp/ipykernel_146/4191214648.py:3: PerformanceWarning: DataFrame is highly fragmented.  This is usually the result of calling `frame.insert` many times, which has poor performance.  Consider joining all columns at once using pd.concat(axis=1) instead. To get a de-fragmented frame, use `newframe = frame.copy()`\n",
      "  pr_df[f\"title_wordcount_{word}\"] = preproc_titles.apply(\n",
      "/tmp/ipykernel_146/4191214648.py:3: PerformanceWarning: DataFrame is highly fragmented.  This is usually the result of calling `frame.insert` many times, which has poor performance.  Consider joining all columns at once using pd.concat(axis=1) instead. To get a de-fragmented frame, use `newframe = frame.copy()`\n",
      "  pr_df[f\"title_wordcount_{word}\"] = preproc_titles.apply(\n",
      "/tmp/ipykernel_146/4191214648.py:3: PerformanceWarning: DataFrame is highly fragmented.  This is usually the result of calling `frame.insert` many times, which has poor performance.  Consider joining all columns at once using pd.concat(axis=1) instead. To get a de-fragmented frame, use `newframe = frame.copy()`\n",
      "  pr_df[f\"title_wordcount_{word}\"] = preproc_titles.apply(\n",
      "/tmp/ipykernel_146/4191214648.py:3: PerformanceWarning: DataFrame is highly fragmented.  This is usually the result of calling `frame.insert` many times, which has poor performance.  Consider joining all columns at once using pd.concat(axis=1) instead. To get a de-fragmented frame, use `newframe = frame.copy()`\n",
      "  pr_df[f\"title_wordcount_{word}\"] = preproc_titles.apply(\n",
      "/tmp/ipykernel_146/4191214648.py:3: PerformanceWarning: DataFrame is highly fragmented.  This is usually the result of calling `frame.insert` many times, which has poor performance.  Consider joining all columns at once using pd.concat(axis=1) instead. To get a de-fragmented frame, use `newframe = frame.copy()`\n",
      "  pr_df[f\"title_wordcount_{word}\"] = preproc_titles.apply(\n",
      "/tmp/ipykernel_146/4191214648.py:3: PerformanceWarning: DataFrame is highly fragmented.  This is usually the result of calling `frame.insert` many times, which has poor performance.  Consider joining all columns at once using pd.concat(axis=1) instead. To get a de-fragmented frame, use `newframe = frame.copy()`\n",
      "  pr_df[f\"title_wordcount_{word}\"] = preproc_titles.apply(\n",
      "/tmp/ipykernel_146/4191214648.py:3: PerformanceWarning: DataFrame is highly fragmented.  This is usually the result of calling `frame.insert` many times, which has poor performance.  Consider joining all columns at once using pd.concat(axis=1) instead. To get a de-fragmented frame, use `newframe = frame.copy()`\n",
      "  pr_df[f\"title_wordcount_{word}\"] = preproc_titles.apply(\n",
      "/tmp/ipykernel_146/4191214648.py:3: PerformanceWarning: DataFrame is highly fragmented.  This is usually the result of calling `frame.insert` many times, which has poor performance.  Consider joining all columns at once using pd.concat(axis=1) instead. To get a de-fragmented frame, use `newframe = frame.copy()`\n",
      "  pr_df[f\"title_wordcount_{word}\"] = preproc_titles.apply(\n",
      "/tmp/ipykernel_146/4191214648.py:3: PerformanceWarning: DataFrame is highly fragmented.  This is usually the result of calling `frame.insert` many times, which has poor performance.  Consider joining all columns at once using pd.concat(axis=1) instead. To get a de-fragmented frame, use `newframe = frame.copy()`\n",
      "  pr_df[f\"title_wordcount_{word}\"] = preproc_titles.apply(\n",
      "/tmp/ipykernel_146/4191214648.py:3: PerformanceWarning: DataFrame is highly fragmented.  This is usually the result of calling `frame.insert` many times, which has poor performance.  Consider joining all columns at once using pd.concat(axis=1) instead. To get a de-fragmented frame, use `newframe = frame.copy()`\n",
      "  pr_df[f\"title_wordcount_{word}\"] = preproc_titles.apply(\n",
      " 39%|███▉      | 129/328 [00:00<00:01, 197.90it/s]/tmp/ipykernel_146/4191214648.py:3: PerformanceWarning: DataFrame is highly fragmented.  This is usually the result of calling `frame.insert` many times, which has poor performance.  Consider joining all columns at once using pd.concat(axis=1) instead. To get a de-fragmented frame, use `newframe = frame.copy()`\n",
      "  pr_df[f\"title_wordcount_{word}\"] = preproc_titles.apply(\n",
      "/tmp/ipykernel_146/4191214648.py:3: PerformanceWarning: DataFrame is highly fragmented.  This is usually the result of calling `frame.insert` many times, which has poor performance.  Consider joining all columns at once using pd.concat(axis=1) instead. To get a de-fragmented frame, use `newframe = frame.copy()`\n",
      "  pr_df[f\"title_wordcount_{word}\"] = preproc_titles.apply(\n",
      "/tmp/ipykernel_146/4191214648.py:3: PerformanceWarning: DataFrame is highly fragmented.  This is usually the result of calling `frame.insert` many times, which has poor performance.  Consider joining all columns at once using pd.concat(axis=1) instead. To get a de-fragmented frame, use `newframe = frame.copy()`\n",
      "  pr_df[f\"title_wordcount_{word}\"] = preproc_titles.apply(\n",
      "/tmp/ipykernel_146/4191214648.py:3: PerformanceWarning: DataFrame is highly fragmented.  This is usually the result of calling `frame.insert` many times, which has poor performance.  Consider joining all columns at once using pd.concat(axis=1) instead. To get a de-fragmented frame, use `newframe = frame.copy()`\n",
      "  pr_df[f\"title_wordcount_{word}\"] = preproc_titles.apply(\n",
      "/tmp/ipykernel_146/4191214648.py:3: PerformanceWarning: DataFrame is highly fragmented.  This is usually the result of calling `frame.insert` many times, which has poor performance.  Consider joining all columns at once using pd.concat(axis=1) instead. To get a de-fragmented frame, use `newframe = frame.copy()`\n",
      "  pr_df[f\"title_wordcount_{word}\"] = preproc_titles.apply(\n",
      "/tmp/ipykernel_146/4191214648.py:3: PerformanceWarning: DataFrame is highly fragmented.  This is usually the result of calling `frame.insert` many times, which has poor performance.  Consider joining all columns at once using pd.concat(axis=1) instead. To get a de-fragmented frame, use `newframe = frame.copy()`\n",
      "  pr_df[f\"title_wordcount_{word}\"] = preproc_titles.apply(\n",
      "/tmp/ipykernel_146/4191214648.py:3: PerformanceWarning: DataFrame is highly fragmented.  This is usually the result of calling `frame.insert` many times, which has poor performance.  Consider joining all columns at once using pd.concat(axis=1) instead. To get a de-fragmented frame, use `newframe = frame.copy()`\n",
      "  pr_df[f\"title_wordcount_{word}\"] = preproc_titles.apply(\n",
      "/tmp/ipykernel_146/4191214648.py:3: PerformanceWarning: DataFrame is highly fragmented.  This is usually the result of calling `frame.insert` many times, which has poor performance.  Consider joining all columns at once using pd.concat(axis=1) instead. To get a de-fragmented frame, use `newframe = frame.copy()`\n",
      "  pr_df[f\"title_wordcount_{word}\"] = preproc_titles.apply(\n",
      "/tmp/ipykernel_146/4191214648.py:3: PerformanceWarning: DataFrame is highly fragmented.  This is usually the result of calling `frame.insert` many times, which has poor performance.  Consider joining all columns at once using pd.concat(axis=1) instead. To get a de-fragmented frame, use `newframe = frame.copy()`\n",
      "  pr_df[f\"title_wordcount_{word}\"] = preproc_titles.apply(\n",
      "/tmp/ipykernel_146/4191214648.py:3: PerformanceWarning: DataFrame is highly fragmented.  This is usually the result of calling `frame.insert` many times, which has poor performance.  Consider joining all columns at once using pd.concat(axis=1) instead. To get a de-fragmented frame, use `newframe = frame.copy()`\n",
      "  pr_df[f\"title_wordcount_{word}\"] = preproc_titles.apply(\n",
      "/tmp/ipykernel_146/4191214648.py:3: PerformanceWarning: DataFrame is highly fragmented.  This is usually the result of calling `frame.insert` many times, which has poor performance.  Consider joining all columns at once using pd.concat(axis=1) instead. To get a de-fragmented frame, use `newframe = frame.copy()`\n",
      "  pr_df[f\"title_wordcount_{word}\"] = preproc_titles.apply(\n",
      "/tmp/ipykernel_146/4191214648.py:3: PerformanceWarning: DataFrame is highly fragmented.  This is usually the result of calling `frame.insert` many times, which has poor performance.  Consider joining all columns at once using pd.concat(axis=1) instead. To get a de-fragmented frame, use `newframe = frame.copy()`\n",
      "  pr_df[f\"title_wordcount_{word}\"] = preproc_titles.apply(\n",
      "/tmp/ipykernel_146/4191214648.py:3: PerformanceWarning: DataFrame is highly fragmented.  This is usually the result of calling `frame.insert` many times, which has poor performance.  Consider joining all columns at once using pd.concat(axis=1) instead. To get a de-fragmented frame, use `newframe = frame.copy()`\n",
      "  pr_df[f\"title_wordcount_{word}\"] = preproc_titles.apply(\n",
      "/tmp/ipykernel_146/4191214648.py:3: PerformanceWarning: DataFrame is highly fragmented.  This is usually the result of calling `frame.insert` many times, which has poor performance.  Consider joining all columns at once using pd.concat(axis=1) instead. To get a de-fragmented frame, use `newframe = frame.copy()`\n",
      "  pr_df[f\"title_wordcount_{word}\"] = preproc_titles.apply(\n",
      "/tmp/ipykernel_146/4191214648.py:3: PerformanceWarning: DataFrame is highly fragmented.  This is usually the result of calling `frame.insert` many times, which has poor performance.  Consider joining all columns at once using pd.concat(axis=1) instead. To get a de-fragmented frame, use `newframe = frame.copy()`\n",
      "  pr_df[f\"title_wordcount_{word}\"] = preproc_titles.apply(\n",
      "/tmp/ipykernel_146/4191214648.py:3: PerformanceWarning: DataFrame is highly fragmented.  This is usually the result of calling `frame.insert` many times, which has poor performance.  Consider joining all columns at once using pd.concat(axis=1) instead. To get a de-fragmented frame, use `newframe = frame.copy()`\n",
      "  pr_df[f\"title_wordcount_{word}\"] = preproc_titles.apply(\n",
      "/tmp/ipykernel_146/4191214648.py:3: PerformanceWarning: DataFrame is highly fragmented.  This is usually the result of calling `frame.insert` many times, which has poor performance.  Consider joining all columns at once using pd.concat(axis=1) instead. To get a de-fragmented frame, use `newframe = frame.copy()`\n",
      "  pr_df[f\"title_wordcount_{word}\"] = preproc_titles.apply(\n",
      "/tmp/ipykernel_146/4191214648.py:3: PerformanceWarning: DataFrame is highly fragmented.  This is usually the result of calling `frame.insert` many times, which has poor performance.  Consider joining all columns at once using pd.concat(axis=1) instead. To get a de-fragmented frame, use `newframe = frame.copy()`\n",
      "  pr_df[f\"title_wordcount_{word}\"] = preproc_titles.apply(\n",
      "/tmp/ipykernel_146/4191214648.py:3: PerformanceWarning: DataFrame is highly fragmented.  This is usually the result of calling `frame.insert` many times, which has poor performance.  Consider joining all columns at once using pd.concat(axis=1) instead. To get a de-fragmented frame, use `newframe = frame.copy()`\n",
      "  pr_df[f\"title_wordcount_{word}\"] = preproc_titles.apply(\n",
      "/tmp/ipykernel_146/4191214648.py:3: PerformanceWarning: DataFrame is highly fragmented.  This is usually the result of calling `frame.insert` many times, which has poor performance.  Consider joining all columns at once using pd.concat(axis=1) instead. To get a de-fragmented frame, use `newframe = frame.copy()`\n",
      "  pr_df[f\"title_wordcount_{word}\"] = preproc_titles.apply(\n",
      " 45%|████▌     | 149/328 [00:00<00:01, 165.67it/s]/tmp/ipykernel_146/4191214648.py:3: PerformanceWarning: DataFrame is highly fragmented.  This is usually the result of calling `frame.insert` many times, which has poor performance.  Consider joining all columns at once using pd.concat(axis=1) instead. To get a de-fragmented frame, use `newframe = frame.copy()`\n",
      "  pr_df[f\"title_wordcount_{word}\"] = preproc_titles.apply(\n",
      "/tmp/ipykernel_146/4191214648.py:3: PerformanceWarning: DataFrame is highly fragmented.  This is usually the result of calling `frame.insert` many times, which has poor performance.  Consider joining all columns at once using pd.concat(axis=1) instead. To get a de-fragmented frame, use `newframe = frame.copy()`\n",
      "  pr_df[f\"title_wordcount_{word}\"] = preproc_titles.apply(\n",
      "/tmp/ipykernel_146/4191214648.py:3: PerformanceWarning: DataFrame is highly fragmented.  This is usually the result of calling `frame.insert` many times, which has poor performance.  Consider joining all columns at once using pd.concat(axis=1) instead. To get a de-fragmented frame, use `newframe = frame.copy()`\n",
      "  pr_df[f\"title_wordcount_{word}\"] = preproc_titles.apply(\n",
      "/tmp/ipykernel_146/4191214648.py:3: PerformanceWarning: DataFrame is highly fragmented.  This is usually the result of calling `frame.insert` many times, which has poor performance.  Consider joining all columns at once using pd.concat(axis=1) instead. To get a de-fragmented frame, use `newframe = frame.copy()`\n",
      "  pr_df[f\"title_wordcount_{word}\"] = preproc_titles.apply(\n",
      "/tmp/ipykernel_146/4191214648.py:3: PerformanceWarning: DataFrame is highly fragmented.  This is usually the result of calling `frame.insert` many times, which has poor performance.  Consider joining all columns at once using pd.concat(axis=1) instead. To get a de-fragmented frame, use `newframe = frame.copy()`\n",
      "  pr_df[f\"title_wordcount_{word}\"] = preproc_titles.apply(\n",
      "/tmp/ipykernel_146/4191214648.py:3: PerformanceWarning: DataFrame is highly fragmented.  This is usually the result of calling `frame.insert` many times, which has poor performance.  Consider joining all columns at once using pd.concat(axis=1) instead. To get a de-fragmented frame, use `newframe = frame.copy()`\n",
      "  pr_df[f\"title_wordcount_{word}\"] = preproc_titles.apply(\n",
      "/tmp/ipykernel_146/4191214648.py:3: PerformanceWarning: DataFrame is highly fragmented.  This is usually the result of calling `frame.insert` many times, which has poor performance.  Consider joining all columns at once using pd.concat(axis=1) instead. To get a de-fragmented frame, use `newframe = frame.copy()`\n",
      "  pr_df[f\"title_wordcount_{word}\"] = preproc_titles.apply(\n",
      "/tmp/ipykernel_146/4191214648.py:3: PerformanceWarning: DataFrame is highly fragmented.  This is usually the result of calling `frame.insert` many times, which has poor performance.  Consider joining all columns at once using pd.concat(axis=1) instead. To get a de-fragmented frame, use `newframe = frame.copy()`\n",
      "  pr_df[f\"title_wordcount_{word}\"] = preproc_titles.apply(\n",
      "/tmp/ipykernel_146/4191214648.py:3: PerformanceWarning: DataFrame is highly fragmented.  This is usually the result of calling `frame.insert` many times, which has poor performance.  Consider joining all columns at once using pd.concat(axis=1) instead. To get a de-fragmented frame, use `newframe = frame.copy()`\n",
      "  pr_df[f\"title_wordcount_{word}\"] = preproc_titles.apply(\n",
      "/tmp/ipykernel_146/4191214648.py:3: PerformanceWarning: DataFrame is highly fragmented.  This is usually the result of calling `frame.insert` many times, which has poor performance.  Consider joining all columns at once using pd.concat(axis=1) instead. To get a de-fragmented frame, use `newframe = frame.copy()`\n",
      "  pr_df[f\"title_wordcount_{word}\"] = preproc_titles.apply(\n",
      "/tmp/ipykernel_146/4191214648.py:3: PerformanceWarning: DataFrame is highly fragmented.  This is usually the result of calling `frame.insert` many times, which has poor performance.  Consider joining all columns at once using pd.concat(axis=1) instead. To get a de-fragmented frame, use `newframe = frame.copy()`\n",
      "  pr_df[f\"title_wordcount_{word}\"] = preproc_titles.apply(\n",
      "/tmp/ipykernel_146/4191214648.py:3: PerformanceWarning: DataFrame is highly fragmented.  This is usually the result of calling `frame.insert` many times, which has poor performance.  Consider joining all columns at once using pd.concat(axis=1) instead. To get a de-fragmented frame, use `newframe = frame.copy()`\n",
      "  pr_df[f\"title_wordcount_{word}\"] = preproc_titles.apply(\n",
      "/tmp/ipykernel_146/4191214648.py:3: PerformanceWarning: DataFrame is highly fragmented.  This is usually the result of calling `frame.insert` many times, which has poor performance.  Consider joining all columns at once using pd.concat(axis=1) instead. To get a de-fragmented frame, use `newframe = frame.copy()`\n",
      "  pr_df[f\"title_wordcount_{word}\"] = preproc_titles.apply(\n",
      "/tmp/ipykernel_146/4191214648.py:3: PerformanceWarning: DataFrame is highly fragmented.  This is usually the result of calling `frame.insert` many times, which has poor performance.  Consider joining all columns at once using pd.concat(axis=1) instead. To get a de-fragmented frame, use `newframe = frame.copy()`\n",
      "  pr_df[f\"title_wordcount_{word}\"] = preproc_titles.apply(\n",
      "/tmp/ipykernel_146/4191214648.py:3: PerformanceWarning: DataFrame is highly fragmented.  This is usually the result of calling `frame.insert` many times, which has poor performance.  Consider joining all columns at once using pd.concat(axis=1) instead. To get a de-fragmented frame, use `newframe = frame.copy()`\n",
      "  pr_df[f\"title_wordcount_{word}\"] = preproc_titles.apply(\n",
      "/tmp/ipykernel_146/4191214648.py:3: PerformanceWarning: DataFrame is highly fragmented.  This is usually the result of calling `frame.insert` many times, which has poor performance.  Consider joining all columns at once using pd.concat(axis=1) instead. To get a de-fragmented frame, use `newframe = frame.copy()`\n",
      "  pr_df[f\"title_wordcount_{word}\"] = preproc_titles.apply(\n",
      " 50%|█████     | 165/328 [00:01<00:01, 129.34it/s]/tmp/ipykernel_146/4191214648.py:3: PerformanceWarning: DataFrame is highly fragmented.  This is usually the result of calling `frame.insert` many times, which has poor performance.  Consider joining all columns at once using pd.concat(axis=1) instead. To get a de-fragmented frame, use `newframe = frame.copy()`\n",
      "  pr_df[f\"title_wordcount_{word}\"] = preproc_titles.apply(\n",
      "/tmp/ipykernel_146/4191214648.py:3: PerformanceWarning: DataFrame is highly fragmented.  This is usually the result of calling `frame.insert` many times, which has poor performance.  Consider joining all columns at once using pd.concat(axis=1) instead. To get a de-fragmented frame, use `newframe = frame.copy()`\n",
      "  pr_df[f\"title_wordcount_{word}\"] = preproc_titles.apply(\n",
      "/tmp/ipykernel_146/4191214648.py:3: PerformanceWarning: DataFrame is highly fragmented.  This is usually the result of calling `frame.insert` many times, which has poor performance.  Consider joining all columns at once using pd.concat(axis=1) instead. To get a de-fragmented frame, use `newframe = frame.copy()`\n",
      "  pr_df[f\"title_wordcount_{word}\"] = preproc_titles.apply(\n",
      "/tmp/ipykernel_146/4191214648.py:3: PerformanceWarning: DataFrame is highly fragmented.  This is usually the result of calling `frame.insert` many times, which has poor performance.  Consider joining all columns at once using pd.concat(axis=1) instead. To get a de-fragmented frame, use `newframe = frame.copy()`\n",
      "  pr_df[f\"title_wordcount_{word}\"] = preproc_titles.apply(\n",
      "/tmp/ipykernel_146/4191214648.py:3: PerformanceWarning: DataFrame is highly fragmented.  This is usually the result of calling `frame.insert` many times, which has poor performance.  Consider joining all columns at once using pd.concat(axis=1) instead. To get a de-fragmented frame, use `newframe = frame.copy()`\n",
      "  pr_df[f\"title_wordcount_{word}\"] = preproc_titles.apply(\n",
      "/tmp/ipykernel_146/4191214648.py:3: PerformanceWarning: DataFrame is highly fragmented.  This is usually the result of calling `frame.insert` many times, which has poor performance.  Consider joining all columns at once using pd.concat(axis=1) instead. To get a de-fragmented frame, use `newframe = frame.copy()`\n",
      "  pr_df[f\"title_wordcount_{word}\"] = preproc_titles.apply(\n",
      "/tmp/ipykernel_146/4191214648.py:3: PerformanceWarning: DataFrame is highly fragmented.  This is usually the result of calling `frame.insert` many times, which has poor performance.  Consider joining all columns at once using pd.concat(axis=1) instead. To get a de-fragmented frame, use `newframe = frame.copy()`\n",
      "  pr_df[f\"title_wordcount_{word}\"] = preproc_titles.apply(\n",
      "/tmp/ipykernel_146/4191214648.py:3: PerformanceWarning: DataFrame is highly fragmented.  This is usually the result of calling `frame.insert` many times, which has poor performance.  Consider joining all columns at once using pd.concat(axis=1) instead. To get a de-fragmented frame, use `newframe = frame.copy()`\n",
      "  pr_df[f\"title_wordcount_{word}\"] = preproc_titles.apply(\n",
      "/tmp/ipykernel_146/4191214648.py:3: PerformanceWarning: DataFrame is highly fragmented.  This is usually the result of calling `frame.insert` many times, which has poor performance.  Consider joining all columns at once using pd.concat(axis=1) instead. To get a de-fragmented frame, use `newframe = frame.copy()`\n",
      "  pr_df[f\"title_wordcount_{word}\"] = preproc_titles.apply(\n",
      "/tmp/ipykernel_146/4191214648.py:3: PerformanceWarning: DataFrame is highly fragmented.  This is usually the result of calling `frame.insert` many times, which has poor performance.  Consider joining all columns at once using pd.concat(axis=1) instead. To get a de-fragmented frame, use `newframe = frame.copy()`\n",
      "  pr_df[f\"title_wordcount_{word}\"] = preproc_titles.apply(\n",
      "/tmp/ipykernel_146/4191214648.py:3: PerformanceWarning: DataFrame is highly fragmented.  This is usually the result of calling `frame.insert` many times, which has poor performance.  Consider joining all columns at once using pd.concat(axis=1) instead. To get a de-fragmented frame, use `newframe = frame.copy()`\n",
      "  pr_df[f\"title_wordcount_{word}\"] = preproc_titles.apply(\n",
      "/tmp/ipykernel_146/4191214648.py:3: PerformanceWarning: DataFrame is highly fragmented.  This is usually the result of calling `frame.insert` many times, which has poor performance.  Consider joining all columns at once using pd.concat(axis=1) instead. To get a de-fragmented frame, use `newframe = frame.copy()`\n",
      "  pr_df[f\"title_wordcount_{word}\"] = preproc_titles.apply(\n",
      "/tmp/ipykernel_146/4191214648.py:3: PerformanceWarning: DataFrame is highly fragmented.  This is usually the result of calling `frame.insert` many times, which has poor performance.  Consider joining all columns at once using pd.concat(axis=1) instead. To get a de-fragmented frame, use `newframe = frame.copy()`\n",
      "  pr_df[f\"title_wordcount_{word}\"] = preproc_titles.apply(\n",
      " 54%|█████▍    | 178/328 [00:01<00:01, 128.70it/s]/tmp/ipykernel_146/4191214648.py:3: PerformanceWarning: DataFrame is highly fragmented.  This is usually the result of calling `frame.insert` many times, which has poor performance.  Consider joining all columns at once using pd.concat(axis=1) instead. To get a de-fragmented frame, use `newframe = frame.copy()`\n",
      "  pr_df[f\"title_wordcount_{word}\"] = preproc_titles.apply(\n",
      "/tmp/ipykernel_146/4191214648.py:3: PerformanceWarning: DataFrame is highly fragmented.  This is usually the result of calling `frame.insert` many times, which has poor performance.  Consider joining all columns at once using pd.concat(axis=1) instead. To get a de-fragmented frame, use `newframe = frame.copy()`\n",
      "  pr_df[f\"title_wordcount_{word}\"] = preproc_titles.apply(\n",
      "/tmp/ipykernel_146/4191214648.py:3: PerformanceWarning: DataFrame is highly fragmented.  This is usually the result of calling `frame.insert` many times, which has poor performance.  Consider joining all columns at once using pd.concat(axis=1) instead. To get a de-fragmented frame, use `newframe = frame.copy()`\n",
      "  pr_df[f\"title_wordcount_{word}\"] = preproc_titles.apply(\n",
      "/tmp/ipykernel_146/4191214648.py:3: PerformanceWarning: DataFrame is highly fragmented.  This is usually the result of calling `frame.insert` many times, which has poor performance.  Consider joining all columns at once using pd.concat(axis=1) instead. To get a de-fragmented frame, use `newframe = frame.copy()`\n",
      "  pr_df[f\"title_wordcount_{word}\"] = preproc_titles.apply(\n",
      "/tmp/ipykernel_146/4191214648.py:3: PerformanceWarning: DataFrame is highly fragmented.  This is usually the result of calling `frame.insert` many times, which has poor performance.  Consider joining all columns at once using pd.concat(axis=1) instead. To get a de-fragmented frame, use `newframe = frame.copy()`\n",
      "  pr_df[f\"title_wordcount_{word}\"] = preproc_titles.apply(\n",
      "/tmp/ipykernel_146/4191214648.py:3: PerformanceWarning: DataFrame is highly fragmented.  This is usually the result of calling `frame.insert` many times, which has poor performance.  Consider joining all columns at once using pd.concat(axis=1) instead. To get a de-fragmented frame, use `newframe = frame.copy()`\n",
      "  pr_df[f\"title_wordcount_{word}\"] = preproc_titles.apply(\n",
      "/tmp/ipykernel_146/4191214648.py:3: PerformanceWarning: DataFrame is highly fragmented.  This is usually the result of calling `frame.insert` many times, which has poor performance.  Consider joining all columns at once using pd.concat(axis=1) instead. To get a de-fragmented frame, use `newframe = frame.copy()`\n",
      "  pr_df[f\"title_wordcount_{word}\"] = preproc_titles.apply(\n",
      "/tmp/ipykernel_146/4191214648.py:3: PerformanceWarning: DataFrame is highly fragmented.  This is usually the result of calling `frame.insert` many times, which has poor performance.  Consider joining all columns at once using pd.concat(axis=1) instead. To get a de-fragmented frame, use `newframe = frame.copy()`\n",
      "  pr_df[f\"title_wordcount_{word}\"] = preproc_titles.apply(\n",
      "/tmp/ipykernel_146/4191214648.py:3: PerformanceWarning: DataFrame is highly fragmented.  This is usually the result of calling `frame.insert` many times, which has poor performance.  Consider joining all columns at once using pd.concat(axis=1) instead. To get a de-fragmented frame, use `newframe = frame.copy()`\n",
      "  pr_df[f\"title_wordcount_{word}\"] = preproc_titles.apply(\n",
      "/tmp/ipykernel_146/4191214648.py:3: PerformanceWarning: DataFrame is highly fragmented.  This is usually the result of calling `frame.insert` many times, which has poor performance.  Consider joining all columns at once using pd.concat(axis=1) instead. To get a de-fragmented frame, use `newframe = frame.copy()`\n",
      "  pr_df[f\"title_wordcount_{word}\"] = preproc_titles.apply(\n",
      "/tmp/ipykernel_146/4191214648.py:3: PerformanceWarning: DataFrame is highly fragmented.  This is usually the result of calling `frame.insert` many times, which has poor performance.  Consider joining all columns at once using pd.concat(axis=1) instead. To get a de-fragmented frame, use `newframe = frame.copy()`\n",
      "  pr_df[f\"title_wordcount_{word}\"] = preproc_titles.apply(\n",
      "/tmp/ipykernel_146/4191214648.py:3: PerformanceWarning: DataFrame is highly fragmented.  This is usually the result of calling `frame.insert` many times, which has poor performance.  Consider joining all columns at once using pd.concat(axis=1) instead. To get a de-fragmented frame, use `newframe = frame.copy()`\n",
      "  pr_df[f\"title_wordcount_{word}\"] = preproc_titles.apply(\n",
      "/tmp/ipykernel_146/4191214648.py:3: PerformanceWarning: DataFrame is highly fragmented.  This is usually the result of calling `frame.insert` many times, which has poor performance.  Consider joining all columns at once using pd.concat(axis=1) instead. To get a de-fragmented frame, use `newframe = frame.copy()`\n",
      "  pr_df[f\"title_wordcount_{word}\"] = preproc_titles.apply(\n",
      " 58%|█████▊    | 191/328 [00:01<00:01, 125.11it/s]/tmp/ipykernel_146/4191214648.py:3: PerformanceWarning: DataFrame is highly fragmented.  This is usually the result of calling `frame.insert` many times, which has poor performance.  Consider joining all columns at once using pd.concat(axis=1) instead. To get a de-fragmented frame, use `newframe = frame.copy()`\n",
      "  pr_df[f\"title_wordcount_{word}\"] = preproc_titles.apply(\n",
      "/tmp/ipykernel_146/4191214648.py:3: PerformanceWarning: DataFrame is highly fragmented.  This is usually the result of calling `frame.insert` many times, which has poor performance.  Consider joining all columns at once using pd.concat(axis=1) instead. To get a de-fragmented frame, use `newframe = frame.copy()`\n",
      "  pr_df[f\"title_wordcount_{word}\"] = preproc_titles.apply(\n",
      "/tmp/ipykernel_146/4191214648.py:3: PerformanceWarning: DataFrame is highly fragmented.  This is usually the result of calling `frame.insert` many times, which has poor performance.  Consider joining all columns at once using pd.concat(axis=1) instead. To get a de-fragmented frame, use `newframe = frame.copy()`\n",
      "  pr_df[f\"title_wordcount_{word}\"] = preproc_titles.apply(\n",
      "/tmp/ipykernel_146/4191214648.py:3: PerformanceWarning: DataFrame is highly fragmented.  This is usually the result of calling `frame.insert` many times, which has poor performance.  Consider joining all columns at once using pd.concat(axis=1) instead. To get a de-fragmented frame, use `newframe = frame.copy()`\n",
      "  pr_df[f\"title_wordcount_{word}\"] = preproc_titles.apply(\n",
      "/tmp/ipykernel_146/4191214648.py:3: PerformanceWarning: DataFrame is highly fragmented.  This is usually the result of calling `frame.insert` many times, which has poor performance.  Consider joining all columns at once using pd.concat(axis=1) instead. To get a de-fragmented frame, use `newframe = frame.copy()`\n",
      "  pr_df[f\"title_wordcount_{word}\"] = preproc_titles.apply(\n",
      "/tmp/ipykernel_146/4191214648.py:3: PerformanceWarning: DataFrame is highly fragmented.  This is usually the result of calling `frame.insert` many times, which has poor performance.  Consider joining all columns at once using pd.concat(axis=1) instead. To get a de-fragmented frame, use `newframe = frame.copy()`\n",
      "  pr_df[f\"title_wordcount_{word}\"] = preproc_titles.apply(\n",
      "/tmp/ipykernel_146/4191214648.py:3: PerformanceWarning: DataFrame is highly fragmented.  This is usually the result of calling `frame.insert` many times, which has poor performance.  Consider joining all columns at once using pd.concat(axis=1) instead. To get a de-fragmented frame, use `newframe = frame.copy()`\n",
      "  pr_df[f\"title_wordcount_{word}\"] = preproc_titles.apply(\n",
      "/tmp/ipykernel_146/4191214648.py:3: PerformanceWarning: DataFrame is highly fragmented.  This is usually the result of calling `frame.insert` many times, which has poor performance.  Consider joining all columns at once using pd.concat(axis=1) instead. To get a de-fragmented frame, use `newframe = frame.copy()`\n",
      "  pr_df[f\"title_wordcount_{word}\"] = preproc_titles.apply(\n",
      "/tmp/ipykernel_146/4191214648.py:3: PerformanceWarning: DataFrame is highly fragmented.  This is usually the result of calling `frame.insert` many times, which has poor performance.  Consider joining all columns at once using pd.concat(axis=1) instead. To get a de-fragmented frame, use `newframe = frame.copy()`\n",
      "  pr_df[f\"title_wordcount_{word}\"] = preproc_titles.apply(\n",
      "/tmp/ipykernel_146/4191214648.py:3: PerformanceWarning: DataFrame is highly fragmented.  This is usually the result of calling `frame.insert` many times, which has poor performance.  Consider joining all columns at once using pd.concat(axis=1) instead. To get a de-fragmented frame, use `newframe = frame.copy()`\n",
      "  pr_df[f\"title_wordcount_{word}\"] = preproc_titles.apply(\n",
      "/tmp/ipykernel_146/4191214648.py:3: PerformanceWarning: DataFrame is highly fragmented.  This is usually the result of calling `frame.insert` many times, which has poor performance.  Consider joining all columns at once using pd.concat(axis=1) instead. To get a de-fragmented frame, use `newframe = frame.copy()`\n",
      "  pr_df[f\"title_wordcount_{word}\"] = preproc_titles.apply(\n",
      "/tmp/ipykernel_146/4191214648.py:3: PerformanceWarning: DataFrame is highly fragmented.  This is usually the result of calling `frame.insert` many times, which has poor performance.  Consider joining all columns at once using pd.concat(axis=1) instead. To get a de-fragmented frame, use `newframe = frame.copy()`\n",
      "  pr_df[f\"title_wordcount_{word}\"] = preproc_titles.apply(\n",
      "/tmp/ipykernel_146/4191214648.py:3: PerformanceWarning: DataFrame is highly fragmented.  This is usually the result of calling `frame.insert` many times, which has poor performance.  Consider joining all columns at once using pd.concat(axis=1) instead. To get a de-fragmented frame, use `newframe = frame.copy()`\n",
      "  pr_df[f\"title_wordcount_{word}\"] = preproc_titles.apply(\n",
      " 62%|██████▏   | 204/328 [00:01<00:00, 124.67it/s]/tmp/ipykernel_146/4191214648.py:3: PerformanceWarning: DataFrame is highly fragmented.  This is usually the result of calling `frame.insert` many times, which has poor performance.  Consider joining all columns at once using pd.concat(axis=1) instead. To get a de-fragmented frame, use `newframe = frame.copy()`\n",
      "  pr_df[f\"title_wordcount_{word}\"] = preproc_titles.apply(\n",
      "/tmp/ipykernel_146/4191214648.py:3: PerformanceWarning: DataFrame is highly fragmented.  This is usually the result of calling `frame.insert` many times, which has poor performance.  Consider joining all columns at once using pd.concat(axis=1) instead. To get a de-fragmented frame, use `newframe = frame.copy()`\n",
      "  pr_df[f\"title_wordcount_{word}\"] = preproc_titles.apply(\n",
      "/tmp/ipykernel_146/4191214648.py:3: PerformanceWarning: DataFrame is highly fragmented.  This is usually the result of calling `frame.insert` many times, which has poor performance.  Consider joining all columns at once using pd.concat(axis=1) instead. To get a de-fragmented frame, use `newframe = frame.copy()`\n",
      "  pr_df[f\"title_wordcount_{word}\"] = preproc_titles.apply(\n",
      "/tmp/ipykernel_146/4191214648.py:3: PerformanceWarning: DataFrame is highly fragmented.  This is usually the result of calling `frame.insert` many times, which has poor performance.  Consider joining all columns at once using pd.concat(axis=1) instead. To get a de-fragmented frame, use `newframe = frame.copy()`\n",
      "  pr_df[f\"title_wordcount_{word}\"] = preproc_titles.apply(\n",
      "/tmp/ipykernel_146/4191214648.py:3: PerformanceWarning: DataFrame is highly fragmented.  This is usually the result of calling `frame.insert` many times, which has poor performance.  Consider joining all columns at once using pd.concat(axis=1) instead. To get a de-fragmented frame, use `newframe = frame.copy()`\n",
      "  pr_df[f\"title_wordcount_{word}\"] = preproc_titles.apply(\n",
      "/tmp/ipykernel_146/4191214648.py:3: PerformanceWarning: DataFrame is highly fragmented.  This is usually the result of calling `frame.insert` many times, which has poor performance.  Consider joining all columns at once using pd.concat(axis=1) instead. To get a de-fragmented frame, use `newframe = frame.copy()`\n",
      "  pr_df[f\"title_wordcount_{word}\"] = preproc_titles.apply(\n",
      "/tmp/ipykernel_146/4191214648.py:3: PerformanceWarning: DataFrame is highly fragmented.  This is usually the result of calling `frame.insert` many times, which has poor performance.  Consider joining all columns at once using pd.concat(axis=1) instead. To get a de-fragmented frame, use `newframe = frame.copy()`\n",
      "  pr_df[f\"title_wordcount_{word}\"] = preproc_titles.apply(\n",
      "/tmp/ipykernel_146/4191214648.py:3: PerformanceWarning: DataFrame is highly fragmented.  This is usually the result of calling `frame.insert` many times, which has poor performance.  Consider joining all columns at once using pd.concat(axis=1) instead. To get a de-fragmented frame, use `newframe = frame.copy()`\n",
      "  pr_df[f\"title_wordcount_{word}\"] = preproc_titles.apply(\n",
      "/tmp/ipykernel_146/4191214648.py:3: PerformanceWarning: DataFrame is highly fragmented.  This is usually the result of calling `frame.insert` many times, which has poor performance.  Consider joining all columns at once using pd.concat(axis=1) instead. To get a de-fragmented frame, use `newframe = frame.copy()`\n",
      "  pr_df[f\"title_wordcount_{word}\"] = preproc_titles.apply(\n",
      "/tmp/ipykernel_146/4191214648.py:3: PerformanceWarning: DataFrame is highly fragmented.  This is usually the result of calling `frame.insert` many times, which has poor performance.  Consider joining all columns at once using pd.concat(axis=1) instead. To get a de-fragmented frame, use `newframe = frame.copy()`\n",
      "  pr_df[f\"title_wordcount_{word}\"] = preproc_titles.apply(\n",
      "/tmp/ipykernel_146/4191214648.py:3: PerformanceWarning: DataFrame is highly fragmented.  This is usually the result of calling `frame.insert` many times, which has poor performance.  Consider joining all columns at once using pd.concat(axis=1) instead. To get a de-fragmented frame, use `newframe = frame.copy()`\n",
      "  pr_df[f\"title_wordcount_{word}\"] = preproc_titles.apply(\n",
      "/tmp/ipykernel_146/4191214648.py:3: PerformanceWarning: DataFrame is highly fragmented.  This is usually the result of calling `frame.insert` many times, which has poor performance.  Consider joining all columns at once using pd.concat(axis=1) instead. To get a de-fragmented frame, use `newframe = frame.copy()`\n",
      "  pr_df[f\"title_wordcount_{word}\"] = preproc_titles.apply(\n",
      "/tmp/ipykernel_146/4191214648.py:3: PerformanceWarning: DataFrame is highly fragmented.  This is usually the result of calling `frame.insert` many times, which has poor performance.  Consider joining all columns at once using pd.concat(axis=1) instead. To get a de-fragmented frame, use `newframe = frame.copy()`\n",
      "  pr_df[f\"title_wordcount_{word}\"] = preproc_titles.apply(\n",
      " 66%|██████▌   | 217/328 [00:01<00:00, 125.15it/s]/tmp/ipykernel_146/4191214648.py:3: PerformanceWarning: DataFrame is highly fragmented.  This is usually the result of calling `frame.insert` many times, which has poor performance.  Consider joining all columns at once using pd.concat(axis=1) instead. To get a de-fragmented frame, use `newframe = frame.copy()`\n",
      "  pr_df[f\"title_wordcount_{word}\"] = preproc_titles.apply(\n",
      "/tmp/ipykernel_146/4191214648.py:3: PerformanceWarning: DataFrame is highly fragmented.  This is usually the result of calling `frame.insert` many times, which has poor performance.  Consider joining all columns at once using pd.concat(axis=1) instead. To get a de-fragmented frame, use `newframe = frame.copy()`\n",
      "  pr_df[f\"title_wordcount_{word}\"] = preproc_titles.apply(\n",
      "/tmp/ipykernel_146/4191214648.py:3: PerformanceWarning: DataFrame is highly fragmented.  This is usually the result of calling `frame.insert` many times, which has poor performance.  Consider joining all columns at once using pd.concat(axis=1) instead. To get a de-fragmented frame, use `newframe = frame.copy()`\n",
      "  pr_df[f\"title_wordcount_{word}\"] = preproc_titles.apply(\n",
      "/tmp/ipykernel_146/4191214648.py:3: PerformanceWarning: DataFrame is highly fragmented.  This is usually the result of calling `frame.insert` many times, which has poor performance.  Consider joining all columns at once using pd.concat(axis=1) instead. To get a de-fragmented frame, use `newframe = frame.copy()`\n",
      "  pr_df[f\"title_wordcount_{word}\"] = preproc_titles.apply(\n",
      "/tmp/ipykernel_146/4191214648.py:3: PerformanceWarning: DataFrame is highly fragmented.  This is usually the result of calling `frame.insert` many times, which has poor performance.  Consider joining all columns at once using pd.concat(axis=1) instead. To get a de-fragmented frame, use `newframe = frame.copy()`\n",
      "  pr_df[f\"title_wordcount_{word}\"] = preproc_titles.apply(\n",
      "/tmp/ipykernel_146/4191214648.py:3: PerformanceWarning: DataFrame is highly fragmented.  This is usually the result of calling `frame.insert` many times, which has poor performance.  Consider joining all columns at once using pd.concat(axis=1) instead. To get a de-fragmented frame, use `newframe = frame.copy()`\n",
      "  pr_df[f\"title_wordcount_{word}\"] = preproc_titles.apply(\n",
      "/tmp/ipykernel_146/4191214648.py:3: PerformanceWarning: DataFrame is highly fragmented.  This is usually the result of calling `frame.insert` many times, which has poor performance.  Consider joining all columns at once using pd.concat(axis=1) instead. To get a de-fragmented frame, use `newframe = frame.copy()`\n",
      "  pr_df[f\"title_wordcount_{word}\"] = preproc_titles.apply(\n",
      "/tmp/ipykernel_146/4191214648.py:3: PerformanceWarning: DataFrame is highly fragmented.  This is usually the result of calling `frame.insert` many times, which has poor performance.  Consider joining all columns at once using pd.concat(axis=1) instead. To get a de-fragmented frame, use `newframe = frame.copy()`\n",
      "  pr_df[f\"title_wordcount_{word}\"] = preproc_titles.apply(\n",
      "/tmp/ipykernel_146/4191214648.py:3: PerformanceWarning: DataFrame is highly fragmented.  This is usually the result of calling `frame.insert` many times, which has poor performance.  Consider joining all columns at once using pd.concat(axis=1) instead. To get a de-fragmented frame, use `newframe = frame.copy()`\n",
      "  pr_df[f\"title_wordcount_{word}\"] = preproc_titles.apply(\n",
      "/tmp/ipykernel_146/4191214648.py:3: PerformanceWarning: DataFrame is highly fragmented.  This is usually the result of calling `frame.insert` many times, which has poor performance.  Consider joining all columns at once using pd.concat(axis=1) instead. To get a de-fragmented frame, use `newframe = frame.copy()`\n",
      "  pr_df[f\"title_wordcount_{word}\"] = preproc_titles.apply(\n",
      "/tmp/ipykernel_146/4191214648.py:3: PerformanceWarning: DataFrame is highly fragmented.  This is usually the result of calling `frame.insert` many times, which has poor performance.  Consider joining all columns at once using pd.concat(axis=1) instead. To get a de-fragmented frame, use `newframe = frame.copy()`\n",
      "  pr_df[f\"title_wordcount_{word}\"] = preproc_titles.apply(\n",
      "/tmp/ipykernel_146/4191214648.py:3: PerformanceWarning: DataFrame is highly fragmented.  This is usually the result of calling `frame.insert` many times, which has poor performance.  Consider joining all columns at once using pd.concat(axis=1) instead. To get a de-fragmented frame, use `newframe = frame.copy()`\n",
      "  pr_df[f\"title_wordcount_{word}\"] = preproc_titles.apply(\n",
      "/tmp/ipykernel_146/4191214648.py:3: PerformanceWarning: DataFrame is highly fragmented.  This is usually the result of calling `frame.insert` many times, which has poor performance.  Consider joining all columns at once using pd.concat(axis=1) instead. To get a de-fragmented frame, use `newframe = frame.copy()`\n",
      "  pr_df[f\"title_wordcount_{word}\"] = preproc_titles.apply(\n",
      " 70%|███████   | 230/328 [00:01<00:00, 124.31it/s]/tmp/ipykernel_146/4191214648.py:3: PerformanceWarning: DataFrame is highly fragmented.  This is usually the result of calling `frame.insert` many times, which has poor performance.  Consider joining all columns at once using pd.concat(axis=1) instead. To get a de-fragmented frame, use `newframe = frame.copy()`\n",
      "  pr_df[f\"title_wordcount_{word}\"] = preproc_titles.apply(\n",
      "/tmp/ipykernel_146/4191214648.py:3: PerformanceWarning: DataFrame is highly fragmented.  This is usually the result of calling `frame.insert` many times, which has poor performance.  Consider joining all columns at once using pd.concat(axis=1) instead. To get a de-fragmented frame, use `newframe = frame.copy()`\n",
      "  pr_df[f\"title_wordcount_{word}\"] = preproc_titles.apply(\n",
      "/tmp/ipykernel_146/4191214648.py:3: PerformanceWarning: DataFrame is highly fragmented.  This is usually the result of calling `frame.insert` many times, which has poor performance.  Consider joining all columns at once using pd.concat(axis=1) instead. To get a de-fragmented frame, use `newframe = frame.copy()`\n",
      "  pr_df[f\"title_wordcount_{word}\"] = preproc_titles.apply(\n",
      "/tmp/ipykernel_146/4191214648.py:3: PerformanceWarning: DataFrame is highly fragmented.  This is usually the result of calling `frame.insert` many times, which has poor performance.  Consider joining all columns at once using pd.concat(axis=1) instead. To get a de-fragmented frame, use `newframe = frame.copy()`\n",
      "  pr_df[f\"title_wordcount_{word}\"] = preproc_titles.apply(\n",
      "/tmp/ipykernel_146/4191214648.py:3: PerformanceWarning: DataFrame is highly fragmented.  This is usually the result of calling `frame.insert` many times, which has poor performance.  Consider joining all columns at once using pd.concat(axis=1) instead. To get a de-fragmented frame, use `newframe = frame.copy()`\n",
      "  pr_df[f\"title_wordcount_{word}\"] = preproc_titles.apply(\n",
      "/tmp/ipykernel_146/4191214648.py:3: PerformanceWarning: DataFrame is highly fragmented.  This is usually the result of calling `frame.insert` many times, which has poor performance.  Consider joining all columns at once using pd.concat(axis=1) instead. To get a de-fragmented frame, use `newframe = frame.copy()`\n",
      "  pr_df[f\"title_wordcount_{word}\"] = preproc_titles.apply(\n",
      "/tmp/ipykernel_146/4191214648.py:3: PerformanceWarning: DataFrame is highly fragmented.  This is usually the result of calling `frame.insert` many times, which has poor performance.  Consider joining all columns at once using pd.concat(axis=1) instead. To get a de-fragmented frame, use `newframe = frame.copy()`\n",
      "  pr_df[f\"title_wordcount_{word}\"] = preproc_titles.apply(\n",
      "/tmp/ipykernel_146/4191214648.py:3: PerformanceWarning: DataFrame is highly fragmented.  This is usually the result of calling `frame.insert` many times, which has poor performance.  Consider joining all columns at once using pd.concat(axis=1) instead. To get a de-fragmented frame, use `newframe = frame.copy()`\n",
      "  pr_df[f\"title_wordcount_{word}\"] = preproc_titles.apply(\n",
      "/tmp/ipykernel_146/4191214648.py:3: PerformanceWarning: DataFrame is highly fragmented.  This is usually the result of calling `frame.insert` many times, which has poor performance.  Consider joining all columns at once using pd.concat(axis=1) instead. To get a de-fragmented frame, use `newframe = frame.copy()`\n",
      "  pr_df[f\"title_wordcount_{word}\"] = preproc_titles.apply(\n",
      "/tmp/ipykernel_146/4191214648.py:3: PerformanceWarning: DataFrame is highly fragmented.  This is usually the result of calling `frame.insert` many times, which has poor performance.  Consider joining all columns at once using pd.concat(axis=1) instead. To get a de-fragmented frame, use `newframe = frame.copy()`\n",
      "  pr_df[f\"title_wordcount_{word}\"] = preproc_titles.apply(\n",
      "/tmp/ipykernel_146/4191214648.py:3: PerformanceWarning: DataFrame is highly fragmented.  This is usually the result of calling `frame.insert` many times, which has poor performance.  Consider joining all columns at once using pd.concat(axis=1) instead. To get a de-fragmented frame, use `newframe = frame.copy()`\n",
      "  pr_df[f\"title_wordcount_{word}\"] = preproc_titles.apply(\n",
      "/tmp/ipykernel_146/4191214648.py:3: PerformanceWarning: DataFrame is highly fragmented.  This is usually the result of calling `frame.insert` many times, which has poor performance.  Consider joining all columns at once using pd.concat(axis=1) instead. To get a de-fragmented frame, use `newframe = frame.copy()`\n",
      "  pr_df[f\"title_wordcount_{word}\"] = preproc_titles.apply(\n",
      "/tmp/ipykernel_146/4191214648.py:3: PerformanceWarning: DataFrame is highly fragmented.  This is usually the result of calling `frame.insert` many times, which has poor performance.  Consider joining all columns at once using pd.concat(axis=1) instead. To get a de-fragmented frame, use `newframe = frame.copy()`\n",
      "  pr_df[f\"title_wordcount_{word}\"] = preproc_titles.apply(\n",
      " 74%|███████▍  | 243/328 [00:01<00:00, 124.00it/s]/tmp/ipykernel_146/4191214648.py:3: PerformanceWarning: DataFrame is highly fragmented.  This is usually the result of calling `frame.insert` many times, which has poor performance.  Consider joining all columns at once using pd.concat(axis=1) instead. To get a de-fragmented frame, use `newframe = frame.copy()`\n",
      "  pr_df[f\"title_wordcount_{word}\"] = preproc_titles.apply(\n",
      "/tmp/ipykernel_146/4191214648.py:3: PerformanceWarning: DataFrame is highly fragmented.  This is usually the result of calling `frame.insert` many times, which has poor performance.  Consider joining all columns at once using pd.concat(axis=1) instead. To get a de-fragmented frame, use `newframe = frame.copy()`\n",
      "  pr_df[f\"title_wordcount_{word}\"] = preproc_titles.apply(\n",
      "/tmp/ipykernel_146/4191214648.py:3: PerformanceWarning: DataFrame is highly fragmented.  This is usually the result of calling `frame.insert` many times, which has poor performance.  Consider joining all columns at once using pd.concat(axis=1) instead. To get a de-fragmented frame, use `newframe = frame.copy()`\n",
      "  pr_df[f\"title_wordcount_{word}\"] = preproc_titles.apply(\n",
      "/tmp/ipykernel_146/4191214648.py:3: PerformanceWarning: DataFrame is highly fragmented.  This is usually the result of calling `frame.insert` many times, which has poor performance.  Consider joining all columns at once using pd.concat(axis=1) instead. To get a de-fragmented frame, use `newframe = frame.copy()`\n",
      "  pr_df[f\"title_wordcount_{word}\"] = preproc_titles.apply(\n",
      "/tmp/ipykernel_146/4191214648.py:3: PerformanceWarning: DataFrame is highly fragmented.  This is usually the result of calling `frame.insert` many times, which has poor performance.  Consider joining all columns at once using pd.concat(axis=1) instead. To get a de-fragmented frame, use `newframe = frame.copy()`\n",
      "  pr_df[f\"title_wordcount_{word}\"] = preproc_titles.apply(\n",
      "/tmp/ipykernel_146/4191214648.py:3: PerformanceWarning: DataFrame is highly fragmented.  This is usually the result of calling `frame.insert` many times, which has poor performance.  Consider joining all columns at once using pd.concat(axis=1) instead. To get a de-fragmented frame, use `newframe = frame.copy()`\n",
      "  pr_df[f\"title_wordcount_{word}\"] = preproc_titles.apply(\n",
      "/tmp/ipykernel_146/4191214648.py:3: PerformanceWarning: DataFrame is highly fragmented.  This is usually the result of calling `frame.insert` many times, which has poor performance.  Consider joining all columns at once using pd.concat(axis=1) instead. To get a de-fragmented frame, use `newframe = frame.copy()`\n",
      "  pr_df[f\"title_wordcount_{word}\"] = preproc_titles.apply(\n",
      "/tmp/ipykernel_146/4191214648.py:3: PerformanceWarning: DataFrame is highly fragmented.  This is usually the result of calling `frame.insert` many times, which has poor performance.  Consider joining all columns at once using pd.concat(axis=1) instead. To get a de-fragmented frame, use `newframe = frame.copy()`\n",
      "  pr_df[f\"title_wordcount_{word}\"] = preproc_titles.apply(\n",
      "/tmp/ipykernel_146/4191214648.py:3: PerformanceWarning: DataFrame is highly fragmented.  This is usually the result of calling `frame.insert` many times, which has poor performance.  Consider joining all columns at once using pd.concat(axis=1) instead. To get a de-fragmented frame, use `newframe = frame.copy()`\n",
      "  pr_df[f\"title_wordcount_{word}\"] = preproc_titles.apply(\n",
      "/tmp/ipykernel_146/4191214648.py:3: PerformanceWarning: DataFrame is highly fragmented.  This is usually the result of calling `frame.insert` many times, which has poor performance.  Consider joining all columns at once using pd.concat(axis=1) instead. To get a de-fragmented frame, use `newframe = frame.copy()`\n",
      "  pr_df[f\"title_wordcount_{word}\"] = preproc_titles.apply(\n",
      "/tmp/ipykernel_146/4191214648.py:3: PerformanceWarning: DataFrame is highly fragmented.  This is usually the result of calling `frame.insert` many times, which has poor performance.  Consider joining all columns at once using pd.concat(axis=1) instead. To get a de-fragmented frame, use `newframe = frame.copy()`\n",
      "  pr_df[f\"title_wordcount_{word}\"] = preproc_titles.apply(\n",
      "/tmp/ipykernel_146/4191214648.py:3: PerformanceWarning: DataFrame is highly fragmented.  This is usually the result of calling `frame.insert` many times, which has poor performance.  Consider joining all columns at once using pd.concat(axis=1) instead. To get a de-fragmented frame, use `newframe = frame.copy()`\n",
      "  pr_df[f\"title_wordcount_{word}\"] = preproc_titles.apply(\n",
      "/tmp/ipykernel_146/4191214648.py:3: PerformanceWarning: DataFrame is highly fragmented.  This is usually the result of calling `frame.insert` many times, which has poor performance.  Consider joining all columns at once using pd.concat(axis=1) instead. To get a de-fragmented frame, use `newframe = frame.copy()`\n",
      "  pr_df[f\"title_wordcount_{word}\"] = preproc_titles.apply(\n",
      " 78%|███████▊  | 256/328 [00:01<00:00, 121.64it/s]/tmp/ipykernel_146/4191214648.py:3: PerformanceWarning: DataFrame is highly fragmented.  This is usually the result of calling `frame.insert` many times, which has poor performance.  Consider joining all columns at once using pd.concat(axis=1) instead. To get a de-fragmented frame, use `newframe = frame.copy()`\n",
      "  pr_df[f\"title_wordcount_{word}\"] = preproc_titles.apply(\n",
      "/tmp/ipykernel_146/4191214648.py:3: PerformanceWarning: DataFrame is highly fragmented.  This is usually the result of calling `frame.insert` many times, which has poor performance.  Consider joining all columns at once using pd.concat(axis=1) instead. To get a de-fragmented frame, use `newframe = frame.copy()`\n",
      "  pr_df[f\"title_wordcount_{word}\"] = preproc_titles.apply(\n",
      "/tmp/ipykernel_146/4191214648.py:3: PerformanceWarning: DataFrame is highly fragmented.  This is usually the result of calling `frame.insert` many times, which has poor performance.  Consider joining all columns at once using pd.concat(axis=1) instead. To get a de-fragmented frame, use `newframe = frame.copy()`\n",
      "  pr_df[f\"title_wordcount_{word}\"] = preproc_titles.apply(\n",
      "/tmp/ipykernel_146/4191214648.py:3: PerformanceWarning: DataFrame is highly fragmented.  This is usually the result of calling `frame.insert` many times, which has poor performance.  Consider joining all columns at once using pd.concat(axis=1) instead. To get a de-fragmented frame, use `newframe = frame.copy()`\n",
      "  pr_df[f\"title_wordcount_{word}\"] = preproc_titles.apply(\n",
      "/tmp/ipykernel_146/4191214648.py:3: PerformanceWarning: DataFrame is highly fragmented.  This is usually the result of calling `frame.insert` many times, which has poor performance.  Consider joining all columns at once using pd.concat(axis=1) instead. To get a de-fragmented frame, use `newframe = frame.copy()`\n",
      "  pr_df[f\"title_wordcount_{word}\"] = preproc_titles.apply(\n",
      "/tmp/ipykernel_146/4191214648.py:3: PerformanceWarning: DataFrame is highly fragmented.  This is usually the result of calling `frame.insert` many times, which has poor performance.  Consider joining all columns at once using pd.concat(axis=1) instead. To get a de-fragmented frame, use `newframe = frame.copy()`\n",
      "  pr_df[f\"title_wordcount_{word}\"] = preproc_titles.apply(\n",
      "/tmp/ipykernel_146/4191214648.py:3: PerformanceWarning: DataFrame is highly fragmented.  This is usually the result of calling `frame.insert` many times, which has poor performance.  Consider joining all columns at once using pd.concat(axis=1) instead. To get a de-fragmented frame, use `newframe = frame.copy()`\n",
      "  pr_df[f\"title_wordcount_{word}\"] = preproc_titles.apply(\n",
      "/tmp/ipykernel_146/4191214648.py:3: PerformanceWarning: DataFrame is highly fragmented.  This is usually the result of calling `frame.insert` many times, which has poor performance.  Consider joining all columns at once using pd.concat(axis=1) instead. To get a de-fragmented frame, use `newframe = frame.copy()`\n",
      "  pr_df[f\"title_wordcount_{word}\"] = preproc_titles.apply(\n",
      "/tmp/ipykernel_146/4191214648.py:3: PerformanceWarning: DataFrame is highly fragmented.  This is usually the result of calling `frame.insert` many times, which has poor performance.  Consider joining all columns at once using pd.concat(axis=1) instead. To get a de-fragmented frame, use `newframe = frame.copy()`\n",
      "  pr_df[f\"title_wordcount_{word}\"] = preproc_titles.apply(\n",
      "/tmp/ipykernel_146/4191214648.py:3: PerformanceWarning: DataFrame is highly fragmented.  This is usually the result of calling `frame.insert` many times, which has poor performance.  Consider joining all columns at once using pd.concat(axis=1) instead. To get a de-fragmented frame, use `newframe = frame.copy()`\n",
      "  pr_df[f\"title_wordcount_{word}\"] = preproc_titles.apply(\n",
      "/tmp/ipykernel_146/4191214648.py:3: PerformanceWarning: DataFrame is highly fragmented.  This is usually the result of calling `frame.insert` many times, which has poor performance.  Consider joining all columns at once using pd.concat(axis=1) instead. To get a de-fragmented frame, use `newframe = frame.copy()`\n",
      "  pr_df[f\"title_wordcount_{word}\"] = preproc_titles.apply(\n",
      "/tmp/ipykernel_146/4191214648.py:3: PerformanceWarning: DataFrame is highly fragmented.  This is usually the result of calling `frame.insert` many times, which has poor performance.  Consider joining all columns at once using pd.concat(axis=1) instead. To get a de-fragmented frame, use `newframe = frame.copy()`\n",
      "  pr_df[f\"title_wordcount_{word}\"] = preproc_titles.apply(\n",
      "/tmp/ipykernel_146/4191214648.py:3: PerformanceWarning: DataFrame is highly fragmented.  This is usually the result of calling `frame.insert` many times, which has poor performance.  Consider joining all columns at once using pd.concat(axis=1) instead. To get a de-fragmented frame, use `newframe = frame.copy()`\n",
      "  pr_df[f\"title_wordcount_{word}\"] = preproc_titles.apply(\n",
      " 82%|████████▏ | 269/328 [00:01<00:00, 119.51it/s]/tmp/ipykernel_146/4191214648.py:3: PerformanceWarning: DataFrame is highly fragmented.  This is usually the result of calling `frame.insert` many times, which has poor performance.  Consider joining all columns at once using pd.concat(axis=1) instead. To get a de-fragmented frame, use `newframe = frame.copy()`\n",
      "  pr_df[f\"title_wordcount_{word}\"] = preproc_titles.apply(\n",
      "/tmp/ipykernel_146/4191214648.py:3: PerformanceWarning: DataFrame is highly fragmented.  This is usually the result of calling `frame.insert` many times, which has poor performance.  Consider joining all columns at once using pd.concat(axis=1) instead. To get a de-fragmented frame, use `newframe = frame.copy()`\n",
      "  pr_df[f\"title_wordcount_{word}\"] = preproc_titles.apply(\n",
      "/tmp/ipykernel_146/4191214648.py:3: PerformanceWarning: DataFrame is highly fragmented.  This is usually the result of calling `frame.insert` many times, which has poor performance.  Consider joining all columns at once using pd.concat(axis=1) instead. To get a de-fragmented frame, use `newframe = frame.copy()`\n",
      "  pr_df[f\"title_wordcount_{word}\"] = preproc_titles.apply(\n",
      "/tmp/ipykernel_146/4191214648.py:3: PerformanceWarning: DataFrame is highly fragmented.  This is usually the result of calling `frame.insert` many times, which has poor performance.  Consider joining all columns at once using pd.concat(axis=1) instead. To get a de-fragmented frame, use `newframe = frame.copy()`\n",
      "  pr_df[f\"title_wordcount_{word}\"] = preproc_titles.apply(\n",
      "/tmp/ipykernel_146/4191214648.py:3: PerformanceWarning: DataFrame is highly fragmented.  This is usually the result of calling `frame.insert` many times, which has poor performance.  Consider joining all columns at once using pd.concat(axis=1) instead. To get a de-fragmented frame, use `newframe = frame.copy()`\n",
      "  pr_df[f\"title_wordcount_{word}\"] = preproc_titles.apply(\n",
      "/tmp/ipykernel_146/4191214648.py:3: PerformanceWarning: DataFrame is highly fragmented.  This is usually the result of calling `frame.insert` many times, which has poor performance.  Consider joining all columns at once using pd.concat(axis=1) instead. To get a de-fragmented frame, use `newframe = frame.copy()`\n",
      "  pr_df[f\"title_wordcount_{word}\"] = preproc_titles.apply(\n",
      "/tmp/ipykernel_146/4191214648.py:3: PerformanceWarning: DataFrame is highly fragmented.  This is usually the result of calling `frame.insert` many times, which has poor performance.  Consider joining all columns at once using pd.concat(axis=1) instead. To get a de-fragmented frame, use `newframe = frame.copy()`\n",
      "  pr_df[f\"title_wordcount_{word}\"] = preproc_titles.apply(\n",
      "/tmp/ipykernel_146/4191214648.py:3: PerformanceWarning: DataFrame is highly fragmented.  This is usually the result of calling `frame.insert` many times, which has poor performance.  Consider joining all columns at once using pd.concat(axis=1) instead. To get a de-fragmented frame, use `newframe = frame.copy()`\n",
      "  pr_df[f\"title_wordcount_{word}\"] = preproc_titles.apply(\n",
      "/tmp/ipykernel_146/4191214648.py:3: PerformanceWarning: DataFrame is highly fragmented.  This is usually the result of calling `frame.insert` many times, which has poor performance.  Consider joining all columns at once using pd.concat(axis=1) instead. To get a de-fragmented frame, use `newframe = frame.copy()`\n",
      "  pr_df[f\"title_wordcount_{word}\"] = preproc_titles.apply(\n",
      "/tmp/ipykernel_146/4191214648.py:3: PerformanceWarning: DataFrame is highly fragmented.  This is usually the result of calling `frame.insert` many times, which has poor performance.  Consider joining all columns at once using pd.concat(axis=1) instead. To get a de-fragmented frame, use `newframe = frame.copy()`\n",
      "  pr_df[f\"title_wordcount_{word}\"] = preproc_titles.apply(\n",
      "/tmp/ipykernel_146/4191214648.py:3: PerformanceWarning: DataFrame is highly fragmented.  This is usually the result of calling `frame.insert` many times, which has poor performance.  Consider joining all columns at once using pd.concat(axis=1) instead. To get a de-fragmented frame, use `newframe = frame.copy()`\n",
      "  pr_df[f\"title_wordcount_{word}\"] = preproc_titles.apply(\n",
      "/tmp/ipykernel_146/4191214648.py:3: PerformanceWarning: DataFrame is highly fragmented.  This is usually the result of calling `frame.insert` many times, which has poor performance.  Consider joining all columns at once using pd.concat(axis=1) instead. To get a de-fragmented frame, use `newframe = frame.copy()`\n",
      "  pr_df[f\"title_wordcount_{word}\"] = preproc_titles.apply(\n",
      " 86%|████████▌ | 281/328 [00:01<00:00, 119.28it/s]/tmp/ipykernel_146/4191214648.py:3: PerformanceWarning: DataFrame is highly fragmented.  This is usually the result of calling `frame.insert` many times, which has poor performance.  Consider joining all columns at once using pd.concat(axis=1) instead. To get a de-fragmented frame, use `newframe = frame.copy()`\n",
      "  pr_df[f\"title_wordcount_{word}\"] = preproc_titles.apply(\n",
      "/tmp/ipykernel_146/4191214648.py:3: PerformanceWarning: DataFrame is highly fragmented.  This is usually the result of calling `frame.insert` many times, which has poor performance.  Consider joining all columns at once using pd.concat(axis=1) instead. To get a de-fragmented frame, use `newframe = frame.copy()`\n",
      "  pr_df[f\"title_wordcount_{word}\"] = preproc_titles.apply(\n",
      "/tmp/ipykernel_146/4191214648.py:3: PerformanceWarning: DataFrame is highly fragmented.  This is usually the result of calling `frame.insert` many times, which has poor performance.  Consider joining all columns at once using pd.concat(axis=1) instead. To get a de-fragmented frame, use `newframe = frame.copy()`\n",
      "  pr_df[f\"title_wordcount_{word}\"] = preproc_titles.apply(\n",
      "/tmp/ipykernel_146/4191214648.py:3: PerformanceWarning: DataFrame is highly fragmented.  This is usually the result of calling `frame.insert` many times, which has poor performance.  Consider joining all columns at once using pd.concat(axis=1) instead. To get a de-fragmented frame, use `newframe = frame.copy()`\n",
      "  pr_df[f\"title_wordcount_{word}\"] = preproc_titles.apply(\n",
      "/tmp/ipykernel_146/4191214648.py:3: PerformanceWarning: DataFrame is highly fragmented.  This is usually the result of calling `frame.insert` many times, which has poor performance.  Consider joining all columns at once using pd.concat(axis=1) instead. To get a de-fragmented frame, use `newframe = frame.copy()`\n",
      "  pr_df[f\"title_wordcount_{word}\"] = preproc_titles.apply(\n",
      "/tmp/ipykernel_146/4191214648.py:3: PerformanceWarning: DataFrame is highly fragmented.  This is usually the result of calling `frame.insert` many times, which has poor performance.  Consider joining all columns at once using pd.concat(axis=1) instead. To get a de-fragmented frame, use `newframe = frame.copy()`\n",
      "  pr_df[f\"title_wordcount_{word}\"] = preproc_titles.apply(\n",
      "/tmp/ipykernel_146/4191214648.py:3: PerformanceWarning: DataFrame is highly fragmented.  This is usually the result of calling `frame.insert` many times, which has poor performance.  Consider joining all columns at once using pd.concat(axis=1) instead. To get a de-fragmented frame, use `newframe = frame.copy()`\n",
      "  pr_df[f\"title_wordcount_{word}\"] = preproc_titles.apply(\n",
      "/tmp/ipykernel_146/4191214648.py:3: PerformanceWarning: DataFrame is highly fragmented.  This is usually the result of calling `frame.insert` many times, which has poor performance.  Consider joining all columns at once using pd.concat(axis=1) instead. To get a de-fragmented frame, use `newframe = frame.copy()`\n",
      "  pr_df[f\"title_wordcount_{word}\"] = preproc_titles.apply(\n",
      "/tmp/ipykernel_146/4191214648.py:3: PerformanceWarning: DataFrame is highly fragmented.  This is usually the result of calling `frame.insert` many times, which has poor performance.  Consider joining all columns at once using pd.concat(axis=1) instead. To get a de-fragmented frame, use `newframe = frame.copy()`\n",
      "  pr_df[f\"title_wordcount_{word}\"] = preproc_titles.apply(\n",
      "/tmp/ipykernel_146/4191214648.py:3: PerformanceWarning: DataFrame is highly fragmented.  This is usually the result of calling `frame.insert` many times, which has poor performance.  Consider joining all columns at once using pd.concat(axis=1) instead. To get a de-fragmented frame, use `newframe = frame.copy()`\n",
      "  pr_df[f\"title_wordcount_{word}\"] = preproc_titles.apply(\n",
      "/tmp/ipykernel_146/4191214648.py:3: PerformanceWarning: DataFrame is highly fragmented.  This is usually the result of calling `frame.insert` many times, which has poor performance.  Consider joining all columns at once using pd.concat(axis=1) instead. To get a de-fragmented frame, use `newframe = frame.copy()`\n",
      "  pr_df[f\"title_wordcount_{word}\"] = preproc_titles.apply(\n",
      "/tmp/ipykernel_146/4191214648.py:3: PerformanceWarning: DataFrame is highly fragmented.  This is usually the result of calling `frame.insert` many times, which has poor performance.  Consider joining all columns at once using pd.concat(axis=1) instead. To get a de-fragmented frame, use `newframe = frame.copy()`\n",
      "  pr_df[f\"title_wordcount_{word}\"] = preproc_titles.apply(\n",
      "/tmp/ipykernel_146/4191214648.py:3: PerformanceWarning: DataFrame is highly fragmented.  This is usually the result of calling `frame.insert` many times, which has poor performance.  Consider joining all columns at once using pd.concat(axis=1) instead. To get a de-fragmented frame, use `newframe = frame.copy()`\n",
      "  pr_df[f\"title_wordcount_{word}\"] = preproc_titles.apply(\n",
      " 90%|████████▉ | 294/328 [00:02<00:00, 119.93it/s]/tmp/ipykernel_146/4191214648.py:3: PerformanceWarning: DataFrame is highly fragmented.  This is usually the result of calling `frame.insert` many times, which has poor performance.  Consider joining all columns at once using pd.concat(axis=1) instead. To get a de-fragmented frame, use `newframe = frame.copy()`\n",
      "  pr_df[f\"title_wordcount_{word}\"] = preproc_titles.apply(\n",
      "/tmp/ipykernel_146/4191214648.py:3: PerformanceWarning: DataFrame is highly fragmented.  This is usually the result of calling `frame.insert` many times, which has poor performance.  Consider joining all columns at once using pd.concat(axis=1) instead. To get a de-fragmented frame, use `newframe = frame.copy()`\n",
      "  pr_df[f\"title_wordcount_{word}\"] = preproc_titles.apply(\n",
      "/tmp/ipykernel_146/4191214648.py:3: PerformanceWarning: DataFrame is highly fragmented.  This is usually the result of calling `frame.insert` many times, which has poor performance.  Consider joining all columns at once using pd.concat(axis=1) instead. To get a de-fragmented frame, use `newframe = frame.copy()`\n",
      "  pr_df[f\"title_wordcount_{word}\"] = preproc_titles.apply(\n",
      "/tmp/ipykernel_146/4191214648.py:3: PerformanceWarning: DataFrame is highly fragmented.  This is usually the result of calling `frame.insert` many times, which has poor performance.  Consider joining all columns at once using pd.concat(axis=1) instead. To get a de-fragmented frame, use `newframe = frame.copy()`\n",
      "  pr_df[f\"title_wordcount_{word}\"] = preproc_titles.apply(\n",
      "/tmp/ipykernel_146/4191214648.py:3: PerformanceWarning: DataFrame is highly fragmented.  This is usually the result of calling `frame.insert` many times, which has poor performance.  Consider joining all columns at once using pd.concat(axis=1) instead. To get a de-fragmented frame, use `newframe = frame.copy()`\n",
      "  pr_df[f\"title_wordcount_{word}\"] = preproc_titles.apply(\n",
      "/tmp/ipykernel_146/4191214648.py:3: PerformanceWarning: DataFrame is highly fragmented.  This is usually the result of calling `frame.insert` many times, which has poor performance.  Consider joining all columns at once using pd.concat(axis=1) instead. To get a de-fragmented frame, use `newframe = frame.copy()`\n",
      "  pr_df[f\"title_wordcount_{word}\"] = preproc_titles.apply(\n",
      "/tmp/ipykernel_146/4191214648.py:3: PerformanceWarning: DataFrame is highly fragmented.  This is usually the result of calling `frame.insert` many times, which has poor performance.  Consider joining all columns at once using pd.concat(axis=1) instead. To get a de-fragmented frame, use `newframe = frame.copy()`\n",
      "  pr_df[f\"title_wordcount_{word}\"] = preproc_titles.apply(\n",
      "/tmp/ipykernel_146/4191214648.py:3: PerformanceWarning: DataFrame is highly fragmented.  This is usually the result of calling `frame.insert` many times, which has poor performance.  Consider joining all columns at once using pd.concat(axis=1) instead. To get a de-fragmented frame, use `newframe = frame.copy()`\n",
      "  pr_df[f\"title_wordcount_{word}\"] = preproc_titles.apply(\n",
      "/tmp/ipykernel_146/4191214648.py:3: PerformanceWarning: DataFrame is highly fragmented.  This is usually the result of calling `frame.insert` many times, which has poor performance.  Consider joining all columns at once using pd.concat(axis=1) instead. To get a de-fragmented frame, use `newframe = frame.copy()`\n",
      "  pr_df[f\"title_wordcount_{word}\"] = preproc_titles.apply(\n",
      "/tmp/ipykernel_146/4191214648.py:3: PerformanceWarning: DataFrame is highly fragmented.  This is usually the result of calling `frame.insert` many times, which has poor performance.  Consider joining all columns at once using pd.concat(axis=1) instead. To get a de-fragmented frame, use `newframe = frame.copy()`\n",
      "  pr_df[f\"title_wordcount_{word}\"] = preproc_titles.apply(\n",
      "/tmp/ipykernel_146/4191214648.py:3: PerformanceWarning: DataFrame is highly fragmented.  This is usually the result of calling `frame.insert` many times, which has poor performance.  Consider joining all columns at once using pd.concat(axis=1) instead. To get a de-fragmented frame, use `newframe = frame.copy()`\n",
      "  pr_df[f\"title_wordcount_{word}\"] = preproc_titles.apply(\n",
      "/tmp/ipykernel_146/4191214648.py:3: PerformanceWarning: DataFrame is highly fragmented.  This is usually the result of calling `frame.insert` many times, which has poor performance.  Consider joining all columns at once using pd.concat(axis=1) instead. To get a de-fragmented frame, use `newframe = frame.copy()`\n",
      "  pr_df[f\"title_wordcount_{word}\"] = preproc_titles.apply(\n",
      "/tmp/ipykernel_146/4191214648.py:3: PerformanceWarning: DataFrame is highly fragmented.  This is usually the result of calling `frame.insert` many times, which has poor performance.  Consider joining all columns at once using pd.concat(axis=1) instead. To get a de-fragmented frame, use `newframe = frame.copy()`\n",
      "  pr_df[f\"title_wordcount_{word}\"] = preproc_titles.apply(\n",
      " 94%|█████████▎| 307/328 [00:02<00:00, 119.23it/s]/tmp/ipykernel_146/4191214648.py:3: PerformanceWarning: DataFrame is highly fragmented.  This is usually the result of calling `frame.insert` many times, which has poor performance.  Consider joining all columns at once using pd.concat(axis=1) instead. To get a de-fragmented frame, use `newframe = frame.copy()`\n",
      "  pr_df[f\"title_wordcount_{word}\"] = preproc_titles.apply(\n",
      "/tmp/ipykernel_146/4191214648.py:3: PerformanceWarning: DataFrame is highly fragmented.  This is usually the result of calling `frame.insert` many times, which has poor performance.  Consider joining all columns at once using pd.concat(axis=1) instead. To get a de-fragmented frame, use `newframe = frame.copy()`\n",
      "  pr_df[f\"title_wordcount_{word}\"] = preproc_titles.apply(\n",
      "/tmp/ipykernel_146/4191214648.py:3: PerformanceWarning: DataFrame is highly fragmented.  This is usually the result of calling `frame.insert` many times, which has poor performance.  Consider joining all columns at once using pd.concat(axis=1) instead. To get a de-fragmented frame, use `newframe = frame.copy()`\n",
      "  pr_df[f\"title_wordcount_{word}\"] = preproc_titles.apply(\n",
      "/tmp/ipykernel_146/4191214648.py:3: PerformanceWarning: DataFrame is highly fragmented.  This is usually the result of calling `frame.insert` many times, which has poor performance.  Consider joining all columns at once using pd.concat(axis=1) instead. To get a de-fragmented frame, use `newframe = frame.copy()`\n",
      "  pr_df[f\"title_wordcount_{word}\"] = preproc_titles.apply(\n",
      "/tmp/ipykernel_146/4191214648.py:3: PerformanceWarning: DataFrame is highly fragmented.  This is usually the result of calling `frame.insert` many times, which has poor performance.  Consider joining all columns at once using pd.concat(axis=1) instead. To get a de-fragmented frame, use `newframe = frame.copy()`\n",
      "  pr_df[f\"title_wordcount_{word}\"] = preproc_titles.apply(\n",
      "/tmp/ipykernel_146/4191214648.py:3: PerformanceWarning: DataFrame is highly fragmented.  This is usually the result of calling `frame.insert` many times, which has poor performance.  Consider joining all columns at once using pd.concat(axis=1) instead. To get a de-fragmented frame, use `newframe = frame.copy()`\n",
      "  pr_df[f\"title_wordcount_{word}\"] = preproc_titles.apply(\n",
      "/tmp/ipykernel_146/4191214648.py:3: PerformanceWarning: DataFrame is highly fragmented.  This is usually the result of calling `frame.insert` many times, which has poor performance.  Consider joining all columns at once using pd.concat(axis=1) instead. To get a de-fragmented frame, use `newframe = frame.copy()`\n",
      "  pr_df[f\"title_wordcount_{word}\"] = preproc_titles.apply(\n",
      "/tmp/ipykernel_146/4191214648.py:3: PerformanceWarning: DataFrame is highly fragmented.  This is usually the result of calling `frame.insert` many times, which has poor performance.  Consider joining all columns at once using pd.concat(axis=1) instead. To get a de-fragmented frame, use `newframe = frame.copy()`\n",
      "  pr_df[f\"title_wordcount_{word}\"] = preproc_titles.apply(\n",
      "/tmp/ipykernel_146/4191214648.py:3: PerformanceWarning: DataFrame is highly fragmented.  This is usually the result of calling `frame.insert` many times, which has poor performance.  Consider joining all columns at once using pd.concat(axis=1) instead. To get a de-fragmented frame, use `newframe = frame.copy()`\n",
      "  pr_df[f\"title_wordcount_{word}\"] = preproc_titles.apply(\n",
      "/tmp/ipykernel_146/4191214648.py:3: PerformanceWarning: DataFrame is highly fragmented.  This is usually the result of calling `frame.insert` many times, which has poor performance.  Consider joining all columns at once using pd.concat(axis=1) instead. To get a de-fragmented frame, use `newframe = frame.copy()`\n",
      "  pr_df[f\"title_wordcount_{word}\"] = preproc_titles.apply(\n",
      "/tmp/ipykernel_146/4191214648.py:3: PerformanceWarning: DataFrame is highly fragmented.  This is usually the result of calling `frame.insert` many times, which has poor performance.  Consider joining all columns at once using pd.concat(axis=1) instead. To get a de-fragmented frame, use `newframe = frame.copy()`\n",
      "  pr_df[f\"title_wordcount_{word}\"] = preproc_titles.apply(\n",
      "/tmp/ipykernel_146/4191214648.py:3: PerformanceWarning: DataFrame is highly fragmented.  This is usually the result of calling `frame.insert` many times, which has poor performance.  Consider joining all columns at once using pd.concat(axis=1) instead. To get a de-fragmented frame, use `newframe = frame.copy()`\n",
      "  pr_df[f\"title_wordcount_{word}\"] = preproc_titles.apply(\n",
      " 97%|█████████▋| 319/328 [00:02<00:00, 118.10it/s]/tmp/ipykernel_146/4191214648.py:3: PerformanceWarning: DataFrame is highly fragmented.  This is usually the result of calling `frame.insert` many times, which has poor performance.  Consider joining all columns at once using pd.concat(axis=1) instead. To get a de-fragmented frame, use `newframe = frame.copy()`\n",
      "  pr_df[f\"title_wordcount_{word}\"] = preproc_titles.apply(\n",
      "/tmp/ipykernel_146/4191214648.py:3: PerformanceWarning: DataFrame is highly fragmented.  This is usually the result of calling `frame.insert` many times, which has poor performance.  Consider joining all columns at once using pd.concat(axis=1) instead. To get a de-fragmented frame, use `newframe = frame.copy()`\n",
      "  pr_df[f\"title_wordcount_{word}\"] = preproc_titles.apply(\n",
      "/tmp/ipykernel_146/4191214648.py:3: PerformanceWarning: DataFrame is highly fragmented.  This is usually the result of calling `frame.insert` many times, which has poor performance.  Consider joining all columns at once using pd.concat(axis=1) instead. To get a de-fragmented frame, use `newframe = frame.copy()`\n",
      "  pr_df[f\"title_wordcount_{word}\"] = preproc_titles.apply(\n",
      "/tmp/ipykernel_146/4191214648.py:3: PerformanceWarning: DataFrame is highly fragmented.  This is usually the result of calling `frame.insert` many times, which has poor performance.  Consider joining all columns at once using pd.concat(axis=1) instead. To get a de-fragmented frame, use `newframe = frame.copy()`\n",
      "  pr_df[f\"title_wordcount_{word}\"] = preproc_titles.apply(\n",
      "/tmp/ipykernel_146/4191214648.py:3: PerformanceWarning: DataFrame is highly fragmented.  This is usually the result of calling `frame.insert` many times, which has poor performance.  Consider joining all columns at once using pd.concat(axis=1) instead. To get a de-fragmented frame, use `newframe = frame.copy()`\n",
      "  pr_df[f\"title_wordcount_{word}\"] = preproc_titles.apply(\n",
      "/tmp/ipykernel_146/4191214648.py:3: PerformanceWarning: DataFrame is highly fragmented.  This is usually the result of calling `frame.insert` many times, which has poor performance.  Consider joining all columns at once using pd.concat(axis=1) instead. To get a de-fragmented frame, use `newframe = frame.copy()`\n",
      "  pr_df[f\"title_wordcount_{word}\"] = preproc_titles.apply(\n",
      "/tmp/ipykernel_146/4191214648.py:3: PerformanceWarning: DataFrame is highly fragmented.  This is usually the result of calling `frame.insert` many times, which has poor performance.  Consider joining all columns at once using pd.concat(axis=1) instead. To get a de-fragmented frame, use `newframe = frame.copy()`\n",
      "  pr_df[f\"title_wordcount_{word}\"] = preproc_titles.apply(\n",
      "/tmp/ipykernel_146/4191214648.py:3: PerformanceWarning: DataFrame is highly fragmented.  This is usually the result of calling `frame.insert` many times, which has poor performance.  Consider joining all columns at once using pd.concat(axis=1) instead. To get a de-fragmented frame, use `newframe = frame.copy()`\n",
      "  pr_df[f\"title_wordcount_{word}\"] = preproc_titles.apply(\n",
      "/tmp/ipykernel_146/4191214648.py:3: PerformanceWarning: DataFrame is highly fragmented.  This is usually the result of calling `frame.insert` many times, which has poor performance.  Consider joining all columns at once using pd.concat(axis=1) instead. To get a de-fragmented frame, use `newframe = frame.copy()`\n",
      "  pr_df[f\"title_wordcount_{word}\"] = preproc_titles.apply(\n",
      "100%|██████████| 328/328 [00:02<00:00, 138.40it/s]\n"
     ]
    }
   ],
   "source": [
    "# add word count columns\n",
    "for word in tqdm(unique_words):\n",
    "    pr_df[f\"title_wordcount_{word}\"] = preproc_titles.apply(\n",
    "        lambda x: x.split().count(word)\n",
    "    )"
   ]
  },
  {
   "cell_type": "code",
   "execution_count": 24,
   "id": "41cf9f16",
   "metadata": {
    "execution": {
     "iopub.execute_input": "2022-11-04T09:52:11.287897Z",
     "iopub.status.busy": "2022-11-04T09:52:11.287613Z",
     "iopub.status.idle": "2022-11-04T09:52:11.306945Z",
     "shell.execute_reply": "2022-11-04T09:52:11.305888Z"
    }
   },
   "outputs": [],
   "source": [
    "# collapse the high dim vector into one column\n",
    "wordcount_columns = [c for c in pr_df.columns if \"wordcount\" in c]\n",
    "pr_df[\"title_word_counts_vec\"] = pr_df[wordcount_columns].apply(\n",
    "    lambda x: x.tolist(), axis=1\n",
    ")\n",
    "\n",
    "# drop the individual wordcount columns\n",
    "pr_df = pr_df.drop(columns=wordcount_columns)"
   ]
  },
  {
   "cell_type": "markdown",
   "id": "06f46edc",
   "metadata": {},
   "source": [
    "**Created At**\n",
    "\n",
    "This column can give us information on when the PR was created. Using the `created_at` field, we can derive other features like `time_of_day`, `day_of_week`, `day_of_month`, `month_in_year` each of which can be categorical features that can be useful to our analysis."
   ]
  },
  {
   "cell_type": "code",
   "execution_count": 25,
   "id": "b6db783b",
   "metadata": {
    "execution": {
     "iopub.execute_input": "2022-11-04T09:52:11.311062Z",
     "iopub.status.busy": "2022-11-04T09:52:11.310735Z",
     "iopub.status.idle": "2022-11-04T09:52:11.323635Z",
     "shell.execute_reply": "2022-11-04T09:52:11.322647Z"
    }
   },
   "outputs": [],
   "source": [
    "# convert to datetime object\n",
    "pr_df[\"created_at_datetime\"] = (\n",
    "    pr_df[\"created_at\"].fillna(\"\").apply(lambda x: datetime.datetime.fromtimestamp(x))\n",
    ")\n",
    "# get day as categorical variable\n",
    "pr_df[\"created_at_day\"] = pr_df[\"created_at_datetime\"].apply(lambda x: x.day)\n",
    "\n",
    "# get month as categorical variable\n",
    "pr_df[\"created_at_month\"] = pr_df[\"created_at_datetime\"].apply(lambda x: x.month)\n",
    "\n",
    "# get weekday as categorical variable\n",
    "pr_df[\"created_at_weekday\"] = pr_df[\"created_at_datetime\"].apply(lambda x: x.weekday())\n",
    "\n",
    "# get hour of day as categorical variable\n",
    "pr_df[\"created_at_hour\"] = pr_df[\"created_at_datetime\"].apply(lambda x: x.hour)"
   ]
  },
  {
   "cell_type": "code",
   "execution_count": 26,
   "id": "f6cb1704",
   "metadata": {
    "execution": {
     "iopub.execute_input": "2022-11-04T09:52:11.327277Z",
     "iopub.status.busy": "2022-11-04T09:52:11.327007Z",
     "iopub.status.idle": "2022-11-04T09:52:11.348633Z",
     "shell.execute_reply": "2022-11-04T09:52:11.347668Z"
    }
   },
   "outputs": [
    {
     "data": {
      "text/html": [
       "<div>\n",
       "<style scoped>\n",
       "    .dataframe tbody tr th:only-of-type {\n",
       "        vertical-align: middle;\n",
       "    }\n",
       "\n",
       "    .dataframe tbody tr th {\n",
       "        vertical-align: top;\n",
       "    }\n",
       "\n",
       "    .dataframe thead th {\n",
       "        text-align: right;\n",
       "    }\n",
       "</style>\n",
       "<table border=\"1\" class=\"dataframe\">\n",
       "  <thead>\n",
       "    <tr style=\"text-align: right;\">\n",
       "      <th></th>\n",
       "      <th>title</th>\n",
       "      <th>body</th>\n",
       "      <th>size</th>\n",
       "      <th>created_by</th>\n",
       "      <th>created_at</th>\n",
       "      <th>closed_at</th>\n",
       "      <th>closed_by</th>\n",
       "      <th>merged_at</th>\n",
       "      <th>merged_by</th>\n",
       "      <th>commits_number</th>\n",
       "      <th>...</th>\n",
       "      <th>first_approve_at</th>\n",
       "      <th>id</th>\n",
       "      <th>time_to_merge</th>\n",
       "      <th>body_size</th>\n",
       "      <th>title_word_counts_vec</th>\n",
       "      <th>created_at_datetime</th>\n",
       "      <th>created_at_day</th>\n",
       "      <th>created_at_month</th>\n",
       "      <th>created_at_weekday</th>\n",
       "      <th>created_at_hour</th>\n",
       "    </tr>\n",
       "  </thead>\n",
       "  <tbody>\n",
       "    <tr>\n",
       "      <th>0</th>\n",
       "      <td>Release of version 2.12.0</td>\n",
       "      <td>Hey, @xtuchyna!\\n\\nOpening this PR to create a...</td>\n",
       "      <td>2</td>\n",
       "      <td>khebhut[bot]</td>\n",
       "      <td>1665600542</td>\n",
       "      <td>1.665601e+09</td>\n",
       "      <td>sesheta</td>\n",
       "      <td>1.665601e+09</td>\n",
       "      <td>sesheta</td>\n",
       "      <td>1</td>\n",
       "      <td>...</td>\n",
       "      <td>1.665601e+09</td>\n",
       "      <td>612</td>\n",
       "      <td>756.0</td>\n",
       "      <td>468</td>\n",
       "      <td>[0, 0, 0, 0, 0, 0, 0, 0, 0, 0, 0, 0, 0, 0, 0, ...</td>\n",
       "      <td>2022-10-12 18:49:02</td>\n",
       "      <td>12</td>\n",
       "      <td>10</td>\n",
       "      <td>2</td>\n",
       "      <td>18</td>\n",
       "    </tr>\n",
       "    <tr>\n",
       "      <th>1</th>\n",
       "      <td>Automatic update of dependencies by Kebechet f...</td>\n",
       "      <td>Kebechet has updated the dependencies to the l...</td>\n",
       "      <td>4</td>\n",
       "      <td>khebhut[bot]</td>\n",
       "      <td>1665600524</td>\n",
       "      <td>NaN</td>\n",
       "      <td>None</td>\n",
       "      <td>NaN</td>\n",
       "      <td>None</td>\n",
       "      <td>1</td>\n",
       "      <td>...</td>\n",
       "      <td>1.665601e+09</td>\n",
       "      <td>611</td>\n",
       "      <td>NaN</td>\n",
       "      <td>74</td>\n",
       "      <td>[0, 0, 0, 0, 0, 0, 0, 0, 0, 0, 0, 0, 0, 0, 0, ...</td>\n",
       "      <td>2022-10-12 18:48:44</td>\n",
       "      <td>12</td>\n",
       "      <td>10</td>\n",
       "      <td>2</td>\n",
       "      <td>18</td>\n",
       "    </tr>\n",
       "  </tbody>\n",
       "</table>\n",
       "<p>2 rows × 27 columns</p>\n",
       "</div>"
      ],
      "text/plain": [
       "                                               title  \\\n",
       "0                          Release of version 2.12.0   \n",
       "1  Automatic update of dependencies by Kebechet f...   \n",
       "\n",
       "                                                body  size    created_by  \\\n",
       "0  Hey, @xtuchyna!\\n\\nOpening this PR to create a...     2  khebhut[bot]   \n",
       "1  Kebechet has updated the dependencies to the l...     4  khebhut[bot]   \n",
       "\n",
       "   created_at     closed_at closed_by     merged_at merged_by  commits_number  \\\n",
       "0  1665600542  1.665601e+09   sesheta  1.665601e+09   sesheta               1   \n",
       "1  1665600524           NaN      None           NaN      None               1   \n",
       "\n",
       "   ...  first_approve_at   id time_to_merge body_size  \\\n",
       "0  ...      1.665601e+09  612         756.0       468   \n",
       "1  ...      1.665601e+09  611           NaN        74   \n",
       "\n",
       "                               title_word_counts_vec created_at_datetime  \\\n",
       "0  [0, 0, 0, 0, 0, 0, 0, 0, 0, 0, 0, 0, 0, 0, 0, ... 2022-10-12 18:49:02   \n",
       "1  [0, 0, 0, 0, 0, 0, 0, 0, 0, 0, 0, 0, 0, 0, 0, ... 2022-10-12 18:48:44   \n",
       "\n",
       "   created_at_day  created_at_month created_at_weekday  created_at_hour  \n",
       "0              12                10                  2               18  \n",
       "1              12                10                  2               18  \n",
       "\n",
       "[2 rows x 27 columns]"
      ]
     },
     "execution_count": 26,
     "metadata": {},
     "output_type": "execute_result"
    }
   ],
   "source": [
    "pr_df.head(2)"
   ]
  },
  {
   "cell_type": "markdown",
   "id": "772ea2a9",
   "metadata": {},
   "source": [
    "**Changed Files Number**  \n",
    "Changed files is a numberical variable which captures the numer of files that were modified in the PR."
   ]
  },
  {
   "cell_type": "code",
   "execution_count": 27,
   "id": "b5687644",
   "metadata": {
    "execution": {
     "iopub.execute_input": "2022-11-04T09:52:11.353377Z",
     "iopub.status.busy": "2022-11-04T09:52:11.352943Z",
     "iopub.status.idle": "2022-11-04T09:52:11.361765Z",
     "shell.execute_reply": "2022-11-04T09:52:11.360892Z"
    }
   },
   "outputs": [
    {
     "data": {
      "text/plain": [
       "1     290\n",
       "2      71\n",
       "3      11\n",
       "4       9\n",
       "6       8\n",
       "5       6\n",
       "9       4\n",
       "8       3\n",
       "7       3\n",
       "10      2\n",
       "11      2\n",
       "13      2\n",
       "20      1\n",
       "15      1\n",
       "12      1\n",
       "17      1\n",
       "35      1\n",
       "Name: changed_files_number, dtype: int64"
      ]
     },
     "execution_count": 27,
     "metadata": {},
     "output_type": "execute_result"
    }
   ],
   "source": [
    "# convert changed_files_number to int\n",
    "pr_df[\"changed_files_number\"] = pr_df[\"changed_files_number\"].astype(\"int\")\n",
    "\n",
    "pr_df.changed_files_number.value_counts()"
   ]
  },
  {
   "cell_type": "markdown",
   "id": "2ec4a803",
   "metadata": {},
   "source": [
    "`changed_files_number` has more variability than the `commits_number`. We can incorporate this as a numerical feature."
   ]
  },
  {
   "cell_type": "markdown",
   "id": "360ea47c",
   "metadata": {},
   "source": [
    "**Changed_files**\n",
    "\n",
    "`changed_files` is a list of the paths and filenames for every file changed by this PR. From `changed_files`, we know, for each PR, which file types were changed which can be encoded as a frequency vector. Also we know which directory the change is made in, so that can be encoded as a categorical variable."
   ]
  },
  {
   "cell_type": "code",
   "execution_count": 28,
   "id": "ea080575",
   "metadata": {
    "execution": {
     "iopub.execute_input": "2022-11-04T09:52:11.366229Z",
     "iopub.status.busy": "2022-11-04T09:52:11.365806Z",
     "iopub.status.idle": "2022-11-04T09:52:11.373595Z",
     "shell.execute_reply": "2022-11-04T09:52:11.372857Z"
    }
   },
   "outputs": [
    {
     "data": {
      "text/plain": [
       "0              [CHANGELOG.md, srcopsmetrics/__init__.py]\n",
       "1                                         [Pipfile.lock]\n",
       "2      [srcopsmetrics/cli.py, srcopsmetrics/entities/...\n",
       "3                                       [.aicoe-ci.yaml]\n",
       "4                                         [Pipfile.lock]\n",
       "                             ...                        \n",
       "411                            [create_bot_knowledge.py]\n",
       "412                                 [.github/CODEOWNERS]\n",
       "413    [.zuul.yaml, create_bot_knowledge.py, pr_revie...\n",
       "414                            [create_bot_knowledge.py]\n",
       "415    [Pipfile, Pipfile.lock, README.md, create_bot_...\n",
       "Name: changed_files, Length: 416, dtype: object"
      ]
     },
     "execution_count": 28,
     "metadata": {},
     "output_type": "execute_result"
    }
   ],
   "source": [
    "pr_df.changed_files"
   ]
  },
  {
   "cell_type": "code",
   "execution_count": 29,
   "id": "ba70b93f",
   "metadata": {
    "execution": {
     "iopub.execute_input": "2022-11-04T09:52:11.377275Z",
     "iopub.status.busy": "2022-11-04T09:52:11.376986Z",
     "iopub.status.idle": "2022-11-04T09:52:11.384311Z",
     "shell.execute_reply": "2022-11-04T09:52:11.383334Z"
    }
   },
   "outputs": [],
   "source": [
    "def filetype(filepath):\n",
    "\n",
    "    # if standard file extension, return file extension\n",
    "    if pathlib.Path(filepath).suffix:\n",
    "        return pathlib.Path(filepath).suffix\n",
    "\n",
    "    else:\n",
    "        # if single file at the root of repo\n",
    "        if \"/\" not in filepath:\n",
    "            # if a file like README/Dockerfile etc\n",
    "            if \".\" not in filepath:\n",
    "                return filepath\n",
    "        # if file not at root\n",
    "        else:\n",
    "            # get file name\n",
    "            file = filepath.rsplit(\"/\", 1)[1]\n",
    "            if \".\" not in file:\n",
    "                return file\n",
    "            elif \".\" in file:\n",
    "                return \".\" + file.rsplit(\".\", 1)[1]"
   ]
  },
  {
   "cell_type": "code",
   "execution_count": 30,
   "id": "2e00c415",
   "metadata": {
    "execution": {
     "iopub.execute_input": "2022-11-04T09:52:11.387939Z",
     "iopub.status.busy": "2022-11-04T09:52:11.387659Z",
     "iopub.status.idle": "2022-11-04T09:52:11.391655Z",
     "shell.execute_reply": "2022-11-04T09:52:11.390743Z"
    }
   },
   "outputs": [],
   "source": [
    "# get list of all file types that were modified across all openshift origin PRs\n",
    "changed_files = list(pr_df[\"changed_files\"])"
   ]
  },
  {
   "cell_type": "code",
   "execution_count": 31,
   "id": "36a1dcda",
   "metadata": {
    "execution": {
     "iopub.execute_input": "2022-11-04T09:52:11.396203Z",
     "iopub.status.busy": "2022-11-04T09:52:11.395789Z",
     "iopub.status.idle": "2022-11-04T09:52:11.407487Z",
     "shell.execute_reply": "2022-11-04T09:52:11.406568Z"
    }
   },
   "outputs": [],
   "source": [
    "all_changed_files = [filetype(filepath) for pr in changed_files for filepath in pr]"
   ]
  },
  {
   "cell_type": "code",
   "execution_count": 32,
   "id": "d7de1e91",
   "metadata": {
    "execution": {
     "iopub.execute_input": "2022-11-04T09:52:11.411201Z",
     "iopub.status.busy": "2022-11-04T09:52:11.410907Z",
     "iopub.status.idle": "2022-11-04T09:52:11.415355Z",
     "shell.execute_reply": "2022-11-04T09:52:11.413909Z"
    }
   },
   "outputs": [],
   "source": [
    "count = Counter(all_changed_files)"
   ]
  },
  {
   "cell_type": "code",
   "execution_count": 33,
   "id": "17e5fd80",
   "metadata": {
    "execution": {
     "iopub.execute_input": "2022-11-04T09:52:11.419064Z",
     "iopub.status.busy": "2022-11-04T09:52:11.418740Z",
     "iopub.status.idle": "2022-11-04T09:52:11.422920Z",
     "shell.execute_reply": "2022-11-04T09:52:11.421950Z"
    }
   },
   "outputs": [],
   "source": [
    "# save 100 most commonly occuring file extensions across PRs\n",
    "top_fileextensions_freq = count.most_common(100)\n",
    "top_fileextensions = [ext[0] for ext in top_fileextensions_freq]"
   ]
  },
  {
   "cell_type": "code",
   "execution_count": 34,
   "id": "25a14da8",
   "metadata": {
    "execution": {
     "iopub.execute_input": "2022-11-04T09:52:11.426868Z",
     "iopub.status.busy": "2022-11-04T09:52:11.426563Z",
     "iopub.status.idle": "2022-11-04T09:52:11.432021Z",
     "shell.execute_reply": "2022-11-04T09:52:11.431098Z"
    }
   },
   "outputs": [
    {
     "data": {
      "text/plain": [
       "['.py',\n",
       " '.lock',\n",
       " '.md',\n",
       " '.yaml',\n",
       " 'Pipfile',\n",
       " '.rst',\n",
       " 'OWNERS',\n",
       " '.toml',\n",
       " 'CODEOWNERS',\n",
       " None,\n",
       " '.png',\n",
       " '.txt',\n",
       " 'mi-scheduler']"
      ]
     },
     "execution_count": 34,
     "metadata": {},
     "output_type": "execute_result"
    }
   ],
   "source": [
    "top_fileextensions"
   ]
  },
  {
   "cell_type": "code",
   "execution_count": 35,
   "id": "ecd11700",
   "metadata": {
    "execution": {
     "iopub.execute_input": "2022-11-04T09:52:11.436689Z",
     "iopub.status.busy": "2022-11-04T09:52:11.436221Z",
     "iopub.status.idle": "2022-11-04T09:52:11.441565Z",
     "shell.execute_reply": "2022-11-04T09:52:11.440640Z"
    }
   },
   "outputs": [],
   "source": [
    "def file_type_freq(list_of_filepaths):\n",
    "    \"\"\"\n",
    "    For a given PR's list of changed files,\n",
    "    return a changed files frequency vector\n",
    "    ( a vector which holds the frequency of\n",
    "    changed files of the type  for every\n",
    "    file type in top_fileextensions )\n",
    "    \"\"\"\n",
    "\n",
    "    file_extensions = [filetype(f) for f in list_of_filepaths]\n",
    "    ext_dict = {key: 0 for key in top_fileextensions}\n",
    "    for f in file_extensions:\n",
    "        if f in ext_dict:\n",
    "            ext_dict[f] += 1\n",
    "\n",
    "    return list(ext_dict.values())"
   ]
  },
  {
   "cell_type": "code",
   "execution_count": 36,
   "id": "cc0b7906",
   "metadata": {
    "execution": {
     "iopub.execute_input": "2022-11-04T09:52:11.445495Z",
     "iopub.status.busy": "2022-11-04T09:52:11.445211Z",
     "iopub.status.idle": "2022-11-04T09:52:11.458643Z",
     "shell.execute_reply": "2022-11-04T09:52:11.457753Z"
    }
   },
   "outputs": [],
   "source": [
    "pr_df[\"changed_file_type_vec\"] = pr_df[\"changed_files\"].apply(\n",
    "    lambda x: file_type_freq(x)\n",
    ")"
   ]
  },
  {
   "cell_type": "code",
   "execution_count": 37,
   "id": "4fe7bb1d",
   "metadata": {
    "execution": {
     "iopub.execute_input": "2022-11-04T09:52:11.462496Z",
     "iopub.status.busy": "2022-11-04T09:52:11.462230Z",
     "iopub.status.idle": "2022-11-04T09:52:11.485070Z",
     "shell.execute_reply": "2022-11-04T09:52:11.484054Z"
    }
   },
   "outputs": [
    {
     "data": {
      "text/html": [
       "<div>\n",
       "<style scoped>\n",
       "    .dataframe tbody tr th:only-of-type {\n",
       "        vertical-align: middle;\n",
       "    }\n",
       "\n",
       "    .dataframe tbody tr th {\n",
       "        vertical-align: top;\n",
       "    }\n",
       "\n",
       "    .dataframe thead th {\n",
       "        text-align: right;\n",
       "    }\n",
       "</style>\n",
       "<table border=\"1\" class=\"dataframe\">\n",
       "  <thead>\n",
       "    <tr style=\"text-align: right;\">\n",
       "      <th></th>\n",
       "      <th>title</th>\n",
       "      <th>body</th>\n",
       "      <th>size</th>\n",
       "      <th>created_by</th>\n",
       "      <th>created_at</th>\n",
       "      <th>closed_at</th>\n",
       "      <th>closed_by</th>\n",
       "      <th>merged_at</th>\n",
       "      <th>merged_by</th>\n",
       "      <th>commits_number</th>\n",
       "      <th>...</th>\n",
       "      <th>id</th>\n",
       "      <th>time_to_merge</th>\n",
       "      <th>body_size</th>\n",
       "      <th>title_word_counts_vec</th>\n",
       "      <th>created_at_datetime</th>\n",
       "      <th>created_at_day</th>\n",
       "      <th>created_at_month</th>\n",
       "      <th>created_at_weekday</th>\n",
       "      <th>created_at_hour</th>\n",
       "      <th>changed_file_type_vec</th>\n",
       "    </tr>\n",
       "  </thead>\n",
       "  <tbody>\n",
       "    <tr>\n",
       "      <th>0</th>\n",
       "      <td>Release of version 2.12.0</td>\n",
       "      <td>Hey, @xtuchyna!\\n\\nOpening this PR to create a...</td>\n",
       "      <td>2</td>\n",
       "      <td>khebhut[bot]</td>\n",
       "      <td>1665600542</td>\n",
       "      <td>1.665601e+09</td>\n",
       "      <td>sesheta</td>\n",
       "      <td>1.665601e+09</td>\n",
       "      <td>sesheta</td>\n",
       "      <td>1</td>\n",
       "      <td>...</td>\n",
       "      <td>612</td>\n",
       "      <td>756.0</td>\n",
       "      <td>468</td>\n",
       "      <td>[0, 0, 0, 0, 0, 0, 0, 0, 0, 0, 0, 0, 0, 0, 0, ...</td>\n",
       "      <td>2022-10-12 18:49:02</td>\n",
       "      <td>12</td>\n",
       "      <td>10</td>\n",
       "      <td>2</td>\n",
       "      <td>18</td>\n",
       "      <td>[1, 0, 1, 0, 0, 0, 0, 0, 0, 0, 0, 0, 0]</td>\n",
       "    </tr>\n",
       "    <tr>\n",
       "      <th>1</th>\n",
       "      <td>Automatic update of dependencies by Kebechet f...</td>\n",
       "      <td>Kebechet has updated the dependencies to the l...</td>\n",
       "      <td>4</td>\n",
       "      <td>khebhut[bot]</td>\n",
       "      <td>1665600524</td>\n",
       "      <td>NaN</td>\n",
       "      <td>None</td>\n",
       "      <td>NaN</td>\n",
       "      <td>None</td>\n",
       "      <td>1</td>\n",
       "      <td>...</td>\n",
       "      <td>611</td>\n",
       "      <td>NaN</td>\n",
       "      <td>74</td>\n",
       "      <td>[0, 0, 0, 0, 0, 0, 0, 0, 0, 0, 0, 0, 0, 0, 0, ...</td>\n",
       "      <td>2022-10-12 18:48:44</td>\n",
       "      <td>12</td>\n",
       "      <td>10</td>\n",
       "      <td>2</td>\n",
       "      <td>18</td>\n",
       "      <td>[0, 1, 0, 0, 0, 0, 0, 0, 0, 0, 0, 0, 0]</td>\n",
       "    </tr>\n",
       "  </tbody>\n",
       "</table>\n",
       "<p>2 rows × 28 columns</p>\n",
       "</div>"
      ],
      "text/plain": [
       "                                               title  \\\n",
       "0                          Release of version 2.12.0   \n",
       "1  Automatic update of dependencies by Kebechet f...   \n",
       "\n",
       "                                                body  size    created_by  \\\n",
       "0  Hey, @xtuchyna!\\n\\nOpening this PR to create a...     2  khebhut[bot]   \n",
       "1  Kebechet has updated the dependencies to the l...     4  khebhut[bot]   \n",
       "\n",
       "   created_at     closed_at closed_by     merged_at merged_by  commits_number  \\\n",
       "0  1665600542  1.665601e+09   sesheta  1.665601e+09   sesheta               1   \n",
       "1  1665600524           NaN      None           NaN      None               1   \n",
       "\n",
       "   ...   id time_to_merge body_size  \\\n",
       "0  ...  612         756.0       468   \n",
       "1  ...  611           NaN        74   \n",
       "\n",
       "                               title_word_counts_vec created_at_datetime  \\\n",
       "0  [0, 0, 0, 0, 0, 0, 0, 0, 0, 0, 0, 0, 0, 0, 0, ... 2022-10-12 18:49:02   \n",
       "1  [0, 0, 0, 0, 0, 0, 0, 0, 0, 0, 0, 0, 0, 0, 0, ... 2022-10-12 18:48:44   \n",
       "\n",
       "  created_at_day  created_at_month  created_at_weekday created_at_hour  \\\n",
       "0             12                10                   2              18   \n",
       "1             12                10                   2              18   \n",
       "\n",
       "                     changed_file_type_vec  \n",
       "0  [1, 0, 1, 0, 0, 0, 0, 0, 0, 0, 0, 0, 0]  \n",
       "1  [0, 1, 0, 0, 0, 0, 0, 0, 0, 0, 0, 0, 0]  \n",
       "\n",
       "[2 rows x 28 columns]"
      ]
     },
     "execution_count": 37,
     "metadata": {},
     "output_type": "execute_result"
    }
   ],
   "source": [
    "pr_df.head(2)"
   ]
  },
  {
   "cell_type": "markdown",
   "id": "8102f95e-6175-4b46-99c1-66175f20325c",
   "metadata": {},
   "source": [
    "## Create PR trends dashboard"
   ]
  },
  {
   "cell_type": "markdown",
   "id": "5e502b7f-49c4-4024-aebc-3c9720a94209",
   "metadata": {},
   "source": [
    "## Infer dataframe columns as Features"
   ]
  },
  {
   "cell_type": "markdown",
   "id": "70443afd",
   "metadata": {},
   "source": [
    "We can see above that some PRs have 0 for all directory fields since the directory structure of the repo has changed over time and we are interested in only the latest directory structure."
   ]
  },
  {
   "cell_type": "code",
   "execution_count": 38,
   "id": "64e7a822",
   "metadata": {
    "execution": {
     "iopub.execute_input": "2022-11-04T09:52:11.490461Z",
     "iopub.status.busy": "2022-11-04T09:52:11.490156Z",
     "iopub.status.idle": "2022-11-04T09:52:11.496250Z",
     "shell.execute_reply": "2022-11-04T09:52:11.495309Z"
    }
   },
   "outputs": [],
   "source": [
    "# subset DataFrame to use as features\n",
    "feature_df = pr_df[\n",
    "    [\n",
    "        \"time_to_merge\",\n",
    "        \"changed_files_number\",\n",
    "        \"body_size\",\n",
    "        \"size\",\n",
    "        \"title_word_counts_vec\",\n",
    "        \"created_at_day\",\n",
    "        \"created_at_month\",\n",
    "        \"created_at_weekday\",\n",
    "        \"created_at_hour\",\n",
    "        \"commits_number\",\n",
    "        \"changed_file_type_vec\",\n",
    "    ]\n",
    "]"
   ]
  },
  {
   "cell_type": "markdown",
   "id": "0b08a241",
   "metadata": {},
   "source": [
    "### Add PR TTM Class Column \n",
    "\n",
    "Lets split up the time to merge values into 10 discrete bins (as discussed above) to use as our prediction classes."
   ]
  },
  {
   "cell_type": "code",
   "execution_count": 39,
   "id": "b1a5adc0-e8e2-4159-af36-a6fdc938de17",
   "metadata": {
    "execution": {
     "iopub.execute_input": "2022-11-04T09:52:11.500080Z",
     "iopub.status.busy": "2022-11-04T09:52:11.499805Z",
     "iopub.status.idle": "2022-11-04T09:52:11.506354Z",
     "shell.execute_reply": "2022-11-04T09:52:11.505470Z"
    }
   },
   "outputs": [
    {
     "data": {
      "text/plain": [
       "0.0         7.0\n",
       "0.1        37.3\n",
       "0.2       118.6\n",
       "0.3       136.0\n",
       "0.4       260.2\n",
       "0.5       607.5\n",
       "0.6      1228.6\n",
       "0.7      5008.4\n",
       "0.8     71007.0\n",
       "0.9    434048.3\n",
       "Name: time_to_merge, dtype: float64"
      ]
     },
     "execution_count": 39,
     "metadata": {},
     "output_type": "execute_result"
    }
   ],
   "source": [
    "intervals"
   ]
  },
  {
   "cell_type": "code",
   "execution_count": 40,
   "id": "ec16152d-0fb3-4775-913a-9e476382d713",
   "metadata": {
    "execution": {
     "iopub.execute_input": "2022-11-04T09:52:11.510824Z",
     "iopub.status.busy": "2022-11-04T09:52:11.510560Z",
     "iopub.status.idle": "2022-11-04T09:52:11.544217Z",
     "shell.execute_reply": "2022-11-04T09:52:11.543295Z"
    }
   },
   "outputs": [
    {
     "name": "stderr",
     "output_type": "stream",
     "text": [
      "/tmp/ipykernel_146/2436122750.py:9: SettingWithCopyWarning: \n",
      "A value is trying to be set on a copy of a slice from a DataFrame.\n",
      "Try using .loc[row_indexer,col_indexer] = value instead\n",
      "\n",
      "See the caveats in the documentation: https://pandas.pydata.org/pandas-docs/stable/user_guide/indexing.html#returning-a-view-versus-a-copy\n",
      "  feature_df[\"ttm_class\"] = (feature_df[\"time_to_merge\"]).apply(get_ttm_class)\n"
     ]
    },
    {
     "data": {
      "text/html": [
       "<div>\n",
       "<style scoped>\n",
       "    .dataframe tbody tr th:only-of-type {\n",
       "        vertical-align: middle;\n",
       "    }\n",
       "\n",
       "    .dataframe tbody tr th {\n",
       "        vertical-align: top;\n",
       "    }\n",
       "\n",
       "    .dataframe thead th {\n",
       "        text-align: right;\n",
       "    }\n",
       "</style>\n",
       "<table border=\"1\" class=\"dataframe\">\n",
       "  <thead>\n",
       "    <tr style=\"text-align: right;\">\n",
       "      <th></th>\n",
       "      <th>time_to_merge</th>\n",
       "      <th>changed_files_number</th>\n",
       "      <th>body_size</th>\n",
       "      <th>size</th>\n",
       "      <th>title_word_counts_vec</th>\n",
       "      <th>created_at_day</th>\n",
       "      <th>created_at_month</th>\n",
       "      <th>created_at_weekday</th>\n",
       "      <th>created_at_hour</th>\n",
       "      <th>commits_number</th>\n",
       "      <th>changed_file_type_vec</th>\n",
       "      <th>ttm_class</th>\n",
       "    </tr>\n",
       "  </thead>\n",
       "  <tbody>\n",
       "    <tr>\n",
       "      <th>0</th>\n",
       "      <td>756.0</td>\n",
       "      <td>2</td>\n",
       "      <td>468</td>\n",
       "      <td>2</td>\n",
       "      <td>[0, 0, 0, 0, 0, 0, 0, 0, 0, 0, 0, 0, 0, 0, 0, ...</td>\n",
       "      <td>12</td>\n",
       "      <td>10</td>\n",
       "      <td>2</td>\n",
       "      <td>18</td>\n",
       "      <td>1</td>\n",
       "      <td>[1, 0, 1, 0, 0, 0, 0, 0, 0, 0, 0, 0, 0]</td>\n",
       "      <td>5</td>\n",
       "    </tr>\n",
       "    <tr>\n",
       "      <th>1</th>\n",
       "      <td>NaN</td>\n",
       "      <td>1</td>\n",
       "      <td>74</td>\n",
       "      <td>4</td>\n",
       "      <td>[0, 0, 0, 0, 0, 0, 0, 0, 0, 0, 0, 0, 0, 0, 0, ...</td>\n",
       "      <td>12</td>\n",
       "      <td>10</td>\n",
       "      <td>2</td>\n",
       "      <td>18</td>\n",
       "      <td>1</td>\n",
       "      <td>[0, 1, 0, 0, 0, 0, 0, 0, 0, 0, 0, 0, 0]</td>\n",
       "      <td>9</td>\n",
       "    </tr>\n",
       "    <tr>\n",
       "      <th>2</th>\n",
       "      <td>1888847.0</td>\n",
       "      <td>6</td>\n",
       "      <td>124</td>\n",
       "      <td>3</td>\n",
       "      <td>[0, 0, 0, 0, 0, 0, 0, 0, 0, 0, 0, 0, 0, 0, 0, ...</td>\n",
       "      <td>20</td>\n",
       "      <td>9</td>\n",
       "      <td>1</td>\n",
       "      <td>22</td>\n",
       "      <td>8</td>\n",
       "      <td>[6, 0, 0, 0, 0, 0, 0, 0, 0, 0, 0, 0, 0]</td>\n",
       "      <td>9</td>\n",
       "    </tr>\n",
       "    <tr>\n",
       "      <th>3</th>\n",
       "      <td>2731.0</td>\n",
       "      <td>1</td>\n",
       "      <td>6</td>\n",
       "      <td>0</td>\n",
       "      <td>[0, 0, 0, 0, 0, 0, 0, 0, 0, 0, 0, 0, 0, 0, 0, ...</td>\n",
       "      <td>16</td>\n",
       "      <td>9</td>\n",
       "      <td>4</td>\n",
       "      <td>15</td>\n",
       "      <td>1</td>\n",
       "      <td>[0, 0, 0, 1, 0, 0, 0, 0, 0, 0, 0, 0, 0]</td>\n",
       "      <td>6</td>\n",
       "    </tr>\n",
       "    <tr>\n",
       "      <th>4</th>\n",
       "      <td>1340.0</td>\n",
       "      <td>1</td>\n",
       "      <td>73</td>\n",
       "      <td>3</td>\n",
       "      <td>[0, 0, 0, 0, 0, 0, 0, 0, 0, 0, 0, 0, 0, 0, 0, ...</td>\n",
       "      <td>16</td>\n",
       "      <td>9</td>\n",
       "      <td>4</td>\n",
       "      <td>15</td>\n",
       "      <td>1</td>\n",
       "      <td>[0, 1, 0, 0, 0, 0, 0, 0, 0, 0, 0, 0, 0]</td>\n",
       "      <td>6</td>\n",
       "    </tr>\n",
       "  </tbody>\n",
       "</table>\n",
       "</div>"
      ],
      "text/plain": [
       "   time_to_merge  changed_files_number  body_size  size  \\\n",
       "0          756.0                     2        468     2   \n",
       "1            NaN                     1         74     4   \n",
       "2      1888847.0                     6        124     3   \n",
       "3         2731.0                     1          6     0   \n",
       "4         1340.0                     1         73     3   \n",
       "\n",
       "                               title_word_counts_vec  created_at_day  \\\n",
       "0  [0, 0, 0, 0, 0, 0, 0, 0, 0, 0, 0, 0, 0, 0, 0, ...              12   \n",
       "1  [0, 0, 0, 0, 0, 0, 0, 0, 0, 0, 0, 0, 0, 0, 0, ...              12   \n",
       "2  [0, 0, 0, 0, 0, 0, 0, 0, 0, 0, 0, 0, 0, 0, 0, ...              20   \n",
       "3  [0, 0, 0, 0, 0, 0, 0, 0, 0, 0, 0, 0, 0, 0, 0, ...              16   \n",
       "4  [0, 0, 0, 0, 0, 0, 0, 0, 0, 0, 0, 0, 0, 0, 0, ...              16   \n",
       "\n",
       "   created_at_month  created_at_weekday  created_at_hour  commits_number  \\\n",
       "0                10                   2               18               1   \n",
       "1                10                   2               18               1   \n",
       "2                 9                   1               22               8   \n",
       "3                 9                   4               15               1   \n",
       "4                 9                   4               15               1   \n",
       "\n",
       "                     changed_file_type_vec  ttm_class  \n",
       "0  [1, 0, 1, 0, 0, 0, 0, 0, 0, 0, 0, 0, 0]          5  \n",
       "1  [0, 1, 0, 0, 0, 0, 0, 0, 0, 0, 0, 0, 0]          9  \n",
       "2  [6, 0, 0, 0, 0, 0, 0, 0, 0, 0, 0, 0, 0]          9  \n",
       "3  [0, 0, 0, 1, 0, 0, 0, 0, 0, 0, 0, 0, 0]          6  \n",
       "4  [0, 1, 0, 0, 0, 0, 0, 0, 0, 0, 0, 0, 0]          6  "
      ]
     },
     "execution_count": 40,
     "metadata": {},
     "output_type": "execute_result"
    }
   ],
   "source": [
    "def get_ttm_class(ttm):\n",
    "\n",
    "    for rownum, (indx, val) in enumerate(intervals.iteritems()):\n",
    "        if ttm < val:\n",
    "            return rownum - 1\n",
    "    return 9\n",
    "\n",
    "\n",
    "feature_df[\"ttm_class\"] = (feature_df[\"time_to_merge\"]).apply(get_ttm_class)\n",
    "feature_df.head()"
   ]
  },
  {
   "cell_type": "markdown",
   "id": "04749f45",
   "metadata": {},
   "source": [
    "## Evaluating Feature Importances\n",
    "\n",
    "### Categorical Features\n",
    "\n",
    "First, lets try to determine what categorical featuers are powerful influencers for time to merge of a PR"
   ]
  },
  {
   "cell_type": "code",
   "execution_count": 41,
   "id": "e353c92b",
   "metadata": {
    "execution": {
     "iopub.execute_input": "2022-11-04T09:52:11.549128Z",
     "iopub.status.busy": "2022-11-04T09:52:11.548851Z",
     "iopub.status.idle": "2022-11-04T09:52:11.553788Z",
     "shell.execute_reply": "2022-11-04T09:52:11.552890Z"
    }
   },
   "outputs": [],
   "source": [
    "# feature selection helper function\n",
    "def select_features(x, y, func):\n",
    "    fs = SelectKBest(score_func=func, k=\"all\")\n",
    "    fs.fit(x, y)\n",
    "    x_fs = fs.transform(x)\n",
    "    return x_fs, fs\n",
    "\n",
    "\n",
    "selected_features = []"
   ]
  },
  {
   "cell_type": "code",
   "execution_count": 42,
   "id": "986b3424-0401-4c7a-8f28-a860b87e14ef",
   "metadata": {
    "execution": {
     "iopub.execute_input": "2022-11-04T09:52:11.558205Z",
     "iopub.status.busy": "2022-11-04T09:52:11.557929Z",
     "iopub.status.idle": "2022-11-04T09:52:11.561762Z",
     "shell.execute_reply": "2022-11-04T09:52:11.560843Z"
    }
   },
   "outputs": [],
   "source": [
    "cat_features = [\n",
    "    \"size\",\n",
    "    \"created_at_day\",\n",
    "    \"created_at_month\",\n",
    "    \"created_at_weekday\",\n",
    "    \"created_at_hour\",\n",
    "    \"ttm_class\",\n",
    "]"
   ]
  },
  {
   "cell_type": "code",
   "execution_count": 43,
   "id": "3e1d24a4",
   "metadata": {
    "execution": {
     "iopub.execute_input": "2022-11-04T09:52:11.565804Z",
     "iopub.status.busy": "2022-11-04T09:52:11.565533Z",
     "iopub.status.idle": "2022-11-04T09:52:11.575747Z",
     "shell.execute_reply": "2022-11-04T09:52:11.574681Z"
    }
   },
   "outputs": [
    {
     "data": {
      "text/html": [
       "<div>\n",
       "<style scoped>\n",
       "    .dataframe tbody tr th:only-of-type {\n",
       "        vertical-align: middle;\n",
       "    }\n",
       "\n",
       "    .dataframe tbody tr th {\n",
       "        vertical-align: top;\n",
       "    }\n",
       "\n",
       "    .dataframe thead th {\n",
       "        text-align: right;\n",
       "    }\n",
       "</style>\n",
       "<table border=\"1\" class=\"dataframe\">\n",
       "  <thead>\n",
       "    <tr style=\"text-align: right;\">\n",
       "      <th></th>\n",
       "      <th>size</th>\n",
       "      <th>created_at_day</th>\n",
       "      <th>created_at_month</th>\n",
       "      <th>created_at_weekday</th>\n",
       "      <th>created_at_hour</th>\n",
       "      <th>ttm_class</th>\n",
       "    </tr>\n",
       "  </thead>\n",
       "  <tbody>\n",
       "    <tr>\n",
       "      <th>0</th>\n",
       "      <td>2</td>\n",
       "      <td>12</td>\n",
       "      <td>10</td>\n",
       "      <td>2</td>\n",
       "      <td>18</td>\n",
       "      <td>5</td>\n",
       "    </tr>\n",
       "    <tr>\n",
       "      <th>1</th>\n",
       "      <td>4</td>\n",
       "      <td>12</td>\n",
       "      <td>10</td>\n",
       "      <td>2</td>\n",
       "      <td>18</td>\n",
       "      <td>9</td>\n",
       "    </tr>\n",
       "    <tr>\n",
       "      <th>2</th>\n",
       "      <td>3</td>\n",
       "      <td>20</td>\n",
       "      <td>9</td>\n",
       "      <td>1</td>\n",
       "      <td>22</td>\n",
       "      <td>9</td>\n",
       "    </tr>\n",
       "    <tr>\n",
       "      <th>3</th>\n",
       "      <td>0</td>\n",
       "      <td>16</td>\n",
       "      <td>9</td>\n",
       "      <td>4</td>\n",
       "      <td>15</td>\n",
       "      <td>6</td>\n",
       "    </tr>\n",
       "    <tr>\n",
       "      <th>4</th>\n",
       "      <td>3</td>\n",
       "      <td>16</td>\n",
       "      <td>9</td>\n",
       "      <td>4</td>\n",
       "      <td>15</td>\n",
       "      <td>6</td>\n",
       "    </tr>\n",
       "  </tbody>\n",
       "</table>\n",
       "</div>"
      ],
      "text/plain": [
       "   size  created_at_day  created_at_month  created_at_weekday  \\\n",
       "0     2              12                10                   2   \n",
       "1     4              12                10                   2   \n",
       "2     3              20                 9                   1   \n",
       "3     0              16                 9                   4   \n",
       "4     3              16                 9                   4   \n",
       "\n",
       "   created_at_hour  ttm_class  \n",
       "0               18          5  \n",
       "1               18          9  \n",
       "2               22          9  \n",
       "3               15          6  \n",
       "4               15          6  "
      ]
     },
     "execution_count": 43,
     "metadata": {},
     "output_type": "execute_result"
    }
   ],
   "source": [
    "cat_df = feature_df[cat_features]\n",
    "\n",
    "cat_df.head()"
   ]
  },
  {
   "cell_type": "code",
   "execution_count": 44,
   "id": "278e3073",
   "metadata": {
    "execution": {
     "iopub.execute_input": "2022-11-04T09:52:11.579702Z",
     "iopub.status.busy": "2022-11-04T09:52:11.579413Z",
     "iopub.status.idle": "2022-11-04T09:52:11.584107Z",
     "shell.execute_reply": "2022-11-04T09:52:11.583181Z"
    }
   },
   "outputs": [],
   "source": [
    "# split into input (x) and output (y) variables\n",
    "X_inp = cat_df.drop(columns=[\"ttm_class\"])\n",
    "y = cat_df[\"ttm_class\"]"
   ]
  },
  {
   "cell_type": "code",
   "execution_count": 45,
   "id": "2df4fb8d",
   "metadata": {
    "execution": {
     "iopub.execute_input": "2022-11-04T09:52:11.588446Z",
     "iopub.status.busy": "2022-11-04T09:52:11.588177Z",
     "iopub.status.idle": "2022-11-04T09:52:11.644868Z",
     "shell.execute_reply": "2022-11-04T09:52:11.643881Z"
    }
   },
   "outputs": [],
   "source": [
    "# rank using mutual_info_classif\n",
    "X_fs, fs = select_features(X_inp, y, mutual_info_classif)"
   ]
  },
  {
   "cell_type": "code",
   "execution_count": 46,
   "id": "418becb1",
   "metadata": {
    "execution": {
     "iopub.execute_input": "2022-11-04T09:52:11.649042Z",
     "iopub.status.busy": "2022-11-04T09:52:11.648758Z",
     "iopub.status.idle": "2022-11-04T09:52:11.653506Z",
     "shell.execute_reply": "2022-11-04T09:52:11.652615Z"
    }
   },
   "outputs": [
    {
     "name": "stdout",
     "output_type": "stream",
     "text": [
      "Feature size: 0.108746\n",
      "Feature created_at_day: 0.206146\n",
      "Feature created_at_month: 0.309708\n",
      "Feature created_at_weekday: 0.018492\n",
      "Feature created_at_hour: 0.116922\n"
     ]
    }
   ],
   "source": [
    "for i in range(len(fs.scores_)):\n",
    "    print(\"Feature %s: %f\" % (X_inp.columns[i], fs.scores_[i]))"
   ]
  },
  {
   "cell_type": "code",
   "execution_count": 47,
   "id": "b08ea157",
   "metadata": {
    "execution": {
     "iopub.execute_input": "2022-11-04T09:52:11.658149Z",
     "iopub.status.busy": "2022-11-04T09:52:11.657873Z",
     "iopub.status.idle": "2022-11-04T09:52:11.847237Z",
     "shell.execute_reply": "2022-11-04T09:52:11.846212Z"
    }
   },
   "outputs": [
    {
     "data": {
      "image/png": "[encoded data removed]",
      "text/plain": [
       "<Figure size 432x288 with 1 Axes>"
      ]
     },
     "metadata": {
      "needs_background": "light"
     },
     "output_type": "display_data"
    }
   ],
   "source": [
    "# visualize scores of all features\n",
    "sns.barplot(x=X_inp.columns, y=fs.scores_)\n",
    "plt.title(\"Feature importance scores for Mutual Information Statistic\")\n",
    "plt.xticks(rotation=60)\n",
    "plt.xlabel(\"Features\")\n",
    "plt.ylabel(\"Scores\")\n",
    "plt.show()"
   ]
  },
  {
   "cell_type": "code",
   "execution_count": 48,
   "id": "176c1d98",
   "metadata": {
    "execution": {
     "iopub.execute_input": "2022-11-04T09:52:11.851617Z",
     "iopub.status.busy": "2022-11-04T09:52:11.851151Z",
     "iopub.status.idle": "2022-11-04T09:52:11.856765Z",
     "shell.execute_reply": "2022-11-04T09:52:11.855855Z"
    }
   },
   "outputs": [],
   "source": [
    "# Lets get a list of the top 10 feature indices based on Mutual Info Stat feature scores\n",
    "top_mis = fs.scores_.argsort()[-10:][::-1]"
   ]
  },
  {
   "cell_type": "code",
   "execution_count": 49,
   "id": "c33dc4f2",
   "metadata": {
    "execution": {
     "iopub.execute_input": "2022-11-04T09:52:11.860590Z",
     "iopub.status.busy": "2022-11-04T09:52:11.860305Z",
     "iopub.status.idle": "2022-11-04T09:52:11.869429Z",
     "shell.execute_reply": "2022-11-04T09:52:11.868615Z"
    }
   },
   "outputs": [],
   "source": [
    "# rank using chi_sq\n",
    "X_fs, fs = select_features(X_inp, y, chi2)"
   ]
  },
  {
   "cell_type": "code",
   "execution_count": 50,
   "id": "313c6906",
   "metadata": {
    "execution": {
     "iopub.execute_input": "2022-11-04T09:52:11.873337Z",
     "iopub.status.busy": "2022-11-04T09:52:11.872882Z",
     "iopub.status.idle": "2022-11-04T09:52:11.879982Z",
     "shell.execute_reply": "2022-11-04T09:52:11.879132Z"
    }
   },
   "outputs": [
    {
     "name": "stdout",
     "output_type": "stream",
     "text": [
      "Feature size: 65.361113\n",
      "Feature created_at_day: 47.122135\n",
      "Feature created_at_month: 177.406687\n",
      "Feature created_at_weekday: 17.292034\n",
      "Feature created_at_hour: 33.252314\n"
     ]
    }
   ],
   "source": [
    "for i in range(len(fs.scores_)):\n",
    "    print(\"Feature %s: %f\" % (X_inp.columns[i], fs.scores_[i]))"
   ]
  },
  {
   "cell_type": "code",
   "execution_count": 51,
   "id": "460daed6",
   "metadata": {
    "execution": {
     "iopub.execute_input": "2022-11-04T09:52:11.883906Z",
     "iopub.status.busy": "2022-11-04T09:52:11.883466Z",
     "iopub.status.idle": "2022-11-04T09:52:12.052306Z",
     "shell.execute_reply": "2022-11-04T09:52:12.051320Z"
    }
   },
   "outputs": [
    {
     "data": {
      "image/png": "[encoded data removed]",
      "text/plain": [
       "<Figure size 432x288 with 1 Axes>"
      ]
     },
     "metadata": {
      "needs_background": "light"
     },
     "output_type": "display_data"
    }
   ],
   "source": [
    "# visualize scores of all features\n",
    "sns.barplot(x=X_inp.columns, y=fs.scores_)\n",
    "plt.title(\"Feature importance scores for Chi Squared\")\n",
    "plt.xticks(rotation=60)\n",
    "plt.xlabel(\"Features\")\n",
    "plt.ylabel(\"Scores\")\n",
    "plt.show()"
   ]
  },
  {
   "cell_type": "code",
   "execution_count": 52,
   "id": "9874b4b4",
   "metadata": {
    "execution": {
     "iopub.execute_input": "2022-11-04T09:52:12.056174Z",
     "iopub.status.busy": "2022-11-04T09:52:12.055709Z",
     "iopub.status.idle": "2022-11-04T09:52:12.060257Z",
     "shell.execute_reply": "2022-11-04T09:52:12.059335Z"
    }
   },
   "outputs": [],
   "source": [
    "# Lets get a list of the top 10 feature indices based on Chi Sq feature scores\n",
    "top_chi2 = fs.scores_.argsort()[-10:][::-1]"
   ]
  },
  {
   "cell_type": "markdown",
   "id": "5861b291",
   "metadata": {},
   "source": [
    "Let's get a Union of the top 10 features derived from features based on both scores of both Mutual Info Statistic and Chi Squared"
   ]
  },
  {
   "cell_type": "code",
   "execution_count": 53,
   "id": "fae59295",
   "metadata": {
    "execution": {
     "iopub.execute_input": "2022-11-04T09:52:12.065256Z",
     "iopub.status.busy": "2022-11-04T09:52:12.064869Z",
     "iopub.status.idle": "2022-11-04T09:52:12.071503Z",
     "shell.execute_reply": "2022-11-04T09:52:12.070623Z"
    }
   },
   "outputs": [
    {
     "name": "stdout",
     "output_type": "stream",
     "text": [
      "5\n"
     ]
    },
    {
     "data": {
      "text/plain": [
       "{0, 1, 2, 3, 4}"
      ]
     },
     "execution_count": 53,
     "metadata": {},
     "output_type": "execute_result"
    }
   ],
   "source": [
    "union = set(top_mis).union(set(top_chi2))\n",
    "print(len(union))\n",
    "union"
   ]
  },
  {
   "cell_type": "code",
   "execution_count": 54,
   "id": "4778b695-9ec8-4d9f-a1dd-26d749b43a95",
   "metadata": {
    "execution": {
     "iopub.execute_input": "2022-11-04T09:52:12.076187Z",
     "iopub.status.busy": "2022-11-04T09:52:12.075923Z",
     "iopub.status.idle": "2022-11-04T09:52:12.081167Z",
     "shell.execute_reply": "2022-11-04T09:52:12.080364Z"
    }
   },
   "outputs": [
    {
     "data": {
      "text/plain": [
       "['size',\n",
       " 'created_at_day',\n",
       " 'created_at_month',\n",
       " 'created_at_weekday',\n",
       " 'created_at_hour']"
      ]
     },
     "execution_count": 54,
     "metadata": {},
     "output_type": "execute_result"
    }
   ],
   "source": [
    "selected_cat_features = [cat_features[i] for i in union]\n",
    "selected_cat_features"
   ]
  },
  {
   "cell_type": "code",
   "execution_count": 55,
   "id": "5b0ce173",
   "metadata": {
    "execution": {
     "iopub.execute_input": "2022-11-04T09:52:12.085381Z",
     "iopub.status.busy": "2022-11-04T09:52:12.085098Z",
     "iopub.status.idle": "2022-11-04T09:52:12.090229Z",
     "shell.execute_reply": "2022-11-04T09:52:12.089371Z"
    }
   },
   "outputs": [],
   "source": [
    "# update list of features to keep for training\n",
    "selected_features += selected_cat_features"
   ]
  },
  {
   "cell_type": "markdown",
   "id": "33f4387d",
   "metadata": {},
   "source": [
    "### Numerical Features\n",
    "\n",
    "Now, lets try to determine what numerical featuers are powerful influencers for time to merge of a PR"
   ]
  },
  {
   "cell_type": "code",
   "execution_count": 56,
   "id": "29683916-4ef7-474a-80ac-11a5d210b6fa",
   "metadata": {
    "execution": {
     "iopub.execute_input": "2022-11-04T09:52:12.094413Z",
     "iopub.status.busy": "2022-11-04T09:52:12.093775Z",
     "iopub.status.idle": "2022-11-04T09:52:12.097819Z",
     "shell.execute_reply": "2022-11-04T09:52:12.096938Z"
    }
   },
   "outputs": [],
   "source": [
    "numerical_features = [\n",
    "    \"changed_files_number\",\n",
    "    \"body_size\",\n",
    "    \"commits_number\",\n",
    "    \"ttm_class\",\n",
    "]"
   ]
  },
  {
   "cell_type": "code",
   "execution_count": 57,
   "id": "b0d608dd",
   "metadata": {
    "execution": {
     "iopub.execute_input": "2022-11-04T09:52:12.101556Z",
     "iopub.status.busy": "2022-11-04T09:52:12.101060Z",
     "iopub.status.idle": "2022-11-04T09:52:12.111693Z",
     "shell.execute_reply": "2022-11-04T09:52:12.110775Z"
    }
   },
   "outputs": [
    {
     "data": {
      "text/html": [
       "<div>\n",
       "<style scoped>\n",
       "    .dataframe tbody tr th:only-of-type {\n",
       "        vertical-align: middle;\n",
       "    }\n",
       "\n",
       "    .dataframe tbody tr th {\n",
       "        vertical-align: top;\n",
       "    }\n",
       "\n",
       "    .dataframe thead th {\n",
       "        text-align: right;\n",
       "    }\n",
       "</style>\n",
       "<table border=\"1\" class=\"dataframe\">\n",
       "  <thead>\n",
       "    <tr style=\"text-align: right;\">\n",
       "      <th></th>\n",
       "      <th>changed_files_number</th>\n",
       "      <th>body_size</th>\n",
       "      <th>commits_number</th>\n",
       "      <th>ttm_class</th>\n",
       "    </tr>\n",
       "  </thead>\n",
       "  <tbody>\n",
       "    <tr>\n",
       "      <th>0</th>\n",
       "      <td>2</td>\n",
       "      <td>468</td>\n",
       "      <td>1</td>\n",
       "      <td>5</td>\n",
       "    </tr>\n",
       "    <tr>\n",
       "      <th>1</th>\n",
       "      <td>1</td>\n",
       "      <td>74</td>\n",
       "      <td>1</td>\n",
       "      <td>9</td>\n",
       "    </tr>\n",
       "    <tr>\n",
       "      <th>2</th>\n",
       "      <td>6</td>\n",
       "      <td>124</td>\n",
       "      <td>8</td>\n",
       "      <td>9</td>\n",
       "    </tr>\n",
       "    <tr>\n",
       "      <th>3</th>\n",
       "      <td>1</td>\n",
       "      <td>6</td>\n",
       "      <td>1</td>\n",
       "      <td>6</td>\n",
       "    </tr>\n",
       "    <tr>\n",
       "      <th>4</th>\n",
       "      <td>1</td>\n",
       "      <td>73</td>\n",
       "      <td>1</td>\n",
       "      <td>6</td>\n",
       "    </tr>\n",
       "  </tbody>\n",
       "</table>\n",
       "</div>"
      ],
      "text/plain": [
       "   changed_files_number  body_size  commits_number  ttm_class\n",
       "0                     2        468               1          5\n",
       "1                     1         74               1          9\n",
       "2                     6        124               8          9\n",
       "3                     1          6               1          6\n",
       "4                     1         73               1          6"
      ]
     },
     "execution_count": 57,
     "metadata": {},
     "output_type": "execute_result"
    }
   ],
   "source": [
    "numerical_df = feature_df[numerical_features]\n",
    "numerical_df.head()"
   ]
  },
  {
   "cell_type": "code",
   "execution_count": 58,
   "id": "9ff2919e",
   "metadata": {
    "execution": {
     "iopub.execute_input": "2022-11-04T09:52:12.115430Z",
     "iopub.status.busy": "2022-11-04T09:52:12.115154Z",
     "iopub.status.idle": "2022-11-04T09:52:12.120113Z",
     "shell.execute_reply": "2022-11-04T09:52:12.119195Z"
    }
   },
   "outputs": [],
   "source": [
    "# split into input features and target\n",
    "X_inp = numerical_df.drop(columns=[\"ttm_class\"])\n",
    "y = numerical_df[\"ttm_class\"]"
   ]
  },
  {
   "cell_type": "code",
   "execution_count": 59,
   "id": "cc733746",
   "metadata": {
    "execution": {
     "iopub.execute_input": "2022-11-04T09:52:12.123658Z",
     "iopub.status.busy": "2022-11-04T09:52:12.123386Z",
     "iopub.status.idle": "2022-11-04T09:52:12.303765Z",
     "shell.execute_reply": "2022-11-04T09:52:12.302897Z"
    },
    "tags": []
   },
   "outputs": [
    {
     "data": {
      "image/png": "[encoded data removed]",
      "text/plain": [
       "<Figure size 432x288 with 1 Axes>"
      ]
     },
     "metadata": {
      "needs_background": "light"
     },
     "output_type": "display_data"
    }
   ],
   "source": [
    "# create k best feature selector object based on mutual information\n",
    "numerical_feats_mi, k_best_selector_mi = select_features(\n",
    "    X_inp,\n",
    "    y,\n",
    "    partial(\n",
    "        mutual_info_classif,\n",
    "        discrete_features=False,\n",
    "        random_state=42,\n",
    "        n_neighbors=3,\n",
    "    ),\n",
    ")\n",
    "\n",
    "# visualize the MI scores of all features\n",
    "sns.barplot(x=X_inp.columns, y=k_best_selector_mi.scores_)\n",
    "plt.title(\"Feature importance based on Mutual Information\")\n",
    "plt.xticks(rotation=60)\n",
    "plt.xlabel(\"Features\")\n",
    "plt.ylabel(\"Scores\")\n",
    "plt.show()"
   ]
  },
  {
   "cell_type": "code",
   "execution_count": 60,
   "id": "7bdf2192",
   "metadata": {
    "execution": {
     "iopub.execute_input": "2022-11-04T09:52:12.308320Z",
     "iopub.status.busy": "2022-11-04T09:52:12.307859Z",
     "iopub.status.idle": "2022-11-04T09:52:12.512487Z",
     "shell.execute_reply": "2022-11-04T09:52:12.511503Z"
    }
   },
   "outputs": [
    {
     "data": {
      "image/png": "[encoded data removed]",
      "text/plain": [
       "<Figure size 432x288 with 2 Axes>"
      ]
     },
     "metadata": {
      "needs_background": "light"
     },
     "output_type": "display_data"
    }
   ],
   "source": [
    "# create k best feature selector object based on anova f statistic\n",
    "numerical_feats_f, k_best_selector_f = select_features(\n",
    "    X_inp,\n",
    "    y,\n",
    "    f_classif,\n",
    ")\n",
    "\n",
    "# visualize the f stat scores and pvalues of all features\n",
    "fig, axes = plt.subplots(2, 1, sharex=True)\n",
    "fig.suptitle(\"Feature importance based on ANOVA F stat\")\n",
    "sns.barplot(x=X_inp.columns, y=k_best_selector_f.scores_, ax=axes[0])\n",
    "sns.barplot(x=X_inp.columns, y=k_best_selector_f.pvalues_, ax=axes[1])\n",
    "plt.xticks(rotation=60)\n",
    "plt.xlabel(\"Features\")\n",
    "axes[0].set_ylabel(\"Scores\")\n",
    "axes[1].set_ylabel(\"p-values\")\n",
    "plt.show()"
   ]
  },
  {
   "cell_type": "code",
   "execution_count": 61,
   "id": "6134ddb1-994f-42ee-8a68-7111540b6481",
   "metadata": {
    "execution": {
     "iopub.execute_input": "2022-11-04T09:52:12.517074Z",
     "iopub.status.busy": "2022-11-04T09:52:12.516624Z",
     "iopub.status.idle": "2022-11-04T09:52:12.525541Z",
     "shell.execute_reply": "2022-11-04T09:52:12.524745Z"
    }
   },
   "outputs": [
    {
     "data": {
      "text/plain": [
       "{0, 1, 2}"
      ]
     },
     "execution_count": 61,
     "metadata": {},
     "output_type": "execute_result"
    }
   ],
   "source": [
    "top_mi = k_best_selector_mi.scores_.argsort()[-3:][::-1]\n",
    "top_anova = k_best_selector_f.scores_.argsort()[-3:][::-1]\n",
    "union = set(top_mi).union(set(top_anova))\n",
    "union"
   ]
  },
  {
   "cell_type": "code",
   "execution_count": 62,
   "id": "2d5a9368-bfaf-4348-b140-13e6d725f59c",
   "metadata": {
    "execution": {
     "iopub.execute_input": "2022-11-04T09:52:12.529519Z",
     "iopub.status.busy": "2022-11-04T09:52:12.529028Z",
     "iopub.status.idle": "2022-11-04T09:52:12.537125Z",
     "shell.execute_reply": "2022-11-04T09:52:12.536079Z"
    }
   },
   "outputs": [
    {
     "data": {
      "text/plain": [
       "['changed_files_number', 'body_size', 'commits_number']"
      ]
     },
     "execution_count": 62,
     "metadata": {},
     "output_type": "execute_result"
    }
   ],
   "source": [
    "selected_num_features = [numerical_features[i] for i in union]\n",
    "selected_num_features"
   ]
  },
  {
   "cell_type": "code",
   "execution_count": 63,
   "id": "cc984a01",
   "metadata": {
    "execution": {
     "iopub.execute_input": "2022-11-04T09:52:12.541189Z",
     "iopub.status.busy": "2022-11-04T09:52:12.540692Z",
     "iopub.status.idle": "2022-11-04T09:52:12.544684Z",
     "shell.execute_reply": "2022-11-04T09:52:12.543758Z"
    }
   },
   "outputs": [],
   "source": [
    "# update list of features to keep for training\n",
    "selected_features += selected_num_features"
   ]
  },
  {
   "cell_type": "markdown",
   "id": "11a86b36",
   "metadata": {},
   "source": [
    "### Count Vector Type Features\n",
    "\n",
    "Finally, lets determine the most important features from the count vector type columns."
   ]
  },
  {
   "cell_type": "code",
   "execution_count": 64,
   "id": "f07d0334",
   "metadata": {
    "execution": {
     "iopub.execute_input": "2022-11-04T09:52:12.549064Z",
     "iopub.status.busy": "2022-11-04T09:52:12.548452Z",
     "iopub.status.idle": "2022-11-04T09:52:12.556886Z",
     "shell.execute_reply": "2022-11-04T09:52:12.555871Z"
    },
    "scrolled": true
   },
   "outputs": [],
   "source": [
    "# explode the list column so that there is 1 column representing frequency of each file type\n",
    "filetype_df = pd.DataFrame(feature_df.changed_file_type_vec.to_list())\n",
    "filetype_df.index = feature_df.index\n",
    "filetype_df.columns = [f\"filetype_{f}\" for f in top_fileextensions]"
   ]
  },
  {
   "cell_type": "code",
   "execution_count": 65,
   "id": "35f93d4e",
   "metadata": {
    "execution": {
     "iopub.execute_input": "2022-11-04T09:52:12.560842Z",
     "iopub.status.busy": "2022-11-04T09:52:12.560394Z",
     "iopub.status.idle": "2022-11-04T09:52:12.575359Z",
     "shell.execute_reply": "2022-11-04T09:52:12.574173Z"
    }
   },
   "outputs": [
    {
     "data": {
      "text/plain": [
       "filetype_.py             0.378647\n",
       "filetype_Pipfile         0.208348\n",
       "filetype_.rst            0.206917\n",
       "filetype_.yaml           0.164107\n",
       "filetype_CODEOWNERS      0.127641\n",
       "filetype_OWNERS          0.099735\n",
       "filetype_.toml           0.094884\n",
       "filetype_mi-scheduler    0.067669\n",
       "filetype_.png            0.067669\n",
       "filetype_None            0.062127\n",
       "filetype_.txt            0.051350\n",
       "filetype_.md            -0.002293\n",
       "filetype_.lock          -0.405104\n",
       "dtype: float64"
      ]
     },
     "execution_count": 65,
     "metadata": {},
     "output_type": "execute_result"
    }
   ],
   "source": [
    "# compute correlation with ttm\n",
    "corr = filetype_df.corrwith(feature_df[\"ttm_class\"])\n",
    "corr.sort_values(ascending=False)"
   ]
  },
  {
   "cell_type": "code",
   "execution_count": 66,
   "id": "d5ae2981",
   "metadata": {
    "execution": {
     "iopub.execute_input": "2022-11-04T09:52:12.579167Z",
     "iopub.status.busy": "2022-11-04T09:52:12.578609Z",
     "iopub.status.idle": "2022-11-04T09:52:12.587428Z",
     "shell.execute_reply": "2022-11-04T09:52:12.586598Z"
    }
   },
   "outputs": [
    {
     "data": {
      "text/plain": [
       "filetype_.py             0.378647\n",
       "filetype_.lock          -0.405104\n",
       "filetype_.yaml           0.164107\n",
       "filetype_Pipfile         0.208348\n",
       "filetype_.rst            0.206917\n",
       "filetype_OWNERS          0.099735\n",
       "filetype_.toml           0.094884\n",
       "filetype_CODEOWNERS      0.127641\n",
       "filetype_None            0.062127\n",
       "filetype_.png            0.067669\n",
       "filetype_.txt            0.051350\n",
       "filetype_mi-scheduler    0.067669\n",
       "dtype: float64"
      ]
     },
     "execution_count": 66,
     "metadata": {},
     "output_type": "execute_result"
    }
   ],
   "source": [
    "corr[corr.abs() > 0.01]"
   ]
  },
  {
   "cell_type": "code",
   "execution_count": 67,
   "id": "9d5e19bd",
   "metadata": {
    "execution": {
     "iopub.execute_input": "2022-11-04T09:52:12.591227Z",
     "iopub.status.busy": "2022-11-04T09:52:12.590911Z",
     "iopub.status.idle": "2022-11-04T09:52:12.598760Z",
     "shell.execute_reply": "2022-11-04T09:52:12.597823Z"
    }
   },
   "outputs": [],
   "source": [
    "# update list of features to keep for training\n",
    "# take everything that has more than 0.01 correlation magnitude\n",
    "filetype_keep_cols = corr[corr.abs() > 0.01].index.tolist()\n",
    "selected_features += filetype_keep_cols\n",
    "\n",
    "# only keep the relevant columns now\n",
    "filetype_df = filetype_df[filetype_keep_cols]"
   ]
  },
  {
   "cell_type": "code",
   "execution_count": 68,
   "id": "2eab2fb8-ee9e-4a4e-9d2e-7629f9c56cb9",
   "metadata": {
    "execution": {
     "iopub.execute_input": "2022-11-04T09:52:12.602470Z",
     "iopub.status.busy": "2022-11-04T09:52:12.602161Z",
     "iopub.status.idle": "2022-11-04T09:52:12.610471Z",
     "shell.execute_reply": "2022-11-04T09:52:12.609532Z"
    }
   },
   "outputs": [
    {
     "data": {
      "text/plain": [
       "['.py',\n",
       " '.lock',\n",
       " '.yaml',\n",
       " 'Pipfile',\n",
       " '.rst',\n",
       " 'OWNERS',\n",
       " '.toml',\n",
       " 'CODEOWNERS',\n",
       " 'None',\n",
       " '.png',\n",
       " '.txt',\n",
       " 'mi-scheduler']"
      ]
     },
     "execution_count": 68,
     "metadata": {},
     "output_type": "execute_result"
    }
   ],
   "source": [
    "filetype_keep_cols = [i[9:] for i in filetype_keep_cols]\n",
    "filetype_keep_cols"
   ]
  },
  {
   "cell_type": "code",
   "execution_count": 69,
   "id": "2b2da9ab-de61-44f5-91f1-a897e8f7a962",
   "metadata": {
    "execution": {
     "iopub.execute_input": "2022-11-04T09:52:12.614284Z",
     "iopub.status.busy": "2022-11-04T09:52:12.614031Z",
     "iopub.status.idle": "2022-11-04T09:52:12.619807Z",
     "shell.execute_reply": "2022-11-04T09:52:12.618860Z"
    }
   },
   "outputs": [],
   "source": [
    "filetype_keep_cols_df = pd.DataFrame(filetype_keep_cols, columns=[\"filetype\"])"
   ]
  },
  {
   "cell_type": "code",
   "execution_count": 70,
   "id": "773682ad-cda8-42ec-9275-dc611004d913",
   "metadata": {
    "execution": {
     "iopub.execute_input": "2022-11-04T09:52:12.623361Z",
     "iopub.status.busy": "2022-11-04T09:52:12.623062Z",
     "iopub.status.idle": "2022-11-04T09:52:12.633976Z",
     "shell.execute_reply": "2022-11-04T09:52:12.633122Z"
    }
   },
   "outputs": [
    {
     "data": {
      "text/html": [
       "<div>\n",
       "<style scoped>\n",
       "    .dataframe tbody tr th:only-of-type {\n",
       "        vertical-align: middle;\n",
       "    }\n",
       "\n",
       "    .dataframe tbody tr th {\n",
       "        vertical-align: top;\n",
       "    }\n",
       "\n",
       "    .dataframe thead th {\n",
       "        text-align: right;\n",
       "    }\n",
       "</style>\n",
       "<table border=\"1\" class=\"dataframe\">\n",
       "  <thead>\n",
       "    <tr style=\"text-align: right;\">\n",
       "      <th></th>\n",
       "      <th>filetype</th>\n",
       "    </tr>\n",
       "  </thead>\n",
       "  <tbody>\n",
       "    <tr>\n",
       "      <th>0</th>\n",
       "      <td>.py</td>\n",
       "    </tr>\n",
       "    <tr>\n",
       "      <th>1</th>\n",
       "      <td>.lock</td>\n",
       "    </tr>\n",
       "    <tr>\n",
       "      <th>2</th>\n",
       "      <td>.yaml</td>\n",
       "    </tr>\n",
       "    <tr>\n",
       "      <th>3</th>\n",
       "      <td>Pipfile</td>\n",
       "    </tr>\n",
       "    <tr>\n",
       "      <th>4</th>\n",
       "      <td>.rst</td>\n",
       "    </tr>\n",
       "    <tr>\n",
       "      <th>5</th>\n",
       "      <td>OWNERS</td>\n",
       "    </tr>\n",
       "    <tr>\n",
       "      <th>6</th>\n",
       "      <td>.toml</td>\n",
       "    </tr>\n",
       "    <tr>\n",
       "      <th>7</th>\n",
       "      <td>CODEOWNERS</td>\n",
       "    </tr>\n",
       "    <tr>\n",
       "      <th>8</th>\n",
       "      <td>None</td>\n",
       "    </tr>\n",
       "    <tr>\n",
       "      <th>9</th>\n",
       "      <td>.png</td>\n",
       "    </tr>\n",
       "    <tr>\n",
       "      <th>10</th>\n",
       "      <td>.txt</td>\n",
       "    </tr>\n",
       "    <tr>\n",
       "      <th>11</th>\n",
       "      <td>mi-scheduler</td>\n",
       "    </tr>\n",
       "  </tbody>\n",
       "</table>\n",
       "</div>"
      ],
      "text/plain": [
       "        filetype\n",
       "0            .py\n",
       "1          .lock\n",
       "2          .yaml\n",
       "3        Pipfile\n",
       "4           .rst\n",
       "5         OWNERS\n",
       "6          .toml\n",
       "7     CODEOWNERS\n",
       "8           None\n",
       "9           .png\n",
       "10          .txt\n",
       "11  mi-scheduler"
      ]
     },
     "execution_count": 70,
     "metadata": {},
     "output_type": "execute_result"
    }
   ],
   "source": [
    "filetype_keep_cols_df"
   ]
  },
  {
   "cell_type": "code",
   "execution_count": 71,
   "id": "7333e449-4e2a-42aa-b728-3f36d205ed1f",
   "metadata": {
    "execution": {
     "iopub.execute_input": "2022-11-04T09:52:12.637768Z",
     "iopub.status.busy": "2022-11-04T09:52:12.637414Z",
     "iopub.status.idle": "2022-11-04T09:52:13.412444Z",
     "shell.execute_reply": "2022-11-04T09:52:13.411076Z"
    }
   },
   "outputs": [
    {
     "data": {
      "text/plain": [
       "{'ResponseMetadata': {'RequestId': 'la2bibxr-3r4ng2-2ku',\n",
       "  'HostId': 'la2bibxr-3r4ng2-2ku',\n",
       "  'HTTPStatusCode': 200,\n",
       "  'HTTPHeaders': {'x-amz-request-id': 'la2bibxr-3r4ng2-2ku',\n",
       "   'x-amz-id-2': 'la2bibxr-3r4ng2-2ku',\n",
       "   'access-control-allow-origin': '*',\n",
       "   'access-control-allow-credentials': 'true',\n",
       "   'access-control-allow-methods': 'GET,POST,PUT,DELETE,OPTIONS',\n",
       "   'access-control-allow-headers': 'Content-Type,Content-MD5,Authorization,X-Amz-User-Agent,X-Amz-Date,ETag,X-Amz-Content-Sha256',\n",
       "   'access-control-expose-headers': 'ETag,X-Amz-Version-Id',\n",
       "   'etag': '\"874bbcf5710f45d0c4537d31cc73d2af\"',\n",
       "   'date': 'Fri, 04 Nov 2022 09:52:13 GMT',\n",
       "   'keep-alive': 'timeout=5',\n",
       "   'content-length': '0',\n",
       "   'set-cookie': '1a4aa612fe797ac8466d7ee00e5520d5=a26d7dd2bae782e2ad6181b7887b5ff1; path=/; HttpOnly; Secure; SameSite=None'},\n",
       "  'RetryAttempts': 0},\n",
       " 'ETag': '\"874bbcf5710f45d0c4537d31cc73d2af\"'}"
      ]
     },
     "execution_count": 71,
     "metadata": {},
     "output_type": "execute_result"
    }
   ],
   "source": [
    "FILETYPE_FEATURES_FILENAME = os.path.join(ORG + REPO + \"FILETYPE.parquet\")\n",
    "FILETYPE_FEATURES_KEY = os.path.join(s3_input_data_path, ORG, REPO, \"features\")\n",
    "cc = CephCommunication(s3_endpoint_url, s3_access_key, s3_secret_key, s3_bucket)\n",
    "cc.upload_to_ceph(\n",
    "    filetype_keep_cols_df, FILETYPE_FEATURES_KEY, FILETYPE_FEATURES_FILENAME\n",
    ")"
   ]
  },
  {
   "cell_type": "code",
   "execution_count": 72,
   "id": "618842b5",
   "metadata": {
    "execution": {
     "iopub.execute_input": "2022-11-04T09:52:13.416984Z",
     "iopub.status.busy": "2022-11-04T09:52:13.416123Z",
     "iopub.status.idle": "2022-11-04T09:52:13.464639Z",
     "shell.execute_reply": "2022-11-04T09:52:13.463369Z"
    }
   },
   "outputs": [],
   "source": [
    "# explode the list column so that there is 1 column representing frequency of each word\n",
    "title_wordcount_df = pd.DataFrame(feature_df.title_word_counts_vec.to_list())\n",
    "\n",
    "title_wordcount_df.index = feature_df.index\n",
    "title_wordcount_df.columns = [f\"title_wordcount_{w}\" for w in unique_words]"
   ]
  },
  {
   "cell_type": "code",
   "execution_count": 73,
   "id": "457f28ed",
   "metadata": {
    "execution": {
     "iopub.execute_input": "2022-11-04T09:52:13.468762Z",
     "iopub.status.busy": "2022-11-04T09:52:13.468300Z",
     "iopub.status.idle": "2022-11-04T09:52:13.583849Z",
     "shell.execute_reply": "2022-11-04T09:52:13.582879Z"
    },
    "scrolled": true
   },
   "outputs": [
    {
     "data": {
      "text/plain": [
       "title_wordcount_feature       0.295952\n",
       "title_wordcount_add           0.225819\n",
       "title_wordcount_readme        0.182360\n",
       "title_wordcount_fix           0.170591\n",
       "title_wordcount_bump          0.167918\n",
       "                                ...   \n",
       "title_wordcount_dash         -0.265476\n",
       "title_wordcount_storages     -0.275256\n",
       "title_wordcount_update       -0.470282\n",
       "title_wordcount_automatic    -0.537306\n",
       "title_wordcount_dependency   -0.577051\n",
       "Length: 328, dtype: float64"
      ]
     },
     "execution_count": 73,
     "metadata": {},
     "output_type": "execute_result"
    }
   ],
   "source": [
    "# compute correlation with ttm\n",
    "corr = title_wordcount_df.corrwith(feature_df[\"ttm_class\"])\n",
    "corr = corr.dropna()\n",
    "corr.sort_values(ascending=False)"
   ]
  },
  {
   "cell_type": "code",
   "execution_count": 74,
   "id": "0f1495a6",
   "metadata": {
    "execution": {
     "iopub.execute_input": "2022-11-04T09:52:13.587799Z",
     "iopub.status.busy": "2022-11-04T09:52:13.587508Z",
     "iopub.status.idle": "2022-11-04T09:52:13.595297Z",
     "shell.execute_reply": "2022-11-04T09:52:13.594294Z"
    }
   },
   "outputs": [
    {
     "data": {
      "text/plain": [
       "title_wordcount_0rc1        -0.080847\n",
       "title_wordcount_0rc2        -0.043068\n",
       "title_wordcount_0rc3        -0.054378\n",
       "title_wordcount_add          0.225819\n",
       "title_wordcount_added        0.067669\n",
       "                               ...   \n",
       "title_wordcount_wip          0.067669\n",
       "title_wordcount_workflows    0.067669\n",
       "title_wordcount_xtuchyna     0.067669\n",
       "title_wordcount_yaml         0.061154\n",
       "title_wordcount_⬆️           0.095814\n",
       "Length: 202, dtype: float64"
      ]
     },
     "execution_count": 74,
     "metadata": {},
     "output_type": "execute_result"
    }
   ],
   "source": [
    "corr[corr.abs() > 0.04]"
   ]
  },
  {
   "cell_type": "code",
   "execution_count": 75,
   "id": "624b3504",
   "metadata": {
    "execution": {
     "iopub.execute_input": "2022-11-04T09:52:13.599721Z",
     "iopub.status.busy": "2022-11-04T09:52:13.599062Z",
     "iopub.status.idle": "2022-11-04T09:52:13.606377Z",
     "shell.execute_reply": "2022-11-04T09:52:13.605419Z"
    }
   },
   "outputs": [],
   "source": [
    "# update list of features to keep for training\n",
    "# take everything that has more than 0.01 correlation magnitude\n",
    "title_word_keep_cols = corr[corr.abs() > 0.04].index.tolist()\n",
    "selected_features += title_word_keep_cols\n",
    "\n",
    "title_wordcount_df = title_wordcount_df[title_word_keep_cols]"
   ]
  },
  {
   "cell_type": "code",
   "execution_count": 76,
   "id": "45cd6a78-361c-444f-8065-4127f2e29313",
   "metadata": {
    "execution": {
     "iopub.execute_input": "2022-11-04T09:52:13.610097Z",
     "iopub.status.busy": "2022-11-04T09:52:13.609804Z",
     "iopub.status.idle": "2022-11-04T09:52:13.618223Z",
     "shell.execute_reply": "2022-11-04T09:52:13.617293Z"
    }
   },
   "outputs": [
    {
     "data": {
      "text/plain": [
       "['0rc1',\n",
       " '0rc2',\n",
       " '0rc3',\n",
       " 'add',\n",
       " 'added',\n",
       " 'advise',\n",
       " 'aggregation',\n",
       " 'allow',\n",
       " 'analysis',\n",
       " 'api',\n",
       " 'approvers',\n",
       " 'argo',\n",
       " 'assignees',\n",
       " 'atomic',\n",
       " 'atpi',\n",
       " 'author',\n",
       " 'automatic',\n",
       " 'autopep8',\n",
       " 'baseentity',\n",
       " 'basic',\n",
       " 'bleach',\n",
       " 'bug',\n",
       " 'building',\n",
       " 'bump',\n",
       " 'ceph',\n",
       " 'change',\n",
       " 'check',\n",
       " 'christoph',\n",
       " 'class',\n",
       " 'clear',\n",
       " 'cli',\n",
       " 'coala',\n",
       " 'code',\n",
       " 'codeowners',\n",
       " 'collection',\n",
       " 'commit',\n",
       " 'commmit',\n",
       " 'concept',\n",
       " 'config',\n",
       " 'content',\n",
       " 'contentfile',\n",
       " 'context',\n",
       " 'correct',\n",
       " 'cov',\n",
       " 'cronjob',\n",
       " 'cryptography',\n",
       " 'csv',\n",
       " 'current',\n",
       " 'daily',\n",
       " 'dash',\n",
       " 'data',\n",
       " 'dataframes',\n",
       " 'day',\n",
       " 'dependencies',\n",
       " 'dependency',\n",
       " 'divide',\n",
       " 'documentation',\n",
       " 'entities',\n",
       " 'entity',\n",
       " 'enttiy',\n",
       " 'env',\n",
       " 'environment',\n",
       " 'envvar',\n",
       " 'envvars',\n",
       " 'errors',\n",
       " 'even',\n",
       " 'example',\n",
       " 'excluded',\n",
       " 'exists',\n",
       " 'expand',\n",
       " 'feature',\n",
       " 'file',\n",
       " 'files',\n",
       " 'fix',\n",
       " 'fixes',\n",
       " 'functionality',\n",
       " 'general',\n",
       " 'gitpython',\n",
       " 'given',\n",
       " 'history',\n",
       " 'identified',\n",
       " 'impl',\n",
       " 'implement',\n",
       " 'implementation',\n",
       " 'inconsistent',\n",
       " 'indicators',\n",
       " 'initializations',\n",
       " 'inside',\n",
       " 'instance',\n",
       " 'introduce',\n",
       " 'issue',\n",
       " 'issued',\n",
       " 'issues',\n",
       " 'json',\n",
       " 'kebechet',\n",
       " 'knowledge',\n",
       " 'labels',\n",
       " 'license',\n",
       " 'link',\n",
       " 'links',\n",
       " 'list',\n",
       " 'load',\n",
       " 'loading',\n",
       " 'local',\n",
       " 'logger',\n",
       " 'logic',\n",
       " 'lxml',\n",
       " 'manager',\n",
       " 'managers',\n",
       " 'matplotlib',\n",
       " 'merge',\n",
       " 'metrics',\n",
       " 'mi',\n",
       " 'multiple',\n",
       " 'numpy',\n",
       " 'ogr',\n",
       " 'option',\n",
       " 'options',\n",
       " 'organizations',\n",
       " 'package',\n",
       " 'pacospace',\n",
       " 'pandas',\n",
       " 'path',\n",
       " 'pillow',\n",
       " 'plotly',\n",
       " 'plots',\n",
       " 'pr',\n",
       " 'pre',\n",
       " 'preprocess',\n",
       " 'pretty',\n",
       " 'projects',\n",
       " 'prs',\n",
       " 'pullrequestdiscussion',\n",
       " 'pydriller',\n",
       " 'pypi',\n",
       " 'pytest',\n",
       " 'python',\n",
       " 'readme',\n",
       " 'reduce',\n",
       " 'refactor',\n",
       " 'release',\n",
       " 'remote',\n",
       " 'remotely',\n",
       " 'remove',\n",
       " 'rename',\n",
       " 'report',\n",
       " 'repos',\n",
       " 'repositories',\n",
       " 'require',\n",
       " 'requirements',\n",
       " 'reviewers',\n",
       " 'rope',\n",
       " 'safe',\n",
       " 'save',\n",
       " 'scheduler',\n",
       " 'schema',\n",
       " 'seconds',\n",
       " 'section',\n",
       " 'semver',\n",
       " 'setting',\n",
       " 'setup',\n",
       " 'singleton',\n",
       " 'sli',\n",
       " 'slo',\n",
       " 'slug',\n",
       " 'specific',\n",
       " 'specification',\n",
       " 'stargazers',\n",
       " 'stars',\n",
       " 'statistics',\n",
       " 'storage',\n",
       " 'storages',\n",
       " 'store',\n",
       " 'storing',\n",
       " 'string',\n",
       " 'structure',\n",
       " 'support',\n",
       " 'symlinked',\n",
       " 'thoth',\n",
       " 'though',\n",
       " 'time',\n",
       " 'timeout',\n",
       " 'token',\n",
       " 'tqdm',\n",
       " 'ttci',\n",
       " 'typo',\n",
       " 'ubi8',\n",
       " 'unknown',\n",
       " 'unnecesary',\n",
       " 'unnecessary',\n",
       " 'update',\n",
       " 'use',\n",
       " 'var',\n",
       " 'version',\n",
       " 'visualization',\n",
       " 'visualizations',\n",
       " 'waiting',\n",
       " 'wip',\n",
       " 'workflows',\n",
       " 'xtuchyna',\n",
       " 'yaml',\n",
       " '⬆️']"
      ]
     },
     "execution_count": 76,
     "metadata": {},
     "output_type": "execute_result"
    }
   ],
   "source": [
    "title_word_keep_cols = [i[16:] for i in title_word_keep_cols]\n",
    "title_word_keep_cols"
   ]
  },
  {
   "cell_type": "code",
   "execution_count": 77,
   "id": "8b937135-f983-4d6c-961e-f9c7158d108c",
   "metadata": {
    "execution": {
     "iopub.execute_input": "2022-11-04T09:52:13.621726Z",
     "iopub.status.busy": "2022-11-04T09:52:13.621433Z",
     "iopub.status.idle": "2022-11-04T09:52:13.626463Z",
     "shell.execute_reply": "2022-11-04T09:52:13.625500Z"
    }
   },
   "outputs": [],
   "source": [
    "title_word_keep_cols_df = pd.DataFrame(title_word_keep_cols, columns=[\"title\"])"
   ]
  },
  {
   "cell_type": "code",
   "execution_count": 78,
   "id": "63f382a4-5826-4d65-aa9f-5f3b56f1aad9",
   "metadata": {
    "execution": {
     "iopub.execute_input": "2022-11-04T09:52:13.630958Z",
     "iopub.status.busy": "2022-11-04T09:52:13.630256Z",
     "iopub.status.idle": "2022-11-04T09:52:13.641067Z",
     "shell.execute_reply": "2022-11-04T09:52:13.639647Z"
    }
   },
   "outputs": [
    {
     "data": {
      "text/html": [
       "<div>\n",
       "<style scoped>\n",
       "    .dataframe tbody tr th:only-of-type {\n",
       "        vertical-align: middle;\n",
       "    }\n",
       "\n",
       "    .dataframe tbody tr th {\n",
       "        vertical-align: top;\n",
       "    }\n",
       "\n",
       "    .dataframe thead th {\n",
       "        text-align: right;\n",
       "    }\n",
       "</style>\n",
       "<table border=\"1\" class=\"dataframe\">\n",
       "  <thead>\n",
       "    <tr style=\"text-align: right;\">\n",
       "      <th></th>\n",
       "      <th>title</th>\n",
       "    </tr>\n",
       "  </thead>\n",
       "  <tbody>\n",
       "    <tr>\n",
       "      <th>0</th>\n",
       "      <td>0rc1</td>\n",
       "    </tr>\n",
       "    <tr>\n",
       "      <th>1</th>\n",
       "      <td>0rc2</td>\n",
       "    </tr>\n",
       "    <tr>\n",
       "      <th>2</th>\n",
       "      <td>0rc3</td>\n",
       "    </tr>\n",
       "    <tr>\n",
       "      <th>3</th>\n",
       "      <td>add</td>\n",
       "    </tr>\n",
       "    <tr>\n",
       "      <th>4</th>\n",
       "      <td>added</td>\n",
       "    </tr>\n",
       "    <tr>\n",
       "      <th>...</th>\n",
       "      <td>...</td>\n",
       "    </tr>\n",
       "    <tr>\n",
       "      <th>197</th>\n",
       "      <td>wip</td>\n",
       "    </tr>\n",
       "    <tr>\n",
       "      <th>198</th>\n",
       "      <td>workflows</td>\n",
       "    </tr>\n",
       "    <tr>\n",
       "      <th>199</th>\n",
       "      <td>xtuchyna</td>\n",
       "    </tr>\n",
       "    <tr>\n",
       "      <th>200</th>\n",
       "      <td>yaml</td>\n",
       "    </tr>\n",
       "    <tr>\n",
       "      <th>201</th>\n",
       "      <td>⬆️</td>\n",
       "    </tr>\n",
       "  </tbody>\n",
       "</table>\n",
       "<p>202 rows × 1 columns</p>\n",
       "</div>"
      ],
      "text/plain": [
       "         title\n",
       "0         0rc1\n",
       "1         0rc2\n",
       "2         0rc3\n",
       "3          add\n",
       "4        added\n",
       "..         ...\n",
       "197        wip\n",
       "198  workflows\n",
       "199   xtuchyna\n",
       "200       yaml\n",
       "201         ⬆️\n",
       "\n",
       "[202 rows x 1 columns]"
      ]
     },
     "execution_count": 78,
     "metadata": {},
     "output_type": "execute_result"
    }
   ],
   "source": [
    "title_word_keep_cols_df"
   ]
  },
  {
   "cell_type": "code",
   "execution_count": 79,
   "id": "2c67ed79-0555-4f0d-9557-3e6d335baeac",
   "metadata": {
    "execution": {
     "iopub.execute_input": "2022-11-04T09:52:13.644931Z",
     "iopub.status.busy": "2022-11-04T09:52:13.644520Z",
     "iopub.status.idle": "2022-11-04T09:52:13.990681Z",
     "shell.execute_reply": "2022-11-04T09:52:13.989561Z"
    }
   },
   "outputs": [
    {
     "data": {
      "text/plain": [
       "{'ResponseMetadata': {'RequestId': 'la2bicpn-3ta3lp-8ik',\n",
       "  'HostId': 'la2bicpn-3ta3lp-8ik',\n",
       "  'HTTPStatusCode': 200,\n",
       "  'HTTPHeaders': {'x-amz-request-id': 'la2bicpn-3ta3lp-8ik',\n",
       "   'x-amz-id-2': 'la2bicpn-3ta3lp-8ik',\n",
       "   'access-control-allow-origin': '*',\n",
       "   'access-control-allow-credentials': 'true',\n",
       "   'access-control-allow-methods': 'GET,POST,PUT,DELETE,OPTIONS',\n",
       "   'access-control-allow-headers': 'Content-Type,Content-MD5,Authorization,X-Amz-User-Agent,X-Amz-Date,ETag,X-Amz-Content-Sha256',\n",
       "   'access-control-expose-headers': 'ETag,X-Amz-Version-Id',\n",
       "   'etag': '\"5379cfcec53dfdf96f3ff50edb6987bd\"',\n",
       "   'date': 'Fri, 04 Nov 2022 09:52:13 GMT',\n",
       "   'keep-alive': 'timeout=5',\n",
       "   'content-length': '0',\n",
       "   'set-cookie': '1a4aa612fe797ac8466d7ee00e5520d5=a26d7dd2bae782e2ad6181b7887b5ff1; path=/; HttpOnly; Secure; SameSite=None'},\n",
       "  'RetryAttempts': 0},\n",
       " 'ETag': '\"5379cfcec53dfdf96f3ff50edb6987bd\"'}"
      ]
     },
     "execution_count": 79,
     "metadata": {},
     "output_type": "execute_result"
    }
   ],
   "source": [
    "TITLE_FEATURES_FILENAME = os.path.join(ORG + REPO + \"titlewords.parquet\")\n",
    "TITLE_FEATURES_KEY = os.path.join(s3_input_data_path, ORG, REPO, \"features\")\n",
    "cc = CephCommunication(s3_endpoint_url, s3_access_key, s3_secret_key, s3_bucket)\n",
    "cc.upload_to_ceph(title_word_keep_cols_df, TITLE_FEATURES_KEY, TITLE_FEATURES_FILENAME)"
   ]
  },
  {
   "cell_type": "markdown",
   "id": "105e4b18",
   "metadata": {},
   "source": [
    "Using various feature importance scores such as chi-squared, mutual information statistic, correlation values, we have selected the most relevant features amongst all of our features. "
   ]
  },
  {
   "cell_type": "code",
   "execution_count": 80,
   "id": "4cdafdae",
   "metadata": {
    "execution": {
     "iopub.execute_input": "2022-11-04T09:52:13.995135Z",
     "iopub.status.busy": "2022-11-04T09:52:13.994793Z",
     "iopub.status.idle": "2022-11-04T09:52:14.004866Z",
     "shell.execute_reply": "2022-11-04T09:52:14.003885Z"
    },
    "tags": []
   },
   "outputs": [
    {
     "data": {
      "text/plain": [
       "['size',\n",
       " 'created_at_day',\n",
       " 'created_at_month',\n",
       " 'created_at_weekday',\n",
       " 'created_at_hour',\n",
       " 'changed_files_number',\n",
       " 'body_size',\n",
       " 'commits_number',\n",
       " 'filetype_.py',\n",
       " 'filetype_.lock',\n",
       " 'filetype_.yaml',\n",
       " 'filetype_Pipfile',\n",
       " 'filetype_.rst',\n",
       " 'filetype_OWNERS',\n",
       " 'filetype_.toml',\n",
       " 'filetype_CODEOWNERS',\n",
       " 'filetype_None',\n",
       " 'filetype_.png',\n",
       " 'filetype_.txt',\n",
       " 'filetype_mi-scheduler',\n",
       " 'title_wordcount_0rc1',\n",
       " 'title_wordcount_0rc2',\n",
       " 'title_wordcount_0rc3',\n",
       " 'title_wordcount_add',\n",
       " 'title_wordcount_added',\n",
       " 'title_wordcount_advise',\n",
       " 'title_wordcount_aggregation',\n",
       " 'title_wordcount_allow',\n",
       " 'title_wordcount_analysis',\n",
       " 'title_wordcount_api',\n",
       " 'title_wordcount_approvers',\n",
       " 'title_wordcount_argo',\n",
       " 'title_wordcount_assignees',\n",
       " 'title_wordcount_atomic',\n",
       " 'title_wordcount_atpi',\n",
       " 'title_wordcount_author',\n",
       " 'title_wordcount_automatic',\n",
       " 'title_wordcount_autopep8',\n",
       " 'title_wordcount_baseentity',\n",
       " 'title_wordcount_basic',\n",
       " 'title_wordcount_bleach',\n",
       " 'title_wordcount_bug',\n",
       " 'title_wordcount_building',\n",
       " 'title_wordcount_bump',\n",
       " 'title_wordcount_ceph',\n",
       " 'title_wordcount_change',\n",
       " 'title_wordcount_check',\n",
       " 'title_wordcount_christoph',\n",
       " 'title_wordcount_class',\n",
       " 'title_wordcount_clear',\n",
       " 'title_wordcount_cli',\n",
       " 'title_wordcount_coala',\n",
       " 'title_wordcount_code',\n",
       " 'title_wordcount_codeowners',\n",
       " 'title_wordcount_collection',\n",
       " 'title_wordcount_commit',\n",
       " 'title_wordcount_commmit',\n",
       " 'title_wordcount_concept',\n",
       " 'title_wordcount_config',\n",
       " 'title_wordcount_content',\n",
       " 'title_wordcount_contentfile',\n",
       " 'title_wordcount_context',\n",
       " 'title_wordcount_correct',\n",
       " 'title_wordcount_cov',\n",
       " 'title_wordcount_cronjob',\n",
       " 'title_wordcount_cryptography',\n",
       " 'title_wordcount_csv',\n",
       " 'title_wordcount_current',\n",
       " 'title_wordcount_daily',\n",
       " 'title_wordcount_dash',\n",
       " 'title_wordcount_data',\n",
       " 'title_wordcount_dataframes',\n",
       " 'title_wordcount_day',\n",
       " 'title_wordcount_dependencies',\n",
       " 'title_wordcount_dependency',\n",
       " 'title_wordcount_divide',\n",
       " 'title_wordcount_documentation',\n",
       " 'title_wordcount_entities',\n",
       " 'title_wordcount_entity',\n",
       " 'title_wordcount_enttiy',\n",
       " 'title_wordcount_env',\n",
       " 'title_wordcount_environment',\n",
       " 'title_wordcount_envvar',\n",
       " 'title_wordcount_envvars',\n",
       " 'title_wordcount_errors',\n",
       " 'title_wordcount_even',\n",
       " 'title_wordcount_example',\n",
       " 'title_wordcount_excluded',\n",
       " 'title_wordcount_exists',\n",
       " 'title_wordcount_expand',\n",
       " 'title_wordcount_feature',\n",
       " 'title_wordcount_file',\n",
       " 'title_wordcount_files',\n",
       " 'title_wordcount_fix',\n",
       " 'title_wordcount_fixes',\n",
       " 'title_wordcount_functionality',\n",
       " 'title_wordcount_general',\n",
       " 'title_wordcount_gitpython',\n",
       " 'title_wordcount_given',\n",
       " 'title_wordcount_history',\n",
       " 'title_wordcount_identified',\n",
       " 'title_wordcount_impl',\n",
       " 'title_wordcount_implement',\n",
       " 'title_wordcount_implementation',\n",
       " 'title_wordcount_inconsistent',\n",
       " 'title_wordcount_indicators',\n",
       " 'title_wordcount_initializations',\n",
       " 'title_wordcount_inside',\n",
       " 'title_wordcount_instance',\n",
       " 'title_wordcount_introduce',\n",
       " 'title_wordcount_issue',\n",
       " 'title_wordcount_issued',\n",
       " 'title_wordcount_issues',\n",
       " 'title_wordcount_json',\n",
       " 'title_wordcount_kebechet',\n",
       " 'title_wordcount_knowledge',\n",
       " 'title_wordcount_labels',\n",
       " 'title_wordcount_license',\n",
       " 'title_wordcount_link',\n",
       " 'title_wordcount_links',\n",
       " 'title_wordcount_list',\n",
       " 'title_wordcount_load',\n",
       " 'title_wordcount_loading',\n",
       " 'title_wordcount_local',\n",
       " 'title_wordcount_logger',\n",
       " 'title_wordcount_logic',\n",
       " 'title_wordcount_lxml',\n",
       " 'title_wordcount_manager',\n",
       " 'title_wordcount_managers',\n",
       " 'title_wordcount_matplotlib',\n",
       " 'title_wordcount_merge',\n",
       " 'title_wordcount_metrics',\n",
       " 'title_wordcount_mi',\n",
       " 'title_wordcount_multiple',\n",
       " 'title_wordcount_numpy',\n",
       " 'title_wordcount_ogr',\n",
       " 'title_wordcount_option',\n",
       " 'title_wordcount_options',\n",
       " 'title_wordcount_organizations',\n",
       " 'title_wordcount_package',\n",
       " 'title_wordcount_pacospace',\n",
       " 'title_wordcount_pandas',\n",
       " 'title_wordcount_path',\n",
       " 'title_wordcount_pillow',\n",
       " 'title_wordcount_plotly',\n",
       " 'title_wordcount_plots',\n",
       " 'title_wordcount_pr',\n",
       " 'title_wordcount_pre',\n",
       " 'title_wordcount_preprocess',\n",
       " 'title_wordcount_pretty',\n",
       " 'title_wordcount_projects',\n",
       " 'title_wordcount_prs',\n",
       " 'title_wordcount_pullrequestdiscussion',\n",
       " 'title_wordcount_pydriller',\n",
       " 'title_wordcount_pypi',\n",
       " 'title_wordcount_pytest',\n",
       " 'title_wordcount_python',\n",
       " 'title_wordcount_readme',\n",
       " 'title_wordcount_reduce',\n",
       " 'title_wordcount_refactor',\n",
       " 'title_wordcount_release',\n",
       " 'title_wordcount_remote',\n",
       " 'title_wordcount_remotely',\n",
       " 'title_wordcount_remove',\n",
       " 'title_wordcount_rename',\n",
       " 'title_wordcount_report',\n",
       " 'title_wordcount_repos',\n",
       " 'title_wordcount_repositories',\n",
       " 'title_wordcount_require',\n",
       " 'title_wordcount_requirements',\n",
       " 'title_wordcount_reviewers',\n",
       " 'title_wordcount_rope',\n",
       " 'title_wordcount_safe',\n",
       " 'title_wordcount_save',\n",
       " 'title_wordcount_scheduler',\n",
       " 'title_wordcount_schema',\n",
       " 'title_wordcount_seconds',\n",
       " 'title_wordcount_section',\n",
       " 'title_wordcount_semver',\n",
       " 'title_wordcount_setting',\n",
       " 'title_wordcount_setup',\n",
       " 'title_wordcount_singleton',\n",
       " 'title_wordcount_sli',\n",
       " 'title_wordcount_slo',\n",
       " 'title_wordcount_slug',\n",
       " 'title_wordcount_specific',\n",
       " 'title_wordcount_specification',\n",
       " 'title_wordcount_stargazers',\n",
       " 'title_wordcount_stars',\n",
       " 'title_wordcount_statistics',\n",
       " 'title_wordcount_storage',\n",
       " 'title_wordcount_storages',\n",
       " 'title_wordcount_store',\n",
       " 'title_wordcount_storing',\n",
       " 'title_wordcount_string',\n",
       " 'title_wordcount_structure',\n",
       " 'title_wordcount_support',\n",
       " 'title_wordcount_symlinked',\n",
       " 'title_wordcount_thoth',\n",
       " 'title_wordcount_though',\n",
       " 'title_wordcount_time',\n",
       " 'title_wordcount_timeout',\n",
       " 'title_wordcount_token',\n",
       " 'title_wordcount_tqdm',\n",
       " 'title_wordcount_ttci',\n",
       " 'title_wordcount_typo',\n",
       " 'title_wordcount_ubi8',\n",
       " 'title_wordcount_unknown',\n",
       " 'title_wordcount_unnecesary',\n",
       " 'title_wordcount_unnecessary',\n",
       " 'title_wordcount_update',\n",
       " 'title_wordcount_use',\n",
       " 'title_wordcount_var',\n",
       " 'title_wordcount_version',\n",
       " 'title_wordcount_visualization',\n",
       " 'title_wordcount_visualizations',\n",
       " 'title_wordcount_waiting',\n",
       " 'title_wordcount_wip',\n",
       " 'title_wordcount_workflows',\n",
       " 'title_wordcount_xtuchyna',\n",
       " 'title_wordcount_yaml',\n",
       " 'title_wordcount_⬆️']"
      ]
     },
     "execution_count": 80,
     "metadata": {},
     "output_type": "execute_result"
    }
   ],
   "source": [
    "selected_features"
   ]
  },
  {
   "cell_type": "markdown",
   "id": "ddda4924",
   "metadata": {},
   "source": [
    "## Save Feature Engineered Dataset"
   ]
  },
  {
   "cell_type": "code",
   "execution_count": 81,
   "id": "894941f7-9815-44af-867a-9e206502cd7a",
   "metadata": {
    "execution": {
     "iopub.execute_input": "2022-11-04T09:52:14.008890Z",
     "iopub.status.busy": "2022-11-04T09:52:14.008568Z",
     "iopub.status.idle": "2022-11-04T09:52:14.029756Z",
     "shell.execute_reply": "2022-11-04T09:52:14.028675Z"
    }
   },
   "outputs": [
    {
     "data": {
      "text/html": [
       "<div>\n",
       "<style scoped>\n",
       "    .dataframe tbody tr th:only-of-type {\n",
       "        vertical-align: middle;\n",
       "    }\n",
       "\n",
       "    .dataframe tbody tr th {\n",
       "        vertical-align: top;\n",
       "    }\n",
       "\n",
       "    .dataframe thead th {\n",
       "        text-align: right;\n",
       "    }\n",
       "</style>\n",
       "<table border=\"1\" class=\"dataframe\">\n",
       "  <thead>\n",
       "    <tr style=\"text-align: right;\">\n",
       "      <th></th>\n",
       "      <th>size</th>\n",
       "      <th>created_at_day</th>\n",
       "      <th>created_at_month</th>\n",
       "      <th>created_at_weekday</th>\n",
       "      <th>created_at_hour</th>\n",
       "      <th>changed_files_number</th>\n",
       "      <th>body_size</th>\n",
       "      <th>commits_number</th>\n",
       "      <th>filetype_.py</th>\n",
       "      <th>filetype_.lock</th>\n",
       "      <th>...</th>\n",
       "      <th>title_wordcount_visualization</th>\n",
       "      <th>title_wordcount_visualizations</th>\n",
       "      <th>title_wordcount_waiting</th>\n",
       "      <th>title_wordcount_wip</th>\n",
       "      <th>title_wordcount_workflows</th>\n",
       "      <th>title_wordcount_xtuchyna</th>\n",
       "      <th>title_wordcount_yaml</th>\n",
       "      <th>title_wordcount_⬆️</th>\n",
       "      <th>ttm_class</th>\n",
       "      <th>time_to_merge</th>\n",
       "    </tr>\n",
       "  </thead>\n",
       "  <tbody>\n",
       "    <tr>\n",
       "      <th>0</th>\n",
       "      <td>2</td>\n",
       "      <td>12</td>\n",
       "      <td>10</td>\n",
       "      <td>2</td>\n",
       "      <td>18</td>\n",
       "      <td>2</td>\n",
       "      <td>468</td>\n",
       "      <td>1</td>\n",
       "      <td>1</td>\n",
       "      <td>0</td>\n",
       "      <td>...</td>\n",
       "      <td>0</td>\n",
       "      <td>0</td>\n",
       "      <td>0</td>\n",
       "      <td>0</td>\n",
       "      <td>0</td>\n",
       "      <td>0</td>\n",
       "      <td>0</td>\n",
       "      <td>0</td>\n",
       "      <td>5</td>\n",
       "      <td>756.0</td>\n",
       "    </tr>\n",
       "    <tr>\n",
       "      <th>1</th>\n",
       "      <td>4</td>\n",
       "      <td>12</td>\n",
       "      <td>10</td>\n",
       "      <td>2</td>\n",
       "      <td>18</td>\n",
       "      <td>1</td>\n",
       "      <td>74</td>\n",
       "      <td>1</td>\n",
       "      <td>0</td>\n",
       "      <td>1</td>\n",
       "      <td>...</td>\n",
       "      <td>0</td>\n",
       "      <td>0</td>\n",
       "      <td>0</td>\n",
       "      <td>0</td>\n",
       "      <td>0</td>\n",
       "      <td>0</td>\n",
       "      <td>0</td>\n",
       "      <td>0</td>\n",
       "      <td>9</td>\n",
       "      <td>NaN</td>\n",
       "    </tr>\n",
       "    <tr>\n",
       "      <th>2</th>\n",
       "      <td>3</td>\n",
       "      <td>20</td>\n",
       "      <td>9</td>\n",
       "      <td>1</td>\n",
       "      <td>22</td>\n",
       "      <td>6</td>\n",
       "      <td>124</td>\n",
       "      <td>8</td>\n",
       "      <td>6</td>\n",
       "      <td>0</td>\n",
       "      <td>...</td>\n",
       "      <td>0</td>\n",
       "      <td>0</td>\n",
       "      <td>0</td>\n",
       "      <td>0</td>\n",
       "      <td>0</td>\n",
       "      <td>0</td>\n",
       "      <td>0</td>\n",
       "      <td>0</td>\n",
       "      <td>9</td>\n",
       "      <td>1888847.0</td>\n",
       "    </tr>\n",
       "    <tr>\n",
       "      <th>3</th>\n",
       "      <td>0</td>\n",
       "      <td>16</td>\n",
       "      <td>9</td>\n",
       "      <td>4</td>\n",
       "      <td>15</td>\n",
       "      <td>1</td>\n",
       "      <td>6</td>\n",
       "      <td>1</td>\n",
       "      <td>0</td>\n",
       "      <td>0</td>\n",
       "      <td>...</td>\n",
       "      <td>0</td>\n",
       "      <td>0</td>\n",
       "      <td>0</td>\n",
       "      <td>0</td>\n",
       "      <td>0</td>\n",
       "      <td>0</td>\n",
       "      <td>0</td>\n",
       "      <td>0</td>\n",
       "      <td>6</td>\n",
       "      <td>2731.0</td>\n",
       "    </tr>\n",
       "    <tr>\n",
       "      <th>4</th>\n",
       "      <td>3</td>\n",
       "      <td>16</td>\n",
       "      <td>9</td>\n",
       "      <td>4</td>\n",
       "      <td>15</td>\n",
       "      <td>1</td>\n",
       "      <td>73</td>\n",
       "      <td>1</td>\n",
       "      <td>0</td>\n",
       "      <td>1</td>\n",
       "      <td>...</td>\n",
       "      <td>0</td>\n",
       "      <td>0</td>\n",
       "      <td>0</td>\n",
       "      <td>0</td>\n",
       "      <td>0</td>\n",
       "      <td>0</td>\n",
       "      <td>0</td>\n",
       "      <td>0</td>\n",
       "      <td>6</td>\n",
       "      <td>1340.0</td>\n",
       "    </tr>\n",
       "  </tbody>\n",
       "</table>\n",
       "<p>5 rows × 224 columns</p>\n",
       "</div>"
      ],
      "text/plain": [
       "   size  created_at_day  created_at_month  created_at_weekday  \\\n",
       "0     2              12                10                   2   \n",
       "1     4              12                10                   2   \n",
       "2     3              20                 9                   1   \n",
       "3     0              16                 9                   4   \n",
       "4     3              16                 9                   4   \n",
       "\n",
       "   created_at_hour  changed_files_number  body_size  commits_number  \\\n",
       "0               18                     2        468               1   \n",
       "1               18                     1         74               1   \n",
       "2               22                     6        124               8   \n",
       "3               15                     1          6               1   \n",
       "4               15                     1         73               1   \n",
       "\n",
       "   filetype_.py  filetype_.lock  ...  title_wordcount_visualization  \\\n",
       "0             1               0  ...                              0   \n",
       "1             0               1  ...                              0   \n",
       "2             6               0  ...                              0   \n",
       "3             0               0  ...                              0   \n",
       "4             0               1  ...                              0   \n",
       "\n",
       "   title_wordcount_visualizations  title_wordcount_waiting  \\\n",
       "0                               0                        0   \n",
       "1                               0                        0   \n",
       "2                               0                        0   \n",
       "3                               0                        0   \n",
       "4                               0                        0   \n",
       "\n",
       "   title_wordcount_wip  title_wordcount_workflows  title_wordcount_xtuchyna  \\\n",
       "0                    0                          0                         0   \n",
       "1                    0                          0                         0   \n",
       "2                    0                          0                         0   \n",
       "3                    0                          0                         0   \n",
       "4                    0                          0                         0   \n",
       "\n",
       "   title_wordcount_yaml  title_wordcount_⬆️  ttm_class  time_to_merge  \n",
       "0                     0                   0          5          756.0  \n",
       "1                     0                   0          9            NaN  \n",
       "2                     0                   0          9      1888847.0  \n",
       "3                     0                   0          6         2731.0  \n",
       "4                     0                   0          6         1340.0  \n",
       "\n",
       "[5 rows x 224 columns]"
      ]
     },
     "execution_count": 81,
     "metadata": {},
     "output_type": "execute_result"
    }
   ],
   "source": [
    "# join all types of features\n",
    "ttm_dataset = pd.concat(\n",
    "    [feature_df, filetype_df, title_wordcount_df], axis=1, ignore_index=False\n",
    ")\n",
    "\n",
    "# keep only the selected features and the prediction label\n",
    "ttm_dataset = ttm_dataset[selected_features + [\"ttm_class\", \"time_to_merge\"]]\n",
    "\n",
    "ttm_dataset.head()"
   ]
  },
  {
   "cell_type": "code",
   "execution_count": 82,
   "id": "4fd9e422-eaf1-4c80-9375-5d71ac985171",
   "metadata": {
    "execution": {
     "iopub.execute_input": "2022-11-04T09:52:14.034778Z",
     "iopub.status.busy": "2022-11-04T09:52:14.034454Z",
     "iopub.status.idle": "2022-11-04T09:52:14.059658Z",
     "shell.execute_reply": "2022-11-04T09:52:14.058674Z"
    }
   },
   "outputs": [
    {
     "name": "stdout",
     "output_type": "stream",
     "text": [
      "<class 'pandas.core.frame.DataFrame'>\n",
      "RangeIndex: 416 entries, 0 to 415\n",
      "Columns: 224 entries, size to time_to_merge\n",
      "dtypes: float64(1), int64(223)\n",
      "memory usage: 728.1 KB\n"
     ]
    }
   ],
   "source": [
    "ttm_dataset.info()"
   ]
  },
  {
   "cell_type": "markdown",
   "id": "4a949795",
   "metadata": {},
   "source": [
    "## Save results to Ceph or locally\n",
    "\n",
    "Using the helper function to save the data frame in a parquet format on the Ceph bucket if we are running in automation, and locally if not."
   ]
  },
  {
   "cell_type": "code",
   "execution_count": 83,
   "id": "ecd03940-1b27-4472-ae97-469a4ad8a25a",
   "metadata": {
    "execution": {
     "iopub.execute_input": "2022-11-04T09:52:14.063959Z",
     "iopub.status.busy": "2022-11-04T09:52:14.063662Z",
     "iopub.status.idle": "2022-11-04T09:52:14.068765Z",
     "shell.execute_reply": "2022-11-04T09:52:14.067847Z"
    }
   },
   "outputs": [],
   "source": [
    "TTM_DATASET_PATH = os.path.join(s3_input_data_path, ORG, REPO)"
   ]
  },
  {
   "cell_type": "code",
   "execution_count": 84,
   "id": "adfdfb1b",
   "metadata": {
    "execution": {
     "iopub.execute_input": "2022-11-04T09:52:14.072768Z",
     "iopub.status.busy": "2022-11-04T09:52:14.072455Z",
     "iopub.status.idle": "2022-11-04T09:52:14.507753Z",
     "shell.execute_reply": "2022-11-04T09:52:14.506596Z"
    }
   },
   "outputs": [],
   "source": [
    "## Sanity check to see if the dataset is the same\n",
    "\n",
    "if REMOTE:\n",
    "    cc = CephCommunication(s3_endpoint_url, s3_access_key, s3_secret_key, s3_bucket)\n",
    "    try:\n",
    "        cc.upload_to_ceph(\n",
    "            ttm_dataset,\n",
    "            TTM_DATASET_PATH,\n",
    "            \"ttm_feature_engineered_dataset.parquet\",\n",
    "        )\n",
    "    except ValueError as ve:\n",
    "        print(ve)\n",
    "        print(\"Files already uploaded to S3\")\n",
    "\n",
    "else:\n",
    "    save_to_disk(\n",
    "        ttm_dataset,\n",
    "        local_output_data_path,\n",
    "        \"ttm_dataset.parquet\",\n",
    "    )"
   ]
  },
  {
   "cell_type": "markdown",
   "id": "2cbcdde4-d2f2-418c-9143-c32e48faf29d",
   "metadata": {},
   "source": [
    "### Check contents of the S3 bucket so far"
   ]
  },
  {
   "cell_type": "code",
   "execution_count": 85,
   "id": "c6006c47-ea07-45a3-95e7-48e13910d4af",
   "metadata": {
    "execution": {
     "iopub.execute_input": "2022-11-04T09:52:14.512041Z",
     "iopub.status.busy": "2022-11-04T09:52:14.511789Z",
     "iopub.status.idle": "2022-11-04T09:52:38.850466Z",
     "shell.execute_reply": "2022-11-04T09:52:38.849548Z"
    }
   },
   "outputs": [
    {
     "data": {
      "text/plain": [
       "[s3.ObjectSummary(bucket_name='opf-datacatalog', key='nov4/srcopsmetrics/bot_knowledge/thoth-station/mi/PullRequest.json'),\n",
       " s3.ObjectSummary(bucket_name='opf-datacatalog', key='nov4/thoth-station/mi/features/thoth-stationmiFILETYPE.parquet'),\n",
       " s3.ObjectSummary(bucket_name='opf-datacatalog', key='nov4/thoth-station/mi/features/thoth-stationmititlewords.parquet'),\n",
       " s3.ObjectSummary(bucket_name='opf-datacatalog', key='nov4/thoth-station/mi/ttm_feature_engineered_dataset.parquet')]"
      ]
     },
     "execution_count": 85,
     "metadata": {},
     "output_type": "execute_result"
    }
   ],
   "source": [
    "# check all raw data files in s3\n",
    "bucket = cc.s3_resource.Bucket(s3_bucket)\n",
    "objects = [i for i in bucket.objects.all() if s3_input_data_path + \"/\" in i.key]\n",
    "sorted(objects, key=lambda x: x.key)"
   ]
  },
  {
   "cell_type": "markdown",
   "id": "165910c8",
   "metadata": {},
   "source": [
    "# Conclusion\n",
    "\n",
    "This notebook walked through how to access saved raw Pull Requests data from the previous data collection notebook and we engineered some possible features which can be used to predict time to merge of a PR. \n",
    "\n",
    "The features we engineered are as following:\n",
    "\n",
    "- time_to_merge: time taken to merge a PR in seconds, this is feature we will try to predict\n",
    "- changed_files_number: integer indicating the number of files changed, this is an available column\n",
    "- body_size: integer indicating the number of words in the body of the PR, derived from body\n",
    "- size: integer corresponding to a categorical label generated by GitHub which summarizes the size of the changes made to the code base \n",
    "- title_word_counts_vec: vector or list indicating how many times each word appeared in the title\n",
    "- created_at_day: categorical variable indicating the day of month the PR has been created, derived from created_at\n",
    "- created_at_month: categorical variable indicating the month of the year that the PR has been created, derived from created_at\n",
    "- created_at_weekday: categorical variable indicating the day of the week the PR has been created, derived from created_at\n",
    "- created_at_hour: categorical variable indicating the hour of the day the PR has been created, derived from created_at\n",
    "- commits_number: integer indicating the number of commits in the PR\n",
    "- changed_file_type_vec:  vector or list consisting of number of files changed for the top 100 most frequently occurring data types, derived from changed_files\n",
    "\n",
    "\n",
    "# Next Step\n",
    "\n",
    "In the next [notebook](./03_model_training.ipynb), we will train a classifier to predict time to merge of a PR using the features."
   ]
  }
 ],
 "metadata": {
  "kernelspec": {
   "display_name": "Python 3",
   "language": "python",
   "name": "python3"
  },
  "language_info": {
   "codemirror_mode": {
    "name": "ipython",
    "version": 3
   },
   "file_extension": ".py",
   "mimetype": "text/x-python",
   "name": "python",
   "nbconvert_exporter": "python",
   "pygments_lexer": "ipython3",
   "version": "3.8.8"
  }
 },
 "nbformat": 4,
 "nbformat_minor": 5
}
