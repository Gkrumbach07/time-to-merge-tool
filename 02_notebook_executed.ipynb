{
 "cells": [
  {
   "cell_type": "markdown",
   "id": "6a8d0182",
   "metadata": {
    "tags": []
   },
   "source": [
    "# Feature engineering on extracted Pull Requests data\n",
    "\n",
    "\n",
    "## What we did previously\n",
    "\n",
    "In the previous [notebook](./01_data_collection.ipynb) we collected data from a Github repository of choice and store them on S3 storage\n",
    "\n",
    "## In this step\n",
    "\n",
    "In this notebook we will walk through how to start analyzing the PR data collected from a Github repository.\n",
    "\n",
    "We explore the various fields in the PR dataset and the features that we can derive from them in order to frame an a Machine Learning where we predict the time taken to merge a PR."
   ]
  },
  {
   "cell_type": "code",
   "execution_count": 1,
   "id": "dfe11a56",
   "metadata": {
    "execution": {
     "iopub.execute_input": "2022-11-02T17:21:26.688588Z",
     "iopub.status.busy": "2022-11-02T17:21:26.688123Z",
     "iopub.status.idle": "2022-11-02T17:21:28.588355Z",
     "shell.execute_reply": "2022-11-02T17:21:28.587255Z"
    }
   },
   "outputs": [],
   "source": [
    "import os\n",
    "import re\n",
    "import gzip\n",
    "import json\n",
    "import boto3\n",
    "import pathlib\n",
    "import datetime\n",
    "from tqdm import tqdm\n",
    "from io import BytesIO\n",
    "from pathlib import Path\n",
    "from functools import partial\n",
    "from collections import Counter\n",
    "\n",
    "import numpy as np\n",
    "import pandas as pd\n",
    "\n",
    "import matplotlib.pyplot as plt\n",
    "import seaborn as sns\n",
    "from wordcloud import STOPWORDS\n",
    "\n",
    "from sklearn.feature_selection import SelectKBest\n",
    "from sklearn.feature_selection import chi2\n",
    "from sklearn.feature_selection import mutual_info_classif, f_classif\n",
    "\n",
    "from dotenv import load_dotenv, find_dotenv"
   ]
  },
  {
   "cell_type": "code",
   "execution_count": 2,
   "id": "077bc87f-fd57-40ac-ab45-8ebddaadc46b",
   "metadata": {
    "execution": {
     "iopub.execute_input": "2022-11-02T17:21:28.592651Z",
     "iopub.status.busy": "2022-11-02T17:21:28.592255Z",
     "iopub.status.idle": "2022-11-02T17:21:28.602629Z",
     "shell.execute_reply": "2022-11-02T17:21:28.601708Z"
    }
   },
   "outputs": [],
   "source": [
    "class CephCommunication:\n",
    "    \"\"\"\n",
    "    Class to establish communication with a ceph s3 bucket.\n",
    "    It connects with the bucket and provides methods to read and write data in the parquet format.\n",
    "    \"\"\"\n",
    "\n",
    "    def __init__(\n",
    "        self, s3_endpoint_url, aws_access_key_id, aws_secret_access_key, s3_bucket\n",
    "    ):\n",
    "        self.s3_endpoint_url = s3_endpoint_url\n",
    "        self.aws_access_key_id = aws_access_key_id\n",
    "        self.aws_secret_access_key = aws_secret_access_key\n",
    "        self.s3_resource = boto3.resource(\n",
    "            \"s3\",\n",
    "            endpoint_url=self.s3_endpoint_url,\n",
    "            aws_access_key_id=self.aws_access_key_id,\n",
    "            aws_secret_access_key=self.aws_secret_access_key,\n",
    "        )\n",
    "        self.bucket = s3_bucket\n",
    "        ## Todo: Add try catch\n",
    "\n",
    "    def upload_to_ceph(self, dataframe, s3_path, filename):\n",
    "        \"\"\"\n",
    "        This helper function takes as input the data frame to be uploaded, and the output filename.\n",
    "        It then saves the data frame in the defined ceph bucket.\n",
    "        \"\"\"\n",
    "        parquet_buffer = BytesIO()\n",
    "        dataframe.to_parquet(parquet_buffer)\n",
    "        s3_obj = self.s3_resource.Object(self.bucket, f\"{s3_path}/{filename}\")\n",
    "        status = s3_obj.put(Body=parquet_buffer.getvalue())\n",
    "        return status\n",
    "\n",
    "    def read_from_ceph(self, s3_path, filename):\n",
    "        \"\"\"\n",
    "        Helper function to read from ceph and see if the saved data is correct.\n",
    "        \"\"\"\n",
    "        buffer = BytesIO()\n",
    "        s3_object = self.s3_resource.Object(self.bucket, f\"{s3_path}/{filename}\")\n",
    "        s3_object.download_fileobj(buffer)\n",
    "        df_temp = pd.read_parquet(buffer)\n",
    "        return df_temp\n",
    "\n",
    "\n",
    "def save_to_disk(dataframe, path, filename):\n",
    "    \"\"\"\n",
    "    Helper function to save the dataframe\n",
    "    as a parquet file to disk.\n",
    "    \"\"\"\n",
    "    dataset_base_path = Path(path)\n",
    "    dataset_base_path.mkdir(parents=True, exist_ok=True)\n",
    "    dataframe.to_parquet(f\"{path}/{filename}\")\n",
    "    return True"
   ]
  },
  {
   "cell_type": "code",
   "execution_count": 3,
   "id": "9476e951",
   "metadata": {
    "execution": {
     "iopub.execute_input": "2022-11-02T17:21:28.606138Z",
     "iopub.status.busy": "2022-11-02T17:21:28.605867Z",
     "iopub.status.idle": "2022-11-02T17:21:28.619045Z",
     "shell.execute_reply": "2022-11-02T17:21:28.618153Z"
    }
   },
   "outputs": [
    {
     "data": {
      "text/plain": [
       "True"
      ]
     },
     "execution_count": 3,
     "metadata": {},
     "output_type": "execute_result"
    }
   ],
   "source": [
    "sns.set(rc={\"figure.figsize\": (20, 10)})\n",
    "load_dotenv(find_dotenv(), override=True)"
   ]
  },
  {
   "cell_type": "code",
   "execution_count": 4,
   "id": "9bc3a2c6",
   "metadata": {
    "execution": {
     "iopub.execute_input": "2022-11-02T17:21:28.622555Z",
     "iopub.status.busy": "2022-11-02T17:21:28.622249Z",
     "iopub.status.idle": "2022-11-02T17:21:28.628774Z",
     "shell.execute_reply": "2022-11-02T17:21:28.627906Z"
    }
   },
   "outputs": [],
   "source": [
    "## CEPH Bucket variables\n",
    "## Create a .env file on your local with the correct configs,\n",
    "\n",
    "ORG = os.getenv(\"GITHUB_ORG\")\n",
    "REPO = os.getenv(\"GITHUB_REPO\")\n",
    "\n",
    "## S3 bucket credentials\n",
    "s3_endpoint_url = os.getenv(\"S3_ENDPOINT_URL\")\n",
    "s3_access_key = os.getenv(\"S3_ACCESS_KEY\")\n",
    "s3_secret_key = os.getenv(\"S3_SECRET_KEY\")\n",
    "s3_bucket = os.getenv(\"S3_BUCKET\")\n",
    "\n",
    "REMOTE = os.getenv(\"REMOTE\")\n",
    "\n",
    "s3_input_data_path = os.getenv(\"CEPH_BUCKET_PREFIX\")\n",
    "local_input_data_path = \"../../../data/raw/GitHub/PullRequest.json.gz\"\n",
    "local_output_data_path = \"../../../data/processed/github\"\n",
    "RAW_DATA_PATH = os.path.join(\n",
    "    s3_input_data_path, \"srcopsmetrics/bot_knowledge\", ORG, REPO, \"PullRequest.json\"\n",
    ")"
   ]
  },
  {
   "cell_type": "code",
   "execution_count": 5,
   "id": "4d1b0d9f",
   "metadata": {
    "execution": {
     "iopub.execute_input": "2022-11-02T17:21:28.632515Z",
     "iopub.status.busy": "2022-11-02T17:21:28.632050Z",
     "iopub.status.idle": "2022-11-02T17:21:29.147895Z",
     "shell.execute_reply": "2022-11-02T17:21:29.146908Z"
    }
   },
   "outputs": [
    {
     "name": "stdout",
     "output_type": "stream",
     "text": [
      "getting dataset from ceph\n"
     ]
    }
   ],
   "source": [
    "output = []\n",
    "if REMOTE:\n",
    "    print(\"getting dataset from ceph\")\n",
    "    s3 = boto3.resource(\n",
    "        \"s3\",\n",
    "        endpoint_url=s3_endpoint_url,\n",
    "        aws_access_key_id=s3_access_key,\n",
    "        aws_secret_access_key=s3_secret_key,\n",
    "    )\n",
    "    content = s3.Object(s3_bucket, RAW_DATA_PATH)\n",
    "    file = content.get()[\"Body\"].read().decode(\"utf-8\")\n",
    "\n",
    "    prs = json.loads(file)\n",
    "\n",
    "    for pr in prs.splitlines():\n",
    "        output.append(json.loads(pr))\n",
    "\n",
    "else:\n",
    "    print(\"getting dataset from local\")\n",
    "    with gzip.open(local_input_data_path, \"r\") as f:\n",
    "        prs = json.loads(f.read().decode(\"utf-8\"))\n",
    "\n",
    "pr_df = pd.DataFrame(output)"
   ]
  },
  {
   "cell_type": "code",
   "execution_count": 6,
   "id": "70c24185-4fbf-4287-98fd-c8d721ef71fa",
   "metadata": {
    "execution": {
     "iopub.execute_input": "2022-11-02T17:21:29.152213Z",
     "iopub.status.busy": "2022-11-02T17:21:29.151911Z",
     "iopub.status.idle": "2022-11-02T17:21:29.197213Z",
     "shell.execute_reply": "2022-11-02T17:21:29.196117Z"
    }
   },
   "outputs": [
    {
     "data": {
      "text/html": [
       "<div>\n",
       "<style scoped>\n",
       "    .dataframe tbody tr th:only-of-type {\n",
       "        vertical-align: middle;\n",
       "    }\n",
       "\n",
       "    .dataframe tbody tr th {\n",
       "        vertical-align: top;\n",
       "    }\n",
       "\n",
       "    .dataframe thead th {\n",
       "        text-align: right;\n",
       "    }\n",
       "</style>\n",
       "<table border=\"1\" class=\"dataframe\">\n",
       "  <thead>\n",
       "    <tr style=\"text-align: right;\">\n",
       "      <th></th>\n",
       "      <th>title</th>\n",
       "      <th>body</th>\n",
       "      <th>size</th>\n",
       "      <th>created_by</th>\n",
       "      <th>created_at</th>\n",
       "      <th>closed_at</th>\n",
       "      <th>closed_by</th>\n",
       "      <th>merged_at</th>\n",
       "      <th>merged_by</th>\n",
       "      <th>commits_number</th>\n",
       "      <th>changed_files_number</th>\n",
       "      <th>interactions</th>\n",
       "      <th>reviews</th>\n",
       "      <th>labels</th>\n",
       "      <th>commits</th>\n",
       "      <th>changed_files</th>\n",
       "      <th>first_review_at</th>\n",
       "      <th>first_approve_at</th>\n",
       "      <th>id</th>\n",
       "    </tr>\n",
       "  </thead>\n",
       "  <tbody>\n",
       "    <tr>\n",
       "      <th>0</th>\n",
       "      <td>Update the repository for creating access issues</td>\n",
       "      <td>Signed-off-by: Shrey &lt;shanand@redhat.com&gt;</td>\n",
       "      <td>XS</td>\n",
       "      <td>Shreyanand</td>\n",
       "      <td>1667406781</td>\n",
       "      <td>NaN</td>\n",
       "      <td>None</td>\n",
       "      <td>NaN</td>\n",
       "      <td>None</td>\n",
       "      <td>1</td>\n",
       "      <td>1</td>\n",
       "      <td>{'sesheta': 86}</td>\n",
       "      <td>{}</td>\n",
       "      <td>[size/XS]</td>\n",
       "      <td>[3b58d0c6b2dd9aacab6ada9df6502c8aecbb0702]</td>\n",
       "      <td>[docs/access-jh.md]</td>\n",
       "      <td>NaN</td>\n",
       "      <td>NaN</td>\n",
       "      <td>227</td>\n",
       "    </tr>\n",
       "    <tr>\n",
       "      <th>1</th>\n",
       "      <td>Changed the environment variable name to origi...</td>\n",
       "      <td>[Here](https://github.com/os-climate/aicoe-osc...</td>\n",
       "      <td>M</td>\n",
       "      <td>suppathak</td>\n",
       "      <td>1667228783</td>\n",
       "      <td>1.667242e+09</td>\n",
       "      <td>sesheta</td>\n",
       "      <td>1.667242e+09</td>\n",
       "      <td>sesheta</td>\n",
       "      <td>1</td>\n",
       "      <td>5</td>\n",
       "      <td>{'review-notebook-app[bot]': 29, 'suppathak': ...</td>\n",
       "      <td>{'1162135879': {'author': 'Shreyanand', 'words...</td>\n",
       "      <td>[approved, lgtm, size/M]</td>\n",
       "      <td>[fa5ea4fe2f9db12c167d7d4ec18651c178efc2d5]</td>\n",
       "      <td>[notebooks/demo2/create_results_table.ipynb, n...</td>\n",
       "      <td>1.667232e+09</td>\n",
       "      <td>NaN</td>\n",
       "      <td>225</td>\n",
       "    </tr>\n",
       "    <tr>\n",
       "      <th>2</th>\n",
       "      <td>Adjusted envorinment variable names</td>\n",
       "      <td>Closes #218</td>\n",
       "      <td>XXL</td>\n",
       "      <td>suppathak</td>\n",
       "      <td>1666738188</td>\n",
       "      <td>1.666872e+09</td>\n",
       "      <td>sesheta</td>\n",
       "      <td>1.666872e+09</td>\n",
       "      <td>sesheta</td>\n",
       "      <td>1</td>\n",
       "      <td>5</td>\n",
       "      <td>{'review-notebook-app[bot]': 29, 'erikerlandso...</td>\n",
       "      <td>{'1156963848': {'author': 'Shreyanand', 'words...</td>\n",
       "      <td>[size/XXL, approved, lgtm]</td>\n",
       "      <td>[f22b079bd535183fe2a29143c873b6a54e782194]</td>\n",
       "      <td>[notebooks/demo2/create_results_table.ipynb, n...</td>\n",
       "      <td>1.666804e+09</td>\n",
       "      <td>NaN</td>\n",
       "      <td>219</td>\n",
       "    </tr>\n",
       "    <tr>\n",
       "      <th>3</th>\n",
       "      <td>Add time analysis notebook and dataframe</td>\n",
       "      <td>This PR adds benchmark run data and analysis n...</td>\n",
       "      <td>XXL</td>\n",
       "      <td>Shreyanand</td>\n",
       "      <td>1666135746</td>\n",
       "      <td>NaN</td>\n",
       "      <td>None</td>\n",
       "      <td>NaN</td>\n",
       "      <td>None</td>\n",
       "      <td>1</td>\n",
       "      <td>3</td>\n",
       "      <td>{'review-notebook-app[bot]': 29, 'sesheta': 86}</td>\n",
       "      <td>{}</td>\n",
       "      <td>[size/XXL]</td>\n",
       "      <td>[cd9b9f82045e76c2484a6a8f3342915efc6384a1]</td>\n",
       "      <td>[notebooks/demo2/time-anlysis.ipynb, reports/b...</td>\n",
       "      <td>NaN</td>\n",
       "      <td>NaN</td>\n",
       "      <td>217</td>\n",
       "    </tr>\n",
       "    <tr>\n",
       "      <th>4</th>\n",
       "      <td>Add transformer implementation of relevance task</td>\n",
       "      <td>This PR adds transformer implementation and di...</td>\n",
       "      <td>XXL</td>\n",
       "      <td>Shreyanand</td>\n",
       "      <td>1665611915</td>\n",
       "      <td>NaN</td>\n",
       "      <td>None</td>\n",
       "      <td>NaN</td>\n",
       "      <td>None</td>\n",
       "      <td>1</td>\n",
       "      <td>3</td>\n",
       "      <td>{'review-notebook-app[bot]': 29, 'sesheta': 86...</td>\n",
       "      <td>{'1162026715': {'author': 'suppathak', 'words_...</td>\n",
       "      <td>[size/XXL]</td>\n",
       "      <td>[29077cb9934f76a1ec489999bbd9699bc3acbb74]</td>\n",
       "      <td>[notebooks/demo2/transformer-relevance.ipynb, ...</td>\n",
       "      <td>1.667228e+09</td>\n",
       "      <td>NaN</td>\n",
       "      <td>216</td>\n",
       "    </tr>\n",
       "    <tr>\n",
       "      <th>...</th>\n",
       "      <td>...</td>\n",
       "      <td>...</td>\n",
       "      <td>...</td>\n",
       "      <td>...</td>\n",
       "      <td>...</td>\n",
       "      <td>...</td>\n",
       "      <td>...</td>\n",
       "      <td>...</td>\n",
       "      <td>...</td>\n",
       "      <td>...</td>\n",
       "      <td>...</td>\n",
       "      <td>...</td>\n",
       "      <td>...</td>\n",
       "      <td>...</td>\n",
       "      <td>...</td>\n",
       "      <td>...</td>\n",
       "      <td>...</td>\n",
       "      <td>...</td>\n",
       "      <td>...</td>\n",
       "    </tr>\n",
       "    <tr>\n",
       "      <th>88</th>\n",
       "      <td>include oindrilla and aakanksha as maintainers...</td>\n",
       "      <td>SSIA</td>\n",
       "      <td>XS</td>\n",
       "      <td>oindrillac</td>\n",
       "      <td>1632751824</td>\n",
       "      <td>1.632753e+09</td>\n",
       "      <td>erikerlandson</td>\n",
       "      <td>1.632753e+09</td>\n",
       "      <td>erikerlandson</td>\n",
       "      <td>1</td>\n",
       "      <td>1</td>\n",
       "      <td>{'MichaelClifford': 1}</td>\n",
       "      <td>{}</td>\n",
       "      <td>[]</td>\n",
       "      <td>[857eb3facd8db938009983a2b5c6bf482a633788]</td>\n",
       "      <td>[.thoth.yaml]</td>\n",
       "      <td>NaN</td>\n",
       "      <td>NaN</td>\n",
       "      <td>21</td>\n",
       "    </tr>\n",
       "    <tr>\n",
       "      <th>89</th>\n",
       "      <td>add gpu test notebook</td>\n",
       "      <td>Short notebook to confirm JH is using GPU's</td>\n",
       "      <td>L</td>\n",
       "      <td>MichaelClifford</td>\n",
       "      <td>1632173553</td>\n",
       "      <td>1.632324e+09</td>\n",
       "      <td>chauhankaranraj</td>\n",
       "      <td>1.632324e+09</td>\n",
       "      <td>chauhankaranraj</td>\n",
       "      <td>1</td>\n",
       "      <td>1</td>\n",
       "      <td>{'MichaelClifford': 25, 'erikerlandson': 2}</td>\n",
       "      <td>{'759162220': {'author': 'erikerlandson', 'wor...</td>\n",
       "      <td>[]</td>\n",
       "      <td>[a50a8365bb810cb0d0c5736cfd77a0542d05230b]</td>\n",
       "      <td>[notebooks/confirm_gpu_available.ipynb]</td>\n",
       "      <td>1.632178e+09</td>\n",
       "      <td>1.632178e+09</td>\n",
       "      <td>16</td>\n",
       "    </tr>\n",
       "    <tr>\n",
       "      <th>90</th>\n",
       "      <td>Add nimbus demo1.ipynb and pipfile</td>\n",
       "      <td>Co-authored-by: Karanraj Chauhan &lt;kachau@redha...</td>\n",
       "      <td>XXL</td>\n",
       "      <td>Shreyanand</td>\n",
       "      <td>1632160064</td>\n",
       "      <td>1.632255e+09</td>\n",
       "      <td>MichaelClifford</td>\n",
       "      <td>1.632255e+09</td>\n",
       "      <td>MichaelClifford</td>\n",
       "      <td>1</td>\n",
       "      <td>4</td>\n",
       "      <td>{'chauhankaranraj': 32, 'MichaelClifford': 8}</td>\n",
       "      <td>{'760038517': {'author': 'MichaelClifford', 'w...</td>\n",
       "      <td>[]</td>\n",
       "      <td>[6bf24e1db3884fe1888d2d3165eb2aade910c306]</td>\n",
       "      <td>[Pipfile, Pipfile.lock, notebooks/demo1-create...</td>\n",
       "      <td>1.632245e+09</td>\n",
       "      <td>1.632254e+09</td>\n",
       "      <td>15</td>\n",
       "    </tr>\n",
       "    <tr>\n",
       "      <th>91</th>\n",
       "      <td>update ci-config to use os-climate quay repo</td>\n",
       "      <td>ssia</td>\n",
       "      <td>S</td>\n",
       "      <td>MichaelClifford</td>\n",
       "      <td>1631129264</td>\n",
       "      <td>1.631194e+09</td>\n",
       "      <td>MichaelClifford</td>\n",
       "      <td>1.631194e+09</td>\n",
       "      <td>MichaelClifford</td>\n",
       "      <td>1</td>\n",
       "      <td>1</td>\n",
       "      <td>{'MichaelClifford': 4}</td>\n",
       "      <td>{'749569326': {'author': 'erikerlandson', 'wor...</td>\n",
       "      <td>[]</td>\n",
       "      <td>[880e68843c30c125d59bdb1b11f6108db08d6a2f]</td>\n",
       "      <td>[.aicoe-ci.yaml]</td>\n",
       "      <td>1.631132e+09</td>\n",
       "      <td>1.631132e+09</td>\n",
       "      <td>2</td>\n",
       "    </tr>\n",
       "    <tr>\n",
       "      <th>92</th>\n",
       "      <td>update OWNERS file</td>\n",
       "      <td>included members of the aicoe team that can co...</td>\n",
       "      <td>S</td>\n",
       "      <td>MichaelClifford</td>\n",
       "      <td>1631128859</td>\n",
       "      <td>1.631191e+09</td>\n",
       "      <td>MichaelClifford</td>\n",
       "      <td>1.631191e+09</td>\n",
       "      <td>MichaelClifford</td>\n",
       "      <td>1</td>\n",
       "      <td>1</td>\n",
       "      <td>{'erikerlandson': 2}</td>\n",
       "      <td>{'749567777': {'author': 'erikerlandson', 'wor...</td>\n",
       "      <td>[]</td>\n",
       "      <td>[104c649c1bdeab953c82b8437f7a87cb587d9896]</td>\n",
       "      <td>[OWNERS]</td>\n",
       "      <td>1.631132e+09</td>\n",
       "      <td>1.631132e+09</td>\n",
       "      <td>1</td>\n",
       "    </tr>\n",
       "  </tbody>\n",
       "</table>\n",
       "<p>93 rows × 19 columns</p>\n",
       "</div>"
      ],
      "text/plain": [
       "                                                title  \\\n",
       "0    Update the repository for creating access issues   \n",
       "1   Changed the environment variable name to origi...   \n",
       "2                 Adjusted envorinment variable names   \n",
       "3            Add time analysis notebook and dataframe   \n",
       "4   Add transformer implementation of relevance task    \n",
       "..                                                ...   \n",
       "88  include oindrilla and aakanksha as maintainers...   \n",
       "89                              add gpu test notebook   \n",
       "90                 Add nimbus demo1.ipynb and pipfile   \n",
       "91       update ci-config to use os-climate quay repo   \n",
       "92                                 update OWNERS file   \n",
       "\n",
       "                                                 body size       created_by  \\\n",
       "0           Signed-off-by: Shrey <shanand@redhat.com>   XS       Shreyanand   \n",
       "1   [Here](https://github.com/os-climate/aicoe-osc...    M        suppathak   \n",
       "2                                        Closes #218   XXL        suppathak   \n",
       "3   This PR adds benchmark run data and analysis n...  XXL       Shreyanand   \n",
       "4   This PR adds transformer implementation and di...  XXL       Shreyanand   \n",
       "..                                                ...  ...              ...   \n",
       "88                                               SSIA   XS       oindrillac   \n",
       "89        Short notebook to confirm JH is using GPU's    L  MichaelClifford   \n",
       "90  Co-authored-by: Karanraj Chauhan <kachau@redha...  XXL       Shreyanand   \n",
       "91                                               ssia    S  MichaelClifford   \n",
       "92  included members of the aicoe team that can co...    S  MichaelClifford   \n",
       "\n",
       "    created_at     closed_at        closed_by     merged_at        merged_by  \\\n",
       "0   1667406781           NaN             None           NaN             None   \n",
       "1   1667228783  1.667242e+09          sesheta  1.667242e+09          sesheta   \n",
       "2   1666738188  1.666872e+09          sesheta  1.666872e+09          sesheta   \n",
       "3   1666135746           NaN             None           NaN             None   \n",
       "4   1665611915           NaN             None           NaN             None   \n",
       "..         ...           ...              ...           ...              ...   \n",
       "88  1632751824  1.632753e+09    erikerlandson  1.632753e+09    erikerlandson   \n",
       "89  1632173553  1.632324e+09  chauhankaranraj  1.632324e+09  chauhankaranraj   \n",
       "90  1632160064  1.632255e+09  MichaelClifford  1.632255e+09  MichaelClifford   \n",
       "91  1631129264  1.631194e+09  MichaelClifford  1.631194e+09  MichaelClifford   \n",
       "92  1631128859  1.631191e+09  MichaelClifford  1.631191e+09  MichaelClifford   \n",
       "\n",
       "    commits_number  changed_files_number  \\\n",
       "0                1                     1   \n",
       "1                1                     5   \n",
       "2                1                     5   \n",
       "3                1                     3   \n",
       "4                1                     3   \n",
       "..             ...                   ...   \n",
       "88               1                     1   \n",
       "89               1                     1   \n",
       "90               1                     4   \n",
       "91               1                     1   \n",
       "92               1                     1   \n",
       "\n",
       "                                         interactions  \\\n",
       "0                                     {'sesheta': 86}   \n",
       "1   {'review-notebook-app[bot]': 29, 'suppathak': ...   \n",
       "2   {'review-notebook-app[bot]': 29, 'erikerlandso...   \n",
       "3     {'review-notebook-app[bot]': 29, 'sesheta': 86}   \n",
       "4   {'review-notebook-app[bot]': 29, 'sesheta': 86...   \n",
       "..                                                ...   \n",
       "88                             {'MichaelClifford': 1}   \n",
       "89        {'MichaelClifford': 25, 'erikerlandson': 2}   \n",
       "90      {'chauhankaranraj': 32, 'MichaelClifford': 8}   \n",
       "91                             {'MichaelClifford': 4}   \n",
       "92                               {'erikerlandson': 2}   \n",
       "\n",
       "                                              reviews  \\\n",
       "0                                                  {}   \n",
       "1   {'1162135879': {'author': 'Shreyanand', 'words...   \n",
       "2   {'1156963848': {'author': 'Shreyanand', 'words...   \n",
       "3                                                  {}   \n",
       "4   {'1162026715': {'author': 'suppathak', 'words_...   \n",
       "..                                                ...   \n",
       "88                                                 {}   \n",
       "89  {'759162220': {'author': 'erikerlandson', 'wor...   \n",
       "90  {'760038517': {'author': 'MichaelClifford', 'w...   \n",
       "91  {'749569326': {'author': 'erikerlandson', 'wor...   \n",
       "92  {'749567777': {'author': 'erikerlandson', 'wor...   \n",
       "\n",
       "                        labels                                     commits  \\\n",
       "0                    [size/XS]  [3b58d0c6b2dd9aacab6ada9df6502c8aecbb0702]   \n",
       "1     [approved, lgtm, size/M]  [fa5ea4fe2f9db12c167d7d4ec18651c178efc2d5]   \n",
       "2   [size/XXL, approved, lgtm]  [f22b079bd535183fe2a29143c873b6a54e782194]   \n",
       "3                   [size/XXL]  [cd9b9f82045e76c2484a6a8f3342915efc6384a1]   \n",
       "4                   [size/XXL]  [29077cb9934f76a1ec489999bbd9699bc3acbb74]   \n",
       "..                         ...                                         ...   \n",
       "88                          []  [857eb3facd8db938009983a2b5c6bf482a633788]   \n",
       "89                          []  [a50a8365bb810cb0d0c5736cfd77a0542d05230b]   \n",
       "90                          []  [6bf24e1db3884fe1888d2d3165eb2aade910c306]   \n",
       "91                          []  [880e68843c30c125d59bdb1b11f6108db08d6a2f]   \n",
       "92                          []  [104c649c1bdeab953c82b8437f7a87cb587d9896]   \n",
       "\n",
       "                                        changed_files  first_review_at  \\\n",
       "0                                 [docs/access-jh.md]              NaN   \n",
       "1   [notebooks/demo2/create_results_table.ipynb, n...     1.667232e+09   \n",
       "2   [notebooks/demo2/create_results_table.ipynb, n...     1.666804e+09   \n",
       "3   [notebooks/demo2/time-anlysis.ipynb, reports/b...              NaN   \n",
       "4   [notebooks/demo2/transformer-relevance.ipynb, ...     1.667228e+09   \n",
       "..                                                ...              ...   \n",
       "88                                      [.thoth.yaml]              NaN   \n",
       "89            [notebooks/confirm_gpu_available.ipynb]     1.632178e+09   \n",
       "90  [Pipfile, Pipfile.lock, notebooks/demo1-create...     1.632245e+09   \n",
       "91                                   [.aicoe-ci.yaml]     1.631132e+09   \n",
       "92                                           [OWNERS]     1.631132e+09   \n",
       "\n",
       "    first_approve_at   id  \n",
       "0                NaN  227  \n",
       "1                NaN  225  \n",
       "2                NaN  219  \n",
       "3                NaN  217  \n",
       "4                NaN  216  \n",
       "..               ...  ...  \n",
       "88               NaN   21  \n",
       "89      1.632178e+09   16  \n",
       "90      1.632254e+09   15  \n",
       "91      1.631132e+09    2  \n",
       "92      1.631132e+09    1  \n",
       "\n",
       "[93 rows x 19 columns]"
      ]
     },
     "execution_count": 6,
     "metadata": {},
     "output_type": "execute_result"
    }
   ],
   "source": [
    "pr_df"
   ]
  },
  {
   "cell_type": "code",
   "execution_count": 7,
   "id": "13dc895b",
   "metadata": {
    "execution": {
     "iopub.execute_input": "2022-11-02T17:21:29.200493Z",
     "iopub.status.busy": "2022-11-02T17:21:29.200197Z",
     "iopub.status.idle": "2022-11-02T17:21:29.205257Z",
     "shell.execute_reply": "2022-11-02T17:21:29.204451Z"
    }
   },
   "outputs": [
    {
     "data": {
      "text/plain": [
       "(93, 19)"
      ]
     },
     "execution_count": 7,
     "metadata": {},
     "output_type": "execute_result"
    }
   ],
   "source": [
    "pr_df.shape"
   ]
  },
  {
   "cell_type": "code",
   "execution_count": 8,
   "id": "f82201c5",
   "metadata": {
    "execution": {
     "iopub.execute_input": "2022-11-02T17:21:29.209151Z",
     "iopub.status.busy": "2022-11-02T17:21:29.208911Z",
     "iopub.status.idle": "2022-11-02T17:21:29.230354Z",
     "shell.execute_reply": "2022-11-02T17:21:29.229536Z"
    }
   },
   "outputs": [
    {
     "data": {
      "text/html": [
       "<div>\n",
       "<style scoped>\n",
       "    .dataframe tbody tr th:only-of-type {\n",
       "        vertical-align: middle;\n",
       "    }\n",
       "\n",
       "    .dataframe tbody tr th {\n",
       "        vertical-align: top;\n",
       "    }\n",
       "\n",
       "    .dataframe thead th {\n",
       "        text-align: right;\n",
       "    }\n",
       "</style>\n",
       "<table border=\"1\" class=\"dataframe\">\n",
       "  <thead>\n",
       "    <tr style=\"text-align: right;\">\n",
       "      <th></th>\n",
       "      <th>title</th>\n",
       "      <th>body</th>\n",
       "      <th>size</th>\n",
       "      <th>created_by</th>\n",
       "      <th>created_at</th>\n",
       "      <th>closed_at</th>\n",
       "      <th>closed_by</th>\n",
       "      <th>merged_at</th>\n",
       "      <th>merged_by</th>\n",
       "      <th>commits_number</th>\n",
       "      <th>changed_files_number</th>\n",
       "      <th>interactions</th>\n",
       "      <th>reviews</th>\n",
       "      <th>labels</th>\n",
       "      <th>commits</th>\n",
       "      <th>changed_files</th>\n",
       "      <th>first_review_at</th>\n",
       "      <th>first_approve_at</th>\n",
       "      <th>id</th>\n",
       "    </tr>\n",
       "  </thead>\n",
       "  <tbody>\n",
       "    <tr>\n",
       "      <th>0</th>\n",
       "      <td>Update the repository for creating access issues</td>\n",
       "      <td>Signed-off-by: Shrey &lt;shanand@redhat.com&gt;</td>\n",
       "      <td>XS</td>\n",
       "      <td>Shreyanand</td>\n",
       "      <td>1667406781</td>\n",
       "      <td>NaN</td>\n",
       "      <td>None</td>\n",
       "      <td>NaN</td>\n",
       "      <td>None</td>\n",
       "      <td>1</td>\n",
       "      <td>1</td>\n",
       "      <td>{'sesheta': 86}</td>\n",
       "      <td>{}</td>\n",
       "      <td>[size/XS]</td>\n",
       "      <td>[3b58d0c6b2dd9aacab6ada9df6502c8aecbb0702]</td>\n",
       "      <td>[docs/access-jh.md]</td>\n",
       "      <td>NaN</td>\n",
       "      <td>NaN</td>\n",
       "      <td>227</td>\n",
       "    </tr>\n",
       "    <tr>\n",
       "      <th>1</th>\n",
       "      <td>Changed the environment variable name to origi...</td>\n",
       "      <td>[Here](https://github.com/os-climate/aicoe-osc...</td>\n",
       "      <td>M</td>\n",
       "      <td>suppathak</td>\n",
       "      <td>1667228783</td>\n",
       "      <td>1.667242e+09</td>\n",
       "      <td>sesheta</td>\n",
       "      <td>1.667242e+09</td>\n",
       "      <td>sesheta</td>\n",
       "      <td>1</td>\n",
       "      <td>5</td>\n",
       "      <td>{'review-notebook-app[bot]': 29, 'suppathak': ...</td>\n",
       "      <td>{'1162135879': {'author': 'Shreyanand', 'words...</td>\n",
       "      <td>[approved, lgtm, size/M]</td>\n",
       "      <td>[fa5ea4fe2f9db12c167d7d4ec18651c178efc2d5]</td>\n",
       "      <td>[notebooks/demo2/create_results_table.ipynb, n...</td>\n",
       "      <td>1.667232e+09</td>\n",
       "      <td>NaN</td>\n",
       "      <td>225</td>\n",
       "    </tr>\n",
       "  </tbody>\n",
       "</table>\n",
       "</div>"
      ],
      "text/plain": [
       "                                               title  \\\n",
       "0   Update the repository for creating access issues   \n",
       "1  Changed the environment variable name to origi...   \n",
       "\n",
       "                                                body size  created_by  \\\n",
       "0          Signed-off-by: Shrey <shanand@redhat.com>   XS  Shreyanand   \n",
       "1  [Here](https://github.com/os-climate/aicoe-osc...    M   suppathak   \n",
       "\n",
       "   created_at     closed_at closed_by     merged_at merged_by  commits_number  \\\n",
       "0  1667406781           NaN      None           NaN      None               1   \n",
       "1  1667228783  1.667242e+09   sesheta  1.667242e+09   sesheta               1   \n",
       "\n",
       "   changed_files_number                                       interactions  \\\n",
       "0                     1                                    {'sesheta': 86}   \n",
       "1                     5  {'review-notebook-app[bot]': 29, 'suppathak': ...   \n",
       "\n",
       "                                             reviews  \\\n",
       "0                                                 {}   \n",
       "1  {'1162135879': {'author': 'Shreyanand', 'words...   \n",
       "\n",
       "                     labels                                     commits  \\\n",
       "0                 [size/XS]  [3b58d0c6b2dd9aacab6ada9df6502c8aecbb0702]   \n",
       "1  [approved, lgtm, size/M]  [fa5ea4fe2f9db12c167d7d4ec18651c178efc2d5]   \n",
       "\n",
       "                                       changed_files  first_review_at  \\\n",
       "0                                [docs/access-jh.md]              NaN   \n",
       "1  [notebooks/demo2/create_results_table.ipynb, n...     1.667232e+09   \n",
       "\n",
       "   first_approve_at   id  \n",
       "0               NaN  227  \n",
       "1               NaN  225  "
      ]
     },
     "execution_count": 8,
     "metadata": {},
     "output_type": "execute_result"
    }
   ],
   "source": [
    "pr_df.head(2)"
   ]
  },
  {
   "cell_type": "markdown",
   "id": "c472ffbd",
   "metadata": {},
   "source": [
    "## Feature engineering\n",
    "\n",
    "In the next section we will do some basic feature engineering and correlation analyis on our dataset to see if anything interesting jumps out at us. "
   ]
  },
  {
   "cell_type": "markdown",
   "id": "4ed68d9a",
   "metadata": {},
   "source": [
    "**Time to Merge**\n",
    "\n",
    "We will derive a new feature called `time_to_merge` which will be the difference between the `created_at` and `merged_at` fields. "
   ]
  },
  {
   "cell_type": "code",
   "execution_count": 9,
   "id": "d67035e7",
   "metadata": {
    "execution": {
     "iopub.execute_input": "2022-11-02T17:21:29.234301Z",
     "iopub.status.busy": "2022-11-02T17:21:29.233985Z",
     "iopub.status.idle": "2022-11-02T17:21:29.239582Z",
     "shell.execute_reply": "2022-11-02T17:21:29.238682Z"
    }
   },
   "outputs": [],
   "source": [
    "# derive time_to_merege\n",
    "pr_df[\"time_to_merge\"] = pr_df[\"merged_at\"] - pr_df[\"created_at\"]\n",
    "pr_df[\"time_to_merge\"] = pr_df[\"time_to_merge\"].astype(\"float\")\n",
    "# NOTE: we cant fill NA with 0 because that would imply the PR got merged instantaneously"
   ]
  },
  {
   "cell_type": "code",
   "execution_count": 10,
   "id": "fddf9750-49f5-4997-8280-e94e1e778ad9",
   "metadata": {
    "execution": {
     "iopub.execute_input": "2022-11-02T17:21:29.242953Z",
     "iopub.status.busy": "2022-11-02T17:21:29.242670Z",
     "iopub.status.idle": "2022-11-02T17:21:29.249115Z",
     "shell.execute_reply": "2022-11-02T17:21:29.248188Z"
    }
   },
   "outputs": [
    {
     "data": {
      "text/plain": [
       "0          NaN\n",
       "1      13666.0\n",
       "2     133369.0\n",
       "3          NaN\n",
       "4          NaN\n",
       "        ...   \n",
       "88       680.0\n",
       "89    150846.0\n",
       "90     94769.0\n",
       "91     64366.0\n",
       "92     62135.0\n",
       "Name: time_to_merge, Length: 93, dtype: float64"
      ]
     },
     "execution_count": 10,
     "metadata": {},
     "output_type": "execute_result"
    }
   ],
   "source": [
    "pr_df[\"time_to_merge\"]"
   ]
  },
  {
   "cell_type": "markdown",
   "id": "939d196e",
   "metadata": {},
   "source": [
    "Let's look at the distribution of the time to merge column. This can help us determine what the setup for ML problems such as [#236](https://github.com/aicoe-aiops/ocp-ci-analysis/issues/236) could be like. That is, should the time to merge problem be framed as a regression or classification problem.\n",
    "\n",
    "First, lets try to determine what the granularity of the output values should be, in case of a regression setup. That is, should the model predict time to merge in number of seconds, number of hours, number of days, or some other chunk of time."
   ]
  },
  {
   "cell_type": "code",
   "execution_count": 11,
   "id": "b8cc628b",
   "metadata": {
    "execution": {
     "iopub.execute_input": "2022-11-02T17:21:29.253810Z",
     "iopub.status.busy": "2022-11-02T17:21:29.253533Z",
     "iopub.status.idle": "2022-11-02T17:21:29.262164Z",
     "shell.execute_reply": "2022-11-02T17:21:29.261270Z"
    },
    "tags": []
   },
   "outputs": [
    {
     "data": {
      "text/plain": [
       "1.0     0.428571\n",
       "2.0     0.129870\n",
       "3.0     0.077922\n",
       "4.0     0.064935\n",
       "5.0     0.038961\n",
       "6.0     0.038961\n",
       "20.0    0.025974\n",
       "9.0     0.025974\n",
       "43.0    0.025974\n",
       "8.0     0.025974\n",
       "28.0    0.012987\n",
       "11.0    0.012987\n",
       "24.0    0.012987\n",
       "14.0    0.012987\n",
       "7.0     0.012987\n",
       "10.0    0.012987\n",
       "27.0    0.012987\n",
       "22.0    0.012987\n",
       "12.0    0.012987\n",
       "Name: time_to_merge, dtype: float64"
      ]
     },
     "execution_count": 11,
     "metadata": {},
     "output_type": "execute_result"
    }
   ],
   "source": [
    "# what does the distribution of values look like if we choose days as the granularity\n",
    "ttm_days = np.ceil(pr_df.time_to_merge / (60 * 60 * 24))\n",
    "\n",
    "# value counts - to how many PRs have value 1, 2, 3, etc. for days to merge\n",
    "vc = ttm_days.value_counts()\n",
    "\n",
    "# normalized value counts (i.e. percent of PRs instead of raw number)\n",
    "nvc = vc / vc.sum()\n",
    "nvc"
   ]
  },
  {
   "cell_type": "code",
   "execution_count": 12,
   "id": "192aeb22",
   "metadata": {
    "execution": {
     "iopub.execute_input": "2022-11-02T17:21:29.266517Z",
     "iopub.status.busy": "2022-11-02T17:21:29.266240Z",
     "iopub.status.idle": "2022-11-02T17:21:29.276371Z",
     "shell.execute_reply": "2022-11-02T17:21:29.275573Z"
    },
    "tags": []
   },
   "outputs": [
    {
     "data": {
      "text/plain": [
       "1.0      0.246753\n",
       "9.0      0.064935\n",
       "6.0      0.064935\n",
       "2.0      0.038961\n",
       "47.0     0.038961\n",
       "8.0      0.025974\n",
       "23.0     0.025974\n",
       "14.0     0.025974\n",
       "16.0     0.025974\n",
       "7.0      0.025974\n",
       "31.0     0.025974\n",
       "5.0      0.012987\n",
       "38.0     0.012987\n",
       "159.0    0.012987\n",
       "17.0     0.012987\n",
       "3.0      0.012987\n",
       "24.0     0.012987\n",
       "26.0     0.012987\n",
       "18.0     0.012987\n",
       "32.0     0.012987\n",
       "33.0     0.012987\n",
       "82.0     0.012987\n",
       "39.0     0.012987\n",
       "192.0    0.012987\n",
       "13.0     0.012987\n",
       "25.0     0.012987\n",
       "170.0    0.012987\n",
       "160.0    0.012987\n",
       "213.0    0.012987\n",
       "73.0     0.012987\n",
       "65.0     0.012987\n",
       "112.0    0.012987\n",
       "22.0     0.012987\n",
       "55.0     0.012987\n",
       "64.0     0.012987\n",
       "57.0     0.012987\n",
       "217.0    0.012987\n",
       "68.0     0.012987\n",
       "344.0    0.012987\n",
       "343.0    0.012987\n",
       "95.0     0.012987\n",
       "Name: time_to_merge, dtype: float64"
      ]
     },
     "execution_count": 12,
     "metadata": {},
     "output_type": "execute_result"
    }
   ],
   "source": [
    "# what if we chose some intermediate value e.g. 3 hours as the granularity?\n",
    "ttm_3hours = np.ceil(pr_df.time_to_merge / (60 * 60 * 3))\n",
    "\n",
    "# value counts - to how many PRs have value 1, 2, 3, etc. for num. 3-hours to merge\n",
    "vc = ttm_3hours.value_counts()\n",
    "\n",
    "# normalized value counts (i.e. percent of PRs instead of raw number)\n",
    "nvc = vc / vc.sum()\n",
    "nvc"
   ]
  },
  {
   "cell_type": "code",
   "execution_count": 13,
   "id": "44e09f11",
   "metadata": {
    "execution": {
     "iopub.execute_input": "2022-11-02T17:21:29.280825Z",
     "iopub.status.busy": "2022-11-02T17:21:29.280568Z",
     "iopub.status.idle": "2022-11-02T17:21:29.290630Z",
     "shell.execute_reply": "2022-11-02T17:21:29.289670Z"
    },
    "tags": []
   },
   "outputs": [
    {
     "data": {
      "text/plain": [
       "1.0       0.194805\n",
       "27.0      0.051948\n",
       "4.0       0.038961\n",
       "17.0      0.038961\n",
       "3.0       0.038961\n",
       "18.0      0.025974\n",
       "141.0     0.025974\n",
       "22.0      0.025974\n",
       "93.0      0.025974\n",
       "46.0      0.012987\n",
       "67.0      0.012987\n",
       "51.0      0.012987\n",
       "2.0       0.012987\n",
       "20.0      0.012987\n",
       "53.0      0.012987\n",
       "96.0      0.012987\n",
       "26.0      0.012987\n",
       "40.0      0.012987\n",
       "113.0     0.012987\n",
       "97.0      0.012987\n",
       "19.0      0.012987\n",
       "71.0      0.012987\n",
       "7.0       0.012987\n",
       "47.0      0.012987\n",
       "244.0     0.012987\n",
       "285.0     0.012987\n",
       "42.0      0.012987\n",
       "476.0     0.012987\n",
       "639.0     0.012987\n",
       "217.0     0.012987\n",
       "651.0     0.012987\n",
       "195.0     0.012987\n",
       "335.0     0.012987\n",
       "65.0      0.012987\n",
       "479.0     0.012987\n",
       "508.0     0.012987\n",
       "165.0     0.012987\n",
       "191.0     0.012987\n",
       "171.0     0.012987\n",
       "202.0     0.012987\n",
       "139.0     0.012987\n",
       "1032.0    0.012987\n",
       "1028.0    0.012987\n",
       "116.0     0.012987\n",
       "74.0      0.012987\n",
       "576.0     0.012987\n",
       "77.0      0.012987\n",
       "69.0      0.012987\n",
       "38.0      0.012987\n",
       "13.0      0.012987\n",
       "Name: time_to_merge, dtype: float64"
      ]
     },
     "execution_count": 13,
     "metadata": {},
     "output_type": "execute_result"
    }
   ],
   "source": [
    "# what if we chose hours as the granularity?\n",
    "ttm_hours = np.ceil(pr_df.time_to_merge / (60 * 60))\n",
    "\n",
    "# value counts - to how many PRs have value 1, 2, 3, etc. for hours to merge\n",
    "vc = ttm_hours.value_counts()\n",
    "\n",
    "# normalized value counts (i.e. percent of PRs instead of raw number)\n",
    "nvc = vc / vc.sum()\n",
    "nvc"
   ]
  },
  {
   "cell_type": "markdown",
   "id": "fb8e316b",
   "metadata": {},
   "source": [
    "Now, lets try to determine, if we were to set this up as a classification problem, what the output classes should be. In the following cell, we'll try to split the time-to-merge values into 10 equally populated buckets."
   ]
  },
  {
   "cell_type": "code",
   "execution_count": 14,
   "id": "0ca35bc5",
   "metadata": {
    "execution": {
     "iopub.execute_input": "2022-11-02T17:21:29.295419Z",
     "iopub.status.busy": "2022-11-02T17:21:29.295176Z",
     "iopub.status.idle": "2022-11-02T17:21:29.303819Z",
     "shell.execute_reply": "2022-11-02T17:21:29.302847Z"
    }
   },
   "outputs": [
    {
     "data": {
      "text/plain": [
       "0.0      0.041389\n",
       "0.1      0.343056\n",
       "0.2      1.374389\n",
       "0.3     11.397833\n",
       "0.4     20.605278\n",
       "0.5     37.046944\n",
       "0.6     65.832111\n",
       "0.7     95.909111\n",
       "0.8    169.023778\n",
       "0.9    391.030389\n",
       "Name: time_to_merge, dtype: float64"
      ]
     },
     "execution_count": 14,
     "metadata": {},
     "output_type": "execute_result"
    }
   ],
   "source": [
    "# lets look at what the 10th, 20th, 30th etc percentiles are, to see what the bin boundaries (in terms of hours)\n",
    "# would be if we were to split the data in 10 equally populated bins\n",
    "n_buckets = 10\n",
    "\n",
    "quantiles = pr_df.time_to_merge.quantile(q=np.arange(0, 1 + 1e-100, 1 / n_buckets))\n",
    "quantiles / 3600"
   ]
  },
  {
   "cell_type": "code",
   "execution_count": 15,
   "id": "7b36d5d4-ec27-4a59-b63f-515830da1ae9",
   "metadata": {
    "execution": {
     "iopub.execute_input": "2022-11-02T17:21:29.308060Z",
     "iopub.status.busy": "2022-11-02T17:21:29.307744Z",
     "iopub.status.idle": "2022-11-02T17:21:29.311420Z",
     "shell.execute_reply": "2022-11-02T17:21:29.310527Z"
    }
   },
   "outputs": [],
   "source": [
    "intervals = quantiles"
   ]
  },
  {
   "cell_type": "code",
   "execution_count": 16,
   "id": "acc2bfd4",
   "metadata": {
    "execution": {
     "iopub.execute_input": "2022-11-02T17:21:29.315178Z",
     "iopub.status.busy": "2022-11-02T17:21:29.314908Z",
     "iopub.status.idle": "2022-11-02T17:21:29.322020Z",
     "shell.execute_reply": "2022-11-02T17:21:29.321187Z"
    }
   },
   "outputs": [
    {
     "data": {
      "text/plain": [
       "0.0           NaN\n",
       "0.1      0.301667\n",
       "0.2      1.031333\n",
       "0.3     10.023444\n",
       "0.4      9.207444\n",
       "0.5     16.441667\n",
       "0.6     28.785167\n",
       "0.7     30.077000\n",
       "0.8     73.114667\n",
       "0.9    222.006611\n",
       "Name: time_to_merge, dtype: float64"
      ]
     },
     "execution_count": 16,
     "metadata": {},
     "output_type": "execute_result"
    }
   ],
   "source": [
    "# gaps between the buckets (i.e. size of each bucket) in hours\n",
    "(quantiles - quantiles.shift()) / 3600"
   ]
  },
  {
   "cell_type": "markdown",
   "id": "7111b3d8",
   "metadata": {},
   "source": [
    "If we want to frame our ML problem as a classification problem, we can use the above buckets to define the classes."
   ]
  },
  {
   "cell_type": "markdown",
   "id": "21dc2dcf",
   "metadata": {},
   "source": [
    "**Body**\n",
    "\n",
    "Here, we will derive a feature called `body_size` which will simply be the number of words in the body of the PR. We can use this numerical value to describe the body of the PR."
   ]
  },
  {
   "cell_type": "code",
   "execution_count": 17,
   "id": "212f8a44",
   "metadata": {
    "execution": {
     "iopub.execute_input": "2022-11-02T17:21:29.327179Z",
     "iopub.status.busy": "2022-11-02T17:21:29.326904Z",
     "iopub.status.idle": "2022-11-02T17:21:29.332258Z",
     "shell.execute_reply": "2022-11-02T17:21:29.331390Z"
    }
   },
   "outputs": [],
   "source": [
    "# derive body_size\n",
    "pr_df[\"body_size\"] = pr_df[\"body\"].fillna(\"\").apply(lambda x: len(x.split()))"
   ]
  },
  {
   "cell_type": "code",
   "execution_count": 18,
   "id": "c62d9484",
   "metadata": {
    "execution": {
     "iopub.execute_input": "2022-11-02T17:21:29.336020Z",
     "iopub.status.busy": "2022-11-02T17:21:29.335760Z",
     "iopub.status.idle": "2022-11-02T17:21:29.341793Z",
     "shell.execute_reply": "2022-11-02T17:21:29.341001Z"
    }
   },
   "outputs": [
    {
     "data": {
      "text/plain": [
       "0      3\n",
       "1     40\n",
       "2      2\n",
       "3     13\n",
       "4     29\n",
       "      ..\n",
       "88     1\n",
       "89     8\n",
       "90    63\n",
       "91     1\n",
       "92    16\n",
       "Name: body_size, Length: 93, dtype: int64"
      ]
     },
     "execution_count": 18,
     "metadata": {},
     "output_type": "execute_result"
    }
   ],
   "source": [
    "pr_df[\"body_size\"]"
   ]
  },
  {
   "cell_type": "markdown",
   "id": "9916fd09",
   "metadata": {},
   "source": [
    "**Size**\n",
    "\n",
    "We can attempt to convert the categorical size label generated by GitHub, which summarizes the size of the changes made to the code base, to a numerical value. "
   ]
  },
  {
   "cell_type": "code",
   "execution_count": 19,
   "id": "cbc553ee-3e0b-45ed-83f6-02ae860bef85",
   "metadata": {
    "execution": {
     "iopub.execute_input": "2022-11-02T17:21:29.345299Z",
     "iopub.status.busy": "2022-11-02T17:21:29.345024Z",
     "iopub.status.idle": "2022-11-02T17:21:29.350149Z",
     "shell.execute_reply": "2022-11-02T17:21:29.349272Z"
    }
   },
   "outputs": [
    {
     "data": {
      "text/plain": [
       "{'L', 'M', 'S', 'XL', 'XS', 'XXL'}"
      ]
     },
     "execution_count": 19,
     "metadata": {},
     "output_type": "execute_result"
    }
   ],
   "source": [
    "set(pr_df['size'])"
   ]
  },
  {
   "cell_type": "code",
   "execution_count": 20,
   "id": "709b4cf9",
   "metadata": {
    "execution": {
     "iopub.execute_input": "2022-11-02T17:21:29.354480Z",
     "iopub.status.busy": "2022-11-02T17:21:29.354169Z",
     "iopub.status.idle": "2022-11-02T17:21:29.360457Z",
     "shell.execute_reply": "2022-11-02T17:21:29.359686Z"
    }
   },
   "outputs": [],
   "source": [
    "convert_size = {\"size\": {\"NaN\": 0, \"XS\": 0, \"S\": 1, \"M\": 2, \"L\": 3, \"XL\": 4, \"XXL\": 5}}\n",
    "pr_df = pr_df.replace(convert_size)"
   ]
  },
  {
   "cell_type": "markdown",
   "id": "0b803d48",
   "metadata": {},
   "source": [
    "**Title**\n",
    "\n",
    "Lets try to see if the PR title text can be used to extract any useful information regarding the PR."
   ]
  },
  {
   "cell_type": "code",
   "execution_count": 21,
   "id": "020f050a",
   "metadata": {
    "execution": {
     "iopub.execute_input": "2022-11-02T17:21:29.364292Z",
     "iopub.status.busy": "2022-11-02T17:21:29.364005Z",
     "iopub.status.idle": "2022-11-02T17:21:29.372937Z",
     "shell.execute_reply": "2022-11-02T17:21:29.372105Z"
    }
   },
   "outputs": [
    {
     "data": {
      "text/plain": [
       "0      update the repository for creating access issues\n",
       "1     changed the environment variable name to origi...\n",
       "2                   adjusted envorinment variable names\n",
       "3              add time analysis notebook and dataframe\n",
       "4     add transformer implementation of relevance task \n",
       "                            ...                        \n",
       "88    include oindrilla and aakanksha as maintainers...\n",
       "89                                add gpu test notebook\n",
       "90                   add nimbus demo1 ipynb and pipfile\n",
       "91         update ci config to use os climate quay repo\n",
       "92                                   update owners file\n",
       "Name: title, Length: 93, dtype: object"
      ]
     },
     "execution_count": 21,
     "metadata": {},
     "output_type": "execute_result"
    }
   ],
   "source": [
    "# first lets preprocess the text available in the titles\n",
    "\n",
    "# convert to lowercase\n",
    "preproc_titles = pr_df[\"title\"].str.lower()\n",
    "\n",
    "# remove punctuations and symbols like : ; , # ( ) [ ] etc\n",
    "preproc_titles = preproc_titles.str.replace(r'[`#-.?!,:;\\/()\\[\\]\"\\']', \" \", regex=True)\n",
    "\n",
    "# remove hash-like strings i.e. 25+ char long strings containing 0-9 or a-f\n",
    "preproc_titles = preproc_titles.str.replace(r\"[0-9a-f]{25,}\", \" \", regex=True)\n",
    "\n",
    "preproc_titles"
   ]
  },
  {
   "cell_type": "code",
   "execution_count": 22,
   "id": "2ecc397e",
   "metadata": {
    "execution": {
     "iopub.execute_input": "2022-11-02T17:21:29.377761Z",
     "iopub.status.busy": "2022-11-02T17:21:29.377518Z",
     "iopub.status.idle": "2022-11-02T17:21:29.385267Z",
     "shell.execute_reply": "2022-11-02T17:21:29.384438Z"
    }
   },
   "outputs": [],
   "source": [
    "# what are the most commonly appearing words in the titles\n",
    "\n",
    "# combin all titles and split into words\n",
    "words = preproc_titles.str.cat(sep=\" \").split()\n",
    "\n",
    "# remove stopwords and numbers (e.g. bugzilla ids)\n",
    "words = [w for w in words if w not in set(STOPWORDS) and not w.isnumeric()]\n",
    "\n",
    "# word frequencies\n",
    "unique_words, counts = np.unique(words, return_counts=True)\n",
    "vc = pd.Series(counts, index=unique_words).sort_values(ascending=False)"
   ]
  },
  {
   "cell_type": "markdown",
   "id": "c52f211c",
   "metadata": {},
   "source": [
    "From the above graph, we can see that titles often contain some keywords that can hint towards the type of changes being made in the PR. We will create a feature which is a vector indicating how many times each word appeared in the title. This way, even if a less prominent word is more correlated with time_to_merge, we will be able to capture that relationship."
   ]
  },
  {
   "cell_type": "code",
   "execution_count": 23,
   "id": "65279268",
   "metadata": {
    "execution": {
     "iopub.execute_input": "2022-11-02T17:21:29.388856Z",
     "iopub.status.busy": "2022-11-02T17:21:29.388582Z",
     "iopub.status.idle": "2022-11-02T17:21:30.822393Z",
     "shell.execute_reply": "2022-11-02T17:21:30.821448Z"
    }
   },
   "outputs": [
    {
     "name": "stderr",
     "output_type": "stream",
     "text": [
      "  0%|          | 0/221 [00:00<?, ?it/s]/tmp/ipykernel_234/4191214648.py:3: PerformanceWarning: DataFrame is highly fragmented.  This is usually the result of calling `frame.insert` many times, which has poor performance.  Consider joining all columns at once using pd.concat(axis=1) instead. To get a de-fragmented frame, use `newframe = frame.copy()`\n",
      "  pr_df[f\"title_wordcount_{word}\"] = preproc_titles.apply(\n",
      " 44%|████▍     | 97/221 [00:00<00:00, 368.15it/s]/tmp/ipykernel_234/4191214648.py:3: PerformanceWarning: DataFrame is highly fragmented.  This is usually the result of calling `frame.insert` many times, which has poor performance.  Consider joining all columns at once using pd.concat(axis=1) instead. To get a de-fragmented frame, use `newframe = frame.copy()`\n",
      "  pr_df[f\"title_wordcount_{word}\"] = preproc_titles.apply(\n",
      "/tmp/ipykernel_234/4191214648.py:3: PerformanceWarning: DataFrame is highly fragmented.  This is usually the result of calling `frame.insert` many times, which has poor performance.  Consider joining all columns at once using pd.concat(axis=1) instead. To get a de-fragmented frame, use `newframe = frame.copy()`\n",
      "  pr_df[f\"title_wordcount_{word}\"] = preproc_titles.apply(\n",
      "/tmp/ipykernel_234/4191214648.py:3: PerformanceWarning: DataFrame is highly fragmented.  This is usually the result of calling `frame.insert` many times, which has poor performance.  Consider joining all columns at once using pd.concat(axis=1) instead. To get a de-fragmented frame, use `newframe = frame.copy()`\n",
      "  pr_df[f\"title_wordcount_{word}\"] = preproc_titles.apply(\n",
      "/tmp/ipykernel_234/4191214648.py:3: PerformanceWarning: DataFrame is highly fragmented.  This is usually the result of calling `frame.insert` many times, which has poor performance.  Consider joining all columns at once using pd.concat(axis=1) instead. To get a de-fragmented frame, use `newframe = frame.copy()`\n",
      "  pr_df[f\"title_wordcount_{word}\"] = preproc_titles.apply(\n",
      "/tmp/ipykernel_234/4191214648.py:3: PerformanceWarning: DataFrame is highly fragmented.  This is usually the result of calling `frame.insert` many times, which has poor performance.  Consider joining all columns at once using pd.concat(axis=1) instead. To get a de-fragmented frame, use `newframe = frame.copy()`\n",
      "  pr_df[f\"title_wordcount_{word}\"] = preproc_titles.apply(\n",
      "/tmp/ipykernel_234/4191214648.py:3: PerformanceWarning: DataFrame is highly fragmented.  This is usually the result of calling `frame.insert` many times, which has poor performance.  Consider joining all columns at once using pd.concat(axis=1) instead. To get a de-fragmented frame, use `newframe = frame.copy()`\n",
      "  pr_df[f\"title_wordcount_{word}\"] = preproc_titles.apply(\n",
      "/tmp/ipykernel_234/4191214648.py:3: PerformanceWarning: DataFrame is highly fragmented.  This is usually the result of calling `frame.insert` many times, which has poor performance.  Consider joining all columns at once using pd.concat(axis=1) instead. To get a de-fragmented frame, use `newframe = frame.copy()`\n",
      "  pr_df[f\"title_wordcount_{word}\"] = preproc_titles.apply(\n",
      "/tmp/ipykernel_234/4191214648.py:3: PerformanceWarning: DataFrame is highly fragmented.  This is usually the result of calling `frame.insert` many times, which has poor performance.  Consider joining all columns at once using pd.concat(axis=1) instead. To get a de-fragmented frame, use `newframe = frame.copy()`\n",
      "  pr_df[f\"title_wordcount_{word}\"] = preproc_titles.apply(\n",
      "/tmp/ipykernel_234/4191214648.py:3: PerformanceWarning: DataFrame is highly fragmented.  This is usually the result of calling `frame.insert` many times, which has poor performance.  Consider joining all columns at once using pd.concat(axis=1) instead. To get a de-fragmented frame, use `newframe = frame.copy()`\n",
      "  pr_df[f\"title_wordcount_{word}\"] = preproc_titles.apply(\n",
      "/tmp/ipykernel_234/4191214648.py:3: PerformanceWarning: DataFrame is highly fragmented.  This is usually the result of calling `frame.insert` many times, which has poor performance.  Consider joining all columns at once using pd.concat(axis=1) instead. To get a de-fragmented frame, use `newframe = frame.copy()`\n",
      "  pr_df[f\"title_wordcount_{word}\"] = preproc_titles.apply(\n",
      "/tmp/ipykernel_234/4191214648.py:3: PerformanceWarning: DataFrame is highly fragmented.  This is usually the result of calling `frame.insert` many times, which has poor performance.  Consider joining all columns at once using pd.concat(axis=1) instead. To get a de-fragmented frame, use `newframe = frame.copy()`\n",
      "  pr_df[f\"title_wordcount_{word}\"] = preproc_titles.apply(\n",
      "/tmp/ipykernel_234/4191214648.py:3: PerformanceWarning: DataFrame is highly fragmented.  This is usually the result of calling `frame.insert` many times, which has poor performance.  Consider joining all columns at once using pd.concat(axis=1) instead. To get a de-fragmented frame, use `newframe = frame.copy()`\n",
      "  pr_df[f\"title_wordcount_{word}\"] = preproc_titles.apply(\n",
      "/tmp/ipykernel_234/4191214648.py:3: PerformanceWarning: DataFrame is highly fragmented.  This is usually the result of calling `frame.insert` many times, which has poor performance.  Consider joining all columns at once using pd.concat(axis=1) instead. To get a de-fragmented frame, use `newframe = frame.copy()`\n",
      "  pr_df[f\"title_wordcount_{word}\"] = preproc_titles.apply(\n",
      "/tmp/ipykernel_234/4191214648.py:3: PerformanceWarning: DataFrame is highly fragmented.  This is usually the result of calling `frame.insert` many times, which has poor performance.  Consider joining all columns at once using pd.concat(axis=1) instead. To get a de-fragmented frame, use `newframe = frame.copy()`\n",
      "  pr_df[f\"title_wordcount_{word}\"] = preproc_titles.apply(\n",
      "/tmp/ipykernel_234/4191214648.py:3: PerformanceWarning: DataFrame is highly fragmented.  This is usually the result of calling `frame.insert` many times, which has poor performance.  Consider joining all columns at once using pd.concat(axis=1) instead. To get a de-fragmented frame, use `newframe = frame.copy()`\n",
      "  pr_df[f\"title_wordcount_{word}\"] = preproc_titles.apply(\n",
      "/tmp/ipykernel_234/4191214648.py:3: PerformanceWarning: DataFrame is highly fragmented.  This is usually the result of calling `frame.insert` many times, which has poor performance.  Consider joining all columns at once using pd.concat(axis=1) instead. To get a de-fragmented frame, use `newframe = frame.copy()`\n",
      "  pr_df[f\"title_wordcount_{word}\"] = preproc_titles.apply(\n",
      "/tmp/ipykernel_234/4191214648.py:3: PerformanceWarning: DataFrame is highly fragmented.  This is usually the result of calling `frame.insert` many times, which has poor performance.  Consider joining all columns at once using pd.concat(axis=1) instead. To get a de-fragmented frame, use `newframe = frame.copy()`\n",
      "  pr_df[f\"title_wordcount_{word}\"] = preproc_titles.apply(\n",
      "/tmp/ipykernel_234/4191214648.py:3: PerformanceWarning: DataFrame is highly fragmented.  This is usually the result of calling `frame.insert` many times, which has poor performance.  Consider joining all columns at once using pd.concat(axis=1) instead. To get a de-fragmented frame, use `newframe = frame.copy()`\n",
      "  pr_df[f\"title_wordcount_{word}\"] = preproc_titles.apply(\n",
      "/tmp/ipykernel_234/4191214648.py:3: PerformanceWarning: DataFrame is highly fragmented.  This is usually the result of calling `frame.insert` many times, which has poor performance.  Consider joining all columns at once using pd.concat(axis=1) instead. To get a de-fragmented frame, use `newframe = frame.copy()`\n",
      "  pr_df[f\"title_wordcount_{word}\"] = preproc_titles.apply(\n",
      "/tmp/ipykernel_234/4191214648.py:3: PerformanceWarning: DataFrame is highly fragmented.  This is usually the result of calling `frame.insert` many times, which has poor performance.  Consider joining all columns at once using pd.concat(axis=1) instead. To get a de-fragmented frame, use `newframe = frame.copy()`\n",
      "  pr_df[f\"title_wordcount_{word}\"] = preproc_titles.apply(\n",
      "/tmp/ipykernel_234/4191214648.py:3: PerformanceWarning: DataFrame is highly fragmented.  This is usually the result of calling `frame.insert` many times, which has poor performance.  Consider joining all columns at once using pd.concat(axis=1) instead. To get a de-fragmented frame, use `newframe = frame.copy()`\n",
      "  pr_df[f\"title_wordcount_{word}\"] = preproc_titles.apply(\n",
      "/tmp/ipykernel_234/4191214648.py:3: PerformanceWarning: DataFrame is highly fragmented.  This is usually the result of calling `frame.insert` many times, which has poor performance.  Consider joining all columns at once using pd.concat(axis=1) instead. To get a de-fragmented frame, use `newframe = frame.copy()`\n",
      "  pr_df[f\"title_wordcount_{word}\"] = preproc_titles.apply(\n",
      "/tmp/ipykernel_234/4191214648.py:3: PerformanceWarning: DataFrame is highly fragmented.  This is usually the result of calling `frame.insert` many times, which has poor performance.  Consider joining all columns at once using pd.concat(axis=1) instead. To get a de-fragmented frame, use `newframe = frame.copy()`\n",
      "  pr_df[f\"title_wordcount_{word}\"] = preproc_titles.apply(\n",
      "/tmp/ipykernel_234/4191214648.py:3: PerformanceWarning: DataFrame is highly fragmented.  This is usually the result of calling `frame.insert` many times, which has poor performance.  Consider joining all columns at once using pd.concat(axis=1) instead. To get a de-fragmented frame, use `newframe = frame.copy()`\n",
      "  pr_df[f\"title_wordcount_{word}\"] = preproc_titles.apply(\n",
      "/tmp/ipykernel_234/4191214648.py:3: PerformanceWarning: DataFrame is highly fragmented.  This is usually the result of calling `frame.insert` many times, which has poor performance.  Consider joining all columns at once using pd.concat(axis=1) instead. To get a de-fragmented frame, use `newframe = frame.copy()`\n",
      "  pr_df[f\"title_wordcount_{word}\"] = preproc_titles.apply(\n",
      "/tmp/ipykernel_234/4191214648.py:3: PerformanceWarning: DataFrame is highly fragmented.  This is usually the result of calling `frame.insert` many times, which has poor performance.  Consider joining all columns at once using pd.concat(axis=1) instead. To get a de-fragmented frame, use `newframe = frame.copy()`\n",
      "  pr_df[f\"title_wordcount_{word}\"] = preproc_titles.apply(\n",
      "/tmp/ipykernel_234/4191214648.py:3: PerformanceWarning: DataFrame is highly fragmented.  This is usually the result of calling `frame.insert` many times, which has poor performance.  Consider joining all columns at once using pd.concat(axis=1) instead. To get a de-fragmented frame, use `newframe = frame.copy()`\n",
      "  pr_df[f\"title_wordcount_{word}\"] = preproc_titles.apply(\n",
      "/tmp/ipykernel_234/4191214648.py:3: PerformanceWarning: DataFrame is highly fragmented.  This is usually the result of calling `frame.insert` many times, which has poor performance.  Consider joining all columns at once using pd.concat(axis=1) instead. To get a de-fragmented frame, use `newframe = frame.copy()`\n",
      "  pr_df[f\"title_wordcount_{word}\"] = preproc_titles.apply(\n",
      "/tmp/ipykernel_234/4191214648.py:3: PerformanceWarning: DataFrame is highly fragmented.  This is usually the result of calling `frame.insert` many times, which has poor performance.  Consider joining all columns at once using pd.concat(axis=1) instead. To get a de-fragmented frame, use `newframe = frame.copy()`\n",
      "  pr_df[f\"title_wordcount_{word}\"] = preproc_titles.apply(\n",
      "/tmp/ipykernel_234/4191214648.py:3: PerformanceWarning: DataFrame is highly fragmented.  This is usually the result of calling `frame.insert` many times, which has poor performance.  Consider joining all columns at once using pd.concat(axis=1) instead. To get a de-fragmented frame, use `newframe = frame.copy()`\n",
      "  pr_df[f\"title_wordcount_{word}\"] = preproc_titles.apply(\n",
      "/tmp/ipykernel_234/4191214648.py:3: PerformanceWarning: DataFrame is highly fragmented.  This is usually the result of calling `frame.insert` many times, which has poor performance.  Consider joining all columns at once using pd.concat(axis=1) instead. To get a de-fragmented frame, use `newframe = frame.copy()`\n",
      "  pr_df[f\"title_wordcount_{word}\"] = preproc_titles.apply(\n",
      "/tmp/ipykernel_234/4191214648.py:3: PerformanceWarning: DataFrame is highly fragmented.  This is usually the result of calling `frame.insert` many times, which has poor performance.  Consider joining all columns at once using pd.concat(axis=1) instead. To get a de-fragmented frame, use `newframe = frame.copy()`\n",
      "  pr_df[f\"title_wordcount_{word}\"] = preproc_titles.apply(\n",
      "/tmp/ipykernel_234/4191214648.py:3: PerformanceWarning: DataFrame is highly fragmented.  This is usually the result of calling `frame.insert` many times, which has poor performance.  Consider joining all columns at once using pd.concat(axis=1) instead. To get a de-fragmented frame, use `newframe = frame.copy()`\n",
      "  pr_df[f\"title_wordcount_{word}\"] = preproc_titles.apply(\n",
      "/tmp/ipykernel_234/4191214648.py:3: PerformanceWarning: DataFrame is highly fragmented.  This is usually the result of calling `frame.insert` many times, which has poor performance.  Consider joining all columns at once using pd.concat(axis=1) instead. To get a de-fragmented frame, use `newframe = frame.copy()`\n",
      "  pr_df[f\"title_wordcount_{word}\"] = preproc_titles.apply(\n",
      "/tmp/ipykernel_234/4191214648.py:3: PerformanceWarning: DataFrame is highly fragmented.  This is usually the result of calling `frame.insert` many times, which has poor performance.  Consider joining all columns at once using pd.concat(axis=1) instead. To get a de-fragmented frame, use `newframe = frame.copy()`\n",
      "  pr_df[f\"title_wordcount_{word}\"] = preproc_titles.apply(\n",
      "/tmp/ipykernel_234/4191214648.py:3: PerformanceWarning: DataFrame is highly fragmented.  This is usually the result of calling `frame.insert` many times, which has poor performance.  Consider joining all columns at once using pd.concat(axis=1) instead. To get a de-fragmented frame, use `newframe = frame.copy()`\n",
      "  pr_df[f\"title_wordcount_{word}\"] = preproc_titles.apply(\n",
      "/tmp/ipykernel_234/4191214648.py:3: PerformanceWarning: DataFrame is highly fragmented.  This is usually the result of calling `frame.insert` many times, which has poor performance.  Consider joining all columns at once using pd.concat(axis=1) instead. To get a de-fragmented frame, use `newframe = frame.copy()`\n",
      "  pr_df[f\"title_wordcount_{word}\"] = preproc_titles.apply(\n",
      " 61%|██████    | 134/221 [00:00<00:00, 210.62it/s]/tmp/ipykernel_234/4191214648.py:3: PerformanceWarning: DataFrame is highly fragmented.  This is usually the result of calling `frame.insert` many times, which has poor performance.  Consider joining all columns at once using pd.concat(axis=1) instead. To get a de-fragmented frame, use `newframe = frame.copy()`\n",
      "  pr_df[f\"title_wordcount_{word}\"] = preproc_titles.apply(\n",
      "/tmp/ipykernel_234/4191214648.py:3: PerformanceWarning: DataFrame is highly fragmented.  This is usually the result of calling `frame.insert` many times, which has poor performance.  Consider joining all columns at once using pd.concat(axis=1) instead. To get a de-fragmented frame, use `newframe = frame.copy()`\n",
      "  pr_df[f\"title_wordcount_{word}\"] = preproc_titles.apply(\n",
      "/tmp/ipykernel_234/4191214648.py:3: PerformanceWarning: DataFrame is highly fragmented.  This is usually the result of calling `frame.insert` many times, which has poor performance.  Consider joining all columns at once using pd.concat(axis=1) instead. To get a de-fragmented frame, use `newframe = frame.copy()`\n",
      "  pr_df[f\"title_wordcount_{word}\"] = preproc_titles.apply(\n",
      "/tmp/ipykernel_234/4191214648.py:3: PerformanceWarning: DataFrame is highly fragmented.  This is usually the result of calling `frame.insert` many times, which has poor performance.  Consider joining all columns at once using pd.concat(axis=1) instead. To get a de-fragmented frame, use `newframe = frame.copy()`\n",
      "  pr_df[f\"title_wordcount_{word}\"] = preproc_titles.apply(\n",
      "/tmp/ipykernel_234/4191214648.py:3: PerformanceWarning: DataFrame is highly fragmented.  This is usually the result of calling `frame.insert` many times, which has poor performance.  Consider joining all columns at once using pd.concat(axis=1) instead. To get a de-fragmented frame, use `newframe = frame.copy()`\n",
      "  pr_df[f\"title_wordcount_{word}\"] = preproc_titles.apply(\n",
      "/tmp/ipykernel_234/4191214648.py:3: PerformanceWarning: DataFrame is highly fragmented.  This is usually the result of calling `frame.insert` many times, which has poor performance.  Consider joining all columns at once using pd.concat(axis=1) instead. To get a de-fragmented frame, use `newframe = frame.copy()`\n",
      "  pr_df[f\"title_wordcount_{word}\"] = preproc_titles.apply(\n",
      "/tmp/ipykernel_234/4191214648.py:3: PerformanceWarning: DataFrame is highly fragmented.  This is usually the result of calling `frame.insert` many times, which has poor performance.  Consider joining all columns at once using pd.concat(axis=1) instead. To get a de-fragmented frame, use `newframe = frame.copy()`\n",
      "  pr_df[f\"title_wordcount_{word}\"] = preproc_titles.apply(\n",
      "/tmp/ipykernel_234/4191214648.py:3: PerformanceWarning: DataFrame is highly fragmented.  This is usually the result of calling `frame.insert` many times, which has poor performance.  Consider joining all columns at once using pd.concat(axis=1) instead. To get a de-fragmented frame, use `newframe = frame.copy()`\n",
      "  pr_df[f\"title_wordcount_{word}\"] = preproc_titles.apply(\n",
      "/tmp/ipykernel_234/4191214648.py:3: PerformanceWarning: DataFrame is highly fragmented.  This is usually the result of calling `frame.insert` many times, which has poor performance.  Consider joining all columns at once using pd.concat(axis=1) instead. To get a de-fragmented frame, use `newframe = frame.copy()`\n",
      "  pr_df[f\"title_wordcount_{word}\"] = preproc_titles.apply(\n",
      "/tmp/ipykernel_234/4191214648.py:3: PerformanceWarning: DataFrame is highly fragmented.  This is usually the result of calling `frame.insert` many times, which has poor performance.  Consider joining all columns at once using pd.concat(axis=1) instead. To get a de-fragmented frame, use `newframe = frame.copy()`\n",
      "  pr_df[f\"title_wordcount_{word}\"] = preproc_titles.apply(\n",
      "/tmp/ipykernel_234/4191214648.py:3: PerformanceWarning: DataFrame is highly fragmented.  This is usually the result of calling `frame.insert` many times, which has poor performance.  Consider joining all columns at once using pd.concat(axis=1) instead. To get a de-fragmented frame, use `newframe = frame.copy()`\n",
      "  pr_df[f\"title_wordcount_{word}\"] = preproc_titles.apply(\n",
      "/tmp/ipykernel_234/4191214648.py:3: PerformanceWarning: DataFrame is highly fragmented.  This is usually the result of calling `frame.insert` many times, which has poor performance.  Consider joining all columns at once using pd.concat(axis=1) instead. To get a de-fragmented frame, use `newframe = frame.copy()`\n",
      "  pr_df[f\"title_wordcount_{word}\"] = preproc_titles.apply(\n",
      "/tmp/ipykernel_234/4191214648.py:3: PerformanceWarning: DataFrame is highly fragmented.  This is usually the result of calling `frame.insert` many times, which has poor performance.  Consider joining all columns at once using pd.concat(axis=1) instead. To get a de-fragmented frame, use `newframe = frame.copy()`\n",
      "  pr_df[f\"title_wordcount_{word}\"] = preproc_titles.apply(\n",
      "/tmp/ipykernel_234/4191214648.py:3: PerformanceWarning: DataFrame is highly fragmented.  This is usually the result of calling `frame.insert` many times, which has poor performance.  Consider joining all columns at once using pd.concat(axis=1) instead. To get a de-fragmented frame, use `newframe = frame.copy()`\n",
      "  pr_df[f\"title_wordcount_{word}\"] = preproc_titles.apply(\n",
      "/tmp/ipykernel_234/4191214648.py:3: PerformanceWarning: DataFrame is highly fragmented.  This is usually the result of calling `frame.insert` many times, which has poor performance.  Consider joining all columns at once using pd.concat(axis=1) instead. To get a de-fragmented frame, use `newframe = frame.copy()`\n",
      "  pr_df[f\"title_wordcount_{word}\"] = preproc_titles.apply(\n",
      "/tmp/ipykernel_234/4191214648.py:3: PerformanceWarning: DataFrame is highly fragmented.  This is usually the result of calling `frame.insert` many times, which has poor performance.  Consider joining all columns at once using pd.concat(axis=1) instead. To get a de-fragmented frame, use `newframe = frame.copy()`\n",
      "  pr_df[f\"title_wordcount_{word}\"] = preproc_titles.apply(\n",
      "/tmp/ipykernel_234/4191214648.py:3: PerformanceWarning: DataFrame is highly fragmented.  This is usually the result of calling `frame.insert` many times, which has poor performance.  Consider joining all columns at once using pd.concat(axis=1) instead. To get a de-fragmented frame, use `newframe = frame.copy()`\n",
      "  pr_df[f\"title_wordcount_{word}\"] = preproc_titles.apply(\n",
      "/tmp/ipykernel_234/4191214648.py:3: PerformanceWarning: DataFrame is highly fragmented.  This is usually the result of calling `frame.insert` many times, which has poor performance.  Consider joining all columns at once using pd.concat(axis=1) instead. To get a de-fragmented frame, use `newframe = frame.copy()`\n",
      "  pr_df[f\"title_wordcount_{word}\"] = preproc_titles.apply(\n",
      "/tmp/ipykernel_234/4191214648.py:3: PerformanceWarning: DataFrame is highly fragmented.  This is usually the result of calling `frame.insert` many times, which has poor performance.  Consider joining all columns at once using pd.concat(axis=1) instead. To get a de-fragmented frame, use `newframe = frame.copy()`\n",
      "  pr_df[f\"title_wordcount_{word}\"] = preproc_titles.apply(\n",
      "/tmp/ipykernel_234/4191214648.py:3: PerformanceWarning: DataFrame is highly fragmented.  This is usually the result of calling `frame.insert` many times, which has poor performance.  Consider joining all columns at once using pd.concat(axis=1) instead. To get a de-fragmented frame, use `newframe = frame.copy()`\n",
      "  pr_df[f\"title_wordcount_{word}\"] = preproc_titles.apply(\n",
      "/tmp/ipykernel_234/4191214648.py:3: PerformanceWarning: DataFrame is highly fragmented.  This is usually the result of calling `frame.insert` many times, which has poor performance.  Consider joining all columns at once using pd.concat(axis=1) instead. To get a de-fragmented frame, use `newframe = frame.copy()`\n",
      "  pr_df[f\"title_wordcount_{word}\"] = preproc_titles.apply(\n",
      "/tmp/ipykernel_234/4191214648.py:3: PerformanceWarning: DataFrame is highly fragmented.  This is usually the result of calling `frame.insert` many times, which has poor performance.  Consider joining all columns at once using pd.concat(axis=1) instead. To get a de-fragmented frame, use `newframe = frame.copy()`\n",
      "  pr_df[f\"title_wordcount_{word}\"] = preproc_titles.apply(\n",
      "/tmp/ipykernel_234/4191214648.py:3: PerformanceWarning: DataFrame is highly fragmented.  This is usually the result of calling `frame.insert` many times, which has poor performance.  Consider joining all columns at once using pd.concat(axis=1) instead. To get a de-fragmented frame, use `newframe = frame.copy()`\n",
      "  pr_df[f\"title_wordcount_{word}\"] = preproc_titles.apply(\n",
      " 71%|███████   | 157/221 [00:00<00:00, 177.49it/s]/tmp/ipykernel_234/4191214648.py:3: PerformanceWarning: DataFrame is highly fragmented.  This is usually the result of calling `frame.insert` many times, which has poor performance.  Consider joining all columns at once using pd.concat(axis=1) instead. To get a de-fragmented frame, use `newframe = frame.copy()`\n",
      "  pr_df[f\"title_wordcount_{word}\"] = preproc_titles.apply(\n",
      "/tmp/ipykernel_234/4191214648.py:3: PerformanceWarning: DataFrame is highly fragmented.  This is usually the result of calling `frame.insert` many times, which has poor performance.  Consider joining all columns at once using pd.concat(axis=1) instead. To get a de-fragmented frame, use `newframe = frame.copy()`\n",
      "  pr_df[f\"title_wordcount_{word}\"] = preproc_titles.apply(\n",
      "/tmp/ipykernel_234/4191214648.py:3: PerformanceWarning: DataFrame is highly fragmented.  This is usually the result of calling `frame.insert` many times, which has poor performance.  Consider joining all columns at once using pd.concat(axis=1) instead. To get a de-fragmented frame, use `newframe = frame.copy()`\n",
      "  pr_df[f\"title_wordcount_{word}\"] = preproc_titles.apply(\n",
      "/tmp/ipykernel_234/4191214648.py:3: PerformanceWarning: DataFrame is highly fragmented.  This is usually the result of calling `frame.insert` many times, which has poor performance.  Consider joining all columns at once using pd.concat(axis=1) instead. To get a de-fragmented frame, use `newframe = frame.copy()`\n",
      "  pr_df[f\"title_wordcount_{word}\"] = preproc_titles.apply(\n",
      "/tmp/ipykernel_234/4191214648.py:3: PerformanceWarning: DataFrame is highly fragmented.  This is usually the result of calling `frame.insert` many times, which has poor performance.  Consider joining all columns at once using pd.concat(axis=1) instead. To get a de-fragmented frame, use `newframe = frame.copy()`\n",
      "  pr_df[f\"title_wordcount_{word}\"] = preproc_titles.apply(\n",
      "/tmp/ipykernel_234/4191214648.py:3: PerformanceWarning: DataFrame is highly fragmented.  This is usually the result of calling `frame.insert` many times, which has poor performance.  Consider joining all columns at once using pd.concat(axis=1) instead. To get a de-fragmented frame, use `newframe = frame.copy()`\n",
      "  pr_df[f\"title_wordcount_{word}\"] = preproc_titles.apply(\n",
      "/tmp/ipykernel_234/4191214648.py:3: PerformanceWarning: DataFrame is highly fragmented.  This is usually the result of calling `frame.insert` many times, which has poor performance.  Consider joining all columns at once using pd.concat(axis=1) instead. To get a de-fragmented frame, use `newframe = frame.copy()`\n",
      "  pr_df[f\"title_wordcount_{word}\"] = preproc_titles.apply(\n",
      "/tmp/ipykernel_234/4191214648.py:3: PerformanceWarning: DataFrame is highly fragmented.  This is usually the result of calling `frame.insert` many times, which has poor performance.  Consider joining all columns at once using pd.concat(axis=1) instead. To get a de-fragmented frame, use `newframe = frame.copy()`\n",
      "  pr_df[f\"title_wordcount_{word}\"] = preproc_titles.apply(\n",
      "/tmp/ipykernel_234/4191214648.py:3: PerformanceWarning: DataFrame is highly fragmented.  This is usually the result of calling `frame.insert` many times, which has poor performance.  Consider joining all columns at once using pd.concat(axis=1) instead. To get a de-fragmented frame, use `newframe = frame.copy()`\n",
      "  pr_df[f\"title_wordcount_{word}\"] = preproc_titles.apply(\n",
      "/tmp/ipykernel_234/4191214648.py:3: PerformanceWarning: DataFrame is highly fragmented.  This is usually the result of calling `frame.insert` many times, which has poor performance.  Consider joining all columns at once using pd.concat(axis=1) instead. To get a de-fragmented frame, use `newframe = frame.copy()`\n",
      "  pr_df[f\"title_wordcount_{word}\"] = preproc_titles.apply(\n",
      "/tmp/ipykernel_234/4191214648.py:3: PerformanceWarning: DataFrame is highly fragmented.  This is usually the result of calling `frame.insert` many times, which has poor performance.  Consider joining all columns at once using pd.concat(axis=1) instead. To get a de-fragmented frame, use `newframe = frame.copy()`\n",
      "  pr_df[f\"title_wordcount_{word}\"] = preproc_titles.apply(\n",
      "/tmp/ipykernel_234/4191214648.py:3: PerformanceWarning: DataFrame is highly fragmented.  This is usually the result of calling `frame.insert` many times, which has poor performance.  Consider joining all columns at once using pd.concat(axis=1) instead. To get a de-fragmented frame, use `newframe = frame.copy()`\n",
      "  pr_df[f\"title_wordcount_{word}\"] = preproc_titles.apply(\n",
      "/tmp/ipykernel_234/4191214648.py:3: PerformanceWarning: DataFrame is highly fragmented.  This is usually the result of calling `frame.insert` many times, which has poor performance.  Consider joining all columns at once using pd.concat(axis=1) instead. To get a de-fragmented frame, use `newframe = frame.copy()`\n",
      "  pr_df[f\"title_wordcount_{word}\"] = preproc_titles.apply(\n",
      "/tmp/ipykernel_234/4191214648.py:3: PerformanceWarning: DataFrame is highly fragmented.  This is usually the result of calling `frame.insert` many times, which has poor performance.  Consider joining all columns at once using pd.concat(axis=1) instead. To get a de-fragmented frame, use `newframe = frame.copy()`\n",
      "  pr_df[f\"title_wordcount_{word}\"] = preproc_titles.apply(\n",
      "/tmp/ipykernel_234/4191214648.py:3: PerformanceWarning: DataFrame is highly fragmented.  This is usually the result of calling `frame.insert` many times, which has poor performance.  Consider joining all columns at once using pd.concat(axis=1) instead. To get a de-fragmented frame, use `newframe = frame.copy()`\n",
      "  pr_df[f\"title_wordcount_{word}\"] = preproc_titles.apply(\n",
      "/tmp/ipykernel_234/4191214648.py:3: PerformanceWarning: DataFrame is highly fragmented.  This is usually the result of calling `frame.insert` many times, which has poor performance.  Consider joining all columns at once using pd.concat(axis=1) instead. To get a de-fragmented frame, use `newframe = frame.copy()`\n",
      "  pr_df[f\"title_wordcount_{word}\"] = preproc_titles.apply(\n",
      "/tmp/ipykernel_234/4191214648.py:3: PerformanceWarning: DataFrame is highly fragmented.  This is usually the result of calling `frame.insert` many times, which has poor performance.  Consider joining all columns at once using pd.concat(axis=1) instead. To get a de-fragmented frame, use `newframe = frame.copy()`\n",
      "  pr_df[f\"title_wordcount_{word}\"] = preproc_titles.apply(\n",
      "/tmp/ipykernel_234/4191214648.py:3: PerformanceWarning: DataFrame is highly fragmented.  This is usually the result of calling `frame.insert` many times, which has poor performance.  Consider joining all columns at once using pd.concat(axis=1) instead. To get a de-fragmented frame, use `newframe = frame.copy()`\n",
      "  pr_df[f\"title_wordcount_{word}\"] = preproc_titles.apply(\n",
      " 79%|███████▉  | 175/221 [00:00<00:00, 159.24it/s]/tmp/ipykernel_234/4191214648.py:3: PerformanceWarning: DataFrame is highly fragmented.  This is usually the result of calling `frame.insert` many times, which has poor performance.  Consider joining all columns at once using pd.concat(axis=1) instead. To get a de-fragmented frame, use `newframe = frame.copy()`\n",
      "  pr_df[f\"title_wordcount_{word}\"] = preproc_titles.apply(\n",
      "/tmp/ipykernel_234/4191214648.py:3: PerformanceWarning: DataFrame is highly fragmented.  This is usually the result of calling `frame.insert` many times, which has poor performance.  Consider joining all columns at once using pd.concat(axis=1) instead. To get a de-fragmented frame, use `newframe = frame.copy()`\n",
      "  pr_df[f\"title_wordcount_{word}\"] = preproc_titles.apply(\n",
      "/tmp/ipykernel_234/4191214648.py:3: PerformanceWarning: DataFrame is highly fragmented.  This is usually the result of calling `frame.insert` many times, which has poor performance.  Consider joining all columns at once using pd.concat(axis=1) instead. To get a de-fragmented frame, use `newframe = frame.copy()`\n",
      "  pr_df[f\"title_wordcount_{word}\"] = preproc_titles.apply(\n",
      "/tmp/ipykernel_234/4191214648.py:3: PerformanceWarning: DataFrame is highly fragmented.  This is usually the result of calling `frame.insert` many times, which has poor performance.  Consider joining all columns at once using pd.concat(axis=1) instead. To get a de-fragmented frame, use `newframe = frame.copy()`\n",
      "  pr_df[f\"title_wordcount_{word}\"] = preproc_titles.apply(\n",
      "/tmp/ipykernel_234/4191214648.py:3: PerformanceWarning: DataFrame is highly fragmented.  This is usually the result of calling `frame.insert` many times, which has poor performance.  Consider joining all columns at once using pd.concat(axis=1) instead. To get a de-fragmented frame, use `newframe = frame.copy()`\n",
      "  pr_df[f\"title_wordcount_{word}\"] = preproc_titles.apply(\n",
      "/tmp/ipykernel_234/4191214648.py:3: PerformanceWarning: DataFrame is highly fragmented.  This is usually the result of calling `frame.insert` many times, which has poor performance.  Consider joining all columns at once using pd.concat(axis=1) instead. To get a de-fragmented frame, use `newframe = frame.copy()`\n",
      "  pr_df[f\"title_wordcount_{word}\"] = preproc_titles.apply(\n",
      "/tmp/ipykernel_234/4191214648.py:3: PerformanceWarning: DataFrame is highly fragmented.  This is usually the result of calling `frame.insert` many times, which has poor performance.  Consider joining all columns at once using pd.concat(axis=1) instead. To get a de-fragmented frame, use `newframe = frame.copy()`\n",
      "  pr_df[f\"title_wordcount_{word}\"] = preproc_titles.apply(\n",
      "/tmp/ipykernel_234/4191214648.py:3: PerformanceWarning: DataFrame is highly fragmented.  This is usually the result of calling `frame.insert` many times, which has poor performance.  Consider joining all columns at once using pd.concat(axis=1) instead. To get a de-fragmented frame, use `newframe = frame.copy()`\n",
      "  pr_df[f\"title_wordcount_{word}\"] = preproc_titles.apply(\n",
      "/tmp/ipykernel_234/4191214648.py:3: PerformanceWarning: DataFrame is highly fragmented.  This is usually the result of calling `frame.insert` many times, which has poor performance.  Consider joining all columns at once using pd.concat(axis=1) instead. To get a de-fragmented frame, use `newframe = frame.copy()`\n",
      "  pr_df[f\"title_wordcount_{word}\"] = preproc_titles.apply(\n",
      "/tmp/ipykernel_234/4191214648.py:3: PerformanceWarning: DataFrame is highly fragmented.  This is usually the result of calling `frame.insert` many times, which has poor performance.  Consider joining all columns at once using pd.concat(axis=1) instead. To get a de-fragmented frame, use `newframe = frame.copy()`\n",
      "  pr_df[f\"title_wordcount_{word}\"] = preproc_titles.apply(\n",
      "/tmp/ipykernel_234/4191214648.py:3: PerformanceWarning: DataFrame is highly fragmented.  This is usually the result of calling `frame.insert` many times, which has poor performance.  Consider joining all columns at once using pd.concat(axis=1) instead. To get a de-fragmented frame, use `newframe = frame.copy()`\n",
      "  pr_df[f\"title_wordcount_{word}\"] = preproc_titles.apply(\n",
      "/tmp/ipykernel_234/4191214648.py:3: PerformanceWarning: DataFrame is highly fragmented.  This is usually the result of calling `frame.insert` many times, which has poor performance.  Consider joining all columns at once using pd.concat(axis=1) instead. To get a de-fragmented frame, use `newframe = frame.copy()`\n",
      "  pr_df[f\"title_wordcount_{word}\"] = preproc_titles.apply(\n",
      "/tmp/ipykernel_234/4191214648.py:3: PerformanceWarning: DataFrame is highly fragmented.  This is usually the result of calling `frame.insert` many times, which has poor performance.  Consider joining all columns at once using pd.concat(axis=1) instead. To get a de-fragmented frame, use `newframe = frame.copy()`\n",
      "  pr_df[f\"title_wordcount_{word}\"] = preproc_titles.apply(\n",
      "/tmp/ipykernel_234/4191214648.py:3: PerformanceWarning: DataFrame is highly fragmented.  This is usually the result of calling `frame.insert` many times, which has poor performance.  Consider joining all columns at once using pd.concat(axis=1) instead. To get a de-fragmented frame, use `newframe = frame.copy()`\n",
      "  pr_df[f\"title_wordcount_{word}\"] = preproc_titles.apply(\n",
      "/tmp/ipykernel_234/4191214648.py:3: PerformanceWarning: DataFrame is highly fragmented.  This is usually the result of calling `frame.insert` many times, which has poor performance.  Consider joining all columns at once using pd.concat(axis=1) instead. To get a de-fragmented frame, use `newframe = frame.copy()`\n",
      "  pr_df[f\"title_wordcount_{word}\"] = preproc_titles.apply(\n",
      "/tmp/ipykernel_234/4191214648.py:3: PerformanceWarning: DataFrame is highly fragmented.  This is usually the result of calling `frame.insert` many times, which has poor performance.  Consider joining all columns at once using pd.concat(axis=1) instead. To get a de-fragmented frame, use `newframe = frame.copy()`\n",
      "  pr_df[f\"title_wordcount_{word}\"] = preproc_titles.apply(\n",
      " 86%|████████▋ | 191/221 [00:01<00:00, 147.64it/s]/tmp/ipykernel_234/4191214648.py:3: PerformanceWarning: DataFrame is highly fragmented.  This is usually the result of calling `frame.insert` many times, which has poor performance.  Consider joining all columns at once using pd.concat(axis=1) instead. To get a de-fragmented frame, use `newframe = frame.copy()`\n",
      "  pr_df[f\"title_wordcount_{word}\"] = preproc_titles.apply(\n",
      "/tmp/ipykernel_234/4191214648.py:3: PerformanceWarning: DataFrame is highly fragmented.  This is usually the result of calling `frame.insert` many times, which has poor performance.  Consider joining all columns at once using pd.concat(axis=1) instead. To get a de-fragmented frame, use `newframe = frame.copy()`\n",
      "  pr_df[f\"title_wordcount_{word}\"] = preproc_titles.apply(\n",
      "/tmp/ipykernel_234/4191214648.py:3: PerformanceWarning: DataFrame is highly fragmented.  This is usually the result of calling `frame.insert` many times, which has poor performance.  Consider joining all columns at once using pd.concat(axis=1) instead. To get a de-fragmented frame, use `newframe = frame.copy()`\n",
      "  pr_df[f\"title_wordcount_{word}\"] = preproc_titles.apply(\n",
      "/tmp/ipykernel_234/4191214648.py:3: PerformanceWarning: DataFrame is highly fragmented.  This is usually the result of calling `frame.insert` many times, which has poor performance.  Consider joining all columns at once using pd.concat(axis=1) instead. To get a de-fragmented frame, use `newframe = frame.copy()`\n",
      "  pr_df[f\"title_wordcount_{word}\"] = preproc_titles.apply(\n",
      "/tmp/ipykernel_234/4191214648.py:3: PerformanceWarning: DataFrame is highly fragmented.  This is usually the result of calling `frame.insert` many times, which has poor performance.  Consider joining all columns at once using pd.concat(axis=1) instead. To get a de-fragmented frame, use `newframe = frame.copy()`\n",
      "  pr_df[f\"title_wordcount_{word}\"] = preproc_titles.apply(\n",
      "/tmp/ipykernel_234/4191214648.py:3: PerformanceWarning: DataFrame is highly fragmented.  This is usually the result of calling `frame.insert` many times, which has poor performance.  Consider joining all columns at once using pd.concat(axis=1) instead. To get a de-fragmented frame, use `newframe = frame.copy()`\n",
      "  pr_df[f\"title_wordcount_{word}\"] = preproc_titles.apply(\n",
      "/tmp/ipykernel_234/4191214648.py:3: PerformanceWarning: DataFrame is highly fragmented.  This is usually the result of calling `frame.insert` many times, which has poor performance.  Consider joining all columns at once using pd.concat(axis=1) instead. To get a de-fragmented frame, use `newframe = frame.copy()`\n",
      "  pr_df[f\"title_wordcount_{word}\"] = preproc_titles.apply(\n",
      "/tmp/ipykernel_234/4191214648.py:3: PerformanceWarning: DataFrame is highly fragmented.  This is usually the result of calling `frame.insert` many times, which has poor performance.  Consider joining all columns at once using pd.concat(axis=1) instead. To get a de-fragmented frame, use `newframe = frame.copy()`\n",
      "  pr_df[f\"title_wordcount_{word}\"] = preproc_titles.apply(\n",
      "/tmp/ipykernel_234/4191214648.py:3: PerformanceWarning: DataFrame is highly fragmented.  This is usually the result of calling `frame.insert` many times, which has poor performance.  Consider joining all columns at once using pd.concat(axis=1) instead. To get a de-fragmented frame, use `newframe = frame.copy()`\n",
      "  pr_df[f\"title_wordcount_{word}\"] = preproc_titles.apply(\n",
      "/tmp/ipykernel_234/4191214648.py:3: PerformanceWarning: DataFrame is highly fragmented.  This is usually the result of calling `frame.insert` many times, which has poor performance.  Consider joining all columns at once using pd.concat(axis=1) instead. To get a de-fragmented frame, use `newframe = frame.copy()`\n",
      "  pr_df[f\"title_wordcount_{word}\"] = preproc_titles.apply(\n",
      "/tmp/ipykernel_234/4191214648.py:3: PerformanceWarning: DataFrame is highly fragmented.  This is usually the result of calling `frame.insert` many times, which has poor performance.  Consider joining all columns at once using pd.concat(axis=1) instead. To get a de-fragmented frame, use `newframe = frame.copy()`\n",
      "  pr_df[f\"title_wordcount_{word}\"] = preproc_titles.apply(\n",
      "/tmp/ipykernel_234/4191214648.py:3: PerformanceWarning: DataFrame is highly fragmented.  This is usually the result of calling `frame.insert` many times, which has poor performance.  Consider joining all columns at once using pd.concat(axis=1) instead. To get a de-fragmented frame, use `newframe = frame.copy()`\n",
      "  pr_df[f\"title_wordcount_{word}\"] = preproc_titles.apply(\n",
      "/tmp/ipykernel_234/4191214648.py:3: PerformanceWarning: DataFrame is highly fragmented.  This is usually the result of calling `frame.insert` many times, which has poor performance.  Consider joining all columns at once using pd.concat(axis=1) instead. To get a de-fragmented frame, use `newframe = frame.copy()`\n",
      "  pr_df[f\"title_wordcount_{word}\"] = preproc_titles.apply(\n",
      "/tmp/ipykernel_234/4191214648.py:3: PerformanceWarning: DataFrame is highly fragmented.  This is usually the result of calling `frame.insert` many times, which has poor performance.  Consider joining all columns at once using pd.concat(axis=1) instead. To get a de-fragmented frame, use `newframe = frame.copy()`\n",
      "  pr_df[f\"title_wordcount_{word}\"] = preproc_titles.apply(\n",
      " 93%|█████████▎| 205/221 [00:01<00:00, 115.29it/s]/tmp/ipykernel_234/4191214648.py:3: PerformanceWarning: DataFrame is highly fragmented.  This is usually the result of calling `frame.insert` many times, which has poor performance.  Consider joining all columns at once using pd.concat(axis=1) instead. To get a de-fragmented frame, use `newframe = frame.copy()`\n",
      "  pr_df[f\"title_wordcount_{word}\"] = preproc_titles.apply(\n",
      "/tmp/ipykernel_234/4191214648.py:3: PerformanceWarning: DataFrame is highly fragmented.  This is usually the result of calling `frame.insert` many times, which has poor performance.  Consider joining all columns at once using pd.concat(axis=1) instead. To get a de-fragmented frame, use `newframe = frame.copy()`\n",
      "  pr_df[f\"title_wordcount_{word}\"] = preproc_titles.apply(\n",
      "/tmp/ipykernel_234/4191214648.py:3: PerformanceWarning: DataFrame is highly fragmented.  This is usually the result of calling `frame.insert` many times, which has poor performance.  Consider joining all columns at once using pd.concat(axis=1) instead. To get a de-fragmented frame, use `newframe = frame.copy()`\n",
      "  pr_df[f\"title_wordcount_{word}\"] = preproc_titles.apply(\n",
      "/tmp/ipykernel_234/4191214648.py:3: PerformanceWarning: DataFrame is highly fragmented.  This is usually the result of calling `frame.insert` many times, which has poor performance.  Consider joining all columns at once using pd.concat(axis=1) instead. To get a de-fragmented frame, use `newframe = frame.copy()`\n",
      "  pr_df[f\"title_wordcount_{word}\"] = preproc_titles.apply(\n",
      "/tmp/ipykernel_234/4191214648.py:3: PerformanceWarning: DataFrame is highly fragmented.  This is usually the result of calling `frame.insert` many times, which has poor performance.  Consider joining all columns at once using pd.concat(axis=1) instead. To get a de-fragmented frame, use `newframe = frame.copy()`\n",
      "  pr_df[f\"title_wordcount_{word}\"] = preproc_titles.apply(\n",
      "/tmp/ipykernel_234/4191214648.py:3: PerformanceWarning: DataFrame is highly fragmented.  This is usually the result of calling `frame.insert` many times, which has poor performance.  Consider joining all columns at once using pd.concat(axis=1) instead. To get a de-fragmented frame, use `newframe = frame.copy()`\n",
      "  pr_df[f\"title_wordcount_{word}\"] = preproc_titles.apply(\n",
      "/tmp/ipykernel_234/4191214648.py:3: PerformanceWarning: DataFrame is highly fragmented.  This is usually the result of calling `frame.insert` many times, which has poor performance.  Consider joining all columns at once using pd.concat(axis=1) instead. To get a de-fragmented frame, use `newframe = frame.copy()`\n",
      "  pr_df[f\"title_wordcount_{word}\"] = preproc_titles.apply(\n",
      "/tmp/ipykernel_234/4191214648.py:3: PerformanceWarning: DataFrame is highly fragmented.  This is usually the result of calling `frame.insert` many times, which has poor performance.  Consider joining all columns at once using pd.concat(axis=1) instead. To get a de-fragmented frame, use `newframe = frame.copy()`\n",
      "  pr_df[f\"title_wordcount_{word}\"] = preproc_titles.apply(\n",
      "/tmp/ipykernel_234/4191214648.py:3: PerformanceWarning: DataFrame is highly fragmented.  This is usually the result of calling `frame.insert` many times, which has poor performance.  Consider joining all columns at once using pd.concat(axis=1) instead. To get a de-fragmented frame, use `newframe = frame.copy()`\n",
      "  pr_df[f\"title_wordcount_{word}\"] = preproc_titles.apply(\n",
      "/tmp/ipykernel_234/4191214648.py:3: PerformanceWarning: DataFrame is highly fragmented.  This is usually the result of calling `frame.insert` many times, which has poor performance.  Consider joining all columns at once using pd.concat(axis=1) instead. To get a de-fragmented frame, use `newframe = frame.copy()`\n",
      "  pr_df[f\"title_wordcount_{word}\"] = preproc_titles.apply(\n",
      "/tmp/ipykernel_234/4191214648.py:3: PerformanceWarning: DataFrame is highly fragmented.  This is usually the result of calling `frame.insert` many times, which has poor performance.  Consider joining all columns at once using pd.concat(axis=1) instead. To get a de-fragmented frame, use `newframe = frame.copy()`\n",
      "  pr_df[f\"title_wordcount_{word}\"] = preproc_titles.apply(\n",
      "/tmp/ipykernel_234/4191214648.py:3: PerformanceWarning: DataFrame is highly fragmented.  This is usually the result of calling `frame.insert` many times, which has poor performance.  Consider joining all columns at once using pd.concat(axis=1) instead. To get a de-fragmented frame, use `newframe = frame.copy()`\n",
      "  pr_df[f\"title_wordcount_{word}\"] = preproc_titles.apply(\n",
      " 98%|█████████▊| 217/221 [00:01<00:00, 115.69it/s]/tmp/ipykernel_234/4191214648.py:3: PerformanceWarning: DataFrame is highly fragmented.  This is usually the result of calling `frame.insert` many times, which has poor performance.  Consider joining all columns at once using pd.concat(axis=1) instead. To get a de-fragmented frame, use `newframe = frame.copy()`\n",
      "  pr_df[f\"title_wordcount_{word}\"] = preproc_titles.apply(\n",
      "/tmp/ipykernel_234/4191214648.py:3: PerformanceWarning: DataFrame is highly fragmented.  This is usually the result of calling `frame.insert` many times, which has poor performance.  Consider joining all columns at once using pd.concat(axis=1) instead. To get a de-fragmented frame, use `newframe = frame.copy()`\n",
      "  pr_df[f\"title_wordcount_{word}\"] = preproc_titles.apply(\n",
      "/tmp/ipykernel_234/4191214648.py:3: PerformanceWarning: DataFrame is highly fragmented.  This is usually the result of calling `frame.insert` many times, which has poor performance.  Consider joining all columns at once using pd.concat(axis=1) instead. To get a de-fragmented frame, use `newframe = frame.copy()`\n",
      "  pr_df[f\"title_wordcount_{word}\"] = preproc_titles.apply(\n",
      "/tmp/ipykernel_234/4191214648.py:3: PerformanceWarning: DataFrame is highly fragmented.  This is usually the result of calling `frame.insert` many times, which has poor performance.  Consider joining all columns at once using pd.concat(axis=1) instead. To get a de-fragmented frame, use `newframe = frame.copy()`\n",
      "  pr_df[f\"title_wordcount_{word}\"] = preproc_titles.apply(\n",
      "100%|██████████| 221/221 [00:01<00:00, 155.22it/s]\n"
     ]
    }
   ],
   "source": [
    "# add word count columns\n",
    "for word in tqdm(unique_words):\n",
    "    pr_df[f\"title_wordcount_{word}\"] = preproc_titles.apply(\n",
    "        lambda x: x.split().count(word)\n",
    "    )"
   ]
  },
  {
   "cell_type": "code",
   "execution_count": 24,
   "id": "41cf9f16",
   "metadata": {
    "execution": {
     "iopub.execute_input": "2022-11-02T17:21:30.826051Z",
     "iopub.status.busy": "2022-11-02T17:21:30.825737Z",
     "iopub.status.idle": "2022-11-02T17:21:30.839098Z",
     "shell.execute_reply": "2022-11-02T17:21:30.837981Z"
    }
   },
   "outputs": [],
   "source": [
    "# collapse the high dim vector into one column\n",
    "wordcount_columns = [c for c in pr_df.columns if \"wordcount\" in c]\n",
    "pr_df[\"title_word_counts_vec\"] = pr_df[wordcount_columns].apply(\n",
    "    lambda x: x.tolist(), axis=1\n",
    ")\n",
    "\n",
    "# drop the individual wordcount columns\n",
    "pr_df = pr_df.drop(columns=wordcount_columns)"
   ]
  },
  {
   "cell_type": "markdown",
   "id": "06f46edc",
   "metadata": {},
   "source": [
    "**Created At**\n",
    "\n",
    "This column can give us information on when the PR was created. Using the `created_at` field, we can derive other features like `time_of_day`, `day_of_week`, `day_of_month`, `month_in_year` each of which can be categorical features that can be useful to our analysis."
   ]
  },
  {
   "cell_type": "code",
   "execution_count": 25,
   "id": "b6db783b",
   "metadata": {
    "execution": {
     "iopub.execute_input": "2022-11-02T17:21:30.843483Z",
     "iopub.status.busy": "2022-11-02T17:21:30.842846Z",
     "iopub.status.idle": "2022-11-02T17:21:30.853821Z",
     "shell.execute_reply": "2022-11-02T17:21:30.853016Z"
    }
   },
   "outputs": [],
   "source": [
    "# convert to datetime object\n",
    "pr_df[\"created_at_datetime\"] = (\n",
    "    pr_df[\"created_at\"].fillna(\"\").apply(lambda x: datetime.datetime.fromtimestamp(x))\n",
    ")\n",
    "# get day as categorical variable\n",
    "pr_df[\"created_at_day\"] = pr_df[\"created_at_datetime\"].apply(lambda x: x.day)\n",
    "\n",
    "# get month as categorical variable\n",
    "pr_df[\"created_at_month\"] = pr_df[\"created_at_datetime\"].apply(lambda x: x.month)\n",
    "\n",
    "# get weekday as categorical variable\n",
    "pr_df[\"created_at_weekday\"] = pr_df[\"created_at_datetime\"].apply(lambda x: x.weekday())\n",
    "\n",
    "# get hour of day as categorical variable\n",
    "pr_df[\"created_at_hour\"] = pr_df[\"created_at_datetime\"].apply(lambda x: x.hour)"
   ]
  },
  {
   "cell_type": "code",
   "execution_count": 26,
   "id": "f6cb1704",
   "metadata": {
    "execution": {
     "iopub.execute_input": "2022-11-02T17:21:30.857135Z",
     "iopub.status.busy": "2022-11-02T17:21:30.856891Z",
     "iopub.status.idle": "2022-11-02T17:21:30.879783Z",
     "shell.execute_reply": "2022-11-02T17:21:30.878887Z"
    }
   },
   "outputs": [
    {
     "data": {
      "text/html": [
       "<div>\n",
       "<style scoped>\n",
       "    .dataframe tbody tr th:only-of-type {\n",
       "        vertical-align: middle;\n",
       "    }\n",
       "\n",
       "    .dataframe tbody tr th {\n",
       "        vertical-align: top;\n",
       "    }\n",
       "\n",
       "    .dataframe thead th {\n",
       "        text-align: right;\n",
       "    }\n",
       "</style>\n",
       "<table border=\"1\" class=\"dataframe\">\n",
       "  <thead>\n",
       "    <tr style=\"text-align: right;\">\n",
       "      <th></th>\n",
       "      <th>title</th>\n",
       "      <th>body</th>\n",
       "      <th>size</th>\n",
       "      <th>created_by</th>\n",
       "      <th>created_at</th>\n",
       "      <th>closed_at</th>\n",
       "      <th>closed_by</th>\n",
       "      <th>merged_at</th>\n",
       "      <th>merged_by</th>\n",
       "      <th>commits_number</th>\n",
       "      <th>...</th>\n",
       "      <th>first_approve_at</th>\n",
       "      <th>id</th>\n",
       "      <th>time_to_merge</th>\n",
       "      <th>body_size</th>\n",
       "      <th>title_word_counts_vec</th>\n",
       "      <th>created_at_datetime</th>\n",
       "      <th>created_at_day</th>\n",
       "      <th>created_at_month</th>\n",
       "      <th>created_at_weekday</th>\n",
       "      <th>created_at_hour</th>\n",
       "    </tr>\n",
       "  </thead>\n",
       "  <tbody>\n",
       "    <tr>\n",
       "      <th>0</th>\n",
       "      <td>Update the repository for creating access issues</td>\n",
       "      <td>Signed-off-by: Shrey &lt;shanand@redhat.com&gt;</td>\n",
       "      <td>0</td>\n",
       "      <td>Shreyanand</td>\n",
       "      <td>1667406781</td>\n",
       "      <td>NaN</td>\n",
       "      <td>None</td>\n",
       "      <td>NaN</td>\n",
       "      <td>None</td>\n",
       "      <td>1</td>\n",
       "      <td>...</td>\n",
       "      <td>NaN</td>\n",
       "      <td>227</td>\n",
       "      <td>NaN</td>\n",
       "      <td>3</td>\n",
       "      <td>[0, 1, 0, 0, 0, 0, 0, 0, 0, 0, 0, 0, 0, 0, 0, ...</td>\n",
       "      <td>2022-11-02 16:33:01</td>\n",
       "      <td>2</td>\n",
       "      <td>11</td>\n",
       "      <td>2</td>\n",
       "      <td>16</td>\n",
       "    </tr>\n",
       "    <tr>\n",
       "      <th>1</th>\n",
       "      <td>Changed the environment variable name to origi...</td>\n",
       "      <td>[Here](https://github.com/os-climate/aicoe-osc...</td>\n",
       "      <td>2</td>\n",
       "      <td>suppathak</td>\n",
       "      <td>1667228783</td>\n",
       "      <td>1.667242e+09</td>\n",
       "      <td>sesheta</td>\n",
       "      <td>1.667242e+09</td>\n",
       "      <td>sesheta</td>\n",
       "      <td>1</td>\n",
       "      <td>...</td>\n",
       "      <td>NaN</td>\n",
       "      <td>225</td>\n",
       "      <td>13666.0</td>\n",
       "      <td>40</td>\n",
       "      <td>[0, 0, 0, 0, 0, 0, 0, 0, 0, 0, 0, 0, 0, 0, 0, ...</td>\n",
       "      <td>2022-10-31 15:06:23</td>\n",
       "      <td>31</td>\n",
       "      <td>10</td>\n",
       "      <td>0</td>\n",
       "      <td>15</td>\n",
       "    </tr>\n",
       "  </tbody>\n",
       "</table>\n",
       "<p>2 rows × 27 columns</p>\n",
       "</div>"
      ],
      "text/plain": [
       "                                               title  \\\n",
       "0   Update the repository for creating access issues   \n",
       "1  Changed the environment variable name to origi...   \n",
       "\n",
       "                                                body  size  created_by  \\\n",
       "0          Signed-off-by: Shrey <shanand@redhat.com>     0  Shreyanand   \n",
       "1  [Here](https://github.com/os-climate/aicoe-osc...     2   suppathak   \n",
       "\n",
       "   created_at     closed_at closed_by     merged_at merged_by  commits_number  \\\n",
       "0  1667406781           NaN      None           NaN      None               1   \n",
       "1  1667228783  1.667242e+09   sesheta  1.667242e+09   sesheta               1   \n",
       "\n",
       "   ...  first_approve_at   id time_to_merge body_size  \\\n",
       "0  ...               NaN  227           NaN         3   \n",
       "1  ...               NaN  225       13666.0        40   \n",
       "\n",
       "                               title_word_counts_vec created_at_datetime  \\\n",
       "0  [0, 1, 0, 0, 0, 0, 0, 0, 0, 0, 0, 0, 0, 0, 0, ... 2022-11-02 16:33:01   \n",
       "1  [0, 0, 0, 0, 0, 0, 0, 0, 0, 0, 0, 0, 0, 0, 0, ... 2022-10-31 15:06:23   \n",
       "\n",
       "   created_at_day  created_at_month created_at_weekday  created_at_hour  \n",
       "0               2                11                  2               16  \n",
       "1              31                10                  0               15  \n",
       "\n",
       "[2 rows x 27 columns]"
      ]
     },
     "execution_count": 26,
     "metadata": {},
     "output_type": "execute_result"
    }
   ],
   "source": [
    "pr_df.head(2)"
   ]
  },
  {
   "cell_type": "markdown",
   "id": "772ea2a9",
   "metadata": {},
   "source": [
    "**Changed Files Number**  \n",
    "Changed files is a numberical variable which captures the numer of files that were modified in the PR."
   ]
  },
  {
   "cell_type": "code",
   "execution_count": 27,
   "id": "b5687644",
   "metadata": {
    "execution": {
     "iopub.execute_input": "2022-11-02T17:21:30.883478Z",
     "iopub.status.busy": "2022-11-02T17:21:30.882867Z",
     "iopub.status.idle": "2022-11-02T17:21:30.891880Z",
     "shell.execute_reply": "2022-11-02T17:21:30.891007Z"
    }
   },
   "outputs": [
    {
     "data": {
      "text/plain": [
       "1     28\n",
       "2     16\n",
       "3     12\n",
       "6      7\n",
       "4      6\n",
       "5      6\n",
       "7      3\n",
       "9      3\n",
       "10     2\n",
       "16     1\n",
       "8      1\n",
       "11     1\n",
       "12     1\n",
       "19     1\n",
       "46     1\n",
       "15     1\n",
       "13     1\n",
       "0      1\n",
       "24     1\n",
       "Name: changed_files_number, dtype: int64"
      ]
     },
     "execution_count": 27,
     "metadata": {},
     "output_type": "execute_result"
    }
   ],
   "source": [
    "# convert changed_files_number to int\n",
    "pr_df[\"changed_files_number\"] = pr_df[\"changed_files_number\"].astype(\"int\")\n",
    "\n",
    "pr_df.changed_files_number.value_counts()"
   ]
  },
  {
   "cell_type": "markdown",
   "id": "2ec4a803",
   "metadata": {},
   "source": [
    "`changed_files_number` has more variability than the `commits_number`. We can incorporate this as a numerical feature."
   ]
  },
  {
   "cell_type": "markdown",
   "id": "360ea47c",
   "metadata": {},
   "source": [
    "**Changed_files**\n",
    "\n",
    "`changed_files` is a list of the paths and filenames for every file changed by this PR. From `changed_files`, we know, for each PR, which file types were changed which can be encoded as a frequency vector. Also we know which directory the change is made in, so that can be encoded as a categorical variable."
   ]
  },
  {
   "cell_type": "code",
   "execution_count": 28,
   "id": "ea080575",
   "metadata": {
    "execution": {
     "iopub.execute_input": "2022-11-02T17:21:30.896513Z",
     "iopub.status.busy": "2022-11-02T17:21:30.896140Z",
     "iopub.status.idle": "2022-11-02T17:21:30.906423Z",
     "shell.execute_reply": "2022-11-02T17:21:30.905509Z"
    }
   },
   "outputs": [
    {
     "data": {
      "text/plain": [
       "0                                   [docs/access-jh.md]\n",
       "1     [notebooks/demo2/create_results_table.ipynb, n...\n",
       "2     [notebooks/demo2/create_results_table.ipynb, n...\n",
       "3     [notebooks/demo2/time-anlysis.ipynb, reports/b...\n",
       "4     [notebooks/demo2/transformer-relevance.ipynb, ...\n",
       "                            ...                        \n",
       "88                                        [.thoth.yaml]\n",
       "89              [notebooks/confirm_gpu_available.ipynb]\n",
       "90    [Pipfile, Pipfile.lock, notebooks/demo1-create...\n",
       "91                                     [.aicoe-ci.yaml]\n",
       "92                                             [OWNERS]\n",
       "Name: changed_files, Length: 93, dtype: object"
      ]
     },
     "execution_count": 28,
     "metadata": {},
     "output_type": "execute_result"
    }
   ],
   "source": [
    "pr_df.changed_files"
   ]
  },
  {
   "cell_type": "code",
   "execution_count": 29,
   "id": "ba70b93f",
   "metadata": {
    "execution": {
     "iopub.execute_input": "2022-11-02T17:21:30.910599Z",
     "iopub.status.busy": "2022-11-02T17:21:30.910032Z",
     "iopub.status.idle": "2022-11-02T17:21:30.916712Z",
     "shell.execute_reply": "2022-11-02T17:21:30.915761Z"
    }
   },
   "outputs": [],
   "source": [
    "def filetype(filepath):\n",
    "\n",
    "    # if standard file extension, return file extension\n",
    "    if pathlib.Path(filepath).suffix:\n",
    "        return pathlib.Path(filepath).suffix\n",
    "\n",
    "    else:\n",
    "        # if single file at the root of repo\n",
    "        if \"/\" not in filepath:\n",
    "            # if a file like README/Dockerfile etc\n",
    "            if \".\" not in filepath:\n",
    "                return filepath\n",
    "        # if file not at root\n",
    "        else:\n",
    "            # get file name\n",
    "            file = filepath.rsplit(\"/\", 1)[1]\n",
    "            if \".\" not in file:\n",
    "                return file\n",
    "            elif \".\" in file:\n",
    "                return \".\" + file.rsplit(\".\", 1)[1]"
   ]
  },
  {
   "cell_type": "code",
   "execution_count": 30,
   "id": "2e00c415",
   "metadata": {
    "execution": {
     "iopub.execute_input": "2022-11-02T17:21:30.920639Z",
     "iopub.status.busy": "2022-11-02T17:21:30.920102Z",
     "iopub.status.idle": "2022-11-02T17:21:30.925897Z",
     "shell.execute_reply": "2022-11-02T17:21:30.924998Z"
    }
   },
   "outputs": [],
   "source": [
    "# get list of all file types that were modified across all openshift origin PRs\n",
    "changed_files = list(pr_df[\"changed_files\"])"
   ]
  },
  {
   "cell_type": "code",
   "execution_count": 31,
   "id": "36a1dcda",
   "metadata": {
    "execution": {
     "iopub.execute_input": "2022-11-02T17:21:30.929810Z",
     "iopub.status.busy": "2022-11-02T17:21:30.929330Z",
     "iopub.status.idle": "2022-11-02T17:21:30.937778Z",
     "shell.execute_reply": "2022-11-02T17:21:30.936783Z"
    }
   },
   "outputs": [],
   "source": [
    "all_changed_files = [filetype(filepath) for pr in changed_files for filepath in pr]"
   ]
  },
  {
   "cell_type": "code",
   "execution_count": 32,
   "id": "d7de1e91",
   "metadata": {
    "execution": {
     "iopub.execute_input": "2022-11-02T17:21:30.941042Z",
     "iopub.status.busy": "2022-11-02T17:21:30.940738Z",
     "iopub.status.idle": "2022-11-02T17:21:30.944661Z",
     "shell.execute_reply": "2022-11-02T17:21:30.943823Z"
    }
   },
   "outputs": [],
   "source": [
    "count = Counter(all_changed_files)"
   ]
  },
  {
   "cell_type": "code",
   "execution_count": 33,
   "id": "17e5fd80",
   "metadata": {
    "execution": {
     "iopub.execute_input": "2022-11-02T17:21:30.947858Z",
     "iopub.status.busy": "2022-11-02T17:21:30.947582Z",
     "iopub.status.idle": "2022-11-02T17:21:30.951555Z",
     "shell.execute_reply": "2022-11-02T17:21:30.950716Z"
    }
   },
   "outputs": [],
   "source": [
    "# save 100 most commonly occuring file extensions across PRs\n",
    "top_fileextensions_freq = count.most_common(100)\n",
    "top_fileextensions = [ext[0] for ext in top_fileextensions_freq]"
   ]
  },
  {
   "cell_type": "code",
   "execution_count": 34,
   "id": "25a14da8",
   "metadata": {
    "execution": {
     "iopub.execute_input": "2022-11-02T17:21:30.954901Z",
     "iopub.status.busy": "2022-11-02T17:21:30.954596Z",
     "iopub.status.idle": "2022-11-02T17:21:30.962498Z",
     "shell.execute_reply": "2022-11-02T17:21:30.961549Z"
    }
   },
   "outputs": [
    {
     "data": {
      "text/plain": [
       "['.py',\n",
       " '.ipynb',\n",
       " '.md',\n",
       " '.pipeline',\n",
       " '.yaml',\n",
       " '.png',\n",
       " '.lock',\n",
       " 'Pipfile',\n",
       " '.json',\n",
       " '.csv',\n",
       " '.gitkeep',\n",
       " 'Dockerfile',\n",
       " '.yml',\n",
       " '.pkl',\n",
       " '.xlsx',\n",
       " '.pdf',\n",
       " 'LICENSE',\n",
       " None,\n",
       " '.gif',\n",
       " 'OWNERS']"
      ]
     },
     "execution_count": 34,
     "metadata": {},
     "output_type": "execute_result"
    }
   ],
   "source": [
    "top_fileextensions"
   ]
  },
  {
   "cell_type": "code",
   "execution_count": 35,
   "id": "ecd11700",
   "metadata": {
    "execution": {
     "iopub.execute_input": "2022-11-02T17:21:30.965732Z",
     "iopub.status.busy": "2022-11-02T17:21:30.965412Z",
     "iopub.status.idle": "2022-11-02T17:21:30.970810Z",
     "shell.execute_reply": "2022-11-02T17:21:30.969784Z"
    }
   },
   "outputs": [],
   "source": [
    "def file_type_freq(list_of_filepaths):\n",
    "    \"\"\"\n",
    "    For a given PR's list of changed files,\n",
    "    return a changed files frequency vector\n",
    "    ( a vector which holds the frequency of\n",
    "    changed files of the type  for every\n",
    "    file type in top_fileextensions )\n",
    "    \"\"\"\n",
    "\n",
    "    file_extensions = [filetype(f) for f in list_of_filepaths]\n",
    "    ext_dict = {key: 0 for key in top_fileextensions}\n",
    "    for f in file_extensions:\n",
    "        if f in ext_dict:\n",
    "            ext_dict[f] += 1\n",
    "\n",
    "    return list(ext_dict.values())"
   ]
  },
  {
   "cell_type": "code",
   "execution_count": 36,
   "id": "cc0b7906",
   "metadata": {
    "execution": {
     "iopub.execute_input": "2022-11-02T17:21:30.975120Z",
     "iopub.status.busy": "2022-11-02T17:21:30.974841Z",
     "iopub.status.idle": "2022-11-02T17:21:30.984252Z",
     "shell.execute_reply": "2022-11-02T17:21:30.983392Z"
    }
   },
   "outputs": [],
   "source": [
    "pr_df[\"changed_file_type_vec\"] = pr_df[\"changed_files\"].apply(\n",
    "    lambda x: file_type_freq(x)\n",
    ")"
   ]
  },
  {
   "cell_type": "code",
   "execution_count": 37,
   "id": "4fe7bb1d",
   "metadata": {
    "execution": {
     "iopub.execute_input": "2022-11-02T17:21:30.987809Z",
     "iopub.status.busy": "2022-11-02T17:21:30.987563Z",
     "iopub.status.idle": "2022-11-02T17:21:31.009824Z",
     "shell.execute_reply": "2022-11-02T17:21:31.008930Z"
    }
   },
   "outputs": [
    {
     "data": {
      "text/html": [
       "<div>\n",
       "<style scoped>\n",
       "    .dataframe tbody tr th:only-of-type {\n",
       "        vertical-align: middle;\n",
       "    }\n",
       "\n",
       "    .dataframe tbody tr th {\n",
       "        vertical-align: top;\n",
       "    }\n",
       "\n",
       "    .dataframe thead th {\n",
       "        text-align: right;\n",
       "    }\n",
       "</style>\n",
       "<table border=\"1\" class=\"dataframe\">\n",
       "  <thead>\n",
       "    <tr style=\"text-align: right;\">\n",
       "      <th></th>\n",
       "      <th>title</th>\n",
       "      <th>body</th>\n",
       "      <th>size</th>\n",
       "      <th>created_by</th>\n",
       "      <th>created_at</th>\n",
       "      <th>closed_at</th>\n",
       "      <th>closed_by</th>\n",
       "      <th>merged_at</th>\n",
       "      <th>merged_by</th>\n",
       "      <th>commits_number</th>\n",
       "      <th>...</th>\n",
       "      <th>id</th>\n",
       "      <th>time_to_merge</th>\n",
       "      <th>body_size</th>\n",
       "      <th>title_word_counts_vec</th>\n",
       "      <th>created_at_datetime</th>\n",
       "      <th>created_at_day</th>\n",
       "      <th>created_at_month</th>\n",
       "      <th>created_at_weekday</th>\n",
       "      <th>created_at_hour</th>\n",
       "      <th>changed_file_type_vec</th>\n",
       "    </tr>\n",
       "  </thead>\n",
       "  <tbody>\n",
       "    <tr>\n",
       "      <th>0</th>\n",
       "      <td>Update the repository for creating access issues</td>\n",
       "      <td>Signed-off-by: Shrey &lt;shanand@redhat.com&gt;</td>\n",
       "      <td>0</td>\n",
       "      <td>Shreyanand</td>\n",
       "      <td>1667406781</td>\n",
       "      <td>NaN</td>\n",
       "      <td>None</td>\n",
       "      <td>NaN</td>\n",
       "      <td>None</td>\n",
       "      <td>1</td>\n",
       "      <td>...</td>\n",
       "      <td>227</td>\n",
       "      <td>NaN</td>\n",
       "      <td>3</td>\n",
       "      <td>[0, 1, 0, 0, 0, 0, 0, 0, 0, 0, 0, 0, 0, 0, 0, ...</td>\n",
       "      <td>2022-11-02 16:33:01</td>\n",
       "      <td>2</td>\n",
       "      <td>11</td>\n",
       "      <td>2</td>\n",
       "      <td>16</td>\n",
       "      <td>[0, 0, 1, 0, 0, 0, 0, 0, 0, 0, 0, 0, 0, 0, 0, ...</td>\n",
       "    </tr>\n",
       "    <tr>\n",
       "      <th>1</th>\n",
       "      <td>Changed the environment variable name to origi...</td>\n",
       "      <td>[Here](https://github.com/os-climate/aicoe-osc...</td>\n",
       "      <td>2</td>\n",
       "      <td>suppathak</td>\n",
       "      <td>1667228783</td>\n",
       "      <td>1.667242e+09</td>\n",
       "      <td>sesheta</td>\n",
       "      <td>1.667242e+09</td>\n",
       "      <td>sesheta</td>\n",
       "      <td>1</td>\n",
       "      <td>...</td>\n",
       "      <td>225</td>\n",
       "      <td>13666.0</td>\n",
       "      <td>40</td>\n",
       "      <td>[0, 0, 0, 0, 0, 0, 0, 0, 0, 0, 0, 0, 0, 0, 0, ...</td>\n",
       "      <td>2022-10-31 15:06:23</td>\n",
       "      <td>31</td>\n",
       "      <td>10</td>\n",
       "      <td>0</td>\n",
       "      <td>15</td>\n",
       "      <td>[0, 5, 0, 0, 0, 0, 0, 0, 0, 0, 0, 0, 0, 0, 0, ...</td>\n",
       "    </tr>\n",
       "  </tbody>\n",
       "</table>\n",
       "<p>2 rows × 28 columns</p>\n",
       "</div>"
      ],
      "text/plain": [
       "                                               title  \\\n",
       "0   Update the repository for creating access issues   \n",
       "1  Changed the environment variable name to origi...   \n",
       "\n",
       "                                                body  size  created_by  \\\n",
       "0          Signed-off-by: Shrey <shanand@redhat.com>     0  Shreyanand   \n",
       "1  [Here](https://github.com/os-climate/aicoe-osc...     2   suppathak   \n",
       "\n",
       "   created_at     closed_at closed_by     merged_at merged_by  commits_number  \\\n",
       "0  1667406781           NaN      None           NaN      None               1   \n",
       "1  1667228783  1.667242e+09   sesheta  1.667242e+09   sesheta               1   \n",
       "\n",
       "   ...   id time_to_merge body_size  \\\n",
       "0  ...  227           NaN         3   \n",
       "1  ...  225       13666.0        40   \n",
       "\n",
       "                               title_word_counts_vec created_at_datetime  \\\n",
       "0  [0, 1, 0, 0, 0, 0, 0, 0, 0, 0, 0, 0, 0, 0, 0, ... 2022-11-02 16:33:01   \n",
       "1  [0, 0, 0, 0, 0, 0, 0, 0, 0, 0, 0, 0, 0, 0, 0, ... 2022-10-31 15:06:23   \n",
       "\n",
       "  created_at_day  created_at_month  created_at_weekday created_at_hour  \\\n",
       "0              2                11                   2              16   \n",
       "1             31                10                   0              15   \n",
       "\n",
       "                               changed_file_type_vec  \n",
       "0  [0, 0, 1, 0, 0, 0, 0, 0, 0, 0, 0, 0, 0, 0, 0, ...  \n",
       "1  [0, 5, 0, 0, 0, 0, 0, 0, 0, 0, 0, 0, 0, 0, 0, ...  \n",
       "\n",
       "[2 rows x 28 columns]"
      ]
     },
     "execution_count": 37,
     "metadata": {},
     "output_type": "execute_result"
    }
   ],
   "source": [
    "pr_df.head(2)"
   ]
  },
  {
   "cell_type": "markdown",
   "id": "8102f95e-6175-4b46-99c1-66175f20325c",
   "metadata": {},
   "source": [
    "## Create PR trends dashboard"
   ]
  },
  {
   "cell_type": "markdown",
   "id": "5e502b7f-49c4-4024-aebc-3c9720a94209",
   "metadata": {},
   "source": [
    "## Infer dataframe columns as Features"
   ]
  },
  {
   "cell_type": "markdown",
   "id": "70443afd",
   "metadata": {},
   "source": [
    "We can see above that some PRs have 0 for all directory fields since the directory structure of the repo has changed over time and we are interested in only the latest directory structure."
   ]
  },
  {
   "cell_type": "code",
   "execution_count": 38,
   "id": "64e7a822",
   "metadata": {
    "execution": {
     "iopub.execute_input": "2022-11-02T17:21:31.013885Z",
     "iopub.status.busy": "2022-11-02T17:21:31.013597Z",
     "iopub.status.idle": "2022-11-02T17:21:31.018977Z",
     "shell.execute_reply": "2022-11-02T17:21:31.018118Z"
    }
   },
   "outputs": [],
   "source": [
    "# subset DataFrame to use as features\n",
    "feature_df = pr_df[\n",
    "    [\n",
    "        \"time_to_merge\",\n",
    "        \"changed_files_number\",\n",
    "        \"body_size\",\n",
    "        \"size\",\n",
    "        \"title_word_counts_vec\",\n",
    "        \"created_at_day\",\n",
    "        \"created_at_month\",\n",
    "        \"created_at_weekday\",\n",
    "        \"created_at_hour\",\n",
    "        \"commits_number\",\n",
    "        \"changed_file_type_vec\",\n",
    "    ]\n",
    "]"
   ]
  },
  {
   "cell_type": "markdown",
   "id": "0b08a241",
   "metadata": {},
   "source": [
    "### Add PR TTM Class Column \n",
    "\n",
    "Lets split up the time to merge values into 10 discrete bins (as discussed above) to use as our prediction classes."
   ]
  },
  {
   "cell_type": "code",
   "execution_count": 39,
   "id": "b1a5adc0-e8e2-4159-af36-a6fdc938de17",
   "metadata": {
    "execution": {
     "iopub.execute_input": "2022-11-02T17:21:31.023348Z",
     "iopub.status.busy": "2022-11-02T17:21:31.023069Z",
     "iopub.status.idle": "2022-11-02T17:21:31.030805Z",
     "shell.execute_reply": "2022-11-02T17:21:31.028348Z"
    }
   },
   "outputs": [
    {
     "data": {
      "text/plain": [
       "0.0        149.0\n",
       "0.1       1235.0\n",
       "0.2       4947.8\n",
       "0.3      41032.2\n",
       "0.4      74179.0\n",
       "0.5     133369.0\n",
       "0.6     236995.6\n",
       "0.7     345272.8\n",
       "0.8     608485.6\n",
       "0.9    1407709.4\n",
       "Name: time_to_merge, dtype: float64"
      ]
     },
     "execution_count": 39,
     "metadata": {},
     "output_type": "execute_result"
    }
   ],
   "source": [
    "intervals"
   ]
  },
  {
   "cell_type": "code",
   "execution_count": 40,
   "id": "ec16152d-0fb3-4775-913a-9e476382d713",
   "metadata": {
    "execution": {
     "iopub.execute_input": "2022-11-02T17:21:31.034757Z",
     "iopub.status.busy": "2022-11-02T17:21:31.034240Z",
     "iopub.status.idle": "2022-11-02T17:21:31.065789Z",
     "shell.execute_reply": "2022-11-02T17:21:31.064819Z"
    }
   },
   "outputs": [
    {
     "name": "stderr",
     "output_type": "stream",
     "text": [
      "/tmp/ipykernel_234/2436122750.py:9: SettingWithCopyWarning: \n",
      "A value is trying to be set on a copy of a slice from a DataFrame.\n",
      "Try using .loc[row_indexer,col_indexer] = value instead\n",
      "\n",
      "See the caveats in the documentation: https://pandas.pydata.org/pandas-docs/stable/user_guide/indexing.html#returning-a-view-versus-a-copy\n",
      "  feature_df[\"ttm_class\"] = (feature_df[\"time_to_merge\"]).apply(get_ttm_class)\n"
     ]
    },
    {
     "data": {
      "text/html": [
       "<div>\n",
       "<style scoped>\n",
       "    .dataframe tbody tr th:only-of-type {\n",
       "        vertical-align: middle;\n",
       "    }\n",
       "\n",
       "    .dataframe tbody tr th {\n",
       "        vertical-align: top;\n",
       "    }\n",
       "\n",
       "    .dataframe thead th {\n",
       "        text-align: right;\n",
       "    }\n",
       "</style>\n",
       "<table border=\"1\" class=\"dataframe\">\n",
       "  <thead>\n",
       "    <tr style=\"text-align: right;\">\n",
       "      <th></th>\n",
       "      <th>time_to_merge</th>\n",
       "      <th>changed_files_number</th>\n",
       "      <th>body_size</th>\n",
       "      <th>size</th>\n",
       "      <th>title_word_counts_vec</th>\n",
       "      <th>created_at_day</th>\n",
       "      <th>created_at_month</th>\n",
       "      <th>created_at_weekday</th>\n",
       "      <th>created_at_hour</th>\n",
       "      <th>commits_number</th>\n",
       "      <th>changed_file_type_vec</th>\n",
       "      <th>ttm_class</th>\n",
       "    </tr>\n",
       "  </thead>\n",
       "  <tbody>\n",
       "    <tr>\n",
       "      <th>0</th>\n",
       "      <td>NaN</td>\n",
       "      <td>1</td>\n",
       "      <td>3</td>\n",
       "      <td>0</td>\n",
       "      <td>[0, 1, 0, 0, 0, 0, 0, 0, 0, 0, 0, 0, 0, 0, 0, ...</td>\n",
       "      <td>2</td>\n",
       "      <td>11</td>\n",
       "      <td>2</td>\n",
       "      <td>16</td>\n",
       "      <td>1</td>\n",
       "      <td>[0, 0, 1, 0, 0, 0, 0, 0, 0, 0, 0, 0, 0, 0, 0, ...</td>\n",
       "      <td>9</td>\n",
       "    </tr>\n",
       "    <tr>\n",
       "      <th>1</th>\n",
       "      <td>13666.0</td>\n",
       "      <td>5</td>\n",
       "      <td>40</td>\n",
       "      <td>2</td>\n",
       "      <td>[0, 0, 0, 0, 0, 0, 0, 0, 0, 0, 0, 0, 0, 0, 0, ...</td>\n",
       "      <td>31</td>\n",
       "      <td>10</td>\n",
       "      <td>0</td>\n",
       "      <td>15</td>\n",
       "      <td>1</td>\n",
       "      <td>[0, 5, 0, 0, 0, 0, 0, 0, 0, 0, 0, 0, 0, 0, 0, ...</td>\n",
       "      <td>2</td>\n",
       "    </tr>\n",
       "    <tr>\n",
       "      <th>2</th>\n",
       "      <td>133369.0</td>\n",
       "      <td>5</td>\n",
       "      <td>2</td>\n",
       "      <td>5</td>\n",
       "      <td>[0, 0, 0, 0, 0, 1, 0, 0, 0, 0, 0, 0, 0, 0, 0, ...</td>\n",
       "      <td>25</td>\n",
       "      <td>10</td>\n",
       "      <td>1</td>\n",
       "      <td>22</td>\n",
       "      <td>1</td>\n",
       "      <td>[0, 5, 0, 0, 0, 0, 0, 0, 0, 0, 0, 0, 0, 0, 0, ...</td>\n",
       "      <td>5</td>\n",
       "    </tr>\n",
       "    <tr>\n",
       "      <th>3</th>\n",
       "      <td>NaN</td>\n",
       "      <td>3</td>\n",
       "      <td>13</td>\n",
       "      <td>5</td>\n",
       "      <td>[0, 0, 0, 1, 0, 0, 0, 0, 1, 0, 0, 0, 0, 0, 0, ...</td>\n",
       "      <td>18</td>\n",
       "      <td>10</td>\n",
       "      <td>1</td>\n",
       "      <td>23</td>\n",
       "      <td>1</td>\n",
       "      <td>[0, 1, 0, 0, 0, 0, 0, 0, 0, 0, 0, 0, 0, 2, 0, ...</td>\n",
       "      <td>9</td>\n",
       "    </tr>\n",
       "    <tr>\n",
       "      <th>4</th>\n",
       "      <td>NaN</td>\n",
       "      <td>3</td>\n",
       "      <td>29</td>\n",
       "      <td>5</td>\n",
       "      <td>[0, 0, 0, 1, 0, 0, 0, 0, 0, 0, 0, 0, 0, 0, 0, ...</td>\n",
       "      <td>12</td>\n",
       "      <td>10</td>\n",
       "      <td>2</td>\n",
       "      <td>21</td>\n",
       "      <td>1</td>\n",
       "      <td>[0, 2, 0, 0, 0, 0, 0, 0, 0, 0, 0, 0, 0, 1, 0, ...</td>\n",
       "      <td>9</td>\n",
       "    </tr>\n",
       "  </tbody>\n",
       "</table>\n",
       "</div>"
      ],
      "text/plain": [
       "   time_to_merge  changed_files_number  body_size  size  \\\n",
       "0            NaN                     1          3     0   \n",
       "1        13666.0                     5         40     2   \n",
       "2       133369.0                     5          2     5   \n",
       "3            NaN                     3         13     5   \n",
       "4            NaN                     3         29     5   \n",
       "\n",
       "                               title_word_counts_vec  created_at_day  \\\n",
       "0  [0, 1, 0, 0, 0, 0, 0, 0, 0, 0, 0, 0, 0, 0, 0, ...               2   \n",
       "1  [0, 0, 0, 0, 0, 0, 0, 0, 0, 0, 0, 0, 0, 0, 0, ...              31   \n",
       "2  [0, 0, 0, 0, 0, 1, 0, 0, 0, 0, 0, 0, 0, 0, 0, ...              25   \n",
       "3  [0, 0, 0, 1, 0, 0, 0, 0, 1, 0, 0, 0, 0, 0, 0, ...              18   \n",
       "4  [0, 0, 0, 1, 0, 0, 0, 0, 0, 0, 0, 0, 0, 0, 0, ...              12   \n",
       "\n",
       "   created_at_month  created_at_weekday  created_at_hour  commits_number  \\\n",
       "0                11                   2               16               1   \n",
       "1                10                   0               15               1   \n",
       "2                10                   1               22               1   \n",
       "3                10                   1               23               1   \n",
       "4                10                   2               21               1   \n",
       "\n",
       "                               changed_file_type_vec  ttm_class  \n",
       "0  [0, 0, 1, 0, 0, 0, 0, 0, 0, 0, 0, 0, 0, 0, 0, ...          9  \n",
       "1  [0, 5, 0, 0, 0, 0, 0, 0, 0, 0, 0, 0, 0, 0, 0, ...          2  \n",
       "2  [0, 5, 0, 0, 0, 0, 0, 0, 0, 0, 0, 0, 0, 0, 0, ...          5  \n",
       "3  [0, 1, 0, 0, 0, 0, 0, 0, 0, 0, 0, 0, 0, 2, 0, ...          9  \n",
       "4  [0, 2, 0, 0, 0, 0, 0, 0, 0, 0, 0, 0, 0, 1, 0, ...          9  "
      ]
     },
     "execution_count": 40,
     "metadata": {},
     "output_type": "execute_result"
    }
   ],
   "source": [
    "def get_ttm_class(ttm):\n",
    "\n",
    "    for rownum, (indx, val) in enumerate(intervals.iteritems()):\n",
    "        if ttm < val:\n",
    "            return rownum - 1\n",
    "    return 9\n",
    "\n",
    "\n",
    "feature_df[\"ttm_class\"] = (feature_df[\"time_to_merge\"]).apply(get_ttm_class)\n",
    "feature_df.head()"
   ]
  },
  {
   "cell_type": "markdown",
   "id": "04749f45",
   "metadata": {},
   "source": [
    "## Evaluating Feature Importances\n",
    "\n",
    "### Categorical Features\n",
    "\n",
    "First, lets try to determine what categorical featuers are powerful influencers for time to merge of a PR"
   ]
  },
  {
   "cell_type": "code",
   "execution_count": 41,
   "id": "e353c92b",
   "metadata": {
    "execution": {
     "iopub.execute_input": "2022-11-02T17:21:31.070220Z",
     "iopub.status.busy": "2022-11-02T17:21:31.069912Z",
     "iopub.status.idle": "2022-11-02T17:21:31.075367Z",
     "shell.execute_reply": "2022-11-02T17:21:31.074493Z"
    }
   },
   "outputs": [],
   "source": [
    "# feature selection helper function\n",
    "def select_features(x, y, func):\n",
    "    fs = SelectKBest(score_func=func, k=\"all\")\n",
    "    fs.fit(x, y)\n",
    "    x_fs = fs.transform(x)\n",
    "    return x_fs, fs\n",
    "\n",
    "\n",
    "selected_features = []"
   ]
  },
  {
   "cell_type": "code",
   "execution_count": 42,
   "id": "986b3424-0401-4c7a-8f28-a860b87e14ef",
   "metadata": {
    "execution": {
     "iopub.execute_input": "2022-11-02T17:21:31.079622Z",
     "iopub.status.busy": "2022-11-02T17:21:31.079361Z",
     "iopub.status.idle": "2022-11-02T17:21:31.084846Z",
     "shell.execute_reply": "2022-11-02T17:21:31.083978Z"
    }
   },
   "outputs": [],
   "source": [
    "cat_features = [\n",
    "    \"size\",\n",
    "    \"created_at_day\",\n",
    "    \"created_at_month\",\n",
    "    \"created_at_weekday\",\n",
    "    \"created_at_hour\",\n",
    "    \"ttm_class\",\n",
    "]"
   ]
  },
  {
   "cell_type": "code",
   "execution_count": 43,
   "id": "3e1d24a4",
   "metadata": {
    "execution": {
     "iopub.execute_input": "2022-11-02T17:21:31.088129Z",
     "iopub.status.busy": "2022-11-02T17:21:31.087862Z",
     "iopub.status.idle": "2022-11-02T17:21:31.097159Z",
     "shell.execute_reply": "2022-11-02T17:21:31.096217Z"
    }
   },
   "outputs": [
    {
     "data": {
      "text/html": [
       "<div>\n",
       "<style scoped>\n",
       "    .dataframe tbody tr th:only-of-type {\n",
       "        vertical-align: middle;\n",
       "    }\n",
       "\n",
       "    .dataframe tbody tr th {\n",
       "        vertical-align: top;\n",
       "    }\n",
       "\n",
       "    .dataframe thead th {\n",
       "        text-align: right;\n",
       "    }\n",
       "</style>\n",
       "<table border=\"1\" class=\"dataframe\">\n",
       "  <thead>\n",
       "    <tr style=\"text-align: right;\">\n",
       "      <th></th>\n",
       "      <th>size</th>\n",
       "      <th>created_at_day</th>\n",
       "      <th>created_at_month</th>\n",
       "      <th>created_at_weekday</th>\n",
       "      <th>created_at_hour</th>\n",
       "      <th>ttm_class</th>\n",
       "    </tr>\n",
       "  </thead>\n",
       "  <tbody>\n",
       "    <tr>\n",
       "      <th>0</th>\n",
       "      <td>0</td>\n",
       "      <td>2</td>\n",
       "      <td>11</td>\n",
       "      <td>2</td>\n",
       "      <td>16</td>\n",
       "      <td>9</td>\n",
       "    </tr>\n",
       "    <tr>\n",
       "      <th>1</th>\n",
       "      <td>2</td>\n",
       "      <td>31</td>\n",
       "      <td>10</td>\n",
       "      <td>0</td>\n",
       "      <td>15</td>\n",
       "      <td>2</td>\n",
       "    </tr>\n",
       "    <tr>\n",
       "      <th>2</th>\n",
       "      <td>5</td>\n",
       "      <td>25</td>\n",
       "      <td>10</td>\n",
       "      <td>1</td>\n",
       "      <td>22</td>\n",
       "      <td>5</td>\n",
       "    </tr>\n",
       "    <tr>\n",
       "      <th>3</th>\n",
       "      <td>5</td>\n",
       "      <td>18</td>\n",
       "      <td>10</td>\n",
       "      <td>1</td>\n",
       "      <td>23</td>\n",
       "      <td>9</td>\n",
       "    </tr>\n",
       "    <tr>\n",
       "      <th>4</th>\n",
       "      <td>5</td>\n",
       "      <td>12</td>\n",
       "      <td>10</td>\n",
       "      <td>2</td>\n",
       "      <td>21</td>\n",
       "      <td>9</td>\n",
       "    </tr>\n",
       "  </tbody>\n",
       "</table>\n",
       "</div>"
      ],
      "text/plain": [
       "   size  created_at_day  created_at_month  created_at_weekday  \\\n",
       "0     0               2                11                   2   \n",
       "1     2              31                10                   0   \n",
       "2     5              25                10                   1   \n",
       "3     5              18                10                   1   \n",
       "4     5              12                10                   2   \n",
       "\n",
       "   created_at_hour  ttm_class  \n",
       "0               16          9  \n",
       "1               15          2  \n",
       "2               22          5  \n",
       "3               23          9  \n",
       "4               21          9  "
      ]
     },
     "execution_count": 43,
     "metadata": {},
     "output_type": "execute_result"
    }
   ],
   "source": [
    "cat_df = feature_df[cat_features]\n",
    "\n",
    "cat_df.head()"
   ]
  },
  {
   "cell_type": "code",
   "execution_count": 44,
   "id": "278e3073",
   "metadata": {
    "execution": {
     "iopub.execute_input": "2022-11-02T17:21:31.101212Z",
     "iopub.status.busy": "2022-11-02T17:21:31.100967Z",
     "iopub.status.idle": "2022-11-02T17:21:31.105355Z",
     "shell.execute_reply": "2022-11-02T17:21:31.104484Z"
    }
   },
   "outputs": [],
   "source": [
    "# split into input (x) and output (y) variables\n",
    "X_inp = cat_df.drop(columns=[\"ttm_class\"])\n",
    "y = cat_df[\"ttm_class\"]"
   ]
  },
  {
   "cell_type": "code",
   "execution_count": 45,
   "id": "2df4fb8d",
   "metadata": {
    "execution": {
     "iopub.execute_input": "2022-11-02T17:21:31.108895Z",
     "iopub.status.busy": "2022-11-02T17:21:31.108633Z",
     "iopub.status.idle": "2022-11-02T17:21:31.293230Z",
     "shell.execute_reply": "2022-11-02T17:21:31.292230Z"
    }
   },
   "outputs": [],
   "source": [
    "# rank using mutual_info_classif\n",
    "X_fs, fs = select_features(X_inp, y, mutual_info_classif)"
   ]
  },
  {
   "cell_type": "code",
   "execution_count": 46,
   "id": "418becb1",
   "metadata": {
    "execution": {
     "iopub.execute_input": "2022-11-02T17:21:31.298016Z",
     "iopub.status.busy": "2022-11-02T17:21:31.297264Z",
     "iopub.status.idle": "2022-11-02T17:21:31.302912Z",
     "shell.execute_reply": "2022-11-02T17:21:31.302025Z"
    }
   },
   "outputs": [
    {
     "name": "stdout",
     "output_type": "stream",
     "text": [
      "Feature size: 0.086891\n",
      "Feature created_at_day: 0.086636\n",
      "Feature created_at_month: 0.263291\n",
      "Feature created_at_weekday: 0.072572\n",
      "Feature created_at_hour: 0.208527\n"
     ]
    }
   ],
   "source": [
    "for i in range(len(fs.scores_)):\n",
    "    print(\"Feature %s: %f\" % (X_inp.columns[i], fs.scores_[i]))"
   ]
  },
  {
   "cell_type": "code",
   "execution_count": 47,
   "id": "b08ea157",
   "metadata": {
    "execution": {
     "iopub.execute_input": "2022-11-02T17:21:31.306873Z",
     "iopub.status.busy": "2022-11-02T17:21:31.306210Z",
     "iopub.status.idle": "2022-11-02T17:21:31.491190Z",
     "shell.execute_reply": "2022-11-02T17:21:31.490174Z"
    }
   },
   "outputs": [
    {
     "data": {
      "image/png": "[encoded data removed]",
      "text/plain": [
       "<Figure size 432x288 with 1 Axes>"
      ]
     },
     "metadata": {
      "needs_background": "light"
     },
     "output_type": "display_data"
    }
   ],
   "source": [
    "# visualize scores of all features\n",
    "sns.barplot(x=X_inp.columns, y=fs.scores_)\n",
    "plt.title(\"Feature importance scores for Mutual Information Statistic\")\n",
    "plt.xticks(rotation=60)\n",
    "plt.xlabel(\"Features\")\n",
    "plt.ylabel(\"Scores\")\n",
    "plt.show()"
   ]
  },
  {
   "cell_type": "code",
   "execution_count": 48,
   "id": "176c1d98",
   "metadata": {
    "execution": {
     "iopub.execute_input": "2022-11-02T17:21:31.494833Z",
     "iopub.status.busy": "2022-11-02T17:21:31.494387Z",
     "iopub.status.idle": "2022-11-02T17:21:31.500086Z",
     "shell.execute_reply": "2022-11-02T17:21:31.499220Z"
    }
   },
   "outputs": [],
   "source": [
    "# Lets get a list of the top 10 feature indices based on Mutual Info Stat feature scores\n",
    "top_mis = fs.scores_.argsort()[-10:][::-1]"
   ]
  },
  {
   "cell_type": "code",
   "execution_count": 49,
   "id": "c33dc4f2",
   "metadata": {
    "execution": {
     "iopub.execute_input": "2022-11-02T17:21:31.504005Z",
     "iopub.status.busy": "2022-11-02T17:21:31.503611Z",
     "iopub.status.idle": "2022-11-02T17:21:31.514301Z",
     "shell.execute_reply": "2022-11-02T17:21:31.513485Z"
    }
   },
   "outputs": [],
   "source": [
    "# rank using chi_sq\n",
    "X_fs, fs = select_features(X_inp, y, chi2)"
   ]
  },
  {
   "cell_type": "code",
   "execution_count": 50,
   "id": "313c6906",
   "metadata": {
    "execution": {
     "iopub.execute_input": "2022-11-02T17:21:31.518246Z",
     "iopub.status.busy": "2022-11-02T17:21:31.517948Z",
     "iopub.status.idle": "2022-11-02T17:21:31.523099Z",
     "shell.execute_reply": "2022-11-02T17:21:31.522161Z"
    }
   },
   "outputs": [
    {
     "name": "stdout",
     "output_type": "stream",
     "text": [
      "Feature size: 11.475169\n",
      "Feature created_at_day: 52.805477\n",
      "Feature created_at_month: 13.812966\n",
      "Feature created_at_weekday: 14.454266\n",
      "Feature created_at_hour: 10.677750\n"
     ]
    }
   ],
   "source": [
    "for i in range(len(fs.scores_)):\n",
    "    print(\"Feature %s: %f\" % (X_inp.columns[i], fs.scores_[i]))"
   ]
  },
  {
   "cell_type": "code",
   "execution_count": 51,
   "id": "460daed6",
   "metadata": {
    "execution": {
     "iopub.execute_input": "2022-11-02T17:21:31.527816Z",
     "iopub.status.busy": "2022-11-02T17:21:31.527538Z",
     "iopub.status.idle": "2022-11-02T17:21:31.686846Z",
     "shell.execute_reply": "2022-11-02T17:21:31.685885Z"
    }
   },
   "outputs": [
    {
     "data": {
      "image/png": "[encoded data removed]",
      "text/plain": [
       "<Figure size 432x288 with 1 Axes>"
      ]
     },
     "metadata": {
      "needs_background": "light"
     },
     "output_type": "display_data"
    }
   ],
   "source": [
    "# visualize scores of all features\n",
    "sns.barplot(x=X_inp.columns, y=fs.scores_)\n",
    "plt.title(\"Feature importance scores for Chi Squared\")\n",
    "plt.xticks(rotation=60)\n",
    "plt.xlabel(\"Features\")\n",
    "plt.ylabel(\"Scores\")\n",
    "plt.show()"
   ]
  },
  {
   "cell_type": "code",
   "execution_count": 52,
   "id": "9874b4b4",
   "metadata": {
    "execution": {
     "iopub.execute_input": "2022-11-02T17:21:31.691173Z",
     "iopub.status.busy": "2022-11-02T17:21:31.690714Z",
     "iopub.status.idle": "2022-11-02T17:21:31.695366Z",
     "shell.execute_reply": "2022-11-02T17:21:31.694432Z"
    }
   },
   "outputs": [],
   "source": [
    "# Lets get a list of the top 10 feature indices based on Chi Sq feature scores\n",
    "top_chi2 = fs.scores_.argsort()[-10:][::-1]"
   ]
  },
  {
   "cell_type": "markdown",
   "id": "5861b291",
   "metadata": {},
   "source": [
    "Let's get a Union of the top 10 features derived from features based on both scores of both Mutual Info Statistic and Chi Squared"
   ]
  },
  {
   "cell_type": "code",
   "execution_count": 53,
   "id": "fae59295",
   "metadata": {
    "execution": {
     "iopub.execute_input": "2022-11-02T17:21:31.699197Z",
     "iopub.status.busy": "2022-11-02T17:21:31.698887Z",
     "iopub.status.idle": "2022-11-02T17:21:31.707591Z",
     "shell.execute_reply": "2022-11-02T17:21:31.706712Z"
    }
   },
   "outputs": [
    {
     "name": "stdout",
     "output_type": "stream",
     "text": [
      "5\n"
     ]
    },
    {
     "data": {
      "text/plain": [
       "{0, 1, 2, 3, 4}"
      ]
     },
     "execution_count": 53,
     "metadata": {},
     "output_type": "execute_result"
    }
   ],
   "source": [
    "union = set(top_mis).union(set(top_chi2))\n",
    "print(len(union))\n",
    "union"
   ]
  },
  {
   "cell_type": "code",
   "execution_count": 54,
   "id": "4778b695-9ec8-4d9f-a1dd-26d749b43a95",
   "metadata": {
    "execution": {
     "iopub.execute_input": "2022-11-02T17:21:31.711159Z",
     "iopub.status.busy": "2022-11-02T17:21:31.710874Z",
     "iopub.status.idle": "2022-11-02T17:21:31.716644Z",
     "shell.execute_reply": "2022-11-02T17:21:31.715644Z"
    }
   },
   "outputs": [
    {
     "data": {
      "text/plain": [
       "['size',\n",
       " 'created_at_day',\n",
       " 'created_at_month',\n",
       " 'created_at_weekday',\n",
       " 'created_at_hour']"
      ]
     },
     "execution_count": 54,
     "metadata": {},
     "output_type": "execute_result"
    }
   ],
   "source": [
    "selected_cat_features = [cat_features[i] for i in union]\n",
    "selected_cat_features"
   ]
  },
  {
   "cell_type": "code",
   "execution_count": 55,
   "id": "5b0ce173",
   "metadata": {
    "execution": {
     "iopub.execute_input": "2022-11-02T17:21:31.721135Z",
     "iopub.status.busy": "2022-11-02T17:21:31.720852Z",
     "iopub.status.idle": "2022-11-02T17:21:31.724436Z",
     "shell.execute_reply": "2022-11-02T17:21:31.723568Z"
    }
   },
   "outputs": [],
   "source": [
    "# update list of features to keep for training\n",
    "selected_features += selected_cat_features"
   ]
  },
  {
   "cell_type": "markdown",
   "id": "33f4387d",
   "metadata": {},
   "source": [
    "### Numerical Features\n",
    "\n",
    "Now, lets try to determine what numerical featuers are powerful influencers for time to merge of a PR"
   ]
  },
  {
   "cell_type": "code",
   "execution_count": 56,
   "id": "29683916-4ef7-474a-80ac-11a5d210b6fa",
   "metadata": {
    "execution": {
     "iopub.execute_input": "2022-11-02T17:21:31.728140Z",
     "iopub.status.busy": "2022-11-02T17:21:31.727840Z",
     "iopub.status.idle": "2022-11-02T17:21:31.732329Z",
     "shell.execute_reply": "2022-11-02T17:21:31.731291Z"
    }
   },
   "outputs": [],
   "source": [
    "numerical_features = [\n",
    "    \"changed_files_number\",\n",
    "    \"body_size\",\n",
    "    \"commits_number\",\n",
    "    \"ttm_class\",\n",
    "]"
   ]
  },
  {
   "cell_type": "code",
   "execution_count": 57,
   "id": "b0d608dd",
   "metadata": {
    "execution": {
     "iopub.execute_input": "2022-11-02T17:21:31.736967Z",
     "iopub.status.busy": "2022-11-02T17:21:31.736669Z",
     "iopub.status.idle": "2022-11-02T17:21:31.746823Z",
     "shell.execute_reply": "2022-11-02T17:21:31.745769Z"
    }
   },
   "outputs": [
    {
     "data": {
      "text/html": [
       "<div>\n",
       "<style scoped>\n",
       "    .dataframe tbody tr th:only-of-type {\n",
       "        vertical-align: middle;\n",
       "    }\n",
       "\n",
       "    .dataframe tbody tr th {\n",
       "        vertical-align: top;\n",
       "    }\n",
       "\n",
       "    .dataframe thead th {\n",
       "        text-align: right;\n",
       "    }\n",
       "</style>\n",
       "<table border=\"1\" class=\"dataframe\">\n",
       "  <thead>\n",
       "    <tr style=\"text-align: right;\">\n",
       "      <th></th>\n",
       "      <th>changed_files_number</th>\n",
       "      <th>body_size</th>\n",
       "      <th>commits_number</th>\n",
       "      <th>ttm_class</th>\n",
       "    </tr>\n",
       "  </thead>\n",
       "  <tbody>\n",
       "    <tr>\n",
       "      <th>0</th>\n",
       "      <td>1</td>\n",
       "      <td>3</td>\n",
       "      <td>1</td>\n",
       "      <td>9</td>\n",
       "    </tr>\n",
       "    <tr>\n",
       "      <th>1</th>\n",
       "      <td>5</td>\n",
       "      <td>40</td>\n",
       "      <td>1</td>\n",
       "      <td>2</td>\n",
       "    </tr>\n",
       "    <tr>\n",
       "      <th>2</th>\n",
       "      <td>5</td>\n",
       "      <td>2</td>\n",
       "      <td>1</td>\n",
       "      <td>5</td>\n",
       "    </tr>\n",
       "    <tr>\n",
       "      <th>3</th>\n",
       "      <td>3</td>\n",
       "      <td>13</td>\n",
       "      <td>1</td>\n",
       "      <td>9</td>\n",
       "    </tr>\n",
       "    <tr>\n",
       "      <th>4</th>\n",
       "      <td>3</td>\n",
       "      <td>29</td>\n",
       "      <td>1</td>\n",
       "      <td>9</td>\n",
       "    </tr>\n",
       "  </tbody>\n",
       "</table>\n",
       "</div>"
      ],
      "text/plain": [
       "   changed_files_number  body_size  commits_number  ttm_class\n",
       "0                     1          3               1          9\n",
       "1                     5         40               1          2\n",
       "2                     5          2               1          5\n",
       "3                     3         13               1          9\n",
       "4                     3         29               1          9"
      ]
     },
     "execution_count": 57,
     "metadata": {},
     "output_type": "execute_result"
    }
   ],
   "source": [
    "numerical_df = feature_df[numerical_features]\n",
    "numerical_df.head()"
   ]
  },
  {
   "cell_type": "code",
   "execution_count": 58,
   "id": "9ff2919e",
   "metadata": {
    "execution": {
     "iopub.execute_input": "2022-11-02T17:21:31.751657Z",
     "iopub.status.busy": "2022-11-02T17:21:31.751375Z",
     "iopub.status.idle": "2022-11-02T17:21:31.756396Z",
     "shell.execute_reply": "2022-11-02T17:21:31.755423Z"
    }
   },
   "outputs": [],
   "source": [
    "# split into input features and target\n",
    "X_inp = numerical_df.drop(columns=[\"ttm_class\"])\n",
    "y = numerical_df[\"ttm_class\"]"
   ]
  },
  {
   "cell_type": "code",
   "execution_count": 59,
   "id": "cc733746",
   "metadata": {
    "execution": {
     "iopub.execute_input": "2022-11-02T17:21:31.760209Z",
     "iopub.status.busy": "2022-11-02T17:21:31.759933Z",
     "iopub.status.idle": "2022-11-02T17:21:31.935181Z",
     "shell.execute_reply": "2022-11-02T17:21:31.934255Z"
    },
    "tags": []
   },
   "outputs": [
    {
     "data": {
      "image/png": "[encoded data removed]",
      "text/plain": [
       "<Figure size 432x288 with 1 Axes>"
      ]
     },
     "metadata": {
      "needs_background": "light"
     },
     "output_type": "display_data"
    }
   ],
   "source": [
    "# create k best feature selector object based on mutual information\n",
    "numerical_feats_mi, k_best_selector_mi = select_features(\n",
    "    X_inp,\n",
    "    y,\n",
    "    partial(\n",
    "        mutual_info_classif,\n",
    "        discrete_features=False,\n",
    "        random_state=42,\n",
    "        n_neighbors=3,\n",
    "    ),\n",
    ")\n",
    "\n",
    "# visualize the MI scores of all features\n",
    "sns.barplot(x=X_inp.columns, y=k_best_selector_mi.scores_)\n",
    "plt.title(\"Feature importance based on Mutual Information\")\n",
    "plt.xticks(rotation=60)\n",
    "plt.xlabel(\"Features\")\n",
    "plt.ylabel(\"Scores\")\n",
    "plt.show()"
   ]
  },
  {
   "cell_type": "code",
   "execution_count": 60,
   "id": "7bdf2192",
   "metadata": {
    "execution": {
     "iopub.execute_input": "2022-11-02T17:21:31.938949Z",
     "iopub.status.busy": "2022-11-02T17:21:31.938691Z",
     "iopub.status.idle": "2022-11-02T17:21:32.152550Z",
     "shell.execute_reply": "2022-11-02T17:21:32.151544Z"
    }
   },
   "outputs": [
    {
     "data": {
      "image/png": "[encoded data removed]",
      "text/plain": [
       "<Figure size 432x288 with 2 Axes>"
      ]
     },
     "metadata": {
      "needs_background": "light"
     },
     "output_type": "display_data"
    }
   ],
   "source": [
    "# create k best feature selector object based on anova f statistic\n",
    "numerical_feats_f, k_best_selector_f = select_features(\n",
    "    X_inp,\n",
    "    y,\n",
    "    f_classif,\n",
    ")\n",
    "\n",
    "# visualize the f stat scores and pvalues of all features\n",
    "fig, axes = plt.subplots(2, 1, sharex=True)\n",
    "fig.suptitle(\"Feature importance based on ANOVA F stat\")\n",
    "sns.barplot(x=X_inp.columns, y=k_best_selector_f.scores_, ax=axes[0])\n",
    "sns.barplot(x=X_inp.columns, y=k_best_selector_f.pvalues_, ax=axes[1])\n",
    "plt.xticks(rotation=60)\n",
    "plt.xlabel(\"Features\")\n",
    "axes[0].set_ylabel(\"Scores\")\n",
    "axes[1].set_ylabel(\"p-values\")\n",
    "plt.show()"
   ]
  },
  {
   "cell_type": "code",
   "execution_count": 61,
   "id": "6134ddb1-994f-42ee-8a68-7111540b6481",
   "metadata": {
    "execution": {
     "iopub.execute_input": "2022-11-02T17:21:32.156666Z",
     "iopub.status.busy": "2022-11-02T17:21:32.156387Z",
     "iopub.status.idle": "2022-11-02T17:21:32.162934Z",
     "shell.execute_reply": "2022-11-02T17:21:32.161899Z"
    }
   },
   "outputs": [
    {
     "data": {
      "text/plain": [
       "{0, 1, 2}"
      ]
     },
     "execution_count": 61,
     "metadata": {},
     "output_type": "execute_result"
    }
   ],
   "source": [
    "top_mi = k_best_selector_mi.scores_.argsort()[-3:][::-1]\n",
    "top_anova = k_best_selector_f.scores_.argsort()[-3:][::-1]\n",
    "union = set(top_mi).union(set(top_anova))\n",
    "union"
   ]
  },
  {
   "cell_type": "code",
   "execution_count": 62,
   "id": "2d5a9368-bfaf-4348-b140-13e6d725f59c",
   "metadata": {
    "execution": {
     "iopub.execute_input": "2022-11-02T17:21:32.166174Z",
     "iopub.status.busy": "2022-11-02T17:21:32.165927Z",
     "iopub.status.idle": "2022-11-02T17:21:32.171263Z",
     "shell.execute_reply": "2022-11-02T17:21:32.170359Z"
    }
   },
   "outputs": [
    {
     "data": {
      "text/plain": [
       "['changed_files_number', 'body_size', 'commits_number']"
      ]
     },
     "execution_count": 62,
     "metadata": {},
     "output_type": "execute_result"
    }
   ],
   "source": [
    "selected_num_features = [numerical_features[i] for i in union]\n",
    "selected_num_features"
   ]
  },
  {
   "cell_type": "code",
   "execution_count": 63,
   "id": "cc984a01",
   "metadata": {
    "execution": {
     "iopub.execute_input": "2022-11-02T17:21:32.174650Z",
     "iopub.status.busy": "2022-11-02T17:21:32.174376Z",
     "iopub.status.idle": "2022-11-02T17:21:32.177811Z",
     "shell.execute_reply": "2022-11-02T17:21:32.176962Z"
    }
   },
   "outputs": [],
   "source": [
    "# update list of features to keep for training\n",
    "selected_features += selected_num_features"
   ]
  },
  {
   "cell_type": "markdown",
   "id": "11a86b36",
   "metadata": {},
   "source": [
    "### Count Vector Type Features\n",
    "\n",
    "Finally, lets determine the most important features from the count vector type columns."
   ]
  },
  {
   "cell_type": "code",
   "execution_count": 64,
   "id": "f07d0334",
   "metadata": {
    "execution": {
     "iopub.execute_input": "2022-11-02T17:21:32.181818Z",
     "iopub.status.busy": "2022-11-02T17:21:32.181491Z",
     "iopub.status.idle": "2022-11-02T17:21:32.187743Z",
     "shell.execute_reply": "2022-11-02T17:21:32.186920Z"
    },
    "scrolled": true
   },
   "outputs": [],
   "source": [
    "# explode the list column so that there is 1 column representing frequency of each file type\n",
    "filetype_df = pd.DataFrame(feature_df.changed_file_type_vec.to_list())\n",
    "filetype_df.index = feature_df.index\n",
    "filetype_df.columns = [f\"filetype_{f}\" for f in top_fileextensions]"
   ]
  },
  {
   "cell_type": "code",
   "execution_count": 65,
   "id": "35f93d4e",
   "metadata": {
    "execution": {
     "iopub.execute_input": "2022-11-02T17:21:32.191078Z",
     "iopub.status.busy": "2022-11-02T17:21:32.190800Z",
     "iopub.status.idle": "2022-11-02T17:21:32.205539Z",
     "shell.execute_reply": "2022-11-02T17:21:32.204661Z"
    }
   },
   "outputs": [
    {
     "data": {
      "text/plain": [
       "filetype_.pkl          0.166658\n",
       "filetype_LICENSE       0.123678\n",
       "filetype_.pdf          0.104961\n",
       "filetype_.xlsx         0.104961\n",
       "filetype_.py           0.097633\n",
       "filetype_.gitkeep      0.057192\n",
       "filetype_.md           0.049449\n",
       "filetype_.ipynb        0.047769\n",
       "filetype_.json         0.036997\n",
       "filetype_.yaml         0.030143\n",
       "filetype_Pipfile       0.026161\n",
       "filetype_.gif         -0.009294\n",
       "filetype_.csv         -0.010870\n",
       "filetype_.lock        -0.013382\n",
       "filetype_.yml         -0.036851\n",
       "filetype_.pipeline    -0.073353\n",
       "filetype_None         -0.075780\n",
       "filetype_OWNERS       -0.075780\n",
       "filetype_.png         -0.092447\n",
       "filetype_Dockerfile   -0.154093\n",
       "dtype: float64"
      ]
     },
     "execution_count": 65,
     "metadata": {},
     "output_type": "execute_result"
    }
   ],
   "source": [
    "# compute correlation with ttm\n",
    "corr = filetype_df.corrwith(feature_df[\"ttm_class\"])\n",
    "corr.sort_values(ascending=False)"
   ]
  },
  {
   "cell_type": "code",
   "execution_count": 66,
   "id": "d5ae2981",
   "metadata": {
    "execution": {
     "iopub.execute_input": "2022-11-02T17:21:32.208864Z",
     "iopub.status.busy": "2022-11-02T17:21:32.208585Z",
     "iopub.status.idle": "2022-11-02T17:21:32.215379Z",
     "shell.execute_reply": "2022-11-02T17:21:32.214659Z"
    }
   },
   "outputs": [
    {
     "data": {
      "text/plain": [
       "filetype_.py           0.097633\n",
       "filetype_.ipynb        0.047769\n",
       "filetype_.md           0.049449\n",
       "filetype_.pipeline    -0.073353\n",
       "filetype_.yaml         0.030143\n",
       "filetype_.png         -0.092447\n",
       "filetype_.lock        -0.013382\n",
       "filetype_Pipfile       0.026161\n",
       "filetype_.json         0.036997\n",
       "filetype_.csv         -0.010870\n",
       "filetype_.gitkeep      0.057192\n",
       "filetype_Dockerfile   -0.154093\n",
       "filetype_.yml         -0.036851\n",
       "filetype_.pkl          0.166658\n",
       "filetype_.xlsx         0.104961\n",
       "filetype_.pdf          0.104961\n",
       "filetype_LICENSE       0.123678\n",
       "filetype_None         -0.075780\n",
       "filetype_OWNERS       -0.075780\n",
       "dtype: float64"
      ]
     },
     "execution_count": 66,
     "metadata": {},
     "output_type": "execute_result"
    }
   ],
   "source": [
    "corr[corr.abs() > 0.01]"
   ]
  },
  {
   "cell_type": "code",
   "execution_count": 67,
   "id": "9d5e19bd",
   "metadata": {
    "execution": {
     "iopub.execute_input": "2022-11-02T17:21:32.218764Z",
     "iopub.status.busy": "2022-11-02T17:21:32.218467Z",
     "iopub.status.idle": "2022-11-02T17:21:32.223894Z",
     "shell.execute_reply": "2022-11-02T17:21:32.223024Z"
    }
   },
   "outputs": [],
   "source": [
    "# update list of features to keep for training\n",
    "# take everything that has more than 0.01 correlation magnitude\n",
    "filetype_keep_cols = corr[corr.abs() > 0.01].index.tolist()\n",
    "selected_features += filetype_keep_cols\n",
    "\n",
    "# only keep the relevant columns now\n",
    "filetype_df = filetype_df[filetype_keep_cols]"
   ]
  },
  {
   "cell_type": "code",
   "execution_count": 68,
   "id": "2eab2fb8-ee9e-4a4e-9d2e-7629f9c56cb9",
   "metadata": {
    "execution": {
     "iopub.execute_input": "2022-11-02T17:21:32.228022Z",
     "iopub.status.busy": "2022-11-02T17:21:32.227703Z",
     "iopub.status.idle": "2022-11-02T17:21:32.233363Z",
     "shell.execute_reply": "2022-11-02T17:21:32.232491Z"
    }
   },
   "outputs": [
    {
     "data": {
      "text/plain": [
       "['.py',\n",
       " '.ipynb',\n",
       " '.md',\n",
       " '.pipeline',\n",
       " '.yaml',\n",
       " '.png',\n",
       " '.lock',\n",
       " 'Pipfile',\n",
       " '.json',\n",
       " '.csv',\n",
       " '.gitkeep',\n",
       " 'Dockerfile',\n",
       " '.yml',\n",
       " '.pkl',\n",
       " '.xlsx',\n",
       " '.pdf',\n",
       " 'LICENSE',\n",
       " 'None',\n",
       " 'OWNERS']"
      ]
     },
     "execution_count": 68,
     "metadata": {},
     "output_type": "execute_result"
    }
   ],
   "source": [
    "filetype_keep_cols = [i[9:] for i in filetype_keep_cols]\n",
    "filetype_keep_cols"
   ]
  },
  {
   "cell_type": "code",
   "execution_count": 69,
   "id": "2b2da9ab-de61-44f5-91f1-a897e8f7a962",
   "metadata": {
    "execution": {
     "iopub.execute_input": "2022-11-02T17:21:32.236548Z",
     "iopub.status.busy": "2022-11-02T17:21:32.236281Z",
     "iopub.status.idle": "2022-11-02T17:21:32.240376Z",
     "shell.execute_reply": "2022-11-02T17:21:32.239488Z"
    }
   },
   "outputs": [],
   "source": [
    "filetype_keep_cols_df = pd.DataFrame(filetype_keep_cols, columns=[\"filetype\"])"
   ]
  },
  {
   "cell_type": "code",
   "execution_count": 70,
   "id": "773682ad-cda8-42ec-9275-dc611004d913",
   "metadata": {
    "execution": {
     "iopub.execute_input": "2022-11-02T17:21:32.244111Z",
     "iopub.status.busy": "2022-11-02T17:21:32.243848Z",
     "iopub.status.idle": "2022-11-02T17:21:32.251080Z",
     "shell.execute_reply": "2022-11-02T17:21:32.250356Z"
    }
   },
   "outputs": [
    {
     "data": {
      "text/html": [
       "<div>\n",
       "<style scoped>\n",
       "    .dataframe tbody tr th:only-of-type {\n",
       "        vertical-align: middle;\n",
       "    }\n",
       "\n",
       "    .dataframe tbody tr th {\n",
       "        vertical-align: top;\n",
       "    }\n",
       "\n",
       "    .dataframe thead th {\n",
       "        text-align: right;\n",
       "    }\n",
       "</style>\n",
       "<table border=\"1\" class=\"dataframe\">\n",
       "  <thead>\n",
       "    <tr style=\"text-align: right;\">\n",
       "      <th></th>\n",
       "      <th>filetype</th>\n",
       "    </tr>\n",
       "  </thead>\n",
       "  <tbody>\n",
       "    <tr>\n",
       "      <th>0</th>\n",
       "      <td>.py</td>\n",
       "    </tr>\n",
       "    <tr>\n",
       "      <th>1</th>\n",
       "      <td>.ipynb</td>\n",
       "    </tr>\n",
       "    <tr>\n",
       "      <th>2</th>\n",
       "      <td>.md</td>\n",
       "    </tr>\n",
       "    <tr>\n",
       "      <th>3</th>\n",
       "      <td>.pipeline</td>\n",
       "    </tr>\n",
       "    <tr>\n",
       "      <th>4</th>\n",
       "      <td>.yaml</td>\n",
       "    </tr>\n",
       "    <tr>\n",
       "      <th>5</th>\n",
       "      <td>.png</td>\n",
       "    </tr>\n",
       "    <tr>\n",
       "      <th>6</th>\n",
       "      <td>.lock</td>\n",
       "    </tr>\n",
       "    <tr>\n",
       "      <th>7</th>\n",
       "      <td>Pipfile</td>\n",
       "    </tr>\n",
       "    <tr>\n",
       "      <th>8</th>\n",
       "      <td>.json</td>\n",
       "    </tr>\n",
       "    <tr>\n",
       "      <th>9</th>\n",
       "      <td>.csv</td>\n",
       "    </tr>\n",
       "    <tr>\n",
       "      <th>10</th>\n",
       "      <td>.gitkeep</td>\n",
       "    </tr>\n",
       "    <tr>\n",
       "      <th>11</th>\n",
       "      <td>Dockerfile</td>\n",
       "    </tr>\n",
       "    <tr>\n",
       "      <th>12</th>\n",
       "      <td>.yml</td>\n",
       "    </tr>\n",
       "    <tr>\n",
       "      <th>13</th>\n",
       "      <td>.pkl</td>\n",
       "    </tr>\n",
       "    <tr>\n",
       "      <th>14</th>\n",
       "      <td>.xlsx</td>\n",
       "    </tr>\n",
       "    <tr>\n",
       "      <th>15</th>\n",
       "      <td>.pdf</td>\n",
       "    </tr>\n",
       "    <tr>\n",
       "      <th>16</th>\n",
       "      <td>LICENSE</td>\n",
       "    </tr>\n",
       "    <tr>\n",
       "      <th>17</th>\n",
       "      <td>None</td>\n",
       "    </tr>\n",
       "    <tr>\n",
       "      <th>18</th>\n",
       "      <td>OWNERS</td>\n",
       "    </tr>\n",
       "  </tbody>\n",
       "</table>\n",
       "</div>"
      ],
      "text/plain": [
       "      filetype\n",
       "0          .py\n",
       "1       .ipynb\n",
       "2          .md\n",
       "3    .pipeline\n",
       "4        .yaml\n",
       "5         .png\n",
       "6        .lock\n",
       "7      Pipfile\n",
       "8        .json\n",
       "9         .csv\n",
       "10    .gitkeep\n",
       "11  Dockerfile\n",
       "12        .yml\n",
       "13        .pkl\n",
       "14       .xlsx\n",
       "15        .pdf\n",
       "16     LICENSE\n",
       "17        None\n",
       "18      OWNERS"
      ]
     },
     "execution_count": 70,
     "metadata": {},
     "output_type": "execute_result"
    }
   ],
   "source": [
    "filetype_keep_cols_df"
   ]
  },
  {
   "cell_type": "code",
   "execution_count": 71,
   "id": "7333e449-4e2a-42aa-b728-3f36d205ed1f",
   "metadata": {
    "execution": {
     "iopub.execute_input": "2022-11-02T17:21:32.254486Z",
     "iopub.status.busy": "2022-11-02T17:21:32.254196Z",
     "iopub.status.idle": "2022-11-02T17:21:32.678583Z",
     "shell.execute_reply": "2022-11-02T17:21:32.677610Z"
    }
   },
   "outputs": [
    {
     "data": {
      "text/plain": [
       "{'ResponseMetadata': {'RequestId': 'l9zwogt9-epclpl-ufv',\n",
       "  'HostId': 'l9zwogt9-epclpl-ufv',\n",
       "  'HTTPStatusCode': 200,\n",
       "  'HTTPHeaders': {'x-amz-request-id': 'l9zwogt9-epclpl-ufv',\n",
       "   'x-amz-id-2': 'l9zwogt9-epclpl-ufv',\n",
       "   'access-control-allow-origin': '*',\n",
       "   'access-control-allow-credentials': 'true',\n",
       "   'access-control-allow-methods': 'GET,POST,PUT,DELETE,OPTIONS',\n",
       "   'access-control-allow-headers': 'Content-Type,Content-MD5,Authorization,X-Amz-User-Agent,X-Amz-Date,ETag,X-Amz-Content-Sha256',\n",
       "   'access-control-expose-headers': 'ETag,X-Amz-Version-Id',\n",
       "   'etag': '\"7c24aaca22f1dbd9935940540429d15e\"',\n",
       "   'date': 'Wed, 02 Nov 2022 17:21:32 GMT',\n",
       "   'keep-alive': 'timeout=5',\n",
       "   'content-length': '0',\n",
       "   'set-cookie': '1a4aa612fe797ac8466d7ee00e5520d5=a26d7dd2bae782e2ad6181b7887b5ff1; path=/; HttpOnly; Secure; SameSite=None'},\n",
       "  'RetryAttempts': 0},\n",
       " 'ETag': '\"7c24aaca22f1dbd9935940540429d15e\"'}"
      ]
     },
     "execution_count": 71,
     "metadata": {},
     "output_type": "execute_result"
    }
   ],
   "source": [
    "FILETYPE_FEATURES_FILENAME = os.path.join(ORG + REPO + \"FILETYPE.parquet\")\n",
    "FILETYPE_FEATURES_KEY = os.path.join(s3_input_data_path, ORG, REPO, \"features\")\n",
    "cc = CephCommunication(s3_endpoint_url, s3_access_key, s3_secret_key, s3_bucket)\n",
    "cc.upload_to_ceph(\n",
    "    filetype_keep_cols_df, FILETYPE_FEATURES_KEY, FILETYPE_FEATURES_FILENAME\n",
    ")"
   ]
  },
  {
   "cell_type": "code",
   "execution_count": 72,
   "id": "618842b5",
   "metadata": {
    "execution": {
     "iopub.execute_input": "2022-11-02T17:21:32.682683Z",
     "iopub.status.busy": "2022-11-02T17:21:32.682377Z",
     "iopub.status.idle": "2022-11-02T17:21:32.697919Z",
     "shell.execute_reply": "2022-11-02T17:21:32.696948Z"
    }
   },
   "outputs": [],
   "source": [
    "# explode the list column so that there is 1 column representing frequency of each word\n",
    "title_wordcount_df = pd.DataFrame(feature_df.title_word_counts_vec.to_list())\n",
    "\n",
    "title_wordcount_df.index = feature_df.index\n",
    "title_wordcount_df.columns = [f\"title_wordcount_{w}\" for w in unique_words]"
   ]
  },
  {
   "cell_type": "code",
   "execution_count": 73,
   "id": "457f28ed",
   "metadata": {
    "execution": {
     "iopub.execute_input": "2022-11-02T17:21:32.701663Z",
     "iopub.status.busy": "2022-11-02T17:21:32.701151Z",
     "iopub.status.idle": "2022-11-02T17:21:32.792180Z",
     "shell.execute_reply": "2022-11-02T17:21:32.791218Z"
    },
    "scrolled": true
   },
   "outputs": [
    {
     "data": {
      "text/plain": [
       "title_wordcount_model       0.219566\n",
       "title_wordcount_wip         0.216584\n",
       "title_wordcount_notebook    0.191474\n",
       "title_wordcount_add         0.188620\n",
       "title_wordcount_move        0.177775\n",
       "                              ...   \n",
       "title_wordcount_elyra      -0.188458\n",
       "title_wordcount_include    -0.225932\n",
       "title_wordcount_work       -0.225932\n",
       "title_wordcount_added      -0.232749\n",
       "title_wordcount_image      -0.247444\n",
       "Length: 221, dtype: float64"
      ]
     },
     "execution_count": 73,
     "metadata": {},
     "output_type": "execute_result"
    }
   ],
   "source": [
    "# compute correlation with ttm\n",
    "corr = title_wordcount_df.corrwith(feature_df[\"ttm_class\"])\n",
    "corr = corr.dropna()\n",
    "corr.sort_values(ascending=False)"
   ]
  },
  {
   "cell_type": "code",
   "execution_count": 74,
   "id": "0f1495a6",
   "metadata": {
    "execution": {
     "iopub.execute_input": "2022-11-02T17:21:32.795968Z",
     "iopub.status.busy": "2022-11-02T17:21:32.795665Z",
     "iopub.status.idle": "2022-11-02T17:21:32.809655Z",
     "shell.execute_reply": "2022-11-02T17:21:32.805375Z"
    }
   },
   "outputs": [
    {
     "data": {
      "text/plain": [
       "title_wordcount_aakanksha   -0.175509\n",
       "title_wordcount_access       0.123678\n",
       "title_wordcount_across       0.090435\n",
       "title_wordcount_add          0.188620\n",
       "title_wordcount_added       -0.232749\n",
       "                               ...   \n",
       "title_wordcount_wip          0.216584\n",
       "title_wordcount_work        -0.225932\n",
       "title_wordcount_workflow     0.090435\n",
       "title_wordcount_write        0.057192\n",
       "title_wordcount_yaml        -0.107756\n",
       "Length: 193, dtype: float64"
      ]
     },
     "execution_count": 74,
     "metadata": {},
     "output_type": "execute_result"
    }
   ],
   "source": [
    "corr[corr.abs() > 0.04]"
   ]
  },
  {
   "cell_type": "code",
   "execution_count": 75,
   "id": "624b3504",
   "metadata": {
    "execution": {
     "iopub.execute_input": "2022-11-02T17:21:32.813358Z",
     "iopub.status.busy": "2022-11-02T17:21:32.812997Z",
     "iopub.status.idle": "2022-11-02T17:21:32.819489Z",
     "shell.execute_reply": "2022-11-02T17:21:32.818479Z"
    }
   },
   "outputs": [],
   "source": [
    "# update list of features to keep for training\n",
    "# take everything that has more than 0.01 correlation magnitude\n",
    "title_word_keep_cols = corr[corr.abs() > 0.04].index.tolist()\n",
    "selected_features += title_word_keep_cols\n",
    "\n",
    "title_wordcount_df = title_wordcount_df[title_word_keep_cols]"
   ]
  },
  {
   "cell_type": "code",
   "execution_count": 76,
   "id": "45cd6a78-361c-444f-8065-4127f2e29313",
   "metadata": {
    "execution": {
     "iopub.execute_input": "2022-11-02T17:21:32.823728Z",
     "iopub.status.busy": "2022-11-02T17:21:32.823448Z",
     "iopub.status.idle": "2022-11-02T17:21:32.834983Z",
     "shell.execute_reply": "2022-11-02T17:21:32.833943Z"
    }
   },
   "outputs": [
    {
     "data": {
      "text/plain": [
       "['aakanksha',\n",
       " 'access',\n",
       " 'across',\n",
       " 'add',\n",
       " 'added',\n",
       " 'aicoe',\n",
       " 'allianz_nlp',\n",
       " 'analysis',\n",
       " 'answer',\n",
       " 'appears',\n",
       " 'automation',\n",
       " 'base',\n",
       " 'benchmark',\n",
       " 'benchmarking',\n",
       " 'benchmarks',\n",
       " 'breaking',\n",
       " 'builds',\n",
       " 'catalog',\n",
       " 'cdp',\n",
       " 'changed',\n",
       " 'changes',\n",
       " 'ci',\n",
       " 'cl2',\n",
       " 'class',\n",
       " 'climate',\n",
       " 'commit',\n",
       " 'config',\n",
       " 'consistent',\n",
       " 'content',\n",
       " 'create',\n",
       " 'creating',\n",
       " 'csv',\n",
       " 'curation',\n",
       " 'curator',\n",
       " 'data',\n",
       " 'dataframe',\n",
       " 'deadlock',\n",
       " 'demo1',\n",
       " 'demo2',\n",
       " 'dense',\n",
       " 'deprecation',\n",
       " 'deps',\n",
       " 'details',\n",
       " 'diagram',\n",
       " 'dir',\n",
       " 'dockerfile',\n",
       " 'downgrade',\n",
       " 'elyra',\n",
       " 'emissions',\n",
       " 'environment',\n",
       " 'error',\n",
       " 'errors',\n",
       " 'experiment',\n",
       " 'experiment_name',\n",
       " 'experiments',\n",
       " 'explore',\n",
       " 'extraction',\n",
       " 'finalize',\n",
       " 'fine',\n",
       " 'flag',\n",
       " 'git',\n",
       " 'gitignore',\n",
       " 'gpu',\n",
       " 'happy',\n",
       " 'hooks',\n",
       " 'iceberg',\n",
       " 'image',\n",
       " 'implementation',\n",
       " 'imports',\n",
       " 'include',\n",
       " 'infer',\n",
       " 'input',\n",
       " 'instead',\n",
       " 'ipynb',\n",
       " 'issues',\n",
       " 'itr',\n",
       " 'jupyter',\n",
       " 'jupyterhub',\n",
       " 'jupyterlab',\n",
       " 'keyerrors',\n",
       " 'kfp',\n",
       " 'kpi',\n",
       " 'kpi_extraction',\n",
       " 'kpi_inference_curator',\n",
       " 'kpi_mapping',\n",
       " 'kpis',\n",
       " 'latest',\n",
       " 'link',\n",
       " 'magic',\n",
       " 'maintainers',\n",
       " 'manifests',\n",
       " 'mapping',\n",
       " 'markdown',\n",
       " 'markupsafe',\n",
       " 'match',\n",
       " 'merge',\n",
       " 'metrics',\n",
       " 'missing',\n",
       " 'mlm',\n",
       " 'model',\n",
       " 'models',\n",
       " 'modify',\n",
       " 'move',\n",
       " 'name',\n",
       " 'nb',\n",
       " 'negative',\n",
       " 'neural',\n",
       " 'new',\n",
       " 'nimbus',\n",
       " 'nlp',\n",
       " 'nm',\n",
       " 'nodes',\n",
       " 'notebook',\n",
       " 'notebooks',\n",
       " 'oindrilla',\n",
       " 'one',\n",
       " 'openshift',\n",
       " 'order',\n",
       " 'original',\n",
       " 'os',\n",
       " 'owners',\n",
       " 'per',\n",
       " 'performance',\n",
       " 'pipeline',\n",
       " 'pipelines',\n",
       " 'pipfile',\n",
       " 'pre',\n",
       " 'precommit',\n",
       " 'preparation',\n",
       " 'prevent',\n",
       " 'processing',\n",
       " 'py',\n",
       " 'quay',\n",
       " 'read',\n",
       " 'readme',\n",
       " 'recipe',\n",
       " 'relevance',\n",
       " 'remove',\n",
       " 'repo',\n",
       " 'repository',\n",
       " 'restructure',\n",
       " 'result',\n",
       " 'resulting',\n",
       " 'results',\n",
       " 'run',\n",
       " 'runtime',\n",
       " 's3c',\n",
       " 'sampling',\n",
       " 'save',\n",
       " 'schema',\n",
       " 'script',\n",
       " 'secret',\n",
       " 'select',\n",
       " 'selection',\n",
       " 'separate',\n",
       " 'settings',\n",
       " 'setup',\n",
       " 'soft_unicode',\n",
       " 'specific',\n",
       " 'step',\n",
       " 'strings',\n",
       " 'table',\n",
       " 'tags',\n",
       " 'task',\n",
       " 'teacher',\n",
       " 'thoth',\n",
       " 'time',\n",
       " 'track',\n",
       " 'train',\n",
       " 'training',\n",
       " 'transformer',\n",
       " 'tune',\n",
       " 'tuning',\n",
       " 'tweak',\n",
       " 'unblock',\n",
       " 'update',\n",
       " 'updates',\n",
       " 'use',\n",
       " 'util',\n",
       " 'utils',\n",
       " 'var',\n",
       " 'variable',\n",
       " 'variables',\n",
       " 'version',\n",
       " 'versions',\n",
       " 'via',\n",
       " 'video',\n",
       " 'w',\n",
       " 'wip',\n",
       " 'work',\n",
       " 'workflow',\n",
       " 'write',\n",
       " 'yaml']"
      ]
     },
     "execution_count": 76,
     "metadata": {},
     "output_type": "execute_result"
    }
   ],
   "source": [
    "title_word_keep_cols = [i[16:] for i in title_word_keep_cols]\n",
    "title_word_keep_cols"
   ]
  },
  {
   "cell_type": "code",
   "execution_count": 77,
   "id": "8b937135-f983-4d6c-961e-f9c7158d108c",
   "metadata": {
    "execution": {
     "iopub.execute_input": "2022-11-02T17:21:32.839538Z",
     "iopub.status.busy": "2022-11-02T17:21:32.839025Z",
     "iopub.status.idle": "2022-11-02T17:21:32.845761Z",
     "shell.execute_reply": "2022-11-02T17:21:32.844826Z"
    }
   },
   "outputs": [],
   "source": [
    "title_word_keep_cols_df = pd.DataFrame(title_word_keep_cols, columns=[\"title\"])"
   ]
  },
  {
   "cell_type": "code",
   "execution_count": 78,
   "id": "63f382a4-5826-4d65-aa9f-5f3b56f1aad9",
   "metadata": {
    "execution": {
     "iopub.execute_input": "2022-11-02T17:21:32.849947Z",
     "iopub.status.busy": "2022-11-02T17:21:32.849600Z",
     "iopub.status.idle": "2022-11-02T17:21:32.862208Z",
     "shell.execute_reply": "2022-11-02T17:21:32.861286Z"
    }
   },
   "outputs": [
    {
     "data": {
      "text/html": [
       "<div>\n",
       "<style scoped>\n",
       "    .dataframe tbody tr th:only-of-type {\n",
       "        vertical-align: middle;\n",
       "    }\n",
       "\n",
       "    .dataframe tbody tr th {\n",
       "        vertical-align: top;\n",
       "    }\n",
       "\n",
       "    .dataframe thead th {\n",
       "        text-align: right;\n",
       "    }\n",
       "</style>\n",
       "<table border=\"1\" class=\"dataframe\">\n",
       "  <thead>\n",
       "    <tr style=\"text-align: right;\">\n",
       "      <th></th>\n",
       "      <th>title</th>\n",
       "    </tr>\n",
       "  </thead>\n",
       "  <tbody>\n",
       "    <tr>\n",
       "      <th>0</th>\n",
       "      <td>aakanksha</td>\n",
       "    </tr>\n",
       "    <tr>\n",
       "      <th>1</th>\n",
       "      <td>access</td>\n",
       "    </tr>\n",
       "    <tr>\n",
       "      <th>2</th>\n",
       "      <td>across</td>\n",
       "    </tr>\n",
       "    <tr>\n",
       "      <th>3</th>\n",
       "      <td>add</td>\n",
       "    </tr>\n",
       "    <tr>\n",
       "      <th>4</th>\n",
       "      <td>added</td>\n",
       "    </tr>\n",
       "    <tr>\n",
       "      <th>...</th>\n",
       "      <td>...</td>\n",
       "    </tr>\n",
       "    <tr>\n",
       "      <th>188</th>\n",
       "      <td>wip</td>\n",
       "    </tr>\n",
       "    <tr>\n",
       "      <th>189</th>\n",
       "      <td>work</td>\n",
       "    </tr>\n",
       "    <tr>\n",
       "      <th>190</th>\n",
       "      <td>workflow</td>\n",
       "    </tr>\n",
       "    <tr>\n",
       "      <th>191</th>\n",
       "      <td>write</td>\n",
       "    </tr>\n",
       "    <tr>\n",
       "      <th>192</th>\n",
       "      <td>yaml</td>\n",
       "    </tr>\n",
       "  </tbody>\n",
       "</table>\n",
       "<p>193 rows × 1 columns</p>\n",
       "</div>"
      ],
      "text/plain": [
       "         title\n",
       "0    aakanksha\n",
       "1       access\n",
       "2       across\n",
       "3          add\n",
       "4        added\n",
       "..         ...\n",
       "188        wip\n",
       "189       work\n",
       "190   workflow\n",
       "191      write\n",
       "192       yaml\n",
       "\n",
       "[193 rows x 1 columns]"
      ]
     },
     "execution_count": 78,
     "metadata": {},
     "output_type": "execute_result"
    }
   ],
   "source": [
    "title_word_keep_cols_df"
   ]
  },
  {
   "cell_type": "code",
   "execution_count": 79,
   "id": "2c67ed79-0555-4f0d-9557-3e6d335baeac",
   "metadata": {
    "execution": {
     "iopub.execute_input": "2022-11-02T17:21:32.866263Z",
     "iopub.status.busy": "2022-11-02T17:21:32.865871Z",
     "iopub.status.idle": "2022-11-02T17:21:33.199390Z",
     "shell.execute_reply": "2022-11-02T17:21:33.198318Z"
    }
   },
   "outputs": [
    {
     "data": {
      "text/plain": [
       "{'ResponseMetadata': {'RequestId': 'l9zwoha3-86lbqj-vvo',\n",
       "  'HostId': 'l9zwoha3-86lbqj-vvo',\n",
       "  'HTTPStatusCode': 200,\n",
       "  'HTTPHeaders': {'x-amz-request-id': 'l9zwoha3-86lbqj-vvo',\n",
       "   'x-amz-id-2': 'l9zwoha3-86lbqj-vvo',\n",
       "   'access-control-allow-origin': '*',\n",
       "   'access-control-allow-credentials': 'true',\n",
       "   'access-control-allow-methods': 'GET,POST,PUT,DELETE,OPTIONS',\n",
       "   'access-control-allow-headers': 'Content-Type,Content-MD5,Authorization,X-Amz-User-Agent,X-Amz-Date,ETag,X-Amz-Content-Sha256',\n",
       "   'access-control-expose-headers': 'ETag,X-Amz-Version-Id',\n",
       "   'etag': '\"bff50f5aeeb7e4efa2e636cbd04cf65d\"',\n",
       "   'date': 'Wed, 02 Nov 2022 17:21:33 GMT',\n",
       "   'keep-alive': 'timeout=5',\n",
       "   'content-length': '0',\n",
       "   'set-cookie': '1a4aa612fe797ac8466d7ee00e5520d5=a26d7dd2bae782e2ad6181b7887b5ff1; path=/; HttpOnly; Secure; SameSite=None'},\n",
       "  'RetryAttempts': 0},\n",
       " 'ETag': '\"bff50f5aeeb7e4efa2e636cbd04cf65d\"'}"
      ]
     },
     "execution_count": 79,
     "metadata": {},
     "output_type": "execute_result"
    }
   ],
   "source": [
    "TITLE_FEATURES_FILENAME = os.path.join(ORG + REPO + \"titlewords.parquet\")\n",
    "TITLE_FEATURES_KEY = os.path.join(s3_input_data_path, ORG, REPO, \"features\")\n",
    "cc = CephCommunication(s3_endpoint_url, s3_access_key, s3_secret_key, s3_bucket)\n",
    "cc.upload_to_ceph(title_word_keep_cols_df, TITLE_FEATURES_KEY, TITLE_FEATURES_FILENAME)"
   ]
  },
  {
   "cell_type": "markdown",
   "id": "105e4b18",
   "metadata": {},
   "source": [
    "Using various feature importance scores such as chi-squared, mutual information statistic, correlation values, we have selected the most relevant features amongst all of our features. "
   ]
  },
  {
   "cell_type": "code",
   "execution_count": 80,
   "id": "4cdafdae",
   "metadata": {
    "execution": {
     "iopub.execute_input": "2022-11-02T17:21:33.203525Z",
     "iopub.status.busy": "2022-11-02T17:21:33.203218Z",
     "iopub.status.idle": "2022-11-02T17:21:33.211052Z",
     "shell.execute_reply": "2022-11-02T17:21:33.210174Z"
    },
    "tags": []
   },
   "outputs": [
    {
     "data": {
      "text/plain": [
       "['size',\n",
       " 'created_at_day',\n",
       " 'created_at_month',\n",
       " 'created_at_weekday',\n",
       " 'created_at_hour',\n",
       " 'changed_files_number',\n",
       " 'body_size',\n",
       " 'commits_number',\n",
       " 'filetype_.py',\n",
       " 'filetype_.ipynb',\n",
       " 'filetype_.md',\n",
       " 'filetype_.pipeline',\n",
       " 'filetype_.yaml',\n",
       " 'filetype_.png',\n",
       " 'filetype_.lock',\n",
       " 'filetype_Pipfile',\n",
       " 'filetype_.json',\n",
       " 'filetype_.csv',\n",
       " 'filetype_.gitkeep',\n",
       " 'filetype_Dockerfile',\n",
       " 'filetype_.yml',\n",
       " 'filetype_.pkl',\n",
       " 'filetype_.xlsx',\n",
       " 'filetype_.pdf',\n",
       " 'filetype_LICENSE',\n",
       " 'filetype_None',\n",
       " 'filetype_OWNERS',\n",
       " 'title_wordcount_aakanksha',\n",
       " 'title_wordcount_access',\n",
       " 'title_wordcount_across',\n",
       " 'title_wordcount_add',\n",
       " 'title_wordcount_added',\n",
       " 'title_wordcount_aicoe',\n",
       " 'title_wordcount_allianz_nlp',\n",
       " 'title_wordcount_analysis',\n",
       " 'title_wordcount_answer',\n",
       " 'title_wordcount_appears',\n",
       " 'title_wordcount_automation',\n",
       " 'title_wordcount_base',\n",
       " 'title_wordcount_benchmark',\n",
       " 'title_wordcount_benchmarking',\n",
       " 'title_wordcount_benchmarks',\n",
       " 'title_wordcount_breaking',\n",
       " 'title_wordcount_builds',\n",
       " 'title_wordcount_catalog',\n",
       " 'title_wordcount_cdp',\n",
       " 'title_wordcount_changed',\n",
       " 'title_wordcount_changes',\n",
       " 'title_wordcount_ci',\n",
       " 'title_wordcount_cl2',\n",
       " 'title_wordcount_class',\n",
       " 'title_wordcount_climate',\n",
       " 'title_wordcount_commit',\n",
       " 'title_wordcount_config',\n",
       " 'title_wordcount_consistent',\n",
       " 'title_wordcount_content',\n",
       " 'title_wordcount_create',\n",
       " 'title_wordcount_creating',\n",
       " 'title_wordcount_csv',\n",
       " 'title_wordcount_curation',\n",
       " 'title_wordcount_curator',\n",
       " 'title_wordcount_data',\n",
       " 'title_wordcount_dataframe',\n",
       " 'title_wordcount_deadlock',\n",
       " 'title_wordcount_demo1',\n",
       " 'title_wordcount_demo2',\n",
       " 'title_wordcount_dense',\n",
       " 'title_wordcount_deprecation',\n",
       " 'title_wordcount_deps',\n",
       " 'title_wordcount_details',\n",
       " 'title_wordcount_diagram',\n",
       " 'title_wordcount_dir',\n",
       " 'title_wordcount_dockerfile',\n",
       " 'title_wordcount_downgrade',\n",
       " 'title_wordcount_elyra',\n",
       " 'title_wordcount_emissions',\n",
       " 'title_wordcount_environment',\n",
       " 'title_wordcount_error',\n",
       " 'title_wordcount_errors',\n",
       " 'title_wordcount_experiment',\n",
       " 'title_wordcount_experiment_name',\n",
       " 'title_wordcount_experiments',\n",
       " 'title_wordcount_explore',\n",
       " 'title_wordcount_extraction',\n",
       " 'title_wordcount_finalize',\n",
       " 'title_wordcount_fine',\n",
       " 'title_wordcount_flag',\n",
       " 'title_wordcount_git',\n",
       " 'title_wordcount_gitignore',\n",
       " 'title_wordcount_gpu',\n",
       " 'title_wordcount_happy',\n",
       " 'title_wordcount_hooks',\n",
       " 'title_wordcount_iceberg',\n",
       " 'title_wordcount_image',\n",
       " 'title_wordcount_implementation',\n",
       " 'title_wordcount_imports',\n",
       " 'title_wordcount_include',\n",
       " 'title_wordcount_infer',\n",
       " 'title_wordcount_input',\n",
       " 'title_wordcount_instead',\n",
       " 'title_wordcount_ipynb',\n",
       " 'title_wordcount_issues',\n",
       " 'title_wordcount_itr',\n",
       " 'title_wordcount_jupyter',\n",
       " 'title_wordcount_jupyterhub',\n",
       " 'title_wordcount_jupyterlab',\n",
       " 'title_wordcount_keyerrors',\n",
       " 'title_wordcount_kfp',\n",
       " 'title_wordcount_kpi',\n",
       " 'title_wordcount_kpi_extraction',\n",
       " 'title_wordcount_kpi_inference_curator',\n",
       " 'title_wordcount_kpi_mapping',\n",
       " 'title_wordcount_kpis',\n",
       " 'title_wordcount_latest',\n",
       " 'title_wordcount_link',\n",
       " 'title_wordcount_magic',\n",
       " 'title_wordcount_maintainers',\n",
       " 'title_wordcount_manifests',\n",
       " 'title_wordcount_mapping',\n",
       " 'title_wordcount_markdown',\n",
       " 'title_wordcount_markupsafe',\n",
       " 'title_wordcount_match',\n",
       " 'title_wordcount_merge',\n",
       " 'title_wordcount_metrics',\n",
       " 'title_wordcount_missing',\n",
       " 'title_wordcount_mlm',\n",
       " 'title_wordcount_model',\n",
       " 'title_wordcount_models',\n",
       " 'title_wordcount_modify',\n",
       " 'title_wordcount_move',\n",
       " 'title_wordcount_name',\n",
       " 'title_wordcount_nb',\n",
       " 'title_wordcount_negative',\n",
       " 'title_wordcount_neural',\n",
       " 'title_wordcount_new',\n",
       " 'title_wordcount_nimbus',\n",
       " 'title_wordcount_nlp',\n",
       " 'title_wordcount_nm',\n",
       " 'title_wordcount_nodes',\n",
       " 'title_wordcount_notebook',\n",
       " 'title_wordcount_notebooks',\n",
       " 'title_wordcount_oindrilla',\n",
       " 'title_wordcount_one',\n",
       " 'title_wordcount_openshift',\n",
       " 'title_wordcount_order',\n",
       " 'title_wordcount_original',\n",
       " 'title_wordcount_os',\n",
       " 'title_wordcount_owners',\n",
       " 'title_wordcount_per',\n",
       " 'title_wordcount_performance',\n",
       " 'title_wordcount_pipeline',\n",
       " 'title_wordcount_pipelines',\n",
       " 'title_wordcount_pipfile',\n",
       " 'title_wordcount_pre',\n",
       " 'title_wordcount_precommit',\n",
       " 'title_wordcount_preparation',\n",
       " 'title_wordcount_prevent',\n",
       " 'title_wordcount_processing',\n",
       " 'title_wordcount_py',\n",
       " 'title_wordcount_quay',\n",
       " 'title_wordcount_read',\n",
       " 'title_wordcount_readme',\n",
       " 'title_wordcount_recipe',\n",
       " 'title_wordcount_relevance',\n",
       " 'title_wordcount_remove',\n",
       " 'title_wordcount_repo',\n",
       " 'title_wordcount_repository',\n",
       " 'title_wordcount_restructure',\n",
       " 'title_wordcount_result',\n",
       " 'title_wordcount_resulting',\n",
       " 'title_wordcount_results',\n",
       " 'title_wordcount_run',\n",
       " 'title_wordcount_runtime',\n",
       " 'title_wordcount_s3c',\n",
       " 'title_wordcount_sampling',\n",
       " 'title_wordcount_save',\n",
       " 'title_wordcount_schema',\n",
       " 'title_wordcount_script',\n",
       " 'title_wordcount_secret',\n",
       " 'title_wordcount_select',\n",
       " 'title_wordcount_selection',\n",
       " 'title_wordcount_separate',\n",
       " 'title_wordcount_settings',\n",
       " 'title_wordcount_setup',\n",
       " 'title_wordcount_soft_unicode',\n",
       " 'title_wordcount_specific',\n",
       " 'title_wordcount_step',\n",
       " 'title_wordcount_strings',\n",
       " 'title_wordcount_table',\n",
       " 'title_wordcount_tags',\n",
       " 'title_wordcount_task',\n",
       " 'title_wordcount_teacher',\n",
       " 'title_wordcount_thoth',\n",
       " 'title_wordcount_time',\n",
       " 'title_wordcount_track',\n",
       " 'title_wordcount_train',\n",
       " 'title_wordcount_training',\n",
       " 'title_wordcount_transformer',\n",
       " 'title_wordcount_tune',\n",
       " 'title_wordcount_tuning',\n",
       " 'title_wordcount_tweak',\n",
       " 'title_wordcount_unblock',\n",
       " 'title_wordcount_update',\n",
       " 'title_wordcount_updates',\n",
       " 'title_wordcount_use',\n",
       " 'title_wordcount_util',\n",
       " 'title_wordcount_utils',\n",
       " 'title_wordcount_var',\n",
       " 'title_wordcount_variable',\n",
       " 'title_wordcount_variables',\n",
       " 'title_wordcount_version',\n",
       " 'title_wordcount_versions',\n",
       " 'title_wordcount_via',\n",
       " 'title_wordcount_video',\n",
       " 'title_wordcount_w',\n",
       " 'title_wordcount_wip',\n",
       " 'title_wordcount_work',\n",
       " 'title_wordcount_workflow',\n",
       " 'title_wordcount_write',\n",
       " 'title_wordcount_yaml']"
      ]
     },
     "execution_count": 80,
     "metadata": {},
     "output_type": "execute_result"
    }
   ],
   "source": [
    "selected_features"
   ]
  },
  {
   "cell_type": "markdown",
   "id": "ddda4924",
   "metadata": {},
   "source": [
    "## Save Feature Engineered Dataset"
   ]
  },
  {
   "cell_type": "code",
   "execution_count": 81,
   "id": "894941f7-9815-44af-867a-9e206502cd7a",
   "metadata": {
    "execution": {
     "iopub.execute_input": "2022-11-02T17:21:33.214692Z",
     "iopub.status.busy": "2022-11-02T17:21:33.214401Z",
     "iopub.status.idle": "2022-11-02T17:21:33.234717Z",
     "shell.execute_reply": "2022-11-02T17:21:33.233830Z"
    }
   },
   "outputs": [
    {
     "data": {
      "text/html": [
       "<div>\n",
       "<style scoped>\n",
       "    .dataframe tbody tr th:only-of-type {\n",
       "        vertical-align: middle;\n",
       "    }\n",
       "\n",
       "    .dataframe tbody tr th {\n",
       "        vertical-align: top;\n",
       "    }\n",
       "\n",
       "    .dataframe thead th {\n",
       "        text-align: right;\n",
       "    }\n",
       "</style>\n",
       "<table border=\"1\" class=\"dataframe\">\n",
       "  <thead>\n",
       "    <tr style=\"text-align: right;\">\n",
       "      <th></th>\n",
       "      <th>size</th>\n",
       "      <th>created_at_day</th>\n",
       "      <th>created_at_month</th>\n",
       "      <th>created_at_weekday</th>\n",
       "      <th>created_at_hour</th>\n",
       "      <th>changed_files_number</th>\n",
       "      <th>body_size</th>\n",
       "      <th>commits_number</th>\n",
       "      <th>filetype_.py</th>\n",
       "      <th>filetype_.ipynb</th>\n",
       "      <th>...</th>\n",
       "      <th>title_wordcount_via</th>\n",
       "      <th>title_wordcount_video</th>\n",
       "      <th>title_wordcount_w</th>\n",
       "      <th>title_wordcount_wip</th>\n",
       "      <th>title_wordcount_work</th>\n",
       "      <th>title_wordcount_workflow</th>\n",
       "      <th>title_wordcount_write</th>\n",
       "      <th>title_wordcount_yaml</th>\n",
       "      <th>ttm_class</th>\n",
       "      <th>time_to_merge</th>\n",
       "    </tr>\n",
       "  </thead>\n",
       "  <tbody>\n",
       "    <tr>\n",
       "      <th>0</th>\n",
       "      <td>0</td>\n",
       "      <td>2</td>\n",
       "      <td>11</td>\n",
       "      <td>2</td>\n",
       "      <td>16</td>\n",
       "      <td>1</td>\n",
       "      <td>3</td>\n",
       "      <td>1</td>\n",
       "      <td>0</td>\n",
       "      <td>0</td>\n",
       "      <td>...</td>\n",
       "      <td>0</td>\n",
       "      <td>0</td>\n",
       "      <td>0</td>\n",
       "      <td>0</td>\n",
       "      <td>0</td>\n",
       "      <td>0</td>\n",
       "      <td>0</td>\n",
       "      <td>0</td>\n",
       "      <td>9</td>\n",
       "      <td>NaN</td>\n",
       "    </tr>\n",
       "    <tr>\n",
       "      <th>1</th>\n",
       "      <td>2</td>\n",
       "      <td>31</td>\n",
       "      <td>10</td>\n",
       "      <td>0</td>\n",
       "      <td>15</td>\n",
       "      <td>5</td>\n",
       "      <td>40</td>\n",
       "      <td>1</td>\n",
       "      <td>0</td>\n",
       "      <td>5</td>\n",
       "      <td>...</td>\n",
       "      <td>0</td>\n",
       "      <td>0</td>\n",
       "      <td>0</td>\n",
       "      <td>0</td>\n",
       "      <td>0</td>\n",
       "      <td>0</td>\n",
       "      <td>0</td>\n",
       "      <td>0</td>\n",
       "      <td>2</td>\n",
       "      <td>13666.0</td>\n",
       "    </tr>\n",
       "    <tr>\n",
       "      <th>2</th>\n",
       "      <td>5</td>\n",
       "      <td>25</td>\n",
       "      <td>10</td>\n",
       "      <td>1</td>\n",
       "      <td>22</td>\n",
       "      <td>5</td>\n",
       "      <td>2</td>\n",
       "      <td>1</td>\n",
       "      <td>0</td>\n",
       "      <td>5</td>\n",
       "      <td>...</td>\n",
       "      <td>0</td>\n",
       "      <td>0</td>\n",
       "      <td>0</td>\n",
       "      <td>0</td>\n",
       "      <td>0</td>\n",
       "      <td>0</td>\n",
       "      <td>0</td>\n",
       "      <td>0</td>\n",
       "      <td>5</td>\n",
       "      <td>133369.0</td>\n",
       "    </tr>\n",
       "    <tr>\n",
       "      <th>3</th>\n",
       "      <td>5</td>\n",
       "      <td>18</td>\n",
       "      <td>10</td>\n",
       "      <td>1</td>\n",
       "      <td>23</td>\n",
       "      <td>3</td>\n",
       "      <td>13</td>\n",
       "      <td>1</td>\n",
       "      <td>0</td>\n",
       "      <td>1</td>\n",
       "      <td>...</td>\n",
       "      <td>0</td>\n",
       "      <td>0</td>\n",
       "      <td>0</td>\n",
       "      <td>0</td>\n",
       "      <td>0</td>\n",
       "      <td>0</td>\n",
       "      <td>0</td>\n",
       "      <td>0</td>\n",
       "      <td>9</td>\n",
       "      <td>NaN</td>\n",
       "    </tr>\n",
       "    <tr>\n",
       "      <th>4</th>\n",
       "      <td>5</td>\n",
       "      <td>12</td>\n",
       "      <td>10</td>\n",
       "      <td>2</td>\n",
       "      <td>21</td>\n",
       "      <td>3</td>\n",
       "      <td>29</td>\n",
       "      <td>1</td>\n",
       "      <td>0</td>\n",
       "      <td>2</td>\n",
       "      <td>...</td>\n",
       "      <td>0</td>\n",
       "      <td>0</td>\n",
       "      <td>0</td>\n",
       "      <td>0</td>\n",
       "      <td>0</td>\n",
       "      <td>0</td>\n",
       "      <td>0</td>\n",
       "      <td>0</td>\n",
       "      <td>9</td>\n",
       "      <td>NaN</td>\n",
       "    </tr>\n",
       "  </tbody>\n",
       "</table>\n",
       "<p>5 rows × 222 columns</p>\n",
       "</div>"
      ],
      "text/plain": [
       "   size  created_at_day  created_at_month  created_at_weekday  \\\n",
       "0     0               2                11                   2   \n",
       "1     2              31                10                   0   \n",
       "2     5              25                10                   1   \n",
       "3     5              18                10                   1   \n",
       "4     5              12                10                   2   \n",
       "\n",
       "   created_at_hour  changed_files_number  body_size  commits_number  \\\n",
       "0               16                     1          3               1   \n",
       "1               15                     5         40               1   \n",
       "2               22                     5          2               1   \n",
       "3               23                     3         13               1   \n",
       "4               21                     3         29               1   \n",
       "\n",
       "   filetype_.py  filetype_.ipynb  ...  title_wordcount_via  \\\n",
       "0             0                0  ...                    0   \n",
       "1             0                5  ...                    0   \n",
       "2             0                5  ...                    0   \n",
       "3             0                1  ...                    0   \n",
       "4             0                2  ...                    0   \n",
       "\n",
       "   title_wordcount_video  title_wordcount_w  title_wordcount_wip  \\\n",
       "0                      0                  0                    0   \n",
       "1                      0                  0                    0   \n",
       "2                      0                  0                    0   \n",
       "3                      0                  0                    0   \n",
       "4                      0                  0                    0   \n",
       "\n",
       "   title_wordcount_work  title_wordcount_workflow  title_wordcount_write  \\\n",
       "0                     0                         0                      0   \n",
       "1                     0                         0                      0   \n",
       "2                     0                         0                      0   \n",
       "3                     0                         0                      0   \n",
       "4                     0                         0                      0   \n",
       "\n",
       "   title_wordcount_yaml  ttm_class  time_to_merge  \n",
       "0                     0          9            NaN  \n",
       "1                     0          2        13666.0  \n",
       "2                     0          5       133369.0  \n",
       "3                     0          9            NaN  \n",
       "4                     0          9            NaN  \n",
       "\n",
       "[5 rows x 222 columns]"
      ]
     },
     "execution_count": 81,
     "metadata": {},
     "output_type": "execute_result"
    }
   ],
   "source": [
    "# join all types of features\n",
    "ttm_dataset = pd.concat(\n",
    "    [feature_df, filetype_df, title_wordcount_df], axis=1, ignore_index=False\n",
    ")\n",
    "\n",
    "# keep only the selected features and the prediction label\n",
    "ttm_dataset = ttm_dataset[selected_features + [\"ttm_class\", \"time_to_merge\"]]\n",
    "\n",
    "ttm_dataset.head()"
   ]
  },
  {
   "cell_type": "code",
   "execution_count": 82,
   "id": "4fd9e422-eaf1-4c80-9375-5d71ac985171",
   "metadata": {
    "execution": {
     "iopub.execute_input": "2022-11-02T17:21:33.237798Z",
     "iopub.status.busy": "2022-11-02T17:21:33.237547Z",
     "iopub.status.idle": "2022-11-02T17:21:33.256435Z",
     "shell.execute_reply": "2022-11-02T17:21:33.255532Z"
    }
   },
   "outputs": [
    {
     "name": "stdout",
     "output_type": "stream",
     "text": [
      "<class 'pandas.core.frame.DataFrame'>\n",
      "RangeIndex: 93 entries, 0 to 92\n",
      "Columns: 222 entries, size to time_to_merge\n",
      "dtypes: float64(1), int64(221)\n",
      "memory usage: 161.4 KB\n"
     ]
    }
   ],
   "source": [
    "ttm_dataset.info()"
   ]
  },
  {
   "cell_type": "markdown",
   "id": "4a949795",
   "metadata": {},
   "source": [
    "## Save results to Ceph or locally\n",
    "\n",
    "Using the helper function to save the data frame in a parquet format on the Ceph bucket if we are running in automation, and locally if not."
   ]
  },
  {
   "cell_type": "code",
   "execution_count": 83,
   "id": "ecd03940-1b27-4472-ae97-469a4ad8a25a",
   "metadata": {
    "execution": {
     "iopub.execute_input": "2022-11-02T17:21:33.259802Z",
     "iopub.status.busy": "2022-11-02T17:21:33.259554Z",
     "iopub.status.idle": "2022-11-02T17:21:33.265163Z",
     "shell.execute_reply": "2022-11-02T17:21:33.263908Z"
    }
   },
   "outputs": [],
   "source": [
    "TTM_DATASET_PATH = os.path.join(s3_input_data_path, ORG, REPO)"
   ]
  },
  {
   "cell_type": "code",
   "execution_count": 84,
   "id": "adfdfb1b",
   "metadata": {
    "execution": {
     "iopub.execute_input": "2022-11-02T17:21:33.268533Z",
     "iopub.status.busy": "2022-11-02T17:21:33.268289Z",
     "iopub.status.idle": "2022-11-02T17:21:33.831509Z",
     "shell.execute_reply": "2022-11-02T17:21:33.830494Z"
    }
   },
   "outputs": [],
   "source": [
    "## Sanity check to see if the dataset is the same\n",
    "\n",
    "if REMOTE:\n",
    "    cc = CephCommunication(s3_endpoint_url, s3_access_key, s3_secret_key, s3_bucket)\n",
    "    try:\n",
    "        cc.upload_to_ceph(\n",
    "            ttm_dataset,\n",
    "            TTM_DATASET_PATH,\n",
    "            \"ttm_feature_engineered_dataset.parquet\",\n",
    "        )\n",
    "    except ValueError as ve:\n",
    "        print(ve)\n",
    "        print(\"Files already uploaded to S3\")\n",
    "\n",
    "else:\n",
    "    save_to_disk(\n",
    "        ttm_dataset,\n",
    "        local_output_data_path,\n",
    "        \"ttm_dataset.parquet\",\n",
    "    )"
   ]
  },
  {
   "cell_type": "markdown",
   "id": "2cbcdde4-d2f2-418c-9143-c32e48faf29d",
   "metadata": {},
   "source": [
    "### Check contents of the S3 bucket so far"
   ]
  },
  {
   "cell_type": "code",
   "execution_count": 85,
   "id": "c6006c47-ea07-45a3-95e7-48e13910d4af",
   "metadata": {
    "execution": {
     "iopub.execute_input": "2022-11-02T17:21:33.835762Z",
     "iopub.status.busy": "2022-11-02T17:21:33.835504Z",
     "iopub.status.idle": "2022-11-02T17:21:57.430264Z",
     "shell.execute_reply": "2022-11-02T17:21:57.429277Z"
    }
   },
   "outputs": [
    {
     "data": {
      "text/plain": [
       "[s3.ObjectSummary(bucket_name='opf-datacatalog', key='nov/operate-first/community/features/operate-firstcommunityFILETYPE.parquet'),\n",
       " s3.ObjectSummary(bucket_name='opf-datacatalog', key='nov/operate-first/community/features/operate-firstcommunitytitlewords.parquet'),\n",
       " s3.ObjectSummary(bucket_name='opf-datacatalog', key='nov/operate-first/community/test-data/X_test.parquet'),\n",
       " s3.ObjectSummary(bucket_name='opf-datacatalog', key='nov/operate-first/community/test-data/y_test.parquet'),\n",
       " s3.ObjectSummary(bucket_name='opf-datacatalog', key='nov/operate-first/community/ttm-model/model.joblib'),\n",
       " s3.ObjectSummary(bucket_name='opf-datacatalog', key='nov/operate-first/community/ttm_feature_engineered_dataset.parquet'),\n",
       " s3.ObjectSummary(bucket_name='opf-datacatalog', key='nov/operate-first/operations/features/operate-firstoperationsFILETYPE.parquet'),\n",
       " s3.ObjectSummary(bucket_name='opf-datacatalog', key='nov/operate-first/operations/features/operate-firstoperationstitlewords.parquet'),\n",
       " s3.ObjectSummary(bucket_name='opf-datacatalog', key='nov/operate-first/operations/test-data/X_test.parquet'),\n",
       " s3.ObjectSummary(bucket_name='opf-datacatalog', key='nov/operate-first/operations/test-data/y_test.parquet'),\n",
       " s3.ObjectSummary(bucket_name='opf-datacatalog', key='nov/operate-first/operations/ttm-model/model.joblib'),\n",
       " s3.ObjectSummary(bucket_name='opf-datacatalog', key='nov/operate-first/operations/ttm_feature_engineered_dataset.parquet'),\n",
       " s3.ObjectSummary(bucket_name='opf-datacatalog', key='nov/os-climate/aicoe-osc-demo/features/os-climateaicoe-osc-demoFILETYPE.parquet'),\n",
       " s3.ObjectSummary(bucket_name='opf-datacatalog', key='nov/os-climate/aicoe-osc-demo/features/os-climateaicoe-osc-demotitlewords.parquet'),\n",
       " s3.ObjectSummary(bucket_name='opf-datacatalog', key='nov/os-climate/aicoe-osc-demo/ttm_feature_engineered_dataset.parquet'),\n",
       " s3.ObjectSummary(bucket_name='opf-datacatalog', key='nov/srcopsmetrics/bot_knowledge/operate-first/community/PullRequest.json'),\n",
       " s3.ObjectSummary(bucket_name='opf-datacatalog', key='nov/srcopsmetrics/bot_knowledge/operate-first/operations/PullRequest.json'),\n",
       " s3.ObjectSummary(bucket_name='opf-datacatalog', key='nov/srcopsmetrics/bot_knowledge/os-climate/aicoe-osc-demo/PullRequest.json')]"
      ]
     },
     "execution_count": 85,
     "metadata": {},
     "output_type": "execute_result"
    }
   ],
   "source": [
    "# check all raw data files in s3\n",
    "bucket = cc.s3_resource.Bucket(s3_bucket)\n",
    "objects = [i for i in bucket.objects.all() if s3_input_data_path + \"/\" in i.key]\n",
    "sorted(objects, key=lambda x: x.key)"
   ]
  },
  {
   "cell_type": "markdown",
   "id": "165910c8",
   "metadata": {},
   "source": [
    "# Conclusion\n",
    "\n",
    "This notebook walked through how to access saved raw Pull Requests data from the previous data collection notebook and we engineered some possible features which can be used to predict time to merge of a PR. \n",
    "\n",
    "The features we engineered are as following:\n",
    "\n",
    "- time_to_merge: time taken to merge a PR in seconds, this is feature we will try to predict\n",
    "- changed_files_number: integer indicating the number of files changed, this is an available column\n",
    "- body_size: integer indicating the number of words in the body of the PR, derived from body\n",
    "- size: integer corresponding to a categorical label generated by GitHub which summarizes the size of the changes made to the code base \n",
    "- title_word_counts_vec: vector or list indicating how many times each word appeared in the title\n",
    "- created_at_day: categorical variable indicating the day of month the PR has been created, derived from created_at\n",
    "- created_at_month: categorical variable indicating the month of the year that the PR has been created, derived from created_at\n",
    "- created_at_weekday: categorical variable indicating the day of the week the PR has been created, derived from created_at\n",
    "- created_at_hour: categorical variable indicating the hour of the day the PR has been created, derived from created_at\n",
    "- commits_number: integer indicating the number of commits in the PR\n",
    "- changed_file_type_vec:  vector or list consisting of number of files changed for the top 100 most frequently occurring data types, derived from changed_files\n",
    "\n",
    "\n",
    "# Next Step\n",
    "\n",
    "In the next [notebook](./03_model_training.ipynb), we will train a classifier to predict time to merge of a PR using the features."
   ]
  }
 ],
 "metadata": {
  "kernelspec": {
   "display_name": "Python 3",
   "language": "python",
   "name": "python3"
  },
  "language_info": {
   "codemirror_mode": {
    "name": "ipython",
    "version": 3
   },
   "file_extension": ".py",
   "mimetype": "text/x-python",
   "name": "python",
   "nbconvert_exporter": "python",
   "pygments_lexer": "ipython3",
   "version": "3.8.8"
  }
 },
 "nbformat": 4,
 "nbformat_minor": 5
}
