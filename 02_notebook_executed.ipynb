{
 "cells": [
  {
   "cell_type": "markdown",
   "id": "6a8d0182",
   "metadata": {
    "tags": []
   },
   "source": [
    "# Feature engineering on extracted Pull Requests data\n",
    "\n",
    "\n",
    "## What we did previously\n",
    "\n",
    "In the previous [notebook](./01_data_collection.ipynb) we collected data from a Github repository of choice and store them on S3 storage\n",
    "\n",
    "## In this step\n",
    "\n",
    "In this notebook we will walk through how to start analyzing the PR data collected from a Github repository.\n",
    "\n",
    "We explore the various fields in the PR dataset and the features that we can derive from them in order to frame an a Machine Learning where we predict the time taken to merge a PR."
   ]
  },
  {
   "cell_type": "code",
   "execution_count": 1,
   "id": "dfe11a56",
   "metadata": {
    "execution": {
     "iopub.execute_input": "2022-11-02T16:16:34.472370Z",
     "iopub.status.busy": "2022-11-02T16:16:34.472042Z",
     "iopub.status.idle": "2022-11-02T16:16:36.120685Z",
     "shell.execute_reply": "2022-11-02T16:16:36.119856Z"
    }
   },
   "outputs": [],
   "source": [
    "import os\n",
    "import re\n",
    "import gzip\n",
    "import json\n",
    "import boto3\n",
    "import pathlib\n",
    "import datetime\n",
    "from tqdm import tqdm\n",
    "from io import BytesIO\n",
    "from pathlib import Path\n",
    "from functools import partial\n",
    "from collections import Counter\n",
    "\n",
    "import numpy as np\n",
    "import pandas as pd\n",
    "\n",
    "import matplotlib.pyplot as plt\n",
    "import seaborn as sns\n",
    "from wordcloud import STOPWORDS\n",
    "\n",
    "from sklearn.feature_selection import SelectKBest\n",
    "from sklearn.feature_selection import chi2\n",
    "from sklearn.feature_selection import mutual_info_classif, f_classif\n",
    "\n",
    "from dotenv import load_dotenv, find_dotenv"
   ]
  },
  {
   "cell_type": "code",
   "execution_count": 2,
   "id": "077bc87f-fd57-40ac-ab45-8ebddaadc46b",
   "metadata": {
    "execution": {
     "iopub.execute_input": "2022-11-02T16:16:36.125309Z",
     "iopub.status.busy": "2022-11-02T16:16:36.124906Z",
     "iopub.status.idle": "2022-11-02T16:16:36.135092Z",
     "shell.execute_reply": "2022-11-02T16:16:36.134330Z"
    }
   },
   "outputs": [],
   "source": [
    "class CephCommunication:\n",
    "    \"\"\"\n",
    "    Class to establish communication with a ceph s3 bucket.\n",
    "    It connects with the bucket and provides methods to read and write data in the parquet format.\n",
    "    \"\"\"\n",
    "\n",
    "    def __init__(\n",
    "        self, s3_endpoint_url, aws_access_key_id, aws_secret_access_key, s3_bucket\n",
    "    ):\n",
    "        self.s3_endpoint_url = s3_endpoint_url\n",
    "        self.aws_access_key_id = aws_access_key_id\n",
    "        self.aws_secret_access_key = aws_secret_access_key\n",
    "        self.s3_resource = boto3.resource(\n",
    "            \"s3\",\n",
    "            endpoint_url=self.s3_endpoint_url,\n",
    "            aws_access_key_id=self.aws_access_key_id,\n",
    "            aws_secret_access_key=self.aws_secret_access_key,\n",
    "        )\n",
    "        self.bucket = s3_bucket\n",
    "        ## Todo: Add try catch\n",
    "\n",
    "    def upload_to_ceph(self, dataframe, s3_path, filename):\n",
    "        \"\"\"\n",
    "        This helper function takes as input the data frame to be uploaded, and the output filename.\n",
    "        It then saves the data frame in the defined ceph bucket.\n",
    "        \"\"\"\n",
    "        parquet_buffer = BytesIO()\n",
    "        dataframe.to_parquet(parquet_buffer)\n",
    "        s3_obj = self.s3_resource.Object(self.bucket, f\"{s3_path}/{filename}\")\n",
    "        status = s3_obj.put(Body=parquet_buffer.getvalue())\n",
    "        return status\n",
    "\n",
    "    def read_from_ceph(self, s3_path, filename):\n",
    "        \"\"\"\n",
    "        Helper function to read from ceph and see if the saved data is correct.\n",
    "        \"\"\"\n",
    "        buffer = BytesIO()\n",
    "        s3_object = self.s3_resource.Object(self.bucket, f\"{s3_path}/{filename}\")\n",
    "        s3_object.download_fileobj(buffer)\n",
    "        df_temp = pd.read_parquet(buffer)\n",
    "        return df_temp\n",
    "\n",
    "\n",
    "def save_to_disk(dataframe, path, filename):\n",
    "    \"\"\"\n",
    "    Helper function to save the dataframe\n",
    "    as a parquet file to disk.\n",
    "    \"\"\"\n",
    "    dataset_base_path = Path(path)\n",
    "    dataset_base_path.mkdir(parents=True, exist_ok=True)\n",
    "    dataframe.to_parquet(f\"{path}/{filename}\")\n",
    "    return True"
   ]
  },
  {
   "cell_type": "code",
   "execution_count": 3,
   "id": "9476e951",
   "metadata": {
    "execution": {
     "iopub.execute_input": "2022-11-02T16:16:36.137913Z",
     "iopub.status.busy": "2022-11-02T16:16:36.137678Z",
     "iopub.status.idle": "2022-11-02T16:16:36.149166Z",
     "shell.execute_reply": "2022-11-02T16:16:36.148578Z"
    }
   },
   "outputs": [
    {
     "data": {
      "text/plain": [
       "True"
      ]
     },
     "execution_count": 3,
     "metadata": {},
     "output_type": "execute_result"
    }
   ],
   "source": [
    "sns.set(rc={\"figure.figsize\": (20, 10)})\n",
    "load_dotenv(find_dotenv(), override=True)"
   ]
  },
  {
   "cell_type": "code",
   "execution_count": 4,
   "id": "9bc3a2c6",
   "metadata": {
    "execution": {
     "iopub.execute_input": "2022-11-02T16:16:36.152125Z",
     "iopub.status.busy": "2022-11-02T16:16:36.151758Z",
     "iopub.status.idle": "2022-11-02T16:16:36.157565Z",
     "shell.execute_reply": "2022-11-02T16:16:36.156974Z"
    }
   },
   "outputs": [],
   "source": [
    "## CEPH Bucket variables\n",
    "## Create a .env file on your local with the correct configs,\n",
    "\n",
    "ORG = os.getenv(\"GITHUB_ORG\")\n",
    "REPO = os.getenv(\"GITHUB_REPO\")\n",
    "\n",
    "## S3 bucket credentials\n",
    "s3_endpoint_url = os.getenv(\"S3_ENDPOINT_URL\")\n",
    "s3_access_key = os.getenv(\"S3_ACCESS_KEY\")\n",
    "s3_secret_key = os.getenv(\"S3_SECRET_KEY\")\n",
    "s3_bucket = os.getenv(\"S3_BUCKET\")\n",
    "\n",
    "REMOTE = os.getenv(\"REMOTE\")\n",
    "\n",
    "s3_input_data_path = os.getenv(\"CEPH_BUCKET_PREFIX\")\n",
    "local_input_data_path = \"../../../data/raw/GitHub/PullRequest.json.gz\"\n",
    "local_output_data_path = \"../../../data/processed/github\"\n",
    "RAW_DATA_PATH = os.path.join(\n",
    "    s3_input_data_path, \"srcopsmetrics/bot_knowledge\", ORG, REPO, \"PullRequest.json\"\n",
    ")"
   ]
  },
  {
   "cell_type": "code",
   "execution_count": 5,
   "id": "4d1b0d9f",
   "metadata": {
    "execution": {
     "iopub.execute_input": "2022-11-02T16:16:36.160401Z",
     "iopub.status.busy": "2022-11-02T16:16:36.160177Z",
     "iopub.status.idle": "2022-11-02T16:16:36.361688Z",
     "shell.execute_reply": "2022-11-02T16:16:36.360893Z"
    }
   },
   "outputs": [
    {
     "name": "stdout",
     "output_type": "stream",
     "text": [
      "getting dataset from ceph\n"
     ]
    }
   ],
   "source": [
    "output = []\n",
    "if REMOTE:\n",
    "    print(\"getting dataset from ceph\")\n",
    "    s3 = boto3.resource(\n",
    "        \"s3\",\n",
    "        endpoint_url=s3_endpoint_url,\n",
    "        aws_access_key_id=s3_access_key,\n",
    "        aws_secret_access_key=s3_secret_key,\n",
    "    )\n",
    "    content = s3.Object(s3_bucket, RAW_DATA_PATH)\n",
    "    file = content.get()[\"Body\"].read().decode(\"utf-8\")\n",
    "\n",
    "    prs = json.loads(file)\n",
    "\n",
    "    for pr in prs.splitlines():\n",
    "        output.append(json.loads(pr))\n",
    "\n",
    "else:\n",
    "    print(\"getting dataset from local\")\n",
    "    with gzip.open(local_input_data_path, \"r\") as f:\n",
    "        prs = json.loads(f.read().decode(\"utf-8\"))\n",
    "\n",
    "pr_df = pd.DataFrame(output)"
   ]
  },
  {
   "cell_type": "code",
   "execution_count": 6,
   "id": "70c24185-4fbf-4287-98fd-c8d721ef71fa",
   "metadata": {
    "execution": {
     "iopub.execute_input": "2022-11-02T16:16:36.365565Z",
     "iopub.status.busy": "2022-11-02T16:16:36.365163Z",
     "iopub.status.idle": "2022-11-02T16:16:36.473911Z",
     "shell.execute_reply": "2022-11-02T16:16:36.473268Z"
    }
   },
   "outputs": [
    {
     "data": {
      "text/html": [
       "<div>\n",
       "<style scoped>\n",
       "    .dataframe tbody tr th:only-of-type {\n",
       "        vertical-align: middle;\n",
       "    }\n",
       "\n",
       "    .dataframe tbody tr th {\n",
       "        vertical-align: top;\n",
       "    }\n",
       "\n",
       "    .dataframe thead th {\n",
       "        text-align: right;\n",
       "    }\n",
       "</style>\n",
       "<table border=\"1\" class=\"dataframe\">\n",
       "  <thead>\n",
       "    <tr style=\"text-align: right;\">\n",
       "      <th></th>\n",
       "      <th>title</th>\n",
       "      <th>body</th>\n",
       "      <th>size</th>\n",
       "      <th>created_by</th>\n",
       "      <th>created_at</th>\n",
       "      <th>closed_at</th>\n",
       "      <th>closed_by</th>\n",
       "      <th>merged_at</th>\n",
       "      <th>merged_by</th>\n",
       "      <th>commits_number</th>\n",
       "      <th>changed_files_number</th>\n",
       "      <th>interactions</th>\n",
       "      <th>reviews</th>\n",
       "      <th>labels</th>\n",
       "      <th>commits</th>\n",
       "      <th>changed_files</th>\n",
       "      <th>first_review_at</th>\n",
       "      <th>first_approve_at</th>\n",
       "      <th>id</th>\n",
       "    </tr>\n",
       "  </thead>\n",
       "  <tbody>\n",
       "    <tr>\n",
       "      <th>0</th>\n",
       "      <td>Update all remaining SRE docs with mentions of...</td>\n",
       "      <td>These changes have been made to 2 documents (m...</td>\n",
       "      <td>XS</td>\n",
       "      <td>carlosGimeno</td>\n",
       "      <td>1642529077</td>\n",
       "      <td>1642621111</td>\n",
       "      <td>sesheta</td>\n",
       "      <td>1.642621e+09</td>\n",
       "      <td>sesheta</td>\n",
       "      <td>1</td>\n",
       "      <td>2</td>\n",
       "      <td>{'sesheta': 65}</td>\n",
       "      <td>{'857262082': {'author': 'HumairAK', 'words_co...</td>\n",
       "      <td>[approved, size/XS, lgtm]</td>\n",
       "      <td>[ee2a7c9f72f9b16aeb83bf7b140f080268a27483]</td>\n",
       "      <td>[dashboards/README.md, incident-management/con...</td>\n",
       "      <td>1.642621e+09</td>\n",
       "      <td>1.642621e+09</td>\n",
       "      <td>443</td>\n",
       "    </tr>\n",
       "    <tr>\n",
       "      <th>1</th>\n",
       "      <td>Fix operate-first.cloud links</td>\n",
       "      <td>Existing links give 404s</td>\n",
       "      <td>XS</td>\n",
       "      <td>david-martin</td>\n",
       "      <td>1641919743</td>\n",
       "      <td>1659120271</td>\n",
       "      <td>sesheta</td>\n",
       "      <td>NaN</td>\n",
       "      <td>None</td>\n",
       "      <td>1</td>\n",
       "      <td>1</td>\n",
       "      <td>{'sesheta': 346}</td>\n",
       "      <td>{'892466202': {'author': 'larsks', 'words_coun...</td>\n",
       "      <td>[size/XS, lifecycle/rotten, needs-ok-to-test]</td>\n",
       "      <td>[ac67e7fc600c0030a45f114329165666f714977c]</td>\n",
       "      <td>[README.md]</td>\n",
       "      <td>1.645711e+09</td>\n",
       "      <td>NaN</td>\n",
       "      <td>438</td>\n",
       "    </tr>\n",
       "    <tr>\n",
       "      <th>2</th>\n",
       "      <td>Move runbooks to apps repo.</td>\n",
       "      <td>Merge after: https://github.com/operate-first/...</td>\n",
       "      <td>L</td>\n",
       "      <td>HumairAK</td>\n",
       "      <td>1636043225</td>\n",
       "      <td>1636044247</td>\n",
       "      <td>sesheta</td>\n",
       "      <td>1.636044e+09</td>\n",
       "      <td>sesheta</td>\n",
       "      <td>1</td>\n",
       "      <td>4</td>\n",
       "      <td>{'sesheta': 65}</td>\n",
       "      <td>{'798001484': {'author': '4n4nd', 'words_count...</td>\n",
       "      <td>[approved, size/L, lgtm]</td>\n",
       "      <td>[450a5561904f20de4ff63c6265461b3f5eea5070]</td>\n",
       "      <td>[runbooks/TEMPLATE.md, runbooks/jupyterhub.md,...</td>\n",
       "      <td>1.636044e+09</td>\n",
       "      <td>1.636044e+09</td>\n",
       "      <td>420</td>\n",
       "    </tr>\n",
       "    <tr>\n",
       "      <th>3</th>\n",
       "      <td>fix link in README.md</td>\n",
       "      <td>fix link back to main page</td>\n",
       "      <td>XS</td>\n",
       "      <td>axelsimon</td>\n",
       "      <td>1635255508</td>\n",
       "      <td>1635266618</td>\n",
       "      <td>sesheta</td>\n",
       "      <td>1.635267e+09</td>\n",
       "      <td>sesheta</td>\n",
       "      <td>1</td>\n",
       "      <td>1</td>\n",
       "      <td>{'sesheta': 182, 'axelsimon': 2}</td>\n",
       "      <td>{'789656199': {'author': 'HumairAK', 'words_co...</td>\n",
       "      <td>[approved, size/XS, lgtm, needs-ok-to-test]</td>\n",
       "      <td>[7d47a5f9e48a06466b627fde10f99f782bc4a7c8]</td>\n",
       "      <td>[README.md]</td>\n",
       "      <td>1.635266e+09</td>\n",
       "      <td>1.635266e+09</td>\n",
       "      <td>412</td>\n",
       "    </tr>\n",
       "    <tr>\n",
       "      <th>4</th>\n",
       "      <td>Update instructions to fix superset key issue.</td>\n",
       "      <td>Reflecting findings from [here](https://github...</td>\n",
       "      <td>XS</td>\n",
       "      <td>HumairAK</td>\n",
       "      <td>1634676624</td>\n",
       "      <td>1634677018</td>\n",
       "      <td>HumairAK</td>\n",
       "      <td>1.634677e+09</td>\n",
       "      <td>HumairAK</td>\n",
       "      <td>1</td>\n",
       "      <td>1</td>\n",
       "      <td>{'sesheta': 74}</td>\n",
       "      <td>{'783773951': {'author': '4n4nd', 'words_count...</td>\n",
       "      <td>[approved, size/XS]</td>\n",
       "      <td>[6c70460bd9634abeb53e5b7eec4965d10c2fa24a]</td>\n",
       "      <td>[runbooks/superset.md]</td>\n",
       "      <td>1.634677e+09</td>\n",
       "      <td>1.634677e+09</td>\n",
       "      <td>409</td>\n",
       "    </tr>\n",
       "    <tr>\n",
       "      <th>5</th>\n",
       "      <td>update prose for website</td>\n",
       "      <td>Updating prose for website to make more beginn...</td>\n",
       "      <td>M</td>\n",
       "      <td>isabelizimm</td>\n",
       "      <td>1633122585</td>\n",
       "      <td>1633452421</td>\n",
       "      <td>hemajv</td>\n",
       "      <td>1.633452e+09</td>\n",
       "      <td>hemajv</td>\n",
       "      <td>1</td>\n",
       "      <td>2</td>\n",
       "      <td>{'isabelizimm': 3, 'schwesig': 12, 'sesheta': 68}</td>\n",
       "      <td>{'771387664': {'author': 'schwesig', 'words_co...</td>\n",
       "      <td>[size/M, approved]</td>\n",
       "      <td>[211ad279933fe6db8e6a7437af7efc240e2a574f]</td>\n",
       "      <td>[README.md, sli-slo/tools.md]</td>\n",
       "      <td>1.633438e+09</td>\n",
       "      <td>1.633449e+09</td>\n",
       "      <td>397</td>\n",
       "    </tr>\n",
       "    <tr>\n",
       "      <th>6</th>\n",
       "      <td>Add issue template for creating incident.</td>\n",
       "      <td>SSIA</td>\n",
       "      <td>M</td>\n",
       "      <td>HumairAK</td>\n",
       "      <td>1633030834</td>\n",
       "      <td>1633031133</td>\n",
       "      <td>sesheta</td>\n",
       "      <td>1.633031e+09</td>\n",
       "      <td>sesheta</td>\n",
       "      <td>1</td>\n",
       "      <td>1</td>\n",
       "      <td>{'sesheta': 65}</td>\n",
       "      <td>{'768266256': {'author': '4n4nd', 'words_count...</td>\n",
       "      <td>[size/M, approved, lgtm]</td>\n",
       "      <td>[1a37918fee06088ea15e7fb1efb42ee317f9ec8b]</td>\n",
       "      <td>[.github/ISSUE_TEMPLATE/start_incident.yaml]</td>\n",
       "      <td>1.633031e+09</td>\n",
       "      <td>1.633031e+09</td>\n",
       "      <td>395</td>\n",
       "    </tr>\n",
       "    <tr>\n",
       "      <th>7</th>\n",
       "      <td>Fix small typo in psql cmd.</td>\n",
       "      <td>SSIA</td>\n",
       "      <td>XS</td>\n",
       "      <td>HumairAK</td>\n",
       "      <td>1632275067</td>\n",
       "      <td>1632319323</td>\n",
       "      <td>sesheta</td>\n",
       "      <td>1.632319e+09</td>\n",
       "      <td>sesheta</td>\n",
       "      <td>1</td>\n",
       "      <td>1</td>\n",
       "      <td>{'sesheta': 68}</td>\n",
       "      <td>{'760950510': {'author': 'tumido', 'words_coun...</td>\n",
       "      <td>[approved, size/XS, lgtm]</td>\n",
       "      <td>[387956cc044a883c12d05fd1a7824db69f247fd6]</td>\n",
       "      <td>[runbooks/superset.md]</td>\n",
       "      <td>1.632319e+09</td>\n",
       "      <td>1.632319e+09</td>\n",
       "      <td>387</td>\n",
       "    </tr>\n",
       "    <tr>\n",
       "      <th>8</th>\n",
       "      <td>Add superset runbook.</td>\n",
       "      <td>SSIA</td>\n",
       "      <td>M</td>\n",
       "      <td>HumairAK</td>\n",
       "      <td>1630095341</td>\n",
       "      <td>1630098787</td>\n",
       "      <td>sesheta</td>\n",
       "      <td>1.630099e+09</td>\n",
       "      <td>sesheta</td>\n",
       "      <td>1</td>\n",
       "      <td>1</td>\n",
       "      <td>{'sesheta': 65}</td>\n",
       "      <td>{'740896590': {'author': '4n4nd', 'words_count...</td>\n",
       "      <td>[size/M, approved, lgtm]</td>\n",
       "      <td>[848301d2dafee5a8581c58591f1de344ba350afc]</td>\n",
       "      <td>[runbooks/superset.md]</td>\n",
       "      <td>1.630099e+09</td>\n",
       "      <td>1.630099e+09</td>\n",
       "      <td>367</td>\n",
       "    </tr>\n",
       "    <tr>\n",
       "      <th>9</th>\n",
       "      <td>Edits for site sre landing page</td>\n",
       "      <td>This pr relates to the home page updates in op...</td>\n",
       "      <td>S</td>\n",
       "      <td>margarethaley</td>\n",
       "      <td>1628188240</td>\n",
       "      <td>1644765906</td>\n",
       "      <td>sesheta</td>\n",
       "      <td>NaN</td>\n",
       "      <td>None</td>\n",
       "      <td>1</td>\n",
       "      <td>1</td>\n",
       "      <td>{'quaid': 121, 'larsks': 32, 'sesheta': 232}</td>\n",
       "      <td>{'723679924': {'author': 'larsks', 'words_coun...</td>\n",
       "      <td>[do-not-merge/hold, size/S, lifecycle/rotten]</td>\n",
       "      <td>[3f7527c4b4f2078347f8e92d82844ce5c8ac7b8c]</td>\n",
       "      <td>[README.md]</td>\n",
       "      <td>1.628189e+09</td>\n",
       "      <td>NaN</td>\n",
       "      <td>360</td>\n",
       "    </tr>\n",
       "    <tr>\n",
       "      <th>10</th>\n",
       "      <td>fix: Update JH dashboard links</td>\n",
       "      <td>Resolves: https://github.com/operate-first/ope...</td>\n",
       "      <td>XS</td>\n",
       "      <td>tumido</td>\n",
       "      <td>1623921427</td>\n",
       "      <td>1623933041</td>\n",
       "      <td>sesheta</td>\n",
       "      <td>1.623933e+09</td>\n",
       "      <td>sesheta</td>\n",
       "      <td>1</td>\n",
       "      <td>1</td>\n",
       "      <td>{'sesheta': 65}</td>\n",
       "      <td>{'686200348': {'author': '4n4nd', 'words_count...</td>\n",
       "      <td>[approved, size/XS, lgtm]</td>\n",
       "      <td>[22412286c34e4d7e0074effff140f635e35a9914]</td>\n",
       "      <td>[runbooks/jupyterhub.md]</td>\n",
       "      <td>1.623930e+09</td>\n",
       "      <td>1.623933e+09</td>\n",
       "      <td>344</td>\n",
       "    </tr>\n",
       "    <tr>\n",
       "      <th>11</th>\n",
       "      <td>remove ipolonsk from owners</td>\n",
       "      <td></td>\n",
       "      <td>XS</td>\n",
       "      <td>4n4nd</td>\n",
       "      <td>1623690790</td>\n",
       "      <td>1623690959</td>\n",
       "      <td>sesheta</td>\n",
       "      <td>1.623691e+09</td>\n",
       "      <td>sesheta</td>\n",
       "      <td>1</td>\n",
       "      <td>1</td>\n",
       "      <td>{'sesheta': 65}</td>\n",
       "      <td>{'683162429': {'author': 'tumido', 'words_coun...</td>\n",
       "      <td>[approved, size/XS, lgtm]</td>\n",
       "      <td>[4f0650f7a0ec9b2431f6cda8fc2056df26a9d9cd]</td>\n",
       "      <td>[OWNERS]</td>\n",
       "      <td>1.623691e+09</td>\n",
       "      <td>1.623691e+09</td>\n",
       "      <td>338</td>\n",
       "    </tr>\n",
       "    <tr>\n",
       "      <th>12</th>\n",
       "      <td>update the prow resource limits</td>\n",
       "      <td>update the prow resource limits\\r\\nSigned-off-...</td>\n",
       "      <td>XS</td>\n",
       "      <td>harshad16</td>\n",
       "      <td>1621312872</td>\n",
       "      <td>1621327795</td>\n",
       "      <td>sesheta</td>\n",
       "      <td>1.621328e+09</td>\n",
       "      <td>sesheta</td>\n",
       "      <td>1</td>\n",
       "      <td>1</td>\n",
       "      <td>{'sesheta': 65}</td>\n",
       "      <td>{'661809610': {'author': 'tumido', 'words_coun...</td>\n",
       "      <td>[approved, size/XS, lgtm]</td>\n",
       "      <td>[76fa48bd5571a9522cd89f9b1cd6fa0774386b8d]</td>\n",
       "      <td>[.prow.yaml]</td>\n",
       "      <td>1.621328e+09</td>\n",
       "      <td>1.621328e+09</td>\n",
       "      <td>316</td>\n",
       "    </tr>\n",
       "    <tr>\n",
       "      <th>13</th>\n",
       "      <td>Add instructions for labelling incident/upgrad...</td>\n",
       "      <td>Resolve: https://github.com/operate-first/SRE/...</td>\n",
       "      <td>S</td>\n",
       "      <td>HumairAK</td>\n",
       "      <td>1620146848</td>\n",
       "      <td>1620310896</td>\n",
       "      <td>sesheta</td>\n",
       "      <td>1.620311e+09</td>\n",
       "      <td>sesheta</td>\n",
       "      <td>1</td>\n",
       "      <td>1</td>\n",
       "      <td>{'sesheta': 65}</td>\n",
       "      <td>{'653311843': {'author': 'tumido', 'words_coun...</td>\n",
       "      <td>[approved, size/S, lgtm]</td>\n",
       "      <td>[f2ff53676f69e5f25b8a447b42322e26baf36a16]</td>\n",
       "      <td>[incident-management/incident-management-proce...</td>\n",
       "      <td>1.620301e+09</td>\n",
       "      <td>1.620311e+09</td>\n",
       "      <td>285</td>\n",
       "    </tr>\n",
       "    <tr>\n",
       "      <th>14</th>\n",
       "      <td>chore: Remove martin from reviewers so he's no...</td>\n",
       "      <td>Let's relieve this poor man's inbox pressure! ...</td>\n",
       "      <td>XS</td>\n",
       "      <td>tumido</td>\n",
       "      <td>1620045748</td>\n",
       "      <td>1620052294</td>\n",
       "      <td>sesheta</td>\n",
       "      <td>1.620052e+09</td>\n",
       "      <td>sesheta</td>\n",
       "      <td>1</td>\n",
       "      <td>1</td>\n",
       "      <td>{'tumido': 12, 'HumairAK': 1, 'sesheta': 68}</td>\n",
       "      <td>{'650327124': {'author': 'anishasthana', 'word...</td>\n",
       "      <td>[approved, size/XS, lgtm]</td>\n",
       "      <td>[6c1414c83a272d30432fa555d026bcd80bc2c6bb]</td>\n",
       "      <td>[OWNERS]</td>\n",
       "      <td>1.620047e+09</td>\n",
       "      <td>1.620047e+09</td>\n",
       "      <td>279</td>\n",
       "    </tr>\n",
       "    <tr>\n",
       "      <th>15</th>\n",
       "      <td>Fix grafana links in JH runbook</td>\n",
       "      <td>Closes https://github.com/operate-first/SRE/is...</td>\n",
       "      <td>XS</td>\n",
       "      <td>4n4nd</td>\n",
       "      <td>1618934763</td>\n",
       "      <td>1618935651</td>\n",
       "      <td>sesheta</td>\n",
       "      <td>1.618936e+09</td>\n",
       "      <td>sesheta</td>\n",
       "      <td>1</td>\n",
       "      <td>1</td>\n",
       "      <td>{'hemajv': 7, 'sesheta': 65}</td>\n",
       "      <td>{'640169620': {'author': 'hemajv', 'words_coun...</td>\n",
       "      <td>[approved, size/XS]</td>\n",
       "      <td>[b9f2cf436d04be832825a6e9deff3d44b34b2977]</td>\n",
       "      <td>[runbooks/jupyterhub.md]</td>\n",
       "      <td>1.618936e+09</td>\n",
       "      <td>1.618936e+09</td>\n",
       "      <td>262</td>\n",
       "    </tr>\n",
       "    <tr>\n",
       "      <th>16</th>\n",
       "      <td>Add kernel restart feature link to jh nb.</td>\n",
       "      <td>Dependent on: https://github.com/operate-first...</td>\n",
       "      <td>M</td>\n",
       "      <td>HumairAK</td>\n",
       "      <td>1618596018</td>\n",
       "      <td>1618843674</td>\n",
       "      <td>sesheta</td>\n",
       "      <td>1.618844e+09</td>\n",
       "      <td>sesheta</td>\n",
       "      <td>1</td>\n",
       "      <td>1</td>\n",
       "      <td>{'HumairAK': 1, 'sesheta': 65}</td>\n",
       "      <td>{'638726877': {'author': 'tumido', 'words_coun...</td>\n",
       "      <td>[size/M, approved, lgtm]</td>\n",
       "      <td>[35a718e6af486c13a0e180278fdf2ddbb47b5fc2]</td>\n",
       "      <td>[runbooks/jupyterhub.md]</td>\n",
       "      <td>1.618830e+09</td>\n",
       "      <td>NaN</td>\n",
       "      <td>258</td>\n",
       "    </tr>\n",
       "    <tr>\n",
       "      <th>17</th>\n",
       "      <td>remove JH dashboard jsons</td>\n",
       "      <td>Since the dashboards are now available in `ODH...</td>\n",
       "      <td>XXL</td>\n",
       "      <td>hemajv</td>\n",
       "      <td>1618584691</td>\n",
       "      <td>1618584823</td>\n",
       "      <td>sesheta</td>\n",
       "      <td>1.618585e+09</td>\n",
       "      <td>sesheta</td>\n",
       "      <td>1</td>\n",
       "      <td>2</td>\n",
       "      <td>{'sesheta': 65, '4n4nd': 13, 'hemajv': 16}</td>\n",
       "      <td>{'637785309': {'author': '4n4nd', 'words_count...</td>\n",
       "      <td>[approved, size/XXL]</td>\n",
       "      <td>[684afad8cd769fbbf9521a4d54e8af653321da10]</td>\n",
       "      <td>[dashboards/jupyterhub-sli-slo.json, dashboard...</td>\n",
       "      <td>1.618585e+09</td>\n",
       "      <td>1.618585e+09</td>\n",
       "      <td>257</td>\n",
       "    </tr>\n",
       "    <tr>\n",
       "      <th>18</th>\n",
       "      <td>Update opf-availability dashboard json</td>\n",
       "      <td>updating the opf-availability dashboard json t...</td>\n",
       "      <td>XL</td>\n",
       "      <td>hemajv</td>\n",
       "      <td>1618506167</td>\n",
       "      <td>1618506462</td>\n",
       "      <td>sesheta</td>\n",
       "      <td>1.618506e+09</td>\n",
       "      <td>sesheta</td>\n",
       "      <td>1</td>\n",
       "      <td>1</td>\n",
       "      <td>{'HumairAK': 1, 'sesheta': 65}</td>\n",
       "      <td>{'636931109': {'author': '4n4nd', 'words_count...</td>\n",
       "      <td>[approved, size/XL, lgtm]</td>\n",
       "      <td>[b054fd6c682b4a3d430da41683241b22c8e23fdd]</td>\n",
       "      <td>[dashboards/opf-availability.json]</td>\n",
       "      <td>1.618506e+09</td>\n",
       "      <td>1.618506e+09</td>\n",
       "      <td>255</td>\n",
       "    </tr>\n",
       "    <tr>\n",
       "      <th>19</th>\n",
       "      <td>fix: JupyterHub runbook feature file links</td>\n",
       "      <td>Resolves: https://github.com/operate-first/SRE...</td>\n",
       "      <td>S</td>\n",
       "      <td>tumido</td>\n",
       "      <td>1617882844</td>\n",
       "      <td>1617891579</td>\n",
       "      <td>sesheta</td>\n",
       "      <td>1.617892e+09</td>\n",
       "      <td>sesheta</td>\n",
       "      <td>1</td>\n",
       "      <td>1</td>\n",
       "      <td>{'sesheta': 65}</td>\n",
       "      <td>{'631454325': {'author': 'HumairAK', 'words_co...</td>\n",
       "      <td>[approved, size/S]</td>\n",
       "      <td>[98bda38afea5f6147a83757caaa63bb7e1182f22]</td>\n",
       "      <td>[runbooks/jupyterhub.md]</td>\n",
       "      <td>1.617892e+09</td>\n",
       "      <td>1.617892e+09</td>\n",
       "      <td>244</td>\n",
       "    </tr>\n",
       "    <tr>\n",
       "      <th>20</th>\n",
       "      <td>chore: Update boilerplate to be on par with ot...</td>\n",
       "      <td>Fixes: https://github.com/operate-first/suppor...</td>\n",
       "      <td>S</td>\n",
       "      <td>tumido</td>\n",
       "      <td>1617116019</td>\n",
       "      <td>1617119993</td>\n",
       "      <td>sesheta</td>\n",
       "      <td>1.617120e+09</td>\n",
       "      <td>sesheta</td>\n",
       "      <td>1</td>\n",
       "      <td>3</td>\n",
       "      <td>{'sesheta': 65}</td>\n",
       "      <td>{'624439859': {'author': 'HumairAK', 'words_co...</td>\n",
       "      <td>[approved, size/S]</td>\n",
       "      <td>[451bbab9681c0af4c781710e10019d80b2c7edfa]</td>\n",
       "      <td>[.aicoe-ci.yaml, .prow.yaml, OWNERS]</td>\n",
       "      <td>1.617120e+09</td>\n",
       "      <td>1.617120e+09</td>\n",
       "      <td>237</td>\n",
       "    </tr>\n",
       "    <tr>\n",
       "      <th>21</th>\n",
       "      <td>Add Kafka runbook</td>\n",
       "      <td>Runbook for Kafka\\r\\n\\r\\n(this addresses opera...</td>\n",
       "      <td>L</td>\n",
       "      <td>hemajv</td>\n",
       "      <td>1617050952</td>\n",
       "      <td>1617202310</td>\n",
       "      <td>sesheta</td>\n",
       "      <td>1.617202e+09</td>\n",
       "      <td>sesheta</td>\n",
       "      <td>1</td>\n",
       "      <td>1</td>\n",
       "      <td>{'HumairAK': 26, 'maulikjs': 7, 'sesheta': 65}</td>\n",
       "      <td>{'624040450': {'author': 'tumido', 'words_coun...</td>\n",
       "      <td>[approved, size/L, lgtm]</td>\n",
       "      <td>[ad0d36214be2492eb306d0cf47af25d4e654c018]</td>\n",
       "      <td>[runbooks/kafka.md]</td>\n",
       "      <td>1.617097e+09</td>\n",
       "      <td>NaN</td>\n",
       "      <td>233</td>\n",
       "    </tr>\n",
       "    <tr>\n",
       "      <th>22</th>\n",
       "      <td>Add JH runbooks</td>\n",
       "      <td>Adding JH runbook\\r\\n\\r\\n(this is related to o...</td>\n",
       "      <td>L</td>\n",
       "      <td>hemajv</td>\n",
       "      <td>1617045864</td>\n",
       "      <td>1617183353</td>\n",
       "      <td>sesheta</td>\n",
       "      <td>1.617183e+09</td>\n",
       "      <td>sesheta</td>\n",
       "      <td>1</td>\n",
       "      <td>1</td>\n",
       "      <td>{'HumairAK': 224, 'hemajv': 257, 'anishasthana...</td>\n",
       "      <td>{'623599211': {'author': 'HumairAK', 'words_co...</td>\n",
       "      <td>[approved, size/L, lgtm]</td>\n",
       "      <td>[a52dff5c0687a1cd58a43641d56a3599dc846452]</td>\n",
       "      <td>[runbooks/jupyterhub.md]</td>\n",
       "      <td>1.617048e+09</td>\n",
       "      <td>1.617183e+09</td>\n",
       "      <td>232</td>\n",
       "    </tr>\n",
       "    <tr>\n",
       "      <th>23</th>\n",
       "      <td>Add incident management procedure</td>\n",
       "      <td>Resolve operate-first/support#833\\r\\n\\r\\nWasn'...</td>\n",
       "      <td>L</td>\n",
       "      <td>HumairAK</td>\n",
       "      <td>1616776859</td>\n",
       "      <td>1617094374</td>\n",
       "      <td>sesheta</td>\n",
       "      <td>1.617094e+09</td>\n",
       "      <td>sesheta</td>\n",
       "      <td>1</td>\n",
       "      <td>1</td>\n",
       "      <td>{'sesheta': 180, 'hemajv': 4, 'HumairAK': 1}</td>\n",
       "      <td>{'623090837': {'author': 'tumido', 'words_coun...</td>\n",
       "      <td>[approved, size/L]</td>\n",
       "      <td>[84609a69e28750fcf53d48408dbb90fe4e11972e]</td>\n",
       "      <td>[incident-management/incident-management-proce...</td>\n",
       "      <td>1.617014e+09</td>\n",
       "      <td>1.617094e+09</td>\n",
       "      <td>231</td>\n",
       "    </tr>\n",
       "    <tr>\n",
       "      <th>24</th>\n",
       "      <td>Remove 'Possible' SLIs as we have already defi...</td>\n",
       "      <td>\\r\\n\\r\\nSigned-off-by: Anish Asthana &lt;anishast...</td>\n",
       "      <td>S</td>\n",
       "      <td>anishasthana</td>\n",
       "      <td>1615580418</td>\n",
       "      <td>1615816468</td>\n",
       "      <td>sesheta</td>\n",
       "      <td>1.615816e+09</td>\n",
       "      <td>sesheta</td>\n",
       "      <td>1</td>\n",
       "      <td>1</td>\n",
       "      <td>{'anishasthana': 91, 'hemajv': 16, 'sesheta': 65}</td>\n",
       "      <td>{'611982536': {'author': 'tumido', 'words_coun...</td>\n",
       "      <td>[approved, size/S, lgtm]</td>\n",
       "      <td>[df3da83c07643210e1ec080963c38d19714b529b]</td>\n",
       "      <td>[sli-slo/jupyterhub.md]</td>\n",
       "      <td>1.615801e+09</td>\n",
       "      <td>1.615816e+09</td>\n",
       "      <td>130</td>\n",
       "    </tr>\n",
       "    <tr>\n",
       "      <th>25</th>\n",
       "      <td>Add idh jupyterhub slis</td>\n",
       "      <td></td>\n",
       "      <td>M</td>\n",
       "      <td>anishasthana</td>\n",
       "      <td>1615230856</td>\n",
       "      <td>1615309016</td>\n",
       "      <td>hemajv</td>\n",
       "      <td>1.615309e+09</td>\n",
       "      <td>hemajv</td>\n",
       "      <td>2</td>\n",
       "      <td>1</td>\n",
       "      <td>{'anishasthana': 5}</td>\n",
       "      <td>{'606638928': {'author': 'hemajv', 'words_coun...</td>\n",
       "      <td>[]</td>\n",
       "      <td>[644da7d43a93407f430171a21075246a366de5d1, 8e2...</td>\n",
       "      <td>[sli-slo/jupyterhub.md]</td>\n",
       "      <td>1.615233e+09</td>\n",
       "      <td>1.615309e+09</td>\n",
       "      <td>115</td>\n",
       "    </tr>\n",
       "    <tr>\n",
       "      <th>26</th>\n",
       "      <td>Update links to point to new cluster routes.</td>\n",
       "      <td>Part of: https://github.com/operate-first/SRE/...</td>\n",
       "      <td>S</td>\n",
       "      <td>HumairAK</td>\n",
       "      <td>1614963630</td>\n",
       "      <td>1615312398</td>\n",
       "      <td>HumairAK</td>\n",
       "      <td>1.615312e+09</td>\n",
       "      <td>HumairAK</td>\n",
       "      <td>1</td>\n",
       "      <td>3</td>\n",
       "      <td>{'sesheta': 85, 'HumairAK': 1}</td>\n",
       "      <td>{'606187139': {'author': 'tumido', 'words_coun...</td>\n",
       "      <td>[do-not-merge/hold, size/S, lgtm]</td>\n",
       "      <td>[4604438d112e362edfb7fbc42e9ad561640587ea]</td>\n",
       "      <td>[README.md, dashboards/README.md, incident-man...</td>\n",
       "      <td>1.615202e+09</td>\n",
       "      <td>NaN</td>\n",
       "      <td>114</td>\n",
       "    </tr>\n",
       "    <tr>\n",
       "      <th>27</th>\n",
       "      <td>Update JH usage dashboard</td>\n",
       "      <td>Updating the [JH usage dashboard](https://graf...</td>\n",
       "      <td>S</td>\n",
       "      <td>hemajv</td>\n",
       "      <td>1613501112</td>\n",
       "      <td>1613501986</td>\n",
       "      <td>sesheta</td>\n",
       "      <td>1.613502e+09</td>\n",
       "      <td>sesheta</td>\n",
       "      <td>1</td>\n",
       "      <td>1</td>\n",
       "      <td>{'anishasthana': 1, 'HumairAK': 1, 'sesheta': 65}</td>\n",
       "      <td>{}</td>\n",
       "      <td>[approved, size/S, lgtm]</td>\n",
       "      <td>[3d5854874530ef561bea1e23df36fa2e5d70afe2]</td>\n",
       "      <td>[dashboards/jupyterhub-usage.json]</td>\n",
       "      <td>NaN</td>\n",
       "      <td>NaN</td>\n",
       "      <td>65</td>\n",
       "    </tr>\n",
       "    <tr>\n",
       "      <th>28</th>\n",
       "      <td>Update JH SLI dashboard</td>\n",
       "      <td>Updating the JH SLI dashboard: https://grafana...</td>\n",
       "      <td>XXL</td>\n",
       "      <td>hemajv</td>\n",
       "      <td>1613500217</td>\n",
       "      <td>1613500666</td>\n",
       "      <td>sesheta</td>\n",
       "      <td>1.613501e+09</td>\n",
       "      <td>sesheta</td>\n",
       "      <td>1</td>\n",
       "      <td>1</td>\n",
       "      <td>{'anishasthana': 1, 'sesheta': 65}</td>\n",
       "      <td>{'591516699': {'author': 'tumido', 'words_coun...</td>\n",
       "      <td>[approved, size/XXL, lgtm]</td>\n",
       "      <td>[af398717d9df36bac44a1548bd2e67d7b963b4d9]</td>\n",
       "      <td>[dashboards/jupyterhub-sli-slo.json]</td>\n",
       "      <td>1.613501e+09</td>\n",
       "      <td>1.613501e+09</td>\n",
       "      <td>64</td>\n",
       "    </tr>\n",
       "    <tr>\n",
       "      <th>29</th>\n",
       "      <td>Update owners file.</td>\n",
       "      <td>As per discussion [here](https://github.com/op...</td>\n",
       "      <td>S</td>\n",
       "      <td>HumairAK</td>\n",
       "      <td>1612318011</td>\n",
       "      <td>1612342681</td>\n",
       "      <td>sesheta</td>\n",
       "      <td>1.612343e+09</td>\n",
       "      <td>sesheta</td>\n",
       "      <td>1</td>\n",
       "      <td>1</td>\n",
       "      <td>{'sesheta': 68}</td>\n",
       "      <td>{'581956737': {'author': 'anishasthana', 'word...</td>\n",
       "      <td>[approved, size/S]</td>\n",
       "      <td>[a5322c558ead25d00184895535f6018d4af6fd0b]</td>\n",
       "      <td>[OWNERS]</td>\n",
       "      <td>1.612320e+09</td>\n",
       "      <td>1.612320e+09</td>\n",
       "      <td>55</td>\n",
       "    </tr>\n",
       "    <tr>\n",
       "      <th>30</th>\n",
       "      <td>Add monitoring dashboards</td>\n",
       "      <td>Adding the monitoring dashboard json files\\r\\n...</td>\n",
       "      <td>XXL</td>\n",
       "      <td>hemajv</td>\n",
       "      <td>1612295006</td>\n",
       "      <td>1612295432</td>\n",
       "      <td>sesheta</td>\n",
       "      <td>1.612295e+09</td>\n",
       "      <td>sesheta</td>\n",
       "      <td>1</td>\n",
       "      <td>3</td>\n",
       "      <td>{'anishasthana': 1, 'sesheta': 68}</td>\n",
       "      <td>{'581712133': {'author': '4n4nd', 'words_count...</td>\n",
       "      <td>[approved, size/XXL, lgtm]</td>\n",
       "      <td>[d8d98dda9a4fbde1cbe2c0e649877811422f2f40]</td>\n",
       "      <td>[dashboards/jupyterhub-sli-slo.json, dashboard...</td>\n",
       "      <td>1.612295e+09</td>\n",
       "      <td>1.612295e+09</td>\n",
       "      <td>54</td>\n",
       "    </tr>\n",
       "    <tr>\n",
       "      <th>31</th>\n",
       "      <td>Update README</td>\n",
       "      <td>this closes operate-first/support#933</td>\n",
       "      <td>S</td>\n",
       "      <td>hemajv</td>\n",
       "      <td>1612212199</td>\n",
       "      <td>1612213587</td>\n",
       "      <td>sesheta</td>\n",
       "      <td>1.612214e+09</td>\n",
       "      <td>sesheta</td>\n",
       "      <td>1</td>\n",
       "      <td>1</td>\n",
       "      <td>{'sesheta': 77, 'HumairAK': 10}</td>\n",
       "      <td>{'580750754': {'author': 'anishasthana', 'word...</td>\n",
       "      <td>[approved, size/S]</td>\n",
       "      <td>[9f42ba5a08f01f32160a2487de3e61cf4e9aa5a0]</td>\n",
       "      <td>[README.md]</td>\n",
       "      <td>1.612212e+09</td>\n",
       "      <td>1.612212e+09</td>\n",
       "      <td>53</td>\n",
       "    </tr>\n",
       "    <tr>\n",
       "      <th>32</th>\n",
       "      <td>Add incident management docs</td>\n",
       "      <td>Adding documentation related to incident manag...</td>\n",
       "      <td>L</td>\n",
       "      <td>hemajv</td>\n",
       "      <td>1611788643</td>\n",
       "      <td>1611916826</td>\n",
       "      <td>sesheta</td>\n",
       "      <td>1.611917e+09</td>\n",
       "      <td>sesheta</td>\n",
       "      <td>1</td>\n",
       "      <td>3</td>\n",
       "      <td>{'sesheta': 174, 'goern': 2}</td>\n",
       "      <td>{'578154582': {'author': 'tumido', 'words_coun...</td>\n",
       "      <td>[approved, size/L, sig/docs]</td>\n",
       "      <td>[c1e9009297596b3b986abdf3c38c306ecc49788c]</td>\n",
       "      <td>[incident-management/README.md, incident-manag...</td>\n",
       "      <td>1.611828e+09</td>\n",
       "      <td>1.611858e+09</td>\n",
       "      <td>35</td>\n",
       "    </tr>\n",
       "    <tr>\n",
       "      <th>33</th>\n",
       "      <td>Update grafana dashboard documentation</td>\n",
       "      <td>This closes operate-first/support#962</td>\n",
       "      <td>S</td>\n",
       "      <td>hemajv</td>\n",
       "      <td>1610060990</td>\n",
       "      <td>1610117406</td>\n",
       "      <td>sesheta</td>\n",
       "      <td>1.610117e+09</td>\n",
       "      <td>sesheta</td>\n",
       "      <td>1</td>\n",
       "      <td>1</td>\n",
       "      <td>{'sesheta': 68}</td>\n",
       "      <td>{'564231410': {'author': 'tumido', 'words_coun...</td>\n",
       "      <td>[approved, size/S]</td>\n",
       "      <td>[0ad965c9a7127fba900a7b5ad81daece1ea3eaf3]</td>\n",
       "      <td>[dashboards/README.md]</td>\n",
       "      <td>1.610110e+09</td>\n",
       "      <td>1.610110e+09</td>\n",
       "      <td>31</td>\n",
       "    </tr>\n",
       "    <tr>\n",
       "      <th>34</th>\n",
       "      <td>Update dashboard README</td>\n",
       "      <td>Update the README for grafana dashboards</td>\n",
       "      <td>XS</td>\n",
       "      <td>hemajv</td>\n",
       "      <td>1608059308</td>\n",
       "      <td>1608062609</td>\n",
       "      <td>sesheta</td>\n",
       "      <td>1.608063e+09</td>\n",
       "      <td>sesheta</td>\n",
       "      <td>1</td>\n",
       "      <td>1</td>\n",
       "      <td>{'sesheta': 65}</td>\n",
       "      <td>{'552824070': {'author': 'HumairAK', 'words_co...</td>\n",
       "      <td>[approved, size/XS]</td>\n",
       "      <td>[d6247563185237bbb82a3430522f719f10fef8b9]</td>\n",
       "      <td>[dashboards/README.md]</td>\n",
       "      <td>1.608063e+09</td>\n",
       "      <td>1.608063e+09</td>\n",
       "      <td>30</td>\n",
       "    </tr>\n",
       "    <tr>\n",
       "      <th>35</th>\n",
       "      <td>Add CI files and fix linting errors</td>\n",
       "      <td>Fixes operate-first/support#947</td>\n",
       "      <td>M</td>\n",
       "      <td>HumairAK</td>\n",
       "      <td>1608049967</td>\n",
       "      <td>1608050069</td>\n",
       "      <td>sesheta</td>\n",
       "      <td>1.608050e+09</td>\n",
       "      <td>sesheta</td>\n",
       "      <td>1</td>\n",
       "      <td>6</td>\n",
       "      <td>{'sesheta': 68}</td>\n",
       "      <td>{'552645547': {'author': 'anishasthana', 'word...</td>\n",
       "      <td>[size/M, approved]</td>\n",
       "      <td>[7838328f128a4ebd1a674183e167c8e63fc2988c]</td>\n",
       "      <td>[.aicoe-ci.yaml, .pre-commit-config.yaml, dash...</td>\n",
       "      <td>1.608050e+09</td>\n",
       "      <td>1.608050e+09</td>\n",
       "      <td>29</td>\n",
       "    </tr>\n",
       "    <tr>\n",
       "      <th>36</th>\n",
       "      <td>Add ownership</td>\n",
       "      <td>cc @HumairAK</td>\n",
       "      <td>S</td>\n",
       "      <td>hemajv</td>\n",
       "      <td>1605210736</td>\n",
       "      <td>1605278929</td>\n",
       "      <td>hemajv</td>\n",
       "      <td>1.605279e+09</td>\n",
       "      <td>hemajv</td>\n",
       "      <td>1</td>\n",
       "      <td>1</td>\n",
       "      <td>{'HumairAK': 12, 'hemajv': 15, 'sesheta': 88}</td>\n",
       "      <td>{'529461784': {'author': 'anishasthana', 'word...</td>\n",
       "      <td>[size/S]</td>\n",
       "      <td>[50af26b1ca85cf917cc53f5b791044ea02d93d51]</td>\n",
       "      <td>[OWNERS]</td>\n",
       "      <td>1.605212e+09</td>\n",
       "      <td>1.605212e+09</td>\n",
       "      <td>22</td>\n",
       "    </tr>\n",
       "    <tr>\n",
       "      <th>37</th>\n",
       "      <td>Add dashboards dir with README</td>\n",
       "      <td>Adding a dashboards directory for organizing G...</td>\n",
       "      <td>S</td>\n",
       "      <td>hemajv</td>\n",
       "      <td>1605209915</td>\n",
       "      <td>1605282291</td>\n",
       "      <td>sesheta</td>\n",
       "      <td>1.605282e+09</td>\n",
       "      <td>sesheta</td>\n",
       "      <td>1</td>\n",
       "      <td>1</td>\n",
       "      <td>{'sesheta': 65}</td>\n",
       "      <td>{'529462144': {'author': 'anishasthana', 'word...</td>\n",
       "      <td>[approved, size/S]</td>\n",
       "      <td>[4c88a456627bb26dac46c2655f6dee545fe6534e]</td>\n",
       "      <td>[dashboards/README.md]</td>\n",
       "      <td>1.605212e+09</td>\n",
       "      <td>1.605212e+09</td>\n",
       "      <td>21</td>\n",
       "    </tr>\n",
       "    <tr>\n",
       "      <th>38</th>\n",
       "      <td>Add grafana dashboard for jupyterhub</td>\n",
       "      <td>1. Adding an example monitoring dashboard for ...</td>\n",
       "      <td>XXL</td>\n",
       "      <td>hemajv</td>\n",
       "      <td>1605130926</td>\n",
       "      <td>1608050609</td>\n",
       "      <td>sesheta</td>\n",
       "      <td>1.608051e+09</td>\n",
       "      <td>sesheta</td>\n",
       "      <td>1</td>\n",
       "      <td>1</td>\n",
       "      <td>{'4n4nd': 2, 'sesheta': 92}</td>\n",
       "      <td>{'530264065': {'author': 'anishasthana', 'word...</td>\n",
       "      <td>[approved, size/XXL]</td>\n",
       "      <td>[fead7601327c8c48dc53a46b67d6d7aef9bfd0b4]</td>\n",
       "      <td>[dashboards/Jupyterhub-dashboard.json]</td>\n",
       "      <td>1.605288e+09</td>\n",
       "      <td>1.608050e+09</td>\n",
       "      <td>17</td>\n",
       "    </tr>\n",
       "    <tr>\n",
       "      <th>39</th>\n",
       "      <td>Update README</td>\n",
       "      <td>Adding more content to refine the README\\r\\n(a...</td>\n",
       "      <td>M</td>\n",
       "      <td>hemajv</td>\n",
       "      <td>1604609728</td>\n",
       "      <td>1604678047</td>\n",
       "      <td>hemajv</td>\n",
       "      <td>1.604678e+09</td>\n",
       "      <td>hemajv</td>\n",
       "      <td>1</td>\n",
       "      <td>1</td>\n",
       "      <td>{'sesheta': 91}</td>\n",
       "      <td>{'525135585': {'author': 'anishasthana', 'word...</td>\n",
       "      <td>[size/M]</td>\n",
       "      <td>[b03b46ce495084461daea633ef127432d2d590e6]</td>\n",
       "      <td>[README.md]</td>\n",
       "      <td>1.604668e+09</td>\n",
       "      <td>1.604678e+09</td>\n",
       "      <td>15</td>\n",
       "    </tr>\n",
       "    <tr>\n",
       "      <th>40</th>\n",
       "      <td>[WIP] Discuss a monitoring solution</td>\n",
       "      <td>@HumairAK @anishasthana @durandom We can move ...</td>\n",
       "      <td>M</td>\n",
       "      <td>4n4nd</td>\n",
       "      <td>1603680038</td>\n",
       "      <td>1607543511</td>\n",
       "      <td>HumairAK</td>\n",
       "      <td>NaN</td>\n",
       "      <td>None</td>\n",
       "      <td>1</td>\n",
       "      <td>1</td>\n",
       "      <td>{'sesheta': 85, 'HumairAK': 21}</td>\n",
       "      <td>{'516822264': {'author': 'anishasthana', 'word...</td>\n",
       "      <td>[size/M, do-not-merge/work-in-progress]</td>\n",
       "      <td>[ff4d5e167e920a7a10967dc14a33621c466670a1]</td>\n",
       "      <td>[monitoring-solution.md]</td>\n",
       "      <td>1.603722e+09</td>\n",
       "      <td>NaN</td>\n",
       "      <td>10</td>\n",
       "    </tr>\n",
       "    <tr>\n",
       "      <th>41</th>\n",
       "      <td>Add runbook template</td>\n",
       "      <td>Adding a runbook template which can be used as...</td>\n",
       "      <td>M</td>\n",
       "      <td>hemajv</td>\n",
       "      <td>1602529702</td>\n",
       "      <td>1603810670</td>\n",
       "      <td>HumairAK</td>\n",
       "      <td>1.603811e+09</td>\n",
       "      <td>HumairAK</td>\n",
       "      <td>1</td>\n",
       "      <td>1</td>\n",
       "      <td>{'hemajv': 3, 'sesheta': 82}</td>\n",
       "      <td>{'506886998': {'author': 'anishasthana', 'word...</td>\n",
       "      <td>[size/M]</td>\n",
       "      <td>[be2ec8a80f590431c2301128c29d8636bf7e14fa]</td>\n",
       "      <td>[runbooks/TEMPLATE.md]</td>\n",
       "      <td>1.602533e+09</td>\n",
       "      <td>1.602533e+09</td>\n",
       "      <td>9</td>\n",
       "    </tr>\n",
       "    <tr>\n",
       "      <th>42</th>\n",
       "      <td>Add runbook template for jupyterhub</td>\n",
       "      <td>Adding a runbook template for jupyterhub\\r\\n\\r...</td>\n",
       "      <td>M</td>\n",
       "      <td>hemajv</td>\n",
       "      <td>1602103571</td>\n",
       "      <td>1602510392</td>\n",
       "      <td>hemajv</td>\n",
       "      <td>1.602510e+09</td>\n",
       "      <td>hemajv</td>\n",
       "      <td>1</td>\n",
       "      <td>1</td>\n",
       "      <td>{'sesheta': 82}</td>\n",
       "      <td>{'504314683': {'author': 'anishasthana', 'word...</td>\n",
       "      <td>[size/M]</td>\n",
       "      <td>[6f80a7bd3ff99a4b232fac2c5f08be76be558d1c]</td>\n",
       "      <td>[runbooks/jupyterhub.md]</td>\n",
       "      <td>1.602110e+09</td>\n",
       "      <td>1.602110e+09</td>\n",
       "      <td>7</td>\n",
       "    </tr>\n",
       "    <tr>\n",
       "      <th>43</th>\n",
       "      <td>Add JH slis</td>\n",
       "      <td>this closes operate-first/support#965</td>\n",
       "      <td>M</td>\n",
       "      <td>hemajv</td>\n",
       "      <td>1602015447</td>\n",
       "      <td>1602080986</td>\n",
       "      <td>hemajv</td>\n",
       "      <td>1.602081e+09</td>\n",
       "      <td>hemajv</td>\n",
       "      <td>1</td>\n",
       "      <td>1</td>\n",
       "      <td>{'sesheta': 85}</td>\n",
       "      <td>{'503447592': {'author': 'anishasthana', 'word...</td>\n",
       "      <td>[size/M]</td>\n",
       "      <td>[cbccc50465cb126884d82f5f1a0c5e439d2570f1]</td>\n",
       "      <td>[sli-slo/jupyterhub.md]</td>\n",
       "      <td>1.602030e+09</td>\n",
       "      <td>1.602030e+09</td>\n",
       "      <td>6</td>\n",
       "    </tr>\n",
       "  </tbody>\n",
       "</table>\n",
       "</div>"
      ],
      "text/plain": [
       "                                                title  \\\n",
       "0   Update all remaining SRE docs with mentions of...   \n",
       "1                       Fix operate-first.cloud links   \n",
       "2                         Move runbooks to apps repo.   \n",
       "3                               fix link in README.md   \n",
       "4      Update instructions to fix superset key issue.   \n",
       "5                            update prose for website   \n",
       "6           Add issue template for creating incident.   \n",
       "7                         Fix small typo in psql cmd.   \n",
       "8                               Add superset runbook.   \n",
       "9                     Edits for site sre landing page   \n",
       "10                     fix: Update JH dashboard links   \n",
       "11                        remove ipolonsk from owners   \n",
       "12                    update the prow resource limits   \n",
       "13  Add instructions for labelling incident/upgrad...   \n",
       "14  chore: Remove martin from reviewers so he's no...   \n",
       "15                    Fix grafana links in JH runbook   \n",
       "16          Add kernel restart feature link to jh nb.   \n",
       "17                          remove JH dashboard jsons   \n",
       "18             Update opf-availability dashboard json   \n",
       "19         fix: JupyterHub runbook feature file links   \n",
       "20  chore: Update boilerplate to be on par with ot...   \n",
       "21                                  Add Kafka runbook   \n",
       "22                                    Add JH runbooks   \n",
       "23                  Add incident management procedure   \n",
       "24  Remove 'Possible' SLIs as we have already defi...   \n",
       "25                            Add idh jupyterhub slis   \n",
       "26       Update links to point to new cluster routes.   \n",
       "27                          Update JH usage dashboard   \n",
       "28                            Update JH SLI dashboard   \n",
       "29                                Update owners file.   \n",
       "30                          Add monitoring dashboards   \n",
       "31                                      Update README   \n",
       "32                       Add incident management docs   \n",
       "33             Update grafana dashboard documentation   \n",
       "34                            Update dashboard README   \n",
       "35                Add CI files and fix linting errors   \n",
       "36                                      Add ownership   \n",
       "37                     Add dashboards dir with README   \n",
       "38               Add grafana dashboard for jupyterhub   \n",
       "39                                      Update README   \n",
       "40                [WIP] Discuss a monitoring solution   \n",
       "41                               Add runbook template   \n",
       "42                Add runbook template for jupyterhub   \n",
       "43                                        Add JH slis   \n",
       "\n",
       "                                                 body size     created_by  \\\n",
       "0   These changes have been made to 2 documents (m...   XS   carlosGimeno   \n",
       "1                            Existing links give 404s   XS   david-martin   \n",
       "2   Merge after: https://github.com/operate-first/...    L       HumairAK   \n",
       "3                          fix link back to main page   XS      axelsimon   \n",
       "4   Reflecting findings from [here](https://github...   XS       HumairAK   \n",
       "5   Updating prose for website to make more beginn...    M    isabelizimm   \n",
       "6                                                SSIA    M       HumairAK   \n",
       "7                                                SSIA   XS       HumairAK   \n",
       "8                                               SSIA     M       HumairAK   \n",
       "9   This pr relates to the home page updates in op...    S  margarethaley   \n",
       "10  Resolves: https://github.com/operate-first/ope...   XS         tumido   \n",
       "11                                                      XS          4n4nd   \n",
       "12  update the prow resource limits\\r\\nSigned-off-...   XS      harshad16   \n",
       "13  Resolve: https://github.com/operate-first/SRE/...    S       HumairAK   \n",
       "14  Let's relieve this poor man's inbox pressure! ...   XS         tumido   \n",
       "15  Closes https://github.com/operate-first/SRE/is...   XS          4n4nd   \n",
       "16  Dependent on: https://github.com/operate-first...    M       HumairAK   \n",
       "17  Since the dashboards are now available in `ODH...  XXL         hemajv   \n",
       "18  updating the opf-availability dashboard json t...   XL         hemajv   \n",
       "19  Resolves: https://github.com/operate-first/SRE...    S         tumido   \n",
       "20  Fixes: https://github.com/operate-first/suppor...    S         tumido   \n",
       "21  Runbook for Kafka\\r\\n\\r\\n(this addresses opera...    L         hemajv   \n",
       "22  Adding JH runbook\\r\\n\\r\\n(this is related to o...    L         hemajv   \n",
       "23  Resolve operate-first/support#833\\r\\n\\r\\nWasn'...    L       HumairAK   \n",
       "24  \\r\\n\\r\\nSigned-off-by: Anish Asthana <anishast...    S   anishasthana   \n",
       "25                                                       M   anishasthana   \n",
       "26  Part of: https://github.com/operate-first/SRE/...    S       HumairAK   \n",
       "27  Updating the [JH usage dashboard](https://graf...    S         hemajv   \n",
       "28  Updating the JH SLI dashboard: https://grafana...  XXL         hemajv   \n",
       "29  As per discussion [here](https://github.com/op...    S       HumairAK   \n",
       "30  Adding the monitoring dashboard json files\\r\\n...  XXL         hemajv   \n",
       "31             this closes operate-first/support#933     S         hemajv   \n",
       "32  Adding documentation related to incident manag...    L         hemajv   \n",
       "33             This closes operate-first/support#962     S         hemajv   \n",
       "34           Update the README for grafana dashboards   XS         hemajv   \n",
       "35                   Fixes operate-first/support#947     M       HumairAK   \n",
       "36                                      cc @HumairAK     S         hemajv   \n",
       "37  Adding a dashboards directory for organizing G...    S         hemajv   \n",
       "38  1. Adding an example monitoring dashboard for ...  XXL         hemajv   \n",
       "39  Adding more content to refine the README\\r\\n(a...    M         hemajv   \n",
       "40  @HumairAK @anishasthana @durandom We can move ...    M          4n4nd   \n",
       "41  Adding a runbook template which can be used as...    M         hemajv   \n",
       "42  Adding a runbook template for jupyterhub\\r\\n\\r...    M         hemajv   \n",
       "43             this closes operate-first/support#965     M         hemajv   \n",
       "\n",
       "    created_at   closed_at closed_by     merged_at merged_by  commits_number  \\\n",
       "0   1642529077  1642621111   sesheta  1.642621e+09   sesheta               1   \n",
       "1   1641919743  1659120271   sesheta           NaN      None               1   \n",
       "2   1636043225  1636044247   sesheta  1.636044e+09   sesheta               1   \n",
       "3   1635255508  1635266618   sesheta  1.635267e+09   sesheta               1   \n",
       "4   1634676624  1634677018  HumairAK  1.634677e+09  HumairAK               1   \n",
       "5   1633122585  1633452421    hemajv  1.633452e+09    hemajv               1   \n",
       "6   1633030834  1633031133   sesheta  1.633031e+09   sesheta               1   \n",
       "7   1632275067  1632319323   sesheta  1.632319e+09   sesheta               1   \n",
       "8   1630095341  1630098787   sesheta  1.630099e+09   sesheta               1   \n",
       "9   1628188240  1644765906   sesheta           NaN      None               1   \n",
       "10  1623921427  1623933041   sesheta  1.623933e+09   sesheta               1   \n",
       "11  1623690790  1623690959   sesheta  1.623691e+09   sesheta               1   \n",
       "12  1621312872  1621327795   sesheta  1.621328e+09   sesheta               1   \n",
       "13  1620146848  1620310896   sesheta  1.620311e+09   sesheta               1   \n",
       "14  1620045748  1620052294   sesheta  1.620052e+09   sesheta               1   \n",
       "15  1618934763  1618935651   sesheta  1.618936e+09   sesheta               1   \n",
       "16  1618596018  1618843674   sesheta  1.618844e+09   sesheta               1   \n",
       "17  1618584691  1618584823   sesheta  1.618585e+09   sesheta               1   \n",
       "18  1618506167  1618506462   sesheta  1.618506e+09   sesheta               1   \n",
       "19  1617882844  1617891579   sesheta  1.617892e+09   sesheta               1   \n",
       "20  1617116019  1617119993   sesheta  1.617120e+09   sesheta               1   \n",
       "21  1617050952  1617202310   sesheta  1.617202e+09   sesheta               1   \n",
       "22  1617045864  1617183353   sesheta  1.617183e+09   sesheta               1   \n",
       "23  1616776859  1617094374   sesheta  1.617094e+09   sesheta               1   \n",
       "24  1615580418  1615816468   sesheta  1.615816e+09   sesheta               1   \n",
       "25  1615230856  1615309016    hemajv  1.615309e+09    hemajv               2   \n",
       "26  1614963630  1615312398  HumairAK  1.615312e+09  HumairAK               1   \n",
       "27  1613501112  1613501986   sesheta  1.613502e+09   sesheta               1   \n",
       "28  1613500217  1613500666   sesheta  1.613501e+09   sesheta               1   \n",
       "29  1612318011  1612342681   sesheta  1.612343e+09   sesheta               1   \n",
       "30  1612295006  1612295432   sesheta  1.612295e+09   sesheta               1   \n",
       "31  1612212199  1612213587   sesheta  1.612214e+09   sesheta               1   \n",
       "32  1611788643  1611916826   sesheta  1.611917e+09   sesheta               1   \n",
       "33  1610060990  1610117406   sesheta  1.610117e+09   sesheta               1   \n",
       "34  1608059308  1608062609   sesheta  1.608063e+09   sesheta               1   \n",
       "35  1608049967  1608050069   sesheta  1.608050e+09   sesheta               1   \n",
       "36  1605210736  1605278929    hemajv  1.605279e+09    hemajv               1   \n",
       "37  1605209915  1605282291   sesheta  1.605282e+09   sesheta               1   \n",
       "38  1605130926  1608050609   sesheta  1.608051e+09   sesheta               1   \n",
       "39  1604609728  1604678047    hemajv  1.604678e+09    hemajv               1   \n",
       "40  1603680038  1607543511  HumairAK           NaN      None               1   \n",
       "41  1602529702  1603810670  HumairAK  1.603811e+09  HumairAK               1   \n",
       "42  1602103571  1602510392    hemajv  1.602510e+09    hemajv               1   \n",
       "43  1602015447  1602080986    hemajv  1.602081e+09    hemajv               1   \n",
       "\n",
       "    changed_files_number                                       interactions  \\\n",
       "0                      2                                    {'sesheta': 65}   \n",
       "1                      1                                   {'sesheta': 346}   \n",
       "2                      4                                    {'sesheta': 65}   \n",
       "3                      1                   {'sesheta': 182, 'axelsimon': 2}   \n",
       "4                      1                                    {'sesheta': 74}   \n",
       "5                      2  {'isabelizimm': 3, 'schwesig': 12, 'sesheta': 68}   \n",
       "6                      1                                    {'sesheta': 65}   \n",
       "7                      1                                    {'sesheta': 68}   \n",
       "8                      1                                    {'sesheta': 65}   \n",
       "9                      1       {'quaid': 121, 'larsks': 32, 'sesheta': 232}   \n",
       "10                     1                                    {'sesheta': 65}   \n",
       "11                     1                                    {'sesheta': 65}   \n",
       "12                     1                                    {'sesheta': 65}   \n",
       "13                     1                                    {'sesheta': 65}   \n",
       "14                     1       {'tumido': 12, 'HumairAK': 1, 'sesheta': 68}   \n",
       "15                     1                       {'hemajv': 7, 'sesheta': 65}   \n",
       "16                     1                     {'HumairAK': 1, 'sesheta': 65}   \n",
       "17                     2         {'sesheta': 65, '4n4nd': 13, 'hemajv': 16}   \n",
       "18                     1                     {'HumairAK': 1, 'sesheta': 65}   \n",
       "19                     1                                    {'sesheta': 65}   \n",
       "20                     3                                    {'sesheta': 65}   \n",
       "21                     1     {'HumairAK': 26, 'maulikjs': 7, 'sesheta': 65}   \n",
       "22                     1  {'HumairAK': 224, 'hemajv': 257, 'anishasthana...   \n",
       "23                     1       {'sesheta': 180, 'hemajv': 4, 'HumairAK': 1}   \n",
       "24                     1  {'anishasthana': 91, 'hemajv': 16, 'sesheta': 65}   \n",
       "25                     1                                {'anishasthana': 5}   \n",
       "26                     3                     {'sesheta': 85, 'HumairAK': 1}   \n",
       "27                     1  {'anishasthana': 1, 'HumairAK': 1, 'sesheta': 65}   \n",
       "28                     1                 {'anishasthana': 1, 'sesheta': 65}   \n",
       "29                     1                                    {'sesheta': 68}   \n",
       "30                     3                 {'anishasthana': 1, 'sesheta': 68}   \n",
       "31                     1                    {'sesheta': 77, 'HumairAK': 10}   \n",
       "32                     3                       {'sesheta': 174, 'goern': 2}   \n",
       "33                     1                                    {'sesheta': 68}   \n",
       "34                     1                                    {'sesheta': 65}   \n",
       "35                     6                                    {'sesheta': 68}   \n",
       "36                     1      {'HumairAK': 12, 'hemajv': 15, 'sesheta': 88}   \n",
       "37                     1                                    {'sesheta': 65}   \n",
       "38                     1                        {'4n4nd': 2, 'sesheta': 92}   \n",
       "39                     1                                    {'sesheta': 91}   \n",
       "40                     1                    {'sesheta': 85, 'HumairAK': 21}   \n",
       "41                     1                       {'hemajv': 3, 'sesheta': 82}   \n",
       "42                     1                                    {'sesheta': 82}   \n",
       "43                     1                                    {'sesheta': 85}   \n",
       "\n",
       "                                              reviews  \\\n",
       "0   {'857262082': {'author': 'HumairAK', 'words_co...   \n",
       "1   {'892466202': {'author': 'larsks', 'words_coun...   \n",
       "2   {'798001484': {'author': '4n4nd', 'words_count...   \n",
       "3   {'789656199': {'author': 'HumairAK', 'words_co...   \n",
       "4   {'783773951': {'author': '4n4nd', 'words_count...   \n",
       "5   {'771387664': {'author': 'schwesig', 'words_co...   \n",
       "6   {'768266256': {'author': '4n4nd', 'words_count...   \n",
       "7   {'760950510': {'author': 'tumido', 'words_coun...   \n",
       "8   {'740896590': {'author': '4n4nd', 'words_count...   \n",
       "9   {'723679924': {'author': 'larsks', 'words_coun...   \n",
       "10  {'686200348': {'author': '4n4nd', 'words_count...   \n",
       "11  {'683162429': {'author': 'tumido', 'words_coun...   \n",
       "12  {'661809610': {'author': 'tumido', 'words_coun...   \n",
       "13  {'653311843': {'author': 'tumido', 'words_coun...   \n",
       "14  {'650327124': {'author': 'anishasthana', 'word...   \n",
       "15  {'640169620': {'author': 'hemajv', 'words_coun...   \n",
       "16  {'638726877': {'author': 'tumido', 'words_coun...   \n",
       "17  {'637785309': {'author': '4n4nd', 'words_count...   \n",
       "18  {'636931109': {'author': '4n4nd', 'words_count...   \n",
       "19  {'631454325': {'author': 'HumairAK', 'words_co...   \n",
       "20  {'624439859': {'author': 'HumairAK', 'words_co...   \n",
       "21  {'624040450': {'author': 'tumido', 'words_coun...   \n",
       "22  {'623599211': {'author': 'HumairAK', 'words_co...   \n",
       "23  {'623090837': {'author': 'tumido', 'words_coun...   \n",
       "24  {'611982536': {'author': 'tumido', 'words_coun...   \n",
       "25  {'606638928': {'author': 'hemajv', 'words_coun...   \n",
       "26  {'606187139': {'author': 'tumido', 'words_coun...   \n",
       "27                                                 {}   \n",
       "28  {'591516699': {'author': 'tumido', 'words_coun...   \n",
       "29  {'581956737': {'author': 'anishasthana', 'word...   \n",
       "30  {'581712133': {'author': '4n4nd', 'words_count...   \n",
       "31  {'580750754': {'author': 'anishasthana', 'word...   \n",
       "32  {'578154582': {'author': 'tumido', 'words_coun...   \n",
       "33  {'564231410': {'author': 'tumido', 'words_coun...   \n",
       "34  {'552824070': {'author': 'HumairAK', 'words_co...   \n",
       "35  {'552645547': {'author': 'anishasthana', 'word...   \n",
       "36  {'529461784': {'author': 'anishasthana', 'word...   \n",
       "37  {'529462144': {'author': 'anishasthana', 'word...   \n",
       "38  {'530264065': {'author': 'anishasthana', 'word...   \n",
       "39  {'525135585': {'author': 'anishasthana', 'word...   \n",
       "40  {'516822264': {'author': 'anishasthana', 'word...   \n",
       "41  {'506886998': {'author': 'anishasthana', 'word...   \n",
       "42  {'504314683': {'author': 'anishasthana', 'word...   \n",
       "43  {'503447592': {'author': 'anishasthana', 'word...   \n",
       "\n",
       "                                           labels  \\\n",
       "0                       [approved, size/XS, lgtm]   \n",
       "1   [size/XS, lifecycle/rotten, needs-ok-to-test]   \n",
       "2                        [approved, size/L, lgtm]   \n",
       "3     [approved, size/XS, lgtm, needs-ok-to-test]   \n",
       "4                             [approved, size/XS]   \n",
       "5                              [size/M, approved]   \n",
       "6                        [size/M, approved, lgtm]   \n",
       "7                       [approved, size/XS, lgtm]   \n",
       "8                        [size/M, approved, lgtm]   \n",
       "9   [do-not-merge/hold, size/S, lifecycle/rotten]   \n",
       "10                      [approved, size/XS, lgtm]   \n",
       "11                      [approved, size/XS, lgtm]   \n",
       "12                      [approved, size/XS, lgtm]   \n",
       "13                       [approved, size/S, lgtm]   \n",
       "14                      [approved, size/XS, lgtm]   \n",
       "15                            [approved, size/XS]   \n",
       "16                       [size/M, approved, lgtm]   \n",
       "17                           [approved, size/XXL]   \n",
       "18                      [approved, size/XL, lgtm]   \n",
       "19                             [approved, size/S]   \n",
       "20                             [approved, size/S]   \n",
       "21                       [approved, size/L, lgtm]   \n",
       "22                       [approved, size/L, lgtm]   \n",
       "23                             [approved, size/L]   \n",
       "24                       [approved, size/S, lgtm]   \n",
       "25                                             []   \n",
       "26              [do-not-merge/hold, size/S, lgtm]   \n",
       "27                       [approved, size/S, lgtm]   \n",
       "28                     [approved, size/XXL, lgtm]   \n",
       "29                             [approved, size/S]   \n",
       "30                     [approved, size/XXL, lgtm]   \n",
       "31                             [approved, size/S]   \n",
       "32                   [approved, size/L, sig/docs]   \n",
       "33                             [approved, size/S]   \n",
       "34                            [approved, size/XS]   \n",
       "35                             [size/M, approved]   \n",
       "36                                       [size/S]   \n",
       "37                             [approved, size/S]   \n",
       "38                           [approved, size/XXL]   \n",
       "39                                       [size/M]   \n",
       "40        [size/M, do-not-merge/work-in-progress]   \n",
       "41                                       [size/M]   \n",
       "42                                       [size/M]   \n",
       "43                                       [size/M]   \n",
       "\n",
       "                                              commits  \\\n",
       "0          [ee2a7c9f72f9b16aeb83bf7b140f080268a27483]   \n",
       "1          [ac67e7fc600c0030a45f114329165666f714977c]   \n",
       "2          [450a5561904f20de4ff63c6265461b3f5eea5070]   \n",
       "3          [7d47a5f9e48a06466b627fde10f99f782bc4a7c8]   \n",
       "4          [6c70460bd9634abeb53e5b7eec4965d10c2fa24a]   \n",
       "5          [211ad279933fe6db8e6a7437af7efc240e2a574f]   \n",
       "6          [1a37918fee06088ea15e7fb1efb42ee317f9ec8b]   \n",
       "7          [387956cc044a883c12d05fd1a7824db69f247fd6]   \n",
       "8          [848301d2dafee5a8581c58591f1de344ba350afc]   \n",
       "9          [3f7527c4b4f2078347f8e92d82844ce5c8ac7b8c]   \n",
       "10         [22412286c34e4d7e0074effff140f635e35a9914]   \n",
       "11         [4f0650f7a0ec9b2431f6cda8fc2056df26a9d9cd]   \n",
       "12         [76fa48bd5571a9522cd89f9b1cd6fa0774386b8d]   \n",
       "13         [f2ff53676f69e5f25b8a447b42322e26baf36a16]   \n",
       "14         [6c1414c83a272d30432fa555d026bcd80bc2c6bb]   \n",
       "15         [b9f2cf436d04be832825a6e9deff3d44b34b2977]   \n",
       "16         [35a718e6af486c13a0e180278fdf2ddbb47b5fc2]   \n",
       "17         [684afad8cd769fbbf9521a4d54e8af653321da10]   \n",
       "18         [b054fd6c682b4a3d430da41683241b22c8e23fdd]   \n",
       "19         [98bda38afea5f6147a83757caaa63bb7e1182f22]   \n",
       "20         [451bbab9681c0af4c781710e10019d80b2c7edfa]   \n",
       "21         [ad0d36214be2492eb306d0cf47af25d4e654c018]   \n",
       "22         [a52dff5c0687a1cd58a43641d56a3599dc846452]   \n",
       "23         [84609a69e28750fcf53d48408dbb90fe4e11972e]   \n",
       "24         [df3da83c07643210e1ec080963c38d19714b529b]   \n",
       "25  [644da7d43a93407f430171a21075246a366de5d1, 8e2...   \n",
       "26         [4604438d112e362edfb7fbc42e9ad561640587ea]   \n",
       "27         [3d5854874530ef561bea1e23df36fa2e5d70afe2]   \n",
       "28         [af398717d9df36bac44a1548bd2e67d7b963b4d9]   \n",
       "29         [a5322c558ead25d00184895535f6018d4af6fd0b]   \n",
       "30         [d8d98dda9a4fbde1cbe2c0e649877811422f2f40]   \n",
       "31         [9f42ba5a08f01f32160a2487de3e61cf4e9aa5a0]   \n",
       "32         [c1e9009297596b3b986abdf3c38c306ecc49788c]   \n",
       "33         [0ad965c9a7127fba900a7b5ad81daece1ea3eaf3]   \n",
       "34         [d6247563185237bbb82a3430522f719f10fef8b9]   \n",
       "35         [7838328f128a4ebd1a674183e167c8e63fc2988c]   \n",
       "36         [50af26b1ca85cf917cc53f5b791044ea02d93d51]   \n",
       "37         [4c88a456627bb26dac46c2655f6dee545fe6534e]   \n",
       "38         [fead7601327c8c48dc53a46b67d6d7aef9bfd0b4]   \n",
       "39         [b03b46ce495084461daea633ef127432d2d590e6]   \n",
       "40         [ff4d5e167e920a7a10967dc14a33621c466670a1]   \n",
       "41         [be2ec8a80f590431c2301128c29d8636bf7e14fa]   \n",
       "42         [6f80a7bd3ff99a4b232fac2c5f08be76be558d1c]   \n",
       "43         [cbccc50465cb126884d82f5f1a0c5e439d2570f1]   \n",
       "\n",
       "                                        changed_files  first_review_at  \\\n",
       "0   [dashboards/README.md, incident-management/con...     1.642621e+09   \n",
       "1                                         [README.md]     1.645711e+09   \n",
       "2   [runbooks/TEMPLATE.md, runbooks/jupyterhub.md,...     1.636044e+09   \n",
       "3                                         [README.md]     1.635266e+09   \n",
       "4                              [runbooks/superset.md]     1.634677e+09   \n",
       "5                       [README.md, sli-slo/tools.md]     1.633438e+09   \n",
       "6        [.github/ISSUE_TEMPLATE/start_incident.yaml]     1.633031e+09   \n",
       "7                              [runbooks/superset.md]     1.632319e+09   \n",
       "8                              [runbooks/superset.md]     1.630099e+09   \n",
       "9                                         [README.md]     1.628189e+09   \n",
       "10                           [runbooks/jupyterhub.md]     1.623930e+09   \n",
       "11                                           [OWNERS]     1.623691e+09   \n",
       "12                                       [.prow.yaml]     1.621328e+09   \n",
       "13  [incident-management/incident-management-proce...     1.620301e+09   \n",
       "14                                           [OWNERS]     1.620047e+09   \n",
       "15                           [runbooks/jupyterhub.md]     1.618936e+09   \n",
       "16                           [runbooks/jupyterhub.md]     1.618830e+09   \n",
       "17  [dashboards/jupyterhub-sli-slo.json, dashboard...     1.618585e+09   \n",
       "18                 [dashboards/opf-availability.json]     1.618506e+09   \n",
       "19                           [runbooks/jupyterhub.md]     1.617892e+09   \n",
       "20               [.aicoe-ci.yaml, .prow.yaml, OWNERS]     1.617120e+09   \n",
       "21                                [runbooks/kafka.md]     1.617097e+09   \n",
       "22                           [runbooks/jupyterhub.md]     1.617048e+09   \n",
       "23  [incident-management/incident-management-proce...     1.617014e+09   \n",
       "24                            [sli-slo/jupyterhub.md]     1.615801e+09   \n",
       "25                            [sli-slo/jupyterhub.md]     1.615233e+09   \n",
       "26  [README.md, dashboards/README.md, incident-man...     1.615202e+09   \n",
       "27                 [dashboards/jupyterhub-usage.json]              NaN   \n",
       "28               [dashboards/jupyterhub-sli-slo.json]     1.613501e+09   \n",
       "29                                           [OWNERS]     1.612320e+09   \n",
       "30  [dashboards/jupyterhub-sli-slo.json, dashboard...     1.612295e+09   \n",
       "31                                        [README.md]     1.612212e+09   \n",
       "32  [incident-management/README.md, incident-manag...     1.611828e+09   \n",
       "33                             [dashboards/README.md]     1.610110e+09   \n",
       "34                             [dashboards/README.md]     1.608063e+09   \n",
       "35  [.aicoe-ci.yaml, .pre-commit-config.yaml, dash...     1.608050e+09   \n",
       "36                                           [OWNERS]     1.605212e+09   \n",
       "37                             [dashboards/README.md]     1.605212e+09   \n",
       "38             [dashboards/Jupyterhub-dashboard.json]     1.605288e+09   \n",
       "39                                        [README.md]     1.604668e+09   \n",
       "40                           [monitoring-solution.md]     1.603722e+09   \n",
       "41                             [runbooks/TEMPLATE.md]     1.602533e+09   \n",
       "42                           [runbooks/jupyterhub.md]     1.602110e+09   \n",
       "43                            [sli-slo/jupyterhub.md]     1.602030e+09   \n",
       "\n",
       "    first_approve_at   id  \n",
       "0       1.642621e+09  443  \n",
       "1                NaN  438  \n",
       "2       1.636044e+09  420  \n",
       "3       1.635266e+09  412  \n",
       "4       1.634677e+09  409  \n",
       "5       1.633449e+09  397  \n",
       "6       1.633031e+09  395  \n",
       "7       1.632319e+09  387  \n",
       "8       1.630099e+09  367  \n",
       "9                NaN  360  \n",
       "10      1.623933e+09  344  \n",
       "11      1.623691e+09  338  \n",
       "12      1.621328e+09  316  \n",
       "13      1.620311e+09  285  \n",
       "14      1.620047e+09  279  \n",
       "15      1.618936e+09  262  \n",
       "16               NaN  258  \n",
       "17      1.618585e+09  257  \n",
       "18      1.618506e+09  255  \n",
       "19      1.617892e+09  244  \n",
       "20      1.617120e+09  237  \n",
       "21               NaN  233  \n",
       "22      1.617183e+09  232  \n",
       "23      1.617094e+09  231  \n",
       "24      1.615816e+09  130  \n",
       "25      1.615309e+09  115  \n",
       "26               NaN  114  \n",
       "27               NaN   65  \n",
       "28      1.613501e+09   64  \n",
       "29      1.612320e+09   55  \n",
       "30      1.612295e+09   54  \n",
       "31      1.612212e+09   53  \n",
       "32      1.611858e+09   35  \n",
       "33      1.610110e+09   31  \n",
       "34      1.608063e+09   30  \n",
       "35      1.608050e+09   29  \n",
       "36      1.605212e+09   22  \n",
       "37      1.605212e+09   21  \n",
       "38      1.608050e+09   17  \n",
       "39      1.604678e+09   15  \n",
       "40               NaN   10  \n",
       "41      1.602533e+09    9  \n",
       "42      1.602110e+09    7  \n",
       "43      1.602030e+09    6  "
      ]
     },
     "execution_count": 6,
     "metadata": {},
     "output_type": "execute_result"
    }
   ],
   "source": [
    "pr_df"
   ]
  },
  {
   "cell_type": "code",
   "execution_count": 7,
   "id": "13dc895b",
   "metadata": {
    "execution": {
     "iopub.execute_input": "2022-11-02T16:16:36.477541Z",
     "iopub.status.busy": "2022-11-02T16:16:36.476945Z",
     "iopub.status.idle": "2022-11-02T16:16:36.481645Z",
     "shell.execute_reply": "2022-11-02T16:16:36.480936Z"
    }
   },
   "outputs": [
    {
     "data": {
      "text/plain": [
       "(44, 19)"
      ]
     },
     "execution_count": 7,
     "metadata": {},
     "output_type": "execute_result"
    }
   ],
   "source": [
    "pr_df.shape"
   ]
  },
  {
   "cell_type": "code",
   "execution_count": 8,
   "id": "f82201c5",
   "metadata": {
    "execution": {
     "iopub.execute_input": "2022-11-02T16:16:36.485283Z",
     "iopub.status.busy": "2022-11-02T16:16:36.484755Z",
     "iopub.status.idle": "2022-11-02T16:16:36.501274Z",
     "shell.execute_reply": "2022-11-02T16:16:36.500540Z"
    }
   },
   "outputs": [
    {
     "data": {
      "text/html": [
       "<div>\n",
       "<style scoped>\n",
       "    .dataframe tbody tr th:only-of-type {\n",
       "        vertical-align: middle;\n",
       "    }\n",
       "\n",
       "    .dataframe tbody tr th {\n",
       "        vertical-align: top;\n",
       "    }\n",
       "\n",
       "    .dataframe thead th {\n",
       "        text-align: right;\n",
       "    }\n",
       "</style>\n",
       "<table border=\"1\" class=\"dataframe\">\n",
       "  <thead>\n",
       "    <tr style=\"text-align: right;\">\n",
       "      <th></th>\n",
       "      <th>title</th>\n",
       "      <th>body</th>\n",
       "      <th>size</th>\n",
       "      <th>created_by</th>\n",
       "      <th>created_at</th>\n",
       "      <th>closed_at</th>\n",
       "      <th>closed_by</th>\n",
       "      <th>merged_at</th>\n",
       "      <th>merged_by</th>\n",
       "      <th>commits_number</th>\n",
       "      <th>changed_files_number</th>\n",
       "      <th>interactions</th>\n",
       "      <th>reviews</th>\n",
       "      <th>labels</th>\n",
       "      <th>commits</th>\n",
       "      <th>changed_files</th>\n",
       "      <th>first_review_at</th>\n",
       "      <th>first_approve_at</th>\n",
       "      <th>id</th>\n",
       "    </tr>\n",
       "  </thead>\n",
       "  <tbody>\n",
       "    <tr>\n",
       "      <th>0</th>\n",
       "      <td>Update all remaining SRE docs with mentions of...</td>\n",
       "      <td>These changes have been made to 2 documents (m...</td>\n",
       "      <td>XS</td>\n",
       "      <td>carlosGimeno</td>\n",
       "      <td>1642529077</td>\n",
       "      <td>1642621111</td>\n",
       "      <td>sesheta</td>\n",
       "      <td>1.642621e+09</td>\n",
       "      <td>sesheta</td>\n",
       "      <td>1</td>\n",
       "      <td>2</td>\n",
       "      <td>{'sesheta': 65}</td>\n",
       "      <td>{'857262082': {'author': 'HumairAK', 'words_co...</td>\n",
       "      <td>[approved, size/XS, lgtm]</td>\n",
       "      <td>[ee2a7c9f72f9b16aeb83bf7b140f080268a27483]</td>\n",
       "      <td>[dashboards/README.md, incident-management/con...</td>\n",
       "      <td>1.642621e+09</td>\n",
       "      <td>1.642621e+09</td>\n",
       "      <td>443</td>\n",
       "    </tr>\n",
       "    <tr>\n",
       "      <th>1</th>\n",
       "      <td>Fix operate-first.cloud links</td>\n",
       "      <td>Existing links give 404s</td>\n",
       "      <td>XS</td>\n",
       "      <td>david-martin</td>\n",
       "      <td>1641919743</td>\n",
       "      <td>1659120271</td>\n",
       "      <td>sesheta</td>\n",
       "      <td>NaN</td>\n",
       "      <td>None</td>\n",
       "      <td>1</td>\n",
       "      <td>1</td>\n",
       "      <td>{'sesheta': 346}</td>\n",
       "      <td>{'892466202': {'author': 'larsks', 'words_coun...</td>\n",
       "      <td>[size/XS, lifecycle/rotten, needs-ok-to-test]</td>\n",
       "      <td>[ac67e7fc600c0030a45f114329165666f714977c]</td>\n",
       "      <td>[README.md]</td>\n",
       "      <td>1.645711e+09</td>\n",
       "      <td>NaN</td>\n",
       "      <td>438</td>\n",
       "    </tr>\n",
       "  </tbody>\n",
       "</table>\n",
       "</div>"
      ],
      "text/plain": [
       "                                               title  \\\n",
       "0  Update all remaining SRE docs with mentions of...   \n",
       "1                      Fix operate-first.cloud links   \n",
       "\n",
       "                                                body size    created_by  \\\n",
       "0  These changes have been made to 2 documents (m...   XS  carlosGimeno   \n",
       "1                           Existing links give 404s   XS  david-martin   \n",
       "\n",
       "   created_at   closed_at closed_by     merged_at merged_by  commits_number  \\\n",
       "0  1642529077  1642621111   sesheta  1.642621e+09   sesheta               1   \n",
       "1  1641919743  1659120271   sesheta           NaN      None               1   \n",
       "\n",
       "   changed_files_number      interactions  \\\n",
       "0                     2   {'sesheta': 65}   \n",
       "1                     1  {'sesheta': 346}   \n",
       "\n",
       "                                             reviews  \\\n",
       "0  {'857262082': {'author': 'HumairAK', 'words_co...   \n",
       "1  {'892466202': {'author': 'larsks', 'words_coun...   \n",
       "\n",
       "                                          labels  \\\n",
       "0                      [approved, size/XS, lgtm]   \n",
       "1  [size/XS, lifecycle/rotten, needs-ok-to-test]   \n",
       "\n",
       "                                      commits  \\\n",
       "0  [ee2a7c9f72f9b16aeb83bf7b140f080268a27483]   \n",
       "1  [ac67e7fc600c0030a45f114329165666f714977c]   \n",
       "\n",
       "                                       changed_files  first_review_at  \\\n",
       "0  [dashboards/README.md, incident-management/con...     1.642621e+09   \n",
       "1                                        [README.md]     1.645711e+09   \n",
       "\n",
       "   first_approve_at   id  \n",
       "0      1.642621e+09  443  \n",
       "1               NaN  438  "
      ]
     },
     "execution_count": 8,
     "metadata": {},
     "output_type": "execute_result"
    }
   ],
   "source": [
    "pr_df.head(2)"
   ]
  },
  {
   "cell_type": "markdown",
   "id": "c472ffbd",
   "metadata": {},
   "source": [
    "## Feature engineering\n",
    "\n",
    "In the next section we will do some basic feature engineering and correlation analyis on our dataset to see if anything interesting jumps out at us. "
   ]
  },
  {
   "cell_type": "markdown",
   "id": "4ed68d9a",
   "metadata": {},
   "source": [
    "**Time to Merge**\n",
    "\n",
    "We will derive a new feature called `time_to_merge` which will be the difference between the `created_at` and `merged_at` fields. "
   ]
  },
  {
   "cell_type": "code",
   "execution_count": 9,
   "id": "d67035e7",
   "metadata": {
    "execution": {
     "iopub.execute_input": "2022-11-02T16:16:36.504796Z",
     "iopub.status.busy": "2022-11-02T16:16:36.504163Z",
     "iopub.status.idle": "2022-11-02T16:16:36.509000Z",
     "shell.execute_reply": "2022-11-02T16:16:36.508337Z"
    }
   },
   "outputs": [],
   "source": [
    "# derive time_to_merege\n",
    "pr_df[\"time_to_merge\"] = pr_df[\"merged_at\"] - pr_df[\"created_at\"]\n",
    "pr_df[\"time_to_merge\"] = pr_df[\"time_to_merge\"].astype(\"float\")\n",
    "# NOTE: we cant fill NA with 0 because that would imply the PR got merged instantaneously"
   ]
  },
  {
   "cell_type": "code",
   "execution_count": 10,
   "id": "fddf9750-49f5-4997-8280-e94e1e778ad9",
   "metadata": {
    "execution": {
     "iopub.execute_input": "2022-11-02T16:16:36.511969Z",
     "iopub.status.busy": "2022-11-02T16:16:36.511538Z",
     "iopub.status.idle": "2022-11-02T16:16:36.517760Z",
     "shell.execute_reply": "2022-11-02T16:16:36.517113Z"
    }
   },
   "outputs": [
    {
     "data": {
      "text/plain": [
       "0       92034.0\n",
       "1           NaN\n",
       "2        1022.0\n",
       "3       11110.0\n",
       "4         394.0\n",
       "5      329836.0\n",
       "6         299.0\n",
       "7       44256.0\n",
       "8        3446.0\n",
       "9           NaN\n",
       "10      11614.0\n",
       "11        169.0\n",
       "12      14923.0\n",
       "13     164048.0\n",
       "14       6546.0\n",
       "15        888.0\n",
       "16     247656.0\n",
       "17        132.0\n",
       "18        294.0\n",
       "19       8735.0\n",
       "20       3974.0\n",
       "21     151358.0\n",
       "22     137488.0\n",
       "23     317515.0\n",
       "24     236050.0\n",
       "25      78160.0\n",
       "26     348768.0\n",
       "27        874.0\n",
       "28        449.0\n",
       "29      24669.0\n",
       "30        426.0\n",
       "31       1388.0\n",
       "32     128183.0\n",
       "33      56415.0\n",
       "34       3301.0\n",
       "35        102.0\n",
       "36      68192.0\n",
       "37      72375.0\n",
       "38    2919683.0\n",
       "39      68319.0\n",
       "40          NaN\n",
       "41    1280968.0\n",
       "42     406821.0\n",
       "43      65538.0\n",
       "Name: time_to_merge, dtype: float64"
      ]
     },
     "execution_count": 10,
     "metadata": {},
     "output_type": "execute_result"
    }
   ],
   "source": [
    "pr_df[\"time_to_merge\"]"
   ]
  },
  {
   "cell_type": "markdown",
   "id": "939d196e",
   "metadata": {},
   "source": [
    "Let's look at the distribution of the time to merge column. This can help us determine what the setup for ML problems such as [#236](https://github.com/aicoe-aiops/ocp-ci-analysis/issues/236) could be like. That is, should the time to merge problem be framed as a regression or classification problem.\n",
    "\n",
    "First, lets try to determine what the granularity of the output values should be, in case of a regression setup. That is, should the model predict time to merge in number of seconds, number of hours, number of days, or some other chunk of time."
   ]
  },
  {
   "cell_type": "code",
   "execution_count": 11,
   "id": "b8cc628b",
   "metadata": {
    "execution": {
     "iopub.execute_input": "2022-11-02T16:16:36.521638Z",
     "iopub.status.busy": "2022-11-02T16:16:36.520937Z",
     "iopub.status.idle": "2022-11-02T16:16:36.529323Z",
     "shell.execute_reply": "2022-11-02T16:16:36.528668Z"
    },
    "tags": []
   },
   "outputs": [
    {
     "data": {
      "text/plain": [
       "1.0     0.682927\n",
       "2.0     0.121951\n",
       "4.0     0.048780\n",
       "3.0     0.048780\n",
       "5.0     0.048780\n",
       "34.0    0.024390\n",
       "15.0    0.024390\n",
       "Name: time_to_merge, dtype: float64"
      ]
     },
     "execution_count": 11,
     "metadata": {},
     "output_type": "execute_result"
    }
   ],
   "source": [
    "# what does the distribution of values look like if we choose days as the granularity\n",
    "ttm_days = np.ceil(pr_df.time_to_merge / (60 * 60 * 24))\n",
    "\n",
    "# value counts - to how many PRs have value 1, 2, 3, etc. for days to merge\n",
    "vc = ttm_days.value_counts()\n",
    "\n",
    "# normalized value counts (i.e. percent of PRs instead of raw number)\n",
    "nvc = vc / vc.sum()\n",
    "nvc"
   ]
  },
  {
   "cell_type": "code",
   "execution_count": 12,
   "id": "192aeb22",
   "metadata": {
    "execution": {
     "iopub.execute_input": "2022-11-02T16:16:36.532347Z",
     "iopub.status.busy": "2022-11-02T16:16:36.531832Z",
     "iopub.status.idle": "2022-11-02T16:16:36.539025Z",
     "shell.execute_reply": "2022-11-02T16:16:36.538377Z"
    },
    "tags": []
   },
   "outputs": [
    {
     "data": {
      "text/plain": [
       "1.0      0.414634\n",
       "7.0      0.097561\n",
       "2.0      0.073171\n",
       "9.0      0.024390\n",
       "8.0      0.024390\n",
       "119.0    0.024390\n",
       "271.0    0.024390\n",
       "6.0      0.024390\n",
       "12.0     0.024390\n",
       "3.0      0.024390\n",
       "33.0     0.024390\n",
       "22.0     0.024390\n",
       "30.0     0.024390\n",
       "13.0     0.024390\n",
       "15.0     0.024390\n",
       "23.0     0.024390\n",
       "16.0     0.024390\n",
       "5.0      0.024390\n",
       "31.0     0.024390\n",
       "38.0     0.024390\n",
       "Name: time_to_merge, dtype: float64"
      ]
     },
     "execution_count": 12,
     "metadata": {},
     "output_type": "execute_result"
    }
   ],
   "source": [
    "# what if we chose some intermediate value e.g. 3 hours as the granularity?\n",
    "ttm_3hours = np.ceil(pr_df.time_to_merge / (60 * 60 * 3))\n",
    "\n",
    "# value counts - to how many PRs have value 1, 2, 3, etc. for num. 3-hours to merge\n",
    "vc = ttm_3hours.value_counts()\n",
    "\n",
    "# normalized value counts (i.e. percent of PRs instead of raw number)\n",
    "nvc = vc / vc.sum()\n",
    "nvc"
   ]
  },
  {
   "cell_type": "code",
   "execution_count": 13,
   "id": "44e09f11",
   "metadata": {
    "execution": {
     "iopub.execute_input": "2022-11-02T16:16:36.542450Z",
     "iopub.status.busy": "2022-11-02T16:16:36.541932Z",
     "iopub.status.idle": "2022-11-02T16:16:36.549309Z",
     "shell.execute_reply": "2022-11-02T16:16:36.548647Z"
    },
    "tags": []
   },
   "outputs": [
    {
     "data": {
      "text/plain": [
       "1.0      0.341463\n",
       "19.0     0.073171\n",
       "4.0      0.048780\n",
       "2.0      0.048780\n",
       "26.0     0.024390\n",
       "22.0     0.024390\n",
       "356.0    0.024390\n",
       "812.0    0.024390\n",
       "21.0     0.024390\n",
       "16.0     0.024390\n",
       "36.0     0.024390\n",
       "7.0      0.024390\n",
       "97.0     0.024390\n",
       "89.0     0.024390\n",
       "66.0     0.024390\n",
       "39.0     0.024390\n",
       "43.0     0.024390\n",
       "3.0      0.024390\n",
       "69.0     0.024390\n",
       "46.0     0.024390\n",
       "5.0      0.024390\n",
       "13.0     0.024390\n",
       "92.0     0.024390\n",
       "114.0    0.024390\n",
       "Name: time_to_merge, dtype: float64"
      ]
     },
     "execution_count": 13,
     "metadata": {},
     "output_type": "execute_result"
    }
   ],
   "source": [
    "# what if we chose hours as the granularity?\n",
    "ttm_hours = np.ceil(pr_df.time_to_merge / (60 * 60))\n",
    "\n",
    "# value counts - to how many PRs have value 1, 2, 3, etc. for hours to merge\n",
    "vc = ttm_hours.value_counts()\n",
    "\n",
    "# normalized value counts (i.e. percent of PRs instead of raw number)\n",
    "nvc = vc / vc.sum()\n",
    "nvc"
   ]
  },
  {
   "cell_type": "markdown",
   "id": "fb8e316b",
   "metadata": {},
   "source": [
    "Now, lets try to determine, if we were to set this up as a classification problem, what the output classes should be. In the following cell, we'll try to split the time-to-merge values into 10 equally populated buckets."
   ]
  },
  {
   "cell_type": "code",
   "execution_count": 14,
   "id": "0ca35bc5",
   "metadata": {
    "execution": {
     "iopub.execute_input": "2022-11-02T16:16:36.553002Z",
     "iopub.status.busy": "2022-11-02T16:16:36.552467Z",
     "iopub.status.idle": "2022-11-02T16:16:36.559483Z",
     "shell.execute_reply": "2022-11-02T16:16:36.558825Z"
    }
   },
   "outputs": [
    {
     "data": {
      "text/plain": [
       "0.0     0.028333\n",
       "0.1     0.083056\n",
       "0.2     0.242778\n",
       "0.3     0.916944\n",
       "0.4     2.426389\n",
       "0.5     6.852500\n",
       "0.6    18.942222\n",
       "0.7    25.565000\n",
       "0.8    45.568889\n",
       "0.9    91.621111\n",
       "Name: time_to_merge, dtype: float64"
      ]
     },
     "execution_count": 14,
     "metadata": {},
     "output_type": "execute_result"
    }
   ],
   "source": [
    "# lets look at what the 10th, 20th, 30th etc percentiles are, to see what the bin boundaries (in terms of hours)\n",
    "# would be if we were to split the data in 10 equally populated bins\n",
    "n_buckets = 10\n",
    "\n",
    "quantiles = pr_df.time_to_merge.quantile(q=np.arange(0, 1 + 1e-100, 1 / n_buckets))\n",
    "quantiles / 3600"
   ]
  },
  {
   "cell_type": "code",
   "execution_count": 15,
   "id": "7b36d5d4-ec27-4a59-b63f-515830da1ae9",
   "metadata": {
    "execution": {
     "iopub.execute_input": "2022-11-02T16:16:36.562817Z",
     "iopub.status.busy": "2022-11-02T16:16:36.562455Z",
     "iopub.status.idle": "2022-11-02T16:16:36.565501Z",
     "shell.execute_reply": "2022-11-02T16:16:36.564850Z"
    }
   },
   "outputs": [],
   "source": [
    "intervals = quantiles"
   ]
  },
  {
   "cell_type": "code",
   "execution_count": 16,
   "id": "acc2bfd4",
   "metadata": {
    "execution": {
     "iopub.execute_input": "2022-11-02T16:16:36.568265Z",
     "iopub.status.busy": "2022-11-02T16:16:36.567909Z",
     "iopub.status.idle": "2022-11-02T16:16:36.574392Z",
     "shell.execute_reply": "2022-11-02T16:16:36.573739Z"
    }
   },
   "outputs": [
    {
     "data": {
      "text/plain": [
       "0.0          NaN\n",
       "0.1     0.054722\n",
       "0.2     0.159722\n",
       "0.3     0.674167\n",
       "0.4     1.509444\n",
       "0.5     4.426111\n",
       "0.6    12.089722\n",
       "0.7     6.622778\n",
       "0.8    20.003889\n",
       "0.9    46.052222\n",
       "Name: time_to_merge, dtype: float64"
      ]
     },
     "execution_count": 16,
     "metadata": {},
     "output_type": "execute_result"
    }
   ],
   "source": [
    "# gaps between the buckets (i.e. size of each bucket) in hours\n",
    "(quantiles - quantiles.shift()) / 3600"
   ]
  },
  {
   "cell_type": "markdown",
   "id": "7111b3d8",
   "metadata": {},
   "source": [
    "If we want to frame our ML problem as a classification problem, we can use the above buckets to define the classes."
   ]
  },
  {
   "cell_type": "markdown",
   "id": "21dc2dcf",
   "metadata": {},
   "source": [
    "**Body**\n",
    "\n",
    "Here, we will derive a feature called `body_size` which will simply be the number of words in the body of the PR. We can use this numerical value to describe the body of the PR."
   ]
  },
  {
   "cell_type": "code",
   "execution_count": 17,
   "id": "212f8a44",
   "metadata": {
    "execution": {
     "iopub.execute_input": "2022-11-02T16:16:36.577410Z",
     "iopub.status.busy": "2022-11-02T16:16:36.577187Z",
     "iopub.status.idle": "2022-11-02T16:16:36.581325Z",
     "shell.execute_reply": "2022-11-02T16:16:36.580675Z"
    }
   },
   "outputs": [],
   "source": [
    "# derive body_size\n",
    "pr_df[\"body_size\"] = pr_df[\"body\"].fillna(\"\").apply(lambda x: len(x.split()))"
   ]
  },
  {
   "cell_type": "code",
   "execution_count": 18,
   "id": "c62d9484",
   "metadata": {
    "execution": {
     "iopub.execute_input": "2022-11-02T16:16:36.585330Z",
     "iopub.status.busy": "2022-11-02T16:16:36.585099Z",
     "iopub.status.idle": "2022-11-02T16:16:36.590060Z",
     "shell.execute_reply": "2022-11-02T16:16:36.589435Z"
    }
   },
   "outputs": [
    {
     "data": {
      "text/plain": [
       "0     35\n",
       "1      4\n",
       "2      3\n",
       "3      6\n",
       "4      4\n",
       "5     11\n",
       "6      1\n",
       "7      1\n",
       "8      1\n",
       "9     37\n",
       "10     2\n",
       "11     0\n",
       "12    12\n",
       "13     2\n",
       "14    32\n",
       "15     2\n",
       "16     3\n",
       "17    17\n",
       "18    12\n",
       "19    23\n",
       "20     5\n",
       "21     6\n",
       "22     8\n",
       "23    28\n",
       "24     4\n",
       "25     0\n",
       "26     3\n",
       "27     5\n",
       "28    20\n",
       "29    21\n",
       "30     9\n",
       "31     3\n",
       "32    27\n",
       "33     3\n",
       "34     6\n",
       "35     2\n",
       "36     2\n",
       "37    15\n",
       "38    38\n",
       "39     9\n",
       "40    12\n",
       "41    20\n",
       "42     9\n",
       "43     3\n",
       "Name: body_size, dtype: int64"
      ]
     },
     "execution_count": 18,
     "metadata": {},
     "output_type": "execute_result"
    }
   ],
   "source": [
    "pr_df[\"body_size\"]"
   ]
  },
  {
   "cell_type": "markdown",
   "id": "9916fd09",
   "metadata": {},
   "source": [
    "**Size**\n",
    "\n",
    "We can attempt to convert the categorical size label generated by GitHub, which summarizes the size of the changes made to the code base, to a numerical value. "
   ]
  },
  {
   "cell_type": "code",
   "execution_count": 19,
   "id": "cbc553ee-3e0b-45ed-83f6-02ae860bef85",
   "metadata": {
    "execution": {
     "iopub.execute_input": "2022-11-02T16:16:36.592830Z",
     "iopub.status.busy": "2022-11-02T16:16:36.592465Z",
     "iopub.status.idle": "2022-11-02T16:16:36.596905Z",
     "shell.execute_reply": "2022-11-02T16:16:36.596248Z"
    }
   },
   "outputs": [
    {
     "data": {
      "text/plain": [
       "{'L', 'M', 'S', 'XL', 'XS', 'XXL'}"
      ]
     },
     "execution_count": 19,
     "metadata": {},
     "output_type": "execute_result"
    }
   ],
   "source": [
    "set(pr_df['size'])"
   ]
  },
  {
   "cell_type": "code",
   "execution_count": 20,
   "id": "709b4cf9",
   "metadata": {
    "execution": {
     "iopub.execute_input": "2022-11-02T16:16:36.600009Z",
     "iopub.status.busy": "2022-11-02T16:16:36.599787Z",
     "iopub.status.idle": "2022-11-02T16:16:36.604956Z",
     "shell.execute_reply": "2022-11-02T16:16:36.604176Z"
    }
   },
   "outputs": [],
   "source": [
    "convert_size = {\"size\": {\"NaN\": 0, \"XS\": 0, \"S\": 1, \"M\": 2, \"L\": 3, \"XL\": 4, \"XXL\": 5}}\n",
    "pr_df = pr_df.replace(convert_size)"
   ]
  },
  {
   "cell_type": "markdown",
   "id": "0b803d48",
   "metadata": {},
   "source": [
    "**Title**\n",
    "\n",
    "Lets try to see if the PR title text can be used to extract any useful information regarding the PR."
   ]
  },
  {
   "cell_type": "code",
   "execution_count": 21,
   "id": "020f050a",
   "metadata": {
    "execution": {
     "iopub.execute_input": "2022-11-02T16:16:36.607706Z",
     "iopub.status.busy": "2022-11-02T16:16:36.607484Z",
     "iopub.status.idle": "2022-11-02T16:16:36.614677Z",
     "shell.execute_reply": "2022-11-02T16:16:36.614031Z"
    }
   },
   "outputs": [
    {
     "data": {
      "text/plain": [
       "0     update all remaining sre docs with mentions of...\n",
       "1                         fix operate first cloud links\n",
       "2                           move runbooks to apps repo \n",
       "3                                 fix link in readme md\n",
       "4        update instructions to fix superset key issue \n",
       "5                              update prose for website\n",
       "6             add issue template for creating incident \n",
       "7                           fix small typo in psql cmd \n",
       "8                                 add superset runbook \n",
       "9                       edits for site sre landing page\n",
       "10                       fix  update jh dashboard links\n",
       "11                          remove ipolonsk from owners\n",
       "12                      update the prow resource limits\n",
       "13    add instructions for labelling incident upgrad...\n",
       "14    chore  remove martin from reviewers so he s no...\n",
       "15                      fix grafana links in jh runbook\n",
       "16            add kernel restart feature link to jh nb \n",
       "17                            remove jh dashboard jsons\n",
       "18               update opf availability dashboard json\n",
       "19           fix  jupyterhub runbook feature file links\n",
       "20    chore  update boilerplate to be on par with ot...\n",
       "21                                    add kafka runbook\n",
       "22                                      add jh runbooks\n",
       "23                    add incident management procedure\n",
       "24    remove  possible  slis as we have already defi...\n",
       "25                              add idh jupyterhub slis\n",
       "26         update links to point to new cluster routes \n",
       "27                            update jh usage dashboard\n",
       "28                              update jh sli dashboard\n",
       "29                                  update owners file \n",
       "30                            add monitoring dashboards\n",
       "31                                        update readme\n",
       "32                         add incident management docs\n",
       "33               update grafana dashboard documentation\n",
       "34                              update dashboard readme\n",
       "35                  add ci files and fix linting errors\n",
       "36                                        add ownership\n",
       "37                       add dashboards dir with readme\n",
       "38                 add grafana dashboard for jupyterhub\n",
       "39                                        update readme\n",
       "40                   wip  discuss a monitoring solution\n",
       "41                                 add runbook template\n",
       "42                  add runbook template for jupyterhub\n",
       "43                                          add jh slis\n",
       "Name: title, dtype: object"
      ]
     },
     "execution_count": 21,
     "metadata": {},
     "output_type": "execute_result"
    }
   ],
   "source": [
    "# first lets preprocess the text available in the titles\n",
    "\n",
    "# convert to lowercase\n",
    "preproc_titles = pr_df[\"title\"].str.lower()\n",
    "\n",
    "# remove punctuations and symbols like : ; , # ( ) [ ] etc\n",
    "preproc_titles = preproc_titles.str.replace(r'[`#-.?!,:;\\/()\\[\\]\"\\']', \" \", regex=True)\n",
    "\n",
    "# remove hash-like strings i.e. 25+ char long strings containing 0-9 or a-f\n",
    "preproc_titles = preproc_titles.str.replace(r\"[0-9a-f]{25,}\", \" \", regex=True)\n",
    "\n",
    "preproc_titles"
   ]
  },
  {
   "cell_type": "code",
   "execution_count": 22,
   "id": "2ecc397e",
   "metadata": {
    "execution": {
     "iopub.execute_input": "2022-11-02T16:16:36.617881Z",
     "iopub.status.busy": "2022-11-02T16:16:36.617661Z",
     "iopub.status.idle": "2022-11-02T16:16:36.622839Z",
     "shell.execute_reply": "2022-11-02T16:16:36.622180Z"
    }
   },
   "outputs": [],
   "source": [
    "# what are the most commonly appearing words in the titles\n",
    "\n",
    "# combin all titles and split into words\n",
    "words = preproc_titles.str.cat(sep=\" \").split()\n",
    "\n",
    "# remove stopwords and numbers (e.g. bugzilla ids)\n",
    "words = [w for w in words if w not in set(STOPWORDS) and not w.isnumeric()]\n",
    "\n",
    "# word frequencies\n",
    "unique_words, counts = np.unique(words, return_counts=True)\n",
    "vc = pd.Series(counts, index=unique_words).sort_values(ascending=False)"
   ]
  },
  {
   "cell_type": "markdown",
   "id": "c52f211c",
   "metadata": {},
   "source": [
    "From the above graph, we can see that titles often contain some keywords that can hint towards the type of changes being made in the PR. We will create a feature which is a vector indicating how many times each word appeared in the title. This way, even if a less prominent word is more correlated with time_to_merge, we will be able to capture that relationship."
   ]
  },
  {
   "cell_type": "code",
   "execution_count": 23,
   "id": "65279268",
   "metadata": {
    "execution": {
     "iopub.execute_input": "2022-11-02T16:16:36.625640Z",
     "iopub.status.busy": "2022-11-02T16:16:36.625420Z",
     "iopub.status.idle": "2022-11-02T16:16:36.834697Z",
     "shell.execute_reply": "2022-11-02T16:16:36.833967Z"
    }
   },
   "outputs": [
    {
     "name": "stderr",
     "output_type": "stream",
     "text": [
      "  0%|          | 0/97 [00:00<?, ?it/s]/tmp/ipykernel_235/4191214648.py:3: PerformanceWarning: DataFrame is highly fragmented.  This is usually the result of calling `frame.insert` many times, which has poor performance.  Consider joining all columns at once using pd.concat(axis=1) instead. To get a de-fragmented frame, use `newframe = frame.copy()`\n",
      "  pr_df[f\"title_wordcount_{word}\"] = preproc_titles.apply(\n",
      "100%|██████████| 97/97 [00:00<00:00, 483.95it/s]\n"
     ]
    }
   ],
   "source": [
    "# add word count columns\n",
    "for word in tqdm(unique_words):\n",
    "    pr_df[f\"title_wordcount_{word}\"] = preproc_titles.apply(\n",
    "        lambda x: x.split().count(word)\n",
    "    )"
   ]
  },
  {
   "cell_type": "code",
   "execution_count": 24,
   "id": "41cf9f16",
   "metadata": {
    "execution": {
     "iopub.execute_input": "2022-11-02T16:16:36.838144Z",
     "iopub.status.busy": "2022-11-02T16:16:36.837672Z",
     "iopub.status.idle": "2022-11-02T16:16:36.847767Z",
     "shell.execute_reply": "2022-11-02T16:16:36.847155Z"
    }
   },
   "outputs": [],
   "source": [
    "# collapse the high dim vector into one column\n",
    "wordcount_columns = [c for c in pr_df.columns if \"wordcount\" in c]\n",
    "pr_df[\"title_word_counts_vec\"] = pr_df[wordcount_columns].apply(\n",
    "    lambda x: x.tolist(), axis=1\n",
    ")\n",
    "\n",
    "# drop the individual wordcount columns\n",
    "pr_df = pr_df.drop(columns=wordcount_columns)"
   ]
  },
  {
   "cell_type": "markdown",
   "id": "06f46edc",
   "metadata": {},
   "source": [
    "**Created At**\n",
    "\n",
    "This column can give us information on when the PR was created. Using the `created_at` field, we can derive other features like `time_of_day`, `day_of_week`, `day_of_month`, `month_in_year` each of which can be categorical features that can be useful to our analysis."
   ]
  },
  {
   "cell_type": "code",
   "execution_count": 25,
   "id": "b6db783b",
   "metadata": {
    "execution": {
     "iopub.execute_input": "2022-11-02T16:16:36.850752Z",
     "iopub.status.busy": "2022-11-02T16:16:36.850515Z",
     "iopub.status.idle": "2022-11-02T16:16:36.859832Z",
     "shell.execute_reply": "2022-11-02T16:16:36.859224Z"
    }
   },
   "outputs": [],
   "source": [
    "# convert to datetime object\n",
    "pr_df[\"created_at_datetime\"] = (\n",
    "    pr_df[\"created_at\"].fillna(\"\").apply(lambda x: datetime.datetime.fromtimestamp(x))\n",
    ")\n",
    "# get day as categorical variable\n",
    "pr_df[\"created_at_day\"] = pr_df[\"created_at_datetime\"].apply(lambda x: x.day)\n",
    "\n",
    "# get month as categorical variable\n",
    "pr_df[\"created_at_month\"] = pr_df[\"created_at_datetime\"].apply(lambda x: x.month)\n",
    "\n",
    "# get weekday as categorical variable\n",
    "pr_df[\"created_at_weekday\"] = pr_df[\"created_at_datetime\"].apply(lambda x: x.weekday())\n",
    "\n",
    "# get hour of day as categorical variable\n",
    "pr_df[\"created_at_hour\"] = pr_df[\"created_at_datetime\"].apply(lambda x: x.hour)"
   ]
  },
  {
   "cell_type": "code",
   "execution_count": 26,
   "id": "f6cb1704",
   "metadata": {
    "execution": {
     "iopub.execute_input": "2022-11-02T16:16:36.863009Z",
     "iopub.status.busy": "2022-11-02T16:16:36.862781Z",
     "iopub.status.idle": "2022-11-02T16:16:36.880964Z",
     "shell.execute_reply": "2022-11-02T16:16:36.880359Z"
    }
   },
   "outputs": [
    {
     "data": {
      "text/html": [
       "<div>\n",
       "<style scoped>\n",
       "    .dataframe tbody tr th:only-of-type {\n",
       "        vertical-align: middle;\n",
       "    }\n",
       "\n",
       "    .dataframe tbody tr th {\n",
       "        vertical-align: top;\n",
       "    }\n",
       "\n",
       "    .dataframe thead th {\n",
       "        text-align: right;\n",
       "    }\n",
       "</style>\n",
       "<table border=\"1\" class=\"dataframe\">\n",
       "  <thead>\n",
       "    <tr style=\"text-align: right;\">\n",
       "      <th></th>\n",
       "      <th>title</th>\n",
       "      <th>body</th>\n",
       "      <th>size</th>\n",
       "      <th>created_by</th>\n",
       "      <th>created_at</th>\n",
       "      <th>closed_at</th>\n",
       "      <th>closed_by</th>\n",
       "      <th>merged_at</th>\n",
       "      <th>merged_by</th>\n",
       "      <th>commits_number</th>\n",
       "      <th>...</th>\n",
       "      <th>first_approve_at</th>\n",
       "      <th>id</th>\n",
       "      <th>time_to_merge</th>\n",
       "      <th>body_size</th>\n",
       "      <th>title_word_counts_vec</th>\n",
       "      <th>created_at_datetime</th>\n",
       "      <th>created_at_day</th>\n",
       "      <th>created_at_month</th>\n",
       "      <th>created_at_weekday</th>\n",
       "      <th>created_at_hour</th>\n",
       "    </tr>\n",
       "  </thead>\n",
       "  <tbody>\n",
       "    <tr>\n",
       "      <th>0</th>\n",
       "      <td>Update all remaining SRE docs with mentions of...</td>\n",
       "      <td>These changes have been made to 2 documents (m...</td>\n",
       "      <td>0</td>\n",
       "      <td>carlosGimeno</td>\n",
       "      <td>1642529077</td>\n",
       "      <td>1642621111</td>\n",
       "      <td>sesheta</td>\n",
       "      <td>1.642621e+09</td>\n",
       "      <td>sesheta</td>\n",
       "      <td>1</td>\n",
       "      <td>...</td>\n",
       "      <td>1.642621e+09</td>\n",
       "      <td>443</td>\n",
       "      <td>92034.0</td>\n",
       "      <td>35</td>\n",
       "      <td>[0, 0, 0, 0, 0, 0, 0, 0, 1, 0, 0, 0, 0, 0, 0, ...</td>\n",
       "      <td>2022-01-18 18:04:37</td>\n",
       "      <td>18</td>\n",
       "      <td>1</td>\n",
       "      <td>1</td>\n",
       "      <td>18</td>\n",
       "    </tr>\n",
       "    <tr>\n",
       "      <th>1</th>\n",
       "      <td>Fix operate-first.cloud links</td>\n",
       "      <td>Existing links give 404s</td>\n",
       "      <td>0</td>\n",
       "      <td>david-martin</td>\n",
       "      <td>1641919743</td>\n",
       "      <td>1659120271</td>\n",
       "      <td>sesheta</td>\n",
       "      <td>NaN</td>\n",
       "      <td>None</td>\n",
       "      <td>1</td>\n",
       "      <td>...</td>\n",
       "      <td>NaN</td>\n",
       "      <td>438</td>\n",
       "      <td>NaN</td>\n",
       "      <td>4</td>\n",
       "      <td>[0, 0, 0, 0, 0, 0, 0, 1, 0, 0, 0, 0, 0, 0, 0, ...</td>\n",
       "      <td>2022-01-11 16:49:03</td>\n",
       "      <td>11</td>\n",
       "      <td>1</td>\n",
       "      <td>1</td>\n",
       "      <td>16</td>\n",
       "    </tr>\n",
       "  </tbody>\n",
       "</table>\n",
       "<p>2 rows × 27 columns</p>\n",
       "</div>"
      ],
      "text/plain": [
       "                                               title  \\\n",
       "0  Update all remaining SRE docs with mentions of...   \n",
       "1                      Fix operate-first.cloud links   \n",
       "\n",
       "                                                body  size    created_by  \\\n",
       "0  These changes have been made to 2 documents (m...     0  carlosGimeno   \n",
       "1                           Existing links give 404s     0  david-martin   \n",
       "\n",
       "   created_at   closed_at closed_by     merged_at merged_by  commits_number  \\\n",
       "0  1642529077  1642621111   sesheta  1.642621e+09   sesheta               1   \n",
       "1  1641919743  1659120271   sesheta           NaN      None               1   \n",
       "\n",
       "   ...  first_approve_at   id time_to_merge body_size  \\\n",
       "0  ...      1.642621e+09  443       92034.0        35   \n",
       "1  ...               NaN  438           NaN         4   \n",
       "\n",
       "                               title_word_counts_vec created_at_datetime  \\\n",
       "0  [0, 0, 0, 0, 0, 0, 0, 0, 1, 0, 0, 0, 0, 0, 0, ... 2022-01-18 18:04:37   \n",
       "1  [0, 0, 0, 0, 0, 0, 0, 1, 0, 0, 0, 0, 0, 0, 0, ... 2022-01-11 16:49:03   \n",
       "\n",
       "   created_at_day  created_at_month created_at_weekday  created_at_hour  \n",
       "0              18                 1                  1               18  \n",
       "1              11                 1                  1               16  \n",
       "\n",
       "[2 rows x 27 columns]"
      ]
     },
     "execution_count": 26,
     "metadata": {},
     "output_type": "execute_result"
    }
   ],
   "source": [
    "pr_df.head(2)"
   ]
  },
  {
   "cell_type": "markdown",
   "id": "772ea2a9",
   "metadata": {},
   "source": [
    "**Changed Files Number**  \n",
    "Changed files is a numberical variable which captures the numer of files that were modified in the PR."
   ]
  },
  {
   "cell_type": "code",
   "execution_count": 27,
   "id": "b5687644",
   "metadata": {
    "execution": {
     "iopub.execute_input": "2022-11-02T16:16:36.884357Z",
     "iopub.status.busy": "2022-11-02T16:16:36.883899Z",
     "iopub.status.idle": "2022-11-02T16:16:36.891386Z",
     "shell.execute_reply": "2022-11-02T16:16:36.890824Z"
    }
   },
   "outputs": [
    {
     "data": {
      "text/plain": [
       "1    35\n",
       "3     4\n",
       "2     3\n",
       "4     1\n",
       "6     1\n",
       "Name: changed_files_number, dtype: int64"
      ]
     },
     "execution_count": 27,
     "metadata": {},
     "output_type": "execute_result"
    }
   ],
   "source": [
    "# convert changed_files_number to int\n",
    "pr_df[\"changed_files_number\"] = pr_df[\"changed_files_number\"].astype(\"int\")\n",
    "\n",
    "pr_df.changed_files_number.value_counts()"
   ]
  },
  {
   "cell_type": "markdown",
   "id": "2ec4a803",
   "metadata": {},
   "source": [
    "`changed_files_number` has more variability than the `commits_number`. We can incorporate this as a numerical feature."
   ]
  },
  {
   "cell_type": "markdown",
   "id": "360ea47c",
   "metadata": {},
   "source": [
    "**Changed_files**\n",
    "\n",
    "`changed_files` is a list of the paths and filenames for every file changed by this PR. From `changed_files`, we know, for each PR, which file types were changed which can be encoded as a frequency vector. Also we know which directory the change is made in, so that can be encoded as a categorical variable."
   ]
  },
  {
   "cell_type": "code",
   "execution_count": 28,
   "id": "ea080575",
   "metadata": {
    "execution": {
     "iopub.execute_input": "2022-11-02T16:16:36.894277Z",
     "iopub.status.busy": "2022-11-02T16:16:36.894049Z",
     "iopub.status.idle": "2022-11-02T16:16:36.905406Z",
     "shell.execute_reply": "2022-11-02T16:16:36.904814Z"
    }
   },
   "outputs": [
    {
     "data": {
      "text/plain": [
       "0     [dashboards/README.md, incident-management/con...\n",
       "1                                           [README.md]\n",
       "2     [runbooks/TEMPLATE.md, runbooks/jupyterhub.md,...\n",
       "3                                           [README.md]\n",
       "4                                [runbooks/superset.md]\n",
       "5                         [README.md, sli-slo/tools.md]\n",
       "6          [.github/ISSUE_TEMPLATE/start_incident.yaml]\n",
       "7                                [runbooks/superset.md]\n",
       "8                                [runbooks/superset.md]\n",
       "9                                           [README.md]\n",
       "10                             [runbooks/jupyterhub.md]\n",
       "11                                             [OWNERS]\n",
       "12                                         [.prow.yaml]\n",
       "13    [incident-management/incident-management-proce...\n",
       "14                                             [OWNERS]\n",
       "15                             [runbooks/jupyterhub.md]\n",
       "16                             [runbooks/jupyterhub.md]\n",
       "17    [dashboards/jupyterhub-sli-slo.json, dashboard...\n",
       "18                   [dashboards/opf-availability.json]\n",
       "19                             [runbooks/jupyterhub.md]\n",
       "20                 [.aicoe-ci.yaml, .prow.yaml, OWNERS]\n",
       "21                                  [runbooks/kafka.md]\n",
       "22                             [runbooks/jupyterhub.md]\n",
       "23    [incident-management/incident-management-proce...\n",
       "24                              [sli-slo/jupyterhub.md]\n",
       "25                              [sli-slo/jupyterhub.md]\n",
       "26    [README.md, dashboards/README.md, incident-man...\n",
       "27                   [dashboards/jupyterhub-usage.json]\n",
       "28                 [dashboards/jupyterhub-sli-slo.json]\n",
       "29                                             [OWNERS]\n",
       "30    [dashboards/jupyterhub-sli-slo.json, dashboard...\n",
       "31                                          [README.md]\n",
       "32    [incident-management/README.md, incident-manag...\n",
       "33                               [dashboards/README.md]\n",
       "34                               [dashboards/README.md]\n",
       "35    [.aicoe-ci.yaml, .pre-commit-config.yaml, dash...\n",
       "36                                             [OWNERS]\n",
       "37                               [dashboards/README.md]\n",
       "38               [dashboards/Jupyterhub-dashboard.json]\n",
       "39                                          [README.md]\n",
       "40                             [monitoring-solution.md]\n",
       "41                               [runbooks/TEMPLATE.md]\n",
       "42                             [runbooks/jupyterhub.md]\n",
       "43                              [sli-slo/jupyterhub.md]\n",
       "Name: changed_files, dtype: object"
      ]
     },
     "execution_count": 28,
     "metadata": {},
     "output_type": "execute_result"
    }
   ],
   "source": [
    "pr_df.changed_files"
   ]
  },
  {
   "cell_type": "code",
   "execution_count": 29,
   "id": "ba70b93f",
   "metadata": {
    "execution": {
     "iopub.execute_input": "2022-11-02T16:16:36.908287Z",
     "iopub.status.busy": "2022-11-02T16:16:36.908059Z",
     "iopub.status.idle": "2022-11-02T16:16:36.913631Z",
     "shell.execute_reply": "2022-11-02T16:16:36.913003Z"
    }
   },
   "outputs": [],
   "source": [
    "def filetype(filepath):\n",
    "\n",
    "    # if standard file extension, return file extension\n",
    "    if pathlib.Path(filepath).suffix:\n",
    "        return pathlib.Path(filepath).suffix\n",
    "\n",
    "    else:\n",
    "        # if single file at the root of repo\n",
    "        if \"/\" not in filepath:\n",
    "            # if a file like README/Dockerfile etc\n",
    "            if \".\" not in filepath:\n",
    "                return filepath\n",
    "        # if file not at root\n",
    "        else:\n",
    "            # get file name\n",
    "            file = filepath.rsplit(\"/\", 1)[1]\n",
    "            if \".\" not in file:\n",
    "                return file\n",
    "            elif \".\" in file:\n",
    "                return \".\" + file.rsplit(\".\", 1)[1]"
   ]
  },
  {
   "cell_type": "code",
   "execution_count": 30,
   "id": "2e00c415",
   "metadata": {
    "execution": {
     "iopub.execute_input": "2022-11-02T16:16:36.916491Z",
     "iopub.status.busy": "2022-11-02T16:16:36.916125Z",
     "iopub.status.idle": "2022-11-02T16:16:36.920552Z",
     "shell.execute_reply": "2022-11-02T16:16:36.919964Z"
    }
   },
   "outputs": [],
   "source": [
    "# get list of all file types that were modified across all openshift origin PRs\n",
    "changed_files = list(pr_df[\"changed_files\"])"
   ]
  },
  {
   "cell_type": "code",
   "execution_count": 31,
   "id": "36a1dcda",
   "metadata": {
    "execution": {
     "iopub.execute_input": "2022-11-02T16:16:36.923660Z",
     "iopub.status.busy": "2022-11-02T16:16:36.923317Z",
     "iopub.status.idle": "2022-11-02T16:16:36.928000Z",
     "shell.execute_reply": "2022-11-02T16:16:36.927433Z"
    }
   },
   "outputs": [],
   "source": [
    "all_changed_files = [filetype(filepath) for pr in changed_files for filepath in pr]"
   ]
  },
  {
   "cell_type": "code",
   "execution_count": 32,
   "id": "d7de1e91",
   "metadata": {
    "execution": {
     "iopub.execute_input": "2022-11-02T16:16:36.931057Z",
     "iopub.status.busy": "2022-11-02T16:16:36.930721Z",
     "iopub.status.idle": "2022-11-02T16:16:36.934035Z",
     "shell.execute_reply": "2022-11-02T16:16:36.933402Z"
    }
   },
   "outputs": [],
   "source": [
    "count = Counter(all_changed_files)"
   ]
  },
  {
   "cell_type": "code",
   "execution_count": 33,
   "id": "17e5fd80",
   "metadata": {
    "execution": {
     "iopub.execute_input": "2022-11-02T16:16:36.936566Z",
     "iopub.status.busy": "2022-11-02T16:16:36.936353Z",
     "iopub.status.idle": "2022-11-02T16:16:36.940693Z",
     "shell.execute_reply": "2022-11-02T16:16:36.940091Z"
    }
   },
   "outputs": [],
   "source": [
    "# save 100 most commonly occuring file extensions across PRs\n",
    "top_fileextensions_freq = count.most_common(100)\n",
    "top_fileextensions = [ext[0] for ext in top_fileextensions_freq]"
   ]
  },
  {
   "cell_type": "code",
   "execution_count": 34,
   "id": "25a14da8",
   "metadata": {
    "execution": {
     "iopub.execute_input": "2022-11-02T16:16:36.943197Z",
     "iopub.status.busy": "2022-11-02T16:16:36.942985Z",
     "iopub.status.idle": "2022-11-02T16:16:36.947081Z",
     "shell.execute_reply": "2022-11-02T16:16:36.946435Z"
    }
   },
   "outputs": [
    {
     "data": {
      "text/plain": [
       "['.md', '.json', '.yaml', 'OWNERS']"
      ]
     },
     "execution_count": 34,
     "metadata": {},
     "output_type": "execute_result"
    }
   ],
   "source": [
    "top_fileextensions"
   ]
  },
  {
   "cell_type": "code",
   "execution_count": 35,
   "id": "ecd11700",
   "metadata": {
    "execution": {
     "iopub.execute_input": "2022-11-02T16:16:36.950356Z",
     "iopub.status.busy": "2022-11-02T16:16:36.950003Z",
     "iopub.status.idle": "2022-11-02T16:16:36.954460Z",
     "shell.execute_reply": "2022-11-02T16:16:36.953792Z"
    }
   },
   "outputs": [],
   "source": [
    "def file_type_freq(list_of_filepaths):\n",
    "    \"\"\"\n",
    "    For a given PR's list of changed files,\n",
    "    return a changed files frequency vector\n",
    "    ( a vector which holds the frequency of\n",
    "    changed files of the type  for every\n",
    "    file type in top_fileextensions )\n",
    "    \"\"\"\n",
    "\n",
    "    file_extensions = [filetype(f) for f in list_of_filepaths]\n",
    "    ext_dict = {key: 0 for key in top_fileextensions}\n",
    "    for f in file_extensions:\n",
    "        if f in ext_dict:\n",
    "            ext_dict[f] += 1\n",
    "\n",
    "    return list(ext_dict.values())"
   ]
  },
  {
   "cell_type": "code",
   "execution_count": 36,
   "id": "cc0b7906",
   "metadata": {
    "execution": {
     "iopub.execute_input": "2022-11-02T16:16:36.957232Z",
     "iopub.status.busy": "2022-11-02T16:16:36.956881Z",
     "iopub.status.idle": "2022-11-02T16:16:36.961510Z",
     "shell.execute_reply": "2022-11-02T16:16:36.960832Z"
    }
   },
   "outputs": [],
   "source": [
    "pr_df[\"changed_file_type_vec\"] = pr_df[\"changed_files\"].apply(\n",
    "    lambda x: file_type_freq(x)\n",
    ")"
   ]
  },
  {
   "cell_type": "code",
   "execution_count": 37,
   "id": "4fe7bb1d",
   "metadata": {
    "execution": {
     "iopub.execute_input": "2022-11-02T16:16:36.964415Z",
     "iopub.status.busy": "2022-11-02T16:16:36.963884Z",
     "iopub.status.idle": "2022-11-02T16:16:36.980724Z",
     "shell.execute_reply": "2022-11-02T16:16:36.980002Z"
    }
   },
   "outputs": [
    {
     "data": {
      "text/html": [
       "<div>\n",
       "<style scoped>\n",
       "    .dataframe tbody tr th:only-of-type {\n",
       "        vertical-align: middle;\n",
       "    }\n",
       "\n",
       "    .dataframe tbody tr th {\n",
       "        vertical-align: top;\n",
       "    }\n",
       "\n",
       "    .dataframe thead th {\n",
       "        text-align: right;\n",
       "    }\n",
       "</style>\n",
       "<table border=\"1\" class=\"dataframe\">\n",
       "  <thead>\n",
       "    <tr style=\"text-align: right;\">\n",
       "      <th></th>\n",
       "      <th>title</th>\n",
       "      <th>body</th>\n",
       "      <th>size</th>\n",
       "      <th>created_by</th>\n",
       "      <th>created_at</th>\n",
       "      <th>closed_at</th>\n",
       "      <th>closed_by</th>\n",
       "      <th>merged_at</th>\n",
       "      <th>merged_by</th>\n",
       "      <th>commits_number</th>\n",
       "      <th>...</th>\n",
       "      <th>id</th>\n",
       "      <th>time_to_merge</th>\n",
       "      <th>body_size</th>\n",
       "      <th>title_word_counts_vec</th>\n",
       "      <th>created_at_datetime</th>\n",
       "      <th>created_at_day</th>\n",
       "      <th>created_at_month</th>\n",
       "      <th>created_at_weekday</th>\n",
       "      <th>created_at_hour</th>\n",
       "      <th>changed_file_type_vec</th>\n",
       "    </tr>\n",
       "  </thead>\n",
       "  <tbody>\n",
       "    <tr>\n",
       "      <th>0</th>\n",
       "      <td>Update all remaining SRE docs with mentions of...</td>\n",
       "      <td>These changes have been made to 2 documents (m...</td>\n",
       "      <td>0</td>\n",
       "      <td>carlosGimeno</td>\n",
       "      <td>1642529077</td>\n",
       "      <td>1642621111</td>\n",
       "      <td>sesheta</td>\n",
       "      <td>1.642621e+09</td>\n",
       "      <td>sesheta</td>\n",
       "      <td>1</td>\n",
       "      <td>...</td>\n",
       "      <td>443</td>\n",
       "      <td>92034.0</td>\n",
       "      <td>35</td>\n",
       "      <td>[0, 0, 0, 0, 0, 0, 0, 0, 1, 0, 0, 0, 0, 0, 0, ...</td>\n",
       "      <td>2022-01-18 18:04:37</td>\n",
       "      <td>18</td>\n",
       "      <td>1</td>\n",
       "      <td>1</td>\n",
       "      <td>18</td>\n",
       "      <td>[2, 0, 0, 0]</td>\n",
       "    </tr>\n",
       "    <tr>\n",
       "      <th>1</th>\n",
       "      <td>Fix operate-first.cloud links</td>\n",
       "      <td>Existing links give 404s</td>\n",
       "      <td>0</td>\n",
       "      <td>david-martin</td>\n",
       "      <td>1641919743</td>\n",
       "      <td>1659120271</td>\n",
       "      <td>sesheta</td>\n",
       "      <td>NaN</td>\n",
       "      <td>None</td>\n",
       "      <td>1</td>\n",
       "      <td>...</td>\n",
       "      <td>438</td>\n",
       "      <td>NaN</td>\n",
       "      <td>4</td>\n",
       "      <td>[0, 0, 0, 0, 0, 0, 0, 1, 0, 0, 0, 0, 0, 0, 0, ...</td>\n",
       "      <td>2022-01-11 16:49:03</td>\n",
       "      <td>11</td>\n",
       "      <td>1</td>\n",
       "      <td>1</td>\n",
       "      <td>16</td>\n",
       "      <td>[1, 0, 0, 0]</td>\n",
       "    </tr>\n",
       "  </tbody>\n",
       "</table>\n",
       "<p>2 rows × 28 columns</p>\n",
       "</div>"
      ],
      "text/plain": [
       "                                               title  \\\n",
       "0  Update all remaining SRE docs with mentions of...   \n",
       "1                      Fix operate-first.cloud links   \n",
       "\n",
       "                                                body  size    created_by  \\\n",
       "0  These changes have been made to 2 documents (m...     0  carlosGimeno   \n",
       "1                           Existing links give 404s     0  david-martin   \n",
       "\n",
       "   created_at   closed_at closed_by     merged_at merged_by  commits_number  \\\n",
       "0  1642529077  1642621111   sesheta  1.642621e+09   sesheta               1   \n",
       "1  1641919743  1659120271   sesheta           NaN      None               1   \n",
       "\n",
       "   ...   id time_to_merge body_size  \\\n",
       "0  ...  443       92034.0        35   \n",
       "1  ...  438           NaN         4   \n",
       "\n",
       "                               title_word_counts_vec created_at_datetime  \\\n",
       "0  [0, 0, 0, 0, 0, 0, 0, 0, 1, 0, 0, 0, 0, 0, 0, ... 2022-01-18 18:04:37   \n",
       "1  [0, 0, 0, 0, 0, 0, 0, 1, 0, 0, 0, 0, 0, 0, 0, ... 2022-01-11 16:49:03   \n",
       "\n",
       "  created_at_day  created_at_month  created_at_weekday created_at_hour  \\\n",
       "0             18                 1                   1              18   \n",
       "1             11                 1                   1              16   \n",
       "\n",
       "   changed_file_type_vec  \n",
       "0           [2, 0, 0, 0]  \n",
       "1           [1, 0, 0, 0]  \n",
       "\n",
       "[2 rows x 28 columns]"
      ]
     },
     "execution_count": 37,
     "metadata": {},
     "output_type": "execute_result"
    }
   ],
   "source": [
    "pr_df.head(2)"
   ]
  },
  {
   "cell_type": "markdown",
   "id": "8102f95e-6175-4b46-99c1-66175f20325c",
   "metadata": {},
   "source": [
    "## Create PR trends dashboard"
   ]
  },
  {
   "cell_type": "markdown",
   "id": "5e502b7f-49c4-4024-aebc-3c9720a94209",
   "metadata": {},
   "source": [
    "## Infer dataframe columns as Features"
   ]
  },
  {
   "cell_type": "markdown",
   "id": "70443afd",
   "metadata": {},
   "source": [
    "We can see above that some PRs have 0 for all directory fields since the directory structure of the repo has changed over time and we are interested in only the latest directory structure."
   ]
  },
  {
   "cell_type": "code",
   "execution_count": 38,
   "id": "64e7a822",
   "metadata": {
    "execution": {
     "iopub.execute_input": "2022-11-02T16:16:36.984124Z",
     "iopub.status.busy": "2022-11-02T16:16:36.983510Z",
     "iopub.status.idle": "2022-11-02T16:16:36.988285Z",
     "shell.execute_reply": "2022-11-02T16:16:36.987620Z"
    }
   },
   "outputs": [],
   "source": [
    "# subset DataFrame to use as features\n",
    "feature_df = pr_df[\n",
    "    [\n",
    "        \"time_to_merge\",\n",
    "        \"changed_files_number\",\n",
    "        \"body_size\",\n",
    "        \"size\",\n",
    "        \"title_word_counts_vec\",\n",
    "        \"created_at_day\",\n",
    "        \"created_at_month\",\n",
    "        \"created_at_weekday\",\n",
    "        \"created_at_hour\",\n",
    "        \"commits_number\",\n",
    "        \"changed_file_type_vec\",\n",
    "    ]\n",
    "]"
   ]
  },
  {
   "cell_type": "markdown",
   "id": "0b08a241",
   "metadata": {},
   "source": [
    "### Add PR TTM Class Column \n",
    "\n",
    "Lets split up the time to merge values into 10 discrete bins (as discussed above) to use as our prediction classes."
   ]
  },
  {
   "cell_type": "code",
   "execution_count": 39,
   "id": "b1a5adc0-e8e2-4159-af36-a6fdc938de17",
   "metadata": {
    "execution": {
     "iopub.execute_input": "2022-11-02T16:16:36.991507Z",
     "iopub.status.busy": "2022-11-02T16:16:36.990961Z",
     "iopub.status.idle": "2022-11-02T16:16:36.996357Z",
     "shell.execute_reply": "2022-11-02T16:16:36.995696Z"
    }
   },
   "outputs": [
    {
     "data": {
      "text/plain": [
       "0.0       102.0\n",
       "0.1       299.0\n",
       "0.2       874.0\n",
       "0.3      3301.0\n",
       "0.4      8735.0\n",
       "0.5     24669.0\n",
       "0.6     68192.0\n",
       "0.7     92034.0\n",
       "0.8    164048.0\n",
       "0.9    329836.0\n",
       "Name: time_to_merge, dtype: float64"
      ]
     },
     "execution_count": 39,
     "metadata": {},
     "output_type": "execute_result"
    }
   ],
   "source": [
    "intervals"
   ]
  },
  {
   "cell_type": "code",
   "execution_count": 40,
   "id": "ec16152d-0fb3-4775-913a-9e476382d713",
   "metadata": {
    "execution": {
     "iopub.execute_input": "2022-11-02T16:16:36.999836Z",
     "iopub.status.busy": "2022-11-02T16:16:36.999397Z",
     "iopub.status.idle": "2022-11-02T16:16:37.028361Z",
     "shell.execute_reply": "2022-11-02T16:16:37.027710Z"
    }
   },
   "outputs": [
    {
     "name": "stderr",
     "output_type": "stream",
     "text": [
      "/tmp/ipykernel_235/2436122750.py:9: SettingWithCopyWarning: \n",
      "A value is trying to be set on a copy of a slice from a DataFrame.\n",
      "Try using .loc[row_indexer,col_indexer] = value instead\n",
      "\n",
      "See the caveats in the documentation: https://pandas.pydata.org/pandas-docs/stable/user_guide/indexing.html#returning-a-view-versus-a-copy\n",
      "  feature_df[\"ttm_class\"] = (feature_df[\"time_to_merge\"]).apply(get_ttm_class)\n"
     ]
    },
    {
     "data": {
      "text/html": [
       "<div>\n",
       "<style scoped>\n",
       "    .dataframe tbody tr th:only-of-type {\n",
       "        vertical-align: middle;\n",
       "    }\n",
       "\n",
       "    .dataframe tbody tr th {\n",
       "        vertical-align: top;\n",
       "    }\n",
       "\n",
       "    .dataframe thead th {\n",
       "        text-align: right;\n",
       "    }\n",
       "</style>\n",
       "<table border=\"1\" class=\"dataframe\">\n",
       "  <thead>\n",
       "    <tr style=\"text-align: right;\">\n",
       "      <th></th>\n",
       "      <th>time_to_merge</th>\n",
       "      <th>changed_files_number</th>\n",
       "      <th>body_size</th>\n",
       "      <th>size</th>\n",
       "      <th>title_word_counts_vec</th>\n",
       "      <th>created_at_day</th>\n",
       "      <th>created_at_month</th>\n",
       "      <th>created_at_weekday</th>\n",
       "      <th>created_at_hour</th>\n",
       "      <th>commits_number</th>\n",
       "      <th>changed_file_type_vec</th>\n",
       "      <th>ttm_class</th>\n",
       "    </tr>\n",
       "  </thead>\n",
       "  <tbody>\n",
       "    <tr>\n",
       "      <th>0</th>\n",
       "      <td>92034.0</td>\n",
       "      <td>2</td>\n",
       "      <td>35</td>\n",
       "      <td>0</td>\n",
       "      <td>[0, 0, 0, 0, 0, 0, 0, 0, 1, 0, 0, 0, 0, 0, 0, ...</td>\n",
       "      <td>18</td>\n",
       "      <td>1</td>\n",
       "      <td>1</td>\n",
       "      <td>18</td>\n",
       "      <td>1</td>\n",
       "      <td>[2, 0, 0, 0]</td>\n",
       "      <td>7</td>\n",
       "    </tr>\n",
       "    <tr>\n",
       "      <th>1</th>\n",
       "      <td>NaN</td>\n",
       "      <td>1</td>\n",
       "      <td>4</td>\n",
       "      <td>0</td>\n",
       "      <td>[0, 0, 0, 0, 0, 0, 0, 1, 0, 0, 0, 0, 0, 0, 0, ...</td>\n",
       "      <td>11</td>\n",
       "      <td>1</td>\n",
       "      <td>1</td>\n",
       "      <td>16</td>\n",
       "      <td>1</td>\n",
       "      <td>[1, 0, 0, 0]</td>\n",
       "      <td>9</td>\n",
       "    </tr>\n",
       "    <tr>\n",
       "      <th>2</th>\n",
       "      <td>1022.0</td>\n",
       "      <td>4</td>\n",
       "      <td>3</td>\n",
       "      <td>3</td>\n",
       "      <td>[0, 0, 1, 0, 0, 0, 0, 0, 0, 0, 0, 0, 0, 0, 0, ...</td>\n",
       "      <td>4</td>\n",
       "      <td>11</td>\n",
       "      <td>3</td>\n",
       "      <td>16</td>\n",
       "      <td>1</td>\n",
       "      <td>[4, 0, 0, 0]</td>\n",
       "      <td>2</td>\n",
       "    </tr>\n",
       "    <tr>\n",
       "      <th>3</th>\n",
       "      <td>11110.0</td>\n",
       "      <td>1</td>\n",
       "      <td>6</td>\n",
       "      <td>0</td>\n",
       "      <td>[0, 0, 0, 0, 0, 0, 0, 0, 0, 0, 0, 0, 0, 0, 0, ...</td>\n",
       "      <td>26</td>\n",
       "      <td>10</td>\n",
       "      <td>1</td>\n",
       "      <td>13</td>\n",
       "      <td>1</td>\n",
       "      <td>[1, 0, 0, 0]</td>\n",
       "      <td>4</td>\n",
       "    </tr>\n",
       "    <tr>\n",
       "      <th>4</th>\n",
       "      <td>394.0</td>\n",
       "      <td>1</td>\n",
       "      <td>4</td>\n",
       "      <td>0</td>\n",
       "      <td>[0, 0, 0, 0, 0, 0, 0, 0, 0, 0, 0, 0, 0, 0, 0, ...</td>\n",
       "      <td>19</td>\n",
       "      <td>10</td>\n",
       "      <td>1</td>\n",
       "      <td>20</td>\n",
       "      <td>1</td>\n",
       "      <td>[1, 0, 0, 0]</td>\n",
       "      <td>1</td>\n",
       "    </tr>\n",
       "  </tbody>\n",
       "</table>\n",
       "</div>"
      ],
      "text/plain": [
       "   time_to_merge  changed_files_number  body_size  size  \\\n",
       "0        92034.0                     2         35     0   \n",
       "1            NaN                     1          4     0   \n",
       "2         1022.0                     4          3     3   \n",
       "3        11110.0                     1          6     0   \n",
       "4          394.0                     1          4     0   \n",
       "\n",
       "                               title_word_counts_vec  created_at_day  \\\n",
       "0  [0, 0, 0, 0, 0, 0, 0, 0, 1, 0, 0, 0, 0, 0, 0, ...              18   \n",
       "1  [0, 0, 0, 0, 0, 0, 0, 1, 0, 0, 0, 0, 0, 0, 0, ...              11   \n",
       "2  [0, 0, 1, 0, 0, 0, 0, 0, 0, 0, 0, 0, 0, 0, 0, ...               4   \n",
       "3  [0, 0, 0, 0, 0, 0, 0, 0, 0, 0, 0, 0, 0, 0, 0, ...              26   \n",
       "4  [0, 0, 0, 0, 0, 0, 0, 0, 0, 0, 0, 0, 0, 0, 0, ...              19   \n",
       "\n",
       "   created_at_month  created_at_weekday  created_at_hour  commits_number  \\\n",
       "0                 1                   1               18               1   \n",
       "1                 1                   1               16               1   \n",
       "2                11                   3               16               1   \n",
       "3                10                   1               13               1   \n",
       "4                10                   1               20               1   \n",
       "\n",
       "  changed_file_type_vec  ttm_class  \n",
       "0          [2, 0, 0, 0]          7  \n",
       "1          [1, 0, 0, 0]          9  \n",
       "2          [4, 0, 0, 0]          2  \n",
       "3          [1, 0, 0, 0]          4  \n",
       "4          [1, 0, 0, 0]          1  "
      ]
     },
     "execution_count": 40,
     "metadata": {},
     "output_type": "execute_result"
    }
   ],
   "source": [
    "def get_ttm_class(ttm):\n",
    "\n",
    "    for rownum, (indx, val) in enumerate(intervals.iteritems()):\n",
    "        if ttm < val:\n",
    "            return rownum - 1\n",
    "    return 9\n",
    "\n",
    "\n",
    "feature_df[\"ttm_class\"] = (feature_df[\"time_to_merge\"]).apply(get_ttm_class)\n",
    "feature_df.head()"
   ]
  },
  {
   "cell_type": "markdown",
   "id": "04749f45",
   "metadata": {},
   "source": [
    "## Evaluating Feature Importances\n",
    "\n",
    "### Categorical Features\n",
    "\n",
    "First, lets try to determine what categorical featuers are powerful influencers for time to merge of a PR"
   ]
  },
  {
   "cell_type": "code",
   "execution_count": 41,
   "id": "e353c92b",
   "metadata": {
    "execution": {
     "iopub.execute_input": "2022-11-02T16:16:37.031879Z",
     "iopub.status.busy": "2022-11-02T16:16:37.031297Z",
     "iopub.status.idle": "2022-11-02T16:16:37.035317Z",
     "shell.execute_reply": "2022-11-02T16:16:37.034659Z"
    }
   },
   "outputs": [],
   "source": [
    "# feature selection helper function\n",
    "def select_features(x, y, func):\n",
    "    fs = SelectKBest(score_func=func, k=\"all\")\n",
    "    fs.fit(x, y)\n",
    "    x_fs = fs.transform(x)\n",
    "    return x_fs, fs\n",
    "\n",
    "\n",
    "selected_features = []"
   ]
  },
  {
   "cell_type": "code",
   "execution_count": 42,
   "id": "986b3424-0401-4c7a-8f28-a860b87e14ef",
   "metadata": {
    "execution": {
     "iopub.execute_input": "2022-11-02T16:16:37.038453Z",
     "iopub.status.busy": "2022-11-02T16:16:37.037926Z",
     "iopub.status.idle": "2022-11-02T16:16:37.041190Z",
     "shell.execute_reply": "2022-11-02T16:16:37.040522Z"
    }
   },
   "outputs": [],
   "source": [
    "cat_features = [\n",
    "    \"size\",\n",
    "    \"created_at_day\",\n",
    "    \"created_at_month\",\n",
    "    \"created_at_weekday\",\n",
    "    \"created_at_hour\",\n",
    "    \"ttm_class\",\n",
    "]"
   ]
  },
  {
   "cell_type": "code",
   "execution_count": 43,
   "id": "3e1d24a4",
   "metadata": {
    "execution": {
     "iopub.execute_input": "2022-11-02T16:16:37.044070Z",
     "iopub.status.busy": "2022-11-02T16:16:37.043635Z",
     "iopub.status.idle": "2022-11-02T16:16:37.052237Z",
     "shell.execute_reply": "2022-11-02T16:16:37.051588Z"
    }
   },
   "outputs": [
    {
     "data": {
      "text/html": [
       "<div>\n",
       "<style scoped>\n",
       "    .dataframe tbody tr th:only-of-type {\n",
       "        vertical-align: middle;\n",
       "    }\n",
       "\n",
       "    .dataframe tbody tr th {\n",
       "        vertical-align: top;\n",
       "    }\n",
       "\n",
       "    .dataframe thead th {\n",
       "        text-align: right;\n",
       "    }\n",
       "</style>\n",
       "<table border=\"1\" class=\"dataframe\">\n",
       "  <thead>\n",
       "    <tr style=\"text-align: right;\">\n",
       "      <th></th>\n",
       "      <th>size</th>\n",
       "      <th>created_at_day</th>\n",
       "      <th>created_at_month</th>\n",
       "      <th>created_at_weekday</th>\n",
       "      <th>created_at_hour</th>\n",
       "      <th>ttm_class</th>\n",
       "    </tr>\n",
       "  </thead>\n",
       "  <tbody>\n",
       "    <tr>\n",
       "      <th>0</th>\n",
       "      <td>0</td>\n",
       "      <td>18</td>\n",
       "      <td>1</td>\n",
       "      <td>1</td>\n",
       "      <td>18</td>\n",
       "      <td>7</td>\n",
       "    </tr>\n",
       "    <tr>\n",
       "      <th>1</th>\n",
       "      <td>0</td>\n",
       "      <td>11</td>\n",
       "      <td>1</td>\n",
       "      <td>1</td>\n",
       "      <td>16</td>\n",
       "      <td>9</td>\n",
       "    </tr>\n",
       "    <tr>\n",
       "      <th>2</th>\n",
       "      <td>3</td>\n",
       "      <td>4</td>\n",
       "      <td>11</td>\n",
       "      <td>3</td>\n",
       "      <td>16</td>\n",
       "      <td>2</td>\n",
       "    </tr>\n",
       "    <tr>\n",
       "      <th>3</th>\n",
       "      <td>0</td>\n",
       "      <td>26</td>\n",
       "      <td>10</td>\n",
       "      <td>1</td>\n",
       "      <td>13</td>\n",
       "      <td>4</td>\n",
       "    </tr>\n",
       "    <tr>\n",
       "      <th>4</th>\n",
       "      <td>0</td>\n",
       "      <td>19</td>\n",
       "      <td>10</td>\n",
       "      <td>1</td>\n",
       "      <td>20</td>\n",
       "      <td>1</td>\n",
       "    </tr>\n",
       "  </tbody>\n",
       "</table>\n",
       "</div>"
      ],
      "text/plain": [
       "   size  created_at_day  created_at_month  created_at_weekday  \\\n",
       "0     0              18                 1                   1   \n",
       "1     0              11                 1                   1   \n",
       "2     3               4                11                   3   \n",
       "3     0              26                10                   1   \n",
       "4     0              19                10                   1   \n",
       "\n",
       "   created_at_hour  ttm_class  \n",
       "0               18          7  \n",
       "1               16          9  \n",
       "2               16          2  \n",
       "3               13          4  \n",
       "4               20          1  "
      ]
     },
     "execution_count": 43,
     "metadata": {},
     "output_type": "execute_result"
    }
   ],
   "source": [
    "cat_df = feature_df[cat_features]\n",
    "\n",
    "cat_df.head()"
   ]
  },
  {
   "cell_type": "code",
   "execution_count": 44,
   "id": "278e3073",
   "metadata": {
    "execution": {
     "iopub.execute_input": "2022-11-02T16:16:37.055810Z",
     "iopub.status.busy": "2022-11-02T16:16:37.055276Z",
     "iopub.status.idle": "2022-11-02T16:16:37.059257Z",
     "shell.execute_reply": "2022-11-02T16:16:37.058586Z"
    }
   },
   "outputs": [],
   "source": [
    "# split into input (x) and output (y) variables\n",
    "X_inp = cat_df.drop(columns=[\"ttm_class\"])\n",
    "y = cat_df[\"ttm_class\"]"
   ]
  },
  {
   "cell_type": "code",
   "execution_count": 45,
   "id": "2df4fb8d",
   "metadata": {
    "execution": {
     "iopub.execute_input": "2022-11-02T16:16:37.062353Z",
     "iopub.status.busy": "2022-11-02T16:16:37.061899Z",
     "iopub.status.idle": "2022-11-02T16:16:37.237352Z",
     "shell.execute_reply": "2022-11-02T16:16:37.236428Z"
    }
   },
   "outputs": [],
   "source": [
    "# rank using mutual_info_classif\n",
    "X_fs, fs = select_features(X_inp, y, mutual_info_classif)"
   ]
  },
  {
   "cell_type": "code",
   "execution_count": 46,
   "id": "418becb1",
   "metadata": {
    "execution": {
     "iopub.execute_input": "2022-11-02T16:16:37.241203Z",
     "iopub.status.busy": "2022-11-02T16:16:37.240932Z",
     "iopub.status.idle": "2022-11-02T16:16:37.245832Z",
     "shell.execute_reply": "2022-11-02T16:16:37.245285Z"
    }
   },
   "outputs": [
    {
     "name": "stdout",
     "output_type": "stream",
     "text": [
      "Feature size: 0.045914\n",
      "Feature created_at_day: 0.156079\n",
      "Feature created_at_month: 0.109082\n",
      "Feature created_at_weekday: 0.000000\n",
      "Feature created_at_hour: 0.213395\n"
     ]
    }
   ],
   "source": [
    "for i in range(len(fs.scores_)):\n",
    "    print(\"Feature %s: %f\" % (X_inp.columns[i], fs.scores_[i]))"
   ]
  },
  {
   "cell_type": "code",
   "execution_count": 47,
   "id": "b08ea157",
   "metadata": {
    "execution": {
     "iopub.execute_input": "2022-11-02T16:16:37.248749Z",
     "iopub.status.busy": "2022-11-02T16:16:37.248491Z",
     "iopub.status.idle": "2022-11-02T16:16:37.497002Z",
     "shell.execute_reply": "2022-11-02T16:16:37.496307Z"
    }
   },
   "outputs": [
    {
     "data": {
      "image/png": "[encoded data removed]",
      "text/plain": [
       "<Figure size 432x288 with 1 Axes>"
      ]
     },
     "metadata": {
      "needs_background": "light"
     },
     "output_type": "display_data"
    }
   ],
   "source": [
    "# visualize scores of all features\n",
    "sns.barplot(x=X_inp.columns, y=fs.scores_)\n",
    "plt.title(\"Feature importance scores for Mutual Information Statistic\")\n",
    "plt.xticks(rotation=60)\n",
    "plt.xlabel(\"Features\")\n",
    "plt.ylabel(\"Scores\")\n",
    "plt.show()"
   ]
  },
  {
   "cell_type": "code",
   "execution_count": 48,
   "id": "176c1d98",
   "metadata": {
    "execution": {
     "iopub.execute_input": "2022-11-02T16:16:37.500505Z",
     "iopub.status.busy": "2022-11-02T16:16:37.500128Z",
     "iopub.status.idle": "2022-11-02T16:16:37.504743Z",
     "shell.execute_reply": "2022-11-02T16:16:37.504146Z"
    }
   },
   "outputs": [],
   "source": [
    "# Lets get a list of the top 10 feature indices based on Mutual Info Stat feature scores\n",
    "top_mis = fs.scores_.argsort()[-10:][::-1]"
   ]
  },
  {
   "cell_type": "code",
   "execution_count": 49,
   "id": "c33dc4f2",
   "metadata": {
    "execution": {
     "iopub.execute_input": "2022-11-02T16:16:37.507793Z",
     "iopub.status.busy": "2022-11-02T16:16:37.507446Z",
     "iopub.status.idle": "2022-11-02T16:16:37.515779Z",
     "shell.execute_reply": "2022-11-02T16:16:37.515199Z"
    }
   },
   "outputs": [],
   "source": [
    "# rank using chi_sq\n",
    "X_fs, fs = select_features(X_inp, y, chi2)"
   ]
  },
  {
   "cell_type": "code",
   "execution_count": 50,
   "id": "313c6906",
   "metadata": {
    "execution": {
     "iopub.execute_input": "2022-11-02T16:16:37.518973Z",
     "iopub.status.busy": "2022-11-02T16:16:37.518525Z",
     "iopub.status.idle": "2022-11-02T16:16:37.524287Z",
     "shell.execute_reply": "2022-11-02T16:16:37.523680Z"
    }
   },
   "outputs": [
    {
     "name": "stdout",
     "output_type": "stream",
     "text": [
      "Feature size: 16.280822\n",
      "Feature created_at_day: 76.643450\n",
      "Feature created_at_month: 25.301761\n",
      "Feature created_at_weekday: 8.834959\n",
      "Feature created_at_hour: 26.401205\n"
     ]
    }
   ],
   "source": [
    "for i in range(len(fs.scores_)):\n",
    "    print(\"Feature %s: %f\" % (X_inp.columns[i], fs.scores_[i]))"
   ]
  },
  {
   "cell_type": "code",
   "execution_count": 51,
   "id": "460daed6",
   "metadata": {
    "execution": {
     "iopub.execute_input": "2022-11-02T16:16:37.527420Z",
     "iopub.status.busy": "2022-11-02T16:16:37.526814Z",
     "iopub.status.idle": "2022-11-02T16:16:37.649621Z",
     "shell.execute_reply": "2022-11-02T16:16:37.649037Z"
    }
   },
   "outputs": [
    {
     "data": {
      "image/png": "[encoded data removed]",
      "text/plain": [
       "<Figure size 432x288 with 1 Axes>"
      ]
     },
     "metadata": {
      "needs_background": "light"
     },
     "output_type": "display_data"
    }
   ],
   "source": [
    "# visualize scores of all features\n",
    "sns.barplot(x=X_inp.columns, y=fs.scores_)\n",
    "plt.title(\"Feature importance scores for Chi Squared\")\n",
    "plt.xticks(rotation=60)\n",
    "plt.xlabel(\"Features\")\n",
    "plt.ylabel(\"Scores\")\n",
    "plt.show()"
   ]
  },
  {
   "cell_type": "code",
   "execution_count": 52,
   "id": "9874b4b4",
   "metadata": {
    "execution": {
     "iopub.execute_input": "2022-11-02T16:16:37.653164Z",
     "iopub.status.busy": "2022-11-02T16:16:37.652679Z",
     "iopub.status.idle": "2022-11-02T16:16:37.657321Z",
     "shell.execute_reply": "2022-11-02T16:16:37.656655Z"
    }
   },
   "outputs": [],
   "source": [
    "# Lets get a list of the top 10 feature indices based on Chi Sq feature scores\n",
    "top_chi2 = fs.scores_.argsort()[-10:][::-1]"
   ]
  },
  {
   "cell_type": "markdown",
   "id": "5861b291",
   "metadata": {},
   "source": [
    "Let's get a Union of the top 10 features derived from features based on both scores of both Mutual Info Statistic and Chi Squared"
   ]
  },
  {
   "cell_type": "code",
   "execution_count": 53,
   "id": "fae59295",
   "metadata": {
    "execution": {
     "iopub.execute_input": "2022-11-02T16:16:37.661623Z",
     "iopub.status.busy": "2022-11-02T16:16:37.660332Z",
     "iopub.status.idle": "2022-11-02T16:16:37.668369Z",
     "shell.execute_reply": "2022-11-02T16:16:37.667768Z"
    }
   },
   "outputs": [
    {
     "name": "stdout",
     "output_type": "stream",
     "text": [
      "5\n"
     ]
    },
    {
     "data": {
      "text/plain": [
       "{0, 1, 2, 3, 4}"
      ]
     },
     "execution_count": 53,
     "metadata": {},
     "output_type": "execute_result"
    }
   ],
   "source": [
    "union = set(top_mis).union(set(top_chi2))\n",
    "print(len(union))\n",
    "union"
   ]
  },
  {
   "cell_type": "code",
   "execution_count": 54,
   "id": "4778b695-9ec8-4d9f-a1dd-26d749b43a95",
   "metadata": {
    "execution": {
     "iopub.execute_input": "2022-11-02T16:16:37.671546Z",
     "iopub.status.busy": "2022-11-02T16:16:37.671190Z",
     "iopub.status.idle": "2022-11-02T16:16:37.677317Z",
     "shell.execute_reply": "2022-11-02T16:16:37.676742Z"
    }
   },
   "outputs": [
    {
     "data": {
      "text/plain": [
       "['size',\n",
       " 'created_at_day',\n",
       " 'created_at_month',\n",
       " 'created_at_weekday',\n",
       " 'created_at_hour']"
      ]
     },
     "execution_count": 54,
     "metadata": {},
     "output_type": "execute_result"
    }
   ],
   "source": [
    "selected_cat_features = [cat_features[i] for i in union]\n",
    "selected_cat_features"
   ]
  },
  {
   "cell_type": "code",
   "execution_count": 55,
   "id": "5b0ce173",
   "metadata": {
    "execution": {
     "iopub.execute_input": "2022-11-02T16:16:37.680574Z",
     "iopub.status.busy": "2022-11-02T16:16:37.680075Z",
     "iopub.status.idle": "2022-11-02T16:16:37.684083Z",
     "shell.execute_reply": "2022-11-02T16:16:37.683401Z"
    }
   },
   "outputs": [],
   "source": [
    "# update list of features to keep for training\n",
    "selected_features += selected_cat_features"
   ]
  },
  {
   "cell_type": "markdown",
   "id": "33f4387d",
   "metadata": {},
   "source": [
    "### Numerical Features\n",
    "\n",
    "Now, lets try to determine what numerical featuers are powerful influencers for time to merge of a PR"
   ]
  },
  {
   "cell_type": "code",
   "execution_count": 56,
   "id": "29683916-4ef7-474a-80ac-11a5d210b6fa",
   "metadata": {
    "execution": {
     "iopub.execute_input": "2022-11-02T16:16:37.687366Z",
     "iopub.status.busy": "2022-11-02T16:16:37.686872Z",
     "iopub.status.idle": "2022-11-02T16:16:37.691222Z",
     "shell.execute_reply": "2022-11-02T16:16:37.690651Z"
    }
   },
   "outputs": [],
   "source": [
    "numerical_features = [\n",
    "    \"changed_files_number\",\n",
    "    \"body_size\",\n",
    "    \"commits_number\",\n",
    "    \"ttm_class\",\n",
    "]"
   ]
  },
  {
   "cell_type": "code",
   "execution_count": 57,
   "id": "b0d608dd",
   "metadata": {
    "execution": {
     "iopub.execute_input": "2022-11-02T16:16:37.694333Z",
     "iopub.status.busy": "2022-11-02T16:16:37.693995Z",
     "iopub.status.idle": "2022-11-02T16:16:37.703385Z",
     "shell.execute_reply": "2022-11-02T16:16:37.702805Z"
    }
   },
   "outputs": [
    {
     "data": {
      "text/html": [
       "<div>\n",
       "<style scoped>\n",
       "    .dataframe tbody tr th:only-of-type {\n",
       "        vertical-align: middle;\n",
       "    }\n",
       "\n",
       "    .dataframe tbody tr th {\n",
       "        vertical-align: top;\n",
       "    }\n",
       "\n",
       "    .dataframe thead th {\n",
       "        text-align: right;\n",
       "    }\n",
       "</style>\n",
       "<table border=\"1\" class=\"dataframe\">\n",
       "  <thead>\n",
       "    <tr style=\"text-align: right;\">\n",
       "      <th></th>\n",
       "      <th>changed_files_number</th>\n",
       "      <th>body_size</th>\n",
       "      <th>commits_number</th>\n",
       "      <th>ttm_class</th>\n",
       "    </tr>\n",
       "  </thead>\n",
       "  <tbody>\n",
       "    <tr>\n",
       "      <th>0</th>\n",
       "      <td>2</td>\n",
       "      <td>35</td>\n",
       "      <td>1</td>\n",
       "      <td>7</td>\n",
       "    </tr>\n",
       "    <tr>\n",
       "      <th>1</th>\n",
       "      <td>1</td>\n",
       "      <td>4</td>\n",
       "      <td>1</td>\n",
       "      <td>9</td>\n",
       "    </tr>\n",
       "    <tr>\n",
       "      <th>2</th>\n",
       "      <td>4</td>\n",
       "      <td>3</td>\n",
       "      <td>1</td>\n",
       "      <td>2</td>\n",
       "    </tr>\n",
       "    <tr>\n",
       "      <th>3</th>\n",
       "      <td>1</td>\n",
       "      <td>6</td>\n",
       "      <td>1</td>\n",
       "      <td>4</td>\n",
       "    </tr>\n",
       "    <tr>\n",
       "      <th>4</th>\n",
       "      <td>1</td>\n",
       "      <td>4</td>\n",
       "      <td>1</td>\n",
       "      <td>1</td>\n",
       "    </tr>\n",
       "  </tbody>\n",
       "</table>\n",
       "</div>"
      ],
      "text/plain": [
       "   changed_files_number  body_size  commits_number  ttm_class\n",
       "0                     2         35               1          7\n",
       "1                     1          4               1          9\n",
       "2                     4          3               1          2\n",
       "3                     1          6               1          4\n",
       "4                     1          4               1          1"
      ]
     },
     "execution_count": 57,
     "metadata": {},
     "output_type": "execute_result"
    }
   ],
   "source": [
    "numerical_df = feature_df[numerical_features]\n",
    "numerical_df.head()"
   ]
  },
  {
   "cell_type": "code",
   "execution_count": 58,
   "id": "9ff2919e",
   "metadata": {
    "execution": {
     "iopub.execute_input": "2022-11-02T16:16:37.706219Z",
     "iopub.status.busy": "2022-11-02T16:16:37.705779Z",
     "iopub.status.idle": "2022-11-02T16:16:37.709725Z",
     "shell.execute_reply": "2022-11-02T16:16:37.709040Z"
    }
   },
   "outputs": [],
   "source": [
    "# split into input features and target\n",
    "X_inp = numerical_df.drop(columns=[\"ttm_class\"])\n",
    "y = numerical_df[\"ttm_class\"]"
   ]
  },
  {
   "cell_type": "code",
   "execution_count": 59,
   "id": "cc733746",
   "metadata": {
    "execution": {
     "iopub.execute_input": "2022-11-02T16:16:37.712687Z",
     "iopub.status.busy": "2022-11-02T16:16:37.712324Z",
     "iopub.status.idle": "2022-11-02T16:16:37.836049Z",
     "shell.execute_reply": "2022-11-02T16:16:37.835367Z"
    },
    "tags": []
   },
   "outputs": [
    {
     "data": {
      "image/png": "[encoded data removed]",
      "text/plain": [
       "<Figure size 432x288 with 1 Axes>"
      ]
     },
     "metadata": {
      "needs_background": "light"
     },
     "output_type": "display_data"
    }
   ],
   "source": [
    "# create k best feature selector object based on mutual information\n",
    "numerical_feats_mi, k_best_selector_mi = select_features(\n",
    "    X_inp,\n",
    "    y,\n",
    "    partial(\n",
    "        mutual_info_classif,\n",
    "        discrete_features=False,\n",
    "        random_state=42,\n",
    "        n_neighbors=3,\n",
    "    ),\n",
    ")\n",
    "\n",
    "# visualize the MI scores of all features\n",
    "sns.barplot(x=X_inp.columns, y=k_best_selector_mi.scores_)\n",
    "plt.title(\"Feature importance based on Mutual Information\")\n",
    "plt.xticks(rotation=60)\n",
    "plt.xlabel(\"Features\")\n",
    "plt.ylabel(\"Scores\")\n",
    "plt.show()"
   ]
  },
  {
   "cell_type": "code",
   "execution_count": 60,
   "id": "7bdf2192",
   "metadata": {
    "execution": {
     "iopub.execute_input": "2022-11-02T16:16:37.840513Z",
     "iopub.status.busy": "2022-11-02T16:16:37.839467Z",
     "iopub.status.idle": "2022-11-02T16:16:37.988867Z",
     "shell.execute_reply": "2022-11-02T16:16:37.988123Z"
    }
   },
   "outputs": [
    {
     "data": {
      "image/png": "[encoded data removed]",
      "text/plain": [
       "<Figure size 432x288 with 2 Axes>"
      ]
     },
     "metadata": {
      "needs_background": "light"
     },
     "output_type": "display_data"
    }
   ],
   "source": [
    "# create k best feature selector object based on anova f statistic\n",
    "numerical_feats_f, k_best_selector_f = select_features(\n",
    "    X_inp,\n",
    "    y,\n",
    "    f_classif,\n",
    ")\n",
    "\n",
    "# visualize the f stat scores and pvalues of all features\n",
    "fig, axes = plt.subplots(2, 1, sharex=True)\n",
    "fig.suptitle(\"Feature importance based on ANOVA F stat\")\n",
    "sns.barplot(x=X_inp.columns, y=k_best_selector_f.scores_, ax=axes[0])\n",
    "sns.barplot(x=X_inp.columns, y=k_best_selector_f.pvalues_, ax=axes[1])\n",
    "plt.xticks(rotation=60)\n",
    "plt.xlabel(\"Features\")\n",
    "axes[0].set_ylabel(\"Scores\")\n",
    "axes[1].set_ylabel(\"p-values\")\n",
    "plt.show()"
   ]
  },
  {
   "cell_type": "code",
   "execution_count": 61,
   "id": "6134ddb1-994f-42ee-8a68-7111540b6481",
   "metadata": {
    "execution": {
     "iopub.execute_input": "2022-11-02T16:16:37.992646Z",
     "iopub.status.busy": "2022-11-02T16:16:37.992066Z",
     "iopub.status.idle": "2022-11-02T16:16:37.998757Z",
     "shell.execute_reply": "2022-11-02T16:16:37.998101Z"
    }
   },
   "outputs": [
    {
     "data": {
      "text/plain": [
       "{0, 1, 2}"
      ]
     },
     "execution_count": 61,
     "metadata": {},
     "output_type": "execute_result"
    }
   ],
   "source": [
    "top_mi = k_best_selector_mi.scores_.argsort()[-3:][::-1]\n",
    "top_anova = k_best_selector_f.scores_.argsort()[-3:][::-1]\n",
    "union = set(top_mi).union(set(top_anova))\n",
    "union"
   ]
  },
  {
   "cell_type": "code",
   "execution_count": 62,
   "id": "2d5a9368-bfaf-4348-b140-13e6d725f59c",
   "metadata": {
    "execution": {
     "iopub.execute_input": "2022-11-02T16:16:38.001988Z",
     "iopub.status.busy": "2022-11-02T16:16:38.001364Z",
     "iopub.status.idle": "2022-11-02T16:16:38.006098Z",
     "shell.execute_reply": "2022-11-02T16:16:38.005446Z"
    }
   },
   "outputs": [
    {
     "data": {
      "text/plain": [
       "['changed_files_number', 'body_size', 'commits_number']"
      ]
     },
     "execution_count": 62,
     "metadata": {},
     "output_type": "execute_result"
    }
   ],
   "source": [
    "selected_num_features = [numerical_features[i] for i in union]\n",
    "selected_num_features"
   ]
  },
  {
   "cell_type": "code",
   "execution_count": 63,
   "id": "cc984a01",
   "metadata": {
    "execution": {
     "iopub.execute_input": "2022-11-02T16:16:38.008863Z",
     "iopub.status.busy": "2022-11-02T16:16:38.008613Z",
     "iopub.status.idle": "2022-11-02T16:16:38.011323Z",
     "shell.execute_reply": "2022-11-02T16:16:38.010818Z"
    }
   },
   "outputs": [],
   "source": [
    "# update list of features to keep for training\n",
    "selected_features += selected_num_features"
   ]
  },
  {
   "cell_type": "markdown",
   "id": "11a86b36",
   "metadata": {},
   "source": [
    "### Count Vector Type Features\n",
    "\n",
    "Finally, lets determine the most important features from the count vector type columns."
   ]
  },
  {
   "cell_type": "code",
   "execution_count": 64,
   "id": "f07d0334",
   "metadata": {
    "execution": {
     "iopub.execute_input": "2022-11-02T16:16:38.014319Z",
     "iopub.status.busy": "2022-11-02T16:16:38.014095Z",
     "iopub.status.idle": "2022-11-02T16:16:38.018376Z",
     "shell.execute_reply": "2022-11-02T16:16:38.017864Z"
    },
    "scrolled": true
   },
   "outputs": [],
   "source": [
    "# explode the list column so that there is 1 column representing frequency of each file type\n",
    "filetype_df = pd.DataFrame(feature_df.changed_file_type_vec.to_list())\n",
    "filetype_df.index = feature_df.index\n",
    "filetype_df.columns = [f\"filetype_{f}\" for f in top_fileextensions]"
   ]
  },
  {
   "cell_type": "code",
   "execution_count": 65,
   "id": "35f93d4e",
   "metadata": {
    "execution": {
     "iopub.execute_input": "2022-11-02T16:16:38.021121Z",
     "iopub.status.busy": "2022-11-02T16:16:38.020903Z",
     "iopub.status.idle": "2022-11-02T16:16:38.028381Z",
     "shell.execute_reply": "2022-11-02T16:16:38.027695Z"
    }
   },
   "outputs": [
    {
     "data": {
      "text/plain": [
       "filetype_.md       0.237585\n",
       "filetype_OWNERS   -0.174680\n",
       "filetype_.yaml    -0.308119\n",
       "filetype_.json    -0.368266\n",
       "dtype: float64"
      ]
     },
     "execution_count": 65,
     "metadata": {},
     "output_type": "execute_result"
    }
   ],
   "source": [
    "# compute correlation with ttm\n",
    "corr = filetype_df.corrwith(feature_df[\"ttm_class\"])\n",
    "corr.sort_values(ascending=False)"
   ]
  },
  {
   "cell_type": "code",
   "execution_count": 66,
   "id": "d5ae2981",
   "metadata": {
    "execution": {
     "iopub.execute_input": "2022-11-02T16:16:38.031256Z",
     "iopub.status.busy": "2022-11-02T16:16:38.031020Z",
     "iopub.status.idle": "2022-11-02T16:16:38.036398Z",
     "shell.execute_reply": "2022-11-02T16:16:38.035757Z"
    }
   },
   "outputs": [
    {
     "data": {
      "text/plain": [
       "filetype_.md       0.237585\n",
       "filetype_.json    -0.368266\n",
       "filetype_.yaml    -0.308119\n",
       "filetype_OWNERS   -0.174680\n",
       "dtype: float64"
      ]
     },
     "execution_count": 66,
     "metadata": {},
     "output_type": "execute_result"
    }
   ],
   "source": [
    "corr[corr.abs() > 0.01]"
   ]
  },
  {
   "cell_type": "code",
   "execution_count": 67,
   "id": "9d5e19bd",
   "metadata": {
    "execution": {
     "iopub.execute_input": "2022-11-02T16:16:38.039658Z",
     "iopub.status.busy": "2022-11-02T16:16:38.039433Z",
     "iopub.status.idle": "2022-11-02T16:16:38.043800Z",
     "shell.execute_reply": "2022-11-02T16:16:38.043124Z"
    }
   },
   "outputs": [],
   "source": [
    "# update list of features to keep for training\n",
    "# take everything that has more than 0.01 correlation magnitude\n",
    "filetype_keep_cols = corr[corr.abs() > 0.01].index.tolist()\n",
    "selected_features += filetype_keep_cols\n",
    "\n",
    "# only keep the relevant columns now\n",
    "filetype_df = filetype_df[filetype_keep_cols]"
   ]
  },
  {
   "cell_type": "code",
   "execution_count": 68,
   "id": "2eab2fb8-ee9e-4a4e-9d2e-7629f9c56cb9",
   "metadata": {
    "execution": {
     "iopub.execute_input": "2022-11-02T16:16:38.046665Z",
     "iopub.status.busy": "2022-11-02T16:16:38.046440Z",
     "iopub.status.idle": "2022-11-02T16:16:38.050692Z",
     "shell.execute_reply": "2022-11-02T16:16:38.050055Z"
    }
   },
   "outputs": [
    {
     "data": {
      "text/plain": [
       "['.md', '.json', '.yaml', 'OWNERS']"
      ]
     },
     "execution_count": 68,
     "metadata": {},
     "output_type": "execute_result"
    }
   ],
   "source": [
    "filetype_keep_cols = [i[9:] for i in filetype_keep_cols]\n",
    "filetype_keep_cols"
   ]
  },
  {
   "cell_type": "code",
   "execution_count": 69,
   "id": "2b2da9ab-de61-44f5-91f1-a897e8f7a962",
   "metadata": {
    "execution": {
     "iopub.execute_input": "2022-11-02T16:16:38.053925Z",
     "iopub.status.busy": "2022-11-02T16:16:38.053708Z",
     "iopub.status.idle": "2022-11-02T16:16:38.057125Z",
     "shell.execute_reply": "2022-11-02T16:16:38.056446Z"
    }
   },
   "outputs": [],
   "source": [
    "filetype_keep_cols_df = pd.DataFrame(filetype_keep_cols, columns=[\"filetype\"])"
   ]
  },
  {
   "cell_type": "code",
   "execution_count": 70,
   "id": "773682ad-cda8-42ec-9275-dc611004d913",
   "metadata": {
    "execution": {
     "iopub.execute_input": "2022-11-02T16:16:38.059941Z",
     "iopub.status.busy": "2022-11-02T16:16:38.059707Z",
     "iopub.status.idle": "2022-11-02T16:16:38.065629Z",
     "shell.execute_reply": "2022-11-02T16:16:38.064944Z"
    }
   },
   "outputs": [
    {
     "data": {
      "text/html": [
       "<div>\n",
       "<style scoped>\n",
       "    .dataframe tbody tr th:only-of-type {\n",
       "        vertical-align: middle;\n",
       "    }\n",
       "\n",
       "    .dataframe tbody tr th {\n",
       "        vertical-align: top;\n",
       "    }\n",
       "\n",
       "    .dataframe thead th {\n",
       "        text-align: right;\n",
       "    }\n",
       "</style>\n",
       "<table border=\"1\" class=\"dataframe\">\n",
       "  <thead>\n",
       "    <tr style=\"text-align: right;\">\n",
       "      <th></th>\n",
       "      <th>filetype</th>\n",
       "    </tr>\n",
       "  </thead>\n",
       "  <tbody>\n",
       "    <tr>\n",
       "      <th>0</th>\n",
       "      <td>.md</td>\n",
       "    </tr>\n",
       "    <tr>\n",
       "      <th>1</th>\n",
       "      <td>.json</td>\n",
       "    </tr>\n",
       "    <tr>\n",
       "      <th>2</th>\n",
       "      <td>.yaml</td>\n",
       "    </tr>\n",
       "    <tr>\n",
       "      <th>3</th>\n",
       "      <td>OWNERS</td>\n",
       "    </tr>\n",
       "  </tbody>\n",
       "</table>\n",
       "</div>"
      ],
      "text/plain": [
       "  filetype\n",
       "0      .md\n",
       "1    .json\n",
       "2    .yaml\n",
       "3   OWNERS"
      ]
     },
     "execution_count": 70,
     "metadata": {},
     "output_type": "execute_result"
    }
   ],
   "source": [
    "filetype_keep_cols_df"
   ]
  },
  {
   "cell_type": "code",
   "execution_count": 71,
   "id": "7333e449-4e2a-42aa-b728-3f36d205ed1f",
   "metadata": {
    "execution": {
     "iopub.execute_input": "2022-11-02T16:16:38.069172Z",
     "iopub.status.busy": "2022-11-02T16:16:38.068938Z",
     "iopub.status.idle": "2022-11-02T16:16:38.348509Z",
     "shell.execute_reply": "2022-11-02T16:16:38.347831Z"
    }
   },
   "outputs": [
    {
     "data": {
      "text/plain": [
       "{'ResponseMetadata': {'RequestId': 'l9zuczy1-9lptc0-tb6',\n",
       "  'HostId': 'l9zuczy1-9lptc0-tb6',\n",
       "  'HTTPStatusCode': 200,\n",
       "  'HTTPHeaders': {'x-amz-request-id': 'l9zuczy1-9lptc0-tb6',\n",
       "   'x-amz-id-2': 'l9zuczy1-9lptc0-tb6',\n",
       "   'access-control-allow-origin': '*',\n",
       "   'access-control-allow-credentials': 'true',\n",
       "   'access-control-allow-methods': 'GET,POST,PUT,DELETE,OPTIONS',\n",
       "   'access-control-allow-headers': 'Content-Type,Content-MD5,Authorization,X-Amz-User-Agent,X-Amz-Date,ETag,X-Amz-Content-Sha256',\n",
       "   'access-control-expose-headers': 'ETag,X-Amz-Version-Id',\n",
       "   'etag': '\"2829cade33f7a5717b26cf289610287a\"',\n",
       "   'date': 'Wed, 02 Nov 2022 16:16:38 GMT',\n",
       "   'keep-alive': 'timeout=5',\n",
       "   'content-length': '0',\n",
       "   'set-cookie': '1a4aa612fe797ac8466d7ee00e5520d5=a26d7dd2bae782e2ad6181b7887b5ff1; path=/; HttpOnly; Secure; SameSite=None'},\n",
       "  'RetryAttempts': 0},\n",
       " 'ETag': '\"2829cade33f7a5717b26cf289610287a\"'}"
      ]
     },
     "execution_count": 71,
     "metadata": {},
     "output_type": "execute_result"
    }
   ],
   "source": [
    "FILETYPE_FEATURES_FILENAME = os.path.join(ORG + REPO + \"FILETYPE.parquet\")\n",
    "FILETYPE_FEATURES_KEY = os.path.join(s3_input_data_path, ORG, REPO, \"features\")\n",
    "cc = CephCommunication(s3_endpoint_url, s3_access_key, s3_secret_key, s3_bucket)\n",
    "cc.upload_to_ceph(\n",
    "    filetype_keep_cols_df, FILETYPE_FEATURES_KEY, FILETYPE_FEATURES_FILENAME\n",
    ")"
   ]
  },
  {
   "cell_type": "code",
   "execution_count": 72,
   "id": "618842b5",
   "metadata": {
    "execution": {
     "iopub.execute_input": "2022-11-02T16:16:38.352164Z",
     "iopub.status.busy": "2022-11-02T16:16:38.351612Z",
     "iopub.status.idle": "2022-11-02T16:16:38.360402Z",
     "shell.execute_reply": "2022-11-02T16:16:38.359794Z"
    }
   },
   "outputs": [],
   "source": [
    "# explode the list column so that there is 1 column representing frequency of each word\n",
    "title_wordcount_df = pd.DataFrame(feature_df.title_word_counts_vec.to_list())\n",
    "\n",
    "title_wordcount_df.index = feature_df.index\n",
    "title_wordcount_df.columns = [f\"title_wordcount_{w}\" for w in unique_words]"
   ]
  },
  {
   "cell_type": "code",
   "execution_count": 73,
   "id": "457f28ed",
   "metadata": {
    "execution": {
     "iopub.execute_input": "2022-11-02T16:16:38.363888Z",
     "iopub.status.busy": "2022-11-02T16:16:38.363372Z",
     "iopub.status.idle": "2022-11-02T16:16:38.394184Z",
     "shell.execute_reply": "2022-11-02T16:16:38.393446Z"
    },
    "scrolled": true
   },
   "outputs": [
    {
     "data": {
      "text/plain": [
       "title_wordcount_add             0.259396\n",
       "title_wordcount_sre             0.223010\n",
       "title_wordcount_cluster         0.223010\n",
       "title_wordcount_jupyterhub      0.219380\n",
       "title_wordcount_site            0.205901\n",
       "                                  ...   \n",
       "title_wordcount_files          -0.244578\n",
       "title_wordcount_availability   -0.244578\n",
       "title_wordcount_errors         -0.244578\n",
       "title_wordcount_issue          -0.278356\n",
       "title_wordcount_dashboard      -0.311208\n",
       "Length: 97, dtype: float64"
      ]
     },
     "execution_count": 73,
     "metadata": {},
     "output_type": "execute_result"
    }
   ],
   "source": [
    "# compute correlation with ttm\n",
    "corr = title_wordcount_df.corrwith(feature_df[\"ttm_class\"])\n",
    "corr = corr.dropna()\n",
    "corr.sort_values(ascending=False)"
   ]
  },
  {
   "cell_type": "code",
   "execution_count": 74,
   "id": "0f1495a6",
   "metadata": {
    "execution": {
     "iopub.execute_input": "2022-11-02T16:16:38.397464Z",
     "iopub.status.busy": "2022-11-02T16:16:38.397191Z",
     "iopub.status.idle": "2022-11-02T16:16:38.405116Z",
     "shell.execute_reply": "2022-11-02T16:16:38.404510Z"
    }
   },
   "outputs": [
    {
     "data": {
      "text/plain": [
       "title_wordcount_add             0.259396\n",
       "title_wordcount_already         0.155848\n",
       "title_wordcount_apps           -0.144472\n",
       "title_wordcount_availability   -0.244578\n",
       "title_wordcount_boilerplate    -0.094419\n",
       "                                  ...   \n",
       "title_wordcount_upgrade         0.155848\n",
       "title_wordcount_usage          -0.144472\n",
       "title_wordcount_website         0.205901\n",
       "title_wordcount_wip             0.205901\n",
       "title_wordcount_zero            0.105794\n",
       "Length: 87, dtype: float64"
      ]
     },
     "execution_count": 74,
     "metadata": {},
     "output_type": "execute_result"
    }
   ],
   "source": [
    "corr[corr.abs() > 0.04]"
   ]
  },
  {
   "cell_type": "code",
   "execution_count": 75,
   "id": "624b3504",
   "metadata": {
    "execution": {
     "iopub.execute_input": "2022-11-02T16:16:38.408247Z",
     "iopub.status.busy": "2022-11-02T16:16:38.408006Z",
     "iopub.status.idle": "2022-11-02T16:16:38.413637Z",
     "shell.execute_reply": "2022-11-02T16:16:38.413037Z"
    }
   },
   "outputs": [],
   "source": [
    "# update list of features to keep for training\n",
    "# take everything that has more than 0.01 correlation magnitude\n",
    "title_word_keep_cols = corr[corr.abs() > 0.04].index.tolist()\n",
    "selected_features += title_word_keep_cols\n",
    "\n",
    "title_wordcount_df = title_wordcount_df[title_word_keep_cols]"
   ]
  },
  {
   "cell_type": "code",
   "execution_count": 76,
   "id": "45cd6a78-361c-444f-8065-4127f2e29313",
   "metadata": {
    "execution": {
     "iopub.execute_input": "2022-11-02T16:16:38.417878Z",
     "iopub.status.busy": "2022-11-02T16:16:38.416625Z",
     "iopub.status.idle": "2022-11-02T16:16:38.424202Z",
     "shell.execute_reply": "2022-11-02T16:16:38.423618Z"
    }
   },
   "outputs": [
    {
     "data": {
      "text/plain": [
       "['add',\n",
       " 'already',\n",
       " 'apps',\n",
       " 'availability',\n",
       " 'boilerplate',\n",
       " 'chore',\n",
       " 'ci',\n",
       " 'cloud',\n",
       " 'cluster',\n",
       " 'comprehensive',\n",
       " 'creating',\n",
       " 'dashboard',\n",
       " 'dashboards',\n",
       " 'defined',\n",
       " 'dir',\n",
       " 'discuss',\n",
       " 'docs',\n",
       " 'edits',\n",
       " 'errors',\n",
       " 'fairly',\n",
       " 'feature',\n",
       " 'files',\n",
       " 'first',\n",
       " 'fix',\n",
       " 'flooded',\n",
       " 'idh',\n",
       " 'incident',\n",
       " 'ipolonsk',\n",
       " 'issue',\n",
       " 'jh',\n",
       " 'json',\n",
       " 'jsons',\n",
       " 'jupyterhub',\n",
       " 'kafka',\n",
       " 'kernel',\n",
       " 'key',\n",
       " 'labelling',\n",
       " 'landing',\n",
       " 'limits',\n",
       " 'link',\n",
       " 'links',\n",
       " 'linting',\n",
       " 'management',\n",
       " 'martin',\n",
       " 'md',\n",
       " 'mentions',\n",
       " 'move',\n",
       " 'nb',\n",
       " 'new',\n",
       " 'notifications',\n",
       " 'operate',\n",
       " 'opf',\n",
       " 'owners',\n",
       " 'ownership',\n",
       " 'page',\n",
       " 'par',\n",
       " 'point',\n",
       " 'possible',\n",
       " 'procedure',\n",
       " 'prose',\n",
       " 'prow',\n",
       " 'readme',\n",
       " 'remaining',\n",
       " 'remove',\n",
       " 'repo',\n",
       " 'repos',\n",
       " 'resource',\n",
       " 'restart',\n",
       " 'reviewers',\n",
       " 'routes',\n",
       " 'runbook',\n",
       " 's',\n",
       " 'set',\n",
       " 'site',\n",
       " 'sli',\n",
       " 'slis',\n",
       " 'solution',\n",
       " 'sre',\n",
       " 'superset',\n",
       " 'template',\n",
       " 'threads',\n",
       " 'update',\n",
       " 'upgrade',\n",
       " 'usage',\n",
       " 'website',\n",
       " 'wip',\n",
       " 'zero']"
      ]
     },
     "execution_count": 76,
     "metadata": {},
     "output_type": "execute_result"
    }
   ],
   "source": [
    "title_word_keep_cols = [i[16:] for i in title_word_keep_cols]\n",
    "title_word_keep_cols"
   ]
  },
  {
   "cell_type": "code",
   "execution_count": 77,
   "id": "8b937135-f983-4d6c-961e-f9c7158d108c",
   "metadata": {
    "execution": {
     "iopub.execute_input": "2022-11-02T16:16:38.427567Z",
     "iopub.status.busy": "2022-11-02T16:16:38.427093Z",
     "iopub.status.idle": "2022-11-02T16:16:38.431994Z",
     "shell.execute_reply": "2022-11-02T16:16:38.431424Z"
    }
   },
   "outputs": [],
   "source": [
    "title_word_keep_cols_df = pd.DataFrame(title_word_keep_cols, columns=[\"title\"])"
   ]
  },
  {
   "cell_type": "code",
   "execution_count": 78,
   "id": "63f382a4-5826-4d65-aa9f-5f3b56f1aad9",
   "metadata": {
    "execution": {
     "iopub.execute_input": "2022-11-02T16:16:38.435240Z",
     "iopub.status.busy": "2022-11-02T16:16:38.434866Z",
     "iopub.status.idle": "2022-11-02T16:16:38.444643Z",
     "shell.execute_reply": "2022-11-02T16:16:38.444020Z"
    }
   },
   "outputs": [
    {
     "data": {
      "text/html": [
       "<div>\n",
       "<style scoped>\n",
       "    .dataframe tbody tr th:only-of-type {\n",
       "        vertical-align: middle;\n",
       "    }\n",
       "\n",
       "    .dataframe tbody tr th {\n",
       "        vertical-align: top;\n",
       "    }\n",
       "\n",
       "    .dataframe thead th {\n",
       "        text-align: right;\n",
       "    }\n",
       "</style>\n",
       "<table border=\"1\" class=\"dataframe\">\n",
       "  <thead>\n",
       "    <tr style=\"text-align: right;\">\n",
       "      <th></th>\n",
       "      <th>title</th>\n",
       "    </tr>\n",
       "  </thead>\n",
       "  <tbody>\n",
       "    <tr>\n",
       "      <th>0</th>\n",
       "      <td>add</td>\n",
       "    </tr>\n",
       "    <tr>\n",
       "      <th>1</th>\n",
       "      <td>already</td>\n",
       "    </tr>\n",
       "    <tr>\n",
       "      <th>2</th>\n",
       "      <td>apps</td>\n",
       "    </tr>\n",
       "    <tr>\n",
       "      <th>3</th>\n",
       "      <td>availability</td>\n",
       "    </tr>\n",
       "    <tr>\n",
       "      <th>4</th>\n",
       "      <td>boilerplate</td>\n",
       "    </tr>\n",
       "    <tr>\n",
       "      <th>...</th>\n",
       "      <td>...</td>\n",
       "    </tr>\n",
       "    <tr>\n",
       "      <th>82</th>\n",
       "      <td>upgrade</td>\n",
       "    </tr>\n",
       "    <tr>\n",
       "      <th>83</th>\n",
       "      <td>usage</td>\n",
       "    </tr>\n",
       "    <tr>\n",
       "      <th>84</th>\n",
       "      <td>website</td>\n",
       "    </tr>\n",
       "    <tr>\n",
       "      <th>85</th>\n",
       "      <td>wip</td>\n",
       "    </tr>\n",
       "    <tr>\n",
       "      <th>86</th>\n",
       "      <td>zero</td>\n",
       "    </tr>\n",
       "  </tbody>\n",
       "</table>\n",
       "<p>87 rows × 1 columns</p>\n",
       "</div>"
      ],
      "text/plain": [
       "           title\n",
       "0            add\n",
       "1        already\n",
       "2           apps\n",
       "3   availability\n",
       "4    boilerplate\n",
       "..           ...\n",
       "82       upgrade\n",
       "83         usage\n",
       "84       website\n",
       "85           wip\n",
       "86          zero\n",
       "\n",
       "[87 rows x 1 columns]"
      ]
     },
     "execution_count": 78,
     "metadata": {},
     "output_type": "execute_result"
    }
   ],
   "source": [
    "title_word_keep_cols_df"
   ]
  },
  {
   "cell_type": "code",
   "execution_count": 79,
   "id": "2c67ed79-0555-4f0d-9557-3e6d335baeac",
   "metadata": {
    "execution": {
     "iopub.execute_input": "2022-11-02T16:16:38.447938Z",
     "iopub.status.busy": "2022-11-02T16:16:38.447555Z",
     "iopub.status.idle": "2022-11-02T16:16:38.676595Z",
     "shell.execute_reply": "2022-11-02T16:16:38.675881Z"
    }
   },
   "outputs": [
    {
     "data": {
      "text/plain": [
       "{'ResponseMetadata': {'RequestId': 'l9zud08e-froo33-qil',\n",
       "  'HostId': 'l9zud08e-froo33-qil',\n",
       "  'HTTPStatusCode': 200,\n",
       "  'HTTPHeaders': {'x-amz-request-id': 'l9zud08e-froo33-qil',\n",
       "   'x-amz-id-2': 'l9zud08e-froo33-qil',\n",
       "   'access-control-allow-origin': '*',\n",
       "   'access-control-allow-credentials': 'true',\n",
       "   'access-control-allow-methods': 'GET,POST,PUT,DELETE,OPTIONS',\n",
       "   'access-control-allow-headers': 'Content-Type,Content-MD5,Authorization,X-Amz-User-Agent,X-Amz-Date,ETag,X-Amz-Content-Sha256',\n",
       "   'access-control-expose-headers': 'ETag,X-Amz-Version-Id',\n",
       "   'etag': '\"649b5eefc47e5bf6fc5d77992b10375a\"',\n",
       "   'date': 'Wed, 02 Nov 2022 16:16:38 GMT',\n",
       "   'keep-alive': 'timeout=5',\n",
       "   'content-length': '0',\n",
       "   'set-cookie': '1a4aa612fe797ac8466d7ee00e5520d5=a26d7dd2bae782e2ad6181b7887b5ff1; path=/; HttpOnly; Secure; SameSite=None'},\n",
       "  'RetryAttempts': 0},\n",
       " 'ETag': '\"649b5eefc47e5bf6fc5d77992b10375a\"'}"
      ]
     },
     "execution_count": 79,
     "metadata": {},
     "output_type": "execute_result"
    }
   ],
   "source": [
    "TITLE_FEATURES_FILENAME = os.path.join(ORG + REPO + \"titlewords.parquet\")\n",
    "TITLE_FEATURES_KEY = os.path.join(s3_input_data_path, ORG, REPO, \"features\")\n",
    "cc = CephCommunication(s3_endpoint_url, s3_access_key, s3_secret_key, s3_bucket)\n",
    "cc.upload_to_ceph(title_word_keep_cols_df, TITLE_FEATURES_KEY, TITLE_FEATURES_FILENAME)"
   ]
  },
  {
   "cell_type": "markdown",
   "id": "105e4b18",
   "metadata": {},
   "source": [
    "Using various feature importance scores such as chi-squared, mutual information statistic, correlation values, we have selected the most relevant features amongst all of our features. "
   ]
  },
  {
   "cell_type": "code",
   "execution_count": 80,
   "id": "4cdafdae",
   "metadata": {
    "execution": {
     "iopub.execute_input": "2022-11-02T16:16:38.680285Z",
     "iopub.status.busy": "2022-11-02T16:16:38.679873Z",
     "iopub.status.idle": "2022-11-02T16:16:38.685189Z",
     "shell.execute_reply": "2022-11-02T16:16:38.684657Z"
    },
    "tags": []
   },
   "outputs": [
    {
     "data": {
      "text/plain": [
       "['size',\n",
       " 'created_at_day',\n",
       " 'created_at_month',\n",
       " 'created_at_weekday',\n",
       " 'created_at_hour',\n",
       " 'changed_files_number',\n",
       " 'body_size',\n",
       " 'commits_number',\n",
       " 'filetype_.md',\n",
       " 'filetype_.json',\n",
       " 'filetype_.yaml',\n",
       " 'filetype_OWNERS',\n",
       " 'title_wordcount_add',\n",
       " 'title_wordcount_already',\n",
       " 'title_wordcount_apps',\n",
       " 'title_wordcount_availability',\n",
       " 'title_wordcount_boilerplate',\n",
       " 'title_wordcount_chore',\n",
       " 'title_wordcount_ci',\n",
       " 'title_wordcount_cloud',\n",
       " 'title_wordcount_cluster',\n",
       " 'title_wordcount_comprehensive',\n",
       " 'title_wordcount_creating',\n",
       " 'title_wordcount_dashboard',\n",
       " 'title_wordcount_dashboards',\n",
       " 'title_wordcount_defined',\n",
       " 'title_wordcount_dir',\n",
       " 'title_wordcount_discuss',\n",
       " 'title_wordcount_docs',\n",
       " 'title_wordcount_edits',\n",
       " 'title_wordcount_errors',\n",
       " 'title_wordcount_fairly',\n",
       " 'title_wordcount_feature',\n",
       " 'title_wordcount_files',\n",
       " 'title_wordcount_first',\n",
       " 'title_wordcount_fix',\n",
       " 'title_wordcount_flooded',\n",
       " 'title_wordcount_idh',\n",
       " 'title_wordcount_incident',\n",
       " 'title_wordcount_ipolonsk',\n",
       " 'title_wordcount_issue',\n",
       " 'title_wordcount_jh',\n",
       " 'title_wordcount_json',\n",
       " 'title_wordcount_jsons',\n",
       " 'title_wordcount_jupyterhub',\n",
       " 'title_wordcount_kafka',\n",
       " 'title_wordcount_kernel',\n",
       " 'title_wordcount_key',\n",
       " 'title_wordcount_labelling',\n",
       " 'title_wordcount_landing',\n",
       " 'title_wordcount_limits',\n",
       " 'title_wordcount_link',\n",
       " 'title_wordcount_links',\n",
       " 'title_wordcount_linting',\n",
       " 'title_wordcount_management',\n",
       " 'title_wordcount_martin',\n",
       " 'title_wordcount_md',\n",
       " 'title_wordcount_mentions',\n",
       " 'title_wordcount_move',\n",
       " 'title_wordcount_nb',\n",
       " 'title_wordcount_new',\n",
       " 'title_wordcount_notifications',\n",
       " 'title_wordcount_operate',\n",
       " 'title_wordcount_opf',\n",
       " 'title_wordcount_owners',\n",
       " 'title_wordcount_ownership',\n",
       " 'title_wordcount_page',\n",
       " 'title_wordcount_par',\n",
       " 'title_wordcount_point',\n",
       " 'title_wordcount_possible',\n",
       " 'title_wordcount_procedure',\n",
       " 'title_wordcount_prose',\n",
       " 'title_wordcount_prow',\n",
       " 'title_wordcount_readme',\n",
       " 'title_wordcount_remaining',\n",
       " 'title_wordcount_remove',\n",
       " 'title_wordcount_repo',\n",
       " 'title_wordcount_repos',\n",
       " 'title_wordcount_resource',\n",
       " 'title_wordcount_restart',\n",
       " 'title_wordcount_reviewers',\n",
       " 'title_wordcount_routes',\n",
       " 'title_wordcount_runbook',\n",
       " 'title_wordcount_s',\n",
       " 'title_wordcount_set',\n",
       " 'title_wordcount_site',\n",
       " 'title_wordcount_sli',\n",
       " 'title_wordcount_slis',\n",
       " 'title_wordcount_solution',\n",
       " 'title_wordcount_sre',\n",
       " 'title_wordcount_superset',\n",
       " 'title_wordcount_template',\n",
       " 'title_wordcount_threads',\n",
       " 'title_wordcount_update',\n",
       " 'title_wordcount_upgrade',\n",
       " 'title_wordcount_usage',\n",
       " 'title_wordcount_website',\n",
       " 'title_wordcount_wip',\n",
       " 'title_wordcount_zero']"
      ]
     },
     "execution_count": 80,
     "metadata": {},
     "output_type": "execute_result"
    }
   ],
   "source": [
    "selected_features"
   ]
  },
  {
   "cell_type": "markdown",
   "id": "ddda4924",
   "metadata": {},
   "source": [
    "## Save Feature Engineered Dataset"
   ]
  },
  {
   "cell_type": "code",
   "execution_count": 81,
   "id": "894941f7-9815-44af-867a-9e206502cd7a",
   "metadata": {
    "execution": {
     "iopub.execute_input": "2022-11-02T16:16:38.688493Z",
     "iopub.status.busy": "2022-11-02T16:16:38.687909Z",
     "iopub.status.idle": "2022-11-02T16:16:38.705610Z",
     "shell.execute_reply": "2022-11-02T16:16:38.704950Z"
    }
   },
   "outputs": [
    {
     "data": {
      "text/html": [
       "<div>\n",
       "<style scoped>\n",
       "    .dataframe tbody tr th:only-of-type {\n",
       "        vertical-align: middle;\n",
       "    }\n",
       "\n",
       "    .dataframe tbody tr th {\n",
       "        vertical-align: top;\n",
       "    }\n",
       "\n",
       "    .dataframe thead th {\n",
       "        text-align: right;\n",
       "    }\n",
       "</style>\n",
       "<table border=\"1\" class=\"dataframe\">\n",
       "  <thead>\n",
       "    <tr style=\"text-align: right;\">\n",
       "      <th></th>\n",
       "      <th>size</th>\n",
       "      <th>created_at_day</th>\n",
       "      <th>created_at_month</th>\n",
       "      <th>created_at_weekday</th>\n",
       "      <th>created_at_hour</th>\n",
       "      <th>changed_files_number</th>\n",
       "      <th>body_size</th>\n",
       "      <th>commits_number</th>\n",
       "      <th>filetype_.md</th>\n",
       "      <th>filetype_.json</th>\n",
       "      <th>...</th>\n",
       "      <th>title_wordcount_template</th>\n",
       "      <th>title_wordcount_threads</th>\n",
       "      <th>title_wordcount_update</th>\n",
       "      <th>title_wordcount_upgrade</th>\n",
       "      <th>title_wordcount_usage</th>\n",
       "      <th>title_wordcount_website</th>\n",
       "      <th>title_wordcount_wip</th>\n",
       "      <th>title_wordcount_zero</th>\n",
       "      <th>ttm_class</th>\n",
       "      <th>time_to_merge</th>\n",
       "    </tr>\n",
       "  </thead>\n",
       "  <tbody>\n",
       "    <tr>\n",
       "      <th>0</th>\n",
       "      <td>0</td>\n",
       "      <td>18</td>\n",
       "      <td>1</td>\n",
       "      <td>1</td>\n",
       "      <td>18</td>\n",
       "      <td>2</td>\n",
       "      <td>35</td>\n",
       "      <td>1</td>\n",
       "      <td>2</td>\n",
       "      <td>0</td>\n",
       "      <td>...</td>\n",
       "      <td>0</td>\n",
       "      <td>0</td>\n",
       "      <td>1</td>\n",
       "      <td>0</td>\n",
       "      <td>0</td>\n",
       "      <td>0</td>\n",
       "      <td>0</td>\n",
       "      <td>1</td>\n",
       "      <td>7</td>\n",
       "      <td>92034.0</td>\n",
       "    </tr>\n",
       "    <tr>\n",
       "      <th>1</th>\n",
       "      <td>0</td>\n",
       "      <td>11</td>\n",
       "      <td>1</td>\n",
       "      <td>1</td>\n",
       "      <td>16</td>\n",
       "      <td>1</td>\n",
       "      <td>4</td>\n",
       "      <td>1</td>\n",
       "      <td>1</td>\n",
       "      <td>0</td>\n",
       "      <td>...</td>\n",
       "      <td>0</td>\n",
       "      <td>0</td>\n",
       "      <td>0</td>\n",
       "      <td>0</td>\n",
       "      <td>0</td>\n",
       "      <td>0</td>\n",
       "      <td>0</td>\n",
       "      <td>0</td>\n",
       "      <td>9</td>\n",
       "      <td>NaN</td>\n",
       "    </tr>\n",
       "    <tr>\n",
       "      <th>2</th>\n",
       "      <td>3</td>\n",
       "      <td>4</td>\n",
       "      <td>11</td>\n",
       "      <td>3</td>\n",
       "      <td>16</td>\n",
       "      <td>4</td>\n",
       "      <td>3</td>\n",
       "      <td>1</td>\n",
       "      <td>4</td>\n",
       "      <td>0</td>\n",
       "      <td>...</td>\n",
       "      <td>0</td>\n",
       "      <td>0</td>\n",
       "      <td>0</td>\n",
       "      <td>0</td>\n",
       "      <td>0</td>\n",
       "      <td>0</td>\n",
       "      <td>0</td>\n",
       "      <td>0</td>\n",
       "      <td>2</td>\n",
       "      <td>1022.0</td>\n",
       "    </tr>\n",
       "    <tr>\n",
       "      <th>3</th>\n",
       "      <td>0</td>\n",
       "      <td>26</td>\n",
       "      <td>10</td>\n",
       "      <td>1</td>\n",
       "      <td>13</td>\n",
       "      <td>1</td>\n",
       "      <td>6</td>\n",
       "      <td>1</td>\n",
       "      <td>1</td>\n",
       "      <td>0</td>\n",
       "      <td>...</td>\n",
       "      <td>0</td>\n",
       "      <td>0</td>\n",
       "      <td>0</td>\n",
       "      <td>0</td>\n",
       "      <td>0</td>\n",
       "      <td>0</td>\n",
       "      <td>0</td>\n",
       "      <td>0</td>\n",
       "      <td>4</td>\n",
       "      <td>11110.0</td>\n",
       "    </tr>\n",
       "    <tr>\n",
       "      <th>4</th>\n",
       "      <td>0</td>\n",
       "      <td>19</td>\n",
       "      <td>10</td>\n",
       "      <td>1</td>\n",
       "      <td>20</td>\n",
       "      <td>1</td>\n",
       "      <td>4</td>\n",
       "      <td>1</td>\n",
       "      <td>1</td>\n",
       "      <td>0</td>\n",
       "      <td>...</td>\n",
       "      <td>0</td>\n",
       "      <td>0</td>\n",
       "      <td>1</td>\n",
       "      <td>0</td>\n",
       "      <td>0</td>\n",
       "      <td>0</td>\n",
       "      <td>0</td>\n",
       "      <td>0</td>\n",
       "      <td>1</td>\n",
       "      <td>394.0</td>\n",
       "    </tr>\n",
       "  </tbody>\n",
       "</table>\n",
       "<p>5 rows × 101 columns</p>\n",
       "</div>"
      ],
      "text/plain": [
       "   size  created_at_day  created_at_month  created_at_weekday  \\\n",
       "0     0              18                 1                   1   \n",
       "1     0              11                 1                   1   \n",
       "2     3               4                11                   3   \n",
       "3     0              26                10                   1   \n",
       "4     0              19                10                   1   \n",
       "\n",
       "   created_at_hour  changed_files_number  body_size  commits_number  \\\n",
       "0               18                     2         35               1   \n",
       "1               16                     1          4               1   \n",
       "2               16                     4          3               1   \n",
       "3               13                     1          6               1   \n",
       "4               20                     1          4               1   \n",
       "\n",
       "   filetype_.md  filetype_.json  ...  title_wordcount_template  \\\n",
       "0             2               0  ...                         0   \n",
       "1             1               0  ...                         0   \n",
       "2             4               0  ...                         0   \n",
       "3             1               0  ...                         0   \n",
       "4             1               0  ...                         0   \n",
       "\n",
       "   title_wordcount_threads  title_wordcount_update  title_wordcount_upgrade  \\\n",
       "0                        0                       1                        0   \n",
       "1                        0                       0                        0   \n",
       "2                        0                       0                        0   \n",
       "3                        0                       0                        0   \n",
       "4                        0                       1                        0   \n",
       "\n",
       "   title_wordcount_usage  title_wordcount_website  title_wordcount_wip  \\\n",
       "0                      0                        0                    0   \n",
       "1                      0                        0                    0   \n",
       "2                      0                        0                    0   \n",
       "3                      0                        0                    0   \n",
       "4                      0                        0                    0   \n",
       "\n",
       "   title_wordcount_zero  ttm_class  time_to_merge  \n",
       "0                     1          7        92034.0  \n",
       "1                     0          9            NaN  \n",
       "2                     0          2         1022.0  \n",
       "3                     0          4        11110.0  \n",
       "4                     0          1          394.0  \n",
       "\n",
       "[5 rows x 101 columns]"
      ]
     },
     "execution_count": 81,
     "metadata": {},
     "output_type": "execute_result"
    }
   ],
   "source": [
    "# join all types of features\n",
    "ttm_dataset = pd.concat(\n",
    "    [feature_df, filetype_df, title_wordcount_df], axis=1, ignore_index=False\n",
    ")\n",
    "\n",
    "# keep only the selected features and the prediction label\n",
    "ttm_dataset = ttm_dataset[selected_features + [\"ttm_class\", \"time_to_merge\"]]\n",
    "\n",
    "ttm_dataset.head()"
   ]
  },
  {
   "cell_type": "code",
   "execution_count": 82,
   "id": "4fd9e422-eaf1-4c80-9375-5d71ac985171",
   "metadata": {
    "execution": {
     "iopub.execute_input": "2022-11-02T16:16:38.709289Z",
     "iopub.status.busy": "2022-11-02T16:16:38.708850Z",
     "iopub.status.idle": "2022-11-02T16:16:38.721810Z",
     "shell.execute_reply": "2022-11-02T16:16:38.721159Z"
    }
   },
   "outputs": [
    {
     "name": "stdout",
     "output_type": "stream",
     "text": [
      "<class 'pandas.core.frame.DataFrame'>\n",
      "RangeIndex: 44 entries, 0 to 43\n",
      "Columns: 101 entries, size to time_to_merge\n",
      "dtypes: float64(1), int64(100)\n",
      "memory usage: 34.8 KB\n"
     ]
    }
   ],
   "source": [
    "ttm_dataset.info()"
   ]
  },
  {
   "cell_type": "markdown",
   "id": "4a949795",
   "metadata": {},
   "source": [
    "## Save results to Ceph or locally\n",
    "\n",
    "Using the helper function to save the data frame in a parquet format on the Ceph bucket if we are running in automation, and locally if not."
   ]
  },
  {
   "cell_type": "code",
   "execution_count": 83,
   "id": "ecd03940-1b27-4472-ae97-469a4ad8a25a",
   "metadata": {
    "execution": {
     "iopub.execute_input": "2022-11-02T16:16:38.725179Z",
     "iopub.status.busy": "2022-11-02T16:16:38.724585Z",
     "iopub.status.idle": "2022-11-02T16:16:38.729323Z",
     "shell.execute_reply": "2022-11-02T16:16:38.728737Z"
    }
   },
   "outputs": [],
   "source": [
    "TTM_DATASET_PATH = os.path.join(s3_input_data_path, ORG, REPO)"
   ]
  },
  {
   "cell_type": "code",
   "execution_count": 84,
   "id": "adfdfb1b",
   "metadata": {
    "execution": {
     "iopub.execute_input": "2022-11-02T16:16:38.732600Z",
     "iopub.status.busy": "2022-11-02T16:16:38.732072Z",
     "iopub.status.idle": "2022-11-02T16:16:39.019765Z",
     "shell.execute_reply": "2022-11-02T16:16:39.019025Z"
    }
   },
   "outputs": [],
   "source": [
    "## Sanity check to see if the dataset is the same\n",
    "\n",
    "if REMOTE:\n",
    "    cc = CephCommunication(s3_endpoint_url, s3_access_key, s3_secret_key, s3_bucket)\n",
    "    try:\n",
    "        cc.upload_to_ceph(\n",
    "            ttm_dataset,\n",
    "            TTM_DATASET_PATH,\n",
    "            \"ttm_feature_engineered_dataset.parquet\",\n",
    "        )\n",
    "    except ValueError as ve:\n",
    "        print(ve)\n",
    "        print(\"Files already uploaded to S3\")\n",
    "\n",
    "else:\n",
    "    save_to_disk(\n",
    "        ttm_dataset,\n",
    "        local_output_data_path,\n",
    "        \"ttm_dataset.parquet\",\n",
    "    )"
   ]
  },
  {
   "cell_type": "markdown",
   "id": "2cbcdde4-d2f2-418c-9143-c32e48faf29d",
   "metadata": {},
   "source": [
    "### Check contents of the S3 bucket so far"
   ]
  },
  {
   "cell_type": "code",
   "execution_count": 85,
   "id": "c6006c47-ea07-45a3-95e7-48e13910d4af",
   "metadata": {
    "execution": {
     "iopub.execute_input": "2022-11-02T16:16:39.023956Z",
     "iopub.status.busy": "2022-11-02T16:16:39.023244Z",
     "iopub.status.idle": "2022-11-02T16:16:50.003974Z",
     "shell.execute_reply": "2022-11-02T16:16:50.003271Z"
    }
   },
   "outputs": [
    {
     "data": {
      "text/plain": [
       "[s3.ObjectSummary(bucket_name='opf-datacatalog', key='nov/operate-first/community/features/operate-firstcommunityFILETYPE.parquet'),\n",
       " s3.ObjectSummary(bucket_name='opf-datacatalog', key='nov/operate-first/community/features/operate-firstcommunitytitlewords.parquet'),\n",
       " s3.ObjectSummary(bucket_name='opf-datacatalog', key='nov/operate-first/community/test-data/X_test.parquet'),\n",
       " s3.ObjectSummary(bucket_name='opf-datacatalog', key='nov/operate-first/community/test-data/y_test.parquet'),\n",
       " s3.ObjectSummary(bucket_name='opf-datacatalog', key='nov/operate-first/community/ttm-model/model.joblib'),\n",
       " s3.ObjectSummary(bucket_name='opf-datacatalog', key='nov/operate-first/community/ttm_feature_engineered_dataset.parquet'),\n",
       " s3.ObjectSummary(bucket_name='opf-datacatalog', key='nov/operate-first/operations/features/operate-firstoperationsFILETYPE.parquet'),\n",
       " s3.ObjectSummary(bucket_name='opf-datacatalog', key='nov/operate-first/operations/features/operate-firstoperationstitlewords.parquet'),\n",
       " s3.ObjectSummary(bucket_name='opf-datacatalog', key='nov/operate-first/operations/ttm_feature_engineered_dataset.parquet'),\n",
       " s3.ObjectSummary(bucket_name='opf-datacatalog', key='nov/srcopsmetrics/bot_knowledge/operate-first/community/PullRequest.json'),\n",
       " s3.ObjectSummary(bucket_name='opf-datacatalog', key='nov/srcopsmetrics/bot_knowledge/operate-first/operations/PullRequest.json')]"
      ]
     },
     "execution_count": 85,
     "metadata": {},
     "output_type": "execute_result"
    }
   ],
   "source": [
    "# check all raw data files in s3\n",
    "bucket = cc.s3_resource.Bucket(s3_bucket)\n",
    "objects = [i for i in bucket.objects.all() if s3_input_data_path + \"/\" in i.key]\n",
    "sorted(objects, key=lambda x: x.key)"
   ]
  },
  {
   "cell_type": "markdown",
   "id": "165910c8",
   "metadata": {},
   "source": [
    "# Conclusion\n",
    "\n",
    "This notebook walked through how to access saved raw Pull Requests data from the previous data collection notebook and we engineered some possible features which can be used to predict time to merge of a PR. \n",
    "\n",
    "The features we engineered are as following:\n",
    "\n",
    "- time_to_merge: time taken to merge a PR in seconds, this is feature we will try to predict\n",
    "- changed_files_number: integer indicating the number of files changed, this is an available column\n",
    "- body_size: integer indicating the number of words in the body of the PR, derived from body\n",
    "- size: integer corresponding to a categorical label generated by GitHub which summarizes the size of the changes made to the code base \n",
    "- title_word_counts_vec: vector or list indicating how many times each word appeared in the title\n",
    "- created_at_day: categorical variable indicating the day of month the PR has been created, derived from created_at\n",
    "- created_at_month: categorical variable indicating the month of the year that the PR has been created, derived from created_at\n",
    "- created_at_weekday: categorical variable indicating the day of the week the PR has been created, derived from created_at\n",
    "- created_at_hour: categorical variable indicating the hour of the day the PR has been created, derived from created_at\n",
    "- commits_number: integer indicating the number of commits in the PR\n",
    "- changed_file_type_vec:  vector or list consisting of number of files changed for the top 100 most frequently occurring data types, derived from changed_files\n",
    "\n",
    "\n",
    "# Next Step\n",
    "\n",
    "In the next [notebook](./03_model_training.ipynb), we will train a classifier to predict time to merge of a PR using the features."
   ]
  }
 ],
 "metadata": {
  "kernelspec": {
   "display_name": "Python 3",
   "language": "python",
   "name": "python3"
  },
  "language_info": {
   "codemirror_mode": {
    "name": "ipython",
    "version": 3
   },
   "file_extension": ".py",
   "mimetype": "text/x-python",
   "name": "python",
   "nbconvert_exporter": "python",
   "pygments_lexer": "ipython3",
   "version": "3.8.8"
  }
 },
 "nbformat": 4,
 "nbformat_minor": 5
}
