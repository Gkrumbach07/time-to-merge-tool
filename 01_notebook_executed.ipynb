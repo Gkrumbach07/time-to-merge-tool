{
 "cells": [
  {
   "cell_type": "markdown",
   "id": "57bd5960-f9aa-478e-a53b-340def09056f",
   "metadata": {},
   "source": [
    "# Pull Requests Data Collection\n",
    "\n",
    "In this notebook, we will collect the raw Pull Request data from a github repo of choice, and save it as a json file on an s3 bucket. To do this, we will use the `srcopsmetrics` tool developed by the Thoth team."
   ]
  },
  {
   "cell_type": "code",
   "execution_count": 1,
   "id": "60e22449-72ec-41dc-85a8-70a90a1f577e",
   "metadata": {
    "execution": {
     "iopub.execute_input": "2022-10-13T18:31:19.291384Z",
     "iopub.status.busy": "2022-10-13T18:31:19.290925Z",
     "iopub.status.idle": "2022-10-13T18:31:19.308923Z",
     "shell.execute_reply": "2022-10-13T18:31:19.308218Z"
    }
   },
   "outputs": [
    {
     "data": {
      "text/plain": [
       "True"
      ]
     },
     "execution_count": 1,
     "metadata": {},
     "output_type": "execute_result"
    }
   ],
   "source": [
    "import os\n",
    "\n",
    "from dotenv import find_dotenv, load_dotenv\n",
    "\n",
    "load_dotenv(find_dotenv(), override=True)"
   ]
  },
  {
   "cell_type": "markdown",
   "id": "504217dc-8f0c-47b1-9d10-84937db0c8a3",
   "metadata": {},
   "source": [
    "## Set Environment variables\n",
    "\n",
    "Before you start, make sure to create a .env file at the root of the repository with the required credentials and paths. Refer to workshop section **\"Set your Environment Variables\"** for details on how to set it and this example [file](env_example_workshop) for the structure."
   ]
  },
  {
   "cell_type": "code",
   "execution_count": 2,
   "id": "5f9cfe48-5a28-4338-bd5e-9a1e2844cd6f",
   "metadata": {
    "execution": {
     "iopub.execute_input": "2022-10-13T18:31:19.313571Z",
     "iopub.status.busy": "2022-10-13T18:31:19.313348Z",
     "iopub.status.idle": "2022-10-13T18:31:19.319349Z",
     "shell.execute_reply": "2022-10-13T18:31:19.318660Z"
    }
   },
   "outputs": [
    {
     "name": "stdout",
     "output_type": "stream",
     "text": [
      "/\n",
      "Downloaded file is being stored at oct12/srcopsmetrics/bot_knowledge///PullRequest.json\n"
     ]
    }
   ],
   "source": [
    "# get the org/repo from env vars\n",
    "ORG = os.getenv(\"GITHUB_ORG\")\n",
    "REPO = os.getenv(\"GITHUB_REPO\")\n",
    "CEPH_BUCKET_PREFIX = os.getenv(\"CEPH_BUCKET_PREFIX\")\n",
    "\n",
    "print(f\"{ORG}/{REPO}\")\n",
    "print(\n",
    "    f\"Downloaded file is being stored at {CEPH_BUCKET_PREFIX}/srcopsmetrics/bot_knowledge/{ORG}/{REPO}/PullRequest.json\"\n",
    ")"
   ]
  },
  {
   "cell_type": "code",
   "execution_count": 3,
   "id": "c8794a79-61a1-48b3-9a26-af31086fe622",
   "metadata": {
    "execution": {
     "iopub.execute_input": "2022-10-13T18:31:19.322563Z",
     "iopub.status.busy": "2022-10-13T18:31:19.322026Z",
     "iopub.status.idle": "2022-10-13T18:31:21.793141Z",
     "shell.execute_reply": "2022-10-13T18:31:21.791783Z"
    }
   },
   "outputs": [
    {
     "name": "stdout",
     "output_type": "stream",
     "text": [
      "Traceback (most recent call last):\r\n",
      "  File \"/opt/hostedtoolcache/Python/3.9.14/x64/lib/python3.9/runpy.py\", line 197, in _run_module_as_main\r\n",
      "    return _run_code(code, main_globals, None,\r\n",
      "  File \"/opt/hostedtoolcache/Python/3.9.14/x64/lib/python3.9/runpy.py\", line 87, in _run_code\r\n",
      "    exec(code, run_globals)\r\n",
      "  File \"/opt/hostedtoolcache/Python/3.9.14/x64/lib/python3.9/site-packages/srcopsmetrics/cli.py\", line 217, in <module>\r\n",
      "    cli(auto_envvar_prefix=\"MI\")\r\n",
      "  File \"/opt/hostedtoolcache/Python/3.9.14/x64/lib/python3.9/site-packages/click/core.py\", line 1130, in __call__\r\n",
      "    return self.main(*args, **kwargs)\r\n",
      "  File \"/opt/hostedtoolcache/Python/3.9.14/x64/lib/python3.9/site-packages/click/core.py\", line 1055, in main\r\n",
      "    rv = self.invoke(ctx)\r\n",
      "  File \"/opt/hostedtoolcache/Python/3.9.14/x64/lib/python3.9/site-packages/click/core.py\", line 1404, in invoke\r\n",
      "    return ctx.invoke(self.callback, **ctx.params)\r\n",
      "  File \"/opt/hostedtoolcache/Python/3.9.14/x64/lib/python3.9/site-packages/click/core.py\", line 760, in invoke\r\n",
      "    return __callback(*args, **kwargs)\r\n",
      "  File \"/opt/hostedtoolcache/Python/3.9.14/x64/lib/python3.9/site-packages/srcopsmetrics/cli.py\", line 168, in cli\r\n",
      "    repos.extend(GitHubKnowledge().get_repositories(repository=rep.strip()))\r\n",
      "  File \"/opt/hostedtoolcache/Python/3.9.14/x64/lib/python3.9/site-packages/srcopsmetrics/github_handling.py\", line 92, in _wrapper\r\n",
      "    return original_funcion(*args, **kwargs)\r\n",
      "  File \"/opt/hostedtoolcache/Python/3.9.14/x64/lib/python3.9/site-packages/srcopsmetrics/github_knowledge.py\", line 57, in get_repositories\r\n",
      "    repos.append(gh.get_repo(repository).full_name)\r\n",
      "  File \"/opt/hostedtoolcache/Python/3.9.14/x64/lib/python3.9/site-packages/github/MainClass.py\", line 330, in get_repo\r\n",
      "    headers, data = self.__requester.requestJsonAndCheck(\"GET\", url)\r\n",
      "  File \"/opt/hostedtoolcache/Python/3.9.14/x64/lib/python3.9/site-packages/github/Requester.py\", line 353, in requestJsonAndCheck\r\n",
      "    return self.__check(\r\n",
      "  File \"/opt/hostedtoolcache/Python/3.9.14/x64/lib/python3.9/site-packages/github/Requester.py\", line 378, in __check\r\n",
      "    raise self.__createException(status, responseHeaders, output)\r\n",
      "github.GithubException.UnknownObjectException: 404 {\"message\": \"Not Found\", \"documentation_url\": \"https://docs.github.com/rest\"}\r\n"
     ]
    }
   ],
   "source": [
    "# run collection on the org/repo specified\n",
    "!python -m srcopsmetrics.cli --create-knowledge --repository $ORG/$REPO --entities PullRequest"
   ]
  },
  {
   "cell_type": "markdown",
   "id": "3d8e43a6-ea8c-4b15-9f21-85561c043514",
   "metadata": {},
   "source": [
    "# Conclusion\n",
    "\n",
    "By running this notebook we have collected and stored the github PR data to our s3 bucket. It is now ready for the cleaning and feature engineering steps of the ML workflow.\n",
    "\n",
    "# Next Step\n",
    "\n",
    "In the next [notebook](./02_feature_engineering.ipynb), we will engineer some features from the raw PR data which can be used to train a ML model"
   ]
  }
 ],
 "metadata": {
  "kernelspec": {
   "display_name": "Python 3 (ipykernel)",
   "language": "python",
   "name": "python3"
  },
  "language_info": {
   "codemirror_mode": {
    "name": "ipython",
    "version": 3
   },
   "file_extension": ".py",
   "mimetype": "text/x-python",
   "name": "python",
   "nbconvert_exporter": "python",
   "pygments_lexer": "ipython3",
   "version": "3.9.14"
  }
 },
 "nbformat": 4,
 "nbformat_minor": 5
}
