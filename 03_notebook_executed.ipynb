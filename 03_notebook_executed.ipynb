{
 "cells": [
  {
   "cell_type": "markdown",
   "id": "3c31ddd8-bdcf-473d-95c1-5fed70b7fe51",
   "metadata": {},
   "source": [
    "# Train a model on features engineered from Pull Requests data\n",
    "\n",
    "\n",
    "## What we did previously\n",
    "\n",
    "In the previous [notebook](./02_feature_engineering.ipynb) we explored the various fields in the PR dataset and derived some features from them in order to frame an a Machine Learning where we predict the time taken to merge a PR.\n",
    "\n",
    "## In this step\n",
    "\n",
    "In this notebook, we will first create transformer objects (based on the feature explorations in the previous notebook) to extract features from raw PR data. Then, we will train machine learning models to classify a PR's `time_to_merge` into one of the above 10 bins (or \"classes\")."
   ]
  },
  {
   "cell_type": "code",
   "execution_count": 1,
   "id": "e2bb1e73",
   "metadata": {
    "execution": {
     "iopub.execute_input": "2022-10-07T17:53:33.057508Z",
     "iopub.status.busy": "2022-10-07T17:53:33.056864Z",
     "iopub.status.idle": "2022-10-07T17:53:34.389843Z",
     "shell.execute_reply": "2022-10-07T17:53:34.388572Z"
    }
   },
   "outputs": [],
   "source": [
    "import os\n",
    "import gzip\n",
    "import json\n",
    "import boto3\n",
    "import tempfile\n",
    "\n",
    "import joblib\n",
    "import warnings\n",
    "from io import BytesIO\n",
    "from copy import deepcopy\n",
    "\n",
    "import numpy as np\n",
    "import pandas as pd\n",
    "\n",
    "import seaborn as sns\n",
    "import matplotlib.pyplot as plt\n",
    "\n",
    "from sklearn.compose import ColumnTransformer\n",
    "from sklearn.preprocessing import PowerTransformer, OrdinalEncoder\n",
    "\n",
    "from sklearn.feature_selection import RFE\n",
    "from sklearn.model_selection import train_test_split\n",
    "\n",
    "from sklearn.svm import SVC\n",
    "from xgboost import XGBClassifier\n",
    "from sklearn.naive_bayes import GaussianNB\n",
    "from sklearn.ensemble import RandomForestClassifier\n",
    "\n",
    "from sklearn.pipeline import Pipeline\n",
    "\n",
    "from sklearn.metrics import confusion_matrix\n",
    "from sklearn.metrics import classification_report\n",
    "\n",
    "from dotenv import load_dotenv, find_dotenv\n",
    "\n",
    "from src.features.build_features import (\n",
    "    DateTimeDetailsTransformer,\n",
    "    NumChangedFilesTransformer,\n",
    "    StringLenTransformer,\n",
    "    FileTypeCountTransformer,\n",
    "    TitleWordCountTransformer,\n",
    ")"
   ]
  },
  {
   "cell_type": "code",
   "execution_count": 2,
   "id": "18b3cf3a-f968-48ed-899c-a5f5111e3eca",
   "metadata": {
    "execution": {
     "iopub.execute_input": "2022-10-07T17:53:34.395703Z",
     "iopub.status.busy": "2022-10-07T17:53:34.395256Z",
     "iopub.status.idle": "2022-10-07T17:53:34.403780Z",
     "shell.execute_reply": "2022-10-07T17:53:34.402919Z"
    }
   },
   "outputs": [],
   "source": [
    "class CephCommunication:\n",
    "    \"\"\"\n",
    "    Class to establish communication with a ceph s3 bucket.\n",
    "    It connects with the bucket and provides methods to read and write data in the parquet format.\n",
    "    \"\"\"\n",
    "\n",
    "    def __init__(\n",
    "        self, s3_endpoint_url, aws_access_key_id, aws_secret_access_key, s3_bucket\n",
    "    ):\n",
    "        self.s3_endpoint_url = s3_endpoint_url\n",
    "        self.aws_access_key_id = aws_access_key_id\n",
    "        self.aws_secret_access_key = aws_secret_access_key\n",
    "        self.s3_resource = boto3.resource(\n",
    "            \"s3\",\n",
    "            endpoint_url=self.s3_endpoint_url,\n",
    "            aws_access_key_id=self.aws_access_key_id,\n",
    "            aws_secret_access_key=self.aws_secret_access_key,\n",
    "        )\n",
    "        self.bucket = s3_bucket\n",
    "        ## Todo: Add try catch\n",
    "\n",
    "    def upload_to_ceph(self, dataframe, s3_path, filename):\n",
    "        \"\"\"\n",
    "        This helper function takes as input the data frame to be uploaded, and the output filename.\n",
    "        It then saves the data frame in the defined ceph bucket.\n",
    "        \"\"\"\n",
    "        parquet_buffer = BytesIO()\n",
    "        dataframe.to_parquet(parquet_buffer)\n",
    "        s3_obj = self.s3_resource.Object(self.bucket, f\"{s3_path}/{filename}\")\n",
    "        status = s3_obj.put(Body=parquet_buffer.getvalue())\n",
    "        return status\n",
    "\n",
    "    def read_from_ceph(self, s3_path, filename):\n",
    "        \"\"\"\n",
    "        Helper function to read from ceph and see if the saved data is correct.\n",
    "        \"\"\"\n",
    "        buffer = BytesIO()\n",
    "        s3_object = self.s3_resource.Object(self.bucket, f\"{s3_path}/{filename}\")\n",
    "        s3_object.download_fileobj(buffer)\n",
    "        df_temp = pd.read_parquet(buffer)\n",
    "        return df_temp"
   ]
  },
  {
   "cell_type": "code",
   "execution_count": 3,
   "id": "7ce61c3c",
   "metadata": {
    "execution": {
     "iopub.execute_input": "2022-10-07T17:53:34.408246Z",
     "iopub.status.busy": "2022-10-07T17:53:34.407964Z",
     "iopub.status.idle": "2022-10-07T17:53:34.415230Z",
     "shell.execute_reply": "2022-10-07T17:53:34.414426Z"
    }
   },
   "outputs": [
    {
     "data": {
      "text/plain": [
       "True"
      ]
     },
     "execution_count": 3,
     "metadata": {},
     "output_type": "execute_result"
    }
   ],
   "source": [
    "warnings.filterwarnings(\"ignore\")\n",
    "load_dotenv(find_dotenv(), override=True)"
   ]
  },
  {
   "cell_type": "markdown",
   "id": "3c4e04bb-a8fc-4bc9-a91d-ffe389212f0e",
   "metadata": {},
   "source": [
    "## Get Raw Data"
   ]
  },
  {
   "cell_type": "code",
   "execution_count": 4,
   "id": "f6d138f3",
   "metadata": {
    "execution": {
     "iopub.execute_input": "2022-10-07T17:53:34.421265Z",
     "iopub.status.busy": "2022-10-07T17:53:34.420989Z",
     "iopub.status.idle": "2022-10-07T17:53:34.426675Z",
     "shell.execute_reply": "2022-10-07T17:53:34.425857Z"
    }
   },
   "outputs": [],
   "source": [
    "## CEPH Bucket variables\n",
    "## Create a .env file on your local with the correct configs,\n",
    "\n",
    "ORG = os.getenv(\"GITHUB_ORG\")\n",
    "REPO = os.getenv(\"GITHUB_REPO\")\n",
    "\n",
    "## S3 bucket credentials\n",
    "s3_endpoint_url = os.getenv(\"S3_ENDPOINT_URL\")\n",
    "s3_access_key = os.getenv(\"S3_ACCESS_KEY\")\n",
    "s3_secret_key = os.getenv(\"S3_SECRET_KEY\")\n",
    "s3_bucket = os.getenv(\"S3_BUCKET\")\n",
    "\n",
    "REMOTE = os.getenv(\"REMOTE\")\n",
    "\n",
    "s3_input_data_path = os.getenv(\"CEPH_BUCKET_PREFIX\")\n",
    "local_input_data_path = \"../../../data/raw/GitHub/PullRequest.json.gz\"\n",
    "local_output_data_path = \"../../../data/processed/github\"\n",
    "RAW_DATA_PATH = os.path.join(\n",
    "    s3_input_data_path, \"srcopsmetrics/bot_knowledge\", ORG, REPO, \"PullRequest.json\"\n",
    ")\n",
    "\n",
    "CHOSEN_MODEL = os.getenv(\"CHOSEN_MODEL\")"
   ]
  },
  {
   "cell_type": "code",
   "execution_count": 5,
   "id": "f7ddbfc0-53a7-4d76-a64e-975c89fa1e59",
   "metadata": {
    "execution": {
     "iopub.execute_input": "2022-10-07T17:53:34.430686Z",
     "iopub.status.busy": "2022-10-07T17:53:34.430415Z",
     "iopub.status.idle": "2022-10-07T17:53:35.130036Z",
     "shell.execute_reply": "2022-10-07T17:53:35.128788Z"
    }
   },
   "outputs": [
    {
     "name": "stdout",
     "output_type": "stream",
     "text": [
      "getting dataset from ceph\n"
     ]
    }
   ],
   "source": [
    "output = []\n",
    "if REMOTE:\n",
    "    print(\"getting dataset from ceph\")\n",
    "    s3 = boto3.resource(\n",
    "        \"s3\",\n",
    "        endpoint_url=s3_endpoint_url,\n",
    "        aws_access_key_id=s3_access_key,\n",
    "        aws_secret_access_key=s3_secret_key,\n",
    "    )\n",
    "    content = s3.Object(s3_bucket, RAW_DATA_PATH)\n",
    "    file = content.get()[\"Body\"].read().decode(\"utf-8\")\n",
    "\n",
    "    prs = json.loads(file)\n",
    "\n",
    "    for pr in prs.splitlines():\n",
    "        output.append(json.loads(pr))\n",
    "\n",
    "else:\n",
    "    print(\"getting dataset from local\")\n",
    "    with gzip.open(local_input_data_path, \"r\") as f:\n",
    "        prs = json.loads(f.read().decode(\"utf-8\"))\n",
    "\n",
    "\n",
    "pr_df = pd.DataFrame(output)"
   ]
  },
  {
   "cell_type": "markdown",
   "id": "0eb8188c-d835-4913-a77b-1524fa04eeef",
   "metadata": {},
   "source": [
    "## Extract Labels from Raw Data"
   ]
  },
  {
   "cell_type": "code",
   "execution_count": 6,
   "id": "8bf8212d-82bd-4600-a615-1e150272146f",
   "metadata": {
    "execution": {
     "iopub.execute_input": "2022-10-07T17:53:35.135075Z",
     "iopub.status.busy": "2022-10-07T17:53:35.134293Z",
     "iopub.status.idle": "2022-10-07T17:53:35.145411Z",
     "shell.execute_reply": "2022-10-07T17:53:35.144652Z"
    }
   },
   "outputs": [
    {
     "data": {
      "text/plain": [
       "2          11.0\n",
       "3          20.0\n",
       "4          15.0\n",
       "5       82496.0\n",
       "8       55333.0\n",
       "        ...    \n",
       "87     359974.0\n",
       "88      52870.0\n",
       "89      86385.0\n",
       "90    4028019.0\n",
       "91      16676.0\n",
       "Length: 76, dtype: float64"
      ]
     },
     "execution_count": 6,
     "metadata": {},
     "output_type": "execute_result"
    }
   ],
   "source": [
    "y = (pr_df[\"merged_at\"] - pr_df[\"created_at\"]).astype(\"float\")\n",
    "y = y.dropna()\n",
    "y"
   ]
  },
  {
   "cell_type": "code",
   "execution_count": 7,
   "id": "5ddc1177-ac15-494a-8c49-0d49e3e5d7e8",
   "metadata": {
    "execution": {
     "iopub.execute_input": "2022-10-07T17:53:35.149580Z",
     "iopub.status.busy": "2022-10-07T17:53:35.148877Z",
     "iopub.status.idle": "2022-10-07T17:53:35.157428Z",
     "shell.execute_reply": "2022-10-07T17:53:35.156546Z"
    }
   },
   "outputs": [
    {
     "data": {
      "text/plain": [
       "0.0         11.0\n",
       "0.1         44.5\n",
       "0.2        219.0\n",
       "0.3       3659.5\n",
       "0.4      40410.0\n",
       "0.5      59925.0\n",
       "0.6      91411.0\n",
       "0.7     445220.0\n",
       "0.8    1033501.0\n",
       "0.9    2013946.0\n",
       "dtype: float64"
      ]
     },
     "execution_count": 7,
     "metadata": {},
     "output_type": "execute_result"
    }
   ],
   "source": [
    "n_buckets = 10\n",
    "\n",
    "quantiles = y.quantile(q=np.arange(0, 1 + 1e-100, 1 / n_buckets))\n",
    "quantiles"
   ]
  },
  {
   "cell_type": "code",
   "execution_count": 8,
   "id": "97a47fdd-f513-4428-a4a1-6affe1899eae",
   "metadata": {
    "execution": {
     "iopub.execute_input": "2022-10-07T17:53:35.161474Z",
     "iopub.status.busy": "2022-10-07T17:53:35.160955Z",
     "iopub.status.idle": "2022-10-07T17:53:35.169221Z",
     "shell.execute_reply": "2022-10-07T17:53:35.168465Z"
    }
   },
   "outputs": [
    {
     "data": {
      "text/plain": [
       "2     0\n",
       "3     0\n",
       "4     0\n",
       "5     5\n",
       "8     4\n",
       "     ..\n",
       "87    6\n",
       "88    4\n",
       "89    5\n",
       "90    9\n",
       "91    3\n",
       "Length: 76, dtype: int64"
      ]
     },
     "execution_count": 8,
     "metadata": {},
     "output_type": "execute_result"
    }
   ],
   "source": [
    "def get_ttm_class(ttm):\n",
    "\n",
    "    for rownum, (indx, val) in enumerate(quantiles.iteritems()):\n",
    "        if ttm < val:\n",
    "            return rownum - 1\n",
    "    return 9\n",
    "\n",
    "\n",
    "y = y.apply(get_ttm_class)\n",
    "y"
   ]
  },
  {
   "cell_type": "markdown",
   "id": "4e9efc4d-f5ee-4a18-aef6-df840395a55a",
   "metadata": {},
   "source": [
    "## Extract Features from Raw Data\n",
    "\n",
    "In this section, we will create transformer objects to process raw data as per the feature extraction methods that were found to be the most effective in the previous EDA notebook.\n",
    "\n",
    "To ensure that joblib serializes the custom transformer objects correctly, we will write their definitions in [`src/features/build_features.py`](../../src/features/build_features.py) instead of this notebook, and import them from the `src` package. This way, the `src` package can be listed as a dependency wherever these objects need to be deserialized (for example, Seldon server for model deployment)."
   ]
  },
  {
   "cell_type": "markdown",
   "id": "28bdc89e-0a62-41b8-8b70-caf958bb6a2d",
   "metadata": {},
   "source": [
    "#### size"
   ]
  },
  {
   "cell_type": "code",
   "execution_count": 9,
   "id": "f769e3cb-e140-4855-8161-0c72bf6403a8",
   "metadata": {
    "execution": {
     "iopub.execute_input": "2022-10-07T17:53:35.174731Z",
     "iopub.status.busy": "2022-10-07T17:53:35.174006Z",
     "iopub.status.idle": "2022-10-07T17:53:35.178041Z",
     "shell.execute_reply": "2022-10-07T17:53:35.177230Z"
    }
   },
   "outputs": [],
   "source": [
    "# map values to 0,1,2,3,4,5\n",
    "pr_size_encoder = OrdinalEncoder(categories=[[\"XS\", \"S\", \"M\", \"L\", \"XL\", \"XXL\"]])"
   ]
  },
  {
   "cell_type": "markdown",
   "id": "f893270d-0525-4bff-900c-7e630f1197c0",
   "metadata": {},
   "source": [
    "#### created_at"
   ]
  },
  {
   "cell_type": "code",
   "execution_count": 10,
   "id": "7d2ab3c3-caed-4971-ba1d-4c484088a057",
   "metadata": {
    "execution": {
     "iopub.execute_input": "2022-10-07T17:53:35.182005Z",
     "iopub.status.busy": "2022-10-07T17:53:35.181379Z",
     "iopub.status.idle": "2022-10-07T17:53:35.185004Z",
     "shell.execute_reply": "2022-10-07T17:53:35.184218Z"
    }
   },
   "outputs": [],
   "source": [
    "# get day, month, date, etc. from a unix timestamp\n",
    "dt_details_transf = DateTimeDetailsTransformer()"
   ]
  },
  {
   "cell_type": "markdown",
   "id": "3b637c29-df8f-43cf-ba10-7be54e0fc018",
   "metadata": {},
   "source": [
    "#### changed_files_number"
   ]
  },
  {
   "cell_type": "code",
   "execution_count": 11,
   "id": "2ad7979f-afd8-40b2-8c03-929129908953",
   "metadata": {
    "execution": {
     "iopub.execute_input": "2022-10-07T17:53:35.188895Z",
     "iopub.status.busy": "2022-10-07T17:53:35.188470Z",
     "iopub.status.idle": "2022-10-07T17:53:35.192025Z",
     "shell.execute_reply": "2022-10-07T17:53:35.191265Z"
    }
   },
   "outputs": [],
   "source": [
    "# number of files changed in PR\n",
    "n_changed_files_transf = NumChangedFilesTransformer()"
   ]
  },
  {
   "cell_type": "markdown",
   "id": "dc2fc0cf-ab56-4b53-a190-7b5770bfebbd",
   "metadata": {},
   "source": [
    "#### body_size"
   ]
  },
  {
   "cell_type": "code",
   "execution_count": 12,
   "id": "b74d3d4d-ba0c-43c3-8506-23ed49c6dce8",
   "metadata": {
    "execution": {
     "iopub.execute_input": "2022-10-07T17:53:35.195982Z",
     "iopub.status.busy": "2022-10-07T17:53:35.195569Z",
     "iopub.status.idle": "2022-10-07T17:53:35.199300Z",
     "shell.execute_reply": "2022-10-07T17:53:35.198505Z"
    }
   },
   "outputs": [],
   "source": [
    "# number of characters in PR description\n",
    "body_size_transf = StringLenTransformer(\"body\")"
   ]
  },
  {
   "cell_type": "markdown",
   "id": "5840645a-56dc-4658-b91a-782739e8de09",
   "metadata": {},
   "source": [
    "#### filetype_\\<type>"
   ]
  },
  {
   "cell_type": "code",
   "execution_count": 13,
   "id": "71d6e5c3-eaf3-4cfe-9fe6-ef3f9b9edcfe",
   "metadata": {
    "execution": {
     "iopub.execute_input": "2022-10-07T17:53:35.203295Z",
     "iopub.status.busy": "2022-10-07T17:53:35.202877Z",
     "iopub.status.idle": "2022-10-07T17:53:35.688739Z",
     "shell.execute_reply": "2022-10-07T17:53:35.687501Z"
    }
   },
   "outputs": [],
   "source": [
    "# how many files of the given extension were changed in PR\n",
    "FILETYPE_FEATURES_FILENAME = os.path.join(ORG + REPO + \"FILETYPE.parquet\")\n",
    "FILETYPE_FEATURES_KEY = os.path.join(s3_input_data_path, ORG, REPO, \"features\")\n",
    "cc = CephCommunication(s3_endpoint_url, s3_access_key, s3_secret_key, s3_bucket)\n",
    "filetype_df = cc.read_from_ceph(FILETYPE_FEATURES_KEY, FILETYPE_FEATURES_FILENAME)"
   ]
  },
  {
   "cell_type": "code",
   "execution_count": 14,
   "id": "977a1fba-c867-4feb-848d-5456d168e940",
   "metadata": {
    "execution": {
     "iopub.execute_input": "2022-10-07T17:53:35.694271Z",
     "iopub.status.busy": "2022-10-07T17:53:35.693619Z",
     "iopub.status.idle": "2022-10-07T17:53:35.703756Z",
     "shell.execute_reply": "2022-10-07T17:53:35.703003Z"
    }
   },
   "outputs": [
    {
     "data": {
      "text/html": [
       "<div>\n",
       "<style scoped>\n",
       "    .dataframe tbody tr th:only-of-type {\n",
       "        vertical-align: middle;\n",
       "    }\n",
       "\n",
       "    .dataframe tbody tr th {\n",
       "        vertical-align: top;\n",
       "    }\n",
       "\n",
       "    .dataframe thead th {\n",
       "        text-align: right;\n",
       "    }\n",
       "</style>\n",
       "<table border=\"1\" class=\"dataframe\">\n",
       "  <thead>\n",
       "    <tr style=\"text-align: right;\">\n",
       "      <th></th>\n",
       "      <th>filetype</th>\n",
       "    </tr>\n",
       "  </thead>\n",
       "  <tbody>\n",
       "    <tr>\n",
       "      <th>0</th>\n",
       "      <td>.md</td>\n",
       "    </tr>\n",
       "    <tr>\n",
       "      <th>1</th>\n",
       "      <td>.yaml</td>\n",
       "    </tr>\n",
       "    <tr>\n",
       "      <th>2</th>\n",
       "      <td>.tmpl</td>\n",
       "    </tr>\n",
       "    <tr>\n",
       "      <th>3</th>\n",
       "      <td>OWNERS</td>\n",
       "    </tr>\n",
       "    <tr>\n",
       "      <th>4</th>\n",
       "      <td>OWNERS_ALIASES</td>\n",
       "    </tr>\n",
       "    <tr>\n",
       "      <th>5</th>\n",
       "      <td>.yml</td>\n",
       "    </tr>\n",
       "    <tr>\n",
       "      <th>6</th>\n",
       "      <td>.ipynb</td>\n",
       "    </tr>\n",
       "    <tr>\n",
       "      <th>7</th>\n",
       "      <td>.png</td>\n",
       "    </tr>\n",
       "    <tr>\n",
       "      <th>8</th>\n",
       "      <td>.txt</td>\n",
       "    </tr>\n",
       "    <tr>\n",
       "      <th>9</th>\n",
       "      <td>.json</td>\n",
       "    </tr>\n",
       "  </tbody>\n",
       "</table>\n",
       "</div>"
      ],
      "text/plain": [
       "         filetype\n",
       "0             .md\n",
       "1           .yaml\n",
       "2           .tmpl\n",
       "3          OWNERS\n",
       "4  OWNERS_ALIASES\n",
       "5            .yml\n",
       "6          .ipynb\n",
       "7            .png\n",
       "8            .txt\n",
       "9           .json"
      ]
     },
     "execution_count": 14,
     "metadata": {},
     "output_type": "execute_result"
    }
   ],
   "source": [
    "filetype_df"
   ]
  },
  {
   "cell_type": "code",
   "execution_count": 15,
   "id": "c987e49d-d5ab-48ec-b369-6bc5c883d976",
   "metadata": {
    "execution": {
     "iopub.execute_input": "2022-10-07T17:53:35.707533Z",
     "iopub.status.busy": "2022-10-07T17:53:35.707130Z",
     "iopub.status.idle": "2022-10-07T17:53:35.711877Z",
     "shell.execute_reply": "2022-10-07T17:53:35.711112Z"
    }
   },
   "outputs": [],
   "source": [
    "FILE_EXTENSIONS_TO_COUNT = list(filetype_df[\"filetype\"])\n",
    "\n",
    "ftype_count_transf = FileTypeCountTransformer(file_extensions=FILE_EXTENSIONS_TO_COUNT)"
   ]
  },
  {
   "cell_type": "markdown",
   "id": "8797c05d-bc9a-497e-bbca-d9ed6b444f44",
   "metadata": {},
   "source": [
    "#### title_wordcount_\\<word>"
   ]
  },
  {
   "cell_type": "code",
   "execution_count": 16,
   "id": "952d3564-c7a9-4707-9117-b4ccfaf0065c",
   "metadata": {
    "execution": {
     "iopub.execute_input": "2022-10-07T17:53:35.715995Z",
     "iopub.status.busy": "2022-10-07T17:53:35.715475Z",
     "iopub.status.idle": "2022-10-07T17:53:36.058666Z",
     "shell.execute_reply": "2022-10-07T17:53:36.057737Z"
    }
   },
   "outputs": [],
   "source": [
    "TITLE_FEATURES_FILENAME = os.path.join(ORG + REPO + \"titlewords.parquet\")\n",
    "TITLE_FEATURES_KEY = os.path.join(s3_input_data_path, ORG, REPO, \"features\")\n",
    "cc = CephCommunication(s3_endpoint_url, s3_access_key, s3_secret_key, s3_bucket)\n",
    "title_word_keep_cols_df = cc.read_from_ceph(TITLE_FEATURES_KEY, TITLE_FEATURES_FILENAME)"
   ]
  },
  {
   "cell_type": "code",
   "execution_count": 17,
   "id": "0534487e-f064-49ef-a0a2-15f6022dfcab",
   "metadata": {
    "execution": {
     "iopub.execute_input": "2022-10-07T17:53:36.063431Z",
     "iopub.status.busy": "2022-10-07T17:53:36.062806Z",
     "iopub.status.idle": "2022-10-07T17:53:36.072784Z",
     "shell.execute_reply": "2022-10-07T17:53:36.072118Z"
    }
   },
   "outputs": [
    {
     "data": {
      "text/html": [
       "<div>\n",
       "<style scoped>\n",
       "    .dataframe tbody tr th:only-of-type {\n",
       "        vertical-align: middle;\n",
       "    }\n",
       "\n",
       "    .dataframe tbody tr th {\n",
       "        vertical-align: top;\n",
       "    }\n",
       "\n",
       "    .dataframe thead th {\n",
       "        text-align: right;\n",
       "    }\n",
       "</style>\n",
       "<table border=\"1\" class=\"dataframe\">\n",
       "  <thead>\n",
       "    <tr style=\"text-align: right;\">\n",
       "      <th></th>\n",
       "      <th>title</th>\n",
       "    </tr>\n",
       "  </thead>\n",
       "  <tbody>\n",
       "    <tr>\n",
       "      <th>0</th>\n",
       "      <td>19_meeting</td>\n",
       "    </tr>\n",
       "    <tr>\n",
       "      <th>1</th>\n",
       "      <td>26_meeting</td>\n",
       "    </tr>\n",
       "    <tr>\n",
       "      <th>2</th>\n",
       "      <td>@margarethaley</td>\n",
       "    </tr>\n",
       "    <tr>\n",
       "      <th>3</th>\n",
       "      <td>action</td>\n",
       "    </tr>\n",
       "    <tr>\n",
       "      <th>4</th>\n",
       "      <td>actions</td>\n",
       "    </tr>\n",
       "    <tr>\n",
       "      <th>...</th>\n",
       "      <td>...</td>\n",
       "    </tr>\n",
       "    <tr>\n",
       "      <th>170</th>\n",
       "      <td>week</td>\n",
       "    </tr>\n",
       "    <tr>\n",
       "      <th>171</th>\n",
       "      <td>weekly</td>\n",
       "    </tr>\n",
       "    <tr>\n",
       "      <th>172</th>\n",
       "      <td>word</td>\n",
       "    </tr>\n",
       "    <tr>\n",
       "      <th>173</th>\n",
       "      <td>wording</td>\n",
       "    </tr>\n",
       "    <tr>\n",
       "      <th>174</th>\n",
       "      <td>workload</td>\n",
       "    </tr>\n",
       "  </tbody>\n",
       "</table>\n",
       "<p>175 rows × 1 columns</p>\n",
       "</div>"
      ],
      "text/plain": [
       "              title\n",
       "0        19_meeting\n",
       "1        26_meeting\n",
       "2    @margarethaley\n",
       "3            action\n",
       "4           actions\n",
       "..              ...\n",
       "170            week\n",
       "171          weekly\n",
       "172            word\n",
       "173         wording\n",
       "174        workload\n",
       "\n",
       "[175 rows x 1 columns]"
      ]
     },
     "execution_count": 17,
     "metadata": {},
     "output_type": "execute_result"
    }
   ],
   "source": [
    "title_word_keep_cols_df"
   ]
  },
  {
   "cell_type": "code",
   "execution_count": 18,
   "id": "1be7c50c-dc47-483f-b695-a9c02d6cb51b",
   "metadata": {
    "execution": {
     "iopub.execute_input": "2022-10-07T17:53:36.077082Z",
     "iopub.status.busy": "2022-10-07T17:53:36.076496Z",
     "iopub.status.idle": "2022-10-07T17:53:36.081424Z",
     "shell.execute_reply": "2022-10-07T17:53:36.080579Z"
    }
   },
   "outputs": [],
   "source": [
    "# how many times these words appeared in PR title\n",
    "WORDS_TO_COUNT = list(title_word_keep_cols_df[\"title\"])\n",
    "\n",
    "title_wc_transf = TitleWordCountTransformer(words=WORDS_TO_COUNT)"
   ]
  },
  {
   "cell_type": "markdown",
   "id": "11932e2c-ffb2-4a98-9bb9-63a8a4984403",
   "metadata": {},
   "source": [
    "## Apply Transforms"
   ]
  },
  {
   "cell_type": "code",
   "execution_count": 19,
   "id": "c4ee7eb8-62d6-452f-b548-1a884e63ce4c",
   "metadata": {
    "execution": {
     "iopub.execute_input": "2022-10-07T17:53:36.086132Z",
     "iopub.status.busy": "2022-10-07T17:53:36.085747Z",
     "iopub.status.idle": "2022-10-07T17:53:36.091121Z",
     "shell.execute_reply": "2022-10-07T17:53:36.090434Z"
    }
   },
   "outputs": [],
   "source": [
    "# transformer objects compiled into one columntransformer\n",
    "raw_data_processor = ColumnTransformer(\n",
    "    [\n",
    "        (\"pr_size\", pr_size_encoder, [\"size\"]),  # 1 cols generated\n",
    "        (\"created_at_details\", dt_details_transf, [\"created_at\"]),  # 4 cols generated\n",
    "        (\n",
    "            \"n_changed_files\",\n",
    "            n_changed_files_transf,\n",
    "            [\"changed_files_number\"],\n",
    "        ),  # 1 cols generated\n",
    "        (\"body_size\", body_size_transf, [\"body\"]),  # 1 cols generated\n",
    "        (\"n_commits\", \"passthrough\", [\"commits_number\"]),  # 1 cols generated\n",
    "        (\n",
    "            \"filetype_counter\",\n",
    "            ftype_count_transf,\n",
    "            [\"changed_files\"],\n",
    "        ),\n",
    "        (\"title_word_counter\", title_wc_transf, [\"title\"]),\n",
    "    ],\n",
    "    remainder=\"drop\",\n",
    ")"
   ]
  },
  {
   "cell_type": "code",
   "execution_count": 20,
   "id": "7fa84a70-dab6-4a48-90fc-844c29d38263",
   "metadata": {
    "execution": {
     "iopub.execute_input": "2022-10-07T17:53:36.098730Z",
     "iopub.status.busy": "2022-10-07T17:53:36.097954Z",
     "iopub.status.idle": "2022-10-07T17:53:36.103938Z",
     "shell.execute_reply": "2022-10-07T17:53:36.103143Z"
    }
   },
   "outputs": [],
   "source": [
    "# column names. this is needed because sklearn forcefully converts df to ndarray,\n",
    "# thus losing column information. this is a hack to retain that info. look for alternatives\n",
    "cols = (\n",
    "    [\n",
    "        \"size\",\n",
    "        \"created_at_day\",\n",
    "        \"created_at_month\",\n",
    "        \"created_at_weekday\",\n",
    "        \"created_at_hour\",\n",
    "    ]\n",
    "    + [\n",
    "        \"changed_files_number\",\n",
    "        \"body_size\",\n",
    "        \"commits_number\",\n",
    "    ]\n",
    "    + [f\"filetype_{f}\" for f in FILE_EXTENSIONS_TO_COUNT]\n",
    "    + [f\"title_wordcount_{w}\" for w in WORDS_TO_COUNT]\n",
    ")"
   ]
  },
  {
   "cell_type": "code",
   "execution_count": 21,
   "id": "6e757941-3017-4b3b-a8d3-af19a056d9e4",
   "metadata": {
    "execution": {
     "iopub.execute_input": "2022-10-07T17:53:36.108076Z",
     "iopub.status.busy": "2022-10-07T17:53:36.107414Z",
     "iopub.status.idle": "2022-10-07T17:53:37.169940Z",
     "shell.execute_reply": "2022-10-07T17:53:37.168778Z"
    },
    "tags": []
   },
   "outputs": [
    {
     "data": {
      "text/html": [
       "<div>\n",
       "<style scoped>\n",
       "    .dataframe tbody tr th:only-of-type {\n",
       "        vertical-align: middle;\n",
       "    }\n",
       "\n",
       "    .dataframe tbody tr th {\n",
       "        vertical-align: top;\n",
       "    }\n",
       "\n",
       "    .dataframe thead th {\n",
       "        text-align: right;\n",
       "    }\n",
       "</style>\n",
       "<table border=\"1\" class=\"dataframe\">\n",
       "  <thead>\n",
       "    <tr style=\"text-align: right;\">\n",
       "      <th></th>\n",
       "      <th>size</th>\n",
       "      <th>created_at_day</th>\n",
       "      <th>created_at_month</th>\n",
       "      <th>created_at_weekday</th>\n",
       "      <th>created_at_hour</th>\n",
       "      <th>changed_files_number</th>\n",
       "      <th>body_size</th>\n",
       "      <th>commits_number</th>\n",
       "      <th>filetype_.md</th>\n",
       "      <th>filetype_.yaml</th>\n",
       "      <th>...</th>\n",
       "      <th>title_wordcount_use</th>\n",
       "      <th>title_wordcount_var</th>\n",
       "      <th>title_wordcount_via</th>\n",
       "      <th>title_wordcount_watercooler</th>\n",
       "      <th>title_wordcount_website</th>\n",
       "      <th>title_wordcount_week</th>\n",
       "      <th>title_wordcount_weekly</th>\n",
       "      <th>title_wordcount_word</th>\n",
       "      <th>title_wordcount_wording</th>\n",
       "      <th>title_wordcount_workload</th>\n",
       "    </tr>\n",
       "  </thead>\n",
       "  <tbody>\n",
       "    <tr>\n",
       "      <th>0</th>\n",
       "      <td>0.0</td>\n",
       "      <td>6.0</td>\n",
       "      <td>10.0</td>\n",
       "      <td>3.0</td>\n",
       "      <td>18.0</td>\n",
       "      <td>1.0</td>\n",
       "      <td>0.0</td>\n",
       "      <td>1.0</td>\n",
       "      <td>0.0</td>\n",
       "      <td>0.0</td>\n",
       "      <td>...</td>\n",
       "      <td>0.0</td>\n",
       "      <td>0.0</td>\n",
       "      <td>0.0</td>\n",
       "      <td>0.0</td>\n",
       "      <td>0.0</td>\n",
       "      <td>0.0</td>\n",
       "      <td>0.0</td>\n",
       "      <td>0.0</td>\n",
       "      <td>0.0</td>\n",
       "      <td>0.0</td>\n",
       "    </tr>\n",
       "    <tr>\n",
       "      <th>1</th>\n",
       "      <td>2.0</td>\n",
       "      <td>6.0</td>\n",
       "      <td>10.0</td>\n",
       "      <td>3.0</td>\n",
       "      <td>17.0</td>\n",
       "      <td>1.0</td>\n",
       "      <td>0.0</td>\n",
       "      <td>1.0</td>\n",
       "      <td>1.0</td>\n",
       "      <td>0.0</td>\n",
       "      <td>...</td>\n",
       "      <td>0.0</td>\n",
       "      <td>0.0</td>\n",
       "      <td>0.0</td>\n",
       "      <td>0.0</td>\n",
       "      <td>0.0</td>\n",
       "      <td>0.0</td>\n",
       "      <td>0.0</td>\n",
       "      <td>0.0</td>\n",
       "      <td>0.0</td>\n",
       "      <td>0.0</td>\n",
       "    </tr>\n",
       "    <tr>\n",
       "      <th>2</th>\n",
       "      <td>0.0</td>\n",
       "      <td>19.0</td>\n",
       "      <td>9.0</td>\n",
       "      <td>0.0</td>\n",
       "      <td>20.0</td>\n",
       "      <td>1.0</td>\n",
       "      <td>6.0</td>\n",
       "      <td>2.0</td>\n",
       "      <td>1.0</td>\n",
       "      <td>0.0</td>\n",
       "      <td>...</td>\n",
       "      <td>0.0</td>\n",
       "      <td>0.0</td>\n",
       "      <td>0.0</td>\n",
       "      <td>0.0</td>\n",
       "      <td>0.0</td>\n",
       "      <td>0.0</td>\n",
       "      <td>0.0</td>\n",
       "      <td>0.0</td>\n",
       "      <td>1.0</td>\n",
       "      <td>0.0</td>\n",
       "    </tr>\n",
       "    <tr>\n",
       "      <th>3</th>\n",
       "      <td>2.0</td>\n",
       "      <td>13.0</td>\n",
       "      <td>9.0</td>\n",
       "      <td>1.0</td>\n",
       "      <td>14.0</td>\n",
       "      <td>8.0</td>\n",
       "      <td>9.0</td>\n",
       "      <td>1.0</td>\n",
       "      <td>6.0</td>\n",
       "      <td>1.0</td>\n",
       "      <td>...</td>\n",
       "      <td>0.0</td>\n",
       "      <td>0.0</td>\n",
       "      <td>0.0</td>\n",
       "      <td>0.0</td>\n",
       "      <td>0.0</td>\n",
       "      <td>0.0</td>\n",
       "      <td>0.0</td>\n",
       "      <td>0.0</td>\n",
       "      <td>0.0</td>\n",
       "      <td>0.0</td>\n",
       "    </tr>\n",
       "    <tr>\n",
       "      <th>4</th>\n",
       "      <td>0.0</td>\n",
       "      <td>13.0</td>\n",
       "      <td>9.0</td>\n",
       "      <td>1.0</td>\n",
       "      <td>14.0</td>\n",
       "      <td>1.0</td>\n",
       "      <td>0.0</td>\n",
       "      <td>1.0</td>\n",
       "      <td>1.0</td>\n",
       "      <td>0.0</td>\n",
       "      <td>...</td>\n",
       "      <td>0.0</td>\n",
       "      <td>0.0</td>\n",
       "      <td>0.0</td>\n",
       "      <td>0.0</td>\n",
       "      <td>0.0</td>\n",
       "      <td>0.0</td>\n",
       "      <td>0.0</td>\n",
       "      <td>0.0</td>\n",
       "      <td>0.0</td>\n",
       "      <td>0.0</td>\n",
       "    </tr>\n",
       "  </tbody>\n",
       "</table>\n",
       "<p>5 rows × 193 columns</p>\n",
       "</div>"
      ],
      "text/plain": [
       "   size  created_at_day  created_at_month  created_at_weekday  \\\n",
       "0   0.0             6.0              10.0                 3.0   \n",
       "1   2.0             6.0              10.0                 3.0   \n",
       "2   0.0            19.0               9.0                 0.0   \n",
       "3   2.0            13.0               9.0                 1.0   \n",
       "4   0.0            13.0               9.0                 1.0   \n",
       "\n",
       "   created_at_hour  changed_files_number  body_size  commits_number  \\\n",
       "0             18.0                   1.0        0.0             1.0   \n",
       "1             17.0                   1.0        0.0             1.0   \n",
       "2             20.0                   1.0        6.0             2.0   \n",
       "3             14.0                   8.0        9.0             1.0   \n",
       "4             14.0                   1.0        0.0             1.0   \n",
       "\n",
       "   filetype_.md  filetype_.yaml  ...  title_wordcount_use  \\\n",
       "0           0.0             0.0  ...                  0.0   \n",
       "1           1.0             0.0  ...                  0.0   \n",
       "2           1.0             0.0  ...                  0.0   \n",
       "3           6.0             1.0  ...                  0.0   \n",
       "4           1.0             0.0  ...                  0.0   \n",
       "\n",
       "   title_wordcount_var  title_wordcount_via  title_wordcount_watercooler  \\\n",
       "0                  0.0                  0.0                          0.0   \n",
       "1                  0.0                  0.0                          0.0   \n",
       "2                  0.0                  0.0                          0.0   \n",
       "3                  0.0                  0.0                          0.0   \n",
       "4                  0.0                  0.0                          0.0   \n",
       "\n",
       "   title_wordcount_website  title_wordcount_week  title_wordcount_weekly  \\\n",
       "0                      0.0                   0.0                     0.0   \n",
       "1                      0.0                   0.0                     0.0   \n",
       "2                      0.0                   0.0                     0.0   \n",
       "3                      0.0                   0.0                     0.0   \n",
       "4                      0.0                   0.0                     0.0   \n",
       "\n",
       "   title_wordcount_word  title_wordcount_wording  title_wordcount_workload  \n",
       "0                   0.0                      0.0                       0.0  \n",
       "1                   0.0                      0.0                       0.0  \n",
       "2                   0.0                      1.0                       0.0  \n",
       "3                   0.0                      0.0                       0.0  \n",
       "4                   0.0                      0.0                       0.0  \n",
       "\n",
       "[5 rows x 193 columns]"
      ]
     },
     "execution_count": 21,
     "metadata": {},
     "output_type": "execute_result"
    }
   ],
   "source": [
    "X = raw_data_processor.fit_transform(pr_df)\n",
    "X = pd.DataFrame(X, index=pr_df.index, columns=cols)\n",
    "X.head()"
   ]
  },
  {
   "cell_type": "code",
   "execution_count": 22,
   "id": "2853951f-bad4-4b92-a713-769b86a1e33f",
   "metadata": {
    "execution": {
     "iopub.execute_input": "2022-10-07T17:53:37.174902Z",
     "iopub.status.busy": "2022-10-07T17:53:37.174074Z",
     "iopub.status.idle": "2022-10-07T17:53:37.220041Z",
     "shell.execute_reply": "2022-10-07T17:53:37.219160Z"
    }
   },
   "outputs": [
    {
     "data": {
      "text/html": [
       "<div>\n",
       "<style scoped>\n",
       "    .dataframe tbody tr th:only-of-type {\n",
       "        vertical-align: middle;\n",
       "    }\n",
       "\n",
       "    .dataframe tbody tr th {\n",
       "        vertical-align: top;\n",
       "    }\n",
       "\n",
       "    .dataframe thead th {\n",
       "        text-align: right;\n",
       "    }\n",
       "</style>\n",
       "<table border=\"1\" class=\"dataframe\">\n",
       "  <thead>\n",
       "    <tr style=\"text-align: right;\">\n",
       "      <th></th>\n",
       "      <th>title</th>\n",
       "      <th>body</th>\n",
       "      <th>size</th>\n",
       "      <th>created_by</th>\n",
       "      <th>created_at</th>\n",
       "      <th>closed_at</th>\n",
       "      <th>closed_by</th>\n",
       "      <th>merged_at</th>\n",
       "      <th>merged_by</th>\n",
       "      <th>commits_number</th>\n",
       "      <th>changed_files_number</th>\n",
       "      <th>interactions</th>\n",
       "      <th>reviews</th>\n",
       "      <th>labels</th>\n",
       "      <th>commits</th>\n",
       "      <th>changed_files</th>\n",
       "      <th>first_review_at</th>\n",
       "      <th>first_approve_at</th>\n",
       "      <th>id</th>\n",
       "    </tr>\n",
       "  </thead>\n",
       "  <tbody>\n",
       "    <tr>\n",
       "      <th>0</th>\n",
       "      <td>Add knikolla</td>\n",
       "      <td>None</td>\n",
       "      <td>XS</td>\n",
       "      <td>schwesig</td>\n",
       "      <td>1665079206</td>\n",
       "      <td>NaN</td>\n",
       "      <td>None</td>\n",
       "      <td>NaN</td>\n",
       "      <td>None</td>\n",
       "      <td>1</td>\n",
       "      <td>1</td>\n",
       "      <td>{'sesheta': 136, 'quaid': 1}</td>\n",
       "      <td>{}</td>\n",
       "      <td>[lgtm, do-not-merge/invalid-owners-file, appro...</td>\n",
       "      <td>[220f93b2b537f8fb4c5a0449fb9d394255ff4f02]</td>\n",
       "      <td>[OWNERS]</td>\n",
       "      <td>NaN</td>\n",
       "      <td>NaN</td>\n",
       "      <td>225</td>\n",
       "    </tr>\n",
       "    <tr>\n",
       "      <th>1</th>\n",
       "      <td>Create 20221006-meeting-notes.md</td>\n",
       "      <td>None</td>\n",
       "      <td>M</td>\n",
       "      <td>schwesig</td>\n",
       "      <td>1665078958</td>\n",
       "      <td>NaN</td>\n",
       "      <td>None</td>\n",
       "      <td>NaN</td>\n",
       "      <td>None</td>\n",
       "      <td>1</td>\n",
       "      <td>1</td>\n",
       "      <td>{'sesheta': 172, 'quaid': 1}</td>\n",
       "      <td>{'1133430644': {'author': 'quaid', 'words_coun...</td>\n",
       "      <td>[kind/documentation, approved, size/M, sig/com...</td>\n",
       "      <td>[54c273e75aa9a4a7326c7f9aad1b013bc0c29791]</td>\n",
       "      <td>[sig-community/meeting-notes/20221006-meeting-...</td>\n",
       "      <td>1.665079e+09</td>\n",
       "      <td>1.665079e+09</td>\n",
       "      <td>224</td>\n",
       "    </tr>\n",
       "    <tr>\n",
       "      <th>2</th>\n",
       "      <td>Update wording to be more open and inclusive.</td>\n",
       "      <td>Updates as worked out with Karsten\\r\\n</td>\n",
       "      <td>XS</td>\n",
       "      <td>billburnseh</td>\n",
       "      <td>1663618828</td>\n",
       "      <td>1.663619e+09</td>\n",
       "      <td>billburnseh</td>\n",
       "      <td>1.663619e+09</td>\n",
       "      <td>billburnseh</td>\n",
       "      <td>2</td>\n",
       "      <td>1</td>\n",
       "      <td>{'sesheta': 86}</td>\n",
       "      <td>{}</td>\n",
       "      <td>[size/XS]</td>\n",
       "      <td>[c86790d3a173abae0682dcbef583e6b151d6e61c, 272...</td>\n",
       "      <td>[four-principles.md]</td>\n",
       "      <td>NaN</td>\n",
       "      <td>NaN</td>\n",
       "      <td>223</td>\n",
       "    </tr>\n",
       "    <tr>\n",
       "      <th>3</th>\n",
       "      <td>office hours</td>\n",
       "      <td>- add office hours\\n- ran the markdown generat...</td>\n",
       "      <td>M</td>\n",
       "      <td>durandom</td>\n",
       "      <td>1663080364</td>\n",
       "      <td>1.663080e+09</td>\n",
       "      <td>durandom</td>\n",
       "      <td>1.663080e+09</td>\n",
       "      <td>durandom</td>\n",
       "      <td>1</td>\n",
       "      <td>8</td>\n",
       "      <td>{'sesheta': 144}</td>\n",
       "      <td>{}</td>\n",
       "      <td>[do-not-merge/invalid-owners-file, size/M]</td>\n",
       "      <td>[c10b264bd795ac3110035bef51fef9e50a63f782]</td>\n",
       "      <td>[OWNERS_ALIASES, README.md, sig-data-science/R...</td>\n",
       "      <td>NaN</td>\n",
       "      <td>NaN</td>\n",
       "      <td>222</td>\n",
       "    </tr>\n",
       "    <tr>\n",
       "      <th>4</th>\n",
       "      <td>add office hours</td>\n",
       "      <td>None</td>\n",
       "      <td>XS</td>\n",
       "      <td>durandom</td>\n",
       "      <td>1663079586</td>\n",
       "      <td>1.663080e+09</td>\n",
       "      <td>durandom</td>\n",
       "      <td>1.663080e+09</td>\n",
       "      <td>durandom</td>\n",
       "      <td>1</td>\n",
       "      <td>1</td>\n",
       "      <td>{'sesheta': 73}</td>\n",
       "      <td>{}</td>\n",
       "      <td>[size/XS]</td>\n",
       "      <td>[efd3f71fd62d499114dda31998e479d647c2f49b]</td>\n",
       "      <td>[sig-operations/README.md]</td>\n",
       "      <td>NaN</td>\n",
       "      <td>NaN</td>\n",
       "      <td>221</td>\n",
       "    </tr>\n",
       "    <tr>\n",
       "      <th>...</th>\n",
       "      <td>...</td>\n",
       "      <td>...</td>\n",
       "      <td>...</td>\n",
       "      <td>...</td>\n",
       "      <td>...</td>\n",
       "      <td>...</td>\n",
       "      <td>...</td>\n",
       "      <td>...</td>\n",
       "      <td>...</td>\n",
       "      <td>...</td>\n",
       "      <td>...</td>\n",
       "      <td>...</td>\n",
       "      <td>...</td>\n",
       "      <td>...</td>\n",
       "      <td>...</td>\n",
       "      <td>...</td>\n",
       "      <td>...</td>\n",
       "      <td>...</td>\n",
       "      <td>...</td>\n",
       "    </tr>\n",
       "    <tr>\n",
       "      <th>87</th>\n",
       "      <td>Created a new document for glossary</td>\n",
       "      <td>This pr adds a glossary document to the repo. ...</td>\n",
       "      <td>L</td>\n",
       "      <td>margarethaley</td>\n",
       "      <td>1625255261</td>\n",
       "      <td>1.625615e+09</td>\n",
       "      <td>sesheta</td>\n",
       "      <td>1.625615e+09</td>\n",
       "      <td>sesheta</td>\n",
       "      <td>2</td>\n",
       "      <td>2</td>\n",
       "      <td>{'quaid': 4, 'sesheta': 65}</td>\n",
       "      <td>{'699550191': {'author': 'quaid', 'words_count...</td>\n",
       "      <td>[size/L, lgtm, approved]</td>\n",
       "      <td>[28612661c6aa3a338539176e3bef111537e8b79e, f4c...</td>\n",
       "      <td>[glossary.md, new_front_page_mockup.md]</td>\n",
       "      <td>1.625550e+09</td>\n",
       "      <td>NaN</td>\n",
       "      <td>45</td>\n",
       "    </tr>\n",
       "    <tr>\n",
       "      <th>88</th>\n",
       "      <td>update the resource limit for the prowjobs</td>\n",
       "      <td>update the resource limit for the prowjobs\\r\\n...</td>\n",
       "      <td>XS</td>\n",
       "      <td>harshad16</td>\n",
       "      <td>1625177628</td>\n",
       "      <td>1.625230e+09</td>\n",
       "      <td>sesheta</td>\n",
       "      <td>1.625230e+09</td>\n",
       "      <td>sesheta</td>\n",
       "      <td>1</td>\n",
       "      <td>1</td>\n",
       "      <td>{'harshad16': 3, 'sesheta': 70}</td>\n",
       "      <td>{'698155981': {'author': 'oindrillac', 'words_...</td>\n",
       "      <td>[lgtm, approved, size/XS]</td>\n",
       "      <td>[d89f48d4fd7c01b61847762dfda0b2253cb0e7ed]</td>\n",
       "      <td>[.prow.yaml]</td>\n",
       "      <td>1.625230e+09</td>\n",
       "      <td>1.625230e+09</td>\n",
       "      <td>44</td>\n",
       "    </tr>\n",
       "    <tr>\n",
       "      <th>89</th>\n",
       "      <td>Front page content draft</td>\n",
       "      <td>This pr adds a file containing draft content f...</td>\n",
       "      <td>M</td>\n",
       "      <td>margarethaley</td>\n",
       "      <td>1625167660</td>\n",
       "      <td>1.625254e+09</td>\n",
       "      <td>sesheta</td>\n",
       "      <td>1.625254e+09</td>\n",
       "      <td>sesheta</td>\n",
       "      <td>1</td>\n",
       "      <td>1</td>\n",
       "      <td>{'margarethaley': 24, 'oindrillac': 104, 'hars...</td>\n",
       "      <td>{'697796698': {'author': 'quaid', 'words_count...</td>\n",
       "      <td>[lgtm, approved, size/M]</td>\n",
       "      <td>[28612661c6aa3a338539176e3bef111537e8b79e]</td>\n",
       "      <td>[new_front_page_mockup.md]</td>\n",
       "      <td>1.625197e+09</td>\n",
       "      <td>NaN</td>\n",
       "      <td>43</td>\n",
       "    </tr>\n",
       "    <tr>\n",
       "      <th>90</th>\n",
       "      <td>Created from existing messages for hacking-on</td>\n",
       "      <td>This is created using the messages on operate-...</td>\n",
       "      <td>M</td>\n",
       "      <td>quaid</td>\n",
       "      <td>1621226623</td>\n",
       "      <td>1.625255e+09</td>\n",
       "      <td>sesheta</td>\n",
       "      <td>1.625255e+09</td>\n",
       "      <td>sesheta</td>\n",
       "      <td>1</td>\n",
       "      <td>1</td>\n",
       "      <td>{'HumairAK': 60, 'quaid': 96, 'sesheta': 131, ...</td>\n",
       "      <td>{'661390364': {'author': 'HumairAK', 'words_co...</td>\n",
       "      <td>[lgtm, approved]</td>\n",
       "      <td>[03b73f88526078fdce85a6862248f2c8641e60d2]</td>\n",
       "      <td>[core_project_message.md]</td>\n",
       "      <td>1.621283e+09</td>\n",
       "      <td>NaN</td>\n",
       "      <td>5</td>\n",
       "    </tr>\n",
       "    <tr>\n",
       "      <th>91</th>\n",
       "      <td>chore: Add quaid to OWNERS</td>\n",
       "      <td>SSIA\\r\\n\\r\\n/cc @quaid</td>\n",
       "      <td>XS</td>\n",
       "      <td>tumido</td>\n",
       "      <td>1620809958</td>\n",
       "      <td>1.620827e+09</td>\n",
       "      <td>HumairAK</td>\n",
       "      <td>1.620827e+09</td>\n",
       "      <td>HumairAK</td>\n",
       "      <td>1</td>\n",
       "      <td>1</td>\n",
       "      <td>{'tumido': 1, 'sesheta': 68}</td>\n",
       "      <td>{'657780656': {'author': 'HumairAK', 'words_co...</td>\n",
       "      <td>[]</td>\n",
       "      <td>[b4cec5fb1a0d4d789e878e089560ca9752476cc7]</td>\n",
       "      <td>[OWNERS]</td>\n",
       "      <td>1.620820e+09</td>\n",
       "      <td>1.620820e+09</td>\n",
       "      <td>1</td>\n",
       "    </tr>\n",
       "  </tbody>\n",
       "</table>\n",
       "<p>92 rows × 19 columns</p>\n",
       "</div>"
      ],
      "text/plain": [
       "                                            title  \\\n",
       "0                                    Add knikolla   \n",
       "1                Create 20221006-meeting-notes.md   \n",
       "2   Update wording to be more open and inclusive.   \n",
       "3                                    office hours   \n",
       "4                                add office hours   \n",
       "..                                            ...   \n",
       "87            Created a new document for glossary   \n",
       "88     update the resource limit for the prowjobs   \n",
       "89                       Front page content draft   \n",
       "90  Created from existing messages for hacking-on   \n",
       "91                     chore: Add quaid to OWNERS   \n",
       "\n",
       "                                                 body size     created_by  \\\n",
       "0                                                None   XS       schwesig   \n",
       "1                                                None    M       schwesig   \n",
       "2              Updates as worked out with Karsten\\r\\n   XS    billburnseh   \n",
       "3   - add office hours\\n- ran the markdown generat...    M       durandom   \n",
       "4                                                None   XS       durandom   \n",
       "..                                                ...  ...            ...   \n",
       "87  This pr adds a glossary document to the repo. ...    L  margarethaley   \n",
       "88  update the resource limit for the prowjobs\\r\\n...   XS      harshad16   \n",
       "89  This pr adds a file containing draft content f...    M  margarethaley   \n",
       "90  This is created using the messages on operate-...    M          quaid   \n",
       "91                             SSIA\\r\\n\\r\\n/cc @quaid   XS         tumido   \n",
       "\n",
       "    created_at     closed_at    closed_by     merged_at    merged_by  \\\n",
       "0   1665079206           NaN         None           NaN         None   \n",
       "1   1665078958           NaN         None           NaN         None   \n",
       "2   1663618828  1.663619e+09  billburnseh  1.663619e+09  billburnseh   \n",
       "3   1663080364  1.663080e+09     durandom  1.663080e+09     durandom   \n",
       "4   1663079586  1.663080e+09     durandom  1.663080e+09     durandom   \n",
       "..         ...           ...          ...           ...          ...   \n",
       "87  1625255261  1.625615e+09      sesheta  1.625615e+09      sesheta   \n",
       "88  1625177628  1.625230e+09      sesheta  1.625230e+09      sesheta   \n",
       "89  1625167660  1.625254e+09      sesheta  1.625254e+09      sesheta   \n",
       "90  1621226623  1.625255e+09      sesheta  1.625255e+09      sesheta   \n",
       "91  1620809958  1.620827e+09     HumairAK  1.620827e+09     HumairAK   \n",
       "\n",
       "    commits_number  changed_files_number  \\\n",
       "0                1                     1   \n",
       "1                1                     1   \n",
       "2                2                     1   \n",
       "3                1                     8   \n",
       "4                1                     1   \n",
       "..             ...                   ...   \n",
       "87               2                     2   \n",
       "88               1                     1   \n",
       "89               1                     1   \n",
       "90               1                     1   \n",
       "91               1                     1   \n",
       "\n",
       "                                         interactions  \\\n",
       "0                        {'sesheta': 136, 'quaid': 1}   \n",
       "1                        {'sesheta': 172, 'quaid': 1}   \n",
       "2                                     {'sesheta': 86}   \n",
       "3                                    {'sesheta': 144}   \n",
       "4                                     {'sesheta': 73}   \n",
       "..                                                ...   \n",
       "87                        {'quaid': 4, 'sesheta': 65}   \n",
       "88                    {'harshad16': 3, 'sesheta': 70}   \n",
       "89  {'margarethaley': 24, 'oindrillac': 104, 'hars...   \n",
       "90  {'HumairAK': 60, 'quaid': 96, 'sesheta': 131, ...   \n",
       "91                       {'tumido': 1, 'sesheta': 68}   \n",
       "\n",
       "                                              reviews  \\\n",
       "0                                                  {}   \n",
       "1   {'1133430644': {'author': 'quaid', 'words_coun...   \n",
       "2                                                  {}   \n",
       "3                                                  {}   \n",
       "4                                                  {}   \n",
       "..                                                ...   \n",
       "87  {'699550191': {'author': 'quaid', 'words_count...   \n",
       "88  {'698155981': {'author': 'oindrillac', 'words_...   \n",
       "89  {'697796698': {'author': 'quaid', 'words_count...   \n",
       "90  {'661390364': {'author': 'HumairAK', 'words_co...   \n",
       "91  {'657780656': {'author': 'HumairAK', 'words_co...   \n",
       "\n",
       "                                               labels  \\\n",
       "0   [lgtm, do-not-merge/invalid-owners-file, appro...   \n",
       "1   [kind/documentation, approved, size/M, sig/com...   \n",
       "2                                           [size/XS]   \n",
       "3          [do-not-merge/invalid-owners-file, size/M]   \n",
       "4                                           [size/XS]   \n",
       "..                                                ...   \n",
       "87                           [size/L, lgtm, approved]   \n",
       "88                          [lgtm, approved, size/XS]   \n",
       "89                           [lgtm, approved, size/M]   \n",
       "90                                   [lgtm, approved]   \n",
       "91                                                 []   \n",
       "\n",
       "                                              commits  \\\n",
       "0          [220f93b2b537f8fb4c5a0449fb9d394255ff4f02]   \n",
       "1          [54c273e75aa9a4a7326c7f9aad1b013bc0c29791]   \n",
       "2   [c86790d3a173abae0682dcbef583e6b151d6e61c, 272...   \n",
       "3          [c10b264bd795ac3110035bef51fef9e50a63f782]   \n",
       "4          [efd3f71fd62d499114dda31998e479d647c2f49b]   \n",
       "..                                                ...   \n",
       "87  [28612661c6aa3a338539176e3bef111537e8b79e, f4c...   \n",
       "88         [d89f48d4fd7c01b61847762dfda0b2253cb0e7ed]   \n",
       "89         [28612661c6aa3a338539176e3bef111537e8b79e]   \n",
       "90         [03b73f88526078fdce85a6862248f2c8641e60d2]   \n",
       "91         [b4cec5fb1a0d4d789e878e089560ca9752476cc7]   \n",
       "\n",
       "                                        changed_files  first_review_at  \\\n",
       "0                                            [OWNERS]              NaN   \n",
       "1   [sig-community/meeting-notes/20221006-meeting-...     1.665079e+09   \n",
       "2                                [four-principles.md]              NaN   \n",
       "3   [OWNERS_ALIASES, README.md, sig-data-science/R...              NaN   \n",
       "4                          [sig-operations/README.md]              NaN   \n",
       "..                                                ...              ...   \n",
       "87            [glossary.md, new_front_page_mockup.md]     1.625550e+09   \n",
       "88                                       [.prow.yaml]     1.625230e+09   \n",
       "89                         [new_front_page_mockup.md]     1.625197e+09   \n",
       "90                          [core_project_message.md]     1.621283e+09   \n",
       "91                                           [OWNERS]     1.620820e+09   \n",
       "\n",
       "    first_approve_at   id  \n",
       "0                NaN  225  \n",
       "1       1.665079e+09  224  \n",
       "2                NaN  223  \n",
       "3                NaN  222  \n",
       "4                NaN  221  \n",
       "..               ...  ...  \n",
       "87               NaN   45  \n",
       "88      1.625230e+09   44  \n",
       "89               NaN   43  \n",
       "90               NaN    5  \n",
       "91      1.620820e+09    1  \n",
       "\n",
       "[92 rows x 19 columns]"
      ]
     },
     "execution_count": 22,
     "metadata": {},
     "output_type": "execute_result"
    }
   ],
   "source": [
    "pr_df"
   ]
  },
  {
   "cell_type": "code",
   "execution_count": 23,
   "id": "b3760786-b04a-4216-a690-c60cd19bb454",
   "metadata": {
    "execution": {
     "iopub.execute_input": "2022-10-07T17:53:37.224090Z",
     "iopub.status.busy": "2022-10-07T17:53:37.223759Z",
     "iopub.status.idle": "2022-10-07T17:53:37.263848Z",
     "shell.execute_reply": "2022-10-07T17:53:37.262942Z"
    }
   },
   "outputs": [
    {
     "data": {
      "text/html": [
       "<div>\n",
       "<style scoped>\n",
       "    .dataframe tbody tr th:only-of-type {\n",
       "        vertical-align: middle;\n",
       "    }\n",
       "\n",
       "    .dataframe tbody tr th {\n",
       "        vertical-align: top;\n",
       "    }\n",
       "\n",
       "    .dataframe thead th {\n",
       "        text-align: right;\n",
       "    }\n",
       "</style>\n",
       "<table border=\"1\" class=\"dataframe\">\n",
       "  <thead>\n",
       "    <tr style=\"text-align: right;\">\n",
       "      <th></th>\n",
       "      <th>size</th>\n",
       "      <th>created_at_day</th>\n",
       "      <th>created_at_month</th>\n",
       "      <th>created_at_weekday</th>\n",
       "      <th>created_at_hour</th>\n",
       "      <th>changed_files_number</th>\n",
       "      <th>body_size</th>\n",
       "      <th>commits_number</th>\n",
       "      <th>filetype_.md</th>\n",
       "      <th>filetype_.yaml</th>\n",
       "      <th>...</th>\n",
       "      <th>title_wordcount_use</th>\n",
       "      <th>title_wordcount_var</th>\n",
       "      <th>title_wordcount_via</th>\n",
       "      <th>title_wordcount_watercooler</th>\n",
       "      <th>title_wordcount_website</th>\n",
       "      <th>title_wordcount_week</th>\n",
       "      <th>title_wordcount_weekly</th>\n",
       "      <th>title_wordcount_word</th>\n",
       "      <th>title_wordcount_wording</th>\n",
       "      <th>title_wordcount_workload</th>\n",
       "    </tr>\n",
       "  </thead>\n",
       "  <tbody>\n",
       "    <tr>\n",
       "      <th>0</th>\n",
       "      <td>0.0</td>\n",
       "      <td>6.0</td>\n",
       "      <td>10.0</td>\n",
       "      <td>3.0</td>\n",
       "      <td>18.0</td>\n",
       "      <td>1.0</td>\n",
       "      <td>0.0</td>\n",
       "      <td>1.0</td>\n",
       "      <td>0.0</td>\n",
       "      <td>0.0</td>\n",
       "      <td>...</td>\n",
       "      <td>0.0</td>\n",
       "      <td>0.0</td>\n",
       "      <td>0.0</td>\n",
       "      <td>0.0</td>\n",
       "      <td>0.0</td>\n",
       "      <td>0.0</td>\n",
       "      <td>0.0</td>\n",
       "      <td>0.0</td>\n",
       "      <td>0.0</td>\n",
       "      <td>0.0</td>\n",
       "    </tr>\n",
       "    <tr>\n",
       "      <th>1</th>\n",
       "      <td>2.0</td>\n",
       "      <td>6.0</td>\n",
       "      <td>10.0</td>\n",
       "      <td>3.0</td>\n",
       "      <td>17.0</td>\n",
       "      <td>1.0</td>\n",
       "      <td>0.0</td>\n",
       "      <td>1.0</td>\n",
       "      <td>1.0</td>\n",
       "      <td>0.0</td>\n",
       "      <td>...</td>\n",
       "      <td>0.0</td>\n",
       "      <td>0.0</td>\n",
       "      <td>0.0</td>\n",
       "      <td>0.0</td>\n",
       "      <td>0.0</td>\n",
       "      <td>0.0</td>\n",
       "      <td>0.0</td>\n",
       "      <td>0.0</td>\n",
       "      <td>0.0</td>\n",
       "      <td>0.0</td>\n",
       "    </tr>\n",
       "    <tr>\n",
       "      <th>2</th>\n",
       "      <td>0.0</td>\n",
       "      <td>19.0</td>\n",
       "      <td>9.0</td>\n",
       "      <td>0.0</td>\n",
       "      <td>20.0</td>\n",
       "      <td>1.0</td>\n",
       "      <td>6.0</td>\n",
       "      <td>2.0</td>\n",
       "      <td>1.0</td>\n",
       "      <td>0.0</td>\n",
       "      <td>...</td>\n",
       "      <td>0.0</td>\n",
       "      <td>0.0</td>\n",
       "      <td>0.0</td>\n",
       "      <td>0.0</td>\n",
       "      <td>0.0</td>\n",
       "      <td>0.0</td>\n",
       "      <td>0.0</td>\n",
       "      <td>0.0</td>\n",
       "      <td>1.0</td>\n",
       "      <td>0.0</td>\n",
       "    </tr>\n",
       "    <tr>\n",
       "      <th>3</th>\n",
       "      <td>2.0</td>\n",
       "      <td>13.0</td>\n",
       "      <td>9.0</td>\n",
       "      <td>1.0</td>\n",
       "      <td>14.0</td>\n",
       "      <td>8.0</td>\n",
       "      <td>9.0</td>\n",
       "      <td>1.0</td>\n",
       "      <td>6.0</td>\n",
       "      <td>1.0</td>\n",
       "      <td>...</td>\n",
       "      <td>0.0</td>\n",
       "      <td>0.0</td>\n",
       "      <td>0.0</td>\n",
       "      <td>0.0</td>\n",
       "      <td>0.0</td>\n",
       "      <td>0.0</td>\n",
       "      <td>0.0</td>\n",
       "      <td>0.0</td>\n",
       "      <td>0.0</td>\n",
       "      <td>0.0</td>\n",
       "    </tr>\n",
       "    <tr>\n",
       "      <th>4</th>\n",
       "      <td>0.0</td>\n",
       "      <td>13.0</td>\n",
       "      <td>9.0</td>\n",
       "      <td>1.0</td>\n",
       "      <td>14.0</td>\n",
       "      <td>1.0</td>\n",
       "      <td>0.0</td>\n",
       "      <td>1.0</td>\n",
       "      <td>1.0</td>\n",
       "      <td>0.0</td>\n",
       "      <td>...</td>\n",
       "      <td>0.0</td>\n",
       "      <td>0.0</td>\n",
       "      <td>0.0</td>\n",
       "      <td>0.0</td>\n",
       "      <td>0.0</td>\n",
       "      <td>0.0</td>\n",
       "      <td>0.0</td>\n",
       "      <td>0.0</td>\n",
       "      <td>0.0</td>\n",
       "      <td>0.0</td>\n",
       "    </tr>\n",
       "    <tr>\n",
       "      <th>...</th>\n",
       "      <td>...</td>\n",
       "      <td>...</td>\n",
       "      <td>...</td>\n",
       "      <td>...</td>\n",
       "      <td>...</td>\n",
       "      <td>...</td>\n",
       "      <td>...</td>\n",
       "      <td>...</td>\n",
       "      <td>...</td>\n",
       "      <td>...</td>\n",
       "      <td>...</td>\n",
       "      <td>...</td>\n",
       "      <td>...</td>\n",
       "      <td>...</td>\n",
       "      <td>...</td>\n",
       "      <td>...</td>\n",
       "      <td>...</td>\n",
       "      <td>...</td>\n",
       "      <td>...</td>\n",
       "      <td>...</td>\n",
       "      <td>...</td>\n",
       "    </tr>\n",
       "    <tr>\n",
       "      <th>87</th>\n",
       "      <td>3.0</td>\n",
       "      <td>2.0</td>\n",
       "      <td>7.0</td>\n",
       "      <td>4.0</td>\n",
       "      <td>19.0</td>\n",
       "      <td>2.0</td>\n",
       "      <td>48.0</td>\n",
       "      <td>2.0</td>\n",
       "      <td>2.0</td>\n",
       "      <td>0.0</td>\n",
       "      <td>...</td>\n",
       "      <td>0.0</td>\n",
       "      <td>0.0</td>\n",
       "      <td>0.0</td>\n",
       "      <td>0.0</td>\n",
       "      <td>0.0</td>\n",
       "      <td>0.0</td>\n",
       "      <td>0.0</td>\n",
       "      <td>0.0</td>\n",
       "      <td>0.0</td>\n",
       "      <td>0.0</td>\n",
       "    </tr>\n",
       "    <tr>\n",
       "      <th>88</th>\n",
       "      <td>0.0</td>\n",
       "      <td>1.0</td>\n",
       "      <td>7.0</td>\n",
       "      <td>3.0</td>\n",
       "      <td>22.0</td>\n",
       "      <td>1.0</td>\n",
       "      <td>16.0</td>\n",
       "      <td>1.0</td>\n",
       "      <td>0.0</td>\n",
       "      <td>1.0</td>\n",
       "      <td>...</td>\n",
       "      <td>0.0</td>\n",
       "      <td>0.0</td>\n",
       "      <td>0.0</td>\n",
       "      <td>0.0</td>\n",
       "      <td>0.0</td>\n",
       "      <td>0.0</td>\n",
       "      <td>0.0</td>\n",
       "      <td>0.0</td>\n",
       "      <td>0.0</td>\n",
       "      <td>0.0</td>\n",
       "    </tr>\n",
       "    <tr>\n",
       "      <th>89</th>\n",
       "      <td>2.0</td>\n",
       "      <td>1.0</td>\n",
       "      <td>7.0</td>\n",
       "      <td>3.0</td>\n",
       "      <td>19.0</td>\n",
       "      <td>1.0</td>\n",
       "      <td>38.0</td>\n",
       "      <td>1.0</td>\n",
       "      <td>1.0</td>\n",
       "      <td>0.0</td>\n",
       "      <td>...</td>\n",
       "      <td>0.0</td>\n",
       "      <td>0.0</td>\n",
       "      <td>0.0</td>\n",
       "      <td>0.0</td>\n",
       "      <td>0.0</td>\n",
       "      <td>0.0</td>\n",
       "      <td>0.0</td>\n",
       "      <td>0.0</td>\n",
       "      <td>0.0</td>\n",
       "      <td>0.0</td>\n",
       "    </tr>\n",
       "    <tr>\n",
       "      <th>90</th>\n",
       "      <td>2.0</td>\n",
       "      <td>17.0</td>\n",
       "      <td>5.0</td>\n",
       "      <td>0.0</td>\n",
       "      <td>4.0</td>\n",
       "      <td>1.0</td>\n",
       "      <td>34.0</td>\n",
       "      <td>1.0</td>\n",
       "      <td>1.0</td>\n",
       "      <td>0.0</td>\n",
       "      <td>...</td>\n",
       "      <td>0.0</td>\n",
       "      <td>0.0</td>\n",
       "      <td>0.0</td>\n",
       "      <td>0.0</td>\n",
       "      <td>0.0</td>\n",
       "      <td>0.0</td>\n",
       "      <td>0.0</td>\n",
       "      <td>0.0</td>\n",
       "      <td>0.0</td>\n",
       "      <td>0.0</td>\n",
       "    </tr>\n",
       "    <tr>\n",
       "      <th>91</th>\n",
       "      <td>0.0</td>\n",
       "      <td>12.0</td>\n",
       "      <td>5.0</td>\n",
       "      <td>2.0</td>\n",
       "      <td>8.0</td>\n",
       "      <td>1.0</td>\n",
       "      <td>3.0</td>\n",
       "      <td>1.0</td>\n",
       "      <td>0.0</td>\n",
       "      <td>0.0</td>\n",
       "      <td>...</td>\n",
       "      <td>0.0</td>\n",
       "      <td>0.0</td>\n",
       "      <td>0.0</td>\n",
       "      <td>0.0</td>\n",
       "      <td>0.0</td>\n",
       "      <td>0.0</td>\n",
       "      <td>0.0</td>\n",
       "      <td>0.0</td>\n",
       "      <td>0.0</td>\n",
       "      <td>0.0</td>\n",
       "    </tr>\n",
       "  </tbody>\n",
       "</table>\n",
       "<p>92 rows × 193 columns</p>\n",
       "</div>"
      ],
      "text/plain": [
       "    size  created_at_day  created_at_month  created_at_weekday  \\\n",
       "0    0.0             6.0              10.0                 3.0   \n",
       "1    2.0             6.0              10.0                 3.0   \n",
       "2    0.0            19.0               9.0                 0.0   \n",
       "3    2.0            13.0               9.0                 1.0   \n",
       "4    0.0            13.0               9.0                 1.0   \n",
       "..   ...             ...               ...                 ...   \n",
       "87   3.0             2.0               7.0                 4.0   \n",
       "88   0.0             1.0               7.0                 3.0   \n",
       "89   2.0             1.0               7.0                 3.0   \n",
       "90   2.0            17.0               5.0                 0.0   \n",
       "91   0.0            12.0               5.0                 2.0   \n",
       "\n",
       "    created_at_hour  changed_files_number  body_size  commits_number  \\\n",
       "0              18.0                   1.0        0.0             1.0   \n",
       "1              17.0                   1.0        0.0             1.0   \n",
       "2              20.0                   1.0        6.0             2.0   \n",
       "3              14.0                   8.0        9.0             1.0   \n",
       "4              14.0                   1.0        0.0             1.0   \n",
       "..              ...                   ...        ...             ...   \n",
       "87             19.0                   2.0       48.0             2.0   \n",
       "88             22.0                   1.0       16.0             1.0   \n",
       "89             19.0                   1.0       38.0             1.0   \n",
       "90              4.0                   1.0       34.0             1.0   \n",
       "91              8.0                   1.0        3.0             1.0   \n",
       "\n",
       "    filetype_.md  filetype_.yaml  ...  title_wordcount_use  \\\n",
       "0            0.0             0.0  ...                  0.0   \n",
       "1            1.0             0.0  ...                  0.0   \n",
       "2            1.0             0.0  ...                  0.0   \n",
       "3            6.0             1.0  ...                  0.0   \n",
       "4            1.0             0.0  ...                  0.0   \n",
       "..           ...             ...  ...                  ...   \n",
       "87           2.0             0.0  ...                  0.0   \n",
       "88           0.0             1.0  ...                  0.0   \n",
       "89           1.0             0.0  ...                  0.0   \n",
       "90           1.0             0.0  ...                  0.0   \n",
       "91           0.0             0.0  ...                  0.0   \n",
       "\n",
       "    title_wordcount_var  title_wordcount_via  title_wordcount_watercooler  \\\n",
       "0                   0.0                  0.0                          0.0   \n",
       "1                   0.0                  0.0                          0.0   \n",
       "2                   0.0                  0.0                          0.0   \n",
       "3                   0.0                  0.0                          0.0   \n",
       "4                   0.0                  0.0                          0.0   \n",
       "..                  ...                  ...                          ...   \n",
       "87                  0.0                  0.0                          0.0   \n",
       "88                  0.0                  0.0                          0.0   \n",
       "89                  0.0                  0.0                          0.0   \n",
       "90                  0.0                  0.0                          0.0   \n",
       "91                  0.0                  0.0                          0.0   \n",
       "\n",
       "    title_wordcount_website  title_wordcount_week  title_wordcount_weekly  \\\n",
       "0                       0.0                   0.0                     0.0   \n",
       "1                       0.0                   0.0                     0.0   \n",
       "2                       0.0                   0.0                     0.0   \n",
       "3                       0.0                   0.0                     0.0   \n",
       "4                       0.0                   0.0                     0.0   \n",
       "..                      ...                   ...                     ...   \n",
       "87                      0.0                   0.0                     0.0   \n",
       "88                      0.0                   0.0                     0.0   \n",
       "89                      0.0                   0.0                     0.0   \n",
       "90                      0.0                   0.0                     0.0   \n",
       "91                      0.0                   0.0                     0.0   \n",
       "\n",
       "    title_wordcount_word  title_wordcount_wording  title_wordcount_workload  \n",
       "0                    0.0                      0.0                       0.0  \n",
       "1                    0.0                      0.0                       0.0  \n",
       "2                    0.0                      1.0                       0.0  \n",
       "3                    0.0                      0.0                       0.0  \n",
       "4                    0.0                      0.0                       0.0  \n",
       "..                   ...                      ...                       ...  \n",
       "87                   0.0                      0.0                       0.0  \n",
       "88                   0.0                      0.0                       0.0  \n",
       "89                   0.0                      0.0                       0.0  \n",
       "90                   0.0                      0.0                       0.0  \n",
       "91                   0.0                      0.0                       0.0  \n",
       "\n",
       "[92 rows x 193 columns]"
      ]
     },
     "execution_count": 23,
     "metadata": {},
     "output_type": "execute_result"
    }
   ],
   "source": [
    "X"
   ]
  },
  {
   "cell_type": "markdown",
   "id": "756725bc-85c4-45b0-8f24-08cba0f57113",
   "metadata": {},
   "source": [
    "## Drop NA + Train/Test Split"
   ]
  },
  {
   "cell_type": "code",
   "execution_count": 24,
   "id": "da703bc5-696f-4f63-b471-018c18557ac6",
   "metadata": {
    "execution": {
     "iopub.execute_input": "2022-10-07T17:53:37.268337Z",
     "iopub.status.busy": "2022-10-07T17:53:37.268003Z",
     "iopub.status.idle": "2022-10-07T17:53:37.272471Z",
     "shell.execute_reply": "2022-10-07T17:53:37.271614Z"
    }
   },
   "outputs": [],
   "source": [
    "# drop entries for which labels are unknown\n",
    "# also make sure labels and features are consistent\n",
    "X = X.reindex(y.index)"
   ]
  },
  {
   "cell_type": "code",
   "execution_count": 25,
   "id": "86235437",
   "metadata": {
    "execution": {
     "iopub.execute_input": "2022-10-07T17:53:37.276807Z",
     "iopub.status.busy": "2022-10-07T17:53:37.276331Z",
     "iopub.status.idle": "2022-10-07T17:53:37.281856Z",
     "shell.execute_reply": "2022-10-07T17:53:37.281229Z"
    }
   },
   "outputs": [],
   "source": [
    "# split into train and test sets\n",
    "X_train, X_test, y_train, y_test = train_test_split(\n",
    "    X, y, test_size=0.2, random_state=42\n",
    ")"
   ]
  },
  {
   "cell_type": "code",
   "execution_count": 26,
   "id": "82ac1a13-b294-4414-906b-271e72ac091f",
   "metadata": {
    "execution": {
     "iopub.execute_input": "2022-10-07T17:53:37.286120Z",
     "iopub.status.busy": "2022-10-07T17:53:37.285437Z",
     "iopub.status.idle": "2022-10-07T17:53:37.331919Z",
     "shell.execute_reply": "2022-10-07T17:53:37.330981Z"
    }
   },
   "outputs": [
    {
     "data": {
      "text/html": [
       "<div>\n",
       "<style scoped>\n",
       "    .dataframe tbody tr th:only-of-type {\n",
       "        vertical-align: middle;\n",
       "    }\n",
       "\n",
       "    .dataframe tbody tr th {\n",
       "        vertical-align: top;\n",
       "    }\n",
       "\n",
       "    .dataframe thead th {\n",
       "        text-align: right;\n",
       "    }\n",
       "</style>\n",
       "<table border=\"1\" class=\"dataframe\">\n",
       "  <thead>\n",
       "    <tr style=\"text-align: right;\">\n",
       "      <th></th>\n",
       "      <th>size</th>\n",
       "      <th>created_at_day</th>\n",
       "      <th>created_at_month</th>\n",
       "      <th>created_at_weekday</th>\n",
       "      <th>created_at_hour</th>\n",
       "      <th>changed_files_number</th>\n",
       "      <th>body_size</th>\n",
       "      <th>commits_number</th>\n",
       "      <th>filetype_.md</th>\n",
       "      <th>filetype_.yaml</th>\n",
       "      <th>...</th>\n",
       "      <th>title_wordcount_use</th>\n",
       "      <th>title_wordcount_var</th>\n",
       "      <th>title_wordcount_via</th>\n",
       "      <th>title_wordcount_watercooler</th>\n",
       "      <th>title_wordcount_website</th>\n",
       "      <th>title_wordcount_week</th>\n",
       "      <th>title_wordcount_weekly</th>\n",
       "      <th>title_wordcount_word</th>\n",
       "      <th>title_wordcount_wording</th>\n",
       "      <th>title_wordcount_workload</th>\n",
       "    </tr>\n",
       "  </thead>\n",
       "  <tbody>\n",
       "    <tr>\n",
       "      <th>8</th>\n",
       "      <td>2.0</td>\n",
       "      <td>25.0</td>\n",
       "      <td>8.0</td>\n",
       "      <td>3.0</td>\n",
       "      <td>19.0</td>\n",
       "      <td>5.0</td>\n",
       "      <td>7.0</td>\n",
       "      <td>3.0</td>\n",
       "      <td>5.0</td>\n",
       "      <td>0.0</td>\n",
       "      <td>...</td>\n",
       "      <td>0.0</td>\n",
       "      <td>0.0</td>\n",
       "      <td>0.0</td>\n",
       "      <td>0.0</td>\n",
       "      <td>0.0</td>\n",
       "      <td>0.0</td>\n",
       "      <td>0.0</td>\n",
       "      <td>0.0</td>\n",
       "      <td>0.0</td>\n",
       "      <td>0.0</td>\n",
       "    </tr>\n",
       "    <tr>\n",
       "      <th>45</th>\n",
       "      <td>0.0</td>\n",
       "      <td>18.0</td>\n",
       "      <td>3.0</td>\n",
       "      <td>4.0</td>\n",
       "      <td>14.0</td>\n",
       "      <td>1.0</td>\n",
       "      <td>48.0</td>\n",
       "      <td>1.0</td>\n",
       "      <td>1.0</td>\n",
       "      <td>0.0</td>\n",
       "      <td>...</td>\n",
       "      <td>0.0</td>\n",
       "      <td>0.0</td>\n",
       "      <td>0.0</td>\n",
       "      <td>0.0</td>\n",
       "      <td>0.0</td>\n",
       "      <td>0.0</td>\n",
       "      <td>0.0</td>\n",
       "      <td>0.0</td>\n",
       "      <td>0.0</td>\n",
       "      <td>0.0</td>\n",
       "    </tr>\n",
       "    <tr>\n",
       "      <th>15</th>\n",
       "      <td>1.0</td>\n",
       "      <td>19.0</td>\n",
       "      <td>7.0</td>\n",
       "      <td>1.0</td>\n",
       "      <td>17.0</td>\n",
       "      <td>1.0</td>\n",
       "      <td>0.0</td>\n",
       "      <td>1.0</td>\n",
       "      <td>1.0</td>\n",
       "      <td>0.0</td>\n",
       "      <td>...</td>\n",
       "      <td>0.0</td>\n",
       "      <td>0.0</td>\n",
       "      <td>0.0</td>\n",
       "      <td>0.0</td>\n",
       "      <td>0.0</td>\n",
       "      <td>0.0</td>\n",
       "      <td>0.0</td>\n",
       "      <td>0.0</td>\n",
       "      <td>0.0</td>\n",
       "      <td>0.0</td>\n",
       "    </tr>\n",
       "    <tr>\n",
       "      <th>2</th>\n",
       "      <td>0.0</td>\n",
       "      <td>19.0</td>\n",
       "      <td>9.0</td>\n",
       "      <td>0.0</td>\n",
       "      <td>20.0</td>\n",
       "      <td>1.0</td>\n",
       "      <td>6.0</td>\n",
       "      <td>2.0</td>\n",
       "      <td>1.0</td>\n",
       "      <td>0.0</td>\n",
       "      <td>...</td>\n",
       "      <td>0.0</td>\n",
       "      <td>0.0</td>\n",
       "      <td>0.0</td>\n",
       "      <td>0.0</td>\n",
       "      <td>0.0</td>\n",
       "      <td>0.0</td>\n",
       "      <td>0.0</td>\n",
       "      <td>0.0</td>\n",
       "      <td>1.0</td>\n",
       "      <td>0.0</td>\n",
       "    </tr>\n",
       "    <tr>\n",
       "      <th>57</th>\n",
       "      <td>1.0</td>\n",
       "      <td>24.0</td>\n",
       "      <td>2.0</td>\n",
       "      <td>3.0</td>\n",
       "      <td>19.0</td>\n",
       "      <td>1.0</td>\n",
       "      <td>5.0</td>\n",
       "      <td>1.0</td>\n",
       "      <td>0.0</td>\n",
       "      <td>1.0</td>\n",
       "      <td>...</td>\n",
       "      <td>0.0</td>\n",
       "      <td>0.0</td>\n",
       "      <td>0.0</td>\n",
       "      <td>0.0</td>\n",
       "      <td>1.0</td>\n",
       "      <td>0.0</td>\n",
       "      <td>0.0</td>\n",
       "      <td>0.0</td>\n",
       "      <td>0.0</td>\n",
       "      <td>0.0</td>\n",
       "    </tr>\n",
       "    <tr>\n",
       "      <th>60</th>\n",
       "      <td>2.0</td>\n",
       "      <td>16.0</td>\n",
       "      <td>2.0</td>\n",
       "      <td>2.0</td>\n",
       "      <td>15.0</td>\n",
       "      <td>6.0</td>\n",
       "      <td>17.0</td>\n",
       "      <td>1.0</td>\n",
       "      <td>3.0</td>\n",
       "      <td>1.0</td>\n",
       "      <td>...</td>\n",
       "      <td>0.0</td>\n",
       "      <td>0.0</td>\n",
       "      <td>0.0</td>\n",
       "      <td>0.0</td>\n",
       "      <td>0.0</td>\n",
       "      <td>0.0</td>\n",
       "      <td>0.0</td>\n",
       "      <td>0.0</td>\n",
       "      <td>0.0</td>\n",
       "      <td>1.0</td>\n",
       "    </tr>\n",
       "    <tr>\n",
       "      <th>81</th>\n",
       "      <td>0.0</td>\n",
       "      <td>15.0</td>\n",
       "      <td>9.0</td>\n",
       "      <td>2.0</td>\n",
       "      <td>20.0</td>\n",
       "      <td>1.0</td>\n",
       "      <td>38.0</td>\n",
       "      <td>1.0</td>\n",
       "      <td>0.0</td>\n",
       "      <td>0.0</td>\n",
       "      <td>...</td>\n",
       "      <td>0.0</td>\n",
       "      <td>1.0</td>\n",
       "      <td>0.0</td>\n",
       "      <td>0.0</td>\n",
       "      <td>0.0</td>\n",
       "      <td>0.0</td>\n",
       "      <td>0.0</td>\n",
       "      <td>0.0</td>\n",
       "      <td>0.0</td>\n",
       "      <td>0.0</td>\n",
       "    </tr>\n",
       "    <tr>\n",
       "      <th>67</th>\n",
       "      <td>2.0</td>\n",
       "      <td>21.0</td>\n",
       "      <td>1.0</td>\n",
       "      <td>4.0</td>\n",
       "      <td>18.0</td>\n",
       "      <td>2.0</td>\n",
       "      <td>60.0</td>\n",
       "      <td>14.0</td>\n",
       "      <td>1.0</td>\n",
       "      <td>1.0</td>\n",
       "      <td>...</td>\n",
       "      <td>0.0</td>\n",
       "      <td>0.0</td>\n",
       "      <td>0.0</td>\n",
       "      <td>0.0</td>\n",
       "      <td>0.0</td>\n",
       "      <td>0.0</td>\n",
       "      <td>0.0</td>\n",
       "      <td>0.0</td>\n",
       "      <td>0.0</td>\n",
       "      <td>0.0</td>\n",
       "    </tr>\n",
       "    <tr>\n",
       "      <th>64</th>\n",
       "      <td>2.0</td>\n",
       "      <td>28.0</td>\n",
       "      <td>1.0</td>\n",
       "      <td>4.0</td>\n",
       "      <td>11.0</td>\n",
       "      <td>2.0</td>\n",
       "      <td>45.0</td>\n",
       "      <td>1.0</td>\n",
       "      <td>1.0</td>\n",
       "      <td>0.0</td>\n",
       "      <td>...</td>\n",
       "      <td>0.0</td>\n",
       "      <td>0.0</td>\n",
       "      <td>0.0</td>\n",
       "      <td>0.0</td>\n",
       "      <td>0.0</td>\n",
       "      <td>0.0</td>\n",
       "      <td>0.0</td>\n",
       "      <td>0.0</td>\n",
       "      <td>0.0</td>\n",
       "      <td>0.0</td>\n",
       "    </tr>\n",
       "    <tr>\n",
       "      <th>37</th>\n",
       "      <td>3.0</td>\n",
       "      <td>24.0</td>\n",
       "      <td>3.0</td>\n",
       "      <td>3.0</td>\n",
       "      <td>21.0</td>\n",
       "      <td>7.0</td>\n",
       "      <td>111.0</td>\n",
       "      <td>2.0</td>\n",
       "      <td>7.0</td>\n",
       "      <td>0.0</td>\n",
       "      <td>...</td>\n",
       "      <td>0.0</td>\n",
       "      <td>0.0</td>\n",
       "      <td>0.0</td>\n",
       "      <td>0.0</td>\n",
       "      <td>0.0</td>\n",
       "      <td>0.0</td>\n",
       "      <td>0.0</td>\n",
       "      <td>0.0</td>\n",
       "      <td>0.0</td>\n",
       "      <td>0.0</td>\n",
       "    </tr>\n",
       "    <tr>\n",
       "      <th>83</th>\n",
       "      <td>2.0</td>\n",
       "      <td>2.0</td>\n",
       "      <td>8.0</td>\n",
       "      <td>0.0</td>\n",
       "      <td>17.0</td>\n",
       "      <td>2.0</td>\n",
       "      <td>37.0</td>\n",
       "      <td>1.0</td>\n",
       "      <td>1.0</td>\n",
       "      <td>0.0</td>\n",
       "      <td>...</td>\n",
       "      <td>0.0</td>\n",
       "      <td>0.0</td>\n",
       "      <td>0.0</td>\n",
       "      <td>0.0</td>\n",
       "      <td>0.0</td>\n",
       "      <td>0.0</td>\n",
       "      <td>0.0</td>\n",
       "      <td>0.0</td>\n",
       "      <td>0.0</td>\n",
       "      <td>0.0</td>\n",
       "    </tr>\n",
       "    <tr>\n",
       "      <th>86</th>\n",
       "      <td>0.0</td>\n",
       "      <td>6.0</td>\n",
       "      <td>7.0</td>\n",
       "      <td>1.0</td>\n",
       "      <td>5.0</td>\n",
       "      <td>0.0</td>\n",
       "      <td>27.0</td>\n",
       "      <td>4.0</td>\n",
       "      <td>0.0</td>\n",
       "      <td>0.0</td>\n",
       "      <td>...</td>\n",
       "      <td>0.0</td>\n",
       "      <td>0.0</td>\n",
       "      <td>0.0</td>\n",
       "      <td>0.0</td>\n",
       "      <td>0.0</td>\n",
       "      <td>0.0</td>\n",
       "      <td>0.0</td>\n",
       "      <td>0.0</td>\n",
       "      <td>0.0</td>\n",
       "      <td>0.0</td>\n",
       "    </tr>\n",
       "    <tr>\n",
       "      <th>26</th>\n",
       "      <td>0.0</td>\n",
       "      <td>27.0</td>\n",
       "      <td>4.0</td>\n",
       "      <td>2.0</td>\n",
       "      <td>21.0</td>\n",
       "      <td>1.0</td>\n",
       "      <td>4.0</td>\n",
       "      <td>1.0</td>\n",
       "      <td>1.0</td>\n",
       "      <td>0.0</td>\n",
       "      <td>...</td>\n",
       "      <td>0.0</td>\n",
       "      <td>0.0</td>\n",
       "      <td>0.0</td>\n",
       "      <td>0.0</td>\n",
       "      <td>0.0</td>\n",
       "      <td>0.0</td>\n",
       "      <td>0.0</td>\n",
       "      <td>0.0</td>\n",
       "      <td>0.0</td>\n",
       "      <td>0.0</td>\n",
       "    </tr>\n",
       "    <tr>\n",
       "      <th>19</th>\n",
       "      <td>3.0</td>\n",
       "      <td>23.0</td>\n",
       "      <td>6.0</td>\n",
       "      <td>3.0</td>\n",
       "      <td>14.0</td>\n",
       "      <td>5.0</td>\n",
       "      <td>25.0</td>\n",
       "      <td>1.0</td>\n",
       "      <td>3.0</td>\n",
       "      <td>1.0</td>\n",
       "      <td>...</td>\n",
       "      <td>0.0</td>\n",
       "      <td>0.0</td>\n",
       "      <td>0.0</td>\n",
       "      <td>0.0</td>\n",
       "      <td>0.0</td>\n",
       "      <td>0.0</td>\n",
       "      <td>0.0</td>\n",
       "      <td>0.0</td>\n",
       "      <td>0.0</td>\n",
       "      <td>0.0</td>\n",
       "    </tr>\n",
       "    <tr>\n",
       "      <th>73</th>\n",
       "      <td>2.0</td>\n",
       "      <td>13.0</td>\n",
       "      <td>1.0</td>\n",
       "      <td>3.0</td>\n",
       "      <td>14.0</td>\n",
       "      <td>2.0</td>\n",
       "      <td>21.0</td>\n",
       "      <td>2.0</td>\n",
       "      <td>0.0</td>\n",
       "      <td>1.0</td>\n",
       "      <td>...</td>\n",
       "      <td>0.0</td>\n",
       "      <td>0.0</td>\n",
       "      <td>0.0</td>\n",
       "      <td>0.0</td>\n",
       "      <td>0.0</td>\n",
       "      <td>0.0</td>\n",
       "      <td>0.0</td>\n",
       "      <td>0.0</td>\n",
       "      <td>0.0</td>\n",
       "      <td>0.0</td>\n",
       "    </tr>\n",
       "    <tr>\n",
       "      <th>42</th>\n",
       "      <td>2.0</td>\n",
       "      <td>23.0</td>\n",
       "      <td>3.0</td>\n",
       "      <td>2.0</td>\n",
       "      <td>1.0</td>\n",
       "      <td>2.0</td>\n",
       "      <td>33.0</td>\n",
       "      <td>1.0</td>\n",
       "      <td>2.0</td>\n",
       "      <td>0.0</td>\n",
       "      <td>...</td>\n",
       "      <td>0.0</td>\n",
       "      <td>0.0</td>\n",
       "      <td>0.0</td>\n",
       "      <td>0.0</td>\n",
       "      <td>0.0</td>\n",
       "      <td>0.0</td>\n",
       "      <td>0.0</td>\n",
       "      <td>0.0</td>\n",
       "      <td>0.0</td>\n",
       "      <td>0.0</td>\n",
       "    </tr>\n",
       "  </tbody>\n",
       "</table>\n",
       "<p>16 rows × 193 columns</p>\n",
       "</div>"
      ],
      "text/plain": [
       "    size  created_at_day  created_at_month  created_at_weekday  \\\n",
       "8    2.0            25.0               8.0                 3.0   \n",
       "45   0.0            18.0               3.0                 4.0   \n",
       "15   1.0            19.0               7.0                 1.0   \n",
       "2    0.0            19.0               9.0                 0.0   \n",
       "57   1.0            24.0               2.0                 3.0   \n",
       "60   2.0            16.0               2.0                 2.0   \n",
       "81   0.0            15.0               9.0                 2.0   \n",
       "67   2.0            21.0               1.0                 4.0   \n",
       "64   2.0            28.0               1.0                 4.0   \n",
       "37   3.0            24.0               3.0                 3.0   \n",
       "83   2.0             2.0               8.0                 0.0   \n",
       "86   0.0             6.0               7.0                 1.0   \n",
       "26   0.0            27.0               4.0                 2.0   \n",
       "19   3.0            23.0               6.0                 3.0   \n",
       "73   2.0            13.0               1.0                 3.0   \n",
       "42   2.0            23.0               3.0                 2.0   \n",
       "\n",
       "    created_at_hour  changed_files_number  body_size  commits_number  \\\n",
       "8              19.0                   5.0        7.0             3.0   \n",
       "45             14.0                   1.0       48.0             1.0   \n",
       "15             17.0                   1.0        0.0             1.0   \n",
       "2              20.0                   1.0        6.0             2.0   \n",
       "57             19.0                   1.0        5.0             1.0   \n",
       "60             15.0                   6.0       17.0             1.0   \n",
       "81             20.0                   1.0       38.0             1.0   \n",
       "67             18.0                   2.0       60.0            14.0   \n",
       "64             11.0                   2.0       45.0             1.0   \n",
       "37             21.0                   7.0      111.0             2.0   \n",
       "83             17.0                   2.0       37.0             1.0   \n",
       "86              5.0                   0.0       27.0             4.0   \n",
       "26             21.0                   1.0        4.0             1.0   \n",
       "19             14.0                   5.0       25.0             1.0   \n",
       "73             14.0                   2.0       21.0             2.0   \n",
       "42              1.0                   2.0       33.0             1.0   \n",
       "\n",
       "    filetype_.md  filetype_.yaml  ...  title_wordcount_use  \\\n",
       "8            5.0             0.0  ...                  0.0   \n",
       "45           1.0             0.0  ...                  0.0   \n",
       "15           1.0             0.0  ...                  0.0   \n",
       "2            1.0             0.0  ...                  0.0   \n",
       "57           0.0             1.0  ...                  0.0   \n",
       "60           3.0             1.0  ...                  0.0   \n",
       "81           0.0             0.0  ...                  0.0   \n",
       "67           1.0             1.0  ...                  0.0   \n",
       "64           1.0             0.0  ...                  0.0   \n",
       "37           7.0             0.0  ...                  0.0   \n",
       "83           1.0             0.0  ...                  0.0   \n",
       "86           0.0             0.0  ...                  0.0   \n",
       "26           1.0             0.0  ...                  0.0   \n",
       "19           3.0             1.0  ...                  0.0   \n",
       "73           0.0             1.0  ...                  0.0   \n",
       "42           2.0             0.0  ...                  0.0   \n",
       "\n",
       "    title_wordcount_var  title_wordcount_via  title_wordcount_watercooler  \\\n",
       "8                   0.0                  0.0                          0.0   \n",
       "45                  0.0                  0.0                          0.0   \n",
       "15                  0.0                  0.0                          0.0   \n",
       "2                   0.0                  0.0                          0.0   \n",
       "57                  0.0                  0.0                          0.0   \n",
       "60                  0.0                  0.0                          0.0   \n",
       "81                  1.0                  0.0                          0.0   \n",
       "67                  0.0                  0.0                          0.0   \n",
       "64                  0.0                  0.0                          0.0   \n",
       "37                  0.0                  0.0                          0.0   \n",
       "83                  0.0                  0.0                          0.0   \n",
       "86                  0.0                  0.0                          0.0   \n",
       "26                  0.0                  0.0                          0.0   \n",
       "19                  0.0                  0.0                          0.0   \n",
       "73                  0.0                  0.0                          0.0   \n",
       "42                  0.0                  0.0                          0.0   \n",
       "\n",
       "    title_wordcount_website  title_wordcount_week  title_wordcount_weekly  \\\n",
       "8                       0.0                   0.0                     0.0   \n",
       "45                      0.0                   0.0                     0.0   \n",
       "15                      0.0                   0.0                     0.0   \n",
       "2                       0.0                   0.0                     0.0   \n",
       "57                      1.0                   0.0                     0.0   \n",
       "60                      0.0                   0.0                     0.0   \n",
       "81                      0.0                   0.0                     0.0   \n",
       "67                      0.0                   0.0                     0.0   \n",
       "64                      0.0                   0.0                     0.0   \n",
       "37                      0.0                   0.0                     0.0   \n",
       "83                      0.0                   0.0                     0.0   \n",
       "86                      0.0                   0.0                     0.0   \n",
       "26                      0.0                   0.0                     0.0   \n",
       "19                      0.0                   0.0                     0.0   \n",
       "73                      0.0                   0.0                     0.0   \n",
       "42                      0.0                   0.0                     0.0   \n",
       "\n",
       "    title_wordcount_word  title_wordcount_wording  title_wordcount_workload  \n",
       "8                    0.0                      0.0                       0.0  \n",
       "45                   0.0                      0.0                       0.0  \n",
       "15                   0.0                      0.0                       0.0  \n",
       "2                    0.0                      1.0                       0.0  \n",
       "57                   0.0                      0.0                       0.0  \n",
       "60                   0.0                      0.0                       1.0  \n",
       "81                   0.0                      0.0                       0.0  \n",
       "67                   0.0                      0.0                       0.0  \n",
       "64                   0.0                      0.0                       0.0  \n",
       "37                   0.0                      0.0                       0.0  \n",
       "83                   0.0                      0.0                       0.0  \n",
       "86                   0.0                      0.0                       0.0  \n",
       "26                   0.0                      0.0                       0.0  \n",
       "19                   0.0                      0.0                       0.0  \n",
       "73                   0.0                      0.0                       0.0  \n",
       "42                   0.0                      0.0                       0.0  \n",
       "\n",
       "[16 rows x 193 columns]"
      ]
     },
     "execution_count": 26,
     "metadata": {},
     "output_type": "execute_result"
    }
   ],
   "source": [
    "X_test"
   ]
  },
  {
   "cell_type": "code",
   "execution_count": 27,
   "id": "fbbbd016",
   "metadata": {
    "execution": {
     "iopub.execute_input": "2022-10-07T17:53:37.336761Z",
     "iopub.status.busy": "2022-10-07T17:53:37.335858Z",
     "iopub.status.idle": "2022-10-07T17:53:38.514641Z",
     "shell.execute_reply": "2022-10-07T17:53:38.513515Z"
    }
   },
   "outputs": [
    {
     "name": "stdout",
     "output_type": "stream",
     "text": [
      "200\n",
      "200\n"
     ]
    }
   ],
   "source": [
    "TEST_DATA_PATH = os.path.join(s3_input_data_path, ORG, REPO, \"test-data\")\n",
    "\n",
    "# upload X_test and y_test to S3 bucket for testing / running sanity check on the model inference service\n",
    "cc = CephCommunication(s3_endpoint_url, s3_access_key, s3_secret_key, s3_bucket)\n",
    "\n",
    "ret = cc.upload_to_ceph(X_test, TEST_DATA_PATH, \"X_test.parquet\")\n",
    "print(ret[\"ResponseMetadata\"][\"HTTPStatusCode\"])\n",
    "\n",
    "ret = cc.upload_to_ceph(y_test.to_frame(\"ttm_class\"), TEST_DATA_PATH, \"y_test.parquet\")\n",
    "print(ret[\"ResponseMetadata\"][\"HTTPStatusCode\"])"
   ]
  },
  {
   "cell_type": "code",
   "execution_count": 28,
   "id": "4ee74938",
   "metadata": {
    "execution": {
     "iopub.execute_input": "2022-10-07T17:53:38.519343Z",
     "iopub.status.busy": "2022-10-07T17:53:38.518738Z",
     "iopub.status.idle": "2022-10-07T17:53:38.523955Z",
     "shell.execute_reply": "2022-10-07T17:53:38.523135Z"
    }
   },
   "outputs": [],
   "source": [
    "# convert from pandas series to lists to avoid warnings during training\n",
    "y_train = y_train.to_list()\n",
    "y_test = y_test.to_list()"
   ]
  },
  {
   "cell_type": "markdown",
   "id": "98107599",
   "metadata": {},
   "source": [
    "## Scale data"
   ]
  },
  {
   "cell_type": "code",
   "execution_count": 29,
   "id": "47bb3149",
   "metadata": {
    "execution": {
     "iopub.execute_input": "2022-10-07T17:53:38.528154Z",
     "iopub.status.busy": "2022-10-07T17:53:38.527587Z",
     "iopub.status.idle": "2022-10-07T17:53:38.950490Z",
     "shell.execute_reply": "2022-10-07T17:53:38.949676Z"
    }
   },
   "outputs": [],
   "source": [
    "# lets apply a yeo johnson transform to try to make the data more gaussian\n",
    "scaler = PowerTransformer()\n",
    "\n",
    "X_train_scaled = scaler.fit_transform(X_train)\n",
    "X_test_scaled = scaler.transform(X_test)"
   ]
  },
  {
   "cell_type": "markdown",
   "id": "4d0dd02f",
   "metadata": {},
   "source": [
    "## Define Training and Evaluation Pipeline"
   ]
  },
  {
   "cell_type": "markdown",
   "id": "e7ab12e4",
   "metadata": {},
   "source": [
    "Here, we will define a function to train a given classifier on the training set and then evaluate it on the test set. "
   ]
  },
  {
   "cell_type": "code",
   "execution_count": 30,
   "id": "2cacd2c8",
   "metadata": {
    "execution": {
     "iopub.execute_input": "2022-10-07T17:53:38.956903Z",
     "iopub.status.busy": "2022-10-07T17:53:38.956256Z",
     "iopub.status.idle": "2022-10-07T17:53:38.965867Z",
     "shell.execute_reply": "2022-10-07T17:53:38.964868Z"
    }
   },
   "outputs": [],
   "source": [
    "def train_evaluate_classifier(clf, xtrain, ytrain, xtest, ytest):\n",
    "    # Train our classifier\n",
    "    clf.fit(xtrain, ytrain)\n",
    "\n",
    "    # Make predictions\n",
    "    preds = clf.predict(xtest)\n",
    "\n",
    "    # View classification report\n",
    "    print(classification_report(ytest, preds))\n",
    "\n",
    "    # Plot confusion matrix heatmap\n",
    "    plt.figure(figsize=(16, 12))\n",
    "    cf_matrix = confusion_matrix(ytest, preds)\n",
    "    group_counts = [\"{0:0.0f}\\n\".format(value) for value in cf_matrix.flatten()]\n",
    "    group_percentages = [\n",
    "        \"{0:.2%}\".format(value) for value in cf_matrix.flatten() / np.sum(cf_matrix)\n",
    "    ]\n",
    "    box_labels = [\n",
    "        f\"{v1}{v2}\".strip() for v1, v2 in zip(group_counts, group_percentages)\n",
    "    ]\n",
    "    box_labels = np.asarray(box_labels).reshape(cf_matrix.shape[0], cf_matrix.shape[1])\n",
    "\n",
    "    sns.heatmap(cf_matrix, cmap=\"OrRd\", annot=box_labels, fmt=\"\")\n",
    "    plt.xlabel(\"Predicted TTM Label\")\n",
    "    plt.ylabel(\"True TTM Label\")\n",
    "    plt.title(\"Confusion Matrix Heatmap\")"
   ]
  },
  {
   "cell_type": "markdown",
   "id": "8add6423",
   "metadata": {},
   "source": [
    "## Define Models and Parameters\n",
    "\n",
    "Next, we will define and initialize the classifiers that we will be exploring for the time-to-merge prediction task."
   ]
  },
  {
   "cell_type": "markdown",
   "id": "55c72681",
   "metadata": {},
   "source": [
    "### Gaussian Naive Bayes"
   ]
  },
  {
   "cell_type": "code",
   "execution_count": 31,
   "id": "e6d48ea1",
   "metadata": {
    "execution": {
     "iopub.execute_input": "2022-10-07T17:53:38.969435Z",
     "iopub.status.busy": "2022-10-07T17:53:38.969188Z",
     "iopub.status.idle": "2022-10-07T17:53:38.974057Z",
     "shell.execute_reply": "2022-10-07T17:53:38.973377Z"
    }
   },
   "outputs": [],
   "source": [
    "# Initialize classifier\n",
    "gnb = GaussianNB()"
   ]
  },
  {
   "cell_type": "markdown",
   "id": "804ae1e0",
   "metadata": {},
   "source": [
    "### SVM"
   ]
  },
  {
   "cell_type": "code",
   "execution_count": 32,
   "id": "6c4bfaa2",
   "metadata": {
    "execution": {
     "iopub.execute_input": "2022-10-07T17:53:38.977789Z",
     "iopub.status.busy": "2022-10-07T17:53:38.977525Z",
     "iopub.status.idle": "2022-10-07T17:53:38.981128Z",
     "shell.execute_reply": "2022-10-07T17:53:38.980347Z"
    }
   },
   "outputs": [],
   "source": [
    "# Initialize classifier\n",
    "svc = SVC(random_state=42)"
   ]
  },
  {
   "cell_type": "markdown",
   "id": "ed3b3017",
   "metadata": {},
   "source": [
    "### Random Forest"
   ]
  },
  {
   "cell_type": "code",
   "execution_count": 33,
   "id": "1e623025",
   "metadata": {
    "execution": {
     "iopub.execute_input": "2022-10-07T17:53:38.985022Z",
     "iopub.status.busy": "2022-10-07T17:53:38.984758Z",
     "iopub.status.idle": "2022-10-07T17:53:38.988474Z",
     "shell.execute_reply": "2022-10-07T17:53:38.987687Z"
    }
   },
   "outputs": [],
   "source": [
    "# Initialize classifier\n",
    "rf = RandomForestClassifier(\n",
    "    n_estimators=200,\n",
    "    max_features=0.75,\n",
    "    random_state=42,\n",
    "    n_jobs=-1,\n",
    ")"
   ]
  },
  {
   "cell_type": "markdown",
   "id": "7687a4e0",
   "metadata": {},
   "source": [
    "### XGBoost"
   ]
  },
  {
   "cell_type": "code",
   "execution_count": 34,
   "id": "d8eb71ce",
   "metadata": {
    "execution": {
     "iopub.execute_input": "2022-10-07T17:53:38.992249Z",
     "iopub.status.busy": "2022-10-07T17:53:38.992003Z",
     "iopub.status.idle": "2022-10-07T17:53:38.996387Z",
     "shell.execute_reply": "2022-10-07T17:53:38.995617Z"
    },
    "tags": []
   },
   "outputs": [],
   "source": [
    "# Initialize classifier\n",
    "xgbc = XGBClassifier(\n",
    "    n_estimators=125,\n",
    "    learning_rate=0.1,\n",
    "    random_state=42,\n",
    "    verbosity=1,\n",
    "    n_jobs=-1,\n",
    ")"
   ]
  },
  {
   "cell_type": "markdown",
   "id": "b57aa765",
   "metadata": {},
   "source": [
    "## Compare Model Results\n",
    "\n",
    "Finally, we will run the train all of the classifiers defined above and evaluate their performance. "
   ]
  },
  {
   "cell_type": "markdown",
   "id": "216dd1b2",
   "metadata": {},
   "source": [
    "### Train using all features\n",
    "\n",
    "First, lets train the classifiers using all the engineered features as input."
   ]
  },
  {
   "cell_type": "code",
   "execution_count": 35,
   "id": "e72772aa",
   "metadata": {
    "execution": {
     "iopub.execute_input": "2022-10-07T17:53:39.000649Z",
     "iopub.status.busy": "2022-10-07T17:53:39.000382Z",
     "iopub.status.idle": "2022-10-07T17:53:39.792097Z",
     "shell.execute_reply": "2022-10-07T17:53:39.791071Z"
    }
   },
   "outputs": [
    {
     "name": "stdout",
     "output_type": "stream",
     "text": [
      "              precision    recall  f1-score   support\n",
      "\n",
      "           0       0.00      0.00      0.00         1\n",
      "           1       0.50      0.50      0.50         2\n",
      "           2       0.00      0.00      0.00         2\n",
      "           3       0.00      0.00      0.00         1\n",
      "           4       0.00      0.00      0.00         1\n",
      "           5       0.25      1.00      0.40         1\n",
      "           6       0.00      0.00      0.00         1\n",
      "           7       1.00      1.00      1.00         2\n",
      "           8       0.00      0.00      0.00         4\n",
      "           9       0.00      0.00      0.00         1\n",
      "\n",
      "    accuracy                           0.25        16\n",
      "   macro avg       0.17      0.25      0.19        16\n",
      "weighted avg       0.20      0.25      0.21        16\n",
      "\n"
     ]
    },
    {
     "data": {
      "image/png": "[encoded data removed]",
      "text/plain": [
       "<Figure size 1600x1200 with 2 Axes>"
      ]
     },
     "metadata": {},
     "output_type": "display_data"
    }
   ],
   "source": [
    "train_evaluate_classifier(gnb, X_train_scaled, y_train, X_test_scaled, y_test)"
   ]
  },
  {
   "cell_type": "code",
   "execution_count": 36,
   "id": "c3f8cc61",
   "metadata": {
    "execution": {
     "iopub.execute_input": "2022-10-07T17:53:39.796381Z",
     "iopub.status.busy": "2022-10-07T17:53:39.795906Z",
     "iopub.status.idle": "2022-10-07T17:53:40.481417Z",
     "shell.execute_reply": "2022-10-07T17:53:40.480588Z"
    }
   },
   "outputs": [
    {
     "name": "stdout",
     "output_type": "stream",
     "text": [
      "              precision    recall  f1-score   support\n",
      "\n",
      "           0       0.00      0.00      0.00         1\n",
      "           1       0.00      0.00      0.00         2\n",
      "           2       0.00      0.00      0.00         2\n",
      "           3       0.00      0.00      0.00         1\n",
      "           4       0.00      0.00      0.00         1\n",
      "           5       0.00      0.00      0.00         1\n",
      "           6       0.00      0.00      0.00         1\n",
      "           7       0.00      0.00      0.00         2\n",
      "           8       0.00      0.00      0.00         4\n",
      "           9       0.08      1.00      0.15         1\n",
      "\n",
      "    accuracy                           0.06        16\n",
      "   macro avg       0.01      0.10      0.02        16\n",
      "weighted avg       0.01      0.06      0.01        16\n",
      "\n"
     ]
    },
    {
     "data": {
      "image/png": "[encoded data removed]",
      "text/plain": [
       "<Figure size 1600x1200 with 2 Axes>"
      ]
     },
     "metadata": {},
     "output_type": "display_data"
    }
   ],
   "source": [
    "train_evaluate_classifier(svc, X_train_scaled, y_train, X_test_scaled, y_test)"
   ]
  },
  {
   "cell_type": "code",
   "execution_count": 37,
   "id": "8b961727",
   "metadata": {
    "execution": {
     "iopub.execute_input": "2022-10-07T17:53:40.485345Z",
     "iopub.status.busy": "2022-10-07T17:53:40.485044Z",
     "iopub.status.idle": "2022-10-07T17:53:41.570849Z",
     "shell.execute_reply": "2022-10-07T17:53:41.569861Z"
    }
   },
   "outputs": [
    {
     "name": "stdout",
     "output_type": "stream",
     "text": [
      "              precision    recall  f1-score   support\n",
      "\n",
      "           0       0.00      0.00      0.00         1\n",
      "           1       0.50      0.50      0.50         2\n",
      "           2       0.00      0.00      0.00         2\n",
      "           3       0.00      0.00      0.00         1\n",
      "           4       0.00      0.00      0.00         1\n",
      "           5       0.25      1.00      0.40         1\n",
      "           6       0.33      1.00      0.50         1\n",
      "           7       0.50      0.50      0.50         2\n",
      "           8       0.00      0.00      0.00         4\n",
      "           9       0.00      0.00      0.00         1\n",
      "\n",
      "    accuracy                           0.25        16\n",
      "   macro avg       0.16      0.30      0.19        16\n",
      "weighted avg       0.16      0.25      0.18        16\n",
      "\n"
     ]
    },
    {
     "data": {
      "image/png": "[encoded data removed]",
      "text/plain": [
       "<Figure size 1600x1200 with 2 Axes>"
      ]
     },
     "metadata": {},
     "output_type": "display_data"
    }
   ],
   "source": [
    "train_evaluate_classifier(rf, X_train_scaled, y_train, X_test_scaled, y_test)"
   ]
  },
  {
   "cell_type": "code",
   "execution_count": 38,
   "id": "14249146",
   "metadata": {
    "execution": {
     "iopub.execute_input": "2022-10-07T17:53:41.575548Z",
     "iopub.status.busy": "2022-10-07T17:53:41.574958Z",
     "iopub.status.idle": "2022-10-07T17:53:42.992410Z",
     "shell.execute_reply": "2022-10-07T17:53:42.991522Z"
    }
   },
   "outputs": [
    {
     "name": "stdout",
     "output_type": "stream",
     "text": [
      "              precision    recall  f1-score   support\n",
      "\n",
      "           0       0.00      0.00      0.00         1\n",
      "           1       0.50      0.50      0.50         2\n",
      "           2       1.00      0.50      0.67         2\n",
      "           3       0.00      0.00      0.00         1\n",
      "           4       0.00      0.00      0.00         1\n",
      "           5       0.00      0.00      0.00         1\n",
      "           6       0.50      1.00      0.67         1\n",
      "           7       0.50      0.50      0.50         2\n",
      "           8       1.00      0.50      0.67         4\n",
      "           9       0.00      0.00      0.00         1\n",
      "\n",
      "    accuracy                           0.38        16\n",
      "   macro avg       0.35      0.30      0.30        16\n",
      "weighted avg       0.53      0.38      0.42        16\n",
      "\n"
     ]
    },
    {
     "data": {
      "image/png": "[encoded data removed]",
      "text/plain": [
       "<Figure size 1600x1200 with 2 Axes>"
      ]
     },
     "metadata": {},
     "output_type": "display_data"
    }
   ],
   "source": [
    "train_evaluate_classifier(xgbc, X_train_scaled, y_train, X_test_scaled, y_test)"
   ]
  },
  {
   "cell_type": "markdown",
   "id": "b40309a3",
   "metadata": {},
   "source": [
    "Note that for model deployment (which is the eventual goal), we will also need to include any scaler or preprocessor objects. This is because the input to the inference service will be raw unscaled data. We plan to address this issue by using `sklearn.Pipeline` object to package the preprocessor(s) and model as one \"combined\" model. \n",
    "\n",
    "In the step below, we create a copy of the random forest model (which usually performs the best) so that we can save it to S3 later on and use it for model deployment.\n",
    "\n",
    "From your explorations, if you wish to save another better performing model to the pipeline set `CHOSEN_MODEL` as one of rf, xgbc, svc or gnb"
   ]
  },
  {
   "cell_type": "code",
   "execution_count": 39,
   "id": "987a23d4-2e8d-4d4d-8e5c-f3f4230f4b12",
   "metadata": {
    "execution": {
     "iopub.execute_input": "2022-10-07T17:53:42.996943Z",
     "iopub.status.busy": "2022-10-07T17:53:42.996376Z",
     "iopub.status.idle": "2022-10-07T17:53:43.000758Z",
     "shell.execute_reply": "2022-10-07T17:53:42.999932Z"
    }
   },
   "outputs": [],
   "source": [
    "models = {\"rf\": rf, \"xgbc\": xgbc, \"svc\": svc, \"gnb\": gnb}"
   ]
  },
  {
   "cell_type": "code",
   "execution_count": 40,
   "id": "647eb700",
   "metadata": {
    "execution": {
     "iopub.execute_input": "2022-10-07T17:53:43.005209Z",
     "iopub.status.busy": "2022-10-07T17:53:43.004401Z",
     "iopub.status.idle": "2022-10-07T17:53:43.031602Z",
     "shell.execute_reply": "2022-10-07T17:53:43.030732Z"
    }
   },
   "outputs": [],
   "source": [
    "# create a clone (create a copy of the object with the learned weights)\n",
    "selected_model = deepcopy(models[CHOSEN_MODEL])"
   ]
  },
  {
   "cell_type": "code",
   "execution_count": 41,
   "id": "2d739cb2",
   "metadata": {
    "execution": {
     "iopub.execute_input": "2022-10-07T17:53:43.036174Z",
     "iopub.status.busy": "2022-10-07T17:53:43.035573Z",
     "iopub.status.idle": "2022-10-07T17:53:43.087264Z",
     "shell.execute_reply": "2022-10-07T17:53:43.086416Z"
    }
   },
   "outputs": [
    {
     "name": "stdout",
     "output_type": "stream",
     "text": [
      "              precision    recall  f1-score   support\n",
      "\n",
      "           0       0.00      0.00      0.00         1\n",
      "           1       0.50      0.50      0.50         2\n",
      "           2       0.00      0.00      0.00         2\n",
      "           3       0.00      0.00      0.00         1\n",
      "           4       0.00      0.00      0.00         1\n",
      "           5       0.25      1.00      0.40         1\n",
      "           6       0.33      1.00      0.50         1\n",
      "           7       0.50      0.50      0.50         2\n",
      "           8       0.00      0.00      0.00         4\n",
      "           9       0.00      0.00      0.00         1\n",
      "\n",
      "    accuracy                           0.25        16\n",
      "   macro avg       0.16      0.30      0.19        16\n",
      "weighted avg       0.16      0.25      0.18        16\n",
      "\n"
     ]
    }
   ],
   "source": [
    "# sanity check\n",
    "print(classification_report(y_test, selected_model.predict(X_test_scaled)))"
   ]
  },
  {
   "cell_type": "markdown",
   "id": "f213965f",
   "metadata": {},
   "source": [
    "### OPTIONAL: Feature Pruning\n",
    "\n",
    "In the previous notebook we performed some feature engineering and pruned the number of features down. However, it might be possible that further pruning the features based on the importances given to them by the models yields more generalizable and accurate models. So in this section, we will explore using Recursive Feature Elimination (RFE) to rank the features in terms of their importance, and recursively select the best subsets to train our models with."
   ]
  },
  {
   "cell_type": "code",
   "execution_count": 42,
   "id": "2aa7c0e4",
   "metadata": {
    "execution": {
     "iopub.execute_input": "2022-10-07T17:53:43.091494Z",
     "iopub.status.busy": "2022-10-07T17:53:43.091196Z",
     "iopub.status.idle": "2022-10-07T17:54:06.653967Z",
     "shell.execute_reply": "2022-10-07T17:54:06.653101Z"
    },
    "tags": []
   },
   "outputs": [],
   "source": [
    "# use the xgboost classifier as the base estimator since it had the highest f1\n",
    "selector = RFE(xgbc, n_features_to_select=20, step=5)\n",
    "selector = selector.fit(X_train_scaled, y_train)"
   ]
  },
  {
   "cell_type": "code",
   "execution_count": 43,
   "id": "bccb9105",
   "metadata": {
    "execution": {
     "iopub.execute_input": "2022-10-07T17:54:06.658224Z",
     "iopub.status.busy": "2022-10-07T17:54:06.657910Z",
     "iopub.status.idle": "2022-10-07T17:54:06.663054Z",
     "shell.execute_reply": "2022-10-07T17:54:06.662321Z"
    }
   },
   "outputs": [],
   "source": [
    "# No of top features to select\n",
    "top = 20"
   ]
  },
  {
   "cell_type": "code",
   "execution_count": 44,
   "id": "d450fa53",
   "metadata": {
    "execution": {
     "iopub.execute_input": "2022-10-07T17:54:06.666754Z",
     "iopub.status.busy": "2022-10-07T17:54:06.666471Z",
     "iopub.status.idle": "2022-10-07T17:54:06.672320Z",
     "shell.execute_reply": "2022-10-07T17:54:06.671520Z"
    },
    "tags": []
   },
   "outputs": [
    {
     "data": {
      "text/plain": [
       "array([ 1,  1,  1,  1,  1,  1,  1,  1,  1,  1,  2,  1,  3,  3,  1,  3,  4,\n",
       "        3,  5,  6,  6,  7,  7,  1,  7,  8,  8,  9,  9, 10, 10, 10, 11, 11,\n",
       "       12, 12, 12, 13, 13, 13, 13, 14, 12, 15, 11, 11, 16, 10, 17,  9,  9,\n",
       "        1,  8, 19,  8, 14, 20, 14, 21, 14, 18, 22,  1, 23, 18, 18, 24, 15,\n",
       "       25, 15, 16, 26, 16, 27, 16, 17, 28, 17, 29, 17, 17, 30, 19, 31, 19,\n",
       "       20, 32, 20, 33, 20, 21, 34, 21, 35, 21, 22, 36, 22, 23, 23, 23, 24,\n",
       "       28, 28, 29, 29, 30,  1, 30,  1, 31, 31, 32, 32, 32, 33, 34, 34, 34,\n",
       "       35, 35,  2, 36, 36, 36, 36, 35, 35, 34, 33, 33, 33, 32, 31, 31, 30,\n",
       "       30, 29, 29, 28, 28, 24, 24, 25, 25, 26, 26, 26, 27, 27, 27, 27, 26,\n",
       "       25, 25, 24, 23, 22, 22, 21,  1, 20,  1, 19, 19, 16, 15, 15, 14,  3,\n",
       "        6,  4,  4,  4,  4,  5,  5,  5,  5, 18,  1,  2,  6,  6,  7,  8,  9,\n",
       "       10, 11, 12, 13,  7, 18])"
      ]
     },
     "execution_count": 44,
     "metadata": {},
     "output_type": "execute_result"
    }
   ],
   "source": [
    "ranks = selector.ranking_\n",
    "ranks"
   ]
  },
  {
   "cell_type": "code",
   "execution_count": 45,
   "id": "2764786d",
   "metadata": {
    "execution": {
     "iopub.execute_input": "2022-10-07T17:54:06.677211Z",
     "iopub.status.busy": "2022-10-07T17:54:06.676940Z",
     "iopub.status.idle": "2022-10-07T17:54:06.682922Z",
     "shell.execute_reply": "2022-10-07T17:54:06.682113Z"
    },
    "tags": []
   },
   "outputs": [
    {
     "data": {
      "text/plain": [
       "array(['size', 'created_at_day', 'created_at_month', 'created_at_weekday',\n",
       "       'created_at_hour', 'changed_files_number', 'body_size',\n",
       "       'commits_number', 'filetype_.md', 'filetype_.yaml',\n",
       "       'filetype_.tmpl', 'filetype_OWNERS', 'filetype_OWNERS_ALIASES',\n",
       "       'filetype_.yml', 'filetype_.ipynb', 'filetype_.png',\n",
       "       'filetype_.txt', 'filetype_.json', 'title_wordcount_19_meeting',\n",
       "       'title_wordcount_26_meeting', 'title_wordcount_@margarethaley',\n",
       "       'title_wordcount_action', 'title_wordcount_actions',\n",
       "       'title_wordcount_add', 'title_wordcount_added',\n",
       "       'title_wordcount_adding', 'title_wordcount_addition',\n",
       "       'title_wordcount_airgapped', 'title_wordcount_analysis',\n",
       "       'title_wordcount_approach', 'title_wordcount_around',\n",
       "       'title_wordcount_bad', 'title_wordcount_bi',\n",
       "       'title_wordcount_build', 'title_wordcount_calendar',\n",
       "       'title_wordcount_carlosgimeno', 'title_wordcount_catalog',\n",
       "       'title_wordcount_change', 'title_wordcount_changes',\n",
       "       'title_wordcount_charter', 'title_wordcount_checklist',\n",
       "       'title_wordcount_chore', 'title_wordcount_clarity',\n",
       "       'title_wordcount_clean', 'title_wordcount_cluster',\n",
       "       'title_wordcount_complete', 'title_wordcount_completion',\n",
       "       'title_wordcount_context', 'title_wordcount_contrib_x',\n",
       "       'title_wordcount_contributors', 'title_wordcount_corrections',\n",
       "       'title_wordcount_create', 'title_wordcount_created',\n",
       "       'title_wordcount_creation', 'title_wordcount_curator',\n",
       "       'title_wordcount_data', 'title_wordcount_definition',\n",
       "       'title_wordcount_dependencies', 'title_wordcount_details',\n",
       "       'title_wordcount_dir', 'title_wordcount_directory',\n",
       "       'title_wordcount_discussion', 'title_wordcount_docs',\n",
       "       'title_wordcount_document', 'title_wordcount_ds',\n",
       "       'title_wordcount_dynamics', 'title_wordcount_evolving',\n",
       "       'title_wordcount_existing', 'title_wordcount_faq',\n",
       "       'title_wordcount_feat', 'title_wordcount_file',\n",
       "       'title_wordcount_first', 'title_wordcount_fix',\n",
       "       'title_wordcount_fixed', 'title_wordcount_fixes',\n",
       "       'title_wordcount_fixing', 'title_wordcount_follow',\n",
       "       'title_wordcount_forgotten', 'title_wordcount_forming',\n",
       "       'title_wordcount_fybrik', 'title_wordcount_gap',\n",
       "       'title_wordcount_generator', 'title_wordcount_git',\n",
       "       'title_wordcount_gitaction', 'title_wordcount_github',\n",
       "       'title_wordcount_give', 'title_wordcount_governance',\n",
       "       'title_wordcount_group', 'title_wordcount_groups',\n",
       "       'title_wordcount_guide', 'title_wordcount_hacking',\n",
       "       'title_wordcount_highlighting', 'title_wordcount_hours',\n",
       "       'title_wordcount_inclusive', 'title_wordcount_interactions',\n",
       "       'title_wordcount_internal_contributors', 'title_wordcount_jbook',\n",
       "       'title_wordcount_july', 'title_wordcount_jupyterbook',\n",
       "       'title_wordcount_kickoff', 'title_wordcount_knikolla',\n",
       "       'title_wordcount_language', 'title_wordcount_legal',\n",
       "       'title_wordcount_limit', 'title_wordcount_link',\n",
       "       'title_wordcount_linking', 'title_wordcount_longer',\n",
       "       'title_wordcount_md', 'title_wordcount_media',\n",
       "       'title_wordcount_meeting', 'title_wordcount_meetup',\n",
       "       'title_wordcount_merge', 'title_wordcount_messages',\n",
       "       'title_wordcount_metrics', 'title_wordcount_minor',\n",
       "       'title_wordcount_must', 'title_wordcount_naming',\n",
       "       'title_wordcount_nb', 'title_wordcount_needed',\n",
       "       'title_wordcount_new', 'title_wordcount_nodes',\n",
       "       'title_wordcount_notes', 'title_wordcount_odh',\n",
       "       'title_wordcount_office', 'title_wordcount_officially',\n",
       "       'title_wordcount_open', 'title_wordcount_opened',\n",
       "       'title_wordcount_opening', 'title_wordcount_opensourcing',\n",
       "       'title_wordcount_operate', 'title_wordcount_operations',\n",
       "       'title_wordcount_opf', 'title_wordcount_ops',\n",
       "       'title_wordcount_osc', 'title_wordcount_osg',\n",
       "       'title_wordcount_overview', 'title_wordcount_path',\n",
       "       'title_wordcount_pebbles', 'title_wordcount_persona',\n",
       "       'title_wordcount_personas', 'title_wordcount_perspective',\n",
       "       'title_wordcount_planning', 'title_wordcount_pr',\n",
       "       'title_wordcount_previous', 'title_wordcount_project',\n",
       "       'title_wordcount_proposal', 'title_wordcount_prowjobs',\n",
       "       'title_wordcount_pub', 'title_wordcount_quaid',\n",
       "       'title_wordcount_readme', 'title_wordcount_reason',\n",
       "       'title_wordcount_reflecting', 'title_wordcount_rename',\n",
       "       'title_wordcount_repost', 'title_wordcount_requirements',\n",
       "       'title_wordcount_resource', 'title_wordcount_revert',\n",
       "       'title_wordcount_reviewer', 'title_wordcount_running',\n",
       "       'title_wordcount_science', 'title_wordcount_service',\n",
       "       'title_wordcount_services', 'title_wordcount_sig',\n",
       "       'title_wordcount_slack', 'title_wordcount_social',\n",
       "       'title_wordcount_source', 'title_wordcount_stage',\n",
       "       'title_wordcount_starter', 'title_wordcount_status',\n",
       "       'title_wordcount_strawpond', 'title_wordcount_structure',\n",
       "       'title_wordcount_sub', 'title_wordcount_subprojects',\n",
       "       'title_wordcount_template', 'title_wordcount_test',\n",
       "       'title_wordcount_tests', 'title_wordcount_throwing',\n",
       "       'title_wordcount_transfer', 'title_wordcount_typo',\n",
       "       'title_wordcount_typos', 'title_wordcount_update',\n",
       "       'title_wordcount_updated', 'title_wordcount_updates',\n",
       "       'title_wordcount_use', 'title_wordcount_var',\n",
       "       'title_wordcount_via', 'title_wordcount_watercooler',\n",
       "       'title_wordcount_website', 'title_wordcount_week',\n",
       "       'title_wordcount_weekly', 'title_wordcount_word',\n",
       "       'title_wordcount_wording', 'title_wordcount_workload'],\n",
       "      dtype=object)"
      ]
     },
     "execution_count": 45,
     "metadata": {},
     "output_type": "execute_result"
    }
   ],
   "source": [
    "cols = X_train.columns.to_numpy()\n",
    "cols"
   ]
  },
  {
   "cell_type": "code",
   "execution_count": 46,
   "id": "6e9fdc9a",
   "metadata": {
    "execution": {
     "iopub.execute_input": "2022-10-07T17:54:06.687737Z",
     "iopub.status.busy": "2022-10-07T17:54:06.687455Z",
     "iopub.status.idle": "2022-10-07T17:54:06.693236Z",
     "shell.execute_reply": "2022-10-07T17:54:06.692453Z"
    },
    "tags": []
   },
   "outputs": [
    {
     "data": {
      "text/plain": [
       "array([  0, 160, 162, 180,  62,  51, 109,  23,  14,  11, 107,   9,   4,\n",
       "         3,   5,   2,   1,   7,   6,   8,  10, 121, 181, 169,  15,  13,\n",
       "        17,  12,  16, 171, 172, 173, 174, 178,  18, 175, 176, 177, 183,\n",
       "       182,  19,  20, 170,  24,  22, 184,  21, 191, 185,  52,  54,  25,\n",
       "        26,  49,  50,  28,  27, 186,  31,  30,  29,  47, 187, 188,  45,\n",
       "        44,  32,  33,  42,  36,  34, 189,  35,  38, 190,  40,  39,  37,\n",
       "       168,  59,  55,  57,  41, 166,  67,  43, 167,  69, 165,  74,  72,\n",
       "        70,  46,  79,  77,  75,  80,  48, 179, 192,  60,  64,  65, 163,\n",
       "        53,  84, 164,  82,  56, 161,  89,  87,  85,  92,  90, 159,  58,\n",
       "        94,  97, 157,  61,  95, 158, 156,  99, 100,  63,  98,  66, 155,\n",
       "       101, 142, 141,  68, 154, 153, 144, 143,  71, 152, 147, 145, 146,\n",
       "        73, 148, 149, 150, 151, 139,  76, 140, 103, 102,  78, 104, 105,\n",
       "       138, 137, 108,  81, 136, 135, 106, 111, 110,  83, 134, 133, 113,\n",
       "       132, 114,  86, 112, 115, 130, 131, 129,  88, 117, 118,  91, 128,\n",
       "       116, 120,  93, 126, 127, 119, 122, 123, 124, 125,  96])"
      ]
     },
     "execution_count": 46,
     "metadata": {},
     "output_type": "execute_result"
    }
   ],
   "source": [
    "indices_by_ranks = ranks.argsort()\n",
    "indices_by_ranks"
   ]
  },
  {
   "cell_type": "code",
   "execution_count": 47,
   "id": "ae16001c",
   "metadata": {
    "execution": {
     "iopub.execute_input": "2022-10-07T17:54:06.697280Z",
     "iopub.status.busy": "2022-10-07T17:54:06.697012Z",
     "iopub.status.idle": "2022-10-07T17:54:06.702398Z",
     "shell.execute_reply": "2022-10-07T17:54:06.701604Z"
    },
    "tags": []
   },
   "outputs": [
    {
     "data": {
      "text/plain": [
       "array([ 1,  1,  1,  1,  1,  1,  1,  1,  1,  1,  1,  1,  1,  1,  1,  1,  1,\n",
       "        1,  1,  1,  2,  2,  2,  3,  3,  3,  3,  3,  4,  4,  4,  4,  4,  5,\n",
       "        5,  5,  5,  5,  6,  6,  6,  6,  6,  7,  7,  7,  7,  7,  8,  8,  8,\n",
       "        8,  8,  9,  9,  9,  9,  9, 10, 10, 10, 10, 10, 11, 11, 11, 11, 11,\n",
       "       12, 12, 12, 12, 12, 13, 13, 13, 13, 13, 14, 14, 14, 14, 14, 15, 15,\n",
       "       15, 15, 15, 16, 16, 16, 16, 16, 17, 17, 17, 17, 17, 18, 18, 18, 18,\n",
       "       18, 19, 19, 19, 19, 19, 20, 20, 20, 20, 20, 21, 21, 21, 21, 21, 22,\n",
       "       22, 22, 22, 22, 23, 23, 23, 23, 23, 24, 24, 24, 24, 24, 25, 25, 25,\n",
       "       25, 25, 26, 26, 26, 26, 26, 27, 27, 27, 27, 27, 28, 28, 28, 28, 28,\n",
       "       29, 29, 29, 29, 29, 30, 30, 30, 30, 30, 31, 31, 31, 31, 31, 32, 32,\n",
       "       32, 32, 32, 33, 33, 33, 33, 33, 34, 34, 34, 34, 34, 35, 35, 35, 35,\n",
       "       35, 36, 36, 36, 36, 36])"
      ]
     },
     "execution_count": 47,
     "metadata": {},
     "output_type": "execute_result"
    }
   ],
   "source": [
    "sorted_ranks = ranks[indices_by_ranks]\n",
    "sorted_ranks"
   ]
  },
  {
   "cell_type": "code",
   "execution_count": 48,
   "id": "d45f8735",
   "metadata": {
    "execution": {
     "iopub.execute_input": "2022-10-07T17:54:06.706987Z",
     "iopub.status.busy": "2022-10-07T17:54:06.706726Z",
     "iopub.status.idle": "2022-10-07T17:54:06.715167Z",
     "shell.execute_reply": "2022-10-07T17:54:06.714510Z"
    },
    "tags": []
   },
   "outputs": [
    {
     "data": {
      "text/plain": [
       "array(['size', 'title_wordcount_service', 'title_wordcount_sig',\n",
       "       'title_wordcount_update', 'title_wordcount_docs',\n",
       "       'title_wordcount_create', 'title_wordcount_meeting',\n",
       "       'title_wordcount_add', 'filetype_.ipynb', 'filetype_OWNERS',\n",
       "       'title_wordcount_md', 'filetype_.yaml', 'created_at_hour',\n",
       "       'created_at_weekday', 'changed_files_number', 'created_at_month',\n",
       "       'created_at_day', 'commits_number', 'body_size', 'filetype_.md'],\n",
       "      dtype=object)"
      ]
     },
     "execution_count": 48,
     "metadata": {},
     "output_type": "execute_result"
    }
   ],
   "source": [
    "cols_by_rank = cols[indices_by_ranks]\n",
    "cols_by_rank[:top]"
   ]
  },
  {
   "cell_type": "code",
   "execution_count": 49,
   "id": "5b8e621a",
   "metadata": {
    "execution": {
     "iopub.execute_input": "2022-10-07T17:54:06.719077Z",
     "iopub.status.busy": "2022-10-07T17:54:06.718591Z",
     "iopub.status.idle": "2022-10-07T17:54:06.723547Z",
     "shell.execute_reply": "2022-10-07T17:54:06.722901Z"
    }
   },
   "outputs": [],
   "source": [
    "# prune the training set\n",
    "X_train_scaled_pruned = X_train_scaled[:, selector.support_]\n",
    "X_test_scaled_pruned = X_test_scaled[:, selector.support_]"
   ]
  },
  {
   "cell_type": "code",
   "execution_count": 50,
   "id": "88f2fcc6",
   "metadata": {
    "execution": {
     "iopub.execute_input": "2022-10-07T17:54:06.727048Z",
     "iopub.status.busy": "2022-10-07T17:54:06.726797Z",
     "iopub.status.idle": "2022-10-07T17:54:07.407280Z",
     "shell.execute_reply": "2022-10-07T17:54:07.406223Z"
    }
   },
   "outputs": [
    {
     "name": "stdout",
     "output_type": "stream",
     "text": [
      "              precision    recall  f1-score   support\n",
      "\n",
      "           0       0.00      0.00      0.00         1\n",
      "           1       0.50      0.50      0.50         2\n",
      "           2       0.00      0.00      0.00         2\n",
      "           3       0.00      0.00      0.00         1\n",
      "           4       0.00      0.00      0.00         1\n",
      "           5       0.00      0.00      0.00         1\n",
      "           6       0.00      0.00      0.00         1\n",
      "           7       1.00      0.50      0.67         2\n",
      "           8       0.00      0.00      0.00         4\n",
      "           9       0.00      0.00      0.00         1\n",
      "\n",
      "    accuracy                           0.12        16\n",
      "   macro avg       0.15      0.10      0.12        16\n",
      "weighted avg       0.19      0.12      0.15        16\n",
      "\n"
     ]
    },
    {
     "data": {
      "image/png": "[encoded data removed]",
      "text/plain": [
       "<Figure size 1600x1200 with 2 Axes>"
      ]
     },
     "metadata": {},
     "output_type": "display_data"
    }
   ],
   "source": [
    "train_evaluate_classifier(\n",
    "    gnb, X_train_scaled_pruned, y_train, X_test_scaled_pruned, y_test\n",
    ")"
   ]
  },
  {
   "cell_type": "code",
   "execution_count": 51,
   "id": "9909dc6d",
   "metadata": {
    "execution": {
     "iopub.execute_input": "2022-10-07T17:54:07.411612Z",
     "iopub.status.busy": "2022-10-07T17:54:07.411215Z",
     "iopub.status.idle": "2022-10-07T17:54:08.208344Z",
     "shell.execute_reply": "2022-10-07T17:54:08.207015Z"
    }
   },
   "outputs": [
    {
     "name": "stdout",
     "output_type": "stream",
     "text": [
      "              precision    recall  f1-score   support\n",
      "\n",
      "           0       1.00      1.00      1.00         1\n",
      "           1       0.50      0.50      0.50         2\n",
      "           2       0.00      0.00      0.00         2\n",
      "           3       0.00      0.00      0.00         1\n",
      "           4       0.00      0.00      0.00         1\n",
      "           5       0.00      0.00      0.00         1\n",
      "           6       0.00      0.00      0.00         1\n",
      "           7       0.00      0.00      0.00         2\n",
      "           8       0.00      0.00      0.00         4\n",
      "           9       0.00      0.00      0.00         1\n",
      "\n",
      "    accuracy                           0.12        16\n",
      "   macro avg       0.15      0.15      0.15        16\n",
      "weighted avg       0.12      0.12      0.12        16\n",
      "\n"
     ]
    },
    {
     "data": {
      "image/png": "[encoded data removed]",
      "text/plain": [
       "<Figure size 1600x1200 with 2 Axes>"
      ]
     },
     "metadata": {},
     "output_type": "display_data"
    }
   ],
   "source": [
    "train_evaluate_classifier(\n",
    "    svc, X_train_scaled_pruned, y_train, X_test_scaled_pruned, y_test\n",
    ")"
   ]
  },
  {
   "cell_type": "code",
   "execution_count": 52,
   "id": "7ac17ff6",
   "metadata": {
    "execution": {
     "iopub.execute_input": "2022-10-07T17:54:08.213081Z",
     "iopub.status.busy": "2022-10-07T17:54:08.212373Z",
     "iopub.status.idle": "2022-10-07T17:54:09.268184Z",
     "shell.execute_reply": "2022-10-07T17:54:09.267084Z"
    }
   },
   "outputs": [
    {
     "name": "stdout",
     "output_type": "stream",
     "text": [
      "              precision    recall  f1-score   support\n",
      "\n",
      "           0       0.00      0.00      0.00         1\n",
      "           1       0.50      0.50      0.50         2\n",
      "           2       0.00      0.00      0.00         2\n",
      "           3       0.00      0.00      0.00         1\n",
      "           4       0.00      0.00      0.00         1\n",
      "           5       0.25      1.00      0.40         1\n",
      "           6       0.50      1.00      0.67         1\n",
      "           7       0.33      0.50      0.40         2\n",
      "           8       1.00      0.25      0.40         4\n",
      "           9       0.00      0.00      0.00         1\n",
      "\n",
      "    accuracy                           0.31        16\n",
      "   macro avg       0.26      0.33      0.24        16\n",
      "weighted avg       0.40      0.31      0.28        16\n",
      "\n"
     ]
    },
    {
     "data": {
      "image/png": "[encoded data removed]",
      "text/plain": [
       "<Figure size 1600x1200 with 2 Axes>"
      ]
     },
     "metadata": {},
     "output_type": "display_data"
    }
   ],
   "source": [
    "train_evaluate_classifier(\n",
    "    rf, X_train_scaled_pruned, y_train, X_test_scaled_pruned, y_test\n",
    ")"
   ]
  },
  {
   "cell_type": "code",
   "execution_count": 53,
   "id": "fd087dc9",
   "metadata": {
    "execution": {
     "iopub.execute_input": "2022-10-07T17:54:09.272297Z",
     "iopub.status.busy": "2022-10-07T17:54:09.271998Z",
     "iopub.status.idle": "2022-10-07T17:54:10.507077Z",
     "shell.execute_reply": "2022-10-07T17:54:10.506225Z"
    }
   },
   "outputs": [
    {
     "name": "stdout",
     "output_type": "stream",
     "text": [
      "              precision    recall  f1-score   support\n",
      "\n",
      "           0       0.00      0.00      0.00         1\n",
      "           1       0.50      0.50      0.50         2\n",
      "           2       1.00      0.50      0.67         2\n",
      "           3       0.00      0.00      0.00         1\n",
      "           4       0.00      0.00      0.00         1\n",
      "           5       0.00      0.00      0.00         1\n",
      "           6       0.50      1.00      0.67         1\n",
      "           7       0.50      0.50      0.50         2\n",
      "           8       1.00      0.50      0.67         4\n",
      "           9       0.00      0.00      0.00         1\n",
      "\n",
      "    accuracy                           0.38        16\n",
      "   macro avg       0.35      0.30      0.30        16\n",
      "weighted avg       0.53      0.38      0.42        16\n",
      "\n"
     ]
    },
    {
     "data": {
      "image/png": "[encoded data removed]",
      "text/plain": [
       "<Figure size 1600x1200 with 2 Axes>"
      ]
     },
     "metadata": {},
     "output_type": "display_data"
    }
   ],
   "source": [
    "train_evaluate_classifier(\n",
    "    xgbc, X_train_scaled_pruned, y_train, X_test_scaled_pruned, y_test\n",
    ")"
   ]
  },
  {
   "cell_type": "markdown",
   "id": "7741b21e",
   "metadata": {},
   "source": [
    "## Create sklearn Pipeline"
   ]
  },
  {
   "cell_type": "markdown",
   "id": "20053832",
   "metadata": {},
   "source": [
    "Here, we will create an sklearn pipeline consisting of 2 steps, scaling of the input features and the classifier itself. We will then save this Pipeline as a `model.joblib` file on S3 for serving the model pipeline using the Seldon Sklearn Server."
   ]
  },
  {
   "cell_type": "code",
   "execution_count": 54,
   "id": "1c581342",
   "metadata": {
    "execution": {
     "iopub.execute_input": "2022-10-07T17:54:10.511832Z",
     "iopub.status.busy": "2022-10-07T17:54:10.511216Z",
     "iopub.status.idle": "2022-10-07T17:54:10.517334Z",
     "shell.execute_reply": "2022-10-07T17:54:10.516565Z"
    }
   },
   "outputs": [],
   "source": [
    "pipe = Pipeline(\n",
    "    steps=[\n",
    "        (\"extract_features\", raw_data_processor),\n",
    "        (\"scale\", scaler),\n",
    "        (\"rf\", selected_model),\n",
    "    ]\n",
    ")"
   ]
  },
  {
   "cell_type": "markdown",
   "id": "74e1bf4b",
   "metadata": {},
   "source": [
    "## Write Model to S3"
   ]
  },
  {
   "cell_type": "code",
   "execution_count": 55,
   "id": "8fb0ba41",
   "metadata": {
    "execution": {
     "iopub.execute_input": "2022-10-07T17:54:10.521515Z",
     "iopub.status.busy": "2022-10-07T17:54:10.520877Z",
     "iopub.status.idle": "2022-10-07T17:54:11.395718Z",
     "shell.execute_reply": "2022-10-07T17:54:11.394371Z"
    },
    "tags": []
   },
   "outputs": [],
   "source": [
    "MODEL_KEY = os.path.join(s3_input_data_path, ORG, REPO, \"ttm-model\")\n",
    "MODEL_FILENAME = \"model.joblib\"\n",
    "\n",
    "s3_resource = boto3.resource(\n",
    "    \"s3\",\n",
    "    endpoint_url=s3_endpoint_url,\n",
    "    aws_access_key_id=s3_access_key,\n",
    "    aws_secret_access_key=s3_secret_key,\n",
    ")\n",
    "\n",
    "with tempfile.TemporaryFile() as fp:\n",
    "    joblib.dump(pipe, fp)\n",
    "    fp.seek(0)\n",
    "    s3_obj = s3_resource.Object(s3_bucket, f\"{MODEL_KEY}/{MODEL_FILENAME}\")\n",
    "    s3_obj.put(Body=fp.read())"
   ]
  },
  {
   "cell_type": "code",
   "execution_count": 56,
   "id": "9392bb4d",
   "metadata": {
    "execution": {
     "iopub.execute_input": "2022-10-07T17:54:11.402073Z",
     "iopub.status.busy": "2022-10-07T17:54:11.401494Z",
     "iopub.status.idle": "2022-10-07T17:54:12.004621Z",
     "shell.execute_reply": "2022-10-07T17:54:12.003460Z"
    }
   },
   "outputs": [
    {
     "data": {
      "text/html": [
       "<style>#sk-container-id-1 {color: black;background-color: white;}#sk-container-id-1 pre{padding: 0;}#sk-container-id-1 div.sk-toggleable {background-color: white;}#sk-container-id-1 label.sk-toggleable__label {cursor: pointer;display: block;width: 100%;margin-bottom: 0;padding: 0.3em;box-sizing: border-box;text-align: center;}#sk-container-id-1 label.sk-toggleable__label-arrow:before {content: \"▸\";float: left;margin-right: 0.25em;color: #696969;}#sk-container-id-1 label.sk-toggleable__label-arrow:hover:before {color: black;}#sk-container-id-1 div.sk-estimator:hover label.sk-toggleable__label-arrow:before {color: black;}#sk-container-id-1 div.sk-toggleable__content {max-height: 0;max-width: 0;overflow: hidden;text-align: left;background-color: #f0f8ff;}#sk-container-id-1 div.sk-toggleable__content pre {margin: 0.2em;color: black;border-radius: 0.25em;background-color: #f0f8ff;}#sk-container-id-1 input.sk-toggleable__control:checked~div.sk-toggleable__content {max-height: 200px;max-width: 100%;overflow: auto;}#sk-container-id-1 input.sk-toggleable__control:checked~label.sk-toggleable__label-arrow:before {content: \"▾\";}#sk-container-id-1 div.sk-estimator input.sk-toggleable__control:checked~label.sk-toggleable__label {background-color: #d4ebff;}#sk-container-id-1 div.sk-label input.sk-toggleable__control:checked~label.sk-toggleable__label {background-color: #d4ebff;}#sk-container-id-1 input.sk-hidden--visually {border: 0;clip: rect(1px 1px 1px 1px);clip: rect(1px, 1px, 1px, 1px);height: 1px;margin: -1px;overflow: hidden;padding: 0;position: absolute;width: 1px;}#sk-container-id-1 div.sk-estimator {font-family: monospace;background-color: #f0f8ff;border: 1px dotted black;border-radius: 0.25em;box-sizing: border-box;margin-bottom: 0.5em;}#sk-container-id-1 div.sk-estimator:hover {background-color: #d4ebff;}#sk-container-id-1 div.sk-parallel-item::after {content: \"\";width: 100%;border-bottom: 1px solid gray;flex-grow: 1;}#sk-container-id-1 div.sk-label:hover label.sk-toggleable__label {background-color: #d4ebff;}#sk-container-id-1 div.sk-serial::before {content: \"\";position: absolute;border-left: 1px solid gray;box-sizing: border-box;top: 0;bottom: 0;left: 50%;z-index: 0;}#sk-container-id-1 div.sk-serial {display: flex;flex-direction: column;align-items: center;background-color: white;padding-right: 0.2em;padding-left: 0.2em;position: relative;}#sk-container-id-1 div.sk-item {position: relative;z-index: 1;}#sk-container-id-1 div.sk-parallel {display: flex;align-items: stretch;justify-content: center;background-color: white;position: relative;}#sk-container-id-1 div.sk-item::before, #sk-container-id-1 div.sk-parallel-item::before {content: \"\";position: absolute;border-left: 1px solid gray;box-sizing: border-box;top: 0;bottom: 0;left: 50%;z-index: -1;}#sk-container-id-1 div.sk-parallel-item {display: flex;flex-direction: column;z-index: 1;position: relative;background-color: white;}#sk-container-id-1 div.sk-parallel-item:first-child::after {align-self: flex-end;width: 50%;}#sk-container-id-1 div.sk-parallel-item:last-child::after {align-self: flex-start;width: 50%;}#sk-container-id-1 div.sk-parallel-item:only-child::after {width: 0;}#sk-container-id-1 div.sk-dashed-wrapped {border: 1px dashed gray;margin: 0 0.4em 0.5em 0.4em;box-sizing: border-box;padding-bottom: 0.4em;background-color: white;}#sk-container-id-1 div.sk-label label {font-family: monospace;font-weight: bold;display: inline-block;line-height: 1.2em;}#sk-container-id-1 div.sk-label-container {text-align: center;}#sk-container-id-1 div.sk-container {/* jupyter's `normalize.less` sets `[hidden] { display: none; }` but bootstrap.min.css set `[hidden] { display: none !important; }` so we also need the `!important` here to be able to override the default hidden behavior on the sphinx rendered scikit-learn.org. See: https://github.com/scikit-learn/scikit-learn/issues/21755 */display: inline-block !important;position: relative;}#sk-container-id-1 div.sk-text-repr-fallback {display: none;}</style><div id=\"sk-container-id-1\" class=\"sk-top-container\"><div class=\"sk-text-repr-fallback\"><pre>Pipeline(steps=[(&#x27;extract_features&#x27;,\n",
       "                 ColumnTransformer(transformers=[(&#x27;pr_size&#x27;,\n",
       "                                                  OrdinalEncoder(categories=[[&#x27;XS&#x27;,\n",
       "                                                                              &#x27;S&#x27;,\n",
       "                                                                              &#x27;M&#x27;,\n",
       "                                                                              &#x27;L&#x27;,\n",
       "                                                                              &#x27;XL&#x27;,\n",
       "                                                                              &#x27;XXL&#x27;]]),\n",
       "                                                  [&#x27;size&#x27;]),\n",
       "                                                 (&#x27;created_at_details&#x27;,\n",
       "                                                  DateTimeDetailsTransformer(),\n",
       "                                                  [&#x27;created_at&#x27;]),\n",
       "                                                 (&#x27;n_changed_files&#x27;,\n",
       "                                                  NumChangedFilesTransformer(),\n",
       "                                                  [&#x27;changed_files_number&#x27;]),\n",
       "                                                 (&#x27;body_size&#x27;,\n",
       "                                                  StringLenTransformer(),\n",
       "                                                  [&#x27;body&#x27;]),\n",
       "                                                 (&#x27;n_commits&#x27;, &#x27;p...\n",
       "                                                                                   &#x27;airgapped&#x27;,\n",
       "                                                                                   &#x27;analysis&#x27;,\n",
       "                                                                                   &#x27;approach&#x27;,\n",
       "                                                                                   &#x27;around&#x27;,\n",
       "                                                                                   &#x27;bad&#x27;,\n",
       "                                                                                   &#x27;bi&#x27;,\n",
       "                                                                                   &#x27;build&#x27;,\n",
       "                                                                                   &#x27;calendar&#x27;,\n",
       "                                                                                   &#x27;carlosgimeno&#x27;,\n",
       "                                                                                   &#x27;catalog&#x27;,\n",
       "                                                                                   &#x27;change&#x27;,\n",
       "                                                                                   &#x27;changes&#x27;,\n",
       "                                                                                   &#x27;charter&#x27;,\n",
       "                                                                                   &#x27;checklist&#x27;,\n",
       "                                                                                   &#x27;chore&#x27;,\n",
       "                                                                                   &#x27;clarity&#x27;,\n",
       "                                                                                   &#x27;clean&#x27;,\n",
       "                                                                                   &#x27;cluster&#x27;,\n",
       "                                                                                   &#x27;complete&#x27;,\n",
       "                                                                                   &#x27;completion&#x27;,\n",
       "                                                                                   &#x27;context&#x27;, ...]),\n",
       "                                                  [&#x27;title&#x27;])])),\n",
       "                (&#x27;scale&#x27;, PowerTransformer()),\n",
       "                (&#x27;rf&#x27;,\n",
       "                 RandomForestClassifier(max_features=0.75, n_estimators=200,\n",
       "                                        n_jobs=-1, random_state=42))])</pre><b>In a Jupyter environment, please rerun this cell to show the HTML representation or trust the notebook. <br />On GitHub, the HTML representation is unable to render, please try loading this page with nbviewer.org.</b></div><div class=\"sk-container\" hidden><div class=\"sk-item sk-dashed-wrapped\"><div class=\"sk-label-container\"><div class=\"sk-label sk-toggleable\"><input class=\"sk-toggleable__control sk-hidden--visually\" id=\"sk-estimator-id-1\" type=\"checkbox\" ><label for=\"sk-estimator-id-1\" class=\"sk-toggleable__label sk-toggleable__label-arrow\">Pipeline</label><div class=\"sk-toggleable__content\"><pre>Pipeline(steps=[(&#x27;extract_features&#x27;,\n",
       "                 ColumnTransformer(transformers=[(&#x27;pr_size&#x27;,\n",
       "                                                  OrdinalEncoder(categories=[[&#x27;XS&#x27;,\n",
       "                                                                              &#x27;S&#x27;,\n",
       "                                                                              &#x27;M&#x27;,\n",
       "                                                                              &#x27;L&#x27;,\n",
       "                                                                              &#x27;XL&#x27;,\n",
       "                                                                              &#x27;XXL&#x27;]]),\n",
       "                                                  [&#x27;size&#x27;]),\n",
       "                                                 (&#x27;created_at_details&#x27;,\n",
       "                                                  DateTimeDetailsTransformer(),\n",
       "                                                  [&#x27;created_at&#x27;]),\n",
       "                                                 (&#x27;n_changed_files&#x27;,\n",
       "                                                  NumChangedFilesTransformer(),\n",
       "                                                  [&#x27;changed_files_number&#x27;]),\n",
       "                                                 (&#x27;body_size&#x27;,\n",
       "                                                  StringLenTransformer(),\n",
       "                                                  [&#x27;body&#x27;]),\n",
       "                                                 (&#x27;n_commits&#x27;, &#x27;p...\n",
       "                                                                                   &#x27;airgapped&#x27;,\n",
       "                                                                                   &#x27;analysis&#x27;,\n",
       "                                                                                   &#x27;approach&#x27;,\n",
       "                                                                                   &#x27;around&#x27;,\n",
       "                                                                                   &#x27;bad&#x27;,\n",
       "                                                                                   &#x27;bi&#x27;,\n",
       "                                                                                   &#x27;build&#x27;,\n",
       "                                                                                   &#x27;calendar&#x27;,\n",
       "                                                                                   &#x27;carlosgimeno&#x27;,\n",
       "                                                                                   &#x27;catalog&#x27;,\n",
       "                                                                                   &#x27;change&#x27;,\n",
       "                                                                                   &#x27;changes&#x27;,\n",
       "                                                                                   &#x27;charter&#x27;,\n",
       "                                                                                   &#x27;checklist&#x27;,\n",
       "                                                                                   &#x27;chore&#x27;,\n",
       "                                                                                   &#x27;clarity&#x27;,\n",
       "                                                                                   &#x27;clean&#x27;,\n",
       "                                                                                   &#x27;cluster&#x27;,\n",
       "                                                                                   &#x27;complete&#x27;,\n",
       "                                                                                   &#x27;completion&#x27;,\n",
       "                                                                                   &#x27;context&#x27;, ...]),\n",
       "                                                  [&#x27;title&#x27;])])),\n",
       "                (&#x27;scale&#x27;, PowerTransformer()),\n",
       "                (&#x27;rf&#x27;,\n",
       "                 RandomForestClassifier(max_features=0.75, n_estimators=200,\n",
       "                                        n_jobs=-1, random_state=42))])</pre></div></div></div><div class=\"sk-serial\"><div class=\"sk-item sk-dashed-wrapped\"><div class=\"sk-label-container\"><div class=\"sk-label sk-toggleable\"><input class=\"sk-toggleable__control sk-hidden--visually\" id=\"sk-estimator-id-2\" type=\"checkbox\" ><label for=\"sk-estimator-id-2\" class=\"sk-toggleable__label sk-toggleable__label-arrow\">extract_features: ColumnTransformer</label><div class=\"sk-toggleable__content\"><pre>ColumnTransformer(transformers=[(&#x27;pr_size&#x27;,\n",
       "                                 OrdinalEncoder(categories=[[&#x27;XS&#x27;, &#x27;S&#x27;, &#x27;M&#x27;,\n",
       "                                                             &#x27;L&#x27;, &#x27;XL&#x27;,\n",
       "                                                             &#x27;XXL&#x27;]]),\n",
       "                                 [&#x27;size&#x27;]),\n",
       "                                (&#x27;created_at_details&#x27;,\n",
       "                                 DateTimeDetailsTransformer(), [&#x27;created_at&#x27;]),\n",
       "                                (&#x27;n_changed_files&#x27;,\n",
       "                                 NumChangedFilesTransformer(),\n",
       "                                 [&#x27;changed_files_number&#x27;]),\n",
       "                                (&#x27;body_size&#x27;, StringLenTransformer(), [&#x27;body&#x27;]),\n",
       "                                (&#x27;n_commits&#x27;, &#x27;passthrough&#x27;,\n",
       "                                 [&#x27;commits_number&#x27;]),\n",
       "                                (&#x27;fi...\n",
       "                                 TitleWordCountTransformer(words=[&#x27;19_meeting&#x27;,\n",
       "                                                                  &#x27;26_meeting&#x27;,\n",
       "                                                                  &#x27;@margarethaley&#x27;,\n",
       "                                                                  &#x27;action&#x27;,\n",
       "                                                                  &#x27;actions&#x27;,\n",
       "                                                                  &#x27;add&#x27;,\n",
       "                                                                  &#x27;added&#x27;,\n",
       "                                                                  &#x27;adding&#x27;,\n",
       "                                                                  &#x27;addition&#x27;,\n",
       "                                                                  &#x27;airgapped&#x27;,\n",
       "                                                                  &#x27;analysis&#x27;,\n",
       "                                                                  &#x27;approach&#x27;,\n",
       "                                                                  &#x27;around&#x27;,\n",
       "                                                                  &#x27;bad&#x27;, &#x27;bi&#x27;,\n",
       "                                                                  &#x27;build&#x27;,\n",
       "                                                                  &#x27;calendar&#x27;,\n",
       "                                                                  &#x27;carlosgimeno&#x27;,\n",
       "                                                                  &#x27;catalog&#x27;,\n",
       "                                                                  &#x27;change&#x27;,\n",
       "                                                                  &#x27;changes&#x27;,\n",
       "                                                                  &#x27;charter&#x27;,\n",
       "                                                                  &#x27;checklist&#x27;,\n",
       "                                                                  &#x27;chore&#x27;,\n",
       "                                                                  &#x27;clarity&#x27;,\n",
       "                                                                  &#x27;clean&#x27;,\n",
       "                                                                  &#x27;cluster&#x27;,\n",
       "                                                                  &#x27;complete&#x27;,\n",
       "                                                                  &#x27;completion&#x27;,\n",
       "                                                                  &#x27;context&#x27;, ...]),\n",
       "                                 [&#x27;title&#x27;])])</pre></div></div></div><div class=\"sk-parallel\"><div class=\"sk-parallel-item\"><div class=\"sk-item\"><div class=\"sk-label-container\"><div class=\"sk-label sk-toggleable\"><input class=\"sk-toggleable__control sk-hidden--visually\" id=\"sk-estimator-id-3\" type=\"checkbox\" ><label for=\"sk-estimator-id-3\" class=\"sk-toggleable__label sk-toggleable__label-arrow\">pr_size</label><div class=\"sk-toggleable__content\"><pre>[&#x27;size&#x27;]</pre></div></div></div><div class=\"sk-serial\"><div class=\"sk-item\"><div class=\"sk-estimator sk-toggleable\"><input class=\"sk-toggleable__control sk-hidden--visually\" id=\"sk-estimator-id-4\" type=\"checkbox\" ><label for=\"sk-estimator-id-4\" class=\"sk-toggleable__label sk-toggleable__label-arrow\">OrdinalEncoder</label><div class=\"sk-toggleable__content\"><pre>OrdinalEncoder(categories=[[&#x27;XS&#x27;, &#x27;S&#x27;, &#x27;M&#x27;, &#x27;L&#x27;, &#x27;XL&#x27;, &#x27;XXL&#x27;]])</pre></div></div></div></div></div></div><div class=\"sk-parallel-item\"><div class=\"sk-item\"><div class=\"sk-label-container\"><div class=\"sk-label sk-toggleable\"><input class=\"sk-toggleable__control sk-hidden--visually\" id=\"sk-estimator-id-5\" type=\"checkbox\" ><label for=\"sk-estimator-id-5\" class=\"sk-toggleable__label sk-toggleable__label-arrow\">created_at_details</label><div class=\"sk-toggleable__content\"><pre>[&#x27;created_at&#x27;]</pre></div></div></div><div class=\"sk-serial\"><div class=\"sk-item\"><div class=\"sk-estimator sk-toggleable\"><input class=\"sk-toggleable__control sk-hidden--visually\" id=\"sk-estimator-id-6\" type=\"checkbox\" ><label for=\"sk-estimator-id-6\" class=\"sk-toggleable__label sk-toggleable__label-arrow\">DateTimeDetailsTransformer</label><div class=\"sk-toggleable__content\"><pre>DateTimeDetailsTransformer()</pre></div></div></div></div></div></div><div class=\"sk-parallel-item\"><div class=\"sk-item\"><div class=\"sk-label-container\"><div class=\"sk-label sk-toggleable\"><input class=\"sk-toggleable__control sk-hidden--visually\" id=\"sk-estimator-id-7\" type=\"checkbox\" ><label for=\"sk-estimator-id-7\" class=\"sk-toggleable__label sk-toggleable__label-arrow\">n_changed_files</label><div class=\"sk-toggleable__content\"><pre>[&#x27;changed_files_number&#x27;]</pre></div></div></div><div class=\"sk-serial\"><div class=\"sk-item\"><div class=\"sk-estimator sk-toggleable\"><input class=\"sk-toggleable__control sk-hidden--visually\" id=\"sk-estimator-id-8\" type=\"checkbox\" ><label for=\"sk-estimator-id-8\" class=\"sk-toggleable__label sk-toggleable__label-arrow\">NumChangedFilesTransformer</label><div class=\"sk-toggleable__content\"><pre>NumChangedFilesTransformer()</pre></div></div></div></div></div></div><div class=\"sk-parallel-item\"><div class=\"sk-item\"><div class=\"sk-label-container\"><div class=\"sk-label sk-toggleable\"><input class=\"sk-toggleable__control sk-hidden--visually\" id=\"sk-estimator-id-9\" type=\"checkbox\" ><label for=\"sk-estimator-id-9\" class=\"sk-toggleable__label sk-toggleable__label-arrow\">body_size</label><div class=\"sk-toggleable__content\"><pre>[&#x27;body&#x27;]</pre></div></div></div><div class=\"sk-serial\"><div class=\"sk-item\"><div class=\"sk-estimator sk-toggleable\"><input class=\"sk-toggleable__control sk-hidden--visually\" id=\"sk-estimator-id-10\" type=\"checkbox\" ><label for=\"sk-estimator-id-10\" class=\"sk-toggleable__label sk-toggleable__label-arrow\">StringLenTransformer</label><div class=\"sk-toggleable__content\"><pre>StringLenTransformer()</pre></div></div></div></div></div></div><div class=\"sk-parallel-item\"><div class=\"sk-item\"><div class=\"sk-label-container\"><div class=\"sk-label sk-toggleable\"><input class=\"sk-toggleable__control sk-hidden--visually\" id=\"sk-estimator-id-11\" type=\"checkbox\" ><label for=\"sk-estimator-id-11\" class=\"sk-toggleable__label sk-toggleable__label-arrow\">n_commits</label><div class=\"sk-toggleable__content\"><pre>[&#x27;commits_number&#x27;]</pre></div></div></div><div class=\"sk-serial\"><div class=\"sk-item\"><div class=\"sk-estimator sk-toggleable\"><input class=\"sk-toggleable__control sk-hidden--visually\" id=\"sk-estimator-id-12\" type=\"checkbox\" ><label for=\"sk-estimator-id-12\" class=\"sk-toggleable__label sk-toggleable__label-arrow\">passthrough</label><div class=\"sk-toggleable__content\"><pre>passthrough</pre></div></div></div></div></div></div><div class=\"sk-parallel-item\"><div class=\"sk-item\"><div class=\"sk-label-container\"><div class=\"sk-label sk-toggleable\"><input class=\"sk-toggleable__control sk-hidden--visually\" id=\"sk-estimator-id-13\" type=\"checkbox\" ><label for=\"sk-estimator-id-13\" class=\"sk-toggleable__label sk-toggleable__label-arrow\">filetype_counter</label><div class=\"sk-toggleable__content\"><pre>[&#x27;changed_files&#x27;]</pre></div></div></div><div class=\"sk-serial\"><div class=\"sk-item\"><div class=\"sk-estimator sk-toggleable\"><input class=\"sk-toggleable__control sk-hidden--visually\" id=\"sk-estimator-id-14\" type=\"checkbox\" ><label for=\"sk-estimator-id-14\" class=\"sk-toggleable__label sk-toggleable__label-arrow\">FileTypeCountTransformer</label><div class=\"sk-toggleable__content\"><pre>FileTypeCountTransformer(file_extensions=[&#x27;.md&#x27;, &#x27;.yaml&#x27;, &#x27;.tmpl&#x27;, &#x27;OWNERS&#x27;,\n",
       "                                          &#x27;OWNERS_ALIASES&#x27;, &#x27;.yml&#x27;, &#x27;.ipynb&#x27;,\n",
       "                                          &#x27;.png&#x27;, &#x27;.txt&#x27;, &#x27;.json&#x27;])</pre></div></div></div></div></div></div><div class=\"sk-parallel-item\"><div class=\"sk-item\"><div class=\"sk-label-container\"><div class=\"sk-label sk-toggleable\"><input class=\"sk-toggleable__control sk-hidden--visually\" id=\"sk-estimator-id-15\" type=\"checkbox\" ><label for=\"sk-estimator-id-15\" class=\"sk-toggleable__label sk-toggleable__label-arrow\">title_word_counter</label><div class=\"sk-toggleable__content\"><pre>[&#x27;title&#x27;]</pre></div></div></div><div class=\"sk-serial\"><div class=\"sk-item\"><div class=\"sk-estimator sk-toggleable\"><input class=\"sk-toggleable__control sk-hidden--visually\" id=\"sk-estimator-id-16\" type=\"checkbox\" ><label for=\"sk-estimator-id-16\" class=\"sk-toggleable__label sk-toggleable__label-arrow\">TitleWordCountTransformer</label><div class=\"sk-toggleable__content\"><pre>TitleWordCountTransformer(words=[&#x27;19_meeting&#x27;, &#x27;26_meeting&#x27;, &#x27;@margarethaley&#x27;,\n",
       "                                 &#x27;action&#x27;, &#x27;actions&#x27;, &#x27;add&#x27;, &#x27;added&#x27;, &#x27;adding&#x27;,\n",
       "                                 &#x27;addition&#x27;, &#x27;airgapped&#x27;, &#x27;analysis&#x27;,\n",
       "                                 &#x27;approach&#x27;, &#x27;around&#x27;, &#x27;bad&#x27;, &#x27;bi&#x27;, &#x27;build&#x27;,\n",
       "                                 &#x27;calendar&#x27;, &#x27;carlosgimeno&#x27;, &#x27;catalog&#x27;,\n",
       "                                 &#x27;change&#x27;, &#x27;changes&#x27;, &#x27;charter&#x27;, &#x27;checklist&#x27;,\n",
       "                                 &#x27;chore&#x27;, &#x27;clarity&#x27;, &#x27;clean&#x27;, &#x27;cluster&#x27;,\n",
       "                                 &#x27;complete&#x27;, &#x27;completion&#x27;, &#x27;context&#x27;, ...])</pre></div></div></div></div></div></div></div></div><div class=\"sk-item\"><div class=\"sk-estimator sk-toggleable\"><input class=\"sk-toggleable__control sk-hidden--visually\" id=\"sk-estimator-id-17\" type=\"checkbox\" ><label for=\"sk-estimator-id-17\" class=\"sk-toggleable__label sk-toggleable__label-arrow\">PowerTransformer</label><div class=\"sk-toggleable__content\"><pre>PowerTransformer()</pre></div></div></div><div class=\"sk-item\"><div class=\"sk-estimator sk-toggleable\"><input class=\"sk-toggleable__control sk-hidden--visually\" id=\"sk-estimator-id-18\" type=\"checkbox\" ><label for=\"sk-estimator-id-18\" class=\"sk-toggleable__label sk-toggleable__label-arrow\">RandomForestClassifier</label><div class=\"sk-toggleable__content\"><pre>RandomForestClassifier(max_features=0.75, n_estimators=200, n_jobs=-1,\n",
       "                       random_state=42)</pre></div></div></div></div></div></div></div>"
      ],
      "text/plain": [
       "Pipeline(steps=[('extract_features',\n",
       "                 ColumnTransformer(transformers=[('pr_size',\n",
       "                                                  OrdinalEncoder(categories=[['XS',\n",
       "                                                                              'S',\n",
       "                                                                              'M',\n",
       "                                                                              'L',\n",
       "                                                                              'XL',\n",
       "                                                                              'XXL']]),\n",
       "                                                  ['size']),\n",
       "                                                 ('created_at_details',\n",
       "                                                  DateTimeDetailsTransformer(),\n",
       "                                                  ['created_at']),\n",
       "                                                 ('n_changed_files',\n",
       "                                                  NumChangedFilesTransformer(),\n",
       "                                                  ['changed_files_number']),\n",
       "                                                 ('body_size',\n",
       "                                                  StringLenTransformer(),\n",
       "                                                  ['body']),\n",
       "                                                 ('n_commits', 'p...\n",
       "                                                                                   'airgapped',\n",
       "                                                                                   'analysis',\n",
       "                                                                                   'approach',\n",
       "                                                                                   'around',\n",
       "                                                                                   'bad',\n",
       "                                                                                   'bi',\n",
       "                                                                                   'build',\n",
       "                                                                                   'calendar',\n",
       "                                                                                   'carlosgimeno',\n",
       "                                                                                   'catalog',\n",
       "                                                                                   'change',\n",
       "                                                                                   'changes',\n",
       "                                                                                   'charter',\n",
       "                                                                                   'checklist',\n",
       "                                                                                   'chore',\n",
       "                                                                                   'clarity',\n",
       "                                                                                   'clean',\n",
       "                                                                                   'cluster',\n",
       "                                                                                   'complete',\n",
       "                                                                                   'completion',\n",
       "                                                                                   'context', ...]),\n",
       "                                                  ['title'])])),\n",
       "                ('scale', PowerTransformer()),\n",
       "                ('rf',\n",
       "                 RandomForestClassifier(max_features=0.75, n_estimators=200,\n",
       "                                        n_jobs=-1, random_state=42))])"
      ]
     },
     "execution_count": 56,
     "metadata": {},
     "output_type": "execute_result"
    }
   ],
   "source": [
    "## Sanity Check\n",
    "buffer = BytesIO()\n",
    "s3_object = s3_resource.Object(s3_bucket, f\"{MODEL_KEY}/{MODEL_FILENAME}\")\n",
    "s3_object.download_fileobj(buffer)\n",
    "model = joblib.load(buffer)\n",
    "model"
   ]
  },
  {
   "cell_type": "code",
   "execution_count": 57,
   "id": "36484009",
   "metadata": {
    "execution": {
     "iopub.execute_input": "2022-10-07T17:54:12.009351Z",
     "iopub.status.busy": "2022-10-07T17:54:12.008731Z",
     "iopub.status.idle": "2022-10-07T17:54:12.915781Z",
     "shell.execute_reply": "2022-10-07T17:54:12.914926Z"
    }
   },
   "outputs": [
    {
     "name": "stdout",
     "output_type": "stream",
     "text": [
      "              precision    recall  f1-score   support\n",
      "\n",
      "           0       0.00      0.00      0.00         1\n",
      "           1       0.50      0.50      0.50         2\n",
      "           2       0.00      0.00      0.00         2\n",
      "           3       0.00      0.00      0.00         1\n",
      "           4       0.00      0.00      0.00         1\n",
      "           5       0.25      1.00      0.40         1\n",
      "           6       0.33      1.00      0.50         1\n",
      "           7       0.50      0.50      0.50         2\n",
      "           8       0.00      0.00      0.00         4\n",
      "           9       0.00      0.00      0.00         1\n",
      "\n",
      "    accuracy                           0.25        16\n",
      "   macro avg       0.16      0.30      0.19        16\n",
      "weighted avg       0.16      0.25      0.18        16\n",
      "\n"
     ]
    }
   ],
   "source": [
    "# take raw pr data and predict ttm classes\n",
    "preds = model.predict(pr_df.reindex(X_test.index))\n",
    "print(classification_report(y_test, preds))"
   ]
  },
  {
   "cell_type": "code",
   "execution_count": 58,
   "id": "42cf7c8e-07d8-44df-b4a0-ddcc8982ea37",
   "metadata": {
    "execution": {
     "iopub.execute_input": "2022-10-07T17:54:12.919942Z",
     "iopub.status.busy": "2022-10-07T17:54:12.919492Z",
     "iopub.status.idle": "2022-10-07T17:54:28.835202Z",
     "shell.execute_reply": "2022-10-07T17:54:28.834160Z"
    }
   },
   "outputs": [
    {
     "data": {
      "text/plain": [
       "[s3.ObjectSummary(bucket_name='opf-datacatalog', key='october/operate-first/community/features/operate-firstcommunityFILETYPE.parquet'),\n",
       " s3.ObjectSummary(bucket_name='opf-datacatalog', key='october/operate-first/community/features/operate-firstcommunitytitlewords.parquet'),\n",
       " s3.ObjectSummary(bucket_name='opf-datacatalog', key='october/operate-first/community/test-data/X_test.parquet'),\n",
       " s3.ObjectSummary(bucket_name='opf-datacatalog', key='october/operate-first/community/test-data/y_test.parquet'),\n",
       " s3.ObjectSummary(bucket_name='opf-datacatalog', key='october/operate-first/community/ttm-model/model.joblib'),\n",
       " s3.ObjectSummary(bucket_name='opf-datacatalog', key='october/operate-first/community/ttm_feature_engineered_dataset.parquet'),\n",
       " s3.ObjectSummary(bucket_name='opf-datacatalog', key='october/srcopsmetrics/bot_knowledge/operate-first/community/PullRequest.json')]"
      ]
     },
     "execution_count": 58,
     "metadata": {},
     "output_type": "execute_result"
    }
   ],
   "source": [
    "# check all raw data files in s3\n",
    "bucket = cc.s3_resource.Bucket(s3_bucket)\n",
    "objects = [i for i in bucket.objects.all() if s3_input_data_path + \"/\" in i.key]\n",
    "sorted(objects, key=lambda x: x.key)"
   ]
  },
  {
   "cell_type": "code",
   "execution_count": 59,
   "id": "02adaa45-fb5a-4a1d-a333-ce81d62cc6d2",
   "metadata": {
    "execution": {
     "iopub.execute_input": "2022-10-07T17:54:28.839632Z",
     "iopub.status.busy": "2022-10-07T17:54:28.839100Z",
     "iopub.status.idle": "2022-10-07T17:54:28.843978Z",
     "shell.execute_reply": "2022-10-07T17:54:28.843137Z"
    }
   },
   "outputs": [],
   "source": [
    "# #  Delete files\n",
    "# cc = CephCommunication(s3_endpoint_url, s3_access_key, s3_secret_key, s3_bucket)\n",
    "# cc.s3_resource.Object(s3_bucket, 'opf-datacatalog-morty', key='workshop-test').delete()"
   ]
  },
  {
   "cell_type": "markdown",
   "id": "ef78426f",
   "metadata": {},
   "source": [
    "## Conclusion\n",
    "\n",
    "In this notebook, we explored various classifiers, namely, Naive Bayes, SVM, Random Forests, and XGBoost. "
   ]
  },
  {
   "cell_type": "markdown",
   "id": "933cd0ed-99c2-4453-a94b-02eace47bd20",
   "metadata": {},
   "source": [
    "## Next Step\n",
    "\n",
    "We can run these notebooks in automation using Elyra and Kubeflow pipelines. As the immediate next step, we will to deploy the best model from this notebook as an inference service using Seldon."
   ]
  }
 ],
 "metadata": {
  "kernelspec": {
   "display_name": "Python 3 (ipykernel)",
   "language": "python",
   "name": "python3"
  },
  "language_info": {
   "codemirror_mode": {
    "name": "ipython",
    "version": 3
   },
   "file_extension": ".py",
   "mimetype": "text/x-python",
   "name": "python",
   "nbconvert_exporter": "python",
   "pygments_lexer": "ipython3",
   "version": "3.9.14"
  }
 },
 "nbformat": 4,
 "nbformat_minor": 5
}
