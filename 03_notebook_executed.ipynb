{
 "cells": [
  {
   "cell_type": "markdown",
   "id": "3c31ddd8-bdcf-473d-95c1-5fed70b7fe51",
   "metadata": {},
   "source": [
    "# Train a model on features engineered from Pull Requests data\n",
    "\n",
    "\n",
    "## What we did previously\n",
    "\n",
    "In the previous [notebook](./02_feature_engineering.ipynb) we explored the various fields in the PR dataset and derived some features from them in order to frame an a Machine Learning where we predict the time taken to merge a PR.\n",
    "\n",
    "## In this step\n",
    "\n",
    "In this notebook, we will first create transformer objects (based on the feature explorations in the previous notebook) to extract features from raw PR data. Then, we will train machine learning models to classify a PR's `time_to_merge` into one of the above 10 bins (or \"classes\")."
   ]
  },
  {
   "cell_type": "code",
   "execution_count": 1,
   "id": "e2bb1e73",
   "metadata": {
    "execution": {
     "iopub.execute_input": "2022-11-03T19:32:38.628958Z",
     "iopub.status.busy": "2022-11-03T19:32:38.628570Z",
     "iopub.status.idle": "2022-11-03T19:32:40.029068Z",
     "shell.execute_reply": "2022-11-03T19:32:40.028329Z"
    }
   },
   "outputs": [
    {
     "data": {
      "text/plain": [
       "True"
      ]
     },
     "execution_count": 1,
     "metadata": {},
     "output_type": "execute_result"
    }
   ],
   "source": [
    "import os\n",
    "import gzip\n",
    "import json\n",
    "import boto3\n",
    "import tempfile\n",
    "\n",
    "import joblib\n",
    "import warnings\n",
    "from io import BytesIO\n",
    "from copy import deepcopy\n",
    "\n",
    "import numpy as np\n",
    "import pandas as pd\n",
    "\n",
    "import seaborn as sns\n",
    "import matplotlib.pyplot as plt\n",
    "\n",
    "from sklearn.compose import ColumnTransformer\n",
    "from sklearn.preprocessing import PowerTransformer, OrdinalEncoder\n",
    "\n",
    "from sklearn.feature_selection import RFE\n",
    "from sklearn.model_selection import train_test_split\n",
    "\n",
    "from sklearn.svm import SVC\n",
    "from xgboost import XGBClassifier\n",
    "from sklearn.naive_bayes import GaussianNB\n",
    "from sklearn.ensemble import RandomForestClassifier\n",
    "\n",
    "from sklearn.pipeline import Pipeline\n",
    "\n",
    "from sklearn.metrics import confusion_matrix\n",
    "from sklearn.metrics import classification_report\n",
    "\n",
    "from dotenv import load_dotenv, find_dotenv\n",
    "\n",
    "from src.features.build_features import (\n",
    "    DateTimeDetailsTransformer,\n",
    "    NumChangedFilesTransformer,\n",
    "    StringLenTransformer,\n",
    "    FileTypeCountTransformer,\n",
    "    TitleWordCountTransformer,\n",
    ")\n",
    "\n",
    "warnings.filterwarnings(\"ignore\")\n",
    "load_dotenv(find_dotenv(), override=True)"
   ]
  },
  {
   "cell_type": "code",
   "execution_count": 2,
   "id": "18b3cf3a-f968-48ed-899c-a5f5111e3eca",
   "metadata": {
    "execution": {
     "iopub.execute_input": "2022-11-03T19:32:40.032882Z",
     "iopub.status.busy": "2022-11-03T19:32:40.032395Z",
     "iopub.status.idle": "2022-11-03T19:32:40.039867Z",
     "shell.execute_reply": "2022-11-03T19:32:40.039316Z"
    }
   },
   "outputs": [],
   "source": [
    "class CephCommunication:\n",
    "    \"\"\"\n",
    "    Class to establish communication with a ceph s3 bucket.\n",
    "    It connects with the bucket and provides methods to read and write data in the parquet format.\n",
    "    \"\"\"\n",
    "\n",
    "    def __init__(\n",
    "        self, s3_endpoint_url, aws_access_key_id, aws_secret_access_key, s3_bucket\n",
    "    ):\n",
    "        self.s3_endpoint_url = s3_endpoint_url\n",
    "        self.aws_access_key_id = aws_access_key_id\n",
    "        self.aws_secret_access_key = aws_secret_access_key\n",
    "        self.s3_resource = boto3.resource(\n",
    "            \"s3\",\n",
    "            endpoint_url=self.s3_endpoint_url,\n",
    "            aws_access_key_id=self.aws_access_key_id,\n",
    "            aws_secret_access_key=self.aws_secret_access_key,\n",
    "        )\n",
    "        self.bucket = s3_bucket\n",
    "        ## Todo: Add try catch\n",
    "\n",
    "    def upload_to_ceph(self, dataframe, s3_path, filename):\n",
    "        \"\"\"\n",
    "        This helper function takes as input the data frame to be uploaded, and the output filename.\n",
    "        It then saves the data frame in the defined ceph bucket.\n",
    "        \"\"\"\n",
    "        parquet_buffer = BytesIO()\n",
    "        dataframe.to_parquet(parquet_buffer)\n",
    "        s3_obj = self.s3_resource.Object(self.bucket, f\"{s3_path}/{filename}\")\n",
    "        status = s3_obj.put(Body=parquet_buffer.getvalue())\n",
    "        return status\n",
    "\n",
    "    def read_from_ceph(self, s3_path, filename):\n",
    "        \"\"\"\n",
    "        Helper function to read from ceph and see if the saved data is correct.\n",
    "        \"\"\"\n",
    "        buffer = BytesIO()\n",
    "        s3_object = self.s3_resource.Object(self.bucket, f\"{s3_path}/{filename}\")\n",
    "        s3_object.download_fileobj(buffer)\n",
    "        df_temp = pd.read_parquet(buffer)\n",
    "        return df_temp"
   ]
  },
  {
   "cell_type": "markdown",
   "id": "3c4e04bb-a8fc-4bc9-a91d-ffe389212f0e",
   "metadata": {},
   "source": [
    "## Get Raw Data"
   ]
  },
  {
   "cell_type": "code",
   "execution_count": 3,
   "id": "f6d138f3",
   "metadata": {
    "execution": {
     "iopub.execute_input": "2022-11-03T19:32:40.042832Z",
     "iopub.status.busy": "2022-11-03T19:32:40.042446Z",
     "iopub.status.idle": "2022-11-03T19:32:40.046767Z",
     "shell.execute_reply": "2022-11-03T19:32:40.046247Z"
    }
   },
   "outputs": [],
   "source": [
    "## CEPH Bucket variables\n",
    "## Create a .env file on your local with the correct configs,\n",
    "\n",
    "ORG = os.getenv(\"GITHUB_ORG\")\n",
    "REPO = os.getenv(\"GITHUB_REPO\")\n",
    "\n",
    "## S3 bucket credentials\n",
    "s3_endpoint_url = os.getenv(\"S3_ENDPOINT_URL\")\n",
    "s3_access_key = os.getenv(\"S3_ACCESS_KEY\")\n",
    "s3_secret_key = os.getenv(\"S3_SECRET_KEY\")\n",
    "s3_bucket = os.getenv(\"S3_BUCKET\")\n",
    "\n",
    "REMOTE = os.getenv(\"REMOTE\")\n",
    "\n",
    "s3_input_data_path = os.getenv(\"CEPH_BUCKET_PREFIX\")\n",
    "local_input_data_path = \"../../../data/raw/GitHub/PullRequest.json.gz\"\n",
    "local_output_data_path = \"../../../data/processed/github\"\n",
    "RAW_DATA_PATH = os.path.join(\n",
    "    s3_input_data_path, \"srcopsmetrics/bot_knowledge\", ORG, REPO, \"PullRequest.json\"\n",
    ")\n",
    "\n",
    "CHOSEN_MODEL = os.getenv(\"CHOSEN_MODEL\")"
   ]
  },
  {
   "cell_type": "code",
   "execution_count": 4,
   "id": "f7ddbfc0-53a7-4d76-a64e-975c89fa1e59",
   "metadata": {
    "execution": {
     "iopub.execute_input": "2022-11-03T19:32:40.049310Z",
     "iopub.status.busy": "2022-11-03T19:32:40.048989Z",
     "iopub.status.idle": "2022-11-03T19:32:40.532763Z",
     "shell.execute_reply": "2022-11-03T19:32:40.531989Z"
    }
   },
   "outputs": [
    {
     "name": "stdout",
     "output_type": "stream",
     "text": [
      "getting dataset from ceph\n"
     ]
    }
   ],
   "source": [
    "output = []\n",
    "if REMOTE:\n",
    "    print(\"getting dataset from ceph\")\n",
    "    s3 = boto3.resource(\n",
    "        \"s3\",\n",
    "        endpoint_url=s3_endpoint_url,\n",
    "        aws_access_key_id=s3_access_key,\n",
    "        aws_secret_access_key=s3_secret_key,\n",
    "    )\n",
    "    content = s3.Object(s3_bucket, RAW_DATA_PATH)\n",
    "    file = content.get()[\"Body\"].read().decode(\"utf-8\")\n",
    "\n",
    "    prs = json.loads(file)\n",
    "\n",
    "    for pr in prs.splitlines():\n",
    "        output.append(json.loads(pr))\n",
    "\n",
    "else:\n",
    "    print(\"getting dataset from local\")\n",
    "    with gzip.open(local_input_data_path, \"r\") as f:\n",
    "        prs = json.loads(f.read().decode(\"utf-8\"))\n",
    "\n",
    "\n",
    "pr_df = pd.DataFrame(output)"
   ]
  },
  {
   "cell_type": "markdown",
   "id": "0eb8188c-d835-4913-a77b-1524fa04eeef",
   "metadata": {},
   "source": [
    "## Extract Labels from Raw Data"
   ]
  },
  {
   "cell_type": "code",
   "execution_count": 5,
   "id": "8bf8212d-82bd-4600-a615-1e150272146f",
   "metadata": {
    "execution": {
     "iopub.execute_input": "2022-11-03T19:32:40.536618Z",
     "iopub.status.busy": "2022-11-03T19:32:40.536160Z",
     "iopub.status.idle": "2022-11-03T19:32:40.543741Z",
     "shell.execute_reply": "2022-11-03T19:32:40.543157Z"
    }
   },
   "outputs": [
    {
     "data": {
      "text/plain": [
       "41       500500.0\n",
       "47       469584.0\n",
       "51      4693361.0\n",
       "52      6937643.0\n",
       "53      8032394.0\n",
       "          ...    \n",
       "186    13749675.0\n",
       "187      216781.0\n",
       "188    14898309.0\n",
       "189       44225.0\n",
       "191       78919.0\n",
       "Length: 78, dtype: float64"
      ]
     },
     "execution_count": 5,
     "metadata": {},
     "output_type": "execute_result"
    }
   ],
   "source": [
    "y = (pr_df[\"merged_at\"] - pr_df[\"created_at\"]).astype(\"float\")\n",
    "y = y.dropna()\n",
    "y"
   ]
  },
  {
   "cell_type": "code",
   "execution_count": 6,
   "id": "5ddc1177-ac15-494a-8c49-0d49e3e5d7e8",
   "metadata": {
    "execution": {
     "iopub.execute_input": "2022-11-03T19:32:40.546629Z",
     "iopub.status.busy": "2022-11-03T19:32:40.546228Z",
     "iopub.status.idle": "2022-11-03T19:32:40.554203Z",
     "shell.execute_reply": "2022-11-03T19:32:40.553026Z"
    }
   },
   "outputs": [
    {
     "data": {
      "text/plain": [
       "0.0        1049.0\n",
       "0.1       47956.7\n",
       "0.2      126092.0\n",
       "0.3      271133.6\n",
       "0.4      467775.2\n",
       "0.5      976198.5\n",
       "0.6     2993056.6\n",
       "0.7     5153405.9\n",
       "0.8     6943473.8\n",
       "0.9    10066874.3\n",
       "dtype: float64"
      ]
     },
     "execution_count": 6,
     "metadata": {},
     "output_type": "execute_result"
    }
   ],
   "source": [
    "n_buckets = 10\n",
    "\n",
    "quantiles = y.quantile(q=np.arange(0, 1 + 1e-100, 1 / n_buckets))\n",
    "quantiles"
   ]
  },
  {
   "cell_type": "code",
   "execution_count": 7,
   "id": "97a47fdd-f513-4428-a4a1-6affe1899eae",
   "metadata": {
    "execution": {
     "iopub.execute_input": "2022-11-03T19:32:40.557020Z",
     "iopub.status.busy": "2022-11-03T19:32:40.556532Z",
     "iopub.status.idle": "2022-11-03T19:32:40.564200Z",
     "shell.execute_reply": "2022-11-03T19:32:40.563479Z"
    }
   },
   "outputs": [
    {
     "data": {
      "text/plain": [
       "41     4\n",
       "47     4\n",
       "51     6\n",
       "52     7\n",
       "53     8\n",
       "      ..\n",
       "186    9\n",
       "187    2\n",
       "188    9\n",
       "189    0\n",
       "191    1\n",
       "Length: 78, dtype: int64"
      ]
     },
     "execution_count": 7,
     "metadata": {},
     "output_type": "execute_result"
    }
   ],
   "source": [
    "def get_ttm_class(ttm):\n",
    "\n",
    "    for rownum, (indx, val) in enumerate(quantiles.iteritems()):\n",
    "        if ttm < val:\n",
    "            return rownum - 1\n",
    "    return 9\n",
    "\n",
    "\n",
    "y = y.apply(get_ttm_class)\n",
    "y"
   ]
  },
  {
   "cell_type": "markdown",
   "id": "4e9efc4d-f5ee-4a18-aef6-df840395a55a",
   "metadata": {},
   "source": [
    "## Extract Features from Raw Data\n",
    "\n",
    "In this section, we will create transformer objects to process raw data as per the feature extraction methods that were found to be the most effective in the previous EDA notebook.\n",
    "\n",
    "To ensure that joblib serializes the custom transformer objects correctly, we will write their definitions in [`src/features/build_features.py`](../../src/features/build_features.py) instead of this notebook, and import them from the `src` package. This way, the `src` package can be listed as a dependency wherever these objects need to be deserialized (for example, Seldon server for model deployment)."
   ]
  },
  {
   "cell_type": "markdown",
   "id": "28bdc89e-0a62-41b8-8b70-caf958bb6a2d",
   "metadata": {},
   "source": [
    "#### size"
   ]
  },
  {
   "cell_type": "code",
   "execution_count": 8,
   "id": "f769e3cb-e140-4855-8161-0c72bf6403a8",
   "metadata": {
    "execution": {
     "iopub.execute_input": "2022-11-03T19:32:40.567228Z",
     "iopub.status.busy": "2022-11-03T19:32:40.566744Z",
     "iopub.status.idle": "2022-11-03T19:32:40.571150Z",
     "shell.execute_reply": "2022-11-03T19:32:40.569993Z"
    }
   },
   "outputs": [],
   "source": [
    "# map values to 0,1,2,3,4,5\n",
    "pr_size_encoder = OrdinalEncoder(categories=[[\"XS\", \"S\", \"M\", \"L\", \"XL\", \"XXL\"]])"
   ]
  },
  {
   "cell_type": "markdown",
   "id": "f893270d-0525-4bff-900c-7e630f1197c0",
   "metadata": {},
   "source": [
    "#### created_at"
   ]
  },
  {
   "cell_type": "code",
   "execution_count": 9,
   "id": "7d2ab3c3-caed-4971-ba1d-4c484088a057",
   "metadata": {
    "execution": {
     "iopub.execute_input": "2022-11-03T19:32:40.574064Z",
     "iopub.status.busy": "2022-11-03T19:32:40.573538Z",
     "iopub.status.idle": "2022-11-03T19:32:40.577270Z",
     "shell.execute_reply": "2022-11-03T19:32:40.576558Z"
    }
   },
   "outputs": [],
   "source": [
    "# get day, month, date, etc. from a unix timestamp\n",
    "dt_details_transf = DateTimeDetailsTransformer()"
   ]
  },
  {
   "cell_type": "markdown",
   "id": "3b637c29-df8f-43cf-ba10-7be54e0fc018",
   "metadata": {},
   "source": [
    "#### changed_files_number"
   ]
  },
  {
   "cell_type": "code",
   "execution_count": 10,
   "id": "2ad7979f-afd8-40b2-8c03-929129908953",
   "metadata": {
    "execution": {
     "iopub.execute_input": "2022-11-03T19:32:40.580258Z",
     "iopub.status.busy": "2022-11-03T19:32:40.579960Z",
     "iopub.status.idle": "2022-11-03T19:32:40.583106Z",
     "shell.execute_reply": "2022-11-03T19:32:40.582528Z"
    }
   },
   "outputs": [],
   "source": [
    "# number of files changed in PR\n",
    "n_changed_files_transf = NumChangedFilesTransformer()"
   ]
  },
  {
   "cell_type": "markdown",
   "id": "dc2fc0cf-ab56-4b53-a190-7b5770bfebbd",
   "metadata": {},
   "source": [
    "#### body_size"
   ]
  },
  {
   "cell_type": "code",
   "execution_count": 11,
   "id": "b74d3d4d-ba0c-43c3-8506-23ed49c6dce8",
   "metadata": {
    "execution": {
     "iopub.execute_input": "2022-11-03T19:32:40.586026Z",
     "iopub.status.busy": "2022-11-03T19:32:40.585500Z",
     "iopub.status.idle": "2022-11-03T19:32:40.589247Z",
     "shell.execute_reply": "2022-11-03T19:32:40.588369Z"
    }
   },
   "outputs": [],
   "source": [
    "# number of characters in PR description\n",
    "body_size_transf = StringLenTransformer(\"body\")"
   ]
  },
  {
   "cell_type": "markdown",
   "id": "5840645a-56dc-4658-b91a-782739e8de09",
   "metadata": {},
   "source": [
    "#### filetype_\\<type>"
   ]
  },
  {
   "cell_type": "code",
   "execution_count": 12,
   "id": "71d6e5c3-eaf3-4cfe-9fe6-ef3f9b9edcfe",
   "metadata": {
    "execution": {
     "iopub.execute_input": "2022-11-03T19:32:40.591814Z",
     "iopub.status.busy": "2022-11-03T19:32:40.591495Z",
     "iopub.status.idle": "2022-11-03T19:32:40.780693Z",
     "shell.execute_reply": "2022-11-03T19:32:40.779589Z"
    }
   },
   "outputs": [],
   "source": [
    "# how many files of the given extension were changed in PR\n",
    "FILETYPE_FEATURES_FILENAME = os.path.join(ORG + REPO + \"FILETYPE.parquet\")\n",
    "FILETYPE_FEATURES_KEY = os.path.join(s3_input_data_path, ORG, REPO, \"features\")\n",
    "cc = CephCommunication(s3_endpoint_url, s3_access_key, s3_secret_key, s3_bucket)\n",
    "filetype_df = cc.read_from_ceph(FILETYPE_FEATURES_KEY, FILETYPE_FEATURES_FILENAME)"
   ]
  },
  {
   "cell_type": "code",
   "execution_count": 13,
   "id": "977a1fba-c867-4feb-848d-5456d168e940",
   "metadata": {
    "execution": {
     "iopub.execute_input": "2022-11-03T19:32:40.784320Z",
     "iopub.status.busy": "2022-11-03T19:32:40.783967Z",
     "iopub.status.idle": "2022-11-03T19:32:40.792015Z",
     "shell.execute_reply": "2022-11-03T19:32:40.791461Z"
    }
   },
   "outputs": [
    {
     "data": {
      "text/html": [
       "<div>\n",
       "<style scoped>\n",
       "    .dataframe tbody tr th:only-of-type {\n",
       "        vertical-align: middle;\n",
       "    }\n",
       "\n",
       "    .dataframe tbody tr th {\n",
       "        vertical-align: top;\n",
       "    }\n",
       "\n",
       "    .dataframe thead th {\n",
       "        text-align: right;\n",
       "    }\n",
       "</style>\n",
       "<table border=\"1\" class=\"dataframe\">\n",
       "  <thead>\n",
       "    <tr style=\"text-align: right;\">\n",
       "      <th></th>\n",
       "      <th>filetype</th>\n",
       "    </tr>\n",
       "  </thead>\n",
       "  <tbody>\n",
       "    <tr>\n",
       "      <th>0</th>\n",
       "      <td>.md</td>\n",
       "    </tr>\n",
       "    <tr>\n",
       "      <th>1</th>\n",
       "      <td>None</td>\n",
       "    </tr>\n",
       "  </tbody>\n",
       "</table>\n",
       "</div>"
      ],
      "text/plain": [
       "  filetype\n",
       "0      .md\n",
       "1     None"
      ]
     },
     "execution_count": 13,
     "metadata": {},
     "output_type": "execute_result"
    }
   ],
   "source": [
    "filetype_df"
   ]
  },
  {
   "cell_type": "code",
   "execution_count": 14,
   "id": "c987e49d-d5ab-48ec-b369-6bc5c883d976",
   "metadata": {
    "execution": {
     "iopub.execute_input": "2022-11-03T19:32:40.794940Z",
     "iopub.status.busy": "2022-11-03T19:32:40.794538Z",
     "iopub.status.idle": "2022-11-03T19:32:40.799305Z",
     "shell.execute_reply": "2022-11-03T19:32:40.798780Z"
    }
   },
   "outputs": [],
   "source": [
    "FILE_EXTENSIONS_TO_COUNT = list(filetype_df[\"filetype\"])\n",
    "\n",
    "ftype_count_transf = FileTypeCountTransformer(file_extensions=FILE_EXTENSIONS_TO_COUNT)"
   ]
  },
  {
   "cell_type": "markdown",
   "id": "8797c05d-bc9a-497e-bbca-d9ed6b444f44",
   "metadata": {},
   "source": [
    "#### title_wordcount_\\<word>"
   ]
  },
  {
   "cell_type": "code",
   "execution_count": 15,
   "id": "952d3564-c7a9-4707-9117-b4ccfaf0065c",
   "metadata": {
    "execution": {
     "iopub.execute_input": "2022-11-03T19:32:40.802111Z",
     "iopub.status.busy": "2022-11-03T19:32:40.801698Z",
     "iopub.status.idle": "2022-11-03T19:32:40.969981Z",
     "shell.execute_reply": "2022-11-03T19:32:40.969232Z"
    }
   },
   "outputs": [],
   "source": [
    "TITLE_FEATURES_FILENAME = os.path.join(ORG + REPO + \"titlewords.parquet\")\n",
    "TITLE_FEATURES_KEY = os.path.join(s3_input_data_path, ORG, REPO, \"features\")\n",
    "cc = CephCommunication(s3_endpoint_url, s3_access_key, s3_secret_key, s3_bucket)\n",
    "title_word_keep_cols_df = cc.read_from_ceph(TITLE_FEATURES_KEY, TITLE_FEATURES_FILENAME)"
   ]
  },
  {
   "cell_type": "code",
   "execution_count": 16,
   "id": "0534487e-f064-49ef-a0a2-15f6022dfcab",
   "metadata": {
    "execution": {
     "iopub.execute_input": "2022-11-03T19:32:40.973940Z",
     "iopub.status.busy": "2022-11-03T19:32:40.973493Z",
     "iopub.status.idle": "2022-11-03T19:32:40.982101Z",
     "shell.execute_reply": "2022-11-03T19:32:40.981562Z"
    }
   },
   "outputs": [
    {
     "data": {
      "text/html": [
       "<div>\n",
       "<style scoped>\n",
       "    .dataframe tbody tr th:only-of-type {\n",
       "        vertical-align: middle;\n",
       "    }\n",
       "\n",
       "    .dataframe tbody tr th {\n",
       "        vertical-align: top;\n",
       "    }\n",
       "\n",
       "    .dataframe thead th {\n",
       "        text-align: right;\n",
       "    }\n",
       "</style>\n",
       "<table border=\"1\" class=\"dataframe\">\n",
       "  <thead>\n",
       "    <tr style=\"text-align: right;\">\n",
       "      <th></th>\n",
       "      <th>title</th>\n",
       "    </tr>\n",
       "  </thead>\n",
       "  <tbody>\n",
       "    <tr>\n",
       "      <th>0</th>\n",
       "      <td>&gt;</td>\n",
       "    </tr>\n",
       "    <tr>\n",
       "      <th>1</th>\n",
       "      <td>actorcloud</td>\n",
       "    </tr>\n",
       "    <tr>\n",
       "      <th>2</th>\n",
       "      <td>adde</td>\n",
       "    </tr>\n",
       "    <tr>\n",
       "      <th>3</th>\n",
       "      <td>added</td>\n",
       "    </tr>\n",
       "    <tr>\n",
       "      <th>4</th>\n",
       "      <td>addition</td>\n",
       "    </tr>\n",
       "    <tr>\n",
       "      <th>...</th>\n",
       "      <td>...</td>\n",
       "    </tr>\n",
       "    <tr>\n",
       "      <th>242</th>\n",
       "      <td>youtube</td>\n",
       "    </tr>\n",
       "    <tr>\n",
       "      <th>243</th>\n",
       "      <td>z3950</td>\n",
       "    </tr>\n",
       "    <tr>\n",
       "      <th>244</th>\n",
       "      <td>zappa</td>\n",
       "    </tr>\n",
       "    <tr>\n",
       "      <th>245</th>\n",
       "      <td>zmusic</td>\n",
       "    </tr>\n",
       "    <tr>\n",
       "      <th>246</th>\n",
       "      <td>…</td>\n",
       "    </tr>\n",
       "  </tbody>\n",
       "</table>\n",
       "<p>247 rows × 1 columns</p>\n",
       "</div>"
      ],
      "text/plain": [
       "          title\n",
       "0             >\n",
       "1    actorcloud\n",
       "2          adde\n",
       "3         added\n",
       "4      addition\n",
       "..          ...\n",
       "242     youtube\n",
       "243       z3950\n",
       "244       zappa\n",
       "245      zmusic\n",
       "246           …\n",
       "\n",
       "[247 rows x 1 columns]"
      ]
     },
     "execution_count": 16,
     "metadata": {},
     "output_type": "execute_result"
    }
   ],
   "source": [
    "title_word_keep_cols_df"
   ]
  },
  {
   "cell_type": "code",
   "execution_count": 17,
   "id": "1be7c50c-dc47-483f-b695-a9c02d6cb51b",
   "metadata": {
    "execution": {
     "iopub.execute_input": "2022-11-03T19:32:40.984884Z",
     "iopub.status.busy": "2022-11-03T19:32:40.984592Z",
     "iopub.status.idle": "2022-11-03T19:32:40.988460Z",
     "shell.execute_reply": "2022-11-03T19:32:40.987957Z"
    }
   },
   "outputs": [],
   "source": [
    "# how many times these words appeared in PR title\n",
    "WORDS_TO_COUNT = list(title_word_keep_cols_df[\"title\"])\n",
    "\n",
    "title_wc_transf = TitleWordCountTransformer(words=WORDS_TO_COUNT)"
   ]
  },
  {
   "cell_type": "markdown",
   "id": "11932e2c-ffb2-4a98-9bb9-63a8a4984403",
   "metadata": {},
   "source": [
    "## Apply Transforms"
   ]
  },
  {
   "cell_type": "code",
   "execution_count": 18,
   "id": "c4ee7eb8-62d6-452f-b548-1a884e63ce4c",
   "metadata": {
    "execution": {
     "iopub.execute_input": "2022-11-03T19:32:40.990906Z",
     "iopub.status.busy": "2022-11-03T19:32:40.990708Z",
     "iopub.status.idle": "2022-11-03T19:32:40.995606Z",
     "shell.execute_reply": "2022-11-03T19:32:40.995093Z"
    }
   },
   "outputs": [],
   "source": [
    "# transformer objects compiled into one columntransformer\n",
    "raw_data_processor = ColumnTransformer(\n",
    "    [\n",
    "        (\"pr_size\", pr_size_encoder, [\"size\"]),  # 1 cols generated\n",
    "        (\"created_at_details\", dt_details_transf, [\"created_at\"]),  # 4 cols generated\n",
    "        (\n",
    "            \"n_changed_files\",\n",
    "            n_changed_files_transf,\n",
    "            [\"changed_files_number\"],\n",
    "        ),  # 1 cols generated\n",
    "        (\"body_size\", body_size_transf, [\"body\"]),  # 1 cols generated\n",
    "        (\"n_commits\", \"passthrough\", [\"commits_number\"]),  # 1 cols generated\n",
    "        (\n",
    "            \"filetype_counter\",\n",
    "            ftype_count_transf,\n",
    "            [\"changed_files\"],\n",
    "        ),\n",
    "        (\"title_word_counter\", title_wc_transf, [\"title\"]),\n",
    "    ],\n",
    "    remainder=\"drop\",\n",
    ")"
   ]
  },
  {
   "cell_type": "code",
   "execution_count": 19,
   "id": "7fa84a70-dab6-4a48-90fc-844c29d38263",
   "metadata": {
    "execution": {
     "iopub.execute_input": "2022-11-03T19:32:40.998001Z",
     "iopub.status.busy": "2022-11-03T19:32:40.997809Z",
     "iopub.status.idle": "2022-11-03T19:32:41.001236Z",
     "shell.execute_reply": "2022-11-03T19:32:41.000661Z"
    }
   },
   "outputs": [],
   "source": [
    "# column names. this is needed because sklearn forcefully converts df to ndarray,\n",
    "# thus losing column information. this is a hack to retain that info. look for alternatives\n",
    "cols = (\n",
    "    [\n",
    "        \"size\",\n",
    "        \"created_at_day\",\n",
    "        \"created_at_month\",\n",
    "        \"created_at_weekday\",\n",
    "        \"created_at_hour\",\n",
    "    ]\n",
    "    + [\n",
    "        \"changed_files_number\",\n",
    "        \"body_size\",\n",
    "        \"commits_number\",\n",
    "    ]\n",
    "    + [f\"filetype_{f}\" for f in FILE_EXTENSIONS_TO_COUNT]\n",
    "    + [f\"title_wordcount_{w}\" for w in WORDS_TO_COUNT]\n",
    ")"
   ]
  },
  {
   "cell_type": "code",
   "execution_count": 20,
   "id": "6e757941-3017-4b3b-a8d3-af19a056d9e4",
   "metadata": {
    "execution": {
     "iopub.execute_input": "2022-11-03T19:32:41.003891Z",
     "iopub.status.busy": "2022-11-03T19:32:41.003551Z",
     "iopub.status.idle": "2022-11-03T19:32:42.282566Z",
     "shell.execute_reply": "2022-11-03T19:32:42.281806Z"
    },
    "tags": []
   },
   "outputs": [
    {
     "data": {
      "text/html": [
       "<div>\n",
       "<style scoped>\n",
       "    .dataframe tbody tr th:only-of-type {\n",
       "        vertical-align: middle;\n",
       "    }\n",
       "\n",
       "    .dataframe tbody tr th {\n",
       "        vertical-align: top;\n",
       "    }\n",
       "\n",
       "    .dataframe thead th {\n",
       "        text-align: right;\n",
       "    }\n",
       "</style>\n",
       "<table border=\"1\" class=\"dataframe\">\n",
       "  <thead>\n",
       "    <tr style=\"text-align: right;\">\n",
       "      <th></th>\n",
       "      <th>size</th>\n",
       "      <th>created_at_day</th>\n",
       "      <th>created_at_month</th>\n",
       "      <th>created_at_weekday</th>\n",
       "      <th>created_at_hour</th>\n",
       "      <th>changed_files_number</th>\n",
       "      <th>body_size</th>\n",
       "      <th>commits_number</th>\n",
       "      <th>filetype_.md</th>\n",
       "      <th>filetype_None</th>\n",
       "      <th>...</th>\n",
       "      <th>title_wordcount_vuejs</th>\n",
       "      <th>title_wordcount_way</th>\n",
       "      <th>title_wordcount_web</th>\n",
       "      <th>title_wordcount_whooshalchemy</th>\n",
       "      <th>title_wordcount_wtf</th>\n",
       "      <th>title_wordcount_youtube</th>\n",
       "      <th>title_wordcount_z3950</th>\n",
       "      <th>title_wordcount_zappa</th>\n",
       "      <th>title_wordcount_zmusic</th>\n",
       "      <th>title_wordcount_…</th>\n",
       "    </tr>\n",
       "  </thead>\n",
       "  <tbody>\n",
       "    <tr>\n",
       "      <th>0</th>\n",
       "      <td>0.0</td>\n",
       "      <td>31.0</td>\n",
       "      <td>7.0</td>\n",
       "      <td>6.0</td>\n",
       "      <td>0.0</td>\n",
       "      <td>1.0</td>\n",
       "      <td>19.0</td>\n",
       "      <td>1.0</td>\n",
       "      <td>1.0</td>\n",
       "      <td>0.0</td>\n",
       "      <td>...</td>\n",
       "      <td>0.0</td>\n",
       "      <td>0.0</td>\n",
       "      <td>0.0</td>\n",
       "      <td>0.0</td>\n",
       "      <td>0.0</td>\n",
       "      <td>0.0</td>\n",
       "      <td>0.0</td>\n",
       "      <td>0.0</td>\n",
       "      <td>0.0</td>\n",
       "      <td>0.0</td>\n",
       "    </tr>\n",
       "    <tr>\n",
       "      <th>1</th>\n",
       "      <td>0.0</td>\n",
       "      <td>28.0</td>\n",
       "      <td>7.0</td>\n",
       "      <td>3.0</td>\n",
       "      <td>13.0</td>\n",
       "      <td>1.0</td>\n",
       "      <td>34.0</td>\n",
       "      <td>1.0</td>\n",
       "      <td>1.0</td>\n",
       "      <td>0.0</td>\n",
       "      <td>...</td>\n",
       "      <td>0.0</td>\n",
       "      <td>0.0</td>\n",
       "      <td>0.0</td>\n",
       "      <td>0.0</td>\n",
       "      <td>0.0</td>\n",
       "      <td>0.0</td>\n",
       "      <td>0.0</td>\n",
       "      <td>0.0</td>\n",
       "      <td>0.0</td>\n",
       "      <td>0.0</td>\n",
       "    </tr>\n",
       "    <tr>\n",
       "      <th>2</th>\n",
       "      <td>0.0</td>\n",
       "      <td>19.0</td>\n",
       "      <td>2.0</td>\n",
       "      <td>5.0</td>\n",
       "      <td>6.0</td>\n",
       "      <td>1.0</td>\n",
       "      <td>6.0</td>\n",
       "      <td>1.0</td>\n",
       "      <td>1.0</td>\n",
       "      <td>0.0</td>\n",
       "      <td>...</td>\n",
       "      <td>0.0</td>\n",
       "      <td>1.0</td>\n",
       "      <td>0.0</td>\n",
       "      <td>0.0</td>\n",
       "      <td>0.0</td>\n",
       "      <td>0.0</td>\n",
       "      <td>0.0</td>\n",
       "      <td>0.0</td>\n",
       "      <td>0.0</td>\n",
       "      <td>0.0</td>\n",
       "    </tr>\n",
       "    <tr>\n",
       "      <th>3</th>\n",
       "      <td>0.0</td>\n",
       "      <td>22.0</td>\n",
       "      <td>1.0</td>\n",
       "      <td>5.0</td>\n",
       "      <td>10.0</td>\n",
       "      <td>1.0</td>\n",
       "      <td>16.0</td>\n",
       "      <td>1.0</td>\n",
       "      <td>1.0</td>\n",
       "      <td>0.0</td>\n",
       "      <td>...</td>\n",
       "      <td>0.0</td>\n",
       "      <td>0.0</td>\n",
       "      <td>0.0</td>\n",
       "      <td>0.0</td>\n",
       "      <td>0.0</td>\n",
       "      <td>0.0</td>\n",
       "      <td>0.0</td>\n",
       "      <td>0.0</td>\n",
       "      <td>0.0</td>\n",
       "      <td>0.0</td>\n",
       "    </tr>\n",
       "    <tr>\n",
       "      <th>4</th>\n",
       "      <td>0.0</td>\n",
       "      <td>17.0</td>\n",
       "      <td>10.0</td>\n",
       "      <td>6.0</td>\n",
       "      <td>12.0</td>\n",
       "      <td>2.0</td>\n",
       "      <td>30.0</td>\n",
       "      <td>2.0</td>\n",
       "      <td>2.0</td>\n",
       "      <td>0.0</td>\n",
       "      <td>...</td>\n",
       "      <td>0.0</td>\n",
       "      <td>0.0</td>\n",
       "      <td>0.0</td>\n",
       "      <td>0.0</td>\n",
       "      <td>0.0</td>\n",
       "      <td>0.0</td>\n",
       "      <td>0.0</td>\n",
       "      <td>0.0</td>\n",
       "      <td>0.0</td>\n",
       "      <td>0.0</td>\n",
       "    </tr>\n",
       "  </tbody>\n",
       "</table>\n",
       "<p>5 rows × 257 columns</p>\n",
       "</div>"
      ],
      "text/plain": [
       "   size  created_at_day  created_at_month  created_at_weekday  \\\n",
       "0   0.0            31.0               7.0                 6.0   \n",
       "1   0.0            28.0               7.0                 3.0   \n",
       "2   0.0            19.0               2.0                 5.0   \n",
       "3   0.0            22.0               1.0                 5.0   \n",
       "4   0.0            17.0              10.0                 6.0   \n",
       "\n",
       "   created_at_hour  changed_files_number  body_size  commits_number  \\\n",
       "0              0.0                   1.0       19.0             1.0   \n",
       "1             13.0                   1.0       34.0             1.0   \n",
       "2              6.0                   1.0        6.0             1.0   \n",
       "3             10.0                   1.0       16.0             1.0   \n",
       "4             12.0                   2.0       30.0             2.0   \n",
       "\n",
       "   filetype_.md  filetype_None  ...  title_wordcount_vuejs  \\\n",
       "0           1.0            0.0  ...                    0.0   \n",
       "1           1.0            0.0  ...                    0.0   \n",
       "2           1.0            0.0  ...                    0.0   \n",
       "3           1.0            0.0  ...                    0.0   \n",
       "4           2.0            0.0  ...                    0.0   \n",
       "\n",
       "   title_wordcount_way  title_wordcount_web  title_wordcount_whooshalchemy  \\\n",
       "0                  0.0                  0.0                            0.0   \n",
       "1                  0.0                  0.0                            0.0   \n",
       "2                  1.0                  0.0                            0.0   \n",
       "3                  0.0                  0.0                            0.0   \n",
       "4                  0.0                  0.0                            0.0   \n",
       "\n",
       "   title_wordcount_wtf  title_wordcount_youtube  title_wordcount_z3950  \\\n",
       "0                  0.0                      0.0                    0.0   \n",
       "1                  0.0                      0.0                    0.0   \n",
       "2                  0.0                      0.0                    0.0   \n",
       "3                  0.0                      0.0                    0.0   \n",
       "4                  0.0                      0.0                    0.0   \n",
       "\n",
       "   title_wordcount_zappa  title_wordcount_zmusic  title_wordcount_…  \n",
       "0                    0.0                     0.0                0.0  \n",
       "1                    0.0                     0.0                0.0  \n",
       "2                    0.0                     0.0                0.0  \n",
       "3                    0.0                     0.0                0.0  \n",
       "4                    0.0                     0.0                0.0  \n",
       "\n",
       "[5 rows x 257 columns]"
      ]
     },
     "execution_count": 20,
     "metadata": {},
     "output_type": "execute_result"
    }
   ],
   "source": [
    "X = raw_data_processor.fit_transform(pr_df)\n",
    "X = pd.DataFrame(X, index=pr_df.index, columns=cols)\n",
    "X.head()"
   ]
  },
  {
   "cell_type": "code",
   "execution_count": 21,
   "id": "2853951f-bad4-4b92-a713-769b86a1e33f",
   "metadata": {
    "execution": {
     "iopub.execute_input": "2022-11-03T19:32:42.286127Z",
     "iopub.status.busy": "2022-11-03T19:32:42.285693Z",
     "iopub.status.idle": "2022-11-03T19:32:42.312650Z",
     "shell.execute_reply": "2022-11-03T19:32:42.312000Z"
    }
   },
   "outputs": [
    {
     "data": {
      "text/html": [
       "<div>\n",
       "<style scoped>\n",
       "    .dataframe tbody tr th:only-of-type {\n",
       "        vertical-align: middle;\n",
       "    }\n",
       "\n",
       "    .dataframe tbody tr th {\n",
       "        vertical-align: top;\n",
       "    }\n",
       "\n",
       "    .dataframe thead th {\n",
       "        text-align: right;\n",
       "    }\n",
       "</style>\n",
       "<table border=\"1\" class=\"dataframe\">\n",
       "  <thead>\n",
       "    <tr style=\"text-align: right;\">\n",
       "      <th></th>\n",
       "      <th>title</th>\n",
       "      <th>body</th>\n",
       "      <th>size</th>\n",
       "      <th>created_by</th>\n",
       "      <th>created_at</th>\n",
       "      <th>closed_at</th>\n",
       "      <th>closed_by</th>\n",
       "      <th>merged_at</th>\n",
       "      <th>merged_by</th>\n",
       "      <th>commits_number</th>\n",
       "      <th>changed_files_number</th>\n",
       "      <th>interactions</th>\n",
       "      <th>reviews</th>\n",
       "      <th>labels</th>\n",
       "      <th>commits</th>\n",
       "      <th>changed_files</th>\n",
       "      <th>changed_files_changes</th>\n",
       "      <th>first_review_at</th>\n",
       "      <th>first_approve_at</th>\n",
       "      <th>id</th>\n",
       "    </tr>\n",
       "  </thead>\n",
       "  <tbody>\n",
       "    <tr>\n",
       "      <th>0</th>\n",
       "      <td>docs: fix simple typo, cources -&gt; courses</td>\n",
       "      <td>There is a small typo in CONTRIBUTING.md.\\n\\nS...</td>\n",
       "      <td>XS</td>\n",
       "      <td>timgates42</td>\n",
       "      <td>1659226482</td>\n",
       "      <td>NaN</td>\n",
       "      <td>None</td>\n",
       "      <td>NaN</td>\n",
       "      <td>None</td>\n",
       "      <td>1</td>\n",
       "      <td>1</td>\n",
       "      <td>{}</td>\n",
       "      <td>{}</td>\n",
       "      <td>[]</td>\n",
       "      <td>[b3207ea8bd9b6965c05e487fe6246a098571dd1f]</td>\n",
       "      <td>[CONTRIBUTING.md]</td>\n",
       "      <td>{'CONTRIBUTING.md': 2}</td>\n",
       "      <td>None</td>\n",
       "      <td>None</td>\n",
       "      <td>225</td>\n",
       "    </tr>\n",
       "    <tr>\n",
       "      <th>1</th>\n",
       "      <td>New tutorial resource of integrating Flask wit...</td>\n",
       "      <td>Hey everyone,\\r\\n\\r\\nBecause Tailwind CSS and ...</td>\n",
       "      <td>XS</td>\n",
       "      <td>zoltanszogyenyi</td>\n",
       "      <td>1659015529</td>\n",
       "      <td>NaN</td>\n",
       "      <td>None</td>\n",
       "      <td>NaN</td>\n",
       "      <td>None</td>\n",
       "      <td>1</td>\n",
       "      <td>1</td>\n",
       "      <td>{'ah-ring': 1}</td>\n",
       "      <td>{}</td>\n",
       "      <td>[]</td>\n",
       "      <td>[aac6f9434d27cab7177ce74bcf78f8b7fbc819dc]</td>\n",
       "      <td>[README.md]</td>\n",
       "      <td>{'README.md': 1}</td>\n",
       "      <td>None</td>\n",
       "      <td>None</td>\n",
       "      <td>224</td>\n",
       "    </tr>\n",
       "    <tr>\n",
       "      <th>2</th>\n",
       "      <td>Add apiman, a easy way to integrate Swagger/Op...</td>\n",
       "      <td>Add [apiman](https://github.com/strongbugman/a...</td>\n",
       "      <td>XS</td>\n",
       "      <td>strongbugman</td>\n",
       "      <td>1645251264</td>\n",
       "      <td>NaN</td>\n",
       "      <td>None</td>\n",
       "      <td>NaN</td>\n",
       "      <td>None</td>\n",
       "      <td>1</td>\n",
       "      <td>1</td>\n",
       "      <td>{'ah-ring': 1}</td>\n",
       "      <td>{}</td>\n",
       "      <td>[]</td>\n",
       "      <td>[1c782d4588276a4f88ad43ee79e3b3010f66f518]</td>\n",
       "      <td>[README.md]</td>\n",
       "      <td>{'README.md': 1}</td>\n",
       "      <td>None</td>\n",
       "      <td>None</td>\n",
       "      <td>222</td>\n",
       "    </tr>\n",
       "    <tr>\n",
       "      <th>3</th>\n",
       "      <td>Flask-RESTX replaces Flask-RestPlus</td>\n",
       "      <td>If you go on the website of Flask-RestPlus, th...</td>\n",
       "      <td>XS</td>\n",
       "      <td>MartinThoma</td>\n",
       "      <td>1642846223</td>\n",
       "      <td>NaN</td>\n",
       "      <td>None</td>\n",
       "      <td>NaN</td>\n",
       "      <td>None</td>\n",
       "      <td>1</td>\n",
       "      <td>1</td>\n",
       "      <td>{'ah-ring': 1, 'MartinThoma': 7}</td>\n",
       "      <td>{}</td>\n",
       "      <td>[]</td>\n",
       "      <td>[f06f9d04fc82623fd0ae8f4c3de2b33f45601f10]</td>\n",
       "      <td>[README.md]</td>\n",
       "      <td>{'README.md': 2}</td>\n",
       "      <td>None</td>\n",
       "      <td>None</td>\n",
       "      <td>221</td>\n",
       "    </tr>\n",
       "    <tr>\n",
       "      <th>4</th>\n",
       "      <td>Added a free course and updated contributing.md</td>\n",
       "      <td>Flask: Develop Web Applications in Python - Th...</td>\n",
       "      <td>XS</td>\n",
       "      <td>samr1ddh1</td>\n",
       "      <td>1634472220</td>\n",
       "      <td>NaN</td>\n",
       "      <td>None</td>\n",
       "      <td>NaN</td>\n",
       "      <td>None</td>\n",
       "      <td>2</td>\n",
       "      <td>2</td>\n",
       "      <td>{}</td>\n",
       "      <td>{}</td>\n",
       "      <td>[]</td>\n",
       "      <td>[c669f7a1583f7ada3e7b256373581294c23795fe, fd0...</td>\n",
       "      <td>[CONTRIBUTING.md, README.md]</td>\n",
       "      <td>{'CONTRIBUTING.md': 2, 'README.md': 2}</td>\n",
       "      <td>None</td>\n",
       "      <td>None</td>\n",
       "      <td>219</td>\n",
       "    </tr>\n",
       "    <tr>\n",
       "      <th>...</th>\n",
       "      <td>...</td>\n",
       "      <td>...</td>\n",
       "      <td>...</td>\n",
       "      <td>...</td>\n",
       "      <td>...</td>\n",
       "      <td>...</td>\n",
       "      <td>...</td>\n",
       "      <td>...</td>\n",
       "      <td>...</td>\n",
       "      <td>...</td>\n",
       "      <td>...</td>\n",
       "      <td>...</td>\n",
       "      <td>...</td>\n",
       "      <td>...</td>\n",
       "      <td>...</td>\n",
       "      <td>...</td>\n",
       "      <td>...</td>\n",
       "      <td>...</td>\n",
       "      <td>...</td>\n",
       "      <td>...</td>\n",
       "    </tr>\n",
       "    <tr>\n",
       "      <th>187</th>\n",
       "      <td>Add one tutorial: Building a blog using Flask ...</td>\n",
       "      <td>http://blog.john.mayonvolcanosoftware.com/buil...</td>\n",
       "      <td>XS</td>\n",
       "      <td>hyao</td>\n",
       "      <td>1412259441</td>\n",
       "      <td>1.412476e+09</td>\n",
       "      <td>humiaozuzu</td>\n",
       "      <td>1.412476e+09</td>\n",
       "      <td>humiaozuzu</td>\n",
       "      <td>1</td>\n",
       "      <td>1</td>\n",
       "      <td>{}</td>\n",
       "      <td>{}</td>\n",
       "      <td>[]</td>\n",
       "      <td>[324c8c50754c1376433356822b2b1a26120ba594]</td>\n",
       "      <td>[README.md]</td>\n",
       "      <td>{'README.md': 1}</td>\n",
       "      <td>None</td>\n",
       "      <td>None</td>\n",
       "      <td>6</td>\n",
       "    </tr>\n",
       "    <tr>\n",
       "      <th>188</th>\n",
       "      <td>Added Flask-FlatFiles</td>\n",
       "      <td></td>\n",
       "      <td>XS</td>\n",
       "      <td>dhamaniasad</td>\n",
       "      <td>1412218744</td>\n",
       "      <td>1.427117e+09</td>\n",
       "      <td>humiaozuzu</td>\n",
       "      <td>1.427117e+09</td>\n",
       "      <td>humiaozuzu</td>\n",
       "      <td>1</td>\n",
       "      <td>1</td>\n",
       "      <td>{}</td>\n",
       "      <td>{}</td>\n",
       "      <td>[]</td>\n",
       "      <td>[0a0dedba2b2514a81b8e4a5b83fd28bed447ca4d]</td>\n",
       "      <td>[README.md]</td>\n",
       "      <td>{'README.md': 1}</td>\n",
       "      <td>None</td>\n",
       "      <td>None</td>\n",
       "      <td>5</td>\n",
       "    </tr>\n",
       "    <tr>\n",
       "      <th>189</th>\n",
       "      <td>fix flask mega tutorial typo</td>\n",
       "      <td></td>\n",
       "      <td>XS</td>\n",
       "      <td>hyao</td>\n",
       "      <td>1412193799</td>\n",
       "      <td>1.412238e+09</td>\n",
       "      <td>humiaozuzu</td>\n",
       "      <td>1.412238e+09</td>\n",
       "      <td>humiaozuzu</td>\n",
       "      <td>1</td>\n",
       "      <td>1</td>\n",
       "      <td>{}</td>\n",
       "      <td>{}</td>\n",
       "      <td>[]</td>\n",
       "      <td>[3e926a02c0d0df2db947fa98d9c9337e4cf0d018]</td>\n",
       "      <td>[README.md]</td>\n",
       "      <td>{'README.md': 2}</td>\n",
       "      <td>None</td>\n",
       "      <td>None</td>\n",
       "      <td>4</td>\n",
       "    </tr>\n",
       "    <tr>\n",
       "      <th>190</th>\n",
       "      <td>Added project to Repos section</td>\n",
       "      <td>:sparkles:\\n</td>\n",
       "      <td>XS</td>\n",
       "      <td>ghost</td>\n",
       "      <td>1408790044</td>\n",
       "      <td>1.427117e+09</td>\n",
       "      <td>humiaozuzu</td>\n",
       "      <td>NaN</td>\n",
       "      <td>None</td>\n",
       "      <td>1</td>\n",
       "      <td>1</td>\n",
       "      <td>{}</td>\n",
       "      <td>{}</td>\n",
       "      <td>[]</td>\n",
       "      <td>[faa10887c58c1c236ecb5bb49a7b8bb9873e93eb]</td>\n",
       "      <td>[README.md]</td>\n",
       "      <td>{'README.md': 1}</td>\n",
       "      <td>None</td>\n",
       "      <td>None</td>\n",
       "      <td>3</td>\n",
       "    </tr>\n",
       "    <tr>\n",
       "      <th>191</th>\n",
       "      <td>Added Authomatic under OAuth client/providor</td>\n",
       "      <td>Added [Authomatic](https://github.com/peterhud...</td>\n",
       "      <td>XS</td>\n",
       "      <td>the-shank</td>\n",
       "      <td>1408384613</td>\n",
       "      <td>1.408464e+09</td>\n",
       "      <td>humiaozuzu</td>\n",
       "      <td>1.408464e+09</td>\n",
       "      <td>humiaozuzu</td>\n",
       "      <td>1</td>\n",
       "      <td>1</td>\n",
       "      <td>{'humiaozuzu': 4, 'the-shank': 15}</td>\n",
       "      <td>{}</td>\n",
       "      <td>[]</td>\n",
       "      <td>[e6e278e11ad54585555e02c2c922ca26243eb1c8]</td>\n",
       "      <td>[README.md]</td>\n",
       "      <td>{'README.md': 1}</td>\n",
       "      <td>None</td>\n",
       "      <td>None</td>\n",
       "      <td>2</td>\n",
       "    </tr>\n",
       "  </tbody>\n",
       "</table>\n",
       "<p>192 rows × 20 columns</p>\n",
       "</div>"
      ],
      "text/plain": [
       "                                                 title  \\\n",
       "0            docs: fix simple typo, cources -> courses   \n",
       "1    New tutorial resource of integrating Flask wit...   \n",
       "2    Add apiman, a easy way to integrate Swagger/Op...   \n",
       "3                  Flask-RESTX replaces Flask-RestPlus   \n",
       "4      Added a free course and updated contributing.md   \n",
       "..                                                 ...   \n",
       "187  Add one tutorial: Building a blog using Flask ...   \n",
       "188                              Added Flask-FlatFiles   \n",
       "189                       fix flask mega tutorial typo   \n",
       "190                     Added project to Repos section   \n",
       "191       Added Authomatic under OAuth client/providor   \n",
       "\n",
       "                                                  body size       created_by  \\\n",
       "0    There is a small typo in CONTRIBUTING.md.\\n\\nS...   XS       timgates42   \n",
       "1    Hey everyone,\\r\\n\\r\\nBecause Tailwind CSS and ...   XS  zoltanszogyenyi   \n",
       "2    Add [apiman](https://github.com/strongbugman/a...   XS     strongbugman   \n",
       "3    If you go on the website of Flask-RestPlus, th...   XS      MartinThoma   \n",
       "4    Flask: Develop Web Applications in Python - Th...   XS        samr1ddh1   \n",
       "..                                                 ...  ...              ...   \n",
       "187  http://blog.john.mayonvolcanosoftware.com/buil...   XS             hyao   \n",
       "188                                                      XS      dhamaniasad   \n",
       "189                                                      XS             hyao   \n",
       "190                                       :sparkles:\\n   XS            ghost   \n",
       "191  Added [Authomatic](https://github.com/peterhud...   XS        the-shank   \n",
       "\n",
       "     created_at     closed_at   closed_by     merged_at   merged_by  \\\n",
       "0    1659226482           NaN        None           NaN        None   \n",
       "1    1659015529           NaN        None           NaN        None   \n",
       "2    1645251264           NaN        None           NaN        None   \n",
       "3    1642846223           NaN        None           NaN        None   \n",
       "4    1634472220           NaN        None           NaN        None   \n",
       "..          ...           ...         ...           ...         ...   \n",
       "187  1412259441  1.412476e+09  humiaozuzu  1.412476e+09  humiaozuzu   \n",
       "188  1412218744  1.427117e+09  humiaozuzu  1.427117e+09  humiaozuzu   \n",
       "189  1412193799  1.412238e+09  humiaozuzu  1.412238e+09  humiaozuzu   \n",
       "190  1408790044  1.427117e+09  humiaozuzu           NaN        None   \n",
       "191  1408384613  1.408464e+09  humiaozuzu  1.408464e+09  humiaozuzu   \n",
       "\n",
       "     commits_number  changed_files_number                        interactions  \\\n",
       "0                 1                     1                                  {}   \n",
       "1                 1                     1                      {'ah-ring': 1}   \n",
       "2                 1                     1                      {'ah-ring': 1}   \n",
       "3                 1                     1    {'ah-ring': 1, 'MartinThoma': 7}   \n",
       "4                 2                     2                                  {}   \n",
       "..              ...                   ...                                 ...   \n",
       "187               1                     1                                  {}   \n",
       "188               1                     1                                  {}   \n",
       "189               1                     1                                  {}   \n",
       "190               1                     1                                  {}   \n",
       "191               1                     1  {'humiaozuzu': 4, 'the-shank': 15}   \n",
       "\n",
       "    reviews labels                                            commits  \\\n",
       "0        {}     []         [b3207ea8bd9b6965c05e487fe6246a098571dd1f]   \n",
       "1        {}     []         [aac6f9434d27cab7177ce74bcf78f8b7fbc819dc]   \n",
       "2        {}     []         [1c782d4588276a4f88ad43ee79e3b3010f66f518]   \n",
       "3        {}     []         [f06f9d04fc82623fd0ae8f4c3de2b33f45601f10]   \n",
       "4        {}     []  [c669f7a1583f7ada3e7b256373581294c23795fe, fd0...   \n",
       "..      ...    ...                                                ...   \n",
       "187      {}     []         [324c8c50754c1376433356822b2b1a26120ba594]   \n",
       "188      {}     []         [0a0dedba2b2514a81b8e4a5b83fd28bed447ca4d]   \n",
       "189      {}     []         [3e926a02c0d0df2db947fa98d9c9337e4cf0d018]   \n",
       "190      {}     []         [faa10887c58c1c236ecb5bb49a7b8bb9873e93eb]   \n",
       "191      {}     []         [e6e278e11ad54585555e02c2c922ca26243eb1c8]   \n",
       "\n",
       "                    changed_files                   changed_files_changes  \\\n",
       "0               [CONTRIBUTING.md]                  {'CONTRIBUTING.md': 2}   \n",
       "1                     [README.md]                        {'README.md': 1}   \n",
       "2                     [README.md]                        {'README.md': 1}   \n",
       "3                     [README.md]                        {'README.md': 2}   \n",
       "4    [CONTRIBUTING.md, README.md]  {'CONTRIBUTING.md': 2, 'README.md': 2}   \n",
       "..                            ...                                     ...   \n",
       "187                   [README.md]                        {'README.md': 1}   \n",
       "188                   [README.md]                        {'README.md': 1}   \n",
       "189                   [README.md]                        {'README.md': 2}   \n",
       "190                   [README.md]                        {'README.md': 1}   \n",
       "191                   [README.md]                        {'README.md': 1}   \n",
       "\n",
       "    first_review_at first_approve_at   id  \n",
       "0              None             None  225  \n",
       "1              None             None  224  \n",
       "2              None             None  222  \n",
       "3              None             None  221  \n",
       "4              None             None  219  \n",
       "..              ...              ...  ...  \n",
       "187            None             None    6  \n",
       "188            None             None    5  \n",
       "189            None             None    4  \n",
       "190            None             None    3  \n",
       "191            None             None    2  \n",
       "\n",
       "[192 rows x 20 columns]"
      ]
     },
     "execution_count": 21,
     "metadata": {},
     "output_type": "execute_result"
    }
   ],
   "source": [
    "pr_df"
   ]
  },
  {
   "cell_type": "code",
   "execution_count": 22,
   "id": "b3760786-b04a-4216-a690-c60cd19bb454",
   "metadata": {
    "execution": {
     "iopub.execute_input": "2022-11-03T19:32:42.315772Z",
     "iopub.status.busy": "2022-11-03T19:32:42.315282Z",
     "iopub.status.idle": "2022-11-03T19:32:42.340511Z",
     "shell.execute_reply": "2022-11-03T19:32:42.339382Z"
    }
   },
   "outputs": [
    {
     "data": {
      "text/html": [
       "<div>\n",
       "<style scoped>\n",
       "    .dataframe tbody tr th:only-of-type {\n",
       "        vertical-align: middle;\n",
       "    }\n",
       "\n",
       "    .dataframe tbody tr th {\n",
       "        vertical-align: top;\n",
       "    }\n",
       "\n",
       "    .dataframe thead th {\n",
       "        text-align: right;\n",
       "    }\n",
       "</style>\n",
       "<table border=\"1\" class=\"dataframe\">\n",
       "  <thead>\n",
       "    <tr style=\"text-align: right;\">\n",
       "      <th></th>\n",
       "      <th>size</th>\n",
       "      <th>created_at_day</th>\n",
       "      <th>created_at_month</th>\n",
       "      <th>created_at_weekday</th>\n",
       "      <th>created_at_hour</th>\n",
       "      <th>changed_files_number</th>\n",
       "      <th>body_size</th>\n",
       "      <th>commits_number</th>\n",
       "      <th>filetype_.md</th>\n",
       "      <th>filetype_None</th>\n",
       "      <th>...</th>\n",
       "      <th>title_wordcount_vuejs</th>\n",
       "      <th>title_wordcount_way</th>\n",
       "      <th>title_wordcount_web</th>\n",
       "      <th>title_wordcount_whooshalchemy</th>\n",
       "      <th>title_wordcount_wtf</th>\n",
       "      <th>title_wordcount_youtube</th>\n",
       "      <th>title_wordcount_z3950</th>\n",
       "      <th>title_wordcount_zappa</th>\n",
       "      <th>title_wordcount_zmusic</th>\n",
       "      <th>title_wordcount_…</th>\n",
       "    </tr>\n",
       "  </thead>\n",
       "  <tbody>\n",
       "    <tr>\n",
       "      <th>0</th>\n",
       "      <td>0.0</td>\n",
       "      <td>31.0</td>\n",
       "      <td>7.0</td>\n",
       "      <td>6.0</td>\n",
       "      <td>0.0</td>\n",
       "      <td>1.0</td>\n",
       "      <td>19.0</td>\n",
       "      <td>1.0</td>\n",
       "      <td>1.0</td>\n",
       "      <td>0.0</td>\n",
       "      <td>...</td>\n",
       "      <td>0.0</td>\n",
       "      <td>0.0</td>\n",
       "      <td>0.0</td>\n",
       "      <td>0.0</td>\n",
       "      <td>0.0</td>\n",
       "      <td>0.0</td>\n",
       "      <td>0.0</td>\n",
       "      <td>0.0</td>\n",
       "      <td>0.0</td>\n",
       "      <td>0.0</td>\n",
       "    </tr>\n",
       "    <tr>\n",
       "      <th>1</th>\n",
       "      <td>0.0</td>\n",
       "      <td>28.0</td>\n",
       "      <td>7.0</td>\n",
       "      <td>3.0</td>\n",
       "      <td>13.0</td>\n",
       "      <td>1.0</td>\n",
       "      <td>34.0</td>\n",
       "      <td>1.0</td>\n",
       "      <td>1.0</td>\n",
       "      <td>0.0</td>\n",
       "      <td>...</td>\n",
       "      <td>0.0</td>\n",
       "      <td>0.0</td>\n",
       "      <td>0.0</td>\n",
       "      <td>0.0</td>\n",
       "      <td>0.0</td>\n",
       "      <td>0.0</td>\n",
       "      <td>0.0</td>\n",
       "      <td>0.0</td>\n",
       "      <td>0.0</td>\n",
       "      <td>0.0</td>\n",
       "    </tr>\n",
       "    <tr>\n",
       "      <th>2</th>\n",
       "      <td>0.0</td>\n",
       "      <td>19.0</td>\n",
       "      <td>2.0</td>\n",
       "      <td>5.0</td>\n",
       "      <td>6.0</td>\n",
       "      <td>1.0</td>\n",
       "      <td>6.0</td>\n",
       "      <td>1.0</td>\n",
       "      <td>1.0</td>\n",
       "      <td>0.0</td>\n",
       "      <td>...</td>\n",
       "      <td>0.0</td>\n",
       "      <td>1.0</td>\n",
       "      <td>0.0</td>\n",
       "      <td>0.0</td>\n",
       "      <td>0.0</td>\n",
       "      <td>0.0</td>\n",
       "      <td>0.0</td>\n",
       "      <td>0.0</td>\n",
       "      <td>0.0</td>\n",
       "      <td>0.0</td>\n",
       "    </tr>\n",
       "    <tr>\n",
       "      <th>3</th>\n",
       "      <td>0.0</td>\n",
       "      <td>22.0</td>\n",
       "      <td>1.0</td>\n",
       "      <td>5.0</td>\n",
       "      <td>10.0</td>\n",
       "      <td>1.0</td>\n",
       "      <td>16.0</td>\n",
       "      <td>1.0</td>\n",
       "      <td>1.0</td>\n",
       "      <td>0.0</td>\n",
       "      <td>...</td>\n",
       "      <td>0.0</td>\n",
       "      <td>0.0</td>\n",
       "      <td>0.0</td>\n",
       "      <td>0.0</td>\n",
       "      <td>0.0</td>\n",
       "      <td>0.0</td>\n",
       "      <td>0.0</td>\n",
       "      <td>0.0</td>\n",
       "      <td>0.0</td>\n",
       "      <td>0.0</td>\n",
       "    </tr>\n",
       "    <tr>\n",
       "      <th>4</th>\n",
       "      <td>0.0</td>\n",
       "      <td>17.0</td>\n",
       "      <td>10.0</td>\n",
       "      <td>6.0</td>\n",
       "      <td>12.0</td>\n",
       "      <td>2.0</td>\n",
       "      <td>30.0</td>\n",
       "      <td>2.0</td>\n",
       "      <td>2.0</td>\n",
       "      <td>0.0</td>\n",
       "      <td>...</td>\n",
       "      <td>0.0</td>\n",
       "      <td>0.0</td>\n",
       "      <td>0.0</td>\n",
       "      <td>0.0</td>\n",
       "      <td>0.0</td>\n",
       "      <td>0.0</td>\n",
       "      <td>0.0</td>\n",
       "      <td>0.0</td>\n",
       "      <td>0.0</td>\n",
       "      <td>0.0</td>\n",
       "    </tr>\n",
       "    <tr>\n",
       "      <th>...</th>\n",
       "      <td>...</td>\n",
       "      <td>...</td>\n",
       "      <td>...</td>\n",
       "      <td>...</td>\n",
       "      <td>...</td>\n",
       "      <td>...</td>\n",
       "      <td>...</td>\n",
       "      <td>...</td>\n",
       "      <td>...</td>\n",
       "      <td>...</td>\n",
       "      <td>...</td>\n",
       "      <td>...</td>\n",
       "      <td>...</td>\n",
       "      <td>...</td>\n",
       "      <td>...</td>\n",
       "      <td>...</td>\n",
       "      <td>...</td>\n",
       "      <td>...</td>\n",
       "      <td>...</td>\n",
       "      <td>...</td>\n",
       "      <td>...</td>\n",
       "    </tr>\n",
       "    <tr>\n",
       "      <th>187</th>\n",
       "      <td>0.0</td>\n",
       "      <td>2.0</td>\n",
       "      <td>10.0</td>\n",
       "      <td>3.0</td>\n",
       "      <td>14.0</td>\n",
       "      <td>1.0</td>\n",
       "      <td>1.0</td>\n",
       "      <td>1.0</td>\n",
       "      <td>1.0</td>\n",
       "      <td>0.0</td>\n",
       "      <td>...</td>\n",
       "      <td>0.0</td>\n",
       "      <td>0.0</td>\n",
       "      <td>0.0</td>\n",
       "      <td>0.0</td>\n",
       "      <td>0.0</td>\n",
       "      <td>0.0</td>\n",
       "      <td>0.0</td>\n",
       "      <td>0.0</td>\n",
       "      <td>0.0</td>\n",
       "      <td>0.0</td>\n",
       "    </tr>\n",
       "    <tr>\n",
       "      <th>188</th>\n",
       "      <td>0.0</td>\n",
       "      <td>2.0</td>\n",
       "      <td>10.0</td>\n",
       "      <td>3.0</td>\n",
       "      <td>2.0</td>\n",
       "      <td>1.0</td>\n",
       "      <td>0.0</td>\n",
       "      <td>1.0</td>\n",
       "      <td>1.0</td>\n",
       "      <td>0.0</td>\n",
       "      <td>...</td>\n",
       "      <td>0.0</td>\n",
       "      <td>0.0</td>\n",
       "      <td>0.0</td>\n",
       "      <td>0.0</td>\n",
       "      <td>0.0</td>\n",
       "      <td>0.0</td>\n",
       "      <td>0.0</td>\n",
       "      <td>0.0</td>\n",
       "      <td>0.0</td>\n",
       "      <td>0.0</td>\n",
       "    </tr>\n",
       "    <tr>\n",
       "      <th>189</th>\n",
       "      <td>0.0</td>\n",
       "      <td>1.0</td>\n",
       "      <td>10.0</td>\n",
       "      <td>2.0</td>\n",
       "      <td>20.0</td>\n",
       "      <td>1.0</td>\n",
       "      <td>0.0</td>\n",
       "      <td>1.0</td>\n",
       "      <td>1.0</td>\n",
       "      <td>0.0</td>\n",
       "      <td>...</td>\n",
       "      <td>0.0</td>\n",
       "      <td>0.0</td>\n",
       "      <td>0.0</td>\n",
       "      <td>0.0</td>\n",
       "      <td>0.0</td>\n",
       "      <td>0.0</td>\n",
       "      <td>0.0</td>\n",
       "      <td>0.0</td>\n",
       "      <td>0.0</td>\n",
       "      <td>0.0</td>\n",
       "    </tr>\n",
       "    <tr>\n",
       "      <th>190</th>\n",
       "      <td>0.0</td>\n",
       "      <td>23.0</td>\n",
       "      <td>8.0</td>\n",
       "      <td>5.0</td>\n",
       "      <td>10.0</td>\n",
       "      <td>1.0</td>\n",
       "      <td>1.0</td>\n",
       "      <td>1.0</td>\n",
       "      <td>1.0</td>\n",
       "      <td>0.0</td>\n",
       "      <td>...</td>\n",
       "      <td>0.0</td>\n",
       "      <td>0.0</td>\n",
       "      <td>0.0</td>\n",
       "      <td>0.0</td>\n",
       "      <td>0.0</td>\n",
       "      <td>0.0</td>\n",
       "      <td>0.0</td>\n",
       "      <td>0.0</td>\n",
       "      <td>0.0</td>\n",
       "      <td>0.0</td>\n",
       "    </tr>\n",
       "    <tr>\n",
       "      <th>191</th>\n",
       "      <td>0.0</td>\n",
       "      <td>18.0</td>\n",
       "      <td>8.0</td>\n",
       "      <td>0.0</td>\n",
       "      <td>17.0</td>\n",
       "      <td>1.0</td>\n",
       "      <td>50.0</td>\n",
       "      <td>1.0</td>\n",
       "      <td>1.0</td>\n",
       "      <td>0.0</td>\n",
       "      <td>...</td>\n",
       "      <td>0.0</td>\n",
       "      <td>0.0</td>\n",
       "      <td>0.0</td>\n",
       "      <td>0.0</td>\n",
       "      <td>0.0</td>\n",
       "      <td>0.0</td>\n",
       "      <td>0.0</td>\n",
       "      <td>0.0</td>\n",
       "      <td>0.0</td>\n",
       "      <td>0.0</td>\n",
       "    </tr>\n",
       "  </tbody>\n",
       "</table>\n",
       "<p>192 rows × 257 columns</p>\n",
       "</div>"
      ],
      "text/plain": [
       "     size  created_at_day  created_at_month  created_at_weekday  \\\n",
       "0     0.0            31.0               7.0                 6.0   \n",
       "1     0.0            28.0               7.0                 3.0   \n",
       "2     0.0            19.0               2.0                 5.0   \n",
       "3     0.0            22.0               1.0                 5.0   \n",
       "4     0.0            17.0              10.0                 6.0   \n",
       "..    ...             ...               ...                 ...   \n",
       "187   0.0             2.0              10.0                 3.0   \n",
       "188   0.0             2.0              10.0                 3.0   \n",
       "189   0.0             1.0              10.0                 2.0   \n",
       "190   0.0            23.0               8.0                 5.0   \n",
       "191   0.0            18.0               8.0                 0.0   \n",
       "\n",
       "     created_at_hour  changed_files_number  body_size  commits_number  \\\n",
       "0                0.0                   1.0       19.0             1.0   \n",
       "1               13.0                   1.0       34.0             1.0   \n",
       "2                6.0                   1.0        6.0             1.0   \n",
       "3               10.0                   1.0       16.0             1.0   \n",
       "4               12.0                   2.0       30.0             2.0   \n",
       "..               ...                   ...        ...             ...   \n",
       "187             14.0                   1.0        1.0             1.0   \n",
       "188              2.0                   1.0        0.0             1.0   \n",
       "189             20.0                   1.0        0.0             1.0   \n",
       "190             10.0                   1.0        1.0             1.0   \n",
       "191             17.0                   1.0       50.0             1.0   \n",
       "\n",
       "     filetype_.md  filetype_None  ...  title_wordcount_vuejs  \\\n",
       "0             1.0            0.0  ...                    0.0   \n",
       "1             1.0            0.0  ...                    0.0   \n",
       "2             1.0            0.0  ...                    0.0   \n",
       "3             1.0            0.0  ...                    0.0   \n",
       "4             2.0            0.0  ...                    0.0   \n",
       "..            ...            ...  ...                    ...   \n",
       "187           1.0            0.0  ...                    0.0   \n",
       "188           1.0            0.0  ...                    0.0   \n",
       "189           1.0            0.0  ...                    0.0   \n",
       "190           1.0            0.0  ...                    0.0   \n",
       "191           1.0            0.0  ...                    0.0   \n",
       "\n",
       "     title_wordcount_way  title_wordcount_web  title_wordcount_whooshalchemy  \\\n",
       "0                    0.0                  0.0                            0.0   \n",
       "1                    0.0                  0.0                            0.0   \n",
       "2                    1.0                  0.0                            0.0   \n",
       "3                    0.0                  0.0                            0.0   \n",
       "4                    0.0                  0.0                            0.0   \n",
       "..                   ...                  ...                            ...   \n",
       "187                  0.0                  0.0                            0.0   \n",
       "188                  0.0                  0.0                            0.0   \n",
       "189                  0.0                  0.0                            0.0   \n",
       "190                  0.0                  0.0                            0.0   \n",
       "191                  0.0                  0.0                            0.0   \n",
       "\n",
       "     title_wordcount_wtf  title_wordcount_youtube  title_wordcount_z3950  \\\n",
       "0                    0.0                      0.0                    0.0   \n",
       "1                    0.0                      0.0                    0.0   \n",
       "2                    0.0                      0.0                    0.0   \n",
       "3                    0.0                      0.0                    0.0   \n",
       "4                    0.0                      0.0                    0.0   \n",
       "..                   ...                      ...                    ...   \n",
       "187                  0.0                      0.0                    0.0   \n",
       "188                  0.0                      0.0                    0.0   \n",
       "189                  0.0                      0.0                    0.0   \n",
       "190                  0.0                      0.0                    0.0   \n",
       "191                  0.0                      0.0                    0.0   \n",
       "\n",
       "     title_wordcount_zappa  title_wordcount_zmusic  title_wordcount_…  \n",
       "0                      0.0                     0.0                0.0  \n",
       "1                      0.0                     0.0                0.0  \n",
       "2                      0.0                     0.0                0.0  \n",
       "3                      0.0                     0.0                0.0  \n",
       "4                      0.0                     0.0                0.0  \n",
       "..                     ...                     ...                ...  \n",
       "187                    0.0                     0.0                0.0  \n",
       "188                    0.0                     0.0                0.0  \n",
       "189                    0.0                     0.0                0.0  \n",
       "190                    0.0                     0.0                0.0  \n",
       "191                    0.0                     0.0                0.0  \n",
       "\n",
       "[192 rows x 257 columns]"
      ]
     },
     "execution_count": 22,
     "metadata": {},
     "output_type": "execute_result"
    }
   ],
   "source": [
    "X"
   ]
  },
  {
   "cell_type": "markdown",
   "id": "756725bc-85c4-45b0-8f24-08cba0f57113",
   "metadata": {},
   "source": [
    "## Drop NA + Train/Test Split"
   ]
  },
  {
   "cell_type": "code",
   "execution_count": 23,
   "id": "da703bc5-696f-4f63-b471-018c18557ac6",
   "metadata": {
    "execution": {
     "iopub.execute_input": "2022-11-03T19:32:42.343561Z",
     "iopub.status.busy": "2022-11-03T19:32:42.343042Z",
     "iopub.status.idle": "2022-11-03T19:32:42.347510Z",
     "shell.execute_reply": "2022-11-03T19:32:42.346441Z"
    }
   },
   "outputs": [],
   "source": [
    "# drop entries for which labels are unknown\n",
    "# also make sure labels and features are consistent\n",
    "X = X.reindex(y.index)"
   ]
  },
  {
   "cell_type": "code",
   "execution_count": 24,
   "id": "86235437",
   "metadata": {
    "execution": {
     "iopub.execute_input": "2022-11-03T19:32:42.349881Z",
     "iopub.status.busy": "2022-11-03T19:32:42.349668Z",
     "iopub.status.idle": "2022-11-03T19:32:42.353444Z",
     "shell.execute_reply": "2022-11-03T19:32:42.352851Z"
    }
   },
   "outputs": [],
   "source": [
    "# split into train and test sets\n",
    "X_train, X_test, y_train, y_test = train_test_split(\n",
    "    X, y, test_size=0.2, random_state=42\n",
    ")"
   ]
  },
  {
   "cell_type": "code",
   "execution_count": 25,
   "id": "82ac1a13-b294-4414-906b-271e72ac091f",
   "metadata": {
    "execution": {
     "iopub.execute_input": "2022-11-03T19:32:42.355848Z",
     "iopub.status.busy": "2022-11-03T19:32:42.355649Z",
     "iopub.status.idle": "2022-11-03T19:32:42.385572Z",
     "shell.execute_reply": "2022-11-03T19:32:42.384801Z"
    }
   },
   "outputs": [
    {
     "data": {
      "text/html": [
       "<div>\n",
       "<style scoped>\n",
       "    .dataframe tbody tr th:only-of-type {\n",
       "        vertical-align: middle;\n",
       "    }\n",
       "\n",
       "    .dataframe tbody tr th {\n",
       "        vertical-align: top;\n",
       "    }\n",
       "\n",
       "    .dataframe thead th {\n",
       "        text-align: right;\n",
       "    }\n",
       "</style>\n",
       "<table border=\"1\" class=\"dataframe\">\n",
       "  <thead>\n",
       "    <tr style=\"text-align: right;\">\n",
       "      <th></th>\n",
       "      <th>size</th>\n",
       "      <th>created_at_day</th>\n",
       "      <th>created_at_month</th>\n",
       "      <th>created_at_weekday</th>\n",
       "      <th>created_at_hour</th>\n",
       "      <th>changed_files_number</th>\n",
       "      <th>body_size</th>\n",
       "      <th>commits_number</th>\n",
       "      <th>filetype_.md</th>\n",
       "      <th>filetype_None</th>\n",
       "      <th>...</th>\n",
       "      <th>title_wordcount_vuejs</th>\n",
       "      <th>title_wordcount_way</th>\n",
       "      <th>title_wordcount_web</th>\n",
       "      <th>title_wordcount_whooshalchemy</th>\n",
       "      <th>title_wordcount_wtf</th>\n",
       "      <th>title_wordcount_youtube</th>\n",
       "      <th>title_wordcount_z3950</th>\n",
       "      <th>title_wordcount_zappa</th>\n",
       "      <th>title_wordcount_zmusic</th>\n",
       "      <th>title_wordcount_…</th>\n",
       "    </tr>\n",
       "  </thead>\n",
       "  <tbody>\n",
       "    <tr>\n",
       "      <th>135</th>\n",
       "      <td>0.0</td>\n",
       "      <td>10.0</td>\n",
       "      <td>12.0</td>\n",
       "      <td>3.0</td>\n",
       "      <td>15.0</td>\n",
       "      <td>1.0</td>\n",
       "      <td>0.0</td>\n",
       "      <td>1.0</td>\n",
       "      <td>1.0</td>\n",
       "      <td>0.0</td>\n",
       "      <td>...</td>\n",
       "      <td>0.0</td>\n",
       "      <td>0.0</td>\n",
       "      <td>0.0</td>\n",
       "      <td>0.0</td>\n",
       "      <td>0.0</td>\n",
       "      <td>0.0</td>\n",
       "      <td>0.0</td>\n",
       "      <td>0.0</td>\n",
       "      <td>0.0</td>\n",
       "      <td>0.0</td>\n",
       "    </tr>\n",
       "    <tr>\n",
       "      <th>41</th>\n",
       "      <td>0.0</td>\n",
       "      <td>11.0</td>\n",
       "      <td>9.0</td>\n",
       "      <td>2.0</td>\n",
       "      <td>12.0</td>\n",
       "      <td>1.0</td>\n",
       "      <td>22.0</td>\n",
       "      <td>1.0</td>\n",
       "      <td>1.0</td>\n",
       "      <td>0.0</td>\n",
       "      <td>...</td>\n",
       "      <td>0.0</td>\n",
       "      <td>0.0</td>\n",
       "      <td>0.0</td>\n",
       "      <td>0.0</td>\n",
       "      <td>0.0</td>\n",
       "      <td>0.0</td>\n",
       "      <td>0.0</td>\n",
       "      <td>0.0</td>\n",
       "      <td>0.0</td>\n",
       "      <td>0.0</td>\n",
       "    </tr>\n",
       "    <tr>\n",
       "      <th>136</th>\n",
       "      <td>0.0</td>\n",
       "      <td>9.0</td>\n",
       "      <td>12.0</td>\n",
       "      <td>2.0</td>\n",
       "      <td>23.0</td>\n",
       "      <td>1.0</td>\n",
       "      <td>2.0</td>\n",
       "      <td>1.0</td>\n",
       "      <td>1.0</td>\n",
       "      <td>0.0</td>\n",
       "      <td>...</td>\n",
       "      <td>0.0</td>\n",
       "      <td>0.0</td>\n",
       "      <td>0.0</td>\n",
       "      <td>0.0</td>\n",
       "      <td>0.0</td>\n",
       "      <td>0.0</td>\n",
       "      <td>0.0</td>\n",
       "      <td>0.0</td>\n",
       "      <td>0.0</td>\n",
       "      <td>0.0</td>\n",
       "    </tr>\n",
       "    <tr>\n",
       "      <th>100</th>\n",
       "      <td>1.0</td>\n",
       "      <td>10.0</td>\n",
       "      <td>8.0</td>\n",
       "      <td>2.0</td>\n",
       "      <td>14.0</td>\n",
       "      <td>1.0</td>\n",
       "      <td>0.0</td>\n",
       "      <td>2.0</td>\n",
       "      <td>1.0</td>\n",
       "      <td>0.0</td>\n",
       "      <td>...</td>\n",
       "      <td>0.0</td>\n",
       "      <td>0.0</td>\n",
       "      <td>0.0</td>\n",
       "      <td>0.0</td>\n",
       "      <td>0.0</td>\n",
       "      <td>0.0</td>\n",
       "      <td>0.0</td>\n",
       "      <td>0.0</td>\n",
       "      <td>0.0</td>\n",
       "      <td>0.0</td>\n",
       "    </tr>\n",
       "    <tr>\n",
       "      <th>62</th>\n",
       "      <td>0.0</td>\n",
       "      <td>30.0</td>\n",
       "      <td>4.0</td>\n",
       "      <td>0.0</td>\n",
       "      <td>19.0</td>\n",
       "      <td>1.0</td>\n",
       "      <td>46.0</td>\n",
       "      <td>2.0</td>\n",
       "      <td>1.0</td>\n",
       "      <td>0.0</td>\n",
       "      <td>...</td>\n",
       "      <td>0.0</td>\n",
       "      <td>0.0</td>\n",
       "      <td>0.0</td>\n",
       "      <td>0.0</td>\n",
       "      <td>0.0</td>\n",
       "      <td>0.0</td>\n",
       "      <td>0.0</td>\n",
       "      <td>0.0</td>\n",
       "      <td>0.0</td>\n",
       "      <td>0.0</td>\n",
       "    </tr>\n",
       "    <tr>\n",
       "      <th>191</th>\n",
       "      <td>0.0</td>\n",
       "      <td>18.0</td>\n",
       "      <td>8.0</td>\n",
       "      <td>0.0</td>\n",
       "      <td>17.0</td>\n",
       "      <td>1.0</td>\n",
       "      <td>50.0</td>\n",
       "      <td>1.0</td>\n",
       "      <td>1.0</td>\n",
       "      <td>0.0</td>\n",
       "      <td>...</td>\n",
       "      <td>0.0</td>\n",
       "      <td>0.0</td>\n",
       "      <td>0.0</td>\n",
       "      <td>0.0</td>\n",
       "      <td>0.0</td>\n",
       "      <td>0.0</td>\n",
       "      <td>0.0</td>\n",
       "      <td>0.0</td>\n",
       "      <td>0.0</td>\n",
       "      <td>0.0</td>\n",
       "    </tr>\n",
       "    <tr>\n",
       "      <th>132</th>\n",
       "      <td>0.0</td>\n",
       "      <td>13.0</td>\n",
       "      <td>1.0</td>\n",
       "      <td>2.0</td>\n",
       "      <td>3.0</td>\n",
       "      <td>1.0</td>\n",
       "      <td>0.0</td>\n",
       "      <td>1.0</td>\n",
       "      <td>1.0</td>\n",
       "      <td>0.0</td>\n",
       "      <td>...</td>\n",
       "      <td>0.0</td>\n",
       "      <td>0.0</td>\n",
       "      <td>0.0</td>\n",
       "      <td>0.0</td>\n",
       "      <td>0.0</td>\n",
       "      <td>0.0</td>\n",
       "      <td>0.0</td>\n",
       "      <td>0.0</td>\n",
       "      <td>0.0</td>\n",
       "      <td>0.0</td>\n",
       "    </tr>\n",
       "    <tr>\n",
       "      <th>53</th>\n",
       "      <td>0.0</td>\n",
       "      <td>29.0</td>\n",
       "      <td>10.0</td>\n",
       "      <td>0.0</td>\n",
       "      <td>5.0</td>\n",
       "      <td>1.0</td>\n",
       "      <td>9.0</td>\n",
       "      <td>1.0</td>\n",
       "      <td>1.0</td>\n",
       "      <td>0.0</td>\n",
       "      <td>...</td>\n",
       "      <td>0.0</td>\n",
       "      <td>0.0</td>\n",
       "      <td>0.0</td>\n",
       "      <td>0.0</td>\n",
       "      <td>0.0</td>\n",
       "      <td>0.0</td>\n",
       "      <td>0.0</td>\n",
       "      <td>0.0</td>\n",
       "      <td>0.0</td>\n",
       "      <td>0.0</td>\n",
       "    </tr>\n",
       "    <tr>\n",
       "      <th>152</th>\n",
       "      <td>0.0</td>\n",
       "      <td>24.0</td>\n",
       "      <td>9.0</td>\n",
       "      <td>3.0</td>\n",
       "      <td>13.0</td>\n",
       "      <td>1.0</td>\n",
       "      <td>0.0</td>\n",
       "      <td>2.0</td>\n",
       "      <td>1.0</td>\n",
       "      <td>0.0</td>\n",
       "      <td>...</td>\n",
       "      <td>0.0</td>\n",
       "      <td>0.0</td>\n",
       "      <td>0.0</td>\n",
       "      <td>0.0</td>\n",
       "      <td>0.0</td>\n",
       "      <td>0.0</td>\n",
       "      <td>0.0</td>\n",
       "      <td>0.0</td>\n",
       "      <td>0.0</td>\n",
       "      <td>0.0</td>\n",
       "    </tr>\n",
       "    <tr>\n",
       "      <th>171</th>\n",
       "      <td>0.0</td>\n",
       "      <td>23.0</td>\n",
       "      <td>3.0</td>\n",
       "      <td>0.0</td>\n",
       "      <td>15.0</td>\n",
       "      <td>1.0</td>\n",
       "      <td>0.0</td>\n",
       "      <td>1.0</td>\n",
       "      <td>1.0</td>\n",
       "      <td>0.0</td>\n",
       "      <td>...</td>\n",
       "      <td>0.0</td>\n",
       "      <td>0.0</td>\n",
       "      <td>0.0</td>\n",
       "      <td>0.0</td>\n",
       "      <td>0.0</td>\n",
       "      <td>0.0</td>\n",
       "      <td>0.0</td>\n",
       "      <td>0.0</td>\n",
       "      <td>0.0</td>\n",
       "      <td>0.0</td>\n",
       "    </tr>\n",
       "    <tr>\n",
       "      <th>165</th>\n",
       "      <td>0.0</td>\n",
       "      <td>18.0</td>\n",
       "      <td>4.0</td>\n",
       "      <td>5.0</td>\n",
       "      <td>17.0</td>\n",
       "      <td>1.0</td>\n",
       "      <td>0.0</td>\n",
       "      <td>1.0</td>\n",
       "      <td>1.0</td>\n",
       "      <td>0.0</td>\n",
       "      <td>...</td>\n",
       "      <td>0.0</td>\n",
       "      <td>0.0</td>\n",
       "      <td>0.0</td>\n",
       "      <td>0.0</td>\n",
       "      <td>0.0</td>\n",
       "      <td>0.0</td>\n",
       "      <td>0.0</td>\n",
       "      <td>0.0</td>\n",
       "      <td>0.0</td>\n",
       "      <td>0.0</td>\n",
       "    </tr>\n",
       "    <tr>\n",
       "      <th>122</th>\n",
       "      <td>0.0</td>\n",
       "      <td>23.0</td>\n",
       "      <td>2.0</td>\n",
       "      <td>1.0</td>\n",
       "      <td>2.0</td>\n",
       "      <td>1.0</td>\n",
       "      <td>0.0</td>\n",
       "      <td>1.0</td>\n",
       "      <td>1.0</td>\n",
       "      <td>0.0</td>\n",
       "      <td>...</td>\n",
       "      <td>0.0</td>\n",
       "      <td>0.0</td>\n",
       "      <td>0.0</td>\n",
       "      <td>0.0</td>\n",
       "      <td>0.0</td>\n",
       "      <td>0.0</td>\n",
       "      <td>0.0</td>\n",
       "      <td>0.0</td>\n",
       "      <td>0.0</td>\n",
       "      <td>0.0</td>\n",
       "    </tr>\n",
       "    <tr>\n",
       "      <th>184</th>\n",
       "      <td>0.0</td>\n",
       "      <td>13.0</td>\n",
       "      <td>11.0</td>\n",
       "      <td>3.0</td>\n",
       "      <td>19.0</td>\n",
       "      <td>1.0</td>\n",
       "      <td>0.0</td>\n",
       "      <td>1.0</td>\n",
       "      <td>1.0</td>\n",
       "      <td>0.0</td>\n",
       "      <td>...</td>\n",
       "      <td>0.0</td>\n",
       "      <td>0.0</td>\n",
       "      <td>0.0</td>\n",
       "      <td>0.0</td>\n",
       "      <td>0.0</td>\n",
       "      <td>0.0</td>\n",
       "      <td>0.0</td>\n",
       "      <td>0.0</td>\n",
       "      <td>0.0</td>\n",
       "      <td>0.0</td>\n",
       "    </tr>\n",
       "    <tr>\n",
       "      <th>158</th>\n",
       "      <td>0.0</td>\n",
       "      <td>3.0</td>\n",
       "      <td>8.0</td>\n",
       "      <td>0.0</td>\n",
       "      <td>14.0</td>\n",
       "      <td>1.0</td>\n",
       "      <td>0.0</td>\n",
       "      <td>1.0</td>\n",
       "      <td>1.0</td>\n",
       "      <td>0.0</td>\n",
       "      <td>...</td>\n",
       "      <td>0.0</td>\n",
       "      <td>0.0</td>\n",
       "      <td>0.0</td>\n",
       "      <td>0.0</td>\n",
       "      <td>0.0</td>\n",
       "      <td>0.0</td>\n",
       "      <td>0.0</td>\n",
       "      <td>0.0</td>\n",
       "      <td>0.0</td>\n",
       "      <td>0.0</td>\n",
       "    </tr>\n",
       "    <tr>\n",
       "      <th>118</th>\n",
       "      <td>0.0</td>\n",
       "      <td>6.0</td>\n",
       "      <td>4.0</td>\n",
       "      <td>2.0</td>\n",
       "      <td>17.0</td>\n",
       "      <td>1.0</td>\n",
       "      <td>3.0</td>\n",
       "      <td>1.0</td>\n",
       "      <td>1.0</td>\n",
       "      <td>0.0</td>\n",
       "      <td>...</td>\n",
       "      <td>0.0</td>\n",
       "      <td>0.0</td>\n",
       "      <td>0.0</td>\n",
       "      <td>0.0</td>\n",
       "      <td>0.0</td>\n",
       "      <td>0.0</td>\n",
       "      <td>0.0</td>\n",
       "      <td>0.0</td>\n",
       "      <td>0.0</td>\n",
       "      <td>0.0</td>\n",
       "    </tr>\n",
       "    <tr>\n",
       "      <th>147</th>\n",
       "      <td>1.0</td>\n",
       "      <td>18.0</td>\n",
       "      <td>10.0</td>\n",
       "      <td>6.0</td>\n",
       "      <td>2.0</td>\n",
       "      <td>1.0</td>\n",
       "      <td>15.0</td>\n",
       "      <td>1.0</td>\n",
       "      <td>1.0</td>\n",
       "      <td>0.0</td>\n",
       "      <td>...</td>\n",
       "      <td>0.0</td>\n",
       "      <td>0.0</td>\n",
       "      <td>0.0</td>\n",
       "      <td>0.0</td>\n",
       "      <td>0.0</td>\n",
       "      <td>0.0</td>\n",
       "      <td>0.0</td>\n",
       "      <td>0.0</td>\n",
       "      <td>0.0</td>\n",
       "      <td>0.0</td>\n",
       "    </tr>\n",
       "  </tbody>\n",
       "</table>\n",
       "<p>16 rows × 257 columns</p>\n",
       "</div>"
      ],
      "text/plain": [
       "     size  created_at_day  created_at_month  created_at_weekday  \\\n",
       "135   0.0            10.0              12.0                 3.0   \n",
       "41    0.0            11.0               9.0                 2.0   \n",
       "136   0.0             9.0              12.0                 2.0   \n",
       "100   1.0            10.0               8.0                 2.0   \n",
       "62    0.0            30.0               4.0                 0.0   \n",
       "191   0.0            18.0               8.0                 0.0   \n",
       "132   0.0            13.0               1.0                 2.0   \n",
       "53    0.0            29.0              10.0                 0.0   \n",
       "152   0.0            24.0               9.0                 3.0   \n",
       "171   0.0            23.0               3.0                 0.0   \n",
       "165   0.0            18.0               4.0                 5.0   \n",
       "122   0.0            23.0               2.0                 1.0   \n",
       "184   0.0            13.0              11.0                 3.0   \n",
       "158   0.0             3.0               8.0                 0.0   \n",
       "118   0.0             6.0               4.0                 2.0   \n",
       "147   1.0            18.0              10.0                 6.0   \n",
       "\n",
       "     created_at_hour  changed_files_number  body_size  commits_number  \\\n",
       "135             15.0                   1.0        0.0             1.0   \n",
       "41              12.0                   1.0       22.0             1.0   \n",
       "136             23.0                   1.0        2.0             1.0   \n",
       "100             14.0                   1.0        0.0             2.0   \n",
       "62              19.0                   1.0       46.0             2.0   \n",
       "191             17.0                   1.0       50.0             1.0   \n",
       "132              3.0                   1.0        0.0             1.0   \n",
       "53               5.0                   1.0        9.0             1.0   \n",
       "152             13.0                   1.0        0.0             2.0   \n",
       "171             15.0                   1.0        0.0             1.0   \n",
       "165             17.0                   1.0        0.0             1.0   \n",
       "122              2.0                   1.0        0.0             1.0   \n",
       "184             19.0                   1.0        0.0             1.0   \n",
       "158             14.0                   1.0        0.0             1.0   \n",
       "118             17.0                   1.0        3.0             1.0   \n",
       "147              2.0                   1.0       15.0             1.0   \n",
       "\n",
       "     filetype_.md  filetype_None  ...  title_wordcount_vuejs  \\\n",
       "135           1.0            0.0  ...                    0.0   \n",
       "41            1.0            0.0  ...                    0.0   \n",
       "136           1.0            0.0  ...                    0.0   \n",
       "100           1.0            0.0  ...                    0.0   \n",
       "62            1.0            0.0  ...                    0.0   \n",
       "191           1.0            0.0  ...                    0.0   \n",
       "132           1.0            0.0  ...                    0.0   \n",
       "53            1.0            0.0  ...                    0.0   \n",
       "152           1.0            0.0  ...                    0.0   \n",
       "171           1.0            0.0  ...                    0.0   \n",
       "165           1.0            0.0  ...                    0.0   \n",
       "122           1.0            0.0  ...                    0.0   \n",
       "184           1.0            0.0  ...                    0.0   \n",
       "158           1.0            0.0  ...                    0.0   \n",
       "118           1.0            0.0  ...                    0.0   \n",
       "147           1.0            0.0  ...                    0.0   \n",
       "\n",
       "     title_wordcount_way  title_wordcount_web  title_wordcount_whooshalchemy  \\\n",
       "135                  0.0                  0.0                            0.0   \n",
       "41                   0.0                  0.0                            0.0   \n",
       "136                  0.0                  0.0                            0.0   \n",
       "100                  0.0                  0.0                            0.0   \n",
       "62                   0.0                  0.0                            0.0   \n",
       "191                  0.0                  0.0                            0.0   \n",
       "132                  0.0                  0.0                            0.0   \n",
       "53                   0.0                  0.0                            0.0   \n",
       "152                  0.0                  0.0                            0.0   \n",
       "171                  0.0                  0.0                            0.0   \n",
       "165                  0.0                  0.0                            0.0   \n",
       "122                  0.0                  0.0                            0.0   \n",
       "184                  0.0                  0.0                            0.0   \n",
       "158                  0.0                  0.0                            0.0   \n",
       "118                  0.0                  0.0                            0.0   \n",
       "147                  0.0                  0.0                            0.0   \n",
       "\n",
       "     title_wordcount_wtf  title_wordcount_youtube  title_wordcount_z3950  \\\n",
       "135                  0.0                      0.0                    0.0   \n",
       "41                   0.0                      0.0                    0.0   \n",
       "136                  0.0                      0.0                    0.0   \n",
       "100                  0.0                      0.0                    0.0   \n",
       "62                   0.0                      0.0                    0.0   \n",
       "191                  0.0                      0.0                    0.0   \n",
       "132                  0.0                      0.0                    0.0   \n",
       "53                   0.0                      0.0                    0.0   \n",
       "152                  0.0                      0.0                    0.0   \n",
       "171                  0.0                      0.0                    0.0   \n",
       "165                  0.0                      0.0                    0.0   \n",
       "122                  0.0                      0.0                    0.0   \n",
       "184                  0.0                      0.0                    0.0   \n",
       "158                  0.0                      0.0                    0.0   \n",
       "118                  0.0                      0.0                    0.0   \n",
       "147                  0.0                      0.0                    0.0   \n",
       "\n",
       "     title_wordcount_zappa  title_wordcount_zmusic  title_wordcount_…  \n",
       "135                    0.0                     0.0                0.0  \n",
       "41                     0.0                     0.0                0.0  \n",
       "136                    0.0                     0.0                0.0  \n",
       "100                    0.0                     0.0                0.0  \n",
       "62                     0.0                     0.0                0.0  \n",
       "191                    0.0                     0.0                0.0  \n",
       "132                    0.0                     0.0                0.0  \n",
       "53                     0.0                     0.0                0.0  \n",
       "152                    0.0                     0.0                0.0  \n",
       "171                    0.0                     0.0                0.0  \n",
       "165                    0.0                     0.0                0.0  \n",
       "122                    0.0                     0.0                0.0  \n",
       "184                    0.0                     0.0                0.0  \n",
       "158                    0.0                     0.0                0.0  \n",
       "118                    0.0                     0.0                0.0  \n",
       "147                    0.0                     0.0                0.0  \n",
       "\n",
       "[16 rows x 257 columns]"
      ]
     },
     "execution_count": 25,
     "metadata": {},
     "output_type": "execute_result"
    }
   ],
   "source": [
    "X_test"
   ]
  },
  {
   "cell_type": "code",
   "execution_count": 26,
   "id": "fbbbd016",
   "metadata": {
    "execution": {
     "iopub.execute_input": "2022-11-03T19:32:42.388580Z",
     "iopub.status.busy": "2022-11-03T19:32:42.388083Z",
     "iopub.status.idle": "2022-11-03T19:32:42.928119Z",
     "shell.execute_reply": "2022-11-03T19:32:42.927262Z"
    }
   },
   "outputs": [
    {
     "name": "stdout",
     "output_type": "stream",
     "text": [
      "200\n",
      "200\n"
     ]
    }
   ],
   "source": [
    "TEST_DATA_PATH = os.path.join(s3_input_data_path, ORG, REPO, \"test-data\")\n",
    "\n",
    "# upload X_test and y_test to S3 bucket for testing / running sanity check on the model inference service\n",
    "cc = CephCommunication(s3_endpoint_url, s3_access_key, s3_secret_key, s3_bucket)\n",
    "\n",
    "ret = cc.upload_to_ceph(X_test, TEST_DATA_PATH, \"X_test.parquet\")\n",
    "print(ret[\"ResponseMetadata\"][\"HTTPStatusCode\"])\n",
    "\n",
    "ret = cc.upload_to_ceph(y_test.to_frame(\"ttm_class\"), TEST_DATA_PATH, \"y_test.parquet\")\n",
    "print(ret[\"ResponseMetadata\"][\"HTTPStatusCode\"])"
   ]
  },
  {
   "cell_type": "code",
   "execution_count": 27,
   "id": "4ee74938",
   "metadata": {
    "execution": {
     "iopub.execute_input": "2022-11-03T19:32:42.932069Z",
     "iopub.status.busy": "2022-11-03T19:32:42.931307Z",
     "iopub.status.idle": "2022-11-03T19:32:42.935004Z",
     "shell.execute_reply": "2022-11-03T19:32:42.934416Z"
    }
   },
   "outputs": [],
   "source": [
    "# convert from pandas series to lists to avoid warnings during training\n",
    "y_train = y_train.to_list()\n",
    "y_test = y_test.to_list()"
   ]
  },
  {
   "cell_type": "markdown",
   "id": "98107599",
   "metadata": {},
   "source": [
    "## Scale data"
   ]
  },
  {
   "cell_type": "code",
   "execution_count": 28,
   "id": "47bb3149",
   "metadata": {
    "execution": {
     "iopub.execute_input": "2022-11-03T19:32:42.937761Z",
     "iopub.status.busy": "2022-11-03T19:32:42.937540Z",
     "iopub.status.idle": "2022-11-03T19:32:43.444165Z",
     "shell.execute_reply": "2022-11-03T19:32:43.442955Z"
    }
   },
   "outputs": [],
   "source": [
    "# lets apply a yeo johnson transform to try to make the data more gaussian\n",
    "scaler = PowerTransformer()\n",
    "\n",
    "X_train_scaled = scaler.fit_transform(X_train)\n",
    "X_test_scaled = scaler.transform(X_test)"
   ]
  },
  {
   "cell_type": "markdown",
   "id": "4d0dd02f",
   "metadata": {},
   "source": [
    "## Define Training and Evaluation Pipeline"
   ]
  },
  {
   "cell_type": "markdown",
   "id": "e7ab12e4",
   "metadata": {},
   "source": [
    "Here, we will define a function to train a given classifier on the training set and then evaluate it on the test set. "
   ]
  },
  {
   "cell_type": "code",
   "execution_count": 29,
   "id": "2cacd2c8",
   "metadata": {
    "execution": {
     "iopub.execute_input": "2022-11-03T19:32:43.447649Z",
     "iopub.status.busy": "2022-11-03T19:32:43.447418Z",
     "iopub.status.idle": "2022-11-03T19:32:43.454741Z",
     "shell.execute_reply": "2022-11-03T19:32:43.454232Z"
    }
   },
   "outputs": [],
   "source": [
    "dict_accuracy = {}\n",
    "def train_evaluate_classifier(clf, xtrain, ytrain, xtest, ytest):\n",
    "    # Train our classifier\n",
    "    clf.fit(xtrain, ytrain)\n",
    "\n",
    "    # Make predictions\n",
    "    preds = clf.predict(xtest)\n",
    "\n",
    "    # View classification report\n",
    "    report = (classification_report(ytest, preds, output_dict=True))\n",
    "#     exec(\"Accuracy\" + str(clf)+ \"= 'report[accuracy]'\")\n",
    "    accuracy = report['accuracy']\n",
    "    print(\"Accuracy :\", accuracy)\n",
    "    dict_accuracy[str(type(clf)).split(\".\")[-1][:-2]] = accuracy\n",
    "\n",
    "    # Plot confusion matrix heatmap\n",
    "    plt.figure(figsize=(16, 12))\n",
    "    cf_matrix = confusion_matrix(ytest, preds)\n",
    "    group_counts = [\"{0:0.0f}\\n\".format(value) for value in cf_matrix.flatten()]\n",
    "    group_percentages = [\n",
    "        \"{0:.2%}\".format(value) for value in cf_matrix.flatten() / np.sum(cf_matrix)\n",
    "    ]\n",
    "    box_labels = [\n",
    "        f\"{v1}{v2}\".strip() for v1, v2 in zip(group_counts, group_percentages)\n",
    "    ]\n",
    "    box_labels = np.asarray(box_labels).reshape(cf_matrix.shape[0], cf_matrix.shape[1])\n",
    "\n",
    "    sns.heatmap(cf_matrix, cmap=\"OrRd\", annot=box_labels, fmt=\"\")\n",
    "    plt.xlabel(\"Predicted TTM Label\")\n",
    "    plt.ylabel(\"True TTM Label\")\n",
    "    plt.title(\"Confusion Matrix Heatmap\")"
   ]
  },
  {
   "cell_type": "markdown",
   "id": "8add6423",
   "metadata": {},
   "source": [
    "## Define Models and Parameters\n",
    "\n",
    "Next, we will define and initialize the classifiers that we will be exploring for the time-to-merge prediction task."
   ]
  },
  {
   "cell_type": "markdown",
   "id": "55c72681",
   "metadata": {},
   "source": [
    "### Gaussian Naive Bayes"
   ]
  },
  {
   "cell_type": "code",
   "execution_count": 30,
   "id": "e6d48ea1",
   "metadata": {
    "execution": {
     "iopub.execute_input": "2022-11-03T19:32:43.457421Z",
     "iopub.status.busy": "2022-11-03T19:32:43.457224Z",
     "iopub.status.idle": "2022-11-03T19:32:43.459808Z",
     "shell.execute_reply": "2022-11-03T19:32:43.459235Z"
    }
   },
   "outputs": [],
   "source": [
    "# Initialize classifier\n",
    "gnb = GaussianNB()"
   ]
  },
  {
   "cell_type": "markdown",
   "id": "804ae1e0",
   "metadata": {},
   "source": [
    "### SVM"
   ]
  },
  {
   "cell_type": "code",
   "execution_count": 31,
   "id": "6c4bfaa2",
   "metadata": {
    "execution": {
     "iopub.execute_input": "2022-11-03T19:32:43.462235Z",
     "iopub.status.busy": "2022-11-03T19:32:43.462049Z",
     "iopub.status.idle": "2022-11-03T19:32:43.464642Z",
     "shell.execute_reply": "2022-11-03T19:32:43.464055Z"
    }
   },
   "outputs": [],
   "source": [
    "# Initialize classifier\n",
    "svc = SVC(random_state=42)"
   ]
  },
  {
   "cell_type": "markdown",
   "id": "ed3b3017",
   "metadata": {},
   "source": [
    "### Random Forest"
   ]
  },
  {
   "cell_type": "code",
   "execution_count": 32,
   "id": "1e623025",
   "metadata": {
    "execution": {
     "iopub.execute_input": "2022-11-03T19:32:43.467151Z",
     "iopub.status.busy": "2022-11-03T19:32:43.466958Z",
     "iopub.status.idle": "2022-11-03T19:32:43.469750Z",
     "shell.execute_reply": "2022-11-03T19:32:43.469155Z"
    }
   },
   "outputs": [],
   "source": [
    "# Initialize classifier\n",
    "rf = RandomForestClassifier(\n",
    "    n_estimators=200,\n",
    "    max_features=0.75,\n",
    "    random_state=42,\n",
    "    n_jobs=-1,\n",
    ")"
   ]
  },
  {
   "cell_type": "markdown",
   "id": "7687a4e0",
   "metadata": {},
   "source": [
    "### XGBoost"
   ]
  },
  {
   "cell_type": "code",
   "execution_count": 33,
   "id": "d8eb71ce",
   "metadata": {
    "execution": {
     "iopub.execute_input": "2022-11-03T19:32:43.472321Z",
     "iopub.status.busy": "2022-11-03T19:32:43.472128Z",
     "iopub.status.idle": "2022-11-03T19:32:43.474976Z",
     "shell.execute_reply": "2022-11-03T19:32:43.474392Z"
    },
    "tags": []
   },
   "outputs": [],
   "source": [
    "# Initialize classifier\n",
    "xgbc = XGBClassifier(\n",
    "    n_estimators=125,\n",
    "    learning_rate=0.1,\n",
    "    random_state=42,\n",
    "    verbosity=1,\n",
    "    n_jobs=-1,\n",
    ")"
   ]
  },
  {
   "cell_type": "markdown",
   "id": "b57aa765",
   "metadata": {},
   "source": [
    "## Compare Model Results\n",
    "\n",
    "Finally, we will run the train all of the classifiers defined above and evaluate their performance. "
   ]
  },
  {
   "cell_type": "markdown",
   "id": "216dd1b2",
   "metadata": {},
   "source": [
    "### Train using all features\n",
    "\n",
    "First, lets train the classifiers using all the engineered features as input."
   ]
  },
  {
   "cell_type": "code",
   "execution_count": 34,
   "id": "e72772aa",
   "metadata": {
    "execution": {
     "iopub.execute_input": "2022-11-03T19:32:43.477526Z",
     "iopub.status.busy": "2022-11-03T19:32:43.477320Z",
     "iopub.status.idle": "2022-11-03T19:32:43.936545Z",
     "shell.execute_reply": "2022-11-03T19:32:43.935756Z"
    }
   },
   "outputs": [
    {
     "name": "stdout",
     "output_type": "stream",
     "text": [
      "Accuracy : 0.0\n"
     ]
    },
    {
     "data": {
      "image/png": "[encoded data removed]",
      "text/plain": [
       "<Figure size 1152x864 with 2 Axes>"
      ]
     },
     "metadata": {
      "needs_background": "light"
     },
     "output_type": "display_data"
    }
   ],
   "source": [
    "train_evaluate_classifier(gnb, X_train_scaled, y_train, X_test_scaled, y_test)"
   ]
  },
  {
   "cell_type": "code",
   "execution_count": 35,
   "id": "c3f8cc61",
   "metadata": {
    "execution": {
     "iopub.execute_input": "2022-11-03T19:32:43.940129Z",
     "iopub.status.busy": "2022-11-03T19:32:43.939709Z",
     "iopub.status.idle": "2022-11-03T19:32:44.288911Z",
     "shell.execute_reply": "2022-11-03T19:32:44.287712Z"
    }
   },
   "outputs": [
    {
     "name": "stdout",
     "output_type": "stream",
     "text": [
      "Accuracy : 0.0\n"
     ]
    },
    {
     "data": {
      "image/png": "[encoded data removed]",
      "text/plain": [
       "<Figure size 1152x864 with 2 Axes>"
      ]
     },
     "metadata": {
      "needs_background": "light"
     },
     "output_type": "display_data"
    }
   ],
   "source": [
    "train_evaluate_classifier(svc, X_train_scaled, y_train, X_test_scaled, y_test)"
   ]
  },
  {
   "cell_type": "code",
   "execution_count": 36,
   "id": "8b961727",
   "metadata": {
    "execution": {
     "iopub.execute_input": "2022-11-03T19:32:44.292477Z",
     "iopub.status.busy": "2022-11-03T19:32:44.291872Z",
     "iopub.status.idle": "2022-11-03T19:32:45.152421Z",
     "shell.execute_reply": "2022-11-03T19:32:45.151580Z"
    }
   },
   "outputs": [
    {
     "name": "stdout",
     "output_type": "stream",
     "text": [
      "Accuracy : 0.0\n"
     ]
    },
    {
     "data": {
      "image/png": "[encoded data removed]",
      "text/plain": [
       "<Figure size 1152x864 with 2 Axes>"
      ]
     },
     "metadata": {
      "needs_background": "light"
     },
     "output_type": "display_data"
    }
   ],
   "source": [
    "train_evaluate_classifier(rf, X_train_scaled, y_train, X_test_scaled, y_test)"
   ]
  },
  {
   "cell_type": "code",
   "execution_count": 37,
   "id": "14249146",
   "metadata": {
    "execution": {
     "iopub.execute_input": "2022-11-03T19:32:45.155702Z",
     "iopub.status.busy": "2022-11-03T19:32:45.155278Z",
     "iopub.status.idle": "2022-11-03T19:32:46.214744Z",
     "shell.execute_reply": "2022-11-03T19:32:46.213645Z"
    }
   },
   "outputs": [
    {
     "name": "stdout",
     "output_type": "stream",
     "text": [
      "Accuracy : 0.0\n"
     ]
    },
    {
     "data": {
      "image/png": "[encoded data removed]",
      "text/plain": [
       "<Figure size 1152x864 with 2 Axes>"
      ]
     },
     "metadata": {
      "needs_background": "light"
     },
     "output_type": "display_data"
    }
   ],
   "source": [
    "train_evaluate_classifier(xgbc, X_train_scaled, y_train, X_test_scaled, y_test)"
   ]
  },
  {
   "cell_type": "code",
   "execution_count": 38,
   "id": "8985b82e-7d89-4b69-b063-db05943458c1",
   "metadata": {
    "execution": {
     "iopub.execute_input": "2022-11-03T19:32:46.217880Z",
     "iopub.status.busy": "2022-11-03T19:32:46.217421Z",
     "iopub.status.idle": "2022-11-03T19:32:46.222031Z",
     "shell.execute_reply": "2022-11-03T19:32:46.221397Z"
    }
   },
   "outputs": [
    {
     "data": {
      "text/plain": [
       "{'GaussianNB': 0.0,\n",
       " 'SVC': 0.0,\n",
       " 'RandomForestClassifier': 0.0,\n",
       " 'XGBClassifier': 0.0}"
      ]
     },
     "execution_count": 38,
     "metadata": {},
     "output_type": "execute_result"
    }
   ],
   "source": [
    "dict_accuracy"
   ]
  },
  {
   "cell_type": "code",
   "execution_count": 39,
   "id": "79eebe0e-4254-4b02-8c33-bee3ddc75e15",
   "metadata": {
    "execution": {
     "iopub.execute_input": "2022-11-03T19:32:46.225743Z",
     "iopub.status.busy": "2022-11-03T19:32:46.225199Z",
     "iopub.status.idle": "2022-11-03T19:32:46.228219Z",
     "shell.execute_reply": "2022-11-03T19:32:46.227670Z"
    }
   },
   "outputs": [],
   "source": [
    "best_accuracy = max(dict_accuracy.values())"
   ]
  },
  {
   "cell_type": "code",
   "execution_count": 40,
   "id": "afaacc68-b887-48cc-9673-04c482f37169",
   "metadata": {
    "execution": {
     "iopub.execute_input": "2022-11-03T19:32:46.230776Z",
     "iopub.status.busy": "2022-11-03T19:32:46.230239Z",
     "iopub.status.idle": "2022-11-03T19:32:46.233254Z",
     "shell.execute_reply": "2022-11-03T19:32:46.232684Z"
    }
   },
   "outputs": [],
   "source": [
    "best_model = max(dict_accuracy, key = dict_accuracy.get)"
   ]
  },
  {
   "cell_type": "code",
   "execution_count": 41,
   "id": "65b42b90-5014-429a-a8f2-7477c7d91335",
   "metadata": {
    "execution": {
     "iopub.execute_input": "2022-11-03T19:32:46.235668Z",
     "iopub.status.busy": "2022-11-03T19:32:46.235352Z",
     "iopub.status.idle": "2022-11-03T19:32:46.239169Z",
     "shell.execute_reply": "2022-11-03T19:32:46.238588Z"
    }
   },
   "outputs": [
    {
     "data": {
      "text/plain": [
       "'GaussianNB'"
      ]
     },
     "execution_count": 41,
     "metadata": {},
     "output_type": "execute_result"
    }
   ],
   "source": [
    "best_model"
   ]
  },
  {
   "cell_type": "markdown",
   "id": "b40309a3",
   "metadata": {},
   "source": [
    "Note that for model deployment (which is the eventual goal), we will also need to include any scaler or preprocessor objects. This is because the input to the inference service will be raw unscaled data. We plan to address this issue by using `sklearn.Pipeline` object to package the preprocessor(s) and model as one \"combined\" model. \n",
    "\n",
    "In the step below, we create a copy of the best performing model that is the Random Forest Classifier, so that we can save it to S3 later on and use it for model deployment.\n",
    "\n",
    "From your explorations, if you wish to save another better performing model to the pipeline set `best_model` as one of rf, xgbc, svc or gnb"
   ]
  },
  {
   "cell_type": "code",
   "execution_count": 42,
   "id": "987a23d4-2e8d-4d4d-8e5c-f3f4230f4b12",
   "metadata": {
    "execution": {
     "iopub.execute_input": "2022-11-03T19:32:46.241973Z",
     "iopub.status.busy": "2022-11-03T19:32:46.241754Z",
     "iopub.status.idle": "2022-11-03T19:32:46.244575Z",
     "shell.execute_reply": "2022-11-03T19:32:46.243970Z"
    }
   },
   "outputs": [],
   "source": [
    "models = {\"RandomForestClassifier\": rf, \"XGBClassifier\": xgbc, \"SVC\": svc, \"GaussianNB\": gnb}"
   ]
  },
  {
   "cell_type": "code",
   "execution_count": 43,
   "id": "647eb700",
   "metadata": {
    "execution": {
     "iopub.execute_input": "2022-11-03T19:32:46.246966Z",
     "iopub.status.busy": "2022-11-03T19:32:46.246768Z",
     "iopub.status.idle": "2022-11-03T19:32:46.249510Z",
     "shell.execute_reply": "2022-11-03T19:32:46.248921Z"
    }
   },
   "outputs": [],
   "source": [
    "# create a clone (create a copy of the object with the learned weights)\n",
    "selected_model = deepcopy(models[best_model])"
   ]
  },
  {
   "cell_type": "code",
   "execution_count": 44,
   "id": "2d739cb2",
   "metadata": {
    "execution": {
     "iopub.execute_input": "2022-11-03T19:32:46.251891Z",
     "iopub.status.busy": "2022-11-03T19:32:46.251692Z",
     "iopub.status.idle": "2022-11-03T19:32:46.258345Z",
     "shell.execute_reply": "2022-11-03T19:32:46.257706Z"
    }
   },
   "outputs": [
    {
     "name": "stdout",
     "output_type": "stream",
     "text": [
      "              precision    recall  f1-score   support\n",
      "\n",
      "           0       0.00      0.00      0.00       4.0\n",
      "           1       0.00      0.00      0.00       2.0\n",
      "           2       0.00      0.00      0.00       2.0\n",
      "           3       0.00      0.00      0.00       0.0\n",
      "           4       0.00      0.00      0.00       3.0\n",
      "           5       0.00      0.00      0.00       2.0\n",
      "           6       0.00      0.00      0.00       0.0\n",
      "           7       0.00      0.00      0.00       1.0\n",
      "           8       0.00      0.00      0.00       1.0\n",
      "           9       0.00      0.00      0.00       1.0\n",
      "\n",
      "    accuracy                           0.00      16.0\n",
      "   macro avg       0.00      0.00      0.00      16.0\n",
      "weighted avg       0.00      0.00      0.00      16.0\n",
      "\n"
     ]
    }
   ],
   "source": [
    "# sanity check\n",
    "print(classification_report(y_test, selected_model.predict(X_test_scaled)))"
   ]
  },
  {
   "cell_type": "markdown",
   "id": "7741b21e",
   "metadata": {},
   "source": [
    "## Create sklearn Pipeline"
   ]
  },
  {
   "cell_type": "markdown",
   "id": "20053832",
   "metadata": {},
   "source": [
    "Here, we will create an sklearn pipeline consisting of 2 steps, scaling of the input features and the classifier itself. We will then save this Pipeline as a `model.joblib` file on S3 for serving the model pipeline using the Seldon Sklearn Server."
   ]
  },
  {
   "cell_type": "code",
   "execution_count": 45,
   "id": "1c581342",
   "metadata": {
    "execution": {
     "iopub.execute_input": "2022-11-03T19:32:46.261115Z",
     "iopub.status.busy": "2022-11-03T19:32:46.260727Z",
     "iopub.status.idle": "2022-11-03T19:32:46.263803Z",
     "shell.execute_reply": "2022-11-03T19:32:46.263202Z"
    }
   },
   "outputs": [],
   "source": [
    "pipe = Pipeline(\n",
    "    steps=[\n",
    "        (\"extract_features\", raw_data_processor),\n",
    "        (\"scale\", scaler),\n",
    "        (\"rf\", selected_model),\n",
    "    ]\n",
    ")"
   ]
  },
  {
   "cell_type": "markdown",
   "id": "74e1bf4b",
   "metadata": {},
   "source": [
    "## Write Model to S3"
   ]
  },
  {
   "cell_type": "code",
   "execution_count": 46,
   "id": "8fb0ba41",
   "metadata": {
    "execution": {
     "iopub.execute_input": "2022-11-03T19:32:46.266570Z",
     "iopub.status.busy": "2022-11-03T19:32:46.266033Z",
     "iopub.status.idle": "2022-11-03T19:32:46.517612Z",
     "shell.execute_reply": "2022-11-03T19:32:46.516397Z"
    },
    "tags": []
   },
   "outputs": [],
   "source": [
    "MODEL_KEY = os.path.join(s3_input_data_path, ORG, REPO, \"ttm-model\")\n",
    "MODEL_FILENAME = \"model.joblib\"\n",
    "\n",
    "s3_resource = boto3.resource(\n",
    "    \"s3\",\n",
    "    endpoint_url=s3_endpoint_url,\n",
    "    aws_access_key_id=s3_access_key,\n",
    "    aws_secret_access_key=s3_secret_key,\n",
    ")\n",
    "\n",
    "with tempfile.TemporaryFile() as fp:\n",
    "    joblib.dump(pipe, fp)\n",
    "    fp.seek(0)\n",
    "    s3_obj = s3_resource.Object(s3_bucket, f\"{MODEL_KEY}/{MODEL_FILENAME}\")\n",
    "    s3_obj.put(Body=fp.read())"
   ]
  },
  {
   "cell_type": "code",
   "execution_count": 47,
   "id": "9392bb4d",
   "metadata": {
    "execution": {
     "iopub.execute_input": "2022-11-03T19:32:46.521602Z",
     "iopub.status.busy": "2022-11-03T19:32:46.521149Z",
     "iopub.status.idle": "2022-11-03T19:32:46.731789Z",
     "shell.execute_reply": "2022-11-03T19:32:46.730767Z"
    }
   },
   "outputs": [
    {
     "data": {
      "text/html": [
       "<style>#sk-container-id-1 {color: black;background-color: white;}#sk-container-id-1 pre{padding: 0;}#sk-container-id-1 div.sk-toggleable {background-color: white;}#sk-container-id-1 label.sk-toggleable__label {cursor: pointer;display: block;width: 100%;margin-bottom: 0;padding: 0.3em;box-sizing: border-box;text-align: center;}#sk-container-id-1 label.sk-toggleable__label-arrow:before {content: \"▸\";float: left;margin-right: 0.25em;color: #696969;}#sk-container-id-1 label.sk-toggleable__label-arrow:hover:before {color: black;}#sk-container-id-1 div.sk-estimator:hover label.sk-toggleable__label-arrow:before {color: black;}#sk-container-id-1 div.sk-toggleable__content {max-height: 0;max-width: 0;overflow: hidden;text-align: left;background-color: #f0f8ff;}#sk-container-id-1 div.sk-toggleable__content pre {margin: 0.2em;color: black;border-radius: 0.25em;background-color: #f0f8ff;}#sk-container-id-1 input.sk-toggleable__control:checked~div.sk-toggleable__content {max-height: 200px;max-width: 100%;overflow: auto;}#sk-container-id-1 input.sk-toggleable__control:checked~label.sk-toggleable__label-arrow:before {content: \"▾\";}#sk-container-id-1 div.sk-estimator input.sk-toggleable__control:checked~label.sk-toggleable__label {background-color: #d4ebff;}#sk-container-id-1 div.sk-label input.sk-toggleable__control:checked~label.sk-toggleable__label {background-color: #d4ebff;}#sk-container-id-1 input.sk-hidden--visually {border: 0;clip: rect(1px 1px 1px 1px);clip: rect(1px, 1px, 1px, 1px);height: 1px;margin: -1px;overflow: hidden;padding: 0;position: absolute;width: 1px;}#sk-container-id-1 div.sk-estimator {font-family: monospace;background-color: #f0f8ff;border: 1px dotted black;border-radius: 0.25em;box-sizing: border-box;margin-bottom: 0.5em;}#sk-container-id-1 div.sk-estimator:hover {background-color: #d4ebff;}#sk-container-id-1 div.sk-parallel-item::after {content: \"\";width: 100%;border-bottom: 1px solid gray;flex-grow: 1;}#sk-container-id-1 div.sk-label:hover label.sk-toggleable__label {background-color: #d4ebff;}#sk-container-id-1 div.sk-serial::before {content: \"\";position: absolute;border-left: 1px solid gray;box-sizing: border-box;top: 0;bottom: 0;left: 50%;z-index: 0;}#sk-container-id-1 div.sk-serial {display: flex;flex-direction: column;align-items: center;background-color: white;padding-right: 0.2em;padding-left: 0.2em;position: relative;}#sk-container-id-1 div.sk-item {position: relative;z-index: 1;}#sk-container-id-1 div.sk-parallel {display: flex;align-items: stretch;justify-content: center;background-color: white;position: relative;}#sk-container-id-1 div.sk-item::before, #sk-container-id-1 div.sk-parallel-item::before {content: \"\";position: absolute;border-left: 1px solid gray;box-sizing: border-box;top: 0;bottom: 0;left: 50%;z-index: -1;}#sk-container-id-1 div.sk-parallel-item {display: flex;flex-direction: column;z-index: 1;position: relative;background-color: white;}#sk-container-id-1 div.sk-parallel-item:first-child::after {align-self: flex-end;width: 50%;}#sk-container-id-1 div.sk-parallel-item:last-child::after {align-self: flex-start;width: 50%;}#sk-container-id-1 div.sk-parallel-item:only-child::after {width: 0;}#sk-container-id-1 div.sk-dashed-wrapped {border: 1px dashed gray;margin: 0 0.4em 0.5em 0.4em;box-sizing: border-box;padding-bottom: 0.4em;background-color: white;}#sk-container-id-1 div.sk-label label {font-family: monospace;font-weight: bold;display: inline-block;line-height: 1.2em;}#sk-container-id-1 div.sk-label-container {text-align: center;}#sk-container-id-1 div.sk-container {/* jupyter's `normalize.less` sets `[hidden] { display: none; }` but bootstrap.min.css set `[hidden] { display: none !important; }` so we also need the `!important` here to be able to override the default hidden behavior on the sphinx rendered scikit-learn.org. See: https://github.com/scikit-learn/scikit-learn/issues/21755 */display: inline-block !important;position: relative;}#sk-container-id-1 div.sk-text-repr-fallback {display: none;}</style><div id=\"sk-container-id-1\" class=\"sk-top-container\"><div class=\"sk-text-repr-fallback\"><pre>Pipeline(steps=[(&#x27;extract_features&#x27;,\n",
       "                 ColumnTransformer(transformers=[(&#x27;pr_size&#x27;,\n",
       "                                                  OrdinalEncoder(categories=[[&#x27;XS&#x27;,\n",
       "                                                                              &#x27;S&#x27;,\n",
       "                                                                              &#x27;M&#x27;,\n",
       "                                                                              &#x27;L&#x27;,\n",
       "                                                                              &#x27;XL&#x27;,\n",
       "                                                                              &#x27;XXL&#x27;]]),\n",
       "                                                  [&#x27;size&#x27;]),\n",
       "                                                 (&#x27;created_at_details&#x27;,\n",
       "                                                  DateTimeDetailsTransformer(),\n",
       "                                                  [&#x27;created_at&#x27;]),\n",
       "                                                 (&#x27;n_changed_files&#x27;,\n",
       "                                                  NumChangedFilesTransformer(),\n",
       "                                                  [&#x27;changed_files_number&#x27;]),\n",
       "                                                 (&#x27;body_size&#x27;,\n",
       "                                                  StringLenTransformer(),\n",
       "                                                  [&#x27;body&#x27;]),\n",
       "                                                 (&#x27;n_commits&#x27;, &#x27;p...\n",
       "                                                  TitleWordCountTransformer(words=[&#x27;&gt;&#x27;,\n",
       "                                                                                   &#x27;actorcloud&#x27;,\n",
       "                                                                                   &#x27;adde&#x27;,\n",
       "                                                                                   &#x27;added&#x27;,\n",
       "                                                                                   &#x27;addition&#x27;,\n",
       "                                                                                   &#x27;adds&#x27;,\n",
       "                                                                                   &#x27;airbrake&#x27;,\n",
       "                                                                                   &#x27;angularjs&#x27;,\n",
       "                                                                                   &#x27;api&#x27;,\n",
       "                                                                                   &#x27;apiflash&#x27;,\n",
       "                                                                                   &#x27;apiman&#x27;,\n",
       "                                                                                   &#x27;apispec&#x27;,\n",
       "                                                                                   &#x27;app&#x27;,\n",
       "                                                                                   &#x27;apps&#x27;,\n",
       "                                                                                   &#x27;article&#x27;,\n",
       "                                                                                   &#x27;ask&#x27;,\n",
       "                                                                                   &#x27;auth&#x27;,\n",
       "                                                                                   &#x27;authomatic&#x27;,\n",
       "                                                                                   &#x27;author&#x27;,\n",
       "                                                                                   &#x27;authorization&#x27;,\n",
       "                                                                                   &#x27;awesome&#x27;,\n",
       "                                                                                   &#x27;azure&#x27;,\n",
       "                                                                                   &#x27;based&#x27;,\n",
       "                                                                                   &#x27;blext&#x27;,\n",
       "                                                                                   &#x27;blog&#x27;,\n",
       "                                                                                   &#x27;boilerplate&#x27;,\n",
       "                                                                                   &#x27;boilerplates&#x27;,\n",
       "                                                                                   &#x27;book&#x27;,\n",
       "                                                                                   &#x27;books&#x27;,\n",
       "                                                                                   &#x27;build&#x27;, ...]),\n",
       "                                                  [&#x27;title&#x27;])])),\n",
       "                (&#x27;scale&#x27;, PowerTransformer()), (&#x27;rf&#x27;, GaussianNB())])</pre><b>In a Jupyter environment, please rerun this cell to show the HTML representation or trust the notebook. <br />On GitHub, the HTML representation is unable to render, please try loading this page with nbviewer.org.</b></div><div class=\"sk-container\" hidden><div class=\"sk-item sk-dashed-wrapped\"><div class=\"sk-label-container\"><div class=\"sk-label sk-toggleable\"><input class=\"sk-toggleable__control sk-hidden--visually\" id=\"sk-estimator-id-1\" type=\"checkbox\" ><label for=\"sk-estimator-id-1\" class=\"sk-toggleable__label sk-toggleable__label-arrow\">Pipeline</label><div class=\"sk-toggleable__content\"><pre>Pipeline(steps=[(&#x27;extract_features&#x27;,\n",
       "                 ColumnTransformer(transformers=[(&#x27;pr_size&#x27;,\n",
       "                                                  OrdinalEncoder(categories=[[&#x27;XS&#x27;,\n",
       "                                                                              &#x27;S&#x27;,\n",
       "                                                                              &#x27;M&#x27;,\n",
       "                                                                              &#x27;L&#x27;,\n",
       "                                                                              &#x27;XL&#x27;,\n",
       "                                                                              &#x27;XXL&#x27;]]),\n",
       "                                                  [&#x27;size&#x27;]),\n",
       "                                                 (&#x27;created_at_details&#x27;,\n",
       "                                                  DateTimeDetailsTransformer(),\n",
       "                                                  [&#x27;created_at&#x27;]),\n",
       "                                                 (&#x27;n_changed_files&#x27;,\n",
       "                                                  NumChangedFilesTransformer(),\n",
       "                                                  [&#x27;changed_files_number&#x27;]),\n",
       "                                                 (&#x27;body_size&#x27;,\n",
       "                                                  StringLenTransformer(),\n",
       "                                                  [&#x27;body&#x27;]),\n",
       "                                                 (&#x27;n_commits&#x27;, &#x27;p...\n",
       "                                                  TitleWordCountTransformer(words=[&#x27;&gt;&#x27;,\n",
       "                                                                                   &#x27;actorcloud&#x27;,\n",
       "                                                                                   &#x27;adde&#x27;,\n",
       "                                                                                   &#x27;added&#x27;,\n",
       "                                                                                   &#x27;addition&#x27;,\n",
       "                                                                                   &#x27;adds&#x27;,\n",
       "                                                                                   &#x27;airbrake&#x27;,\n",
       "                                                                                   &#x27;angularjs&#x27;,\n",
       "                                                                                   &#x27;api&#x27;,\n",
       "                                                                                   &#x27;apiflash&#x27;,\n",
       "                                                                                   &#x27;apiman&#x27;,\n",
       "                                                                                   &#x27;apispec&#x27;,\n",
       "                                                                                   &#x27;app&#x27;,\n",
       "                                                                                   &#x27;apps&#x27;,\n",
       "                                                                                   &#x27;article&#x27;,\n",
       "                                                                                   &#x27;ask&#x27;,\n",
       "                                                                                   &#x27;auth&#x27;,\n",
       "                                                                                   &#x27;authomatic&#x27;,\n",
       "                                                                                   &#x27;author&#x27;,\n",
       "                                                                                   &#x27;authorization&#x27;,\n",
       "                                                                                   &#x27;awesome&#x27;,\n",
       "                                                                                   &#x27;azure&#x27;,\n",
       "                                                                                   &#x27;based&#x27;,\n",
       "                                                                                   &#x27;blext&#x27;,\n",
       "                                                                                   &#x27;blog&#x27;,\n",
       "                                                                                   &#x27;boilerplate&#x27;,\n",
       "                                                                                   &#x27;boilerplates&#x27;,\n",
       "                                                                                   &#x27;book&#x27;,\n",
       "                                                                                   &#x27;books&#x27;,\n",
       "                                                                                   &#x27;build&#x27;, ...]),\n",
       "                                                  [&#x27;title&#x27;])])),\n",
       "                (&#x27;scale&#x27;, PowerTransformer()), (&#x27;rf&#x27;, GaussianNB())])</pre></div></div></div><div class=\"sk-serial\"><div class=\"sk-item sk-dashed-wrapped\"><div class=\"sk-label-container\"><div class=\"sk-label sk-toggleable\"><input class=\"sk-toggleable__control sk-hidden--visually\" id=\"sk-estimator-id-2\" type=\"checkbox\" ><label for=\"sk-estimator-id-2\" class=\"sk-toggleable__label sk-toggleable__label-arrow\">extract_features: ColumnTransformer</label><div class=\"sk-toggleable__content\"><pre>ColumnTransformer(transformers=[(&#x27;pr_size&#x27;,\n",
       "                                 OrdinalEncoder(categories=[[&#x27;XS&#x27;, &#x27;S&#x27;, &#x27;M&#x27;,\n",
       "                                                             &#x27;L&#x27;, &#x27;XL&#x27;,\n",
       "                                                             &#x27;XXL&#x27;]]),\n",
       "                                 [&#x27;size&#x27;]),\n",
       "                                (&#x27;created_at_details&#x27;,\n",
       "                                 DateTimeDetailsTransformer(), [&#x27;created_at&#x27;]),\n",
       "                                (&#x27;n_changed_files&#x27;,\n",
       "                                 NumChangedFilesTransformer(),\n",
       "                                 [&#x27;changed_files_number&#x27;]),\n",
       "                                (&#x27;body_size&#x27;, StringLenTransformer(), [&#x27;body&#x27;]),\n",
       "                                (&#x27;n_commits&#x27;, &#x27;passthrough&#x27;,\n",
       "                                 [&#x27;commits_number&#x27;]),\n",
       "                                (&#x27;fi...\n",
       "                                 [&#x27;changed_files&#x27;]),\n",
       "                                (&#x27;title_word_counter&#x27;,\n",
       "                                 TitleWordCountTransformer(words=[&#x27;&gt;&#x27;,\n",
       "                                                                  &#x27;actorcloud&#x27;,\n",
       "                                                                  &#x27;adde&#x27;,\n",
       "                                                                  &#x27;added&#x27;,\n",
       "                                                                  &#x27;addition&#x27;,\n",
       "                                                                  &#x27;adds&#x27;,\n",
       "                                                                  &#x27;airbrake&#x27;,\n",
       "                                                                  &#x27;angularjs&#x27;,\n",
       "                                                                  &#x27;api&#x27;,\n",
       "                                                                  &#x27;apiflash&#x27;,\n",
       "                                                                  &#x27;apiman&#x27;,\n",
       "                                                                  &#x27;apispec&#x27;,\n",
       "                                                                  &#x27;app&#x27;, &#x27;apps&#x27;,\n",
       "                                                                  &#x27;article&#x27;,\n",
       "                                                                  &#x27;ask&#x27;, &#x27;auth&#x27;,\n",
       "                                                                  &#x27;authomatic&#x27;,\n",
       "                                                                  &#x27;author&#x27;,\n",
       "                                                                  &#x27;authorization&#x27;,\n",
       "                                                                  &#x27;awesome&#x27;,\n",
       "                                                                  &#x27;azure&#x27;,\n",
       "                                                                  &#x27;based&#x27;,\n",
       "                                                                  &#x27;blext&#x27;,\n",
       "                                                                  &#x27;blog&#x27;,\n",
       "                                                                  &#x27;boilerplate&#x27;,\n",
       "                                                                  &#x27;boilerplates&#x27;,\n",
       "                                                                  &#x27;book&#x27;,\n",
       "                                                                  &#x27;books&#x27;,\n",
       "                                                                  &#x27;build&#x27;, ...]),\n",
       "                                 [&#x27;title&#x27;])])</pre></div></div></div><div class=\"sk-parallel\"><div class=\"sk-parallel-item\"><div class=\"sk-item\"><div class=\"sk-label-container\"><div class=\"sk-label sk-toggleable\"><input class=\"sk-toggleable__control sk-hidden--visually\" id=\"sk-estimator-id-3\" type=\"checkbox\" ><label for=\"sk-estimator-id-3\" class=\"sk-toggleable__label sk-toggleable__label-arrow\">pr_size</label><div class=\"sk-toggleable__content\"><pre>[&#x27;size&#x27;]</pre></div></div></div><div class=\"sk-serial\"><div class=\"sk-item\"><div class=\"sk-estimator sk-toggleable\"><input class=\"sk-toggleable__control sk-hidden--visually\" id=\"sk-estimator-id-4\" type=\"checkbox\" ><label for=\"sk-estimator-id-4\" class=\"sk-toggleable__label sk-toggleable__label-arrow\">OrdinalEncoder</label><div class=\"sk-toggleable__content\"><pre>OrdinalEncoder(categories=[[&#x27;XS&#x27;, &#x27;S&#x27;, &#x27;M&#x27;, &#x27;L&#x27;, &#x27;XL&#x27;, &#x27;XXL&#x27;]])</pre></div></div></div></div></div></div><div class=\"sk-parallel-item\"><div class=\"sk-item\"><div class=\"sk-label-container\"><div class=\"sk-label sk-toggleable\"><input class=\"sk-toggleable__control sk-hidden--visually\" id=\"sk-estimator-id-5\" type=\"checkbox\" ><label for=\"sk-estimator-id-5\" class=\"sk-toggleable__label sk-toggleable__label-arrow\">created_at_details</label><div class=\"sk-toggleable__content\"><pre>[&#x27;created_at&#x27;]</pre></div></div></div><div class=\"sk-serial\"><div class=\"sk-item\"><div class=\"sk-estimator sk-toggleable\"><input class=\"sk-toggleable__control sk-hidden--visually\" id=\"sk-estimator-id-6\" type=\"checkbox\" ><label for=\"sk-estimator-id-6\" class=\"sk-toggleable__label sk-toggleable__label-arrow\">DateTimeDetailsTransformer</label><div class=\"sk-toggleable__content\"><pre>DateTimeDetailsTransformer()</pre></div></div></div></div></div></div><div class=\"sk-parallel-item\"><div class=\"sk-item\"><div class=\"sk-label-container\"><div class=\"sk-label sk-toggleable\"><input class=\"sk-toggleable__control sk-hidden--visually\" id=\"sk-estimator-id-7\" type=\"checkbox\" ><label for=\"sk-estimator-id-7\" class=\"sk-toggleable__label sk-toggleable__label-arrow\">n_changed_files</label><div class=\"sk-toggleable__content\"><pre>[&#x27;changed_files_number&#x27;]</pre></div></div></div><div class=\"sk-serial\"><div class=\"sk-item\"><div class=\"sk-estimator sk-toggleable\"><input class=\"sk-toggleable__control sk-hidden--visually\" id=\"sk-estimator-id-8\" type=\"checkbox\" ><label for=\"sk-estimator-id-8\" class=\"sk-toggleable__label sk-toggleable__label-arrow\">NumChangedFilesTransformer</label><div class=\"sk-toggleable__content\"><pre>NumChangedFilesTransformer()</pre></div></div></div></div></div></div><div class=\"sk-parallel-item\"><div class=\"sk-item\"><div class=\"sk-label-container\"><div class=\"sk-label sk-toggleable\"><input class=\"sk-toggleable__control sk-hidden--visually\" id=\"sk-estimator-id-9\" type=\"checkbox\" ><label for=\"sk-estimator-id-9\" class=\"sk-toggleable__label sk-toggleable__label-arrow\">body_size</label><div class=\"sk-toggleable__content\"><pre>[&#x27;body&#x27;]</pre></div></div></div><div class=\"sk-serial\"><div class=\"sk-item\"><div class=\"sk-estimator sk-toggleable\"><input class=\"sk-toggleable__control sk-hidden--visually\" id=\"sk-estimator-id-10\" type=\"checkbox\" ><label for=\"sk-estimator-id-10\" class=\"sk-toggleable__label sk-toggleable__label-arrow\">StringLenTransformer</label><div class=\"sk-toggleable__content\"><pre>StringLenTransformer()</pre></div></div></div></div></div></div><div class=\"sk-parallel-item\"><div class=\"sk-item\"><div class=\"sk-label-container\"><div class=\"sk-label sk-toggleable\"><input class=\"sk-toggleable__control sk-hidden--visually\" id=\"sk-estimator-id-11\" type=\"checkbox\" ><label for=\"sk-estimator-id-11\" class=\"sk-toggleable__label sk-toggleable__label-arrow\">n_commits</label><div class=\"sk-toggleable__content\"><pre>[&#x27;commits_number&#x27;]</pre></div></div></div><div class=\"sk-serial\"><div class=\"sk-item\"><div class=\"sk-estimator sk-toggleable\"><input class=\"sk-toggleable__control sk-hidden--visually\" id=\"sk-estimator-id-12\" type=\"checkbox\" ><label for=\"sk-estimator-id-12\" class=\"sk-toggleable__label sk-toggleable__label-arrow\">passthrough</label><div class=\"sk-toggleable__content\"><pre>passthrough</pre></div></div></div></div></div></div><div class=\"sk-parallel-item\"><div class=\"sk-item\"><div class=\"sk-label-container\"><div class=\"sk-label sk-toggleable\"><input class=\"sk-toggleable__control sk-hidden--visually\" id=\"sk-estimator-id-13\" type=\"checkbox\" ><label for=\"sk-estimator-id-13\" class=\"sk-toggleable__label sk-toggleable__label-arrow\">filetype_counter</label><div class=\"sk-toggleable__content\"><pre>[&#x27;changed_files&#x27;]</pre></div></div></div><div class=\"sk-serial\"><div class=\"sk-item\"><div class=\"sk-estimator sk-toggleable\"><input class=\"sk-toggleable__control sk-hidden--visually\" id=\"sk-estimator-id-14\" type=\"checkbox\" ><label for=\"sk-estimator-id-14\" class=\"sk-toggleable__label sk-toggleable__label-arrow\">FileTypeCountTransformer</label><div class=\"sk-toggleable__content\"><pre>FileTypeCountTransformer(file_extensions=[&#x27;.md&#x27;, &#x27;None&#x27;])</pre></div></div></div></div></div></div><div class=\"sk-parallel-item\"><div class=\"sk-item\"><div class=\"sk-label-container\"><div class=\"sk-label sk-toggleable\"><input class=\"sk-toggleable__control sk-hidden--visually\" id=\"sk-estimator-id-15\" type=\"checkbox\" ><label for=\"sk-estimator-id-15\" class=\"sk-toggleable__label sk-toggleable__label-arrow\">title_word_counter</label><div class=\"sk-toggleable__content\"><pre>[&#x27;title&#x27;]</pre></div></div></div><div class=\"sk-serial\"><div class=\"sk-item\"><div class=\"sk-estimator sk-toggleable\"><input class=\"sk-toggleable__control sk-hidden--visually\" id=\"sk-estimator-id-16\" type=\"checkbox\" ><label for=\"sk-estimator-id-16\" class=\"sk-toggleable__label sk-toggleable__label-arrow\">TitleWordCountTransformer</label><div class=\"sk-toggleable__content\"><pre>TitleWordCountTransformer(words=[&#x27;&gt;&#x27;, &#x27;actorcloud&#x27;, &#x27;adde&#x27;, &#x27;added&#x27;, &#x27;addition&#x27;,\n",
       "                                 &#x27;adds&#x27;, &#x27;airbrake&#x27;, &#x27;angularjs&#x27;, &#x27;api&#x27;,\n",
       "                                 &#x27;apiflash&#x27;, &#x27;apiman&#x27;, &#x27;apispec&#x27;, &#x27;app&#x27;, &#x27;apps&#x27;,\n",
       "                                 &#x27;article&#x27;, &#x27;ask&#x27;, &#x27;auth&#x27;, &#x27;authomatic&#x27;,\n",
       "                                 &#x27;author&#x27;, &#x27;authorization&#x27;, &#x27;awesome&#x27;, &#x27;azure&#x27;,\n",
       "                                 &#x27;based&#x27;, &#x27;blext&#x27;, &#x27;blog&#x27;, &#x27;boilerplate&#x27;,\n",
       "                                 &#x27;boilerplates&#x27;, &#x27;book&#x27;, &#x27;books&#x27;, &#x27;build&#x27;, ...])</pre></div></div></div></div></div></div></div></div><div class=\"sk-item\"><div class=\"sk-estimator sk-toggleable\"><input class=\"sk-toggleable__control sk-hidden--visually\" id=\"sk-estimator-id-17\" type=\"checkbox\" ><label for=\"sk-estimator-id-17\" class=\"sk-toggleable__label sk-toggleable__label-arrow\">PowerTransformer</label><div class=\"sk-toggleable__content\"><pre>PowerTransformer()</pre></div></div></div><div class=\"sk-item\"><div class=\"sk-estimator sk-toggleable\"><input class=\"sk-toggleable__control sk-hidden--visually\" id=\"sk-estimator-id-18\" type=\"checkbox\" ><label for=\"sk-estimator-id-18\" class=\"sk-toggleable__label sk-toggleable__label-arrow\">GaussianNB</label><div class=\"sk-toggleable__content\"><pre>GaussianNB()</pre></div></div></div></div></div></div></div>"
      ],
      "text/plain": [
       "Pipeline(steps=[('extract_features',\n",
       "                 ColumnTransformer(transformers=[('pr_size',\n",
       "                                                  OrdinalEncoder(categories=[['XS',\n",
       "                                                                              'S',\n",
       "                                                                              'M',\n",
       "                                                                              'L',\n",
       "                                                                              'XL',\n",
       "                                                                              'XXL']]),\n",
       "                                                  ['size']),\n",
       "                                                 ('created_at_details',\n",
       "                                                  DateTimeDetailsTransformer(),\n",
       "                                                  ['created_at']),\n",
       "                                                 ('n_changed_files',\n",
       "                                                  NumChangedFilesTransformer(),\n",
       "                                                  ['changed_files_number']),\n",
       "                                                 ('body_size',\n",
       "                                                  StringLenTransformer(),\n",
       "                                                  ['body']),\n",
       "                                                 ('n_commits', 'p...\n",
       "                                                  TitleWordCountTransformer(words=['>',\n",
       "                                                                                   'actorcloud',\n",
       "                                                                                   'adde',\n",
       "                                                                                   'added',\n",
       "                                                                                   'addition',\n",
       "                                                                                   'adds',\n",
       "                                                                                   'airbrake',\n",
       "                                                                                   'angularjs',\n",
       "                                                                                   'api',\n",
       "                                                                                   'apiflash',\n",
       "                                                                                   'apiman',\n",
       "                                                                                   'apispec',\n",
       "                                                                                   'app',\n",
       "                                                                                   'apps',\n",
       "                                                                                   'article',\n",
       "                                                                                   'ask',\n",
       "                                                                                   'auth',\n",
       "                                                                                   'authomatic',\n",
       "                                                                                   'author',\n",
       "                                                                                   'authorization',\n",
       "                                                                                   'awesome',\n",
       "                                                                                   'azure',\n",
       "                                                                                   'based',\n",
       "                                                                                   'blext',\n",
       "                                                                                   'blog',\n",
       "                                                                                   'boilerplate',\n",
       "                                                                                   'boilerplates',\n",
       "                                                                                   'book',\n",
       "                                                                                   'books',\n",
       "                                                                                   'build', ...]),\n",
       "                                                  ['title'])])),\n",
       "                ('scale', PowerTransformer()), ('rf', GaussianNB())])"
      ]
     },
     "execution_count": 47,
     "metadata": {},
     "output_type": "execute_result"
    }
   ],
   "source": [
    "## Sanity Check\n",
    "buffer = BytesIO()\n",
    "s3_object = s3_resource.Object(s3_bucket, f\"{MODEL_KEY}/{MODEL_FILENAME}\")\n",
    "s3_object.download_fileobj(buffer)\n",
    "model = joblib.load(buffer)\n",
    "model"
   ]
  },
  {
   "cell_type": "code",
   "execution_count": 48,
   "id": "36484009",
   "metadata": {
    "execution": {
     "iopub.execute_input": "2022-11-03T19:32:46.736344Z",
     "iopub.status.busy": "2022-11-03T19:32:46.735159Z",
     "iopub.status.idle": "2022-11-03T19:32:47.816820Z",
     "shell.execute_reply": "2022-11-03T19:32:47.815929Z"
    }
   },
   "outputs": [
    {
     "name": "stdout",
     "output_type": "stream",
     "text": [
      "              precision    recall  f1-score   support\n",
      "\n",
      "           0       0.00      0.00      0.00       4.0\n",
      "           1       0.00      0.00      0.00       2.0\n",
      "           2       0.00      0.00      0.00       2.0\n",
      "           3       0.00      0.00      0.00       0.0\n",
      "           4       0.00      0.00      0.00       3.0\n",
      "           5       0.00      0.00      0.00       2.0\n",
      "           6       0.00      0.00      0.00       0.0\n",
      "           7       0.00      0.00      0.00       1.0\n",
      "           8       0.00      0.00      0.00       1.0\n",
      "           9       0.00      0.00      0.00       1.0\n",
      "\n",
      "    accuracy                           0.00      16.0\n",
      "   macro avg       0.00      0.00      0.00      16.0\n",
      "weighted avg       0.00      0.00      0.00      16.0\n",
      "\n"
     ]
    }
   ],
   "source": [
    "# take raw pr data and predict ttm classes\n",
    "preds = model.predict(pr_df.reindex(X_test.index))\n",
    "print(classification_report(y_test, preds))"
   ]
  },
  {
   "cell_type": "code",
   "execution_count": 49,
   "id": "42cf7c8e-07d8-44df-b4a0-ddcc8982ea37",
   "metadata": {
    "execution": {
     "iopub.execute_input": "2022-11-03T19:32:47.820218Z",
     "iopub.status.busy": "2022-11-03T19:32:47.819826Z",
     "iopub.status.idle": "2022-11-03T19:32:56.020282Z",
     "shell.execute_reply": "2022-11-03T19:32:56.019127Z"
    }
   },
   "outputs": [
    {
     "data": {
      "text/plain": [
       "[s3.ObjectSummary(bucket_name='opf-datacatalog', key='nov3/humiaozuzu/awesome-flask/features/humiaozuzuawesome-flaskFILETYPE.parquet'),\n",
       " s3.ObjectSummary(bucket_name='opf-datacatalog', key='nov3/humiaozuzu/awesome-flask/features/humiaozuzuawesome-flasktitlewords.parquet'),\n",
       " s3.ObjectSummary(bucket_name='opf-datacatalog', key='nov3/humiaozuzu/awesome-flask/test-data/X_test.parquet'),\n",
       " s3.ObjectSummary(bucket_name='opf-datacatalog', key='nov3/humiaozuzu/awesome-flask/test-data/y_test.parquet'),\n",
       " s3.ObjectSummary(bucket_name='opf-datacatalog', key='nov3/humiaozuzu/awesome-flask/ttm-model/model.joblib'),\n",
       " s3.ObjectSummary(bucket_name='opf-datacatalog', key='nov3/humiaozuzu/awesome-flask/ttm_feature_engineered_dataset.parquet'),\n",
       " s3.ObjectSummary(bucket_name='opf-datacatalog', key='nov3/operate-first/community/features/operate-firstcommunityFILETYPE.parquet'),\n",
       " s3.ObjectSummary(bucket_name='opf-datacatalog', key='nov3/operate-first/community/features/operate-firstcommunitytitlewords.parquet'),\n",
       " s3.ObjectSummary(bucket_name='opf-datacatalog', key='nov3/operate-first/community/test-data/X_test.parquet'),\n",
       " s3.ObjectSummary(bucket_name='opf-datacatalog', key='nov3/operate-first/community/test-data/y_test.parquet'),\n",
       " s3.ObjectSummary(bucket_name='opf-datacatalog', key='nov3/operate-first/community/ttm-model/model.joblib'),\n",
       " s3.ObjectSummary(bucket_name='opf-datacatalog', key='nov3/operate-first/community/ttm_feature_engineered_dataset.parquet'),\n",
       " s3.ObjectSummary(bucket_name='opf-datacatalog', key='nov3/srcopsmetrics/bot_knowledge/humiaozuzu/awesome-flask/PullRequest.json'),\n",
       " s3.ObjectSummary(bucket_name='opf-datacatalog', key='nov3/srcopsmetrics/bot_knowledge/operate-first/community/PullRequest.json')]"
      ]
     },
     "execution_count": 49,
     "metadata": {},
     "output_type": "execute_result"
    }
   ],
   "source": [
    "# check all raw data files in s3\n",
    "bucket = cc.s3_resource.Bucket(s3_bucket)\n",
    "objects = [i for i in bucket.objects.all() if s3_input_data_path + \"/\" in i.key]\n",
    "sorted(objects, key=lambda x: x.key)"
   ]
  },
  {
   "cell_type": "markdown",
   "id": "ef78426f",
   "metadata": {},
   "source": [
    "## Conclusion\n",
    "\n",
    "In this notebook, we explored various classifiers, namely, Naive Bayes, SVM, Random Forests, and XGBoost. "
   ]
  },
  {
   "cell_type": "markdown",
   "id": "933cd0ed-99c2-4453-a94b-02eace47bd20",
   "metadata": {},
   "source": [
    "## Next Step\n",
    "\n",
    "We can run these notebooks in automation using Elyra and Kubeflow pipelines. As the immediate next step, we will to deploy the best model from this notebook as an inference service using Seldon."
   ]
  }
 ],
 "metadata": {
  "kernelspec": {
   "display_name": "Python 3",
   "language": "python",
   "name": "python3"
  },
  "language_info": {
   "codemirror_mode": {
    "name": "ipython",
    "version": 3
   },
   "file_extension": ".py",
   "mimetype": "text/x-python",
   "name": "python",
   "nbconvert_exporter": "python",
   "pygments_lexer": "ipython3",
   "version": "3.8.8"
  }
 },
 "nbformat": 4,
 "nbformat_minor": 5
}
