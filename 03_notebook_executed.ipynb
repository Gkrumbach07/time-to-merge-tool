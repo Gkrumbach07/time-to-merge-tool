{
 "cells": [
  {
   "cell_type": "markdown",
   "id": "3c31ddd8-bdcf-473d-95c1-5fed70b7fe51",
   "metadata": {},
   "source": [
    "# Train a model on features engineered from Pull Requests data\n",
    "\n",
    "\n",
    "## What we did previously\n",
    "\n",
    "In the previous [notebook](./02_feature_engineering.ipynb) we explored the various fields in the PR dataset and derived some features from them in order to frame an a Machine Learning where we predict the time taken to merge a PR.\n",
    "\n",
    "## In this step\n",
    "\n",
    "In this notebook, we will first create transformer objects (based on the feature explorations in the previous notebook) to extract features from raw PR data. Then, we will train machine learning models to classify a PR's `time_to_merge` into one of the above 10 bins (or \"classes\")."
   ]
  },
  {
   "cell_type": "code",
   "execution_count": 1,
   "id": "e2bb1e73",
   "metadata": {
    "execution": {
     "iopub.execute_input": "2022-11-01T05:19:24.419801Z",
     "iopub.status.busy": "2022-11-01T05:19:24.419524Z",
     "iopub.status.idle": "2022-11-01T05:19:26.006510Z",
     "shell.execute_reply": "2022-11-01T05:19:26.005747Z"
    }
   },
   "outputs": [],
   "source": [
    "import os\n",
    "import gzip\n",
    "import json\n",
    "import boto3\n",
    "import tempfile\n",
    "\n",
    "import joblib\n",
    "import warnings\n",
    "from io import BytesIO\n",
    "from copy import deepcopy\n",
    "\n",
    "import numpy as np\n",
    "import pandas as pd\n",
    "\n",
    "import seaborn as sns\n",
    "import matplotlib.pyplot as plt\n",
    "\n",
    "from sklearn.compose import ColumnTransformer\n",
    "from sklearn.preprocessing import PowerTransformer, OrdinalEncoder\n",
    "\n",
    "from sklearn.feature_selection import RFE\n",
    "from sklearn.model_selection import train_test_split\n",
    "\n",
    "from sklearn.svm import SVC\n",
    "from xgboost import XGBClassifier\n",
    "from sklearn.naive_bayes import GaussianNB\n",
    "from sklearn.ensemble import RandomForestClassifier\n",
    "\n",
    "from sklearn.pipeline import Pipeline\n",
    "\n",
    "from sklearn.metrics import confusion_matrix\n",
    "from sklearn.metrics import classification_report\n",
    "\n",
    "from dotenv import load_dotenv, find_dotenv\n",
    "\n",
    "from src.features.build_features import (\n",
    "    DateTimeDetailsTransformer,\n",
    "    NumChangedFilesTransformer,\n",
    "    StringLenTransformer,\n",
    "    FileTypeCountTransformer,\n",
    "    TitleWordCountTransformer,\n",
    ")"
   ]
  },
  {
   "cell_type": "code",
   "execution_count": 2,
   "id": "18b3cf3a-f968-48ed-899c-a5f5111e3eca",
   "metadata": {
    "execution": {
     "iopub.execute_input": "2022-11-01T05:19:26.010402Z",
     "iopub.status.busy": "2022-11-01T05:19:26.010032Z",
     "iopub.status.idle": "2022-11-01T05:19:26.018967Z",
     "shell.execute_reply": "2022-11-01T05:19:26.018235Z"
    }
   },
   "outputs": [],
   "source": [
    "class CephCommunication:\n",
    "    \"\"\"\n",
    "    Class to establish communication with a ceph s3 bucket.\n",
    "    It connects with the bucket and provides methods to read and write data in the parquet format.\n",
    "    \"\"\"\n",
    "\n",
    "    def __init__(\n",
    "        self, s3_endpoint_url, aws_access_key_id, aws_secret_access_key, s3_bucket\n",
    "    ):\n",
    "        self.s3_endpoint_url = s3_endpoint_url\n",
    "        self.aws_access_key_id = aws_access_key_id\n",
    "        self.aws_secret_access_key = aws_secret_access_key\n",
    "        self.s3_resource = boto3.resource(\n",
    "            \"s3\",\n",
    "            endpoint_url=self.s3_endpoint_url,\n",
    "            aws_access_key_id=self.aws_access_key_id,\n",
    "            aws_secret_access_key=self.aws_secret_access_key,\n",
    "        )\n",
    "        self.bucket = s3_bucket\n",
    "        ## Todo: Add try catch\n",
    "\n",
    "    def upload_to_ceph(self, dataframe, s3_path, filename):\n",
    "        \"\"\"\n",
    "        This helper function takes as input the data frame to be uploaded, and the output filename.\n",
    "        It then saves the data frame in the defined ceph bucket.\n",
    "        \"\"\"\n",
    "        parquet_buffer = BytesIO()\n",
    "        dataframe.to_parquet(parquet_buffer)\n",
    "        s3_obj = self.s3_resource.Object(self.bucket, f\"{s3_path}/{filename}\")\n",
    "        status = s3_obj.put(Body=parquet_buffer.getvalue())\n",
    "        return status\n",
    "\n",
    "    def read_from_ceph(self, s3_path, filename):\n",
    "        \"\"\"\n",
    "        Helper function to read from ceph and see if the saved data is correct.\n",
    "        \"\"\"\n",
    "        buffer = BytesIO()\n",
    "        s3_object = self.s3_resource.Object(self.bucket, f\"{s3_path}/{filename}\")\n",
    "        s3_object.download_fileobj(buffer)\n",
    "        df_temp = pd.read_parquet(buffer)\n",
    "        return df_temp"
   ]
  },
  {
   "cell_type": "code",
   "execution_count": 3,
   "id": "7ce61c3c",
   "metadata": {
    "execution": {
     "iopub.execute_input": "2022-11-01T05:19:26.022134Z",
     "iopub.status.busy": "2022-11-01T05:19:26.021887Z",
     "iopub.status.idle": "2022-11-01T05:19:26.031040Z",
     "shell.execute_reply": "2022-11-01T05:19:26.030332Z"
    }
   },
   "outputs": [
    {
     "data": {
      "text/plain": [
       "True"
      ]
     },
     "execution_count": 3,
     "metadata": {},
     "output_type": "execute_result"
    }
   ],
   "source": [
    "warnings.filterwarnings(\"ignore\")\n",
    "load_dotenv(find_dotenv(), override=True)"
   ]
  },
  {
   "cell_type": "markdown",
   "id": "3c4e04bb-a8fc-4bc9-a91d-ffe389212f0e",
   "metadata": {},
   "source": [
    "## Get Raw Data"
   ]
  },
  {
   "cell_type": "code",
   "execution_count": 4,
   "id": "f6d138f3",
   "metadata": {
    "execution": {
     "iopub.execute_input": "2022-11-01T05:19:26.035662Z",
     "iopub.status.busy": "2022-11-01T05:19:26.035420Z",
     "iopub.status.idle": "2022-11-01T05:19:26.040218Z",
     "shell.execute_reply": "2022-11-01T05:19:26.039546Z"
    }
   },
   "outputs": [],
   "source": [
    "## CEPH Bucket variables\n",
    "## Create a .env file on your local with the correct configs,\n",
    "\n",
    "ORG = os.getenv(\"GITHUB_ORG\")\n",
    "REPO = os.getenv(\"GITHUB_REPO\")\n",
    "\n",
    "## S3 bucket credentials\n",
    "s3_endpoint_url = os.getenv(\"S3_ENDPOINT_URL\")\n",
    "s3_access_key = os.getenv(\"S3_ACCESS_KEY\")\n",
    "s3_secret_key = os.getenv(\"S3_SECRET_KEY\")\n",
    "s3_bucket = os.getenv(\"S3_BUCKET\")\n",
    "\n",
    "REMOTE = os.getenv(\"REMOTE\")\n",
    "\n",
    "s3_input_data_path = os.getenv(\"CEPH_BUCKET_PREFIX\")\n",
    "local_input_data_path = \"../../../data/raw/GitHub/PullRequest.json.gz\"\n",
    "local_output_data_path = \"../../../data/processed/github\"\n",
    "RAW_DATA_PATH = os.path.join(\n",
    "    s3_input_data_path, \"srcopsmetrics/bot_knowledge\", ORG, REPO, \"PullRequest.json\"\n",
    ")\n",
    "\n",
    "CHOSEN_MODEL = os.getenv(\"CHOSEN_MODEL\")"
   ]
  },
  {
   "cell_type": "code",
   "execution_count": 5,
   "id": "f7ddbfc0-53a7-4d76-a64e-975c89fa1e59",
   "metadata": {
    "execution": {
     "iopub.execute_input": "2022-11-01T05:19:26.043262Z",
     "iopub.status.busy": "2022-11-01T05:19:26.043034Z",
     "iopub.status.idle": "2022-11-01T05:19:26.737799Z",
     "shell.execute_reply": "2022-11-01T05:19:26.737036Z"
    }
   },
   "outputs": [
    {
     "name": "stdout",
     "output_type": "stream",
     "text": [
      "getting dataset from ceph\n"
     ]
    }
   ],
   "source": [
    "output = []\n",
    "if REMOTE:\n",
    "    print(\"getting dataset from ceph\")\n",
    "    s3 = boto3.resource(\n",
    "        \"s3\",\n",
    "        endpoint_url=s3_endpoint_url,\n",
    "        aws_access_key_id=s3_access_key,\n",
    "        aws_secret_access_key=s3_secret_key,\n",
    "    )\n",
    "    content = s3.Object(s3_bucket, RAW_DATA_PATH)\n",
    "    file = content.get()[\"Body\"].read().decode(\"utf-8\")\n",
    "\n",
    "    prs = json.loads(file)\n",
    "\n",
    "    for pr in prs.splitlines():\n",
    "        output.append(json.loads(pr))\n",
    "\n",
    "else:\n",
    "    print(\"getting dataset from local\")\n",
    "    with gzip.open(local_input_data_path, \"r\") as f:\n",
    "        prs = json.loads(f.read().decode(\"utf-8\"))\n",
    "\n",
    "\n",
    "pr_df = pd.DataFrame(output)"
   ]
  },
  {
   "cell_type": "markdown",
   "id": "0eb8188c-d835-4913-a77b-1524fa04eeef",
   "metadata": {},
   "source": [
    "## Extract Labels from Raw Data"
   ]
  },
  {
   "cell_type": "code",
   "execution_count": 6,
   "id": "8bf8212d-82bd-4600-a615-1e150272146f",
   "metadata": {
    "execution": {
     "iopub.execute_input": "2022-11-01T05:19:26.742146Z",
     "iopub.status.busy": "2022-11-01T05:19:26.741691Z",
     "iopub.status.idle": "2022-11-01T05:19:26.751873Z",
     "shell.execute_reply": "2022-11-01T05:19:26.751256Z"
    }
   },
   "outputs": [
    {
     "data": {
      "text/plain": [
       "0         476.0\n",
       "1        7081.0\n",
       "3       68588.0\n",
       "4          11.0\n",
       "5          20.0\n",
       "        ...    \n",
       "89     359974.0\n",
       "90      52870.0\n",
       "91      86385.0\n",
       "92    4028019.0\n",
       "93      16676.0\n",
       "Length: 80, dtype: float64"
      ]
     },
     "execution_count": 6,
     "metadata": {},
     "output_type": "execute_result"
    }
   ],
   "source": [
    "y = (pr_df[\"merged_at\"] - pr_df[\"created_at\"]).astype(\"float\")\n",
    "y = y.dropna()\n",
    "y"
   ]
  },
  {
   "cell_type": "code",
   "execution_count": 7,
   "id": "5ddc1177-ac15-494a-8c49-0d49e3e5d7e8",
   "metadata": {
    "execution": {
     "iopub.execute_input": "2022-11-01T05:19:26.755136Z",
     "iopub.status.busy": "2022-11-01T05:19:26.754657Z",
     "iopub.status.idle": "2022-11-01T05:19:26.762092Z",
     "shell.execute_reply": "2022-11-01T05:19:26.761445Z"
    }
   },
   "outputs": [
    {
     "data": {
      "text/plain": [
       "0.0         11.0\n",
       "0.1         48.1\n",
       "0.2        327.0\n",
       "0.3       4442.5\n",
       "0.4      39709.6\n",
       "0.5      59925.0\n",
       "0.6      88395.4\n",
       "0.7     426698.0\n",
       "0.8    1044979.2\n",
       "0.9    2048763.9\n",
       "dtype: float64"
      ]
     },
     "execution_count": 7,
     "metadata": {},
     "output_type": "execute_result"
    }
   ],
   "source": [
    "n_buckets = 10\n",
    "\n",
    "quantiles = y.quantile(q=np.arange(0, 1 + 1e-100, 1 / n_buckets))\n",
    "quantiles"
   ]
  },
  {
   "cell_type": "code",
   "execution_count": 8,
   "id": "97a47fdd-f513-4428-a4a1-6affe1899eae",
   "metadata": {
    "execution": {
     "iopub.execute_input": "2022-11-01T05:19:26.765343Z",
     "iopub.status.busy": "2022-11-01T05:19:26.764757Z",
     "iopub.status.idle": "2022-11-01T05:19:26.772843Z",
     "shell.execute_reply": "2022-11-01T05:19:26.772160Z"
    }
   },
   "outputs": [
    {
     "data": {
      "text/plain": [
       "0     2\n",
       "1     3\n",
       "3     5\n",
       "4     0\n",
       "5     0\n",
       "     ..\n",
       "89    6\n",
       "90    4\n",
       "91    5\n",
       "92    9\n",
       "93    3\n",
       "Length: 80, dtype: int64"
      ]
     },
     "execution_count": 8,
     "metadata": {},
     "output_type": "execute_result"
    }
   ],
   "source": [
    "def get_ttm_class(ttm):\n",
    "\n",
    "    for rownum, (indx, val) in enumerate(quantiles.iteritems()):\n",
    "        if ttm < val:\n",
    "            return rownum - 1\n",
    "    return 9\n",
    "\n",
    "\n",
    "y = y.apply(get_ttm_class)\n",
    "y"
   ]
  },
  {
   "cell_type": "markdown",
   "id": "4e9efc4d-f5ee-4a18-aef6-df840395a55a",
   "metadata": {},
   "source": [
    "## Extract Features from Raw Data\n",
    "\n",
    "In this section, we will create transformer objects to process raw data as per the feature extraction methods that were found to be the most effective in the previous EDA notebook.\n",
    "\n",
    "To ensure that joblib serializes the custom transformer objects correctly, we will write their definitions in [`src/features/build_features.py`](../../src/features/build_features.py) instead of this notebook, and import them from the `src` package. This way, the `src` package can be listed as a dependency wherever these objects need to be deserialized (for example, Seldon server for model deployment)."
   ]
  },
  {
   "cell_type": "markdown",
   "id": "28bdc89e-0a62-41b8-8b70-caf958bb6a2d",
   "metadata": {},
   "source": [
    "#### size"
   ]
  },
  {
   "cell_type": "code",
   "execution_count": 9,
   "id": "f769e3cb-e140-4855-8161-0c72bf6403a8",
   "metadata": {
    "execution": {
     "iopub.execute_input": "2022-11-01T05:19:26.776257Z",
     "iopub.status.busy": "2022-11-01T05:19:26.775790Z",
     "iopub.status.idle": "2022-11-01T05:19:26.779199Z",
     "shell.execute_reply": "2022-11-01T05:19:26.778555Z"
    }
   },
   "outputs": [],
   "source": [
    "# map values to 0,1,2,3,4,5\n",
    "pr_size_encoder = OrdinalEncoder(categories=[[\"XS\", \"S\", \"M\", \"L\", \"XL\", \"XXL\"]])"
   ]
  },
  {
   "cell_type": "markdown",
   "id": "f893270d-0525-4bff-900c-7e630f1197c0",
   "metadata": {},
   "source": [
    "#### created_at"
   ]
  },
  {
   "cell_type": "code",
   "execution_count": 10,
   "id": "7d2ab3c3-caed-4971-ba1d-4c484088a057",
   "metadata": {
    "execution": {
     "iopub.execute_input": "2022-11-01T05:19:26.782297Z",
     "iopub.status.busy": "2022-11-01T05:19:26.781857Z",
     "iopub.status.idle": "2022-11-01T05:19:26.784969Z",
     "shell.execute_reply": "2022-11-01T05:19:26.784338Z"
    }
   },
   "outputs": [],
   "source": [
    "# get day, month, date, etc. from a unix timestamp\n",
    "dt_details_transf = DateTimeDetailsTransformer()"
   ]
  },
  {
   "cell_type": "markdown",
   "id": "3b637c29-df8f-43cf-ba10-7be54e0fc018",
   "metadata": {},
   "source": [
    "#### changed_files_number"
   ]
  },
  {
   "cell_type": "code",
   "execution_count": 11,
   "id": "2ad7979f-afd8-40b2-8c03-929129908953",
   "metadata": {
    "execution": {
     "iopub.execute_input": "2022-11-01T05:19:26.787917Z",
     "iopub.status.busy": "2022-11-01T05:19:26.787692Z",
     "iopub.status.idle": "2022-11-01T05:19:26.790599Z",
     "shell.execute_reply": "2022-11-01T05:19:26.789945Z"
    }
   },
   "outputs": [],
   "source": [
    "# number of files changed in PR\n",
    "n_changed_files_transf = NumChangedFilesTransformer()"
   ]
  },
  {
   "cell_type": "markdown",
   "id": "dc2fc0cf-ab56-4b53-a190-7b5770bfebbd",
   "metadata": {},
   "source": [
    "#### body_size"
   ]
  },
  {
   "cell_type": "code",
   "execution_count": 12,
   "id": "b74d3d4d-ba0c-43c3-8506-23ed49c6dce8",
   "metadata": {
    "execution": {
     "iopub.execute_input": "2022-11-01T05:19:26.793768Z",
     "iopub.status.busy": "2022-11-01T05:19:26.793182Z",
     "iopub.status.idle": "2022-11-01T05:19:26.796622Z",
     "shell.execute_reply": "2022-11-01T05:19:26.796001Z"
    }
   },
   "outputs": [],
   "source": [
    "# number of characters in PR description\n",
    "body_size_transf = StringLenTransformer(\"body\")"
   ]
  },
  {
   "cell_type": "markdown",
   "id": "5840645a-56dc-4658-b91a-782739e8de09",
   "metadata": {},
   "source": [
    "#### filetype_\\<type>"
   ]
  },
  {
   "cell_type": "code",
   "execution_count": 13,
   "id": "71d6e5c3-eaf3-4cfe-9fe6-ef3f9b9edcfe",
   "metadata": {
    "execution": {
     "iopub.execute_input": "2022-11-01T05:19:26.799745Z",
     "iopub.status.busy": "2022-11-01T05:19:26.799171Z",
     "iopub.status.idle": "2022-11-01T05:19:27.293886Z",
     "shell.execute_reply": "2022-11-01T05:19:27.293124Z"
    }
   },
   "outputs": [],
   "source": [
    "# how many files of the given extension were changed in PR\n",
    "FILETYPE_FEATURES_FILENAME = os.path.join(ORG + REPO + \"FILETYPE.parquet\")\n",
    "FILETYPE_FEATURES_KEY = os.path.join(s3_input_data_path, ORG, REPO, \"features\")\n",
    "cc = CephCommunication(s3_endpoint_url, s3_access_key, s3_secret_key, s3_bucket)\n",
    "filetype_df = cc.read_from_ceph(FILETYPE_FEATURES_KEY, FILETYPE_FEATURES_FILENAME)"
   ]
  },
  {
   "cell_type": "code",
   "execution_count": 14,
   "id": "977a1fba-c867-4feb-848d-5456d168e940",
   "metadata": {
    "execution": {
     "iopub.execute_input": "2022-11-01T05:19:27.297764Z",
     "iopub.status.busy": "2022-11-01T05:19:27.297333Z",
     "iopub.status.idle": "2022-11-01T05:19:27.305243Z",
     "shell.execute_reply": "2022-11-01T05:19:27.304585Z"
    }
   },
   "outputs": [
    {
     "data": {
      "text/html": [
       "<div>\n",
       "<style scoped>\n",
       "    .dataframe tbody tr th:only-of-type {\n",
       "        vertical-align: middle;\n",
       "    }\n",
       "\n",
       "    .dataframe tbody tr th {\n",
       "        vertical-align: top;\n",
       "    }\n",
       "\n",
       "    .dataframe thead th {\n",
       "        text-align: right;\n",
       "    }\n",
       "</style>\n",
       "<table border=\"1\" class=\"dataframe\">\n",
       "  <thead>\n",
       "    <tr style=\"text-align: right;\">\n",
       "      <th></th>\n",
       "      <th>filetype</th>\n",
       "    </tr>\n",
       "  </thead>\n",
       "  <tbody>\n",
       "    <tr>\n",
       "      <th>0</th>\n",
       "      <td>.md</td>\n",
       "    </tr>\n",
       "    <tr>\n",
       "      <th>1</th>\n",
       "      <td>.yaml</td>\n",
       "    </tr>\n",
       "    <tr>\n",
       "      <th>2</th>\n",
       "      <td>.tmpl</td>\n",
       "    </tr>\n",
       "    <tr>\n",
       "      <th>3</th>\n",
       "      <td>OWNERS</td>\n",
       "    </tr>\n",
       "    <tr>\n",
       "      <th>4</th>\n",
       "      <td>OWNERS_ALIASES</td>\n",
       "    </tr>\n",
       "    <tr>\n",
       "      <th>5</th>\n",
       "      <td>.yml</td>\n",
       "    </tr>\n",
       "    <tr>\n",
       "      <th>6</th>\n",
       "      <td>.ipynb</td>\n",
       "    </tr>\n",
       "    <tr>\n",
       "      <th>7</th>\n",
       "      <td>.png</td>\n",
       "    </tr>\n",
       "    <tr>\n",
       "      <th>8</th>\n",
       "      <td>.txt</td>\n",
       "    </tr>\n",
       "    <tr>\n",
       "      <th>9</th>\n",
       "      <td>.json</td>\n",
       "    </tr>\n",
       "  </tbody>\n",
       "</table>\n",
       "</div>"
      ],
      "text/plain": [
       "         filetype\n",
       "0             .md\n",
       "1           .yaml\n",
       "2           .tmpl\n",
       "3          OWNERS\n",
       "4  OWNERS_ALIASES\n",
       "5            .yml\n",
       "6          .ipynb\n",
       "7            .png\n",
       "8            .txt\n",
       "9           .json"
      ]
     },
     "execution_count": 14,
     "metadata": {},
     "output_type": "execute_result"
    }
   ],
   "source": [
    "filetype_df"
   ]
  },
  {
   "cell_type": "code",
   "execution_count": 15,
   "id": "c987e49d-d5ab-48ec-b369-6bc5c883d976",
   "metadata": {
    "execution": {
     "iopub.execute_input": "2022-11-01T05:19:27.308463Z",
     "iopub.status.busy": "2022-11-01T05:19:27.308221Z",
     "iopub.status.idle": "2022-11-01T05:19:27.311702Z",
     "shell.execute_reply": "2022-11-01T05:19:27.311018Z"
    }
   },
   "outputs": [],
   "source": [
    "FILE_EXTENSIONS_TO_COUNT = list(filetype_df[\"filetype\"])\n",
    "\n",
    "ftype_count_transf = FileTypeCountTransformer(file_extensions=FILE_EXTENSIONS_TO_COUNT)"
   ]
  },
  {
   "cell_type": "markdown",
   "id": "8797c05d-bc9a-497e-bbca-d9ed6b444f44",
   "metadata": {},
   "source": [
    "#### title_wordcount_\\<word>"
   ]
  },
  {
   "cell_type": "code",
   "execution_count": 16,
   "id": "952d3564-c7a9-4707-9117-b4ccfaf0065c",
   "metadata": {
    "execution": {
     "iopub.execute_input": "2022-11-01T05:19:27.315294Z",
     "iopub.status.busy": "2022-11-01T05:19:27.314695Z",
     "iopub.status.idle": "2022-11-01T05:19:27.665637Z",
     "shell.execute_reply": "2022-11-01T05:19:27.664912Z"
    }
   },
   "outputs": [],
   "source": [
    "TITLE_FEATURES_FILENAME = os.path.join(ORG + REPO + \"titlewords.parquet\")\n",
    "TITLE_FEATURES_KEY = os.path.join(s3_input_data_path, ORG, REPO, \"features\")\n",
    "cc = CephCommunication(s3_endpoint_url, s3_access_key, s3_secret_key, s3_bucket)\n",
    "title_word_keep_cols_df = cc.read_from_ceph(TITLE_FEATURES_KEY, TITLE_FEATURES_FILENAME)"
   ]
  },
  {
   "cell_type": "code",
   "execution_count": 17,
   "id": "0534487e-f064-49ef-a0a2-15f6022dfcab",
   "metadata": {
    "execution": {
     "iopub.execute_input": "2022-11-01T05:19:27.670227Z",
     "iopub.status.busy": "2022-11-01T05:19:27.669787Z",
     "iopub.status.idle": "2022-11-01T05:19:27.680602Z",
     "shell.execute_reply": "2022-11-01T05:19:27.679791Z"
    }
   },
   "outputs": [
    {
     "data": {
      "text/html": [
       "<div>\n",
       "<style scoped>\n",
       "    .dataframe tbody tr th:only-of-type {\n",
       "        vertical-align: middle;\n",
       "    }\n",
       "\n",
       "    .dataframe tbody tr th {\n",
       "        vertical-align: top;\n",
       "    }\n",
       "\n",
       "    .dataframe thead th {\n",
       "        text-align: right;\n",
       "    }\n",
       "</style>\n",
       "<table border=\"1\" class=\"dataframe\">\n",
       "  <thead>\n",
       "    <tr style=\"text-align: right;\">\n",
       "      <th></th>\n",
       "      <th>title</th>\n",
       "    </tr>\n",
       "  </thead>\n",
       "  <tbody>\n",
       "    <tr>\n",
       "      <th>0</th>\n",
       "      <td>19_meeting</td>\n",
       "    </tr>\n",
       "    <tr>\n",
       "      <th>1</th>\n",
       "      <td>26_meeting</td>\n",
       "    </tr>\n",
       "    <tr>\n",
       "      <th>2</th>\n",
       "      <td>action</td>\n",
       "    </tr>\n",
       "    <tr>\n",
       "      <th>3</th>\n",
       "      <td>actions</td>\n",
       "    </tr>\n",
       "    <tr>\n",
       "      <th>4</th>\n",
       "      <td>add</td>\n",
       "    </tr>\n",
       "    <tr>\n",
       "      <th>...</th>\n",
       "      <td>...</td>\n",
       "    </tr>\n",
       "    <tr>\n",
       "      <th>163</th>\n",
       "      <td>weekly</td>\n",
       "    </tr>\n",
       "    <tr>\n",
       "      <th>164</th>\n",
       "      <td>whitespace</td>\n",
       "    </tr>\n",
       "    <tr>\n",
       "      <th>165</th>\n",
       "      <td>word</td>\n",
       "    </tr>\n",
       "    <tr>\n",
       "      <th>166</th>\n",
       "      <td>wording</td>\n",
       "    </tr>\n",
       "    <tr>\n",
       "      <th>167</th>\n",
       "      <td>workload</td>\n",
       "    </tr>\n",
       "  </tbody>\n",
       "</table>\n",
       "<p>168 rows × 1 columns</p>\n",
       "</div>"
      ],
      "text/plain": [
       "          title\n",
       "0    19_meeting\n",
       "1    26_meeting\n",
       "2        action\n",
       "3       actions\n",
       "4           add\n",
       "..          ...\n",
       "163      weekly\n",
       "164  whitespace\n",
       "165        word\n",
       "166     wording\n",
       "167    workload\n",
       "\n",
       "[168 rows x 1 columns]"
      ]
     },
     "execution_count": 17,
     "metadata": {},
     "output_type": "execute_result"
    }
   ],
   "source": [
    "title_word_keep_cols_df"
   ]
  },
  {
   "cell_type": "code",
   "execution_count": 18,
   "id": "1be7c50c-dc47-483f-b695-a9c02d6cb51b",
   "metadata": {
    "execution": {
     "iopub.execute_input": "2022-11-01T05:19:27.684028Z",
     "iopub.status.busy": "2022-11-01T05:19:27.683543Z",
     "iopub.status.idle": "2022-11-01T05:19:27.687340Z",
     "shell.execute_reply": "2022-11-01T05:19:27.686656Z"
    }
   },
   "outputs": [],
   "source": [
    "# how many times these words appeared in PR title\n",
    "WORDS_TO_COUNT = list(title_word_keep_cols_df[\"title\"])\n",
    "\n",
    "title_wc_transf = TitleWordCountTransformer(words=WORDS_TO_COUNT)"
   ]
  },
  {
   "cell_type": "markdown",
   "id": "11932e2c-ffb2-4a98-9bb9-63a8a4984403",
   "metadata": {},
   "source": [
    "## Apply Transforms"
   ]
  },
  {
   "cell_type": "code",
   "execution_count": 19,
   "id": "c4ee7eb8-62d6-452f-b548-1a884e63ce4c",
   "metadata": {
    "execution": {
     "iopub.execute_input": "2022-11-01T05:19:27.690526Z",
     "iopub.status.busy": "2022-11-01T05:19:27.690051Z",
     "iopub.status.idle": "2022-11-01T05:19:27.694850Z",
     "shell.execute_reply": "2022-11-01T05:19:27.693990Z"
    }
   },
   "outputs": [],
   "source": [
    "# transformer objects compiled into one columntransformer\n",
    "raw_data_processor = ColumnTransformer(\n",
    "    [\n",
    "        (\"pr_size\", pr_size_encoder, [\"size\"]),  # 1 cols generated\n",
    "        (\"created_at_details\", dt_details_transf, [\"created_at\"]),  # 4 cols generated\n",
    "        (\n",
    "            \"n_changed_files\",\n",
    "            n_changed_files_transf,\n",
    "            [\"changed_files_number\"],\n",
    "        ),  # 1 cols generated\n",
    "        (\"body_size\", body_size_transf, [\"body\"]),  # 1 cols generated\n",
    "        (\"n_commits\", \"passthrough\", [\"commits_number\"]),  # 1 cols generated\n",
    "        (\n",
    "            \"filetype_counter\",\n",
    "            ftype_count_transf,\n",
    "            [\"changed_files\"],\n",
    "        ),\n",
    "        (\"title_word_counter\", title_wc_transf, [\"title\"]),\n",
    "    ],\n",
    "    remainder=\"drop\",\n",
    ")"
   ]
  },
  {
   "cell_type": "code",
   "execution_count": 20,
   "id": "7fa84a70-dab6-4a48-90fc-844c29d38263",
   "metadata": {
    "execution": {
     "iopub.execute_input": "2022-11-01T05:19:27.697943Z",
     "iopub.status.busy": "2022-11-01T05:19:27.697569Z",
     "iopub.status.idle": "2022-11-01T05:19:27.701807Z",
     "shell.execute_reply": "2022-11-01T05:19:27.701147Z"
    }
   },
   "outputs": [],
   "source": [
    "# column names. this is needed because sklearn forcefully converts df to ndarray,\n",
    "# thus losing column information. this is a hack to retain that info. look for alternatives\n",
    "cols = (\n",
    "    [\n",
    "        \"size\",\n",
    "        \"created_at_day\",\n",
    "        \"created_at_month\",\n",
    "        \"created_at_weekday\",\n",
    "        \"created_at_hour\",\n",
    "    ]\n",
    "    + [\n",
    "        \"changed_files_number\",\n",
    "        \"body_size\",\n",
    "        \"commits_number\",\n",
    "    ]\n",
    "    + [f\"filetype_{f}\" for f in FILE_EXTENSIONS_TO_COUNT]\n",
    "    + [f\"title_wordcount_{w}\" for w in WORDS_TO_COUNT]\n",
    ")"
   ]
  },
  {
   "cell_type": "code",
   "execution_count": 21,
   "id": "6e757941-3017-4b3b-a8d3-af19a056d9e4",
   "metadata": {
    "execution": {
     "iopub.execute_input": "2022-11-01T05:19:27.704974Z",
     "iopub.status.busy": "2022-11-01T05:19:27.704581Z",
     "iopub.status.idle": "2022-11-01T05:19:28.539310Z",
     "shell.execute_reply": "2022-11-01T05:19:28.538538Z"
    },
    "tags": []
   },
   "outputs": [
    {
     "data": {
      "text/html": [
       "<div>\n",
       "<style scoped>\n",
       "    .dataframe tbody tr th:only-of-type {\n",
       "        vertical-align: middle;\n",
       "    }\n",
       "\n",
       "    .dataframe tbody tr th {\n",
       "        vertical-align: top;\n",
       "    }\n",
       "\n",
       "    .dataframe thead th {\n",
       "        text-align: right;\n",
       "    }\n",
       "</style>\n",
       "<table border=\"1\" class=\"dataframe\">\n",
       "  <thead>\n",
       "    <tr style=\"text-align: right;\">\n",
       "      <th></th>\n",
       "      <th>size</th>\n",
       "      <th>created_at_day</th>\n",
       "      <th>created_at_month</th>\n",
       "      <th>created_at_weekday</th>\n",
       "      <th>created_at_hour</th>\n",
       "      <th>changed_files_number</th>\n",
       "      <th>body_size</th>\n",
       "      <th>commits_number</th>\n",
       "      <th>filetype_.md</th>\n",
       "      <th>filetype_.yaml</th>\n",
       "      <th>...</th>\n",
       "      <th>title_wordcount_use</th>\n",
       "      <th>title_wordcount_var</th>\n",
       "      <th>title_wordcount_via</th>\n",
       "      <th>title_wordcount_website</th>\n",
       "      <th>title_wordcount_week</th>\n",
       "      <th>title_wordcount_weekly</th>\n",
       "      <th>title_wordcount_whitespace</th>\n",
       "      <th>title_wordcount_word</th>\n",
       "      <th>title_wordcount_wording</th>\n",
       "      <th>title_wordcount_workload</th>\n",
       "    </tr>\n",
       "  </thead>\n",
       "  <tbody>\n",
       "    <tr>\n",
       "      <th>0</th>\n",
       "      <td>1.0</td>\n",
       "      <td>10.0</td>\n",
       "      <td>10.0</td>\n",
       "      <td>0.0</td>\n",
       "      <td>14.0</td>\n",
       "      <td>1.0</td>\n",
       "      <td>0.0</td>\n",
       "      <td>2.0</td>\n",
       "      <td>0.0</td>\n",
       "      <td>0.0</td>\n",
       "      <td>...</td>\n",
       "      <td>0.0</td>\n",
       "      <td>0.0</td>\n",
       "      <td>0.0</td>\n",
       "      <td>0.0</td>\n",
       "      <td>0.0</td>\n",
       "      <td>0.0</td>\n",
       "      <td>0.0</td>\n",
       "      <td>0.0</td>\n",
       "      <td>0.0</td>\n",
       "      <td>0.0</td>\n",
       "    </tr>\n",
       "    <tr>\n",
       "      <th>1</th>\n",
       "      <td>0.0</td>\n",
       "      <td>10.0</td>\n",
       "      <td>10.0</td>\n",
       "      <td>0.0</td>\n",
       "      <td>11.0</td>\n",
       "      <td>1.0</td>\n",
       "      <td>0.0</td>\n",
       "      <td>1.0</td>\n",
       "      <td>1.0</td>\n",
       "      <td>0.0</td>\n",
       "      <td>...</td>\n",
       "      <td>0.0</td>\n",
       "      <td>0.0</td>\n",
       "      <td>0.0</td>\n",
       "      <td>0.0</td>\n",
       "      <td>0.0</td>\n",
       "      <td>0.0</td>\n",
       "      <td>1.0</td>\n",
       "      <td>0.0</td>\n",
       "      <td>0.0</td>\n",
       "      <td>0.0</td>\n",
       "    </tr>\n",
       "    <tr>\n",
       "      <th>2</th>\n",
       "      <td>0.0</td>\n",
       "      <td>6.0</td>\n",
       "      <td>10.0</td>\n",
       "      <td>3.0</td>\n",
       "      <td>18.0</td>\n",
       "      <td>0.0</td>\n",
       "      <td>0.0</td>\n",
       "      <td>0.0</td>\n",
       "      <td>0.0</td>\n",
       "      <td>0.0</td>\n",
       "      <td>...</td>\n",
       "      <td>0.0</td>\n",
       "      <td>0.0</td>\n",
       "      <td>0.0</td>\n",
       "      <td>0.0</td>\n",
       "      <td>0.0</td>\n",
       "      <td>0.0</td>\n",
       "      <td>0.0</td>\n",
       "      <td>0.0</td>\n",
       "      <td>0.0</td>\n",
       "      <td>0.0</td>\n",
       "    </tr>\n",
       "    <tr>\n",
       "      <th>3</th>\n",
       "      <td>2.0</td>\n",
       "      <td>6.0</td>\n",
       "      <td>10.0</td>\n",
       "      <td>3.0</td>\n",
       "      <td>17.0</td>\n",
       "      <td>1.0</td>\n",
       "      <td>0.0</td>\n",
       "      <td>1.0</td>\n",
       "      <td>1.0</td>\n",
       "      <td>0.0</td>\n",
       "      <td>...</td>\n",
       "      <td>0.0</td>\n",
       "      <td>0.0</td>\n",
       "      <td>0.0</td>\n",
       "      <td>0.0</td>\n",
       "      <td>0.0</td>\n",
       "      <td>0.0</td>\n",
       "      <td>0.0</td>\n",
       "      <td>0.0</td>\n",
       "      <td>0.0</td>\n",
       "      <td>0.0</td>\n",
       "    </tr>\n",
       "    <tr>\n",
       "      <th>4</th>\n",
       "      <td>0.0</td>\n",
       "      <td>19.0</td>\n",
       "      <td>9.0</td>\n",
       "      <td>0.0</td>\n",
       "      <td>20.0</td>\n",
       "      <td>1.0</td>\n",
       "      <td>6.0</td>\n",
       "      <td>2.0</td>\n",
       "      <td>1.0</td>\n",
       "      <td>0.0</td>\n",
       "      <td>...</td>\n",
       "      <td>0.0</td>\n",
       "      <td>0.0</td>\n",
       "      <td>0.0</td>\n",
       "      <td>0.0</td>\n",
       "      <td>0.0</td>\n",
       "      <td>0.0</td>\n",
       "      <td>0.0</td>\n",
       "      <td>0.0</td>\n",
       "      <td>1.0</td>\n",
       "      <td>0.0</td>\n",
       "    </tr>\n",
       "  </tbody>\n",
       "</table>\n",
       "<p>5 rows × 186 columns</p>\n",
       "</div>"
      ],
      "text/plain": [
       "   size  created_at_day  created_at_month  created_at_weekday  \\\n",
       "0   1.0            10.0              10.0                 0.0   \n",
       "1   0.0            10.0              10.0                 0.0   \n",
       "2   0.0             6.0              10.0                 3.0   \n",
       "3   2.0             6.0              10.0                 3.0   \n",
       "4   0.0            19.0               9.0                 0.0   \n",
       "\n",
       "   created_at_hour  changed_files_number  body_size  commits_number  \\\n",
       "0             14.0                   1.0        0.0             2.0   \n",
       "1             11.0                   1.0        0.0             1.0   \n",
       "2             18.0                   0.0        0.0             0.0   \n",
       "3             17.0                   1.0        0.0             1.0   \n",
       "4             20.0                   1.0        6.0             2.0   \n",
       "\n",
       "   filetype_.md  filetype_.yaml  ...  title_wordcount_use  \\\n",
       "0           0.0             0.0  ...                  0.0   \n",
       "1           1.0             0.0  ...                  0.0   \n",
       "2           0.0             0.0  ...                  0.0   \n",
       "3           1.0             0.0  ...                  0.0   \n",
       "4           1.0             0.0  ...                  0.0   \n",
       "\n",
       "   title_wordcount_var  title_wordcount_via  title_wordcount_website  \\\n",
       "0                  0.0                  0.0                      0.0   \n",
       "1                  0.0                  0.0                      0.0   \n",
       "2                  0.0                  0.0                      0.0   \n",
       "3                  0.0                  0.0                      0.0   \n",
       "4                  0.0                  0.0                      0.0   \n",
       "\n",
       "   title_wordcount_week  title_wordcount_weekly  title_wordcount_whitespace  \\\n",
       "0                   0.0                     0.0                         0.0   \n",
       "1                   0.0                     0.0                         1.0   \n",
       "2                   0.0                     0.0                         0.0   \n",
       "3                   0.0                     0.0                         0.0   \n",
       "4                   0.0                     0.0                         0.0   \n",
       "\n",
       "   title_wordcount_word  title_wordcount_wording  title_wordcount_workload  \n",
       "0                   0.0                      0.0                       0.0  \n",
       "1                   0.0                      0.0                       0.0  \n",
       "2                   0.0                      0.0                       0.0  \n",
       "3                   0.0                      0.0                       0.0  \n",
       "4                   0.0                      1.0                       0.0  \n",
       "\n",
       "[5 rows x 186 columns]"
      ]
     },
     "execution_count": 21,
     "metadata": {},
     "output_type": "execute_result"
    }
   ],
   "source": [
    "X = raw_data_processor.fit_transform(pr_df)\n",
    "X = pd.DataFrame(X, index=pr_df.index, columns=cols)\n",
    "X.head()"
   ]
  },
  {
   "cell_type": "code",
   "execution_count": 22,
   "id": "2853951f-bad4-4b92-a713-769b86a1e33f",
   "metadata": {
    "execution": {
     "iopub.execute_input": "2022-11-01T05:19:28.542660Z",
     "iopub.status.busy": "2022-11-01T05:19:28.542392Z",
     "iopub.status.idle": "2022-11-01T05:19:28.576847Z",
     "shell.execute_reply": "2022-11-01T05:19:28.576170Z"
    }
   },
   "outputs": [
    {
     "data": {
      "text/html": [
       "<div>\n",
       "<style scoped>\n",
       "    .dataframe tbody tr th:only-of-type {\n",
       "        vertical-align: middle;\n",
       "    }\n",
       "\n",
       "    .dataframe tbody tr th {\n",
       "        vertical-align: top;\n",
       "    }\n",
       "\n",
       "    .dataframe thead th {\n",
       "        text-align: right;\n",
       "    }\n",
       "</style>\n",
       "<table border=\"1\" class=\"dataframe\">\n",
       "  <thead>\n",
       "    <tr style=\"text-align: right;\">\n",
       "      <th></th>\n",
       "      <th>title</th>\n",
       "      <th>body</th>\n",
       "      <th>size</th>\n",
       "      <th>created_by</th>\n",
       "      <th>created_at</th>\n",
       "      <th>closed_at</th>\n",
       "      <th>closed_by</th>\n",
       "      <th>merged_at</th>\n",
       "      <th>merged_by</th>\n",
       "      <th>commits_number</th>\n",
       "      <th>changed_files_number</th>\n",
       "      <th>interactions</th>\n",
       "      <th>reviews</th>\n",
       "      <th>labels</th>\n",
       "      <th>commits</th>\n",
       "      <th>changed_files</th>\n",
       "      <th>first_review_at</th>\n",
       "      <th>first_approve_at</th>\n",
       "      <th>id</th>\n",
       "    </tr>\n",
       "  </thead>\n",
       "  <tbody>\n",
       "    <tr>\n",
       "      <th>0</th>\n",
       "      <td>add knikolla and cleanup</td>\n",
       "      <td>None</td>\n",
       "      <td>S</td>\n",
       "      <td>schwesig</td>\n",
       "      <td>1665410557</td>\n",
       "      <td>1.665411e+09</td>\n",
       "      <td>sesheta</td>\n",
       "      <td>1.665411e+09</td>\n",
       "      <td>sesheta</td>\n",
       "      <td>2</td>\n",
       "      <td>1</td>\n",
       "      <td>{'schwesig': 175, 'quaid': 1, 'sesheta': 65}</td>\n",
       "      <td>{}</td>\n",
       "      <td>[lgtm, triage/accepted, approved, priority/cri...</td>\n",
       "      <td>[20fcc08d8ebd4e7453469c7fd5492995f156181c, 764...</td>\n",
       "      <td>[OWNERS]</td>\n",
       "      <td>NaN</td>\n",
       "      <td>NaN</td>\n",
       "      <td>229</td>\n",
       "    </tr>\n",
       "    <tr>\n",
       "      <th>1</th>\n",
       "      <td>pre-commit to clean up existing errors (traili...</td>\n",
       "      <td>None</td>\n",
       "      <td>XS</td>\n",
       "      <td>schwesig</td>\n",
       "      <td>1665402036</td>\n",
       "      <td>1.665409e+09</td>\n",
       "      <td>sesheta</td>\n",
       "      <td>1.665409e+09</td>\n",
       "      <td>sesheta</td>\n",
       "      <td>1</td>\n",
       "      <td>1</td>\n",
       "      <td>{'schwesig': 9, 'codificat': 16, 'quaid': 3, '...</td>\n",
       "      <td>{}</td>\n",
       "      <td>[lgtm, triage/accepted, approved, priority/cri...</td>\n",
       "      <td>[210de76a23b3cf7f1d0c66b8c82457c597400797]</td>\n",
       "      <td>[sig-community/meeting-notes/20221006-meeting-...</td>\n",
       "      <td>NaN</td>\n",
       "      <td>NaN</td>\n",
       "      <td>228</td>\n",
       "    </tr>\n",
       "    <tr>\n",
       "      <th>2</th>\n",
       "      <td>Add knikolla</td>\n",
       "      <td>None</td>\n",
       "      <td>XS</td>\n",
       "      <td>schwesig</td>\n",
       "      <td>1665079206</td>\n",
       "      <td>1.665409e+09</td>\n",
       "      <td>schwesig</td>\n",
       "      <td>NaN</td>\n",
       "      <td>None</td>\n",
       "      <td>0</td>\n",
       "      <td>0</td>\n",
       "      <td>{'quaid': 2, 'schwesig': 7, 'sesheta': 287, 'c...</td>\n",
       "      <td>{'1134003785': {'author': 'schwesig', 'words_c...</td>\n",
       "      <td>[size/XS, area/user, kind/governance, sig/comm...</td>\n",
       "      <td>[]</td>\n",
       "      <td>[]</td>\n",
       "      <td>1.665127e+09</td>\n",
       "      <td>NaN</td>\n",
       "      <td>225</td>\n",
       "    </tr>\n",
       "    <tr>\n",
       "      <th>3</th>\n",
       "      <td>Create 20221006-meeting-notes.md</td>\n",
       "      <td>None</td>\n",
       "      <td>M</td>\n",
       "      <td>schwesig</td>\n",
       "      <td>1665078958</td>\n",
       "      <td>1.665148e+09</td>\n",
       "      <td>schwesig</td>\n",
       "      <td>1.665148e+09</td>\n",
       "      <td>schwesig</td>\n",
       "      <td>1</td>\n",
       "      <td>1</td>\n",
       "      <td>{'sesheta': 172, 'quaid': 2}</td>\n",
       "      <td>{'1133430644': {'author': 'quaid', 'words_coun...</td>\n",
       "      <td>[kind/documentation, lgtm, approved, size/M, s...</td>\n",
       "      <td>[54c273e75aa9a4a7326c7f9aad1b013bc0c29791]</td>\n",
       "      <td>[sig-community/meeting-notes/20221006-meeting-...</td>\n",
       "      <td>1.665079e+09</td>\n",
       "      <td>1.665079e+09</td>\n",
       "      <td>224</td>\n",
       "    </tr>\n",
       "    <tr>\n",
       "      <th>4</th>\n",
       "      <td>Update wording to be more open and inclusive.</td>\n",
       "      <td>Updates as worked out with Karsten\\r\\n</td>\n",
       "      <td>XS</td>\n",
       "      <td>billburnseh</td>\n",
       "      <td>1663618828</td>\n",
       "      <td>1.663619e+09</td>\n",
       "      <td>billburnseh</td>\n",
       "      <td>1.663619e+09</td>\n",
       "      <td>billburnseh</td>\n",
       "      <td>2</td>\n",
       "      <td>1</td>\n",
       "      <td>{'sesheta': 86}</td>\n",
       "      <td>{}</td>\n",
       "      <td>[size/XS]</td>\n",
       "      <td>[c86790d3a173abae0682dcbef583e6b151d6e61c, 272...</td>\n",
       "      <td>[four-principles.md]</td>\n",
       "      <td>NaN</td>\n",
       "      <td>NaN</td>\n",
       "      <td>223</td>\n",
       "    </tr>\n",
       "    <tr>\n",
       "      <th>...</th>\n",
       "      <td>...</td>\n",
       "      <td>...</td>\n",
       "      <td>...</td>\n",
       "      <td>...</td>\n",
       "      <td>...</td>\n",
       "      <td>...</td>\n",
       "      <td>...</td>\n",
       "      <td>...</td>\n",
       "      <td>...</td>\n",
       "      <td>...</td>\n",
       "      <td>...</td>\n",
       "      <td>...</td>\n",
       "      <td>...</td>\n",
       "      <td>...</td>\n",
       "      <td>...</td>\n",
       "      <td>...</td>\n",
       "      <td>...</td>\n",
       "      <td>...</td>\n",
       "      <td>...</td>\n",
       "    </tr>\n",
       "    <tr>\n",
       "      <th>89</th>\n",
       "      <td>Created a new document for glossary</td>\n",
       "      <td>This pr adds a glossary document to the repo. ...</td>\n",
       "      <td>L</td>\n",
       "      <td>margarethaley</td>\n",
       "      <td>1625255261</td>\n",
       "      <td>1.625615e+09</td>\n",
       "      <td>sesheta</td>\n",
       "      <td>1.625615e+09</td>\n",
       "      <td>sesheta</td>\n",
       "      <td>2</td>\n",
       "      <td>2</td>\n",
       "      <td>{'quaid': 4, 'sesheta': 65}</td>\n",
       "      <td>{'699550191': {'author': 'quaid', 'words_count...</td>\n",
       "      <td>[size/L, lgtm, approved]</td>\n",
       "      <td>[28612661c6aa3a338539176e3bef111537e8b79e, f4c...</td>\n",
       "      <td>[glossary.md, new_front_page_mockup.md]</td>\n",
       "      <td>1.625550e+09</td>\n",
       "      <td>NaN</td>\n",
       "      <td>45</td>\n",
       "    </tr>\n",
       "    <tr>\n",
       "      <th>90</th>\n",
       "      <td>update the resource limit for the prowjobs</td>\n",
       "      <td>update the resource limit for the prowjobs\\r\\n...</td>\n",
       "      <td>XS</td>\n",
       "      <td>harshad16</td>\n",
       "      <td>1625177628</td>\n",
       "      <td>1.625230e+09</td>\n",
       "      <td>sesheta</td>\n",
       "      <td>1.625230e+09</td>\n",
       "      <td>sesheta</td>\n",
       "      <td>1</td>\n",
       "      <td>1</td>\n",
       "      <td>{'harshad16': 3, 'sesheta': 70}</td>\n",
       "      <td>{'698155981': {'author': 'oindrillac', 'words_...</td>\n",
       "      <td>[lgtm, approved, size/XS]</td>\n",
       "      <td>[d89f48d4fd7c01b61847762dfda0b2253cb0e7ed]</td>\n",
       "      <td>[.prow.yaml]</td>\n",
       "      <td>1.625230e+09</td>\n",
       "      <td>1.625230e+09</td>\n",
       "      <td>44</td>\n",
       "    </tr>\n",
       "    <tr>\n",
       "      <th>91</th>\n",
       "      <td>Front page content draft</td>\n",
       "      <td>This pr adds a file containing draft content f...</td>\n",
       "      <td>M</td>\n",
       "      <td>margarethaley</td>\n",
       "      <td>1625167660</td>\n",
       "      <td>1.625254e+09</td>\n",
       "      <td>sesheta</td>\n",
       "      <td>1.625254e+09</td>\n",
       "      <td>sesheta</td>\n",
       "      <td>1</td>\n",
       "      <td>1</td>\n",
       "      <td>{'margarethaley': 24, 'oindrillac': 104, 'hars...</td>\n",
       "      <td>{'697796698': {'author': 'quaid', 'words_count...</td>\n",
       "      <td>[lgtm, approved, size/M]</td>\n",
       "      <td>[28612661c6aa3a338539176e3bef111537e8b79e]</td>\n",
       "      <td>[new_front_page_mockup.md]</td>\n",
       "      <td>1.625197e+09</td>\n",
       "      <td>NaN</td>\n",
       "      <td>43</td>\n",
       "    </tr>\n",
       "    <tr>\n",
       "      <th>92</th>\n",
       "      <td>Created from existing messages for hacking-on</td>\n",
       "      <td>This is created using the messages on operate-...</td>\n",
       "      <td>M</td>\n",
       "      <td>quaid</td>\n",
       "      <td>1621226623</td>\n",
       "      <td>1.625255e+09</td>\n",
       "      <td>sesheta</td>\n",
       "      <td>1.625255e+09</td>\n",
       "      <td>sesheta</td>\n",
       "      <td>1</td>\n",
       "      <td>1</td>\n",
       "      <td>{'HumairAK': 60, 'quaid': 96, 'sesheta': 131, ...</td>\n",
       "      <td>{'661390364': {'author': 'HumairAK', 'words_co...</td>\n",
       "      <td>[lgtm, approved]</td>\n",
       "      <td>[03b73f88526078fdce85a6862248f2c8641e60d2]</td>\n",
       "      <td>[core_project_message.md]</td>\n",
       "      <td>1.621283e+09</td>\n",
       "      <td>NaN</td>\n",
       "      <td>5</td>\n",
       "    </tr>\n",
       "    <tr>\n",
       "      <th>93</th>\n",
       "      <td>chore: Add quaid to OWNERS</td>\n",
       "      <td>SSIA\\r\\n\\r\\n/cc @quaid</td>\n",
       "      <td>XS</td>\n",
       "      <td>tumido</td>\n",
       "      <td>1620809958</td>\n",
       "      <td>1.620827e+09</td>\n",
       "      <td>HumairAK</td>\n",
       "      <td>1.620827e+09</td>\n",
       "      <td>HumairAK</td>\n",
       "      <td>1</td>\n",
       "      <td>1</td>\n",
       "      <td>{'tumido': 1, 'sesheta': 68}</td>\n",
       "      <td>{'657780656': {'author': 'HumairAK', 'words_co...</td>\n",
       "      <td>[]</td>\n",
       "      <td>[b4cec5fb1a0d4d789e878e089560ca9752476cc7]</td>\n",
       "      <td>[OWNERS]</td>\n",
       "      <td>1.620820e+09</td>\n",
       "      <td>1.620820e+09</td>\n",
       "      <td>1</td>\n",
       "    </tr>\n",
       "  </tbody>\n",
       "</table>\n",
       "<p>94 rows × 19 columns</p>\n",
       "</div>"
      ],
      "text/plain": [
       "                                                title  \\\n",
       "0                            add knikolla and cleanup   \n",
       "1   pre-commit to clean up existing errors (traili...   \n",
       "2                                        Add knikolla   \n",
       "3                    Create 20221006-meeting-notes.md   \n",
       "4       Update wording to be more open and inclusive.   \n",
       "..                                                ...   \n",
       "89                Created a new document for glossary   \n",
       "90         update the resource limit for the prowjobs   \n",
       "91                           Front page content draft   \n",
       "92      Created from existing messages for hacking-on   \n",
       "93                         chore: Add quaid to OWNERS   \n",
       "\n",
       "                                                 body size     created_by  \\\n",
       "0                                                None    S       schwesig   \n",
       "1                                                None   XS       schwesig   \n",
       "2                                                None   XS       schwesig   \n",
       "3                                                None    M       schwesig   \n",
       "4              Updates as worked out with Karsten\\r\\n   XS    billburnseh   \n",
       "..                                                ...  ...            ...   \n",
       "89  This pr adds a glossary document to the repo. ...    L  margarethaley   \n",
       "90  update the resource limit for the prowjobs\\r\\n...   XS      harshad16   \n",
       "91  This pr adds a file containing draft content f...    M  margarethaley   \n",
       "92  This is created using the messages on operate-...    M          quaid   \n",
       "93                             SSIA\\r\\n\\r\\n/cc @quaid   XS         tumido   \n",
       "\n",
       "    created_at     closed_at    closed_by     merged_at    merged_by  \\\n",
       "0   1665410557  1.665411e+09      sesheta  1.665411e+09      sesheta   \n",
       "1   1665402036  1.665409e+09      sesheta  1.665409e+09      sesheta   \n",
       "2   1665079206  1.665409e+09     schwesig           NaN         None   \n",
       "3   1665078958  1.665148e+09     schwesig  1.665148e+09     schwesig   \n",
       "4   1663618828  1.663619e+09  billburnseh  1.663619e+09  billburnseh   \n",
       "..         ...           ...          ...           ...          ...   \n",
       "89  1625255261  1.625615e+09      sesheta  1.625615e+09      sesheta   \n",
       "90  1625177628  1.625230e+09      sesheta  1.625230e+09      sesheta   \n",
       "91  1625167660  1.625254e+09      sesheta  1.625254e+09      sesheta   \n",
       "92  1621226623  1.625255e+09      sesheta  1.625255e+09      sesheta   \n",
       "93  1620809958  1.620827e+09     HumairAK  1.620827e+09     HumairAK   \n",
       "\n",
       "    commits_number  changed_files_number  \\\n",
       "0                2                     1   \n",
       "1                1                     1   \n",
       "2                0                     0   \n",
       "3                1                     1   \n",
       "4                2                     1   \n",
       "..             ...                   ...   \n",
       "89               2                     2   \n",
       "90               1                     1   \n",
       "91               1                     1   \n",
       "92               1                     1   \n",
       "93               1                     1   \n",
       "\n",
       "                                         interactions  \\\n",
       "0        {'schwesig': 175, 'quaid': 1, 'sesheta': 65}   \n",
       "1   {'schwesig': 9, 'codificat': 16, 'quaid': 3, '...   \n",
       "2   {'quaid': 2, 'schwesig': 7, 'sesheta': 287, 'c...   \n",
       "3                        {'sesheta': 172, 'quaid': 2}   \n",
       "4                                     {'sesheta': 86}   \n",
       "..                                                ...   \n",
       "89                        {'quaid': 4, 'sesheta': 65}   \n",
       "90                    {'harshad16': 3, 'sesheta': 70}   \n",
       "91  {'margarethaley': 24, 'oindrillac': 104, 'hars...   \n",
       "92  {'HumairAK': 60, 'quaid': 96, 'sesheta': 131, ...   \n",
       "93                       {'tumido': 1, 'sesheta': 68}   \n",
       "\n",
       "                                              reviews  \\\n",
       "0                                                  {}   \n",
       "1                                                  {}   \n",
       "2   {'1134003785': {'author': 'schwesig', 'words_c...   \n",
       "3   {'1133430644': {'author': 'quaid', 'words_coun...   \n",
       "4                                                  {}   \n",
       "..                                                ...   \n",
       "89  {'699550191': {'author': 'quaid', 'words_count...   \n",
       "90  {'698155981': {'author': 'oindrillac', 'words_...   \n",
       "91  {'697796698': {'author': 'quaid', 'words_count...   \n",
       "92  {'661390364': {'author': 'HumairAK', 'words_co...   \n",
       "93  {'657780656': {'author': 'HumairAK', 'words_co...   \n",
       "\n",
       "                                               labels  \\\n",
       "0   [lgtm, triage/accepted, approved, priority/cri...   \n",
       "1   [lgtm, triage/accepted, approved, priority/cri...   \n",
       "2   [size/XS, area/user, kind/governance, sig/comm...   \n",
       "3   [kind/documentation, lgtm, approved, size/M, s...   \n",
       "4                                           [size/XS]   \n",
       "..                                                ...   \n",
       "89                           [size/L, lgtm, approved]   \n",
       "90                          [lgtm, approved, size/XS]   \n",
       "91                           [lgtm, approved, size/M]   \n",
       "92                                   [lgtm, approved]   \n",
       "93                                                 []   \n",
       "\n",
       "                                              commits  \\\n",
       "0   [20fcc08d8ebd4e7453469c7fd5492995f156181c, 764...   \n",
       "1          [210de76a23b3cf7f1d0c66b8c82457c597400797]   \n",
       "2                                                  []   \n",
       "3          [54c273e75aa9a4a7326c7f9aad1b013bc0c29791]   \n",
       "4   [c86790d3a173abae0682dcbef583e6b151d6e61c, 272...   \n",
       "..                                                ...   \n",
       "89  [28612661c6aa3a338539176e3bef111537e8b79e, f4c...   \n",
       "90         [d89f48d4fd7c01b61847762dfda0b2253cb0e7ed]   \n",
       "91         [28612661c6aa3a338539176e3bef111537e8b79e]   \n",
       "92         [03b73f88526078fdce85a6862248f2c8641e60d2]   \n",
       "93         [b4cec5fb1a0d4d789e878e089560ca9752476cc7]   \n",
       "\n",
       "                                        changed_files  first_review_at  \\\n",
       "0                                            [OWNERS]              NaN   \n",
       "1   [sig-community/meeting-notes/20221006-meeting-...              NaN   \n",
       "2                                                  []     1.665127e+09   \n",
       "3   [sig-community/meeting-notes/20221006-meeting-...     1.665079e+09   \n",
       "4                                [four-principles.md]              NaN   \n",
       "..                                                ...              ...   \n",
       "89            [glossary.md, new_front_page_mockup.md]     1.625550e+09   \n",
       "90                                       [.prow.yaml]     1.625230e+09   \n",
       "91                         [new_front_page_mockup.md]     1.625197e+09   \n",
       "92                          [core_project_message.md]     1.621283e+09   \n",
       "93                                           [OWNERS]     1.620820e+09   \n",
       "\n",
       "    first_approve_at   id  \n",
       "0                NaN  229  \n",
       "1                NaN  228  \n",
       "2                NaN  225  \n",
       "3       1.665079e+09  224  \n",
       "4                NaN  223  \n",
       "..               ...  ...  \n",
       "89               NaN   45  \n",
       "90      1.625230e+09   44  \n",
       "91               NaN   43  \n",
       "92               NaN    5  \n",
       "93      1.620820e+09    1  \n",
       "\n",
       "[94 rows x 19 columns]"
      ]
     },
     "execution_count": 22,
     "metadata": {},
     "output_type": "execute_result"
    }
   ],
   "source": [
    "pr_df"
   ]
  },
  {
   "cell_type": "code",
   "execution_count": 23,
   "id": "b3760786-b04a-4216-a690-c60cd19bb454",
   "metadata": {
    "execution": {
     "iopub.execute_input": "2022-11-01T05:19:28.580531Z",
     "iopub.status.busy": "2022-11-01T05:19:28.579918Z",
     "iopub.status.idle": "2022-11-01T05:19:28.610140Z",
     "shell.execute_reply": "2022-11-01T05:19:28.609336Z"
    }
   },
   "outputs": [
    {
     "data": {
      "text/html": [
       "<div>\n",
       "<style scoped>\n",
       "    .dataframe tbody tr th:only-of-type {\n",
       "        vertical-align: middle;\n",
       "    }\n",
       "\n",
       "    .dataframe tbody tr th {\n",
       "        vertical-align: top;\n",
       "    }\n",
       "\n",
       "    .dataframe thead th {\n",
       "        text-align: right;\n",
       "    }\n",
       "</style>\n",
       "<table border=\"1\" class=\"dataframe\">\n",
       "  <thead>\n",
       "    <tr style=\"text-align: right;\">\n",
       "      <th></th>\n",
       "      <th>size</th>\n",
       "      <th>created_at_day</th>\n",
       "      <th>created_at_month</th>\n",
       "      <th>created_at_weekday</th>\n",
       "      <th>created_at_hour</th>\n",
       "      <th>changed_files_number</th>\n",
       "      <th>body_size</th>\n",
       "      <th>commits_number</th>\n",
       "      <th>filetype_.md</th>\n",
       "      <th>filetype_.yaml</th>\n",
       "      <th>...</th>\n",
       "      <th>title_wordcount_use</th>\n",
       "      <th>title_wordcount_var</th>\n",
       "      <th>title_wordcount_via</th>\n",
       "      <th>title_wordcount_website</th>\n",
       "      <th>title_wordcount_week</th>\n",
       "      <th>title_wordcount_weekly</th>\n",
       "      <th>title_wordcount_whitespace</th>\n",
       "      <th>title_wordcount_word</th>\n",
       "      <th>title_wordcount_wording</th>\n",
       "      <th>title_wordcount_workload</th>\n",
       "    </tr>\n",
       "  </thead>\n",
       "  <tbody>\n",
       "    <tr>\n",
       "      <th>0</th>\n",
       "      <td>1.0</td>\n",
       "      <td>10.0</td>\n",
       "      <td>10.0</td>\n",
       "      <td>0.0</td>\n",
       "      <td>14.0</td>\n",
       "      <td>1.0</td>\n",
       "      <td>0.0</td>\n",
       "      <td>2.0</td>\n",
       "      <td>0.0</td>\n",
       "      <td>0.0</td>\n",
       "      <td>...</td>\n",
       "      <td>0.0</td>\n",
       "      <td>0.0</td>\n",
       "      <td>0.0</td>\n",
       "      <td>0.0</td>\n",
       "      <td>0.0</td>\n",
       "      <td>0.0</td>\n",
       "      <td>0.0</td>\n",
       "      <td>0.0</td>\n",
       "      <td>0.0</td>\n",
       "      <td>0.0</td>\n",
       "    </tr>\n",
       "    <tr>\n",
       "      <th>1</th>\n",
       "      <td>0.0</td>\n",
       "      <td>10.0</td>\n",
       "      <td>10.0</td>\n",
       "      <td>0.0</td>\n",
       "      <td>11.0</td>\n",
       "      <td>1.0</td>\n",
       "      <td>0.0</td>\n",
       "      <td>1.0</td>\n",
       "      <td>1.0</td>\n",
       "      <td>0.0</td>\n",
       "      <td>...</td>\n",
       "      <td>0.0</td>\n",
       "      <td>0.0</td>\n",
       "      <td>0.0</td>\n",
       "      <td>0.0</td>\n",
       "      <td>0.0</td>\n",
       "      <td>0.0</td>\n",
       "      <td>1.0</td>\n",
       "      <td>0.0</td>\n",
       "      <td>0.0</td>\n",
       "      <td>0.0</td>\n",
       "    </tr>\n",
       "    <tr>\n",
       "      <th>2</th>\n",
       "      <td>0.0</td>\n",
       "      <td>6.0</td>\n",
       "      <td>10.0</td>\n",
       "      <td>3.0</td>\n",
       "      <td>18.0</td>\n",
       "      <td>0.0</td>\n",
       "      <td>0.0</td>\n",
       "      <td>0.0</td>\n",
       "      <td>0.0</td>\n",
       "      <td>0.0</td>\n",
       "      <td>...</td>\n",
       "      <td>0.0</td>\n",
       "      <td>0.0</td>\n",
       "      <td>0.0</td>\n",
       "      <td>0.0</td>\n",
       "      <td>0.0</td>\n",
       "      <td>0.0</td>\n",
       "      <td>0.0</td>\n",
       "      <td>0.0</td>\n",
       "      <td>0.0</td>\n",
       "      <td>0.0</td>\n",
       "    </tr>\n",
       "    <tr>\n",
       "      <th>3</th>\n",
       "      <td>2.0</td>\n",
       "      <td>6.0</td>\n",
       "      <td>10.0</td>\n",
       "      <td>3.0</td>\n",
       "      <td>17.0</td>\n",
       "      <td>1.0</td>\n",
       "      <td>0.0</td>\n",
       "      <td>1.0</td>\n",
       "      <td>1.0</td>\n",
       "      <td>0.0</td>\n",
       "      <td>...</td>\n",
       "      <td>0.0</td>\n",
       "      <td>0.0</td>\n",
       "      <td>0.0</td>\n",
       "      <td>0.0</td>\n",
       "      <td>0.0</td>\n",
       "      <td>0.0</td>\n",
       "      <td>0.0</td>\n",
       "      <td>0.0</td>\n",
       "      <td>0.0</td>\n",
       "      <td>0.0</td>\n",
       "    </tr>\n",
       "    <tr>\n",
       "      <th>4</th>\n",
       "      <td>0.0</td>\n",
       "      <td>19.0</td>\n",
       "      <td>9.0</td>\n",
       "      <td>0.0</td>\n",
       "      <td>20.0</td>\n",
       "      <td>1.0</td>\n",
       "      <td>6.0</td>\n",
       "      <td>2.0</td>\n",
       "      <td>1.0</td>\n",
       "      <td>0.0</td>\n",
       "      <td>...</td>\n",
       "      <td>0.0</td>\n",
       "      <td>0.0</td>\n",
       "      <td>0.0</td>\n",
       "      <td>0.0</td>\n",
       "      <td>0.0</td>\n",
       "      <td>0.0</td>\n",
       "      <td>0.0</td>\n",
       "      <td>0.0</td>\n",
       "      <td>1.0</td>\n",
       "      <td>0.0</td>\n",
       "    </tr>\n",
       "    <tr>\n",
       "      <th>...</th>\n",
       "      <td>...</td>\n",
       "      <td>...</td>\n",
       "      <td>...</td>\n",
       "      <td>...</td>\n",
       "      <td>...</td>\n",
       "      <td>...</td>\n",
       "      <td>...</td>\n",
       "      <td>...</td>\n",
       "      <td>...</td>\n",
       "      <td>...</td>\n",
       "      <td>...</td>\n",
       "      <td>...</td>\n",
       "      <td>...</td>\n",
       "      <td>...</td>\n",
       "      <td>...</td>\n",
       "      <td>...</td>\n",
       "      <td>...</td>\n",
       "      <td>...</td>\n",
       "      <td>...</td>\n",
       "      <td>...</td>\n",
       "      <td>...</td>\n",
       "    </tr>\n",
       "    <tr>\n",
       "      <th>89</th>\n",
       "      <td>3.0</td>\n",
       "      <td>2.0</td>\n",
       "      <td>7.0</td>\n",
       "      <td>4.0</td>\n",
       "      <td>19.0</td>\n",
       "      <td>2.0</td>\n",
       "      <td>48.0</td>\n",
       "      <td>2.0</td>\n",
       "      <td>2.0</td>\n",
       "      <td>0.0</td>\n",
       "      <td>...</td>\n",
       "      <td>0.0</td>\n",
       "      <td>0.0</td>\n",
       "      <td>0.0</td>\n",
       "      <td>0.0</td>\n",
       "      <td>0.0</td>\n",
       "      <td>0.0</td>\n",
       "      <td>0.0</td>\n",
       "      <td>0.0</td>\n",
       "      <td>0.0</td>\n",
       "      <td>0.0</td>\n",
       "    </tr>\n",
       "    <tr>\n",
       "      <th>90</th>\n",
       "      <td>0.0</td>\n",
       "      <td>1.0</td>\n",
       "      <td>7.0</td>\n",
       "      <td>3.0</td>\n",
       "      <td>22.0</td>\n",
       "      <td>1.0</td>\n",
       "      <td>16.0</td>\n",
       "      <td>1.0</td>\n",
       "      <td>0.0</td>\n",
       "      <td>1.0</td>\n",
       "      <td>...</td>\n",
       "      <td>0.0</td>\n",
       "      <td>0.0</td>\n",
       "      <td>0.0</td>\n",
       "      <td>0.0</td>\n",
       "      <td>0.0</td>\n",
       "      <td>0.0</td>\n",
       "      <td>0.0</td>\n",
       "      <td>0.0</td>\n",
       "      <td>0.0</td>\n",
       "      <td>0.0</td>\n",
       "    </tr>\n",
       "    <tr>\n",
       "      <th>91</th>\n",
       "      <td>2.0</td>\n",
       "      <td>1.0</td>\n",
       "      <td>7.0</td>\n",
       "      <td>3.0</td>\n",
       "      <td>19.0</td>\n",
       "      <td>1.0</td>\n",
       "      <td>38.0</td>\n",
       "      <td>1.0</td>\n",
       "      <td>1.0</td>\n",
       "      <td>0.0</td>\n",
       "      <td>...</td>\n",
       "      <td>0.0</td>\n",
       "      <td>0.0</td>\n",
       "      <td>0.0</td>\n",
       "      <td>0.0</td>\n",
       "      <td>0.0</td>\n",
       "      <td>0.0</td>\n",
       "      <td>0.0</td>\n",
       "      <td>0.0</td>\n",
       "      <td>0.0</td>\n",
       "      <td>0.0</td>\n",
       "    </tr>\n",
       "    <tr>\n",
       "      <th>92</th>\n",
       "      <td>2.0</td>\n",
       "      <td>17.0</td>\n",
       "      <td>5.0</td>\n",
       "      <td>0.0</td>\n",
       "      <td>4.0</td>\n",
       "      <td>1.0</td>\n",
       "      <td>34.0</td>\n",
       "      <td>1.0</td>\n",
       "      <td>1.0</td>\n",
       "      <td>0.0</td>\n",
       "      <td>...</td>\n",
       "      <td>0.0</td>\n",
       "      <td>0.0</td>\n",
       "      <td>0.0</td>\n",
       "      <td>0.0</td>\n",
       "      <td>0.0</td>\n",
       "      <td>0.0</td>\n",
       "      <td>0.0</td>\n",
       "      <td>0.0</td>\n",
       "      <td>0.0</td>\n",
       "      <td>0.0</td>\n",
       "    </tr>\n",
       "    <tr>\n",
       "      <th>93</th>\n",
       "      <td>0.0</td>\n",
       "      <td>12.0</td>\n",
       "      <td>5.0</td>\n",
       "      <td>2.0</td>\n",
       "      <td>8.0</td>\n",
       "      <td>1.0</td>\n",
       "      <td>3.0</td>\n",
       "      <td>1.0</td>\n",
       "      <td>0.0</td>\n",
       "      <td>0.0</td>\n",
       "      <td>...</td>\n",
       "      <td>0.0</td>\n",
       "      <td>0.0</td>\n",
       "      <td>0.0</td>\n",
       "      <td>0.0</td>\n",
       "      <td>0.0</td>\n",
       "      <td>0.0</td>\n",
       "      <td>0.0</td>\n",
       "      <td>0.0</td>\n",
       "      <td>0.0</td>\n",
       "      <td>0.0</td>\n",
       "    </tr>\n",
       "  </tbody>\n",
       "</table>\n",
       "<p>94 rows × 186 columns</p>\n",
       "</div>"
      ],
      "text/plain": [
       "    size  created_at_day  created_at_month  created_at_weekday  \\\n",
       "0    1.0            10.0              10.0                 0.0   \n",
       "1    0.0            10.0              10.0                 0.0   \n",
       "2    0.0             6.0              10.0                 3.0   \n",
       "3    2.0             6.0              10.0                 3.0   \n",
       "4    0.0            19.0               9.0                 0.0   \n",
       "..   ...             ...               ...                 ...   \n",
       "89   3.0             2.0               7.0                 4.0   \n",
       "90   0.0             1.0               7.0                 3.0   \n",
       "91   2.0             1.0               7.0                 3.0   \n",
       "92   2.0            17.0               5.0                 0.0   \n",
       "93   0.0            12.0               5.0                 2.0   \n",
       "\n",
       "    created_at_hour  changed_files_number  body_size  commits_number  \\\n",
       "0              14.0                   1.0        0.0             2.0   \n",
       "1              11.0                   1.0        0.0             1.0   \n",
       "2              18.0                   0.0        0.0             0.0   \n",
       "3              17.0                   1.0        0.0             1.0   \n",
       "4              20.0                   1.0        6.0             2.0   \n",
       "..              ...                   ...        ...             ...   \n",
       "89             19.0                   2.0       48.0             2.0   \n",
       "90             22.0                   1.0       16.0             1.0   \n",
       "91             19.0                   1.0       38.0             1.0   \n",
       "92              4.0                   1.0       34.0             1.0   \n",
       "93              8.0                   1.0        3.0             1.0   \n",
       "\n",
       "    filetype_.md  filetype_.yaml  ...  title_wordcount_use  \\\n",
       "0            0.0             0.0  ...                  0.0   \n",
       "1            1.0             0.0  ...                  0.0   \n",
       "2            0.0             0.0  ...                  0.0   \n",
       "3            1.0             0.0  ...                  0.0   \n",
       "4            1.0             0.0  ...                  0.0   \n",
       "..           ...             ...  ...                  ...   \n",
       "89           2.0             0.0  ...                  0.0   \n",
       "90           0.0             1.0  ...                  0.0   \n",
       "91           1.0             0.0  ...                  0.0   \n",
       "92           1.0             0.0  ...                  0.0   \n",
       "93           0.0             0.0  ...                  0.0   \n",
       "\n",
       "    title_wordcount_var  title_wordcount_via  title_wordcount_website  \\\n",
       "0                   0.0                  0.0                      0.0   \n",
       "1                   0.0                  0.0                      0.0   \n",
       "2                   0.0                  0.0                      0.0   \n",
       "3                   0.0                  0.0                      0.0   \n",
       "4                   0.0                  0.0                      0.0   \n",
       "..                  ...                  ...                      ...   \n",
       "89                  0.0                  0.0                      0.0   \n",
       "90                  0.0                  0.0                      0.0   \n",
       "91                  0.0                  0.0                      0.0   \n",
       "92                  0.0                  0.0                      0.0   \n",
       "93                  0.0                  0.0                      0.0   \n",
       "\n",
       "    title_wordcount_week  title_wordcount_weekly  title_wordcount_whitespace  \\\n",
       "0                    0.0                     0.0                         0.0   \n",
       "1                    0.0                     0.0                         1.0   \n",
       "2                    0.0                     0.0                         0.0   \n",
       "3                    0.0                     0.0                         0.0   \n",
       "4                    0.0                     0.0                         0.0   \n",
       "..                   ...                     ...                         ...   \n",
       "89                   0.0                     0.0                         0.0   \n",
       "90                   0.0                     0.0                         0.0   \n",
       "91                   0.0                     0.0                         0.0   \n",
       "92                   0.0                     0.0                         0.0   \n",
       "93                   0.0                     0.0                         0.0   \n",
       "\n",
       "    title_wordcount_word  title_wordcount_wording  title_wordcount_workload  \n",
       "0                    0.0                      0.0                       0.0  \n",
       "1                    0.0                      0.0                       0.0  \n",
       "2                    0.0                      0.0                       0.0  \n",
       "3                    0.0                      0.0                       0.0  \n",
       "4                    0.0                      1.0                       0.0  \n",
       "..                   ...                      ...                       ...  \n",
       "89                   0.0                      0.0                       0.0  \n",
       "90                   0.0                      0.0                       0.0  \n",
       "91                   0.0                      0.0                       0.0  \n",
       "92                   0.0                      0.0                       0.0  \n",
       "93                   0.0                      0.0                       0.0  \n",
       "\n",
       "[94 rows x 186 columns]"
      ]
     },
     "execution_count": 23,
     "metadata": {},
     "output_type": "execute_result"
    }
   ],
   "source": [
    "X"
   ]
  },
  {
   "cell_type": "markdown",
   "id": "756725bc-85c4-45b0-8f24-08cba0f57113",
   "metadata": {},
   "source": [
    "## Drop NA + Train/Test Split"
   ]
  },
  {
   "cell_type": "code",
   "execution_count": 24,
   "id": "da703bc5-696f-4f63-b471-018c18557ac6",
   "metadata": {
    "execution": {
     "iopub.execute_input": "2022-11-01T05:19:28.614599Z",
     "iopub.status.busy": "2022-11-01T05:19:28.614154Z",
     "iopub.status.idle": "2022-11-01T05:19:28.619172Z",
     "shell.execute_reply": "2022-11-01T05:19:28.618538Z"
    }
   },
   "outputs": [],
   "source": [
    "# drop entries for which labels are unknown\n",
    "# also make sure labels and features are consistent\n",
    "X = X.reindex(y.index)"
   ]
  },
  {
   "cell_type": "code",
   "execution_count": 25,
   "id": "86235437",
   "metadata": {
    "execution": {
     "iopub.execute_input": "2022-11-01T05:19:28.622410Z",
     "iopub.status.busy": "2022-11-01T05:19:28.621884Z",
     "iopub.status.idle": "2022-11-01T05:19:28.627616Z",
     "shell.execute_reply": "2022-11-01T05:19:28.627020Z"
    }
   },
   "outputs": [],
   "source": [
    "# split into train and test sets\n",
    "X_train, X_test, y_train, y_test = train_test_split(\n",
    "    X, y, test_size=0.2, random_state=42\n",
    ")"
   ]
  },
  {
   "cell_type": "code",
   "execution_count": 26,
   "id": "82ac1a13-b294-4414-906b-271e72ac091f",
   "metadata": {
    "execution": {
     "iopub.execute_input": "2022-11-01T05:19:28.630898Z",
     "iopub.status.busy": "2022-11-01T05:19:28.630353Z",
     "iopub.status.idle": "2022-11-01T05:19:28.667259Z",
     "shell.execute_reply": "2022-11-01T05:19:28.665860Z"
    }
   },
   "outputs": [
    {
     "data": {
      "text/html": [
       "<div>\n",
       "<style scoped>\n",
       "    .dataframe tbody tr th:only-of-type {\n",
       "        vertical-align: middle;\n",
       "    }\n",
       "\n",
       "    .dataframe tbody tr th {\n",
       "        vertical-align: top;\n",
       "    }\n",
       "\n",
       "    .dataframe thead th {\n",
       "        text-align: right;\n",
       "    }\n",
       "</style>\n",
       "<table border=\"1\" class=\"dataframe\">\n",
       "  <thead>\n",
       "    <tr style=\"text-align: right;\">\n",
       "      <th></th>\n",
       "      <th>size</th>\n",
       "      <th>created_at_day</th>\n",
       "      <th>created_at_month</th>\n",
       "      <th>created_at_weekday</th>\n",
       "      <th>created_at_hour</th>\n",
       "      <th>changed_files_number</th>\n",
       "      <th>body_size</th>\n",
       "      <th>commits_number</th>\n",
       "      <th>filetype_.md</th>\n",
       "      <th>filetype_.yaml</th>\n",
       "      <th>...</th>\n",
       "      <th>title_wordcount_use</th>\n",
       "      <th>title_wordcount_var</th>\n",
       "      <th>title_wordcount_via</th>\n",
       "      <th>title_wordcount_website</th>\n",
       "      <th>title_wordcount_week</th>\n",
       "      <th>title_wordcount_weekly</th>\n",
       "      <th>title_wordcount_whitespace</th>\n",
       "      <th>title_wordcount_word</th>\n",
       "      <th>title_wordcount_wording</th>\n",
       "      <th>title_wordcount_workload</th>\n",
       "    </tr>\n",
       "  </thead>\n",
       "  <tbody>\n",
       "    <tr>\n",
       "      <th>36</th>\n",
       "      <td>3.0</td>\n",
       "      <td>31.0</td>\n",
       "      <td>3.0</td>\n",
       "      <td>3.0</td>\n",
       "      <td>12.0</td>\n",
       "      <td>7.0</td>\n",
       "      <td>38.0</td>\n",
       "      <td>1.0</td>\n",
       "      <td>5.0</td>\n",
       "      <td>1.0</td>\n",
       "      <td>...</td>\n",
       "      <td>0.0</td>\n",
       "      <td>0.0</td>\n",
       "      <td>0.0</td>\n",
       "      <td>0.0</td>\n",
       "      <td>0.0</td>\n",
       "      <td>0.0</td>\n",
       "      <td>0.0</td>\n",
       "      <td>0.0</td>\n",
       "      <td>0.0</td>\n",
       "      <td>0.0</td>\n",
       "    </tr>\n",
       "    <tr>\n",
       "      <th>0</th>\n",
       "      <td>1.0</td>\n",
       "      <td>10.0</td>\n",
       "      <td>10.0</td>\n",
       "      <td>0.0</td>\n",
       "      <td>14.0</td>\n",
       "      <td>1.0</td>\n",
       "      <td>0.0</td>\n",
       "      <td>2.0</td>\n",
       "      <td>0.0</td>\n",
       "      <td>0.0</td>\n",
       "      <td>...</td>\n",
       "      <td>0.0</td>\n",
       "      <td>0.0</td>\n",
       "      <td>0.0</td>\n",
       "      <td>0.0</td>\n",
       "      <td>0.0</td>\n",
       "      <td>0.0</td>\n",
       "      <td>0.0</td>\n",
       "      <td>0.0</td>\n",
       "      <td>0.0</td>\n",
       "      <td>0.0</td>\n",
       "    </tr>\n",
       "    <tr>\n",
       "      <th>28</th>\n",
       "      <td>0.0</td>\n",
       "      <td>27.0</td>\n",
       "      <td>4.0</td>\n",
       "      <td>2.0</td>\n",
       "      <td>21.0</td>\n",
       "      <td>1.0</td>\n",
       "      <td>4.0</td>\n",
       "      <td>1.0</td>\n",
       "      <td>1.0</td>\n",
       "      <td>0.0</td>\n",
       "      <td>...</td>\n",
       "      <td>0.0</td>\n",
       "      <td>0.0</td>\n",
       "      <td>0.0</td>\n",
       "      <td>0.0</td>\n",
       "      <td>0.0</td>\n",
       "      <td>0.0</td>\n",
       "      <td>0.0</td>\n",
       "      <td>0.0</td>\n",
       "      <td>0.0</td>\n",
       "      <td>0.0</td>\n",
       "    </tr>\n",
       "    <tr>\n",
       "      <th>37</th>\n",
       "      <td>2.0</td>\n",
       "      <td>29.0</td>\n",
       "      <td>3.0</td>\n",
       "      <td>1.0</td>\n",
       "      <td>16.0</td>\n",
       "      <td>2.0</td>\n",
       "      <td>31.0</td>\n",
       "      <td>1.0</td>\n",
       "      <td>2.0</td>\n",
       "      <td>0.0</td>\n",
       "      <td>...</td>\n",
       "      <td>0.0</td>\n",
       "      <td>0.0</td>\n",
       "      <td>0.0</td>\n",
       "      <td>0.0</td>\n",
       "      <td>0.0</td>\n",
       "      <td>0.0</td>\n",
       "      <td>0.0</td>\n",
       "      <td>0.0</td>\n",
       "      <td>0.0</td>\n",
       "      <td>0.0</td>\n",
       "    </tr>\n",
       "    <tr>\n",
       "      <th>23</th>\n",
       "      <td>0.0</td>\n",
       "      <td>31.0</td>\n",
       "      <td>5.0</td>\n",
       "      <td>1.0</td>\n",
       "      <td>12.0</td>\n",
       "      <td>1.0</td>\n",
       "      <td>0.0</td>\n",
       "      <td>1.0</td>\n",
       "      <td>1.0</td>\n",
       "      <td>0.0</td>\n",
       "      <td>...</td>\n",
       "      <td>0.0</td>\n",
       "      <td>0.0</td>\n",
       "      <td>0.0</td>\n",
       "      <td>0.0</td>\n",
       "      <td>0.0</td>\n",
       "      <td>0.0</td>\n",
       "      <td>0.0</td>\n",
       "      <td>0.0</td>\n",
       "      <td>0.0</td>\n",
       "      <td>0.0</td>\n",
       "    </tr>\n",
       "    <tr>\n",
       "      <th>34</th>\n",
       "      <td>2.0</td>\n",
       "      <td>31.0</td>\n",
       "      <td>3.0</td>\n",
       "      <td>3.0</td>\n",
       "      <td>14.0</td>\n",
       "      <td>4.0</td>\n",
       "      <td>11.0</td>\n",
       "      <td>1.0</td>\n",
       "      <td>2.0</td>\n",
       "      <td>1.0</td>\n",
       "      <td>...</td>\n",
       "      <td>0.0</td>\n",
       "      <td>0.0</td>\n",
       "      <td>0.0</td>\n",
       "      <td>0.0</td>\n",
       "      <td>0.0</td>\n",
       "      <td>0.0</td>\n",
       "      <td>0.0</td>\n",
       "      <td>0.0</td>\n",
       "      <td>0.0</td>\n",
       "      <td>0.0</td>\n",
       "    </tr>\n",
       "    <tr>\n",
       "      <th>12</th>\n",
       "      <td>0.0</td>\n",
       "      <td>3.0</td>\n",
       "      <td>8.0</td>\n",
       "      <td>2.0</td>\n",
       "      <td>18.0</td>\n",
       "      <td>2.0</td>\n",
       "      <td>4.0</td>\n",
       "      <td>2.0</td>\n",
       "      <td>2.0</td>\n",
       "      <td>0.0</td>\n",
       "      <td>...</td>\n",
       "      <td>0.0</td>\n",
       "      <td>0.0</td>\n",
       "      <td>0.0</td>\n",
       "      <td>0.0</td>\n",
       "      <td>0.0</td>\n",
       "      <td>0.0</td>\n",
       "      <td>0.0</td>\n",
       "      <td>0.0</td>\n",
       "      <td>0.0</td>\n",
       "      <td>0.0</td>\n",
       "    </tr>\n",
       "    <tr>\n",
       "      <th>84</th>\n",
       "      <td>5.0</td>\n",
       "      <td>27.0</td>\n",
       "      <td>8.0</td>\n",
       "      <td>4.0</td>\n",
       "      <td>19.0</td>\n",
       "      <td>3.0</td>\n",
       "      <td>18.0</td>\n",
       "      <td>1.0</td>\n",
       "      <td>1.0</td>\n",
       "      <td>0.0</td>\n",
       "      <td>...</td>\n",
       "      <td>0.0</td>\n",
       "      <td>0.0</td>\n",
       "      <td>0.0</td>\n",
       "      <td>0.0</td>\n",
       "      <td>0.0</td>\n",
       "      <td>0.0</td>\n",
       "      <td>0.0</td>\n",
       "      <td>0.0</td>\n",
       "      <td>0.0</td>\n",
       "      <td>0.0</td>\n",
       "    </tr>\n",
       "    <tr>\n",
       "      <th>5</th>\n",
       "      <td>2.0</td>\n",
       "      <td>13.0</td>\n",
       "      <td>9.0</td>\n",
       "      <td>1.0</td>\n",
       "      <td>14.0</td>\n",
       "      <td>8.0</td>\n",
       "      <td>9.0</td>\n",
       "      <td>1.0</td>\n",
       "      <td>6.0</td>\n",
       "      <td>1.0</td>\n",
       "      <td>...</td>\n",
       "      <td>0.0</td>\n",
       "      <td>0.0</td>\n",
       "      <td>0.0</td>\n",
       "      <td>0.0</td>\n",
       "      <td>0.0</td>\n",
       "      <td>0.0</td>\n",
       "      <td>0.0</td>\n",
       "      <td>0.0</td>\n",
       "      <td>0.0</td>\n",
       "      <td>0.0</td>\n",
       "    </tr>\n",
       "    <tr>\n",
       "      <th>14</th>\n",
       "      <td>1.0</td>\n",
       "      <td>26.0</td>\n",
       "      <td>7.0</td>\n",
       "      <td>1.0</td>\n",
       "      <td>17.0</td>\n",
       "      <td>2.0</td>\n",
       "      <td>18.0</td>\n",
       "      <td>3.0</td>\n",
       "      <td>2.0</td>\n",
       "      <td>0.0</td>\n",
       "      <td>...</td>\n",
       "      <td>0.0</td>\n",
       "      <td>0.0</td>\n",
       "      <td>0.0</td>\n",
       "      <td>0.0</td>\n",
       "      <td>0.0</td>\n",
       "      <td>0.0</td>\n",
       "      <td>0.0</td>\n",
       "      <td>0.0</td>\n",
       "      <td>0.0</td>\n",
       "      <td>0.0</td>\n",
       "    </tr>\n",
       "    <tr>\n",
       "      <th>59</th>\n",
       "      <td>1.0</td>\n",
       "      <td>24.0</td>\n",
       "      <td>2.0</td>\n",
       "      <td>3.0</td>\n",
       "      <td>19.0</td>\n",
       "      <td>1.0</td>\n",
       "      <td>5.0</td>\n",
       "      <td>1.0</td>\n",
       "      <td>0.0</td>\n",
       "      <td>1.0</td>\n",
       "      <td>...</td>\n",
       "      <td>0.0</td>\n",
       "      <td>0.0</td>\n",
       "      <td>0.0</td>\n",
       "      <td>1.0</td>\n",
       "      <td>0.0</td>\n",
       "      <td>0.0</td>\n",
       "      <td>0.0</td>\n",
       "      <td>0.0</td>\n",
       "      <td>0.0</td>\n",
       "      <td>0.0</td>\n",
       "    </tr>\n",
       "    <tr>\n",
       "      <th>40</th>\n",
       "      <td>0.0</td>\n",
       "      <td>24.0</td>\n",
       "      <td>3.0</td>\n",
       "      <td>3.0</td>\n",
       "      <td>0.0</td>\n",
       "      <td>1.0</td>\n",
       "      <td>51.0</td>\n",
       "      <td>1.0</td>\n",
       "      <td>1.0</td>\n",
       "      <td>0.0</td>\n",
       "      <td>...</td>\n",
       "      <td>0.0</td>\n",
       "      <td>0.0</td>\n",
       "      <td>0.0</td>\n",
       "      <td>0.0</td>\n",
       "      <td>0.0</td>\n",
       "      <td>0.0</td>\n",
       "      <td>0.0</td>\n",
       "      <td>0.0</td>\n",
       "      <td>0.0</td>\n",
       "      <td>0.0</td>\n",
       "    </tr>\n",
       "    <tr>\n",
       "      <th>80</th>\n",
       "      <td>3.0</td>\n",
       "      <td>8.0</td>\n",
       "      <td>12.0</td>\n",
       "      <td>2.0</td>\n",
       "      <td>19.0</td>\n",
       "      <td>1.0</td>\n",
       "      <td>38.0</td>\n",
       "      <td>20.0</td>\n",
       "      <td>1.0</td>\n",
       "      <td>0.0</td>\n",
       "      <td>...</td>\n",
       "      <td>0.0</td>\n",
       "      <td>0.0</td>\n",
       "      <td>0.0</td>\n",
       "      <td>0.0</td>\n",
       "      <td>0.0</td>\n",
       "      <td>0.0</td>\n",
       "      <td>0.0</td>\n",
       "      <td>0.0</td>\n",
       "      <td>0.0</td>\n",
       "      <td>0.0</td>\n",
       "    </tr>\n",
       "    <tr>\n",
       "      <th>42</th>\n",
       "      <td>2.0</td>\n",
       "      <td>23.0</td>\n",
       "      <td>3.0</td>\n",
       "      <td>2.0</td>\n",
       "      <td>4.0</td>\n",
       "      <td>1.0</td>\n",
       "      <td>46.0</td>\n",
       "      <td>1.0</td>\n",
       "      <td>1.0</td>\n",
       "      <td>0.0</td>\n",
       "      <td>...</td>\n",
       "      <td>0.0</td>\n",
       "      <td>0.0</td>\n",
       "      <td>0.0</td>\n",
       "      <td>0.0</td>\n",
       "      <td>0.0</td>\n",
       "      <td>0.0</td>\n",
       "      <td>0.0</td>\n",
       "      <td>0.0</td>\n",
       "      <td>0.0</td>\n",
       "      <td>0.0</td>\n",
       "    </tr>\n",
       "    <tr>\n",
       "      <th>81</th>\n",
       "      <td>3.0</td>\n",
       "      <td>8.0</td>\n",
       "      <td>12.0</td>\n",
       "      <td>2.0</td>\n",
       "      <td>19.0</td>\n",
       "      <td>1.0</td>\n",
       "      <td>5.0</td>\n",
       "      <td>3.0</td>\n",
       "      <td>1.0</td>\n",
       "      <td>0.0</td>\n",
       "      <td>...</td>\n",
       "      <td>0.0</td>\n",
       "      <td>0.0</td>\n",
       "      <td>0.0</td>\n",
       "      <td>0.0</td>\n",
       "      <td>0.0</td>\n",
       "      <td>0.0</td>\n",
       "      <td>0.0</td>\n",
       "      <td>0.0</td>\n",
       "      <td>0.0</td>\n",
       "      <td>0.0</td>\n",
       "    </tr>\n",
       "    <tr>\n",
       "      <th>55</th>\n",
       "      <td>0.0</td>\n",
       "      <td>1.0</td>\n",
       "      <td>3.0</td>\n",
       "      <td>1.0</td>\n",
       "      <td>16.0</td>\n",
       "      <td>1.0</td>\n",
       "      <td>10.0</td>\n",
       "      <td>1.0</td>\n",
       "      <td>0.0</td>\n",
       "      <td>0.0</td>\n",
       "      <td>...</td>\n",
       "      <td>0.0</td>\n",
       "      <td>0.0</td>\n",
       "      <td>0.0</td>\n",
       "      <td>0.0</td>\n",
       "      <td>0.0</td>\n",
       "      <td>0.0</td>\n",
       "      <td>0.0</td>\n",
       "      <td>0.0</td>\n",
       "      <td>0.0</td>\n",
       "      <td>0.0</td>\n",
       "    </tr>\n",
       "  </tbody>\n",
       "</table>\n",
       "<p>16 rows × 186 columns</p>\n",
       "</div>"
      ],
      "text/plain": [
       "    size  created_at_day  created_at_month  created_at_weekday  \\\n",
       "36   3.0            31.0               3.0                 3.0   \n",
       "0    1.0            10.0              10.0                 0.0   \n",
       "28   0.0            27.0               4.0                 2.0   \n",
       "37   2.0            29.0               3.0                 1.0   \n",
       "23   0.0            31.0               5.0                 1.0   \n",
       "34   2.0            31.0               3.0                 3.0   \n",
       "12   0.0             3.0               8.0                 2.0   \n",
       "84   5.0            27.0               8.0                 4.0   \n",
       "5    2.0            13.0               9.0                 1.0   \n",
       "14   1.0            26.0               7.0                 1.0   \n",
       "59   1.0            24.0               2.0                 3.0   \n",
       "40   0.0            24.0               3.0                 3.0   \n",
       "80   3.0             8.0              12.0                 2.0   \n",
       "42   2.0            23.0               3.0                 2.0   \n",
       "81   3.0             8.0              12.0                 2.0   \n",
       "55   0.0             1.0               3.0                 1.0   \n",
       "\n",
       "    created_at_hour  changed_files_number  body_size  commits_number  \\\n",
       "36             12.0                   7.0       38.0             1.0   \n",
       "0              14.0                   1.0        0.0             2.0   \n",
       "28             21.0                   1.0        4.0             1.0   \n",
       "37             16.0                   2.0       31.0             1.0   \n",
       "23             12.0                   1.0        0.0             1.0   \n",
       "34             14.0                   4.0       11.0             1.0   \n",
       "12             18.0                   2.0        4.0             2.0   \n",
       "84             19.0                   3.0       18.0             1.0   \n",
       "5              14.0                   8.0        9.0             1.0   \n",
       "14             17.0                   2.0       18.0             3.0   \n",
       "59             19.0                   1.0        5.0             1.0   \n",
       "40              0.0                   1.0       51.0             1.0   \n",
       "80             19.0                   1.0       38.0            20.0   \n",
       "42              4.0                   1.0       46.0             1.0   \n",
       "81             19.0                   1.0        5.0             3.0   \n",
       "55             16.0                   1.0       10.0             1.0   \n",
       "\n",
       "    filetype_.md  filetype_.yaml  ...  title_wordcount_use  \\\n",
       "36           5.0             1.0  ...                  0.0   \n",
       "0            0.0             0.0  ...                  0.0   \n",
       "28           1.0             0.0  ...                  0.0   \n",
       "37           2.0             0.0  ...                  0.0   \n",
       "23           1.0             0.0  ...                  0.0   \n",
       "34           2.0             1.0  ...                  0.0   \n",
       "12           2.0             0.0  ...                  0.0   \n",
       "84           1.0             0.0  ...                  0.0   \n",
       "5            6.0             1.0  ...                  0.0   \n",
       "14           2.0             0.0  ...                  0.0   \n",
       "59           0.0             1.0  ...                  0.0   \n",
       "40           1.0             0.0  ...                  0.0   \n",
       "80           1.0             0.0  ...                  0.0   \n",
       "42           1.0             0.0  ...                  0.0   \n",
       "81           1.0             0.0  ...                  0.0   \n",
       "55           0.0             0.0  ...                  0.0   \n",
       "\n",
       "    title_wordcount_var  title_wordcount_via  title_wordcount_website  \\\n",
       "36                  0.0                  0.0                      0.0   \n",
       "0                   0.0                  0.0                      0.0   \n",
       "28                  0.0                  0.0                      0.0   \n",
       "37                  0.0                  0.0                      0.0   \n",
       "23                  0.0                  0.0                      0.0   \n",
       "34                  0.0                  0.0                      0.0   \n",
       "12                  0.0                  0.0                      0.0   \n",
       "84                  0.0                  0.0                      0.0   \n",
       "5                   0.0                  0.0                      0.0   \n",
       "14                  0.0                  0.0                      0.0   \n",
       "59                  0.0                  0.0                      1.0   \n",
       "40                  0.0                  0.0                      0.0   \n",
       "80                  0.0                  0.0                      0.0   \n",
       "42                  0.0                  0.0                      0.0   \n",
       "81                  0.0                  0.0                      0.0   \n",
       "55                  0.0                  0.0                      0.0   \n",
       "\n",
       "    title_wordcount_week  title_wordcount_weekly  title_wordcount_whitespace  \\\n",
       "36                   0.0                     0.0                         0.0   \n",
       "0                    0.0                     0.0                         0.0   \n",
       "28                   0.0                     0.0                         0.0   \n",
       "37                   0.0                     0.0                         0.0   \n",
       "23                   0.0                     0.0                         0.0   \n",
       "34                   0.0                     0.0                         0.0   \n",
       "12                   0.0                     0.0                         0.0   \n",
       "84                   0.0                     0.0                         0.0   \n",
       "5                    0.0                     0.0                         0.0   \n",
       "14                   0.0                     0.0                         0.0   \n",
       "59                   0.0                     0.0                         0.0   \n",
       "40                   0.0                     0.0                         0.0   \n",
       "80                   0.0                     0.0                         0.0   \n",
       "42                   0.0                     0.0                         0.0   \n",
       "81                   0.0                     0.0                         0.0   \n",
       "55                   0.0                     0.0                         0.0   \n",
       "\n",
       "    title_wordcount_word  title_wordcount_wording  title_wordcount_workload  \n",
       "36                   0.0                      0.0                       0.0  \n",
       "0                    0.0                      0.0                       0.0  \n",
       "28                   0.0                      0.0                       0.0  \n",
       "37                   0.0                      0.0                       0.0  \n",
       "23                   0.0                      0.0                       0.0  \n",
       "34                   0.0                      0.0                       0.0  \n",
       "12                   0.0                      0.0                       0.0  \n",
       "84                   0.0                      0.0                       0.0  \n",
       "5                    0.0                      0.0                       0.0  \n",
       "14                   0.0                      0.0                       0.0  \n",
       "59                   0.0                      0.0                       0.0  \n",
       "40                   0.0                      0.0                       0.0  \n",
       "80                   0.0                      0.0                       0.0  \n",
       "42                   0.0                      0.0                       0.0  \n",
       "81                   0.0                      0.0                       0.0  \n",
       "55                   0.0                      0.0                       0.0  \n",
       "\n",
       "[16 rows x 186 columns]"
      ]
     },
     "execution_count": 26,
     "metadata": {},
     "output_type": "execute_result"
    }
   ],
   "source": [
    "X_test"
   ]
  },
  {
   "cell_type": "code",
   "execution_count": 27,
   "id": "fbbbd016",
   "metadata": {
    "execution": {
     "iopub.execute_input": "2022-11-01T05:19:28.671428Z",
     "iopub.status.busy": "2022-11-01T05:19:28.670966Z",
     "iopub.status.idle": "2022-11-01T05:19:29.365879Z",
     "shell.execute_reply": "2022-11-01T05:19:29.365009Z"
    }
   },
   "outputs": [
    {
     "name": "stdout",
     "output_type": "stream",
     "text": [
      "200\n",
      "200\n"
     ]
    }
   ],
   "source": [
    "TEST_DATA_PATH = os.path.join(s3_input_data_path, ORG, REPO, \"test-data\")\n",
    "\n",
    "# upload X_test and y_test to S3 bucket for testing / running sanity check on the model inference service\n",
    "cc = CephCommunication(s3_endpoint_url, s3_access_key, s3_secret_key, s3_bucket)\n",
    "\n",
    "ret = cc.upload_to_ceph(X_test, TEST_DATA_PATH, \"X_test.parquet\")\n",
    "print(ret[\"ResponseMetadata\"][\"HTTPStatusCode\"])\n",
    "\n",
    "ret = cc.upload_to_ceph(y_test.to_frame(\"ttm_class\"), TEST_DATA_PATH, \"y_test.parquet\")\n",
    "print(ret[\"ResponseMetadata\"][\"HTTPStatusCode\"])"
   ]
  },
  {
   "cell_type": "code",
   "execution_count": 28,
   "id": "4ee74938",
   "metadata": {
    "execution": {
     "iopub.execute_input": "2022-11-01T05:19:29.370072Z",
     "iopub.status.busy": "2022-11-01T05:19:29.369429Z",
     "iopub.status.idle": "2022-11-01T05:19:29.374457Z",
     "shell.execute_reply": "2022-11-01T05:19:29.373846Z"
    }
   },
   "outputs": [],
   "source": [
    "# convert from pandas series to lists to avoid warnings during training\n",
    "y_train = y_train.to_list()\n",
    "y_test = y_test.to_list()"
   ]
  },
  {
   "cell_type": "markdown",
   "id": "98107599",
   "metadata": {},
   "source": [
    "## Scale data"
   ]
  },
  {
   "cell_type": "code",
   "execution_count": 29,
   "id": "47bb3149",
   "metadata": {
    "execution": {
     "iopub.execute_input": "2022-11-01T05:19:29.378386Z",
     "iopub.status.busy": "2022-11-01T05:19:29.377808Z",
     "iopub.status.idle": "2022-11-01T05:19:29.786649Z",
     "shell.execute_reply": "2022-11-01T05:19:29.785885Z"
    }
   },
   "outputs": [],
   "source": [
    "# lets apply a yeo johnson transform to try to make the data more gaussian\n",
    "scaler = PowerTransformer()\n",
    "\n",
    "X_train_scaled = scaler.fit_transform(X_train)\n",
    "X_test_scaled = scaler.transform(X_test)"
   ]
  },
  {
   "cell_type": "markdown",
   "id": "4d0dd02f",
   "metadata": {},
   "source": [
    "## Define Training and Evaluation Pipeline"
   ]
  },
  {
   "cell_type": "markdown",
   "id": "e7ab12e4",
   "metadata": {},
   "source": [
    "Here, we will define a function to train a given classifier on the training set and then evaluate it on the test set. "
   ]
  },
  {
   "cell_type": "code",
   "execution_count": 30,
   "id": "2cacd2c8",
   "metadata": {
    "execution": {
     "iopub.execute_input": "2022-11-01T05:19:29.790548Z",
     "iopub.status.busy": "2022-11-01T05:19:29.790276Z",
     "iopub.status.idle": "2022-11-01T05:19:29.797657Z",
     "shell.execute_reply": "2022-11-01T05:19:29.797042Z"
    }
   },
   "outputs": [],
   "source": [
    "def train_evaluate_classifier(clf, xtrain, ytrain, xtest, ytest):\n",
    "    # Train our classifier\n",
    "    clf.fit(xtrain, ytrain)\n",
    "\n",
    "    # Make predictions\n",
    "    preds = clf.predict(xtest)\n",
    "\n",
    "    # View classification report\n",
    "    print(classification_report(ytest, preds))\n",
    "\n",
    "    # Plot confusion matrix heatmap\n",
    "    plt.figure(figsize=(16, 12))\n",
    "    cf_matrix = confusion_matrix(ytest, preds)\n",
    "    group_counts = [\"{0:0.0f}\\n\".format(value) for value in cf_matrix.flatten()]\n",
    "    group_percentages = [\n",
    "        \"{0:.2%}\".format(value) for value in cf_matrix.flatten() / np.sum(cf_matrix)\n",
    "    ]\n",
    "    box_labels = [\n",
    "        f\"{v1}{v2}\".strip() for v1, v2 in zip(group_counts, group_percentages)\n",
    "    ]\n",
    "    box_labels = np.asarray(box_labels).reshape(cf_matrix.shape[0], cf_matrix.shape[1])\n",
    "\n",
    "    sns.heatmap(cf_matrix, cmap=\"OrRd\", annot=box_labels, fmt=\"\")\n",
    "    plt.xlabel(\"Predicted TTM Label\")\n",
    "    plt.ylabel(\"True TTM Label\")\n",
    "    plt.title(\"Confusion Matrix Heatmap\")"
   ]
  },
  {
   "cell_type": "markdown",
   "id": "8add6423",
   "metadata": {},
   "source": [
    "## Define Models and Parameters\n",
    "\n",
    "Next, we will define and initialize the classifiers that we will be exploring for the time-to-merge prediction task."
   ]
  },
  {
   "cell_type": "markdown",
   "id": "55c72681",
   "metadata": {},
   "source": [
    "### Gaussian Naive Bayes"
   ]
  },
  {
   "cell_type": "code",
   "execution_count": 31,
   "id": "e6d48ea1",
   "metadata": {
    "execution": {
     "iopub.execute_input": "2022-11-01T05:19:29.800810Z",
     "iopub.status.busy": "2022-11-01T05:19:29.800576Z",
     "iopub.status.idle": "2022-11-01T05:19:29.804596Z",
     "shell.execute_reply": "2022-11-01T05:19:29.804004Z"
    }
   },
   "outputs": [],
   "source": [
    "# Initialize classifier\n",
    "gnb = GaussianNB()"
   ]
  },
  {
   "cell_type": "markdown",
   "id": "804ae1e0",
   "metadata": {},
   "source": [
    "### SVM"
   ]
  },
  {
   "cell_type": "code",
   "execution_count": 32,
   "id": "6c4bfaa2",
   "metadata": {
    "execution": {
     "iopub.execute_input": "2022-11-01T05:19:29.807708Z",
     "iopub.status.busy": "2022-11-01T05:19:29.807478Z",
     "iopub.status.idle": "2022-11-01T05:19:29.811412Z",
     "shell.execute_reply": "2022-11-01T05:19:29.810835Z"
    }
   },
   "outputs": [],
   "source": [
    "# Initialize classifier\n",
    "svc = SVC(random_state=42)"
   ]
  },
  {
   "cell_type": "markdown",
   "id": "ed3b3017",
   "metadata": {},
   "source": [
    "### Random Forest"
   ]
  },
  {
   "cell_type": "code",
   "execution_count": 33,
   "id": "1e623025",
   "metadata": {
    "execution": {
     "iopub.execute_input": "2022-11-01T05:19:29.814962Z",
     "iopub.status.busy": "2022-11-01T05:19:29.814423Z",
     "iopub.status.idle": "2022-11-01T05:19:29.818775Z",
     "shell.execute_reply": "2022-11-01T05:19:29.818180Z"
    }
   },
   "outputs": [],
   "source": [
    "# Initialize classifier\n",
    "rf = RandomForestClassifier(\n",
    "    n_estimators=200,\n",
    "    max_features=0.75,\n",
    "    random_state=42,\n",
    "    n_jobs=-1,\n",
    ")"
   ]
  },
  {
   "cell_type": "markdown",
   "id": "7687a4e0",
   "metadata": {},
   "source": [
    "### XGBoost"
   ]
  },
  {
   "cell_type": "code",
   "execution_count": 34,
   "id": "d8eb71ce",
   "metadata": {
    "execution": {
     "iopub.execute_input": "2022-11-01T05:19:29.822204Z",
     "iopub.status.busy": "2022-11-01T05:19:29.821668Z",
     "iopub.status.idle": "2022-11-01T05:19:29.825974Z",
     "shell.execute_reply": "2022-11-01T05:19:29.825392Z"
    },
    "tags": []
   },
   "outputs": [],
   "source": [
    "# Initialize classifier\n",
    "xgbc = XGBClassifier(\n",
    "    n_estimators=125,\n",
    "    learning_rate=0.1,\n",
    "    random_state=42,\n",
    "    verbosity=1,\n",
    "    n_jobs=-1,\n",
    ")"
   ]
  },
  {
   "cell_type": "markdown",
   "id": "b57aa765",
   "metadata": {},
   "source": [
    "## Compare Model Results\n",
    "\n",
    "Finally, we will run the train all of the classifiers defined above and evaluate their performance. "
   ]
  },
  {
   "cell_type": "markdown",
   "id": "216dd1b2",
   "metadata": {},
   "source": [
    "### Train using all features\n",
    "\n",
    "First, lets train the classifiers using all the engineered features as input."
   ]
  },
  {
   "cell_type": "code",
   "execution_count": 35,
   "id": "e72772aa",
   "metadata": {
    "execution": {
     "iopub.execute_input": "2022-11-01T05:19:29.829303Z",
     "iopub.status.busy": "2022-11-01T05:19:29.828955Z",
     "iopub.status.idle": "2022-11-01T05:19:30.359978Z",
     "shell.execute_reply": "2022-11-01T05:19:30.359154Z"
    }
   },
   "outputs": [
    {
     "name": "stdout",
     "output_type": "stream",
     "text": [
      "              precision    recall  f1-score   support\n",
      "\n",
      "           0       0.50      0.33      0.40         3\n",
      "           1       1.00      1.00      1.00         1\n",
      "           2       0.00      0.00      0.00         3\n",
      "           3       0.00      0.00      0.00         2\n",
      "           4       0.00      0.00      0.00         1\n",
      "           5       0.00      0.00      0.00         0\n",
      "           6       0.00      0.00      0.00         1\n",
      "           7       0.20      1.00      0.33         1\n",
      "           8       0.00      0.00      0.00         2\n",
      "           9       0.00      0.00      0.00         2\n",
      "\n",
      "    accuracy                           0.19        16\n",
      "   macro avg       0.17      0.23      0.17        16\n",
      "weighted avg       0.17      0.19      0.16        16\n",
      "\n"
     ]
    },
    {
     "data": {
      "image/png": "[encoded data removed]",
      "text/plain": [
       "<Figure size 1152x864 with 2 Axes>"
      ]
     },
     "metadata": {
      "needs_background": "light"
     },
     "output_type": "display_data"
    }
   ],
   "source": [
    "train_evaluate_classifier(gnb, X_train_scaled, y_train, X_test_scaled, y_test)"
   ]
  },
  {
   "cell_type": "code",
   "execution_count": 36,
   "id": "c3f8cc61",
   "metadata": {
    "execution": {
     "iopub.execute_input": "2022-11-01T05:19:30.363748Z",
     "iopub.status.busy": "2022-11-01T05:19:30.363228Z",
     "iopub.status.idle": "2022-11-01T05:19:30.861223Z",
     "shell.execute_reply": "2022-11-01T05:19:30.860317Z"
    }
   },
   "outputs": [
    {
     "name": "stdout",
     "output_type": "stream",
     "text": [
      "              precision    recall  f1-score   support\n",
      "\n",
      "           0       1.00      0.33      0.50         3\n",
      "           1       0.00      0.00      0.00         1\n",
      "           2       0.00      0.00      0.00         3\n",
      "           3       0.00      0.00      0.00         2\n",
      "           4       0.00      0.00      0.00         1\n",
      "           5       0.00      0.00      0.00         0\n",
      "           6       0.00      0.00      0.00         1\n",
      "           7       0.08      1.00      0.14         1\n",
      "           8       0.00      0.00      0.00         2\n",
      "           9       0.00      0.00      0.00         2\n",
      "\n",
      "    accuracy                           0.12        16\n",
      "   macro avg       0.11      0.13      0.06        16\n",
      "weighted avg       0.19      0.12      0.10        16\n",
      "\n"
     ]
    },
    {
     "data": {
      "image/png": "[encoded data removed]",
      "text/plain": [
       "<Figure size 1152x864 with 2 Axes>"
      ]
     },
     "metadata": {
      "needs_background": "light"
     },
     "output_type": "display_data"
    }
   ],
   "source": [
    "train_evaluate_classifier(svc, X_train_scaled, y_train, X_test_scaled, y_test)"
   ]
  },
  {
   "cell_type": "code",
   "execution_count": 37,
   "id": "8b961727",
   "metadata": {
    "execution": {
     "iopub.execute_input": "2022-11-01T05:19:30.864817Z",
     "iopub.status.busy": "2022-11-01T05:19:30.864148Z",
     "iopub.status.idle": "2022-11-01T05:19:31.816087Z",
     "shell.execute_reply": "2022-11-01T05:19:31.815323Z"
    }
   },
   "outputs": [
    {
     "name": "stdout",
     "output_type": "stream",
     "text": [
      "              precision    recall  f1-score   support\n",
      "\n",
      "           0       0.00      0.00      0.00         3\n",
      "           1       0.33      1.00      0.50         1\n",
      "           2       0.00      0.00      0.00         3\n",
      "           3       0.50      0.50      0.50         2\n",
      "           4       0.00      0.00      0.00         1\n",
      "           5       0.00      0.00      0.00         0\n",
      "           6       0.00      0.00      0.00         1\n",
      "           7       0.00      0.00      0.00         1\n",
      "           8       0.33      1.00      0.50         2\n",
      "           9       1.00      0.50      0.67         2\n",
      "\n",
      "    accuracy                           0.31        16\n",
      "   macro avg       0.22      0.30      0.22        16\n",
      "weighted avg       0.25      0.31      0.24        16\n",
      "\n"
     ]
    },
    {
     "data": {
      "image/png": "[encoded data removed]",
      "text/plain": [
       "<Figure size 1152x864 with 2 Axes>"
      ]
     },
     "metadata": {
      "needs_background": "light"
     },
     "output_type": "display_data"
    }
   ],
   "source": [
    "train_evaluate_classifier(rf, X_train_scaled, y_train, X_test_scaled, y_test)"
   ]
  },
  {
   "cell_type": "code",
   "execution_count": 38,
   "id": "14249146",
   "metadata": {
    "execution": {
     "iopub.execute_input": "2022-11-01T05:19:31.819543Z",
     "iopub.status.busy": "2022-11-01T05:19:31.819294Z",
     "iopub.status.idle": "2022-11-01T05:19:32.939383Z",
     "shell.execute_reply": "2022-11-01T05:19:32.938441Z"
    }
   },
   "outputs": [
    {
     "name": "stdout",
     "output_type": "stream",
     "text": [
      "              precision    recall  f1-score   support\n",
      "\n",
      "           0       0.33      0.33      0.33         3\n",
      "           1       0.50      1.00      0.67         1\n",
      "           2       0.00      0.00      0.00         3\n",
      "           3       0.50      0.50      0.50         2\n",
      "           4       0.00      0.00      0.00         1\n",
      "           5       0.00      0.00      0.00         0\n",
      "           6       0.00      0.00      0.00         1\n",
      "           7       0.50      1.00      0.67         1\n",
      "           8       0.33      0.50      0.40         2\n",
      "           9       0.00      0.00      0.00         2\n",
      "\n",
      "    accuracy                           0.31        16\n",
      "   macro avg       0.22      0.33      0.26        16\n",
      "weighted avg       0.23      0.31      0.26        16\n",
      "\n"
     ]
    },
    {
     "data": {
      "image/png": "[encoded data removed]",
      "text/plain": [
       "<Figure size 1152x864 with 2 Axes>"
      ]
     },
     "metadata": {
      "needs_background": "light"
     },
     "output_type": "display_data"
    }
   ],
   "source": [
    "train_evaluate_classifier(xgbc, X_train_scaled, y_train, X_test_scaled, y_test)"
   ]
  },
  {
   "cell_type": "markdown",
   "id": "b40309a3",
   "metadata": {},
   "source": [
    "Note that for model deployment (which is the eventual goal), we will also need to include any scaler or preprocessor objects. This is because the input to the inference service will be raw unscaled data. We plan to address this issue by using `sklearn.Pipeline` object to package the preprocessor(s) and model as one \"combined\" model. \n",
    "\n",
    "In the step below, we create a copy of the random forest model (which usually performs the best) so that we can save it to S3 later on and use it for model deployment.\n",
    "\n",
    "From your explorations, if you wish to save another better performing model to the pipeline set `CHOSEN_MODEL` as one of rf, xgbc, svc or gnb"
   ]
  },
  {
   "cell_type": "code",
   "execution_count": 39,
   "id": "987a23d4-2e8d-4d4d-8e5c-f3f4230f4b12",
   "metadata": {
    "execution": {
     "iopub.execute_input": "2022-11-01T05:19:32.944441Z",
     "iopub.status.busy": "2022-11-01T05:19:32.943019Z",
     "iopub.status.idle": "2022-11-01T05:19:32.948184Z",
     "shell.execute_reply": "2022-11-01T05:19:32.947584Z"
    }
   },
   "outputs": [],
   "source": [
    "models = {\"rf\": rf, \"xgbc\": xgbc, \"svc\": svc, \"gnb\": gnb}"
   ]
  },
  {
   "cell_type": "code",
   "execution_count": 40,
   "id": "647eb700",
   "metadata": {
    "execution": {
     "iopub.execute_input": "2022-11-01T05:19:32.951748Z",
     "iopub.status.busy": "2022-11-01T05:19:32.951165Z",
     "iopub.status.idle": "2022-11-01T05:19:32.969977Z",
     "shell.execute_reply": "2022-11-01T05:19:32.969193Z"
    }
   },
   "outputs": [],
   "source": [
    "# create a clone (create a copy of the object with the learned weights)\n",
    "selected_model = deepcopy(models[CHOSEN_MODEL])"
   ]
  },
  {
   "cell_type": "code",
   "execution_count": 41,
   "id": "2d739cb2",
   "metadata": {
    "execution": {
     "iopub.execute_input": "2022-11-01T05:19:32.974108Z",
     "iopub.status.busy": "2022-11-01T05:19:32.973465Z",
     "iopub.status.idle": "2022-11-01T05:19:33.018679Z",
     "shell.execute_reply": "2022-11-01T05:19:33.017546Z"
    }
   },
   "outputs": [
    {
     "name": "stdout",
     "output_type": "stream",
     "text": [
      "              precision    recall  f1-score   support\n",
      "\n",
      "           0       0.00      0.00      0.00         3\n",
      "           1       0.33      1.00      0.50         1\n",
      "           2       0.00      0.00      0.00         3\n",
      "           3       0.50      0.50      0.50         2\n",
      "           4       0.00      0.00      0.00         1\n",
      "           5       0.00      0.00      0.00         0\n",
      "           6       0.00      0.00      0.00         1\n",
      "           7       0.00      0.00      0.00         1\n",
      "           8       0.33      1.00      0.50         2\n",
      "           9       1.00      0.50      0.67         2\n",
      "\n",
      "    accuracy                           0.31        16\n",
      "   macro avg       0.22      0.30      0.22        16\n",
      "weighted avg       0.25      0.31      0.24        16\n",
      "\n"
     ]
    }
   ],
   "source": [
    "# sanity check\n",
    "print(classification_report(y_test, selected_model.predict(X_test_scaled)))"
   ]
  },
  {
   "cell_type": "markdown",
   "id": "f213965f",
   "metadata": {},
   "source": [
    "### OPTIONAL: Feature Pruning\n",
    "\n",
    "In the previous notebook we performed some feature engineering and pruned the number of features down. However, it might be possible that further pruning the features based on the importances given to them by the models yields more generalizable and accurate models. So in this section, we will explore using Recursive Feature Elimination (RFE) to rank the features in terms of their importance, and recursively select the best subsets to train our models with."
   ]
  },
  {
   "cell_type": "code",
   "execution_count": 42,
   "id": "2aa7c0e4",
   "metadata": {
    "execution": {
     "iopub.execute_input": "2022-11-01T05:19:33.022341Z",
     "iopub.status.busy": "2022-11-01T05:19:33.021908Z",
     "iopub.status.idle": "2022-11-01T05:19:53.043152Z",
     "shell.execute_reply": "2022-11-01T05:19:53.042398Z"
    },
    "tags": []
   },
   "outputs": [],
   "source": [
    "# use the xgboost classifier as the base estimator since it had the highest f1\n",
    "selector = RFE(xgbc, n_features_to_select=20, step=5)\n",
    "selector = selector.fit(X_train_scaled, y_train)"
   ]
  },
  {
   "cell_type": "code",
   "execution_count": 43,
   "id": "bccb9105",
   "metadata": {
    "execution": {
     "iopub.execute_input": "2022-11-01T05:19:53.047029Z",
     "iopub.status.busy": "2022-11-01T05:19:53.046759Z",
     "iopub.status.idle": "2022-11-01T05:19:53.050971Z",
     "shell.execute_reply": "2022-11-01T05:19:53.050339Z"
    }
   },
   "outputs": [],
   "source": [
    "# No of top features to select\n",
    "top = 20"
   ]
  },
  {
   "cell_type": "code",
   "execution_count": 44,
   "id": "d450fa53",
   "metadata": {
    "execution": {
     "iopub.execute_input": "2022-11-01T05:19:53.053789Z",
     "iopub.status.busy": "2022-11-01T05:19:53.053551Z",
     "iopub.status.idle": "2022-11-01T05:19:53.058318Z",
     "shell.execute_reply": "2022-11-01T05:19:53.057658Z"
    },
    "tags": []
   },
   "outputs": [
    {
     "data": {
      "text/plain": [
       "array([ 1,  1,  1,  1,  1,  1,  1,  1,  1,  1,  2,  1,  1,  3,  3,  4,  3,\n",
       "        5,  3,  4,  6,  4,  1,  7,  7,  8,  8,  9,  9, 10, 10, 10, 11, 11,\n",
       "       12, 12, 12, 13, 13, 13, 14, 13, 15, 12, 11, 16, 11, 17, 10,  9, 18,\n",
       "        1, 19,  9,  8, 20,  8, 21, 14, 14, 22, 14, 23, 15, 15, 24, 16, 25,\n",
       "       16, 16, 26, 17, 27, 17, 17, 28, 18, 29, 18, 18, 30, 19, 31, 19, 20,\n",
       "       32, 20, 33, 20, 21, 34, 21, 35, 21, 22, 22, 23, 23, 23, 24, 28, 28,\n",
       "       29,  1, 29,  1, 29, 30, 31, 31, 31, 32, 32, 33, 33, 34,  1, 34, 35,\n",
       "       35, 35, 35, 34, 34, 33, 33, 32, 32, 31, 30, 30, 30, 29, 28, 28, 24,\n",
       "       24, 25, 25, 25, 26, 26, 27, 27, 27, 27, 26, 26, 25, 24, 23, 22, 22,\n",
       "       21, 20,  1, 19, 19, 18, 17, 16, 15, 15, 14,  4,  7,  7,  4,  5,  5,\n",
       "        5,  5,  6,  1,  6,  6,  6,  1,  3,  8,  9, 10, 11, 12, 13,  7])"
      ]
     },
     "execution_count": 44,
     "metadata": {},
     "output_type": "execute_result"
    }
   ],
   "source": [
    "ranks = selector.ranking_\n",
    "ranks"
   ]
  },
  {
   "cell_type": "code",
   "execution_count": 45,
   "id": "2764786d",
   "metadata": {
    "execution": {
     "iopub.execute_input": "2022-11-01T05:19:53.061723Z",
     "iopub.status.busy": "2022-11-01T05:19:53.061491Z",
     "iopub.status.idle": "2022-11-01T05:19:53.066713Z",
     "shell.execute_reply": "2022-11-01T05:19:53.065995Z"
    },
    "tags": []
   },
   "outputs": [
    {
     "data": {
      "text/plain": [
       "array(['size', 'created_at_day', 'created_at_month', 'created_at_weekday',\n",
       "       'created_at_hour', 'changed_files_number', 'body_size',\n",
       "       'commits_number', 'filetype_.md', 'filetype_.yaml',\n",
       "       'filetype_.tmpl', 'filetype_OWNERS', 'filetype_OWNERS_ALIASES',\n",
       "       'filetype_.yml', 'filetype_.ipynb', 'filetype_.png',\n",
       "       'filetype_.txt', 'filetype_.json', 'title_wordcount_19_meeting',\n",
       "       'title_wordcount_26_meeting', 'title_wordcount_action',\n",
       "       'title_wordcount_actions', 'title_wordcount_add',\n",
       "       'title_wordcount_added', 'title_wordcount_adding',\n",
       "       'title_wordcount_addition', 'title_wordcount_airgapped',\n",
       "       'title_wordcount_analysis', 'title_wordcount_approach',\n",
       "       'title_wordcount_around', 'title_wordcount_bad',\n",
       "       'title_wordcount_bi', 'title_wordcount_build',\n",
       "       'title_wordcount_calendar', 'title_wordcount_carlosgimeno',\n",
       "       'title_wordcount_catalog', 'title_wordcount_change',\n",
       "       'title_wordcount_changes', 'title_wordcount_charter',\n",
       "       'title_wordcount_checklist', 'title_wordcount_chore',\n",
       "       'title_wordcount_clarity', 'title_wordcount_cleanup',\n",
       "       'title_wordcount_cluster', 'title_wordcount_commit',\n",
       "       'title_wordcount_complete', 'title_wordcount_completion',\n",
       "       'title_wordcount_context', 'title_wordcount_contrib_x',\n",
       "       'title_wordcount_contributors', 'title_wordcount_corrections',\n",
       "       'title_wordcount_create', 'title_wordcount_created',\n",
       "       'title_wordcount_creation', 'title_wordcount_curator',\n",
       "       'title_wordcount_definition', 'title_wordcount_dependencies',\n",
       "       'title_wordcount_details', 'title_wordcount_dir',\n",
       "       'title_wordcount_directory', 'title_wordcount_discussion',\n",
       "       'title_wordcount_docs', 'title_wordcount_document',\n",
       "       'title_wordcount_ds', 'title_wordcount_dynamics',\n",
       "       'title_wordcount_errors', 'title_wordcount_evolving',\n",
       "       'title_wordcount_faq', 'title_wordcount_feat',\n",
       "       'title_wordcount_file', 'title_wordcount_files',\n",
       "       'title_wordcount_first', 'title_wordcount_fix',\n",
       "       'title_wordcount_fixed', 'title_wordcount_fixes',\n",
       "       'title_wordcount_fixing', 'title_wordcount_follow',\n",
       "       'title_wordcount_forgotten', 'title_wordcount_forming',\n",
       "       'title_wordcount_fybrik', 'title_wordcount_gap',\n",
       "       'title_wordcount_generator', 'title_wordcount_git',\n",
       "       'title_wordcount_gitaction', 'title_wordcount_give',\n",
       "       'title_wordcount_governance', 'title_wordcount_group',\n",
       "       'title_wordcount_groups', 'title_wordcount_guide',\n",
       "       'title_wordcount_hacking', 'title_wordcount_highlighting',\n",
       "       'title_wordcount_hours', 'title_wordcount_inclusive',\n",
       "       'title_wordcount_interactions',\n",
       "       'title_wordcount_internal_contributors', 'title_wordcount_jbook',\n",
       "       'title_wordcount_july', 'title_wordcount_kickoff',\n",
       "       'title_wordcount_language', 'title_wordcount_legal',\n",
       "       'title_wordcount_link', 'title_wordcount_linking',\n",
       "       'title_wordcount_longer', 'title_wordcount_md',\n",
       "       'title_wordcount_media', 'title_wordcount_meeting',\n",
       "       'title_wordcount_meetup', 'title_wordcount_merge',\n",
       "       'title_wordcount_messages', 'title_wordcount_metrics',\n",
       "       'title_wordcount_minor', 'title_wordcount_must',\n",
       "       'title_wordcount_naming', 'title_wordcount_nb',\n",
       "       'title_wordcount_new', 'title_wordcount_nodes',\n",
       "       'title_wordcount_notes', 'title_wordcount_odh',\n",
       "       'title_wordcount_office', 'title_wordcount_officially',\n",
       "       'title_wordcount_open', 'title_wordcount_opened',\n",
       "       'title_wordcount_opening', 'title_wordcount_opensourcing',\n",
       "       'title_wordcount_operate', 'title_wordcount_operations',\n",
       "       'title_wordcount_opf', 'title_wordcount_ops',\n",
       "       'title_wordcount_osc', 'title_wordcount_osg',\n",
       "       'title_wordcount_overview', 'title_wordcount_path',\n",
       "       'title_wordcount_pebbles', 'title_wordcount_persona',\n",
       "       'title_wordcount_personas', 'title_wordcount_perspective',\n",
       "       'title_wordcount_planning', 'title_wordcount_pr',\n",
       "       'title_wordcount_pre', 'title_wordcount_previous',\n",
       "       'title_wordcount_project', 'title_wordcount_proposal',\n",
       "       'title_wordcount_pub', 'title_wordcount_quaid',\n",
       "       'title_wordcount_readme', 'title_wordcount_reason',\n",
       "       'title_wordcount_reflecting', 'title_wordcount_rename',\n",
       "       'title_wordcount_repost', 'title_wordcount_requirements',\n",
       "       'title_wordcount_revert', 'title_wordcount_running',\n",
       "       'title_wordcount_science', 'title_wordcount_service',\n",
       "       'title_wordcount_services', 'title_wordcount_sig',\n",
       "       'title_wordcount_slack', 'title_wordcount_social',\n",
       "       'title_wordcount_source', 'title_wordcount_stage',\n",
       "       'title_wordcount_status', 'title_wordcount_strawpond',\n",
       "       'title_wordcount_structure', 'title_wordcount_sub',\n",
       "       'title_wordcount_subprojects', 'title_wordcount_template',\n",
       "       'title_wordcount_test', 'title_wordcount_tests',\n",
       "       'title_wordcount_throwing', 'title_wordcount_trailing',\n",
       "       'title_wordcount_transfer', 'title_wordcount_typo',\n",
       "       'title_wordcount_typos', 'title_wordcount_update',\n",
       "       'title_wordcount_updated', 'title_wordcount_updates',\n",
       "       'title_wordcount_use', 'title_wordcount_var',\n",
       "       'title_wordcount_via', 'title_wordcount_website',\n",
       "       'title_wordcount_week', 'title_wordcount_weekly',\n",
       "       'title_wordcount_whitespace', 'title_wordcount_word',\n",
       "       'title_wordcount_wording', 'title_wordcount_workload'],\n",
       "      dtype=object)"
      ]
     },
     "execution_count": 45,
     "metadata": {},
     "output_type": "execute_result"
    }
   ],
   "source": [
    "cols = X_train.columns.to_numpy()\n",
    "cols"
   ]
  },
  {
   "cell_type": "code",
   "execution_count": 46,
   "id": "6e9fdc9a",
   "metadata": {
    "execution": {
     "iopub.execute_input": "2022-11-01T05:19:53.070646Z",
     "iopub.status.busy": "2022-11-01T05:19:53.070046Z",
     "iopub.status.idle": "2022-11-01T05:19:53.075290Z",
     "shell.execute_reply": "2022-11-01T05:19:53.074605Z"
    },
    "tags": []
   },
   "outputs": [
    {
     "data": {
      "text/plain": [
       "array([  0, 105, 116, 155, 173, 177,  22, 103,  12,  11,  51,   9,   5,\n",
       "         6,   7,   2,   3,   1,   8,   4,  10,  18,  14,  13, 178,  16,\n",
       "       164, 167,  21,  19,  15, 171, 170, 169, 168,  17, 172, 176,  20,\n",
       "       174, 175, 166, 165, 185,  23,  24, 179,  26,  54,  25,  56,  53,\n",
       "       180,  49,  28,  27, 181,  31,  48,  29,  30,  33,  32, 182,  44,\n",
       "        46,  43,  34,  35,  36, 183, 184,  39,  38,  41,  37,  58,  61,\n",
       "        40, 163,  59, 162,  64, 161,  63,  42,  66,  45, 160,  68,  69,\n",
       "       159,  47,  73,  74,  71,  76, 158,  50,  78,  79, 156,  52,  81,\n",
       "        83, 157,  55,  84,  86, 154,  88,  89,  91, 153,  57,  93, 152,\n",
       "        60,  94, 151,  95,  96,  62,  98,  97, 150, 136, 149, 135,  65,\n",
       "        99,  67, 148, 139, 137, 138, 147, 146, 141, 140,  70, 142, 144,\n",
       "       145,  72, 143, 100, 101, 134, 133,  75, 106, 102,  77, 104, 132,\n",
       "        80, 130, 107, 129, 131, 109, 110,  82, 128, 108,  85, 111, 126,\n",
       "       127, 112, 114, 124, 113,  87, 125, 123, 122, 117, 115,  90, 121,\n",
       "       120, 119, 118,  92])"
      ]
     },
     "execution_count": 46,
     "metadata": {},
     "output_type": "execute_result"
    }
   ],
   "source": [
    "indices_by_ranks = ranks.argsort()\n",
    "indices_by_ranks"
   ]
  },
  {
   "cell_type": "code",
   "execution_count": 47,
   "id": "ae16001c",
   "metadata": {
    "execution": {
     "iopub.execute_input": "2022-11-01T05:19:53.078163Z",
     "iopub.status.busy": "2022-11-01T05:19:53.077786Z",
     "iopub.status.idle": "2022-11-01T05:19:53.083236Z",
     "shell.execute_reply": "2022-11-01T05:19:53.082225Z"
    },
    "tags": []
   },
   "outputs": [
    {
     "data": {
      "text/plain": [
       "array([ 1,  1,  1,  1,  1,  1,  1,  1,  1,  1,  1,  1,  1,  1,  1,  1,  1,\n",
       "        1,  1,  1,  2,  3,  3,  3,  3,  3,  4,  4,  4,  4,  4,  5,  5,  5,\n",
       "        5,  5,  6,  6,  6,  6,  6,  7,  7,  7,  7,  7,  8,  8,  8,  8,  8,\n",
       "        9,  9,  9,  9,  9, 10, 10, 10, 10, 10, 11, 11, 11, 11, 11, 12, 12,\n",
       "       12, 12, 12, 13, 13, 13, 13, 13, 14, 14, 14, 14, 14, 15, 15, 15, 15,\n",
       "       15, 16, 16, 16, 16, 16, 17, 17, 17, 17, 17, 18, 18, 18, 18, 18, 19,\n",
       "       19, 19, 19, 19, 20, 20, 20, 20, 20, 21, 21, 21, 21, 21, 22, 22, 22,\n",
       "       22, 22, 23, 23, 23, 23, 23, 24, 24, 24, 24, 24, 25, 25, 25, 25, 25,\n",
       "       26, 26, 26, 26, 26, 27, 27, 27, 27, 27, 28, 28, 28, 28, 28, 29, 29,\n",
       "       29, 29, 29, 30, 30, 30, 30, 30, 31, 31, 31, 31, 31, 32, 32, 32, 32,\n",
       "       32, 33, 33, 33, 33, 33, 34, 34, 34, 34, 34, 35, 35, 35, 35, 35])"
      ]
     },
     "execution_count": 47,
     "metadata": {},
     "output_type": "execute_result"
    }
   ],
   "source": [
    "sorted_ranks = ranks[indices_by_ranks]\n",
    "sorted_ranks"
   ]
  },
  {
   "cell_type": "code",
   "execution_count": 48,
   "id": "d45f8735",
   "metadata": {
    "execution": {
     "iopub.execute_input": "2022-11-01T05:19:53.086457Z",
     "iopub.status.busy": "2022-11-01T05:19:53.086226Z",
     "iopub.status.idle": "2022-11-01T05:19:53.090718Z",
     "shell.execute_reply": "2022-11-01T05:19:53.090026Z"
    },
    "tags": []
   },
   "outputs": [
    {
     "data": {
      "text/plain": [
       "array(['size', 'title_wordcount_meeting', 'title_wordcount_notes',\n",
       "       'title_wordcount_sig', 'title_wordcount_update',\n",
       "       'title_wordcount_var', 'title_wordcount_add', 'title_wordcount_md',\n",
       "       'filetype_OWNERS_ALIASES', 'filetype_OWNERS',\n",
       "       'title_wordcount_create', 'filetype_.yaml', 'changed_files_number',\n",
       "       'body_size', 'commits_number', 'created_at_month',\n",
       "       'created_at_weekday', 'created_at_day', 'filetype_.md',\n",
       "       'created_at_hour'], dtype=object)"
      ]
     },
     "execution_count": 48,
     "metadata": {},
     "output_type": "execute_result"
    }
   ],
   "source": [
    "cols_by_rank = cols[indices_by_ranks]\n",
    "cols_by_rank[:top]"
   ]
  },
  {
   "cell_type": "code",
   "execution_count": 49,
   "id": "5b8e621a",
   "metadata": {
    "execution": {
     "iopub.execute_input": "2022-11-01T05:19:53.094054Z",
     "iopub.status.busy": "2022-11-01T05:19:53.093824Z",
     "iopub.status.idle": "2022-11-01T05:19:53.097122Z",
     "shell.execute_reply": "2022-11-01T05:19:53.096451Z"
    }
   },
   "outputs": [],
   "source": [
    "# prune the training set\n",
    "X_train_scaled_pruned = X_train_scaled[:, selector.support_]\n",
    "X_test_scaled_pruned = X_test_scaled[:, selector.support_]"
   ]
  },
  {
   "cell_type": "code",
   "execution_count": 50,
   "id": "88f2fcc6",
   "metadata": {
    "execution": {
     "iopub.execute_input": "2022-11-01T05:19:53.099997Z",
     "iopub.status.busy": "2022-11-01T05:19:53.099774Z",
     "iopub.status.idle": "2022-11-01T05:19:53.611027Z",
     "shell.execute_reply": "2022-11-01T05:19:53.610293Z"
    }
   },
   "outputs": [
    {
     "name": "stdout",
     "output_type": "stream",
     "text": [
      "              precision    recall  f1-score   support\n",
      "\n",
      "           0       0.00      0.00      0.00         3\n",
      "           1       0.00      0.00      0.00         1\n",
      "           2       0.00      0.00      0.00         3\n",
      "           3       0.20      0.50      0.29         2\n",
      "           4       0.00      0.00      0.00         1\n",
      "           5       0.00      0.00      0.00         0\n",
      "           6       0.00      0.00      0.00         1\n",
      "           7       0.00      0.00      0.00         1\n",
      "           8       0.00      0.00      0.00         2\n",
      "           9       0.40      1.00      0.57         2\n",
      "\n",
      "    accuracy                           0.19        16\n",
      "   macro avg       0.06      0.15      0.09        16\n",
      "weighted avg       0.08      0.19      0.11        16\n",
      "\n"
     ]
    },
    {
     "data": {
      "image/png": "[encoded data removed]",
      "text/plain": [
       "<Figure size 1152x864 with 2 Axes>"
      ]
     },
     "metadata": {
      "needs_background": "light"
     },
     "output_type": "display_data"
    }
   ],
   "source": [
    "train_evaluate_classifier(\n",
    "    gnb, X_train_scaled_pruned, y_train, X_test_scaled_pruned, y_test\n",
    ")"
   ]
  },
  {
   "cell_type": "code",
   "execution_count": 51,
   "id": "9909dc6d",
   "metadata": {
    "execution": {
     "iopub.execute_input": "2022-11-01T05:19:53.614829Z",
     "iopub.status.busy": "2022-11-01T05:19:53.614393Z",
     "iopub.status.idle": "2022-11-01T05:19:54.125260Z",
     "shell.execute_reply": "2022-11-01T05:19:54.124342Z"
    }
   },
   "outputs": [
    {
     "name": "stdout",
     "output_type": "stream",
     "text": [
      "              precision    recall  f1-score   support\n",
      "\n",
      "           0       0.00      0.00      0.00         3\n",
      "           1       1.00      1.00      1.00         1\n",
      "           2       0.00      0.00      0.00         3\n",
      "           3       0.50      0.50      0.50         2\n",
      "           4       0.00      0.00      0.00         1\n",
      "           5       0.00      0.00      0.00         0\n",
      "           6       0.00      0.00      0.00         1\n",
      "           7       0.33      1.00      0.50         1\n",
      "           8       0.50      0.50      0.50         2\n",
      "           9       1.00      0.50      0.67         2\n",
      "\n",
      "    accuracy                           0.31        16\n",
      "   macro avg       0.33      0.35      0.32        16\n",
      "weighted avg       0.33      0.31      0.30        16\n",
      "\n"
     ]
    },
    {
     "data": {
      "image/png": "[encoded data removed]",
      "text/plain": [
       "<Figure size 1152x864 with 2 Axes>"
      ]
     },
     "metadata": {
      "needs_background": "light"
     },
     "output_type": "display_data"
    }
   ],
   "source": [
    "train_evaluate_classifier(\n",
    "    svc, X_train_scaled_pruned, y_train, X_test_scaled_pruned, y_test\n",
    ")"
   ]
  },
  {
   "cell_type": "code",
   "execution_count": 52,
   "id": "7ac17ff6",
   "metadata": {
    "execution": {
     "iopub.execute_input": "2022-11-01T05:19:54.128985Z",
     "iopub.status.busy": "2022-11-01T05:19:54.128449Z",
     "iopub.status.idle": "2022-11-01T05:19:54.950627Z",
     "shell.execute_reply": "2022-11-01T05:19:54.949732Z"
    }
   },
   "outputs": [
    {
     "name": "stdout",
     "output_type": "stream",
     "text": [
      "              precision    recall  f1-score   support\n",
      "\n",
      "           0       0.00      0.00      0.00         3\n",
      "           1       0.25      1.00      0.40         1\n",
      "           2       0.00      0.00      0.00         3\n",
      "           3       0.50      0.50      0.50         2\n",
      "           4       0.00      0.00      0.00         1\n",
      "           5       0.00      0.00      0.00         0\n",
      "           6       0.00      0.00      0.00         1\n",
      "           7       0.50      1.00      0.67         1\n",
      "           8       0.20      0.50      0.29         2\n",
      "           9       1.00      0.50      0.67         2\n",
      "\n",
      "    accuracy                           0.31        16\n",
      "   macro avg       0.25      0.35      0.25        16\n",
      "weighted avg       0.26      0.31      0.25        16\n",
      "\n"
     ]
    },
    {
     "data": {
      "image/png": "[encoded data removed]",
      "text/plain": [
       "<Figure size 1152x864 with 2 Axes>"
      ]
     },
     "metadata": {
      "needs_background": "light"
     },
     "output_type": "display_data"
    }
   ],
   "source": [
    "train_evaluate_classifier(\n",
    "    rf, X_train_scaled_pruned, y_train, X_test_scaled_pruned, y_test\n",
    ")"
   ]
  },
  {
   "cell_type": "code",
   "execution_count": 53,
   "id": "fd087dc9",
   "metadata": {
    "execution": {
     "iopub.execute_input": "2022-11-01T05:19:54.954183Z",
     "iopub.status.busy": "2022-11-01T05:19:54.953776Z",
     "iopub.status.idle": "2022-11-01T05:19:55.942136Z",
     "shell.execute_reply": "2022-11-01T05:19:55.941262Z"
    }
   },
   "outputs": [
    {
     "name": "stdout",
     "output_type": "stream",
     "text": [
      "              precision    recall  f1-score   support\n",
      "\n",
      "           0       0.33      0.33      0.33         3\n",
      "           1       0.50      1.00      0.67         1\n",
      "           2       0.00      0.00      0.00         3\n",
      "           3       0.50      0.50      0.50         2\n",
      "           4       0.00      0.00      0.00         1\n",
      "           5       0.00      0.00      0.00         0\n",
      "           6       0.00      0.00      0.00         1\n",
      "           7       0.50      1.00      0.67         1\n",
      "           8       0.33      0.50      0.40         2\n",
      "           9       0.00      0.00      0.00         2\n",
      "\n",
      "    accuracy                           0.31        16\n",
      "   macro avg       0.22      0.33      0.26        16\n",
      "weighted avg       0.23      0.31      0.26        16\n",
      "\n"
     ]
    },
    {
     "data": {
      "image/png": "[encoded data removed]",
      "text/plain": [
       "<Figure size 1152x864 with 2 Axes>"
      ]
     },
     "metadata": {
      "needs_background": "light"
     },
     "output_type": "display_data"
    }
   ],
   "source": [
    "train_evaluate_classifier(\n",
    "    xgbc, X_train_scaled_pruned, y_train, X_test_scaled_pruned, y_test\n",
    ")"
   ]
  },
  {
   "cell_type": "markdown",
   "id": "7741b21e",
   "metadata": {},
   "source": [
    "## Create sklearn Pipeline"
   ]
  },
  {
   "cell_type": "markdown",
   "id": "20053832",
   "metadata": {},
   "source": [
    "Here, we will create an sklearn pipeline consisting of 2 steps, scaling of the input features and the classifier itself. We will then save this Pipeline as a `model.joblib` file on S3 for serving the model pipeline using the Seldon Sklearn Server."
   ]
  },
  {
   "cell_type": "code",
   "execution_count": 54,
   "id": "1c581342",
   "metadata": {
    "execution": {
     "iopub.execute_input": "2022-11-01T05:19:55.946093Z",
     "iopub.status.busy": "2022-11-01T05:19:55.945584Z",
     "iopub.status.idle": "2022-11-01T05:19:55.949362Z",
     "shell.execute_reply": "2022-11-01T05:19:55.948688Z"
    }
   },
   "outputs": [],
   "source": [
    "pipe = Pipeline(\n",
    "    steps=[\n",
    "        (\"extract_features\", raw_data_processor),\n",
    "        (\"scale\", scaler),\n",
    "        (\"rf\", selected_model),\n",
    "    ]\n",
    ")"
   ]
  },
  {
   "cell_type": "markdown",
   "id": "74e1bf4b",
   "metadata": {},
   "source": [
    "## Write Model to S3"
   ]
  },
  {
   "cell_type": "code",
   "execution_count": 55,
   "id": "8fb0ba41",
   "metadata": {
    "execution": {
     "iopub.execute_input": "2022-11-01T05:19:55.952820Z",
     "iopub.status.busy": "2022-11-01T05:19:55.952263Z",
     "iopub.status.idle": "2022-11-01T05:19:56.918573Z",
     "shell.execute_reply": "2022-11-01T05:19:56.917758Z"
    },
    "tags": []
   },
   "outputs": [],
   "source": [
    "MODEL_KEY = os.path.join(s3_input_data_path, ORG, REPO, \"ttm-model\")\n",
    "MODEL_FILENAME = \"model.joblib\"\n",
    "\n",
    "s3_resource = boto3.resource(\n",
    "    \"s3\",\n",
    "    endpoint_url=s3_endpoint_url,\n",
    "    aws_access_key_id=s3_access_key,\n",
    "    aws_secret_access_key=s3_secret_key,\n",
    ")\n",
    "\n",
    "with tempfile.TemporaryFile() as fp:\n",
    "    joblib.dump(pipe, fp)\n",
    "    fp.seek(0)\n",
    "    s3_obj = s3_resource.Object(s3_bucket, f\"{MODEL_KEY}/{MODEL_FILENAME}\")\n",
    "    s3_obj.put(Body=fp.read())"
   ]
  },
  {
   "cell_type": "code",
   "execution_count": 56,
   "id": "9392bb4d",
   "metadata": {
    "execution": {
     "iopub.execute_input": "2022-11-01T05:19:56.923154Z",
     "iopub.status.busy": "2022-11-01T05:19:56.922709Z",
     "iopub.status.idle": "2022-11-01T05:19:57.636113Z",
     "shell.execute_reply": "2022-11-01T05:19:57.635336Z"
    }
   },
   "outputs": [
    {
     "data": {
      "text/html": [
       "<style>#sk-container-id-1 {color: black;background-color: white;}#sk-container-id-1 pre{padding: 0;}#sk-container-id-1 div.sk-toggleable {background-color: white;}#sk-container-id-1 label.sk-toggleable__label {cursor: pointer;display: block;width: 100%;margin-bottom: 0;padding: 0.3em;box-sizing: border-box;text-align: center;}#sk-container-id-1 label.sk-toggleable__label-arrow:before {content: \"▸\";float: left;margin-right: 0.25em;color: #696969;}#sk-container-id-1 label.sk-toggleable__label-arrow:hover:before {color: black;}#sk-container-id-1 div.sk-estimator:hover label.sk-toggleable__label-arrow:before {color: black;}#sk-container-id-1 div.sk-toggleable__content {max-height: 0;max-width: 0;overflow: hidden;text-align: left;background-color: #f0f8ff;}#sk-container-id-1 div.sk-toggleable__content pre {margin: 0.2em;color: black;border-radius: 0.25em;background-color: #f0f8ff;}#sk-container-id-1 input.sk-toggleable__control:checked~div.sk-toggleable__content {max-height: 200px;max-width: 100%;overflow: auto;}#sk-container-id-1 input.sk-toggleable__control:checked~label.sk-toggleable__label-arrow:before {content: \"▾\";}#sk-container-id-1 div.sk-estimator input.sk-toggleable__control:checked~label.sk-toggleable__label {background-color: #d4ebff;}#sk-container-id-1 div.sk-label input.sk-toggleable__control:checked~label.sk-toggleable__label {background-color: #d4ebff;}#sk-container-id-1 input.sk-hidden--visually {border: 0;clip: rect(1px 1px 1px 1px);clip: rect(1px, 1px, 1px, 1px);height: 1px;margin: -1px;overflow: hidden;padding: 0;position: absolute;width: 1px;}#sk-container-id-1 div.sk-estimator {font-family: monospace;background-color: #f0f8ff;border: 1px dotted black;border-radius: 0.25em;box-sizing: border-box;margin-bottom: 0.5em;}#sk-container-id-1 div.sk-estimator:hover {background-color: #d4ebff;}#sk-container-id-1 div.sk-parallel-item::after {content: \"\";width: 100%;border-bottom: 1px solid gray;flex-grow: 1;}#sk-container-id-1 div.sk-label:hover label.sk-toggleable__label {background-color: #d4ebff;}#sk-container-id-1 div.sk-serial::before {content: \"\";position: absolute;border-left: 1px solid gray;box-sizing: border-box;top: 0;bottom: 0;left: 50%;z-index: 0;}#sk-container-id-1 div.sk-serial {display: flex;flex-direction: column;align-items: center;background-color: white;padding-right: 0.2em;padding-left: 0.2em;position: relative;}#sk-container-id-1 div.sk-item {position: relative;z-index: 1;}#sk-container-id-1 div.sk-parallel {display: flex;align-items: stretch;justify-content: center;background-color: white;position: relative;}#sk-container-id-1 div.sk-item::before, #sk-container-id-1 div.sk-parallel-item::before {content: \"\";position: absolute;border-left: 1px solid gray;box-sizing: border-box;top: 0;bottom: 0;left: 50%;z-index: -1;}#sk-container-id-1 div.sk-parallel-item {display: flex;flex-direction: column;z-index: 1;position: relative;background-color: white;}#sk-container-id-1 div.sk-parallel-item:first-child::after {align-self: flex-end;width: 50%;}#sk-container-id-1 div.sk-parallel-item:last-child::after {align-self: flex-start;width: 50%;}#sk-container-id-1 div.sk-parallel-item:only-child::after {width: 0;}#sk-container-id-1 div.sk-dashed-wrapped {border: 1px dashed gray;margin: 0 0.4em 0.5em 0.4em;box-sizing: border-box;padding-bottom: 0.4em;background-color: white;}#sk-container-id-1 div.sk-label label {font-family: monospace;font-weight: bold;display: inline-block;line-height: 1.2em;}#sk-container-id-1 div.sk-label-container {text-align: center;}#sk-container-id-1 div.sk-container {/* jupyter's `normalize.less` sets `[hidden] { display: none; }` but bootstrap.min.css set `[hidden] { display: none !important; }` so we also need the `!important` here to be able to override the default hidden behavior on the sphinx rendered scikit-learn.org. See: https://github.com/scikit-learn/scikit-learn/issues/21755 */display: inline-block !important;position: relative;}#sk-container-id-1 div.sk-text-repr-fallback {display: none;}</style><div id=\"sk-container-id-1\" class=\"sk-top-container\"><div class=\"sk-text-repr-fallback\"><pre>Pipeline(steps=[(&#x27;extract_features&#x27;,\n",
       "                 ColumnTransformer(transformers=[(&#x27;pr_size&#x27;,\n",
       "                                                  OrdinalEncoder(categories=[[&#x27;XS&#x27;,\n",
       "                                                                              &#x27;S&#x27;,\n",
       "                                                                              &#x27;M&#x27;,\n",
       "                                                                              &#x27;L&#x27;,\n",
       "                                                                              &#x27;XL&#x27;,\n",
       "                                                                              &#x27;XXL&#x27;]]),\n",
       "                                                  [&#x27;size&#x27;]),\n",
       "                                                 (&#x27;created_at_details&#x27;,\n",
       "                                                  DateTimeDetailsTransformer(),\n",
       "                                                  [&#x27;created_at&#x27;]),\n",
       "                                                 (&#x27;n_changed_files&#x27;,\n",
       "                                                  NumChangedFilesTransformer(),\n",
       "                                                  [&#x27;changed_files_number&#x27;]),\n",
       "                                                 (&#x27;body_size&#x27;,\n",
       "                                                  StringLenTransformer(),\n",
       "                                                  [&#x27;body&#x27;]),\n",
       "                                                 (&#x27;n_commits&#x27;, &#x27;p...\n",
       "                                                                                   &#x27;analysis&#x27;,\n",
       "                                                                                   &#x27;approach&#x27;,\n",
       "                                                                                   &#x27;around&#x27;,\n",
       "                                                                                   &#x27;bad&#x27;,\n",
       "                                                                                   &#x27;bi&#x27;,\n",
       "                                                                                   &#x27;build&#x27;,\n",
       "                                                                                   &#x27;calendar&#x27;,\n",
       "                                                                                   &#x27;carlosgimeno&#x27;,\n",
       "                                                                                   &#x27;catalog&#x27;,\n",
       "                                                                                   &#x27;change&#x27;,\n",
       "                                                                                   &#x27;changes&#x27;,\n",
       "                                                                                   &#x27;charter&#x27;,\n",
       "                                                                                   &#x27;checklist&#x27;,\n",
       "                                                                                   &#x27;chore&#x27;,\n",
       "                                                                                   &#x27;clarity&#x27;,\n",
       "                                                                                   &#x27;cleanup&#x27;,\n",
       "                                                                                   &#x27;cluster&#x27;,\n",
       "                                                                                   &#x27;commit&#x27;,\n",
       "                                                                                   &#x27;complete&#x27;,\n",
       "                                                                                   &#x27;completion&#x27;,\n",
       "                                                                                   &#x27;context&#x27;, ...]),\n",
       "                                                  [&#x27;title&#x27;])])),\n",
       "                (&#x27;scale&#x27;, PowerTransformer()),\n",
       "                (&#x27;rf&#x27;,\n",
       "                 RandomForestClassifier(max_features=0.75, n_estimators=200,\n",
       "                                        n_jobs=-1, random_state=42))])</pre><b>In a Jupyter environment, please rerun this cell to show the HTML representation or trust the notebook. <br />On GitHub, the HTML representation is unable to render, please try loading this page with nbviewer.org.</b></div><div class=\"sk-container\" hidden><div class=\"sk-item sk-dashed-wrapped\"><div class=\"sk-label-container\"><div class=\"sk-label sk-toggleable\"><input class=\"sk-toggleable__control sk-hidden--visually\" id=\"sk-estimator-id-1\" type=\"checkbox\" ><label for=\"sk-estimator-id-1\" class=\"sk-toggleable__label sk-toggleable__label-arrow\">Pipeline</label><div class=\"sk-toggleable__content\"><pre>Pipeline(steps=[(&#x27;extract_features&#x27;,\n",
       "                 ColumnTransformer(transformers=[(&#x27;pr_size&#x27;,\n",
       "                                                  OrdinalEncoder(categories=[[&#x27;XS&#x27;,\n",
       "                                                                              &#x27;S&#x27;,\n",
       "                                                                              &#x27;M&#x27;,\n",
       "                                                                              &#x27;L&#x27;,\n",
       "                                                                              &#x27;XL&#x27;,\n",
       "                                                                              &#x27;XXL&#x27;]]),\n",
       "                                                  [&#x27;size&#x27;]),\n",
       "                                                 (&#x27;created_at_details&#x27;,\n",
       "                                                  DateTimeDetailsTransformer(),\n",
       "                                                  [&#x27;created_at&#x27;]),\n",
       "                                                 (&#x27;n_changed_files&#x27;,\n",
       "                                                  NumChangedFilesTransformer(),\n",
       "                                                  [&#x27;changed_files_number&#x27;]),\n",
       "                                                 (&#x27;body_size&#x27;,\n",
       "                                                  StringLenTransformer(),\n",
       "                                                  [&#x27;body&#x27;]),\n",
       "                                                 (&#x27;n_commits&#x27;, &#x27;p...\n",
       "                                                                                   &#x27;analysis&#x27;,\n",
       "                                                                                   &#x27;approach&#x27;,\n",
       "                                                                                   &#x27;around&#x27;,\n",
       "                                                                                   &#x27;bad&#x27;,\n",
       "                                                                                   &#x27;bi&#x27;,\n",
       "                                                                                   &#x27;build&#x27;,\n",
       "                                                                                   &#x27;calendar&#x27;,\n",
       "                                                                                   &#x27;carlosgimeno&#x27;,\n",
       "                                                                                   &#x27;catalog&#x27;,\n",
       "                                                                                   &#x27;change&#x27;,\n",
       "                                                                                   &#x27;changes&#x27;,\n",
       "                                                                                   &#x27;charter&#x27;,\n",
       "                                                                                   &#x27;checklist&#x27;,\n",
       "                                                                                   &#x27;chore&#x27;,\n",
       "                                                                                   &#x27;clarity&#x27;,\n",
       "                                                                                   &#x27;cleanup&#x27;,\n",
       "                                                                                   &#x27;cluster&#x27;,\n",
       "                                                                                   &#x27;commit&#x27;,\n",
       "                                                                                   &#x27;complete&#x27;,\n",
       "                                                                                   &#x27;completion&#x27;,\n",
       "                                                                                   &#x27;context&#x27;, ...]),\n",
       "                                                  [&#x27;title&#x27;])])),\n",
       "                (&#x27;scale&#x27;, PowerTransformer()),\n",
       "                (&#x27;rf&#x27;,\n",
       "                 RandomForestClassifier(max_features=0.75, n_estimators=200,\n",
       "                                        n_jobs=-1, random_state=42))])</pre></div></div></div><div class=\"sk-serial\"><div class=\"sk-item sk-dashed-wrapped\"><div class=\"sk-label-container\"><div class=\"sk-label sk-toggleable\"><input class=\"sk-toggleable__control sk-hidden--visually\" id=\"sk-estimator-id-2\" type=\"checkbox\" ><label for=\"sk-estimator-id-2\" class=\"sk-toggleable__label sk-toggleable__label-arrow\">extract_features: ColumnTransformer</label><div class=\"sk-toggleable__content\"><pre>ColumnTransformer(transformers=[(&#x27;pr_size&#x27;,\n",
       "                                 OrdinalEncoder(categories=[[&#x27;XS&#x27;, &#x27;S&#x27;, &#x27;M&#x27;,\n",
       "                                                             &#x27;L&#x27;, &#x27;XL&#x27;,\n",
       "                                                             &#x27;XXL&#x27;]]),\n",
       "                                 [&#x27;size&#x27;]),\n",
       "                                (&#x27;created_at_details&#x27;,\n",
       "                                 DateTimeDetailsTransformer(), [&#x27;created_at&#x27;]),\n",
       "                                (&#x27;n_changed_files&#x27;,\n",
       "                                 NumChangedFilesTransformer(),\n",
       "                                 [&#x27;changed_files_number&#x27;]),\n",
       "                                (&#x27;body_size&#x27;, StringLenTransformer(), [&#x27;body&#x27;]),\n",
       "                                (&#x27;n_commits&#x27;, &#x27;passthrough&#x27;,\n",
       "                                 [&#x27;commits_number&#x27;]),\n",
       "                                (&#x27;fi...\n",
       "                                 TitleWordCountTransformer(words=[&#x27;19_meeting&#x27;,\n",
       "                                                                  &#x27;26_meeting&#x27;,\n",
       "                                                                  &#x27;action&#x27;,\n",
       "                                                                  &#x27;actions&#x27;,\n",
       "                                                                  &#x27;add&#x27;,\n",
       "                                                                  &#x27;added&#x27;,\n",
       "                                                                  &#x27;adding&#x27;,\n",
       "                                                                  &#x27;addition&#x27;,\n",
       "                                                                  &#x27;airgapped&#x27;,\n",
       "                                                                  &#x27;analysis&#x27;,\n",
       "                                                                  &#x27;approach&#x27;,\n",
       "                                                                  &#x27;around&#x27;,\n",
       "                                                                  &#x27;bad&#x27;, &#x27;bi&#x27;,\n",
       "                                                                  &#x27;build&#x27;,\n",
       "                                                                  &#x27;calendar&#x27;,\n",
       "                                                                  &#x27;carlosgimeno&#x27;,\n",
       "                                                                  &#x27;catalog&#x27;,\n",
       "                                                                  &#x27;change&#x27;,\n",
       "                                                                  &#x27;changes&#x27;,\n",
       "                                                                  &#x27;charter&#x27;,\n",
       "                                                                  &#x27;checklist&#x27;,\n",
       "                                                                  &#x27;chore&#x27;,\n",
       "                                                                  &#x27;clarity&#x27;,\n",
       "                                                                  &#x27;cleanup&#x27;,\n",
       "                                                                  &#x27;cluster&#x27;,\n",
       "                                                                  &#x27;commit&#x27;,\n",
       "                                                                  &#x27;complete&#x27;,\n",
       "                                                                  &#x27;completion&#x27;,\n",
       "                                                                  &#x27;context&#x27;, ...]),\n",
       "                                 [&#x27;title&#x27;])])</pre></div></div></div><div class=\"sk-parallel\"><div class=\"sk-parallel-item\"><div class=\"sk-item\"><div class=\"sk-label-container\"><div class=\"sk-label sk-toggleable\"><input class=\"sk-toggleable__control sk-hidden--visually\" id=\"sk-estimator-id-3\" type=\"checkbox\" ><label for=\"sk-estimator-id-3\" class=\"sk-toggleable__label sk-toggleable__label-arrow\">pr_size</label><div class=\"sk-toggleable__content\"><pre>[&#x27;size&#x27;]</pre></div></div></div><div class=\"sk-serial\"><div class=\"sk-item\"><div class=\"sk-estimator sk-toggleable\"><input class=\"sk-toggleable__control sk-hidden--visually\" id=\"sk-estimator-id-4\" type=\"checkbox\" ><label for=\"sk-estimator-id-4\" class=\"sk-toggleable__label sk-toggleable__label-arrow\">OrdinalEncoder</label><div class=\"sk-toggleable__content\"><pre>OrdinalEncoder(categories=[[&#x27;XS&#x27;, &#x27;S&#x27;, &#x27;M&#x27;, &#x27;L&#x27;, &#x27;XL&#x27;, &#x27;XXL&#x27;]])</pre></div></div></div></div></div></div><div class=\"sk-parallel-item\"><div class=\"sk-item\"><div class=\"sk-label-container\"><div class=\"sk-label sk-toggleable\"><input class=\"sk-toggleable__control sk-hidden--visually\" id=\"sk-estimator-id-5\" type=\"checkbox\" ><label for=\"sk-estimator-id-5\" class=\"sk-toggleable__label sk-toggleable__label-arrow\">created_at_details</label><div class=\"sk-toggleable__content\"><pre>[&#x27;created_at&#x27;]</pre></div></div></div><div class=\"sk-serial\"><div class=\"sk-item\"><div class=\"sk-estimator sk-toggleable\"><input class=\"sk-toggleable__control sk-hidden--visually\" id=\"sk-estimator-id-6\" type=\"checkbox\" ><label for=\"sk-estimator-id-6\" class=\"sk-toggleable__label sk-toggleable__label-arrow\">DateTimeDetailsTransformer</label><div class=\"sk-toggleable__content\"><pre>DateTimeDetailsTransformer()</pre></div></div></div></div></div></div><div class=\"sk-parallel-item\"><div class=\"sk-item\"><div class=\"sk-label-container\"><div class=\"sk-label sk-toggleable\"><input class=\"sk-toggleable__control sk-hidden--visually\" id=\"sk-estimator-id-7\" type=\"checkbox\" ><label for=\"sk-estimator-id-7\" class=\"sk-toggleable__label sk-toggleable__label-arrow\">n_changed_files</label><div class=\"sk-toggleable__content\"><pre>[&#x27;changed_files_number&#x27;]</pre></div></div></div><div class=\"sk-serial\"><div class=\"sk-item\"><div class=\"sk-estimator sk-toggleable\"><input class=\"sk-toggleable__control sk-hidden--visually\" id=\"sk-estimator-id-8\" type=\"checkbox\" ><label for=\"sk-estimator-id-8\" class=\"sk-toggleable__label sk-toggleable__label-arrow\">NumChangedFilesTransformer</label><div class=\"sk-toggleable__content\"><pre>NumChangedFilesTransformer()</pre></div></div></div></div></div></div><div class=\"sk-parallel-item\"><div class=\"sk-item\"><div class=\"sk-label-container\"><div class=\"sk-label sk-toggleable\"><input class=\"sk-toggleable__control sk-hidden--visually\" id=\"sk-estimator-id-9\" type=\"checkbox\" ><label for=\"sk-estimator-id-9\" class=\"sk-toggleable__label sk-toggleable__label-arrow\">body_size</label><div class=\"sk-toggleable__content\"><pre>[&#x27;body&#x27;]</pre></div></div></div><div class=\"sk-serial\"><div class=\"sk-item\"><div class=\"sk-estimator sk-toggleable\"><input class=\"sk-toggleable__control sk-hidden--visually\" id=\"sk-estimator-id-10\" type=\"checkbox\" ><label for=\"sk-estimator-id-10\" class=\"sk-toggleable__label sk-toggleable__label-arrow\">StringLenTransformer</label><div class=\"sk-toggleable__content\"><pre>StringLenTransformer()</pre></div></div></div></div></div></div><div class=\"sk-parallel-item\"><div class=\"sk-item\"><div class=\"sk-label-container\"><div class=\"sk-label sk-toggleable\"><input class=\"sk-toggleable__control sk-hidden--visually\" id=\"sk-estimator-id-11\" type=\"checkbox\" ><label for=\"sk-estimator-id-11\" class=\"sk-toggleable__label sk-toggleable__label-arrow\">n_commits</label><div class=\"sk-toggleable__content\"><pre>[&#x27;commits_number&#x27;]</pre></div></div></div><div class=\"sk-serial\"><div class=\"sk-item\"><div class=\"sk-estimator sk-toggleable\"><input class=\"sk-toggleable__control sk-hidden--visually\" id=\"sk-estimator-id-12\" type=\"checkbox\" ><label for=\"sk-estimator-id-12\" class=\"sk-toggleable__label sk-toggleable__label-arrow\">passthrough</label><div class=\"sk-toggleable__content\"><pre>passthrough</pre></div></div></div></div></div></div><div class=\"sk-parallel-item\"><div class=\"sk-item\"><div class=\"sk-label-container\"><div class=\"sk-label sk-toggleable\"><input class=\"sk-toggleable__control sk-hidden--visually\" id=\"sk-estimator-id-13\" type=\"checkbox\" ><label for=\"sk-estimator-id-13\" class=\"sk-toggleable__label sk-toggleable__label-arrow\">filetype_counter</label><div class=\"sk-toggleable__content\"><pre>[&#x27;changed_files&#x27;]</pre></div></div></div><div class=\"sk-serial\"><div class=\"sk-item\"><div class=\"sk-estimator sk-toggleable\"><input class=\"sk-toggleable__control sk-hidden--visually\" id=\"sk-estimator-id-14\" type=\"checkbox\" ><label for=\"sk-estimator-id-14\" class=\"sk-toggleable__label sk-toggleable__label-arrow\">FileTypeCountTransformer</label><div class=\"sk-toggleable__content\"><pre>FileTypeCountTransformer(file_extensions=[&#x27;.md&#x27;, &#x27;.yaml&#x27;, &#x27;.tmpl&#x27;, &#x27;OWNERS&#x27;,\n",
       "                                          &#x27;OWNERS_ALIASES&#x27;, &#x27;.yml&#x27;, &#x27;.ipynb&#x27;,\n",
       "                                          &#x27;.png&#x27;, &#x27;.txt&#x27;, &#x27;.json&#x27;])</pre></div></div></div></div></div></div><div class=\"sk-parallel-item\"><div class=\"sk-item\"><div class=\"sk-label-container\"><div class=\"sk-label sk-toggleable\"><input class=\"sk-toggleable__control sk-hidden--visually\" id=\"sk-estimator-id-15\" type=\"checkbox\" ><label for=\"sk-estimator-id-15\" class=\"sk-toggleable__label sk-toggleable__label-arrow\">title_word_counter</label><div class=\"sk-toggleable__content\"><pre>[&#x27;title&#x27;]</pre></div></div></div><div class=\"sk-serial\"><div class=\"sk-item\"><div class=\"sk-estimator sk-toggleable\"><input class=\"sk-toggleable__control sk-hidden--visually\" id=\"sk-estimator-id-16\" type=\"checkbox\" ><label for=\"sk-estimator-id-16\" class=\"sk-toggleable__label sk-toggleable__label-arrow\">TitleWordCountTransformer</label><div class=\"sk-toggleable__content\"><pre>TitleWordCountTransformer(words=[&#x27;19_meeting&#x27;, &#x27;26_meeting&#x27;, &#x27;action&#x27;,\n",
       "                                 &#x27;actions&#x27;, &#x27;add&#x27;, &#x27;added&#x27;, &#x27;adding&#x27;,\n",
       "                                 &#x27;addition&#x27;, &#x27;airgapped&#x27;, &#x27;analysis&#x27;,\n",
       "                                 &#x27;approach&#x27;, &#x27;around&#x27;, &#x27;bad&#x27;, &#x27;bi&#x27;, &#x27;build&#x27;,\n",
       "                                 &#x27;calendar&#x27;, &#x27;carlosgimeno&#x27;, &#x27;catalog&#x27;,\n",
       "                                 &#x27;change&#x27;, &#x27;changes&#x27;, &#x27;charter&#x27;, &#x27;checklist&#x27;,\n",
       "                                 &#x27;chore&#x27;, &#x27;clarity&#x27;, &#x27;cleanup&#x27;, &#x27;cluster&#x27;,\n",
       "                                 &#x27;commit&#x27;, &#x27;complete&#x27;, &#x27;completion&#x27;, &#x27;context&#x27;, ...])</pre></div></div></div></div></div></div></div></div><div class=\"sk-item\"><div class=\"sk-estimator sk-toggleable\"><input class=\"sk-toggleable__control sk-hidden--visually\" id=\"sk-estimator-id-17\" type=\"checkbox\" ><label for=\"sk-estimator-id-17\" class=\"sk-toggleable__label sk-toggleable__label-arrow\">PowerTransformer</label><div class=\"sk-toggleable__content\"><pre>PowerTransformer()</pre></div></div></div><div class=\"sk-item\"><div class=\"sk-estimator sk-toggleable\"><input class=\"sk-toggleable__control sk-hidden--visually\" id=\"sk-estimator-id-18\" type=\"checkbox\" ><label for=\"sk-estimator-id-18\" class=\"sk-toggleable__label sk-toggleable__label-arrow\">RandomForestClassifier</label><div class=\"sk-toggleable__content\"><pre>RandomForestClassifier(max_features=0.75, n_estimators=200, n_jobs=-1,\n",
       "                       random_state=42)</pre></div></div></div></div></div></div></div>"
      ],
      "text/plain": [
       "Pipeline(steps=[('extract_features',\n",
       "                 ColumnTransformer(transformers=[('pr_size',\n",
       "                                                  OrdinalEncoder(categories=[['XS',\n",
       "                                                                              'S',\n",
       "                                                                              'M',\n",
       "                                                                              'L',\n",
       "                                                                              'XL',\n",
       "                                                                              'XXL']]),\n",
       "                                                  ['size']),\n",
       "                                                 ('created_at_details',\n",
       "                                                  DateTimeDetailsTransformer(),\n",
       "                                                  ['created_at']),\n",
       "                                                 ('n_changed_files',\n",
       "                                                  NumChangedFilesTransformer(),\n",
       "                                                  ['changed_files_number']),\n",
       "                                                 ('body_size',\n",
       "                                                  StringLenTransformer(),\n",
       "                                                  ['body']),\n",
       "                                                 ('n_commits', 'p...\n",
       "                                                                                   'analysis',\n",
       "                                                                                   'approach',\n",
       "                                                                                   'around',\n",
       "                                                                                   'bad',\n",
       "                                                                                   'bi',\n",
       "                                                                                   'build',\n",
       "                                                                                   'calendar',\n",
       "                                                                                   'carlosgimeno',\n",
       "                                                                                   'catalog',\n",
       "                                                                                   'change',\n",
       "                                                                                   'changes',\n",
       "                                                                                   'charter',\n",
       "                                                                                   'checklist',\n",
       "                                                                                   'chore',\n",
       "                                                                                   'clarity',\n",
       "                                                                                   'cleanup',\n",
       "                                                                                   'cluster',\n",
       "                                                                                   'commit',\n",
       "                                                                                   'complete',\n",
       "                                                                                   'completion',\n",
       "                                                                                   'context', ...]),\n",
       "                                                  ['title'])])),\n",
       "                ('scale', PowerTransformer()),\n",
       "                ('rf',\n",
       "                 RandomForestClassifier(max_features=0.75, n_estimators=200,\n",
       "                                        n_jobs=-1, random_state=42))])"
      ]
     },
     "execution_count": 56,
     "metadata": {},
     "output_type": "execute_result"
    }
   ],
   "source": [
    "## Sanity Check\n",
    "buffer = BytesIO()\n",
    "s3_object = s3_resource.Object(s3_bucket, f\"{MODEL_KEY}/{MODEL_FILENAME}\")\n",
    "s3_object.download_fileobj(buffer)\n",
    "model = joblib.load(buffer)\n",
    "model"
   ]
  },
  {
   "cell_type": "code",
   "execution_count": 57,
   "id": "36484009",
   "metadata": {
    "execution": {
     "iopub.execute_input": "2022-11-01T05:19:57.639501Z",
     "iopub.status.busy": "2022-11-01T05:19:57.638839Z",
     "iopub.status.idle": "2022-11-01T05:19:58.285840Z",
     "shell.execute_reply": "2022-11-01T05:19:58.285249Z"
    }
   },
   "outputs": [
    {
     "name": "stdout",
     "output_type": "stream",
     "text": [
      "              precision    recall  f1-score   support\n",
      "\n",
      "           0       0.00      0.00      0.00         3\n",
      "           1       0.33      1.00      0.50         1\n",
      "           2       0.00      0.00      0.00         3\n",
      "           3       0.50      0.50      0.50         2\n",
      "           4       0.00      0.00      0.00         1\n",
      "           5       0.00      0.00      0.00         0\n",
      "           6       0.00      0.00      0.00         1\n",
      "           7       0.00      0.00      0.00         1\n",
      "           8       0.33      1.00      0.50         2\n",
      "           9       1.00      0.50      0.67         2\n",
      "\n",
      "    accuracy                           0.31        16\n",
      "   macro avg       0.22      0.30      0.22        16\n",
      "weighted avg       0.25      0.31      0.24        16\n",
      "\n"
     ]
    }
   ],
   "source": [
    "# take raw pr data and predict ttm classes\n",
    "preds = model.predict(pr_df.reindex(X_test.index))\n",
    "print(classification_report(y_test, preds))"
   ]
  },
  {
   "cell_type": "code",
   "execution_count": 58,
   "id": "42cf7c8e-07d8-44df-b4a0-ddcc8982ea37",
   "metadata": {
    "execution": {
     "iopub.execute_input": "2022-11-01T05:19:58.289278Z",
     "iopub.status.busy": "2022-11-01T05:19:58.288832Z",
     "iopub.status.idle": "2022-11-01T05:20:12.722335Z",
     "shell.execute_reply": "2022-11-01T05:20:12.721571Z"
    }
   },
   "outputs": [
    {
     "data": {
      "text/plain": [
       "[s3.ObjectSummary(bucket_name='opf-datacatalog', key='oct12/operate-first/community/features/operate-firstcommunityFILETYPE.parquet'),\n",
       " s3.ObjectSummary(bucket_name='opf-datacatalog', key='oct12/operate-first/community/features/operate-firstcommunitytitlewords.parquet'),\n",
       " s3.ObjectSummary(bucket_name='opf-datacatalog', key='oct12/operate-first/community/test-data/X_test.parquet'),\n",
       " s3.ObjectSummary(bucket_name='opf-datacatalog', key='oct12/operate-first/community/test-data/y_test.parquet'),\n",
       " s3.ObjectSummary(bucket_name='opf-datacatalog', key='oct12/operate-first/community/ttm-model/model.joblib'),\n",
       " s3.ObjectSummary(bucket_name='opf-datacatalog', key='oct12/operate-first/community/ttm_feature_engineered_dataset.parquet'),\n",
       " s3.ObjectSummary(bucket_name='opf-datacatalog', key='oct12/srcopsmetrics/bot_knowledge/operate-first/community/PullRequest.json')]"
      ]
     },
     "execution_count": 58,
     "metadata": {},
     "output_type": "execute_result"
    }
   ],
   "source": [
    "# check all raw data files in s3\n",
    "bucket = cc.s3_resource.Bucket(s3_bucket)\n",
    "objects = [i for i in bucket.objects.all() if s3_input_data_path + \"/\" in i.key]\n",
    "sorted(objects, key=lambda x: x.key)"
   ]
  },
  {
   "cell_type": "code",
   "execution_count": 59,
   "id": "02adaa45-fb5a-4a1d-a333-ce81d62cc6d2",
   "metadata": {
    "execution": {
     "iopub.execute_input": "2022-11-01T05:20:12.726239Z",
     "iopub.status.busy": "2022-11-01T05:20:12.725721Z",
     "iopub.status.idle": "2022-11-01T05:20:12.730484Z",
     "shell.execute_reply": "2022-11-01T05:20:12.729826Z"
    }
   },
   "outputs": [],
   "source": [
    "# #  Delete files\n",
    "# cc = CephCommunication(s3_endpoint_url, s3_access_key, s3_secret_key, s3_bucket)\n",
    "# cc.s3_resource.Object(s3_bucket, 'opf-datacatalog-morty', key='workshop-test').delete()"
   ]
  },
  {
   "cell_type": "markdown",
   "id": "ef78426f",
   "metadata": {},
   "source": [
    "## Conclusion\n",
    "\n",
    "In this notebook, we explored various classifiers, namely, Naive Bayes, SVM, Random Forests, and XGBoost. "
   ]
  },
  {
   "cell_type": "markdown",
   "id": "933cd0ed-99c2-4453-a94b-02eace47bd20",
   "metadata": {},
   "source": [
    "## Next Step\n",
    "\n",
    "We can run these notebooks in automation using Elyra and Kubeflow pipelines. As the immediate next step, we will to deploy the best model from this notebook as an inference service using Seldon."
   ]
  }
 ],
 "metadata": {
  "kernelspec": {
   "display_name": "Python 3 (ipykernel)",
   "language": "python",
   "name": "python3"
  },
  "language_info": {
   "codemirror_mode": {
    "name": "ipython",
    "version": 3
   },
   "file_extension": ".py",
   "mimetype": "text/x-python",
   "name": "python",
   "nbconvert_exporter": "python",
   "pygments_lexer": "ipython3",
   "version": "3.8.8"
  }
 },
 "nbformat": 4,
 "nbformat_minor": 5
}
