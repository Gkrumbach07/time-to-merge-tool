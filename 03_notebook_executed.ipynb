{
 "cells": [
  {
   "cell_type": "markdown",
   "id": "3c31ddd8-bdcf-473d-95c1-5fed70b7fe51",
   "metadata": {},
   "source": [
    "# Train a model on features engineered from Pull Requests data\n",
    "\n",
    "\n",
    "## What we did previously\n",
    "\n",
    "In the previous [notebook](./02_feature_engineering.ipynb) we explored the various fields in the PR dataset and derived some features from them in order to frame an a Machine Learning where we predict the time taken to merge a PR.\n",
    "\n",
    "## In this step\n",
    "\n",
    "In this notebook, we will first create transformer objects (based on the feature explorations in the previous notebook) to extract features from raw PR data. Then, we will train machine learning models to classify a PR's `time_to_merge` into one of the above 10 bins (or \"classes\")."
   ]
  },
  {
   "cell_type": "code",
   "execution_count": 1,
   "id": "e2bb1e73",
   "metadata": {
    "execution": {
     "iopub.execute_input": "2022-11-04T09:52:46.143518Z",
     "iopub.status.busy": "2022-11-04T09:52:46.143213Z",
     "iopub.status.idle": "2022-11-04T09:52:47.896858Z",
     "shell.execute_reply": "2022-11-04T09:52:47.895828Z"
    }
   },
   "outputs": [
    {
     "data": {
      "text/plain": [
       "True"
      ]
     },
     "execution_count": 1,
     "metadata": {},
     "output_type": "execute_result"
    }
   ],
   "source": [
    "import os\n",
    "import gzip\n",
    "import json\n",
    "import boto3\n",
    "import tempfile\n",
    "\n",
    "import joblib\n",
    "import warnings\n",
    "from io import BytesIO\n",
    "from copy import deepcopy\n",
    "\n",
    "import numpy as np\n",
    "import pandas as pd\n",
    "\n",
    "import seaborn as sns\n",
    "import matplotlib.pyplot as plt\n",
    "\n",
    "from sklearn.compose import ColumnTransformer\n",
    "from sklearn.preprocessing import PowerTransformer, OrdinalEncoder\n",
    "\n",
    "from sklearn.feature_selection import RFE\n",
    "from sklearn.model_selection import train_test_split\n",
    "\n",
    "from sklearn.svm import SVC\n",
    "from xgboost import XGBClassifier\n",
    "from sklearn.naive_bayes import GaussianNB\n",
    "from sklearn.ensemble import RandomForestClassifier\n",
    "\n",
    "from sklearn.pipeline import Pipeline\n",
    "\n",
    "from sklearn.metrics import confusion_matrix\n",
    "from sklearn.metrics import classification_report\n",
    "\n",
    "from dotenv import load_dotenv, find_dotenv\n",
    "\n",
    "from src.features.build_features import (\n",
    "    DateTimeDetailsTransformer,\n",
    "    NumChangedFilesTransformer,\n",
    "    StringLenTransformer,\n",
    "    FileTypeCountTransformer,\n",
    "    TitleWordCountTransformer,\n",
    ")\n",
    "\n",
    "warnings.filterwarnings(\"ignore\")\n",
    "load_dotenv(find_dotenv(), override=True)"
   ]
  },
  {
   "cell_type": "code",
   "execution_count": 2,
   "id": "18b3cf3a-f968-48ed-899c-a5f5111e3eca",
   "metadata": {
    "execution": {
     "iopub.execute_input": "2022-11-04T09:52:47.901122Z",
     "iopub.status.busy": "2022-11-04T09:52:47.900681Z",
     "iopub.status.idle": "2022-11-04T09:52:47.908469Z",
     "shell.execute_reply": "2022-11-04T09:52:47.907531Z"
    }
   },
   "outputs": [],
   "source": [
    "class CephCommunication:\n",
    "    \"\"\"\n",
    "    Class to establish communication with a ceph s3 bucket.\n",
    "    It connects with the bucket and provides methods to read and write data in the parquet format.\n",
    "    \"\"\"\n",
    "\n",
    "    def __init__(\n",
    "        self, s3_endpoint_url, aws_access_key_id, aws_secret_access_key, s3_bucket\n",
    "    ):\n",
    "        self.s3_endpoint_url = s3_endpoint_url\n",
    "        self.aws_access_key_id = aws_access_key_id\n",
    "        self.aws_secret_access_key = aws_secret_access_key\n",
    "        self.s3_resource = boto3.resource(\n",
    "            \"s3\",\n",
    "            endpoint_url=self.s3_endpoint_url,\n",
    "            aws_access_key_id=self.aws_access_key_id,\n",
    "            aws_secret_access_key=self.aws_secret_access_key,\n",
    "        )\n",
    "        self.bucket = s3_bucket\n",
    "        ## Todo: Add try catch\n",
    "\n",
    "    def upload_to_ceph(self, dataframe, s3_path, filename):\n",
    "        \"\"\"\n",
    "        This helper function takes as input the data frame to be uploaded, and the output filename.\n",
    "        It then saves the data frame in the defined ceph bucket.\n",
    "        \"\"\"\n",
    "        parquet_buffer = BytesIO()\n",
    "        dataframe.to_parquet(parquet_buffer)\n",
    "        s3_obj = self.s3_resource.Object(self.bucket, f\"{s3_path}/{filename}\")\n",
    "        status = s3_obj.put(Body=parquet_buffer.getvalue())\n",
    "        return status\n",
    "\n",
    "    def read_from_ceph(self, s3_path, filename):\n",
    "        \"\"\"\n",
    "        Helper function to read from ceph and see if the saved data is correct.\n",
    "        \"\"\"\n",
    "        buffer = BytesIO()\n",
    "        s3_object = self.s3_resource.Object(self.bucket, f\"{s3_path}/{filename}\")\n",
    "        s3_object.download_fileobj(buffer)\n",
    "        df_temp = pd.read_parquet(buffer)\n",
    "        return df_temp"
   ]
  },
  {
   "cell_type": "markdown",
   "id": "3c4e04bb-a8fc-4bc9-a91d-ffe389212f0e",
   "metadata": {},
   "source": [
    "## Get Raw Data"
   ]
  },
  {
   "cell_type": "code",
   "execution_count": 3,
   "id": "f6d138f3",
   "metadata": {
    "execution": {
     "iopub.execute_input": "2022-11-04T09:52:47.912325Z",
     "iopub.status.busy": "2022-11-04T09:52:47.912053Z",
     "iopub.status.idle": "2022-11-04T09:52:47.917888Z",
     "shell.execute_reply": "2022-11-04T09:52:47.916970Z"
    }
   },
   "outputs": [],
   "source": [
    "## CEPH Bucket variables\n",
    "## Create a .env file on your local with the correct configs,\n",
    "\n",
    "ORG = os.getenv(\"GITHUB_ORG\")\n",
    "REPO = os.getenv(\"GITHUB_REPO\")\n",
    "\n",
    "## S3 bucket credentials\n",
    "s3_endpoint_url = os.getenv(\"S3_ENDPOINT_URL\")\n",
    "s3_access_key = os.getenv(\"S3_ACCESS_KEY\")\n",
    "s3_secret_key = os.getenv(\"S3_SECRET_KEY\")\n",
    "s3_bucket = os.getenv(\"S3_BUCKET\")\n",
    "\n",
    "REMOTE = os.getenv(\"REMOTE\")\n",
    "\n",
    "s3_input_data_path = os.getenv(\"CEPH_BUCKET_PREFIX\")\n",
    "local_input_data_path = \"../../../data/raw/GitHub/PullRequest.json.gz\"\n",
    "local_output_data_path = \"../../../data/processed/github\"\n",
    "RAW_DATA_PATH = os.path.join(\n",
    "    s3_input_data_path, \"srcopsmetrics/bot_knowledge\", ORG, REPO, \"PullRequest.json\"\n",
    ")\n",
    "\n",
    "CHOSEN_MODEL = os.getenv(\"CHOSEN_MODEL\")"
   ]
  },
  {
   "cell_type": "code",
   "execution_count": 4,
   "id": "f7ddbfc0-53a7-4d76-a64e-975c89fa1e59",
   "metadata": {
    "execution": {
     "iopub.execute_input": "2022-11-04T09:52:47.922074Z",
     "iopub.status.busy": "2022-11-04T09:52:47.921542Z",
     "iopub.status.idle": "2022-11-04T09:52:48.537670Z",
     "shell.execute_reply": "2022-11-04T09:52:48.536534Z"
    }
   },
   "outputs": [
    {
     "name": "stdout",
     "output_type": "stream",
     "text": [
      "getting dataset from ceph\n"
     ]
    }
   ],
   "source": [
    "output = []\n",
    "if REMOTE:\n",
    "    print(\"getting dataset from ceph\")\n",
    "    s3 = boto3.resource(\n",
    "        \"s3\",\n",
    "        endpoint_url=s3_endpoint_url,\n",
    "        aws_access_key_id=s3_access_key,\n",
    "        aws_secret_access_key=s3_secret_key,\n",
    "    )\n",
    "    content = s3.Object(s3_bucket, RAW_DATA_PATH)\n",
    "    file = content.get()[\"Body\"].read().decode(\"utf-8\")\n",
    "\n",
    "    prs = json.loads(file)\n",
    "\n",
    "    for pr in prs.splitlines():\n",
    "        output.append(json.loads(pr))\n",
    "\n",
    "else:\n",
    "    print(\"getting dataset from local\")\n",
    "    with gzip.open(local_input_data_path, \"r\") as f:\n",
    "        prs = json.loads(f.read().decode(\"utf-8\"))\n",
    "\n",
    "\n",
    "pr_df = pd.DataFrame(output)"
   ]
  },
  {
   "cell_type": "markdown",
   "id": "0eb8188c-d835-4913-a77b-1524fa04eeef",
   "metadata": {},
   "source": [
    "## Extract Labels from Raw Data"
   ]
  },
  {
   "cell_type": "code",
   "execution_count": 5,
   "id": "8bf8212d-82bd-4600-a615-1e150272146f",
   "metadata": {
    "execution": {
     "iopub.execute_input": "2022-11-04T09:52:48.542163Z",
     "iopub.status.busy": "2022-11-04T09:52:48.541889Z",
     "iopub.status.idle": "2022-11-04T09:52:48.552719Z",
     "shell.execute_reply": "2022-11-04T09:52:48.551831Z"
    }
   },
   "outputs": [
    {
     "data": {
      "text/plain": [
       "0          756.0\n",
       "2      1888847.0\n",
       "3         2731.0\n",
       "4         1340.0\n",
       "5          871.0\n",
       "         ...    \n",
       "410    1890777.0\n",
       "411    1177800.0\n",
       "412     488406.0\n",
       "413    2159397.0\n",
       "415        382.0\n",
       "Length: 384, dtype: float64"
      ]
     },
     "execution_count": 5,
     "metadata": {},
     "output_type": "execute_result"
    }
   ],
   "source": [
    "y = (pr_df[\"merged_at\"] - pr_df[\"created_at\"]).astype(\"float\")\n",
    "y = y.dropna()\n",
    "y"
   ]
  },
  {
   "cell_type": "code",
   "execution_count": 6,
   "id": "5ddc1177-ac15-494a-8c49-0d49e3e5d7e8",
   "metadata": {
    "execution": {
     "iopub.execute_input": "2022-11-04T09:52:48.556174Z",
     "iopub.status.busy": "2022-11-04T09:52:48.555892Z",
     "iopub.status.idle": "2022-11-04T09:52:48.566540Z",
     "shell.execute_reply": "2022-11-04T09:52:48.565700Z"
    }
   },
   "outputs": [
    {
     "data": {
      "text/plain": [
       "0.0         7.0\n",
       "0.1        37.3\n",
       "0.2       118.6\n",
       "0.3       136.0\n",
       "0.4       260.2\n",
       "0.5       607.5\n",
       "0.6      1228.6\n",
       "0.7      5008.4\n",
       "0.8     71007.0\n",
       "0.9    434048.3\n",
       "dtype: float64"
      ]
     },
     "execution_count": 6,
     "metadata": {},
     "output_type": "execute_result"
    }
   ],
   "source": [
    "n_buckets = 10\n",
    "\n",
    "quantiles = y.quantile(q=np.arange(0, 1 + 1e-100, 1 / n_buckets))\n",
    "quantiles"
   ]
  },
  {
   "cell_type": "code",
   "execution_count": 7,
   "id": "97a47fdd-f513-4428-a4a1-6affe1899eae",
   "metadata": {
    "execution": {
     "iopub.execute_input": "2022-11-04T09:52:48.569857Z",
     "iopub.status.busy": "2022-11-04T09:52:48.569589Z",
     "iopub.status.idle": "2022-11-04T09:52:48.579575Z",
     "shell.execute_reply": "2022-11-04T09:52:48.578718Z"
    }
   },
   "outputs": [
    {
     "data": {
      "text/plain": [
       "0      5\n",
       "2      9\n",
       "3      6\n",
       "4      6\n",
       "5      5\n",
       "      ..\n",
       "410    9\n",
       "411    9\n",
       "412    9\n",
       "413    9\n",
       "415    4\n",
       "Length: 384, dtype: int64"
      ]
     },
     "execution_count": 7,
     "metadata": {},
     "output_type": "execute_result"
    }
   ],
   "source": [
    "def get_ttm_class(ttm):\n",
    "\n",
    "    for rownum, (indx, val) in enumerate(quantiles.iteritems()):\n",
    "        if ttm < val:\n",
    "            return rownum - 1\n",
    "    return 9\n",
    "\n",
    "\n",
    "y = y.apply(get_ttm_class)\n",
    "y"
   ]
  },
  {
   "cell_type": "markdown",
   "id": "4e9efc4d-f5ee-4a18-aef6-df840395a55a",
   "metadata": {},
   "source": [
    "## Extract Features from Raw Data\n",
    "\n",
    "In this section, we will create transformer objects to process raw data as per the feature extraction methods that were found to be the most effective in the previous EDA notebook.\n",
    "\n",
    "To ensure that joblib serializes the custom transformer objects correctly, we will write their definitions in [`src/features/build_features.py`](../../src/features/build_features.py) instead of this notebook, and import them from the `src` package. This way, the `src` package can be listed as a dependency wherever these objects need to be deserialized (for example, Seldon server for model deployment)."
   ]
  },
  {
   "cell_type": "markdown",
   "id": "28bdc89e-0a62-41b8-8b70-caf958bb6a2d",
   "metadata": {},
   "source": [
    "#### size"
   ]
  },
  {
   "cell_type": "code",
   "execution_count": 8,
   "id": "f769e3cb-e140-4855-8161-0c72bf6403a8",
   "metadata": {
    "execution": {
     "iopub.execute_input": "2022-11-04T09:52:48.584639Z",
     "iopub.status.busy": "2022-11-04T09:52:48.584357Z",
     "iopub.status.idle": "2022-11-04T09:52:48.588646Z",
     "shell.execute_reply": "2022-11-04T09:52:48.587706Z"
    }
   },
   "outputs": [],
   "source": [
    "# map values to 0,1,2,3,4,5\n",
    "pr_size_encoder = OrdinalEncoder(categories=[[\"XS\", \"S\", \"M\", \"L\", \"XL\", \"XXL\"]])"
   ]
  },
  {
   "cell_type": "markdown",
   "id": "f893270d-0525-4bff-900c-7e630f1197c0",
   "metadata": {},
   "source": [
    "#### created_at"
   ]
  },
  {
   "cell_type": "code",
   "execution_count": 9,
   "id": "7d2ab3c3-caed-4971-ba1d-4c484088a057",
   "metadata": {
    "execution": {
     "iopub.execute_input": "2022-11-04T09:52:48.592321Z",
     "iopub.status.busy": "2022-11-04T09:52:48.592037Z",
     "iopub.status.idle": "2022-11-04T09:52:48.596047Z",
     "shell.execute_reply": "2022-11-04T09:52:48.595107Z"
    }
   },
   "outputs": [],
   "source": [
    "# get day, month, date, etc. from a unix timestamp\n",
    "dt_details_transf = DateTimeDetailsTransformer()"
   ]
  },
  {
   "cell_type": "markdown",
   "id": "3b637c29-df8f-43cf-ba10-7be54e0fc018",
   "metadata": {},
   "source": [
    "#### changed_files_number"
   ]
  },
  {
   "cell_type": "code",
   "execution_count": 10,
   "id": "2ad7979f-afd8-40b2-8c03-929129908953",
   "metadata": {
    "execution": {
     "iopub.execute_input": "2022-11-04T09:52:48.600974Z",
     "iopub.status.busy": "2022-11-04T09:52:48.600677Z",
     "iopub.status.idle": "2022-11-04T09:52:48.605736Z",
     "shell.execute_reply": "2022-11-04T09:52:48.603490Z"
    }
   },
   "outputs": [],
   "source": [
    "# number of files changed in PR\n",
    "n_changed_files_transf = NumChangedFilesTransformer()"
   ]
  },
  {
   "cell_type": "markdown",
   "id": "dc2fc0cf-ab56-4b53-a190-7b5770bfebbd",
   "metadata": {},
   "source": [
    "#### body_size"
   ]
  },
  {
   "cell_type": "code",
   "execution_count": 11,
   "id": "b74d3d4d-ba0c-43c3-8506-23ed49c6dce8",
   "metadata": {
    "execution": {
     "iopub.execute_input": "2022-11-04T09:52:48.610484Z",
     "iopub.status.busy": "2022-11-04T09:52:48.610191Z",
     "iopub.status.idle": "2022-11-04T09:52:48.614272Z",
     "shell.execute_reply": "2022-11-04T09:52:48.613275Z"
    }
   },
   "outputs": [],
   "source": [
    "# number of characters in PR description\n",
    "body_size_transf = StringLenTransformer(\"body\")"
   ]
  },
  {
   "cell_type": "markdown",
   "id": "5840645a-56dc-4658-b91a-782739e8de09",
   "metadata": {},
   "source": [
    "#### filetype_\\<type>"
   ]
  },
  {
   "cell_type": "code",
   "execution_count": 12,
   "id": "71d6e5c3-eaf3-4cfe-9fe6-ef3f9b9edcfe",
   "metadata": {
    "execution": {
     "iopub.execute_input": "2022-11-04T09:52:48.617836Z",
     "iopub.status.busy": "2022-11-04T09:52:48.617418Z",
     "iopub.status.idle": "2022-11-04T09:52:49.176838Z",
     "shell.execute_reply": "2022-11-04T09:52:49.175708Z"
    }
   },
   "outputs": [],
   "source": [
    "# how many files of the given extension were changed in PR\n",
    "FILETYPE_FEATURES_FILENAME = os.path.join(ORG + REPO + \"FILETYPE.parquet\")\n",
    "FILETYPE_FEATURES_KEY = os.path.join(s3_input_data_path, ORG, REPO, \"features\")\n",
    "cc = CephCommunication(s3_endpoint_url, s3_access_key, s3_secret_key, s3_bucket)\n",
    "filetype_df = cc.read_from_ceph(FILETYPE_FEATURES_KEY, FILETYPE_FEATURES_FILENAME)"
   ]
  },
  {
   "cell_type": "code",
   "execution_count": 13,
   "id": "977a1fba-c867-4feb-848d-5456d168e940",
   "metadata": {
    "execution": {
     "iopub.execute_input": "2022-11-04T09:52:49.180877Z",
     "iopub.status.busy": "2022-11-04T09:52:49.180574Z",
     "iopub.status.idle": "2022-11-04T09:52:49.189752Z",
     "shell.execute_reply": "2022-11-04T09:52:49.188900Z"
    }
   },
   "outputs": [
    {
     "data": {
      "text/html": [
       "<div>\n",
       "<style scoped>\n",
       "    .dataframe tbody tr th:only-of-type {\n",
       "        vertical-align: middle;\n",
       "    }\n",
       "\n",
       "    .dataframe tbody tr th {\n",
       "        vertical-align: top;\n",
       "    }\n",
       "\n",
       "    .dataframe thead th {\n",
       "        text-align: right;\n",
       "    }\n",
       "</style>\n",
       "<table border=\"1\" class=\"dataframe\">\n",
       "  <thead>\n",
       "    <tr style=\"text-align: right;\">\n",
       "      <th></th>\n",
       "      <th>filetype</th>\n",
       "    </tr>\n",
       "  </thead>\n",
       "  <tbody>\n",
       "    <tr>\n",
       "      <th>0</th>\n",
       "      <td>.py</td>\n",
       "    </tr>\n",
       "    <tr>\n",
       "      <th>1</th>\n",
       "      <td>.lock</td>\n",
       "    </tr>\n",
       "    <tr>\n",
       "      <th>2</th>\n",
       "      <td>.yaml</td>\n",
       "    </tr>\n",
       "    <tr>\n",
       "      <th>3</th>\n",
       "      <td>Pipfile</td>\n",
       "    </tr>\n",
       "    <tr>\n",
       "      <th>4</th>\n",
       "      <td>.rst</td>\n",
       "    </tr>\n",
       "    <tr>\n",
       "      <th>5</th>\n",
       "      <td>OWNERS</td>\n",
       "    </tr>\n",
       "    <tr>\n",
       "      <th>6</th>\n",
       "      <td>.toml</td>\n",
       "    </tr>\n",
       "    <tr>\n",
       "      <th>7</th>\n",
       "      <td>CODEOWNERS</td>\n",
       "    </tr>\n",
       "    <tr>\n",
       "      <th>8</th>\n",
       "      <td>None</td>\n",
       "    </tr>\n",
       "    <tr>\n",
       "      <th>9</th>\n",
       "      <td>.png</td>\n",
       "    </tr>\n",
       "    <tr>\n",
       "      <th>10</th>\n",
       "      <td>.txt</td>\n",
       "    </tr>\n",
       "    <tr>\n",
       "      <th>11</th>\n",
       "      <td>mi-scheduler</td>\n",
       "    </tr>\n",
       "  </tbody>\n",
       "</table>\n",
       "</div>"
      ],
      "text/plain": [
       "        filetype\n",
       "0            .py\n",
       "1          .lock\n",
       "2          .yaml\n",
       "3        Pipfile\n",
       "4           .rst\n",
       "5         OWNERS\n",
       "6          .toml\n",
       "7     CODEOWNERS\n",
       "8           None\n",
       "9           .png\n",
       "10          .txt\n",
       "11  mi-scheduler"
      ]
     },
     "execution_count": 13,
     "metadata": {},
     "output_type": "execute_result"
    }
   ],
   "source": [
    "filetype_df"
   ]
  },
  {
   "cell_type": "code",
   "execution_count": 14,
   "id": "c987e49d-d5ab-48ec-b369-6bc5c883d976",
   "metadata": {
    "execution": {
     "iopub.execute_input": "2022-11-04T09:52:49.193687Z",
     "iopub.status.busy": "2022-11-04T09:52:49.192772Z",
     "iopub.status.idle": "2022-11-04T09:52:49.197116Z",
     "shell.execute_reply": "2022-11-04T09:52:49.196402Z"
    }
   },
   "outputs": [],
   "source": [
    "FILE_EXTENSIONS_TO_COUNT = list(filetype_df[\"filetype\"])\n",
    "\n",
    "ftype_count_transf = FileTypeCountTransformer(file_extensions=FILE_EXTENSIONS_TO_COUNT)"
   ]
  },
  {
   "cell_type": "markdown",
   "id": "8797c05d-bc9a-497e-bbca-d9ed6b444f44",
   "metadata": {},
   "source": [
    "#### title_wordcount_\\<word>"
   ]
  },
  {
   "cell_type": "code",
   "execution_count": 15,
   "id": "952d3564-c7a9-4707-9117-b4ccfaf0065c",
   "metadata": {
    "execution": {
     "iopub.execute_input": "2022-11-04T09:52:49.201193Z",
     "iopub.status.busy": "2022-11-04T09:52:49.200631Z",
     "iopub.status.idle": "2022-11-04T09:52:49.476720Z",
     "shell.execute_reply": "2022-11-04T09:52:49.475641Z"
    }
   },
   "outputs": [],
   "source": [
    "TITLE_FEATURES_FILENAME = os.path.join(ORG + REPO + \"titlewords.parquet\")\n",
    "TITLE_FEATURES_KEY = os.path.join(s3_input_data_path, ORG, REPO, \"features\")\n",
    "cc = CephCommunication(s3_endpoint_url, s3_access_key, s3_secret_key, s3_bucket)\n",
    "title_word_keep_cols_df = cc.read_from_ceph(TITLE_FEATURES_KEY, TITLE_FEATURES_FILENAME)"
   ]
  },
  {
   "cell_type": "code",
   "execution_count": 16,
   "id": "0534487e-f064-49ef-a0a2-15f6022dfcab",
   "metadata": {
    "execution": {
     "iopub.execute_input": "2022-11-04T09:52:49.480887Z",
     "iopub.status.busy": "2022-11-04T09:52:49.480591Z",
     "iopub.status.idle": "2022-11-04T09:52:49.492915Z",
     "shell.execute_reply": "2022-11-04T09:52:49.491947Z"
    }
   },
   "outputs": [
    {
     "data": {
      "text/html": [
       "<div>\n",
       "<style scoped>\n",
       "    .dataframe tbody tr th:only-of-type {\n",
       "        vertical-align: middle;\n",
       "    }\n",
       "\n",
       "    .dataframe tbody tr th {\n",
       "        vertical-align: top;\n",
       "    }\n",
       "\n",
       "    .dataframe thead th {\n",
       "        text-align: right;\n",
       "    }\n",
       "</style>\n",
       "<table border=\"1\" class=\"dataframe\">\n",
       "  <thead>\n",
       "    <tr style=\"text-align: right;\">\n",
       "      <th></th>\n",
       "      <th>title</th>\n",
       "    </tr>\n",
       "  </thead>\n",
       "  <tbody>\n",
       "    <tr>\n",
       "      <th>0</th>\n",
       "      <td>0rc1</td>\n",
       "    </tr>\n",
       "    <tr>\n",
       "      <th>1</th>\n",
       "      <td>0rc2</td>\n",
       "    </tr>\n",
       "    <tr>\n",
       "      <th>2</th>\n",
       "      <td>0rc3</td>\n",
       "    </tr>\n",
       "    <tr>\n",
       "      <th>3</th>\n",
       "      <td>add</td>\n",
       "    </tr>\n",
       "    <tr>\n",
       "      <th>4</th>\n",
       "      <td>added</td>\n",
       "    </tr>\n",
       "    <tr>\n",
       "      <th>...</th>\n",
       "      <td>...</td>\n",
       "    </tr>\n",
       "    <tr>\n",
       "      <th>197</th>\n",
       "      <td>wip</td>\n",
       "    </tr>\n",
       "    <tr>\n",
       "      <th>198</th>\n",
       "      <td>workflows</td>\n",
       "    </tr>\n",
       "    <tr>\n",
       "      <th>199</th>\n",
       "      <td>xtuchyna</td>\n",
       "    </tr>\n",
       "    <tr>\n",
       "      <th>200</th>\n",
       "      <td>yaml</td>\n",
       "    </tr>\n",
       "    <tr>\n",
       "      <th>201</th>\n",
       "      <td>⬆️</td>\n",
       "    </tr>\n",
       "  </tbody>\n",
       "</table>\n",
       "<p>202 rows × 1 columns</p>\n",
       "</div>"
      ],
      "text/plain": [
       "         title\n",
       "0         0rc1\n",
       "1         0rc2\n",
       "2         0rc3\n",
       "3          add\n",
       "4        added\n",
       "..         ...\n",
       "197        wip\n",
       "198  workflows\n",
       "199   xtuchyna\n",
       "200       yaml\n",
       "201         ⬆️\n",
       "\n",
       "[202 rows x 1 columns]"
      ]
     },
     "execution_count": 16,
     "metadata": {},
     "output_type": "execute_result"
    }
   ],
   "source": [
    "title_word_keep_cols_df"
   ]
  },
  {
   "cell_type": "code",
   "execution_count": 17,
   "id": "1be7c50c-dc47-483f-b695-a9c02d6cb51b",
   "metadata": {
    "execution": {
     "iopub.execute_input": "2022-11-04T09:52:49.496708Z",
     "iopub.status.busy": "2022-11-04T09:52:49.496223Z",
     "iopub.status.idle": "2022-11-04T09:52:49.500603Z",
     "shell.execute_reply": "2022-11-04T09:52:49.499661Z"
    }
   },
   "outputs": [],
   "source": [
    "# how many times these words appeared in PR title\n",
    "WORDS_TO_COUNT = list(title_word_keep_cols_df[\"title\"])\n",
    "\n",
    "title_wc_transf = TitleWordCountTransformer(words=WORDS_TO_COUNT)"
   ]
  },
  {
   "cell_type": "markdown",
   "id": "11932e2c-ffb2-4a98-9bb9-63a8a4984403",
   "metadata": {},
   "source": [
    "## Apply Transforms"
   ]
  },
  {
   "cell_type": "code",
   "execution_count": 18,
   "id": "c4ee7eb8-62d6-452f-b548-1a884e63ce4c",
   "metadata": {
    "execution": {
     "iopub.execute_input": "2022-11-04T09:52:49.504525Z",
     "iopub.status.busy": "2022-11-04T09:52:49.503810Z",
     "iopub.status.idle": "2022-11-04T09:52:49.510154Z",
     "shell.execute_reply": "2022-11-04T09:52:49.509192Z"
    }
   },
   "outputs": [],
   "source": [
    "# transformer objects compiled into one columntransformer\n",
    "raw_data_processor = ColumnTransformer(\n",
    "    [\n",
    "        (\"pr_size\", pr_size_encoder, [\"size\"]),  # 1 cols generated\n",
    "        (\"created_at_details\", dt_details_transf, [\"created_at\"]),  # 4 cols generated\n",
    "        (\n",
    "            \"n_changed_files\",\n",
    "            n_changed_files_transf,\n",
    "            [\"changed_files_number\"],\n",
    "        ),  # 1 cols generated\n",
    "        (\"body_size\", body_size_transf, [\"body\"]),  # 1 cols generated\n",
    "        (\"n_commits\", \"passthrough\", [\"commits_number\"]),  # 1 cols generated\n",
    "        (\n",
    "            \"filetype_counter\",\n",
    "            ftype_count_transf,\n",
    "            [\"changed_files\"],\n",
    "        ),\n",
    "        (\"title_word_counter\", title_wc_transf, [\"title\"]),\n",
    "    ],\n",
    "    remainder=\"drop\",\n",
    ")"
   ]
  },
  {
   "cell_type": "code",
   "execution_count": 19,
   "id": "7fa84a70-dab6-4a48-90fc-844c29d38263",
   "metadata": {
    "execution": {
     "iopub.execute_input": "2022-11-04T09:52:49.513433Z",
     "iopub.status.busy": "2022-11-04T09:52:49.513169Z",
     "iopub.status.idle": "2022-11-04T09:52:49.519291Z",
     "shell.execute_reply": "2022-11-04T09:52:49.516992Z"
    }
   },
   "outputs": [],
   "source": [
    "# column names. this is needed because sklearn forcefully converts df to ndarray,\n",
    "# thus losing column information. this is a hack to retain that info. look for alternatives\n",
    "cols = (\n",
    "    [\n",
    "        \"size\",\n",
    "        \"created_at_day\",\n",
    "        \"created_at_month\",\n",
    "        \"created_at_weekday\",\n",
    "        \"created_at_hour\",\n",
    "    ]\n",
    "    + [\n",
    "        \"changed_files_number\",\n",
    "        \"body_size\",\n",
    "        \"commits_number\",\n",
    "    ]\n",
    "    + [f\"filetype_{f}\" for f in FILE_EXTENSIONS_TO_COUNT]\n",
    "    + [f\"title_wordcount_{w}\" for w in WORDS_TO_COUNT]\n",
    ")"
   ]
  },
  {
   "cell_type": "code",
   "execution_count": 20,
   "id": "6e757941-3017-4b3b-a8d3-af19a056d9e4",
   "metadata": {
    "execution": {
     "iopub.execute_input": "2022-11-04T09:52:49.523073Z",
     "iopub.status.busy": "2022-11-04T09:52:49.522205Z",
     "iopub.status.idle": "2022-11-04T09:52:50.888696Z",
     "shell.execute_reply": "2022-11-04T09:52:50.887836Z"
    },
    "tags": []
   },
   "outputs": [
    {
     "data": {
      "text/html": [
       "<div>\n",
       "<style scoped>\n",
       "    .dataframe tbody tr th:only-of-type {\n",
       "        vertical-align: middle;\n",
       "    }\n",
       "\n",
       "    .dataframe tbody tr th {\n",
       "        vertical-align: top;\n",
       "    }\n",
       "\n",
       "    .dataframe thead th {\n",
       "        text-align: right;\n",
       "    }\n",
       "</style>\n",
       "<table border=\"1\" class=\"dataframe\">\n",
       "  <thead>\n",
       "    <tr style=\"text-align: right;\">\n",
       "      <th></th>\n",
       "      <th>size</th>\n",
       "      <th>created_at_day</th>\n",
       "      <th>created_at_month</th>\n",
       "      <th>created_at_weekday</th>\n",
       "      <th>created_at_hour</th>\n",
       "      <th>changed_files_number</th>\n",
       "      <th>body_size</th>\n",
       "      <th>commits_number</th>\n",
       "      <th>filetype_.py</th>\n",
       "      <th>filetype_.lock</th>\n",
       "      <th>...</th>\n",
       "      <th>title_wordcount_var</th>\n",
       "      <th>title_wordcount_version</th>\n",
       "      <th>title_wordcount_visualization</th>\n",
       "      <th>title_wordcount_visualizations</th>\n",
       "      <th>title_wordcount_waiting</th>\n",
       "      <th>title_wordcount_wip</th>\n",
       "      <th>title_wordcount_workflows</th>\n",
       "      <th>title_wordcount_xtuchyna</th>\n",
       "      <th>title_wordcount_yaml</th>\n",
       "      <th>title_wordcount_⬆️</th>\n",
       "    </tr>\n",
       "  </thead>\n",
       "  <tbody>\n",
       "    <tr>\n",
       "      <th>0</th>\n",
       "      <td>2.0</td>\n",
       "      <td>12.0</td>\n",
       "      <td>10.0</td>\n",
       "      <td>2.0</td>\n",
       "      <td>18.0</td>\n",
       "      <td>2.0</td>\n",
       "      <td>468.0</td>\n",
       "      <td>1.0</td>\n",
       "      <td>1.0</td>\n",
       "      <td>0.0</td>\n",
       "      <td>...</td>\n",
       "      <td>0.0</td>\n",
       "      <td>1.0</td>\n",
       "      <td>0.0</td>\n",
       "      <td>0.0</td>\n",
       "      <td>0.0</td>\n",
       "      <td>0.0</td>\n",
       "      <td>0.0</td>\n",
       "      <td>0.0</td>\n",
       "      <td>0.0</td>\n",
       "      <td>0.0</td>\n",
       "    </tr>\n",
       "    <tr>\n",
       "      <th>1</th>\n",
       "      <td>4.0</td>\n",
       "      <td>12.0</td>\n",
       "      <td>10.0</td>\n",
       "      <td>2.0</td>\n",
       "      <td>18.0</td>\n",
       "      <td>1.0</td>\n",
       "      <td>74.0</td>\n",
       "      <td>1.0</td>\n",
       "      <td>0.0</td>\n",
       "      <td>1.0</td>\n",
       "      <td>...</td>\n",
       "      <td>0.0</td>\n",
       "      <td>0.0</td>\n",
       "      <td>0.0</td>\n",
       "      <td>0.0</td>\n",
       "      <td>0.0</td>\n",
       "      <td>0.0</td>\n",
       "      <td>0.0</td>\n",
       "      <td>0.0</td>\n",
       "      <td>0.0</td>\n",
       "      <td>0.0</td>\n",
       "    </tr>\n",
       "    <tr>\n",
       "      <th>2</th>\n",
       "      <td>3.0</td>\n",
       "      <td>20.0</td>\n",
       "      <td>9.0</td>\n",
       "      <td>1.0</td>\n",
       "      <td>22.0</td>\n",
       "      <td>6.0</td>\n",
       "      <td>124.0</td>\n",
       "      <td>8.0</td>\n",
       "      <td>6.0</td>\n",
       "      <td>0.0</td>\n",
       "      <td>...</td>\n",
       "      <td>0.0</td>\n",
       "      <td>0.0</td>\n",
       "      <td>0.0</td>\n",
       "      <td>0.0</td>\n",
       "      <td>0.0</td>\n",
       "      <td>0.0</td>\n",
       "      <td>0.0</td>\n",
       "      <td>0.0</td>\n",
       "      <td>0.0</td>\n",
       "      <td>0.0</td>\n",
       "    </tr>\n",
       "    <tr>\n",
       "      <th>3</th>\n",
       "      <td>0.0</td>\n",
       "      <td>16.0</td>\n",
       "      <td>9.0</td>\n",
       "      <td>4.0</td>\n",
       "      <td>15.0</td>\n",
       "      <td>1.0</td>\n",
       "      <td>6.0</td>\n",
       "      <td>1.0</td>\n",
       "      <td>0.0</td>\n",
       "      <td>0.0</td>\n",
       "      <td>...</td>\n",
       "      <td>0.0</td>\n",
       "      <td>0.0</td>\n",
       "      <td>0.0</td>\n",
       "      <td>0.0</td>\n",
       "      <td>0.0</td>\n",
       "      <td>0.0</td>\n",
       "      <td>0.0</td>\n",
       "      <td>0.0</td>\n",
       "      <td>0.0</td>\n",
       "      <td>0.0</td>\n",
       "    </tr>\n",
       "    <tr>\n",
       "      <th>4</th>\n",
       "      <td>3.0</td>\n",
       "      <td>16.0</td>\n",
       "      <td>9.0</td>\n",
       "      <td>4.0</td>\n",
       "      <td>15.0</td>\n",
       "      <td>1.0</td>\n",
       "      <td>73.0</td>\n",
       "      <td>1.0</td>\n",
       "      <td>0.0</td>\n",
       "      <td>1.0</td>\n",
       "      <td>...</td>\n",
       "      <td>0.0</td>\n",
       "      <td>0.0</td>\n",
       "      <td>0.0</td>\n",
       "      <td>0.0</td>\n",
       "      <td>0.0</td>\n",
       "      <td>0.0</td>\n",
       "      <td>0.0</td>\n",
       "      <td>0.0</td>\n",
       "      <td>0.0</td>\n",
       "      <td>0.0</td>\n",
       "    </tr>\n",
       "  </tbody>\n",
       "</table>\n",
       "<p>5 rows × 222 columns</p>\n",
       "</div>"
      ],
      "text/plain": [
       "   size  created_at_day  created_at_month  created_at_weekday  \\\n",
       "0   2.0            12.0              10.0                 2.0   \n",
       "1   4.0            12.0              10.0                 2.0   \n",
       "2   3.0            20.0               9.0                 1.0   \n",
       "3   0.0            16.0               9.0                 4.0   \n",
       "4   3.0            16.0               9.0                 4.0   \n",
       "\n",
       "   created_at_hour  changed_files_number  body_size  commits_number  \\\n",
       "0             18.0                   2.0      468.0             1.0   \n",
       "1             18.0                   1.0       74.0             1.0   \n",
       "2             22.0                   6.0      124.0             8.0   \n",
       "3             15.0                   1.0        6.0             1.0   \n",
       "4             15.0                   1.0       73.0             1.0   \n",
       "\n",
       "   filetype_.py  filetype_.lock  ...  title_wordcount_var  \\\n",
       "0           1.0             0.0  ...                  0.0   \n",
       "1           0.0             1.0  ...                  0.0   \n",
       "2           6.0             0.0  ...                  0.0   \n",
       "3           0.0             0.0  ...                  0.0   \n",
       "4           0.0             1.0  ...                  0.0   \n",
       "\n",
       "   title_wordcount_version  title_wordcount_visualization  \\\n",
       "0                      1.0                            0.0   \n",
       "1                      0.0                            0.0   \n",
       "2                      0.0                            0.0   \n",
       "3                      0.0                            0.0   \n",
       "4                      0.0                            0.0   \n",
       "\n",
       "   title_wordcount_visualizations  title_wordcount_waiting  \\\n",
       "0                             0.0                      0.0   \n",
       "1                             0.0                      0.0   \n",
       "2                             0.0                      0.0   \n",
       "3                             0.0                      0.0   \n",
       "4                             0.0                      0.0   \n",
       "\n",
       "   title_wordcount_wip  title_wordcount_workflows  title_wordcount_xtuchyna  \\\n",
       "0                  0.0                        0.0                       0.0   \n",
       "1                  0.0                        0.0                       0.0   \n",
       "2                  0.0                        0.0                       0.0   \n",
       "3                  0.0                        0.0                       0.0   \n",
       "4                  0.0                        0.0                       0.0   \n",
       "\n",
       "   title_wordcount_yaml  title_wordcount_⬆️  \n",
       "0                   0.0                 0.0  \n",
       "1                   0.0                 0.0  \n",
       "2                   0.0                 0.0  \n",
       "3                   0.0                 0.0  \n",
       "4                   0.0                 0.0  \n",
       "\n",
       "[5 rows x 222 columns]"
      ]
     },
     "execution_count": 20,
     "metadata": {},
     "output_type": "execute_result"
    }
   ],
   "source": [
    "X = raw_data_processor.fit_transform(pr_df)\n",
    "X = pd.DataFrame(X, index=pr_df.index, columns=cols)\n",
    "X.head()"
   ]
  },
  {
   "cell_type": "code",
   "execution_count": 21,
   "id": "2853951f-bad4-4b92-a713-769b86a1e33f",
   "metadata": {
    "execution": {
     "iopub.execute_input": "2022-11-04T09:52:50.892369Z",
     "iopub.status.busy": "2022-11-04T09:52:50.892117Z",
     "iopub.status.idle": "2022-11-04T09:52:50.945289Z",
     "shell.execute_reply": "2022-11-04T09:52:50.944427Z"
    }
   },
   "outputs": [
    {
     "data": {
      "text/html": [
       "<div>\n",
       "<style scoped>\n",
       "    .dataframe tbody tr th:only-of-type {\n",
       "        vertical-align: middle;\n",
       "    }\n",
       "\n",
       "    .dataframe tbody tr th {\n",
       "        vertical-align: top;\n",
       "    }\n",
       "\n",
       "    .dataframe thead th {\n",
       "        text-align: right;\n",
       "    }\n",
       "</style>\n",
       "<table border=\"1\" class=\"dataframe\">\n",
       "  <thead>\n",
       "    <tr style=\"text-align: right;\">\n",
       "      <th></th>\n",
       "      <th>title</th>\n",
       "      <th>body</th>\n",
       "      <th>size</th>\n",
       "      <th>created_by</th>\n",
       "      <th>created_at</th>\n",
       "      <th>closed_at</th>\n",
       "      <th>closed_by</th>\n",
       "      <th>merged_at</th>\n",
       "      <th>merged_by</th>\n",
       "      <th>commits_number</th>\n",
       "      <th>changed_files_number</th>\n",
       "      <th>interactions</th>\n",
       "      <th>reviews</th>\n",
       "      <th>labels</th>\n",
       "      <th>commits</th>\n",
       "      <th>changed_files</th>\n",
       "      <th>first_review_at</th>\n",
       "      <th>first_approve_at</th>\n",
       "      <th>id</th>\n",
       "    </tr>\n",
       "  </thead>\n",
       "  <tbody>\n",
       "    <tr>\n",
       "      <th>0</th>\n",
       "      <td>Release of version 2.12.0</td>\n",
       "      <td>Hey, @xtuchyna!\\n\\nOpening this PR to create a...</td>\n",
       "      <td>M</td>\n",
       "      <td>khebhut[bot]</td>\n",
       "      <td>1665600542</td>\n",
       "      <td>1.665601e+09</td>\n",
       "      <td>sesheta</td>\n",
       "      <td>1.665601e+09</td>\n",
       "      <td>sesheta</td>\n",
       "      <td>1</td>\n",
       "      <td>2</td>\n",
       "      <td>{'sesheta': 327}</td>\n",
       "      <td>{'1139569371': {'author': 'sefkhet-abwy[bot]',...</td>\n",
       "      <td>[approved, bot, size/M, ok-to-test]</td>\n",
       "      <td>[2eadea6d1417c3baede8d3b32ea1cd01c37bb319]</td>\n",
       "      <td>[CHANGELOG.md, srcopsmetrics/__init__.py]</td>\n",
       "      <td>1.665601e+09</td>\n",
       "      <td>1.665601e+09</td>\n",
       "      <td>612</td>\n",
       "    </tr>\n",
       "    <tr>\n",
       "      <th>1</th>\n",
       "      <td>Automatic update of dependencies by Kebechet f...</td>\n",
       "      <td>Kebechet has updated the dependencies to the l...</td>\n",
       "      <td>XL</td>\n",
       "      <td>khebhut[bot]</td>\n",
       "      <td>1665600524</td>\n",
       "      <td>NaN</td>\n",
       "      <td>None</td>\n",
       "      <td>NaN</td>\n",
       "      <td>None</td>\n",
       "      <td>1</td>\n",
       "      <td>1</td>\n",
       "      <td>{'sesheta': 187, 'khebhut[bot]': 6}</td>\n",
       "      <td>{'1139569050': {'author': 'sefkhet-abwy[bot]',...</td>\n",
       "      <td>[approved, bot, size/XL, ok-to-test]</td>\n",
       "      <td>[fcd36e9e238c243c73ca0a214ed373b2cf5c1c35]</td>\n",
       "      <td>[Pipfile.lock]</td>\n",
       "      <td>1.665601e+09</td>\n",
       "      <td>1.665601e+09</td>\n",
       "      <td>611</td>\n",
       "    </tr>\n",
       "    <tr>\n",
       "      <th>2</th>\n",
       "      <td>Mi fixes</td>\n",
       "      <td>## Related Issues and Dependencies\\r\\nrelated ...</td>\n",
       "      <td>L</td>\n",
       "      <td>Gkrumbach07</td>\n",
       "      <td>1663711269</td>\n",
       "      <td>1.665600e+09</td>\n",
       "      <td>sesheta</td>\n",
       "      <td>1.665600e+09</td>\n",
       "      <td>sesheta</td>\n",
       "      <td>8</td>\n",
       "      <td>6</td>\n",
       "      <td>{'xtuchyna': 13, 'Gkrumbach07': 24, 'sesheta':...</td>\n",
       "      <td>{'1118375791': {'author': 'xtuchyna', 'words_c...</td>\n",
       "      <td>[approved, size/L]</td>\n",
       "      <td>[29f4ffd578ee20ff379765d7835dc5a306832a3c, 98e...</td>\n",
       "      <td>[srcopsmetrics/cli.py, srcopsmetrics/entities/...</td>\n",
       "      <td>1.663938e+09</td>\n",
       "      <td>1.665600e+09</td>\n",
       "      <td>609</td>\n",
       "    </tr>\n",
       "    <tr>\n",
       "      <th>3</th>\n",
       "      <td>Automatic update of base-image in CI</td>\n",
       "      <td>Automatic update of base-image in CI.</td>\n",
       "      <td>XS</td>\n",
       "      <td>sesheta</td>\n",
       "      <td>1663342324</td>\n",
       "      <td>1.663345e+09</td>\n",
       "      <td>sesheta</td>\n",
       "      <td>1.663345e+09</td>\n",
       "      <td>sesheta</td>\n",
       "      <td>1</td>\n",
       "      <td>1</td>\n",
       "      <td>{'sesheta': 140}</td>\n",
       "      <td>{'1110874496': {'author': 'sefkhet-abwy[bot]',...</td>\n",
       "      <td>[approved, size/XS, ok-to-test]</td>\n",
       "      <td>[d5d590ff2a244cb4d2baee2682ee9b982b4b5c19]</td>\n",
       "      <td>[.aicoe-ci.yaml]</td>\n",
       "      <td>1.663342e+09</td>\n",
       "      <td>1.663342e+09</td>\n",
       "      <td>608</td>\n",
       "    </tr>\n",
       "    <tr>\n",
       "      <th>4</th>\n",
       "      <td>Automatic update of dependencies by Kebechet f...</td>\n",
       "      <td>Kebechet has updated the dependencies to the l...</td>\n",
       "      <td>L</td>\n",
       "      <td>khebhut[bot]</td>\n",
       "      <td>1663342276</td>\n",
       "      <td>1.663344e+09</td>\n",
       "      <td>sesheta</td>\n",
       "      <td>1.663344e+09</td>\n",
       "      <td>sesheta</td>\n",
       "      <td>1</td>\n",
       "      <td>1</td>\n",
       "      <td>{'sesheta': 397}</td>\n",
       "      <td>{'1110873483': {'author': 'sefkhet-abwy[bot]',...</td>\n",
       "      <td>[approved, size/L, bot, ok-to-test]</td>\n",
       "      <td>[a676faae110a141fb409c6d7cd959d364a8cfe50]</td>\n",
       "      <td>[Pipfile.lock]</td>\n",
       "      <td>1.663342e+09</td>\n",
       "      <td>1.663342e+09</td>\n",
       "      <td>607</td>\n",
       "    </tr>\n",
       "    <tr>\n",
       "      <th>...</th>\n",
       "      <td>...</td>\n",
       "      <td>...</td>\n",
       "      <td>...</td>\n",
       "      <td>...</td>\n",
       "      <td>...</td>\n",
       "      <td>...</td>\n",
       "      <td>...</td>\n",
       "      <td>...</td>\n",
       "      <td>...</td>\n",
       "      <td>...</td>\n",
       "      <td>...</td>\n",
       "      <td>...</td>\n",
       "      <td>...</td>\n",
       "      <td>...</td>\n",
       "      <td>...</td>\n",
       "      <td>...</td>\n",
       "      <td>...</td>\n",
       "      <td>...</td>\n",
       "      <td>...</td>\n",
       "    </tr>\n",
       "    <tr>\n",
       "      <th>411</th>\n",
       "      <td>Feature/expand data collection from prs</td>\n",
       "      <td>## Related Issues and Dependencies\\r\\n\\r\\n…\\r\\...</td>\n",
       "      <td>L</td>\n",
       "      <td>xtuchyna</td>\n",
       "      <td>1576000129</td>\n",
       "      <td>1.577178e+09</td>\n",
       "      <td>None</td>\n",
       "      <td>1.577178e+09</td>\n",
       "      <td>None</td>\n",
       "      <td>6</td>\n",
       "      <td>1</td>\n",
       "      <td>{'pacospace': 1, 'ghost': 50}</td>\n",
       "      <td>{'330365548': {'author': 'pacospace', 'words_c...</td>\n",
       "      <td>[approved, size/L]</td>\n",
       "      <td>[350b1c92016696cd92bccc96bc1dc067494cbd38, cf6...</td>\n",
       "      <td>[create_bot_knowledge.py]</td>\n",
       "      <td>1.576054e+09</td>\n",
       "      <td>1.577178e+09</td>\n",
       "      <td>5</td>\n",
       "    </tr>\n",
       "    <tr>\n",
       "      <th>412</th>\n",
       "      <td>Correct typo in CODEOWNERS</td>\n",
       "      <td>Signed-off-by: Francesco Murdaca &lt;fmurdaca@red...</td>\n",
       "      <td>XS</td>\n",
       "      <td>pacospace</td>\n",
       "      <td>1574979066</td>\n",
       "      <td>1.575467e+09</td>\n",
       "      <td>goern</td>\n",
       "      <td>1.575467e+09</td>\n",
       "      <td>goern</td>\n",
       "      <td>1</td>\n",
       "      <td>1</td>\n",
       "      <td>{'ghost': 15}</td>\n",
       "      <td>{'324527213': {'author': 'goern', 'words_count...</td>\n",
       "      <td>[approved, size/XS]</td>\n",
       "      <td>[bae7c611679f19b043d29edbc06dfb88b883154a]</td>\n",
       "      <td>[.github/CODEOWNERS]</td>\n",
       "      <td>1.575005e+09</td>\n",
       "      <td>1.575005e+09</td>\n",
       "      <td>4</td>\n",
       "    </tr>\n",
       "    <tr>\n",
       "      <th>413</th>\n",
       "      <td>refactor code and correct the update knowledge...</td>\n",
       "      <td>## Related Issues and Dependencies\\r\\n\\r\\n…\\r\\...</td>\n",
       "      <td>XXL</td>\n",
       "      <td>xtuchyna</td>\n",
       "      <td>1574441228</td>\n",
       "      <td>1.576601e+09</td>\n",
       "      <td>None</td>\n",
       "      <td>1.576601e+09</td>\n",
       "      <td>None</td>\n",
       "      <td>17</td>\n",
       "      <td>5</td>\n",
       "      <td>{'ghost': 147, 'goern': 16, 'xtuchyna': 26, 'p...</td>\n",
       "      <td>{'324441775': {'author': 'pacospace', 'words_c...</td>\n",
       "      <td>[size/XXL, approved]</td>\n",
       "      <td>[ea1098bcaa5d614ca63f637f6599d3c1f1a40d89, 719...</td>\n",
       "      <td>[.zuul.yaml, create_bot_knowledge.py, pr_revie...</td>\n",
       "      <td>1.574971e+09</td>\n",
       "      <td>1.576055e+09</td>\n",
       "      <td>3</td>\n",
       "    </tr>\n",
       "    <tr>\n",
       "      <th>414</th>\n",
       "      <td>Correct update logic</td>\n",
       "      <td>Signed-off-by: Francesco Murdaca &lt;fmurdaca@red...</td>\n",
       "      <td>XS</td>\n",
       "      <td>pacospace</td>\n",
       "      <td>1574357322</td>\n",
       "      <td>1.574437e+09</td>\n",
       "      <td>pacospace</td>\n",
       "      <td>NaN</td>\n",
       "      <td>None</td>\n",
       "      <td>1</td>\n",
       "      <td>1</td>\n",
       "      <td>{'ghost': 15, 'pacospace': 59}</td>\n",
       "      <td>{'321156268': {'author': 'goern', 'words_count...</td>\n",
       "      <td>[approved, size/XS]</td>\n",
       "      <td>[ddc04fe9f8dccf877afc4d4a5b68c33cedab707b]</td>\n",
       "      <td>[create_bot_knowledge.py]</td>\n",
       "      <td>1.574367e+09</td>\n",
       "      <td>1.574367e+09</td>\n",
       "      <td>2</td>\n",
       "    </tr>\n",
       "    <tr>\n",
       "      <th>415</th>\n",
       "      <td>Collect and analyze stastistics on Project rep...</td>\n",
       "      <td>## This Pull Request implements:\\r\\n\\r\\n- Func...</td>\n",
       "      <td>XXL</td>\n",
       "      <td>pacospace</td>\n",
       "      <td>1571997667</td>\n",
       "      <td>1.571998e+09</td>\n",
       "      <td>pacospace</td>\n",
       "      <td>1.571998e+09</td>\n",
       "      <td>pacospace</td>\n",
       "      <td>1</td>\n",
       "      <td>5</td>\n",
       "      <td>{}</td>\n",
       "      <td>{'307104100': {'author': 'goern', 'words_count...</td>\n",
       "      <td>[size/XXL, approved]</td>\n",
       "      <td>[207aa5aca51a13d237561952d8139a1299ebcb03]</td>\n",
       "      <td>[Pipfile, Pipfile.lock, README.md, create_bot_...</td>\n",
       "      <td>1.571998e+09</td>\n",
       "      <td>1.571998e+09</td>\n",
       "      <td>1</td>\n",
       "    </tr>\n",
       "  </tbody>\n",
       "</table>\n",
       "<p>416 rows × 19 columns</p>\n",
       "</div>"
      ],
      "text/plain": [
       "                                                 title  \\\n",
       "0                            Release of version 2.12.0   \n",
       "1    Automatic update of dependencies by Kebechet f...   \n",
       "2                                             Mi fixes   \n",
       "3                 Automatic update of base-image in CI   \n",
       "4    Automatic update of dependencies by Kebechet f...   \n",
       "..                                                 ...   \n",
       "411            Feature/expand data collection from prs   \n",
       "412                         Correct typo in CODEOWNERS   \n",
       "413  refactor code and correct the update knowledge...   \n",
       "414                               Correct update logic   \n",
       "415  Collect and analyze stastistics on Project rep...   \n",
       "\n",
       "                                                  body size    created_by  \\\n",
       "0    Hey, @xtuchyna!\\n\\nOpening this PR to create a...    M  khebhut[bot]   \n",
       "1    Kebechet has updated the dependencies to the l...   XL  khebhut[bot]   \n",
       "2    ## Related Issues and Dependencies\\r\\nrelated ...    L   Gkrumbach07   \n",
       "3                Automatic update of base-image in CI.   XS       sesheta   \n",
       "4    Kebechet has updated the dependencies to the l...    L  khebhut[bot]   \n",
       "..                                                 ...  ...           ...   \n",
       "411  ## Related Issues and Dependencies\\r\\n\\r\\n…\\r\\...    L      xtuchyna   \n",
       "412  Signed-off-by: Francesco Murdaca <fmurdaca@red...   XS     pacospace   \n",
       "413  ## Related Issues and Dependencies\\r\\n\\r\\n…\\r\\...  XXL      xtuchyna   \n",
       "414  Signed-off-by: Francesco Murdaca <fmurdaca@red...   XS     pacospace   \n",
       "415  ## This Pull Request implements:\\r\\n\\r\\n- Func...  XXL     pacospace   \n",
       "\n",
       "     created_at     closed_at  closed_by     merged_at  merged_by  \\\n",
       "0    1665600542  1.665601e+09    sesheta  1.665601e+09    sesheta   \n",
       "1    1665600524           NaN       None           NaN       None   \n",
       "2    1663711269  1.665600e+09    sesheta  1.665600e+09    sesheta   \n",
       "3    1663342324  1.663345e+09    sesheta  1.663345e+09    sesheta   \n",
       "4    1663342276  1.663344e+09    sesheta  1.663344e+09    sesheta   \n",
       "..          ...           ...        ...           ...        ...   \n",
       "411  1576000129  1.577178e+09       None  1.577178e+09       None   \n",
       "412  1574979066  1.575467e+09      goern  1.575467e+09      goern   \n",
       "413  1574441228  1.576601e+09       None  1.576601e+09       None   \n",
       "414  1574357322  1.574437e+09  pacospace           NaN       None   \n",
       "415  1571997667  1.571998e+09  pacospace  1.571998e+09  pacospace   \n",
       "\n",
       "     commits_number  changed_files_number  \\\n",
       "0                 1                     2   \n",
       "1                 1                     1   \n",
       "2                 8                     6   \n",
       "3                 1                     1   \n",
       "4                 1                     1   \n",
       "..              ...                   ...   \n",
       "411               6                     1   \n",
       "412               1                     1   \n",
       "413              17                     5   \n",
       "414               1                     1   \n",
       "415               1                     5   \n",
       "\n",
       "                                          interactions  \\\n",
       "0                                     {'sesheta': 327}   \n",
       "1                  {'sesheta': 187, 'khebhut[bot]': 6}   \n",
       "2    {'xtuchyna': 13, 'Gkrumbach07': 24, 'sesheta':...   \n",
       "3                                     {'sesheta': 140}   \n",
       "4                                     {'sesheta': 397}   \n",
       "..                                                 ...   \n",
       "411                      {'pacospace': 1, 'ghost': 50}   \n",
       "412                                      {'ghost': 15}   \n",
       "413  {'ghost': 147, 'goern': 16, 'xtuchyna': 26, 'p...   \n",
       "414                     {'ghost': 15, 'pacospace': 59}   \n",
       "415                                                 {}   \n",
       "\n",
       "                                               reviews  \\\n",
       "0    {'1139569371': {'author': 'sefkhet-abwy[bot]',...   \n",
       "1    {'1139569050': {'author': 'sefkhet-abwy[bot]',...   \n",
       "2    {'1118375791': {'author': 'xtuchyna', 'words_c...   \n",
       "3    {'1110874496': {'author': 'sefkhet-abwy[bot]',...   \n",
       "4    {'1110873483': {'author': 'sefkhet-abwy[bot]',...   \n",
       "..                                                 ...   \n",
       "411  {'330365548': {'author': 'pacospace', 'words_c...   \n",
       "412  {'324527213': {'author': 'goern', 'words_count...   \n",
       "413  {'324441775': {'author': 'pacospace', 'words_c...   \n",
       "414  {'321156268': {'author': 'goern', 'words_count...   \n",
       "415  {'307104100': {'author': 'goern', 'words_count...   \n",
       "\n",
       "                                   labels  \\\n",
       "0     [approved, bot, size/M, ok-to-test]   \n",
       "1    [approved, bot, size/XL, ok-to-test]   \n",
       "2                      [approved, size/L]   \n",
       "3         [approved, size/XS, ok-to-test]   \n",
       "4     [approved, size/L, bot, ok-to-test]   \n",
       "..                                    ...   \n",
       "411                    [approved, size/L]   \n",
       "412                   [approved, size/XS]   \n",
       "413                  [size/XXL, approved]   \n",
       "414                   [approved, size/XS]   \n",
       "415                  [size/XXL, approved]   \n",
       "\n",
       "                                               commits  \\\n",
       "0           [2eadea6d1417c3baede8d3b32ea1cd01c37bb319]   \n",
       "1           [fcd36e9e238c243c73ca0a214ed373b2cf5c1c35]   \n",
       "2    [29f4ffd578ee20ff379765d7835dc5a306832a3c, 98e...   \n",
       "3           [d5d590ff2a244cb4d2baee2682ee9b982b4b5c19]   \n",
       "4           [a676faae110a141fb409c6d7cd959d364a8cfe50]   \n",
       "..                                                 ...   \n",
       "411  [350b1c92016696cd92bccc96bc1dc067494cbd38, cf6...   \n",
       "412         [bae7c611679f19b043d29edbc06dfb88b883154a]   \n",
       "413  [ea1098bcaa5d614ca63f637f6599d3c1f1a40d89, 719...   \n",
       "414         [ddc04fe9f8dccf877afc4d4a5b68c33cedab707b]   \n",
       "415         [207aa5aca51a13d237561952d8139a1299ebcb03]   \n",
       "\n",
       "                                         changed_files  first_review_at  \\\n",
       "0            [CHANGELOG.md, srcopsmetrics/__init__.py]     1.665601e+09   \n",
       "1                                       [Pipfile.lock]     1.665601e+09   \n",
       "2    [srcopsmetrics/cli.py, srcopsmetrics/entities/...     1.663938e+09   \n",
       "3                                     [.aicoe-ci.yaml]     1.663342e+09   \n",
       "4                                       [Pipfile.lock]     1.663342e+09   \n",
       "..                                                 ...              ...   \n",
       "411                          [create_bot_knowledge.py]     1.576054e+09   \n",
       "412                               [.github/CODEOWNERS]     1.575005e+09   \n",
       "413  [.zuul.yaml, create_bot_knowledge.py, pr_revie...     1.574971e+09   \n",
       "414                          [create_bot_knowledge.py]     1.574367e+09   \n",
       "415  [Pipfile, Pipfile.lock, README.md, create_bot_...     1.571998e+09   \n",
       "\n",
       "     first_approve_at   id  \n",
       "0        1.665601e+09  612  \n",
       "1        1.665601e+09  611  \n",
       "2        1.665600e+09  609  \n",
       "3        1.663342e+09  608  \n",
       "4        1.663342e+09  607  \n",
       "..                ...  ...  \n",
       "411      1.577178e+09    5  \n",
       "412      1.575005e+09    4  \n",
       "413      1.576055e+09    3  \n",
       "414      1.574367e+09    2  \n",
       "415      1.571998e+09    1  \n",
       "\n",
       "[416 rows x 19 columns]"
      ]
     },
     "execution_count": 21,
     "metadata": {},
     "output_type": "execute_result"
    }
   ],
   "source": [
    "pr_df"
   ]
  },
  {
   "cell_type": "code",
   "execution_count": 22,
   "id": "b3760786-b04a-4216-a690-c60cd19bb454",
   "metadata": {
    "execution": {
     "iopub.execute_input": "2022-11-04T09:52:50.949297Z",
     "iopub.status.busy": "2022-11-04T09:52:50.948985Z",
     "iopub.status.idle": "2022-11-04T09:52:50.985904Z",
     "shell.execute_reply": "2022-11-04T09:52:50.984872Z"
    }
   },
   "outputs": [
    {
     "data": {
      "text/html": [
       "<div>\n",
       "<style scoped>\n",
       "    .dataframe tbody tr th:only-of-type {\n",
       "        vertical-align: middle;\n",
       "    }\n",
       "\n",
       "    .dataframe tbody tr th {\n",
       "        vertical-align: top;\n",
       "    }\n",
       "\n",
       "    .dataframe thead th {\n",
       "        text-align: right;\n",
       "    }\n",
       "</style>\n",
       "<table border=\"1\" class=\"dataframe\">\n",
       "  <thead>\n",
       "    <tr style=\"text-align: right;\">\n",
       "      <th></th>\n",
       "      <th>size</th>\n",
       "      <th>created_at_day</th>\n",
       "      <th>created_at_month</th>\n",
       "      <th>created_at_weekday</th>\n",
       "      <th>created_at_hour</th>\n",
       "      <th>changed_files_number</th>\n",
       "      <th>body_size</th>\n",
       "      <th>commits_number</th>\n",
       "      <th>filetype_.py</th>\n",
       "      <th>filetype_.lock</th>\n",
       "      <th>...</th>\n",
       "      <th>title_wordcount_var</th>\n",
       "      <th>title_wordcount_version</th>\n",
       "      <th>title_wordcount_visualization</th>\n",
       "      <th>title_wordcount_visualizations</th>\n",
       "      <th>title_wordcount_waiting</th>\n",
       "      <th>title_wordcount_wip</th>\n",
       "      <th>title_wordcount_workflows</th>\n",
       "      <th>title_wordcount_xtuchyna</th>\n",
       "      <th>title_wordcount_yaml</th>\n",
       "      <th>title_wordcount_⬆️</th>\n",
       "    </tr>\n",
       "  </thead>\n",
       "  <tbody>\n",
       "    <tr>\n",
       "      <th>0</th>\n",
       "      <td>2.0</td>\n",
       "      <td>12.0</td>\n",
       "      <td>10.0</td>\n",
       "      <td>2.0</td>\n",
       "      <td>18.0</td>\n",
       "      <td>2.0</td>\n",
       "      <td>468.0</td>\n",
       "      <td>1.0</td>\n",
       "      <td>1.0</td>\n",
       "      <td>0.0</td>\n",
       "      <td>...</td>\n",
       "      <td>0.0</td>\n",
       "      <td>1.0</td>\n",
       "      <td>0.0</td>\n",
       "      <td>0.0</td>\n",
       "      <td>0.0</td>\n",
       "      <td>0.0</td>\n",
       "      <td>0.0</td>\n",
       "      <td>0.0</td>\n",
       "      <td>0.0</td>\n",
       "      <td>0.0</td>\n",
       "    </tr>\n",
       "    <tr>\n",
       "      <th>1</th>\n",
       "      <td>4.0</td>\n",
       "      <td>12.0</td>\n",
       "      <td>10.0</td>\n",
       "      <td>2.0</td>\n",
       "      <td>18.0</td>\n",
       "      <td>1.0</td>\n",
       "      <td>74.0</td>\n",
       "      <td>1.0</td>\n",
       "      <td>0.0</td>\n",
       "      <td>1.0</td>\n",
       "      <td>...</td>\n",
       "      <td>0.0</td>\n",
       "      <td>0.0</td>\n",
       "      <td>0.0</td>\n",
       "      <td>0.0</td>\n",
       "      <td>0.0</td>\n",
       "      <td>0.0</td>\n",
       "      <td>0.0</td>\n",
       "      <td>0.0</td>\n",
       "      <td>0.0</td>\n",
       "      <td>0.0</td>\n",
       "    </tr>\n",
       "    <tr>\n",
       "      <th>2</th>\n",
       "      <td>3.0</td>\n",
       "      <td>20.0</td>\n",
       "      <td>9.0</td>\n",
       "      <td>1.0</td>\n",
       "      <td>22.0</td>\n",
       "      <td>6.0</td>\n",
       "      <td>124.0</td>\n",
       "      <td>8.0</td>\n",
       "      <td>6.0</td>\n",
       "      <td>0.0</td>\n",
       "      <td>...</td>\n",
       "      <td>0.0</td>\n",
       "      <td>0.0</td>\n",
       "      <td>0.0</td>\n",
       "      <td>0.0</td>\n",
       "      <td>0.0</td>\n",
       "      <td>0.0</td>\n",
       "      <td>0.0</td>\n",
       "      <td>0.0</td>\n",
       "      <td>0.0</td>\n",
       "      <td>0.0</td>\n",
       "    </tr>\n",
       "    <tr>\n",
       "      <th>3</th>\n",
       "      <td>0.0</td>\n",
       "      <td>16.0</td>\n",
       "      <td>9.0</td>\n",
       "      <td>4.0</td>\n",
       "      <td>15.0</td>\n",
       "      <td>1.0</td>\n",
       "      <td>6.0</td>\n",
       "      <td>1.0</td>\n",
       "      <td>0.0</td>\n",
       "      <td>0.0</td>\n",
       "      <td>...</td>\n",
       "      <td>0.0</td>\n",
       "      <td>0.0</td>\n",
       "      <td>0.0</td>\n",
       "      <td>0.0</td>\n",
       "      <td>0.0</td>\n",
       "      <td>0.0</td>\n",
       "      <td>0.0</td>\n",
       "      <td>0.0</td>\n",
       "      <td>0.0</td>\n",
       "      <td>0.0</td>\n",
       "    </tr>\n",
       "    <tr>\n",
       "      <th>4</th>\n",
       "      <td>3.0</td>\n",
       "      <td>16.0</td>\n",
       "      <td>9.0</td>\n",
       "      <td>4.0</td>\n",
       "      <td>15.0</td>\n",
       "      <td>1.0</td>\n",
       "      <td>73.0</td>\n",
       "      <td>1.0</td>\n",
       "      <td>0.0</td>\n",
       "      <td>1.0</td>\n",
       "      <td>...</td>\n",
       "      <td>0.0</td>\n",
       "      <td>0.0</td>\n",
       "      <td>0.0</td>\n",
       "      <td>0.0</td>\n",
       "      <td>0.0</td>\n",
       "      <td>0.0</td>\n",
       "      <td>0.0</td>\n",
       "      <td>0.0</td>\n",
       "      <td>0.0</td>\n",
       "      <td>0.0</td>\n",
       "    </tr>\n",
       "    <tr>\n",
       "      <th>...</th>\n",
       "      <td>...</td>\n",
       "      <td>...</td>\n",
       "      <td>...</td>\n",
       "      <td>...</td>\n",
       "      <td>...</td>\n",
       "      <td>...</td>\n",
       "      <td>...</td>\n",
       "      <td>...</td>\n",
       "      <td>...</td>\n",
       "      <td>...</td>\n",
       "      <td>...</td>\n",
       "      <td>...</td>\n",
       "      <td>...</td>\n",
       "      <td>...</td>\n",
       "      <td>...</td>\n",
       "      <td>...</td>\n",
       "      <td>...</td>\n",
       "      <td>...</td>\n",
       "      <td>...</td>\n",
       "      <td>...</td>\n",
       "      <td>...</td>\n",
       "    </tr>\n",
       "    <tr>\n",
       "      <th>411</th>\n",
       "      <td>3.0</td>\n",
       "      <td>10.0</td>\n",
       "      <td>12.0</td>\n",
       "      <td>1.0</td>\n",
       "      <td>17.0</td>\n",
       "      <td>1.0</td>\n",
       "      <td>83.0</td>\n",
       "      <td>6.0</td>\n",
       "      <td>1.0</td>\n",
       "      <td>0.0</td>\n",
       "      <td>...</td>\n",
       "      <td>0.0</td>\n",
       "      <td>0.0</td>\n",
       "      <td>0.0</td>\n",
       "      <td>0.0</td>\n",
       "      <td>0.0</td>\n",
       "      <td>0.0</td>\n",
       "      <td>0.0</td>\n",
       "      <td>0.0</td>\n",
       "      <td>0.0</td>\n",
       "      <td>0.0</td>\n",
       "    </tr>\n",
       "    <tr>\n",
       "      <th>412</th>\n",
       "      <td>0.0</td>\n",
       "      <td>28.0</td>\n",
       "      <td>11.0</td>\n",
       "      <td>3.0</td>\n",
       "      <td>22.0</td>\n",
       "      <td>1.0</td>\n",
       "      <td>17.0</td>\n",
       "      <td>1.0</td>\n",
       "      <td>0.0</td>\n",
       "      <td>0.0</td>\n",
       "      <td>...</td>\n",
       "      <td>0.0</td>\n",
       "      <td>0.0</td>\n",
       "      <td>0.0</td>\n",
       "      <td>0.0</td>\n",
       "      <td>0.0</td>\n",
       "      <td>0.0</td>\n",
       "      <td>0.0</td>\n",
       "      <td>0.0</td>\n",
       "      <td>0.0</td>\n",
       "      <td>0.0</td>\n",
       "    </tr>\n",
       "    <tr>\n",
       "      <th>413</th>\n",
       "      <td>5.0</td>\n",
       "      <td>22.0</td>\n",
       "      <td>11.0</td>\n",
       "      <td>4.0</td>\n",
       "      <td>16.0</td>\n",
       "      <td>5.0</td>\n",
       "      <td>77.0</td>\n",
       "      <td>17.0</td>\n",
       "      <td>4.0</td>\n",
       "      <td>0.0</td>\n",
       "      <td>...</td>\n",
       "      <td>0.0</td>\n",
       "      <td>0.0</td>\n",
       "      <td>0.0</td>\n",
       "      <td>0.0</td>\n",
       "      <td>0.0</td>\n",
       "      <td>0.0</td>\n",
       "      <td>0.0</td>\n",
       "      <td>0.0</td>\n",
       "      <td>0.0</td>\n",
       "      <td>0.0</td>\n",
       "    </tr>\n",
       "    <tr>\n",
       "      <th>414</th>\n",
       "      <td>0.0</td>\n",
       "      <td>21.0</td>\n",
       "      <td>11.0</td>\n",
       "      <td>3.0</td>\n",
       "      <td>17.0</td>\n",
       "      <td>1.0</td>\n",
       "      <td>61.0</td>\n",
       "      <td>1.0</td>\n",
       "      <td>1.0</td>\n",
       "      <td>0.0</td>\n",
       "      <td>...</td>\n",
       "      <td>0.0</td>\n",
       "      <td>0.0</td>\n",
       "      <td>0.0</td>\n",
       "      <td>0.0</td>\n",
       "      <td>0.0</td>\n",
       "      <td>0.0</td>\n",
       "      <td>0.0</td>\n",
       "      <td>0.0</td>\n",
       "      <td>0.0</td>\n",
       "      <td>0.0</td>\n",
       "    </tr>\n",
       "    <tr>\n",
       "      <th>415</th>\n",
       "      <td>5.0</td>\n",
       "      <td>25.0</td>\n",
       "      <td>10.0</td>\n",
       "      <td>4.0</td>\n",
       "      <td>10.0</td>\n",
       "      <td>5.0</td>\n",
       "      <td>40.0</td>\n",
       "      <td>1.0</td>\n",
       "      <td>2.0</td>\n",
       "      <td>1.0</td>\n",
       "      <td>...</td>\n",
       "      <td>0.0</td>\n",
       "      <td>0.0</td>\n",
       "      <td>0.0</td>\n",
       "      <td>0.0</td>\n",
       "      <td>0.0</td>\n",
       "      <td>0.0</td>\n",
       "      <td>0.0</td>\n",
       "      <td>0.0</td>\n",
       "      <td>0.0</td>\n",
       "      <td>0.0</td>\n",
       "    </tr>\n",
       "  </tbody>\n",
       "</table>\n",
       "<p>416 rows × 222 columns</p>\n",
       "</div>"
      ],
      "text/plain": [
       "     size  created_at_day  created_at_month  created_at_weekday  \\\n",
       "0     2.0            12.0              10.0                 2.0   \n",
       "1     4.0            12.0              10.0                 2.0   \n",
       "2     3.0            20.0               9.0                 1.0   \n",
       "3     0.0            16.0               9.0                 4.0   \n",
       "4     3.0            16.0               9.0                 4.0   \n",
       "..    ...             ...               ...                 ...   \n",
       "411   3.0            10.0              12.0                 1.0   \n",
       "412   0.0            28.0              11.0                 3.0   \n",
       "413   5.0            22.0              11.0                 4.0   \n",
       "414   0.0            21.0              11.0                 3.0   \n",
       "415   5.0            25.0              10.0                 4.0   \n",
       "\n",
       "     created_at_hour  changed_files_number  body_size  commits_number  \\\n",
       "0               18.0                   2.0      468.0             1.0   \n",
       "1               18.0                   1.0       74.0             1.0   \n",
       "2               22.0                   6.0      124.0             8.0   \n",
       "3               15.0                   1.0        6.0             1.0   \n",
       "4               15.0                   1.0       73.0             1.0   \n",
       "..               ...                   ...        ...             ...   \n",
       "411             17.0                   1.0       83.0             6.0   \n",
       "412             22.0                   1.0       17.0             1.0   \n",
       "413             16.0                   5.0       77.0            17.0   \n",
       "414             17.0                   1.0       61.0             1.0   \n",
       "415             10.0                   5.0       40.0             1.0   \n",
       "\n",
       "     filetype_.py  filetype_.lock  ...  title_wordcount_var  \\\n",
       "0             1.0             0.0  ...                  0.0   \n",
       "1             0.0             1.0  ...                  0.0   \n",
       "2             6.0             0.0  ...                  0.0   \n",
       "3             0.0             0.0  ...                  0.0   \n",
       "4             0.0             1.0  ...                  0.0   \n",
       "..            ...             ...  ...                  ...   \n",
       "411           1.0             0.0  ...                  0.0   \n",
       "412           0.0             0.0  ...                  0.0   \n",
       "413           4.0             0.0  ...                  0.0   \n",
       "414           1.0             0.0  ...                  0.0   \n",
       "415           2.0             1.0  ...                  0.0   \n",
       "\n",
       "     title_wordcount_version  title_wordcount_visualization  \\\n",
       "0                        1.0                            0.0   \n",
       "1                        0.0                            0.0   \n",
       "2                        0.0                            0.0   \n",
       "3                        0.0                            0.0   \n",
       "4                        0.0                            0.0   \n",
       "..                       ...                            ...   \n",
       "411                      0.0                            0.0   \n",
       "412                      0.0                            0.0   \n",
       "413                      0.0                            0.0   \n",
       "414                      0.0                            0.0   \n",
       "415                      0.0                            0.0   \n",
       "\n",
       "     title_wordcount_visualizations  title_wordcount_waiting  \\\n",
       "0                               0.0                      0.0   \n",
       "1                               0.0                      0.0   \n",
       "2                               0.0                      0.0   \n",
       "3                               0.0                      0.0   \n",
       "4                               0.0                      0.0   \n",
       "..                              ...                      ...   \n",
       "411                             0.0                      0.0   \n",
       "412                             0.0                      0.0   \n",
       "413                             0.0                      0.0   \n",
       "414                             0.0                      0.0   \n",
       "415                             0.0                      0.0   \n",
       "\n",
       "     title_wordcount_wip  title_wordcount_workflows  title_wordcount_xtuchyna  \\\n",
       "0                    0.0                        0.0                       0.0   \n",
       "1                    0.0                        0.0                       0.0   \n",
       "2                    0.0                        0.0                       0.0   \n",
       "3                    0.0                        0.0                       0.0   \n",
       "4                    0.0                        0.0                       0.0   \n",
       "..                   ...                        ...                       ...   \n",
       "411                  0.0                        0.0                       0.0   \n",
       "412                  0.0                        0.0                       0.0   \n",
       "413                  0.0                        0.0                       0.0   \n",
       "414                  0.0                        0.0                       0.0   \n",
       "415                  0.0                        0.0                       0.0   \n",
       "\n",
       "     title_wordcount_yaml  title_wordcount_⬆️  \n",
       "0                     0.0                 0.0  \n",
       "1                     0.0                 0.0  \n",
       "2                     0.0                 0.0  \n",
       "3                     0.0                 0.0  \n",
       "4                     0.0                 0.0  \n",
       "..                    ...                 ...  \n",
       "411                   0.0                 0.0  \n",
       "412                   0.0                 0.0  \n",
       "413                   0.0                 0.0  \n",
       "414                   0.0                 0.0  \n",
       "415                   0.0                 0.0  \n",
       "\n",
       "[416 rows x 222 columns]"
      ]
     },
     "execution_count": 22,
     "metadata": {},
     "output_type": "execute_result"
    }
   ],
   "source": [
    "X"
   ]
  },
  {
   "cell_type": "markdown",
   "id": "756725bc-85c4-45b0-8f24-08cba0f57113",
   "metadata": {},
   "source": [
    "## Drop NA + Train/Test Split"
   ]
  },
  {
   "cell_type": "code",
   "execution_count": 23,
   "id": "da703bc5-696f-4f63-b471-018c18557ac6",
   "metadata": {
    "execution": {
     "iopub.execute_input": "2022-11-04T09:52:50.989728Z",
     "iopub.status.busy": "2022-11-04T09:52:50.989018Z",
     "iopub.status.idle": "2022-11-04T09:52:50.994451Z",
     "shell.execute_reply": "2022-11-04T09:52:50.993466Z"
    }
   },
   "outputs": [],
   "source": [
    "# drop entries for which labels are unknown\n",
    "# also make sure labels and features are consistent\n",
    "X = X.reindex(y.index)"
   ]
  },
  {
   "cell_type": "code",
   "execution_count": 24,
   "id": "86235437",
   "metadata": {
    "execution": {
     "iopub.execute_input": "2022-11-04T09:52:50.998909Z",
     "iopub.status.busy": "2022-11-04T09:52:50.997879Z",
     "iopub.status.idle": "2022-11-04T09:52:51.005476Z",
     "shell.execute_reply": "2022-11-04T09:52:51.004568Z"
    }
   },
   "outputs": [],
   "source": [
    "# split into train and test sets\n",
    "X_train, X_test, y_train, y_test = train_test_split(\n",
    "    X, y, test_size=0.2, random_state=42\n",
    ")"
   ]
  },
  {
   "cell_type": "code",
   "execution_count": 25,
   "id": "82ac1a13-b294-4414-906b-271e72ac091f",
   "metadata": {
    "execution": {
     "iopub.execute_input": "2022-11-04T09:52:51.009065Z",
     "iopub.status.busy": "2022-11-04T09:52:51.008612Z",
     "iopub.status.idle": "2022-11-04T09:52:51.048139Z",
     "shell.execute_reply": "2022-11-04T09:52:51.046947Z"
    }
   },
   "outputs": [
    {
     "data": {
      "text/html": [
       "<div>\n",
       "<style scoped>\n",
       "    .dataframe tbody tr th:only-of-type {\n",
       "        vertical-align: middle;\n",
       "    }\n",
       "\n",
       "    .dataframe tbody tr th {\n",
       "        vertical-align: top;\n",
       "    }\n",
       "\n",
       "    .dataframe thead th {\n",
       "        text-align: right;\n",
       "    }\n",
       "</style>\n",
       "<table border=\"1\" class=\"dataframe\">\n",
       "  <thead>\n",
       "    <tr style=\"text-align: right;\">\n",
       "      <th></th>\n",
       "      <th>size</th>\n",
       "      <th>created_at_day</th>\n",
       "      <th>created_at_month</th>\n",
       "      <th>created_at_weekday</th>\n",
       "      <th>created_at_hour</th>\n",
       "      <th>changed_files_number</th>\n",
       "      <th>body_size</th>\n",
       "      <th>commits_number</th>\n",
       "      <th>filetype_.py</th>\n",
       "      <th>filetype_.lock</th>\n",
       "      <th>...</th>\n",
       "      <th>title_wordcount_var</th>\n",
       "      <th>title_wordcount_version</th>\n",
       "      <th>title_wordcount_visualization</th>\n",
       "      <th>title_wordcount_visualizations</th>\n",
       "      <th>title_wordcount_waiting</th>\n",
       "      <th>title_wordcount_wip</th>\n",
       "      <th>title_wordcount_workflows</th>\n",
       "      <th>title_wordcount_xtuchyna</th>\n",
       "      <th>title_wordcount_yaml</th>\n",
       "      <th>title_wordcount_⬆️</th>\n",
       "    </tr>\n",
       "  </thead>\n",
       "  <tbody>\n",
       "    <tr>\n",
       "      <th>288</th>\n",
       "      <td>2.0</td>\n",
       "      <td>21.0</td>\n",
       "      <td>6.0</td>\n",
       "      <td>6.0</td>\n",
       "      <td>21.0</td>\n",
       "      <td>1.0</td>\n",
       "      <td>14.0</td>\n",
       "      <td>1.0</td>\n",
       "      <td>0.0</td>\n",
       "      <td>1.0</td>\n",
       "      <td>...</td>\n",
       "      <td>0.0</td>\n",
       "      <td>0.0</td>\n",
       "      <td>0.0</td>\n",
       "      <td>0.0</td>\n",
       "      <td>0.0</td>\n",
       "      <td>0.0</td>\n",
       "      <td>0.0</td>\n",
       "      <td>0.0</td>\n",
       "      <td>0.0</td>\n",
       "      <td>0.0</td>\n",
       "    </tr>\n",
       "    <tr>\n",
       "      <th>269</th>\n",
       "      <td>3.0</td>\n",
       "      <td>21.0</td>\n",
       "      <td>8.0</td>\n",
       "      <td>4.0</td>\n",
       "      <td>10.0</td>\n",
       "      <td>1.0</td>\n",
       "      <td>14.0</td>\n",
       "      <td>1.0</td>\n",
       "      <td>0.0</td>\n",
       "      <td>1.0</td>\n",
       "      <td>...</td>\n",
       "      <td>0.0</td>\n",
       "      <td>0.0</td>\n",
       "      <td>0.0</td>\n",
       "      <td>0.0</td>\n",
       "      <td>0.0</td>\n",
       "      <td>0.0</td>\n",
       "      <td>0.0</td>\n",
       "      <td>0.0</td>\n",
       "      <td>0.0</td>\n",
       "      <td>0.0</td>\n",
       "    </tr>\n",
       "    <tr>\n",
       "      <th>379</th>\n",
       "      <td>3.0</td>\n",
       "      <td>10.0</td>\n",
       "      <td>2.0</td>\n",
       "      <td>0.0</td>\n",
       "      <td>20.0</td>\n",
       "      <td>1.0</td>\n",
       "      <td>14.0</td>\n",
       "      <td>1.0</td>\n",
       "      <td>0.0</td>\n",
       "      <td>1.0</td>\n",
       "      <td>...</td>\n",
       "      <td>0.0</td>\n",
       "      <td>0.0</td>\n",
       "      <td>0.0</td>\n",
       "      <td>0.0</td>\n",
       "      <td>0.0</td>\n",
       "      <td>0.0</td>\n",
       "      <td>0.0</td>\n",
       "      <td>0.0</td>\n",
       "      <td>0.0</td>\n",
       "      <td>0.0</td>\n",
       "    </tr>\n",
       "    <tr>\n",
       "      <th>355</th>\n",
       "      <td>3.0</td>\n",
       "      <td>25.0</td>\n",
       "      <td>3.0</td>\n",
       "      <td>2.0</td>\n",
       "      <td>23.0</td>\n",
       "      <td>1.0</td>\n",
       "      <td>14.0</td>\n",
       "      <td>1.0</td>\n",
       "      <td>0.0</td>\n",
       "      <td>1.0</td>\n",
       "      <td>...</td>\n",
       "      <td>0.0</td>\n",
       "      <td>0.0</td>\n",
       "      <td>0.0</td>\n",
       "      <td>0.0</td>\n",
       "      <td>0.0</td>\n",
       "      <td>0.0</td>\n",
       "      <td>0.0</td>\n",
       "      <td>0.0</td>\n",
       "      <td>0.0</td>\n",
       "      <td>0.0</td>\n",
       "    </tr>\n",
       "    <tr>\n",
       "      <th>60</th>\n",
       "      <td>4.0</td>\n",
       "      <td>28.0</td>\n",
       "      <td>1.0</td>\n",
       "      <td>4.0</td>\n",
       "      <td>13.0</td>\n",
       "      <td>2.0</td>\n",
       "      <td>2555.0</td>\n",
       "      <td>1.0</td>\n",
       "      <td>1.0</td>\n",
       "      <td>0.0</td>\n",
       "      <td>...</td>\n",
       "      <td>0.0</td>\n",
       "      <td>1.0</td>\n",
       "      <td>0.0</td>\n",
       "      <td>0.0</td>\n",
       "      <td>0.0</td>\n",
       "      <td>0.0</td>\n",
       "      <td>0.0</td>\n",
       "      <td>0.0</td>\n",
       "      <td>0.0</td>\n",
       "      <td>0.0</td>\n",
       "    </tr>\n",
       "    <tr>\n",
       "      <th>...</th>\n",
       "      <td>...</td>\n",
       "      <td>...</td>\n",
       "      <td>...</td>\n",
       "      <td>...</td>\n",
       "      <td>...</td>\n",
       "      <td>...</td>\n",
       "      <td>...</td>\n",
       "      <td>...</td>\n",
       "      <td>...</td>\n",
       "      <td>...</td>\n",
       "      <td>...</td>\n",
       "      <td>...</td>\n",
       "      <td>...</td>\n",
       "      <td>...</td>\n",
       "      <td>...</td>\n",
       "      <td>...</td>\n",
       "      <td>...</td>\n",
       "      <td>...</td>\n",
       "      <td>...</td>\n",
       "      <td>...</td>\n",
       "      <td>...</td>\n",
       "    </tr>\n",
       "    <tr>\n",
       "      <th>114</th>\n",
       "      <td>3.0</td>\n",
       "      <td>23.0</td>\n",
       "      <td>6.0</td>\n",
       "      <td>2.0</td>\n",
       "      <td>10.0</td>\n",
       "      <td>1.0</td>\n",
       "      <td>59.0</td>\n",
       "      <td>1.0</td>\n",
       "      <td>0.0</td>\n",
       "      <td>1.0</td>\n",
       "      <td>...</td>\n",
       "      <td>0.0</td>\n",
       "      <td>0.0</td>\n",
       "      <td>0.0</td>\n",
       "      <td>0.0</td>\n",
       "      <td>0.0</td>\n",
       "      <td>0.0</td>\n",
       "      <td>0.0</td>\n",
       "      <td>0.0</td>\n",
       "      <td>0.0</td>\n",
       "      <td>0.0</td>\n",
       "    </tr>\n",
       "    <tr>\n",
       "      <th>181</th>\n",
       "      <td>1.0</td>\n",
       "      <td>4.0</td>\n",
       "      <td>12.0</td>\n",
       "      <td>4.0</td>\n",
       "      <td>10.0</td>\n",
       "      <td>1.0</td>\n",
       "      <td>35.0</td>\n",
       "      <td>1.0</td>\n",
       "      <td>1.0</td>\n",
       "      <td>0.0</td>\n",
       "      <td>...</td>\n",
       "      <td>0.0</td>\n",
       "      <td>0.0</td>\n",
       "      <td>0.0</td>\n",
       "      <td>0.0</td>\n",
       "      <td>0.0</td>\n",
       "      <td>0.0</td>\n",
       "      <td>0.0</td>\n",
       "      <td>0.0</td>\n",
       "      <td>0.0</td>\n",
       "      <td>0.0</td>\n",
       "    </tr>\n",
       "    <tr>\n",
       "      <th>69</th>\n",
       "      <td>1.0</td>\n",
       "      <td>19.0</td>\n",
       "      <td>11.0</td>\n",
       "      <td>4.0</td>\n",
       "      <td>3.0</td>\n",
       "      <td>2.0</td>\n",
       "      <td>76.0</td>\n",
       "      <td>1.0</td>\n",
       "      <td>1.0</td>\n",
       "      <td>0.0</td>\n",
       "      <td>...</td>\n",
       "      <td>0.0</td>\n",
       "      <td>1.0</td>\n",
       "      <td>0.0</td>\n",
       "      <td>0.0</td>\n",
       "      <td>0.0</td>\n",
       "      <td>0.0</td>\n",
       "      <td>0.0</td>\n",
       "      <td>0.0</td>\n",
       "      <td>0.0</td>\n",
       "      <td>0.0</td>\n",
       "    </tr>\n",
       "    <tr>\n",
       "      <th>252</th>\n",
       "      <td>0.0</td>\n",
       "      <td>24.0</td>\n",
       "      <td>9.0</td>\n",
       "      <td>3.0</td>\n",
       "      <td>12.0</td>\n",
       "      <td>1.0</td>\n",
       "      <td>14.0</td>\n",
       "      <td>1.0</td>\n",
       "      <td>0.0</td>\n",
       "      <td>1.0</td>\n",
       "      <td>...</td>\n",
       "      <td>0.0</td>\n",
       "      <td>0.0</td>\n",
       "      <td>0.0</td>\n",
       "      <td>0.0</td>\n",
       "      <td>0.0</td>\n",
       "      <td>0.0</td>\n",
       "      <td>0.0</td>\n",
       "      <td>0.0</td>\n",
       "      <td>0.0</td>\n",
       "      <td>0.0</td>\n",
       "    </tr>\n",
       "    <tr>\n",
       "      <th>93</th>\n",
       "      <td>1.0</td>\n",
       "      <td>11.0</td>\n",
       "      <td>10.0</td>\n",
       "      <td>0.0</td>\n",
       "      <td>15.0</td>\n",
       "      <td>2.0</td>\n",
       "      <td>105.0</td>\n",
       "      <td>1.0</td>\n",
       "      <td>1.0</td>\n",
       "      <td>0.0</td>\n",
       "      <td>...</td>\n",
       "      <td>0.0</td>\n",
       "      <td>1.0</td>\n",
       "      <td>0.0</td>\n",
       "      <td>0.0</td>\n",
       "      <td>0.0</td>\n",
       "      <td>0.0</td>\n",
       "      <td>0.0</td>\n",
       "      <td>0.0</td>\n",
       "      <td>0.0</td>\n",
       "      <td>0.0</td>\n",
       "    </tr>\n",
       "  </tbody>\n",
       "</table>\n",
       "<p>77 rows × 222 columns</p>\n",
       "</div>"
      ],
      "text/plain": [
       "     size  created_at_day  created_at_month  created_at_weekday  \\\n",
       "288   2.0            21.0               6.0                 6.0   \n",
       "269   3.0            21.0               8.0                 4.0   \n",
       "379   3.0            10.0               2.0                 0.0   \n",
       "355   3.0            25.0               3.0                 2.0   \n",
       "60    4.0            28.0               1.0                 4.0   \n",
       "..    ...             ...               ...                 ...   \n",
       "114   3.0            23.0               6.0                 2.0   \n",
       "181   1.0             4.0              12.0                 4.0   \n",
       "69    1.0            19.0              11.0                 4.0   \n",
       "252   0.0            24.0               9.0                 3.0   \n",
       "93    1.0            11.0              10.0                 0.0   \n",
       "\n",
       "     created_at_hour  changed_files_number  body_size  commits_number  \\\n",
       "288             21.0                   1.0       14.0             1.0   \n",
       "269             10.0                   1.0       14.0             1.0   \n",
       "379             20.0                   1.0       14.0             1.0   \n",
       "355             23.0                   1.0       14.0             1.0   \n",
       "60              13.0                   2.0     2555.0             1.0   \n",
       "..               ...                   ...        ...             ...   \n",
       "114             10.0                   1.0       59.0             1.0   \n",
       "181             10.0                   1.0       35.0             1.0   \n",
       "69               3.0                   2.0       76.0             1.0   \n",
       "252             12.0                   1.0       14.0             1.0   \n",
       "93              15.0                   2.0      105.0             1.0   \n",
       "\n",
       "     filetype_.py  filetype_.lock  ...  title_wordcount_var  \\\n",
       "288           0.0             1.0  ...                  0.0   \n",
       "269           0.0             1.0  ...                  0.0   \n",
       "379           0.0             1.0  ...                  0.0   \n",
       "355           0.0             1.0  ...                  0.0   \n",
       "60            1.0             0.0  ...                  0.0   \n",
       "..            ...             ...  ...                  ...   \n",
       "114           0.0             1.0  ...                  0.0   \n",
       "181           1.0             0.0  ...                  0.0   \n",
       "69            1.0             0.0  ...                  0.0   \n",
       "252           0.0             1.0  ...                  0.0   \n",
       "93            1.0             0.0  ...                  0.0   \n",
       "\n",
       "     title_wordcount_version  title_wordcount_visualization  \\\n",
       "288                      0.0                            0.0   \n",
       "269                      0.0                            0.0   \n",
       "379                      0.0                            0.0   \n",
       "355                      0.0                            0.0   \n",
       "60                       1.0                            0.0   \n",
       "..                       ...                            ...   \n",
       "114                      0.0                            0.0   \n",
       "181                      0.0                            0.0   \n",
       "69                       1.0                            0.0   \n",
       "252                      0.0                            0.0   \n",
       "93                       1.0                            0.0   \n",
       "\n",
       "     title_wordcount_visualizations  title_wordcount_waiting  \\\n",
       "288                             0.0                      0.0   \n",
       "269                             0.0                      0.0   \n",
       "379                             0.0                      0.0   \n",
       "355                             0.0                      0.0   \n",
       "60                              0.0                      0.0   \n",
       "..                              ...                      ...   \n",
       "114                             0.0                      0.0   \n",
       "181                             0.0                      0.0   \n",
       "69                              0.0                      0.0   \n",
       "252                             0.0                      0.0   \n",
       "93                              0.0                      0.0   \n",
       "\n",
       "     title_wordcount_wip  title_wordcount_workflows  title_wordcount_xtuchyna  \\\n",
       "288                  0.0                        0.0                       0.0   \n",
       "269                  0.0                        0.0                       0.0   \n",
       "379                  0.0                        0.0                       0.0   \n",
       "355                  0.0                        0.0                       0.0   \n",
       "60                   0.0                        0.0                       0.0   \n",
       "..                   ...                        ...                       ...   \n",
       "114                  0.0                        0.0                       0.0   \n",
       "181                  0.0                        0.0                       0.0   \n",
       "69                   0.0                        0.0                       0.0   \n",
       "252                  0.0                        0.0                       0.0   \n",
       "93                   0.0                        0.0                       0.0   \n",
       "\n",
       "     title_wordcount_yaml  title_wordcount_⬆️  \n",
       "288                   0.0                 0.0  \n",
       "269                   0.0                 0.0  \n",
       "379                   0.0                 0.0  \n",
       "355                   0.0                 0.0  \n",
       "60                    0.0                 0.0  \n",
       "..                    ...                 ...  \n",
       "114                   0.0                 0.0  \n",
       "181                   0.0                 0.0  \n",
       "69                    0.0                 0.0  \n",
       "252                   0.0                 0.0  \n",
       "93                    0.0                 0.0  \n",
       "\n",
       "[77 rows x 222 columns]"
      ]
     },
     "execution_count": 25,
     "metadata": {},
     "output_type": "execute_result"
    }
   ],
   "source": [
    "X_test"
   ]
  },
  {
   "cell_type": "code",
   "execution_count": 26,
   "id": "fbbbd016",
   "metadata": {
    "execution": {
     "iopub.execute_input": "2022-11-04T09:52:51.052541Z",
     "iopub.status.busy": "2022-11-04T09:52:51.051507Z",
     "iopub.status.idle": "2022-11-04T09:52:51.744624Z",
     "shell.execute_reply": "2022-11-04T09:52:51.743562Z"
    }
   },
   "outputs": [
    {
     "name": "stdout",
     "output_type": "stream",
     "text": [
      "200\n",
      "200\n"
     ]
    }
   ],
   "source": [
    "TEST_DATA_PATH = os.path.join(s3_input_data_path, ORG, REPO, \"test-data\")\n",
    "\n",
    "# upload X_test and y_test to S3 bucket for testing / running sanity check on the model inference service\n",
    "cc = CephCommunication(s3_endpoint_url, s3_access_key, s3_secret_key, s3_bucket)\n",
    "\n",
    "ret = cc.upload_to_ceph(X_test, TEST_DATA_PATH, \"X_test.parquet\")\n",
    "print(ret[\"ResponseMetadata\"][\"HTTPStatusCode\"])\n",
    "\n",
    "ret = cc.upload_to_ceph(y_test.to_frame(\"ttm_class\"), TEST_DATA_PATH, \"y_test.parquet\")\n",
    "print(ret[\"ResponseMetadata\"][\"HTTPStatusCode\"])"
   ]
  },
  {
   "cell_type": "code",
   "execution_count": 27,
   "id": "4ee74938",
   "metadata": {
    "execution": {
     "iopub.execute_input": "2022-11-04T09:52:51.749207Z",
     "iopub.status.busy": "2022-11-04T09:52:51.748915Z",
     "iopub.status.idle": "2022-11-04T09:52:51.755031Z",
     "shell.execute_reply": "2022-11-04T09:52:51.754063Z"
    }
   },
   "outputs": [],
   "source": [
    "# convert from pandas series to lists to avoid warnings during training\n",
    "y_train = y_train.to_list()\n",
    "y_test = y_test.to_list()"
   ]
  },
  {
   "cell_type": "markdown",
   "id": "98107599",
   "metadata": {},
   "source": [
    "## Scale data"
   ]
  },
  {
   "cell_type": "code",
   "execution_count": 28,
   "id": "47bb3149",
   "metadata": {
    "execution": {
     "iopub.execute_input": "2022-11-04T09:52:51.758893Z",
     "iopub.status.busy": "2022-11-04T09:52:51.758479Z",
     "iopub.status.idle": "2022-11-04T09:52:52.502418Z",
     "shell.execute_reply": "2022-11-04T09:52:52.501444Z"
    }
   },
   "outputs": [],
   "source": [
    "# lets apply a yeo johnson transform to try to make the data more gaussian\n",
    "scaler = PowerTransformer()\n",
    "\n",
    "X_train_scaled = scaler.fit_transform(X_train)\n",
    "X_test_scaled = scaler.transform(X_test)"
   ]
  },
  {
   "cell_type": "markdown",
   "id": "4d0dd02f",
   "metadata": {},
   "source": [
    "## Define Training and Evaluation Pipeline"
   ]
  },
  {
   "cell_type": "markdown",
   "id": "e7ab12e4",
   "metadata": {},
   "source": [
    "Here, we will define a function to train a given classifier on the training set and then evaluate it on the test set. "
   ]
  },
  {
   "cell_type": "code",
   "execution_count": 29,
   "id": "2cacd2c8",
   "metadata": {
    "execution": {
     "iopub.execute_input": "2022-11-04T09:52:52.506713Z",
     "iopub.status.busy": "2022-11-04T09:52:52.506398Z",
     "iopub.status.idle": "2022-11-04T09:52:52.516707Z",
     "shell.execute_reply": "2022-11-04T09:52:52.515679Z"
    }
   },
   "outputs": [],
   "source": [
    "dict_accuracy = {}\n",
    "def train_evaluate_classifier(clf, xtrain, ytrain, xtest, ytest):\n",
    "    # Train our classifier\n",
    "    clf.fit(xtrain, ytrain)\n",
    "\n",
    "    # Make predictions\n",
    "    preds = clf.predict(xtest)\n",
    "\n",
    "    # View classification report\n",
    "    report = (classification_report(ytest, preds, output_dict=True))\n",
    "#     exec(\"Accuracy\" + str(clf)+ \"= 'report[accuracy]'\")\n",
    "    accuracy = report['accuracy']\n",
    "    print(\"Accuracy :\", accuracy)\n",
    "    dict_accuracy[str(type(clf)).split(\".\")[-1][:-2]] = accuracy\n",
    "\n",
    "    # Plot confusion matrix heatmap\n",
    "    plt.figure(figsize=(16, 12))\n",
    "    cf_matrix = confusion_matrix(ytest, preds)\n",
    "    group_counts = [\"{0:0.0f}\\n\".format(value) for value in cf_matrix.flatten()]\n",
    "    group_percentages = [\n",
    "        \"{0:.2%}\".format(value) for value in cf_matrix.flatten() / np.sum(cf_matrix)\n",
    "    ]\n",
    "    box_labels = [\n",
    "        f\"{v1}{v2}\".strip() for v1, v2 in zip(group_counts, group_percentages)\n",
    "    ]\n",
    "    box_labels = np.asarray(box_labels).reshape(cf_matrix.shape[0], cf_matrix.shape[1])\n",
    "\n",
    "    sns.heatmap(cf_matrix, cmap=\"OrRd\", annot=box_labels, fmt=\"\")\n",
    "    plt.xlabel(\"Predicted TTM Label\")\n",
    "    plt.ylabel(\"True TTM Label\")\n",
    "    plt.title(\"Confusion Matrix Heatmap\")"
   ]
  },
  {
   "cell_type": "markdown",
   "id": "8add6423",
   "metadata": {},
   "source": [
    "## Define Models and Parameters\n",
    "\n",
    "Next, we will define and initialize the classifiers that we will be exploring for the time-to-merge prediction task."
   ]
  },
  {
   "cell_type": "markdown",
   "id": "55c72681",
   "metadata": {},
   "source": [
    "### Gaussian Naive Bayes"
   ]
  },
  {
   "cell_type": "code",
   "execution_count": 30,
   "id": "e6d48ea1",
   "metadata": {
    "execution": {
     "iopub.execute_input": "2022-11-04T09:52:52.520741Z",
     "iopub.status.busy": "2022-11-04T09:52:52.520406Z",
     "iopub.status.idle": "2022-11-04T09:52:52.524255Z",
     "shell.execute_reply": "2022-11-04T09:52:52.523258Z"
    }
   },
   "outputs": [],
   "source": [
    "# Initialize classifier\n",
    "gnb = GaussianNB()"
   ]
  },
  {
   "cell_type": "markdown",
   "id": "804ae1e0",
   "metadata": {},
   "source": [
    "### SVM"
   ]
  },
  {
   "cell_type": "code",
   "execution_count": 31,
   "id": "6c4bfaa2",
   "metadata": {
    "execution": {
     "iopub.execute_input": "2022-11-04T09:52:52.528274Z",
     "iopub.status.busy": "2022-11-04T09:52:52.527990Z",
     "iopub.status.idle": "2022-11-04T09:52:52.531718Z",
     "shell.execute_reply": "2022-11-04T09:52:52.530796Z"
    }
   },
   "outputs": [],
   "source": [
    "# Initialize classifier\n",
    "svc = SVC(random_state=42)"
   ]
  },
  {
   "cell_type": "markdown",
   "id": "ed3b3017",
   "metadata": {},
   "source": [
    "### Random Forest"
   ]
  },
  {
   "cell_type": "code",
   "execution_count": 32,
   "id": "1e623025",
   "metadata": {
    "execution": {
     "iopub.execute_input": "2022-11-04T09:52:52.535551Z",
     "iopub.status.busy": "2022-11-04T09:52:52.535261Z",
     "iopub.status.idle": "2022-11-04T09:52:52.539384Z",
     "shell.execute_reply": "2022-11-04T09:52:52.538449Z"
    }
   },
   "outputs": [],
   "source": [
    "# Initialize classifier\n",
    "rf = RandomForestClassifier(\n",
    "    n_estimators=200,\n",
    "    max_features=0.75,\n",
    "    random_state=42,\n",
    "    n_jobs=-1,\n",
    ")"
   ]
  },
  {
   "cell_type": "markdown",
   "id": "7687a4e0",
   "metadata": {},
   "source": [
    "### XGBoost"
   ]
  },
  {
   "cell_type": "code",
   "execution_count": 33,
   "id": "d8eb71ce",
   "metadata": {
    "execution": {
     "iopub.execute_input": "2022-11-04T09:52:52.544010Z",
     "iopub.status.busy": "2022-11-04T09:52:52.543718Z",
     "iopub.status.idle": "2022-11-04T09:52:52.547728Z",
     "shell.execute_reply": "2022-11-04T09:52:52.546798Z"
    },
    "tags": []
   },
   "outputs": [],
   "source": [
    "# Initialize classifier\n",
    "xgbc = XGBClassifier(\n",
    "    n_estimators=125,\n",
    "    learning_rate=0.1,\n",
    "    random_state=42,\n",
    "    verbosity=1,\n",
    "    n_jobs=-1,\n",
    ")"
   ]
  },
  {
   "cell_type": "markdown",
   "id": "b57aa765",
   "metadata": {},
   "source": [
    "## Compare Model Results\n",
    "\n",
    "Finally, we will run the train all of the classifiers defined above and evaluate their performance. "
   ]
  },
  {
   "cell_type": "markdown",
   "id": "216dd1b2",
   "metadata": {},
   "source": [
    "### Train using all features\n",
    "\n",
    "First, lets train the classifiers using all the engineered features as input."
   ]
  },
  {
   "cell_type": "code",
   "execution_count": 34,
   "id": "e72772aa",
   "metadata": {
    "execution": {
     "iopub.execute_input": "2022-11-04T09:52:52.551567Z",
     "iopub.status.busy": "2022-11-04T09:52:52.551276Z",
     "iopub.status.idle": "2022-11-04T09:52:53.258390Z",
     "shell.execute_reply": "2022-11-04T09:52:53.257380Z"
    }
   },
   "outputs": [
    {
     "name": "stdout",
     "output_type": "stream",
     "text": [
      "Accuracy : 0.19480519480519481\n"
     ]
    },
    {
     "data": {
      "image/png": "[encoded data removed]",
      "text/plain": [
       "<Figure size 1152x864 with 2 Axes>"
      ]
     },
     "metadata": {
      "needs_background": "light"
     },
     "output_type": "display_data"
    }
   ],
   "source": [
    "train_evaluate_classifier(gnb, X_train_scaled, y_train, X_test_scaled, y_test)"
   ]
  },
  {
   "cell_type": "code",
   "execution_count": 35,
   "id": "c3f8cc61",
   "metadata": {
    "execution": {
     "iopub.execute_input": "2022-11-04T09:52:53.262445Z",
     "iopub.status.busy": "2022-11-04T09:52:53.261971Z",
     "iopub.status.idle": "2022-11-04T09:52:53.961613Z",
     "shell.execute_reply": "2022-11-04T09:52:53.960577Z"
    }
   },
   "outputs": [
    {
     "name": "stdout",
     "output_type": "stream",
     "text": [
      "Accuracy : 0.2987012987012987\n"
     ]
    },
    {
     "data": {
      "image/png": "[encoded data removed]",
      "text/plain": [
       "<Figure size 1152x864 with 2 Axes>"
      ]
     },
     "metadata": {
      "needs_background": "light"
     },
     "output_type": "display_data"
    }
   ],
   "source": [
    "train_evaluate_classifier(svc, X_train_scaled, y_train, X_test_scaled, y_test)"
   ]
  },
  {
   "cell_type": "code",
   "execution_count": 36,
   "id": "8b961727",
   "metadata": {
    "execution": {
     "iopub.execute_input": "2022-11-04T09:52:53.965474Z",
     "iopub.status.busy": "2022-11-04T09:52:53.965206Z",
     "iopub.status.idle": "2022-11-04T09:52:55.268534Z",
     "shell.execute_reply": "2022-11-04T09:52:55.267548Z"
    }
   },
   "outputs": [
    {
     "name": "stdout",
     "output_type": "stream",
     "text": [
      "Accuracy : 0.37662337662337664\n"
     ]
    },
    {
     "data": {
      "image/png": "[encoded data removed]",
      "text/plain": [
       "<Figure size 1152x864 with 2 Axes>"
      ]
     },
     "metadata": {
      "needs_background": "light"
     },
     "output_type": "display_data"
    }
   ],
   "source": [
    "train_evaluate_classifier(rf, X_train_scaled, y_train, X_test_scaled, y_test)"
   ]
  },
  {
   "cell_type": "code",
   "execution_count": 37,
   "id": "14249146",
   "metadata": {
    "execution": {
     "iopub.execute_input": "2022-11-04T09:52:55.272604Z",
     "iopub.status.busy": "2022-11-04T09:52:55.272346Z",
     "iopub.status.idle": "2022-11-04T09:52:58.158182Z",
     "shell.execute_reply": "2022-11-04T09:52:58.157165Z"
    }
   },
   "outputs": [
    {
     "name": "stdout",
     "output_type": "stream",
     "text": [
      "Accuracy : 0.38961038961038963\n"
     ]
    },
    {
     "data": {
      "image/png": "[encoded data removed]",
      "text/plain": [
       "<Figure size 1152x864 with 2 Axes>"
      ]
     },
     "metadata": {
      "needs_background": "light"
     },
     "output_type": "display_data"
    }
   ],
   "source": [
    "train_evaluate_classifier(xgbc, X_train_scaled, y_train, X_test_scaled, y_test)"
   ]
  },
  {
   "cell_type": "code",
   "execution_count": 38,
   "id": "8985b82e-7d89-4b69-b063-db05943458c1",
   "metadata": {
    "execution": {
     "iopub.execute_input": "2022-11-04T09:52:58.162714Z",
     "iopub.status.busy": "2022-11-04T09:52:58.162275Z",
     "iopub.status.idle": "2022-11-04T09:52:58.169533Z",
     "shell.execute_reply": "2022-11-04T09:52:58.168385Z"
    }
   },
   "outputs": [
    {
     "data": {
      "text/plain": [
       "{'GaussianNB': 0.19480519480519481,\n",
       " 'SVC': 0.2987012987012987,\n",
       " 'RandomForestClassifier': 0.37662337662337664,\n",
       " 'XGBClassifier': 0.38961038961038963}"
      ]
     },
     "execution_count": 38,
     "metadata": {},
     "output_type": "execute_result"
    }
   ],
   "source": [
    "dict_accuracy"
   ]
  },
  {
   "cell_type": "code",
   "execution_count": 39,
   "id": "79eebe0e-4254-4b02-8c33-bee3ddc75e15",
   "metadata": {
    "execution": {
     "iopub.execute_input": "2022-11-04T09:52:58.173493Z",
     "iopub.status.busy": "2022-11-04T09:52:58.173038Z",
     "iopub.status.idle": "2022-11-04T09:52:58.177503Z",
     "shell.execute_reply": "2022-11-04T09:52:58.176560Z"
    }
   },
   "outputs": [],
   "source": [
    "best_accuracy = max(dict_accuracy.values())"
   ]
  },
  {
   "cell_type": "code",
   "execution_count": 40,
   "id": "afaacc68-b887-48cc-9673-04c482f37169",
   "metadata": {
    "execution": {
     "iopub.execute_input": "2022-11-04T09:52:58.181373Z",
     "iopub.status.busy": "2022-11-04T09:52:58.180912Z",
     "iopub.status.idle": "2022-11-04T09:52:58.185037Z",
     "shell.execute_reply": "2022-11-04T09:52:58.184136Z"
    }
   },
   "outputs": [],
   "source": [
    "best_model = max(dict_accuracy, key = dict_accuracy.get)"
   ]
  },
  {
   "cell_type": "code",
   "execution_count": 41,
   "id": "65b42b90-5014-429a-a8f2-7477c7d91335",
   "metadata": {
    "execution": {
     "iopub.execute_input": "2022-11-04T09:52:58.188784Z",
     "iopub.status.busy": "2022-11-04T09:52:58.188529Z",
     "iopub.status.idle": "2022-11-04T09:52:58.196177Z",
     "shell.execute_reply": "2022-11-04T09:52:58.195416Z"
    }
   },
   "outputs": [
    {
     "data": {
      "text/plain": [
       "'XGBClassifier'"
      ]
     },
     "execution_count": 41,
     "metadata": {},
     "output_type": "execute_result"
    }
   ],
   "source": [
    "best_model"
   ]
  },
  {
   "cell_type": "markdown",
   "id": "b40309a3",
   "metadata": {},
   "source": [
    "Note that for model deployment (which is the eventual goal), we will also need to include any scaler or preprocessor objects. This is because the input to the inference service will be raw unscaled data. We plan to address this issue by using `sklearn.Pipeline` object to package the preprocessor(s) and model as one \"combined\" model. \n",
    "\n",
    "In the step below, we create a copy of the best performing model that is the Random Forest Classifier, so that we can save it to S3 later on and use it for model deployment.\n",
    "\n",
    "From your explorations, if you wish to save another better performing model to the pipeline set `best_model` as one of rf, xgbc, svc or gnb"
   ]
  },
  {
   "cell_type": "code",
   "execution_count": 42,
   "id": "987a23d4-2e8d-4d4d-8e5c-f3f4230f4b12",
   "metadata": {
    "execution": {
     "iopub.execute_input": "2022-11-04T09:52:58.200508Z",
     "iopub.status.busy": "2022-11-04T09:52:58.199846Z",
     "iopub.status.idle": "2022-11-04T09:52:58.205607Z",
     "shell.execute_reply": "2022-11-04T09:52:58.204436Z"
    }
   },
   "outputs": [],
   "source": [
    "models = {\"RandomForestClassifier\": rf, \"XGBClassifier\": xgbc, \"SVC\": svc, \"GaussianNB\": gnb}"
   ]
  },
  {
   "cell_type": "code",
   "execution_count": 43,
   "id": "647eb700",
   "metadata": {
    "execution": {
     "iopub.execute_input": "2022-11-04T09:52:58.209694Z",
     "iopub.status.busy": "2022-11-04T09:52:58.208875Z",
     "iopub.status.idle": "2022-11-04T09:52:58.247623Z",
     "shell.execute_reply": "2022-11-04T09:52:58.246674Z"
    }
   },
   "outputs": [],
   "source": [
    "# create a clone (create a copy of the object with the learned weights)\n",
    "selected_model = deepcopy(models[best_model])"
   ]
  },
  {
   "cell_type": "code",
   "execution_count": 44,
   "id": "2d739cb2",
   "metadata": {
    "execution": {
     "iopub.execute_input": "2022-11-04T09:52:58.252277Z",
     "iopub.status.busy": "2022-11-04T09:52:58.251967Z",
     "iopub.status.idle": "2022-11-04T09:52:58.266637Z",
     "shell.execute_reply": "2022-11-04T09:52:58.265657Z"
    }
   },
   "outputs": [
    {
     "name": "stdout",
     "output_type": "stream",
     "text": [
      "              precision    recall  f1-score   support\n",
      "\n",
      "           0       0.00      0.00      0.00         7\n",
      "           1       0.45      0.83      0.59         6\n",
      "           2       0.75      0.43      0.55         7\n",
      "           3       0.40      0.33      0.36        12\n",
      "           4       0.27      0.31      0.29        13\n",
      "           5       0.37      0.64      0.47        11\n",
      "           6       0.33      0.29      0.31         7\n",
      "           7       0.33      0.33      0.33         6\n",
      "           8       0.00      0.00      0.00         3\n",
      "           9       1.00      0.60      0.75         5\n",
      "\n",
      "    accuracy                           0.39        77\n",
      "   macro avg       0.39      0.38      0.36        77\n",
      "weighted avg       0.38      0.39      0.37        77\n",
      "\n"
     ]
    }
   ],
   "source": [
    "# sanity check\n",
    "print(classification_report(y_test, selected_model.predict(X_test_scaled)))"
   ]
  },
  {
   "cell_type": "markdown",
   "id": "7741b21e",
   "metadata": {},
   "source": [
    "## Create sklearn Pipeline"
   ]
  },
  {
   "cell_type": "markdown",
   "id": "20053832",
   "metadata": {},
   "source": [
    "Here, we will create an sklearn pipeline consisting of 2 steps, scaling of the input features and the classifier itself. We will then save this Pipeline as a `model.joblib` file on S3 for serving the model pipeline using the Seldon Sklearn Server."
   ]
  },
  {
   "cell_type": "code",
   "execution_count": 45,
   "id": "1c581342",
   "metadata": {
    "execution": {
     "iopub.execute_input": "2022-11-04T09:52:58.270647Z",
     "iopub.status.busy": "2022-11-04T09:52:58.270362Z",
     "iopub.status.idle": "2022-11-04T09:52:58.274524Z",
     "shell.execute_reply": "2022-11-04T09:52:58.273549Z"
    }
   },
   "outputs": [],
   "source": [
    "pipe = Pipeline(\n",
    "    steps=[\n",
    "        (\"extract_features\", raw_data_processor),\n",
    "        (\"scale\", scaler),\n",
    "        (\"rf\", selected_model),\n",
    "    ]\n",
    ")"
   ]
  },
  {
   "cell_type": "markdown",
   "id": "74e1bf4b",
   "metadata": {},
   "source": [
    "## Write Model to S3"
   ]
  },
  {
   "cell_type": "code",
   "execution_count": 46,
   "id": "8fb0ba41",
   "metadata": {
    "execution": {
     "iopub.execute_input": "2022-11-04T09:52:58.278705Z",
     "iopub.status.busy": "2022-11-04T09:52:58.278391Z",
     "iopub.status.idle": "2022-11-04T09:52:59.060347Z",
     "shell.execute_reply": "2022-11-04T09:52:59.059275Z"
    },
    "tags": []
   },
   "outputs": [],
   "source": [
    "MODEL_KEY = os.path.join(s3_input_data_path, ORG, REPO, \"ttm-model\")\n",
    "MODEL_FILENAME = \"model.joblib\"\n",
    "\n",
    "s3_resource = boto3.resource(\n",
    "    \"s3\",\n",
    "    endpoint_url=s3_endpoint_url,\n",
    "    aws_access_key_id=s3_access_key,\n",
    "    aws_secret_access_key=s3_secret_key,\n",
    ")\n",
    "\n",
    "with tempfile.TemporaryFile() as fp:\n",
    "    joblib.dump(pipe, fp)\n",
    "    fp.seek(0)\n",
    "    s3_obj = s3_resource.Object(s3_bucket, f\"{MODEL_KEY}/{MODEL_FILENAME}\")\n",
    "    s3_obj.put(Body=fp.read())"
   ]
  },
  {
   "cell_type": "code",
   "execution_count": 47,
   "id": "9392bb4d",
   "metadata": {
    "execution": {
     "iopub.execute_input": "2022-11-04T09:52:59.064699Z",
     "iopub.status.busy": "2022-11-04T09:52:59.064408Z",
     "iopub.status.idle": "2022-11-04T09:52:59.676513Z",
     "shell.execute_reply": "2022-11-04T09:52:59.675501Z"
    }
   },
   "outputs": [
    {
     "data": {
      "text/html": [
       "<style>#sk-container-id-1 {color: black;background-color: white;}#sk-container-id-1 pre{padding: 0;}#sk-container-id-1 div.sk-toggleable {background-color: white;}#sk-container-id-1 label.sk-toggleable__label {cursor: pointer;display: block;width: 100%;margin-bottom: 0;padding: 0.3em;box-sizing: border-box;text-align: center;}#sk-container-id-1 label.sk-toggleable__label-arrow:before {content: \"▸\";float: left;margin-right: 0.25em;color: #696969;}#sk-container-id-1 label.sk-toggleable__label-arrow:hover:before {color: black;}#sk-container-id-1 div.sk-estimator:hover label.sk-toggleable__label-arrow:before {color: black;}#sk-container-id-1 div.sk-toggleable__content {max-height: 0;max-width: 0;overflow: hidden;text-align: left;background-color: #f0f8ff;}#sk-container-id-1 div.sk-toggleable__content pre {margin: 0.2em;color: black;border-radius: 0.25em;background-color: #f0f8ff;}#sk-container-id-1 input.sk-toggleable__control:checked~div.sk-toggleable__content {max-height: 200px;max-width: 100%;overflow: auto;}#sk-container-id-1 input.sk-toggleable__control:checked~label.sk-toggleable__label-arrow:before {content: \"▾\";}#sk-container-id-1 div.sk-estimator input.sk-toggleable__control:checked~label.sk-toggleable__label {background-color: #d4ebff;}#sk-container-id-1 div.sk-label input.sk-toggleable__control:checked~label.sk-toggleable__label {background-color: #d4ebff;}#sk-container-id-1 input.sk-hidden--visually {border: 0;clip: rect(1px 1px 1px 1px);clip: rect(1px, 1px, 1px, 1px);height: 1px;margin: -1px;overflow: hidden;padding: 0;position: absolute;width: 1px;}#sk-container-id-1 div.sk-estimator {font-family: monospace;background-color: #f0f8ff;border: 1px dotted black;border-radius: 0.25em;box-sizing: border-box;margin-bottom: 0.5em;}#sk-container-id-1 div.sk-estimator:hover {background-color: #d4ebff;}#sk-container-id-1 div.sk-parallel-item::after {content: \"\";width: 100%;border-bottom: 1px solid gray;flex-grow: 1;}#sk-container-id-1 div.sk-label:hover label.sk-toggleable__label {background-color: #d4ebff;}#sk-container-id-1 div.sk-serial::before {content: \"\";position: absolute;border-left: 1px solid gray;box-sizing: border-box;top: 0;bottom: 0;left: 50%;z-index: 0;}#sk-container-id-1 div.sk-serial {display: flex;flex-direction: column;align-items: center;background-color: white;padding-right: 0.2em;padding-left: 0.2em;position: relative;}#sk-container-id-1 div.sk-item {position: relative;z-index: 1;}#sk-container-id-1 div.sk-parallel {display: flex;align-items: stretch;justify-content: center;background-color: white;position: relative;}#sk-container-id-1 div.sk-item::before, #sk-container-id-1 div.sk-parallel-item::before {content: \"\";position: absolute;border-left: 1px solid gray;box-sizing: border-box;top: 0;bottom: 0;left: 50%;z-index: -1;}#sk-container-id-1 div.sk-parallel-item {display: flex;flex-direction: column;z-index: 1;position: relative;background-color: white;}#sk-container-id-1 div.sk-parallel-item:first-child::after {align-self: flex-end;width: 50%;}#sk-container-id-1 div.sk-parallel-item:last-child::after {align-self: flex-start;width: 50%;}#sk-container-id-1 div.sk-parallel-item:only-child::after {width: 0;}#sk-container-id-1 div.sk-dashed-wrapped {border: 1px dashed gray;margin: 0 0.4em 0.5em 0.4em;box-sizing: border-box;padding-bottom: 0.4em;background-color: white;}#sk-container-id-1 div.sk-label label {font-family: monospace;font-weight: bold;display: inline-block;line-height: 1.2em;}#sk-container-id-1 div.sk-label-container {text-align: center;}#sk-container-id-1 div.sk-container {/* jupyter's `normalize.less` sets `[hidden] { display: none; }` but bootstrap.min.css set `[hidden] { display: none !important; }` so we also need the `!important` here to be able to override the default hidden behavior on the sphinx rendered scikit-learn.org. See: https://github.com/scikit-learn/scikit-learn/issues/21755 */display: inline-block !important;position: relative;}#sk-container-id-1 div.sk-text-repr-fallback {display: none;}</style><div id=\"sk-container-id-1\" class=\"sk-top-container\"><div class=\"sk-text-repr-fallback\"><pre>Pipeline(steps=[(&#x27;extract_features&#x27;,\n",
       "                 ColumnTransformer(transformers=[(&#x27;pr_size&#x27;,\n",
       "                                                  OrdinalEncoder(categories=[[&#x27;XS&#x27;,\n",
       "                                                                              &#x27;S&#x27;,\n",
       "                                                                              &#x27;M&#x27;,\n",
       "                                                                              &#x27;L&#x27;,\n",
       "                                                                              &#x27;XL&#x27;,\n",
       "                                                                              &#x27;XXL&#x27;]]),\n",
       "                                                  [&#x27;size&#x27;]),\n",
       "                                                 (&#x27;created_at_details&#x27;,\n",
       "                                                  DateTimeDetailsTransformer(),\n",
       "                                                  [&#x27;created_at&#x27;]),\n",
       "                                                 (&#x27;n_changed_files&#x27;,\n",
       "                                                  NumChangedFilesTransformer(),\n",
       "                                                  [&#x27;changed_files_number&#x27;]),\n",
       "                                                 (&#x27;body_size&#x27;,\n",
       "                                                  StringLenTransformer(),\n",
       "                                                  [&#x27;body&#x27;]),\n",
       "                                                 (&#x27;n_commits&#x27;, &#x27;p...\n",
       "                               gamma=0, gpu_id=-1, grow_policy=&#x27;depthwise&#x27;,\n",
       "                               importance_type=None, interaction_constraints=&#x27;&#x27;,\n",
       "                               learning_rate=0.1, max_bin=256,\n",
       "                               max_cat_to_onehot=4, max_delta_step=0,\n",
       "                               max_depth=6, max_leaves=0, min_child_weight=1,\n",
       "                               missing=nan, monotone_constraints=&#x27;()&#x27;,\n",
       "                               n_estimators=125, n_jobs=-1, num_parallel_tree=1,\n",
       "                               objective=&#x27;multi:softprob&#x27;, predictor=&#x27;auto&#x27;,\n",
       "                               random_state=42, reg_alpha=0, ...))])</pre><b>In a Jupyter environment, please rerun this cell to show the HTML representation or trust the notebook. <br />On GitHub, the HTML representation is unable to render, please try loading this page with nbviewer.org.</b></div><div class=\"sk-container\" hidden><div class=\"sk-item sk-dashed-wrapped\"><div class=\"sk-label-container\"><div class=\"sk-label sk-toggleable\"><input class=\"sk-toggleable__control sk-hidden--visually\" id=\"sk-estimator-id-1\" type=\"checkbox\" ><label for=\"sk-estimator-id-1\" class=\"sk-toggleable__label sk-toggleable__label-arrow\">Pipeline</label><div class=\"sk-toggleable__content\"><pre>Pipeline(steps=[(&#x27;extract_features&#x27;,\n",
       "                 ColumnTransformer(transformers=[(&#x27;pr_size&#x27;,\n",
       "                                                  OrdinalEncoder(categories=[[&#x27;XS&#x27;,\n",
       "                                                                              &#x27;S&#x27;,\n",
       "                                                                              &#x27;M&#x27;,\n",
       "                                                                              &#x27;L&#x27;,\n",
       "                                                                              &#x27;XL&#x27;,\n",
       "                                                                              &#x27;XXL&#x27;]]),\n",
       "                                                  [&#x27;size&#x27;]),\n",
       "                                                 (&#x27;created_at_details&#x27;,\n",
       "                                                  DateTimeDetailsTransformer(),\n",
       "                                                  [&#x27;created_at&#x27;]),\n",
       "                                                 (&#x27;n_changed_files&#x27;,\n",
       "                                                  NumChangedFilesTransformer(),\n",
       "                                                  [&#x27;changed_files_number&#x27;]),\n",
       "                                                 (&#x27;body_size&#x27;,\n",
       "                                                  StringLenTransformer(),\n",
       "                                                  [&#x27;body&#x27;]),\n",
       "                                                 (&#x27;n_commits&#x27;, &#x27;p...\n",
       "                               gamma=0, gpu_id=-1, grow_policy=&#x27;depthwise&#x27;,\n",
       "                               importance_type=None, interaction_constraints=&#x27;&#x27;,\n",
       "                               learning_rate=0.1, max_bin=256,\n",
       "                               max_cat_to_onehot=4, max_delta_step=0,\n",
       "                               max_depth=6, max_leaves=0, min_child_weight=1,\n",
       "                               missing=nan, monotone_constraints=&#x27;()&#x27;,\n",
       "                               n_estimators=125, n_jobs=-1, num_parallel_tree=1,\n",
       "                               objective=&#x27;multi:softprob&#x27;, predictor=&#x27;auto&#x27;,\n",
       "                               random_state=42, reg_alpha=0, ...))])</pre></div></div></div><div class=\"sk-serial\"><div class=\"sk-item sk-dashed-wrapped\"><div class=\"sk-label-container\"><div class=\"sk-label sk-toggleable\"><input class=\"sk-toggleable__control sk-hidden--visually\" id=\"sk-estimator-id-2\" type=\"checkbox\" ><label for=\"sk-estimator-id-2\" class=\"sk-toggleable__label sk-toggleable__label-arrow\">extract_features: ColumnTransformer</label><div class=\"sk-toggleable__content\"><pre>ColumnTransformer(transformers=[(&#x27;pr_size&#x27;,\n",
       "                                 OrdinalEncoder(categories=[[&#x27;XS&#x27;, &#x27;S&#x27;, &#x27;M&#x27;,\n",
       "                                                             &#x27;L&#x27;, &#x27;XL&#x27;,\n",
       "                                                             &#x27;XXL&#x27;]]),\n",
       "                                 [&#x27;size&#x27;]),\n",
       "                                (&#x27;created_at_details&#x27;,\n",
       "                                 DateTimeDetailsTransformer(), [&#x27;created_at&#x27;]),\n",
       "                                (&#x27;n_changed_files&#x27;,\n",
       "                                 NumChangedFilesTransformer(),\n",
       "                                 [&#x27;changed_files_number&#x27;]),\n",
       "                                (&#x27;body_size&#x27;, StringLenTransformer(), [&#x27;body&#x27;]),\n",
       "                                (&#x27;n_commits&#x27;, &#x27;passthrough&#x27;,\n",
       "                                 [&#x27;commits_number&#x27;]),\n",
       "                                (&#x27;fi...\n",
       "                                 [&#x27;changed_files&#x27;]),\n",
       "                                (&#x27;title_word_counter&#x27;,\n",
       "                                 TitleWordCountTransformer(words=[&#x27;0rc1&#x27;,\n",
       "                                                                  &#x27;0rc2&#x27;,\n",
       "                                                                  &#x27;0rc3&#x27;, &#x27;add&#x27;,\n",
       "                                                                  &#x27;added&#x27;,\n",
       "                                                                  &#x27;advise&#x27;,\n",
       "                                                                  &#x27;aggregation&#x27;,\n",
       "                                                                  &#x27;allow&#x27;,\n",
       "                                                                  &#x27;analysis&#x27;,\n",
       "                                                                  &#x27;api&#x27;,\n",
       "                                                                  &#x27;approvers&#x27;,\n",
       "                                                                  &#x27;argo&#x27;,\n",
       "                                                                  &#x27;assignees&#x27;,\n",
       "                                                                  &#x27;atomic&#x27;,\n",
       "                                                                  &#x27;atpi&#x27;,\n",
       "                                                                  &#x27;author&#x27;,\n",
       "                                                                  &#x27;automatic&#x27;,\n",
       "                                                                  &#x27;autopep8&#x27;,\n",
       "                                                                  &#x27;baseentity&#x27;,\n",
       "                                                                  &#x27;basic&#x27;,\n",
       "                                                                  &#x27;bleach&#x27;,\n",
       "                                                                  &#x27;bug&#x27;,\n",
       "                                                                  &#x27;building&#x27;,\n",
       "                                                                  &#x27;bump&#x27;,\n",
       "                                                                  &#x27;ceph&#x27;,\n",
       "                                                                  &#x27;change&#x27;,\n",
       "                                                                  &#x27;check&#x27;,\n",
       "                                                                  &#x27;christoph&#x27;,\n",
       "                                                                  &#x27;class&#x27;,\n",
       "                                                                  &#x27;clear&#x27;, ...]),\n",
       "                                 [&#x27;title&#x27;])])</pre></div></div></div><div class=\"sk-parallel\"><div class=\"sk-parallel-item\"><div class=\"sk-item\"><div class=\"sk-label-container\"><div class=\"sk-label sk-toggleable\"><input class=\"sk-toggleable__control sk-hidden--visually\" id=\"sk-estimator-id-3\" type=\"checkbox\" ><label for=\"sk-estimator-id-3\" class=\"sk-toggleable__label sk-toggleable__label-arrow\">pr_size</label><div class=\"sk-toggleable__content\"><pre>[&#x27;size&#x27;]</pre></div></div></div><div class=\"sk-serial\"><div class=\"sk-item\"><div class=\"sk-estimator sk-toggleable\"><input class=\"sk-toggleable__control sk-hidden--visually\" id=\"sk-estimator-id-4\" type=\"checkbox\" ><label for=\"sk-estimator-id-4\" class=\"sk-toggleable__label sk-toggleable__label-arrow\">OrdinalEncoder</label><div class=\"sk-toggleable__content\"><pre>OrdinalEncoder(categories=[[&#x27;XS&#x27;, &#x27;S&#x27;, &#x27;M&#x27;, &#x27;L&#x27;, &#x27;XL&#x27;, &#x27;XXL&#x27;]])</pre></div></div></div></div></div></div><div class=\"sk-parallel-item\"><div class=\"sk-item\"><div class=\"sk-label-container\"><div class=\"sk-label sk-toggleable\"><input class=\"sk-toggleable__control sk-hidden--visually\" id=\"sk-estimator-id-5\" type=\"checkbox\" ><label for=\"sk-estimator-id-5\" class=\"sk-toggleable__label sk-toggleable__label-arrow\">created_at_details</label><div class=\"sk-toggleable__content\"><pre>[&#x27;created_at&#x27;]</pre></div></div></div><div class=\"sk-serial\"><div class=\"sk-item\"><div class=\"sk-estimator sk-toggleable\"><input class=\"sk-toggleable__control sk-hidden--visually\" id=\"sk-estimator-id-6\" type=\"checkbox\" ><label for=\"sk-estimator-id-6\" class=\"sk-toggleable__label sk-toggleable__label-arrow\">DateTimeDetailsTransformer</label><div class=\"sk-toggleable__content\"><pre>DateTimeDetailsTransformer()</pre></div></div></div></div></div></div><div class=\"sk-parallel-item\"><div class=\"sk-item\"><div class=\"sk-label-container\"><div class=\"sk-label sk-toggleable\"><input class=\"sk-toggleable__control sk-hidden--visually\" id=\"sk-estimator-id-7\" type=\"checkbox\" ><label for=\"sk-estimator-id-7\" class=\"sk-toggleable__label sk-toggleable__label-arrow\">n_changed_files</label><div class=\"sk-toggleable__content\"><pre>[&#x27;changed_files_number&#x27;]</pre></div></div></div><div class=\"sk-serial\"><div class=\"sk-item\"><div class=\"sk-estimator sk-toggleable\"><input class=\"sk-toggleable__control sk-hidden--visually\" id=\"sk-estimator-id-8\" type=\"checkbox\" ><label for=\"sk-estimator-id-8\" class=\"sk-toggleable__label sk-toggleable__label-arrow\">NumChangedFilesTransformer</label><div class=\"sk-toggleable__content\"><pre>NumChangedFilesTransformer()</pre></div></div></div></div></div></div><div class=\"sk-parallel-item\"><div class=\"sk-item\"><div class=\"sk-label-container\"><div class=\"sk-label sk-toggleable\"><input class=\"sk-toggleable__control sk-hidden--visually\" id=\"sk-estimator-id-9\" type=\"checkbox\" ><label for=\"sk-estimator-id-9\" class=\"sk-toggleable__label sk-toggleable__label-arrow\">body_size</label><div class=\"sk-toggleable__content\"><pre>[&#x27;body&#x27;]</pre></div></div></div><div class=\"sk-serial\"><div class=\"sk-item\"><div class=\"sk-estimator sk-toggleable\"><input class=\"sk-toggleable__control sk-hidden--visually\" id=\"sk-estimator-id-10\" type=\"checkbox\" ><label for=\"sk-estimator-id-10\" class=\"sk-toggleable__label sk-toggleable__label-arrow\">StringLenTransformer</label><div class=\"sk-toggleable__content\"><pre>StringLenTransformer()</pre></div></div></div></div></div></div><div class=\"sk-parallel-item\"><div class=\"sk-item\"><div class=\"sk-label-container\"><div class=\"sk-label sk-toggleable\"><input class=\"sk-toggleable__control sk-hidden--visually\" id=\"sk-estimator-id-11\" type=\"checkbox\" ><label for=\"sk-estimator-id-11\" class=\"sk-toggleable__label sk-toggleable__label-arrow\">n_commits</label><div class=\"sk-toggleable__content\"><pre>[&#x27;commits_number&#x27;]</pre></div></div></div><div class=\"sk-serial\"><div class=\"sk-item\"><div class=\"sk-estimator sk-toggleable\"><input class=\"sk-toggleable__control sk-hidden--visually\" id=\"sk-estimator-id-12\" type=\"checkbox\" ><label for=\"sk-estimator-id-12\" class=\"sk-toggleable__label sk-toggleable__label-arrow\">passthrough</label><div class=\"sk-toggleable__content\"><pre>passthrough</pre></div></div></div></div></div></div><div class=\"sk-parallel-item\"><div class=\"sk-item\"><div class=\"sk-label-container\"><div class=\"sk-label sk-toggleable\"><input class=\"sk-toggleable__control sk-hidden--visually\" id=\"sk-estimator-id-13\" type=\"checkbox\" ><label for=\"sk-estimator-id-13\" class=\"sk-toggleable__label sk-toggleable__label-arrow\">filetype_counter</label><div class=\"sk-toggleable__content\"><pre>[&#x27;changed_files&#x27;]</pre></div></div></div><div class=\"sk-serial\"><div class=\"sk-item\"><div class=\"sk-estimator sk-toggleable\"><input class=\"sk-toggleable__control sk-hidden--visually\" id=\"sk-estimator-id-14\" type=\"checkbox\" ><label for=\"sk-estimator-id-14\" class=\"sk-toggleable__label sk-toggleable__label-arrow\">FileTypeCountTransformer</label><div class=\"sk-toggleable__content\"><pre>FileTypeCountTransformer(file_extensions=[&#x27;.py&#x27;, &#x27;.lock&#x27;, &#x27;.yaml&#x27;, &#x27;Pipfile&#x27;,\n",
       "                                          &#x27;.rst&#x27;, &#x27;OWNERS&#x27;, &#x27;.toml&#x27;,\n",
       "                                          &#x27;CODEOWNERS&#x27;, &#x27;None&#x27;, &#x27;.png&#x27;, &#x27;.txt&#x27;,\n",
       "                                          &#x27;mi-scheduler&#x27;])</pre></div></div></div></div></div></div><div class=\"sk-parallel-item\"><div class=\"sk-item\"><div class=\"sk-label-container\"><div class=\"sk-label sk-toggleable\"><input class=\"sk-toggleable__control sk-hidden--visually\" id=\"sk-estimator-id-15\" type=\"checkbox\" ><label for=\"sk-estimator-id-15\" class=\"sk-toggleable__label sk-toggleable__label-arrow\">title_word_counter</label><div class=\"sk-toggleable__content\"><pre>[&#x27;title&#x27;]</pre></div></div></div><div class=\"sk-serial\"><div class=\"sk-item\"><div class=\"sk-estimator sk-toggleable\"><input class=\"sk-toggleable__control sk-hidden--visually\" id=\"sk-estimator-id-16\" type=\"checkbox\" ><label for=\"sk-estimator-id-16\" class=\"sk-toggleable__label sk-toggleable__label-arrow\">TitleWordCountTransformer</label><div class=\"sk-toggleable__content\"><pre>TitleWordCountTransformer(words=[&#x27;0rc1&#x27;, &#x27;0rc2&#x27;, &#x27;0rc3&#x27;, &#x27;add&#x27;, &#x27;added&#x27;,\n",
       "                                 &#x27;advise&#x27;, &#x27;aggregation&#x27;, &#x27;allow&#x27;, &#x27;analysis&#x27;,\n",
       "                                 &#x27;api&#x27;, &#x27;approvers&#x27;, &#x27;argo&#x27;, &#x27;assignees&#x27;,\n",
       "                                 &#x27;atomic&#x27;, &#x27;atpi&#x27;, &#x27;author&#x27;, &#x27;automatic&#x27;,\n",
       "                                 &#x27;autopep8&#x27;, &#x27;baseentity&#x27;, &#x27;basic&#x27;, &#x27;bleach&#x27;,\n",
       "                                 &#x27;bug&#x27;, &#x27;building&#x27;, &#x27;bump&#x27;, &#x27;ceph&#x27;, &#x27;change&#x27;,\n",
       "                                 &#x27;check&#x27;, &#x27;christoph&#x27;, &#x27;class&#x27;, &#x27;clear&#x27;, ...])</pre></div></div></div></div></div></div></div></div><div class=\"sk-item\"><div class=\"sk-estimator sk-toggleable\"><input class=\"sk-toggleable__control sk-hidden--visually\" id=\"sk-estimator-id-17\" type=\"checkbox\" ><label for=\"sk-estimator-id-17\" class=\"sk-toggleable__label sk-toggleable__label-arrow\">PowerTransformer</label><div class=\"sk-toggleable__content\"><pre>PowerTransformer()</pre></div></div></div><div class=\"sk-item\"><div class=\"sk-estimator sk-toggleable\"><input class=\"sk-toggleable__control sk-hidden--visually\" id=\"sk-estimator-id-18\" type=\"checkbox\" ><label for=\"sk-estimator-id-18\" class=\"sk-toggleable__label sk-toggleable__label-arrow\">XGBClassifier</label><div class=\"sk-toggleable__content\"><pre>XGBClassifier(base_score=0.5, booster=&#x27;gbtree&#x27;, callbacks=None,\n",
       "              colsample_bylevel=1, colsample_bynode=1, colsample_bytree=1,\n",
       "              early_stopping_rounds=None, enable_categorical=False,\n",
       "              eval_metric=None, gamma=0, gpu_id=-1, grow_policy=&#x27;depthwise&#x27;,\n",
       "              importance_type=None, interaction_constraints=&#x27;&#x27;,\n",
       "              learning_rate=0.1, max_bin=256, max_cat_to_onehot=4,\n",
       "              max_delta_step=0, max_depth=6, max_leaves=0, min_child_weight=1,\n",
       "              missing=nan, monotone_constraints=&#x27;()&#x27;, n_estimators=125,\n",
       "              n_jobs=-1, num_parallel_tree=1, objective=&#x27;multi:softprob&#x27;,\n",
       "              predictor=&#x27;auto&#x27;, random_state=42, reg_alpha=0, ...)</pre></div></div></div></div></div></div></div>"
      ],
      "text/plain": [
       "Pipeline(steps=[('extract_features',\n",
       "                 ColumnTransformer(transformers=[('pr_size',\n",
       "                                                  OrdinalEncoder(categories=[['XS',\n",
       "                                                                              'S',\n",
       "                                                                              'M',\n",
       "                                                                              'L',\n",
       "                                                                              'XL',\n",
       "                                                                              'XXL']]),\n",
       "                                                  ['size']),\n",
       "                                                 ('created_at_details',\n",
       "                                                  DateTimeDetailsTransformer(),\n",
       "                                                  ['created_at']),\n",
       "                                                 ('n_changed_files',\n",
       "                                                  NumChangedFilesTransformer(),\n",
       "                                                  ['changed_files_number']),\n",
       "                                                 ('body_size',\n",
       "                                                  StringLenTransformer(),\n",
       "                                                  ['body']),\n",
       "                                                 ('n_commits', 'p...\n",
       "                               gamma=0, gpu_id=-1, grow_policy='depthwise',\n",
       "                               importance_type=None, interaction_constraints='',\n",
       "                               learning_rate=0.1, max_bin=256,\n",
       "                               max_cat_to_onehot=4, max_delta_step=0,\n",
       "                               max_depth=6, max_leaves=0, min_child_weight=1,\n",
       "                               missing=nan, monotone_constraints='()',\n",
       "                               n_estimators=125, n_jobs=-1, num_parallel_tree=1,\n",
       "                               objective='multi:softprob', predictor='auto',\n",
       "                               random_state=42, reg_alpha=0, ...))])"
      ]
     },
     "execution_count": 47,
     "metadata": {},
     "output_type": "execute_result"
    }
   ],
   "source": [
    "## Sanity Check\n",
    "buffer = BytesIO()\n",
    "s3_object = s3_resource.Object(s3_bucket, f\"{MODEL_KEY}/{MODEL_FILENAME}\")\n",
    "s3_object.download_fileobj(buffer)\n",
    "model = joblib.load(buffer)\n",
    "model"
   ]
  },
  {
   "cell_type": "code",
   "execution_count": 48,
   "id": "36484009",
   "metadata": {
    "execution": {
     "iopub.execute_input": "2022-11-04T09:52:59.680298Z",
     "iopub.status.busy": "2022-11-04T09:52:59.680008Z",
     "iopub.status.idle": "2022-11-04T09:53:00.698812Z",
     "shell.execute_reply": "2022-11-04T09:53:00.697722Z"
    }
   },
   "outputs": [
    {
     "name": "stdout",
     "output_type": "stream",
     "text": [
      "              precision    recall  f1-score   support\n",
      "\n",
      "           0       0.00      0.00      0.00         7\n",
      "           1       0.45      0.83      0.59         6\n",
      "           2       0.75      0.43      0.55         7\n",
      "           3       0.40      0.33      0.36        12\n",
      "           4       0.27      0.31      0.29        13\n",
      "           5       0.37      0.64      0.47        11\n",
      "           6       0.33      0.29      0.31         7\n",
      "           7       0.33      0.33      0.33         6\n",
      "           8       0.00      0.00      0.00         3\n",
      "           9       1.00      0.60      0.75         5\n",
      "\n",
      "    accuracy                           0.39        77\n",
      "   macro avg       0.39      0.38      0.36        77\n",
      "weighted avg       0.38      0.39      0.37        77\n",
      "\n"
     ]
    }
   ],
   "source": [
    "# take raw pr data and predict ttm classes\n",
    "preds = model.predict(pr_df.reindex(X_test.index))\n",
    "print(classification_report(y_test, preds))"
   ]
  },
  {
   "cell_type": "code",
   "execution_count": 49,
   "id": "42cf7c8e-07d8-44df-b4a0-ddcc8982ea37",
   "metadata": {
    "execution": {
     "iopub.execute_input": "2022-11-04T09:53:00.702807Z",
     "iopub.status.busy": "2022-11-04T09:53:00.702502Z",
     "iopub.status.idle": "2022-11-04T09:53:13.492840Z",
     "shell.execute_reply": "2022-11-04T09:53:13.491852Z"
    }
   },
   "outputs": [
    {
     "data": {
      "text/plain": [
       "[s3.ObjectSummary(bucket_name='opf-datacatalog', key='nov4/srcopsmetrics/bot_knowledge/thoth-station/mi/PullRequest.json'),\n",
       " s3.ObjectSummary(bucket_name='opf-datacatalog', key='nov4/thoth-station/mi/features/thoth-stationmiFILETYPE.parquet'),\n",
       " s3.ObjectSummary(bucket_name='opf-datacatalog', key='nov4/thoth-station/mi/features/thoth-stationmititlewords.parquet'),\n",
       " s3.ObjectSummary(bucket_name='opf-datacatalog', key='nov4/thoth-station/mi/test-data/X_test.parquet'),\n",
       " s3.ObjectSummary(bucket_name='opf-datacatalog', key='nov4/thoth-station/mi/test-data/y_test.parquet'),\n",
       " s3.ObjectSummary(bucket_name='opf-datacatalog', key='nov4/thoth-station/mi/ttm-model/model.joblib'),\n",
       " s3.ObjectSummary(bucket_name='opf-datacatalog', key='nov4/thoth-station/mi/ttm_feature_engineered_dataset.parquet')]"
      ]
     },
     "execution_count": 49,
     "metadata": {},
     "output_type": "execute_result"
    }
   ],
   "source": [
    "# check all raw data files in s3\n",
    "bucket = cc.s3_resource.Bucket(s3_bucket)\n",
    "objects = [i for i in bucket.objects.all() if s3_input_data_path + \"/\" in i.key]\n",
    "sorted(objects, key=lambda x: x.key)"
   ]
  },
  {
   "cell_type": "markdown",
   "id": "ef78426f",
   "metadata": {},
   "source": [
    "## Conclusion\n",
    "\n",
    "In this notebook, we explored various classifiers, namely, Naive Bayes, SVM, Random Forests, and XGBoost. "
   ]
  },
  {
   "cell_type": "markdown",
   "id": "933cd0ed-99c2-4453-a94b-02eace47bd20",
   "metadata": {},
   "source": [
    "## Next Step\n",
    "\n",
    "We can run these notebooks in automation using Elyra and Kubeflow pipelines. As the immediate next step, we will to deploy the best model from this notebook as an inference service using Seldon."
   ]
  }
 ],
 "metadata": {
  "kernelspec": {
   "display_name": "Python 3",
   "language": "python",
   "name": "python3"
  },
  "language_info": {
   "codemirror_mode": {
    "name": "ipython",
    "version": 3
   },
   "file_extension": ".py",
   "mimetype": "text/x-python",
   "name": "python",
   "nbconvert_exporter": "python",
   "pygments_lexer": "ipython3",
   "version": "3.8.8"
  }
 },
 "nbformat": 4,
 "nbformat_minor": 5
}
